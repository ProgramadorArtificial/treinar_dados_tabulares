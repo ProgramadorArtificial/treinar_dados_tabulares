{
 "cells": [
  {
   "cell_type": "markdown",
   "id": "bbab0916-5eca-48ac-ab1f-24cf9e0a26e1",
   "metadata": {},
   "source": [
    "# Pytorch Tabular\n",
    "Notebook pensando para facilitar e agiliar o treinamento de Deep Learning, sendo necessário, em grande parte das vezes, somente alterar o caminho do dataset e o tipo (classificador ou regressão). Assim como, quais arquiteturas serão utilizado para buscar os melhores hiperparâmetros."
   ]
  },
  {
   "cell_type": "code",
   "execution_count": 1,
   "id": "dab7ad7e-a0eb-440c-8de0-0b7339e55a49",
   "metadata": {},
   "outputs": [],
   "source": [
    "import warnings\n",
    "warnings.filterwarnings('ignore')\n",
    "\n",
    "import time\n",
    "import math\n",
    "import json\n",
    "\n",
    "import numpy as np\n",
    "import pandas as pd\n",
    "from sklearn.preprocessing import LabelEncoder\n",
    "\n",
    "# Pytorch Tabular\n",
    "from pytorch_tabular.config import (\n",
    "    DataConfig,\n",
    "    OptimizerConfig,\n",
    "    TrainerConfig,\n",
    ")"
   ]
  },
  {
   "cell_type": "markdown",
   "id": "ab280318-1eb7-470e-80d2-d62cffda931a",
   "metadata": {},
   "source": [
    "## Preparar Dataset"
   ]
  },
  {
   "cell_type": "code",
   "execution_count": 2,
   "id": "faa6c036-d86a-473a-8df0-b160a6ad90ba",
   "metadata": {},
   "outputs": [],
   "source": [
    "def preprocess_data(df, target_cols, max_unique_values=10, window_size=1):\n",
    "    \"\"\"\n",
    "    Preprocess dataset, converting string columns to number and identifying numeric, categorical, and date columns.\n",
    "    Adds a window of historical rows to the data.\n",
    "\n",
    "    Args:\n",
    "        df (DataFrame): DataFrame with data to analyze.\n",
    "        target_cols (list): All target columns to not add in numeric, categorical, or date feature lists.\n",
    "        max_unique_values (int): Maximum number of unique values to consider a numeric column as categorical.\n",
    "        window_size (int): Number of previous rows to include for each row.\n",
    "\n",
    "    Returns:\n",
    "        df_copy (DataFrame): Processed DataFrame with transformations applied.\n",
    "        num_col_names (list): List of numeric feature column names.\n",
    "        cat_col_names (list): List of categorical feature column names.\n",
    "        date_col_names (list): List of date feature column names.\n",
    "        mappings (dict): Mapping of original categorical values (or target columns) to transformed numeric values.\n",
    "    \"\"\"\n",
    "    # Create a copy so as not to alter the original DataFrame\n",
    "    df_copy = df.copy()\n",
    "\n",
    "    # Remove lines with null values\n",
    "    df_copy = df_copy.dropna()\n",
    "    \n",
    "    # Identify categorical and numeric columns\n",
    "    cat_col_names = df_copy.select_dtypes(include=['object', 'category']).columns.tolist()\n",
    "    num_col_names = df_copy.select_dtypes(include=['number']).columns.tolist()\n",
    "    date_col_names = []\n",
    "\n",
    "    # Identify columns that are dates\n",
    "    for col in df.columns:\n",
    "        if df[col].dtype in ['object', 'string']:  # Only check object/string columns\n",
    "            try:\n",
    "                # Attempt to convert the column to datetime\n",
    "                pd.to_datetime(df[col], errors='raise')\n",
    "                if col not in target_cols:  # Avoid considering target columns as date columns\n",
    "                    date_col_names.append(col)\n",
    "            except (ValueError, TypeError):\n",
    "                pass\n",
    "\n",
    "    # Identify numeric columns that are categorical\n",
    "    potential_categorical = []\n",
    "    for col in num_col_names:\n",
    "        if col not in target_cols and df_copy[col].nunique() <= max_unique_values:\n",
    "            potential_categorical.append(col)\n",
    "\n",
    "    cat_col_names += potential_categorical\n",
    "\n",
    "    # Remove target columns from the lists\n",
    "    num_col_names = [col for col in num_col_names if col not in potential_categorical + target_cols]\n",
    "    cat_col_names = [col for col in cat_col_names if col not in target_cols]\n",
    "    \n",
    "    mappings = {}\n",
    "    label_encoders = {}\n",
    "\n",
    "    # Convert string columns to category and create a mapping (old value -> new value)\n",
    "    for col in cat_col_names + target_cols:\n",
    "        if df_copy[col].dtype not in ['int64', 'float64']:\n",
    "            le = LabelEncoder()\n",
    "            df_copy[col] = le.fit_transform(df_copy[col])\n",
    "            mappings[col] = dict(zip(le.classes_, le.transform(le.classes_)))\n",
    "            label_encoders[col] = le\n",
    "            # Convert values to int (otherwise will raise error if save as json)\n",
    "            for key, value in mappings[col].items():\n",
    "                mappings[col][key] = int(value)\n",
    "        #else:\n",
    "        #    mappings[col] = {int(val): int(val) for val in df_copy[col].unique()}\n",
    "\n",
    "    # Add historical data based on window_size\n",
    "    if window_size > 1:\n",
    "        historical_features = []\n",
    "        for i in range(window_size - 1, 0, -1):  # Criar features lag, do mais antigo ao mais recente\n",
    "            shifted = df_copy.drop(columns=target_cols, errors='ignore').shift(i).add_suffix(f'_lag_{i}')\n",
    "            historical_features.append(shifted)\n",
    "        \n",
    "        # Concatenate the lags to the left and keep the current values\n",
    "        df_copy = pd.concat(historical_features + [df_copy], axis=1)\n",
    "    \n",
    "        # Remove NaNs columns created by shifts\n",
    "        df_copy = df_copy.dropna()\n",
    "    \n",
    "        # Add lags\n",
    "        num_col_lags = [f'{col}_lag_{i}' for i in range(window_size - 1, 0, -1) for col in num_col_names]\n",
    "        cat_col_lags = [f'{col}_lag_{i}' for i in range(window_size - 1, 0, -1) for col in cat_col_names]\n",
    "        date_col_lags = [f'{col}_lag_{i}' for i in range(window_size - 1, 0, -1) for col in date_col_names]\n",
    "        mappings_lags = {}\n",
    "        for col, value in mappings.items():\n",
    "            for i in range(window_size - 1, 0, -1):\n",
    "                mappings_lags[f'{col}_lag_{i}'] = value\n",
    "    \n",
    "        # Update main columns + lags columns\n",
    "        num_col_names = num_col_lags + num_col_names\n",
    "        cat_col_names = cat_col_lags + cat_col_names\n",
    "        date_col_names = date_col_lags + date_col_names\n",
    "        mappings = {**mappings_lags, **mappings}\n",
    "    \n",
    "    return df_copy, num_col_names, cat_col_names, date_col_names, mappings"
   ]
  },
  {
   "cell_type": "code",
   "execution_count": 3,
   "id": "185745e3-eb7c-4ea9-8c1a-b5aa6fa71b8e",
   "metadata": {},
   "outputs": [
    {
     "data": {
      "text/html": [
       "<div>\n",
       "<style scoped>\n",
       "    .dataframe tbody tr th:only-of-type {\n",
       "        vertical-align: middle;\n",
       "    }\n",
       "\n",
       "    .dataframe tbody tr th {\n",
       "        vertical-align: top;\n",
       "    }\n",
       "\n",
       "    .dataframe thead th {\n",
       "        text-align: right;\n",
       "    }\n",
       "</style>\n",
       "<table border=\"1\" class=\"dataframe\">\n",
       "  <thead>\n",
       "    <tr style=\"text-align: right;\">\n",
       "      <th></th>\n",
       "      <th>feature_1</th>\n",
       "      <th>feature_2</th>\n",
       "      <th>feature_3</th>\n",
       "      <th>feature_4</th>\n",
       "      <th>feature_5</th>\n",
       "      <th>feature_6</th>\n",
       "      <th>feature_7</th>\n",
       "      <th>feature_8</th>\n",
       "      <th>target</th>\n",
       "    </tr>\n",
       "  </thead>\n",
       "  <tbody>\n",
       "    <tr>\n",
       "      <th>0</th>\n",
       "      <td>16.647436</td>\n",
       "      <td>E</td>\n",
       "      <td>183.980936</td>\n",
       "      <td>24.617366</td>\n",
       "      <td>5.717618</td>\n",
       "      <td>-0.631023</td>\n",
       "      <td>1.20</td>\n",
       "      <td>0.866846</td>\n",
       "      <td>0.084420</td>\n",
       "    </tr>\n",
       "    <tr>\n",
       "      <th>1</th>\n",
       "      <td>10.604436</td>\n",
       "      <td>A</td>\n",
       "      <td>85.459194</td>\n",
       "      <td>307.449148</td>\n",
       "      <td>6.655153</td>\n",
       "      <td>0.767629</td>\n",
       "      <td>1.10</td>\n",
       "      <td>0.977042</td>\n",
       "      <td>3.017718</td>\n",
       "    </tr>\n",
       "    <tr>\n",
       "      <th>2</th>\n",
       "      <td>77.388714</td>\n",
       "      <td>E</td>\n",
       "      <td>40.558116</td>\n",
       "      <td>155.780617</td>\n",
       "      <td>6.921389</td>\n",
       "      <td>0.015533</td>\n",
       "      <td>1.20</td>\n",
       "      <td>0.803368</td>\n",
       "      <td>0.227664</td>\n",
       "    </tr>\n",
       "    <tr>\n",
       "      <th>3</th>\n",
       "      <td>90.406079</td>\n",
       "      <td>A</td>\n",
       "      <td>15.880388</td>\n",
       "      <td>33.010214</td>\n",
       "      <td>6.250944</td>\n",
       "      <td>-1.473239</td>\n",
       "      <td>1.10</td>\n",
       "      <td>0.964277</td>\n",
       "      <td>3.053986</td>\n",
       "    </tr>\n",
       "    <tr>\n",
       "      <th>4</th>\n",
       "      <td>87.356717</td>\n",
       "      <td>E</td>\n",
       "      <td>170.070489</td>\n",
       "      <td>178.530697</td>\n",
       "      <td>6.204453</td>\n",
       "      <td>1.044204</td>\n",
       "      <td>1.20</td>\n",
       "      <td>0.052600</td>\n",
       "      <td>3.184864</td>\n",
       "    </tr>\n",
       "    <tr>\n",
       "      <th>...</th>\n",
       "      <td>...</td>\n",
       "      <td>...</td>\n",
       "      <td>...</td>\n",
       "      <td>...</td>\n",
       "      <td>...</td>\n",
       "      <td>...</td>\n",
       "      <td>...</td>\n",
       "      <td>...</td>\n",
       "      <td>...</td>\n",
       "    </tr>\n",
       "    <tr>\n",
       "      <th>1995</th>\n",
       "      <td>52.551128</td>\n",
       "      <td>B</td>\n",
       "      <td>12.801325</td>\n",
       "      <td>246.448995</td>\n",
       "      <td>5.907150</td>\n",
       "      <td>0.017774</td>\n",
       "      <td>0.90</td>\n",
       "      <td>0.771878</td>\n",
       "      <td>-1.185614</td>\n",
       "    </tr>\n",
       "    <tr>\n",
       "      <th>1996</th>\n",
       "      <td>59.145417</td>\n",
       "      <td>D</td>\n",
       "      <td>156.294131</td>\n",
       "      <td>216.923304</td>\n",
       "      <td>5.872186</td>\n",
       "      <td>0.194822</td>\n",
       "      <td>0.95</td>\n",
       "      <td>0.143240</td>\n",
       "      <td>0.734101</td>\n",
       "    </tr>\n",
       "    <tr>\n",
       "      <th>1997</th>\n",
       "      <td>22.532483</td>\n",
       "      <td>B</td>\n",
       "      <td>115.050490</td>\n",
       "      <td>217.424978</td>\n",
       "      <td>6.890049</td>\n",
       "      <td>0.120550</td>\n",
       "      <td>0.90</td>\n",
       "      <td>0.550371</td>\n",
       "      <td>-0.678976</td>\n",
       "    </tr>\n",
       "    <tr>\n",
       "      <th>1998</th>\n",
       "      <td>18.649490</td>\n",
       "      <td>F</td>\n",
       "      <td>38.755850</td>\n",
       "      <td>314.397756</td>\n",
       "      <td>6.590435</td>\n",
       "      <td>-0.790071</td>\n",
       "      <td>0.85</td>\n",
       "      <td>1.441102</td>\n",
       "      <td>9.878362</td>\n",
       "    </tr>\n",
       "    <tr>\n",
       "      <th>1999</th>\n",
       "      <td>84.994711</td>\n",
       "      <td>E</td>\n",
       "      <td>82.194049</td>\n",
       "      <td>242.364786</td>\n",
       "      <td>6.448571</td>\n",
       "      <td>1.690049</td>\n",
       "      <td>1.20</td>\n",
       "      <td>0.566841</td>\n",
       "      <td>2.101166</td>\n",
       "    </tr>\n",
       "  </tbody>\n",
       "</table>\n",
       "<p>2000 rows × 9 columns</p>\n",
       "</div>"
      ],
      "text/plain": [
       "      feature_1 feature_2   feature_3   feature_4  feature_5  feature_6  \\\n",
       "0     16.647436         E  183.980936   24.617366   5.717618  -0.631023   \n",
       "1     10.604436         A   85.459194  307.449148   6.655153   0.767629   \n",
       "2     77.388714         E   40.558116  155.780617   6.921389   0.015533   \n",
       "3     90.406079         A   15.880388   33.010214   6.250944  -1.473239   \n",
       "4     87.356717         E  170.070489  178.530697   6.204453   1.044204   \n",
       "...         ...       ...         ...         ...        ...        ...   \n",
       "1995  52.551128         B   12.801325  246.448995   5.907150   0.017774   \n",
       "1996  59.145417         D  156.294131  216.923304   5.872186   0.194822   \n",
       "1997  22.532483         B  115.050490  217.424978   6.890049   0.120550   \n",
       "1998  18.649490         F   38.755850  314.397756   6.590435  -0.790071   \n",
       "1999  84.994711         E   82.194049  242.364786   6.448571   1.690049   \n",
       "\n",
       "      feature_7  feature_8    target  \n",
       "0          1.20   0.866846  0.084420  \n",
       "1          1.10   0.977042  3.017718  \n",
       "2          1.20   0.803368  0.227664  \n",
       "3          1.10   0.964277  3.053986  \n",
       "4          1.20   0.052600  3.184864  \n",
       "...         ...        ...       ...  \n",
       "1995       0.90   0.771878 -1.185614  \n",
       "1996       0.95   0.143240  0.734101  \n",
       "1997       0.90   0.550371 -0.678976  \n",
       "1998       0.85   1.441102  9.878362  \n",
       "1999       1.20   0.566841  2.101166  \n",
       "\n",
       "[2000 rows x 9 columns]"
      ]
     },
     "execution_count": 3,
     "metadata": {},
     "output_type": "execute_result"
    }
   ],
   "source": [
    "df = pd.read_csv('dataset/synthetic_dataset_reg_2000.csv')\n",
    "model_type = 'regressor'  # classifier or regressor\n",
    "window_size = 1\n",
    "df"
   ]
  },
  {
   "cell_type": "code",
   "execution_count": 4,
   "id": "fd4af25a-5c0d-4143-b60c-e18881e93762",
   "metadata": {},
   "outputs": [],
   "source": [
    "target_cols = ['target']\n",
    "# Aplicar o pré-processamento\n",
    "df, num_col_names, cat_col_names, date_col_names, category_mappings = preprocess_data(df, target_cols, max_unique_values=10, window_size=window_size)\n",
    "col_names_order = df.columns.tolist()"
   ]
  },
  {
   "cell_type": "code",
   "execution_count": 5,
   "id": "37152cec-0231-4811-bb10-c942991209c1",
   "metadata": {},
   "outputs": [
    {
     "name": "stdout",
     "output_type": "stream",
     "text": [
      "col_names_order: ['feature_1', 'feature_2', 'feature_3', 'feature_4', 'feature_5', 'feature_6', 'feature_7', 'feature_8', 'target']\n",
      "num_col_names: ['feature_1', 'feature_3', 'feature_4', 'feature_5', 'feature_6', 'feature_8']\n",
      "cat_col_names: ['feature_2', 'feature_7']\n",
      "date_col_names: []\n",
      "target_cols: ['target']\n",
      "category_mappings: {'feature_2': {'A': 0, 'B': 1, 'C': 2, 'D': 3, 'E': 4, 'F': 5}}\n"
     ]
    }
   ],
   "source": [
    "print(f'''col_names_order: {col_names_order}\n",
    "num_col_names: {num_col_names}\n",
    "cat_col_names: {cat_col_names}\n",
    "date_col_names: {date_col_names}\n",
    "target_cols: {target_cols}\n",
    "category_mappings: {category_mappings}''')"
   ]
  },
  {
   "cell_type": "code",
   "execution_count": 6,
   "id": "4fcc2805-978c-4a48-8cb4-88cf8ab4f80b",
   "metadata": {},
   "outputs": [
    {
     "name": "stdout",
     "output_type": "stream",
     "text": [
      "<class 'pandas.core.frame.DataFrame'>\n",
      "RangeIndex: 2000 entries, 0 to 1999\n",
      "Data columns (total 9 columns):\n",
      " #   Column     Non-Null Count  Dtype  \n",
      "---  ------     --------------  -----  \n",
      " 0   feature_1  2000 non-null   float64\n",
      " 1   feature_2  2000 non-null   int64  \n",
      " 2   feature_3  2000 non-null   float64\n",
      " 3   feature_4  2000 non-null   float64\n",
      " 4   feature_5  2000 non-null   float64\n",
      " 5   feature_6  2000 non-null   float64\n",
      " 6   feature_7  2000 non-null   float64\n",
      " 7   feature_8  2000 non-null   float64\n",
      " 8   target     2000 non-null   float64\n",
      "dtypes: float64(8), int64(1)\n",
      "memory usage: 140.8 KB\n"
     ]
    }
   ],
   "source": [
    "df.info()"
   ]
  },
  {
   "cell_type": "code",
   "execution_count": 7,
   "id": "948fbfed-100e-4c72-9e82-7dca8b0f6575",
   "metadata": {},
   "outputs": [],
   "source": [
    "if model_type == 'classifier':\n",
    "    print(df[target_cols].value_counts())"
   ]
  },
  {
   "cell_type": "markdown",
   "id": "42eaf0f8-86ce-424c-a7fe-5e0ae5dc3312",
   "metadata": {},
   "source": [
    "### Dataset Splitting"
   ]
  },
  {
   "cell_type": "code",
   "execution_count": 8,
   "id": "8859f571-d656-4a56-ad06-dcf37e01591c",
   "metadata": {},
   "outputs": [],
   "source": [
    "from sklearn.model_selection import train_test_split\n",
    "\n",
    "train, valid = train_test_split(df, random_state=42, test_size=0.3)\n",
    "#valid, test = train_test_split(valid, random_state=42, test_size=0.5)\n",
    "test = valid"
   ]
  },
  {
   "cell_type": "markdown",
   "id": "b4b94ab7-3a7a-4ae2-a16f-766d4c9e79fe",
   "metadata": {},
   "source": [
    "## Train Pytorch Tabular\n",
    "https://github.com/manujosephv/pytorch_tabular"
   ]
  },
  {
   "cell_type": "markdown",
   "id": "2a76926f-2ee1-440a-a617-6cabf2d6e719",
   "metadata": {},
   "source": [
    "### Preparar Configurações"
   ]
  },
  {
   "cell_type": "markdown",
   "id": "d6274514-85d6-4844-9634-e9bba6392ccf",
   "metadata": {},
   "source": [
    "No [DataConfig](https://pytorch-tabular.readthedocs.io/en/latest/data/#pytorch_tabular.config.DataConfig) estão as configurações do dataset, contendo as coluna no DataFrame Pandas que é o \"target\" (valor que será previsto), colunas que possuem dados continuos e de dados categóricos. Além de outras configurações que podem ser alteradas."
   ]
  },
  {
   "cell_type": "code",
   "execution_count": 9,
   "id": "98368c66-7982-4e8a-b8e8-11119ad56100",
   "metadata": {},
   "outputs": [],
   "source": [
    "data_config = DataConfig(\n",
    "    target=target_cols,  # target should always be a list. Multi-targets are only supported for regression. Multi-Task Classification is not implemented\n",
    "    continuous_cols=num_col_names,  # Column names of the numeric fields\n",
    "    categorical_cols=cat_col_names,  # Column names of the categorical fields\n",
    "    date_columns=date_col_names,  # (Column name, Freq, Format) tuples of the date fields. E.g. [(\"date\", \"M\", %Y-%m')]. freq = https://pandas.pydata.org/pandas-docs/stable/user_guide/timeseries.html#offset-aliases\n",
    "    normalize_continuous_features=True, # Flag to normalize the input features (continuous). Default True\n",
    "    num_workers=4\n",
    ")"
   ]
  },
  {
   "cell_type": "markdown",
   "id": "899beb41-8b8c-48ab-b6d7-2b57c46b6a93",
   "metadata": {},
   "source": [
    "No [TrainerConfig](https://pytorch-tabular.readthedocs.io/en/latest/training/#using-the-entire-pytorch-lightning-trainer) estão as configurações de treinamento, incluindo quais métricas iremos utilizar para avaliar o modelo e criar os checkpoints\n",
    "\n",
    "No [OptimizerConfig](https://pytorch-tabular.readthedocs.io/en/latest/optimizer/#pytorch_tabular.config.OptimizerConfig) estão as configurações do otimizado que será utilizador, sendo inclusive possível alterar seus parâmetros."
   ]
  },
  {
   "cell_type": "code",
   "execution_count": 10,
   "id": "e805d0ae-0948-4750-b60a-cb6021a91e71",
   "metadata": {},
   "outputs": [],
   "source": [
    "trainer_config = TrainerConfig(\n",
    "    auto_lr_find=True,  # Runs the LRFinder to automatically derive a learning rate. Default False\n",
    "    batch_size=64,\n",
    "    max_epochs=300,\n",
    "    min_epochs=50,\n",
    "    early_stopping='valid_accuracy' if model_type == 'classifier' else 'valid_loss', # Monitor for early stopping. valid_loss or valid_accuracy\n",
    "    early_stopping_mode = 'max' if model_type == 'classifier' else 'min', # Set the mode as min for val_loss (lower is better) and max for val_accuracy (higher is better)\n",
    "    early_stopping_patience=20, # No. of epochs of degradation training will wait before terminating\n",
    "    checkpoints='valid_accuracy' if model_type == 'classifier' else 'valid_loss', # Save best checkpoint monitoring\n",
    "    checkpoints_mode='max' if model_type == 'classifier' else 'min',  # Set the mode as min for valid_loss (lower is better) and max for valid_accuracy (higher is better)\n",
    ")\n",
    "\n",
    "optimizer_config = OptimizerConfig(\n",
    "    #optimizer='RMSprop',  # https://pytorch.org/docs/stable/optim.html#algorithms\n",
    "    #optimizer_params={'alpha': 0.99},\n",
    "    #lr_scheduler='StepLR',\n",
    "    #lr_scheduler_params={'step_size': 10},\n",
    ")"
   ]
  },
  {
   "cell_type": "markdown",
   "id": "4affc056-9d08-4931-8c23-fcd032525c04",
   "metadata": {},
   "source": [
    "## Train Many Models\n",
    "Entre tantas alternativas é difícil saber qual a melhora arquitetura utilizar, sem falar que muitas vezes uma arquitetura tem um desempenho muito bom em determinado assunto/dataset, mas isso não se mostra verdade entre outro cenário, dificultando escolher qual utilizar.\n",
    "\n",
    "Para ajudar nesse dilema o Pytorch Tabular possui a função [model_sweep](https://pytorch-tabular.readthedocs.io/en/latest/apidocs_coreclasses/#pytorch_tabular.model_sweep) que roda todas as arquiteturas com os hiperpâmetros padrões e seu resultado consiste no comparativo entre todos eles. Dessa forma sabemos em qual/quais arquiteturas devemos investir mais tempo para buscar melhorar seus hiperparâmetros.\n",
    "\n",
    "Vamos rodar a categoria \"high_memory\" que irá treinar todos modelos, inclusive os que utilizam bastante memória. Mas não se preocupe, se a memória não for suficiente a biblioteca irá ignorar o modelo e na tabela de resultados irá informar que não tinha memória suficiente (OOM). Ressaltando que pode ser interessante ter um batch_size pequeno para conseguir treinar todos os modelos sem resultar em OOM, ou rodar o modelo específico que deu OOM depois isoladamente com o batch_size que for suficiente :)."
   ]
  },
  {
   "cell_type": "code",
   "execution_count": 11,
   "id": "9b3cda33-ff13-44b1-a1f6-7dd8b96f8027",
   "metadata": {},
   "outputs": [],
   "source": [
    "from pytorch_tabular import model_sweep, tabular_model_sweep"
   ]
  },
  {
   "cell_type": "code",
   "execution_count": 12,
   "id": "9f6b38c6-1030-4f54-aae5-a4178f85ab7b",
   "metadata": {},
   "outputs": [],
   "source": [
    "#tabular_model_sweep.MODEL_SWEEP_PRESETS"
   ]
  },
  {
   "cell_type": "code",
   "execution_count": 13,
   "id": "fa294148-23cd-46f6-b798-7940409e5652",
   "metadata": {
    "scrolled": true
   },
   "outputs": [
    {
     "data": {
      "application/vnd.jupyter.widget-view+json": {
       "model_id": "05363af3ba434b858d92e195077601d8",
       "version_major": 2,
       "version_minor": 0
      },
      "text/plain": [
       "Output()"
      ]
     },
     "metadata": {},
     "output_type": "display_data"
    },
    {
     "data": {
      "text/html": [
       "<pre style=\"white-space:pre;overflow-x:auto;line-height:normal;font-family:Menlo,'DejaVu Sans Mono',consolas,'Courier New',monospace\"><span style=\"color: #008080; text-decoration-color: #008080; font-weight: bold\">2025</span>-<span style=\"color: #008080; text-decoration-color: #008080; font-weight: bold\">02</span>-<span style=\"color: #008080; text-decoration-color: #008080; font-weight: bold\">26</span> <span style=\"color: #00ff00; text-decoration-color: #00ff00; font-weight: bold\">11:04:00</span>,<span style=\"color: #008080; text-decoration-color: #008080; font-weight: bold\">215</span> - <span style=\"font-weight: bold\">{</span>pytorch_tabular:<span style=\"color: #008080; text-decoration-color: #008080; font-weight: bold\">328</span><span style=\"font-weight: bold\">}</span> - INFO - Training AutoIntModel                                     \n",
       "</pre>\n"
      ],
      "text/plain": [
       "\u001b[1;36m2025\u001b[0m-\u001b[1;36m02\u001b[0m-\u001b[1;36m26\u001b[0m \u001b[1;92m11:04:00\u001b[0m,\u001b[1;36m215\u001b[0m - \u001b[1m{\u001b[0mpytorch_tabular:\u001b[1;36m328\u001b[0m\u001b[1m}\u001b[0m - INFO - Training AutoIntModel                                     \n"
      ]
     },
     "metadata": {},
     "output_type": "display_data"
    },
    {
     "data": {
      "application/vnd.jupyter.widget-view+json": {
       "model_id": "7213689f6afb4389be6f2c5ddc86cf4e",
       "version_major": 2,
       "version_minor": 0
      },
      "text/plain": [
       "Finding best initial lr:   0%|          | 0/100 [00:00<?, ?it/s]"
      ]
     },
     "metadata": {},
     "output_type": "display_data"
    },
    {
     "data": {
      "text/html": [
       "<pre style=\"white-space:pre;overflow-x:auto;line-height:normal;font-family:Menlo,'DejaVu Sans Mono',consolas,'Courier New',monospace\"><span style=\"color: #008080; text-decoration-color: #008080; font-weight: bold\">2025</span>-<span style=\"color: #008080; text-decoration-color: #008080; font-weight: bold\">02</span>-<span style=\"color: #008080; text-decoration-color: #008080; font-weight: bold\">26</span> <span style=\"color: #00ff00; text-decoration-color: #00ff00; font-weight: bold\">11:04:13</span>,<span style=\"color: #008080; text-decoration-color: #008080; font-weight: bold\">386</span> - <span style=\"font-weight: bold\">{</span>pytorch_tabular:<span style=\"color: #008080; text-decoration-color: #008080; font-weight: bold\">382</span><span style=\"font-weight: bold\">}</span> - INFO - Finished Training AutoIntModel                            \n",
       "</pre>\n"
      ],
      "text/plain": [
       "\u001b[1;36m2025\u001b[0m-\u001b[1;36m02\u001b[0m-\u001b[1;36m26\u001b[0m \u001b[1;92m11:04:13\u001b[0m,\u001b[1;36m386\u001b[0m - \u001b[1m{\u001b[0mpytorch_tabular:\u001b[1;36m382\u001b[0m\u001b[1m}\u001b[0m - INFO - Finished Training AutoIntModel                            \n"
      ]
     },
     "metadata": {},
     "output_type": "display_data"
    },
    {
     "data": {
      "text/html": [
       "<pre style=\"white-space:pre;overflow-x:auto;line-height:normal;font-family:Menlo,'DejaVu Sans Mono',consolas,'Courier New',monospace\"><span style=\"color: #008080; text-decoration-color: #008080; font-weight: bold\">2025</span>-<span style=\"color: #008080; text-decoration-color: #008080; font-weight: bold\">02</span>-<span style=\"color: #008080; text-decoration-color: #008080; font-weight: bold\">26</span> <span style=\"color: #00ff00; text-decoration-color: #00ff00; font-weight: bold\">11:04:13</span>,<span style=\"color: #008080; text-decoration-color: #008080; font-weight: bold\">406</span> - <span style=\"font-weight: bold\">{</span>pytorch_tabular:<span style=\"color: #008080; text-decoration-color: #008080; font-weight: bold\">328</span><span style=\"font-weight: bold\">}</span> - INFO - Training CategoryEmbeddingModel                           \n",
       "</pre>\n"
      ],
      "text/plain": [
       "\u001b[1;36m2025\u001b[0m-\u001b[1;36m02\u001b[0m-\u001b[1;36m26\u001b[0m \u001b[1;92m11:04:13\u001b[0m,\u001b[1;36m406\u001b[0m - \u001b[1m{\u001b[0mpytorch_tabular:\u001b[1;36m328\u001b[0m\u001b[1m}\u001b[0m - INFO - Training CategoryEmbeddingModel                           \n"
      ]
     },
     "metadata": {},
     "output_type": "display_data"
    },
    {
     "data": {
      "application/vnd.jupyter.widget-view+json": {
       "model_id": "2494c81d3f9442cda6b5aa08331f6d22",
       "version_major": 2,
       "version_minor": 0
      },
      "text/plain": [
       "Finding best initial lr:   0%|          | 0/100 [00:00<?, ?it/s]"
      ]
     },
     "metadata": {},
     "output_type": "display_data"
    },
    {
     "data": {
      "text/html": [
       "<pre style=\"white-space:pre;overflow-x:auto;line-height:normal;font-family:Menlo,'DejaVu Sans Mono',consolas,'Courier New',monospace\"><span style=\"color: #008080; text-decoration-color: #008080; font-weight: bold\">2025</span>-<span style=\"color: #008080; text-decoration-color: #008080; font-weight: bold\">02</span>-<span style=\"color: #008080; text-decoration-color: #008080; font-weight: bold\">26</span> <span style=\"color: #00ff00; text-decoration-color: #00ff00; font-weight: bold\">11:04:25</span>,<span style=\"color: #008080; text-decoration-color: #008080; font-weight: bold\">975</span> - <span style=\"font-weight: bold\">{</span>pytorch_tabular:<span style=\"color: #008080; text-decoration-color: #008080; font-weight: bold\">382</span><span style=\"font-weight: bold\">}</span> - INFO - Finished Training CategoryEmbeddingModel                  \n",
       "</pre>\n"
      ],
      "text/plain": [
       "\u001b[1;36m2025\u001b[0m-\u001b[1;36m02\u001b[0m-\u001b[1;36m26\u001b[0m \u001b[1;92m11:04:25\u001b[0m,\u001b[1;36m975\u001b[0m - \u001b[1m{\u001b[0mpytorch_tabular:\u001b[1;36m382\u001b[0m\u001b[1m}\u001b[0m - INFO - Finished Training CategoryEmbeddingModel                  \n"
      ]
     },
     "metadata": {},
     "output_type": "display_data"
    },
    {
     "data": {
      "text/html": [
       "<pre style=\"white-space:pre;overflow-x:auto;line-height:normal;font-family:Menlo,'DejaVu Sans Mono',consolas,'Courier New',monospace\"><span style=\"color: #008080; text-decoration-color: #008080; font-weight: bold\">2025</span>-<span style=\"color: #008080; text-decoration-color: #008080; font-weight: bold\">02</span>-<span style=\"color: #008080; text-decoration-color: #008080; font-weight: bold\">26</span> <span style=\"color: #00ff00; text-decoration-color: #00ff00; font-weight: bold\">11:04:25</span>,<span style=\"color: #008080; text-decoration-color: #008080; font-weight: bold\">976</span> - <span style=\"font-weight: bold\">{</span>pytorch_tabular:<span style=\"color: #008080; text-decoration-color: #008080; font-weight: bold\">383</span><span style=\"font-weight: bold\">}</span> - INFO - Results: model: CategoryEmbeddingModel, # Params: <span style=\"color: #008080; text-decoration-color: #008080; font-weight: bold\">12</span> T,   \n",
       "epochs: <span style=\"color: #008080; text-decoration-color: #008080; font-weight: bold\">66</span>, test_loss: <span style=\"color: #008080; text-decoration-color: #008080; font-weight: bold\">23.57221221923828</span>, test_mean_squared_error: <span style=\"color: #008080; text-decoration-color: #008080; font-weight: bold\">23.57221221923828</span>, time_taken:                  \n",
       "<span style=\"color: #008080; text-decoration-color: #008080; font-weight: bold\">12.587209463119507</span>, time_taken_per_epoch: <span style=\"color: #008080; text-decoration-color: #008080; font-weight: bold\">0.1907152948957501</span>                                                       \n",
       "</pre>\n"
      ],
      "text/plain": [
       "\u001b[1;36m2025\u001b[0m-\u001b[1;36m02\u001b[0m-\u001b[1;36m26\u001b[0m \u001b[1;92m11:04:25\u001b[0m,\u001b[1;36m976\u001b[0m - \u001b[1m{\u001b[0mpytorch_tabular:\u001b[1;36m383\u001b[0m\u001b[1m}\u001b[0m - INFO - Results: model: CategoryEmbeddingModel, # Params: \u001b[1;36m12\u001b[0m T,   \n",
       "epochs: \u001b[1;36m66\u001b[0m, test_loss: \u001b[1;36m23.57221221923828\u001b[0m, test_mean_squared_error: \u001b[1;36m23.57221221923828\u001b[0m, time_taken:                  \n",
       "\u001b[1;36m12.587209463119507\u001b[0m, time_taken_per_epoch: \u001b[1;36m0.1907152948957501\u001b[0m                                                       \n"
      ]
     },
     "metadata": {},
     "output_type": "display_data"
    },
    {
     "data": {
      "text/html": [
       "<pre style=\"white-space:pre;overflow-x:auto;line-height:normal;font-family:Menlo,'DejaVu Sans Mono',consolas,'Courier New',monospace\"><span style=\"color: #008080; text-decoration-color: #008080; font-weight: bold\">2025</span>-<span style=\"color: #008080; text-decoration-color: #008080; font-weight: bold\">02</span>-<span style=\"color: #008080; text-decoration-color: #008080; font-weight: bold\">26</span> <span style=\"color: #00ff00; text-decoration-color: #00ff00; font-weight: bold\">11:04:25</span>,<span style=\"color: #008080; text-decoration-color: #008080; font-weight: bold\">991</span> - <span style=\"font-weight: bold\">{</span>pytorch_tabular:<span style=\"color: #008080; text-decoration-color: #008080; font-weight: bold\">328</span><span style=\"font-weight: bold\">}</span> - INFO - Training DANetModel                                       \n",
       "</pre>\n"
      ],
      "text/plain": [
       "\u001b[1;36m2025\u001b[0m-\u001b[1;36m02\u001b[0m-\u001b[1;36m26\u001b[0m \u001b[1;92m11:04:25\u001b[0m,\u001b[1;36m991\u001b[0m - \u001b[1m{\u001b[0mpytorch_tabular:\u001b[1;36m328\u001b[0m\u001b[1m}\u001b[0m - INFO - Training DANetModel                                       \n"
      ]
     },
     "metadata": {},
     "output_type": "display_data"
    },
    {
     "data": {
      "application/vnd.jupyter.widget-view+json": {
       "model_id": "38ca9b8e00664185bc0c072734b2101a",
       "version_major": 2,
       "version_minor": 0
      },
      "text/plain": [
       "Finding best initial lr:   0%|          | 0/100 [00:00<?, ?it/s]"
      ]
     },
     "metadata": {},
     "output_type": "display_data"
    },
    {
     "data": {
      "text/html": [
       "<pre style=\"white-space:pre;overflow-x:auto;line-height:normal;font-family:Menlo,'DejaVu Sans Mono',consolas,'Courier New',monospace\"><span style=\"color: #008080; text-decoration-color: #008080; font-weight: bold\">2025</span>-<span style=\"color: #008080; text-decoration-color: #008080; font-weight: bold\">02</span>-<span style=\"color: #008080; text-decoration-color: #008080; font-weight: bold\">26</span> <span style=\"color: #00ff00; text-decoration-color: #00ff00; font-weight: bold\">11:05:28</span>,<span style=\"color: #008080; text-decoration-color: #008080; font-weight: bold\">143</span> - <span style=\"font-weight: bold\">{</span>pytorch_tabular:<span style=\"color: #008080; text-decoration-color: #008080; font-weight: bold\">382</span><span style=\"font-weight: bold\">}</span> - INFO - Finished Training DANetModel                              \n",
       "</pre>\n"
      ],
      "text/plain": [
       "\u001b[1;36m2025\u001b[0m-\u001b[1;36m02\u001b[0m-\u001b[1;36m26\u001b[0m \u001b[1;92m11:05:28\u001b[0m,\u001b[1;36m143\u001b[0m - \u001b[1m{\u001b[0mpytorch_tabular:\u001b[1;36m382\u001b[0m\u001b[1m}\u001b[0m - INFO - Finished Training DANetModel                              \n"
      ]
     },
     "metadata": {},
     "output_type": "display_data"
    },
    {
     "data": {
      "text/html": [
       "<pre style=\"white-space:pre;overflow-x:auto;line-height:normal;font-family:Menlo,'DejaVu Sans Mono',consolas,'Courier New',monospace\"><span style=\"color: #008080; text-decoration-color: #008080; font-weight: bold\">2025</span>-<span style=\"color: #008080; text-decoration-color: #008080; font-weight: bold\">02</span>-<span style=\"color: #008080; text-decoration-color: #008080; font-weight: bold\">26</span> <span style=\"color: #00ff00; text-decoration-color: #00ff00; font-weight: bold\">11:05:28</span>,<span style=\"color: #008080; text-decoration-color: #008080; font-weight: bold\">143</span> - <span style=\"font-weight: bold\">{</span>pytorch_tabular:<span style=\"color: #008080; text-decoration-color: #008080; font-weight: bold\">383</span><span style=\"font-weight: bold\">}</span> - INFO - Results: model: DANetModel, # Params: <span style=\"color: #008080; text-decoration-color: #008080; font-weight: bold\">426</span> T, epochs: <span style=\"color: #008080; text-decoration-color: #008080; font-weight: bold\">67</span>,  \n",
       "test_loss: <span style=\"color: #008080; text-decoration-color: #008080; font-weight: bold\">1.1023461818695068</span>, test_mean_squared_error: <span style=\"color: #008080; text-decoration-color: #008080; font-weight: bold\">1.1023461818695068</span>, time_taken: <span style=\"color: #008080; text-decoration-color: #008080; font-weight: bold\">62.1446487903595</span>,          \n",
       "time_taken_per_epoch: <span style=\"color: #008080; text-decoration-color: #008080; font-weight: bold\">0.927532071497903</span>                                                                            \n",
       "</pre>\n"
      ],
      "text/plain": [
       "\u001b[1;36m2025\u001b[0m-\u001b[1;36m02\u001b[0m-\u001b[1;36m26\u001b[0m \u001b[1;92m11:05:28\u001b[0m,\u001b[1;36m143\u001b[0m - \u001b[1m{\u001b[0mpytorch_tabular:\u001b[1;36m383\u001b[0m\u001b[1m}\u001b[0m - INFO - Results: model: DANetModel, # Params: \u001b[1;36m426\u001b[0m T, epochs: \u001b[1;36m67\u001b[0m,  \n",
       "test_loss: \u001b[1;36m1.1023461818695068\u001b[0m, test_mean_squared_error: \u001b[1;36m1.1023461818695068\u001b[0m, time_taken: \u001b[1;36m62.1446487903595\u001b[0m,          \n",
       "time_taken_per_epoch: \u001b[1;36m0.927532071497903\u001b[0m                                                                            \n"
      ]
     },
     "metadata": {},
     "output_type": "display_data"
    },
    {
     "data": {
      "text/html": [
       "<pre style=\"white-space:pre;overflow-x:auto;line-height:normal;font-family:Menlo,'DejaVu Sans Mono',consolas,'Courier New',monospace\"><span style=\"color: #008080; text-decoration-color: #008080; font-weight: bold\">2025</span>-<span style=\"color: #008080; text-decoration-color: #008080; font-weight: bold\">02</span>-<span style=\"color: #008080; text-decoration-color: #008080; font-weight: bold\">26</span> <span style=\"color: #00ff00; text-decoration-color: #00ff00; font-weight: bold\">11:05:28</span>,<span style=\"color: #008080; text-decoration-color: #008080; font-weight: bold\">159</span> - <span style=\"font-weight: bold\">{</span>pytorch_tabular:<span style=\"color: #008080; text-decoration-color: #008080; font-weight: bold\">328</span><span style=\"font-weight: bold\">}</span> - INFO - Training FTTransformerModel                               \n",
       "</pre>\n"
      ],
      "text/plain": [
       "\u001b[1;36m2025\u001b[0m-\u001b[1;36m02\u001b[0m-\u001b[1;36m26\u001b[0m \u001b[1;92m11:05:28\u001b[0m,\u001b[1;36m159\u001b[0m - \u001b[1m{\u001b[0mpytorch_tabular:\u001b[1;36m328\u001b[0m\u001b[1m}\u001b[0m - INFO - Training FTTransformerModel                               \n"
      ]
     },
     "metadata": {},
     "output_type": "display_data"
    },
    {
     "data": {
      "application/vnd.jupyter.widget-view+json": {
       "model_id": "d039ab6e7a3846d29eb22a97dfaca2c9",
       "version_major": 2,
       "version_minor": 0
      },
      "text/plain": [
       "Finding best initial lr:   0%|          | 0/100 [00:00<?, ?it/s]"
      ]
     },
     "metadata": {},
     "output_type": "display_data"
    },
    {
     "data": {
      "text/html": [
       "<pre style=\"white-space:pre;overflow-x:auto;line-height:normal;font-family:Menlo,'DejaVu Sans Mono',consolas,'Courier New',monospace\"><span style=\"color: #008080; text-decoration-color: #008080; font-weight: bold\">2025</span>-<span style=\"color: #008080; text-decoration-color: #008080; font-weight: bold\">02</span>-<span style=\"color: #008080; text-decoration-color: #008080; font-weight: bold\">26</span> <span style=\"color: #00ff00; text-decoration-color: #00ff00; font-weight: bold\">11:07:17</span>,<span style=\"color: #008080; text-decoration-color: #008080; font-weight: bold\">602</span> - <span style=\"font-weight: bold\">{</span>pytorch_tabular:<span style=\"color: #008080; text-decoration-color: #008080; font-weight: bold\">382</span><span style=\"font-weight: bold\">}</span> - INFO - Finished Training FTTransformerModel                      \n",
       "</pre>\n"
      ],
      "text/plain": [
       "\u001b[1;36m2025\u001b[0m-\u001b[1;36m02\u001b[0m-\u001b[1;36m26\u001b[0m \u001b[1;92m11:07:17\u001b[0m,\u001b[1;36m602\u001b[0m - \u001b[1m{\u001b[0mpytorch_tabular:\u001b[1;36m382\u001b[0m\u001b[1m}\u001b[0m - INFO - Finished Training FTTransformerModel                      \n"
      ]
     },
     "metadata": {},
     "output_type": "display_data"
    },
    {
     "data": {
      "text/html": [
       "<pre style=\"white-space:pre;overflow-x:auto;line-height:normal;font-family:Menlo,'DejaVu Sans Mono',consolas,'Courier New',monospace\"><span style=\"color: #008080; text-decoration-color: #008080; font-weight: bold\">2025</span>-<span style=\"color: #008080; text-decoration-color: #008080; font-weight: bold\">02</span>-<span style=\"color: #008080; text-decoration-color: #008080; font-weight: bold\">26</span> <span style=\"color: #00ff00; text-decoration-color: #00ff00; font-weight: bold\">11:07:17</span>,<span style=\"color: #008080; text-decoration-color: #008080; font-weight: bold\">603</span> - <span style=\"font-weight: bold\">{</span>pytorch_tabular:<span style=\"color: #008080; text-decoration-color: #008080; font-weight: bold\">383</span><span style=\"font-weight: bold\">}</span> - INFO - Results: model: FTTransformerModel, # Params: <span style=\"color: #008080; text-decoration-color: #008080; font-weight: bold\">272</span> T,      \n",
       "epochs: <span style=\"color: #008080; text-decoration-color: #008080; font-weight: bold\">300</span>, test_loss: <span style=\"color: #008080; text-decoration-color: #008080; font-weight: bold\">23.130311965942383</span>, test_mean_squared_error: <span style=\"color: #008080; text-decoration-color: #008080; font-weight: bold\">23.130311965942383</span>, time_taken:               \n",
       "<span style=\"color: #008080; text-decoration-color: #008080; font-weight: bold\">109.45768332481384</span>, time_taken_per_epoch: <span style=\"color: #008080; text-decoration-color: #008080; font-weight: bold\">0.36485894441604616</span>                                                      \n",
       "</pre>\n"
      ],
      "text/plain": [
       "\u001b[1;36m2025\u001b[0m-\u001b[1;36m02\u001b[0m-\u001b[1;36m26\u001b[0m \u001b[1;92m11:07:17\u001b[0m,\u001b[1;36m603\u001b[0m - \u001b[1m{\u001b[0mpytorch_tabular:\u001b[1;36m383\u001b[0m\u001b[1m}\u001b[0m - INFO - Results: model: FTTransformerModel, # Params: \u001b[1;36m272\u001b[0m T,      \n",
       "epochs: \u001b[1;36m300\u001b[0m, test_loss: \u001b[1;36m23.130311965942383\u001b[0m, test_mean_squared_error: \u001b[1;36m23.130311965942383\u001b[0m, time_taken:               \n",
       "\u001b[1;36m109.45768332481384\u001b[0m, time_taken_per_epoch: \u001b[1;36m0.36485894441604616\u001b[0m                                                      \n"
      ]
     },
     "metadata": {},
     "output_type": "display_data"
    },
    {
     "data": {
      "text/html": [
       "<pre style=\"white-space:pre;overflow-x:auto;line-height:normal;font-family:Menlo,'DejaVu Sans Mono',consolas,'Courier New',monospace\"><span style=\"color: #008080; text-decoration-color: #008080; font-weight: bold\">2025</span>-<span style=\"color: #008080; text-decoration-color: #008080; font-weight: bold\">02</span>-<span style=\"color: #008080; text-decoration-color: #008080; font-weight: bold\">26</span> <span style=\"color: #00ff00; text-decoration-color: #00ff00; font-weight: bold\">11:07:17</span>,<span style=\"color: #008080; text-decoration-color: #008080; font-weight: bold\">617</span> - <span style=\"font-weight: bold\">{</span>pytorch_tabular:<span style=\"color: #008080; text-decoration-color: #008080; font-weight: bold\">328</span><span style=\"font-weight: bold\">}</span> - INFO - Training GANDALFModel                                     \n",
       "</pre>\n"
      ],
      "text/plain": [
       "\u001b[1;36m2025\u001b[0m-\u001b[1;36m02\u001b[0m-\u001b[1;36m26\u001b[0m \u001b[1;92m11:07:17\u001b[0m,\u001b[1;36m617\u001b[0m - \u001b[1m{\u001b[0mpytorch_tabular:\u001b[1;36m328\u001b[0m\u001b[1m}\u001b[0m - INFO - Training GANDALFModel                                     \n"
      ]
     },
     "metadata": {},
     "output_type": "display_data"
    },
    {
     "data": {
      "text/html": [
       "<pre style=\"white-space:pre;overflow-x:auto;line-height:normal;font-family:Menlo,'DejaVu Sans Mono',consolas,'Courier New',monospace\"><span style=\"color: #008080; text-decoration-color: #008080; font-weight: bold\">2025</span>-<span style=\"color: #008080; text-decoration-color: #008080; font-weight: bold\">02</span>-<span style=\"color: #008080; text-decoration-color: #008080; font-weight: bold\">26</span> <span style=\"color: #00ff00; text-decoration-color: #00ff00; font-weight: bold\">11:07:17</span>,<span style=\"color: #008080; text-decoration-color: #008080; font-weight: bold\">633</span> - <span style=\"font-weight: bold\">{</span>pytorch_tabular.models.gandalf.gandal<span style=\"color: #00ff00; text-decoration-color: #00ff00; font-weight: bold\">f:109</span><span style=\"font-weight: bold\">}</span> - INFO - Data Aware Initialization of T0    \n",
       "</pre>\n"
      ],
      "text/plain": [
       "\u001b[1;36m2025\u001b[0m-\u001b[1;36m02\u001b[0m-\u001b[1;36m26\u001b[0m \u001b[1;92m11:07:17\u001b[0m,\u001b[1;36m633\u001b[0m - \u001b[1m{\u001b[0mpytorch_tabular.models.gandalf.gandal\u001b[1;92mf:109\u001b[0m\u001b[1m}\u001b[0m - INFO - Data Aware Initialization of T0    \n"
      ]
     },
     "metadata": {},
     "output_type": "display_data"
    },
    {
     "data": {
      "application/vnd.jupyter.widget-view+json": {
       "model_id": "6de1a3e598d14e6fb20f1d870d7e6044",
       "version_major": 2,
       "version_minor": 0
      },
      "text/plain": [
       "Finding best initial lr:   0%|          | 0/100 [00:00<?, ?it/s]"
      ]
     },
     "metadata": {},
     "output_type": "display_data"
    },
    {
     "data": {
      "text/html": [
       "<pre style=\"white-space:pre;overflow-x:auto;line-height:normal;font-family:Menlo,'DejaVu Sans Mono',consolas,'Courier New',monospace\"><span style=\"color: #008080; text-decoration-color: #008080; font-weight: bold\">2025</span>-<span style=\"color: #008080; text-decoration-color: #008080; font-weight: bold\">02</span>-<span style=\"color: #008080; text-decoration-color: #008080; font-weight: bold\">26</span> <span style=\"color: #00ff00; text-decoration-color: #00ff00; font-weight: bold\">11:07:19</span>,<span style=\"color: #008080; text-decoration-color: #008080; font-weight: bold\">583</span> - <span style=\"font-weight: bold\">{</span>pytorch_tabular.models.gandalf.gandal<span style=\"color: #00ff00; text-decoration-color: #00ff00; font-weight: bold\">f:109</span><span style=\"font-weight: bold\">}</span> - INFO - Data Aware Initialization of T0    \n",
       "</pre>\n"
      ],
      "text/plain": [
       "\u001b[1;36m2025\u001b[0m-\u001b[1;36m02\u001b[0m-\u001b[1;36m26\u001b[0m \u001b[1;92m11:07:19\u001b[0m,\u001b[1;36m583\u001b[0m - \u001b[1m{\u001b[0mpytorch_tabular.models.gandalf.gandal\u001b[1;92mf:109\u001b[0m\u001b[1m}\u001b[0m - INFO - Data Aware Initialization of T0    \n"
      ]
     },
     "metadata": {},
     "output_type": "display_data"
    },
    {
     "data": {
      "text/html": [
       "<pre style=\"white-space:pre;overflow-x:auto;line-height:normal;font-family:Menlo,'DejaVu Sans Mono',consolas,'Courier New',monospace\"><span style=\"color: #008080; text-decoration-color: #008080; font-weight: bold\">2025</span>-<span style=\"color: #008080; text-decoration-color: #008080; font-weight: bold\">02</span>-<span style=\"color: #008080; text-decoration-color: #008080; font-weight: bold\">26</span> <span style=\"color: #00ff00; text-decoration-color: #00ff00; font-weight: bold\">11:07:34</span>,<span style=\"color: #008080; text-decoration-color: #008080; font-weight: bold\">656</span> - <span style=\"font-weight: bold\">{</span>pytorch_tabular:<span style=\"color: #008080; text-decoration-color: #008080; font-weight: bold\">382</span><span style=\"font-weight: bold\">}</span> - INFO - Finished Training GANDALFModel                            \n",
       "</pre>\n"
      ],
      "text/plain": [
       "\u001b[1;36m2025\u001b[0m-\u001b[1;36m02\u001b[0m-\u001b[1;36m26\u001b[0m \u001b[1;92m11:07:34\u001b[0m,\u001b[1;36m656\u001b[0m - \u001b[1m{\u001b[0mpytorch_tabular:\u001b[1;36m382\u001b[0m\u001b[1m}\u001b[0m - INFO - Finished Training GANDALFModel                            \n"
      ]
     },
     "metadata": {},
     "output_type": "display_data"
    },
    {
     "data": {
      "text/html": [
       "<pre style=\"white-space:pre;overflow-x:auto;line-height:normal;font-family:Menlo,'DejaVu Sans Mono',consolas,'Courier New',monospace\"><span style=\"color: #008080; text-decoration-color: #008080; font-weight: bold\">2025</span>-<span style=\"color: #008080; text-decoration-color: #008080; font-weight: bold\">02</span>-<span style=\"color: #008080; text-decoration-color: #008080; font-weight: bold\">26</span> <span style=\"color: #00ff00; text-decoration-color: #00ff00; font-weight: bold\">11:07:34</span>,<span style=\"color: #008080; text-decoration-color: #008080; font-weight: bold\">658</span> - <span style=\"font-weight: bold\">{</span>pytorch_tabular:<span style=\"color: #008080; text-decoration-color: #008080; font-weight: bold\">383</span><span style=\"font-weight: bold\">}</span> - INFO - Results: model: GANDALFModel, # Params: <span style=\"color: #008080; text-decoration-color: #008080; font-weight: bold\">7</span> T, epochs: <span style=\"color: #008080; text-decoration-color: #008080; font-weight: bold\">49</span>,  \n",
       "test_loss: <span style=\"color: #008080; text-decoration-color: #008080; font-weight: bold\">4.200052261352539</span>, test_mean_squared_error: <span style=\"color: #008080; text-decoration-color: #008080; font-weight: bold\">4.200052261352539</span>, time_taken: <span style=\"color: #008080; text-decoration-color: #008080; font-weight: bold\">17.052464246749878</span>,          \n",
       "time_taken_per_epoch: <span style=\"color: #008080; text-decoration-color: #008080; font-weight: bold\">0.3480094744234669</span>                                                                           \n",
       "</pre>\n"
      ],
      "text/plain": [
       "\u001b[1;36m2025\u001b[0m-\u001b[1;36m02\u001b[0m-\u001b[1;36m26\u001b[0m \u001b[1;92m11:07:34\u001b[0m,\u001b[1;36m658\u001b[0m - \u001b[1m{\u001b[0mpytorch_tabular:\u001b[1;36m383\u001b[0m\u001b[1m}\u001b[0m - INFO - Results: model: GANDALFModel, # Params: \u001b[1;36m7\u001b[0m T, epochs: \u001b[1;36m49\u001b[0m,  \n",
       "test_loss: \u001b[1;36m4.200052261352539\u001b[0m, test_mean_squared_error: \u001b[1;36m4.200052261352539\u001b[0m, time_taken: \u001b[1;36m17.052464246749878\u001b[0m,          \n",
       "time_taken_per_epoch: \u001b[1;36m0.3480094744234669\u001b[0m                                                                           \n"
      ]
     },
     "metadata": {},
     "output_type": "display_data"
    },
    {
     "data": {
      "text/html": [
       "<pre style=\"white-space:pre;overflow-x:auto;line-height:normal;font-family:Menlo,'DejaVu Sans Mono',consolas,'Courier New',monospace\"><span style=\"color: #008080; text-decoration-color: #008080; font-weight: bold\">2025</span>-<span style=\"color: #008080; text-decoration-color: #008080; font-weight: bold\">02</span>-<span style=\"color: #008080; text-decoration-color: #008080; font-weight: bold\">26</span> <span style=\"color: #00ff00; text-decoration-color: #00ff00; font-weight: bold\">11:07:34</span>,<span style=\"color: #008080; text-decoration-color: #008080; font-weight: bold\">673</span> - <span style=\"font-weight: bold\">{</span>pytorch_tabular:<span style=\"color: #008080; text-decoration-color: #008080; font-weight: bold\">328</span><span style=\"font-weight: bold\">}</span> - INFO - Training GatedAdditiveTreeEnsembleModel                   \n",
       "</pre>\n"
      ],
      "text/plain": [
       "\u001b[1;36m2025\u001b[0m-\u001b[1;36m02\u001b[0m-\u001b[1;36m26\u001b[0m \u001b[1;92m11:07:34\u001b[0m,\u001b[1;36m673\u001b[0m - \u001b[1m{\u001b[0mpytorch_tabular:\u001b[1;36m328\u001b[0m\u001b[1m}\u001b[0m - INFO - Training GatedAdditiveTreeEnsembleModel                   \n"
      ]
     },
     "metadata": {},
     "output_type": "display_data"
    },
    {
     "data": {
      "text/html": [
       "<pre style=\"white-space:pre;overflow-x:auto;line-height:normal;font-family:Menlo,'DejaVu Sans Mono',consolas,'Courier New',monospace\"><span style=\"color: #008080; text-decoration-color: #008080; font-weight: bold\">2025</span>-<span style=\"color: #008080; text-decoration-color: #008080; font-weight: bold\">02</span>-<span style=\"color: #008080; text-decoration-color: #008080; font-weight: bold\">26</span> <span style=\"color: #00ff00; text-decoration-color: #00ff00; font-weight: bold\">11:07:34</span>,<span style=\"color: #008080; text-decoration-color: #008080; font-weight: bold\">723</span> - <span style=\"font-weight: bold\">{</span>pytorch_tabular.models.gate.gate_model:<span style=\"color: #008080; text-decoration-color: #008080; font-weight: bold\">255</span><span style=\"font-weight: bold\">}</span> - INFO - Data Aware Initialization of T0    \n",
       "</pre>\n"
      ],
      "text/plain": [
       "\u001b[1;36m2025\u001b[0m-\u001b[1;36m02\u001b[0m-\u001b[1;36m26\u001b[0m \u001b[1;92m11:07:34\u001b[0m,\u001b[1;36m723\u001b[0m - \u001b[1m{\u001b[0mpytorch_tabular.models.gate.gate_model:\u001b[1;36m255\u001b[0m\u001b[1m}\u001b[0m - INFO - Data Aware Initialization of T0    \n"
      ]
     },
     "metadata": {},
     "output_type": "display_data"
    },
    {
     "data": {
      "application/vnd.jupyter.widget-view+json": {
       "model_id": "a0bab350ba444c65964337877c3f75dd",
       "version_major": 2,
       "version_minor": 0
      },
      "text/plain": [
       "Finding best initial lr:   0%|          | 0/100 [00:00<?, ?it/s]"
      ]
     },
     "metadata": {},
     "output_type": "display_data"
    },
    {
     "data": {
      "text/html": [
       "<pre style=\"white-space:pre;overflow-x:auto;line-height:normal;font-family:Menlo,'DejaVu Sans Mono',consolas,'Courier New',monospace\"><span style=\"color: #008080; text-decoration-color: #008080; font-weight: bold\">2025</span>-<span style=\"color: #008080; text-decoration-color: #008080; font-weight: bold\">02</span>-<span style=\"color: #008080; text-decoration-color: #008080; font-weight: bold\">26</span> <span style=\"color: #00ff00; text-decoration-color: #00ff00; font-weight: bold\">11:07:43</span>,<span style=\"color: #008080; text-decoration-color: #008080; font-weight: bold\">326</span> - <span style=\"font-weight: bold\">{</span>pytorch_tabular.models.gate.gate_model:<span style=\"color: #008080; text-decoration-color: #008080; font-weight: bold\">255</span><span style=\"font-weight: bold\">}</span> - INFO - Data Aware Initialization of T0    \n",
       "</pre>\n"
      ],
      "text/plain": [
       "\u001b[1;36m2025\u001b[0m-\u001b[1;36m02\u001b[0m-\u001b[1;36m26\u001b[0m \u001b[1;92m11:07:43\u001b[0m,\u001b[1;36m326\u001b[0m - \u001b[1m{\u001b[0mpytorch_tabular.models.gate.gate_model:\u001b[1;36m255\u001b[0m\u001b[1m}\u001b[0m - INFO - Data Aware Initialization of T0    \n"
      ]
     },
     "metadata": {},
     "output_type": "display_data"
    },
    {
     "data": {
      "text/html": [
       "<pre style=\"white-space:pre;overflow-x:auto;line-height:normal;font-family:Menlo,'DejaVu Sans Mono',consolas,'Courier New',monospace\"><span style=\"color: #008080; text-decoration-color: #008080; font-weight: bold\">2025</span>-<span style=\"color: #008080; text-decoration-color: #008080; font-weight: bold\">02</span>-<span style=\"color: #008080; text-decoration-color: #008080; font-weight: bold\">26</span> <span style=\"color: #00ff00; text-decoration-color: #00ff00; font-weight: bold\">11:14:56</span>,<span style=\"color: #008080; text-decoration-color: #008080; font-weight: bold\">816</span> - <span style=\"font-weight: bold\">{</span>pytorch_tabular:<span style=\"color: #008080; text-decoration-color: #008080; font-weight: bold\">382</span><span style=\"font-weight: bold\">}</span> - INFO - Finished Training GatedAdditiveTreeEnsembleModel          \n",
       "</pre>\n"
      ],
      "text/plain": [
       "\u001b[1;36m2025\u001b[0m-\u001b[1;36m02\u001b[0m-\u001b[1;36m26\u001b[0m \u001b[1;92m11:14:56\u001b[0m,\u001b[1;36m816\u001b[0m - \u001b[1m{\u001b[0mpytorch_tabular:\u001b[1;36m382\u001b[0m\u001b[1m}\u001b[0m - INFO - Finished Training GatedAdditiveTreeEnsembleModel          \n"
      ]
     },
     "metadata": {},
     "output_type": "display_data"
    },
    {
     "data": {
      "text/html": [
       "<pre style=\"white-space:pre;overflow-x:auto;line-height:normal;font-family:Menlo,'DejaVu Sans Mono',consolas,'Courier New',monospace\"><span style=\"color: #008080; text-decoration-color: #008080; font-weight: bold\">2025</span>-<span style=\"color: #008080; text-decoration-color: #008080; font-weight: bold\">02</span>-<span style=\"color: #008080; text-decoration-color: #008080; font-weight: bold\">26</span> <span style=\"color: #00ff00; text-decoration-color: #00ff00; font-weight: bold\">11:14:56</span>,<span style=\"color: #008080; text-decoration-color: #008080; font-weight: bold\">817</span> - <span style=\"font-weight: bold\">{</span>pytorch_tabular:<span style=\"color: #008080; text-decoration-color: #008080; font-weight: bold\">383</span><span style=\"font-weight: bold\">}</span> - INFO - Results: model: GatedAdditiveTreeEnsembleModel, # Params: \n",
       "<span style=\"color: #008080; text-decoration-color: #008080; font-weight: bold\">77</span> T, epochs: <span style=\"color: #008080; text-decoration-color: #008080; font-weight: bold\">300</span>, test_loss: <span style=\"color: #008080; text-decoration-color: #008080; font-weight: bold\">23.768470764160156</span>, test_mean_squared_error: <span style=\"color: #008080; text-decoration-color: #008080; font-weight: bold\">23.768470764160156</span>, time_taken:         \n",
       "<span style=\"color: #008080; text-decoration-color: #008080; font-weight: bold\">442.1575026512146</span>, time_taken_per_epoch: <span style=\"color: #008080; text-decoration-color: #008080; font-weight: bold\">1.4738583421707154</span>                                                        \n",
       "</pre>\n"
      ],
      "text/plain": [
       "\u001b[1;36m2025\u001b[0m-\u001b[1;36m02\u001b[0m-\u001b[1;36m26\u001b[0m \u001b[1;92m11:14:56\u001b[0m,\u001b[1;36m817\u001b[0m - \u001b[1m{\u001b[0mpytorch_tabular:\u001b[1;36m383\u001b[0m\u001b[1m}\u001b[0m - INFO - Results: model: GatedAdditiveTreeEnsembleModel, # Params: \n",
       "\u001b[1;36m77\u001b[0m T, epochs: \u001b[1;36m300\u001b[0m, test_loss: \u001b[1;36m23.768470764160156\u001b[0m, test_mean_squared_error: \u001b[1;36m23.768470764160156\u001b[0m, time_taken:         \n",
       "\u001b[1;36m442.1575026512146\u001b[0m, time_taken_per_epoch: \u001b[1;36m1.4738583421707154\u001b[0m                                                        \n"
      ]
     },
     "metadata": {},
     "output_type": "display_data"
    },
    {
     "data": {
      "text/html": [
       "<pre style=\"white-space:pre;overflow-x:auto;line-height:normal;font-family:Menlo,'DejaVu Sans Mono',consolas,'Courier New',monospace\"><span style=\"color: #008080; text-decoration-color: #008080; font-weight: bold\">2025</span>-<span style=\"color: #008080; text-decoration-color: #008080; font-weight: bold\">02</span>-<span style=\"color: #008080; text-decoration-color: #008080; font-weight: bold\">26</span> <span style=\"color: #00ff00; text-decoration-color: #00ff00; font-weight: bold\">11:14:56</span>,<span style=\"color: #008080; text-decoration-color: #008080; font-weight: bold\">833</span> - <span style=\"font-weight: bold\">{</span>pytorch_tabular:<span style=\"color: #008080; text-decoration-color: #008080; font-weight: bold\">328</span><span style=\"font-weight: bold\">}</span> - INFO - Training NODEModel                                        \n",
       "</pre>\n"
      ],
      "text/plain": [
       "\u001b[1;36m2025\u001b[0m-\u001b[1;36m02\u001b[0m-\u001b[1;36m26\u001b[0m \u001b[1;92m11:14:56\u001b[0m,\u001b[1;36m833\u001b[0m - \u001b[1m{\u001b[0mpytorch_tabular:\u001b[1;36m328\u001b[0m\u001b[1m}\u001b[0m - INFO - Training NODEModel                                        \n"
      ]
     },
     "metadata": {},
     "output_type": "display_data"
    },
    {
     "data": {
      "text/html": [
       "<pre style=\"white-space:pre;overflow-x:auto;line-height:normal;font-family:Menlo,'DejaVu Sans Mono',consolas,'Courier New',monospace\"><span style=\"color: #008080; text-decoration-color: #008080; font-weight: bold\">2025</span>-<span style=\"color: #008080; text-decoration-color: #008080; font-weight: bold\">02</span>-<span style=\"color: #008080; text-decoration-color: #008080; font-weight: bold\">26</span> <span style=\"color: #00ff00; text-decoration-color: #00ff00; font-weight: bold\">11:14:56</span>,<span style=\"color: #008080; text-decoration-color: #008080; font-weight: bold\">850</span> - <span style=\"font-weight: bold\">{</span>pytorch_tabular.models.node.node_model:<span style=\"color: #008080; text-decoration-color: #008080; font-weight: bold\">74</span><span style=\"font-weight: bold\">}</span> - INFO - Data Aware Initialization of NODE   \n",
       "using a forward pass with <span style=\"color: #008080; text-decoration-color: #008080; font-weight: bold\">2000</span> batch size<span style=\"color: #808000; text-decoration-color: #808000\">...</span>.                                                                      \n",
       "</pre>\n"
      ],
      "text/plain": [
       "\u001b[1;36m2025\u001b[0m-\u001b[1;36m02\u001b[0m-\u001b[1;36m26\u001b[0m \u001b[1;92m11:14:56\u001b[0m,\u001b[1;36m850\u001b[0m - \u001b[1m{\u001b[0mpytorch_tabular.models.node.node_model:\u001b[1;36m74\u001b[0m\u001b[1m}\u001b[0m - INFO - Data Aware Initialization of NODE   \n",
       "using a forward pass with \u001b[1;36m2000\u001b[0m batch size\u001b[33m...\u001b[0m.                                                                      \n"
      ]
     },
     "metadata": {},
     "output_type": "display_data"
    },
    {
     "data": {
      "application/vnd.jupyter.widget-view+json": {
       "model_id": "1346997710cb46cd8f786b2c58bf137b",
       "version_major": 2,
       "version_minor": 0
      },
      "text/plain": [
       "Finding best initial lr:   0%|          | 0/100 [00:00<?, ?it/s]"
      ]
     },
     "metadata": {},
     "output_type": "display_data"
    },
    {
     "data": {
      "text/html": [
       "<pre style=\"white-space:pre;overflow-x:auto;line-height:normal;font-family:Menlo,'DejaVu Sans Mono',consolas,'Courier New',monospace\"><span style=\"color: #008080; text-decoration-color: #008080; font-weight: bold\">2025</span>-<span style=\"color: #008080; text-decoration-color: #008080; font-weight: bold\">02</span>-<span style=\"color: #008080; text-decoration-color: #008080; font-weight: bold\">26</span> <span style=\"color: #00ff00; text-decoration-color: #00ff00; font-weight: bold\">11:15:03</span>,<span style=\"color: #008080; text-decoration-color: #008080; font-weight: bold\">264</span> - <span style=\"font-weight: bold\">{</span>pytorch_tabular.models.node.node_model:<span style=\"color: #008080; text-decoration-color: #008080; font-weight: bold\">74</span><span style=\"font-weight: bold\">}</span> - INFO - Data Aware Initialization of NODE   \n",
       "using a forward pass with <span style=\"color: #008080; text-decoration-color: #008080; font-weight: bold\">2000</span> batch size<span style=\"color: #808000; text-decoration-color: #808000\">...</span>.                                                                      \n",
       "</pre>\n"
      ],
      "text/plain": [
       "\u001b[1;36m2025\u001b[0m-\u001b[1;36m02\u001b[0m-\u001b[1;36m26\u001b[0m \u001b[1;92m11:15:03\u001b[0m,\u001b[1;36m264\u001b[0m - \u001b[1m{\u001b[0mpytorch_tabular.models.node.node_model:\u001b[1;36m74\u001b[0m\u001b[1m}\u001b[0m - INFO - Data Aware Initialization of NODE   \n",
       "using a forward pass with \u001b[1;36m2000\u001b[0m batch size\u001b[33m...\u001b[0m.                                                                      \n"
      ]
     },
     "metadata": {},
     "output_type": "display_data"
    },
    {
     "data": {
      "text/html": [
       "<pre style=\"white-space:pre;overflow-x:auto;line-height:normal;font-family:Menlo,'DejaVu Sans Mono',consolas,'Courier New',monospace\"><span style=\"color: #008080; text-decoration-color: #008080; font-weight: bold\">2025</span>-<span style=\"color: #008080; text-decoration-color: #008080; font-weight: bold\">02</span>-<span style=\"color: #008080; text-decoration-color: #008080; font-weight: bold\">26</span> <span style=\"color: #00ff00; text-decoration-color: #00ff00; font-weight: bold\">11:15:33</span>,<span style=\"color: #008080; text-decoration-color: #008080; font-weight: bold\">775</span> - <span style=\"font-weight: bold\">{</span>pytorch_tabular:<span style=\"color: #008080; text-decoration-color: #008080; font-weight: bold\">382</span><span style=\"font-weight: bold\">}</span> - INFO - Finished Training NODEModel                               \n",
       "</pre>\n"
      ],
      "text/plain": [
       "\u001b[1;36m2025\u001b[0m-\u001b[1;36m02\u001b[0m-\u001b[1;36m26\u001b[0m \u001b[1;92m11:15:33\u001b[0m,\u001b[1;36m775\u001b[0m - \u001b[1m{\u001b[0mpytorch_tabular:\u001b[1;36m382\u001b[0m\u001b[1m}\u001b[0m - INFO - Finished Training NODEModel                               \n"
      ]
     },
     "metadata": {},
     "output_type": "display_data"
    },
    {
     "data": {
      "text/html": [
       "<pre style=\"white-space:pre;overflow-x:auto;line-height:normal;font-family:Menlo,'DejaVu Sans Mono',consolas,'Courier New',monospace\"><span style=\"color: #008080; text-decoration-color: #008080; font-weight: bold\">2025</span>-<span style=\"color: #008080; text-decoration-color: #008080; font-weight: bold\">02</span>-<span style=\"color: #008080; text-decoration-color: #008080; font-weight: bold\">26</span> <span style=\"color: #00ff00; text-decoration-color: #00ff00; font-weight: bold\">11:15:33</span>,<span style=\"color: #008080; text-decoration-color: #008080; font-weight: bold\">775</span> - <span style=\"font-weight: bold\">{</span>pytorch_tabular:<span style=\"color: #008080; text-decoration-color: #008080; font-weight: bold\">383</span><span style=\"font-weight: bold\">}</span> - INFO - Results: model: NODEModel, # Params: <span style=\"color: #008080; text-decoration-color: #008080; font-weight: bold\">720</span> T, epochs: <span style=\"color: #008080; text-decoration-color: #008080; font-weight: bold\">49</span>,   \n",
       "test_loss: <span style=\"color: #008080; text-decoration-color: #008080; font-weight: bold\">23.749914169311523</span>, test_mean_squared_error: <span style=\"color: #008080; text-decoration-color: #008080; font-weight: bold\">23.749914169311523</span>, time_taken: <span style=\"color: #008080; text-decoration-color: #008080; font-weight: bold\">36.956703424453735</span>,        \n",
       "time_taken_per_epoch: <span style=\"color: #008080; text-decoration-color: #008080; font-weight: bold\">0.7542184372337497</span>                                                                           \n",
       "</pre>\n"
      ],
      "text/plain": [
       "\u001b[1;36m2025\u001b[0m-\u001b[1;36m02\u001b[0m-\u001b[1;36m26\u001b[0m \u001b[1;92m11:15:33\u001b[0m,\u001b[1;36m775\u001b[0m - \u001b[1m{\u001b[0mpytorch_tabular:\u001b[1;36m383\u001b[0m\u001b[1m}\u001b[0m - INFO - Results: model: NODEModel, # Params: \u001b[1;36m720\u001b[0m T, epochs: \u001b[1;36m49\u001b[0m,   \n",
       "test_loss: \u001b[1;36m23.749914169311523\u001b[0m, test_mean_squared_error: \u001b[1;36m23.749914169311523\u001b[0m, time_taken: \u001b[1;36m36.956703424453735\u001b[0m,        \n",
       "time_taken_per_epoch: \u001b[1;36m0.7542184372337497\u001b[0m                                                                           \n"
      ]
     },
     "metadata": {},
     "output_type": "display_data"
    },
    {
     "data": {
      "text/html": [
       "<pre style=\"white-space:pre;overflow-x:auto;line-height:normal;font-family:Menlo,'DejaVu Sans Mono',consolas,'Courier New',monospace\"><span style=\"color: #008080; text-decoration-color: #008080; font-weight: bold\">2025</span>-<span style=\"color: #008080; text-decoration-color: #008080; font-weight: bold\">02</span>-<span style=\"color: #008080; text-decoration-color: #008080; font-weight: bold\">26</span> <span style=\"color: #00ff00; text-decoration-color: #00ff00; font-weight: bold\">11:15:33</span>,<span style=\"color: #008080; text-decoration-color: #008080; font-weight: bold\">790</span> - <span style=\"font-weight: bold\">{</span>pytorch_tabular:<span style=\"color: #008080; text-decoration-color: #008080; font-weight: bold\">328</span><span style=\"font-weight: bold\">}</span> - INFO - Training TabNetModel                                      \n",
       "</pre>\n"
      ],
      "text/plain": [
       "\u001b[1;36m2025\u001b[0m-\u001b[1;36m02\u001b[0m-\u001b[1;36m26\u001b[0m \u001b[1;92m11:15:33\u001b[0m,\u001b[1;36m790\u001b[0m - \u001b[1m{\u001b[0mpytorch_tabular:\u001b[1;36m328\u001b[0m\u001b[1m}\u001b[0m - INFO - Training TabNetModel                                      \n"
      ]
     },
     "metadata": {},
     "output_type": "display_data"
    },
    {
     "data": {
      "application/vnd.jupyter.widget-view+json": {
       "model_id": "87f7823a9f1a4029a1732d495ff038bc",
       "version_major": 2,
       "version_minor": 0
      },
      "text/plain": [
       "Finding best initial lr:   0%|          | 0/100 [00:00<?, ?it/s]"
      ]
     },
     "metadata": {},
     "output_type": "display_data"
    },
    {
     "data": {
      "text/html": [
       "<pre style=\"white-space:pre;overflow-x:auto;line-height:normal;font-family:Menlo,'DejaVu Sans Mono',consolas,'Courier New',monospace\"><span style=\"color: #008080; text-decoration-color: #008080; font-weight: bold\">2025</span>-<span style=\"color: #008080; text-decoration-color: #008080; font-weight: bold\">02</span>-<span style=\"color: #008080; text-decoration-color: #008080; font-weight: bold\">26</span> <span style=\"color: #00ff00; text-decoration-color: #00ff00; font-weight: bold\">11:16:28</span>,<span style=\"color: #008080; text-decoration-color: #008080; font-weight: bold\">004</span> - <span style=\"font-weight: bold\">{</span>pytorch_tabular:<span style=\"color: #008080; text-decoration-color: #008080; font-weight: bold\">382</span><span style=\"font-weight: bold\">}</span> - INFO - Finished Training TabNetModel                             \n",
       "</pre>\n"
      ],
      "text/plain": [
       "\u001b[1;36m2025\u001b[0m-\u001b[1;36m02\u001b[0m-\u001b[1;36m26\u001b[0m \u001b[1;92m11:16:28\u001b[0m,\u001b[1;36m004\u001b[0m - \u001b[1m{\u001b[0mpytorch_tabular:\u001b[1;36m382\u001b[0m\u001b[1m}\u001b[0m - INFO - Finished Training TabNetModel                             \n"
      ]
     },
     "metadata": {},
     "output_type": "display_data"
    },
    {
     "data": {
      "text/html": [
       "<pre style=\"white-space:pre;overflow-x:auto;line-height:normal;font-family:Menlo,'DejaVu Sans Mono',consolas,'Courier New',monospace\"><span style=\"color: #008080; text-decoration-color: #008080; font-weight: bold\">2025</span>-<span style=\"color: #008080; text-decoration-color: #008080; font-weight: bold\">02</span>-<span style=\"color: #008080; text-decoration-color: #008080; font-weight: bold\">26</span> <span style=\"color: #00ff00; text-decoration-color: #00ff00; font-weight: bold\">11:16:28</span>,<span style=\"color: #008080; text-decoration-color: #008080; font-weight: bold\">006</span> - <span style=\"font-weight: bold\">{</span>pytorch_tabular:<span style=\"color: #008080; text-decoration-color: #008080; font-weight: bold\">383</span><span style=\"font-weight: bold\">}</span> - INFO - Results: model: TabNetModel, # Params: <span style=\"color: #008080; text-decoration-color: #008080; font-weight: bold\">6</span> T, epochs: <span style=\"color: #008080; text-decoration-color: #008080; font-weight: bold\">138</span>,  \n",
       "test_loss: <span style=\"color: #008080; text-decoration-color: #008080; font-weight: bold\">23.407140731811523</span>, test_mean_squared_error: <span style=\"color: #008080; text-decoration-color: #008080; font-weight: bold\">23.407140731811523</span>, time_taken: <span style=\"color: #008080; text-decoration-color: #008080; font-weight: bold\">54.22813892364502</span>,         \n",
       "time_taken_per_epoch: <span style=\"color: #008080; text-decoration-color: #008080; font-weight: bold\">0.39295752843221027</span>                                                                          \n",
       "</pre>\n"
      ],
      "text/plain": [
       "\u001b[1;36m2025\u001b[0m-\u001b[1;36m02\u001b[0m-\u001b[1;36m26\u001b[0m \u001b[1;92m11:16:28\u001b[0m,\u001b[1;36m006\u001b[0m - \u001b[1m{\u001b[0mpytorch_tabular:\u001b[1;36m383\u001b[0m\u001b[1m}\u001b[0m - INFO - Results: model: TabNetModel, # Params: \u001b[1;36m6\u001b[0m T, epochs: \u001b[1;36m138\u001b[0m,  \n",
       "test_loss: \u001b[1;36m23.407140731811523\u001b[0m, test_mean_squared_error: \u001b[1;36m23.407140731811523\u001b[0m, time_taken: \u001b[1;36m54.22813892364502\u001b[0m,         \n",
       "time_taken_per_epoch: \u001b[1;36m0.39295752843221027\u001b[0m                                                                          \n"
      ]
     },
     "metadata": {},
     "output_type": "display_data"
    },
    {
     "data": {
      "text/html": [
       "<pre style=\"white-space:pre;overflow-x:auto;line-height:normal;font-family:Menlo,'DejaVu Sans Mono',consolas,'Courier New',monospace\"><span style=\"color: #008080; text-decoration-color: #008080; font-weight: bold\">2025</span>-<span style=\"color: #008080; text-decoration-color: #008080; font-weight: bold\">02</span>-<span style=\"color: #008080; text-decoration-color: #008080; font-weight: bold\">26</span> <span style=\"color: #00ff00; text-decoration-color: #00ff00; font-weight: bold\">11:16:28</span>,<span style=\"color: #008080; text-decoration-color: #008080; font-weight: bold\">022</span> - <span style=\"font-weight: bold\">{</span>pytorch_tabular:<span style=\"color: #008080; text-decoration-color: #008080; font-weight: bold\">328</span><span style=\"font-weight: bold\">}</span> - INFO - Training TabTransformerModel                              \n",
       "</pre>\n"
      ],
      "text/plain": [
       "\u001b[1;36m2025\u001b[0m-\u001b[1;36m02\u001b[0m-\u001b[1;36m26\u001b[0m \u001b[1;92m11:16:28\u001b[0m,\u001b[1;36m022\u001b[0m - \u001b[1m{\u001b[0mpytorch_tabular:\u001b[1;36m328\u001b[0m\u001b[1m}\u001b[0m - INFO - Training TabTransformerModel                              \n"
      ]
     },
     "metadata": {},
     "output_type": "display_data"
    },
    {
     "data": {
      "application/vnd.jupyter.widget-view+json": {
       "model_id": "797674ec34a84223b54e7c0e10b97881",
       "version_major": 2,
       "version_minor": 0
      },
      "text/plain": [
       "Finding best initial lr:   0%|          | 0/100 [00:00<?, ?it/s]"
      ]
     },
     "metadata": {},
     "output_type": "display_data"
    },
    {
     "data": {
      "text/html": [
       "<pre style=\"white-space:pre;overflow-x:auto;line-height:normal;font-family:Menlo,'DejaVu Sans Mono',consolas,'Courier New',monospace\"><span style=\"color: #008080; text-decoration-color: #008080; font-weight: bold\">2025</span>-<span style=\"color: #008080; text-decoration-color: #008080; font-weight: bold\">02</span>-<span style=\"color: #008080; text-decoration-color: #008080; font-weight: bold\">26</span> <span style=\"color: #00ff00; text-decoration-color: #00ff00; font-weight: bold\">11:16:48</span>,<span style=\"color: #008080; text-decoration-color: #008080; font-weight: bold\">204</span> - <span style=\"font-weight: bold\">{</span>pytorch_tabular:<span style=\"color: #008080; text-decoration-color: #008080; font-weight: bold\">382</span><span style=\"font-weight: bold\">}</span> - INFO - Finished Training TabTransformerModel                     \n",
       "</pre>\n"
      ],
      "text/plain": [
       "\u001b[1;36m2025\u001b[0m-\u001b[1;36m02\u001b[0m-\u001b[1;36m26\u001b[0m \u001b[1;92m11:16:48\u001b[0m,\u001b[1;36m204\u001b[0m - \u001b[1m{\u001b[0mpytorch_tabular:\u001b[1;36m382\u001b[0m\u001b[1m}\u001b[0m - INFO - Finished Training TabTransformerModel                     \n"
      ]
     },
     "metadata": {},
     "output_type": "display_data"
    },
    {
     "data": {
      "text/html": [
       "<pre style=\"white-space:pre;overflow-x:auto;line-height:normal;font-family:Menlo,'DejaVu Sans Mono',consolas,'Courier New',monospace\"><span style=\"color: #008080; text-decoration-color: #008080; font-weight: bold\">2025</span>-<span style=\"color: #008080; text-decoration-color: #008080; font-weight: bold\">02</span>-<span style=\"color: #008080; text-decoration-color: #008080; font-weight: bold\">26</span> <span style=\"color: #00ff00; text-decoration-color: #00ff00; font-weight: bold\">11:16:48</span>,<span style=\"color: #008080; text-decoration-color: #008080; font-weight: bold\">205</span> - <span style=\"font-weight: bold\">{</span>pytorch_tabular:<span style=\"color: #008080; text-decoration-color: #008080; font-weight: bold\">383</span><span style=\"font-weight: bold\">}</span> - INFO - Results: model: TabTransformerModel, # Params: <span style=\"color: #008080; text-decoration-color: #008080; font-weight: bold\">271</span> T,     \n",
       "epochs: <span style=\"color: #008080; text-decoration-color: #008080; font-weight: bold\">49</span>, test_loss: <span style=\"color: #008080; text-decoration-color: #008080; font-weight: bold\">7.394779682159424</span>, test_mean_squared_error: <span style=\"color: #008080; text-decoration-color: #008080; font-weight: bold\">7.394779682159424</span>, time_taken:                  \n",
       "<span style=\"color: #008080; text-decoration-color: #008080; font-weight: bold\">20.19705104827881</span>, time_taken_per_epoch: <span style=\"color: #008080; text-decoration-color: #008080; font-weight: bold\">0.4121847152709961</span>                                                        \n",
       "</pre>\n"
      ],
      "text/plain": [
       "\u001b[1;36m2025\u001b[0m-\u001b[1;36m02\u001b[0m-\u001b[1;36m26\u001b[0m \u001b[1;92m11:16:48\u001b[0m,\u001b[1;36m205\u001b[0m - \u001b[1m{\u001b[0mpytorch_tabular:\u001b[1;36m383\u001b[0m\u001b[1m}\u001b[0m - INFO - Results: model: TabTransformerModel, # Params: \u001b[1;36m271\u001b[0m T,     \n",
       "epochs: \u001b[1;36m49\u001b[0m, test_loss: \u001b[1;36m7.394779682159424\u001b[0m, test_mean_squared_error: \u001b[1;36m7.394779682159424\u001b[0m, time_taken:                  \n",
       "\u001b[1;36m20.19705104827881\u001b[0m, time_taken_per_epoch: \u001b[1;36m0.4121847152709961\u001b[0m                                                        \n"
      ]
     },
     "metadata": {},
     "output_type": "display_data"
    },
    {
     "data": {
      "text/html": [
       "<pre style=\"white-space:pre;overflow-x:auto;line-height:normal;font-family:Menlo,'DejaVu Sans Mono',consolas,'Courier New',monospace\"></pre>\n"
      ],
      "text/plain": []
     },
     "metadata": {},
     "output_type": "display_data"
    },
    {
     "data": {
      "text/html": [
       "<pre style=\"white-space:pre;overflow-x:auto;line-height:normal;font-family:Menlo,'DejaVu Sans Mono',consolas,'Courier New',monospace\"><span style=\"color: #008080; text-decoration-color: #008080; font-weight: bold\">2025</span>-<span style=\"color: #008080; text-decoration-color: #008080; font-weight: bold\">02</span>-<span style=\"color: #008080; text-decoration-color: #008080; font-weight: bold\">26</span> <span style=\"color: #00ff00; text-decoration-color: #00ff00; font-weight: bold\">11:16:48</span>,<span style=\"color: #008080; text-decoration-color: #008080; font-weight: bold\">207</span> - <span style=\"font-weight: bold\">{</span>pytorch_tabular:<span style=\"color: #008080; text-decoration-color: #008080; font-weight: bold\">388</span><span style=\"font-weight: bold\">}</span> - INFO - Model Sweep Finished                                      \n",
       "</pre>\n"
      ],
      "text/plain": [
       "\u001b[1;36m2025\u001b[0m-\u001b[1;36m02\u001b[0m-\u001b[1;36m26\u001b[0m \u001b[1;92m11:16:48\u001b[0m,\u001b[1;36m207\u001b[0m - \u001b[1m{\u001b[0mpytorch_tabular:\u001b[1;36m388\u001b[0m\u001b[1m}\u001b[0m - INFO - Model Sweep Finished                                      \n"
      ]
     },
     "metadata": {},
     "output_type": "display_data"
    },
    {
     "data": {
      "text/html": [
       "<pre style=\"white-space:pre;overflow-x:auto;line-height:normal;font-family:Menlo,'DejaVu Sans Mono',consolas,'Courier New',monospace\"><span style=\"color: #008080; text-decoration-color: #008080; font-weight: bold\">2025</span>-<span style=\"color: #008080; text-decoration-color: #008080; font-weight: bold\">02</span>-<span style=\"color: #008080; text-decoration-color: #008080; font-weight: bold\">26</span> <span style=\"color: #00ff00; text-decoration-color: #00ff00; font-weight: bold\">11:16:48</span>,<span style=\"color: #008080; text-decoration-color: #008080; font-weight: bold\">207</span> - <span style=\"font-weight: bold\">{</span>pytorch_tabular:<span style=\"color: #008080; text-decoration-color: #008080; font-weight: bold\">389</span><span style=\"font-weight: bold\">}</span> - INFO - Best Model: DANetModel                                    \n",
       "</pre>\n"
      ],
      "text/plain": [
       "\u001b[1;36m2025\u001b[0m-\u001b[1;36m02\u001b[0m-\u001b[1;36m26\u001b[0m \u001b[1;92m11:16:48\u001b[0m,\u001b[1;36m207\u001b[0m - \u001b[1m{\u001b[0mpytorch_tabular:\u001b[1;36m389\u001b[0m\u001b[1m}\u001b[0m - INFO - Best Model: DANetModel                                    \n"
      ]
     },
     "metadata": {},
     "output_type": "display_data"
    },
    {
     "name": "stdout",
     "output_type": "stream",
     "text": [
      "Total time: 768.0599131584167\n"
     ]
    }
   ],
   "source": [
    "tic = time.time()\n",
    "sweep_df, best_model = model_sweep(\n",
    "    task='classification' if model_type == 'classifier' else 'regression',  # 'classification' or 'regression'\n",
    "    train=train,\n",
    "    test=valid,\n",
    "    data_config=data_config,\n",
    "    optimizer_config=optimizer_config,\n",
    "    trainer_config=trainer_config,\n",
    "    model_list='high_memory',  # The list of models to compare. This can be one of the presets defined in pytorch_tabular.tabular_model_sweep.MODEL_SWEEP_PRESETS or a list of ModelConfig objects. Defaults to \"lite\".\n",
    "    verbose=True\n",
    ")\n",
    "print(f'Total time: {time.time() - tic}')"
   ]
  },
  {
   "cell_type": "markdown",
   "id": "41f86294-0e61-476e-bff5-af43ddca31c1",
   "metadata": {},
   "source": [
    "O melhor checkpoint de todos treinamentos será armazenado na variável de output, que neste caso estamos chamando de \"best_model\"."
   ]
  },
  {
   "cell_type": "code",
   "execution_count": 14,
   "id": "de2217e8-798a-4ddf-b69a-11e4254b49ac",
   "metadata": {},
   "outputs": [
    {
     "data": {
      "text/html": [
       "<pre style=\"white-space:pre;overflow-x:auto;line-height:normal;font-family:Menlo,'DejaVu Sans Mono',consolas,'Courier New',monospace\">┏━━━━━━━━━━━━━━━━━━━━━━━━━━━┳━━━━━━━━━━━━━━━━━━━━━━━━━━━┓\n",
       "┃<span style=\"font-weight: bold\">        Test metric        </span>┃<span style=\"font-weight: bold\">       DataLoader 0        </span>┃\n",
       "┡━━━━━━━━━━━━━━━━━━━━━━━━━━━╇━━━━━━━━━━━━━━━━━━━━━━━━━━━┩\n",
       "│<span style=\"color: #008080; text-decoration-color: #008080\">         test_loss         </span>│<span style=\"color: #800080; text-decoration-color: #800080\">    1.1023461818695068     </span>│\n",
       "│<span style=\"color: #008080; text-decoration-color: #008080\">  test_mean_squared_error  </span>│<span style=\"color: #800080; text-decoration-color: #800080\">    1.1023461818695068     </span>│\n",
       "└───────────────────────────┴───────────────────────────┘\n",
       "</pre>\n"
      ],
      "text/plain": [
       "┏━━━━━━━━━━━━━━━━━━━━━━━━━━━┳━━━━━━━━━━━━━━━━━━━━━━━━━━━┓\n",
       "┃\u001b[1m \u001b[0m\u001b[1m       Test metric       \u001b[0m\u001b[1m \u001b[0m┃\u001b[1m \u001b[0m\u001b[1m      DataLoader 0       \u001b[0m\u001b[1m \u001b[0m┃\n",
       "┡━━━━━━━━━━━━━━━━━━━━━━━━━━━╇━━━━━━━━━━━━━━━━━━━━━━━━━━━┩\n",
       "│\u001b[36m \u001b[0m\u001b[36m        test_loss        \u001b[0m\u001b[36m \u001b[0m│\u001b[35m \u001b[0m\u001b[35m   1.1023461818695068    \u001b[0m\u001b[35m \u001b[0m│\n",
       "│\u001b[36m \u001b[0m\u001b[36m test_mean_squared_error \u001b[0m\u001b[36m \u001b[0m│\u001b[35m \u001b[0m\u001b[35m   1.1023461818695068    \u001b[0m\u001b[35m \u001b[0m│\n",
       "└───────────────────────────┴───────────────────────────┘\n"
      ]
     },
     "metadata": {},
     "output_type": "display_data"
    },
    {
     "name": "stdout",
     "output_type": "stream",
     "text": [
      "Test MSE: 1.102\n",
      "Test inference error (RMSE): ±1.049926750716214\n"
     ]
    }
   ],
   "source": [
    "test_metric = best_model.evaluate(test)\n",
    "if model_type == 'regressor':\n",
    "    print('Test MSE: %.3f' % (test_metric[0]['test_mean_squared_error']))\n",
    "    print(f'Test inference error (RMSE): ±{math.sqrt(test_metric[0][\"test_mean_squared_error\"])}')"
   ]
  },
  {
   "cell_type": "markdown",
   "id": "56fb7720-6c4e-4e46-8f80-519692c1c2e2",
   "metadata": {},
   "source": [
    "Lembrando que: Cada vez que rodar o treinamento o resultado pode ser diferente!"
   ]
  },
  {
   "cell_type": "code",
   "execution_count": 15,
   "id": "5c8a2493-e2f3-49a2-9ddc-e063f80c8d84",
   "metadata": {},
   "outputs": [
    {
     "data": {
      "text/html": [
       "<style type=\"text/css\">\n",
       "#T_0e5ba_row0_col3 {\n",
       "  background-color: #a50026;\n",
       "  color: #f1f1f1;\n",
       "  background-color: #006837;\n",
       "  color: #f1f1f1;\n",
       "}\n",
       "#T_0e5ba_row0_col5 {\n",
       "  background-color: #fee797;\n",
       "  color: #000000;\n",
       "}\n",
       "#T_0e5ba_row1_col3 {\n",
       "  background-color: #e14430;\n",
       "  color: #f1f1f1;\n",
       "  background-color: #33a456;\n",
       "  color: #f1f1f1;\n",
       "}\n",
       "#T_0e5ba_row1_col5 {\n",
       "  background-color: #2aa054;\n",
       "  color: #f1f1f1;\n",
       "}\n",
       "#T_0e5ba_row2_col3 {\n",
       "  background-color: #fba05b;\n",
       "  color: #000000;\n",
       "  background-color: #98d368;\n",
       "  color: #000000;\n",
       "}\n",
       "#T_0e5ba_row2_col5 {\n",
       "  background-color: #51b35e;\n",
       "  color: #f1f1f1;\n",
       "}\n",
       "#T_0e5ba_row3_col3 {\n",
       "  background-color: #07753e;\n",
       "  color: #f1f1f1;\n",
       "  background-color: #b30d26;\n",
       "  color: #f1f1f1;\n",
       "}\n",
       "#T_0e5ba_row3_col5 {\n",
       "  background-color: #33a456;\n",
       "  color: #f1f1f1;\n",
       "}\n",
       "#T_0e5ba_row4_col3 {\n",
       "  background-color: #05713c;\n",
       "  color: #f1f1f1;\n",
       "  background-color: #af0926;\n",
       "  color: #f1f1f1;\n",
       "}\n",
       "#T_0e5ba_row4_col5 {\n",
       "  background-color: #05713c;\n",
       "  color: #f1f1f1;\n",
       "}\n",
       "#T_0e5ba_row5_col3 {\n",
       "  background-color: #04703b;\n",
       "  color: #f1f1f1;\n",
       "  background-color: #ad0826;\n",
       "  color: #f1f1f1;\n",
       "}\n",
       "#T_0e5ba_row5_col5 {\n",
       "  background-color: #45ad5b;\n",
       "  color: #f1f1f1;\n",
       "}\n",
       "#T_0e5ba_row6_col3 {\n",
       "  background-color: #026c39;\n",
       "  color: #f1f1f1;\n",
       "  background-color: #a90426;\n",
       "  color: #f1f1f1;\n",
       "}\n",
       "#T_0e5ba_row6_col5 {\n",
       "  background-color: #006837;\n",
       "  color: #f1f1f1;\n",
       "}\n",
       "#T_0e5ba_row7_col3, #T_0e5ba_row8_col3 {\n",
       "  background-color: #006837;\n",
       "  color: #f1f1f1;\n",
       "  background-color: #a50026;\n",
       "  color: #f1f1f1;\n",
       "}\n",
       "#T_0e5ba_row7_col5 {\n",
       "  background-color: #e8f59f;\n",
       "  color: #000000;\n",
       "}\n",
       "#T_0e5ba_row8_col5 {\n",
       "  background-color: #a50026;\n",
       "  color: #f1f1f1;\n",
       "}\n",
       "</style>\n",
       "<table id=\"T_0e5ba\">\n",
       "  <thead>\n",
       "    <tr>\n",
       "      <th class=\"blank level0\" >&nbsp;</th>\n",
       "      <th id=\"T_0e5ba_level0_col0\" class=\"col_heading level0 col0\" >model</th>\n",
       "      <th id=\"T_0e5ba_level0_col1\" class=\"col_heading level0 col1\" ># Params</th>\n",
       "      <th id=\"T_0e5ba_level0_col2\" class=\"col_heading level0 col2\" >epochs</th>\n",
       "      <th id=\"T_0e5ba_level0_col3\" class=\"col_heading level0 col3\" >test_loss</th>\n",
       "      <th id=\"T_0e5ba_level0_col4\" class=\"col_heading level0 col4\" >test_mean_squared_error</th>\n",
       "      <th id=\"T_0e5ba_level0_col5\" class=\"col_heading level0 col5\" >time_taken_per_epoch</th>\n",
       "      <th id=\"T_0e5ba_level0_col6\" class=\"col_heading level0 col6\" >test_rmse</th>\n",
       "    </tr>\n",
       "  </thead>\n",
       "  <tbody>\n",
       "    <tr>\n",
       "      <th id=\"T_0e5ba_level0_row0\" class=\"row_heading level0 row0\" >2</th>\n",
       "      <td id=\"T_0e5ba_row0_col0\" class=\"data row0 col0\" >DANetModel</td>\n",
       "      <td id=\"T_0e5ba_row0_col1\" class=\"data row0 col1\" >426 T</td>\n",
       "      <td id=\"T_0e5ba_row0_col2\" class=\"data row0 col2\" >67</td>\n",
       "      <td id=\"T_0e5ba_row0_col3\" class=\"data row0 col3\" >1.102346</td>\n",
       "      <td id=\"T_0e5ba_row0_col4\" class=\"data row0 col4\" >1.102346</td>\n",
       "      <td id=\"T_0e5ba_row0_col5\" class=\"data row0 col5\" >0.927532</td>\n",
       "      <td id=\"T_0e5ba_row0_col6\" class=\"data row0 col6\" >1.049927</td>\n",
       "    </tr>\n",
       "    <tr>\n",
       "      <th id=\"T_0e5ba_level0_row1\" class=\"row_heading level0 row1\" >4</th>\n",
       "      <td id=\"T_0e5ba_row1_col0\" class=\"data row1 col0\" >GANDALFModel</td>\n",
       "      <td id=\"T_0e5ba_row1_col1\" class=\"data row1 col1\" >7 T</td>\n",
       "      <td id=\"T_0e5ba_row1_col2\" class=\"data row1 col2\" >49</td>\n",
       "      <td id=\"T_0e5ba_row1_col3\" class=\"data row1 col3\" >4.200052</td>\n",
       "      <td id=\"T_0e5ba_row1_col4\" class=\"data row1 col4\" >4.200052</td>\n",
       "      <td id=\"T_0e5ba_row1_col5\" class=\"data row1 col5\" >0.348009</td>\n",
       "      <td id=\"T_0e5ba_row1_col6\" class=\"data row1 col6\" >2.049403</td>\n",
       "    </tr>\n",
       "    <tr>\n",
       "      <th id=\"T_0e5ba_level0_row2\" class=\"row_heading level0 row2\" >8</th>\n",
       "      <td id=\"T_0e5ba_row2_col0\" class=\"data row2 col0\" >TabTransformerModel</td>\n",
       "      <td id=\"T_0e5ba_row2_col1\" class=\"data row2 col1\" >271 T</td>\n",
       "      <td id=\"T_0e5ba_row2_col2\" class=\"data row2 col2\" >49</td>\n",
       "      <td id=\"T_0e5ba_row2_col3\" class=\"data row2 col3\" >7.394780</td>\n",
       "      <td id=\"T_0e5ba_row2_col4\" class=\"data row2 col4\" >7.394780</td>\n",
       "      <td id=\"T_0e5ba_row2_col5\" class=\"data row2 col5\" >0.412185</td>\n",
       "      <td id=\"T_0e5ba_row2_col6\" class=\"data row2 col6\" >2.719334</td>\n",
       "    </tr>\n",
       "    <tr>\n",
       "      <th id=\"T_0e5ba_level0_row3\" class=\"row_heading level0 row3\" >3</th>\n",
       "      <td id=\"T_0e5ba_row3_col0\" class=\"data row3 col0\" >FTTransformerModel</td>\n",
       "      <td id=\"T_0e5ba_row3_col1\" class=\"data row3 col1\" >272 T</td>\n",
       "      <td id=\"T_0e5ba_row3_col2\" class=\"data row3 col2\" >300</td>\n",
       "      <td id=\"T_0e5ba_row3_col3\" class=\"data row3 col3\" >23.130312</td>\n",
       "      <td id=\"T_0e5ba_row3_col4\" class=\"data row3 col4\" >23.130312</td>\n",
       "      <td id=\"T_0e5ba_row3_col5\" class=\"data row3 col5\" >0.364859</td>\n",
       "      <td id=\"T_0e5ba_row3_col6\" class=\"data row3 col6\" >4.809398</td>\n",
       "    </tr>\n",
       "    <tr>\n",
       "      <th id=\"T_0e5ba_level0_row4\" class=\"row_heading level0 row4\" >0</th>\n",
       "      <td id=\"T_0e5ba_row4_col0\" class=\"data row4 col0\" >AutoIntModel</td>\n",
       "      <td id=\"T_0e5ba_row4_col1\" class=\"data row4 col1\" >14 T</td>\n",
       "      <td id=\"T_0e5ba_row4_col2\" class=\"data row4 col2\" >61</td>\n",
       "      <td id=\"T_0e5ba_row4_col3\" class=\"data row4 col3\" >23.240673</td>\n",
       "      <td id=\"T_0e5ba_row4_col4\" class=\"data row4 col4\" >23.240673</td>\n",
       "      <td id=\"T_0e5ba_row4_col5\" class=\"data row4 col5\" >0.216004</td>\n",
       "      <td id=\"T_0e5ba_row4_col6\" class=\"data row4 col6\" >4.820858</td>\n",
       "    </tr>\n",
       "    <tr>\n",
       "      <th id=\"T_0e5ba_level0_row5\" class=\"row_heading level0 row5\" >7</th>\n",
       "      <td id=\"T_0e5ba_row5_col0\" class=\"data row5 col0\" >TabNetModel</td>\n",
       "      <td id=\"T_0e5ba_row5_col1\" class=\"data row5 col1\" >6 T</td>\n",
       "      <td id=\"T_0e5ba_row5_col2\" class=\"data row5 col2\" >138</td>\n",
       "      <td id=\"T_0e5ba_row5_col3\" class=\"data row5 col3\" >23.407141</td>\n",
       "      <td id=\"T_0e5ba_row5_col4\" class=\"data row5 col4\" >23.407141</td>\n",
       "      <td id=\"T_0e5ba_row5_col5\" class=\"data row5 col5\" >0.392958</td>\n",
       "      <td id=\"T_0e5ba_row5_col6\" class=\"data row5 col6\" >4.838093</td>\n",
       "    </tr>\n",
       "    <tr>\n",
       "      <th id=\"T_0e5ba_level0_row6\" class=\"row_heading level0 row6\" >1</th>\n",
       "      <td id=\"T_0e5ba_row6_col0\" class=\"data row6 col0\" >CategoryEmbeddingModel</td>\n",
       "      <td id=\"T_0e5ba_row6_col1\" class=\"data row6 col1\" >12 T</td>\n",
       "      <td id=\"T_0e5ba_row6_col2\" class=\"data row6 col2\" >66</td>\n",
       "      <td id=\"T_0e5ba_row6_col3\" class=\"data row6 col3\" >23.572212</td>\n",
       "      <td id=\"T_0e5ba_row6_col4\" class=\"data row6 col4\" >23.572212</td>\n",
       "      <td id=\"T_0e5ba_row6_col5\" class=\"data row6 col5\" >0.190715</td>\n",
       "      <td id=\"T_0e5ba_row6_col6\" class=\"data row6 col6\" >4.855122</td>\n",
       "    </tr>\n",
       "    <tr>\n",
       "      <th id=\"T_0e5ba_level0_row7\" class=\"row_heading level0 row7\" >6</th>\n",
       "      <td id=\"T_0e5ba_row7_col0\" class=\"data row7 col0\" >NODEModel</td>\n",
       "      <td id=\"T_0e5ba_row7_col1\" class=\"data row7 col1\" >720 T</td>\n",
       "      <td id=\"T_0e5ba_row7_col2\" class=\"data row7 col2\" >49</td>\n",
       "      <td id=\"T_0e5ba_row7_col3\" class=\"data row7 col3\" >23.749914</td>\n",
       "      <td id=\"T_0e5ba_row7_col4\" class=\"data row7 col4\" >23.749914</td>\n",
       "      <td id=\"T_0e5ba_row7_col5\" class=\"data row7 col5\" >0.754218</td>\n",
       "      <td id=\"T_0e5ba_row7_col6\" class=\"data row7 col6\" >4.873388</td>\n",
       "    </tr>\n",
       "    <tr>\n",
       "      <th id=\"T_0e5ba_level0_row8\" class=\"row_heading level0 row8\" >5</th>\n",
       "      <td id=\"T_0e5ba_row8_col0\" class=\"data row8 col0\" >GatedAdditiveTreeEnsembleModel</td>\n",
       "      <td id=\"T_0e5ba_row8_col1\" class=\"data row8 col1\" >77 T</td>\n",
       "      <td id=\"T_0e5ba_row8_col2\" class=\"data row8 col2\" >300</td>\n",
       "      <td id=\"T_0e5ba_row8_col3\" class=\"data row8 col3\" >23.768471</td>\n",
       "      <td id=\"T_0e5ba_row8_col4\" class=\"data row8 col4\" >23.768471</td>\n",
       "      <td id=\"T_0e5ba_row8_col5\" class=\"data row8 col5\" >1.473858</td>\n",
       "      <td id=\"T_0e5ba_row8_col6\" class=\"data row8 col6\" >4.875292</td>\n",
       "    </tr>\n",
       "  </tbody>\n",
       "</table>\n"
      ],
      "text/plain": [
       "<pandas.io.formats.style.Styler at 0x7753e1586f50>"
      ]
     },
     "execution_count": 15,
     "metadata": {},
     "output_type": "execute_result"
    }
   ],
   "source": [
    "# Replace \"OOM\" with 0.0\n",
    "sweep_df.replace(['OOM', np.nan], 0.0, inplace=True)\n",
    "sweep_df.replace([np.inf], 999., inplace=True)\n",
    "\n",
    "if model_type == 'regressor':\n",
    "    sweep_df['test_rmse'] = np.sqrt(sweep_df['test_mean_squared_error'])\n",
    "\n",
    "sweep_df.drop(columns=['params', 'time_taken']).sort_values(\n",
    "    'test_accuracy' if model_type == 'classifier' else 'test_loss', ascending=False if model_type == 'classifier' else True).style.background_gradient(\n",
    "    subset=['test_accuracy' if model_type == 'classifier' else 'test_loss'], cmap='RdYlGn'\n",
    ").background_gradient(subset=['time_taken_per_epoch', 'test_loss'], cmap='RdYlGn_r')"
   ]
  },
  {
   "cell_type": "code",
   "execution_count": 16,
   "id": "b72c4c16-0908-4184-85be-d188a30c7aa6",
   "metadata": {},
   "outputs": [
    {
     "data": {
      "text/html": [
       "<pre style=\"white-space:pre;overflow-x:auto;line-height:normal;font-family:Menlo,'DejaVu Sans Mono',consolas,'Courier New',monospace\"><span style=\"color: #008080; text-decoration-color: #008080; font-weight: bold\">2025</span>-<span style=\"color: #008080; text-decoration-color: #008080; font-weight: bold\">02</span>-<span style=\"color: #008080; text-decoration-color: #008080; font-weight: bold\">26</span> <span style=\"color: #00ff00; text-decoration-color: #00ff00; font-weight: bold\">11:16:48</span>,<span style=\"color: #008080; text-decoration-color: #008080; font-weight: bold\">506</span> - <span style=\"font-weight: bold\">{</span>pytorch_tabular.tabular_model:<span style=\"color: #008080; text-decoration-color: #008080; font-weight: bold\">1575</span><span style=\"font-weight: bold\">}</span> - WARNING - Directory is not empty. Overwriting the \n",
       "contents.                                                                                                          \n",
       "</pre>\n"
      ],
      "text/plain": [
       "\u001b[1;36m2025\u001b[0m-\u001b[1;36m02\u001b[0m-\u001b[1;36m26\u001b[0m \u001b[1;92m11:16:48\u001b[0m,\u001b[1;36m506\u001b[0m - \u001b[1m{\u001b[0mpytorch_tabular.tabular_model:\u001b[1;36m1575\u001b[0m\u001b[1m}\u001b[0m - WARNING - Directory is not empty. Overwriting the \n",
       "contents.                                                                                                          \n"
      ]
     },
     "metadata": {},
     "output_type": "display_data"
    }
   ],
   "source": [
    "# Save best model\n",
    "best_model.save_model('results/best_model_pytorch_tabular', inference_only=True)\n",
    "\n",
    "# Save columns names and informations\n",
    "data_to_save = {\n",
    "    'col_names_order': col_names_order,\n",
    "    'num_col_names': num_col_names,\n",
    "    'cat_col_names': cat_col_names,\n",
    "    'date_col_names': date_col_names,\n",
    "    'target_cols': target_cols,\n",
    "    'category_mappings': category_mappings,\n",
    "    'window_size': window_size\n",
    "}\n",
    "with open('results/columns_metadata_pytorch_tabular.json', 'w') as json_file:\n",
    "    json.dump(data_to_save, json_file, indent=4)"
   ]
  },
  {
   "cell_type": "markdown",
   "id": "813e3158-0db3-482c-b5eb-9be4b5699f78",
   "metadata": {},
   "source": [
    "### Fine-tuning Hyperparametrs\n",
    "Show, agora que sabemos as melhores arquiteturas para o nosso modelo, podemos brincar com ela(s) para buscar melhores hiperparâmetros para termos resultados ainda melhores. Para isso o Pytorch Tabular disponibilizar a função [tuner](https://pytorch-tabular.readthedocs.io/en/latest/apidocs_coreclasses/#pytorch_tabular.TabularModelTuner.tune)."
   ]
  },
  {
   "cell_type": "markdown",
   "id": "7df8050c-c222-4447-99ab-007b56e6c6a8",
   "metadata": {},
   "source": [
    "Configurações dos modelos: https://pytorch-tabular.readthedocs.io/en/latest/apidocs_model/\n",
    "\n",
    "Mais informações de como o hyperparameter space funcionam: https://pytorch-tabular.readthedocs.io/en/latest/tutorials/10-Hyperparameter%20Tuning/#define-the-hyperparameter-space\n",
    "\n",
    "Neste caso vamos pegar as duas arquiteturas que se sairam bem e brinca com elas."
   ]
  },
  {
   "cell_type": "code",
   "execution_count": 17,
   "id": "e3421d5e-7e46-413f-b0ea-06a7afbdeec0",
   "metadata": {},
   "outputs": [],
   "source": [
    "from pytorch_tabular.tabular_model_tuner import TabularModelTuner\n",
    "\n",
    "from pytorch_tabular.models import (\n",
    "    DANetConfig,\n",
    "    GANDALFConfig,\n",
    ")   "
   ]
  },
  {
   "cell_type": "markdown",
   "id": "e76edf9a-901d-4b67-808e-d56809661221",
   "metadata": {},
   "source": [
    "As configurações dos spaces que serão utilizados sempre irão começar com nome da configuração, dois underlines e o parâmetro. Sendo seus valores uma lista com todas as configurações que deseja testar."
   ]
  },
  {
   "cell_type": "code",
   "execution_count": 18,
   "id": "80497ee5-5761-4317-8180-df2fe73437ca",
   "metadata": {},
   "outputs": [],
   "source": [
    "model_config_DANetConfig = DANetConfig(task='classification' if model_type == 'classifier' else 'regression')\n",
    "\n",
    "search_space_DANetConfig = {\n",
    "    'optimizer_config__optimizer': ['Adam', 'AdamW'],\n",
    "    'model_config__n_layers': [4, 8, 16],\n",
    "    'model_config__abstlay_dim_1': [16, 32, 64],\n",
    "    'model_config__abstlay_dim_2': [32, 64, 128],\n",
    "}"
   ]
  },
  {
   "cell_type": "code",
   "execution_count": 19,
   "id": "33e0c298-ddd9-4e62-9aea-30a3d8daa577",
   "metadata": {},
   "outputs": [],
   "source": [
    "model_config_GANDALFConfig = GANDALFConfig(task='classification' if model_type == 'classifier' else 'regression')\n",
    "\n",
    "search_space_GANDALFConfig = {\n",
    "    'optimizer_config__optimizer': ['Adam', 'AdamW'],\n",
    "    'model_config__gflu_stages': [6, 12, 15],\n",
    "    'model_config__gflu_dropout': [0.0, 0.2],\n",
    "}"
   ]
  },
  {
   "cell_type": "markdown",
   "id": "2d4034f3-946a-480b-888c-0367c35cca54",
   "metadata": {},
   "source": [
    "Para informar o tuner quais arquiteturas e hiperparâmetros testar, é necessário adicioná-los em listas. Ressaltando que ambas listas devem estar ordenadas iguais e ter o mesmo tamanho (irá utilizar primeiro elemento de models com primeiro de search_space, segundo com segundo,...)"
   ]
  },
  {
   "cell_type": "code",
   "execution_count": 20,
   "id": "52004721-37ae-4043-a175-8b9564b3d0db",
   "metadata": {},
   "outputs": [],
   "source": [
    "all_models = [model_config_DANetConfig, model_config_GANDALFConfig]\n",
    "all_search_space = [search_space_DANetConfig, search_space_GANDALFConfig]"
   ]
  },
  {
   "cell_type": "markdown",
   "id": "f430eb5c-1704-4c40-a730-4aed62949602",
   "metadata": {},
   "source": [
    "O tuner possui duas \"strategy\" principais:\n",
    "- grid_search: Para pesquisar todos os hiperparâmetros que foram definidos, mas lembre-se que cada novo campo que você adicionar aumentará consideravelmente o tempo total de treinamento. Se você configurar 4 otimizadores, 4 layes, 2 ativações e 2 dropout, isso significa 64 (4 * 4 * 2 * 2) treinamentos.\n",
    "- random_search: Obterá aleatoriamente configurações de hiperparâmetros \"n_trials\" de cada modelo que foi definido. É útil para um treinamento mais rápido, mas lembre-se de que não testará todos os hiperparâmetros."
   ]
  },
  {
   "cell_type": "code",
   "execution_count": 21,
   "id": "9948aea6-f063-4d7a-ac18-78a14ac648e3",
   "metadata": {
    "scrolled": true
   },
   "outputs": [
    {
     "data": {
      "application/vnd.jupyter.widget-view+json": {
       "model_id": "21bb1cf63b094bd58c8671932e14b8d7",
       "version_major": 2,
       "version_minor": 0
      },
      "text/plain": [
       "Output()"
      ]
     },
     "metadata": {},
     "output_type": "display_data"
    },
    {
     "data": {
      "application/vnd.jupyter.widget-view+json": {
       "model_id": "a99c490f4879431cab56bc915d200413",
       "version_major": 2,
       "version_minor": 0
      },
      "text/plain": [
       "Finding best initial lr:   0%|          | 0/100 [00:00<?, ?it/s]"
      ]
     },
     "metadata": {},
     "output_type": "display_data"
    },
    {
     "data": {
      "text/html": [
       "<pre style=\"white-space:pre;overflow-x:auto;line-height:normal;font-family:Menlo,'DejaVu Sans Mono',consolas,'Courier New',monospace\"><span style=\"color: #008080; text-decoration-color: #008080; font-weight: bold\">2025</span>-<span style=\"color: #008080; text-decoration-color: #008080; font-weight: bold\">02</span>-<span style=\"color: #008080; text-decoration-color: #008080; font-weight: bold\">26</span> <span style=\"color: #00ff00; text-decoration-color: #00ff00; font-weight: bold\">11:20:23</span>,<span style=\"color: #008080; text-decoration-color: #008080; font-weight: bold\">202</span> - <span style=\"font-weight: bold\">{</span>pytorch_tabular.tabular_model_tuner:<span style=\"color: #008080; text-decoration-color: #008080; font-weight: bold\">412</span><span style=\"font-weight: bold\">}</span> - INFO - Trial <span style=\"color: #008080; text-decoration-color: #008080; font-weight: bold\">1</span>/<span style=\"color: #008080; text-decoration-color: #008080; font-weight: bold\">54</span>: <span style=\"font-weight: bold\">{</span><span style=\"color: #008000; text-decoration-color: #008000\">'model'</span>: <span style=\"color: #008000; text-decoration-color: #008000\">'0-DANetConfig'</span>,\n",
       "<span style=\"color: #008000; text-decoration-color: #008000\">'model_config__abstlay_dim_1'</span>: <span style=\"color: #008080; text-decoration-color: #008080; font-weight: bold\">16</span>, <span style=\"color: #008000; text-decoration-color: #008000\">'model_config__abstlay_dim_2'</span>: <span style=\"color: #008080; text-decoration-color: #008080; font-weight: bold\">32</span>, <span style=\"color: #008000; text-decoration-color: #008000\">'model_config__n_layers'</span>: <span style=\"color: #008080; text-decoration-color: #008080; font-weight: bold\">4</span>,                 \n",
       "<span style=\"color: #008000; text-decoration-color: #008000\">'optimizer_config__optimizer'</span>: <span style=\"color: #008000; text-decoration-color: #008000\">'Adam'</span>, <span style=\"color: #008000; text-decoration-color: #008000\">'loss'</span>: <span style=\"color: #008080; text-decoration-color: #008080; font-weight: bold\">0.7802320122718811</span>, <span style=\"color: #008000; text-decoration-color: #008000\">'mean_squared_error'</span>: <span style=\"color: #008080; text-decoration-color: #008080; font-weight: bold\">0.7802320122718811</span>,       \n",
       "<span style=\"color: #008000; text-decoration-color: #008000\">'trial_id'</span>: <span style=\"color: #008080; text-decoration-color: #008080; font-weight: bold\">0</span><span style=\"font-weight: bold\">}</span> | Score: <span style=\"color: #008080; text-decoration-color: #008080; font-weight: bold\">0.7802320122718811</span>                                                                         \n",
       "</pre>\n"
      ],
      "text/plain": [
       "\u001b[1;36m2025\u001b[0m-\u001b[1;36m02\u001b[0m-\u001b[1;36m26\u001b[0m \u001b[1;92m11:20:23\u001b[0m,\u001b[1;36m202\u001b[0m - \u001b[1m{\u001b[0mpytorch_tabular.tabular_model_tuner:\u001b[1;36m412\u001b[0m\u001b[1m}\u001b[0m - INFO - Trial \u001b[1;36m1\u001b[0m/\u001b[1;36m54\u001b[0m: \u001b[1m{\u001b[0m\u001b[32m'model'\u001b[0m: \u001b[32m'0-DANetConfig'\u001b[0m,\n",
       "\u001b[32m'model_config__abstlay_dim_1'\u001b[0m: \u001b[1;36m16\u001b[0m, \u001b[32m'model_config__abstlay_dim_2'\u001b[0m: \u001b[1;36m32\u001b[0m, \u001b[32m'model_config__n_layers'\u001b[0m: \u001b[1;36m4\u001b[0m,                 \n",
       "\u001b[32m'optimizer_config__optimizer'\u001b[0m: \u001b[32m'Adam'\u001b[0m, \u001b[32m'loss'\u001b[0m: \u001b[1;36m0.7802320122718811\u001b[0m, \u001b[32m'mean_squared_error'\u001b[0m: \u001b[1;36m0.7802320122718811\u001b[0m,       \n",
       "\u001b[32m'trial_id'\u001b[0m: \u001b[1;36m0\u001b[0m\u001b[1m}\u001b[0m | Score: \u001b[1;36m0.7802320122718811\u001b[0m                                                                         \n"
      ]
     },
     "metadata": {},
     "output_type": "display_data"
    },
    {
     "data": {
      "application/vnd.jupyter.widget-view+json": {
       "model_id": "3d782502016d45418f2631002b5ca2c2",
       "version_major": 2,
       "version_minor": 0
      },
      "text/plain": [
       "Finding best initial lr:   0%|          | 0/100 [00:00<?, ?it/s]"
      ]
     },
     "metadata": {},
     "output_type": "display_data"
    },
    {
     "data": {
      "text/html": [
       "<pre style=\"white-space:pre;overflow-x:auto;line-height:normal;font-family:Menlo,'DejaVu Sans Mono',consolas,'Courier New',monospace\"><span style=\"color: #008080; text-decoration-color: #008080; font-weight: bold\">2025</span>-<span style=\"color: #008080; text-decoration-color: #008080; font-weight: bold\">02</span>-<span style=\"color: #008080; text-decoration-color: #008080; font-weight: bold\">26</span> <span style=\"color: #00ff00; text-decoration-color: #00ff00; font-weight: bold\">11:20:59</span>,<span style=\"color: #008080; text-decoration-color: #008080; font-weight: bold\">224</span> - <span style=\"font-weight: bold\">{</span>pytorch_tabular.tabular_model_tuner:<span style=\"color: #008080; text-decoration-color: #008080; font-weight: bold\">412</span><span style=\"font-weight: bold\">}</span> - INFO - Trial <span style=\"color: #008080; text-decoration-color: #008080; font-weight: bold\">2</span>/<span style=\"color: #008080; text-decoration-color: #008080; font-weight: bold\">54</span>: <span style=\"font-weight: bold\">{</span><span style=\"color: #008000; text-decoration-color: #008000\">'model'</span>: <span style=\"color: #008000; text-decoration-color: #008000\">'0-DANetConfig'</span>,\n",
       "<span style=\"color: #008000; text-decoration-color: #008000\">'model_config__abstlay_dim_1'</span>: <span style=\"color: #008080; text-decoration-color: #008080; font-weight: bold\">16</span>, <span style=\"color: #008000; text-decoration-color: #008000\">'model_config__abstlay_dim_2'</span>: <span style=\"color: #008080; text-decoration-color: #008080; font-weight: bold\">32</span>, <span style=\"color: #008000; text-decoration-color: #008000\">'model_config__n_layers'</span>: <span style=\"color: #008080; text-decoration-color: #008080; font-weight: bold\">4</span>,                 \n",
       "<span style=\"color: #008000; text-decoration-color: #008000\">'optimizer_config__optimizer'</span>: <span style=\"color: #008000; text-decoration-color: #008000\">'AdamW'</span>, <span style=\"color: #008000; text-decoration-color: #008000\">'loss'</span>: <span style=\"color: #008080; text-decoration-color: #008080; font-weight: bold\">1.7338073253631592</span>, <span style=\"color: #008000; text-decoration-color: #008000\">'mean_squared_error'</span>: <span style=\"color: #008080; text-decoration-color: #008080; font-weight: bold\">1.7338073253631592</span>,      \n",
       "<span style=\"color: #008000; text-decoration-color: #008000\">'trial_id'</span>: <span style=\"color: #008080; text-decoration-color: #008080; font-weight: bold\">1</span><span style=\"font-weight: bold\">}</span> | Score: <span style=\"color: #008080; text-decoration-color: #008080; font-weight: bold\">1.7338073253631592</span>                                                                         \n",
       "</pre>\n"
      ],
      "text/plain": [
       "\u001b[1;36m2025\u001b[0m-\u001b[1;36m02\u001b[0m-\u001b[1;36m26\u001b[0m \u001b[1;92m11:20:59\u001b[0m,\u001b[1;36m224\u001b[0m - \u001b[1m{\u001b[0mpytorch_tabular.tabular_model_tuner:\u001b[1;36m412\u001b[0m\u001b[1m}\u001b[0m - INFO - Trial \u001b[1;36m2\u001b[0m/\u001b[1;36m54\u001b[0m: \u001b[1m{\u001b[0m\u001b[32m'model'\u001b[0m: \u001b[32m'0-DANetConfig'\u001b[0m,\n",
       "\u001b[32m'model_config__abstlay_dim_1'\u001b[0m: \u001b[1;36m16\u001b[0m, \u001b[32m'model_config__abstlay_dim_2'\u001b[0m: \u001b[1;36m32\u001b[0m, \u001b[32m'model_config__n_layers'\u001b[0m: \u001b[1;36m4\u001b[0m,                 \n",
       "\u001b[32m'optimizer_config__optimizer'\u001b[0m: \u001b[32m'AdamW'\u001b[0m, \u001b[32m'loss'\u001b[0m: \u001b[1;36m1.7338073253631592\u001b[0m, \u001b[32m'mean_squared_error'\u001b[0m: \u001b[1;36m1.7338073253631592\u001b[0m,      \n",
       "\u001b[32m'trial_id'\u001b[0m: \u001b[1;36m1\u001b[0m\u001b[1m}\u001b[0m | Score: \u001b[1;36m1.7338073253631592\u001b[0m                                                                         \n"
      ]
     },
     "metadata": {},
     "output_type": "display_data"
    },
    {
     "data": {
      "application/vnd.jupyter.widget-view+json": {
       "model_id": "ab918ab464aa47d987436eb94d22bcf6",
       "version_major": 2,
       "version_minor": 0
      },
      "text/plain": [
       "Finding best initial lr:   0%|          | 0/100 [00:00<?, ?it/s]"
      ]
     },
     "metadata": {},
     "output_type": "display_data"
    },
    {
     "data": {
      "text/html": [
       "<pre style=\"white-space:pre;overflow-x:auto;line-height:normal;font-family:Menlo,'DejaVu Sans Mono',consolas,'Courier New',monospace\"><span style=\"color: #008080; text-decoration-color: #008080; font-weight: bold\">2025</span>-<span style=\"color: #008080; text-decoration-color: #008080; font-weight: bold\">02</span>-<span style=\"color: #008080; text-decoration-color: #008080; font-weight: bold\">26</span> <span style=\"color: #00ff00; text-decoration-color: #00ff00; font-weight: bold\">11:21:53</span>,<span style=\"color: #008080; text-decoration-color: #008080; font-weight: bold\">895</span> - <span style=\"font-weight: bold\">{</span>pytorch_tabular.tabular_model_tuner:<span style=\"color: #008080; text-decoration-color: #008080; font-weight: bold\">412</span><span style=\"font-weight: bold\">}</span> - INFO - Trial <span style=\"color: #008080; text-decoration-color: #008080; font-weight: bold\">3</span>/<span style=\"color: #008080; text-decoration-color: #008080; font-weight: bold\">54</span>: <span style=\"font-weight: bold\">{</span><span style=\"color: #008000; text-decoration-color: #008000\">'model'</span>: <span style=\"color: #008000; text-decoration-color: #008000\">'0-DANetConfig'</span>,\n",
       "<span style=\"color: #008000; text-decoration-color: #008000\">'model_config__abstlay_dim_1'</span>: <span style=\"color: #008080; text-decoration-color: #008080; font-weight: bold\">16</span>, <span style=\"color: #008000; text-decoration-color: #008000\">'model_config__abstlay_dim_2'</span>: <span style=\"color: #008080; text-decoration-color: #008080; font-weight: bold\">32</span>, <span style=\"color: #008000; text-decoration-color: #008000\">'model_config__n_layers'</span>: <span style=\"color: #008080; text-decoration-color: #008080; font-weight: bold\">8</span>,                 \n",
       "<span style=\"color: #008000; text-decoration-color: #008000\">'optimizer_config__optimizer'</span>: <span style=\"color: #008000; text-decoration-color: #008000\">'Adam'</span>, <span style=\"color: #008000; text-decoration-color: #008000\">'loss'</span>: <span style=\"color: #008080; text-decoration-color: #008080; font-weight: bold\">23.518171310424805</span>, <span style=\"color: #008000; text-decoration-color: #008000\">'mean_squared_error'</span>: <span style=\"color: #008080; text-decoration-color: #008080; font-weight: bold\">23.518171310424805</span>,       \n",
       "<span style=\"color: #008000; text-decoration-color: #008000\">'trial_id'</span>: <span style=\"color: #008080; text-decoration-color: #008080; font-weight: bold\">2</span><span style=\"font-weight: bold\">}</span> | Score: <span style=\"color: #008080; text-decoration-color: #008080; font-weight: bold\">23.518171310424805</span>                                                                         \n",
       "</pre>\n"
      ],
      "text/plain": [
       "\u001b[1;36m2025\u001b[0m-\u001b[1;36m02\u001b[0m-\u001b[1;36m26\u001b[0m \u001b[1;92m11:21:53\u001b[0m,\u001b[1;36m895\u001b[0m - \u001b[1m{\u001b[0mpytorch_tabular.tabular_model_tuner:\u001b[1;36m412\u001b[0m\u001b[1m}\u001b[0m - INFO - Trial \u001b[1;36m3\u001b[0m/\u001b[1;36m54\u001b[0m: \u001b[1m{\u001b[0m\u001b[32m'model'\u001b[0m: \u001b[32m'0-DANetConfig'\u001b[0m,\n",
       "\u001b[32m'model_config__abstlay_dim_1'\u001b[0m: \u001b[1;36m16\u001b[0m, \u001b[32m'model_config__abstlay_dim_2'\u001b[0m: \u001b[1;36m32\u001b[0m, \u001b[32m'model_config__n_layers'\u001b[0m: \u001b[1;36m8\u001b[0m,                 \n",
       "\u001b[32m'optimizer_config__optimizer'\u001b[0m: \u001b[32m'Adam'\u001b[0m, \u001b[32m'loss'\u001b[0m: \u001b[1;36m23.518171310424805\u001b[0m, \u001b[32m'mean_squared_error'\u001b[0m: \u001b[1;36m23.518171310424805\u001b[0m,       \n",
       "\u001b[32m'trial_id'\u001b[0m: \u001b[1;36m2\u001b[0m\u001b[1m}\u001b[0m | Score: \u001b[1;36m23.518171310424805\u001b[0m                                                                         \n"
      ]
     },
     "metadata": {},
     "output_type": "display_data"
    },
    {
     "data": {
      "application/vnd.jupyter.widget-view+json": {
       "model_id": "c0f7dc2ece85435790292ddcf3667e14",
       "version_major": 2,
       "version_minor": 0
      },
      "text/plain": [
       "Finding best initial lr:   0%|          | 0/100 [00:00<?, ?it/s]"
      ]
     },
     "metadata": {},
     "output_type": "display_data"
    },
    {
     "data": {
      "text/html": [
       "<pre style=\"white-space:pre;overflow-x:auto;line-height:normal;font-family:Menlo,'DejaVu Sans Mono',consolas,'Courier New',monospace\"><span style=\"color: #008080; text-decoration-color: #008080; font-weight: bold\">2025</span>-<span style=\"color: #008080; text-decoration-color: #008080; font-weight: bold\">02</span>-<span style=\"color: #008080; text-decoration-color: #008080; font-weight: bold\">26</span> <span style=\"color: #00ff00; text-decoration-color: #00ff00; font-weight: bold\">11:22:49</span>,<span style=\"color: #008080; text-decoration-color: #008080; font-weight: bold\">315</span> - <span style=\"font-weight: bold\">{</span>pytorch_tabular.tabular_model_tuner:<span style=\"color: #008080; text-decoration-color: #008080; font-weight: bold\">412</span><span style=\"font-weight: bold\">}</span> - INFO - Trial <span style=\"color: #008080; text-decoration-color: #008080; font-weight: bold\">4</span>/<span style=\"color: #008080; text-decoration-color: #008080; font-weight: bold\">54</span>: <span style=\"font-weight: bold\">{</span><span style=\"color: #008000; text-decoration-color: #008000\">'model'</span>: <span style=\"color: #008000; text-decoration-color: #008000\">'0-DANetConfig'</span>,\n",
       "<span style=\"color: #008000; text-decoration-color: #008000\">'model_config__abstlay_dim_1'</span>: <span style=\"color: #008080; text-decoration-color: #008080; font-weight: bold\">16</span>, <span style=\"color: #008000; text-decoration-color: #008000\">'model_config__abstlay_dim_2'</span>: <span style=\"color: #008080; text-decoration-color: #008080; font-weight: bold\">32</span>, <span style=\"color: #008000; text-decoration-color: #008000\">'model_config__n_layers'</span>: <span style=\"color: #008080; text-decoration-color: #008080; font-weight: bold\">8</span>,                 \n",
       "<span style=\"color: #008000; text-decoration-color: #008000\">'optimizer_config__optimizer'</span>: <span style=\"color: #008000; text-decoration-color: #008000\">'AdamW'</span>, <span style=\"color: #008000; text-decoration-color: #008000\">'loss'</span>: <span style=\"color: #008080; text-decoration-color: #008080; font-weight: bold\">24.060131072998047</span>, <span style=\"color: #008000; text-decoration-color: #008000\">'mean_squared_error'</span>: <span style=\"color: #008080; text-decoration-color: #008080; font-weight: bold\">24.060131072998047</span>,      \n",
       "<span style=\"color: #008000; text-decoration-color: #008000\">'trial_id'</span>: <span style=\"color: #008080; text-decoration-color: #008080; font-weight: bold\">3</span><span style=\"font-weight: bold\">}</span> | Score: <span style=\"color: #008080; text-decoration-color: #008080; font-weight: bold\">24.060131072998047</span>                                                                         \n",
       "</pre>\n"
      ],
      "text/plain": [
       "\u001b[1;36m2025\u001b[0m-\u001b[1;36m02\u001b[0m-\u001b[1;36m26\u001b[0m \u001b[1;92m11:22:49\u001b[0m,\u001b[1;36m315\u001b[0m - \u001b[1m{\u001b[0mpytorch_tabular.tabular_model_tuner:\u001b[1;36m412\u001b[0m\u001b[1m}\u001b[0m - INFO - Trial \u001b[1;36m4\u001b[0m/\u001b[1;36m54\u001b[0m: \u001b[1m{\u001b[0m\u001b[32m'model'\u001b[0m: \u001b[32m'0-DANetConfig'\u001b[0m,\n",
       "\u001b[32m'model_config__abstlay_dim_1'\u001b[0m: \u001b[1;36m16\u001b[0m, \u001b[32m'model_config__abstlay_dim_2'\u001b[0m: \u001b[1;36m32\u001b[0m, \u001b[32m'model_config__n_layers'\u001b[0m: \u001b[1;36m8\u001b[0m,                 \n",
       "\u001b[32m'optimizer_config__optimizer'\u001b[0m: \u001b[32m'AdamW'\u001b[0m, \u001b[32m'loss'\u001b[0m: \u001b[1;36m24.060131072998047\u001b[0m, \u001b[32m'mean_squared_error'\u001b[0m: \u001b[1;36m24.060131072998047\u001b[0m,      \n",
       "\u001b[32m'trial_id'\u001b[0m: \u001b[1;36m3\u001b[0m\u001b[1m}\u001b[0m | Score: \u001b[1;36m24.060131072998047\u001b[0m                                                                         \n"
      ]
     },
     "metadata": {},
     "output_type": "display_data"
    },
    {
     "data": {
      "application/vnd.jupyter.widget-view+json": {
       "model_id": "21ff56b7dee34013946f40715fb94a16",
       "version_major": 2,
       "version_minor": 0
      },
      "text/plain": [
       "Finding best initial lr:   0%|          | 0/100 [00:00<?, ?it/s]"
      ]
     },
     "metadata": {},
     "output_type": "display_data"
    },
    {
     "data": {
      "text/html": [
       "<pre style=\"white-space:pre;overflow-x:auto;line-height:normal;font-family:Menlo,'DejaVu Sans Mono',consolas,'Courier New',monospace\"><span style=\"color: #008080; text-decoration-color: #008080; font-weight: bold\">2025</span>-<span style=\"color: #008080; text-decoration-color: #008080; font-weight: bold\">02</span>-<span style=\"color: #008080; text-decoration-color: #008080; font-weight: bold\">26</span> <span style=\"color: #00ff00; text-decoration-color: #00ff00; font-weight: bold\">11:24:37</span>,<span style=\"color: #008080; text-decoration-color: #008080; font-weight: bold\">626</span> - <span style=\"font-weight: bold\">{</span>pytorch_tabular.tabular_model_tuner:<span style=\"color: #008080; text-decoration-color: #008080; font-weight: bold\">412</span><span style=\"font-weight: bold\">}</span> - INFO - Trial <span style=\"color: #008080; text-decoration-color: #008080; font-weight: bold\">5</span>/<span style=\"color: #008080; text-decoration-color: #008080; font-weight: bold\">54</span>: <span style=\"font-weight: bold\">{</span><span style=\"color: #008000; text-decoration-color: #008000\">'model'</span>: <span style=\"color: #008000; text-decoration-color: #008000\">'0-DANetConfig'</span>,\n",
       "<span style=\"color: #008000; text-decoration-color: #008000\">'model_config__abstlay_dim_1'</span>: <span style=\"color: #008080; text-decoration-color: #008080; font-weight: bold\">16</span>, <span style=\"color: #008000; text-decoration-color: #008000\">'model_config__abstlay_dim_2'</span>: <span style=\"color: #008080; text-decoration-color: #008080; font-weight: bold\">32</span>, <span style=\"color: #008000; text-decoration-color: #008000\">'model_config__n_layers'</span>: <span style=\"color: #008080; text-decoration-color: #008080; font-weight: bold\">16</span>,                \n",
       "<span style=\"color: #008000; text-decoration-color: #008000\">'optimizer_config__optimizer'</span>: <span style=\"color: #008000; text-decoration-color: #008000\">'Adam'</span>, <span style=\"color: #008000; text-decoration-color: #008000\">'loss'</span>: <span style=\"color: #008080; text-decoration-color: #008080; font-weight: bold\">1.0120123624801636</span>, <span style=\"color: #008000; text-decoration-color: #008000\">'mean_squared_error'</span>: <span style=\"color: #008080; text-decoration-color: #008080; font-weight: bold\">1.0120123624801636</span>,       \n",
       "<span style=\"color: #008000; text-decoration-color: #008000\">'trial_id'</span>: <span style=\"color: #008080; text-decoration-color: #008080; font-weight: bold\">4</span><span style=\"font-weight: bold\">}</span> | Score: <span style=\"color: #008080; text-decoration-color: #008080; font-weight: bold\">1.0120123624801636</span>                                                                         \n",
       "</pre>\n"
      ],
      "text/plain": [
       "\u001b[1;36m2025\u001b[0m-\u001b[1;36m02\u001b[0m-\u001b[1;36m26\u001b[0m \u001b[1;92m11:24:37\u001b[0m,\u001b[1;36m626\u001b[0m - \u001b[1m{\u001b[0mpytorch_tabular.tabular_model_tuner:\u001b[1;36m412\u001b[0m\u001b[1m}\u001b[0m - INFO - Trial \u001b[1;36m5\u001b[0m/\u001b[1;36m54\u001b[0m: \u001b[1m{\u001b[0m\u001b[32m'model'\u001b[0m: \u001b[32m'0-DANetConfig'\u001b[0m,\n",
       "\u001b[32m'model_config__abstlay_dim_1'\u001b[0m: \u001b[1;36m16\u001b[0m, \u001b[32m'model_config__abstlay_dim_2'\u001b[0m: \u001b[1;36m32\u001b[0m, \u001b[32m'model_config__n_layers'\u001b[0m: \u001b[1;36m16\u001b[0m,                \n",
       "\u001b[32m'optimizer_config__optimizer'\u001b[0m: \u001b[32m'Adam'\u001b[0m, \u001b[32m'loss'\u001b[0m: \u001b[1;36m1.0120123624801636\u001b[0m, \u001b[32m'mean_squared_error'\u001b[0m: \u001b[1;36m1.0120123624801636\u001b[0m,       \n",
       "\u001b[32m'trial_id'\u001b[0m: \u001b[1;36m4\u001b[0m\u001b[1m}\u001b[0m | Score: \u001b[1;36m1.0120123624801636\u001b[0m                                                                         \n"
      ]
     },
     "metadata": {},
     "output_type": "display_data"
    },
    {
     "data": {
      "application/vnd.jupyter.widget-view+json": {
       "model_id": "f8e7482d3461497bbfea33297937ba21",
       "version_major": 2,
       "version_minor": 0
      },
      "text/plain": [
       "Finding best initial lr:   0%|          | 0/100 [00:00<?, ?it/s]"
      ]
     },
     "metadata": {},
     "output_type": "display_data"
    },
    {
     "data": {
      "text/html": [
       "<pre style=\"white-space:pre;overflow-x:auto;line-height:normal;font-family:Menlo,'DejaVu Sans Mono',consolas,'Courier New',monospace\"><span style=\"color: #008080; text-decoration-color: #008080; font-weight: bold\">2025</span>-<span style=\"color: #008080; text-decoration-color: #008080; font-weight: bold\">02</span>-<span style=\"color: #008080; text-decoration-color: #008080; font-weight: bold\">26</span> <span style=\"color: #00ff00; text-decoration-color: #00ff00; font-weight: bold\">11:26:09</span>,<span style=\"color: #008080; text-decoration-color: #008080; font-weight: bold\">615</span> - <span style=\"font-weight: bold\">{</span>pytorch_tabular.tabular_model_tuner:<span style=\"color: #008080; text-decoration-color: #008080; font-weight: bold\">412</span><span style=\"font-weight: bold\">}</span> - INFO - Trial <span style=\"color: #008080; text-decoration-color: #008080; font-weight: bold\">6</span>/<span style=\"color: #008080; text-decoration-color: #008080; font-weight: bold\">54</span>: <span style=\"font-weight: bold\">{</span><span style=\"color: #008000; text-decoration-color: #008000\">'model'</span>: <span style=\"color: #008000; text-decoration-color: #008000\">'0-DANetConfig'</span>,\n",
       "<span style=\"color: #008000; text-decoration-color: #008000\">'model_config__abstlay_dim_1'</span>: <span style=\"color: #008080; text-decoration-color: #008080; font-weight: bold\">16</span>, <span style=\"color: #008000; text-decoration-color: #008000\">'model_config__abstlay_dim_2'</span>: <span style=\"color: #008080; text-decoration-color: #008080; font-weight: bold\">32</span>, <span style=\"color: #008000; text-decoration-color: #008000\">'model_config__n_layers'</span>: <span style=\"color: #008080; text-decoration-color: #008080; font-weight: bold\">16</span>,                \n",
       "<span style=\"color: #008000; text-decoration-color: #008000\">'optimizer_config__optimizer'</span>: <span style=\"color: #008000; text-decoration-color: #008000\">'AdamW'</span>, <span style=\"color: #008000; text-decoration-color: #008000\">'loss'</span>: <span style=\"color: #008080; text-decoration-color: #008080; font-weight: bold\">24.06097412109375</span>, <span style=\"color: #008000; text-decoration-color: #008000\">'mean_squared_error'</span>: <span style=\"color: #008080; text-decoration-color: #008080; font-weight: bold\">24.06097412109375</span>,        \n",
       "<span style=\"color: #008000; text-decoration-color: #008000\">'trial_id'</span>: <span style=\"color: #008080; text-decoration-color: #008080; font-weight: bold\">5</span><span style=\"font-weight: bold\">}</span> | Score: <span style=\"color: #008080; text-decoration-color: #008080; font-weight: bold\">24.06097412109375</span>                                                                          \n",
       "</pre>\n"
      ],
      "text/plain": [
       "\u001b[1;36m2025\u001b[0m-\u001b[1;36m02\u001b[0m-\u001b[1;36m26\u001b[0m \u001b[1;92m11:26:09\u001b[0m,\u001b[1;36m615\u001b[0m - \u001b[1m{\u001b[0mpytorch_tabular.tabular_model_tuner:\u001b[1;36m412\u001b[0m\u001b[1m}\u001b[0m - INFO - Trial \u001b[1;36m6\u001b[0m/\u001b[1;36m54\u001b[0m: \u001b[1m{\u001b[0m\u001b[32m'model'\u001b[0m: \u001b[32m'0-DANetConfig'\u001b[0m,\n",
       "\u001b[32m'model_config__abstlay_dim_1'\u001b[0m: \u001b[1;36m16\u001b[0m, \u001b[32m'model_config__abstlay_dim_2'\u001b[0m: \u001b[1;36m32\u001b[0m, \u001b[32m'model_config__n_layers'\u001b[0m: \u001b[1;36m16\u001b[0m,                \n",
       "\u001b[32m'optimizer_config__optimizer'\u001b[0m: \u001b[32m'AdamW'\u001b[0m, \u001b[32m'loss'\u001b[0m: \u001b[1;36m24.06097412109375\u001b[0m, \u001b[32m'mean_squared_error'\u001b[0m: \u001b[1;36m24.06097412109375\u001b[0m,        \n",
       "\u001b[32m'trial_id'\u001b[0m: \u001b[1;36m5\u001b[0m\u001b[1m}\u001b[0m | Score: \u001b[1;36m24.06097412109375\u001b[0m                                                                          \n"
      ]
     },
     "metadata": {},
     "output_type": "display_data"
    },
    {
     "data": {
      "application/vnd.jupyter.widget-view+json": {
       "model_id": "5ec4ebdfcb11440ca86176e59ea97750",
       "version_major": 2,
       "version_minor": 0
      },
      "text/plain": [
       "Finding best initial lr:   0%|          | 0/100 [00:00<?, ?it/s]"
      ]
     },
     "metadata": {},
     "output_type": "display_data"
    },
    {
     "data": {
      "text/html": [
       "<pre style=\"white-space:pre;overflow-x:auto;line-height:normal;font-family:Menlo,'DejaVu Sans Mono',consolas,'Courier New',monospace\"><span style=\"color: #008080; text-decoration-color: #008080; font-weight: bold\">2025</span>-<span style=\"color: #008080; text-decoration-color: #008080; font-weight: bold\">02</span>-<span style=\"color: #008080; text-decoration-color: #008080; font-weight: bold\">26</span> <span style=\"color: #00ff00; text-decoration-color: #00ff00; font-weight: bold\">11:26:44</span>,<span style=\"color: #008080; text-decoration-color: #008080; font-weight: bold\">568</span> - <span style=\"font-weight: bold\">{</span>pytorch_tabular.tabular_model_tuner:<span style=\"color: #008080; text-decoration-color: #008080; font-weight: bold\">412</span><span style=\"font-weight: bold\">}</span> - INFO - Trial <span style=\"color: #008080; text-decoration-color: #008080; font-weight: bold\">7</span>/<span style=\"color: #008080; text-decoration-color: #008080; font-weight: bold\">54</span>: <span style=\"font-weight: bold\">{</span><span style=\"color: #008000; text-decoration-color: #008000\">'model'</span>: <span style=\"color: #008000; text-decoration-color: #008000\">'0-DANetConfig'</span>,\n",
       "<span style=\"color: #008000; text-decoration-color: #008000\">'model_config__abstlay_dim_1'</span>: <span style=\"color: #008080; text-decoration-color: #008080; font-weight: bold\">16</span>, <span style=\"color: #008000; text-decoration-color: #008000\">'model_config__abstlay_dim_2'</span>: <span style=\"color: #008080; text-decoration-color: #008080; font-weight: bold\">64</span>, <span style=\"color: #008000; text-decoration-color: #008000\">'model_config__n_layers'</span>: <span style=\"color: #008080; text-decoration-color: #008080; font-weight: bold\">4</span>,                 \n",
       "<span style=\"color: #008000; text-decoration-color: #008000\">'optimizer_config__optimizer'</span>: <span style=\"color: #008000; text-decoration-color: #008000\">'Adam'</span>, <span style=\"color: #008000; text-decoration-color: #008000\">'loss'</span>: <span style=\"color: #008080; text-decoration-color: #008080; font-weight: bold\">23.901905059814453</span>, <span style=\"color: #008000; text-decoration-color: #008000\">'mean_squared_error'</span>: <span style=\"color: #008080; text-decoration-color: #008080; font-weight: bold\">23.901905059814453</span>,       \n",
       "<span style=\"color: #008000; text-decoration-color: #008000\">'trial_id'</span>: <span style=\"color: #008080; text-decoration-color: #008080; font-weight: bold\">6</span><span style=\"font-weight: bold\">}</span> | Score: <span style=\"color: #008080; text-decoration-color: #008080; font-weight: bold\">23.901905059814453</span>                                                                         \n",
       "</pre>\n"
      ],
      "text/plain": [
       "\u001b[1;36m2025\u001b[0m-\u001b[1;36m02\u001b[0m-\u001b[1;36m26\u001b[0m \u001b[1;92m11:26:44\u001b[0m,\u001b[1;36m568\u001b[0m - \u001b[1m{\u001b[0mpytorch_tabular.tabular_model_tuner:\u001b[1;36m412\u001b[0m\u001b[1m}\u001b[0m - INFO - Trial \u001b[1;36m7\u001b[0m/\u001b[1;36m54\u001b[0m: \u001b[1m{\u001b[0m\u001b[32m'model'\u001b[0m: \u001b[32m'0-DANetConfig'\u001b[0m,\n",
       "\u001b[32m'model_config__abstlay_dim_1'\u001b[0m: \u001b[1;36m16\u001b[0m, \u001b[32m'model_config__abstlay_dim_2'\u001b[0m: \u001b[1;36m64\u001b[0m, \u001b[32m'model_config__n_layers'\u001b[0m: \u001b[1;36m4\u001b[0m,                 \n",
       "\u001b[32m'optimizer_config__optimizer'\u001b[0m: \u001b[32m'Adam'\u001b[0m, \u001b[32m'loss'\u001b[0m: \u001b[1;36m23.901905059814453\u001b[0m, \u001b[32m'mean_squared_error'\u001b[0m: \u001b[1;36m23.901905059814453\u001b[0m,       \n",
       "\u001b[32m'trial_id'\u001b[0m: \u001b[1;36m6\u001b[0m\u001b[1m}\u001b[0m | Score: \u001b[1;36m23.901905059814453\u001b[0m                                                                         \n"
      ]
     },
     "metadata": {},
     "output_type": "display_data"
    },
    {
     "data": {
      "text/html": [
       "<pre style=\"white-space:pre;overflow-x:auto;line-height:normal;font-family:Menlo,'DejaVu Sans Mono',consolas,'Courier New',monospace\"><span style=\"color: #008080; text-decoration-color: #008080; font-weight: bold\">2025</span>-<span style=\"color: #008080; text-decoration-color: #008080; font-weight: bold\">02</span>-<span style=\"color: #008080; text-decoration-color: #008080; font-weight: bold\">26</span> <span style=\"color: #00ff00; text-decoration-color: #00ff00; font-weight: bold\">11:27:21</span>,<span style=\"color: #008080; text-decoration-color: #008080; font-weight: bold\">170</span> - <span style=\"font-weight: bold\">{</span>pytorch_tabular.tabular_model_tuner:<span style=\"color: #008080; text-decoration-color: #008080; font-weight: bold\">412</span><span style=\"font-weight: bold\">}</span> - INFO - Trial <span style=\"color: #008080; text-decoration-color: #008080; font-weight: bold\">8</span>/<span style=\"color: #008080; text-decoration-color: #008080; font-weight: bold\">54</span>: <span style=\"font-weight: bold\">{</span><span style=\"color: #008000; text-decoration-color: #008000\">'model'</span>: <span style=\"color: #008000; text-decoration-color: #008000\">'0-DANetConfig'</span>,\n",
       "<span style=\"color: #008000; text-decoration-color: #008000\">'model_config__abstlay_dim_1'</span>: <span style=\"color: #008080; text-decoration-color: #008080; font-weight: bold\">16</span>, <span style=\"color: #008000; text-decoration-color: #008000\">'model_config__abstlay_dim_2'</span>: <span style=\"color: #008080; text-decoration-color: #008080; font-weight: bold\">64</span>, <span style=\"color: #008000; text-decoration-color: #008000\">'model_config__n_layers'</span>: <span style=\"color: #008080; text-decoration-color: #008080; font-weight: bold\">4</span>,                 \n",
       "<span style=\"color: #008000; text-decoration-color: #008000\">'optimizer_config__optimizer'</span>: <span style=\"color: #008000; text-decoration-color: #008000\">'AdamW'</span>, <span style=\"color: #008000; text-decoration-color: #008000\">'loss'</span>: <span style=\"color: #008080; text-decoration-color: #008080; font-weight: bold\">22.638837814331055</span>, <span style=\"color: #008000; text-decoration-color: #008000\">'mean_squared_error'</span>: <span style=\"color: #008080; text-decoration-color: #008080; font-weight: bold\">22.638837814331055</span>,      \n",
       "<span style=\"color: #008000; text-decoration-color: #008000\">'trial_id'</span>: <span style=\"color: #008080; text-decoration-color: #008080; font-weight: bold\">7</span><span style=\"font-weight: bold\">}</span> | Score: <span style=\"color: #008080; text-decoration-color: #008080; font-weight: bold\">22.638837814331055</span>                                                                         \n",
       "</pre>\n"
      ],
      "text/plain": [
       "\u001b[1;36m2025\u001b[0m-\u001b[1;36m02\u001b[0m-\u001b[1;36m26\u001b[0m \u001b[1;92m11:27:21\u001b[0m,\u001b[1;36m170\u001b[0m - \u001b[1m{\u001b[0mpytorch_tabular.tabular_model_tuner:\u001b[1;36m412\u001b[0m\u001b[1m}\u001b[0m - INFO - Trial \u001b[1;36m8\u001b[0m/\u001b[1;36m54\u001b[0m: \u001b[1m{\u001b[0m\u001b[32m'model'\u001b[0m: \u001b[32m'0-DANetConfig'\u001b[0m,\n",
       "\u001b[32m'model_config__abstlay_dim_1'\u001b[0m: \u001b[1;36m16\u001b[0m, \u001b[32m'model_config__abstlay_dim_2'\u001b[0m: \u001b[1;36m64\u001b[0m, \u001b[32m'model_config__n_layers'\u001b[0m: \u001b[1;36m4\u001b[0m,                 \n",
       "\u001b[32m'optimizer_config__optimizer'\u001b[0m: \u001b[32m'AdamW'\u001b[0m, \u001b[32m'loss'\u001b[0m: \u001b[1;36m22.638837814331055\u001b[0m, \u001b[32m'mean_squared_error'\u001b[0m: \u001b[1;36m22.638837814331055\u001b[0m,      \n",
       "\u001b[32m'trial_id'\u001b[0m: \u001b[1;36m7\u001b[0m\u001b[1m}\u001b[0m | Score: \u001b[1;36m22.638837814331055\u001b[0m                                                                         \n"
      ]
     },
     "metadata": {},
     "output_type": "display_data"
    },
    {
     "data": {
      "application/vnd.jupyter.widget-view+json": {
       "model_id": "2b8c20d10068431fa0384d2ae679f26b",
       "version_major": 2,
       "version_minor": 0
      },
      "text/plain": [
       "Finding best initial lr:   0%|          | 0/100 [00:00<?, ?it/s]"
      ]
     },
     "metadata": {},
     "output_type": "display_data"
    },
    {
     "data": {
      "text/html": [
       "<pre style=\"white-space:pre;overflow-x:auto;line-height:normal;font-family:Menlo,'DejaVu Sans Mono',consolas,'Courier New',monospace\"><span style=\"color: #008080; text-decoration-color: #008080; font-weight: bold\">2025</span>-<span style=\"color: #008080; text-decoration-color: #008080; font-weight: bold\">02</span>-<span style=\"color: #008080; text-decoration-color: #008080; font-weight: bold\">26</span> <span style=\"color: #00ff00; text-decoration-color: #00ff00; font-weight: bold\">11:29:15</span>,<span style=\"color: #008080; text-decoration-color: #008080; font-weight: bold\">017</span> - <span style=\"font-weight: bold\">{</span>pytorch_tabular.tabular_model_tuner:<span style=\"color: #008080; text-decoration-color: #008080; font-weight: bold\">412</span><span style=\"font-weight: bold\">}</span> - INFO - Trial <span style=\"color: #008080; text-decoration-color: #008080; font-weight: bold\">9</span>/<span style=\"color: #008080; text-decoration-color: #008080; font-weight: bold\">54</span>: <span style=\"font-weight: bold\">{</span><span style=\"color: #008000; text-decoration-color: #008000\">'model'</span>: <span style=\"color: #008000; text-decoration-color: #008000\">'0-DANetConfig'</span>,\n",
       "<span style=\"color: #008000; text-decoration-color: #008000\">'model_config__abstlay_dim_1'</span>: <span style=\"color: #008080; text-decoration-color: #008080; font-weight: bold\">16</span>, <span style=\"color: #008000; text-decoration-color: #008000\">'model_config__abstlay_dim_2'</span>: <span style=\"color: #008080; text-decoration-color: #008080; font-weight: bold\">64</span>, <span style=\"color: #008000; text-decoration-color: #008000\">'model_config__n_layers'</span>: <span style=\"color: #008080; text-decoration-color: #008080; font-weight: bold\">8</span>,                 \n",
       "<span style=\"color: #008000; text-decoration-color: #008000\">'optimizer_config__optimizer'</span>: <span style=\"color: #008000; text-decoration-color: #008000\">'Adam'</span>, <span style=\"color: #008000; text-decoration-color: #008000\">'loss'</span>: <span style=\"color: #008080; text-decoration-color: #008080; font-weight: bold\">1.0394145250320435</span>, <span style=\"color: #008000; text-decoration-color: #008000\">'mean_squared_error'</span>: <span style=\"color: #008080; text-decoration-color: #008080; font-weight: bold\">1.0394145250320435</span>,       \n",
       "<span style=\"color: #008000; text-decoration-color: #008000\">'trial_id'</span>: <span style=\"color: #008080; text-decoration-color: #008080; font-weight: bold\">8</span><span style=\"font-weight: bold\">}</span> | Score: <span style=\"color: #008080; text-decoration-color: #008080; font-weight: bold\">1.0394145250320435</span>                                                                         \n",
       "</pre>\n"
      ],
      "text/plain": [
       "\u001b[1;36m2025\u001b[0m-\u001b[1;36m02\u001b[0m-\u001b[1;36m26\u001b[0m \u001b[1;92m11:29:15\u001b[0m,\u001b[1;36m017\u001b[0m - \u001b[1m{\u001b[0mpytorch_tabular.tabular_model_tuner:\u001b[1;36m412\u001b[0m\u001b[1m}\u001b[0m - INFO - Trial \u001b[1;36m9\u001b[0m/\u001b[1;36m54\u001b[0m: \u001b[1m{\u001b[0m\u001b[32m'model'\u001b[0m: \u001b[32m'0-DANetConfig'\u001b[0m,\n",
       "\u001b[32m'model_config__abstlay_dim_1'\u001b[0m: \u001b[1;36m16\u001b[0m, \u001b[32m'model_config__abstlay_dim_2'\u001b[0m: \u001b[1;36m64\u001b[0m, \u001b[32m'model_config__n_layers'\u001b[0m: \u001b[1;36m8\u001b[0m,                 \n",
       "\u001b[32m'optimizer_config__optimizer'\u001b[0m: \u001b[32m'Adam'\u001b[0m, \u001b[32m'loss'\u001b[0m: \u001b[1;36m1.0394145250320435\u001b[0m, \u001b[32m'mean_squared_error'\u001b[0m: \u001b[1;36m1.0394145250320435\u001b[0m,       \n",
       "\u001b[32m'trial_id'\u001b[0m: \u001b[1;36m8\u001b[0m\u001b[1m}\u001b[0m | Score: \u001b[1;36m1.0394145250320435\u001b[0m                                                                         \n"
      ]
     },
     "metadata": {},
     "output_type": "display_data"
    },
    {
     "data": {
      "application/vnd.jupyter.widget-view+json": {
       "model_id": "21a667c5729343cc9ff522b485628d51",
       "version_major": 2,
       "version_minor": 0
      },
      "text/plain": [
       "Finding best initial lr:   0%|          | 0/100 [00:00<?, ?it/s]"
      ]
     },
     "metadata": {},
     "output_type": "display_data"
    },
    {
     "data": {
      "text/html": [
       "<pre style=\"white-space:pre;overflow-x:auto;line-height:normal;font-family:Menlo,'DejaVu Sans Mono',consolas,'Courier New',monospace\"><span style=\"color: #008080; text-decoration-color: #008080; font-weight: bold\">2025</span>-<span style=\"color: #008080; text-decoration-color: #008080; font-weight: bold\">02</span>-<span style=\"color: #008080; text-decoration-color: #008080; font-weight: bold\">26</span> <span style=\"color: #00ff00; text-decoration-color: #00ff00; font-weight: bold\">11:30:27</span>,<span style=\"color: #008080; text-decoration-color: #008080; font-weight: bold\">517</span> - <span style=\"font-weight: bold\">{</span>pytorch_tabular.tabular_model_tuner:<span style=\"color: #008080; text-decoration-color: #008080; font-weight: bold\">412</span><span style=\"font-weight: bold\">}</span> - INFO - Trial <span style=\"color: #008080; text-decoration-color: #008080; font-weight: bold\">10</span>/<span style=\"color: #008080; text-decoration-color: #008080; font-weight: bold\">54</span>: <span style=\"font-weight: bold\">{</span><span style=\"color: #008000; text-decoration-color: #008000\">'model'</span>:                \n",
       "<span style=\"color: #008000; text-decoration-color: #008000\">'0-DANetConfig'</span>, <span style=\"color: #008000; text-decoration-color: #008000\">'model_config__abstlay_dim_1'</span>: <span style=\"color: #008080; text-decoration-color: #008080; font-weight: bold\">16</span>, <span style=\"color: #008000; text-decoration-color: #008000\">'model_config__abstlay_dim_2'</span>: <span style=\"color: #008080; text-decoration-color: #008080; font-weight: bold\">64</span>, <span style=\"color: #008000; text-decoration-color: #008000\">'model_config__n_layers'</span>: <span style=\"color: #008080; text-decoration-color: #008080; font-weight: bold\">8</span>,\n",
       "<span style=\"color: #008000; text-decoration-color: #008000\">'optimizer_config__optimizer'</span>: <span style=\"color: #008000; text-decoration-color: #008000\">'AdamW'</span>, <span style=\"color: #008000; text-decoration-color: #008000\">'loss'</span>: <span style=\"color: #008080; text-decoration-color: #008080; font-weight: bold\">1.1364506483078003</span>, <span style=\"color: #008000; text-decoration-color: #008000\">'mean_squared_error'</span>: <span style=\"color: #008080; text-decoration-color: #008080; font-weight: bold\">1.1364506483078003</span>,      \n",
       "<span style=\"color: #008000; text-decoration-color: #008000\">'trial_id'</span>: <span style=\"color: #008080; text-decoration-color: #008080; font-weight: bold\">9</span><span style=\"font-weight: bold\">}</span> | Score: <span style=\"color: #008080; text-decoration-color: #008080; font-weight: bold\">1.1364506483078003</span>                                                                         \n",
       "</pre>\n"
      ],
      "text/plain": [
       "\u001b[1;36m2025\u001b[0m-\u001b[1;36m02\u001b[0m-\u001b[1;36m26\u001b[0m \u001b[1;92m11:30:27\u001b[0m,\u001b[1;36m517\u001b[0m - \u001b[1m{\u001b[0mpytorch_tabular.tabular_model_tuner:\u001b[1;36m412\u001b[0m\u001b[1m}\u001b[0m - INFO - Trial \u001b[1;36m10\u001b[0m/\u001b[1;36m54\u001b[0m: \u001b[1m{\u001b[0m\u001b[32m'model'\u001b[0m:                \n",
       "\u001b[32m'0-DANetConfig'\u001b[0m, \u001b[32m'model_config__abstlay_dim_1'\u001b[0m: \u001b[1;36m16\u001b[0m, \u001b[32m'model_config__abstlay_dim_2'\u001b[0m: \u001b[1;36m64\u001b[0m, \u001b[32m'model_config__n_layers'\u001b[0m: \u001b[1;36m8\u001b[0m,\n",
       "\u001b[32m'optimizer_config__optimizer'\u001b[0m: \u001b[32m'AdamW'\u001b[0m, \u001b[32m'loss'\u001b[0m: \u001b[1;36m1.1364506483078003\u001b[0m, \u001b[32m'mean_squared_error'\u001b[0m: \u001b[1;36m1.1364506483078003\u001b[0m,      \n",
       "\u001b[32m'trial_id'\u001b[0m: \u001b[1;36m9\u001b[0m\u001b[1m}\u001b[0m | Score: \u001b[1;36m1.1364506483078003\u001b[0m                                                                         \n"
      ]
     },
     "metadata": {},
     "output_type": "display_data"
    },
    {
     "data": {
      "application/vnd.jupyter.widget-view+json": {
       "model_id": "c81ec4fa989e40c29514a5d3f17ae63e",
       "version_major": 2,
       "version_minor": 0
      },
      "text/plain": [
       "Finding best initial lr:   0%|          | 0/100 [00:00<?, ?it/s]"
      ]
     },
     "metadata": {},
     "output_type": "display_data"
    },
    {
     "data": {
      "text/html": [
       "<pre style=\"white-space:pre;overflow-x:auto;line-height:normal;font-family:Menlo,'DejaVu Sans Mono',consolas,'Courier New',monospace\"><span style=\"color: #008080; text-decoration-color: #008080; font-weight: bold\">2025</span>-<span style=\"color: #008080; text-decoration-color: #008080; font-weight: bold\">02</span>-<span style=\"color: #008080; text-decoration-color: #008080; font-weight: bold\">26</span> <span style=\"color: #00ff00; text-decoration-color: #00ff00; font-weight: bold\">11:31:58</span>,<span style=\"color: #008080; text-decoration-color: #008080; font-weight: bold\">133</span> - <span style=\"font-weight: bold\">{</span>pytorch_tabular.tabular_model_tuner:<span style=\"color: #008080; text-decoration-color: #008080; font-weight: bold\">412</span><span style=\"font-weight: bold\">}</span> - INFO - Trial <span style=\"color: #008080; text-decoration-color: #008080; font-weight: bold\">11</span>/<span style=\"color: #008080; text-decoration-color: #008080; font-weight: bold\">54</span>: <span style=\"font-weight: bold\">{</span><span style=\"color: #008000; text-decoration-color: #008000\">'model'</span>:                \n",
       "<span style=\"color: #008000; text-decoration-color: #008000\">'0-DANetConfig'</span>, <span style=\"color: #008000; text-decoration-color: #008000\">'model_config__abstlay_dim_1'</span>: <span style=\"color: #008080; text-decoration-color: #008080; font-weight: bold\">16</span>, <span style=\"color: #008000; text-decoration-color: #008000\">'model_config__abstlay_dim_2'</span>: <span style=\"color: #008080; text-decoration-color: #008080; font-weight: bold\">64</span>, <span style=\"color: #008000; text-decoration-color: #008000\">'model_config__n_layers'</span>:   \n",
       "<span style=\"color: #008080; text-decoration-color: #008080; font-weight: bold\">16</span>, <span style=\"color: #008000; text-decoration-color: #008000\">'optimizer_config__optimizer'</span>: <span style=\"color: #008000; text-decoration-color: #008000\">'Adam'</span>, <span style=\"color: #008000; text-decoration-color: #008000\">'loss'</span>: <span style=\"color: #008080; text-decoration-color: #008080; font-weight: bold\">1.1394122838974</span>, <span style=\"color: #008000; text-decoration-color: #008000\">'mean_squared_error'</span>: <span style=\"color: #008080; text-decoration-color: #008080; font-weight: bold\">1.1394122838974</span>,         \n",
       "<span style=\"color: #008000; text-decoration-color: #008000\">'trial_id'</span>: <span style=\"color: #008080; text-decoration-color: #008080; font-weight: bold\">10</span><span style=\"font-weight: bold\">}</span> | Score: <span style=\"color: #008080; text-decoration-color: #008080; font-weight: bold\">1.1394122838974</span>                                                                           \n",
       "</pre>\n"
      ],
      "text/plain": [
       "\u001b[1;36m2025\u001b[0m-\u001b[1;36m02\u001b[0m-\u001b[1;36m26\u001b[0m \u001b[1;92m11:31:58\u001b[0m,\u001b[1;36m133\u001b[0m - \u001b[1m{\u001b[0mpytorch_tabular.tabular_model_tuner:\u001b[1;36m412\u001b[0m\u001b[1m}\u001b[0m - INFO - Trial \u001b[1;36m11\u001b[0m/\u001b[1;36m54\u001b[0m: \u001b[1m{\u001b[0m\u001b[32m'model'\u001b[0m:                \n",
       "\u001b[32m'0-DANetConfig'\u001b[0m, \u001b[32m'model_config__abstlay_dim_1'\u001b[0m: \u001b[1;36m16\u001b[0m, \u001b[32m'model_config__abstlay_dim_2'\u001b[0m: \u001b[1;36m64\u001b[0m, \u001b[32m'model_config__n_layers'\u001b[0m:   \n",
       "\u001b[1;36m16\u001b[0m, \u001b[32m'optimizer_config__optimizer'\u001b[0m: \u001b[32m'Adam'\u001b[0m, \u001b[32m'loss'\u001b[0m: \u001b[1;36m1.1394122838974\u001b[0m, \u001b[32m'mean_squared_error'\u001b[0m: \u001b[1;36m1.1394122838974\u001b[0m,         \n",
       "\u001b[32m'trial_id'\u001b[0m: \u001b[1;36m10\u001b[0m\u001b[1m}\u001b[0m | Score: \u001b[1;36m1.1394122838974\u001b[0m                                                                           \n"
      ]
     },
     "metadata": {},
     "output_type": "display_data"
    },
    {
     "data": {
      "application/vnd.jupyter.widget-view+json": {
       "model_id": "1fd687008e024af2a265a239ae7e4bf1",
       "version_major": 2,
       "version_minor": 0
      },
      "text/plain": [
       "Finding best initial lr:   0%|          | 0/100 [00:00<?, ?it/s]"
      ]
     },
     "metadata": {},
     "output_type": "display_data"
    },
    {
     "data": {
      "text/html": [
       "<pre style=\"white-space:pre;overflow-x:auto;line-height:normal;font-family:Menlo,'DejaVu Sans Mono',consolas,'Courier New',monospace\"><span style=\"color: #008080; text-decoration-color: #008080; font-weight: bold\">2025</span>-<span style=\"color: #008080; text-decoration-color: #008080; font-weight: bold\">02</span>-<span style=\"color: #008080; text-decoration-color: #008080; font-weight: bold\">26</span> <span style=\"color: #00ff00; text-decoration-color: #00ff00; font-weight: bold\">11:33:50</span>,<span style=\"color: #008080; text-decoration-color: #008080; font-weight: bold\">156</span> - <span style=\"font-weight: bold\">{</span>pytorch_tabular.tabular_model_tuner:<span style=\"color: #008080; text-decoration-color: #008080; font-weight: bold\">412</span><span style=\"font-weight: bold\">}</span> - INFO - Trial <span style=\"color: #008080; text-decoration-color: #008080; font-weight: bold\">12</span>/<span style=\"color: #008080; text-decoration-color: #008080; font-weight: bold\">54</span>: <span style=\"font-weight: bold\">{</span><span style=\"color: #008000; text-decoration-color: #008000\">'model'</span>:                \n",
       "<span style=\"color: #008000; text-decoration-color: #008000\">'0-DANetConfig'</span>, <span style=\"color: #008000; text-decoration-color: #008000\">'model_config__abstlay_dim_1'</span>: <span style=\"color: #008080; text-decoration-color: #008080; font-weight: bold\">16</span>, <span style=\"color: #008000; text-decoration-color: #008000\">'model_config__abstlay_dim_2'</span>: <span style=\"color: #008080; text-decoration-color: #008080; font-weight: bold\">64</span>, <span style=\"color: #008000; text-decoration-color: #008000\">'model_config__n_layers'</span>:   \n",
       "<span style=\"color: #008080; text-decoration-color: #008080; font-weight: bold\">16</span>, <span style=\"color: #008000; text-decoration-color: #008000\">'optimizer_config__optimizer'</span>: <span style=\"color: #008000; text-decoration-color: #008000\">'AdamW'</span>, <span style=\"color: #008000; text-decoration-color: #008000\">'loss'</span>: <span style=\"color: #008080; text-decoration-color: #008080; font-weight: bold\">1.439426064491272</span>, <span style=\"color: #008000; text-decoration-color: #008000\">'mean_squared_error'</span>: <span style=\"color: #008080; text-decoration-color: #008080; font-weight: bold\">1.439426064491272</span>,    \n",
       "<span style=\"color: #008000; text-decoration-color: #008000\">'trial_id'</span>: <span style=\"color: #008080; text-decoration-color: #008080; font-weight: bold\">11</span><span style=\"font-weight: bold\">}</span> | Score: <span style=\"color: #008080; text-decoration-color: #008080; font-weight: bold\">1.439426064491272</span>                                                                         \n",
       "</pre>\n"
      ],
      "text/plain": [
       "\u001b[1;36m2025\u001b[0m-\u001b[1;36m02\u001b[0m-\u001b[1;36m26\u001b[0m \u001b[1;92m11:33:50\u001b[0m,\u001b[1;36m156\u001b[0m - \u001b[1m{\u001b[0mpytorch_tabular.tabular_model_tuner:\u001b[1;36m412\u001b[0m\u001b[1m}\u001b[0m - INFO - Trial \u001b[1;36m12\u001b[0m/\u001b[1;36m54\u001b[0m: \u001b[1m{\u001b[0m\u001b[32m'model'\u001b[0m:                \n",
       "\u001b[32m'0-DANetConfig'\u001b[0m, \u001b[32m'model_config__abstlay_dim_1'\u001b[0m: \u001b[1;36m16\u001b[0m, \u001b[32m'model_config__abstlay_dim_2'\u001b[0m: \u001b[1;36m64\u001b[0m, \u001b[32m'model_config__n_layers'\u001b[0m:   \n",
       "\u001b[1;36m16\u001b[0m, \u001b[32m'optimizer_config__optimizer'\u001b[0m: \u001b[32m'AdamW'\u001b[0m, \u001b[32m'loss'\u001b[0m: \u001b[1;36m1.439426064491272\u001b[0m, \u001b[32m'mean_squared_error'\u001b[0m: \u001b[1;36m1.439426064491272\u001b[0m,    \n",
       "\u001b[32m'trial_id'\u001b[0m: \u001b[1;36m11\u001b[0m\u001b[1m}\u001b[0m | Score: \u001b[1;36m1.439426064491272\u001b[0m                                                                         \n"
      ]
     },
     "metadata": {},
     "output_type": "display_data"
    },
    {
     "data": {
      "application/vnd.jupyter.widget-view+json": {
       "model_id": "ef45d43ed9f24e429475726474d910d2",
       "version_major": 2,
       "version_minor": 0
      },
      "text/plain": [
       "Finding best initial lr:   0%|          | 0/100 [00:00<?, ?it/s]"
      ]
     },
     "metadata": {},
     "output_type": "display_data"
    },
    {
     "data": {
      "text/html": [
       "<pre style=\"white-space:pre;overflow-x:auto;line-height:normal;font-family:Menlo,'DejaVu Sans Mono',consolas,'Courier New',monospace\"><span style=\"color: #008080; text-decoration-color: #008080; font-weight: bold\">2025</span>-<span style=\"color: #008080; text-decoration-color: #008080; font-weight: bold\">02</span>-<span style=\"color: #008080; text-decoration-color: #008080; font-weight: bold\">26</span> <span style=\"color: #00ff00; text-decoration-color: #00ff00; font-weight: bold\">11:34:27</span>,<span style=\"color: #008080; text-decoration-color: #008080; font-weight: bold\">585</span> - <span style=\"font-weight: bold\">{</span>pytorch_tabular.tabular_model_tuner:<span style=\"color: #008080; text-decoration-color: #008080; font-weight: bold\">412</span><span style=\"font-weight: bold\">}</span> - INFO - Trial <span style=\"color: #008080; text-decoration-color: #008080; font-weight: bold\">13</span>/<span style=\"color: #008080; text-decoration-color: #008080; font-weight: bold\">54</span>: <span style=\"font-weight: bold\">{</span><span style=\"color: #008000; text-decoration-color: #008000\">'model'</span>:                \n",
       "<span style=\"color: #008000; text-decoration-color: #008000\">'0-DANetConfig'</span>, <span style=\"color: #008000; text-decoration-color: #008000\">'model_config__abstlay_dim_1'</span>: <span style=\"color: #008080; text-decoration-color: #008080; font-weight: bold\">16</span>, <span style=\"color: #008000; text-decoration-color: #008000\">'model_config__abstlay_dim_2'</span>: <span style=\"color: #008080; text-decoration-color: #008080; font-weight: bold\">128</span>, <span style=\"color: #008000; text-decoration-color: #008000\">'model_config__n_layers'</span>:  \n",
       "<span style=\"color: #008080; text-decoration-color: #008080; font-weight: bold\">4</span>, <span style=\"color: #008000; text-decoration-color: #008000\">'optimizer_config__optimizer'</span>: <span style=\"color: #008000; text-decoration-color: #008000\">'Adam'</span>, <span style=\"color: #008000; text-decoration-color: #008000\">'loss'</span>: <span style=\"color: #008080; text-decoration-color: #008080; font-weight: bold\">1.232030987739563</span>, <span style=\"color: #008000; text-decoration-color: #008000\">'mean_squared_error'</span>: <span style=\"color: #008080; text-decoration-color: #008080; font-weight: bold\">1.232030987739563</span>,      \n",
       "<span style=\"color: #008000; text-decoration-color: #008000\">'trial_id'</span>: <span style=\"color: #008080; text-decoration-color: #008080; font-weight: bold\">12</span><span style=\"font-weight: bold\">}</span> | Score: <span style=\"color: #008080; text-decoration-color: #008080; font-weight: bold\">1.232030987739563</span>                                                                         \n",
       "</pre>\n"
      ],
      "text/plain": [
       "\u001b[1;36m2025\u001b[0m-\u001b[1;36m02\u001b[0m-\u001b[1;36m26\u001b[0m \u001b[1;92m11:34:27\u001b[0m,\u001b[1;36m585\u001b[0m - \u001b[1m{\u001b[0mpytorch_tabular.tabular_model_tuner:\u001b[1;36m412\u001b[0m\u001b[1m}\u001b[0m - INFO - Trial \u001b[1;36m13\u001b[0m/\u001b[1;36m54\u001b[0m: \u001b[1m{\u001b[0m\u001b[32m'model'\u001b[0m:                \n",
       "\u001b[32m'0-DANetConfig'\u001b[0m, \u001b[32m'model_config__abstlay_dim_1'\u001b[0m: \u001b[1;36m16\u001b[0m, \u001b[32m'model_config__abstlay_dim_2'\u001b[0m: \u001b[1;36m128\u001b[0m, \u001b[32m'model_config__n_layers'\u001b[0m:  \n",
       "\u001b[1;36m4\u001b[0m, \u001b[32m'optimizer_config__optimizer'\u001b[0m: \u001b[32m'Adam'\u001b[0m, \u001b[32m'loss'\u001b[0m: \u001b[1;36m1.232030987739563\u001b[0m, \u001b[32m'mean_squared_error'\u001b[0m: \u001b[1;36m1.232030987739563\u001b[0m,      \n",
       "\u001b[32m'trial_id'\u001b[0m: \u001b[1;36m12\u001b[0m\u001b[1m}\u001b[0m | Score: \u001b[1;36m1.232030987739563\u001b[0m                                                                         \n"
      ]
     },
     "metadata": {},
     "output_type": "display_data"
    },
    {
     "data": {
      "application/vnd.jupyter.widget-view+json": {
       "model_id": "519b4dea7c3340cf89c7e467791d0197",
       "version_major": 2,
       "version_minor": 0
      },
      "text/plain": [
       "Finding best initial lr:   0%|          | 0/100 [00:00<?, ?it/s]"
      ]
     },
     "metadata": {},
     "output_type": "display_data"
    },
    {
     "data": {
      "text/html": [
       "<pre style=\"white-space:pre;overflow-x:auto;line-height:normal;font-family:Menlo,'DejaVu Sans Mono',consolas,'Courier New',monospace\"><span style=\"color: #008080; text-decoration-color: #008080; font-weight: bold\">2025</span>-<span style=\"color: #008080; text-decoration-color: #008080; font-weight: bold\">02</span>-<span style=\"color: #008080; text-decoration-color: #008080; font-weight: bold\">26</span> <span style=\"color: #00ff00; text-decoration-color: #00ff00; font-weight: bold\">11:35:02</span>,<span style=\"color: #008080; text-decoration-color: #008080; font-weight: bold\">292</span> - <span style=\"font-weight: bold\">{</span>pytorch_tabular.tabular_model_tuner:<span style=\"color: #008080; text-decoration-color: #008080; font-weight: bold\">412</span><span style=\"font-weight: bold\">}</span> - INFO - Trial <span style=\"color: #008080; text-decoration-color: #008080; font-weight: bold\">14</span>/<span style=\"color: #008080; text-decoration-color: #008080; font-weight: bold\">54</span>: <span style=\"font-weight: bold\">{</span><span style=\"color: #008000; text-decoration-color: #008000\">'model'</span>:                \n",
       "<span style=\"color: #008000; text-decoration-color: #008000\">'0-DANetConfig'</span>, <span style=\"color: #008000; text-decoration-color: #008000\">'model_config__abstlay_dim_1'</span>: <span style=\"color: #008080; text-decoration-color: #008080; font-weight: bold\">16</span>, <span style=\"color: #008000; text-decoration-color: #008000\">'model_config__abstlay_dim_2'</span>: <span style=\"color: #008080; text-decoration-color: #008080; font-weight: bold\">128</span>, <span style=\"color: #008000; text-decoration-color: #008000\">'model_config__n_layers'</span>:  \n",
       "<span style=\"color: #008080; text-decoration-color: #008080; font-weight: bold\">4</span>, <span style=\"color: #008000; text-decoration-color: #008000\">'optimizer_config__optimizer'</span>: <span style=\"color: #008000; text-decoration-color: #008000\">'AdamW'</span>, <span style=\"color: #008000; text-decoration-color: #008000\">'loss'</span>: <span style=\"color: #008080; text-decoration-color: #008080; font-weight: bold\">24.015657424926758</span>, <span style=\"color: #008000; text-decoration-color: #008000\">'mean_squared_error'</span>: <span style=\"color: #008080; text-decoration-color: #008080; font-weight: bold\">24.015657424926758</span>,   \n",
       "<span style=\"color: #008000; text-decoration-color: #008000\">'trial_id'</span>: <span style=\"color: #008080; text-decoration-color: #008080; font-weight: bold\">13</span><span style=\"font-weight: bold\">}</span> | Score: <span style=\"color: #008080; text-decoration-color: #008080; font-weight: bold\">24.015657424926758</span>                                                                        \n",
       "</pre>\n"
      ],
      "text/plain": [
       "\u001b[1;36m2025\u001b[0m-\u001b[1;36m02\u001b[0m-\u001b[1;36m26\u001b[0m \u001b[1;92m11:35:02\u001b[0m,\u001b[1;36m292\u001b[0m - \u001b[1m{\u001b[0mpytorch_tabular.tabular_model_tuner:\u001b[1;36m412\u001b[0m\u001b[1m}\u001b[0m - INFO - Trial \u001b[1;36m14\u001b[0m/\u001b[1;36m54\u001b[0m: \u001b[1m{\u001b[0m\u001b[32m'model'\u001b[0m:                \n",
       "\u001b[32m'0-DANetConfig'\u001b[0m, \u001b[32m'model_config__abstlay_dim_1'\u001b[0m: \u001b[1;36m16\u001b[0m, \u001b[32m'model_config__abstlay_dim_2'\u001b[0m: \u001b[1;36m128\u001b[0m, \u001b[32m'model_config__n_layers'\u001b[0m:  \n",
       "\u001b[1;36m4\u001b[0m, \u001b[32m'optimizer_config__optimizer'\u001b[0m: \u001b[32m'AdamW'\u001b[0m, \u001b[32m'loss'\u001b[0m: \u001b[1;36m24.015657424926758\u001b[0m, \u001b[32m'mean_squared_error'\u001b[0m: \u001b[1;36m24.015657424926758\u001b[0m,   \n",
       "\u001b[32m'trial_id'\u001b[0m: \u001b[1;36m13\u001b[0m\u001b[1m}\u001b[0m | Score: \u001b[1;36m24.015657424926758\u001b[0m                                                                        \n"
      ]
     },
     "metadata": {},
     "output_type": "display_data"
    },
    {
     "data": {
      "application/vnd.jupyter.widget-view+json": {
       "model_id": "7d1181a27d934fd9b93492d74e923ebe",
       "version_major": 2,
       "version_minor": 0
      },
      "text/plain": [
       "Finding best initial lr:   0%|          | 0/100 [00:00<?, ?it/s]"
      ]
     },
     "metadata": {},
     "output_type": "display_data"
    },
    {
     "data": {
      "text/html": [
       "<pre style=\"white-space:pre;overflow-x:auto;line-height:normal;font-family:Menlo,'DejaVu Sans Mono',consolas,'Courier New',monospace\"><span style=\"color: #008080; text-decoration-color: #008080; font-weight: bold\">2025</span>-<span style=\"color: #008080; text-decoration-color: #008080; font-weight: bold\">02</span>-<span style=\"color: #008080; text-decoration-color: #008080; font-weight: bold\">26</span> <span style=\"color: #00ff00; text-decoration-color: #00ff00; font-weight: bold\">11:36:26</span>,<span style=\"color: #008080; text-decoration-color: #008080; font-weight: bold\">877</span> - <span style=\"font-weight: bold\">{</span>pytorch_tabular.tabular_model_tuner:<span style=\"color: #008080; text-decoration-color: #008080; font-weight: bold\">412</span><span style=\"font-weight: bold\">}</span> - INFO - Trial <span style=\"color: #008080; text-decoration-color: #008080; font-weight: bold\">15</span>/<span style=\"color: #008080; text-decoration-color: #008080; font-weight: bold\">54</span>: <span style=\"font-weight: bold\">{</span><span style=\"color: #008000; text-decoration-color: #008000\">'model'</span>:                \n",
       "<span style=\"color: #008000; text-decoration-color: #008000\">'0-DANetConfig'</span>, <span style=\"color: #008000; text-decoration-color: #008000\">'model_config__abstlay_dim_1'</span>: <span style=\"color: #008080; text-decoration-color: #008080; font-weight: bold\">16</span>, <span style=\"color: #008000; text-decoration-color: #008000\">'model_config__abstlay_dim_2'</span>: <span style=\"color: #008080; text-decoration-color: #008080; font-weight: bold\">128</span>, <span style=\"color: #008000; text-decoration-color: #008000\">'model_config__n_layers'</span>:  \n",
       "<span style=\"color: #008080; text-decoration-color: #008080; font-weight: bold\">8</span>, <span style=\"color: #008000; text-decoration-color: #008000\">'optimizer_config__optimizer'</span>: <span style=\"color: #008000; text-decoration-color: #008000\">'Adam'</span>, <span style=\"color: #008000; text-decoration-color: #008000\">'loss'</span>: <span style=\"color: #008080; text-decoration-color: #008080; font-weight: bold\">0.992075502872467</span>, <span style=\"color: #008000; text-decoration-color: #008000\">'mean_squared_error'</span>: <span style=\"color: #008080; text-decoration-color: #008080; font-weight: bold\">0.992075502872467</span>,      \n",
       "<span style=\"color: #008000; text-decoration-color: #008000\">'trial_id'</span>: <span style=\"color: #008080; text-decoration-color: #008080; font-weight: bold\">14</span><span style=\"font-weight: bold\">}</span> | Score: <span style=\"color: #008080; text-decoration-color: #008080; font-weight: bold\">0.992075502872467</span>                                                                         \n",
       "</pre>\n"
      ],
      "text/plain": [
       "\u001b[1;36m2025\u001b[0m-\u001b[1;36m02\u001b[0m-\u001b[1;36m26\u001b[0m \u001b[1;92m11:36:26\u001b[0m,\u001b[1;36m877\u001b[0m - \u001b[1m{\u001b[0mpytorch_tabular.tabular_model_tuner:\u001b[1;36m412\u001b[0m\u001b[1m}\u001b[0m - INFO - Trial \u001b[1;36m15\u001b[0m/\u001b[1;36m54\u001b[0m: \u001b[1m{\u001b[0m\u001b[32m'model'\u001b[0m:                \n",
       "\u001b[32m'0-DANetConfig'\u001b[0m, \u001b[32m'model_config__abstlay_dim_1'\u001b[0m: \u001b[1;36m16\u001b[0m, \u001b[32m'model_config__abstlay_dim_2'\u001b[0m: \u001b[1;36m128\u001b[0m, \u001b[32m'model_config__n_layers'\u001b[0m:  \n",
       "\u001b[1;36m8\u001b[0m, \u001b[32m'optimizer_config__optimizer'\u001b[0m: \u001b[32m'Adam'\u001b[0m, \u001b[32m'loss'\u001b[0m: \u001b[1;36m0.992075502872467\u001b[0m, \u001b[32m'mean_squared_error'\u001b[0m: \u001b[1;36m0.992075502872467\u001b[0m,      \n",
       "\u001b[32m'trial_id'\u001b[0m: \u001b[1;36m14\u001b[0m\u001b[1m}\u001b[0m | Score: \u001b[1;36m0.992075502872467\u001b[0m                                                                         \n"
      ]
     },
     "metadata": {},
     "output_type": "display_data"
    },
    {
     "data": {
      "application/vnd.jupyter.widget-view+json": {
       "model_id": "2bbd80aa21434a8c82c06490357b8538",
       "version_major": 2,
       "version_minor": 0
      },
      "text/plain": [
       "Finding best initial lr:   0%|          | 0/100 [00:00<?, ?it/s]"
      ]
     },
     "metadata": {},
     "output_type": "display_data"
    },
    {
     "data": {
      "text/html": [
       "<pre style=\"white-space:pre;overflow-x:auto;line-height:normal;font-family:Menlo,'DejaVu Sans Mono',consolas,'Courier New',monospace\"><span style=\"color: #008080; text-decoration-color: #008080; font-weight: bold\">2025</span>-<span style=\"color: #008080; text-decoration-color: #008080; font-weight: bold\">02</span>-<span style=\"color: #008080; text-decoration-color: #008080; font-weight: bold\">26</span> <span style=\"color: #00ff00; text-decoration-color: #00ff00; font-weight: bold\">11:37:20</span>,<span style=\"color: #008080; text-decoration-color: #008080; font-weight: bold\">789</span> - <span style=\"font-weight: bold\">{</span>pytorch_tabular.tabular_model_tuner:<span style=\"color: #008080; text-decoration-color: #008080; font-weight: bold\">412</span><span style=\"font-weight: bold\">}</span> - INFO - Trial <span style=\"color: #008080; text-decoration-color: #008080; font-weight: bold\">16</span>/<span style=\"color: #008080; text-decoration-color: #008080; font-weight: bold\">54</span>: <span style=\"font-weight: bold\">{</span><span style=\"color: #008000; text-decoration-color: #008000\">'model'</span>:                \n",
       "<span style=\"color: #008000; text-decoration-color: #008000\">'0-DANetConfig'</span>, <span style=\"color: #008000; text-decoration-color: #008000\">'model_config__abstlay_dim_1'</span>: <span style=\"color: #008080; text-decoration-color: #008080; font-weight: bold\">16</span>, <span style=\"color: #008000; text-decoration-color: #008000\">'model_config__abstlay_dim_2'</span>: <span style=\"color: #008080; text-decoration-color: #008080; font-weight: bold\">128</span>, <span style=\"color: #008000; text-decoration-color: #008000\">'model_config__n_layers'</span>:  \n",
       "<span style=\"color: #008080; text-decoration-color: #008080; font-weight: bold\">8</span>, <span style=\"color: #008000; text-decoration-color: #008000\">'optimizer_config__optimizer'</span>: <span style=\"color: #008000; text-decoration-color: #008000\">'AdamW'</span>, <span style=\"color: #008000; text-decoration-color: #008000\">'loss'</span>: <span style=\"color: #008080; text-decoration-color: #008080; font-weight: bold\">1.018850326538086</span>, <span style=\"color: #008000; text-decoration-color: #008000\">'mean_squared_error'</span>: <span style=\"color: #008080; text-decoration-color: #008080; font-weight: bold\">1.018850326538086</span>,     \n",
       "<span style=\"color: #008000; text-decoration-color: #008000\">'trial_id'</span>: <span style=\"color: #008080; text-decoration-color: #008080; font-weight: bold\">15</span><span style=\"font-weight: bold\">}</span> | Score: <span style=\"color: #008080; text-decoration-color: #008080; font-weight: bold\">1.018850326538086</span>                                                                         \n",
       "</pre>\n"
      ],
      "text/plain": [
       "\u001b[1;36m2025\u001b[0m-\u001b[1;36m02\u001b[0m-\u001b[1;36m26\u001b[0m \u001b[1;92m11:37:20\u001b[0m,\u001b[1;36m789\u001b[0m - \u001b[1m{\u001b[0mpytorch_tabular.tabular_model_tuner:\u001b[1;36m412\u001b[0m\u001b[1m}\u001b[0m - INFO - Trial \u001b[1;36m16\u001b[0m/\u001b[1;36m54\u001b[0m: \u001b[1m{\u001b[0m\u001b[32m'model'\u001b[0m:                \n",
       "\u001b[32m'0-DANetConfig'\u001b[0m, \u001b[32m'model_config__abstlay_dim_1'\u001b[0m: \u001b[1;36m16\u001b[0m, \u001b[32m'model_config__abstlay_dim_2'\u001b[0m: \u001b[1;36m128\u001b[0m, \u001b[32m'model_config__n_layers'\u001b[0m:  \n",
       "\u001b[1;36m8\u001b[0m, \u001b[32m'optimizer_config__optimizer'\u001b[0m: \u001b[32m'AdamW'\u001b[0m, \u001b[32m'loss'\u001b[0m: \u001b[1;36m1.018850326538086\u001b[0m, \u001b[32m'mean_squared_error'\u001b[0m: \u001b[1;36m1.018850326538086\u001b[0m,     \n",
       "\u001b[32m'trial_id'\u001b[0m: \u001b[1;36m15\u001b[0m\u001b[1m}\u001b[0m | Score: \u001b[1;36m1.018850326538086\u001b[0m                                                                         \n"
      ]
     },
     "metadata": {},
     "output_type": "display_data"
    },
    {
     "data": {
      "application/vnd.jupyter.widget-view+json": {
       "model_id": "915bd0b30ead45f88d38a1ca754db3d6",
       "version_major": 2,
       "version_minor": 0
      },
      "text/plain": [
       "Finding best initial lr:   0%|          | 0/100 [00:00<?, ?it/s]"
      ]
     },
     "metadata": {},
     "output_type": "display_data"
    },
    {
     "data": {
      "text/html": [
       "<pre style=\"white-space:pre;overflow-x:auto;line-height:normal;font-family:Menlo,'DejaVu Sans Mono',consolas,'Courier New',monospace\"><span style=\"color: #008080; text-decoration-color: #008080; font-weight: bold\">2025</span>-<span style=\"color: #008080; text-decoration-color: #008080; font-weight: bold\">02</span>-<span style=\"color: #008080; text-decoration-color: #008080; font-weight: bold\">26</span> <span style=\"color: #00ff00; text-decoration-color: #00ff00; font-weight: bold\">11:38:54</span>,<span style=\"color: #008080; text-decoration-color: #008080; font-weight: bold\">460</span> - <span style=\"font-weight: bold\">{</span>pytorch_tabular.tabular_model_tuner:<span style=\"color: #008080; text-decoration-color: #008080; font-weight: bold\">412</span><span style=\"font-weight: bold\">}</span> - INFO - Trial <span style=\"color: #008080; text-decoration-color: #008080; font-weight: bold\">17</span>/<span style=\"color: #008080; text-decoration-color: #008080; font-weight: bold\">54</span>: <span style=\"font-weight: bold\">{</span><span style=\"color: #008000; text-decoration-color: #008000\">'model'</span>:                \n",
       "<span style=\"color: #008000; text-decoration-color: #008000\">'0-DANetConfig'</span>, <span style=\"color: #008000; text-decoration-color: #008000\">'model_config__abstlay_dim_1'</span>: <span style=\"color: #008080; text-decoration-color: #008080; font-weight: bold\">16</span>, <span style=\"color: #008000; text-decoration-color: #008000\">'model_config__abstlay_dim_2'</span>: <span style=\"color: #008080; text-decoration-color: #008080; font-weight: bold\">128</span>, <span style=\"color: #008000; text-decoration-color: #008000\">'model_config__n_layers'</span>:  \n",
       "<span style=\"color: #008080; text-decoration-color: #008080; font-weight: bold\">16</span>, <span style=\"color: #008000; text-decoration-color: #008000\">'optimizer_config__optimizer'</span>: <span style=\"color: #008000; text-decoration-color: #008000\">'Adam'</span>, <span style=\"color: #008000; text-decoration-color: #008000\">'loss'</span>: <span style=\"color: #008080; text-decoration-color: #008080; font-weight: bold\">1.1588470935821533</span>, <span style=\"color: #008000; text-decoration-color: #008000\">'mean_squared_error'</span>: <span style=\"color: #008080; text-decoration-color: #008080; font-weight: bold\">1.1588470935821533</span>,   \n",
       "<span style=\"color: #008000; text-decoration-color: #008000\">'trial_id'</span>: <span style=\"color: #008080; text-decoration-color: #008080; font-weight: bold\">16</span><span style=\"font-weight: bold\">}</span> | Score: <span style=\"color: #008080; text-decoration-color: #008080; font-weight: bold\">1.1588470935821533</span>                                                                        \n",
       "</pre>\n"
      ],
      "text/plain": [
       "\u001b[1;36m2025\u001b[0m-\u001b[1;36m02\u001b[0m-\u001b[1;36m26\u001b[0m \u001b[1;92m11:38:54\u001b[0m,\u001b[1;36m460\u001b[0m - \u001b[1m{\u001b[0mpytorch_tabular.tabular_model_tuner:\u001b[1;36m412\u001b[0m\u001b[1m}\u001b[0m - INFO - Trial \u001b[1;36m17\u001b[0m/\u001b[1;36m54\u001b[0m: \u001b[1m{\u001b[0m\u001b[32m'model'\u001b[0m:                \n",
       "\u001b[32m'0-DANetConfig'\u001b[0m, \u001b[32m'model_config__abstlay_dim_1'\u001b[0m: \u001b[1;36m16\u001b[0m, \u001b[32m'model_config__abstlay_dim_2'\u001b[0m: \u001b[1;36m128\u001b[0m, \u001b[32m'model_config__n_layers'\u001b[0m:  \n",
       "\u001b[1;36m16\u001b[0m, \u001b[32m'optimizer_config__optimizer'\u001b[0m: \u001b[32m'Adam'\u001b[0m, \u001b[32m'loss'\u001b[0m: \u001b[1;36m1.1588470935821533\u001b[0m, \u001b[32m'mean_squared_error'\u001b[0m: \u001b[1;36m1.1588470935821533\u001b[0m,   \n",
       "\u001b[32m'trial_id'\u001b[0m: \u001b[1;36m16\u001b[0m\u001b[1m}\u001b[0m | Score: \u001b[1;36m1.1588470935821533\u001b[0m                                                                        \n"
      ]
     },
     "metadata": {},
     "output_type": "display_data"
    },
    {
     "data": {
      "application/vnd.jupyter.widget-view+json": {
       "model_id": "1b2d811899a144239a3c945dc22418f6",
       "version_major": 2,
       "version_minor": 0
      },
      "text/plain": [
       "Finding best initial lr:   0%|          | 0/100 [00:00<?, ?it/s]"
      ]
     },
     "metadata": {},
     "output_type": "display_data"
    },
    {
     "data": {
      "text/html": [
       "<pre style=\"white-space:pre;overflow-x:auto;line-height:normal;font-family:Menlo,'DejaVu Sans Mono',consolas,'Courier New',monospace\"><span style=\"color: #008080; text-decoration-color: #008080; font-weight: bold\">2025</span>-<span style=\"color: #008080; text-decoration-color: #008080; font-weight: bold\">02</span>-<span style=\"color: #008080; text-decoration-color: #008080; font-weight: bold\">26</span> <span style=\"color: #00ff00; text-decoration-color: #00ff00; font-weight: bold\">11:41:06</span>,<span style=\"color: #008080; text-decoration-color: #008080; font-weight: bold\">213</span> - <span style=\"font-weight: bold\">{</span>pytorch_tabular.tabular_model_tuner:<span style=\"color: #008080; text-decoration-color: #008080; font-weight: bold\">412</span><span style=\"font-weight: bold\">}</span> - INFO - Trial <span style=\"color: #008080; text-decoration-color: #008080; font-weight: bold\">18</span>/<span style=\"color: #008080; text-decoration-color: #008080; font-weight: bold\">54</span>: <span style=\"font-weight: bold\">{</span><span style=\"color: #008000; text-decoration-color: #008000\">'model'</span>:                \n",
       "<span style=\"color: #008000; text-decoration-color: #008000\">'0-DANetConfig'</span>, <span style=\"color: #008000; text-decoration-color: #008000\">'model_config__abstlay_dim_1'</span>: <span style=\"color: #008080; text-decoration-color: #008080; font-weight: bold\">16</span>, <span style=\"color: #008000; text-decoration-color: #008000\">'model_config__abstlay_dim_2'</span>: <span style=\"color: #008080; text-decoration-color: #008080; font-weight: bold\">128</span>, <span style=\"color: #008000; text-decoration-color: #008000\">'model_config__n_layers'</span>:  \n",
       "<span style=\"color: #008080; text-decoration-color: #008080; font-weight: bold\">16</span>, <span style=\"color: #008000; text-decoration-color: #008000\">'optimizer_config__optimizer'</span>: <span style=\"color: #008000; text-decoration-color: #008000\">'AdamW'</span>, <span style=\"color: #008000; text-decoration-color: #008000\">'loss'</span>: <span style=\"color: #008080; text-decoration-color: #008080; font-weight: bold\">1.138035535812378</span>, <span style=\"color: #008000; text-decoration-color: #008000\">'mean_squared_error'</span>: <span style=\"color: #008080; text-decoration-color: #008080; font-weight: bold\">1.138035535812378</span>,    \n",
       "<span style=\"color: #008000; text-decoration-color: #008000\">'trial_id'</span>: <span style=\"color: #008080; text-decoration-color: #008080; font-weight: bold\">17</span><span style=\"font-weight: bold\">}</span> | Score: <span style=\"color: #008080; text-decoration-color: #008080; font-weight: bold\">1.138035535812378</span>                                                                         \n",
       "</pre>\n"
      ],
      "text/plain": [
       "\u001b[1;36m2025\u001b[0m-\u001b[1;36m02\u001b[0m-\u001b[1;36m26\u001b[0m \u001b[1;92m11:41:06\u001b[0m,\u001b[1;36m213\u001b[0m - \u001b[1m{\u001b[0mpytorch_tabular.tabular_model_tuner:\u001b[1;36m412\u001b[0m\u001b[1m}\u001b[0m - INFO - Trial \u001b[1;36m18\u001b[0m/\u001b[1;36m54\u001b[0m: \u001b[1m{\u001b[0m\u001b[32m'model'\u001b[0m:                \n",
       "\u001b[32m'0-DANetConfig'\u001b[0m, \u001b[32m'model_config__abstlay_dim_1'\u001b[0m: \u001b[1;36m16\u001b[0m, \u001b[32m'model_config__abstlay_dim_2'\u001b[0m: \u001b[1;36m128\u001b[0m, \u001b[32m'model_config__n_layers'\u001b[0m:  \n",
       "\u001b[1;36m16\u001b[0m, \u001b[32m'optimizer_config__optimizer'\u001b[0m: \u001b[32m'AdamW'\u001b[0m, \u001b[32m'loss'\u001b[0m: \u001b[1;36m1.138035535812378\u001b[0m, \u001b[32m'mean_squared_error'\u001b[0m: \u001b[1;36m1.138035535812378\u001b[0m,    \n",
       "\u001b[32m'trial_id'\u001b[0m: \u001b[1;36m17\u001b[0m\u001b[1m}\u001b[0m | Score: \u001b[1;36m1.138035535812378\u001b[0m                                                                         \n"
      ]
     },
     "metadata": {},
     "output_type": "display_data"
    },
    {
     "data": {
      "application/vnd.jupyter.widget-view+json": {
       "model_id": "ea5937f24c1d4e6d96a73fbe73014917",
       "version_major": 2,
       "version_minor": 0
      },
      "text/plain": [
       "Finding best initial lr:   0%|          | 0/100 [00:00<?, ?it/s]"
      ]
     },
     "metadata": {},
     "output_type": "display_data"
    },
    {
     "data": {
      "text/html": [
       "<pre style=\"white-space:pre;overflow-x:auto;line-height:normal;font-family:Menlo,'DejaVu Sans Mono',consolas,'Courier New',monospace\"><span style=\"color: #008080; text-decoration-color: #008080; font-weight: bold\">2025</span>-<span style=\"color: #008080; text-decoration-color: #008080; font-weight: bold\">02</span>-<span style=\"color: #008080; text-decoration-color: #008080; font-weight: bold\">26</span> <span style=\"color: #00ff00; text-decoration-color: #00ff00; font-weight: bold\">11:41:43</span>,<span style=\"color: #008080; text-decoration-color: #008080; font-weight: bold\">001</span> - <span style=\"font-weight: bold\">{</span>pytorch_tabular.tabular_model_tuner:<span style=\"color: #008080; text-decoration-color: #008080; font-weight: bold\">412</span><span style=\"font-weight: bold\">}</span> - INFO - Trial <span style=\"color: #008080; text-decoration-color: #008080; font-weight: bold\">19</span>/<span style=\"color: #008080; text-decoration-color: #008080; font-weight: bold\">54</span>: <span style=\"font-weight: bold\">{</span><span style=\"color: #008000; text-decoration-color: #008000\">'model'</span>:                \n",
       "<span style=\"color: #008000; text-decoration-color: #008000\">'0-DANetConfig'</span>, <span style=\"color: #008000; text-decoration-color: #008000\">'model_config__abstlay_dim_1'</span>: <span style=\"color: #008080; text-decoration-color: #008080; font-weight: bold\">32</span>, <span style=\"color: #008000; text-decoration-color: #008000\">'model_config__abstlay_dim_2'</span>: <span style=\"color: #008080; text-decoration-color: #008080; font-weight: bold\">32</span>, <span style=\"color: #008000; text-decoration-color: #008000\">'model_config__n_layers'</span>: <span style=\"color: #008080; text-decoration-color: #008080; font-weight: bold\">4</span>,\n",
       "<span style=\"color: #008000; text-decoration-color: #008000\">'optimizer_config__optimizer'</span>: <span style=\"color: #008000; text-decoration-color: #008000\">'Adam'</span>, <span style=\"color: #008000; text-decoration-color: #008000\">'loss'</span>: <span style=\"color: #008080; text-decoration-color: #008080; font-weight: bold\">23.89961051940918</span>, <span style=\"color: #008000; text-decoration-color: #008000\">'mean_squared_error'</span>: <span style=\"color: #008080; text-decoration-color: #008080; font-weight: bold\">23.89961051940918</span>,         \n",
       "<span style=\"color: #008000; text-decoration-color: #008000\">'trial_id'</span>: <span style=\"color: #008080; text-decoration-color: #008080; font-weight: bold\">18</span><span style=\"font-weight: bold\">}</span> | Score: <span style=\"color: #008080; text-decoration-color: #008080; font-weight: bold\">23.89961051940918</span>                                                                         \n",
       "</pre>\n"
      ],
      "text/plain": [
       "\u001b[1;36m2025\u001b[0m-\u001b[1;36m02\u001b[0m-\u001b[1;36m26\u001b[0m \u001b[1;92m11:41:43\u001b[0m,\u001b[1;36m001\u001b[0m - \u001b[1m{\u001b[0mpytorch_tabular.tabular_model_tuner:\u001b[1;36m412\u001b[0m\u001b[1m}\u001b[0m - INFO - Trial \u001b[1;36m19\u001b[0m/\u001b[1;36m54\u001b[0m: \u001b[1m{\u001b[0m\u001b[32m'model'\u001b[0m:                \n",
       "\u001b[32m'0-DANetConfig'\u001b[0m, \u001b[32m'model_config__abstlay_dim_1'\u001b[0m: \u001b[1;36m32\u001b[0m, \u001b[32m'model_config__abstlay_dim_2'\u001b[0m: \u001b[1;36m32\u001b[0m, \u001b[32m'model_config__n_layers'\u001b[0m: \u001b[1;36m4\u001b[0m,\n",
       "\u001b[32m'optimizer_config__optimizer'\u001b[0m: \u001b[32m'Adam'\u001b[0m, \u001b[32m'loss'\u001b[0m: \u001b[1;36m23.89961051940918\u001b[0m, \u001b[32m'mean_squared_error'\u001b[0m: \u001b[1;36m23.89961051940918\u001b[0m,         \n",
       "\u001b[32m'trial_id'\u001b[0m: \u001b[1;36m18\u001b[0m\u001b[1m}\u001b[0m | Score: \u001b[1;36m23.89961051940918\u001b[0m                                                                         \n"
      ]
     },
     "metadata": {},
     "output_type": "display_data"
    },
    {
     "data": {
      "application/vnd.jupyter.widget-view+json": {
       "model_id": "57a0ef9263bd4c7297c365eb8bca1c36",
       "version_major": 2,
       "version_minor": 0
      },
      "text/plain": [
       "Finding best initial lr:   0%|          | 0/100 [00:00<?, ?it/s]"
      ]
     },
     "metadata": {},
     "output_type": "display_data"
    },
    {
     "data": {
      "text/html": [
       "<pre style=\"white-space:pre;overflow-x:auto;line-height:normal;font-family:Menlo,'DejaVu Sans Mono',consolas,'Courier New',monospace\"><span style=\"color: #008080; text-decoration-color: #008080; font-weight: bold\">2025</span>-<span style=\"color: #008080; text-decoration-color: #008080; font-weight: bold\">02</span>-<span style=\"color: #008080; text-decoration-color: #008080; font-weight: bold\">26</span> <span style=\"color: #00ff00; text-decoration-color: #00ff00; font-weight: bold\">11:42:19</span>,<span style=\"color: #008080; text-decoration-color: #008080; font-weight: bold\">719</span> - <span style=\"font-weight: bold\">{</span>pytorch_tabular.tabular_model_tuner:<span style=\"color: #008080; text-decoration-color: #008080; font-weight: bold\">412</span><span style=\"font-weight: bold\">}</span> - INFO - Trial <span style=\"color: #008080; text-decoration-color: #008080; font-weight: bold\">20</span>/<span style=\"color: #008080; text-decoration-color: #008080; font-weight: bold\">54</span>: <span style=\"font-weight: bold\">{</span><span style=\"color: #008000; text-decoration-color: #008000\">'model'</span>:                \n",
       "<span style=\"color: #008000; text-decoration-color: #008000\">'0-DANetConfig'</span>, <span style=\"color: #008000; text-decoration-color: #008000\">'model_config__abstlay_dim_1'</span>: <span style=\"color: #008080; text-decoration-color: #008080; font-weight: bold\">32</span>, <span style=\"color: #008000; text-decoration-color: #008000\">'model_config__abstlay_dim_2'</span>: <span style=\"color: #008080; text-decoration-color: #008080; font-weight: bold\">32</span>, <span style=\"color: #008000; text-decoration-color: #008000\">'model_config__n_layers'</span>: <span style=\"color: #008080; text-decoration-color: #008080; font-weight: bold\">4</span>,\n",
       "<span style=\"color: #008000; text-decoration-color: #008000\">'optimizer_config__optimizer'</span>: <span style=\"color: #008000; text-decoration-color: #008000\">'AdamW'</span>, <span style=\"color: #008000; text-decoration-color: #008000\">'loss'</span>: <span style=\"color: #008080; text-decoration-color: #008080; font-weight: bold\">0.9838199615478516</span>, <span style=\"color: #008000; text-decoration-color: #008000\">'mean_squared_error'</span>: <span style=\"color: #008080; text-decoration-color: #008080; font-weight: bold\">0.9838199615478516</span>,      \n",
       "<span style=\"color: #008000; text-decoration-color: #008000\">'trial_id'</span>: <span style=\"color: #008080; text-decoration-color: #008080; font-weight: bold\">19</span><span style=\"font-weight: bold\">}</span> | Score: <span style=\"color: #008080; text-decoration-color: #008080; font-weight: bold\">0.9838199615478516</span>                                                                        \n",
       "</pre>\n"
      ],
      "text/plain": [
       "\u001b[1;36m2025\u001b[0m-\u001b[1;36m02\u001b[0m-\u001b[1;36m26\u001b[0m \u001b[1;92m11:42:19\u001b[0m,\u001b[1;36m719\u001b[0m - \u001b[1m{\u001b[0mpytorch_tabular.tabular_model_tuner:\u001b[1;36m412\u001b[0m\u001b[1m}\u001b[0m - INFO - Trial \u001b[1;36m20\u001b[0m/\u001b[1;36m54\u001b[0m: \u001b[1m{\u001b[0m\u001b[32m'model'\u001b[0m:                \n",
       "\u001b[32m'0-DANetConfig'\u001b[0m, \u001b[32m'model_config__abstlay_dim_1'\u001b[0m: \u001b[1;36m32\u001b[0m, \u001b[32m'model_config__abstlay_dim_2'\u001b[0m: \u001b[1;36m32\u001b[0m, \u001b[32m'model_config__n_layers'\u001b[0m: \u001b[1;36m4\u001b[0m,\n",
       "\u001b[32m'optimizer_config__optimizer'\u001b[0m: \u001b[32m'AdamW'\u001b[0m, \u001b[32m'loss'\u001b[0m: \u001b[1;36m0.9838199615478516\u001b[0m, \u001b[32m'mean_squared_error'\u001b[0m: \u001b[1;36m0.9838199615478516\u001b[0m,      \n",
       "\u001b[32m'trial_id'\u001b[0m: \u001b[1;36m19\u001b[0m\u001b[1m}\u001b[0m | Score: \u001b[1;36m0.9838199615478516\u001b[0m                                                                        \n"
      ]
     },
     "metadata": {},
     "output_type": "display_data"
    },
    {
     "data": {
      "application/vnd.jupyter.widget-view+json": {
       "model_id": "e18e13a980574e29ac0ae4015d521b3d",
       "version_major": 2,
       "version_minor": 0
      },
      "text/plain": [
       "Finding best initial lr:   0%|          | 0/100 [00:00<?, ?it/s]"
      ]
     },
     "metadata": {},
     "output_type": "display_data"
    },
    {
     "data": {
      "text/html": [
       "<pre style=\"white-space:pre;overflow-x:auto;line-height:normal;font-family:Menlo,'DejaVu Sans Mono',consolas,'Courier New',monospace\"><span style=\"color: #008080; text-decoration-color: #008080; font-weight: bold\">2025</span>-<span style=\"color: #008080; text-decoration-color: #008080; font-weight: bold\">02</span>-<span style=\"color: #008080; text-decoration-color: #008080; font-weight: bold\">26</span> <span style=\"color: #00ff00; text-decoration-color: #00ff00; font-weight: bold\">11:43:21</span>,<span style=\"color: #008080; text-decoration-color: #008080; font-weight: bold\">677</span> - <span style=\"font-weight: bold\">{</span>pytorch_tabular.tabular_model_tuner:<span style=\"color: #008080; text-decoration-color: #008080; font-weight: bold\">412</span><span style=\"font-weight: bold\">}</span> - INFO - Trial <span style=\"color: #008080; text-decoration-color: #008080; font-weight: bold\">21</span>/<span style=\"color: #008080; text-decoration-color: #008080; font-weight: bold\">54</span>: <span style=\"font-weight: bold\">{</span><span style=\"color: #008000; text-decoration-color: #008000\">'model'</span>:                \n",
       "<span style=\"color: #008000; text-decoration-color: #008000\">'0-DANetConfig'</span>, <span style=\"color: #008000; text-decoration-color: #008000\">'model_config__abstlay_dim_1'</span>: <span style=\"color: #008080; text-decoration-color: #008080; font-weight: bold\">32</span>, <span style=\"color: #008000; text-decoration-color: #008000\">'model_config__abstlay_dim_2'</span>: <span style=\"color: #008080; text-decoration-color: #008080; font-weight: bold\">32</span>, <span style=\"color: #008000; text-decoration-color: #008000\">'model_config__n_layers'</span>: <span style=\"color: #008080; text-decoration-color: #008080; font-weight: bold\">8</span>,\n",
       "<span style=\"color: #008000; text-decoration-color: #008000\">'optimizer_config__optimizer'</span>: <span style=\"color: #008000; text-decoration-color: #008000\">'Adam'</span>, <span style=\"color: #008000; text-decoration-color: #008000\">'loss'</span>: <span style=\"color: #008080; text-decoration-color: #008080; font-weight: bold\">1.0193694829940796</span>, <span style=\"color: #008000; text-decoration-color: #008000\">'mean_squared_error'</span>: <span style=\"color: #008080; text-decoration-color: #008080; font-weight: bold\">1.0193694829940796</span>,       \n",
       "<span style=\"color: #008000; text-decoration-color: #008000\">'trial_id'</span>: <span style=\"color: #008080; text-decoration-color: #008080; font-weight: bold\">20</span><span style=\"font-weight: bold\">}</span> | Score: <span style=\"color: #008080; text-decoration-color: #008080; font-weight: bold\">1.0193694829940796</span>                                                                        \n",
       "</pre>\n"
      ],
      "text/plain": [
       "\u001b[1;36m2025\u001b[0m-\u001b[1;36m02\u001b[0m-\u001b[1;36m26\u001b[0m \u001b[1;92m11:43:21\u001b[0m,\u001b[1;36m677\u001b[0m - \u001b[1m{\u001b[0mpytorch_tabular.tabular_model_tuner:\u001b[1;36m412\u001b[0m\u001b[1m}\u001b[0m - INFO - Trial \u001b[1;36m21\u001b[0m/\u001b[1;36m54\u001b[0m: \u001b[1m{\u001b[0m\u001b[32m'model'\u001b[0m:                \n",
       "\u001b[32m'0-DANetConfig'\u001b[0m, \u001b[32m'model_config__abstlay_dim_1'\u001b[0m: \u001b[1;36m32\u001b[0m, \u001b[32m'model_config__abstlay_dim_2'\u001b[0m: \u001b[1;36m32\u001b[0m, \u001b[32m'model_config__n_layers'\u001b[0m: \u001b[1;36m8\u001b[0m,\n",
       "\u001b[32m'optimizer_config__optimizer'\u001b[0m: \u001b[32m'Adam'\u001b[0m, \u001b[32m'loss'\u001b[0m: \u001b[1;36m1.0193694829940796\u001b[0m, \u001b[32m'mean_squared_error'\u001b[0m: \u001b[1;36m1.0193694829940796\u001b[0m,       \n",
       "\u001b[32m'trial_id'\u001b[0m: \u001b[1;36m20\u001b[0m\u001b[1m}\u001b[0m | Score: \u001b[1;36m1.0193694829940796\u001b[0m                                                                        \n"
      ]
     },
     "metadata": {},
     "output_type": "display_data"
    },
    {
     "data": {
      "application/vnd.jupyter.widget-view+json": {
       "model_id": "f88641c6ea7e43c382446e05d2713bea",
       "version_major": 2,
       "version_minor": 0
      },
      "text/plain": [
       "Finding best initial lr:   0%|          | 0/100 [00:00<?, ?it/s]"
      ]
     },
     "metadata": {},
     "output_type": "display_data"
    },
    {
     "data": {
      "text/html": [
       "<pre style=\"white-space:pre;overflow-x:auto;line-height:normal;font-family:Menlo,'DejaVu Sans Mono',consolas,'Courier New',monospace\"><span style=\"color: #008080; text-decoration-color: #008080; font-weight: bold\">2025</span>-<span style=\"color: #008080; text-decoration-color: #008080; font-weight: bold\">02</span>-<span style=\"color: #008080; text-decoration-color: #008080; font-weight: bold\">26</span> <span style=\"color: #00ff00; text-decoration-color: #00ff00; font-weight: bold\">11:44:15</span>,<span style=\"color: #008080; text-decoration-color: #008080; font-weight: bold\">248</span> - <span style=\"font-weight: bold\">{</span>pytorch_tabular.tabular_model_tuner:<span style=\"color: #008080; text-decoration-color: #008080; font-weight: bold\">412</span><span style=\"font-weight: bold\">}</span> - INFO - Trial <span style=\"color: #008080; text-decoration-color: #008080; font-weight: bold\">22</span>/<span style=\"color: #008080; text-decoration-color: #008080; font-weight: bold\">54</span>: <span style=\"font-weight: bold\">{</span><span style=\"color: #008000; text-decoration-color: #008000\">'model'</span>:                \n",
       "<span style=\"color: #008000; text-decoration-color: #008000\">'0-DANetConfig'</span>, <span style=\"color: #008000; text-decoration-color: #008000\">'model_config__abstlay_dim_1'</span>: <span style=\"color: #008080; text-decoration-color: #008080; font-weight: bold\">32</span>, <span style=\"color: #008000; text-decoration-color: #008000\">'model_config__abstlay_dim_2'</span>: <span style=\"color: #008080; text-decoration-color: #008080; font-weight: bold\">32</span>, <span style=\"color: #008000; text-decoration-color: #008000\">'model_config__n_layers'</span>: <span style=\"color: #008080; text-decoration-color: #008080; font-weight: bold\">8</span>,\n",
       "<span style=\"color: #008000; text-decoration-color: #008000\">'optimizer_config__optimizer'</span>: <span style=\"color: #008000; text-decoration-color: #008000\">'AdamW'</span>, <span style=\"color: #008000; text-decoration-color: #008000\">'loss'</span>: <span style=\"color: #008080; text-decoration-color: #008080; font-weight: bold\">23.749906539916992</span>, <span style=\"color: #008000; text-decoration-color: #008000\">'mean_squared_error'</span>: <span style=\"color: #008080; text-decoration-color: #008080; font-weight: bold\">23.749906539916992</span>,      \n",
       "<span style=\"color: #008000; text-decoration-color: #008000\">'trial_id'</span>: <span style=\"color: #008080; text-decoration-color: #008080; font-weight: bold\">21</span><span style=\"font-weight: bold\">}</span> | Score: <span style=\"color: #008080; text-decoration-color: #008080; font-weight: bold\">23.749906539916992</span>                                                                        \n",
       "</pre>\n"
      ],
      "text/plain": [
       "\u001b[1;36m2025\u001b[0m-\u001b[1;36m02\u001b[0m-\u001b[1;36m26\u001b[0m \u001b[1;92m11:44:15\u001b[0m,\u001b[1;36m248\u001b[0m - \u001b[1m{\u001b[0mpytorch_tabular.tabular_model_tuner:\u001b[1;36m412\u001b[0m\u001b[1m}\u001b[0m - INFO - Trial \u001b[1;36m22\u001b[0m/\u001b[1;36m54\u001b[0m: \u001b[1m{\u001b[0m\u001b[32m'model'\u001b[0m:                \n",
       "\u001b[32m'0-DANetConfig'\u001b[0m, \u001b[32m'model_config__abstlay_dim_1'\u001b[0m: \u001b[1;36m32\u001b[0m, \u001b[32m'model_config__abstlay_dim_2'\u001b[0m: \u001b[1;36m32\u001b[0m, \u001b[32m'model_config__n_layers'\u001b[0m: \u001b[1;36m8\u001b[0m,\n",
       "\u001b[32m'optimizer_config__optimizer'\u001b[0m: \u001b[32m'AdamW'\u001b[0m, \u001b[32m'loss'\u001b[0m: \u001b[1;36m23.749906539916992\u001b[0m, \u001b[32m'mean_squared_error'\u001b[0m: \u001b[1;36m23.749906539916992\u001b[0m,      \n",
       "\u001b[32m'trial_id'\u001b[0m: \u001b[1;36m21\u001b[0m\u001b[1m}\u001b[0m | Score: \u001b[1;36m23.749906539916992\u001b[0m                                                                        \n"
      ]
     },
     "metadata": {},
     "output_type": "display_data"
    },
    {
     "data": {
      "application/vnd.jupyter.widget-view+json": {
       "model_id": "e94afda2ef794e00a3677e6d889acdfc",
       "version_major": 2,
       "version_minor": 0
      },
      "text/plain": [
       "Finding best initial lr:   0%|          | 0/100 [00:00<?, ?it/s]"
      ]
     },
     "metadata": {},
     "output_type": "display_data"
    },
    {
     "data": {
      "text/html": [
       "<pre style=\"white-space:pre;overflow-x:auto;line-height:normal;font-family:Menlo,'DejaVu Sans Mono',consolas,'Courier New',monospace\"><span style=\"color: #008080; text-decoration-color: #008080; font-weight: bold\">2025</span>-<span style=\"color: #008080; text-decoration-color: #008080; font-weight: bold\">02</span>-<span style=\"color: #008080; text-decoration-color: #008080; font-weight: bold\">26</span> <span style=\"color: #00ff00; text-decoration-color: #00ff00; font-weight: bold\">11:45:50</span>,<span style=\"color: #008080; text-decoration-color: #008080; font-weight: bold\">766</span> - <span style=\"font-weight: bold\">{</span>pytorch_tabular.tabular_model_tuner:<span style=\"color: #008080; text-decoration-color: #008080; font-weight: bold\">412</span><span style=\"font-weight: bold\">}</span> - INFO - Trial <span style=\"color: #008080; text-decoration-color: #008080; font-weight: bold\">23</span>/<span style=\"color: #008080; text-decoration-color: #008080; font-weight: bold\">54</span>: <span style=\"font-weight: bold\">{</span><span style=\"color: #008000; text-decoration-color: #008000\">'model'</span>:                \n",
       "<span style=\"color: #008000; text-decoration-color: #008000\">'0-DANetConfig'</span>, <span style=\"color: #008000; text-decoration-color: #008000\">'model_config__abstlay_dim_1'</span>: <span style=\"color: #008080; text-decoration-color: #008080; font-weight: bold\">32</span>, <span style=\"color: #008000; text-decoration-color: #008000\">'model_config__abstlay_dim_2'</span>: <span style=\"color: #008080; text-decoration-color: #008080; font-weight: bold\">32</span>, <span style=\"color: #008000; text-decoration-color: #008000\">'model_config__n_layers'</span>:   \n",
       "<span style=\"color: #008080; text-decoration-color: #008080; font-weight: bold\">16</span>, <span style=\"color: #008000; text-decoration-color: #008000\">'optimizer_config__optimizer'</span>: <span style=\"color: #008000; text-decoration-color: #008000\">'Adam'</span>, <span style=\"color: #008000; text-decoration-color: #008000\">'loss'</span>: <span style=\"color: #008080; text-decoration-color: #008080; font-weight: bold\">1.8452554941177368</span>, <span style=\"color: #008000; text-decoration-color: #008000\">'mean_squared_error'</span>: <span style=\"color: #008080; text-decoration-color: #008080; font-weight: bold\">1.8452554941177368</span>,   \n",
       "<span style=\"color: #008000; text-decoration-color: #008000\">'trial_id'</span>: <span style=\"color: #008080; text-decoration-color: #008080; font-weight: bold\">22</span><span style=\"font-weight: bold\">}</span> | Score: <span style=\"color: #008080; text-decoration-color: #008080; font-weight: bold\">1.8452554941177368</span>                                                                        \n",
       "</pre>\n"
      ],
      "text/plain": [
       "\u001b[1;36m2025\u001b[0m-\u001b[1;36m02\u001b[0m-\u001b[1;36m26\u001b[0m \u001b[1;92m11:45:50\u001b[0m,\u001b[1;36m766\u001b[0m - \u001b[1m{\u001b[0mpytorch_tabular.tabular_model_tuner:\u001b[1;36m412\u001b[0m\u001b[1m}\u001b[0m - INFO - Trial \u001b[1;36m23\u001b[0m/\u001b[1;36m54\u001b[0m: \u001b[1m{\u001b[0m\u001b[32m'model'\u001b[0m:                \n",
       "\u001b[32m'0-DANetConfig'\u001b[0m, \u001b[32m'model_config__abstlay_dim_1'\u001b[0m: \u001b[1;36m32\u001b[0m, \u001b[32m'model_config__abstlay_dim_2'\u001b[0m: \u001b[1;36m32\u001b[0m, \u001b[32m'model_config__n_layers'\u001b[0m:   \n",
       "\u001b[1;36m16\u001b[0m, \u001b[32m'optimizer_config__optimizer'\u001b[0m: \u001b[32m'Adam'\u001b[0m, \u001b[32m'loss'\u001b[0m: \u001b[1;36m1.8452554941177368\u001b[0m, \u001b[32m'mean_squared_error'\u001b[0m: \u001b[1;36m1.8452554941177368\u001b[0m,   \n",
       "\u001b[32m'trial_id'\u001b[0m: \u001b[1;36m22\u001b[0m\u001b[1m}\u001b[0m | Score: \u001b[1;36m1.8452554941177368\u001b[0m                                                                        \n"
      ]
     },
     "metadata": {},
     "output_type": "display_data"
    },
    {
     "data": {
      "application/vnd.jupyter.widget-view+json": {
       "model_id": "509bcc67238748cba6f6ce9d5e6f608f",
       "version_major": 2,
       "version_minor": 0
      },
      "text/plain": [
       "Finding best initial lr:   0%|          | 0/100 [00:00<?, ?it/s]"
      ]
     },
     "metadata": {},
     "output_type": "display_data"
    },
    {
     "data": {
      "text/html": [
       "<pre style=\"white-space:pre;overflow-x:auto;line-height:normal;font-family:Menlo,'DejaVu Sans Mono',consolas,'Courier New',monospace\"><span style=\"color: #008080; text-decoration-color: #008080; font-weight: bold\">2025</span>-<span style=\"color: #008080; text-decoration-color: #008080; font-weight: bold\">02</span>-<span style=\"color: #008080; text-decoration-color: #008080; font-weight: bold\">26</span> <span style=\"color: #00ff00; text-decoration-color: #00ff00; font-weight: bold\">11:47:23</span>,<span style=\"color: #008080; text-decoration-color: #008080; font-weight: bold\">043</span> - <span style=\"font-weight: bold\">{</span>pytorch_tabular.tabular_model_tuner:<span style=\"color: #008080; text-decoration-color: #008080; font-weight: bold\">412</span><span style=\"font-weight: bold\">}</span> - INFO - Trial <span style=\"color: #008080; text-decoration-color: #008080; font-weight: bold\">24</span>/<span style=\"color: #008080; text-decoration-color: #008080; font-weight: bold\">54</span>: <span style=\"font-weight: bold\">{</span><span style=\"color: #008000; text-decoration-color: #008000\">'model'</span>:                \n",
       "<span style=\"color: #008000; text-decoration-color: #008000\">'0-DANetConfig'</span>, <span style=\"color: #008000; text-decoration-color: #008000\">'model_config__abstlay_dim_1'</span>: <span style=\"color: #008080; text-decoration-color: #008080; font-weight: bold\">32</span>, <span style=\"color: #008000; text-decoration-color: #008000\">'model_config__abstlay_dim_2'</span>: <span style=\"color: #008080; text-decoration-color: #008080; font-weight: bold\">32</span>, <span style=\"color: #008000; text-decoration-color: #008000\">'model_config__n_layers'</span>:   \n",
       "<span style=\"color: #008080; text-decoration-color: #008080; font-weight: bold\">16</span>, <span style=\"color: #008000; text-decoration-color: #008000\">'optimizer_config__optimizer'</span>: <span style=\"color: #008000; text-decoration-color: #008000\">'AdamW'</span>, <span style=\"color: #008000; text-decoration-color: #008000\">'loss'</span>: <span style=\"color: #008080; text-decoration-color: #008080; font-weight: bold\">23.52484130859375</span>, <span style=\"color: #008000; text-decoration-color: #008000\">'mean_squared_error'</span>: <span style=\"color: #008080; text-decoration-color: #008080; font-weight: bold\">23.52484130859375</span>,    \n",
       "<span style=\"color: #008000; text-decoration-color: #008000\">'trial_id'</span>: <span style=\"color: #008080; text-decoration-color: #008080; font-weight: bold\">23</span><span style=\"font-weight: bold\">}</span> | Score: <span style=\"color: #008080; text-decoration-color: #008080; font-weight: bold\">23.52484130859375</span>                                                                         \n",
       "</pre>\n"
      ],
      "text/plain": [
       "\u001b[1;36m2025\u001b[0m-\u001b[1;36m02\u001b[0m-\u001b[1;36m26\u001b[0m \u001b[1;92m11:47:23\u001b[0m,\u001b[1;36m043\u001b[0m - \u001b[1m{\u001b[0mpytorch_tabular.tabular_model_tuner:\u001b[1;36m412\u001b[0m\u001b[1m}\u001b[0m - INFO - Trial \u001b[1;36m24\u001b[0m/\u001b[1;36m54\u001b[0m: \u001b[1m{\u001b[0m\u001b[32m'model'\u001b[0m:                \n",
       "\u001b[32m'0-DANetConfig'\u001b[0m, \u001b[32m'model_config__abstlay_dim_1'\u001b[0m: \u001b[1;36m32\u001b[0m, \u001b[32m'model_config__abstlay_dim_2'\u001b[0m: \u001b[1;36m32\u001b[0m, \u001b[32m'model_config__n_layers'\u001b[0m:   \n",
       "\u001b[1;36m16\u001b[0m, \u001b[32m'optimizer_config__optimizer'\u001b[0m: \u001b[32m'AdamW'\u001b[0m, \u001b[32m'loss'\u001b[0m: \u001b[1;36m23.52484130859375\u001b[0m, \u001b[32m'mean_squared_error'\u001b[0m: \u001b[1;36m23.52484130859375\u001b[0m,    \n",
       "\u001b[32m'trial_id'\u001b[0m: \u001b[1;36m23\u001b[0m\u001b[1m}\u001b[0m | Score: \u001b[1;36m23.52484130859375\u001b[0m                                                                         \n"
      ]
     },
     "metadata": {},
     "output_type": "display_data"
    },
    {
     "data": {
      "application/vnd.jupyter.widget-view+json": {
       "model_id": "7acfe22125604605b0517d0f0514e05a",
       "version_major": 2,
       "version_minor": 0
      },
      "text/plain": [
       "Finding best initial lr:   0%|          | 0/100 [00:00<?, ?it/s]"
      ]
     },
     "metadata": {},
     "output_type": "display_data"
    },
    {
     "data": {
      "text/html": [
       "<pre style=\"white-space:pre;overflow-x:auto;line-height:normal;font-family:Menlo,'DejaVu Sans Mono',consolas,'Courier New',monospace\"><span style=\"color: #008080; text-decoration-color: #008080; font-weight: bold\">2025</span>-<span style=\"color: #008080; text-decoration-color: #008080; font-weight: bold\">02</span>-<span style=\"color: #008080; text-decoration-color: #008080; font-weight: bold\">26</span> <span style=\"color: #00ff00; text-decoration-color: #00ff00; font-weight: bold\">11:47:58</span>,<span style=\"color: #008080; text-decoration-color: #008080; font-weight: bold\">476</span> - <span style=\"font-weight: bold\">{</span>pytorch_tabular.tabular_model_tuner:<span style=\"color: #008080; text-decoration-color: #008080; font-weight: bold\">412</span><span style=\"font-weight: bold\">}</span> - INFO - Trial <span style=\"color: #008080; text-decoration-color: #008080; font-weight: bold\">25</span>/<span style=\"color: #008080; text-decoration-color: #008080; font-weight: bold\">54</span>: <span style=\"font-weight: bold\">{</span><span style=\"color: #008000; text-decoration-color: #008000\">'model'</span>:                \n",
       "<span style=\"color: #008000; text-decoration-color: #008000\">'0-DANetConfig'</span>, <span style=\"color: #008000; text-decoration-color: #008000\">'model_config__abstlay_dim_1'</span>: <span style=\"color: #008080; text-decoration-color: #008080; font-weight: bold\">32</span>, <span style=\"color: #008000; text-decoration-color: #008000\">'model_config__abstlay_dim_2'</span>: <span style=\"color: #008080; text-decoration-color: #008080; font-weight: bold\">64</span>, <span style=\"color: #008000; text-decoration-color: #008000\">'model_config__n_layers'</span>: <span style=\"color: #008080; text-decoration-color: #008080; font-weight: bold\">4</span>,\n",
       "<span style=\"color: #008000; text-decoration-color: #008000\">'optimizer_config__optimizer'</span>: <span style=\"color: #008000; text-decoration-color: #008000\">'Adam'</span>, <span style=\"color: #008000; text-decoration-color: #008000\">'loss'</span>: <span style=\"color: #008080; text-decoration-color: #008080; font-weight: bold\">23.681072235107422</span>, <span style=\"color: #008000; text-decoration-color: #008000\">'mean_squared_error'</span>: <span style=\"color: #008080; text-decoration-color: #008080; font-weight: bold\">23.681072235107422</span>,       \n",
       "<span style=\"color: #008000; text-decoration-color: #008000\">'trial_id'</span>: <span style=\"color: #008080; text-decoration-color: #008080; font-weight: bold\">24</span><span style=\"font-weight: bold\">}</span> | Score: <span style=\"color: #008080; text-decoration-color: #008080; font-weight: bold\">23.681072235107422</span>                                                                        \n",
       "</pre>\n"
      ],
      "text/plain": [
       "\u001b[1;36m2025\u001b[0m-\u001b[1;36m02\u001b[0m-\u001b[1;36m26\u001b[0m \u001b[1;92m11:47:58\u001b[0m,\u001b[1;36m476\u001b[0m - \u001b[1m{\u001b[0mpytorch_tabular.tabular_model_tuner:\u001b[1;36m412\u001b[0m\u001b[1m}\u001b[0m - INFO - Trial \u001b[1;36m25\u001b[0m/\u001b[1;36m54\u001b[0m: \u001b[1m{\u001b[0m\u001b[32m'model'\u001b[0m:                \n",
       "\u001b[32m'0-DANetConfig'\u001b[0m, \u001b[32m'model_config__abstlay_dim_1'\u001b[0m: \u001b[1;36m32\u001b[0m, \u001b[32m'model_config__abstlay_dim_2'\u001b[0m: \u001b[1;36m64\u001b[0m, \u001b[32m'model_config__n_layers'\u001b[0m: \u001b[1;36m4\u001b[0m,\n",
       "\u001b[32m'optimizer_config__optimizer'\u001b[0m: \u001b[32m'Adam'\u001b[0m, \u001b[32m'loss'\u001b[0m: \u001b[1;36m23.681072235107422\u001b[0m, \u001b[32m'mean_squared_error'\u001b[0m: \u001b[1;36m23.681072235107422\u001b[0m,       \n",
       "\u001b[32m'trial_id'\u001b[0m: \u001b[1;36m24\u001b[0m\u001b[1m}\u001b[0m | Score: \u001b[1;36m23.681072235107422\u001b[0m                                                                        \n"
      ]
     },
     "metadata": {},
     "output_type": "display_data"
    },
    {
     "data": {
      "application/vnd.jupyter.widget-view+json": {
       "model_id": "4e262e6495c84300aed379e4187eb5f4",
       "version_major": 2,
       "version_minor": 0
      },
      "text/plain": [
       "Finding best initial lr:   0%|          | 0/100 [00:00<?, ?it/s]"
      ]
     },
     "metadata": {},
     "output_type": "display_data"
    },
    {
     "data": {
      "text/html": [
       "<pre style=\"white-space:pre;overflow-x:auto;line-height:normal;font-family:Menlo,'DejaVu Sans Mono',consolas,'Courier New',monospace\"><span style=\"color: #008080; text-decoration-color: #008080; font-weight: bold\">2025</span>-<span style=\"color: #008080; text-decoration-color: #008080; font-weight: bold\">02</span>-<span style=\"color: #008080; text-decoration-color: #008080; font-weight: bold\">26</span> <span style=\"color: #00ff00; text-decoration-color: #00ff00; font-weight: bold\">11:48:35</span>,<span style=\"color: #008080; text-decoration-color: #008080; font-weight: bold\">189</span> - <span style=\"font-weight: bold\">{</span>pytorch_tabular.tabular_model_tuner:<span style=\"color: #008080; text-decoration-color: #008080; font-weight: bold\">412</span><span style=\"font-weight: bold\">}</span> - INFO - Trial <span style=\"color: #008080; text-decoration-color: #008080; font-weight: bold\">26</span>/<span style=\"color: #008080; text-decoration-color: #008080; font-weight: bold\">54</span>: <span style=\"font-weight: bold\">{</span><span style=\"color: #008000; text-decoration-color: #008000\">'model'</span>:                \n",
       "<span style=\"color: #008000; text-decoration-color: #008000\">'0-DANetConfig'</span>, <span style=\"color: #008000; text-decoration-color: #008000\">'model_config__abstlay_dim_1'</span>: <span style=\"color: #008080; text-decoration-color: #008080; font-weight: bold\">32</span>, <span style=\"color: #008000; text-decoration-color: #008000\">'model_config__abstlay_dim_2'</span>: <span style=\"color: #008080; text-decoration-color: #008080; font-weight: bold\">64</span>, <span style=\"color: #008000; text-decoration-color: #008000\">'model_config__n_layers'</span>: <span style=\"color: #008080; text-decoration-color: #008080; font-weight: bold\">4</span>,\n",
       "<span style=\"color: #008000; text-decoration-color: #008000\">'optimizer_config__optimizer'</span>: <span style=\"color: #008000; text-decoration-color: #008000\">'AdamW'</span>, <span style=\"color: #008000; text-decoration-color: #008000\">'loss'</span>: <span style=\"color: #008080; text-decoration-color: #008080; font-weight: bold\">1.0918340682983398</span>, <span style=\"color: #008000; text-decoration-color: #008000\">'mean_squared_error'</span>: <span style=\"color: #008080; text-decoration-color: #008080; font-weight: bold\">1.0918340682983398</span>,      \n",
       "<span style=\"color: #008000; text-decoration-color: #008000\">'trial_id'</span>: <span style=\"color: #008080; text-decoration-color: #008080; font-weight: bold\">25</span><span style=\"font-weight: bold\">}</span> | Score: <span style=\"color: #008080; text-decoration-color: #008080; font-weight: bold\">1.0918340682983398</span>                                                                        \n",
       "</pre>\n"
      ],
      "text/plain": [
       "\u001b[1;36m2025\u001b[0m-\u001b[1;36m02\u001b[0m-\u001b[1;36m26\u001b[0m \u001b[1;92m11:48:35\u001b[0m,\u001b[1;36m189\u001b[0m - \u001b[1m{\u001b[0mpytorch_tabular.tabular_model_tuner:\u001b[1;36m412\u001b[0m\u001b[1m}\u001b[0m - INFO - Trial \u001b[1;36m26\u001b[0m/\u001b[1;36m54\u001b[0m: \u001b[1m{\u001b[0m\u001b[32m'model'\u001b[0m:                \n",
       "\u001b[32m'0-DANetConfig'\u001b[0m, \u001b[32m'model_config__abstlay_dim_1'\u001b[0m: \u001b[1;36m32\u001b[0m, \u001b[32m'model_config__abstlay_dim_2'\u001b[0m: \u001b[1;36m64\u001b[0m, \u001b[32m'model_config__n_layers'\u001b[0m: \u001b[1;36m4\u001b[0m,\n",
       "\u001b[32m'optimizer_config__optimizer'\u001b[0m: \u001b[32m'AdamW'\u001b[0m, \u001b[32m'loss'\u001b[0m: \u001b[1;36m1.0918340682983398\u001b[0m, \u001b[32m'mean_squared_error'\u001b[0m: \u001b[1;36m1.0918340682983398\u001b[0m,      \n",
       "\u001b[32m'trial_id'\u001b[0m: \u001b[1;36m25\u001b[0m\u001b[1m}\u001b[0m | Score: \u001b[1;36m1.0918340682983398\u001b[0m                                                                        \n"
      ]
     },
     "metadata": {},
     "output_type": "display_data"
    },
    {
     "data": {
      "application/vnd.jupyter.widget-view+json": {
       "model_id": "e923a6b12906446f953974c88450c830",
       "version_major": 2,
       "version_minor": 0
      },
      "text/plain": [
       "Finding best initial lr:   0%|          | 0/100 [00:00<?, ?it/s]"
      ]
     },
     "metadata": {},
     "output_type": "display_data"
    },
    {
     "data": {
      "text/html": [
       "<pre style=\"white-space:pre;overflow-x:auto;line-height:normal;font-family:Menlo,'DejaVu Sans Mono',consolas,'Courier New',monospace\"><span style=\"color: #008080; text-decoration-color: #008080; font-weight: bold\">2025</span>-<span style=\"color: #008080; text-decoration-color: #008080; font-weight: bold\">02</span>-<span style=\"color: #008080; text-decoration-color: #008080; font-weight: bold\">26</span> <span style=\"color: #00ff00; text-decoration-color: #00ff00; font-weight: bold\">11:49:51</span>,<span style=\"color: #008080; text-decoration-color: #008080; font-weight: bold\">411</span> - <span style=\"font-weight: bold\">{</span>pytorch_tabular.tabular_model_tuner:<span style=\"color: #008080; text-decoration-color: #008080; font-weight: bold\">412</span><span style=\"font-weight: bold\">}</span> - INFO - Trial <span style=\"color: #008080; text-decoration-color: #008080; font-weight: bold\">27</span>/<span style=\"color: #008080; text-decoration-color: #008080; font-weight: bold\">54</span>: <span style=\"font-weight: bold\">{</span><span style=\"color: #008000; text-decoration-color: #008000\">'model'</span>:                \n",
       "<span style=\"color: #008000; text-decoration-color: #008000\">'0-DANetConfig'</span>, <span style=\"color: #008000; text-decoration-color: #008000\">'model_config__abstlay_dim_1'</span>: <span style=\"color: #008080; text-decoration-color: #008080; font-weight: bold\">32</span>, <span style=\"color: #008000; text-decoration-color: #008000\">'model_config__abstlay_dim_2'</span>: <span style=\"color: #008080; text-decoration-color: #008080; font-weight: bold\">64</span>, <span style=\"color: #008000; text-decoration-color: #008000\">'model_config__n_layers'</span>: <span style=\"color: #008080; text-decoration-color: #008080; font-weight: bold\">8</span>,\n",
       "<span style=\"color: #008000; text-decoration-color: #008000\">'optimizer_config__optimizer'</span>: <span style=\"color: #008000; text-decoration-color: #008000\">'Adam'</span>, <span style=\"color: #008000; text-decoration-color: #008000\">'loss'</span>: <span style=\"color: #008080; text-decoration-color: #008080; font-weight: bold\">1.000882863998413</span>, <span style=\"color: #008000; text-decoration-color: #008000\">'mean_squared_error'</span>: <span style=\"color: #008080; text-decoration-color: #008080; font-weight: bold\">1.000882863998413</span>,         \n",
       "<span style=\"color: #008000; text-decoration-color: #008000\">'trial_id'</span>: <span style=\"color: #008080; text-decoration-color: #008080; font-weight: bold\">26</span><span style=\"font-weight: bold\">}</span> | Score: <span style=\"color: #008080; text-decoration-color: #008080; font-weight: bold\">1.000882863998413</span>                                                                         \n",
       "</pre>\n"
      ],
      "text/plain": [
       "\u001b[1;36m2025\u001b[0m-\u001b[1;36m02\u001b[0m-\u001b[1;36m26\u001b[0m \u001b[1;92m11:49:51\u001b[0m,\u001b[1;36m411\u001b[0m - \u001b[1m{\u001b[0mpytorch_tabular.tabular_model_tuner:\u001b[1;36m412\u001b[0m\u001b[1m}\u001b[0m - INFO - Trial \u001b[1;36m27\u001b[0m/\u001b[1;36m54\u001b[0m: \u001b[1m{\u001b[0m\u001b[32m'model'\u001b[0m:                \n",
       "\u001b[32m'0-DANetConfig'\u001b[0m, \u001b[32m'model_config__abstlay_dim_1'\u001b[0m: \u001b[1;36m32\u001b[0m, \u001b[32m'model_config__abstlay_dim_2'\u001b[0m: \u001b[1;36m64\u001b[0m, \u001b[32m'model_config__n_layers'\u001b[0m: \u001b[1;36m8\u001b[0m,\n",
       "\u001b[32m'optimizer_config__optimizer'\u001b[0m: \u001b[32m'Adam'\u001b[0m, \u001b[32m'loss'\u001b[0m: \u001b[1;36m1.000882863998413\u001b[0m, \u001b[32m'mean_squared_error'\u001b[0m: \u001b[1;36m1.000882863998413\u001b[0m,         \n",
       "\u001b[32m'trial_id'\u001b[0m: \u001b[1;36m26\u001b[0m\u001b[1m}\u001b[0m | Score: \u001b[1;36m1.000882863998413\u001b[0m                                                                         \n"
      ]
     },
     "metadata": {},
     "output_type": "display_data"
    },
    {
     "data": {
      "application/vnd.jupyter.widget-view+json": {
       "model_id": "8d3ecb8c9b5140bfa83a3817ca283377",
       "version_major": 2,
       "version_minor": 0
      },
      "text/plain": [
       "Finding best initial lr:   0%|          | 0/100 [00:00<?, ?it/s]"
      ]
     },
     "metadata": {},
     "output_type": "display_data"
    },
    {
     "data": {
      "text/html": [
       "<pre style=\"white-space:pre;overflow-x:auto;line-height:normal;font-family:Menlo,'DejaVu Sans Mono',consolas,'Courier New',monospace\"><span style=\"color: #008080; text-decoration-color: #008080; font-weight: bold\">2025</span>-<span style=\"color: #008080; text-decoration-color: #008080; font-weight: bold\">02</span>-<span style=\"color: #008080; text-decoration-color: #008080; font-weight: bold\">26</span> <span style=\"color: #00ff00; text-decoration-color: #00ff00; font-weight: bold\">11:50:47</span>,<span style=\"color: #008080; text-decoration-color: #008080; font-weight: bold\">051</span> - <span style=\"font-weight: bold\">{</span>pytorch_tabular.tabular_model_tuner:<span style=\"color: #008080; text-decoration-color: #008080; font-weight: bold\">412</span><span style=\"font-weight: bold\">}</span> - INFO - Trial <span style=\"color: #008080; text-decoration-color: #008080; font-weight: bold\">28</span>/<span style=\"color: #008080; text-decoration-color: #008080; font-weight: bold\">54</span>: <span style=\"font-weight: bold\">{</span><span style=\"color: #008000; text-decoration-color: #008000\">'model'</span>:                \n",
       "<span style=\"color: #008000; text-decoration-color: #008000\">'0-DANetConfig'</span>, <span style=\"color: #008000; text-decoration-color: #008000\">'model_config__abstlay_dim_1'</span>: <span style=\"color: #008080; text-decoration-color: #008080; font-weight: bold\">32</span>, <span style=\"color: #008000; text-decoration-color: #008000\">'model_config__abstlay_dim_2'</span>: <span style=\"color: #008080; text-decoration-color: #008080; font-weight: bold\">64</span>, <span style=\"color: #008000; text-decoration-color: #008000\">'model_config__n_layers'</span>: <span style=\"color: #008080; text-decoration-color: #008080; font-weight: bold\">8</span>,\n",
       "<span style=\"color: #008000; text-decoration-color: #008000\">'optimizer_config__optimizer'</span>: <span style=\"color: #008000; text-decoration-color: #008000\">'AdamW'</span>, <span style=\"color: #008000; text-decoration-color: #008000\">'loss'</span>: <span style=\"color: #008080; text-decoration-color: #008080; font-weight: bold\">22.244834899902344</span>, <span style=\"color: #008000; text-decoration-color: #008000\">'mean_squared_error'</span>: <span style=\"color: #008080; text-decoration-color: #008080; font-weight: bold\">22.244834899902344</span>,      \n",
       "<span style=\"color: #008000; text-decoration-color: #008000\">'trial_id'</span>: <span style=\"color: #008080; text-decoration-color: #008080; font-weight: bold\">27</span><span style=\"font-weight: bold\">}</span> | Score: <span style=\"color: #008080; text-decoration-color: #008080; font-weight: bold\">22.244834899902344</span>                                                                        \n",
       "</pre>\n"
      ],
      "text/plain": [
       "\u001b[1;36m2025\u001b[0m-\u001b[1;36m02\u001b[0m-\u001b[1;36m26\u001b[0m \u001b[1;92m11:50:47\u001b[0m,\u001b[1;36m051\u001b[0m - \u001b[1m{\u001b[0mpytorch_tabular.tabular_model_tuner:\u001b[1;36m412\u001b[0m\u001b[1m}\u001b[0m - INFO - Trial \u001b[1;36m28\u001b[0m/\u001b[1;36m54\u001b[0m: \u001b[1m{\u001b[0m\u001b[32m'model'\u001b[0m:                \n",
       "\u001b[32m'0-DANetConfig'\u001b[0m, \u001b[32m'model_config__abstlay_dim_1'\u001b[0m: \u001b[1;36m32\u001b[0m, \u001b[32m'model_config__abstlay_dim_2'\u001b[0m: \u001b[1;36m64\u001b[0m, \u001b[32m'model_config__n_layers'\u001b[0m: \u001b[1;36m8\u001b[0m,\n",
       "\u001b[32m'optimizer_config__optimizer'\u001b[0m: \u001b[32m'AdamW'\u001b[0m, \u001b[32m'loss'\u001b[0m: \u001b[1;36m22.244834899902344\u001b[0m, \u001b[32m'mean_squared_error'\u001b[0m: \u001b[1;36m22.244834899902344\u001b[0m,      \n",
       "\u001b[32m'trial_id'\u001b[0m: \u001b[1;36m27\u001b[0m\u001b[1m}\u001b[0m | Score: \u001b[1;36m22.244834899902344\u001b[0m                                                                        \n"
      ]
     },
     "metadata": {},
     "output_type": "display_data"
    },
    {
     "data": {
      "application/vnd.jupyter.widget-view+json": {
       "model_id": "e471784b9e1c4933aa0486f27abee39f",
       "version_major": 2,
       "version_minor": 0
      },
      "text/plain": [
       "Finding best initial lr:   0%|          | 0/100 [00:00<?, ?it/s]"
      ]
     },
     "metadata": {},
     "output_type": "display_data"
    },
    {
     "data": {
      "text/html": [
       "<pre style=\"white-space:pre;overflow-x:auto;line-height:normal;font-family:Menlo,'DejaVu Sans Mono',consolas,'Courier New',monospace\"><span style=\"color: #008080; text-decoration-color: #008080; font-weight: bold\">2025</span>-<span style=\"color: #008080; text-decoration-color: #008080; font-weight: bold\">02</span>-<span style=\"color: #008080; text-decoration-color: #008080; font-weight: bold\">26</span> <span style=\"color: #00ff00; text-decoration-color: #00ff00; font-weight: bold\">11:52:18</span>,<span style=\"color: #008080; text-decoration-color: #008080; font-weight: bold\">734</span> - <span style=\"font-weight: bold\">{</span>pytorch_tabular.tabular_model_tuner:<span style=\"color: #008080; text-decoration-color: #008080; font-weight: bold\">412</span><span style=\"font-weight: bold\">}</span> - INFO - Trial <span style=\"color: #008080; text-decoration-color: #008080; font-weight: bold\">29</span>/<span style=\"color: #008080; text-decoration-color: #008080; font-weight: bold\">54</span>: <span style=\"font-weight: bold\">{</span><span style=\"color: #008000; text-decoration-color: #008000\">'model'</span>:                \n",
       "<span style=\"color: #008000; text-decoration-color: #008000\">'0-DANetConfig'</span>, <span style=\"color: #008000; text-decoration-color: #008000\">'model_config__abstlay_dim_1'</span>: <span style=\"color: #008080; text-decoration-color: #008080; font-weight: bold\">32</span>, <span style=\"color: #008000; text-decoration-color: #008000\">'model_config__abstlay_dim_2'</span>: <span style=\"color: #008080; text-decoration-color: #008080; font-weight: bold\">64</span>, <span style=\"color: #008000; text-decoration-color: #008000\">'model_config__n_layers'</span>:   \n",
       "<span style=\"color: #008080; text-decoration-color: #008080; font-weight: bold\">16</span>, <span style=\"color: #008000; text-decoration-color: #008000\">'optimizer_config__optimizer'</span>: <span style=\"color: #008000; text-decoration-color: #008000\">'Adam'</span>, <span style=\"color: #008000; text-decoration-color: #008000\">'loss'</span>: <span style=\"color: #008080; text-decoration-color: #008080; font-weight: bold\">23.842121124267578</span>, <span style=\"color: #008000; text-decoration-color: #008000\">'mean_squared_error'</span>: <span style=\"color: #008080; text-decoration-color: #008080; font-weight: bold\">23.842121124267578</span>,   \n",
       "<span style=\"color: #008000; text-decoration-color: #008000\">'trial_id'</span>: <span style=\"color: #008080; text-decoration-color: #008080; font-weight: bold\">28</span><span style=\"font-weight: bold\">}</span> | Score: <span style=\"color: #008080; text-decoration-color: #008080; font-weight: bold\">23.842121124267578</span>                                                                        \n",
       "</pre>\n"
      ],
      "text/plain": [
       "\u001b[1;36m2025\u001b[0m-\u001b[1;36m02\u001b[0m-\u001b[1;36m26\u001b[0m \u001b[1;92m11:52:18\u001b[0m,\u001b[1;36m734\u001b[0m - \u001b[1m{\u001b[0mpytorch_tabular.tabular_model_tuner:\u001b[1;36m412\u001b[0m\u001b[1m}\u001b[0m - INFO - Trial \u001b[1;36m29\u001b[0m/\u001b[1;36m54\u001b[0m: \u001b[1m{\u001b[0m\u001b[32m'model'\u001b[0m:                \n",
       "\u001b[32m'0-DANetConfig'\u001b[0m, \u001b[32m'model_config__abstlay_dim_1'\u001b[0m: \u001b[1;36m32\u001b[0m, \u001b[32m'model_config__abstlay_dim_2'\u001b[0m: \u001b[1;36m64\u001b[0m, \u001b[32m'model_config__n_layers'\u001b[0m:   \n",
       "\u001b[1;36m16\u001b[0m, \u001b[32m'optimizer_config__optimizer'\u001b[0m: \u001b[32m'Adam'\u001b[0m, \u001b[32m'loss'\u001b[0m: \u001b[1;36m23.842121124267578\u001b[0m, \u001b[32m'mean_squared_error'\u001b[0m: \u001b[1;36m23.842121124267578\u001b[0m,   \n",
       "\u001b[32m'trial_id'\u001b[0m: \u001b[1;36m28\u001b[0m\u001b[1m}\u001b[0m | Score: \u001b[1;36m23.842121124267578\u001b[0m                                                                        \n"
      ]
     },
     "metadata": {},
     "output_type": "display_data"
    },
    {
     "data": {
      "application/vnd.jupyter.widget-view+json": {
       "model_id": "10dcf6261c524d77bcf8d38509155e9b",
       "version_major": 2,
       "version_minor": 0
      },
      "text/plain": [
       "Finding best initial lr:   0%|          | 0/100 [00:00<?, ?it/s]"
      ]
     },
     "metadata": {},
     "output_type": "display_data"
    },
    {
     "data": {
      "text/html": [
       "<pre style=\"white-space:pre;overflow-x:auto;line-height:normal;font-family:Menlo,'DejaVu Sans Mono',consolas,'Courier New',monospace\"><span style=\"color: #008080; text-decoration-color: #008080; font-weight: bold\">2025</span>-<span style=\"color: #008080; text-decoration-color: #008080; font-weight: bold\">02</span>-<span style=\"color: #008080; text-decoration-color: #008080; font-weight: bold\">26</span> <span style=\"color: #00ff00; text-decoration-color: #00ff00; font-weight: bold\">11:53:53</span>,<span style=\"color: #008080; text-decoration-color: #008080; font-weight: bold\">656</span> - <span style=\"font-weight: bold\">{</span>pytorch_tabular.tabular_model_tuner:<span style=\"color: #008080; text-decoration-color: #008080; font-weight: bold\">412</span><span style=\"font-weight: bold\">}</span> - INFO - Trial <span style=\"color: #008080; text-decoration-color: #008080; font-weight: bold\">30</span>/<span style=\"color: #008080; text-decoration-color: #008080; font-weight: bold\">54</span>: <span style=\"font-weight: bold\">{</span><span style=\"color: #008000; text-decoration-color: #008000\">'model'</span>:                \n",
       "<span style=\"color: #008000; text-decoration-color: #008000\">'0-DANetConfig'</span>, <span style=\"color: #008000; text-decoration-color: #008000\">'model_config__abstlay_dim_1'</span>: <span style=\"color: #008080; text-decoration-color: #008080; font-weight: bold\">32</span>, <span style=\"color: #008000; text-decoration-color: #008000\">'model_config__abstlay_dim_2'</span>: <span style=\"color: #008080; text-decoration-color: #008080; font-weight: bold\">64</span>, <span style=\"color: #008000; text-decoration-color: #008000\">'model_config__n_layers'</span>:   \n",
       "<span style=\"color: #008080; text-decoration-color: #008080; font-weight: bold\">16</span>, <span style=\"color: #008000; text-decoration-color: #008000\">'optimizer_config__optimizer'</span>: <span style=\"color: #008000; text-decoration-color: #008000\">'AdamW'</span>, <span style=\"color: #008000; text-decoration-color: #008000\">'loss'</span>: <span style=\"color: #008080; text-decoration-color: #008080; font-weight: bold\">1.005210280418396</span>, <span style=\"color: #008000; text-decoration-color: #008000\">'mean_squared_error'</span>: <span style=\"color: #008080; text-decoration-color: #008080; font-weight: bold\">1.005210280418396</span>,    \n",
       "<span style=\"color: #008000; text-decoration-color: #008000\">'trial_id'</span>: <span style=\"color: #008080; text-decoration-color: #008080; font-weight: bold\">29</span><span style=\"font-weight: bold\">}</span> | Score: <span style=\"color: #008080; text-decoration-color: #008080; font-weight: bold\">1.005210280418396</span>                                                                         \n",
       "</pre>\n"
      ],
      "text/plain": [
       "\u001b[1;36m2025\u001b[0m-\u001b[1;36m02\u001b[0m-\u001b[1;36m26\u001b[0m \u001b[1;92m11:53:53\u001b[0m,\u001b[1;36m656\u001b[0m - \u001b[1m{\u001b[0mpytorch_tabular.tabular_model_tuner:\u001b[1;36m412\u001b[0m\u001b[1m}\u001b[0m - INFO - Trial \u001b[1;36m30\u001b[0m/\u001b[1;36m54\u001b[0m: \u001b[1m{\u001b[0m\u001b[32m'model'\u001b[0m:                \n",
       "\u001b[32m'0-DANetConfig'\u001b[0m, \u001b[32m'model_config__abstlay_dim_1'\u001b[0m: \u001b[1;36m32\u001b[0m, \u001b[32m'model_config__abstlay_dim_2'\u001b[0m: \u001b[1;36m64\u001b[0m, \u001b[32m'model_config__n_layers'\u001b[0m:   \n",
       "\u001b[1;36m16\u001b[0m, \u001b[32m'optimizer_config__optimizer'\u001b[0m: \u001b[32m'AdamW'\u001b[0m, \u001b[32m'loss'\u001b[0m: \u001b[1;36m1.005210280418396\u001b[0m, \u001b[32m'mean_squared_error'\u001b[0m: \u001b[1;36m1.005210280418396\u001b[0m,    \n",
       "\u001b[32m'trial_id'\u001b[0m: \u001b[1;36m29\u001b[0m\u001b[1m}\u001b[0m | Score: \u001b[1;36m1.005210280418396\u001b[0m                                                                         \n"
      ]
     },
     "metadata": {},
     "output_type": "display_data"
    },
    {
     "data": {
      "application/vnd.jupyter.widget-view+json": {
       "model_id": "b3f7cd40816d46f5b59b08a6b4452424",
       "version_major": 2,
       "version_minor": 0
      },
      "text/plain": [
       "Finding best initial lr:   0%|          | 0/100 [00:00<?, ?it/s]"
      ]
     },
     "metadata": {},
     "output_type": "display_data"
    },
    {
     "data": {
      "text/html": [
       "<pre style=\"white-space:pre;overflow-x:auto;line-height:normal;font-family:Menlo,'DejaVu Sans Mono',consolas,'Courier New',monospace\"><span style=\"color: #008080; text-decoration-color: #008080; font-weight: bold\">2025</span>-<span style=\"color: #008080; text-decoration-color: #008080; font-weight: bold\">02</span>-<span style=\"color: #008080; text-decoration-color: #008080; font-weight: bold\">26</span> <span style=\"color: #00ff00; text-decoration-color: #00ff00; font-weight: bold\">11:54:29</span>,<span style=\"color: #008080; text-decoration-color: #008080; font-weight: bold\">287</span> - <span style=\"font-weight: bold\">{</span>pytorch_tabular.tabular_model_tuner:<span style=\"color: #008080; text-decoration-color: #008080; font-weight: bold\">412</span><span style=\"font-weight: bold\">}</span> - INFO - Trial <span style=\"color: #008080; text-decoration-color: #008080; font-weight: bold\">31</span>/<span style=\"color: #008080; text-decoration-color: #008080; font-weight: bold\">54</span>: <span style=\"font-weight: bold\">{</span><span style=\"color: #008000; text-decoration-color: #008000\">'model'</span>:                \n",
       "<span style=\"color: #008000; text-decoration-color: #008000\">'0-DANetConfig'</span>, <span style=\"color: #008000; text-decoration-color: #008000\">'model_config__abstlay_dim_1'</span>: <span style=\"color: #008080; text-decoration-color: #008080; font-weight: bold\">32</span>, <span style=\"color: #008000; text-decoration-color: #008000\">'model_config__abstlay_dim_2'</span>: <span style=\"color: #008080; text-decoration-color: #008080; font-weight: bold\">128</span>, <span style=\"color: #008000; text-decoration-color: #008000\">'model_config__n_layers'</span>:  \n",
       "<span style=\"color: #008080; text-decoration-color: #008080; font-weight: bold\">4</span>, <span style=\"color: #008000; text-decoration-color: #008000\">'optimizer_config__optimizer'</span>: <span style=\"color: #008000; text-decoration-color: #008000\">'Adam'</span>, <span style=\"color: #008000; text-decoration-color: #008000\">'loss'</span>: <span style=\"color: #008080; text-decoration-color: #008080; font-weight: bold\">23.056682586669922</span>, <span style=\"color: #008000; text-decoration-color: #008000\">'mean_squared_error'</span>: <span style=\"color: #008080; text-decoration-color: #008080; font-weight: bold\">23.056682586669922</span>,    \n",
       "<span style=\"color: #008000; text-decoration-color: #008000\">'trial_id'</span>: <span style=\"color: #008080; text-decoration-color: #008080; font-weight: bold\">30</span><span style=\"font-weight: bold\">}</span> | Score: <span style=\"color: #008080; text-decoration-color: #008080; font-weight: bold\">23.056682586669922</span>                                                                        \n",
       "</pre>\n"
      ],
      "text/plain": [
       "\u001b[1;36m2025\u001b[0m-\u001b[1;36m02\u001b[0m-\u001b[1;36m26\u001b[0m \u001b[1;92m11:54:29\u001b[0m,\u001b[1;36m287\u001b[0m - \u001b[1m{\u001b[0mpytorch_tabular.tabular_model_tuner:\u001b[1;36m412\u001b[0m\u001b[1m}\u001b[0m - INFO - Trial \u001b[1;36m31\u001b[0m/\u001b[1;36m54\u001b[0m: \u001b[1m{\u001b[0m\u001b[32m'model'\u001b[0m:                \n",
       "\u001b[32m'0-DANetConfig'\u001b[0m, \u001b[32m'model_config__abstlay_dim_1'\u001b[0m: \u001b[1;36m32\u001b[0m, \u001b[32m'model_config__abstlay_dim_2'\u001b[0m: \u001b[1;36m128\u001b[0m, \u001b[32m'model_config__n_layers'\u001b[0m:  \n",
       "\u001b[1;36m4\u001b[0m, \u001b[32m'optimizer_config__optimizer'\u001b[0m: \u001b[32m'Adam'\u001b[0m, \u001b[32m'loss'\u001b[0m: \u001b[1;36m23.056682586669922\u001b[0m, \u001b[32m'mean_squared_error'\u001b[0m: \u001b[1;36m23.056682586669922\u001b[0m,    \n",
       "\u001b[32m'trial_id'\u001b[0m: \u001b[1;36m30\u001b[0m\u001b[1m}\u001b[0m | Score: \u001b[1;36m23.056682586669922\u001b[0m                                                                        \n"
      ]
     },
     "metadata": {},
     "output_type": "display_data"
    },
    {
     "data": {
      "application/vnd.jupyter.widget-view+json": {
       "model_id": "f2f04582f575469cb45a8fa629131d98",
       "version_major": 2,
       "version_minor": 0
      },
      "text/plain": [
       "Finding best initial lr:   0%|          | 0/100 [00:00<?, ?it/s]"
      ]
     },
     "metadata": {},
     "output_type": "display_data"
    },
    {
     "data": {
      "text/html": [
       "<pre style=\"white-space:pre;overflow-x:auto;line-height:normal;font-family:Menlo,'DejaVu Sans Mono',consolas,'Courier New',monospace\"><span style=\"color: #008080; text-decoration-color: #008080; font-weight: bold\">2025</span>-<span style=\"color: #008080; text-decoration-color: #008080; font-weight: bold\">02</span>-<span style=\"color: #008080; text-decoration-color: #008080; font-weight: bold\">26</span> <span style=\"color: #00ff00; text-decoration-color: #00ff00; font-weight: bold\">11:55:22</span>,<span style=\"color: #008080; text-decoration-color: #008080; font-weight: bold\">686</span> - <span style=\"font-weight: bold\">{</span>pytorch_tabular.tabular_model_tuner:<span style=\"color: #008080; text-decoration-color: #008080; font-weight: bold\">412</span><span style=\"font-weight: bold\">}</span> - INFO - Trial <span style=\"color: #008080; text-decoration-color: #008080; font-weight: bold\">32</span>/<span style=\"color: #008080; text-decoration-color: #008080; font-weight: bold\">54</span>: <span style=\"font-weight: bold\">{</span><span style=\"color: #008000; text-decoration-color: #008000\">'model'</span>:                \n",
       "<span style=\"color: #008000; text-decoration-color: #008000\">'0-DANetConfig'</span>, <span style=\"color: #008000; text-decoration-color: #008000\">'model_config__abstlay_dim_1'</span>: <span style=\"color: #008080; text-decoration-color: #008080; font-weight: bold\">32</span>, <span style=\"color: #008000; text-decoration-color: #008000\">'model_config__abstlay_dim_2'</span>: <span style=\"color: #008080; text-decoration-color: #008080; font-weight: bold\">128</span>, <span style=\"color: #008000; text-decoration-color: #008000\">'model_config__n_layers'</span>:  \n",
       "<span style=\"color: #008080; text-decoration-color: #008080; font-weight: bold\">4</span>, <span style=\"color: #008000; text-decoration-color: #008000\">'optimizer_config__optimizer'</span>: <span style=\"color: #008000; text-decoration-color: #008000\">'AdamW'</span>, <span style=\"color: #008000; text-decoration-color: #008000\">'loss'</span>: <span style=\"color: #008080; text-decoration-color: #008080; font-weight: bold\">0.8396351933479309</span>, <span style=\"color: #008000; text-decoration-color: #008000\">'mean_squared_error'</span>: <span style=\"color: #008080; text-decoration-color: #008080; font-weight: bold\">0.8396351933479309</span>,   \n",
       "<span style=\"color: #008000; text-decoration-color: #008000\">'trial_id'</span>: <span style=\"color: #008080; text-decoration-color: #008080; font-weight: bold\">31</span><span style=\"font-weight: bold\">}</span> | Score: <span style=\"color: #008080; text-decoration-color: #008080; font-weight: bold\">0.8396351933479309</span>                                                                        \n",
       "</pre>\n"
      ],
      "text/plain": [
       "\u001b[1;36m2025\u001b[0m-\u001b[1;36m02\u001b[0m-\u001b[1;36m26\u001b[0m \u001b[1;92m11:55:22\u001b[0m,\u001b[1;36m686\u001b[0m - \u001b[1m{\u001b[0mpytorch_tabular.tabular_model_tuner:\u001b[1;36m412\u001b[0m\u001b[1m}\u001b[0m - INFO - Trial \u001b[1;36m32\u001b[0m/\u001b[1;36m54\u001b[0m: \u001b[1m{\u001b[0m\u001b[32m'model'\u001b[0m:                \n",
       "\u001b[32m'0-DANetConfig'\u001b[0m, \u001b[32m'model_config__abstlay_dim_1'\u001b[0m: \u001b[1;36m32\u001b[0m, \u001b[32m'model_config__abstlay_dim_2'\u001b[0m: \u001b[1;36m128\u001b[0m, \u001b[32m'model_config__n_layers'\u001b[0m:  \n",
       "\u001b[1;36m4\u001b[0m, \u001b[32m'optimizer_config__optimizer'\u001b[0m: \u001b[32m'AdamW'\u001b[0m, \u001b[32m'loss'\u001b[0m: \u001b[1;36m0.8396351933479309\u001b[0m, \u001b[32m'mean_squared_error'\u001b[0m: \u001b[1;36m0.8396351933479309\u001b[0m,   \n",
       "\u001b[32m'trial_id'\u001b[0m: \u001b[1;36m31\u001b[0m\u001b[1m}\u001b[0m | Score: \u001b[1;36m0.8396351933479309\u001b[0m                                                                        \n"
      ]
     },
     "metadata": {},
     "output_type": "display_data"
    },
    {
     "data": {
      "application/vnd.jupyter.widget-view+json": {
       "model_id": "b6197796fb384d0fb1e2f7cbc8f77161",
       "version_major": 2,
       "version_minor": 0
      },
      "text/plain": [
       "Finding best initial lr:   0%|          | 0/100 [00:00<?, ?it/s]"
      ]
     },
     "metadata": {},
     "output_type": "display_data"
    },
    {
     "data": {
      "text/html": [
       "<pre style=\"white-space:pre;overflow-x:auto;line-height:normal;font-family:Menlo,'DejaVu Sans Mono',consolas,'Courier New',monospace\"><span style=\"color: #008080; text-decoration-color: #008080; font-weight: bold\">2025</span>-<span style=\"color: #008080; text-decoration-color: #008080; font-weight: bold\">02</span>-<span style=\"color: #008080; text-decoration-color: #008080; font-weight: bold\">26</span> <span style=\"color: #00ff00; text-decoration-color: #00ff00; font-weight: bold\">11:56:17</span>,<span style=\"color: #008080; text-decoration-color: #008080; font-weight: bold\">707</span> - <span style=\"font-weight: bold\">{</span>pytorch_tabular.tabular_model_tuner:<span style=\"color: #008080; text-decoration-color: #008080; font-weight: bold\">412</span><span style=\"font-weight: bold\">}</span> - INFO - Trial <span style=\"color: #008080; text-decoration-color: #008080; font-weight: bold\">33</span>/<span style=\"color: #008080; text-decoration-color: #008080; font-weight: bold\">54</span>: <span style=\"font-weight: bold\">{</span><span style=\"color: #008000; text-decoration-color: #008000\">'model'</span>:                \n",
       "<span style=\"color: #008000; text-decoration-color: #008000\">'0-DANetConfig'</span>, <span style=\"color: #008000; text-decoration-color: #008000\">'model_config__abstlay_dim_1'</span>: <span style=\"color: #008080; text-decoration-color: #008080; font-weight: bold\">32</span>, <span style=\"color: #008000; text-decoration-color: #008000\">'model_config__abstlay_dim_2'</span>: <span style=\"color: #008080; text-decoration-color: #008080; font-weight: bold\">128</span>, <span style=\"color: #008000; text-decoration-color: #008000\">'model_config__n_layers'</span>:  \n",
       "<span style=\"color: #008080; text-decoration-color: #008080; font-weight: bold\">8</span>, <span style=\"color: #008000; text-decoration-color: #008000\">'optimizer_config__optimizer'</span>: <span style=\"color: #008000; text-decoration-color: #008000\">'Adam'</span>, <span style=\"color: #008000; text-decoration-color: #008000\">'loss'</span>: <span style=\"color: #008080; text-decoration-color: #008080; font-weight: bold\">23.680782318115234</span>, <span style=\"color: #008000; text-decoration-color: #008000\">'mean_squared_error'</span>: <span style=\"color: #008080; text-decoration-color: #008080; font-weight: bold\">23.680782318115234</span>,    \n",
       "<span style=\"color: #008000; text-decoration-color: #008000\">'trial_id'</span>: <span style=\"color: #008080; text-decoration-color: #008080; font-weight: bold\">32</span><span style=\"font-weight: bold\">}</span> | Score: <span style=\"color: #008080; text-decoration-color: #008080; font-weight: bold\">23.680782318115234</span>                                                                        \n",
       "</pre>\n"
      ],
      "text/plain": [
       "\u001b[1;36m2025\u001b[0m-\u001b[1;36m02\u001b[0m-\u001b[1;36m26\u001b[0m \u001b[1;92m11:56:17\u001b[0m,\u001b[1;36m707\u001b[0m - \u001b[1m{\u001b[0mpytorch_tabular.tabular_model_tuner:\u001b[1;36m412\u001b[0m\u001b[1m}\u001b[0m - INFO - Trial \u001b[1;36m33\u001b[0m/\u001b[1;36m54\u001b[0m: \u001b[1m{\u001b[0m\u001b[32m'model'\u001b[0m:                \n",
       "\u001b[32m'0-DANetConfig'\u001b[0m, \u001b[32m'model_config__abstlay_dim_1'\u001b[0m: \u001b[1;36m32\u001b[0m, \u001b[32m'model_config__abstlay_dim_2'\u001b[0m: \u001b[1;36m128\u001b[0m, \u001b[32m'model_config__n_layers'\u001b[0m:  \n",
       "\u001b[1;36m8\u001b[0m, \u001b[32m'optimizer_config__optimizer'\u001b[0m: \u001b[32m'Adam'\u001b[0m, \u001b[32m'loss'\u001b[0m: \u001b[1;36m23.680782318115234\u001b[0m, \u001b[32m'mean_squared_error'\u001b[0m: \u001b[1;36m23.680782318115234\u001b[0m,    \n",
       "\u001b[32m'trial_id'\u001b[0m: \u001b[1;36m32\u001b[0m\u001b[1m}\u001b[0m | Score: \u001b[1;36m23.680782318115234\u001b[0m                                                                        \n"
      ]
     },
     "metadata": {},
     "output_type": "display_data"
    },
    {
     "data": {
      "application/vnd.jupyter.widget-view+json": {
       "model_id": "9d122be939d7451c898e775e3c2b9e62",
       "version_major": 2,
       "version_minor": 0
      },
      "text/plain": [
       "Finding best initial lr:   0%|          | 0/100 [00:00<?, ?it/s]"
      ]
     },
     "metadata": {},
     "output_type": "display_data"
    },
    {
     "data": {
      "text/html": [
       "<pre style=\"white-space:pre;overflow-x:auto;line-height:normal;font-family:Menlo,'DejaVu Sans Mono',consolas,'Courier New',monospace\"><span style=\"color: #008080; text-decoration-color: #008080; font-weight: bold\">2025</span>-<span style=\"color: #008080; text-decoration-color: #008080; font-weight: bold\">02</span>-<span style=\"color: #008080; text-decoration-color: #008080; font-weight: bold\">26</span> <span style=\"color: #00ff00; text-decoration-color: #00ff00; font-weight: bold\">11:57:41</span>,<span style=\"color: #008080; text-decoration-color: #008080; font-weight: bold\">312</span> - <span style=\"font-weight: bold\">{</span>pytorch_tabular.tabular_model_tuner:<span style=\"color: #008080; text-decoration-color: #008080; font-weight: bold\">412</span><span style=\"font-weight: bold\">}</span> - INFO - Trial <span style=\"color: #008080; text-decoration-color: #008080; font-weight: bold\">34</span>/<span style=\"color: #008080; text-decoration-color: #008080; font-weight: bold\">54</span>: <span style=\"font-weight: bold\">{</span><span style=\"color: #008000; text-decoration-color: #008000\">'model'</span>:                \n",
       "<span style=\"color: #008000; text-decoration-color: #008000\">'0-DANetConfig'</span>, <span style=\"color: #008000; text-decoration-color: #008000\">'model_config__abstlay_dim_1'</span>: <span style=\"color: #008080; text-decoration-color: #008080; font-weight: bold\">32</span>, <span style=\"color: #008000; text-decoration-color: #008000\">'model_config__abstlay_dim_2'</span>: <span style=\"color: #008080; text-decoration-color: #008080; font-weight: bold\">128</span>, <span style=\"color: #008000; text-decoration-color: #008000\">'model_config__n_layers'</span>:  \n",
       "<span style=\"color: #008080; text-decoration-color: #008080; font-weight: bold\">8</span>, <span style=\"color: #008000; text-decoration-color: #008000\">'optimizer_config__optimizer'</span>: <span style=\"color: #008000; text-decoration-color: #008000\">'AdamW'</span>, <span style=\"color: #008000; text-decoration-color: #008000\">'loss'</span>: <span style=\"color: #008080; text-decoration-color: #008080; font-weight: bold\">1.0162371397018433</span>, <span style=\"color: #008000; text-decoration-color: #008000\">'mean_squared_error'</span>: <span style=\"color: #008080; text-decoration-color: #008080; font-weight: bold\">1.0162371397018433</span>,   \n",
       "<span style=\"color: #008000; text-decoration-color: #008000\">'trial_id'</span>: <span style=\"color: #008080; text-decoration-color: #008080; font-weight: bold\">33</span><span style=\"font-weight: bold\">}</span> | Score: <span style=\"color: #008080; text-decoration-color: #008080; font-weight: bold\">1.0162371397018433</span>                                                                        \n",
       "</pre>\n"
      ],
      "text/plain": [
       "\u001b[1;36m2025\u001b[0m-\u001b[1;36m02\u001b[0m-\u001b[1;36m26\u001b[0m \u001b[1;92m11:57:41\u001b[0m,\u001b[1;36m312\u001b[0m - \u001b[1m{\u001b[0mpytorch_tabular.tabular_model_tuner:\u001b[1;36m412\u001b[0m\u001b[1m}\u001b[0m - INFO - Trial \u001b[1;36m34\u001b[0m/\u001b[1;36m54\u001b[0m: \u001b[1m{\u001b[0m\u001b[32m'model'\u001b[0m:                \n",
       "\u001b[32m'0-DANetConfig'\u001b[0m, \u001b[32m'model_config__abstlay_dim_1'\u001b[0m: \u001b[1;36m32\u001b[0m, \u001b[32m'model_config__abstlay_dim_2'\u001b[0m: \u001b[1;36m128\u001b[0m, \u001b[32m'model_config__n_layers'\u001b[0m:  \n",
       "\u001b[1;36m8\u001b[0m, \u001b[32m'optimizer_config__optimizer'\u001b[0m: \u001b[32m'AdamW'\u001b[0m, \u001b[32m'loss'\u001b[0m: \u001b[1;36m1.0162371397018433\u001b[0m, \u001b[32m'mean_squared_error'\u001b[0m: \u001b[1;36m1.0162371397018433\u001b[0m,   \n",
       "\u001b[32m'trial_id'\u001b[0m: \u001b[1;36m33\u001b[0m\u001b[1m}\u001b[0m | Score: \u001b[1;36m1.0162371397018433\u001b[0m                                                                        \n"
      ]
     },
     "metadata": {},
     "output_type": "display_data"
    },
    {
     "data": {
      "application/vnd.jupyter.widget-view+json": {
       "model_id": "c279e706b1d649d6a914abb54d0432df",
       "version_major": 2,
       "version_minor": 0
      },
      "text/plain": [
       "Finding best initial lr:   0%|          | 0/100 [00:00<?, ?it/s]"
      ]
     },
     "metadata": {},
     "output_type": "display_data"
    },
    {
     "data": {
      "text/html": [
       "<pre style=\"white-space:pre;overflow-x:auto;line-height:normal;font-family:Menlo,'DejaVu Sans Mono',consolas,'Courier New',monospace\"><span style=\"color: #008080; text-decoration-color: #008080; font-weight: bold\">2025</span>-<span style=\"color: #008080; text-decoration-color: #008080; font-weight: bold\">02</span>-<span style=\"color: #008080; text-decoration-color: #008080; font-weight: bold\">26</span> <span style=\"color: #00ff00; text-decoration-color: #00ff00; font-weight: bold\">11:59:35</span>,<span style=\"color: #008080; text-decoration-color: #008080; font-weight: bold\">495</span> - <span style=\"font-weight: bold\">{</span>pytorch_tabular.tabular_model_tuner:<span style=\"color: #008080; text-decoration-color: #008080; font-weight: bold\">412</span><span style=\"font-weight: bold\">}</span> - INFO - Trial <span style=\"color: #008080; text-decoration-color: #008080; font-weight: bold\">35</span>/<span style=\"color: #008080; text-decoration-color: #008080; font-weight: bold\">54</span>: <span style=\"font-weight: bold\">{</span><span style=\"color: #008000; text-decoration-color: #008000\">'model'</span>:                \n",
       "<span style=\"color: #008000; text-decoration-color: #008000\">'0-DANetConfig'</span>, <span style=\"color: #008000; text-decoration-color: #008000\">'model_config__abstlay_dim_1'</span>: <span style=\"color: #008080; text-decoration-color: #008080; font-weight: bold\">32</span>, <span style=\"color: #008000; text-decoration-color: #008000\">'model_config__abstlay_dim_2'</span>: <span style=\"color: #008080; text-decoration-color: #008080; font-weight: bold\">128</span>, <span style=\"color: #008000; text-decoration-color: #008000\">'model_config__n_layers'</span>:  \n",
       "<span style=\"color: #008080; text-decoration-color: #008080; font-weight: bold\">16</span>, <span style=\"color: #008000; text-decoration-color: #008000\">'optimizer_config__optimizer'</span>: <span style=\"color: #008000; text-decoration-color: #008000\">'Adam'</span>, <span style=\"color: #008000; text-decoration-color: #008000\">'loss'</span>: <span style=\"color: #008080; text-decoration-color: #008080; font-weight: bold\">0.8773560523986816</span>, <span style=\"color: #008000; text-decoration-color: #008000\">'mean_squared_error'</span>: <span style=\"color: #008080; text-decoration-color: #008080; font-weight: bold\">0.8773560523986816</span>,   \n",
       "<span style=\"color: #008000; text-decoration-color: #008000\">'trial_id'</span>: <span style=\"color: #008080; text-decoration-color: #008080; font-weight: bold\">34</span><span style=\"font-weight: bold\">}</span> | Score: <span style=\"color: #008080; text-decoration-color: #008080; font-weight: bold\">0.8773560523986816</span>                                                                        \n",
       "</pre>\n"
      ],
      "text/plain": [
       "\u001b[1;36m2025\u001b[0m-\u001b[1;36m02\u001b[0m-\u001b[1;36m26\u001b[0m \u001b[1;92m11:59:35\u001b[0m,\u001b[1;36m495\u001b[0m - \u001b[1m{\u001b[0mpytorch_tabular.tabular_model_tuner:\u001b[1;36m412\u001b[0m\u001b[1m}\u001b[0m - INFO - Trial \u001b[1;36m35\u001b[0m/\u001b[1;36m54\u001b[0m: \u001b[1m{\u001b[0m\u001b[32m'model'\u001b[0m:                \n",
       "\u001b[32m'0-DANetConfig'\u001b[0m, \u001b[32m'model_config__abstlay_dim_1'\u001b[0m: \u001b[1;36m32\u001b[0m, \u001b[32m'model_config__abstlay_dim_2'\u001b[0m: \u001b[1;36m128\u001b[0m, \u001b[32m'model_config__n_layers'\u001b[0m:  \n",
       "\u001b[1;36m16\u001b[0m, \u001b[32m'optimizer_config__optimizer'\u001b[0m: \u001b[32m'Adam'\u001b[0m, \u001b[32m'loss'\u001b[0m: \u001b[1;36m0.8773560523986816\u001b[0m, \u001b[32m'mean_squared_error'\u001b[0m: \u001b[1;36m0.8773560523986816\u001b[0m,   \n",
       "\u001b[32m'trial_id'\u001b[0m: \u001b[1;36m34\u001b[0m\u001b[1m}\u001b[0m | Score: \u001b[1;36m0.8773560523986816\u001b[0m                                                                        \n"
      ]
     },
     "metadata": {},
     "output_type": "display_data"
    },
    {
     "data": {
      "application/vnd.jupyter.widget-view+json": {
       "model_id": "552eeefb22564b49aad6f991b8be77ba",
       "version_major": 2,
       "version_minor": 0
      },
      "text/plain": [
       "Finding best initial lr:   0%|          | 0/100 [00:00<?, ?it/s]"
      ]
     },
     "metadata": {},
     "output_type": "display_data"
    },
    {
     "data": {
      "text/html": [
       "<pre style=\"white-space:pre;overflow-x:auto;line-height:normal;font-family:Menlo,'DejaVu Sans Mono',consolas,'Courier New',monospace\"><span style=\"color: #008080; text-decoration-color: #008080; font-weight: bold\">2025</span>-<span style=\"color: #008080; text-decoration-color: #008080; font-weight: bold\">02</span>-<span style=\"color: #008080; text-decoration-color: #008080; font-weight: bold\">26</span> <span style=\"color: #00ff00; text-decoration-color: #00ff00; font-weight: bold\">12:01:10</span>,<span style=\"color: #008080; text-decoration-color: #008080; font-weight: bold\">405</span> - <span style=\"font-weight: bold\">{</span>pytorch_tabular.tabular_model_tuner:<span style=\"color: #008080; text-decoration-color: #008080; font-weight: bold\">412</span><span style=\"font-weight: bold\">}</span> - INFO - Trial <span style=\"color: #008080; text-decoration-color: #008080; font-weight: bold\">36</span>/<span style=\"color: #008080; text-decoration-color: #008080; font-weight: bold\">54</span>: <span style=\"font-weight: bold\">{</span><span style=\"color: #008000; text-decoration-color: #008000\">'model'</span>:                \n",
       "<span style=\"color: #008000; text-decoration-color: #008000\">'0-DANetConfig'</span>, <span style=\"color: #008000; text-decoration-color: #008000\">'model_config__abstlay_dim_1'</span>: <span style=\"color: #008080; text-decoration-color: #008080; font-weight: bold\">32</span>, <span style=\"color: #008000; text-decoration-color: #008000\">'model_config__abstlay_dim_2'</span>: <span style=\"color: #008080; text-decoration-color: #008080; font-weight: bold\">128</span>, <span style=\"color: #008000; text-decoration-color: #008000\">'model_config__n_layers'</span>:  \n",
       "<span style=\"color: #008080; text-decoration-color: #008080; font-weight: bold\">16</span>, <span style=\"color: #008000; text-decoration-color: #008000\">'optimizer_config__optimizer'</span>: <span style=\"color: #008000; text-decoration-color: #008000\">'AdamW'</span>, <span style=\"color: #008000; text-decoration-color: #008000\">'loss'</span>: <span style=\"color: #008080; text-decoration-color: #008080; font-weight: bold\">1.0736864805221558</span>, <span style=\"color: #008000; text-decoration-color: #008000\">'mean_squared_error'</span>: <span style=\"color: #008080; text-decoration-color: #008080; font-weight: bold\">1.0736864805221558</span>,  \n",
       "<span style=\"color: #008000; text-decoration-color: #008000\">'trial_id'</span>: <span style=\"color: #008080; text-decoration-color: #008080; font-weight: bold\">35</span><span style=\"font-weight: bold\">}</span> | Score: <span style=\"color: #008080; text-decoration-color: #008080; font-weight: bold\">1.0736864805221558</span>                                                                        \n",
       "</pre>\n"
      ],
      "text/plain": [
       "\u001b[1;36m2025\u001b[0m-\u001b[1;36m02\u001b[0m-\u001b[1;36m26\u001b[0m \u001b[1;92m12:01:10\u001b[0m,\u001b[1;36m405\u001b[0m - \u001b[1m{\u001b[0mpytorch_tabular.tabular_model_tuner:\u001b[1;36m412\u001b[0m\u001b[1m}\u001b[0m - INFO - Trial \u001b[1;36m36\u001b[0m/\u001b[1;36m54\u001b[0m: \u001b[1m{\u001b[0m\u001b[32m'model'\u001b[0m:                \n",
       "\u001b[32m'0-DANetConfig'\u001b[0m, \u001b[32m'model_config__abstlay_dim_1'\u001b[0m: \u001b[1;36m32\u001b[0m, \u001b[32m'model_config__abstlay_dim_2'\u001b[0m: \u001b[1;36m128\u001b[0m, \u001b[32m'model_config__n_layers'\u001b[0m:  \n",
       "\u001b[1;36m16\u001b[0m, \u001b[32m'optimizer_config__optimizer'\u001b[0m: \u001b[32m'AdamW'\u001b[0m, \u001b[32m'loss'\u001b[0m: \u001b[1;36m1.0736864805221558\u001b[0m, \u001b[32m'mean_squared_error'\u001b[0m: \u001b[1;36m1.0736864805221558\u001b[0m,  \n",
       "\u001b[32m'trial_id'\u001b[0m: \u001b[1;36m35\u001b[0m\u001b[1m}\u001b[0m | Score: \u001b[1;36m1.0736864805221558\u001b[0m                                                                        \n"
      ]
     },
     "metadata": {},
     "output_type": "display_data"
    },
    {
     "data": {
      "application/vnd.jupyter.widget-view+json": {
       "model_id": "aec6410d5b3b48aabf08ef05ad99decf",
       "version_major": 2,
       "version_minor": 0
      },
      "text/plain": [
       "Finding best initial lr:   0%|          | 0/100 [00:00<?, ?it/s]"
      ]
     },
     "metadata": {},
     "output_type": "display_data"
    },
    {
     "data": {
      "text/html": [
       "<pre style=\"white-space:pre;overflow-x:auto;line-height:normal;font-family:Menlo,'DejaVu Sans Mono',consolas,'Courier New',monospace\"><span style=\"color: #008080; text-decoration-color: #008080; font-weight: bold\">2025</span>-<span style=\"color: #008080; text-decoration-color: #008080; font-weight: bold\">02</span>-<span style=\"color: #008080; text-decoration-color: #008080; font-weight: bold\">26</span> <span style=\"color: #00ff00; text-decoration-color: #00ff00; font-weight: bold\">12:02:11</span>,<span style=\"color: #008080; text-decoration-color: #008080; font-weight: bold\">023</span> - <span style=\"font-weight: bold\">{</span>pytorch_tabular.tabular_model_tuner:<span style=\"color: #008080; text-decoration-color: #008080; font-weight: bold\">412</span><span style=\"font-weight: bold\">}</span> - INFO - Trial <span style=\"color: #008080; text-decoration-color: #008080; font-weight: bold\">37</span>/<span style=\"color: #008080; text-decoration-color: #008080; font-weight: bold\">54</span>: <span style=\"font-weight: bold\">{</span><span style=\"color: #008000; text-decoration-color: #008000\">'model'</span>:                \n",
       "<span style=\"color: #008000; text-decoration-color: #008000\">'0-DANetConfig'</span>, <span style=\"color: #008000; text-decoration-color: #008000\">'model_config__abstlay_dim_1'</span>: <span style=\"color: #008080; text-decoration-color: #008080; font-weight: bold\">64</span>, <span style=\"color: #008000; text-decoration-color: #008000\">'model_config__abstlay_dim_2'</span>: <span style=\"color: #008080; text-decoration-color: #008080; font-weight: bold\">32</span>, <span style=\"color: #008000; text-decoration-color: #008000\">'model_config__n_layers'</span>: <span style=\"color: #008080; text-decoration-color: #008080; font-weight: bold\">4</span>,\n",
       "<span style=\"color: #008000; text-decoration-color: #008000\">'optimizer_config__optimizer'</span>: <span style=\"color: #008000; text-decoration-color: #008000\">'Adam'</span>, <span style=\"color: #008000; text-decoration-color: #008000\">'loss'</span>: <span style=\"color: #008080; text-decoration-color: #008080; font-weight: bold\">0.8538351655006409</span>, <span style=\"color: #008000; text-decoration-color: #008000\">'mean_squared_error'</span>: <span style=\"color: #008080; text-decoration-color: #008080; font-weight: bold\">0.8538351655006409</span>,       \n",
       "<span style=\"color: #008000; text-decoration-color: #008000\">'trial_id'</span>: <span style=\"color: #008080; text-decoration-color: #008080; font-weight: bold\">36</span><span style=\"font-weight: bold\">}</span> | Score: <span style=\"color: #008080; text-decoration-color: #008080; font-weight: bold\">0.8538351655006409</span>                                                                        \n",
       "</pre>\n"
      ],
      "text/plain": [
       "\u001b[1;36m2025\u001b[0m-\u001b[1;36m02\u001b[0m-\u001b[1;36m26\u001b[0m \u001b[1;92m12:02:11\u001b[0m,\u001b[1;36m023\u001b[0m - \u001b[1m{\u001b[0mpytorch_tabular.tabular_model_tuner:\u001b[1;36m412\u001b[0m\u001b[1m}\u001b[0m - INFO - Trial \u001b[1;36m37\u001b[0m/\u001b[1;36m54\u001b[0m: \u001b[1m{\u001b[0m\u001b[32m'model'\u001b[0m:                \n",
       "\u001b[32m'0-DANetConfig'\u001b[0m, \u001b[32m'model_config__abstlay_dim_1'\u001b[0m: \u001b[1;36m64\u001b[0m, \u001b[32m'model_config__abstlay_dim_2'\u001b[0m: \u001b[1;36m32\u001b[0m, \u001b[32m'model_config__n_layers'\u001b[0m: \u001b[1;36m4\u001b[0m,\n",
       "\u001b[32m'optimizer_config__optimizer'\u001b[0m: \u001b[32m'Adam'\u001b[0m, \u001b[32m'loss'\u001b[0m: \u001b[1;36m0.8538351655006409\u001b[0m, \u001b[32m'mean_squared_error'\u001b[0m: \u001b[1;36m0.8538351655006409\u001b[0m,       \n",
       "\u001b[32m'trial_id'\u001b[0m: \u001b[1;36m36\u001b[0m\u001b[1m}\u001b[0m | Score: \u001b[1;36m0.8538351655006409\u001b[0m                                                                        \n"
      ]
     },
     "metadata": {},
     "output_type": "display_data"
    },
    {
     "data": {
      "application/vnd.jupyter.widget-view+json": {
       "model_id": "fb74070b1bf34e589758bc5fd46d3cbe",
       "version_major": 2,
       "version_minor": 0
      },
      "text/plain": [
       "Finding best initial lr:   0%|          | 0/100 [00:00<?, ?it/s]"
      ]
     },
     "metadata": {},
     "output_type": "display_data"
    },
    {
     "data": {
      "text/html": [
       "<pre style=\"white-space:pre;overflow-x:auto;line-height:normal;font-family:Menlo,'DejaVu Sans Mono',consolas,'Courier New',monospace\"><span style=\"color: #008080; text-decoration-color: #008080; font-weight: bold\">2025</span>-<span style=\"color: #008080; text-decoration-color: #008080; font-weight: bold\">02</span>-<span style=\"color: #008080; text-decoration-color: #008080; font-weight: bold\">26</span> <span style=\"color: #00ff00; text-decoration-color: #00ff00; font-weight: bold\">12:02:47</span>,<span style=\"color: #008080; text-decoration-color: #008080; font-weight: bold\">741</span> - <span style=\"font-weight: bold\">{</span>pytorch_tabular.tabular_model_tuner:<span style=\"color: #008080; text-decoration-color: #008080; font-weight: bold\">412</span><span style=\"font-weight: bold\">}</span> - INFO - Trial <span style=\"color: #008080; text-decoration-color: #008080; font-weight: bold\">38</span>/<span style=\"color: #008080; text-decoration-color: #008080; font-weight: bold\">54</span>: <span style=\"font-weight: bold\">{</span><span style=\"color: #008000; text-decoration-color: #008000\">'model'</span>:                \n",
       "<span style=\"color: #008000; text-decoration-color: #008000\">'0-DANetConfig'</span>, <span style=\"color: #008000; text-decoration-color: #008000\">'model_config__abstlay_dim_1'</span>: <span style=\"color: #008080; text-decoration-color: #008080; font-weight: bold\">64</span>, <span style=\"color: #008000; text-decoration-color: #008000\">'model_config__abstlay_dim_2'</span>: <span style=\"color: #008080; text-decoration-color: #008080; font-weight: bold\">32</span>, <span style=\"color: #008000; text-decoration-color: #008000\">'model_config__n_layers'</span>: <span style=\"color: #008080; text-decoration-color: #008080; font-weight: bold\">4</span>,\n",
       "<span style=\"color: #008000; text-decoration-color: #008000\">'optimizer_config__optimizer'</span>: <span style=\"color: #008000; text-decoration-color: #008000\">'AdamW'</span>, <span style=\"color: #008000; text-decoration-color: #008000\">'loss'</span>: <span style=\"color: #008080; text-decoration-color: #008080; font-weight: bold\">0.870305061340332</span>, <span style=\"color: #008000; text-decoration-color: #008000\">'mean_squared_error'</span>: <span style=\"color: #008080; text-decoration-color: #008080; font-weight: bold\">0.870305061340332</span>,        \n",
       "<span style=\"color: #008000; text-decoration-color: #008000\">'trial_id'</span>: <span style=\"color: #008080; text-decoration-color: #008080; font-weight: bold\">37</span><span style=\"font-weight: bold\">}</span> | Score: <span style=\"color: #008080; text-decoration-color: #008080; font-weight: bold\">0.870305061340332</span>                                                                         \n",
       "</pre>\n"
      ],
      "text/plain": [
       "\u001b[1;36m2025\u001b[0m-\u001b[1;36m02\u001b[0m-\u001b[1;36m26\u001b[0m \u001b[1;92m12:02:47\u001b[0m,\u001b[1;36m741\u001b[0m - \u001b[1m{\u001b[0mpytorch_tabular.tabular_model_tuner:\u001b[1;36m412\u001b[0m\u001b[1m}\u001b[0m - INFO - Trial \u001b[1;36m38\u001b[0m/\u001b[1;36m54\u001b[0m: \u001b[1m{\u001b[0m\u001b[32m'model'\u001b[0m:                \n",
       "\u001b[32m'0-DANetConfig'\u001b[0m, \u001b[32m'model_config__abstlay_dim_1'\u001b[0m: \u001b[1;36m64\u001b[0m, \u001b[32m'model_config__abstlay_dim_2'\u001b[0m: \u001b[1;36m32\u001b[0m, \u001b[32m'model_config__n_layers'\u001b[0m: \u001b[1;36m4\u001b[0m,\n",
       "\u001b[32m'optimizer_config__optimizer'\u001b[0m: \u001b[32m'AdamW'\u001b[0m, \u001b[32m'loss'\u001b[0m: \u001b[1;36m0.870305061340332\u001b[0m, \u001b[32m'mean_squared_error'\u001b[0m: \u001b[1;36m0.870305061340332\u001b[0m,        \n",
       "\u001b[32m'trial_id'\u001b[0m: \u001b[1;36m37\u001b[0m\u001b[1m}\u001b[0m | Score: \u001b[1;36m0.870305061340332\u001b[0m                                                                         \n"
      ]
     },
     "metadata": {},
     "output_type": "display_data"
    },
    {
     "data": {
      "application/vnd.jupyter.widget-view+json": {
       "model_id": "1cbb2988ae8942ffac96c4606cacfb00",
       "version_major": 2,
       "version_minor": 0
      },
      "text/plain": [
       "Finding best initial lr:   0%|          | 0/100 [00:00<?, ?it/s]"
      ]
     },
     "metadata": {},
     "output_type": "display_data"
    },
    {
     "data": {
      "text/html": [
       "<pre style=\"white-space:pre;overflow-x:auto;line-height:normal;font-family:Menlo,'DejaVu Sans Mono',consolas,'Courier New',monospace\"><span style=\"color: #008080; text-decoration-color: #008080; font-weight: bold\">2025</span>-<span style=\"color: #008080; text-decoration-color: #008080; font-weight: bold\">02</span>-<span style=\"color: #008080; text-decoration-color: #008080; font-weight: bold\">26</span> <span style=\"color: #00ff00; text-decoration-color: #00ff00; font-weight: bold\">12:04:05</span>,<span style=\"color: #008080; text-decoration-color: #008080; font-weight: bold\">872</span> - <span style=\"font-weight: bold\">{</span>pytorch_tabular.tabular_model_tuner:<span style=\"color: #008080; text-decoration-color: #008080; font-weight: bold\">412</span><span style=\"font-weight: bold\">}</span> - INFO - Trial <span style=\"color: #008080; text-decoration-color: #008080; font-weight: bold\">39</span>/<span style=\"color: #008080; text-decoration-color: #008080; font-weight: bold\">54</span>: <span style=\"font-weight: bold\">{</span><span style=\"color: #008000; text-decoration-color: #008000\">'model'</span>:                \n",
       "<span style=\"color: #008000; text-decoration-color: #008000\">'0-DANetConfig'</span>, <span style=\"color: #008000; text-decoration-color: #008000\">'model_config__abstlay_dim_1'</span>: <span style=\"color: #008080; text-decoration-color: #008080; font-weight: bold\">64</span>, <span style=\"color: #008000; text-decoration-color: #008000\">'model_config__abstlay_dim_2'</span>: <span style=\"color: #008080; text-decoration-color: #008080; font-weight: bold\">32</span>, <span style=\"color: #008000; text-decoration-color: #008000\">'model_config__n_layers'</span>: <span style=\"color: #008080; text-decoration-color: #008080; font-weight: bold\">8</span>,\n",
       "<span style=\"color: #008000; text-decoration-color: #008000\">'optimizer_config__optimizer'</span>: <span style=\"color: #008000; text-decoration-color: #008000\">'Adam'</span>, <span style=\"color: #008000; text-decoration-color: #008000\">'loss'</span>: <span style=\"color: #008080; text-decoration-color: #008080; font-weight: bold\">1.1130244731903076</span>, <span style=\"color: #008000; text-decoration-color: #008000\">'mean_squared_error'</span>: <span style=\"color: #008080; text-decoration-color: #008080; font-weight: bold\">1.1130244731903076</span>,       \n",
       "<span style=\"color: #008000; text-decoration-color: #008000\">'trial_id'</span>: <span style=\"color: #008080; text-decoration-color: #008080; font-weight: bold\">38</span><span style=\"font-weight: bold\">}</span> | Score: <span style=\"color: #008080; text-decoration-color: #008080; font-weight: bold\">1.1130244731903076</span>                                                                        \n",
       "</pre>\n"
      ],
      "text/plain": [
       "\u001b[1;36m2025\u001b[0m-\u001b[1;36m02\u001b[0m-\u001b[1;36m26\u001b[0m \u001b[1;92m12:04:05\u001b[0m,\u001b[1;36m872\u001b[0m - \u001b[1m{\u001b[0mpytorch_tabular.tabular_model_tuner:\u001b[1;36m412\u001b[0m\u001b[1m}\u001b[0m - INFO - Trial \u001b[1;36m39\u001b[0m/\u001b[1;36m54\u001b[0m: \u001b[1m{\u001b[0m\u001b[32m'model'\u001b[0m:                \n",
       "\u001b[32m'0-DANetConfig'\u001b[0m, \u001b[32m'model_config__abstlay_dim_1'\u001b[0m: \u001b[1;36m64\u001b[0m, \u001b[32m'model_config__abstlay_dim_2'\u001b[0m: \u001b[1;36m32\u001b[0m, \u001b[32m'model_config__n_layers'\u001b[0m: \u001b[1;36m8\u001b[0m,\n",
       "\u001b[32m'optimizer_config__optimizer'\u001b[0m: \u001b[32m'Adam'\u001b[0m, \u001b[32m'loss'\u001b[0m: \u001b[1;36m1.1130244731903076\u001b[0m, \u001b[32m'mean_squared_error'\u001b[0m: \u001b[1;36m1.1130244731903076\u001b[0m,       \n",
       "\u001b[32m'trial_id'\u001b[0m: \u001b[1;36m38\u001b[0m\u001b[1m}\u001b[0m | Score: \u001b[1;36m1.1130244731903076\u001b[0m                                                                        \n"
      ]
     },
     "metadata": {},
     "output_type": "display_data"
    },
    {
     "data": {
      "application/vnd.jupyter.widget-view+json": {
       "model_id": "dfdee24f72a94618be887589161a7fe8",
       "version_major": 2,
       "version_minor": 0
      },
      "text/plain": [
       "Finding best initial lr:   0%|          | 0/100 [00:00<?, ?it/s]"
      ]
     },
     "metadata": {},
     "output_type": "display_data"
    },
    {
     "data": {
      "text/html": [
       "<pre style=\"white-space:pre;overflow-x:auto;line-height:normal;font-family:Menlo,'DejaVu Sans Mono',consolas,'Courier New',monospace\"><span style=\"color: #008080; text-decoration-color: #008080; font-weight: bold\">2025</span>-<span style=\"color: #008080; text-decoration-color: #008080; font-weight: bold\">02</span>-<span style=\"color: #008080; text-decoration-color: #008080; font-weight: bold\">26</span> <span style=\"color: #00ff00; text-decoration-color: #00ff00; font-weight: bold\">12:05:02</span>,<span style=\"color: #008080; text-decoration-color: #008080; font-weight: bold\">646</span> - <span style=\"font-weight: bold\">{</span>pytorch_tabular.tabular_model_tuner:<span style=\"color: #008080; text-decoration-color: #008080; font-weight: bold\">412</span><span style=\"font-weight: bold\">}</span> - INFO - Trial <span style=\"color: #008080; text-decoration-color: #008080; font-weight: bold\">40</span>/<span style=\"color: #008080; text-decoration-color: #008080; font-weight: bold\">54</span>: <span style=\"font-weight: bold\">{</span><span style=\"color: #008000; text-decoration-color: #008000\">'model'</span>:                \n",
       "<span style=\"color: #008000; text-decoration-color: #008000\">'0-DANetConfig'</span>, <span style=\"color: #008000; text-decoration-color: #008000\">'model_config__abstlay_dim_1'</span>: <span style=\"color: #008080; text-decoration-color: #008080; font-weight: bold\">64</span>, <span style=\"color: #008000; text-decoration-color: #008000\">'model_config__abstlay_dim_2'</span>: <span style=\"color: #008080; text-decoration-color: #008080; font-weight: bold\">32</span>, <span style=\"color: #008000; text-decoration-color: #008000\">'model_config__n_layers'</span>: <span style=\"color: #008080; text-decoration-color: #008080; font-weight: bold\">8</span>,\n",
       "<span style=\"color: #008000; text-decoration-color: #008000\">'optimizer_config__optimizer'</span>: <span style=\"color: #008000; text-decoration-color: #008000\">'AdamW'</span>, <span style=\"color: #008000; text-decoration-color: #008000\">'loss'</span>: <span style=\"color: #008080; text-decoration-color: #008080; font-weight: bold\">1.093194842338562</span>, <span style=\"color: #008000; text-decoration-color: #008000\">'mean_squared_error'</span>: <span style=\"color: #008080; text-decoration-color: #008080; font-weight: bold\">1.093194842338562</span>,        \n",
       "<span style=\"color: #008000; text-decoration-color: #008000\">'trial_id'</span>: <span style=\"color: #008080; text-decoration-color: #008080; font-weight: bold\">39</span><span style=\"font-weight: bold\">}</span> | Score: <span style=\"color: #008080; text-decoration-color: #008080; font-weight: bold\">1.093194842338562</span>                                                                         \n",
       "</pre>\n"
      ],
      "text/plain": [
       "\u001b[1;36m2025\u001b[0m-\u001b[1;36m02\u001b[0m-\u001b[1;36m26\u001b[0m \u001b[1;92m12:05:02\u001b[0m,\u001b[1;36m646\u001b[0m - \u001b[1m{\u001b[0mpytorch_tabular.tabular_model_tuner:\u001b[1;36m412\u001b[0m\u001b[1m}\u001b[0m - INFO - Trial \u001b[1;36m40\u001b[0m/\u001b[1;36m54\u001b[0m: \u001b[1m{\u001b[0m\u001b[32m'model'\u001b[0m:                \n",
       "\u001b[32m'0-DANetConfig'\u001b[0m, \u001b[32m'model_config__abstlay_dim_1'\u001b[0m: \u001b[1;36m64\u001b[0m, \u001b[32m'model_config__abstlay_dim_2'\u001b[0m: \u001b[1;36m32\u001b[0m, \u001b[32m'model_config__n_layers'\u001b[0m: \u001b[1;36m8\u001b[0m,\n",
       "\u001b[32m'optimizer_config__optimizer'\u001b[0m: \u001b[32m'AdamW'\u001b[0m, \u001b[32m'loss'\u001b[0m: \u001b[1;36m1.093194842338562\u001b[0m, \u001b[32m'mean_squared_error'\u001b[0m: \u001b[1;36m1.093194842338562\u001b[0m,        \n",
       "\u001b[32m'trial_id'\u001b[0m: \u001b[1;36m39\u001b[0m\u001b[1m}\u001b[0m | Score: \u001b[1;36m1.093194842338562\u001b[0m                                                                         \n"
      ]
     },
     "metadata": {},
     "output_type": "display_data"
    },
    {
     "data": {
      "application/vnd.jupyter.widget-view+json": {
       "model_id": "c2baf036c35b4f25877ee2ace615d53f",
       "version_major": 2,
       "version_minor": 0
      },
      "text/plain": [
       "Finding best initial lr:   0%|          | 0/100 [00:00<?, ?it/s]"
      ]
     },
     "metadata": {},
     "output_type": "display_data"
    },
    {
     "data": {
      "text/html": [
       "<pre style=\"white-space:pre;overflow-x:auto;line-height:normal;font-family:Menlo,'DejaVu Sans Mono',consolas,'Courier New',monospace\"><span style=\"color: #008080; text-decoration-color: #008080; font-weight: bold\">2025</span>-<span style=\"color: #008080; text-decoration-color: #008080; font-weight: bold\">02</span>-<span style=\"color: #008080; text-decoration-color: #008080; font-weight: bold\">26</span> <span style=\"color: #00ff00; text-decoration-color: #00ff00; font-weight: bold\">12:07:09</span>,<span style=\"color: #008080; text-decoration-color: #008080; font-weight: bold\">710</span> - <span style=\"font-weight: bold\">{</span>pytorch_tabular.tabular_model_tuner:<span style=\"color: #008080; text-decoration-color: #008080; font-weight: bold\">412</span><span style=\"font-weight: bold\">}</span> - INFO - Trial <span style=\"color: #008080; text-decoration-color: #008080; font-weight: bold\">41</span>/<span style=\"color: #008080; text-decoration-color: #008080; font-weight: bold\">54</span>: <span style=\"font-weight: bold\">{</span><span style=\"color: #008000; text-decoration-color: #008000\">'model'</span>:                \n",
       "<span style=\"color: #008000; text-decoration-color: #008000\">'0-DANetConfig'</span>, <span style=\"color: #008000; text-decoration-color: #008000\">'model_config__abstlay_dim_1'</span>: <span style=\"color: #008080; text-decoration-color: #008080; font-weight: bold\">64</span>, <span style=\"color: #008000; text-decoration-color: #008000\">'model_config__abstlay_dim_2'</span>: <span style=\"color: #008080; text-decoration-color: #008080; font-weight: bold\">32</span>, <span style=\"color: #008000; text-decoration-color: #008000\">'model_config__n_layers'</span>:   \n",
       "<span style=\"color: #008080; text-decoration-color: #008080; font-weight: bold\">16</span>, <span style=\"color: #008000; text-decoration-color: #008000\">'optimizer_config__optimizer'</span>: <span style=\"color: #008000; text-decoration-color: #008000\">'Adam'</span>, <span style=\"color: #008000; text-decoration-color: #008000\">'loss'</span>: <span style=\"color: #008080; text-decoration-color: #008080; font-weight: bold\">1.1033620834350586</span>, <span style=\"color: #008000; text-decoration-color: #008000\">'mean_squared_error'</span>: <span style=\"color: #008080; text-decoration-color: #008080; font-weight: bold\">1.1033620834350586</span>,   \n",
       "<span style=\"color: #008000; text-decoration-color: #008000\">'trial_id'</span>: <span style=\"color: #008080; text-decoration-color: #008080; font-weight: bold\">40</span><span style=\"font-weight: bold\">}</span> | Score: <span style=\"color: #008080; text-decoration-color: #008080; font-weight: bold\">1.1033620834350586</span>                                                                        \n",
       "</pre>\n"
      ],
      "text/plain": [
       "\u001b[1;36m2025\u001b[0m-\u001b[1;36m02\u001b[0m-\u001b[1;36m26\u001b[0m \u001b[1;92m12:07:09\u001b[0m,\u001b[1;36m710\u001b[0m - \u001b[1m{\u001b[0mpytorch_tabular.tabular_model_tuner:\u001b[1;36m412\u001b[0m\u001b[1m}\u001b[0m - INFO - Trial \u001b[1;36m41\u001b[0m/\u001b[1;36m54\u001b[0m: \u001b[1m{\u001b[0m\u001b[32m'model'\u001b[0m:                \n",
       "\u001b[32m'0-DANetConfig'\u001b[0m, \u001b[32m'model_config__abstlay_dim_1'\u001b[0m: \u001b[1;36m64\u001b[0m, \u001b[32m'model_config__abstlay_dim_2'\u001b[0m: \u001b[1;36m32\u001b[0m, \u001b[32m'model_config__n_layers'\u001b[0m:   \n",
       "\u001b[1;36m16\u001b[0m, \u001b[32m'optimizer_config__optimizer'\u001b[0m: \u001b[32m'Adam'\u001b[0m, \u001b[32m'loss'\u001b[0m: \u001b[1;36m1.1033620834350586\u001b[0m, \u001b[32m'mean_squared_error'\u001b[0m: \u001b[1;36m1.1033620834350586\u001b[0m,   \n",
       "\u001b[32m'trial_id'\u001b[0m: \u001b[1;36m40\u001b[0m\u001b[1m}\u001b[0m | Score: \u001b[1;36m1.1033620834350586\u001b[0m                                                                        \n"
      ]
     },
     "metadata": {},
     "output_type": "display_data"
    },
    {
     "data": {
      "application/vnd.jupyter.widget-view+json": {
       "model_id": "d12d67b426d24accba82fc04177a6023",
       "version_major": 2,
       "version_minor": 0
      },
      "text/plain": [
       "Finding best initial lr:   0%|          | 0/100 [00:00<?, ?it/s]"
      ]
     },
     "metadata": {},
     "output_type": "display_data"
    },
    {
     "data": {
      "text/html": [
       "<pre style=\"white-space:pre;overflow-x:auto;line-height:normal;font-family:Menlo,'DejaVu Sans Mono',consolas,'Courier New',monospace\"><span style=\"color: #008080; text-decoration-color: #008080; font-weight: bold\">2025</span>-<span style=\"color: #008080; text-decoration-color: #008080; font-weight: bold\">02</span>-<span style=\"color: #008080; text-decoration-color: #008080; font-weight: bold\">26</span> <span style=\"color: #00ff00; text-decoration-color: #00ff00; font-weight: bold\">12:08:44</span>,<span style=\"color: #008080; text-decoration-color: #008080; font-weight: bold\">807</span> - <span style=\"font-weight: bold\">{</span>pytorch_tabular.tabular_model_tuner:<span style=\"color: #008080; text-decoration-color: #008080; font-weight: bold\">412</span><span style=\"font-weight: bold\">}</span> - INFO - Trial <span style=\"color: #008080; text-decoration-color: #008080; font-weight: bold\">42</span>/<span style=\"color: #008080; text-decoration-color: #008080; font-weight: bold\">54</span>: <span style=\"font-weight: bold\">{</span><span style=\"color: #008000; text-decoration-color: #008000\">'model'</span>:                \n",
       "<span style=\"color: #008000; text-decoration-color: #008000\">'0-DANetConfig'</span>, <span style=\"color: #008000; text-decoration-color: #008000\">'model_config__abstlay_dim_1'</span>: <span style=\"color: #008080; text-decoration-color: #008080; font-weight: bold\">64</span>, <span style=\"color: #008000; text-decoration-color: #008000\">'model_config__abstlay_dim_2'</span>: <span style=\"color: #008080; text-decoration-color: #008080; font-weight: bold\">32</span>, <span style=\"color: #008000; text-decoration-color: #008000\">'model_config__n_layers'</span>:   \n",
       "<span style=\"color: #008080; text-decoration-color: #008080; font-weight: bold\">16</span>, <span style=\"color: #008000; text-decoration-color: #008000\">'optimizer_config__optimizer'</span>: <span style=\"color: #008000; text-decoration-color: #008000\">'AdamW'</span>, <span style=\"color: #008000; text-decoration-color: #008000\">'loss'</span>: <span style=\"color: #008080; text-decoration-color: #008080; font-weight: bold\">1.15155827999115</span>, <span style=\"color: #008000; text-decoration-color: #008000\">'mean_squared_error'</span>: <span style=\"color: #008080; text-decoration-color: #008080; font-weight: bold\">1.15155827999115</span>,      \n",
       "<span style=\"color: #008000; text-decoration-color: #008000\">'trial_id'</span>: <span style=\"color: #008080; text-decoration-color: #008080; font-weight: bold\">41</span><span style=\"font-weight: bold\">}</span> | Score: <span style=\"color: #008080; text-decoration-color: #008080; font-weight: bold\">1.15155827999115</span>                                                                          \n",
       "</pre>\n"
      ],
      "text/plain": [
       "\u001b[1;36m2025\u001b[0m-\u001b[1;36m02\u001b[0m-\u001b[1;36m26\u001b[0m \u001b[1;92m12:08:44\u001b[0m,\u001b[1;36m807\u001b[0m - \u001b[1m{\u001b[0mpytorch_tabular.tabular_model_tuner:\u001b[1;36m412\u001b[0m\u001b[1m}\u001b[0m - INFO - Trial \u001b[1;36m42\u001b[0m/\u001b[1;36m54\u001b[0m: \u001b[1m{\u001b[0m\u001b[32m'model'\u001b[0m:                \n",
       "\u001b[32m'0-DANetConfig'\u001b[0m, \u001b[32m'model_config__abstlay_dim_1'\u001b[0m: \u001b[1;36m64\u001b[0m, \u001b[32m'model_config__abstlay_dim_2'\u001b[0m: \u001b[1;36m32\u001b[0m, \u001b[32m'model_config__n_layers'\u001b[0m:   \n",
       "\u001b[1;36m16\u001b[0m, \u001b[32m'optimizer_config__optimizer'\u001b[0m: \u001b[32m'AdamW'\u001b[0m, \u001b[32m'loss'\u001b[0m: \u001b[1;36m1.15155827999115\u001b[0m, \u001b[32m'mean_squared_error'\u001b[0m: \u001b[1;36m1.15155827999115\u001b[0m,      \n",
       "\u001b[32m'trial_id'\u001b[0m: \u001b[1;36m41\u001b[0m\u001b[1m}\u001b[0m | Score: \u001b[1;36m1.15155827999115\u001b[0m                                                                          \n"
      ]
     },
     "metadata": {},
     "output_type": "display_data"
    },
    {
     "data": {
      "application/vnd.jupyter.widget-view+json": {
       "model_id": "09a9790d422d46eea99942b2fbbfa821",
       "version_major": 2,
       "version_minor": 0
      },
      "text/plain": [
       "Finding best initial lr:   0%|          | 0/100 [00:00<?, ?it/s]"
      ]
     },
     "metadata": {},
     "output_type": "display_data"
    },
    {
     "data": {
      "text/html": [
       "<pre style=\"white-space:pre;overflow-x:auto;line-height:normal;font-family:Menlo,'DejaVu Sans Mono',consolas,'Courier New',monospace\"><span style=\"color: #008080; text-decoration-color: #008080; font-weight: bold\">2025</span>-<span style=\"color: #008080; text-decoration-color: #008080; font-weight: bold\">02</span>-<span style=\"color: #008080; text-decoration-color: #008080; font-weight: bold\">26</span> <span style=\"color: #00ff00; text-decoration-color: #00ff00; font-weight: bold\">12:09:23</span>,<span style=\"color: #008080; text-decoration-color: #008080; font-weight: bold\">092</span> - <span style=\"font-weight: bold\">{</span>pytorch_tabular.tabular_model_tuner:<span style=\"color: #008080; text-decoration-color: #008080; font-weight: bold\">412</span><span style=\"font-weight: bold\">}</span> - INFO - Trial <span style=\"color: #008080; text-decoration-color: #008080; font-weight: bold\">43</span>/<span style=\"color: #008080; text-decoration-color: #008080; font-weight: bold\">54</span>: <span style=\"font-weight: bold\">{</span><span style=\"color: #008000; text-decoration-color: #008000\">'model'</span>:                \n",
       "<span style=\"color: #008000; text-decoration-color: #008000\">'0-DANetConfig'</span>, <span style=\"color: #008000; text-decoration-color: #008000\">'model_config__abstlay_dim_1'</span>: <span style=\"color: #008080; text-decoration-color: #008080; font-weight: bold\">64</span>, <span style=\"color: #008000; text-decoration-color: #008000\">'model_config__abstlay_dim_2'</span>: <span style=\"color: #008080; text-decoration-color: #008080; font-weight: bold\">64</span>, <span style=\"color: #008000; text-decoration-color: #008000\">'model_config__n_layers'</span>: <span style=\"color: #008080; text-decoration-color: #008080; font-weight: bold\">4</span>,\n",
       "<span style=\"color: #008000; text-decoration-color: #008000\">'optimizer_config__optimizer'</span>: <span style=\"color: #008000; text-decoration-color: #008000\">'Adam'</span>, <span style=\"color: #008000; text-decoration-color: #008000\">'loss'</span>: <span style=\"color: #008080; text-decoration-color: #008080; font-weight: bold\">1.1499881744384766</span>, <span style=\"color: #008000; text-decoration-color: #008000\">'mean_squared_error'</span>: <span style=\"color: #008080; text-decoration-color: #008080; font-weight: bold\">1.1499881744384766</span>,       \n",
       "<span style=\"color: #008000; text-decoration-color: #008000\">'trial_id'</span>: <span style=\"color: #008080; text-decoration-color: #008080; font-weight: bold\">42</span><span style=\"font-weight: bold\">}</span> | Score: <span style=\"color: #008080; text-decoration-color: #008080; font-weight: bold\">1.1499881744384766</span>                                                                        \n",
       "</pre>\n"
      ],
      "text/plain": [
       "\u001b[1;36m2025\u001b[0m-\u001b[1;36m02\u001b[0m-\u001b[1;36m26\u001b[0m \u001b[1;92m12:09:23\u001b[0m,\u001b[1;36m092\u001b[0m - \u001b[1m{\u001b[0mpytorch_tabular.tabular_model_tuner:\u001b[1;36m412\u001b[0m\u001b[1m}\u001b[0m - INFO - Trial \u001b[1;36m43\u001b[0m/\u001b[1;36m54\u001b[0m: \u001b[1m{\u001b[0m\u001b[32m'model'\u001b[0m:                \n",
       "\u001b[32m'0-DANetConfig'\u001b[0m, \u001b[32m'model_config__abstlay_dim_1'\u001b[0m: \u001b[1;36m64\u001b[0m, \u001b[32m'model_config__abstlay_dim_2'\u001b[0m: \u001b[1;36m64\u001b[0m, \u001b[32m'model_config__n_layers'\u001b[0m: \u001b[1;36m4\u001b[0m,\n",
       "\u001b[32m'optimizer_config__optimizer'\u001b[0m: \u001b[32m'Adam'\u001b[0m, \u001b[32m'loss'\u001b[0m: \u001b[1;36m1.1499881744384766\u001b[0m, \u001b[32m'mean_squared_error'\u001b[0m: \u001b[1;36m1.1499881744384766\u001b[0m,       \n",
       "\u001b[32m'trial_id'\u001b[0m: \u001b[1;36m42\u001b[0m\u001b[1m}\u001b[0m | Score: \u001b[1;36m1.1499881744384766\u001b[0m                                                                        \n"
      ]
     },
     "metadata": {},
     "output_type": "display_data"
    },
    {
     "data": {
      "application/vnd.jupyter.widget-view+json": {
       "model_id": "3b50ed38e08e47b79195136a8fcd28c8",
       "version_major": 2,
       "version_minor": 0
      },
      "text/plain": [
       "Finding best initial lr:   0%|          | 0/100 [00:00<?, ?it/s]"
      ]
     },
     "metadata": {},
     "output_type": "display_data"
    },
    {
     "data": {
      "text/html": [
       "<pre style=\"white-space:pre;overflow-x:auto;line-height:normal;font-family:Menlo,'DejaVu Sans Mono',consolas,'Courier New',monospace\"><span style=\"color: #008080; text-decoration-color: #008080; font-weight: bold\">2025</span>-<span style=\"color: #008080; text-decoration-color: #008080; font-weight: bold\">02</span>-<span style=\"color: #008080; text-decoration-color: #008080; font-weight: bold\">26</span> <span style=\"color: #00ff00; text-decoration-color: #00ff00; font-weight: bold\">12:10:01</span>,<span style=\"color: #008080; text-decoration-color: #008080; font-weight: bold\">511</span> - <span style=\"font-weight: bold\">{</span>pytorch_tabular.tabular_model_tuner:<span style=\"color: #008080; text-decoration-color: #008080; font-weight: bold\">412</span><span style=\"font-weight: bold\">}</span> - INFO - Trial <span style=\"color: #008080; text-decoration-color: #008080; font-weight: bold\">44</span>/<span style=\"color: #008080; text-decoration-color: #008080; font-weight: bold\">54</span>: <span style=\"font-weight: bold\">{</span><span style=\"color: #008000; text-decoration-color: #008000\">'model'</span>:                \n",
       "<span style=\"color: #008000; text-decoration-color: #008000\">'0-DANetConfig'</span>, <span style=\"color: #008000; text-decoration-color: #008000\">'model_config__abstlay_dim_1'</span>: <span style=\"color: #008080; text-decoration-color: #008080; font-weight: bold\">64</span>, <span style=\"color: #008000; text-decoration-color: #008000\">'model_config__abstlay_dim_2'</span>: <span style=\"color: #008080; text-decoration-color: #008080; font-weight: bold\">64</span>, <span style=\"color: #008000; text-decoration-color: #008000\">'model_config__n_layers'</span>: <span style=\"color: #008080; text-decoration-color: #008080; font-weight: bold\">4</span>,\n",
       "<span style=\"color: #008000; text-decoration-color: #008000\">'optimizer_config__optimizer'</span>: <span style=\"color: #008000; text-decoration-color: #008000\">'AdamW'</span>, <span style=\"color: #008000; text-decoration-color: #008000\">'loss'</span>: <span style=\"color: #008080; text-decoration-color: #008080; font-weight: bold\">1.0432673692703247</span>, <span style=\"color: #008000; text-decoration-color: #008000\">'mean_squared_error'</span>: <span style=\"color: #008080; text-decoration-color: #008080; font-weight: bold\">1.0432673692703247</span>,      \n",
       "<span style=\"color: #008000; text-decoration-color: #008000\">'trial_id'</span>: <span style=\"color: #008080; text-decoration-color: #008080; font-weight: bold\">43</span><span style=\"font-weight: bold\">}</span> | Score: <span style=\"color: #008080; text-decoration-color: #008080; font-weight: bold\">1.0432673692703247</span>                                                                        \n",
       "</pre>\n"
      ],
      "text/plain": [
       "\u001b[1;36m2025\u001b[0m-\u001b[1;36m02\u001b[0m-\u001b[1;36m26\u001b[0m \u001b[1;92m12:10:01\u001b[0m,\u001b[1;36m511\u001b[0m - \u001b[1m{\u001b[0mpytorch_tabular.tabular_model_tuner:\u001b[1;36m412\u001b[0m\u001b[1m}\u001b[0m - INFO - Trial \u001b[1;36m44\u001b[0m/\u001b[1;36m54\u001b[0m: \u001b[1m{\u001b[0m\u001b[32m'model'\u001b[0m:                \n",
       "\u001b[32m'0-DANetConfig'\u001b[0m, \u001b[32m'model_config__abstlay_dim_1'\u001b[0m: \u001b[1;36m64\u001b[0m, \u001b[32m'model_config__abstlay_dim_2'\u001b[0m: \u001b[1;36m64\u001b[0m, \u001b[32m'model_config__n_layers'\u001b[0m: \u001b[1;36m4\u001b[0m,\n",
       "\u001b[32m'optimizer_config__optimizer'\u001b[0m: \u001b[32m'AdamW'\u001b[0m, \u001b[32m'loss'\u001b[0m: \u001b[1;36m1.0432673692703247\u001b[0m, \u001b[32m'mean_squared_error'\u001b[0m: \u001b[1;36m1.0432673692703247\u001b[0m,      \n",
       "\u001b[32m'trial_id'\u001b[0m: \u001b[1;36m43\u001b[0m\u001b[1m}\u001b[0m | Score: \u001b[1;36m1.0432673692703247\u001b[0m                                                                        \n"
      ]
     },
     "metadata": {},
     "output_type": "display_data"
    },
    {
     "data": {
      "application/vnd.jupyter.widget-view+json": {
       "model_id": "029725e84d37411bbd7cb38b1b74d759",
       "version_major": 2,
       "version_minor": 0
      },
      "text/plain": [
       "Finding best initial lr:   0%|          | 0/100 [00:00<?, ?it/s]"
      ]
     },
     "metadata": {},
     "output_type": "display_data"
    },
    {
     "data": {
      "text/html": [
       "<pre style=\"white-space:pre;overflow-x:auto;line-height:normal;font-family:Menlo,'DejaVu Sans Mono',consolas,'Courier New',monospace\"><span style=\"color: #008080; text-decoration-color: #008080; font-weight: bold\">2025</span>-<span style=\"color: #008080; text-decoration-color: #008080; font-weight: bold\">02</span>-<span style=\"color: #008080; text-decoration-color: #008080; font-weight: bold\">26</span> <span style=\"color: #00ff00; text-decoration-color: #00ff00; font-weight: bold\">12:10:57</span>,<span style=\"color: #008080; text-decoration-color: #008080; font-weight: bold\">769</span> - <span style=\"font-weight: bold\">{</span>pytorch_tabular.tabular_model_tuner:<span style=\"color: #008080; text-decoration-color: #008080; font-weight: bold\">412</span><span style=\"font-weight: bold\">}</span> - INFO - Trial <span style=\"color: #008080; text-decoration-color: #008080; font-weight: bold\">45</span>/<span style=\"color: #008080; text-decoration-color: #008080; font-weight: bold\">54</span>: <span style=\"font-weight: bold\">{</span><span style=\"color: #008000; text-decoration-color: #008000\">'model'</span>:                \n",
       "<span style=\"color: #008000; text-decoration-color: #008000\">'0-DANetConfig'</span>, <span style=\"color: #008000; text-decoration-color: #008000\">'model_config__abstlay_dim_1'</span>: <span style=\"color: #008080; text-decoration-color: #008080; font-weight: bold\">64</span>, <span style=\"color: #008000; text-decoration-color: #008000\">'model_config__abstlay_dim_2'</span>: <span style=\"color: #008080; text-decoration-color: #008080; font-weight: bold\">64</span>, <span style=\"color: #008000; text-decoration-color: #008000\">'model_config__n_layers'</span>: <span style=\"color: #008080; text-decoration-color: #008080; font-weight: bold\">8</span>,\n",
       "<span style=\"color: #008000; text-decoration-color: #008000\">'optimizer_config__optimizer'</span>: <span style=\"color: #008000; text-decoration-color: #008000\">'Adam'</span>, <span style=\"color: #008000; text-decoration-color: #008000\">'loss'</span>: <span style=\"color: #008080; text-decoration-color: #008080; font-weight: bold\">24.08883285522461</span>, <span style=\"color: #008000; text-decoration-color: #008000\">'mean_squared_error'</span>: <span style=\"color: #008080; text-decoration-color: #008080; font-weight: bold\">24.08883285522461</span>,         \n",
       "<span style=\"color: #008000; text-decoration-color: #008000\">'trial_id'</span>: <span style=\"color: #008080; text-decoration-color: #008080; font-weight: bold\">44</span><span style=\"font-weight: bold\">}</span> | Score: <span style=\"color: #008080; text-decoration-color: #008080; font-weight: bold\">24.08883285522461</span>                                                                         \n",
       "</pre>\n"
      ],
      "text/plain": [
       "\u001b[1;36m2025\u001b[0m-\u001b[1;36m02\u001b[0m-\u001b[1;36m26\u001b[0m \u001b[1;92m12:10:57\u001b[0m,\u001b[1;36m769\u001b[0m - \u001b[1m{\u001b[0mpytorch_tabular.tabular_model_tuner:\u001b[1;36m412\u001b[0m\u001b[1m}\u001b[0m - INFO - Trial \u001b[1;36m45\u001b[0m/\u001b[1;36m54\u001b[0m: \u001b[1m{\u001b[0m\u001b[32m'model'\u001b[0m:                \n",
       "\u001b[32m'0-DANetConfig'\u001b[0m, \u001b[32m'model_config__abstlay_dim_1'\u001b[0m: \u001b[1;36m64\u001b[0m, \u001b[32m'model_config__abstlay_dim_2'\u001b[0m: \u001b[1;36m64\u001b[0m, \u001b[32m'model_config__n_layers'\u001b[0m: \u001b[1;36m8\u001b[0m,\n",
       "\u001b[32m'optimizer_config__optimizer'\u001b[0m: \u001b[32m'Adam'\u001b[0m, \u001b[32m'loss'\u001b[0m: \u001b[1;36m24.08883285522461\u001b[0m, \u001b[32m'mean_squared_error'\u001b[0m: \u001b[1;36m24.08883285522461\u001b[0m,         \n",
       "\u001b[32m'trial_id'\u001b[0m: \u001b[1;36m44\u001b[0m\u001b[1m}\u001b[0m | Score: \u001b[1;36m24.08883285522461\u001b[0m                                                                         \n"
      ]
     },
     "metadata": {},
     "output_type": "display_data"
    },
    {
     "data": {
      "application/vnd.jupyter.widget-view+json": {
       "model_id": "e6a11ca7ec31442ca7cdeeb475e3f9d3",
       "version_major": 2,
       "version_minor": 0
      },
      "text/plain": [
       "Finding best initial lr:   0%|          | 0/100 [00:00<?, ?it/s]"
      ]
     },
     "metadata": {},
     "output_type": "display_data"
    },
    {
     "data": {
      "text/html": [
       "<pre style=\"white-space:pre;overflow-x:auto;line-height:normal;font-family:Menlo,'DejaVu Sans Mono',consolas,'Courier New',monospace\"><span style=\"color: #008080; text-decoration-color: #008080; font-weight: bold\">2025</span>-<span style=\"color: #008080; text-decoration-color: #008080; font-weight: bold\">02</span>-<span style=\"color: #008080; text-decoration-color: #008080; font-weight: bold\">26</span> <span style=\"color: #00ff00; text-decoration-color: #00ff00; font-weight: bold\">12:11:53</span>,<span style=\"color: #008080; text-decoration-color: #008080; font-weight: bold\">050</span> - <span style=\"font-weight: bold\">{</span>pytorch_tabular.tabular_model_tuner:<span style=\"color: #008080; text-decoration-color: #008080; font-weight: bold\">412</span><span style=\"font-weight: bold\">}</span> - INFO - Trial <span style=\"color: #008080; text-decoration-color: #008080; font-weight: bold\">46</span>/<span style=\"color: #008080; text-decoration-color: #008080; font-weight: bold\">54</span>: <span style=\"font-weight: bold\">{</span><span style=\"color: #008000; text-decoration-color: #008000\">'model'</span>:                \n",
       "<span style=\"color: #008000; text-decoration-color: #008000\">'0-DANetConfig'</span>, <span style=\"color: #008000; text-decoration-color: #008000\">'model_config__abstlay_dim_1'</span>: <span style=\"color: #008080; text-decoration-color: #008080; font-weight: bold\">64</span>, <span style=\"color: #008000; text-decoration-color: #008000\">'model_config__abstlay_dim_2'</span>: <span style=\"color: #008080; text-decoration-color: #008080; font-weight: bold\">64</span>, <span style=\"color: #008000; text-decoration-color: #008000\">'model_config__n_layers'</span>: <span style=\"color: #008080; text-decoration-color: #008080; font-weight: bold\">8</span>,\n",
       "<span style=\"color: #008000; text-decoration-color: #008000\">'optimizer_config__optimizer'</span>: <span style=\"color: #008000; text-decoration-color: #008000\">'AdamW'</span>, <span style=\"color: #008000; text-decoration-color: #008000\">'loss'</span>: <span style=\"color: #008080; text-decoration-color: #008080; font-weight: bold\">23.1639404296875</span>, <span style=\"color: #008000; text-decoration-color: #008000\">'mean_squared_error'</span>: <span style=\"color: #008080; text-decoration-color: #008080; font-weight: bold\">23.1639404296875</span>,          \n",
       "<span style=\"color: #008000; text-decoration-color: #008000\">'trial_id'</span>: <span style=\"color: #008080; text-decoration-color: #008080; font-weight: bold\">45</span><span style=\"font-weight: bold\">}</span> | Score: <span style=\"color: #008080; text-decoration-color: #008080; font-weight: bold\">23.1639404296875</span>                                                                          \n",
       "</pre>\n"
      ],
      "text/plain": [
       "\u001b[1;36m2025\u001b[0m-\u001b[1;36m02\u001b[0m-\u001b[1;36m26\u001b[0m \u001b[1;92m12:11:53\u001b[0m,\u001b[1;36m050\u001b[0m - \u001b[1m{\u001b[0mpytorch_tabular.tabular_model_tuner:\u001b[1;36m412\u001b[0m\u001b[1m}\u001b[0m - INFO - Trial \u001b[1;36m46\u001b[0m/\u001b[1;36m54\u001b[0m: \u001b[1m{\u001b[0m\u001b[32m'model'\u001b[0m:                \n",
       "\u001b[32m'0-DANetConfig'\u001b[0m, \u001b[32m'model_config__abstlay_dim_1'\u001b[0m: \u001b[1;36m64\u001b[0m, \u001b[32m'model_config__abstlay_dim_2'\u001b[0m: \u001b[1;36m64\u001b[0m, \u001b[32m'model_config__n_layers'\u001b[0m: \u001b[1;36m8\u001b[0m,\n",
       "\u001b[32m'optimizer_config__optimizer'\u001b[0m: \u001b[32m'AdamW'\u001b[0m, \u001b[32m'loss'\u001b[0m: \u001b[1;36m23.1639404296875\u001b[0m, \u001b[32m'mean_squared_error'\u001b[0m: \u001b[1;36m23.1639404296875\u001b[0m,          \n",
       "\u001b[32m'trial_id'\u001b[0m: \u001b[1;36m45\u001b[0m\u001b[1m}\u001b[0m | Score: \u001b[1;36m23.1639404296875\u001b[0m                                                                          \n"
      ]
     },
     "metadata": {},
     "output_type": "display_data"
    },
    {
     "data": {
      "application/vnd.jupyter.widget-view+json": {
       "model_id": "ee995a37f2e64cfd96278fb6bdea7f83",
       "version_major": 2,
       "version_minor": 0
      },
      "text/plain": [
       "Finding best initial lr:   0%|          | 0/100 [00:00<?, ?it/s]"
      ]
     },
     "metadata": {},
     "output_type": "display_data"
    },
    {
     "data": {
      "text/html": [
       "<pre style=\"white-space:pre;overflow-x:auto;line-height:normal;font-family:Menlo,'DejaVu Sans Mono',consolas,'Courier New',monospace\"><span style=\"color: #008080; text-decoration-color: #008080; font-weight: bold\">2025</span>-<span style=\"color: #008080; text-decoration-color: #008080; font-weight: bold\">02</span>-<span style=\"color: #008080; text-decoration-color: #008080; font-weight: bold\">26</span> <span style=\"color: #00ff00; text-decoration-color: #00ff00; font-weight: bold\">12:13:52</span>,<span style=\"color: #008080; text-decoration-color: #008080; font-weight: bold\">258</span> - <span style=\"font-weight: bold\">{</span>pytorch_tabular.tabular_model_tuner:<span style=\"color: #008080; text-decoration-color: #008080; font-weight: bold\">412</span><span style=\"font-weight: bold\">}</span> - INFO - Trial <span style=\"color: #008080; text-decoration-color: #008080; font-weight: bold\">47</span>/<span style=\"color: #008080; text-decoration-color: #008080; font-weight: bold\">54</span>: <span style=\"font-weight: bold\">{</span><span style=\"color: #008000; text-decoration-color: #008000\">'model'</span>:                \n",
       "<span style=\"color: #008000; text-decoration-color: #008000\">'0-DANetConfig'</span>, <span style=\"color: #008000; text-decoration-color: #008000\">'model_config__abstlay_dim_1'</span>: <span style=\"color: #008080; text-decoration-color: #008080; font-weight: bold\">64</span>, <span style=\"color: #008000; text-decoration-color: #008000\">'model_config__abstlay_dim_2'</span>: <span style=\"color: #008080; text-decoration-color: #008080; font-weight: bold\">64</span>, <span style=\"color: #008000; text-decoration-color: #008000\">'model_config__n_layers'</span>:   \n",
       "<span style=\"color: #008080; text-decoration-color: #008080; font-weight: bold\">16</span>, <span style=\"color: #008000; text-decoration-color: #008000\">'optimizer_config__optimizer'</span>: <span style=\"color: #008000; text-decoration-color: #008000\">'Adam'</span>, <span style=\"color: #008000; text-decoration-color: #008000\">'loss'</span>: <span style=\"color: #008080; text-decoration-color: #008080; font-weight: bold\">1.2878378629684448</span>, <span style=\"color: #008000; text-decoration-color: #008000\">'mean_squared_error'</span>: <span style=\"color: #008080; text-decoration-color: #008080; font-weight: bold\">1.2878378629684448</span>,   \n",
       "<span style=\"color: #008000; text-decoration-color: #008000\">'trial_id'</span>: <span style=\"color: #008080; text-decoration-color: #008080; font-weight: bold\">46</span><span style=\"font-weight: bold\">}</span> | Score: <span style=\"color: #008080; text-decoration-color: #008080; font-weight: bold\">1.2878378629684448</span>                                                                        \n",
       "</pre>\n"
      ],
      "text/plain": [
       "\u001b[1;36m2025\u001b[0m-\u001b[1;36m02\u001b[0m-\u001b[1;36m26\u001b[0m \u001b[1;92m12:13:52\u001b[0m,\u001b[1;36m258\u001b[0m - \u001b[1m{\u001b[0mpytorch_tabular.tabular_model_tuner:\u001b[1;36m412\u001b[0m\u001b[1m}\u001b[0m - INFO - Trial \u001b[1;36m47\u001b[0m/\u001b[1;36m54\u001b[0m: \u001b[1m{\u001b[0m\u001b[32m'model'\u001b[0m:                \n",
       "\u001b[32m'0-DANetConfig'\u001b[0m, \u001b[32m'model_config__abstlay_dim_1'\u001b[0m: \u001b[1;36m64\u001b[0m, \u001b[32m'model_config__abstlay_dim_2'\u001b[0m: \u001b[1;36m64\u001b[0m, \u001b[32m'model_config__n_layers'\u001b[0m:   \n",
       "\u001b[1;36m16\u001b[0m, \u001b[32m'optimizer_config__optimizer'\u001b[0m: \u001b[32m'Adam'\u001b[0m, \u001b[32m'loss'\u001b[0m: \u001b[1;36m1.2878378629684448\u001b[0m, \u001b[32m'mean_squared_error'\u001b[0m: \u001b[1;36m1.2878378629684448\u001b[0m,   \n",
       "\u001b[32m'trial_id'\u001b[0m: \u001b[1;36m46\u001b[0m\u001b[1m}\u001b[0m | Score: \u001b[1;36m1.2878378629684448\u001b[0m                                                                        \n"
      ]
     },
     "metadata": {},
     "output_type": "display_data"
    },
    {
     "data": {
      "application/vnd.jupyter.widget-view+json": {
       "model_id": "f1b627e802a94d508cfb8a1a96d56679",
       "version_major": 2,
       "version_minor": 0
      },
      "text/plain": [
       "Finding best initial lr:   0%|          | 0/100 [00:00<?, ?it/s]"
      ]
     },
     "metadata": {},
     "output_type": "display_data"
    },
    {
     "data": {
      "text/html": [
       "<pre style=\"white-space:pre;overflow-x:auto;line-height:normal;font-family:Menlo,'DejaVu Sans Mono',consolas,'Courier New',monospace\"><span style=\"color: #008080; text-decoration-color: #008080; font-weight: bold\">2025</span>-<span style=\"color: #008080; text-decoration-color: #008080; font-weight: bold\">02</span>-<span style=\"color: #008080; text-decoration-color: #008080; font-weight: bold\">26</span> <span style=\"color: #00ff00; text-decoration-color: #00ff00; font-weight: bold\">12:15:24</span>,<span style=\"color: #008080; text-decoration-color: #008080; font-weight: bold\">283</span> - <span style=\"font-weight: bold\">{</span>pytorch_tabular.tabular_model_tuner:<span style=\"color: #008080; text-decoration-color: #008080; font-weight: bold\">412</span><span style=\"font-weight: bold\">}</span> - INFO - Trial <span style=\"color: #008080; text-decoration-color: #008080; font-weight: bold\">48</span>/<span style=\"color: #008080; text-decoration-color: #008080; font-weight: bold\">54</span>: <span style=\"font-weight: bold\">{</span><span style=\"color: #008000; text-decoration-color: #008000\">'model'</span>:                \n",
       "<span style=\"color: #008000; text-decoration-color: #008000\">'0-DANetConfig'</span>, <span style=\"color: #008000; text-decoration-color: #008000\">'model_config__abstlay_dim_1'</span>: <span style=\"color: #008080; text-decoration-color: #008080; font-weight: bold\">64</span>, <span style=\"color: #008000; text-decoration-color: #008000\">'model_config__abstlay_dim_2'</span>: <span style=\"color: #008080; text-decoration-color: #008080; font-weight: bold\">64</span>, <span style=\"color: #008000; text-decoration-color: #008000\">'model_config__n_layers'</span>:   \n",
       "<span style=\"color: #008080; text-decoration-color: #008080; font-weight: bold\">16</span>, <span style=\"color: #008000; text-decoration-color: #008000\">'optimizer_config__optimizer'</span>: <span style=\"color: #008000; text-decoration-color: #008000\">'AdamW'</span>, <span style=\"color: #008000; text-decoration-color: #008000\">'loss'</span>: <span style=\"color: #008080; text-decoration-color: #008080; font-weight: bold\">1.9464911222457886</span>, <span style=\"color: #008000; text-decoration-color: #008000\">'mean_squared_error'</span>: <span style=\"color: #008080; text-decoration-color: #008080; font-weight: bold\">1.9464911222457886</span>,  \n",
       "<span style=\"color: #008000; text-decoration-color: #008000\">'trial_id'</span>: <span style=\"color: #008080; text-decoration-color: #008080; font-weight: bold\">47</span><span style=\"font-weight: bold\">}</span> | Score: <span style=\"color: #008080; text-decoration-color: #008080; font-weight: bold\">1.9464911222457886</span>                                                                        \n",
       "</pre>\n"
      ],
      "text/plain": [
       "\u001b[1;36m2025\u001b[0m-\u001b[1;36m02\u001b[0m-\u001b[1;36m26\u001b[0m \u001b[1;92m12:15:24\u001b[0m,\u001b[1;36m283\u001b[0m - \u001b[1m{\u001b[0mpytorch_tabular.tabular_model_tuner:\u001b[1;36m412\u001b[0m\u001b[1m}\u001b[0m - INFO - Trial \u001b[1;36m48\u001b[0m/\u001b[1;36m54\u001b[0m: \u001b[1m{\u001b[0m\u001b[32m'model'\u001b[0m:                \n",
       "\u001b[32m'0-DANetConfig'\u001b[0m, \u001b[32m'model_config__abstlay_dim_1'\u001b[0m: \u001b[1;36m64\u001b[0m, \u001b[32m'model_config__abstlay_dim_2'\u001b[0m: \u001b[1;36m64\u001b[0m, \u001b[32m'model_config__n_layers'\u001b[0m:   \n",
       "\u001b[1;36m16\u001b[0m, \u001b[32m'optimizer_config__optimizer'\u001b[0m: \u001b[32m'AdamW'\u001b[0m, \u001b[32m'loss'\u001b[0m: \u001b[1;36m1.9464911222457886\u001b[0m, \u001b[32m'mean_squared_error'\u001b[0m: \u001b[1;36m1.9464911222457886\u001b[0m,  \n",
       "\u001b[32m'trial_id'\u001b[0m: \u001b[1;36m47\u001b[0m\u001b[1m}\u001b[0m | Score: \u001b[1;36m1.9464911222457886\u001b[0m                                                                        \n"
      ]
     },
     "metadata": {},
     "output_type": "display_data"
    },
    {
     "data": {
      "application/vnd.jupyter.widget-view+json": {
       "model_id": "249046a7e1104a9198c1c6971771e037",
       "version_major": 2,
       "version_minor": 0
      },
      "text/plain": [
       "Finding best initial lr:   0%|          | 0/100 [00:00<?, ?it/s]"
      ]
     },
     "metadata": {},
     "output_type": "display_data"
    },
    {
     "data": {
      "text/html": [
       "<pre style=\"white-space:pre;overflow-x:auto;line-height:normal;font-family:Menlo,'DejaVu Sans Mono',consolas,'Courier New',monospace\"><span style=\"color: #008080; text-decoration-color: #008080; font-weight: bold\">2025</span>-<span style=\"color: #008080; text-decoration-color: #008080; font-weight: bold\">02</span>-<span style=\"color: #008080; text-decoration-color: #008080; font-weight: bold\">26</span> <span style=\"color: #00ff00; text-decoration-color: #00ff00; font-weight: bold\">12:16:04</span>,<span style=\"color: #008080; text-decoration-color: #008080; font-weight: bold\">993</span> - <span style=\"font-weight: bold\">{</span>pytorch_tabular.tabular_model_tuner:<span style=\"color: #008080; text-decoration-color: #008080; font-weight: bold\">412</span><span style=\"font-weight: bold\">}</span> - INFO - Trial <span style=\"color: #008080; text-decoration-color: #008080; font-weight: bold\">49</span>/<span style=\"color: #008080; text-decoration-color: #008080; font-weight: bold\">54</span>: <span style=\"font-weight: bold\">{</span><span style=\"color: #008000; text-decoration-color: #008000\">'model'</span>:                \n",
       "<span style=\"color: #008000; text-decoration-color: #008000\">'0-DANetConfig'</span>, <span style=\"color: #008000; text-decoration-color: #008000\">'model_config__abstlay_dim_1'</span>: <span style=\"color: #008080; text-decoration-color: #008080; font-weight: bold\">64</span>, <span style=\"color: #008000; text-decoration-color: #008000\">'model_config__abstlay_dim_2'</span>: <span style=\"color: #008080; text-decoration-color: #008080; font-weight: bold\">128</span>, <span style=\"color: #008000; text-decoration-color: #008000\">'model_config__n_layers'</span>:  \n",
       "<span style=\"color: #008080; text-decoration-color: #008080; font-weight: bold\">4</span>, <span style=\"color: #008000; text-decoration-color: #008000\">'optimizer_config__optimizer'</span>: <span style=\"color: #008000; text-decoration-color: #008000\">'Adam'</span>, <span style=\"color: #008000; text-decoration-color: #008000\">'loss'</span>: <span style=\"color: #008080; text-decoration-color: #008080; font-weight: bold\">1.0815657377243042</span>, <span style=\"color: #008000; text-decoration-color: #008000\">'mean_squared_error'</span>: <span style=\"color: #008080; text-decoration-color: #008080; font-weight: bold\">1.0815657377243042</span>,    \n",
       "<span style=\"color: #008000; text-decoration-color: #008000\">'trial_id'</span>: <span style=\"color: #008080; text-decoration-color: #008080; font-weight: bold\">48</span><span style=\"font-weight: bold\">}</span> | Score: <span style=\"color: #008080; text-decoration-color: #008080; font-weight: bold\">1.0815657377243042</span>                                                                        \n",
       "</pre>\n"
      ],
      "text/plain": [
       "\u001b[1;36m2025\u001b[0m-\u001b[1;36m02\u001b[0m-\u001b[1;36m26\u001b[0m \u001b[1;92m12:16:04\u001b[0m,\u001b[1;36m993\u001b[0m - \u001b[1m{\u001b[0mpytorch_tabular.tabular_model_tuner:\u001b[1;36m412\u001b[0m\u001b[1m}\u001b[0m - INFO - Trial \u001b[1;36m49\u001b[0m/\u001b[1;36m54\u001b[0m: \u001b[1m{\u001b[0m\u001b[32m'model'\u001b[0m:                \n",
       "\u001b[32m'0-DANetConfig'\u001b[0m, \u001b[32m'model_config__abstlay_dim_1'\u001b[0m: \u001b[1;36m64\u001b[0m, \u001b[32m'model_config__abstlay_dim_2'\u001b[0m: \u001b[1;36m128\u001b[0m, \u001b[32m'model_config__n_layers'\u001b[0m:  \n",
       "\u001b[1;36m4\u001b[0m, \u001b[32m'optimizer_config__optimizer'\u001b[0m: \u001b[32m'Adam'\u001b[0m, \u001b[32m'loss'\u001b[0m: \u001b[1;36m1.0815657377243042\u001b[0m, \u001b[32m'mean_squared_error'\u001b[0m: \u001b[1;36m1.0815657377243042\u001b[0m,    \n",
       "\u001b[32m'trial_id'\u001b[0m: \u001b[1;36m48\u001b[0m\u001b[1m}\u001b[0m | Score: \u001b[1;36m1.0815657377243042\u001b[0m                                                                        \n"
      ]
     },
     "metadata": {},
     "output_type": "display_data"
    },
    {
     "data": {
      "application/vnd.jupyter.widget-view+json": {
       "model_id": "895bab148e374b7eb3fca7aa014f3078",
       "version_major": 2,
       "version_minor": 0
      },
      "text/plain": [
       "Finding best initial lr:   0%|          | 0/100 [00:00<?, ?it/s]"
      ]
     },
     "metadata": {},
     "output_type": "display_data"
    },
    {
     "data": {
      "text/html": [
       "<pre style=\"white-space:pre;overflow-x:auto;line-height:normal;font-family:Menlo,'DejaVu Sans Mono',consolas,'Courier New',monospace\"><span style=\"color: #008080; text-decoration-color: #008080; font-weight: bold\">2025</span>-<span style=\"color: #008080; text-decoration-color: #008080; font-weight: bold\">02</span>-<span style=\"color: #008080; text-decoration-color: #008080; font-weight: bold\">26</span> <span style=\"color: #00ff00; text-decoration-color: #00ff00; font-weight: bold\">12:17:04</span>,<span style=\"color: #008080; text-decoration-color: #008080; font-weight: bold\">249</span> - <span style=\"font-weight: bold\">{</span>pytorch_tabular.tabular_model_tuner:<span style=\"color: #008080; text-decoration-color: #008080; font-weight: bold\">412</span><span style=\"font-weight: bold\">}</span> - INFO - Trial <span style=\"color: #008080; text-decoration-color: #008080; font-weight: bold\">50</span>/<span style=\"color: #008080; text-decoration-color: #008080; font-weight: bold\">54</span>: <span style=\"font-weight: bold\">{</span><span style=\"color: #008000; text-decoration-color: #008000\">'model'</span>:                \n",
       "<span style=\"color: #008000; text-decoration-color: #008000\">'0-DANetConfig'</span>, <span style=\"color: #008000; text-decoration-color: #008000\">'model_config__abstlay_dim_1'</span>: <span style=\"color: #008080; text-decoration-color: #008080; font-weight: bold\">64</span>, <span style=\"color: #008000; text-decoration-color: #008000\">'model_config__abstlay_dim_2'</span>: <span style=\"color: #008080; text-decoration-color: #008080; font-weight: bold\">128</span>, <span style=\"color: #008000; text-decoration-color: #008000\">'model_config__n_layers'</span>:  \n",
       "<span style=\"color: #008080; text-decoration-color: #008080; font-weight: bold\">4</span>, <span style=\"color: #008000; text-decoration-color: #008000\">'optimizer_config__optimizer'</span>: <span style=\"color: #008000; text-decoration-color: #008000\">'AdamW'</span>, <span style=\"color: #008000; text-decoration-color: #008000\">'loss'</span>: <span style=\"color: #008080; text-decoration-color: #008080; font-weight: bold\">0.9222719073295593</span>, <span style=\"color: #008000; text-decoration-color: #008000\">'mean_squared_error'</span>: <span style=\"color: #008080; text-decoration-color: #008080; font-weight: bold\">0.9222719073295593</span>,   \n",
       "<span style=\"color: #008000; text-decoration-color: #008000\">'trial_id'</span>: <span style=\"color: #008080; text-decoration-color: #008080; font-weight: bold\">49</span><span style=\"font-weight: bold\">}</span> | Score: <span style=\"color: #008080; text-decoration-color: #008080; font-weight: bold\">0.9222719073295593</span>                                                                        \n",
       "</pre>\n"
      ],
      "text/plain": [
       "\u001b[1;36m2025\u001b[0m-\u001b[1;36m02\u001b[0m-\u001b[1;36m26\u001b[0m \u001b[1;92m12:17:04\u001b[0m,\u001b[1;36m249\u001b[0m - \u001b[1m{\u001b[0mpytorch_tabular.tabular_model_tuner:\u001b[1;36m412\u001b[0m\u001b[1m}\u001b[0m - INFO - Trial \u001b[1;36m50\u001b[0m/\u001b[1;36m54\u001b[0m: \u001b[1m{\u001b[0m\u001b[32m'model'\u001b[0m:                \n",
       "\u001b[32m'0-DANetConfig'\u001b[0m, \u001b[32m'model_config__abstlay_dim_1'\u001b[0m: \u001b[1;36m64\u001b[0m, \u001b[32m'model_config__abstlay_dim_2'\u001b[0m: \u001b[1;36m128\u001b[0m, \u001b[32m'model_config__n_layers'\u001b[0m:  \n",
       "\u001b[1;36m4\u001b[0m, \u001b[32m'optimizer_config__optimizer'\u001b[0m: \u001b[32m'AdamW'\u001b[0m, \u001b[32m'loss'\u001b[0m: \u001b[1;36m0.9222719073295593\u001b[0m, \u001b[32m'mean_squared_error'\u001b[0m: \u001b[1;36m0.9222719073295593\u001b[0m,   \n",
       "\u001b[32m'trial_id'\u001b[0m: \u001b[1;36m49\u001b[0m\u001b[1m}\u001b[0m | Score: \u001b[1;36m0.9222719073295593\u001b[0m                                                                        \n"
      ]
     },
     "metadata": {},
     "output_type": "display_data"
    },
    {
     "data": {
      "application/vnd.jupyter.widget-view+json": {
       "model_id": "ae2a4605be77462bb55bf11b195254bc",
       "version_major": 2,
       "version_minor": 0
      },
      "text/plain": [
       "Finding best initial lr:   0%|          | 0/100 [00:00<?, ?it/s]"
      ]
     },
     "metadata": {},
     "output_type": "display_data"
    },
    {
     "data": {
      "text/html": [
       "<pre style=\"white-space:pre;overflow-x:auto;line-height:normal;font-family:Menlo,'DejaVu Sans Mono',consolas,'Courier New',monospace\"><span style=\"color: #008080; text-decoration-color: #008080; font-weight: bold\">2025</span>-<span style=\"color: #008080; text-decoration-color: #008080; font-weight: bold\">02</span>-<span style=\"color: #008080; text-decoration-color: #008080; font-weight: bold\">26</span> <span style=\"color: #00ff00; text-decoration-color: #00ff00; font-weight: bold\">12:17:59</span>,<span style=\"color: #008080; text-decoration-color: #008080; font-weight: bold\">942</span> - <span style=\"font-weight: bold\">{</span>pytorch_tabular.tabular_model_tuner:<span style=\"color: #008080; text-decoration-color: #008080; font-weight: bold\">412</span><span style=\"font-weight: bold\">}</span> - INFO - Trial <span style=\"color: #008080; text-decoration-color: #008080; font-weight: bold\">51</span>/<span style=\"color: #008080; text-decoration-color: #008080; font-weight: bold\">54</span>: <span style=\"font-weight: bold\">{</span><span style=\"color: #008000; text-decoration-color: #008000\">'model'</span>:                \n",
       "<span style=\"color: #008000; text-decoration-color: #008000\">'0-DANetConfig'</span>, <span style=\"color: #008000; text-decoration-color: #008000\">'model_config__abstlay_dim_1'</span>: <span style=\"color: #008080; text-decoration-color: #008080; font-weight: bold\">64</span>, <span style=\"color: #008000; text-decoration-color: #008000\">'model_config__abstlay_dim_2'</span>: <span style=\"color: #008080; text-decoration-color: #008080; font-weight: bold\">128</span>, <span style=\"color: #008000; text-decoration-color: #008000\">'model_config__n_layers'</span>:  \n",
       "<span style=\"color: #008080; text-decoration-color: #008080; font-weight: bold\">8</span>, <span style=\"color: #008000; text-decoration-color: #008000\">'optimizer_config__optimizer'</span>: <span style=\"color: #008000; text-decoration-color: #008000\">'Adam'</span>, <span style=\"color: #008000; text-decoration-color: #008000\">'loss'</span>: <span style=\"color: #008080; text-decoration-color: #008080; font-weight: bold\">1.1630433797836304</span>, <span style=\"color: #008000; text-decoration-color: #008000\">'mean_squared_error'</span>: <span style=\"color: #008080; text-decoration-color: #008080; font-weight: bold\">1.1630433797836304</span>,    \n",
       "<span style=\"color: #008000; text-decoration-color: #008000\">'trial_id'</span>: <span style=\"color: #008080; text-decoration-color: #008080; font-weight: bold\">50</span><span style=\"font-weight: bold\">}</span> | Score: <span style=\"color: #008080; text-decoration-color: #008080; font-weight: bold\">1.1630433797836304</span>                                                                        \n",
       "</pre>\n"
      ],
      "text/plain": [
       "\u001b[1;36m2025\u001b[0m-\u001b[1;36m02\u001b[0m-\u001b[1;36m26\u001b[0m \u001b[1;92m12:17:59\u001b[0m,\u001b[1;36m942\u001b[0m - \u001b[1m{\u001b[0mpytorch_tabular.tabular_model_tuner:\u001b[1;36m412\u001b[0m\u001b[1m}\u001b[0m - INFO - Trial \u001b[1;36m51\u001b[0m/\u001b[1;36m54\u001b[0m: \u001b[1m{\u001b[0m\u001b[32m'model'\u001b[0m:                \n",
       "\u001b[32m'0-DANetConfig'\u001b[0m, \u001b[32m'model_config__abstlay_dim_1'\u001b[0m: \u001b[1;36m64\u001b[0m, \u001b[32m'model_config__abstlay_dim_2'\u001b[0m: \u001b[1;36m128\u001b[0m, \u001b[32m'model_config__n_layers'\u001b[0m:  \n",
       "\u001b[1;36m8\u001b[0m, \u001b[32m'optimizer_config__optimizer'\u001b[0m: \u001b[32m'Adam'\u001b[0m, \u001b[32m'loss'\u001b[0m: \u001b[1;36m1.1630433797836304\u001b[0m, \u001b[32m'mean_squared_error'\u001b[0m: \u001b[1;36m1.1630433797836304\u001b[0m,    \n",
       "\u001b[32m'trial_id'\u001b[0m: \u001b[1;36m50\u001b[0m\u001b[1m}\u001b[0m | Score: \u001b[1;36m1.1630433797836304\u001b[0m                                                                        \n"
      ]
     },
     "metadata": {},
     "output_type": "display_data"
    },
    {
     "data": {
      "application/vnd.jupyter.widget-view+json": {
       "model_id": "8002781a9fe044bb8e4418331688009d",
       "version_major": 2,
       "version_minor": 0
      },
      "text/plain": [
       "Finding best initial lr:   0%|          | 0/100 [00:00<?, ?it/s]"
      ]
     },
     "metadata": {},
     "output_type": "display_data"
    },
    {
     "data": {
      "text/html": [
       "<pre style=\"white-space:pre;overflow-x:auto;line-height:normal;font-family:Menlo,'DejaVu Sans Mono',consolas,'Courier New',monospace\"><span style=\"color: #008080; text-decoration-color: #008080; font-weight: bold\">2025</span>-<span style=\"color: #008080; text-decoration-color: #008080; font-weight: bold\">02</span>-<span style=\"color: #008080; text-decoration-color: #008080; font-weight: bold\">26</span> <span style=\"color: #00ff00; text-decoration-color: #00ff00; font-weight: bold\">12:19:13</span>,<span style=\"color: #008080; text-decoration-color: #008080; font-weight: bold\">458</span> - <span style=\"font-weight: bold\">{</span>pytorch_tabular.tabular_model_tuner:<span style=\"color: #008080; text-decoration-color: #008080; font-weight: bold\">412</span><span style=\"font-weight: bold\">}</span> - INFO - Trial <span style=\"color: #008080; text-decoration-color: #008080; font-weight: bold\">52</span>/<span style=\"color: #008080; text-decoration-color: #008080; font-weight: bold\">54</span>: <span style=\"font-weight: bold\">{</span><span style=\"color: #008000; text-decoration-color: #008000\">'model'</span>:                \n",
       "<span style=\"color: #008000; text-decoration-color: #008000\">'0-DANetConfig'</span>, <span style=\"color: #008000; text-decoration-color: #008000\">'model_config__abstlay_dim_1'</span>: <span style=\"color: #008080; text-decoration-color: #008080; font-weight: bold\">64</span>, <span style=\"color: #008000; text-decoration-color: #008000\">'model_config__abstlay_dim_2'</span>: <span style=\"color: #008080; text-decoration-color: #008080; font-weight: bold\">128</span>, <span style=\"color: #008000; text-decoration-color: #008000\">'model_config__n_layers'</span>:  \n",
       "<span style=\"color: #008080; text-decoration-color: #008080; font-weight: bold\">8</span>, <span style=\"color: #008000; text-decoration-color: #008000\">'optimizer_config__optimizer'</span>: <span style=\"color: #008000; text-decoration-color: #008000\">'AdamW'</span>, <span style=\"color: #008000; text-decoration-color: #008000\">'loss'</span>: <span style=\"color: #008080; text-decoration-color: #008080; font-weight: bold\">1.1533987522125244</span>, <span style=\"color: #008000; text-decoration-color: #008000\">'mean_squared_error'</span>: <span style=\"color: #008080; text-decoration-color: #008080; font-weight: bold\">1.1533987522125244</span>,   \n",
       "<span style=\"color: #008000; text-decoration-color: #008000\">'trial_id'</span>: <span style=\"color: #008080; text-decoration-color: #008080; font-weight: bold\">51</span><span style=\"font-weight: bold\">}</span> | Score: <span style=\"color: #008080; text-decoration-color: #008080; font-weight: bold\">1.1533987522125244</span>                                                                        \n",
       "</pre>\n"
      ],
      "text/plain": [
       "\u001b[1;36m2025\u001b[0m-\u001b[1;36m02\u001b[0m-\u001b[1;36m26\u001b[0m \u001b[1;92m12:19:13\u001b[0m,\u001b[1;36m458\u001b[0m - \u001b[1m{\u001b[0mpytorch_tabular.tabular_model_tuner:\u001b[1;36m412\u001b[0m\u001b[1m}\u001b[0m - INFO - Trial \u001b[1;36m52\u001b[0m/\u001b[1;36m54\u001b[0m: \u001b[1m{\u001b[0m\u001b[32m'model'\u001b[0m:                \n",
       "\u001b[32m'0-DANetConfig'\u001b[0m, \u001b[32m'model_config__abstlay_dim_1'\u001b[0m: \u001b[1;36m64\u001b[0m, \u001b[32m'model_config__abstlay_dim_2'\u001b[0m: \u001b[1;36m128\u001b[0m, \u001b[32m'model_config__n_layers'\u001b[0m:  \n",
       "\u001b[1;36m8\u001b[0m, \u001b[32m'optimizer_config__optimizer'\u001b[0m: \u001b[32m'AdamW'\u001b[0m, \u001b[32m'loss'\u001b[0m: \u001b[1;36m1.1533987522125244\u001b[0m, \u001b[32m'mean_squared_error'\u001b[0m: \u001b[1;36m1.1533987522125244\u001b[0m,   \n",
       "\u001b[32m'trial_id'\u001b[0m: \u001b[1;36m51\u001b[0m\u001b[1m}\u001b[0m | Score: \u001b[1;36m1.1533987522125244\u001b[0m                                                                        \n"
      ]
     },
     "metadata": {},
     "output_type": "display_data"
    },
    {
     "data": {
      "application/vnd.jupyter.widget-view+json": {
       "model_id": "b8c80773dfff4360be143a9f61745022",
       "version_major": 2,
       "version_minor": 0
      },
      "text/plain": [
       "Finding best initial lr:   0%|          | 0/100 [00:00<?, ?it/s]"
      ]
     },
     "metadata": {},
     "output_type": "display_data"
    },
    {
     "data": {
      "text/html": [
       "<pre style=\"white-space:pre;overflow-x:auto;line-height:normal;font-family:Menlo,'DejaVu Sans Mono',consolas,'Courier New',monospace\"><span style=\"color: #008080; text-decoration-color: #008080; font-weight: bold\">2025</span>-<span style=\"color: #008080; text-decoration-color: #008080; font-weight: bold\">02</span>-<span style=\"color: #008080; text-decoration-color: #008080; font-weight: bold\">26</span> <span style=\"color: #00ff00; text-decoration-color: #00ff00; font-weight: bold\">12:21:42</span>,<span style=\"color: #008080; text-decoration-color: #008080; font-weight: bold\">423</span> - <span style=\"font-weight: bold\">{</span>pytorch_tabular.tabular_model_tuner:<span style=\"color: #008080; text-decoration-color: #008080; font-weight: bold\">412</span><span style=\"font-weight: bold\">}</span> - INFO - Trial <span style=\"color: #008080; text-decoration-color: #008080; font-weight: bold\">53</span>/<span style=\"color: #008080; text-decoration-color: #008080; font-weight: bold\">54</span>: <span style=\"font-weight: bold\">{</span><span style=\"color: #008000; text-decoration-color: #008000\">'model'</span>:                \n",
       "<span style=\"color: #008000; text-decoration-color: #008000\">'0-DANetConfig'</span>, <span style=\"color: #008000; text-decoration-color: #008000\">'model_config__abstlay_dim_1'</span>: <span style=\"color: #008080; text-decoration-color: #008080; font-weight: bold\">64</span>, <span style=\"color: #008000; text-decoration-color: #008000\">'model_config__abstlay_dim_2'</span>: <span style=\"color: #008080; text-decoration-color: #008080; font-weight: bold\">128</span>, <span style=\"color: #008000; text-decoration-color: #008000\">'model_config__n_layers'</span>:  \n",
       "<span style=\"color: #008080; text-decoration-color: #008080; font-weight: bold\">16</span>, <span style=\"color: #008000; text-decoration-color: #008000\">'optimizer_config__optimizer'</span>: <span style=\"color: #008000; text-decoration-color: #008000\">'Adam'</span>, <span style=\"color: #008000; text-decoration-color: #008000\">'loss'</span>: <span style=\"color: #008080; text-decoration-color: #008080; font-weight: bold\">0.9295420050621033</span>, <span style=\"color: #008000; text-decoration-color: #008000\">'mean_squared_error'</span>: <span style=\"color: #008080; text-decoration-color: #008080; font-weight: bold\">0.9295420050621033</span>,   \n",
       "<span style=\"color: #008000; text-decoration-color: #008000\">'trial_id'</span>: <span style=\"color: #008080; text-decoration-color: #008080; font-weight: bold\">52</span><span style=\"font-weight: bold\">}</span> | Score: <span style=\"color: #008080; text-decoration-color: #008080; font-weight: bold\">0.9295420050621033</span>                                                                        \n",
       "</pre>\n"
      ],
      "text/plain": [
       "\u001b[1;36m2025\u001b[0m-\u001b[1;36m02\u001b[0m-\u001b[1;36m26\u001b[0m \u001b[1;92m12:21:42\u001b[0m,\u001b[1;36m423\u001b[0m - \u001b[1m{\u001b[0mpytorch_tabular.tabular_model_tuner:\u001b[1;36m412\u001b[0m\u001b[1m}\u001b[0m - INFO - Trial \u001b[1;36m53\u001b[0m/\u001b[1;36m54\u001b[0m: \u001b[1m{\u001b[0m\u001b[32m'model'\u001b[0m:                \n",
       "\u001b[32m'0-DANetConfig'\u001b[0m, \u001b[32m'model_config__abstlay_dim_1'\u001b[0m: \u001b[1;36m64\u001b[0m, \u001b[32m'model_config__abstlay_dim_2'\u001b[0m: \u001b[1;36m128\u001b[0m, \u001b[32m'model_config__n_layers'\u001b[0m:  \n",
       "\u001b[1;36m16\u001b[0m, \u001b[32m'optimizer_config__optimizer'\u001b[0m: \u001b[32m'Adam'\u001b[0m, \u001b[32m'loss'\u001b[0m: \u001b[1;36m0.9295420050621033\u001b[0m, \u001b[32m'mean_squared_error'\u001b[0m: \u001b[1;36m0.9295420050621033\u001b[0m,   \n",
       "\u001b[32m'trial_id'\u001b[0m: \u001b[1;36m52\u001b[0m\u001b[1m}\u001b[0m | Score: \u001b[1;36m0.9295420050621033\u001b[0m                                                                        \n"
      ]
     },
     "metadata": {},
     "output_type": "display_data"
    },
    {
     "data": {
      "application/vnd.jupyter.widget-view+json": {
       "model_id": "911e981d459a4babb90e1df74915ae06",
       "version_major": 2,
       "version_minor": 0
      },
      "text/plain": [
       "Finding best initial lr:   0%|          | 0/100 [00:00<?, ?it/s]"
      ]
     },
     "metadata": {},
     "output_type": "display_data"
    },
    {
     "data": {
      "text/html": [
       "<pre style=\"white-space:pre;overflow-x:auto;line-height:normal;font-family:Menlo,'DejaVu Sans Mono',consolas,'Courier New',monospace\"><span style=\"color: #008080; text-decoration-color: #008080; font-weight: bold\">2025</span>-<span style=\"color: #008080; text-decoration-color: #008080; font-weight: bold\">02</span>-<span style=\"color: #008080; text-decoration-color: #008080; font-weight: bold\">26</span> <span style=\"color: #00ff00; text-decoration-color: #00ff00; font-weight: bold\">12:23:16</span>,<span style=\"color: #008080; text-decoration-color: #008080; font-weight: bold\">389</span> - <span style=\"font-weight: bold\">{</span>pytorch_tabular.tabular_model_tuner:<span style=\"color: #008080; text-decoration-color: #008080; font-weight: bold\">412</span><span style=\"font-weight: bold\">}</span> - INFO - Trial <span style=\"color: #008080; text-decoration-color: #008080; font-weight: bold\">54</span>/<span style=\"color: #008080; text-decoration-color: #008080; font-weight: bold\">54</span>: <span style=\"font-weight: bold\">{</span><span style=\"color: #008000; text-decoration-color: #008000\">'model'</span>:                \n",
       "<span style=\"color: #008000; text-decoration-color: #008000\">'0-DANetConfig'</span>, <span style=\"color: #008000; text-decoration-color: #008000\">'model_config__abstlay_dim_1'</span>: <span style=\"color: #008080; text-decoration-color: #008080; font-weight: bold\">64</span>, <span style=\"color: #008000; text-decoration-color: #008000\">'model_config__abstlay_dim_2'</span>: <span style=\"color: #008080; text-decoration-color: #008080; font-weight: bold\">128</span>, <span style=\"color: #008000; text-decoration-color: #008000\">'model_config__n_layers'</span>:  \n",
       "<span style=\"color: #008080; text-decoration-color: #008080; font-weight: bold\">16</span>, <span style=\"color: #008000; text-decoration-color: #008000\">'optimizer_config__optimizer'</span>: <span style=\"color: #008000; text-decoration-color: #008000\">'AdamW'</span>, <span style=\"color: #008000; text-decoration-color: #008000\">'loss'</span>: <span style=\"color: #008080; text-decoration-color: #008080; font-weight: bold\">23.414888381958008</span>, <span style=\"color: #008000; text-decoration-color: #008000\">'mean_squared_error'</span>: <span style=\"color: #008080; text-decoration-color: #008080; font-weight: bold\">23.414888381958008</span>,  \n",
       "<span style=\"color: #008000; text-decoration-color: #008000\">'trial_id'</span>: <span style=\"color: #008080; text-decoration-color: #008080; font-weight: bold\">53</span><span style=\"font-weight: bold\">}</span> | Score: <span style=\"color: #008080; text-decoration-color: #008080; font-weight: bold\">23.414888381958008</span>                                                                        \n",
       "</pre>\n"
      ],
      "text/plain": [
       "\u001b[1;36m2025\u001b[0m-\u001b[1;36m02\u001b[0m-\u001b[1;36m26\u001b[0m \u001b[1;92m12:23:16\u001b[0m,\u001b[1;36m389\u001b[0m - \u001b[1m{\u001b[0mpytorch_tabular.tabular_model_tuner:\u001b[1;36m412\u001b[0m\u001b[1m}\u001b[0m - INFO - Trial \u001b[1;36m54\u001b[0m/\u001b[1;36m54\u001b[0m: \u001b[1m{\u001b[0m\u001b[32m'model'\u001b[0m:                \n",
       "\u001b[32m'0-DANetConfig'\u001b[0m, \u001b[32m'model_config__abstlay_dim_1'\u001b[0m: \u001b[1;36m64\u001b[0m, \u001b[32m'model_config__abstlay_dim_2'\u001b[0m: \u001b[1;36m128\u001b[0m, \u001b[32m'model_config__n_layers'\u001b[0m:  \n",
       "\u001b[1;36m16\u001b[0m, \u001b[32m'optimizer_config__optimizer'\u001b[0m: \u001b[32m'AdamW'\u001b[0m, \u001b[32m'loss'\u001b[0m: \u001b[1;36m23.414888381958008\u001b[0m, \u001b[32m'mean_squared_error'\u001b[0m: \u001b[1;36m23.414888381958008\u001b[0m,  \n",
       "\u001b[32m'trial_id'\u001b[0m: \u001b[1;36m53\u001b[0m\u001b[1m}\u001b[0m | Score: \u001b[1;36m23.414888381958008\u001b[0m                                                                        \n"
      ]
     },
     "metadata": {},
     "output_type": "display_data"
    },
    {
     "data": {
      "text/html": [
       "<pre style=\"white-space:pre;overflow-x:auto;line-height:normal;font-family:Menlo,'DejaVu Sans Mono',consolas,'Courier New',monospace\"><span style=\"color: #008080; text-decoration-color: #008080; font-weight: bold\">2025</span>-<span style=\"color: #008080; text-decoration-color: #008080; font-weight: bold\">02</span>-<span style=\"color: #008080; text-decoration-color: #008080; font-weight: bold\">26</span> <span style=\"color: #00ff00; text-decoration-color: #00ff00; font-weight: bold\">12:23:16</span>,<span style=\"color: #008080; text-decoration-color: #008080; font-weight: bold\">428</span> - <span style=\"font-weight: bold\">{</span>pytorch_tabular.models.gandalf.gandal<span style=\"color: #00ff00; text-decoration-color: #00ff00; font-weight: bold\">f:109</span><span style=\"font-weight: bold\">}</span> - INFO - Data Aware Initialization of T0    \n",
       "</pre>\n"
      ],
      "text/plain": [
       "\u001b[1;36m2025\u001b[0m-\u001b[1;36m02\u001b[0m-\u001b[1;36m26\u001b[0m \u001b[1;92m12:23:16\u001b[0m,\u001b[1;36m428\u001b[0m - \u001b[1m{\u001b[0mpytorch_tabular.models.gandalf.gandal\u001b[1;92mf:109\u001b[0m\u001b[1m}\u001b[0m - INFO - Data Aware Initialization of T0    \n"
      ]
     },
     "metadata": {},
     "output_type": "display_data"
    },
    {
     "data": {
      "application/vnd.jupyter.widget-view+json": {
       "model_id": "71061e31f6994e2f990308c4f1b9b68c",
       "version_major": 2,
       "version_minor": 0
      },
      "text/plain": [
       "Finding best initial lr:   0%|          | 0/100 [00:00<?, ?it/s]"
      ]
     },
     "metadata": {},
     "output_type": "display_data"
    },
    {
     "data": {
      "text/html": [
       "<pre style=\"white-space:pre;overflow-x:auto;line-height:normal;font-family:Menlo,'DejaVu Sans Mono',consolas,'Courier New',monospace\"><span style=\"color: #008080; text-decoration-color: #008080; font-weight: bold\">2025</span>-<span style=\"color: #008080; text-decoration-color: #008080; font-weight: bold\">02</span>-<span style=\"color: #008080; text-decoration-color: #008080; font-weight: bold\">26</span> <span style=\"color: #00ff00; text-decoration-color: #00ff00; font-weight: bold\">12:23:18</span>,<span style=\"color: #008080; text-decoration-color: #008080; font-weight: bold\">511</span> - <span style=\"font-weight: bold\">{</span>pytorch_tabular.models.gandalf.gandal<span style=\"color: #00ff00; text-decoration-color: #00ff00; font-weight: bold\">f:109</span><span style=\"font-weight: bold\">}</span> - INFO - Data Aware Initialization of T0    \n",
       "</pre>\n"
      ],
      "text/plain": [
       "\u001b[1;36m2025\u001b[0m-\u001b[1;36m02\u001b[0m-\u001b[1;36m26\u001b[0m \u001b[1;92m12:23:18\u001b[0m,\u001b[1;36m511\u001b[0m - \u001b[1m{\u001b[0mpytorch_tabular.models.gandalf.gandal\u001b[1;92mf:109\u001b[0m\u001b[1m}\u001b[0m - INFO - Data Aware Initialization of T0    \n"
      ]
     },
     "metadata": {},
     "output_type": "display_data"
    },
    {
     "data": {
      "text/html": [
       "<pre style=\"white-space:pre;overflow-x:auto;line-height:normal;font-family:Menlo,'DejaVu Sans Mono',consolas,'Courier New',monospace\"><span style=\"color: #008080; text-decoration-color: #008080; font-weight: bold\">2025</span>-<span style=\"color: #008080; text-decoration-color: #008080; font-weight: bold\">02</span>-<span style=\"color: #008080; text-decoration-color: #008080; font-weight: bold\">26</span> <span style=\"color: #00ff00; text-decoration-color: #00ff00; font-weight: bold\">12:23:37</span>,<span style=\"color: #008080; text-decoration-color: #008080; font-weight: bold\">352</span> - <span style=\"font-weight: bold\">{</span>pytorch_tabular.tabular_model_tuner:<span style=\"color: #008080; text-decoration-color: #008080; font-weight: bold\">412</span><span style=\"font-weight: bold\">}</span> - INFO - Trial <span style=\"color: #008080; text-decoration-color: #008080; font-weight: bold\">1</span>/<span style=\"color: #008080; text-decoration-color: #008080; font-weight: bold\">12</span>: <span style=\"font-weight: bold\">{</span><span style=\"color: #008000; text-decoration-color: #008000\">'model'</span>:                 \n",
       "<span style=\"color: #008000; text-decoration-color: #008000\">'1-GANDALFConfig'</span>, <span style=\"color: #008000; text-decoration-color: #008000\">'model_config__gflu_dropout'</span>: <span style=\"color: #008080; text-decoration-color: #008080; font-weight: bold\">0.0</span>, <span style=\"color: #008000; text-decoration-color: #008000\">'model_config__gflu_stages'</span>: <span style=\"color: #008080; text-decoration-color: #008080; font-weight: bold\">6</span>,                              \n",
       "<span style=\"color: #008000; text-decoration-color: #008000\">'optimizer_config__optimizer'</span>: <span style=\"color: #008000; text-decoration-color: #008000\">'Adam'</span>, <span style=\"color: #008000; text-decoration-color: #008000\">'loss'</span>: <span style=\"color: #008080; text-decoration-color: #008080; font-weight: bold\">6.1678619384765625</span>, <span style=\"color: #008000; text-decoration-color: #008000\">'mean_squared_error'</span>: <span style=\"color: #008080; text-decoration-color: #008080; font-weight: bold\">6.1678619384765625</span>,       \n",
       "<span style=\"color: #008000; text-decoration-color: #008000\">'trial_id'</span>: <span style=\"color: #008080; text-decoration-color: #008080; font-weight: bold\">0</span><span style=\"font-weight: bold\">}</span> | Score: <span style=\"color: #008080; text-decoration-color: #008080; font-weight: bold\">6.1678619384765625</span>                                                                         \n",
       "</pre>\n"
      ],
      "text/plain": [
       "\u001b[1;36m2025\u001b[0m-\u001b[1;36m02\u001b[0m-\u001b[1;36m26\u001b[0m \u001b[1;92m12:23:37\u001b[0m,\u001b[1;36m352\u001b[0m - \u001b[1m{\u001b[0mpytorch_tabular.tabular_model_tuner:\u001b[1;36m412\u001b[0m\u001b[1m}\u001b[0m - INFO - Trial \u001b[1;36m1\u001b[0m/\u001b[1;36m12\u001b[0m: \u001b[1m{\u001b[0m\u001b[32m'model'\u001b[0m:                 \n",
       "\u001b[32m'1-GANDALFConfig'\u001b[0m, \u001b[32m'model_config__gflu_dropout'\u001b[0m: \u001b[1;36m0.0\u001b[0m, \u001b[32m'model_config__gflu_stages'\u001b[0m: \u001b[1;36m6\u001b[0m,                              \n",
       "\u001b[32m'optimizer_config__optimizer'\u001b[0m: \u001b[32m'Adam'\u001b[0m, \u001b[32m'loss'\u001b[0m: \u001b[1;36m6.1678619384765625\u001b[0m, \u001b[32m'mean_squared_error'\u001b[0m: \u001b[1;36m6.1678619384765625\u001b[0m,       \n",
       "\u001b[32m'trial_id'\u001b[0m: \u001b[1;36m0\u001b[0m\u001b[1m}\u001b[0m | Score: \u001b[1;36m6.1678619384765625\u001b[0m                                                                         \n"
      ]
     },
     "metadata": {},
     "output_type": "display_data"
    },
    {
     "data": {
      "text/html": [
       "<pre style=\"white-space:pre;overflow-x:auto;line-height:normal;font-family:Menlo,'DejaVu Sans Mono',consolas,'Courier New',monospace\"><span style=\"color: #008080; text-decoration-color: #008080; font-weight: bold\">2025</span>-<span style=\"color: #008080; text-decoration-color: #008080; font-weight: bold\">02</span>-<span style=\"color: #008080; text-decoration-color: #008080; font-weight: bold\">26</span> <span style=\"color: #00ff00; text-decoration-color: #00ff00; font-weight: bold\">12:23:37</span>,<span style=\"color: #008080; text-decoration-color: #008080; font-weight: bold\">383</span> - <span style=\"font-weight: bold\">{</span>pytorch_tabular.models.gandalf.gandal<span style=\"color: #00ff00; text-decoration-color: #00ff00; font-weight: bold\">f:109</span><span style=\"font-weight: bold\">}</span> - INFO - Data Aware Initialization of T0    \n",
       "</pre>\n"
      ],
      "text/plain": [
       "\u001b[1;36m2025\u001b[0m-\u001b[1;36m02\u001b[0m-\u001b[1;36m26\u001b[0m \u001b[1;92m12:23:37\u001b[0m,\u001b[1;36m383\u001b[0m - \u001b[1m{\u001b[0mpytorch_tabular.models.gandalf.gandal\u001b[1;92mf:109\u001b[0m\u001b[1m}\u001b[0m - INFO - Data Aware Initialization of T0    \n"
      ]
     },
     "metadata": {},
     "output_type": "display_data"
    },
    {
     "data": {
      "application/vnd.jupyter.widget-view+json": {
       "model_id": "be62f353762b4311bce7f15c47ad5e8f",
       "version_major": 2,
       "version_minor": 0
      },
      "text/plain": [
       "Finding best initial lr:   0%|          | 0/100 [00:00<?, ?it/s]"
      ]
     },
     "metadata": {},
     "output_type": "display_data"
    },
    {
     "data": {
      "text/html": [
       "<pre style=\"white-space:pre;overflow-x:auto;line-height:normal;font-family:Menlo,'DejaVu Sans Mono',consolas,'Courier New',monospace\"><span style=\"color: #008080; text-decoration-color: #008080; font-weight: bold\">2025</span>-<span style=\"color: #008080; text-decoration-color: #008080; font-weight: bold\">02</span>-<span style=\"color: #008080; text-decoration-color: #008080; font-weight: bold\">26</span> <span style=\"color: #00ff00; text-decoration-color: #00ff00; font-weight: bold\">12:23:39</span>,<span style=\"color: #008080; text-decoration-color: #008080; font-weight: bold\">386</span> - <span style=\"font-weight: bold\">{</span>pytorch_tabular.models.gandalf.gandal<span style=\"color: #00ff00; text-decoration-color: #00ff00; font-weight: bold\">f:109</span><span style=\"font-weight: bold\">}</span> - INFO - Data Aware Initialization of T0    \n",
       "</pre>\n"
      ],
      "text/plain": [
       "\u001b[1;36m2025\u001b[0m-\u001b[1;36m02\u001b[0m-\u001b[1;36m26\u001b[0m \u001b[1;92m12:23:39\u001b[0m,\u001b[1;36m386\u001b[0m - \u001b[1m{\u001b[0mpytorch_tabular.models.gandalf.gandal\u001b[1;92mf:109\u001b[0m\u001b[1m}\u001b[0m - INFO - Data Aware Initialization of T0    \n"
      ]
     },
     "metadata": {},
     "output_type": "display_data"
    },
    {
     "data": {
      "text/html": [
       "<pre style=\"white-space:pre;overflow-x:auto;line-height:normal;font-family:Menlo,'DejaVu Sans Mono',consolas,'Courier New',monospace\"><span style=\"color: #008080; text-decoration-color: #008080; font-weight: bold\">2025</span>-<span style=\"color: #008080; text-decoration-color: #008080; font-weight: bold\">02</span>-<span style=\"color: #008080; text-decoration-color: #008080; font-weight: bold\">26</span> <span style=\"color: #00ff00; text-decoration-color: #00ff00; font-weight: bold\">12:23:57</span>,<span style=\"color: #008080; text-decoration-color: #008080; font-weight: bold\">969</span> - <span style=\"font-weight: bold\">{</span>pytorch_tabular.tabular_model_tuner:<span style=\"color: #008080; text-decoration-color: #008080; font-weight: bold\">412</span><span style=\"font-weight: bold\">}</span> - INFO - Trial <span style=\"color: #008080; text-decoration-color: #008080; font-weight: bold\">2</span>/<span style=\"color: #008080; text-decoration-color: #008080; font-weight: bold\">12</span>: <span style=\"font-weight: bold\">{</span><span style=\"color: #008000; text-decoration-color: #008000\">'model'</span>:                 \n",
       "<span style=\"color: #008000; text-decoration-color: #008000\">'1-GANDALFConfig'</span>, <span style=\"color: #008000; text-decoration-color: #008000\">'model_config__gflu_dropout'</span>: <span style=\"color: #008080; text-decoration-color: #008080; font-weight: bold\">0.0</span>, <span style=\"color: #008000; text-decoration-color: #008000\">'model_config__gflu_stages'</span>: <span style=\"color: #008080; text-decoration-color: #008080; font-weight: bold\">6</span>,                              \n",
       "<span style=\"color: #008000; text-decoration-color: #008000\">'optimizer_config__optimizer'</span>: <span style=\"color: #008000; text-decoration-color: #008000\">'AdamW'</span>, <span style=\"color: #008000; text-decoration-color: #008000\">'loss'</span>: <span style=\"color: #008080; text-decoration-color: #008080; font-weight: bold\">23.629653930664062</span>, <span style=\"color: #008000; text-decoration-color: #008000\">'mean_squared_error'</span>: <span style=\"color: #008080; text-decoration-color: #008080; font-weight: bold\">23.629653930664062</span>,      \n",
       "<span style=\"color: #008000; text-decoration-color: #008000\">'trial_id'</span>: <span style=\"color: #008080; text-decoration-color: #008080; font-weight: bold\">1</span><span style=\"font-weight: bold\">}</span> | Score: <span style=\"color: #008080; text-decoration-color: #008080; font-weight: bold\">23.629653930664062</span>                                                                         \n",
       "</pre>\n"
      ],
      "text/plain": [
       "\u001b[1;36m2025\u001b[0m-\u001b[1;36m02\u001b[0m-\u001b[1;36m26\u001b[0m \u001b[1;92m12:23:57\u001b[0m,\u001b[1;36m969\u001b[0m - \u001b[1m{\u001b[0mpytorch_tabular.tabular_model_tuner:\u001b[1;36m412\u001b[0m\u001b[1m}\u001b[0m - INFO - Trial \u001b[1;36m2\u001b[0m/\u001b[1;36m12\u001b[0m: \u001b[1m{\u001b[0m\u001b[32m'model'\u001b[0m:                 \n",
       "\u001b[32m'1-GANDALFConfig'\u001b[0m, \u001b[32m'model_config__gflu_dropout'\u001b[0m: \u001b[1;36m0.0\u001b[0m, \u001b[32m'model_config__gflu_stages'\u001b[0m: \u001b[1;36m6\u001b[0m,                              \n",
       "\u001b[32m'optimizer_config__optimizer'\u001b[0m: \u001b[32m'AdamW'\u001b[0m, \u001b[32m'loss'\u001b[0m: \u001b[1;36m23.629653930664062\u001b[0m, \u001b[32m'mean_squared_error'\u001b[0m: \u001b[1;36m23.629653930664062\u001b[0m,      \n",
       "\u001b[32m'trial_id'\u001b[0m: \u001b[1;36m1\u001b[0m\u001b[1m}\u001b[0m | Score: \u001b[1;36m23.629653930664062\u001b[0m                                                                         \n"
      ]
     },
     "metadata": {},
     "output_type": "display_data"
    },
    {
     "data": {
      "text/html": [
       "<pre style=\"white-space:pre;overflow-x:auto;line-height:normal;font-family:Menlo,'DejaVu Sans Mono',consolas,'Courier New',monospace\"><span style=\"color: #008080; text-decoration-color: #008080; font-weight: bold\">2025</span>-<span style=\"color: #008080; text-decoration-color: #008080; font-weight: bold\">02</span>-<span style=\"color: #008080; text-decoration-color: #008080; font-weight: bold\">26</span> <span style=\"color: #00ff00; text-decoration-color: #00ff00; font-weight: bold\">12:23:58</span>,<span style=\"color: #008080; text-decoration-color: #008080; font-weight: bold\">001</span> - <span style=\"font-weight: bold\">{</span>pytorch_tabular.models.gandalf.gandal<span style=\"color: #00ff00; text-decoration-color: #00ff00; font-weight: bold\">f:109</span><span style=\"font-weight: bold\">}</span> - INFO - Data Aware Initialization of T0    \n",
       "</pre>\n"
      ],
      "text/plain": [
       "\u001b[1;36m2025\u001b[0m-\u001b[1;36m02\u001b[0m-\u001b[1;36m26\u001b[0m \u001b[1;92m12:23:58\u001b[0m,\u001b[1;36m001\u001b[0m - \u001b[1m{\u001b[0mpytorch_tabular.models.gandalf.gandal\u001b[1;92mf:109\u001b[0m\u001b[1m}\u001b[0m - INFO - Data Aware Initialization of T0    \n"
      ]
     },
     "metadata": {},
     "output_type": "display_data"
    },
    {
     "data": {
      "application/vnd.jupyter.widget-view+json": {
       "model_id": "44ff1e222e28431ba48714e055738791",
       "version_major": 2,
       "version_minor": 0
      },
      "text/plain": [
       "Finding best initial lr:   0%|          | 0/100 [00:00<?, ?it/s]"
      ]
     },
     "metadata": {},
     "output_type": "display_data"
    },
    {
     "data": {
      "text/html": [
       "<pre style=\"white-space:pre;overflow-x:auto;line-height:normal;font-family:Menlo,'DejaVu Sans Mono',consolas,'Courier New',monospace\"><span style=\"color: #008080; text-decoration-color: #008080; font-weight: bold\">2025</span>-<span style=\"color: #008080; text-decoration-color: #008080; font-weight: bold\">02</span>-<span style=\"color: #008080; text-decoration-color: #008080; font-weight: bold\">26</span> <span style=\"color: #00ff00; text-decoration-color: #00ff00; font-weight: bold\">12:24:00</span>,<span style=\"color: #008080; text-decoration-color: #008080; font-weight: bold\">412</span> - <span style=\"font-weight: bold\">{</span>pytorch_tabular.models.gandalf.gandal<span style=\"color: #00ff00; text-decoration-color: #00ff00; font-weight: bold\">f:109</span><span style=\"font-weight: bold\">}</span> - INFO - Data Aware Initialization of T0    \n",
       "</pre>\n"
      ],
      "text/plain": [
       "\u001b[1;36m2025\u001b[0m-\u001b[1;36m02\u001b[0m-\u001b[1;36m26\u001b[0m \u001b[1;92m12:24:00\u001b[0m,\u001b[1;36m412\u001b[0m - \u001b[1m{\u001b[0mpytorch_tabular.models.gandalf.gandal\u001b[1;92mf:109\u001b[0m\u001b[1m}\u001b[0m - INFO - Data Aware Initialization of T0    \n"
      ]
     },
     "metadata": {},
     "output_type": "display_data"
    },
    {
     "data": {
      "text/html": [
       "<pre style=\"white-space:pre;overflow-x:auto;line-height:normal;font-family:Menlo,'DejaVu Sans Mono',consolas,'Courier New',monospace\"><span style=\"color: #008080; text-decoration-color: #008080; font-weight: bold\">2025</span>-<span style=\"color: #008080; text-decoration-color: #008080; font-weight: bold\">02</span>-<span style=\"color: #008080; text-decoration-color: #008080; font-weight: bold\">26</span> <span style=\"color: #00ff00; text-decoration-color: #00ff00; font-weight: bold\">12:24:23</span>,<span style=\"color: #008080; text-decoration-color: #008080; font-weight: bold\">103</span> - <span style=\"font-weight: bold\">{</span>pytorch_tabular.tabular_model_tuner:<span style=\"color: #008080; text-decoration-color: #008080; font-weight: bold\">412</span><span style=\"font-weight: bold\">}</span> - INFO - Trial <span style=\"color: #008080; text-decoration-color: #008080; font-weight: bold\">3</span>/<span style=\"color: #008080; text-decoration-color: #008080; font-weight: bold\">12</span>: <span style=\"font-weight: bold\">{</span><span style=\"color: #008000; text-decoration-color: #008000\">'model'</span>:                 \n",
       "<span style=\"color: #008000; text-decoration-color: #008000\">'1-GANDALFConfig'</span>, <span style=\"color: #008000; text-decoration-color: #008000\">'model_config__gflu_dropout'</span>: <span style=\"color: #008080; text-decoration-color: #008080; font-weight: bold\">0.0</span>, <span style=\"color: #008000; text-decoration-color: #008000\">'model_config__gflu_stages'</span>: <span style=\"color: #008080; text-decoration-color: #008080; font-weight: bold\">12</span>,                             \n",
       "<span style=\"color: #008000; text-decoration-color: #008000\">'optimizer_config__optimizer'</span>: <span style=\"color: #008000; text-decoration-color: #008000\">'Adam'</span>, <span style=\"color: #008000; text-decoration-color: #008000\">'loss'</span>: <span style=\"color: #008080; text-decoration-color: #008080; font-weight: bold\">23.558698654174805</span>, <span style=\"color: #008000; text-decoration-color: #008000\">'mean_squared_error'</span>: <span style=\"color: #008080; text-decoration-color: #008080; font-weight: bold\">23.558698654174805</span>,       \n",
       "<span style=\"color: #008000; text-decoration-color: #008000\">'trial_id'</span>: <span style=\"color: #008080; text-decoration-color: #008080; font-weight: bold\">2</span><span style=\"font-weight: bold\">}</span> | Score: <span style=\"color: #008080; text-decoration-color: #008080; font-weight: bold\">23.558698654174805</span>                                                                         \n",
       "</pre>\n"
      ],
      "text/plain": [
       "\u001b[1;36m2025\u001b[0m-\u001b[1;36m02\u001b[0m-\u001b[1;36m26\u001b[0m \u001b[1;92m12:24:23\u001b[0m,\u001b[1;36m103\u001b[0m - \u001b[1m{\u001b[0mpytorch_tabular.tabular_model_tuner:\u001b[1;36m412\u001b[0m\u001b[1m}\u001b[0m - INFO - Trial \u001b[1;36m3\u001b[0m/\u001b[1;36m12\u001b[0m: \u001b[1m{\u001b[0m\u001b[32m'model'\u001b[0m:                 \n",
       "\u001b[32m'1-GANDALFConfig'\u001b[0m, \u001b[32m'model_config__gflu_dropout'\u001b[0m: \u001b[1;36m0.0\u001b[0m, \u001b[32m'model_config__gflu_stages'\u001b[0m: \u001b[1;36m12\u001b[0m,                             \n",
       "\u001b[32m'optimizer_config__optimizer'\u001b[0m: \u001b[32m'Adam'\u001b[0m, \u001b[32m'loss'\u001b[0m: \u001b[1;36m23.558698654174805\u001b[0m, \u001b[32m'mean_squared_error'\u001b[0m: \u001b[1;36m23.558698654174805\u001b[0m,       \n",
       "\u001b[32m'trial_id'\u001b[0m: \u001b[1;36m2\u001b[0m\u001b[1m}\u001b[0m | Score: \u001b[1;36m23.558698654174805\u001b[0m                                                                         \n"
      ]
     },
     "metadata": {},
     "output_type": "display_data"
    },
    {
     "data": {
      "text/html": [
       "<pre style=\"white-space:pre;overflow-x:auto;line-height:normal;font-family:Menlo,'DejaVu Sans Mono',consolas,'Courier New',monospace\"><span style=\"color: #008080; text-decoration-color: #008080; font-weight: bold\">2025</span>-<span style=\"color: #008080; text-decoration-color: #008080; font-weight: bold\">02</span>-<span style=\"color: #008080; text-decoration-color: #008080; font-weight: bold\">26</span> <span style=\"color: #00ff00; text-decoration-color: #00ff00; font-weight: bold\">12:24:23</span>,<span style=\"color: #008080; text-decoration-color: #008080; font-weight: bold\">135</span> - <span style=\"font-weight: bold\">{</span>pytorch_tabular.models.gandalf.gandal<span style=\"color: #00ff00; text-decoration-color: #00ff00; font-weight: bold\">f:109</span><span style=\"font-weight: bold\">}</span> - INFO - Data Aware Initialization of T0    \n",
       "</pre>\n"
      ],
      "text/plain": [
       "\u001b[1;36m2025\u001b[0m-\u001b[1;36m02\u001b[0m-\u001b[1;36m26\u001b[0m \u001b[1;92m12:24:23\u001b[0m,\u001b[1;36m135\u001b[0m - \u001b[1m{\u001b[0mpytorch_tabular.models.gandalf.gandal\u001b[1;92mf:109\u001b[0m\u001b[1m}\u001b[0m - INFO - Data Aware Initialization of T0    \n"
      ]
     },
     "metadata": {},
     "output_type": "display_data"
    },
    {
     "data": {
      "application/vnd.jupyter.widget-view+json": {
       "model_id": "a2021903b81a4843806ee03072226a5e",
       "version_major": 2,
       "version_minor": 0
      },
      "text/plain": [
       "Finding best initial lr:   0%|          | 0/100 [00:00<?, ?it/s]"
      ]
     },
     "metadata": {},
     "output_type": "display_data"
    },
    {
     "data": {
      "text/html": [
       "<pre style=\"white-space:pre;overflow-x:auto;line-height:normal;font-family:Menlo,'DejaVu Sans Mono',consolas,'Courier New',monospace\"><span style=\"color: #008080; text-decoration-color: #008080; font-weight: bold\">2025</span>-<span style=\"color: #008080; text-decoration-color: #008080; font-weight: bold\">02</span>-<span style=\"color: #008080; text-decoration-color: #008080; font-weight: bold\">26</span> <span style=\"color: #00ff00; text-decoration-color: #00ff00; font-weight: bold\">12:24:25</span>,<span style=\"color: #008080; text-decoration-color: #008080; font-weight: bold\">566</span> - <span style=\"font-weight: bold\">{</span>pytorch_tabular.models.gandalf.gandal<span style=\"color: #00ff00; text-decoration-color: #00ff00; font-weight: bold\">f:109</span><span style=\"font-weight: bold\">}</span> - INFO - Data Aware Initialization of T0    \n",
       "</pre>\n"
      ],
      "text/plain": [
       "\u001b[1;36m2025\u001b[0m-\u001b[1;36m02\u001b[0m-\u001b[1;36m26\u001b[0m \u001b[1;92m12:24:25\u001b[0m,\u001b[1;36m566\u001b[0m - \u001b[1m{\u001b[0mpytorch_tabular.models.gandalf.gandal\u001b[1;92mf:109\u001b[0m\u001b[1m}\u001b[0m - INFO - Data Aware Initialization of T0    \n"
      ]
     },
     "metadata": {},
     "output_type": "display_data"
    },
    {
     "data": {
      "text/html": [
       "<pre style=\"white-space:pre;overflow-x:auto;line-height:normal;font-family:Menlo,'DejaVu Sans Mono',consolas,'Courier New',monospace\"><span style=\"color: #008080; text-decoration-color: #008080; font-weight: bold\">2025</span>-<span style=\"color: #008080; text-decoration-color: #008080; font-weight: bold\">02</span>-<span style=\"color: #008080; text-decoration-color: #008080; font-weight: bold\">26</span> <span style=\"color: #00ff00; text-decoration-color: #00ff00; font-weight: bold\">12:24:49</span>,<span style=\"color: #008080; text-decoration-color: #008080; font-weight: bold\">354</span> - <span style=\"font-weight: bold\">{</span>pytorch_tabular.tabular_model_tuner:<span style=\"color: #008080; text-decoration-color: #008080; font-weight: bold\">412</span><span style=\"font-weight: bold\">}</span> - INFO - Trial <span style=\"color: #008080; text-decoration-color: #008080; font-weight: bold\">4</span>/<span style=\"color: #008080; text-decoration-color: #008080; font-weight: bold\">12</span>: <span style=\"font-weight: bold\">{</span><span style=\"color: #008000; text-decoration-color: #008000\">'model'</span>:                 \n",
       "<span style=\"color: #008000; text-decoration-color: #008000\">'1-GANDALFConfig'</span>, <span style=\"color: #008000; text-decoration-color: #008000\">'model_config__gflu_dropout'</span>: <span style=\"color: #008080; text-decoration-color: #008080; font-weight: bold\">0.0</span>, <span style=\"color: #008000; text-decoration-color: #008000\">'model_config__gflu_stages'</span>: <span style=\"color: #008080; text-decoration-color: #008080; font-weight: bold\">12</span>,                             \n",
       "<span style=\"color: #008000; text-decoration-color: #008000\">'optimizer_config__optimizer'</span>: <span style=\"color: #008000; text-decoration-color: #008000\">'AdamW'</span>, <span style=\"color: #008000; text-decoration-color: #008000\">'loss'</span>: <span style=\"color: #008080; text-decoration-color: #008080; font-weight: bold\">2.2273828983306885</span>, <span style=\"color: #008000; text-decoration-color: #008000\">'mean_squared_error'</span>: <span style=\"color: #008080; text-decoration-color: #008080; font-weight: bold\">2.2273828983306885</span>,      \n",
       "<span style=\"color: #008000; text-decoration-color: #008000\">'trial_id'</span>: <span style=\"color: #008080; text-decoration-color: #008080; font-weight: bold\">3</span><span style=\"font-weight: bold\">}</span> | Score: <span style=\"color: #008080; text-decoration-color: #008080; font-weight: bold\">2.2273828983306885</span>                                                                         \n",
       "</pre>\n"
      ],
      "text/plain": [
       "\u001b[1;36m2025\u001b[0m-\u001b[1;36m02\u001b[0m-\u001b[1;36m26\u001b[0m \u001b[1;92m12:24:49\u001b[0m,\u001b[1;36m354\u001b[0m - \u001b[1m{\u001b[0mpytorch_tabular.tabular_model_tuner:\u001b[1;36m412\u001b[0m\u001b[1m}\u001b[0m - INFO - Trial \u001b[1;36m4\u001b[0m/\u001b[1;36m12\u001b[0m: \u001b[1m{\u001b[0m\u001b[32m'model'\u001b[0m:                 \n",
       "\u001b[32m'1-GANDALFConfig'\u001b[0m, \u001b[32m'model_config__gflu_dropout'\u001b[0m: \u001b[1;36m0.0\u001b[0m, \u001b[32m'model_config__gflu_stages'\u001b[0m: \u001b[1;36m12\u001b[0m,                             \n",
       "\u001b[32m'optimizer_config__optimizer'\u001b[0m: \u001b[32m'AdamW'\u001b[0m, \u001b[32m'loss'\u001b[0m: \u001b[1;36m2.2273828983306885\u001b[0m, \u001b[32m'mean_squared_error'\u001b[0m: \u001b[1;36m2.2273828983306885\u001b[0m,      \n",
       "\u001b[32m'trial_id'\u001b[0m: \u001b[1;36m3\u001b[0m\u001b[1m}\u001b[0m | Score: \u001b[1;36m2.2273828983306885\u001b[0m                                                                         \n"
      ]
     },
     "metadata": {},
     "output_type": "display_data"
    },
    {
     "data": {
      "text/html": [
       "<pre style=\"white-space:pre;overflow-x:auto;line-height:normal;font-family:Menlo,'DejaVu Sans Mono',consolas,'Courier New',monospace\"><span style=\"color: #008080; text-decoration-color: #008080; font-weight: bold\">2025</span>-<span style=\"color: #008080; text-decoration-color: #008080; font-weight: bold\">02</span>-<span style=\"color: #008080; text-decoration-color: #008080; font-weight: bold\">26</span> <span style=\"color: #00ff00; text-decoration-color: #00ff00; font-weight: bold\">12:24:49</span>,<span style=\"color: #008080; text-decoration-color: #008080; font-weight: bold\">385</span> - <span style=\"font-weight: bold\">{</span>pytorch_tabular.models.gandalf.gandal<span style=\"color: #00ff00; text-decoration-color: #00ff00; font-weight: bold\">f:109</span><span style=\"font-weight: bold\">}</span> - INFO - Data Aware Initialization of T0    \n",
       "</pre>\n"
      ],
      "text/plain": [
       "\u001b[1;36m2025\u001b[0m-\u001b[1;36m02\u001b[0m-\u001b[1;36m26\u001b[0m \u001b[1;92m12:24:49\u001b[0m,\u001b[1;36m385\u001b[0m - \u001b[1m{\u001b[0mpytorch_tabular.models.gandalf.gandal\u001b[1;92mf:109\u001b[0m\u001b[1m}\u001b[0m - INFO - Data Aware Initialization of T0    \n"
      ]
     },
     "metadata": {},
     "output_type": "display_data"
    },
    {
     "data": {
      "application/vnd.jupyter.widget-view+json": {
       "model_id": "53505b7b0bea421ea2af7472e30c4db2",
       "version_major": 2,
       "version_minor": 0
      },
      "text/plain": [
       "Finding best initial lr:   0%|          | 0/100 [00:00<?, ?it/s]"
      ]
     },
     "metadata": {},
     "output_type": "display_data"
    },
    {
     "data": {
      "text/html": [
       "<pre style=\"white-space:pre;overflow-x:auto;line-height:normal;font-family:Menlo,'DejaVu Sans Mono',consolas,'Courier New',monospace\"><span style=\"color: #008080; text-decoration-color: #008080; font-weight: bold\">2025</span>-<span style=\"color: #008080; text-decoration-color: #008080; font-weight: bold\">02</span>-<span style=\"color: #008080; text-decoration-color: #008080; font-weight: bold\">26</span> <span style=\"color: #00ff00; text-decoration-color: #00ff00; font-weight: bold\">12:24:51</span>,<span style=\"color: #008080; text-decoration-color: #008080; font-weight: bold\">825</span> - <span style=\"font-weight: bold\">{</span>pytorch_tabular.models.gandalf.gandal<span style=\"color: #00ff00; text-decoration-color: #00ff00; font-weight: bold\">f:109</span><span style=\"font-weight: bold\">}</span> - INFO - Data Aware Initialization of T0    \n",
       "</pre>\n"
      ],
      "text/plain": [
       "\u001b[1;36m2025\u001b[0m-\u001b[1;36m02\u001b[0m-\u001b[1;36m26\u001b[0m \u001b[1;92m12:24:51\u001b[0m,\u001b[1;36m825\u001b[0m - \u001b[1m{\u001b[0mpytorch_tabular.models.gandalf.gandal\u001b[1;92mf:109\u001b[0m\u001b[1m}\u001b[0m - INFO - Data Aware Initialization of T0    \n"
      ]
     },
     "metadata": {},
     "output_type": "display_data"
    },
    {
     "data": {
      "text/html": [
       "<pre style=\"white-space:pre;overflow-x:auto;line-height:normal;font-family:Menlo,'DejaVu Sans Mono',consolas,'Courier New',monospace\"><span style=\"color: #008080; text-decoration-color: #008080; font-weight: bold\">2025</span>-<span style=\"color: #008080; text-decoration-color: #008080; font-weight: bold\">02</span>-<span style=\"color: #008080; text-decoration-color: #008080; font-weight: bold\">26</span> <span style=\"color: #00ff00; text-decoration-color: #00ff00; font-weight: bold\">12:25:16</span>,<span style=\"color: #008080; text-decoration-color: #008080; font-weight: bold\">048</span> - <span style=\"font-weight: bold\">{</span>pytorch_tabular.tabular_model_tuner:<span style=\"color: #008080; text-decoration-color: #008080; font-weight: bold\">412</span><span style=\"font-weight: bold\">}</span> - INFO - Trial <span style=\"color: #008080; text-decoration-color: #008080; font-weight: bold\">5</span>/<span style=\"color: #008080; text-decoration-color: #008080; font-weight: bold\">12</span>: <span style=\"font-weight: bold\">{</span><span style=\"color: #008000; text-decoration-color: #008000\">'model'</span>:                 \n",
       "<span style=\"color: #008000; text-decoration-color: #008000\">'1-GANDALFConfig'</span>, <span style=\"color: #008000; text-decoration-color: #008000\">'model_config__gflu_dropout'</span>: <span style=\"color: #008080; text-decoration-color: #008080; font-weight: bold\">0.0</span>, <span style=\"color: #008000; text-decoration-color: #008000\">'model_config__gflu_stages'</span>: <span style=\"color: #008080; text-decoration-color: #008080; font-weight: bold\">15</span>,                             \n",
       "<span style=\"color: #008000; text-decoration-color: #008000\">'optimizer_config__optimizer'</span>: <span style=\"color: #008000; text-decoration-color: #008000\">'Adam'</span>, <span style=\"color: #008000; text-decoration-color: #008000\">'loss'</span>: <span style=\"color: #008080; text-decoration-color: #008080; font-weight: bold\">2.5269083976745605</span>, <span style=\"color: #008000; text-decoration-color: #008000\">'mean_squared_error'</span>: <span style=\"color: #008080; text-decoration-color: #008080; font-weight: bold\">2.5269083976745605</span>,       \n",
       "<span style=\"color: #008000; text-decoration-color: #008000\">'trial_id'</span>: <span style=\"color: #008080; text-decoration-color: #008080; font-weight: bold\">4</span><span style=\"font-weight: bold\">}</span> | Score: <span style=\"color: #008080; text-decoration-color: #008080; font-weight: bold\">2.5269083976745605</span>                                                                         \n",
       "</pre>\n"
      ],
      "text/plain": [
       "\u001b[1;36m2025\u001b[0m-\u001b[1;36m02\u001b[0m-\u001b[1;36m26\u001b[0m \u001b[1;92m12:25:16\u001b[0m,\u001b[1;36m048\u001b[0m - \u001b[1m{\u001b[0mpytorch_tabular.tabular_model_tuner:\u001b[1;36m412\u001b[0m\u001b[1m}\u001b[0m - INFO - Trial \u001b[1;36m5\u001b[0m/\u001b[1;36m12\u001b[0m: \u001b[1m{\u001b[0m\u001b[32m'model'\u001b[0m:                 \n",
       "\u001b[32m'1-GANDALFConfig'\u001b[0m, \u001b[32m'model_config__gflu_dropout'\u001b[0m: \u001b[1;36m0.0\u001b[0m, \u001b[32m'model_config__gflu_stages'\u001b[0m: \u001b[1;36m15\u001b[0m,                             \n",
       "\u001b[32m'optimizer_config__optimizer'\u001b[0m: \u001b[32m'Adam'\u001b[0m, \u001b[32m'loss'\u001b[0m: \u001b[1;36m2.5269083976745605\u001b[0m, \u001b[32m'mean_squared_error'\u001b[0m: \u001b[1;36m2.5269083976745605\u001b[0m,       \n",
       "\u001b[32m'trial_id'\u001b[0m: \u001b[1;36m4\u001b[0m\u001b[1m}\u001b[0m | Score: \u001b[1;36m2.5269083976745605\u001b[0m                                                                         \n"
      ]
     },
     "metadata": {},
     "output_type": "display_data"
    },
    {
     "data": {
      "text/html": [
       "<pre style=\"white-space:pre;overflow-x:auto;line-height:normal;font-family:Menlo,'DejaVu Sans Mono',consolas,'Courier New',monospace\"><span style=\"color: #008080; text-decoration-color: #008080; font-weight: bold\">2025</span>-<span style=\"color: #008080; text-decoration-color: #008080; font-weight: bold\">02</span>-<span style=\"color: #008080; text-decoration-color: #008080; font-weight: bold\">26</span> <span style=\"color: #00ff00; text-decoration-color: #00ff00; font-weight: bold\">12:25:16</span>,<span style=\"color: #008080; text-decoration-color: #008080; font-weight: bold\">081</span> - <span style=\"font-weight: bold\">{</span>pytorch_tabular.models.gandalf.gandal<span style=\"color: #00ff00; text-decoration-color: #00ff00; font-weight: bold\">f:109</span><span style=\"font-weight: bold\">}</span> - INFO - Data Aware Initialization of T0    \n",
       "</pre>\n"
      ],
      "text/plain": [
       "\u001b[1;36m2025\u001b[0m-\u001b[1;36m02\u001b[0m-\u001b[1;36m26\u001b[0m \u001b[1;92m12:25:16\u001b[0m,\u001b[1;36m081\u001b[0m - \u001b[1m{\u001b[0mpytorch_tabular.models.gandalf.gandal\u001b[1;92mf:109\u001b[0m\u001b[1m}\u001b[0m - INFO - Data Aware Initialization of T0    \n"
      ]
     },
     "metadata": {},
     "output_type": "display_data"
    },
    {
     "data": {
      "application/vnd.jupyter.widget-view+json": {
       "model_id": "fde4a8ce508946f38bf79e075d565941",
       "version_major": 2,
       "version_minor": 0
      },
      "text/plain": [
       "Finding best initial lr:   0%|          | 0/100 [00:00<?, ?it/s]"
      ]
     },
     "metadata": {},
     "output_type": "display_data"
    },
    {
     "data": {
      "text/html": [
       "<pre style=\"white-space:pre;overflow-x:auto;line-height:normal;font-family:Menlo,'DejaVu Sans Mono',consolas,'Courier New',monospace\"><span style=\"color: #008080; text-decoration-color: #008080; font-weight: bold\">2025</span>-<span style=\"color: #008080; text-decoration-color: #008080; font-weight: bold\">02</span>-<span style=\"color: #008080; text-decoration-color: #008080; font-weight: bold\">26</span> <span style=\"color: #00ff00; text-decoration-color: #00ff00; font-weight: bold\">12:25:18</span>,<span style=\"color: #008080; text-decoration-color: #008080; font-weight: bold\">627</span> - <span style=\"font-weight: bold\">{</span>pytorch_tabular.models.gandalf.gandal<span style=\"color: #00ff00; text-decoration-color: #00ff00; font-weight: bold\">f:109</span><span style=\"font-weight: bold\">}</span> - INFO - Data Aware Initialization of T0    \n",
       "</pre>\n"
      ],
      "text/plain": [
       "\u001b[1;36m2025\u001b[0m-\u001b[1;36m02\u001b[0m-\u001b[1;36m26\u001b[0m \u001b[1;92m12:25:18\u001b[0m,\u001b[1;36m627\u001b[0m - \u001b[1m{\u001b[0mpytorch_tabular.models.gandalf.gandal\u001b[1;92mf:109\u001b[0m\u001b[1m}\u001b[0m - INFO - Data Aware Initialization of T0    \n"
      ]
     },
     "metadata": {},
     "output_type": "display_data"
    },
    {
     "data": {
      "text/html": [
       "<pre style=\"white-space:pre;overflow-x:auto;line-height:normal;font-family:Menlo,'DejaVu Sans Mono',consolas,'Courier New',monospace\"><span style=\"color: #008080; text-decoration-color: #008080; font-weight: bold\">2025</span>-<span style=\"color: #008080; text-decoration-color: #008080; font-weight: bold\">02</span>-<span style=\"color: #008080; text-decoration-color: #008080; font-weight: bold\">26</span> <span style=\"color: #00ff00; text-decoration-color: #00ff00; font-weight: bold\">12:25:42</span>,<span style=\"color: #008080; text-decoration-color: #008080; font-weight: bold\">363</span> - <span style=\"font-weight: bold\">{</span>pytorch_tabular.tabular_model_tuner:<span style=\"color: #008080; text-decoration-color: #008080; font-weight: bold\">412</span><span style=\"font-weight: bold\">}</span> - INFO - Trial <span style=\"color: #008080; text-decoration-color: #008080; font-weight: bold\">6</span>/<span style=\"color: #008080; text-decoration-color: #008080; font-weight: bold\">12</span>: <span style=\"font-weight: bold\">{</span><span style=\"color: #008000; text-decoration-color: #008000\">'model'</span>:                 \n",
       "<span style=\"color: #008000; text-decoration-color: #008000\">'1-GANDALFConfig'</span>, <span style=\"color: #008000; text-decoration-color: #008000\">'model_config__gflu_dropout'</span>: <span style=\"color: #008080; text-decoration-color: #008080; font-weight: bold\">0.0</span>, <span style=\"color: #008000; text-decoration-color: #008000\">'model_config__gflu_stages'</span>: <span style=\"color: #008080; text-decoration-color: #008080; font-weight: bold\">15</span>,                             \n",
       "<span style=\"color: #008000; text-decoration-color: #008000\">'optimizer_config__optimizer'</span>: <span style=\"color: #008000; text-decoration-color: #008000\">'AdamW'</span>, <span style=\"color: #008000; text-decoration-color: #008000\">'loss'</span>: <span style=\"color: #008080; text-decoration-color: #008080; font-weight: bold\">3.0703630447387695</span>, <span style=\"color: #008000; text-decoration-color: #008000\">'mean_squared_error'</span>: <span style=\"color: #008080; text-decoration-color: #008080; font-weight: bold\">3.0703630447387695</span>,      \n",
       "<span style=\"color: #008000; text-decoration-color: #008000\">'trial_id'</span>: <span style=\"color: #008080; text-decoration-color: #008080; font-weight: bold\">5</span><span style=\"font-weight: bold\">}</span> | Score: <span style=\"color: #008080; text-decoration-color: #008080; font-weight: bold\">3.0703630447387695</span>                                                                         \n",
       "</pre>\n"
      ],
      "text/plain": [
       "\u001b[1;36m2025\u001b[0m-\u001b[1;36m02\u001b[0m-\u001b[1;36m26\u001b[0m \u001b[1;92m12:25:42\u001b[0m,\u001b[1;36m363\u001b[0m - \u001b[1m{\u001b[0mpytorch_tabular.tabular_model_tuner:\u001b[1;36m412\u001b[0m\u001b[1m}\u001b[0m - INFO - Trial \u001b[1;36m6\u001b[0m/\u001b[1;36m12\u001b[0m: \u001b[1m{\u001b[0m\u001b[32m'model'\u001b[0m:                 \n",
       "\u001b[32m'1-GANDALFConfig'\u001b[0m, \u001b[32m'model_config__gflu_dropout'\u001b[0m: \u001b[1;36m0.0\u001b[0m, \u001b[32m'model_config__gflu_stages'\u001b[0m: \u001b[1;36m15\u001b[0m,                             \n",
       "\u001b[32m'optimizer_config__optimizer'\u001b[0m: \u001b[32m'AdamW'\u001b[0m, \u001b[32m'loss'\u001b[0m: \u001b[1;36m3.0703630447387695\u001b[0m, \u001b[32m'mean_squared_error'\u001b[0m: \u001b[1;36m3.0703630447387695\u001b[0m,      \n",
       "\u001b[32m'trial_id'\u001b[0m: \u001b[1;36m5\u001b[0m\u001b[1m}\u001b[0m | Score: \u001b[1;36m3.0703630447387695\u001b[0m                                                                         \n"
      ]
     },
     "metadata": {},
     "output_type": "display_data"
    },
    {
     "data": {
      "text/html": [
       "<pre style=\"white-space:pre;overflow-x:auto;line-height:normal;font-family:Menlo,'DejaVu Sans Mono',consolas,'Courier New',monospace\"><span style=\"color: #008080; text-decoration-color: #008080; font-weight: bold\">2025</span>-<span style=\"color: #008080; text-decoration-color: #008080; font-weight: bold\">02</span>-<span style=\"color: #008080; text-decoration-color: #008080; font-weight: bold\">26</span> <span style=\"color: #00ff00; text-decoration-color: #00ff00; font-weight: bold\">12:25:42</span>,<span style=\"color: #008080; text-decoration-color: #008080; font-weight: bold\">396</span> - <span style=\"font-weight: bold\">{</span>pytorch_tabular.models.gandalf.gandal<span style=\"color: #00ff00; text-decoration-color: #00ff00; font-weight: bold\">f:109</span><span style=\"font-weight: bold\">}</span> - INFO - Data Aware Initialization of T0    \n",
       "</pre>\n"
      ],
      "text/plain": [
       "\u001b[1;36m2025\u001b[0m-\u001b[1;36m02\u001b[0m-\u001b[1;36m26\u001b[0m \u001b[1;92m12:25:42\u001b[0m,\u001b[1;36m396\u001b[0m - \u001b[1m{\u001b[0mpytorch_tabular.models.gandalf.gandal\u001b[1;92mf:109\u001b[0m\u001b[1m}\u001b[0m - INFO - Data Aware Initialization of T0    \n"
      ]
     },
     "metadata": {},
     "output_type": "display_data"
    },
    {
     "data": {
      "application/vnd.jupyter.widget-view+json": {
       "model_id": "40c29ac86f984a698372a9e486bd78d8",
       "version_major": 2,
       "version_minor": 0
      },
      "text/plain": [
       "Finding best initial lr:   0%|          | 0/100 [00:00<?, ?it/s]"
      ]
     },
     "metadata": {},
     "output_type": "display_data"
    },
    {
     "data": {
      "text/html": [
       "<pre style=\"white-space:pre;overflow-x:auto;line-height:normal;font-family:Menlo,'DejaVu Sans Mono',consolas,'Courier New',monospace\"><span style=\"color: #008080; text-decoration-color: #008080; font-weight: bold\">2025</span>-<span style=\"color: #008080; text-decoration-color: #008080; font-weight: bold\">02</span>-<span style=\"color: #008080; text-decoration-color: #008080; font-weight: bold\">26</span> <span style=\"color: #00ff00; text-decoration-color: #00ff00; font-weight: bold\">12:25:44</span>,<span style=\"color: #008080; text-decoration-color: #008080; font-weight: bold\">353</span> - <span style=\"font-weight: bold\">{</span>pytorch_tabular.models.gandalf.gandal<span style=\"color: #00ff00; text-decoration-color: #00ff00; font-weight: bold\">f:109</span><span style=\"font-weight: bold\">}</span> - INFO - Data Aware Initialization of T0    \n",
       "</pre>\n"
      ],
      "text/plain": [
       "\u001b[1;36m2025\u001b[0m-\u001b[1;36m02\u001b[0m-\u001b[1;36m26\u001b[0m \u001b[1;92m12:25:44\u001b[0m,\u001b[1;36m353\u001b[0m - \u001b[1m{\u001b[0mpytorch_tabular.models.gandalf.gandal\u001b[1;92mf:109\u001b[0m\u001b[1m}\u001b[0m - INFO - Data Aware Initialization of T0    \n"
      ]
     },
     "metadata": {},
     "output_type": "display_data"
    },
    {
     "data": {
      "text/html": [
       "<pre style=\"white-space:pre;overflow-x:auto;line-height:normal;font-family:Menlo,'DejaVu Sans Mono',consolas,'Courier New',monospace\"><span style=\"color: #008080; text-decoration-color: #008080; font-weight: bold\">2025</span>-<span style=\"color: #008080; text-decoration-color: #008080; font-weight: bold\">02</span>-<span style=\"color: #008080; text-decoration-color: #008080; font-weight: bold\">26</span> <span style=\"color: #00ff00; text-decoration-color: #00ff00; font-weight: bold\">12:26:10</span>,<span style=\"color: #008080; text-decoration-color: #008080; font-weight: bold\">075</span> - <span style=\"font-weight: bold\">{</span>pytorch_tabular.tabular_model_tuner:<span style=\"color: #008080; text-decoration-color: #008080; font-weight: bold\">412</span><span style=\"font-weight: bold\">}</span> - INFO - Trial <span style=\"color: #008080; text-decoration-color: #008080; font-weight: bold\">7</span>/<span style=\"color: #008080; text-decoration-color: #008080; font-weight: bold\">12</span>: <span style=\"font-weight: bold\">{</span><span style=\"color: #008000; text-decoration-color: #008000\">'model'</span>:                 \n",
       "<span style=\"color: #008000; text-decoration-color: #008000\">'1-GANDALFConfig'</span>, <span style=\"color: #008000; text-decoration-color: #008000\">'model_config__gflu_dropout'</span>: <span style=\"color: #008080; text-decoration-color: #008080; font-weight: bold\">0.2</span>, <span style=\"color: #008000; text-decoration-color: #008000\">'model_config__gflu_stages'</span>: <span style=\"color: #008080; text-decoration-color: #008080; font-weight: bold\">6</span>,                              \n",
       "<span style=\"color: #008000; text-decoration-color: #008000\">'optimizer_config__optimizer'</span>: <span style=\"color: #008000; text-decoration-color: #008000\">'Adam'</span>, <span style=\"color: #008000; text-decoration-color: #008000\">'loss'</span>: <span style=\"color: #008080; text-decoration-color: #008080; font-weight: bold\">2.352170944213867</span>, <span style=\"color: #008000; text-decoration-color: #008000\">'mean_squared_error'</span>: <span style=\"color: #008080; text-decoration-color: #008080; font-weight: bold\">2.352170944213867</span>,         \n",
       "<span style=\"color: #008000; text-decoration-color: #008000\">'trial_id'</span>: <span style=\"color: #008080; text-decoration-color: #008080; font-weight: bold\">6</span><span style=\"font-weight: bold\">}</span> | Score: <span style=\"color: #008080; text-decoration-color: #008080; font-weight: bold\">2.352170944213867</span>                                                                          \n",
       "</pre>\n"
      ],
      "text/plain": [
       "\u001b[1;36m2025\u001b[0m-\u001b[1;36m02\u001b[0m-\u001b[1;36m26\u001b[0m \u001b[1;92m12:26:10\u001b[0m,\u001b[1;36m075\u001b[0m - \u001b[1m{\u001b[0mpytorch_tabular.tabular_model_tuner:\u001b[1;36m412\u001b[0m\u001b[1m}\u001b[0m - INFO - Trial \u001b[1;36m7\u001b[0m/\u001b[1;36m12\u001b[0m: \u001b[1m{\u001b[0m\u001b[32m'model'\u001b[0m:                 \n",
       "\u001b[32m'1-GANDALFConfig'\u001b[0m, \u001b[32m'model_config__gflu_dropout'\u001b[0m: \u001b[1;36m0.2\u001b[0m, \u001b[32m'model_config__gflu_stages'\u001b[0m: \u001b[1;36m6\u001b[0m,                              \n",
       "\u001b[32m'optimizer_config__optimizer'\u001b[0m: \u001b[32m'Adam'\u001b[0m, \u001b[32m'loss'\u001b[0m: \u001b[1;36m2.352170944213867\u001b[0m, \u001b[32m'mean_squared_error'\u001b[0m: \u001b[1;36m2.352170944213867\u001b[0m,         \n",
       "\u001b[32m'trial_id'\u001b[0m: \u001b[1;36m6\u001b[0m\u001b[1m}\u001b[0m | Score: \u001b[1;36m2.352170944213867\u001b[0m                                                                          \n"
      ]
     },
     "metadata": {},
     "output_type": "display_data"
    },
    {
     "data": {
      "text/html": [
       "<pre style=\"white-space:pre;overflow-x:auto;line-height:normal;font-family:Menlo,'DejaVu Sans Mono',consolas,'Courier New',monospace\"><span style=\"color: #008080; text-decoration-color: #008080; font-weight: bold\">2025</span>-<span style=\"color: #008080; text-decoration-color: #008080; font-weight: bold\">02</span>-<span style=\"color: #008080; text-decoration-color: #008080; font-weight: bold\">26</span> <span style=\"color: #00ff00; text-decoration-color: #00ff00; font-weight: bold\">12:26:10</span>,<span style=\"color: #008080; text-decoration-color: #008080; font-weight: bold\">109</span> - <span style=\"font-weight: bold\">{</span>pytorch_tabular.models.gandalf.gandal<span style=\"color: #00ff00; text-decoration-color: #00ff00; font-weight: bold\">f:109</span><span style=\"font-weight: bold\">}</span> - INFO - Data Aware Initialization of T0    \n",
       "</pre>\n"
      ],
      "text/plain": [
       "\u001b[1;36m2025\u001b[0m-\u001b[1;36m02\u001b[0m-\u001b[1;36m26\u001b[0m \u001b[1;92m12:26:10\u001b[0m,\u001b[1;36m109\u001b[0m - \u001b[1m{\u001b[0mpytorch_tabular.models.gandalf.gandal\u001b[1;92mf:109\u001b[0m\u001b[1m}\u001b[0m - INFO - Data Aware Initialization of T0    \n"
      ]
     },
     "metadata": {},
     "output_type": "display_data"
    },
    {
     "data": {
      "application/vnd.jupyter.widget-view+json": {
       "model_id": "9afbf487e55342b5a55638cabc884f9c",
       "version_major": 2,
       "version_minor": 0
      },
      "text/plain": [
       "Finding best initial lr:   0%|          | 0/100 [00:00<?, ?it/s]"
      ]
     },
     "metadata": {},
     "output_type": "display_data"
    },
    {
     "data": {
      "text/html": [
       "<pre style=\"white-space:pre;overflow-x:auto;line-height:normal;font-family:Menlo,'DejaVu Sans Mono',consolas,'Courier New',monospace\"><span style=\"color: #008080; text-decoration-color: #008080; font-weight: bold\">2025</span>-<span style=\"color: #008080; text-decoration-color: #008080; font-weight: bold\">02</span>-<span style=\"color: #008080; text-decoration-color: #008080; font-weight: bold\">26</span> <span style=\"color: #00ff00; text-decoration-color: #00ff00; font-weight: bold\">12:26:12</span>,<span style=\"color: #008080; text-decoration-color: #008080; font-weight: bold\">095</span> - <span style=\"font-weight: bold\">{</span>pytorch_tabular.models.gandalf.gandal<span style=\"color: #00ff00; text-decoration-color: #00ff00; font-weight: bold\">f:109</span><span style=\"font-weight: bold\">}</span> - INFO - Data Aware Initialization of T0    \n",
       "</pre>\n"
      ],
      "text/plain": [
       "\u001b[1;36m2025\u001b[0m-\u001b[1;36m02\u001b[0m-\u001b[1;36m26\u001b[0m \u001b[1;92m12:26:12\u001b[0m,\u001b[1;36m095\u001b[0m - \u001b[1m{\u001b[0mpytorch_tabular.models.gandalf.gandal\u001b[1;92mf:109\u001b[0m\u001b[1m}\u001b[0m - INFO - Data Aware Initialization of T0    \n"
      ]
     },
     "metadata": {},
     "output_type": "display_data"
    },
    {
     "data": {
      "text/html": [
       "<pre style=\"white-space:pre;overflow-x:auto;line-height:normal;font-family:Menlo,'DejaVu Sans Mono',consolas,'Courier New',monospace\"><span style=\"color: #008080; text-decoration-color: #008080; font-weight: bold\">2025</span>-<span style=\"color: #008080; text-decoration-color: #008080; font-weight: bold\">02</span>-<span style=\"color: #008080; text-decoration-color: #008080; font-weight: bold\">26</span> <span style=\"color: #00ff00; text-decoration-color: #00ff00; font-weight: bold\">12:27:59</span>,<span style=\"color: #008080; text-decoration-color: #008080; font-weight: bold\">103</span> - <span style=\"font-weight: bold\">{</span>pytorch_tabular.tabular_model_tuner:<span style=\"color: #008080; text-decoration-color: #008080; font-weight: bold\">412</span><span style=\"font-weight: bold\">}</span> - INFO - Trial <span style=\"color: #008080; text-decoration-color: #008080; font-weight: bold\">8</span>/<span style=\"color: #008080; text-decoration-color: #008080; font-weight: bold\">12</span>: <span style=\"font-weight: bold\">{</span><span style=\"color: #008000; text-decoration-color: #008000\">'model'</span>:                 \n",
       "<span style=\"color: #008000; text-decoration-color: #008000\">'1-GANDALFConfig'</span>, <span style=\"color: #008000; text-decoration-color: #008000\">'model_config__gflu_dropout'</span>: <span style=\"color: #008080; text-decoration-color: #008080; font-weight: bold\">0.2</span>, <span style=\"color: #008000; text-decoration-color: #008000\">'model_config__gflu_stages'</span>: <span style=\"color: #008080; text-decoration-color: #008080; font-weight: bold\">6</span>,                              \n",
       "<span style=\"color: #008000; text-decoration-color: #008000\">'optimizer_config__optimizer'</span>: <span style=\"color: #008000; text-decoration-color: #008000\">'AdamW'</span>, <span style=\"color: #008000; text-decoration-color: #008000\">'loss'</span>: <span style=\"color: #008080; text-decoration-color: #008080; font-weight: bold\">23.284923553466797</span>, <span style=\"color: #008000; text-decoration-color: #008000\">'mean_squared_error'</span>: <span style=\"color: #008080; text-decoration-color: #008080; font-weight: bold\">23.284923553466797</span>,      \n",
       "<span style=\"color: #008000; text-decoration-color: #008000\">'trial_id'</span>: <span style=\"color: #008080; text-decoration-color: #008080; font-weight: bold\">7</span><span style=\"font-weight: bold\">}</span> | Score: <span style=\"color: #008080; text-decoration-color: #008080; font-weight: bold\">23.284923553466797</span>                                                                         \n",
       "</pre>\n"
      ],
      "text/plain": [
       "\u001b[1;36m2025\u001b[0m-\u001b[1;36m02\u001b[0m-\u001b[1;36m26\u001b[0m \u001b[1;92m12:27:59\u001b[0m,\u001b[1;36m103\u001b[0m - \u001b[1m{\u001b[0mpytorch_tabular.tabular_model_tuner:\u001b[1;36m412\u001b[0m\u001b[1m}\u001b[0m - INFO - Trial \u001b[1;36m8\u001b[0m/\u001b[1;36m12\u001b[0m: \u001b[1m{\u001b[0m\u001b[32m'model'\u001b[0m:                 \n",
       "\u001b[32m'1-GANDALFConfig'\u001b[0m, \u001b[32m'model_config__gflu_dropout'\u001b[0m: \u001b[1;36m0.2\u001b[0m, \u001b[32m'model_config__gflu_stages'\u001b[0m: \u001b[1;36m6\u001b[0m,                              \n",
       "\u001b[32m'optimizer_config__optimizer'\u001b[0m: \u001b[32m'AdamW'\u001b[0m, \u001b[32m'loss'\u001b[0m: \u001b[1;36m23.284923553466797\u001b[0m, \u001b[32m'mean_squared_error'\u001b[0m: \u001b[1;36m23.284923553466797\u001b[0m,      \n",
       "\u001b[32m'trial_id'\u001b[0m: \u001b[1;36m7\u001b[0m\u001b[1m}\u001b[0m | Score: \u001b[1;36m23.284923553466797\u001b[0m                                                                         \n"
      ]
     },
     "metadata": {},
     "output_type": "display_data"
    },
    {
     "data": {
      "text/html": [
       "<pre style=\"white-space:pre;overflow-x:auto;line-height:normal;font-family:Menlo,'DejaVu Sans Mono',consolas,'Courier New',monospace\"><span style=\"color: #008080; text-decoration-color: #008080; font-weight: bold\">2025</span>-<span style=\"color: #008080; text-decoration-color: #008080; font-weight: bold\">02</span>-<span style=\"color: #008080; text-decoration-color: #008080; font-weight: bold\">26</span> <span style=\"color: #00ff00; text-decoration-color: #00ff00; font-weight: bold\">12:27:59</span>,<span style=\"color: #008080; text-decoration-color: #008080; font-weight: bold\">137</span> - <span style=\"font-weight: bold\">{</span>pytorch_tabular.models.gandalf.gandal<span style=\"color: #00ff00; text-decoration-color: #00ff00; font-weight: bold\">f:109</span><span style=\"font-weight: bold\">}</span> - INFO - Data Aware Initialization of T0    \n",
       "</pre>\n"
      ],
      "text/plain": [
       "\u001b[1;36m2025\u001b[0m-\u001b[1;36m02\u001b[0m-\u001b[1;36m26\u001b[0m \u001b[1;92m12:27:59\u001b[0m,\u001b[1;36m137\u001b[0m - \u001b[1m{\u001b[0mpytorch_tabular.models.gandalf.gandal\u001b[1;92mf:109\u001b[0m\u001b[1m}\u001b[0m - INFO - Data Aware Initialization of T0    \n"
      ]
     },
     "metadata": {},
     "output_type": "display_data"
    },
    {
     "data": {
      "application/vnd.jupyter.widget-view+json": {
       "model_id": "e58bbded0fdb4e4a835ba84ccdeaa5f0",
       "version_major": 2,
       "version_minor": 0
      },
      "text/plain": [
       "Finding best initial lr:   0%|          | 0/100 [00:00<?, ?it/s]"
      ]
     },
     "metadata": {},
     "output_type": "display_data"
    },
    {
     "data": {
      "text/html": [
       "<pre style=\"white-space:pre;overflow-x:auto;line-height:normal;font-family:Menlo,'DejaVu Sans Mono',consolas,'Courier New',monospace\"><span style=\"color: #008080; text-decoration-color: #008080; font-weight: bold\">2025</span>-<span style=\"color: #008080; text-decoration-color: #008080; font-weight: bold\">02</span>-<span style=\"color: #008080; text-decoration-color: #008080; font-weight: bold\">26</span> <span style=\"color: #00ff00; text-decoration-color: #00ff00; font-weight: bold\">12:28:01</span>,<span style=\"color: #008080; text-decoration-color: #008080; font-weight: bold\">447</span> - <span style=\"font-weight: bold\">{</span>pytorch_tabular.models.gandalf.gandal<span style=\"color: #00ff00; text-decoration-color: #00ff00; font-weight: bold\">f:109</span><span style=\"font-weight: bold\">}</span> - INFO - Data Aware Initialization of T0    \n",
       "</pre>\n"
      ],
      "text/plain": [
       "\u001b[1;36m2025\u001b[0m-\u001b[1;36m02\u001b[0m-\u001b[1;36m26\u001b[0m \u001b[1;92m12:28:01\u001b[0m,\u001b[1;36m447\u001b[0m - \u001b[1m{\u001b[0mpytorch_tabular.models.gandalf.gandal\u001b[1;92mf:109\u001b[0m\u001b[1m}\u001b[0m - INFO - Data Aware Initialization of T0    \n"
      ]
     },
     "metadata": {},
     "output_type": "display_data"
    },
    {
     "data": {
      "text/html": [
       "<pre style=\"white-space:pre;overflow-x:auto;line-height:normal;font-family:Menlo,'DejaVu Sans Mono',consolas,'Courier New',monospace\"><span style=\"color: #008080; text-decoration-color: #008080; font-weight: bold\">2025</span>-<span style=\"color: #008080; text-decoration-color: #008080; font-weight: bold\">02</span>-<span style=\"color: #008080; text-decoration-color: #008080; font-weight: bold\">26</span> <span style=\"color: #00ff00; text-decoration-color: #00ff00; font-weight: bold\">12:28:23</span>,<span style=\"color: #008080; text-decoration-color: #008080; font-weight: bold\">173</span> - <span style=\"font-weight: bold\">{</span>pytorch_tabular.tabular_model_tuner:<span style=\"color: #008080; text-decoration-color: #008080; font-weight: bold\">412</span><span style=\"font-weight: bold\">}</span> - INFO - Trial <span style=\"color: #008080; text-decoration-color: #008080; font-weight: bold\">9</span>/<span style=\"color: #008080; text-decoration-color: #008080; font-weight: bold\">12</span>: <span style=\"font-weight: bold\">{</span><span style=\"color: #008000; text-decoration-color: #008000\">'model'</span>:                 \n",
       "<span style=\"color: #008000; text-decoration-color: #008000\">'1-GANDALFConfig'</span>, <span style=\"color: #008000; text-decoration-color: #008000\">'model_config__gflu_dropout'</span>: <span style=\"color: #008080; text-decoration-color: #008080; font-weight: bold\">0.2</span>, <span style=\"color: #008000; text-decoration-color: #008000\">'model_config__gflu_stages'</span>: <span style=\"color: #008080; text-decoration-color: #008080; font-weight: bold\">12</span>,                             \n",
       "<span style=\"color: #008000; text-decoration-color: #008000\">'optimizer_config__optimizer'</span>: <span style=\"color: #008000; text-decoration-color: #008000\">'Adam'</span>, <span style=\"color: #008000; text-decoration-color: #008000\">'loss'</span>: <span style=\"color: #008080; text-decoration-color: #008080; font-weight: bold\">2.3858566284179688</span>, <span style=\"color: #008000; text-decoration-color: #008000\">'mean_squared_error'</span>: <span style=\"color: #008080; text-decoration-color: #008080; font-weight: bold\">2.3858566284179688</span>,       \n",
       "<span style=\"color: #008000; text-decoration-color: #008000\">'trial_id'</span>: <span style=\"color: #008080; text-decoration-color: #008080; font-weight: bold\">8</span><span style=\"font-weight: bold\">}</span> | Score: <span style=\"color: #008080; text-decoration-color: #008080; font-weight: bold\">2.3858566284179688</span>                                                                         \n",
       "</pre>\n"
      ],
      "text/plain": [
       "\u001b[1;36m2025\u001b[0m-\u001b[1;36m02\u001b[0m-\u001b[1;36m26\u001b[0m \u001b[1;92m12:28:23\u001b[0m,\u001b[1;36m173\u001b[0m - \u001b[1m{\u001b[0mpytorch_tabular.tabular_model_tuner:\u001b[1;36m412\u001b[0m\u001b[1m}\u001b[0m - INFO - Trial \u001b[1;36m9\u001b[0m/\u001b[1;36m12\u001b[0m: \u001b[1m{\u001b[0m\u001b[32m'model'\u001b[0m:                 \n",
       "\u001b[32m'1-GANDALFConfig'\u001b[0m, \u001b[32m'model_config__gflu_dropout'\u001b[0m: \u001b[1;36m0.2\u001b[0m, \u001b[32m'model_config__gflu_stages'\u001b[0m: \u001b[1;36m12\u001b[0m,                             \n",
       "\u001b[32m'optimizer_config__optimizer'\u001b[0m: \u001b[32m'Adam'\u001b[0m, \u001b[32m'loss'\u001b[0m: \u001b[1;36m2.3858566284179688\u001b[0m, \u001b[32m'mean_squared_error'\u001b[0m: \u001b[1;36m2.3858566284179688\u001b[0m,       \n",
       "\u001b[32m'trial_id'\u001b[0m: \u001b[1;36m8\u001b[0m\u001b[1m}\u001b[0m | Score: \u001b[1;36m2.3858566284179688\u001b[0m                                                                         \n"
      ]
     },
     "metadata": {},
     "output_type": "display_data"
    },
    {
     "data": {
      "text/html": [
       "<pre style=\"white-space:pre;overflow-x:auto;line-height:normal;font-family:Menlo,'DejaVu Sans Mono',consolas,'Courier New',monospace\"><span style=\"color: #008080; text-decoration-color: #008080; font-weight: bold\">2025</span>-<span style=\"color: #008080; text-decoration-color: #008080; font-weight: bold\">02</span>-<span style=\"color: #008080; text-decoration-color: #008080; font-weight: bold\">26</span> <span style=\"color: #00ff00; text-decoration-color: #00ff00; font-weight: bold\">12:28:23</span>,<span style=\"color: #008080; text-decoration-color: #008080; font-weight: bold\">203</span> - <span style=\"font-weight: bold\">{</span>pytorch_tabular.models.gandalf.gandal<span style=\"color: #00ff00; text-decoration-color: #00ff00; font-weight: bold\">f:109</span><span style=\"font-weight: bold\">}</span> - INFO - Data Aware Initialization of T0    \n",
       "</pre>\n"
      ],
      "text/plain": [
       "\u001b[1;36m2025\u001b[0m-\u001b[1;36m02\u001b[0m-\u001b[1;36m26\u001b[0m \u001b[1;92m12:28:23\u001b[0m,\u001b[1;36m203\u001b[0m - \u001b[1m{\u001b[0mpytorch_tabular.models.gandalf.gandal\u001b[1;92mf:109\u001b[0m\u001b[1m}\u001b[0m - INFO - Data Aware Initialization of T0    \n"
      ]
     },
     "metadata": {},
     "output_type": "display_data"
    },
    {
     "data": {
      "application/vnd.jupyter.widget-view+json": {
       "model_id": "de93c6410fc34623aa612ec8a1d9ac81",
       "version_major": 2,
       "version_minor": 0
      },
      "text/plain": [
       "Finding best initial lr:   0%|          | 0/100 [00:00<?, ?it/s]"
      ]
     },
     "metadata": {},
     "output_type": "display_data"
    },
    {
     "data": {
      "text/html": [
       "<pre style=\"white-space:pre;overflow-x:auto;line-height:normal;font-family:Menlo,'DejaVu Sans Mono',consolas,'Courier New',monospace\"><span style=\"color: #008080; text-decoration-color: #008080; font-weight: bold\">2025</span>-<span style=\"color: #008080; text-decoration-color: #008080; font-weight: bold\">02</span>-<span style=\"color: #008080; text-decoration-color: #008080; font-weight: bold\">26</span> <span style=\"color: #00ff00; text-decoration-color: #00ff00; font-weight: bold\">12:28:25</span>,<span style=\"color: #008080; text-decoration-color: #008080; font-weight: bold\">469</span> - <span style=\"font-weight: bold\">{</span>pytorch_tabular.models.gandalf.gandal<span style=\"color: #00ff00; text-decoration-color: #00ff00; font-weight: bold\">f:109</span><span style=\"font-weight: bold\">}</span> - INFO - Data Aware Initialization of T0    \n",
       "</pre>\n"
      ],
      "text/plain": [
       "\u001b[1;36m2025\u001b[0m-\u001b[1;36m02\u001b[0m-\u001b[1;36m26\u001b[0m \u001b[1;92m12:28:25\u001b[0m,\u001b[1;36m469\u001b[0m - \u001b[1m{\u001b[0mpytorch_tabular.models.gandalf.gandal\u001b[1;92mf:109\u001b[0m\u001b[1m}\u001b[0m - INFO - Data Aware Initialization of T0    \n"
      ]
     },
     "metadata": {},
     "output_type": "display_data"
    },
    {
     "data": {
      "text/html": [
       "<pre style=\"white-space:pre;overflow-x:auto;line-height:normal;font-family:Menlo,'DejaVu Sans Mono',consolas,'Courier New',monospace\"><span style=\"color: #008080; text-decoration-color: #008080; font-weight: bold\">2025</span>-<span style=\"color: #008080; text-decoration-color: #008080; font-weight: bold\">02</span>-<span style=\"color: #008080; text-decoration-color: #008080; font-weight: bold\">26</span> <span style=\"color: #00ff00; text-decoration-color: #00ff00; font-weight: bold\">12:28:47</span>,<span style=\"color: #008080; text-decoration-color: #008080; font-weight: bold\">265</span> - <span style=\"font-weight: bold\">{</span>pytorch_tabular.tabular_model_tuner:<span style=\"color: #008080; text-decoration-color: #008080; font-weight: bold\">412</span><span style=\"font-weight: bold\">}</span> - INFO - Trial <span style=\"color: #008080; text-decoration-color: #008080; font-weight: bold\">10</span>/<span style=\"color: #008080; text-decoration-color: #008080; font-weight: bold\">12</span>: <span style=\"font-weight: bold\">{</span><span style=\"color: #008000; text-decoration-color: #008000\">'model'</span>:                \n",
       "<span style=\"color: #008000; text-decoration-color: #008000\">'1-GANDALFConfig'</span>, <span style=\"color: #008000; text-decoration-color: #008000\">'model_config__gflu_dropout'</span>: <span style=\"color: #008080; text-decoration-color: #008080; font-weight: bold\">0.2</span>, <span style=\"color: #008000; text-decoration-color: #008000\">'model_config__gflu_stages'</span>: <span style=\"color: #008080; text-decoration-color: #008080; font-weight: bold\">12</span>,                             \n",
       "<span style=\"color: #008000; text-decoration-color: #008000\">'optimizer_config__optimizer'</span>: <span style=\"color: #008000; text-decoration-color: #008000\">'AdamW'</span>, <span style=\"color: #008000; text-decoration-color: #008000\">'loss'</span>: <span style=\"color: #008080; text-decoration-color: #008080; font-weight: bold\">23.464651107788086</span>, <span style=\"color: #008000; text-decoration-color: #008000\">'mean_squared_error'</span>: <span style=\"color: #008080; text-decoration-color: #008080; font-weight: bold\">23.464651107788086</span>,      \n",
       "<span style=\"color: #008000; text-decoration-color: #008000\">'trial_id'</span>: <span style=\"color: #008080; text-decoration-color: #008080; font-weight: bold\">9</span><span style=\"font-weight: bold\">}</span> | Score: <span style=\"color: #008080; text-decoration-color: #008080; font-weight: bold\">23.464651107788086</span>                                                                         \n",
       "</pre>\n"
      ],
      "text/plain": [
       "\u001b[1;36m2025\u001b[0m-\u001b[1;36m02\u001b[0m-\u001b[1;36m26\u001b[0m \u001b[1;92m12:28:47\u001b[0m,\u001b[1;36m265\u001b[0m - \u001b[1m{\u001b[0mpytorch_tabular.tabular_model_tuner:\u001b[1;36m412\u001b[0m\u001b[1m}\u001b[0m - INFO - Trial \u001b[1;36m10\u001b[0m/\u001b[1;36m12\u001b[0m: \u001b[1m{\u001b[0m\u001b[32m'model'\u001b[0m:                \n",
       "\u001b[32m'1-GANDALFConfig'\u001b[0m, \u001b[32m'model_config__gflu_dropout'\u001b[0m: \u001b[1;36m0.2\u001b[0m, \u001b[32m'model_config__gflu_stages'\u001b[0m: \u001b[1;36m12\u001b[0m,                             \n",
       "\u001b[32m'optimizer_config__optimizer'\u001b[0m: \u001b[32m'AdamW'\u001b[0m, \u001b[32m'loss'\u001b[0m: \u001b[1;36m23.464651107788086\u001b[0m, \u001b[32m'mean_squared_error'\u001b[0m: \u001b[1;36m23.464651107788086\u001b[0m,      \n",
       "\u001b[32m'trial_id'\u001b[0m: \u001b[1;36m9\u001b[0m\u001b[1m}\u001b[0m | Score: \u001b[1;36m23.464651107788086\u001b[0m                                                                         \n"
      ]
     },
     "metadata": {},
     "output_type": "display_data"
    },
    {
     "data": {
      "text/html": [
       "<pre style=\"white-space:pre;overflow-x:auto;line-height:normal;font-family:Menlo,'DejaVu Sans Mono',consolas,'Courier New',monospace\"><span style=\"color: #008080; text-decoration-color: #008080; font-weight: bold\">2025</span>-<span style=\"color: #008080; text-decoration-color: #008080; font-weight: bold\">02</span>-<span style=\"color: #008080; text-decoration-color: #008080; font-weight: bold\">26</span> <span style=\"color: #00ff00; text-decoration-color: #00ff00; font-weight: bold\">12:28:47</span>,<span style=\"color: #008080; text-decoration-color: #008080; font-weight: bold\">296</span> - <span style=\"font-weight: bold\">{</span>pytorch_tabular.models.gandalf.gandal<span style=\"color: #00ff00; text-decoration-color: #00ff00; font-weight: bold\">f:109</span><span style=\"font-weight: bold\">}</span> - INFO - Data Aware Initialization of T0    \n",
       "</pre>\n"
      ],
      "text/plain": [
       "\u001b[1;36m2025\u001b[0m-\u001b[1;36m02\u001b[0m-\u001b[1;36m26\u001b[0m \u001b[1;92m12:28:47\u001b[0m,\u001b[1;36m296\u001b[0m - \u001b[1m{\u001b[0mpytorch_tabular.models.gandalf.gandal\u001b[1;92mf:109\u001b[0m\u001b[1m}\u001b[0m - INFO - Data Aware Initialization of T0    \n"
      ]
     },
     "metadata": {},
     "output_type": "display_data"
    },
    {
     "data": {
      "application/vnd.jupyter.widget-view+json": {
       "model_id": "dd16039d68f341b2b3733632b80dd46c",
       "version_major": 2,
       "version_minor": 0
      },
      "text/plain": [
       "Finding best initial lr:   0%|          | 0/100 [00:00<?, ?it/s]"
      ]
     },
     "metadata": {},
     "output_type": "display_data"
    },
    {
     "data": {
      "text/html": [
       "<pre style=\"white-space:pre;overflow-x:auto;line-height:normal;font-family:Menlo,'DejaVu Sans Mono',consolas,'Courier New',monospace\"><span style=\"color: #008080; text-decoration-color: #008080; font-weight: bold\">2025</span>-<span style=\"color: #008080; text-decoration-color: #008080; font-weight: bold\">02</span>-<span style=\"color: #008080; text-decoration-color: #008080; font-weight: bold\">26</span> <span style=\"color: #00ff00; text-decoration-color: #00ff00; font-weight: bold\">12:28:49</span>,<span style=\"color: #008080; text-decoration-color: #008080; font-weight: bold\">766</span> - <span style=\"font-weight: bold\">{</span>pytorch_tabular.models.gandalf.gandal<span style=\"color: #00ff00; text-decoration-color: #00ff00; font-weight: bold\">f:109</span><span style=\"font-weight: bold\">}</span> - INFO - Data Aware Initialization of T0    \n",
       "</pre>\n"
      ],
      "text/plain": [
       "\u001b[1;36m2025\u001b[0m-\u001b[1;36m02\u001b[0m-\u001b[1;36m26\u001b[0m \u001b[1;92m12:28:49\u001b[0m,\u001b[1;36m766\u001b[0m - \u001b[1m{\u001b[0mpytorch_tabular.models.gandalf.gandal\u001b[1;92mf:109\u001b[0m\u001b[1m}\u001b[0m - INFO - Data Aware Initialization of T0    \n"
      ]
     },
     "metadata": {},
     "output_type": "display_data"
    },
    {
     "data": {
      "text/html": [
       "<pre style=\"white-space:pre;overflow-x:auto;line-height:normal;font-family:Menlo,'DejaVu Sans Mono',consolas,'Courier New',monospace\"><span style=\"color: #008080; text-decoration-color: #008080; font-weight: bold\">2025</span>-<span style=\"color: #008080; text-decoration-color: #008080; font-weight: bold\">02</span>-<span style=\"color: #008080; text-decoration-color: #008080; font-weight: bold\">26</span> <span style=\"color: #00ff00; text-decoration-color: #00ff00; font-weight: bold\">12:29:15</span>,<span style=\"color: #008080; text-decoration-color: #008080; font-weight: bold\">760</span> - <span style=\"font-weight: bold\">{</span>pytorch_tabular.tabular_model_tuner:<span style=\"color: #008080; text-decoration-color: #008080; font-weight: bold\">412</span><span style=\"font-weight: bold\">}</span> - INFO - Trial <span style=\"color: #008080; text-decoration-color: #008080; font-weight: bold\">11</span>/<span style=\"color: #008080; text-decoration-color: #008080; font-weight: bold\">12</span>: <span style=\"font-weight: bold\">{</span><span style=\"color: #008000; text-decoration-color: #008000\">'model'</span>:                \n",
       "<span style=\"color: #008000; text-decoration-color: #008000\">'1-GANDALFConfig'</span>, <span style=\"color: #008000; text-decoration-color: #008000\">'model_config__gflu_dropout'</span>: <span style=\"color: #008080; text-decoration-color: #008080; font-weight: bold\">0.2</span>, <span style=\"color: #008000; text-decoration-color: #008000\">'model_config__gflu_stages'</span>: <span style=\"color: #008080; text-decoration-color: #008080; font-weight: bold\">15</span>,                             \n",
       "<span style=\"color: #008000; text-decoration-color: #008000\">'optimizer_config__optimizer'</span>: <span style=\"color: #008000; text-decoration-color: #008000\">'Adam'</span>, <span style=\"color: #008000; text-decoration-color: #008000\">'loss'</span>: <span style=\"color: #008080; text-decoration-color: #008080; font-weight: bold\">2.1676628589630127</span>, <span style=\"color: #008000; text-decoration-color: #008000\">'mean_squared_error'</span>: <span style=\"color: #008080; text-decoration-color: #008080; font-weight: bold\">2.1676628589630127</span>,       \n",
       "<span style=\"color: #008000; text-decoration-color: #008000\">'trial_id'</span>: <span style=\"color: #008080; text-decoration-color: #008080; font-weight: bold\">10</span><span style=\"font-weight: bold\">}</span> | Score: <span style=\"color: #008080; text-decoration-color: #008080; font-weight: bold\">2.1676628589630127</span>                                                                        \n",
       "</pre>\n"
      ],
      "text/plain": [
       "\u001b[1;36m2025\u001b[0m-\u001b[1;36m02\u001b[0m-\u001b[1;36m26\u001b[0m \u001b[1;92m12:29:15\u001b[0m,\u001b[1;36m760\u001b[0m - \u001b[1m{\u001b[0mpytorch_tabular.tabular_model_tuner:\u001b[1;36m412\u001b[0m\u001b[1m}\u001b[0m - INFO - Trial \u001b[1;36m11\u001b[0m/\u001b[1;36m12\u001b[0m: \u001b[1m{\u001b[0m\u001b[32m'model'\u001b[0m:                \n",
       "\u001b[32m'1-GANDALFConfig'\u001b[0m, \u001b[32m'model_config__gflu_dropout'\u001b[0m: \u001b[1;36m0.2\u001b[0m, \u001b[32m'model_config__gflu_stages'\u001b[0m: \u001b[1;36m15\u001b[0m,                             \n",
       "\u001b[32m'optimizer_config__optimizer'\u001b[0m: \u001b[32m'Adam'\u001b[0m, \u001b[32m'loss'\u001b[0m: \u001b[1;36m2.1676628589630127\u001b[0m, \u001b[32m'mean_squared_error'\u001b[0m: \u001b[1;36m2.1676628589630127\u001b[0m,       \n",
       "\u001b[32m'trial_id'\u001b[0m: \u001b[1;36m10\u001b[0m\u001b[1m}\u001b[0m | Score: \u001b[1;36m2.1676628589630127\u001b[0m                                                                        \n"
      ]
     },
     "metadata": {},
     "output_type": "display_data"
    },
    {
     "data": {
      "text/html": [
       "<pre style=\"white-space:pre;overflow-x:auto;line-height:normal;font-family:Menlo,'DejaVu Sans Mono',consolas,'Courier New',monospace\"><span style=\"color: #008080; text-decoration-color: #008080; font-weight: bold\">2025</span>-<span style=\"color: #008080; text-decoration-color: #008080; font-weight: bold\">02</span>-<span style=\"color: #008080; text-decoration-color: #008080; font-weight: bold\">26</span> <span style=\"color: #00ff00; text-decoration-color: #00ff00; font-weight: bold\">12:29:15</span>,<span style=\"color: #008080; text-decoration-color: #008080; font-weight: bold\">795</span> - <span style=\"font-weight: bold\">{</span>pytorch_tabular.models.gandalf.gandal<span style=\"color: #00ff00; text-decoration-color: #00ff00; font-weight: bold\">f:109</span><span style=\"font-weight: bold\">}</span> - INFO - Data Aware Initialization of T0    \n",
       "</pre>\n"
      ],
      "text/plain": [
       "\u001b[1;36m2025\u001b[0m-\u001b[1;36m02\u001b[0m-\u001b[1;36m26\u001b[0m \u001b[1;92m12:29:15\u001b[0m,\u001b[1;36m795\u001b[0m - \u001b[1m{\u001b[0mpytorch_tabular.models.gandalf.gandal\u001b[1;92mf:109\u001b[0m\u001b[1m}\u001b[0m - INFO - Data Aware Initialization of T0    \n"
      ]
     },
     "metadata": {},
     "output_type": "display_data"
    },
    {
     "data": {
      "application/vnd.jupyter.widget-view+json": {
       "model_id": "36a25044cc164620bb43d50f3579ee96",
       "version_major": 2,
       "version_minor": 0
      },
      "text/plain": [
       "Finding best initial lr:   0%|          | 0/100 [00:00<?, ?it/s]"
      ]
     },
     "metadata": {},
     "output_type": "display_data"
    },
    {
     "data": {
      "text/html": [
       "<pre style=\"white-space:pre;overflow-x:auto;line-height:normal;font-family:Menlo,'DejaVu Sans Mono',consolas,'Courier New',monospace\"><span style=\"color: #008080; text-decoration-color: #008080; font-weight: bold\">2025</span>-<span style=\"color: #008080; text-decoration-color: #008080; font-weight: bold\">02</span>-<span style=\"color: #008080; text-decoration-color: #008080; font-weight: bold\">26</span> <span style=\"color: #00ff00; text-decoration-color: #00ff00; font-weight: bold\">12:29:18</span>,<span style=\"color: #008080; text-decoration-color: #008080; font-weight: bold\">294</span> - <span style=\"font-weight: bold\">{</span>pytorch_tabular.models.gandalf.gandal<span style=\"color: #00ff00; text-decoration-color: #00ff00; font-weight: bold\">f:109</span><span style=\"font-weight: bold\">}</span> - INFO - Data Aware Initialization of T0    \n",
       "</pre>\n"
      ],
      "text/plain": [
       "\u001b[1;36m2025\u001b[0m-\u001b[1;36m02\u001b[0m-\u001b[1;36m26\u001b[0m \u001b[1;92m12:29:18\u001b[0m,\u001b[1;36m294\u001b[0m - \u001b[1m{\u001b[0mpytorch_tabular.models.gandalf.gandal\u001b[1;92mf:109\u001b[0m\u001b[1m}\u001b[0m - INFO - Data Aware Initialization of T0    \n"
      ]
     },
     "metadata": {},
     "output_type": "display_data"
    },
    {
     "data": {
      "text/html": [
       "<pre style=\"white-space:pre;overflow-x:auto;line-height:normal;font-family:Menlo,'DejaVu Sans Mono',consolas,'Courier New',monospace\"><span style=\"color: #008080; text-decoration-color: #008080; font-weight: bold\">2025</span>-<span style=\"color: #008080; text-decoration-color: #008080; font-weight: bold\">02</span>-<span style=\"color: #008080; text-decoration-color: #008080; font-weight: bold\">26</span> <span style=\"color: #00ff00; text-decoration-color: #00ff00; font-weight: bold\">12:29:41</span>,<span style=\"color: #008080; text-decoration-color: #008080; font-weight: bold\">800</span> - <span style=\"font-weight: bold\">{</span>pytorch_tabular.tabular_model_tuner:<span style=\"color: #008080; text-decoration-color: #008080; font-weight: bold\">412</span><span style=\"font-weight: bold\">}</span> - INFO - Trial <span style=\"color: #008080; text-decoration-color: #008080; font-weight: bold\">12</span>/<span style=\"color: #008080; text-decoration-color: #008080; font-weight: bold\">12</span>: <span style=\"font-weight: bold\">{</span><span style=\"color: #008000; text-decoration-color: #008000\">'model'</span>:                \n",
       "<span style=\"color: #008000; text-decoration-color: #008000\">'1-GANDALFConfig'</span>, <span style=\"color: #008000; text-decoration-color: #008000\">'model_config__gflu_dropout'</span>: <span style=\"color: #008080; text-decoration-color: #008080; font-weight: bold\">0.2</span>, <span style=\"color: #008000; text-decoration-color: #008000\">'model_config__gflu_stages'</span>: <span style=\"color: #008080; text-decoration-color: #008080; font-weight: bold\">15</span>,                             \n",
       "<span style=\"color: #008000; text-decoration-color: #008000\">'optimizer_config__optimizer'</span>: <span style=\"color: #008000; text-decoration-color: #008000\">'AdamW'</span>, <span style=\"color: #008000; text-decoration-color: #008000\">'loss'</span>: <span style=\"color: #008080; text-decoration-color: #008080; font-weight: bold\">24.037639617919922</span>, <span style=\"color: #008000; text-decoration-color: #008000\">'mean_squared_error'</span>: <span style=\"color: #008080; text-decoration-color: #008080; font-weight: bold\">24.037639617919922</span>,      \n",
       "<span style=\"color: #008000; text-decoration-color: #008000\">'trial_id'</span>: <span style=\"color: #008080; text-decoration-color: #008080; font-weight: bold\">11</span><span style=\"font-weight: bold\">}</span> | Score: <span style=\"color: #008080; text-decoration-color: #008080; font-weight: bold\">24.037639617919922</span>                                                                        \n",
       "</pre>\n"
      ],
      "text/plain": [
       "\u001b[1;36m2025\u001b[0m-\u001b[1;36m02\u001b[0m-\u001b[1;36m26\u001b[0m \u001b[1;92m12:29:41\u001b[0m,\u001b[1;36m800\u001b[0m - \u001b[1m{\u001b[0mpytorch_tabular.tabular_model_tuner:\u001b[1;36m412\u001b[0m\u001b[1m}\u001b[0m - INFO - Trial \u001b[1;36m12\u001b[0m/\u001b[1;36m12\u001b[0m: \u001b[1m{\u001b[0m\u001b[32m'model'\u001b[0m:                \n",
       "\u001b[32m'1-GANDALFConfig'\u001b[0m, \u001b[32m'model_config__gflu_dropout'\u001b[0m: \u001b[1;36m0.2\u001b[0m, \u001b[32m'model_config__gflu_stages'\u001b[0m: \u001b[1;36m15\u001b[0m,                             \n",
       "\u001b[32m'optimizer_config__optimizer'\u001b[0m: \u001b[32m'AdamW'\u001b[0m, \u001b[32m'loss'\u001b[0m: \u001b[1;36m24.037639617919922\u001b[0m, \u001b[32m'mean_squared_error'\u001b[0m: \u001b[1;36m24.037639617919922\u001b[0m,      \n",
       "\u001b[32m'trial_id'\u001b[0m: \u001b[1;36m11\u001b[0m\u001b[1m}\u001b[0m | Score: \u001b[1;36m24.037639617919922\u001b[0m                                                                        \n"
      ]
     },
     "metadata": {},
     "output_type": "display_data"
    },
    {
     "data": {
      "text/html": [
       "<pre style=\"white-space:pre;overflow-x:auto;line-height:normal;font-family:Menlo,'DejaVu Sans Mono',consolas,'Courier New',monospace\"></pre>\n"
      ],
      "text/plain": []
     },
     "metadata": {},
     "output_type": "display_data"
    },
    {
     "data": {
      "text/html": [
       "<pre style=\"white-space:pre;overflow-x:auto;line-height:normal;font-family:Menlo,'DejaVu Sans Mono',consolas,'Courier New',monospace\"><span style=\"color: #008080; text-decoration-color: #008080; font-weight: bold\">2025</span>-<span style=\"color: #008080; text-decoration-color: #008080; font-weight: bold\">02</span>-<span style=\"color: #008080; text-decoration-color: #008080; font-weight: bold\">26</span> <span style=\"color: #00ff00; text-decoration-color: #00ff00; font-weight: bold\">12:29:41</span>,<span style=\"color: #008080; text-decoration-color: #008080; font-weight: bold\">808</span> - <span style=\"font-weight: bold\">{</span>pytorch_tabular.tabular_model_tuner:<span style=\"color: #008080; text-decoration-color: #008080; font-weight: bold\">427</span><span style=\"font-weight: bold\">}</span> - INFO - Model Tuner Finished                  \n",
       "</pre>\n"
      ],
      "text/plain": [
       "\u001b[1;36m2025\u001b[0m-\u001b[1;36m02\u001b[0m-\u001b[1;36m26\u001b[0m \u001b[1;92m12:29:41\u001b[0m,\u001b[1;36m808\u001b[0m - \u001b[1m{\u001b[0mpytorch_tabular.tabular_model_tuner:\u001b[1;36m427\u001b[0m\u001b[1m}\u001b[0m - INFO - Model Tuner Finished                  \n"
      ]
     },
     "metadata": {},
     "output_type": "display_data"
    },
    {
     "data": {
      "text/html": [
       "<pre style=\"white-space:pre;overflow-x:auto;line-height:normal;font-family:Menlo,'DejaVu Sans Mono',consolas,'Courier New',monospace\"><span style=\"color: #008080; text-decoration-color: #008080; font-weight: bold\">2025</span>-<span style=\"color: #008080; text-decoration-color: #008080; font-weight: bold\">02</span>-<span style=\"color: #008080; text-decoration-color: #008080; font-weight: bold\">26</span> <span style=\"color: #00ff00; text-decoration-color: #00ff00; font-weight: bold\">12:29:41</span>,<span style=\"color: #008080; text-decoration-color: #008080; font-weight: bold\">809</span> - <span style=\"font-weight: bold\">{</span>pytorch_tabular.tabular_model_tuner:<span style=\"color: #008080; text-decoration-color: #008080; font-weight: bold\">428</span><span style=\"font-weight: bold\">}</span> - INFO - Best Model: <span style=\"color: #008080; text-decoration-color: #008080; font-weight: bold\">0</span>-DANetConfig - Best Score\n",
       "<span style=\"font-weight: bold\">(</span>loss<span style=\"font-weight: bold\">)</span>: <span style=\"color: #008080; text-decoration-color: #008080; font-weight: bold\">0.7802320122718811</span>                                                                                         \n",
       "</pre>\n"
      ],
      "text/plain": [
       "\u001b[1;36m2025\u001b[0m-\u001b[1;36m02\u001b[0m-\u001b[1;36m26\u001b[0m \u001b[1;92m12:29:41\u001b[0m,\u001b[1;36m809\u001b[0m - \u001b[1m{\u001b[0mpytorch_tabular.tabular_model_tuner:\u001b[1;36m428\u001b[0m\u001b[1m}\u001b[0m - INFO - Best Model: \u001b[1;36m0\u001b[0m-DANetConfig - Best Score\n",
       "\u001b[1m(\u001b[0mloss\u001b[1m)\u001b[0m: \u001b[1;36m0.7802320122718811\u001b[0m                                                                                         \n"
      ]
     },
     "metadata": {},
     "output_type": "display_data"
    },
    {
     "name": "stdout",
     "output_type": "stream",
     "text": [
      "Total time: 4194.074227809906\n"
     ]
    }
   ],
   "source": [
    "tuner = TabularModelTuner(\n",
    "    data_config=data_config,\n",
    "    model_config=all_models,\n",
    "    optimizer_config=optimizer_config,\n",
    "    trainer_config=trainer_config\n",
    ")\n",
    "\n",
    "tic = time.time()\n",
    "tuner_df = tuner.tune(\n",
    "    train=train,\n",
    "    validation=valid,\n",
    "    search_space=all_search_space,\n",
    "    strategy='grid_search',  # grid_search (seach in all search_spaces) or random_search (search in n_trials random search_spaces)\n",
    "    n_trials=4,  # Used when strategy is random_search\n",
    "    metric='accuracy' if model_type == 'classifier' else 'loss',\n",
    "    mode='max' if model_type == 'classifier' else 'min',  # max or min\n",
    "    progress_bar=True,\n",
    "    verbose=True # Make True if you want to log metrics and params each iteration\n",
    ")\n",
    "print(f'Total time: {time.time() - tic}')"
   ]
  },
  {
   "cell_type": "markdown",
   "id": "3c3e5a74-c03d-471f-86de-38d22d5d2fef",
   "metadata": {},
   "source": [
    "O Tuner retorna uma única variável contendo [tabela deresultados, parâmetros do melhor modelo, valor da melhor métrica, melhor modelo]."
   ]
  },
  {
   "cell_type": "code",
   "execution_count": 22,
   "id": "6fbe9813-dced-4b62-807e-17ec4bde19c1",
   "metadata": {
    "scrolled": true
   },
   "outputs": [
    {
     "data": {
      "text/html": [
       "<style type=\"text/css\">\n",
       "#T_6b8e4_row0_col6, #T_6b8e4_row1_col6, #T_6b8e4_row2_col6, #T_6b8e4_row3_col6 {\n",
       "  background-color: #a50026;\n",
       "  color: #f1f1f1;\n",
       "  background-color: #006837;\n",
       "  color: #f1f1f1;\n",
       "}\n",
       "#T_6b8e4_row4_col6, #T_6b8e4_row5_col6, #T_6b8e4_row6_col6 {\n",
       "  background-color: #a70226;\n",
       "  color: #f1f1f1;\n",
       "  background-color: #016a38;\n",
       "  color: #f1f1f1;\n",
       "}\n",
       "#T_6b8e4_row7_col6, #T_6b8e4_row8_col6, #T_6b8e4_row9_col6, #T_6b8e4_row10_col6, #T_6b8e4_row11_col6, #T_6b8e4_row12_col6, #T_6b8e4_row13_col6, #T_6b8e4_row14_col6, #T_6b8e4_row15_col6, #T_6b8e4_row16_col6 {\n",
       "  background-color: #a90426;\n",
       "  color: #f1f1f1;\n",
       "  background-color: #026c39;\n",
       "  color: #f1f1f1;\n",
       "}\n",
       "#T_6b8e4_row17_col6, #T_6b8e4_row18_col6, #T_6b8e4_row19_col6, #T_6b8e4_row20_col6, #T_6b8e4_row21_col6, #T_6b8e4_row22_col6, #T_6b8e4_row23_col6, #T_6b8e4_row24_col6, #T_6b8e4_row25_col6 {\n",
       "  background-color: #ab0626;\n",
       "  color: #f1f1f1;\n",
       "  background-color: #036e3a;\n",
       "  color: #f1f1f1;\n",
       "}\n",
       "#T_6b8e4_row26_col6, #T_6b8e4_row27_col6, #T_6b8e4_row28_col6, #T_6b8e4_row29_col6, #T_6b8e4_row30_col6, #T_6b8e4_row31_col6 {\n",
       "  background-color: #ad0826;\n",
       "  color: #f1f1f1;\n",
       "  background-color: #04703b;\n",
       "  color: #f1f1f1;\n",
       "}\n",
       "#T_6b8e4_row32_col6 {\n",
       "  background-color: #af0926;\n",
       "  color: #f1f1f1;\n",
       "  background-color: #05713c;\n",
       "  color: #f1f1f1;\n",
       "}\n",
       "#T_6b8e4_row33_col6 {\n",
       "  background-color: #b30d26;\n",
       "  color: #f1f1f1;\n",
       "  background-color: #07753e;\n",
       "  color: #f1f1f1;\n",
       "}\n",
       "#T_6b8e4_row34_col6 {\n",
       "  background-color: #b91326;\n",
       "  color: #f1f1f1;\n",
       "  background-color: #0a7b41;\n",
       "  color: #f1f1f1;\n",
       "}\n",
       "#T_6b8e4_row35_col6 {\n",
       "  background-color: #bb1526;\n",
       "  color: #f1f1f1;\n",
       "  background-color: #0b7d42;\n",
       "  color: #f1f1f1;\n",
       "}\n",
       "#T_6b8e4_row36_col6 {\n",
       "  background-color: #bd1726;\n",
       "  color: #f1f1f1;\n",
       "  background-color: #0c7f43;\n",
       "  color: #f1f1f1;\n",
       "}\n",
       "#T_6b8e4_row37_col6, #T_6b8e4_row38_col6 {\n",
       "  background-color: #c21c27;\n",
       "  color: #f1f1f1;\n",
       "  background-color: #0f8446;\n",
       "  color: #f1f1f1;\n",
       "}\n",
       "#T_6b8e4_row39_col6, #T_6b8e4_row40_col6 {\n",
       "  background-color: #c62027;\n",
       "  color: #f1f1f1;\n",
       "  background-color: #118848;\n",
       "  color: #f1f1f1;\n",
       "}\n",
       "#T_6b8e4_row41_col6 {\n",
       "  background-color: #ca2427;\n",
       "  color: #f1f1f1;\n",
       "  background-color: #138c4a;\n",
       "  color: #f1f1f1;\n",
       "}\n",
       "#T_6b8e4_row42_col6 {\n",
       "  background-color: #d62f27;\n",
       "  color: #f1f1f1;\n",
       "  background-color: #199750;\n",
       "  color: #f1f1f1;\n",
       "}\n",
       "#T_6b8e4_row43_col6 {\n",
       "  background-color: #f7814c;\n",
       "  color: #f1f1f1;\n",
       "  background-color: #7ac665;\n",
       "  color: #000000;\n",
       "}\n",
       "#T_6b8e4_row44_col6 {\n",
       "  background-color: #148e4b;\n",
       "  color: #f1f1f1;\n",
       "  background-color: #cc2627;\n",
       "  color: #f1f1f1;\n",
       "}\n",
       "#T_6b8e4_row45_col6 {\n",
       "  background-color: #0f8446;\n",
       "  color: #f1f1f1;\n",
       "  background-color: #c21c27;\n",
       "  color: #f1f1f1;\n",
       "}\n",
       "#T_6b8e4_row46_col6 {\n",
       "  background-color: #0b7d42;\n",
       "  color: #f1f1f1;\n",
       "  background-color: #bb1526;\n",
       "  color: #f1f1f1;\n",
       "}\n",
       "#T_6b8e4_row47_col6 {\n",
       "  background-color: #0a7b41;\n",
       "  color: #f1f1f1;\n",
       "  background-color: #b91326;\n",
       "  color: #f1f1f1;\n",
       "}\n",
       "#T_6b8e4_row48_col6 {\n",
       "  background-color: #08773f;\n",
       "  color: #f1f1f1;\n",
       "  background-color: #b50f26;\n",
       "  color: #f1f1f1;\n",
       "}\n",
       "#T_6b8e4_row49_col6 {\n",
       "  background-color: #07753e;\n",
       "  color: #f1f1f1;\n",
       "  background-color: #b30d26;\n",
       "  color: #f1f1f1;\n",
       "}\n",
       "#T_6b8e4_row50_col6, #T_6b8e4_row51_col6, #T_6b8e4_row52_col6 {\n",
       "  background-color: #06733d;\n",
       "  color: #f1f1f1;\n",
       "  background-color: #b10b26;\n",
       "  color: #f1f1f1;\n",
       "}\n",
       "#T_6b8e4_row53_col6, #T_6b8e4_row54_col6 {\n",
       "  background-color: #05713c;\n",
       "  color: #f1f1f1;\n",
       "  background-color: #af0926;\n",
       "  color: #f1f1f1;\n",
       "}\n",
       "#T_6b8e4_row55_col6, #T_6b8e4_row56_col6 {\n",
       "  background-color: #04703b;\n",
       "  color: #f1f1f1;\n",
       "  background-color: #ad0826;\n",
       "  color: #f1f1f1;\n",
       "}\n",
       "#T_6b8e4_row57_col6 {\n",
       "  background-color: #036e3a;\n",
       "  color: #f1f1f1;\n",
       "  background-color: #ab0626;\n",
       "  color: #f1f1f1;\n",
       "}\n",
       "#T_6b8e4_row58_col6, #T_6b8e4_row59_col6, #T_6b8e4_row60_col6 {\n",
       "  background-color: #026c39;\n",
       "  color: #f1f1f1;\n",
       "  background-color: #a90426;\n",
       "  color: #f1f1f1;\n",
       "}\n",
       "#T_6b8e4_row61_col6, #T_6b8e4_row62_col6, #T_6b8e4_row63_col6, #T_6b8e4_row64_col6, #T_6b8e4_row65_col6 {\n",
       "  background-color: #006837;\n",
       "  color: #f1f1f1;\n",
       "  background-color: #a50026;\n",
       "  color: #f1f1f1;\n",
       "}\n",
       "</style>\n",
       "<table id=\"T_6b8e4\">\n",
       "  <thead>\n",
       "    <tr>\n",
       "      <th class=\"blank level0\" >&nbsp;</th>\n",
       "      <th id=\"T_6b8e4_level0_col0\" class=\"col_heading level0 col0\" >trial_id</th>\n",
       "      <th id=\"T_6b8e4_level0_col1\" class=\"col_heading level0 col1\" >model</th>\n",
       "      <th id=\"T_6b8e4_level0_col2\" class=\"col_heading level0 col2\" >model_config__abstlay_dim_1</th>\n",
       "      <th id=\"T_6b8e4_level0_col3\" class=\"col_heading level0 col3\" >model_config__abstlay_dim_2</th>\n",
       "      <th id=\"T_6b8e4_level0_col4\" class=\"col_heading level0 col4\" >model_config__n_layers</th>\n",
       "      <th id=\"T_6b8e4_level0_col5\" class=\"col_heading level0 col5\" >optimizer_config__optimizer</th>\n",
       "      <th id=\"T_6b8e4_level0_col6\" class=\"col_heading level0 col6\" >loss</th>\n",
       "      <th id=\"T_6b8e4_level0_col7\" class=\"col_heading level0 col7\" >mean_squared_error</th>\n",
       "      <th id=\"T_6b8e4_level0_col8\" class=\"col_heading level0 col8\" >model_config__gflu_dropout</th>\n",
       "      <th id=\"T_6b8e4_level0_col9\" class=\"col_heading level0 col9\" >model_config__gflu_stages</th>\n",
       "      <th id=\"T_6b8e4_level0_col10\" class=\"col_heading level0 col10\" >test_rmse</th>\n",
       "    </tr>\n",
       "  </thead>\n",
       "  <tbody>\n",
       "    <tr>\n",
       "      <th id=\"T_6b8e4_level0_row0\" class=\"row_heading level0 row0\" >0</th>\n",
       "      <td id=\"T_6b8e4_row0_col0\" class=\"data row0 col0\" >0</td>\n",
       "      <td id=\"T_6b8e4_row0_col1\" class=\"data row0 col1\" >0-DANetConfig</td>\n",
       "      <td id=\"T_6b8e4_row0_col2\" class=\"data row0 col2\" >16.000000</td>\n",
       "      <td id=\"T_6b8e4_row0_col3\" class=\"data row0 col3\" >32.000000</td>\n",
       "      <td id=\"T_6b8e4_row0_col4\" class=\"data row0 col4\" >4.000000</td>\n",
       "      <td id=\"T_6b8e4_row0_col5\" class=\"data row0 col5\" >Adam</td>\n",
       "      <td id=\"T_6b8e4_row0_col6\" class=\"data row0 col6\" >0.780232</td>\n",
       "      <td id=\"T_6b8e4_row0_col7\" class=\"data row0 col7\" >0.780232</td>\n",
       "      <td id=\"T_6b8e4_row0_col8\" class=\"data row0 col8\" >nan</td>\n",
       "      <td id=\"T_6b8e4_row0_col9\" class=\"data row0 col9\" >nan</td>\n",
       "      <td id=\"T_6b8e4_row0_col10\" class=\"data row0 col10\" >0.883307</td>\n",
       "    </tr>\n",
       "    <tr>\n",
       "      <th id=\"T_6b8e4_level0_row1\" class=\"row_heading level0 row1\" >31</th>\n",
       "      <td id=\"T_6b8e4_row1_col0\" class=\"data row1 col0\" >31</td>\n",
       "      <td id=\"T_6b8e4_row1_col1\" class=\"data row1 col1\" >0-DANetConfig</td>\n",
       "      <td id=\"T_6b8e4_row1_col2\" class=\"data row1 col2\" >32.000000</td>\n",
       "      <td id=\"T_6b8e4_row1_col3\" class=\"data row1 col3\" >128.000000</td>\n",
       "      <td id=\"T_6b8e4_row1_col4\" class=\"data row1 col4\" >4.000000</td>\n",
       "      <td id=\"T_6b8e4_row1_col5\" class=\"data row1 col5\" >AdamW</td>\n",
       "      <td id=\"T_6b8e4_row1_col6\" class=\"data row1 col6\" >0.839635</td>\n",
       "      <td id=\"T_6b8e4_row1_col7\" class=\"data row1 col7\" >0.839635</td>\n",
       "      <td id=\"T_6b8e4_row1_col8\" class=\"data row1 col8\" >nan</td>\n",
       "      <td id=\"T_6b8e4_row1_col9\" class=\"data row1 col9\" >nan</td>\n",
       "      <td id=\"T_6b8e4_row1_col10\" class=\"data row1 col10\" >0.916316</td>\n",
       "    </tr>\n",
       "    <tr>\n",
       "      <th id=\"T_6b8e4_level0_row2\" class=\"row_heading level0 row2\" >36</th>\n",
       "      <td id=\"T_6b8e4_row2_col0\" class=\"data row2 col0\" >36</td>\n",
       "      <td id=\"T_6b8e4_row2_col1\" class=\"data row2 col1\" >0-DANetConfig</td>\n",
       "      <td id=\"T_6b8e4_row2_col2\" class=\"data row2 col2\" >64.000000</td>\n",
       "      <td id=\"T_6b8e4_row2_col3\" class=\"data row2 col3\" >32.000000</td>\n",
       "      <td id=\"T_6b8e4_row2_col4\" class=\"data row2 col4\" >4.000000</td>\n",
       "      <td id=\"T_6b8e4_row2_col5\" class=\"data row2 col5\" >Adam</td>\n",
       "      <td id=\"T_6b8e4_row2_col6\" class=\"data row2 col6\" >0.853835</td>\n",
       "      <td id=\"T_6b8e4_row2_col7\" class=\"data row2 col7\" >0.853835</td>\n",
       "      <td id=\"T_6b8e4_row2_col8\" class=\"data row2 col8\" >nan</td>\n",
       "      <td id=\"T_6b8e4_row2_col9\" class=\"data row2 col9\" >nan</td>\n",
       "      <td id=\"T_6b8e4_row2_col10\" class=\"data row2 col10\" >0.924032</td>\n",
       "    </tr>\n",
       "    <tr>\n",
       "      <th id=\"T_6b8e4_level0_row3\" class=\"row_heading level0 row3\" >37</th>\n",
       "      <td id=\"T_6b8e4_row3_col0\" class=\"data row3 col0\" >37</td>\n",
       "      <td id=\"T_6b8e4_row3_col1\" class=\"data row3 col1\" >0-DANetConfig</td>\n",
       "      <td id=\"T_6b8e4_row3_col2\" class=\"data row3 col2\" >64.000000</td>\n",
       "      <td id=\"T_6b8e4_row3_col3\" class=\"data row3 col3\" >32.000000</td>\n",
       "      <td id=\"T_6b8e4_row3_col4\" class=\"data row3 col4\" >4.000000</td>\n",
       "      <td id=\"T_6b8e4_row3_col5\" class=\"data row3 col5\" >AdamW</td>\n",
       "      <td id=\"T_6b8e4_row3_col6\" class=\"data row3 col6\" >0.870305</td>\n",
       "      <td id=\"T_6b8e4_row3_col7\" class=\"data row3 col7\" >0.870305</td>\n",
       "      <td id=\"T_6b8e4_row3_col8\" class=\"data row3 col8\" >nan</td>\n",
       "      <td id=\"T_6b8e4_row3_col9\" class=\"data row3 col9\" >nan</td>\n",
       "      <td id=\"T_6b8e4_row3_col10\" class=\"data row3 col10\" >0.932901</td>\n",
       "    </tr>\n",
       "    <tr>\n",
       "      <th id=\"T_6b8e4_level0_row4\" class=\"row_heading level0 row4\" >34</th>\n",
       "      <td id=\"T_6b8e4_row4_col0\" class=\"data row4 col0\" >34</td>\n",
       "      <td id=\"T_6b8e4_row4_col1\" class=\"data row4 col1\" >0-DANetConfig</td>\n",
       "      <td id=\"T_6b8e4_row4_col2\" class=\"data row4 col2\" >32.000000</td>\n",
       "      <td id=\"T_6b8e4_row4_col3\" class=\"data row4 col3\" >128.000000</td>\n",
       "      <td id=\"T_6b8e4_row4_col4\" class=\"data row4 col4\" >16.000000</td>\n",
       "      <td id=\"T_6b8e4_row4_col5\" class=\"data row4 col5\" >Adam</td>\n",
       "      <td id=\"T_6b8e4_row4_col6\" class=\"data row4 col6\" >0.877356</td>\n",
       "      <td id=\"T_6b8e4_row4_col7\" class=\"data row4 col7\" >0.877356</td>\n",
       "      <td id=\"T_6b8e4_row4_col8\" class=\"data row4 col8\" >nan</td>\n",
       "      <td id=\"T_6b8e4_row4_col9\" class=\"data row4 col9\" >nan</td>\n",
       "      <td id=\"T_6b8e4_row4_col10\" class=\"data row4 col10\" >0.936673</td>\n",
       "    </tr>\n",
       "    <tr>\n",
       "      <th id=\"T_6b8e4_level0_row5\" class=\"row_heading level0 row5\" >49</th>\n",
       "      <td id=\"T_6b8e4_row5_col0\" class=\"data row5 col0\" >49</td>\n",
       "      <td id=\"T_6b8e4_row5_col1\" class=\"data row5 col1\" >0-DANetConfig</td>\n",
       "      <td id=\"T_6b8e4_row5_col2\" class=\"data row5 col2\" >64.000000</td>\n",
       "      <td id=\"T_6b8e4_row5_col3\" class=\"data row5 col3\" >128.000000</td>\n",
       "      <td id=\"T_6b8e4_row5_col4\" class=\"data row5 col4\" >4.000000</td>\n",
       "      <td id=\"T_6b8e4_row5_col5\" class=\"data row5 col5\" >AdamW</td>\n",
       "      <td id=\"T_6b8e4_row5_col6\" class=\"data row5 col6\" >0.922272</td>\n",
       "      <td id=\"T_6b8e4_row5_col7\" class=\"data row5 col7\" >0.922272</td>\n",
       "      <td id=\"T_6b8e4_row5_col8\" class=\"data row5 col8\" >nan</td>\n",
       "      <td id=\"T_6b8e4_row5_col9\" class=\"data row5 col9\" >nan</td>\n",
       "      <td id=\"T_6b8e4_row5_col10\" class=\"data row5 col10\" >0.960350</td>\n",
       "    </tr>\n",
       "    <tr>\n",
       "      <th id=\"T_6b8e4_level0_row6\" class=\"row_heading level0 row6\" >52</th>\n",
       "      <td id=\"T_6b8e4_row6_col0\" class=\"data row6 col0\" >52</td>\n",
       "      <td id=\"T_6b8e4_row6_col1\" class=\"data row6 col1\" >0-DANetConfig</td>\n",
       "      <td id=\"T_6b8e4_row6_col2\" class=\"data row6 col2\" >64.000000</td>\n",
       "      <td id=\"T_6b8e4_row6_col3\" class=\"data row6 col3\" >128.000000</td>\n",
       "      <td id=\"T_6b8e4_row6_col4\" class=\"data row6 col4\" >16.000000</td>\n",
       "      <td id=\"T_6b8e4_row6_col5\" class=\"data row6 col5\" >Adam</td>\n",
       "      <td id=\"T_6b8e4_row6_col6\" class=\"data row6 col6\" >0.929542</td>\n",
       "      <td id=\"T_6b8e4_row6_col7\" class=\"data row6 col7\" >0.929542</td>\n",
       "      <td id=\"T_6b8e4_row6_col8\" class=\"data row6 col8\" >nan</td>\n",
       "      <td id=\"T_6b8e4_row6_col9\" class=\"data row6 col9\" >nan</td>\n",
       "      <td id=\"T_6b8e4_row6_col10\" class=\"data row6 col10\" >0.964128</td>\n",
       "    </tr>\n",
       "    <tr>\n",
       "      <th id=\"T_6b8e4_level0_row7\" class=\"row_heading level0 row7\" >19</th>\n",
       "      <td id=\"T_6b8e4_row7_col0\" class=\"data row7 col0\" >19</td>\n",
       "      <td id=\"T_6b8e4_row7_col1\" class=\"data row7 col1\" >0-DANetConfig</td>\n",
       "      <td id=\"T_6b8e4_row7_col2\" class=\"data row7 col2\" >32.000000</td>\n",
       "      <td id=\"T_6b8e4_row7_col3\" class=\"data row7 col3\" >32.000000</td>\n",
       "      <td id=\"T_6b8e4_row7_col4\" class=\"data row7 col4\" >4.000000</td>\n",
       "      <td id=\"T_6b8e4_row7_col5\" class=\"data row7 col5\" >AdamW</td>\n",
       "      <td id=\"T_6b8e4_row7_col6\" class=\"data row7 col6\" >0.983820</td>\n",
       "      <td id=\"T_6b8e4_row7_col7\" class=\"data row7 col7\" >0.983820</td>\n",
       "      <td id=\"T_6b8e4_row7_col8\" class=\"data row7 col8\" >nan</td>\n",
       "      <td id=\"T_6b8e4_row7_col9\" class=\"data row7 col9\" >nan</td>\n",
       "      <td id=\"T_6b8e4_row7_col10\" class=\"data row7 col10\" >0.991877</td>\n",
       "    </tr>\n",
       "    <tr>\n",
       "      <th id=\"T_6b8e4_level0_row8\" class=\"row_heading level0 row8\" >14</th>\n",
       "      <td id=\"T_6b8e4_row8_col0\" class=\"data row8 col0\" >14</td>\n",
       "      <td id=\"T_6b8e4_row8_col1\" class=\"data row8 col1\" >0-DANetConfig</td>\n",
       "      <td id=\"T_6b8e4_row8_col2\" class=\"data row8 col2\" >16.000000</td>\n",
       "      <td id=\"T_6b8e4_row8_col3\" class=\"data row8 col3\" >128.000000</td>\n",
       "      <td id=\"T_6b8e4_row8_col4\" class=\"data row8 col4\" >8.000000</td>\n",
       "      <td id=\"T_6b8e4_row8_col5\" class=\"data row8 col5\" >Adam</td>\n",
       "      <td id=\"T_6b8e4_row8_col6\" class=\"data row8 col6\" >0.992076</td>\n",
       "      <td id=\"T_6b8e4_row8_col7\" class=\"data row8 col7\" >0.992076</td>\n",
       "      <td id=\"T_6b8e4_row8_col8\" class=\"data row8 col8\" >nan</td>\n",
       "      <td id=\"T_6b8e4_row8_col9\" class=\"data row8 col9\" >nan</td>\n",
       "      <td id=\"T_6b8e4_row8_col10\" class=\"data row8 col10\" >0.996030</td>\n",
       "    </tr>\n",
       "    <tr>\n",
       "      <th id=\"T_6b8e4_level0_row9\" class=\"row_heading level0 row9\" >26</th>\n",
       "      <td id=\"T_6b8e4_row9_col0\" class=\"data row9 col0\" >26</td>\n",
       "      <td id=\"T_6b8e4_row9_col1\" class=\"data row9 col1\" >0-DANetConfig</td>\n",
       "      <td id=\"T_6b8e4_row9_col2\" class=\"data row9 col2\" >32.000000</td>\n",
       "      <td id=\"T_6b8e4_row9_col3\" class=\"data row9 col3\" >64.000000</td>\n",
       "      <td id=\"T_6b8e4_row9_col4\" class=\"data row9 col4\" >8.000000</td>\n",
       "      <td id=\"T_6b8e4_row9_col5\" class=\"data row9 col5\" >Adam</td>\n",
       "      <td id=\"T_6b8e4_row9_col6\" class=\"data row9 col6\" >1.000883</td>\n",
       "      <td id=\"T_6b8e4_row9_col7\" class=\"data row9 col7\" >1.000883</td>\n",
       "      <td id=\"T_6b8e4_row9_col8\" class=\"data row9 col8\" >nan</td>\n",
       "      <td id=\"T_6b8e4_row9_col9\" class=\"data row9 col9\" >nan</td>\n",
       "      <td id=\"T_6b8e4_row9_col10\" class=\"data row9 col10\" >1.000441</td>\n",
       "    </tr>\n",
       "    <tr>\n",
       "      <th id=\"T_6b8e4_level0_row10\" class=\"row_heading level0 row10\" >29</th>\n",
       "      <td id=\"T_6b8e4_row10_col0\" class=\"data row10 col0\" >29</td>\n",
       "      <td id=\"T_6b8e4_row10_col1\" class=\"data row10 col1\" >0-DANetConfig</td>\n",
       "      <td id=\"T_6b8e4_row10_col2\" class=\"data row10 col2\" >32.000000</td>\n",
       "      <td id=\"T_6b8e4_row10_col3\" class=\"data row10 col3\" >64.000000</td>\n",
       "      <td id=\"T_6b8e4_row10_col4\" class=\"data row10 col4\" >16.000000</td>\n",
       "      <td id=\"T_6b8e4_row10_col5\" class=\"data row10 col5\" >AdamW</td>\n",
       "      <td id=\"T_6b8e4_row10_col6\" class=\"data row10 col6\" >1.005210</td>\n",
       "      <td id=\"T_6b8e4_row10_col7\" class=\"data row10 col7\" >1.005210</td>\n",
       "      <td id=\"T_6b8e4_row10_col8\" class=\"data row10 col8\" >nan</td>\n",
       "      <td id=\"T_6b8e4_row10_col9\" class=\"data row10 col9\" >nan</td>\n",
       "      <td id=\"T_6b8e4_row10_col10\" class=\"data row10 col10\" >1.002602</td>\n",
       "    </tr>\n",
       "    <tr>\n",
       "      <th id=\"T_6b8e4_level0_row11\" class=\"row_heading level0 row11\" >4</th>\n",
       "      <td id=\"T_6b8e4_row11_col0\" class=\"data row11 col0\" >4</td>\n",
       "      <td id=\"T_6b8e4_row11_col1\" class=\"data row11 col1\" >0-DANetConfig</td>\n",
       "      <td id=\"T_6b8e4_row11_col2\" class=\"data row11 col2\" >16.000000</td>\n",
       "      <td id=\"T_6b8e4_row11_col3\" class=\"data row11 col3\" >32.000000</td>\n",
       "      <td id=\"T_6b8e4_row11_col4\" class=\"data row11 col4\" >16.000000</td>\n",
       "      <td id=\"T_6b8e4_row11_col5\" class=\"data row11 col5\" >Adam</td>\n",
       "      <td id=\"T_6b8e4_row11_col6\" class=\"data row11 col6\" >1.012012</td>\n",
       "      <td id=\"T_6b8e4_row11_col7\" class=\"data row11 col7\" >1.012012</td>\n",
       "      <td id=\"T_6b8e4_row11_col8\" class=\"data row11 col8\" >nan</td>\n",
       "      <td id=\"T_6b8e4_row11_col9\" class=\"data row11 col9\" >nan</td>\n",
       "      <td id=\"T_6b8e4_row11_col10\" class=\"data row11 col10\" >1.005988</td>\n",
       "    </tr>\n",
       "    <tr>\n",
       "      <th id=\"T_6b8e4_level0_row12\" class=\"row_heading level0 row12\" >33</th>\n",
       "      <td id=\"T_6b8e4_row12_col0\" class=\"data row12 col0\" >33</td>\n",
       "      <td id=\"T_6b8e4_row12_col1\" class=\"data row12 col1\" >0-DANetConfig</td>\n",
       "      <td id=\"T_6b8e4_row12_col2\" class=\"data row12 col2\" >32.000000</td>\n",
       "      <td id=\"T_6b8e4_row12_col3\" class=\"data row12 col3\" >128.000000</td>\n",
       "      <td id=\"T_6b8e4_row12_col4\" class=\"data row12 col4\" >8.000000</td>\n",
       "      <td id=\"T_6b8e4_row12_col5\" class=\"data row12 col5\" >AdamW</td>\n",
       "      <td id=\"T_6b8e4_row12_col6\" class=\"data row12 col6\" >1.016237</td>\n",
       "      <td id=\"T_6b8e4_row12_col7\" class=\"data row12 col7\" >1.016237</td>\n",
       "      <td id=\"T_6b8e4_row12_col8\" class=\"data row12 col8\" >nan</td>\n",
       "      <td id=\"T_6b8e4_row12_col9\" class=\"data row12 col9\" >nan</td>\n",
       "      <td id=\"T_6b8e4_row12_col10\" class=\"data row12 col10\" >1.008086</td>\n",
       "    </tr>\n",
       "    <tr>\n",
       "      <th id=\"T_6b8e4_level0_row13\" class=\"row_heading level0 row13\" >15</th>\n",
       "      <td id=\"T_6b8e4_row13_col0\" class=\"data row13 col0\" >15</td>\n",
       "      <td id=\"T_6b8e4_row13_col1\" class=\"data row13 col1\" >0-DANetConfig</td>\n",
       "      <td id=\"T_6b8e4_row13_col2\" class=\"data row13 col2\" >16.000000</td>\n",
       "      <td id=\"T_6b8e4_row13_col3\" class=\"data row13 col3\" >128.000000</td>\n",
       "      <td id=\"T_6b8e4_row13_col4\" class=\"data row13 col4\" >8.000000</td>\n",
       "      <td id=\"T_6b8e4_row13_col5\" class=\"data row13 col5\" >AdamW</td>\n",
       "      <td id=\"T_6b8e4_row13_col6\" class=\"data row13 col6\" >1.018850</td>\n",
       "      <td id=\"T_6b8e4_row13_col7\" class=\"data row13 col7\" >1.018850</td>\n",
       "      <td id=\"T_6b8e4_row13_col8\" class=\"data row13 col8\" >nan</td>\n",
       "      <td id=\"T_6b8e4_row13_col9\" class=\"data row13 col9\" >nan</td>\n",
       "      <td id=\"T_6b8e4_row13_col10\" class=\"data row13 col10\" >1.009381</td>\n",
       "    </tr>\n",
       "    <tr>\n",
       "      <th id=\"T_6b8e4_level0_row14\" class=\"row_heading level0 row14\" >20</th>\n",
       "      <td id=\"T_6b8e4_row14_col0\" class=\"data row14 col0\" >20</td>\n",
       "      <td id=\"T_6b8e4_row14_col1\" class=\"data row14 col1\" >0-DANetConfig</td>\n",
       "      <td id=\"T_6b8e4_row14_col2\" class=\"data row14 col2\" >32.000000</td>\n",
       "      <td id=\"T_6b8e4_row14_col3\" class=\"data row14 col3\" >32.000000</td>\n",
       "      <td id=\"T_6b8e4_row14_col4\" class=\"data row14 col4\" >8.000000</td>\n",
       "      <td id=\"T_6b8e4_row14_col5\" class=\"data row14 col5\" >Adam</td>\n",
       "      <td id=\"T_6b8e4_row14_col6\" class=\"data row14 col6\" >1.019369</td>\n",
       "      <td id=\"T_6b8e4_row14_col7\" class=\"data row14 col7\" >1.019369</td>\n",
       "      <td id=\"T_6b8e4_row14_col8\" class=\"data row14 col8\" >nan</td>\n",
       "      <td id=\"T_6b8e4_row14_col9\" class=\"data row14 col9\" >nan</td>\n",
       "      <td id=\"T_6b8e4_row14_col10\" class=\"data row14 col10\" >1.009638</td>\n",
       "    </tr>\n",
       "    <tr>\n",
       "      <th id=\"T_6b8e4_level0_row15\" class=\"row_heading level0 row15\" >8</th>\n",
       "      <td id=\"T_6b8e4_row15_col0\" class=\"data row15 col0\" >8</td>\n",
       "      <td id=\"T_6b8e4_row15_col1\" class=\"data row15 col1\" >0-DANetConfig</td>\n",
       "      <td id=\"T_6b8e4_row15_col2\" class=\"data row15 col2\" >16.000000</td>\n",
       "      <td id=\"T_6b8e4_row15_col3\" class=\"data row15 col3\" >64.000000</td>\n",
       "      <td id=\"T_6b8e4_row15_col4\" class=\"data row15 col4\" >8.000000</td>\n",
       "      <td id=\"T_6b8e4_row15_col5\" class=\"data row15 col5\" >Adam</td>\n",
       "      <td id=\"T_6b8e4_row15_col6\" class=\"data row15 col6\" >1.039415</td>\n",
       "      <td id=\"T_6b8e4_row15_col7\" class=\"data row15 col7\" >1.039415</td>\n",
       "      <td id=\"T_6b8e4_row15_col8\" class=\"data row15 col8\" >nan</td>\n",
       "      <td id=\"T_6b8e4_row15_col9\" class=\"data row15 col9\" >nan</td>\n",
       "      <td id=\"T_6b8e4_row15_col10\" class=\"data row15 col10\" >1.019517</td>\n",
       "    </tr>\n",
       "    <tr>\n",
       "      <th id=\"T_6b8e4_level0_row16\" class=\"row_heading level0 row16\" >43</th>\n",
       "      <td id=\"T_6b8e4_row16_col0\" class=\"data row16 col0\" >43</td>\n",
       "      <td id=\"T_6b8e4_row16_col1\" class=\"data row16 col1\" >0-DANetConfig</td>\n",
       "      <td id=\"T_6b8e4_row16_col2\" class=\"data row16 col2\" >64.000000</td>\n",
       "      <td id=\"T_6b8e4_row16_col3\" class=\"data row16 col3\" >64.000000</td>\n",
       "      <td id=\"T_6b8e4_row16_col4\" class=\"data row16 col4\" >4.000000</td>\n",
       "      <td id=\"T_6b8e4_row16_col5\" class=\"data row16 col5\" >AdamW</td>\n",
       "      <td id=\"T_6b8e4_row16_col6\" class=\"data row16 col6\" >1.043267</td>\n",
       "      <td id=\"T_6b8e4_row16_col7\" class=\"data row16 col7\" >1.043267</td>\n",
       "      <td id=\"T_6b8e4_row16_col8\" class=\"data row16 col8\" >nan</td>\n",
       "      <td id=\"T_6b8e4_row16_col9\" class=\"data row16 col9\" >nan</td>\n",
       "      <td id=\"T_6b8e4_row16_col10\" class=\"data row16 col10\" >1.021405</td>\n",
       "    </tr>\n",
       "    <tr>\n",
       "      <th id=\"T_6b8e4_level0_row17\" class=\"row_heading level0 row17\" >35</th>\n",
       "      <td id=\"T_6b8e4_row17_col0\" class=\"data row17 col0\" >35</td>\n",
       "      <td id=\"T_6b8e4_row17_col1\" class=\"data row17 col1\" >0-DANetConfig</td>\n",
       "      <td id=\"T_6b8e4_row17_col2\" class=\"data row17 col2\" >32.000000</td>\n",
       "      <td id=\"T_6b8e4_row17_col3\" class=\"data row17 col3\" >128.000000</td>\n",
       "      <td id=\"T_6b8e4_row17_col4\" class=\"data row17 col4\" >16.000000</td>\n",
       "      <td id=\"T_6b8e4_row17_col5\" class=\"data row17 col5\" >AdamW</td>\n",
       "      <td id=\"T_6b8e4_row17_col6\" class=\"data row17 col6\" >1.073686</td>\n",
       "      <td id=\"T_6b8e4_row17_col7\" class=\"data row17 col7\" >1.073686</td>\n",
       "      <td id=\"T_6b8e4_row17_col8\" class=\"data row17 col8\" >nan</td>\n",
       "      <td id=\"T_6b8e4_row17_col9\" class=\"data row17 col9\" >nan</td>\n",
       "      <td id=\"T_6b8e4_row17_col10\" class=\"data row17 col10\" >1.036188</td>\n",
       "    </tr>\n",
       "    <tr>\n",
       "      <th id=\"T_6b8e4_level0_row18\" class=\"row_heading level0 row18\" >48</th>\n",
       "      <td id=\"T_6b8e4_row18_col0\" class=\"data row18 col0\" >48</td>\n",
       "      <td id=\"T_6b8e4_row18_col1\" class=\"data row18 col1\" >0-DANetConfig</td>\n",
       "      <td id=\"T_6b8e4_row18_col2\" class=\"data row18 col2\" >64.000000</td>\n",
       "      <td id=\"T_6b8e4_row18_col3\" class=\"data row18 col3\" >128.000000</td>\n",
       "      <td id=\"T_6b8e4_row18_col4\" class=\"data row18 col4\" >4.000000</td>\n",
       "      <td id=\"T_6b8e4_row18_col5\" class=\"data row18 col5\" >Adam</td>\n",
       "      <td id=\"T_6b8e4_row18_col6\" class=\"data row18 col6\" >1.081566</td>\n",
       "      <td id=\"T_6b8e4_row18_col7\" class=\"data row18 col7\" >1.081566</td>\n",
       "      <td id=\"T_6b8e4_row18_col8\" class=\"data row18 col8\" >nan</td>\n",
       "      <td id=\"T_6b8e4_row18_col9\" class=\"data row18 col9\" >nan</td>\n",
       "      <td id=\"T_6b8e4_row18_col10\" class=\"data row18 col10\" >1.039984</td>\n",
       "    </tr>\n",
       "    <tr>\n",
       "      <th id=\"T_6b8e4_level0_row19\" class=\"row_heading level0 row19\" >25</th>\n",
       "      <td id=\"T_6b8e4_row19_col0\" class=\"data row19 col0\" >25</td>\n",
       "      <td id=\"T_6b8e4_row19_col1\" class=\"data row19 col1\" >0-DANetConfig</td>\n",
       "      <td id=\"T_6b8e4_row19_col2\" class=\"data row19 col2\" >32.000000</td>\n",
       "      <td id=\"T_6b8e4_row19_col3\" class=\"data row19 col3\" >64.000000</td>\n",
       "      <td id=\"T_6b8e4_row19_col4\" class=\"data row19 col4\" >4.000000</td>\n",
       "      <td id=\"T_6b8e4_row19_col5\" class=\"data row19 col5\" >AdamW</td>\n",
       "      <td id=\"T_6b8e4_row19_col6\" class=\"data row19 col6\" >1.091834</td>\n",
       "      <td id=\"T_6b8e4_row19_col7\" class=\"data row19 col7\" >1.091834</td>\n",
       "      <td id=\"T_6b8e4_row19_col8\" class=\"data row19 col8\" >nan</td>\n",
       "      <td id=\"T_6b8e4_row19_col9\" class=\"data row19 col9\" >nan</td>\n",
       "      <td id=\"T_6b8e4_row19_col10\" class=\"data row19 col10\" >1.044909</td>\n",
       "    </tr>\n",
       "    <tr>\n",
       "      <th id=\"T_6b8e4_level0_row20\" class=\"row_heading level0 row20\" >39</th>\n",
       "      <td id=\"T_6b8e4_row20_col0\" class=\"data row20 col0\" >39</td>\n",
       "      <td id=\"T_6b8e4_row20_col1\" class=\"data row20 col1\" >0-DANetConfig</td>\n",
       "      <td id=\"T_6b8e4_row20_col2\" class=\"data row20 col2\" >64.000000</td>\n",
       "      <td id=\"T_6b8e4_row20_col3\" class=\"data row20 col3\" >32.000000</td>\n",
       "      <td id=\"T_6b8e4_row20_col4\" class=\"data row20 col4\" >8.000000</td>\n",
       "      <td id=\"T_6b8e4_row20_col5\" class=\"data row20 col5\" >AdamW</td>\n",
       "      <td id=\"T_6b8e4_row20_col6\" class=\"data row20 col6\" >1.093195</td>\n",
       "      <td id=\"T_6b8e4_row20_col7\" class=\"data row20 col7\" >1.093195</td>\n",
       "      <td id=\"T_6b8e4_row20_col8\" class=\"data row20 col8\" >nan</td>\n",
       "      <td id=\"T_6b8e4_row20_col9\" class=\"data row20 col9\" >nan</td>\n",
       "      <td id=\"T_6b8e4_row20_col10\" class=\"data row20 col10\" >1.045560</td>\n",
       "    </tr>\n",
       "    <tr>\n",
       "      <th id=\"T_6b8e4_level0_row21\" class=\"row_heading level0 row21\" >40</th>\n",
       "      <td id=\"T_6b8e4_row21_col0\" class=\"data row21 col0\" >40</td>\n",
       "      <td id=\"T_6b8e4_row21_col1\" class=\"data row21 col1\" >0-DANetConfig</td>\n",
       "      <td id=\"T_6b8e4_row21_col2\" class=\"data row21 col2\" >64.000000</td>\n",
       "      <td id=\"T_6b8e4_row21_col3\" class=\"data row21 col3\" >32.000000</td>\n",
       "      <td id=\"T_6b8e4_row21_col4\" class=\"data row21 col4\" >16.000000</td>\n",
       "      <td id=\"T_6b8e4_row21_col5\" class=\"data row21 col5\" >Adam</td>\n",
       "      <td id=\"T_6b8e4_row21_col6\" class=\"data row21 col6\" >1.103362</td>\n",
       "      <td id=\"T_6b8e4_row21_col7\" class=\"data row21 col7\" >1.103362</td>\n",
       "      <td id=\"T_6b8e4_row21_col8\" class=\"data row21 col8\" >nan</td>\n",
       "      <td id=\"T_6b8e4_row21_col9\" class=\"data row21 col9\" >nan</td>\n",
       "      <td id=\"T_6b8e4_row21_col10\" class=\"data row21 col10\" >1.050410</td>\n",
       "    </tr>\n",
       "    <tr>\n",
       "      <th id=\"T_6b8e4_level0_row22\" class=\"row_heading level0 row22\" >38</th>\n",
       "      <td id=\"T_6b8e4_row22_col0\" class=\"data row22 col0\" >38</td>\n",
       "      <td id=\"T_6b8e4_row22_col1\" class=\"data row22 col1\" >0-DANetConfig</td>\n",
       "      <td id=\"T_6b8e4_row22_col2\" class=\"data row22 col2\" >64.000000</td>\n",
       "      <td id=\"T_6b8e4_row22_col3\" class=\"data row22 col3\" >32.000000</td>\n",
       "      <td id=\"T_6b8e4_row22_col4\" class=\"data row22 col4\" >8.000000</td>\n",
       "      <td id=\"T_6b8e4_row22_col5\" class=\"data row22 col5\" >Adam</td>\n",
       "      <td id=\"T_6b8e4_row22_col6\" class=\"data row22 col6\" >1.113024</td>\n",
       "      <td id=\"T_6b8e4_row22_col7\" class=\"data row22 col7\" >1.113024</td>\n",
       "      <td id=\"T_6b8e4_row22_col8\" class=\"data row22 col8\" >nan</td>\n",
       "      <td id=\"T_6b8e4_row22_col9\" class=\"data row22 col9\" >nan</td>\n",
       "      <td id=\"T_6b8e4_row22_col10\" class=\"data row22 col10\" >1.055000</td>\n",
       "    </tr>\n",
       "    <tr>\n",
       "      <th id=\"T_6b8e4_level0_row23\" class=\"row_heading level0 row23\" >9</th>\n",
       "      <td id=\"T_6b8e4_row23_col0\" class=\"data row23 col0\" >9</td>\n",
       "      <td id=\"T_6b8e4_row23_col1\" class=\"data row23 col1\" >0-DANetConfig</td>\n",
       "      <td id=\"T_6b8e4_row23_col2\" class=\"data row23 col2\" >16.000000</td>\n",
       "      <td id=\"T_6b8e4_row23_col3\" class=\"data row23 col3\" >64.000000</td>\n",
       "      <td id=\"T_6b8e4_row23_col4\" class=\"data row23 col4\" >8.000000</td>\n",
       "      <td id=\"T_6b8e4_row23_col5\" class=\"data row23 col5\" >AdamW</td>\n",
       "      <td id=\"T_6b8e4_row23_col6\" class=\"data row23 col6\" >1.136451</td>\n",
       "      <td id=\"T_6b8e4_row23_col7\" class=\"data row23 col7\" >1.136451</td>\n",
       "      <td id=\"T_6b8e4_row23_col8\" class=\"data row23 col8\" >nan</td>\n",
       "      <td id=\"T_6b8e4_row23_col9\" class=\"data row23 col9\" >nan</td>\n",
       "      <td id=\"T_6b8e4_row23_col10\" class=\"data row23 col10\" >1.066044</td>\n",
       "    </tr>\n",
       "    <tr>\n",
       "      <th id=\"T_6b8e4_level0_row24\" class=\"row_heading level0 row24\" >17</th>\n",
       "      <td id=\"T_6b8e4_row24_col0\" class=\"data row24 col0\" >17</td>\n",
       "      <td id=\"T_6b8e4_row24_col1\" class=\"data row24 col1\" >0-DANetConfig</td>\n",
       "      <td id=\"T_6b8e4_row24_col2\" class=\"data row24 col2\" >16.000000</td>\n",
       "      <td id=\"T_6b8e4_row24_col3\" class=\"data row24 col3\" >128.000000</td>\n",
       "      <td id=\"T_6b8e4_row24_col4\" class=\"data row24 col4\" >16.000000</td>\n",
       "      <td id=\"T_6b8e4_row24_col5\" class=\"data row24 col5\" >AdamW</td>\n",
       "      <td id=\"T_6b8e4_row24_col6\" class=\"data row24 col6\" >1.138036</td>\n",
       "      <td id=\"T_6b8e4_row24_col7\" class=\"data row24 col7\" >1.138036</td>\n",
       "      <td id=\"T_6b8e4_row24_col8\" class=\"data row24 col8\" >nan</td>\n",
       "      <td id=\"T_6b8e4_row24_col9\" class=\"data row24 col9\" >nan</td>\n",
       "      <td id=\"T_6b8e4_row24_col10\" class=\"data row24 col10\" >1.066787</td>\n",
       "    </tr>\n",
       "    <tr>\n",
       "      <th id=\"T_6b8e4_level0_row25\" class=\"row_heading level0 row25\" >10</th>\n",
       "      <td id=\"T_6b8e4_row25_col0\" class=\"data row25 col0\" >10</td>\n",
       "      <td id=\"T_6b8e4_row25_col1\" class=\"data row25 col1\" >0-DANetConfig</td>\n",
       "      <td id=\"T_6b8e4_row25_col2\" class=\"data row25 col2\" >16.000000</td>\n",
       "      <td id=\"T_6b8e4_row25_col3\" class=\"data row25 col3\" >64.000000</td>\n",
       "      <td id=\"T_6b8e4_row25_col4\" class=\"data row25 col4\" >16.000000</td>\n",
       "      <td id=\"T_6b8e4_row25_col5\" class=\"data row25 col5\" >Adam</td>\n",
       "      <td id=\"T_6b8e4_row25_col6\" class=\"data row25 col6\" >1.139412</td>\n",
       "      <td id=\"T_6b8e4_row25_col7\" class=\"data row25 col7\" >1.139412</td>\n",
       "      <td id=\"T_6b8e4_row25_col8\" class=\"data row25 col8\" >nan</td>\n",
       "      <td id=\"T_6b8e4_row25_col9\" class=\"data row25 col9\" >nan</td>\n",
       "      <td id=\"T_6b8e4_row25_col10\" class=\"data row25 col10\" >1.067433</td>\n",
       "    </tr>\n",
       "    <tr>\n",
       "      <th id=\"T_6b8e4_level0_row26\" class=\"row_heading level0 row26\" >42</th>\n",
       "      <td id=\"T_6b8e4_row26_col0\" class=\"data row26 col0\" >42</td>\n",
       "      <td id=\"T_6b8e4_row26_col1\" class=\"data row26 col1\" >0-DANetConfig</td>\n",
       "      <td id=\"T_6b8e4_row26_col2\" class=\"data row26 col2\" >64.000000</td>\n",
       "      <td id=\"T_6b8e4_row26_col3\" class=\"data row26 col3\" >64.000000</td>\n",
       "      <td id=\"T_6b8e4_row26_col4\" class=\"data row26 col4\" >4.000000</td>\n",
       "      <td id=\"T_6b8e4_row26_col5\" class=\"data row26 col5\" >Adam</td>\n",
       "      <td id=\"T_6b8e4_row26_col6\" class=\"data row26 col6\" >1.149988</td>\n",
       "      <td id=\"T_6b8e4_row26_col7\" class=\"data row26 col7\" >1.149988</td>\n",
       "      <td id=\"T_6b8e4_row26_col8\" class=\"data row26 col8\" >nan</td>\n",
       "      <td id=\"T_6b8e4_row26_col9\" class=\"data row26 col9\" >nan</td>\n",
       "      <td id=\"T_6b8e4_row26_col10\" class=\"data row26 col10\" >1.072375</td>\n",
       "    </tr>\n",
       "    <tr>\n",
       "      <th id=\"T_6b8e4_level0_row27\" class=\"row_heading level0 row27\" >41</th>\n",
       "      <td id=\"T_6b8e4_row27_col0\" class=\"data row27 col0\" >41</td>\n",
       "      <td id=\"T_6b8e4_row27_col1\" class=\"data row27 col1\" >0-DANetConfig</td>\n",
       "      <td id=\"T_6b8e4_row27_col2\" class=\"data row27 col2\" >64.000000</td>\n",
       "      <td id=\"T_6b8e4_row27_col3\" class=\"data row27 col3\" >32.000000</td>\n",
       "      <td id=\"T_6b8e4_row27_col4\" class=\"data row27 col4\" >16.000000</td>\n",
       "      <td id=\"T_6b8e4_row27_col5\" class=\"data row27 col5\" >AdamW</td>\n",
       "      <td id=\"T_6b8e4_row27_col6\" class=\"data row27 col6\" >1.151558</td>\n",
       "      <td id=\"T_6b8e4_row27_col7\" class=\"data row27 col7\" >1.151558</td>\n",
       "      <td id=\"T_6b8e4_row27_col8\" class=\"data row27 col8\" >nan</td>\n",
       "      <td id=\"T_6b8e4_row27_col9\" class=\"data row27 col9\" >nan</td>\n",
       "      <td id=\"T_6b8e4_row27_col10\" class=\"data row27 col10\" >1.073107</td>\n",
       "    </tr>\n",
       "    <tr>\n",
       "      <th id=\"T_6b8e4_level0_row28\" class=\"row_heading level0 row28\" >51</th>\n",
       "      <td id=\"T_6b8e4_row28_col0\" class=\"data row28 col0\" >51</td>\n",
       "      <td id=\"T_6b8e4_row28_col1\" class=\"data row28 col1\" >0-DANetConfig</td>\n",
       "      <td id=\"T_6b8e4_row28_col2\" class=\"data row28 col2\" >64.000000</td>\n",
       "      <td id=\"T_6b8e4_row28_col3\" class=\"data row28 col3\" >128.000000</td>\n",
       "      <td id=\"T_6b8e4_row28_col4\" class=\"data row28 col4\" >8.000000</td>\n",
       "      <td id=\"T_6b8e4_row28_col5\" class=\"data row28 col5\" >AdamW</td>\n",
       "      <td id=\"T_6b8e4_row28_col6\" class=\"data row28 col6\" >1.153399</td>\n",
       "      <td id=\"T_6b8e4_row28_col7\" class=\"data row28 col7\" >1.153399</td>\n",
       "      <td id=\"T_6b8e4_row28_col8\" class=\"data row28 col8\" >nan</td>\n",
       "      <td id=\"T_6b8e4_row28_col9\" class=\"data row28 col9\" >nan</td>\n",
       "      <td id=\"T_6b8e4_row28_col10\" class=\"data row28 col10\" >1.073964</td>\n",
       "    </tr>\n",
       "    <tr>\n",
       "      <th id=\"T_6b8e4_level0_row29\" class=\"row_heading level0 row29\" >16</th>\n",
       "      <td id=\"T_6b8e4_row29_col0\" class=\"data row29 col0\" >16</td>\n",
       "      <td id=\"T_6b8e4_row29_col1\" class=\"data row29 col1\" >0-DANetConfig</td>\n",
       "      <td id=\"T_6b8e4_row29_col2\" class=\"data row29 col2\" >16.000000</td>\n",
       "      <td id=\"T_6b8e4_row29_col3\" class=\"data row29 col3\" >128.000000</td>\n",
       "      <td id=\"T_6b8e4_row29_col4\" class=\"data row29 col4\" >16.000000</td>\n",
       "      <td id=\"T_6b8e4_row29_col5\" class=\"data row29 col5\" >Adam</td>\n",
       "      <td id=\"T_6b8e4_row29_col6\" class=\"data row29 col6\" >1.158847</td>\n",
       "      <td id=\"T_6b8e4_row29_col7\" class=\"data row29 col7\" >1.158847</td>\n",
       "      <td id=\"T_6b8e4_row29_col8\" class=\"data row29 col8\" >nan</td>\n",
       "      <td id=\"T_6b8e4_row29_col9\" class=\"data row29 col9\" >nan</td>\n",
       "      <td id=\"T_6b8e4_row29_col10\" class=\"data row29 col10\" >1.076498</td>\n",
       "    </tr>\n",
       "    <tr>\n",
       "      <th id=\"T_6b8e4_level0_row30\" class=\"row_heading level0 row30\" >50</th>\n",
       "      <td id=\"T_6b8e4_row30_col0\" class=\"data row30 col0\" >50</td>\n",
       "      <td id=\"T_6b8e4_row30_col1\" class=\"data row30 col1\" >0-DANetConfig</td>\n",
       "      <td id=\"T_6b8e4_row30_col2\" class=\"data row30 col2\" >64.000000</td>\n",
       "      <td id=\"T_6b8e4_row30_col3\" class=\"data row30 col3\" >128.000000</td>\n",
       "      <td id=\"T_6b8e4_row30_col4\" class=\"data row30 col4\" >8.000000</td>\n",
       "      <td id=\"T_6b8e4_row30_col5\" class=\"data row30 col5\" >Adam</td>\n",
       "      <td id=\"T_6b8e4_row30_col6\" class=\"data row30 col6\" >1.163043</td>\n",
       "      <td id=\"T_6b8e4_row30_col7\" class=\"data row30 col7\" >1.163043</td>\n",
       "      <td id=\"T_6b8e4_row30_col8\" class=\"data row30 col8\" >nan</td>\n",
       "      <td id=\"T_6b8e4_row30_col9\" class=\"data row30 col9\" >nan</td>\n",
       "      <td id=\"T_6b8e4_row30_col10\" class=\"data row30 col10\" >1.078445</td>\n",
       "    </tr>\n",
       "    <tr>\n",
       "      <th id=\"T_6b8e4_level0_row31\" class=\"row_heading level0 row31\" >12</th>\n",
       "      <td id=\"T_6b8e4_row31_col0\" class=\"data row31 col0\" >12</td>\n",
       "      <td id=\"T_6b8e4_row31_col1\" class=\"data row31 col1\" >0-DANetConfig</td>\n",
       "      <td id=\"T_6b8e4_row31_col2\" class=\"data row31 col2\" >16.000000</td>\n",
       "      <td id=\"T_6b8e4_row31_col3\" class=\"data row31 col3\" >128.000000</td>\n",
       "      <td id=\"T_6b8e4_row31_col4\" class=\"data row31 col4\" >4.000000</td>\n",
       "      <td id=\"T_6b8e4_row31_col5\" class=\"data row31 col5\" >Adam</td>\n",
       "      <td id=\"T_6b8e4_row31_col6\" class=\"data row31 col6\" >1.232031</td>\n",
       "      <td id=\"T_6b8e4_row31_col7\" class=\"data row31 col7\" >1.232031</td>\n",
       "      <td id=\"T_6b8e4_row31_col8\" class=\"data row31 col8\" >nan</td>\n",
       "      <td id=\"T_6b8e4_row31_col9\" class=\"data row31 col9\" >nan</td>\n",
       "      <td id=\"T_6b8e4_row31_col10\" class=\"data row31 col10\" >1.109969</td>\n",
       "    </tr>\n",
       "    <tr>\n",
       "      <th id=\"T_6b8e4_level0_row32\" class=\"row_heading level0 row32\" >46</th>\n",
       "      <td id=\"T_6b8e4_row32_col0\" class=\"data row32 col0\" >46</td>\n",
       "      <td id=\"T_6b8e4_row32_col1\" class=\"data row32 col1\" >0-DANetConfig</td>\n",
       "      <td id=\"T_6b8e4_row32_col2\" class=\"data row32 col2\" >64.000000</td>\n",
       "      <td id=\"T_6b8e4_row32_col3\" class=\"data row32 col3\" >64.000000</td>\n",
       "      <td id=\"T_6b8e4_row32_col4\" class=\"data row32 col4\" >16.000000</td>\n",
       "      <td id=\"T_6b8e4_row32_col5\" class=\"data row32 col5\" >Adam</td>\n",
       "      <td id=\"T_6b8e4_row32_col6\" class=\"data row32 col6\" >1.287838</td>\n",
       "      <td id=\"T_6b8e4_row32_col7\" class=\"data row32 col7\" >1.287838</td>\n",
       "      <td id=\"T_6b8e4_row32_col8\" class=\"data row32 col8\" >nan</td>\n",
       "      <td id=\"T_6b8e4_row32_col9\" class=\"data row32 col9\" >nan</td>\n",
       "      <td id=\"T_6b8e4_row32_col10\" class=\"data row32 col10\" >1.134829</td>\n",
       "    </tr>\n",
       "    <tr>\n",
       "      <th id=\"T_6b8e4_level0_row33\" class=\"row_heading level0 row33\" >11</th>\n",
       "      <td id=\"T_6b8e4_row33_col0\" class=\"data row33 col0\" >11</td>\n",
       "      <td id=\"T_6b8e4_row33_col1\" class=\"data row33 col1\" >0-DANetConfig</td>\n",
       "      <td id=\"T_6b8e4_row33_col2\" class=\"data row33 col2\" >16.000000</td>\n",
       "      <td id=\"T_6b8e4_row33_col3\" class=\"data row33 col3\" >64.000000</td>\n",
       "      <td id=\"T_6b8e4_row33_col4\" class=\"data row33 col4\" >16.000000</td>\n",
       "      <td id=\"T_6b8e4_row33_col5\" class=\"data row33 col5\" >AdamW</td>\n",
       "      <td id=\"T_6b8e4_row33_col6\" class=\"data row33 col6\" >1.439426</td>\n",
       "      <td id=\"T_6b8e4_row33_col7\" class=\"data row33 col7\" >1.439426</td>\n",
       "      <td id=\"T_6b8e4_row33_col8\" class=\"data row33 col8\" >nan</td>\n",
       "      <td id=\"T_6b8e4_row33_col9\" class=\"data row33 col9\" >nan</td>\n",
       "      <td id=\"T_6b8e4_row33_col10\" class=\"data row33 col10\" >1.199761</td>\n",
       "    </tr>\n",
       "    <tr>\n",
       "      <th id=\"T_6b8e4_level0_row34\" class=\"row_heading level0 row34\" >1</th>\n",
       "      <td id=\"T_6b8e4_row34_col0\" class=\"data row34 col0\" >1</td>\n",
       "      <td id=\"T_6b8e4_row34_col1\" class=\"data row34 col1\" >0-DANetConfig</td>\n",
       "      <td id=\"T_6b8e4_row34_col2\" class=\"data row34 col2\" >16.000000</td>\n",
       "      <td id=\"T_6b8e4_row34_col3\" class=\"data row34 col3\" >32.000000</td>\n",
       "      <td id=\"T_6b8e4_row34_col4\" class=\"data row34 col4\" >4.000000</td>\n",
       "      <td id=\"T_6b8e4_row34_col5\" class=\"data row34 col5\" >AdamW</td>\n",
       "      <td id=\"T_6b8e4_row34_col6\" class=\"data row34 col6\" >1.733807</td>\n",
       "      <td id=\"T_6b8e4_row34_col7\" class=\"data row34 col7\" >1.733807</td>\n",
       "      <td id=\"T_6b8e4_row34_col8\" class=\"data row34 col8\" >nan</td>\n",
       "      <td id=\"T_6b8e4_row34_col9\" class=\"data row34 col9\" >nan</td>\n",
       "      <td id=\"T_6b8e4_row34_col10\" class=\"data row34 col10\" >1.316741</td>\n",
       "    </tr>\n",
       "    <tr>\n",
       "      <th id=\"T_6b8e4_level0_row35\" class=\"row_heading level0 row35\" >22</th>\n",
       "      <td id=\"T_6b8e4_row35_col0\" class=\"data row35 col0\" >22</td>\n",
       "      <td id=\"T_6b8e4_row35_col1\" class=\"data row35 col1\" >0-DANetConfig</td>\n",
       "      <td id=\"T_6b8e4_row35_col2\" class=\"data row35 col2\" >32.000000</td>\n",
       "      <td id=\"T_6b8e4_row35_col3\" class=\"data row35 col3\" >32.000000</td>\n",
       "      <td id=\"T_6b8e4_row35_col4\" class=\"data row35 col4\" >16.000000</td>\n",
       "      <td id=\"T_6b8e4_row35_col5\" class=\"data row35 col5\" >Adam</td>\n",
       "      <td id=\"T_6b8e4_row35_col6\" class=\"data row35 col6\" >1.845255</td>\n",
       "      <td id=\"T_6b8e4_row35_col7\" class=\"data row35 col7\" >1.845255</td>\n",
       "      <td id=\"T_6b8e4_row35_col8\" class=\"data row35 col8\" >nan</td>\n",
       "      <td id=\"T_6b8e4_row35_col9\" class=\"data row35 col9\" >nan</td>\n",
       "      <td id=\"T_6b8e4_row35_col10\" class=\"data row35 col10\" >1.358402</td>\n",
       "    </tr>\n",
       "    <tr>\n",
       "      <th id=\"T_6b8e4_level0_row36\" class=\"row_heading level0 row36\" >47</th>\n",
       "      <td id=\"T_6b8e4_row36_col0\" class=\"data row36 col0\" >47</td>\n",
       "      <td id=\"T_6b8e4_row36_col1\" class=\"data row36 col1\" >0-DANetConfig</td>\n",
       "      <td id=\"T_6b8e4_row36_col2\" class=\"data row36 col2\" >64.000000</td>\n",
       "      <td id=\"T_6b8e4_row36_col3\" class=\"data row36 col3\" >64.000000</td>\n",
       "      <td id=\"T_6b8e4_row36_col4\" class=\"data row36 col4\" >16.000000</td>\n",
       "      <td id=\"T_6b8e4_row36_col5\" class=\"data row36 col5\" >AdamW</td>\n",
       "      <td id=\"T_6b8e4_row36_col6\" class=\"data row36 col6\" >1.946491</td>\n",
       "      <td id=\"T_6b8e4_row36_col7\" class=\"data row36 col7\" >1.946491</td>\n",
       "      <td id=\"T_6b8e4_row36_col8\" class=\"data row36 col8\" >nan</td>\n",
       "      <td id=\"T_6b8e4_row36_col9\" class=\"data row36 col9\" >nan</td>\n",
       "      <td id=\"T_6b8e4_row36_col10\" class=\"data row36 col10\" >1.395167</td>\n",
       "    </tr>\n",
       "    <tr>\n",
       "      <th id=\"T_6b8e4_level0_row37\" class=\"row_heading level0 row37\" >64</th>\n",
       "      <td id=\"T_6b8e4_row37_col0\" class=\"data row37 col0\" >10</td>\n",
       "      <td id=\"T_6b8e4_row37_col1\" class=\"data row37 col1\" >1-GANDALFConfig</td>\n",
       "      <td id=\"T_6b8e4_row37_col2\" class=\"data row37 col2\" >nan</td>\n",
       "      <td id=\"T_6b8e4_row37_col3\" class=\"data row37 col3\" >nan</td>\n",
       "      <td id=\"T_6b8e4_row37_col4\" class=\"data row37 col4\" >nan</td>\n",
       "      <td id=\"T_6b8e4_row37_col5\" class=\"data row37 col5\" >Adam</td>\n",
       "      <td id=\"T_6b8e4_row37_col6\" class=\"data row37 col6\" >2.167663</td>\n",
       "      <td id=\"T_6b8e4_row37_col7\" class=\"data row37 col7\" >2.167663</td>\n",
       "      <td id=\"T_6b8e4_row37_col8\" class=\"data row37 col8\" >0.200000</td>\n",
       "      <td id=\"T_6b8e4_row37_col9\" class=\"data row37 col9\" >15.000000</td>\n",
       "      <td id=\"T_6b8e4_row37_col10\" class=\"data row37 col10\" >1.472298</td>\n",
       "    </tr>\n",
       "    <tr>\n",
       "      <th id=\"T_6b8e4_level0_row38\" class=\"row_heading level0 row38\" >57</th>\n",
       "      <td id=\"T_6b8e4_row38_col0\" class=\"data row38 col0\" >3</td>\n",
       "      <td id=\"T_6b8e4_row38_col1\" class=\"data row38 col1\" >1-GANDALFConfig</td>\n",
       "      <td id=\"T_6b8e4_row38_col2\" class=\"data row38 col2\" >nan</td>\n",
       "      <td id=\"T_6b8e4_row38_col3\" class=\"data row38 col3\" >nan</td>\n",
       "      <td id=\"T_6b8e4_row38_col4\" class=\"data row38 col4\" >nan</td>\n",
       "      <td id=\"T_6b8e4_row38_col5\" class=\"data row38 col5\" >AdamW</td>\n",
       "      <td id=\"T_6b8e4_row38_col6\" class=\"data row38 col6\" >2.227383</td>\n",
       "      <td id=\"T_6b8e4_row38_col7\" class=\"data row38 col7\" >2.227383</td>\n",
       "      <td id=\"T_6b8e4_row38_col8\" class=\"data row38 col8\" >0.000000</td>\n",
       "      <td id=\"T_6b8e4_row38_col9\" class=\"data row38 col9\" >12.000000</td>\n",
       "      <td id=\"T_6b8e4_row38_col10\" class=\"data row38 col10\" >1.492442</td>\n",
       "    </tr>\n",
       "    <tr>\n",
       "      <th id=\"T_6b8e4_level0_row39\" class=\"row_heading level0 row39\" >60</th>\n",
       "      <td id=\"T_6b8e4_row39_col0\" class=\"data row39 col0\" >6</td>\n",
       "      <td id=\"T_6b8e4_row39_col1\" class=\"data row39 col1\" >1-GANDALFConfig</td>\n",
       "      <td id=\"T_6b8e4_row39_col2\" class=\"data row39 col2\" >nan</td>\n",
       "      <td id=\"T_6b8e4_row39_col3\" class=\"data row39 col3\" >nan</td>\n",
       "      <td id=\"T_6b8e4_row39_col4\" class=\"data row39 col4\" >nan</td>\n",
       "      <td id=\"T_6b8e4_row39_col5\" class=\"data row39 col5\" >Adam</td>\n",
       "      <td id=\"T_6b8e4_row39_col6\" class=\"data row39 col6\" >2.352171</td>\n",
       "      <td id=\"T_6b8e4_row39_col7\" class=\"data row39 col7\" >2.352171</td>\n",
       "      <td id=\"T_6b8e4_row39_col8\" class=\"data row39 col8\" >0.200000</td>\n",
       "      <td id=\"T_6b8e4_row39_col9\" class=\"data row39 col9\" >6.000000</td>\n",
       "      <td id=\"T_6b8e4_row39_col10\" class=\"data row39 col10\" >1.533679</td>\n",
       "    </tr>\n",
       "    <tr>\n",
       "      <th id=\"T_6b8e4_level0_row40\" class=\"row_heading level0 row40\" >62</th>\n",
       "      <td id=\"T_6b8e4_row40_col0\" class=\"data row40 col0\" >8</td>\n",
       "      <td id=\"T_6b8e4_row40_col1\" class=\"data row40 col1\" >1-GANDALFConfig</td>\n",
       "      <td id=\"T_6b8e4_row40_col2\" class=\"data row40 col2\" >nan</td>\n",
       "      <td id=\"T_6b8e4_row40_col3\" class=\"data row40 col3\" >nan</td>\n",
       "      <td id=\"T_6b8e4_row40_col4\" class=\"data row40 col4\" >nan</td>\n",
       "      <td id=\"T_6b8e4_row40_col5\" class=\"data row40 col5\" >Adam</td>\n",
       "      <td id=\"T_6b8e4_row40_col6\" class=\"data row40 col6\" >2.385857</td>\n",
       "      <td id=\"T_6b8e4_row40_col7\" class=\"data row40 col7\" >2.385857</td>\n",
       "      <td id=\"T_6b8e4_row40_col8\" class=\"data row40 col8\" >0.200000</td>\n",
       "      <td id=\"T_6b8e4_row40_col9\" class=\"data row40 col9\" >12.000000</td>\n",
       "      <td id=\"T_6b8e4_row40_col10\" class=\"data row40 col10\" >1.544622</td>\n",
       "    </tr>\n",
       "    <tr>\n",
       "      <th id=\"T_6b8e4_level0_row41\" class=\"row_heading level0 row41\" >58</th>\n",
       "      <td id=\"T_6b8e4_row41_col0\" class=\"data row41 col0\" >4</td>\n",
       "      <td id=\"T_6b8e4_row41_col1\" class=\"data row41 col1\" >1-GANDALFConfig</td>\n",
       "      <td id=\"T_6b8e4_row41_col2\" class=\"data row41 col2\" >nan</td>\n",
       "      <td id=\"T_6b8e4_row41_col3\" class=\"data row41 col3\" >nan</td>\n",
       "      <td id=\"T_6b8e4_row41_col4\" class=\"data row41 col4\" >nan</td>\n",
       "      <td id=\"T_6b8e4_row41_col5\" class=\"data row41 col5\" >Adam</td>\n",
       "      <td id=\"T_6b8e4_row41_col6\" class=\"data row41 col6\" >2.526908</td>\n",
       "      <td id=\"T_6b8e4_row41_col7\" class=\"data row41 col7\" >2.526908</td>\n",
       "      <td id=\"T_6b8e4_row41_col8\" class=\"data row41 col8\" >0.000000</td>\n",
       "      <td id=\"T_6b8e4_row41_col9\" class=\"data row41 col9\" >15.000000</td>\n",
       "      <td id=\"T_6b8e4_row41_col10\" class=\"data row41 col10\" >1.589625</td>\n",
       "    </tr>\n",
       "    <tr>\n",
       "      <th id=\"T_6b8e4_level0_row42\" class=\"row_heading level0 row42\" >59</th>\n",
       "      <td id=\"T_6b8e4_row42_col0\" class=\"data row42 col0\" >5</td>\n",
       "      <td id=\"T_6b8e4_row42_col1\" class=\"data row42 col1\" >1-GANDALFConfig</td>\n",
       "      <td id=\"T_6b8e4_row42_col2\" class=\"data row42 col2\" >nan</td>\n",
       "      <td id=\"T_6b8e4_row42_col3\" class=\"data row42 col3\" >nan</td>\n",
       "      <td id=\"T_6b8e4_row42_col4\" class=\"data row42 col4\" >nan</td>\n",
       "      <td id=\"T_6b8e4_row42_col5\" class=\"data row42 col5\" >AdamW</td>\n",
       "      <td id=\"T_6b8e4_row42_col6\" class=\"data row42 col6\" >3.070363</td>\n",
       "      <td id=\"T_6b8e4_row42_col7\" class=\"data row42 col7\" >3.070363</td>\n",
       "      <td id=\"T_6b8e4_row42_col8\" class=\"data row42 col8\" >0.000000</td>\n",
       "      <td id=\"T_6b8e4_row42_col9\" class=\"data row42 col9\" >15.000000</td>\n",
       "      <td id=\"T_6b8e4_row42_col10\" class=\"data row42 col10\" >1.752245</td>\n",
       "    </tr>\n",
       "    <tr>\n",
       "      <th id=\"T_6b8e4_level0_row43\" class=\"row_heading level0 row43\" >54</th>\n",
       "      <td id=\"T_6b8e4_row43_col0\" class=\"data row43 col0\" >0</td>\n",
       "      <td id=\"T_6b8e4_row43_col1\" class=\"data row43 col1\" >1-GANDALFConfig</td>\n",
       "      <td id=\"T_6b8e4_row43_col2\" class=\"data row43 col2\" >nan</td>\n",
       "      <td id=\"T_6b8e4_row43_col3\" class=\"data row43 col3\" >nan</td>\n",
       "      <td id=\"T_6b8e4_row43_col4\" class=\"data row43 col4\" >nan</td>\n",
       "      <td id=\"T_6b8e4_row43_col5\" class=\"data row43 col5\" >Adam</td>\n",
       "      <td id=\"T_6b8e4_row43_col6\" class=\"data row43 col6\" >6.167862</td>\n",
       "      <td id=\"T_6b8e4_row43_col7\" class=\"data row43 col7\" >6.167862</td>\n",
       "      <td id=\"T_6b8e4_row43_col8\" class=\"data row43 col8\" >0.000000</td>\n",
       "      <td id=\"T_6b8e4_row43_col9\" class=\"data row43 col9\" >6.000000</td>\n",
       "      <td id=\"T_6b8e4_row43_col10\" class=\"data row43 col10\" >2.483518</td>\n",
       "    </tr>\n",
       "    <tr>\n",
       "      <th id=\"T_6b8e4_level0_row44\" class=\"row_heading level0 row44\" >27</th>\n",
       "      <td id=\"T_6b8e4_row44_col0\" class=\"data row44 col0\" >27</td>\n",
       "      <td id=\"T_6b8e4_row44_col1\" class=\"data row44 col1\" >0-DANetConfig</td>\n",
       "      <td id=\"T_6b8e4_row44_col2\" class=\"data row44 col2\" >32.000000</td>\n",
       "      <td id=\"T_6b8e4_row44_col3\" class=\"data row44 col3\" >64.000000</td>\n",
       "      <td id=\"T_6b8e4_row44_col4\" class=\"data row44 col4\" >8.000000</td>\n",
       "      <td id=\"T_6b8e4_row44_col5\" class=\"data row44 col5\" >AdamW</td>\n",
       "      <td id=\"T_6b8e4_row44_col6\" class=\"data row44 col6\" >22.244835</td>\n",
       "      <td id=\"T_6b8e4_row44_col7\" class=\"data row44 col7\" >22.244835</td>\n",
       "      <td id=\"T_6b8e4_row44_col8\" class=\"data row44 col8\" >nan</td>\n",
       "      <td id=\"T_6b8e4_row44_col9\" class=\"data row44 col9\" >nan</td>\n",
       "      <td id=\"T_6b8e4_row44_col10\" class=\"data row44 col10\" >4.716443</td>\n",
       "    </tr>\n",
       "    <tr>\n",
       "      <th id=\"T_6b8e4_level0_row45\" class=\"row_heading level0 row45\" >7</th>\n",
       "      <td id=\"T_6b8e4_row45_col0\" class=\"data row45 col0\" >7</td>\n",
       "      <td id=\"T_6b8e4_row45_col1\" class=\"data row45 col1\" >0-DANetConfig</td>\n",
       "      <td id=\"T_6b8e4_row45_col2\" class=\"data row45 col2\" >16.000000</td>\n",
       "      <td id=\"T_6b8e4_row45_col3\" class=\"data row45 col3\" >64.000000</td>\n",
       "      <td id=\"T_6b8e4_row45_col4\" class=\"data row45 col4\" >4.000000</td>\n",
       "      <td id=\"T_6b8e4_row45_col5\" class=\"data row45 col5\" >AdamW</td>\n",
       "      <td id=\"T_6b8e4_row45_col6\" class=\"data row45 col6\" >22.638838</td>\n",
       "      <td id=\"T_6b8e4_row45_col7\" class=\"data row45 col7\" >22.638838</td>\n",
       "      <td id=\"T_6b8e4_row45_col8\" class=\"data row45 col8\" >nan</td>\n",
       "      <td id=\"T_6b8e4_row45_col9\" class=\"data row45 col9\" >nan</td>\n",
       "      <td id=\"T_6b8e4_row45_col10\" class=\"data row45 col10\" >4.758029</td>\n",
       "    </tr>\n",
       "    <tr>\n",
       "      <th id=\"T_6b8e4_level0_row46\" class=\"row_heading level0 row46\" >30</th>\n",
       "      <td id=\"T_6b8e4_row46_col0\" class=\"data row46 col0\" >30</td>\n",
       "      <td id=\"T_6b8e4_row46_col1\" class=\"data row46 col1\" >0-DANetConfig</td>\n",
       "      <td id=\"T_6b8e4_row46_col2\" class=\"data row46 col2\" >32.000000</td>\n",
       "      <td id=\"T_6b8e4_row46_col3\" class=\"data row46 col3\" >128.000000</td>\n",
       "      <td id=\"T_6b8e4_row46_col4\" class=\"data row46 col4\" >4.000000</td>\n",
       "      <td id=\"T_6b8e4_row46_col5\" class=\"data row46 col5\" >Adam</td>\n",
       "      <td id=\"T_6b8e4_row46_col6\" class=\"data row46 col6\" >23.056683</td>\n",
       "      <td id=\"T_6b8e4_row46_col7\" class=\"data row46 col7\" >23.056683</td>\n",
       "      <td id=\"T_6b8e4_row46_col8\" class=\"data row46 col8\" >nan</td>\n",
       "      <td id=\"T_6b8e4_row46_col9\" class=\"data row46 col9\" >nan</td>\n",
       "      <td id=\"T_6b8e4_row46_col10\" class=\"data row46 col10\" >4.801737</td>\n",
       "    </tr>\n",
       "    <tr>\n",
       "      <th id=\"T_6b8e4_level0_row47\" class=\"row_heading level0 row47\" >45</th>\n",
       "      <td id=\"T_6b8e4_row47_col0\" class=\"data row47 col0\" >45</td>\n",
       "      <td id=\"T_6b8e4_row47_col1\" class=\"data row47 col1\" >0-DANetConfig</td>\n",
       "      <td id=\"T_6b8e4_row47_col2\" class=\"data row47 col2\" >64.000000</td>\n",
       "      <td id=\"T_6b8e4_row47_col3\" class=\"data row47 col3\" >64.000000</td>\n",
       "      <td id=\"T_6b8e4_row47_col4\" class=\"data row47 col4\" >8.000000</td>\n",
       "      <td id=\"T_6b8e4_row47_col5\" class=\"data row47 col5\" >AdamW</td>\n",
       "      <td id=\"T_6b8e4_row47_col6\" class=\"data row47 col6\" >23.163940</td>\n",
       "      <td id=\"T_6b8e4_row47_col7\" class=\"data row47 col7\" >23.163940</td>\n",
       "      <td id=\"T_6b8e4_row47_col8\" class=\"data row47 col8\" >nan</td>\n",
       "      <td id=\"T_6b8e4_row47_col9\" class=\"data row47 col9\" >nan</td>\n",
       "      <td id=\"T_6b8e4_row47_col10\" class=\"data row47 col10\" >4.812893</td>\n",
       "    </tr>\n",
       "    <tr>\n",
       "      <th id=\"T_6b8e4_level0_row48\" class=\"row_heading level0 row48\" >61</th>\n",
       "      <td id=\"T_6b8e4_row48_col0\" class=\"data row48 col0\" >7</td>\n",
       "      <td id=\"T_6b8e4_row48_col1\" class=\"data row48 col1\" >1-GANDALFConfig</td>\n",
       "      <td id=\"T_6b8e4_row48_col2\" class=\"data row48 col2\" >nan</td>\n",
       "      <td id=\"T_6b8e4_row48_col3\" class=\"data row48 col3\" >nan</td>\n",
       "      <td id=\"T_6b8e4_row48_col4\" class=\"data row48 col4\" >nan</td>\n",
       "      <td id=\"T_6b8e4_row48_col5\" class=\"data row48 col5\" >AdamW</td>\n",
       "      <td id=\"T_6b8e4_row48_col6\" class=\"data row48 col6\" >23.284924</td>\n",
       "      <td id=\"T_6b8e4_row48_col7\" class=\"data row48 col7\" >23.284924</td>\n",
       "      <td id=\"T_6b8e4_row48_col8\" class=\"data row48 col8\" >0.200000</td>\n",
       "      <td id=\"T_6b8e4_row48_col9\" class=\"data row48 col9\" >6.000000</td>\n",
       "      <td id=\"T_6b8e4_row48_col10\" class=\"data row48 col10\" >4.825445</td>\n",
       "    </tr>\n",
       "    <tr>\n",
       "      <th id=\"T_6b8e4_level0_row49\" class=\"row_heading level0 row49\" >53</th>\n",
       "      <td id=\"T_6b8e4_row49_col0\" class=\"data row49 col0\" >53</td>\n",
       "      <td id=\"T_6b8e4_row49_col1\" class=\"data row49 col1\" >0-DANetConfig</td>\n",
       "      <td id=\"T_6b8e4_row49_col2\" class=\"data row49 col2\" >64.000000</td>\n",
       "      <td id=\"T_6b8e4_row49_col3\" class=\"data row49 col3\" >128.000000</td>\n",
       "      <td id=\"T_6b8e4_row49_col4\" class=\"data row49 col4\" >16.000000</td>\n",
       "      <td id=\"T_6b8e4_row49_col5\" class=\"data row49 col5\" >AdamW</td>\n",
       "      <td id=\"T_6b8e4_row49_col6\" class=\"data row49 col6\" >23.414888</td>\n",
       "      <td id=\"T_6b8e4_row49_col7\" class=\"data row49 col7\" >23.414888</td>\n",
       "      <td id=\"T_6b8e4_row49_col8\" class=\"data row49 col8\" >nan</td>\n",
       "      <td id=\"T_6b8e4_row49_col9\" class=\"data row49 col9\" >nan</td>\n",
       "      <td id=\"T_6b8e4_row49_col10\" class=\"data row49 col10\" >4.838893</td>\n",
       "    </tr>\n",
       "    <tr>\n",
       "      <th id=\"T_6b8e4_level0_row50\" class=\"row_heading level0 row50\" >63</th>\n",
       "      <td id=\"T_6b8e4_row50_col0\" class=\"data row50 col0\" >9</td>\n",
       "      <td id=\"T_6b8e4_row50_col1\" class=\"data row50 col1\" >1-GANDALFConfig</td>\n",
       "      <td id=\"T_6b8e4_row50_col2\" class=\"data row50 col2\" >nan</td>\n",
       "      <td id=\"T_6b8e4_row50_col3\" class=\"data row50 col3\" >nan</td>\n",
       "      <td id=\"T_6b8e4_row50_col4\" class=\"data row50 col4\" >nan</td>\n",
       "      <td id=\"T_6b8e4_row50_col5\" class=\"data row50 col5\" >AdamW</td>\n",
       "      <td id=\"T_6b8e4_row50_col6\" class=\"data row50 col6\" >23.464651</td>\n",
       "      <td id=\"T_6b8e4_row50_col7\" class=\"data row50 col7\" >23.464651</td>\n",
       "      <td id=\"T_6b8e4_row50_col8\" class=\"data row50 col8\" >0.200000</td>\n",
       "      <td id=\"T_6b8e4_row50_col9\" class=\"data row50 col9\" >12.000000</td>\n",
       "      <td id=\"T_6b8e4_row50_col10\" class=\"data row50 col10\" >4.844033</td>\n",
       "    </tr>\n",
       "    <tr>\n",
       "      <th id=\"T_6b8e4_level0_row51\" class=\"row_heading level0 row51\" >2</th>\n",
       "      <td id=\"T_6b8e4_row51_col0\" class=\"data row51 col0\" >2</td>\n",
       "      <td id=\"T_6b8e4_row51_col1\" class=\"data row51 col1\" >0-DANetConfig</td>\n",
       "      <td id=\"T_6b8e4_row51_col2\" class=\"data row51 col2\" >16.000000</td>\n",
       "      <td id=\"T_6b8e4_row51_col3\" class=\"data row51 col3\" >32.000000</td>\n",
       "      <td id=\"T_6b8e4_row51_col4\" class=\"data row51 col4\" >8.000000</td>\n",
       "      <td id=\"T_6b8e4_row51_col5\" class=\"data row51 col5\" >Adam</td>\n",
       "      <td id=\"T_6b8e4_row51_col6\" class=\"data row51 col6\" >23.518171</td>\n",
       "      <td id=\"T_6b8e4_row51_col7\" class=\"data row51 col7\" >23.518171</td>\n",
       "      <td id=\"T_6b8e4_row51_col8\" class=\"data row51 col8\" >nan</td>\n",
       "      <td id=\"T_6b8e4_row51_col9\" class=\"data row51 col9\" >nan</td>\n",
       "      <td id=\"T_6b8e4_row51_col10\" class=\"data row51 col10\" >4.849554</td>\n",
       "    </tr>\n",
       "    <tr>\n",
       "      <th id=\"T_6b8e4_level0_row52\" class=\"row_heading level0 row52\" >23</th>\n",
       "      <td id=\"T_6b8e4_row52_col0\" class=\"data row52 col0\" >23</td>\n",
       "      <td id=\"T_6b8e4_row52_col1\" class=\"data row52 col1\" >0-DANetConfig</td>\n",
       "      <td id=\"T_6b8e4_row52_col2\" class=\"data row52 col2\" >32.000000</td>\n",
       "      <td id=\"T_6b8e4_row52_col3\" class=\"data row52 col3\" >32.000000</td>\n",
       "      <td id=\"T_6b8e4_row52_col4\" class=\"data row52 col4\" >16.000000</td>\n",
       "      <td id=\"T_6b8e4_row52_col5\" class=\"data row52 col5\" >AdamW</td>\n",
       "      <td id=\"T_6b8e4_row52_col6\" class=\"data row52 col6\" >23.524841</td>\n",
       "      <td id=\"T_6b8e4_row52_col7\" class=\"data row52 col7\" >23.524841</td>\n",
       "      <td id=\"T_6b8e4_row52_col8\" class=\"data row52 col8\" >nan</td>\n",
       "      <td id=\"T_6b8e4_row52_col9\" class=\"data row52 col9\" >nan</td>\n",
       "      <td id=\"T_6b8e4_row52_col10\" class=\"data row52 col10\" >4.850241</td>\n",
       "    </tr>\n",
       "    <tr>\n",
       "      <th id=\"T_6b8e4_level0_row53\" class=\"row_heading level0 row53\" >56</th>\n",
       "      <td id=\"T_6b8e4_row53_col0\" class=\"data row53 col0\" >2</td>\n",
       "      <td id=\"T_6b8e4_row53_col1\" class=\"data row53 col1\" >1-GANDALFConfig</td>\n",
       "      <td id=\"T_6b8e4_row53_col2\" class=\"data row53 col2\" >nan</td>\n",
       "      <td id=\"T_6b8e4_row53_col3\" class=\"data row53 col3\" >nan</td>\n",
       "      <td id=\"T_6b8e4_row53_col4\" class=\"data row53 col4\" >nan</td>\n",
       "      <td id=\"T_6b8e4_row53_col5\" class=\"data row53 col5\" >Adam</td>\n",
       "      <td id=\"T_6b8e4_row53_col6\" class=\"data row53 col6\" >23.558699</td>\n",
       "      <td id=\"T_6b8e4_row53_col7\" class=\"data row53 col7\" >23.558699</td>\n",
       "      <td id=\"T_6b8e4_row53_col8\" class=\"data row53 col8\" >0.000000</td>\n",
       "      <td id=\"T_6b8e4_row53_col9\" class=\"data row53 col9\" >12.000000</td>\n",
       "      <td id=\"T_6b8e4_row53_col10\" class=\"data row53 col10\" >4.853730</td>\n",
       "    </tr>\n",
       "    <tr>\n",
       "      <th id=\"T_6b8e4_level0_row54\" class=\"row_heading level0 row54\" >55</th>\n",
       "      <td id=\"T_6b8e4_row54_col0\" class=\"data row54 col0\" >1</td>\n",
       "      <td id=\"T_6b8e4_row54_col1\" class=\"data row54 col1\" >1-GANDALFConfig</td>\n",
       "      <td id=\"T_6b8e4_row54_col2\" class=\"data row54 col2\" >nan</td>\n",
       "      <td id=\"T_6b8e4_row54_col3\" class=\"data row54 col3\" >nan</td>\n",
       "      <td id=\"T_6b8e4_row54_col4\" class=\"data row54 col4\" >nan</td>\n",
       "      <td id=\"T_6b8e4_row54_col5\" class=\"data row54 col5\" >AdamW</td>\n",
       "      <td id=\"T_6b8e4_row54_col6\" class=\"data row54 col6\" >23.629654</td>\n",
       "      <td id=\"T_6b8e4_row54_col7\" class=\"data row54 col7\" >23.629654</td>\n",
       "      <td id=\"T_6b8e4_row54_col8\" class=\"data row54 col8\" >0.000000</td>\n",
       "      <td id=\"T_6b8e4_row54_col9\" class=\"data row54 col9\" >6.000000</td>\n",
       "      <td id=\"T_6b8e4_row54_col10\" class=\"data row54 col10\" >4.861034</td>\n",
       "    </tr>\n",
       "    <tr>\n",
       "      <th id=\"T_6b8e4_level0_row55\" class=\"row_heading level0 row55\" >32</th>\n",
       "      <td id=\"T_6b8e4_row55_col0\" class=\"data row55 col0\" >32</td>\n",
       "      <td id=\"T_6b8e4_row55_col1\" class=\"data row55 col1\" >0-DANetConfig</td>\n",
       "      <td id=\"T_6b8e4_row55_col2\" class=\"data row55 col2\" >32.000000</td>\n",
       "      <td id=\"T_6b8e4_row55_col3\" class=\"data row55 col3\" >128.000000</td>\n",
       "      <td id=\"T_6b8e4_row55_col4\" class=\"data row55 col4\" >8.000000</td>\n",
       "      <td id=\"T_6b8e4_row55_col5\" class=\"data row55 col5\" >Adam</td>\n",
       "      <td id=\"T_6b8e4_row55_col6\" class=\"data row55 col6\" >23.680782</td>\n",
       "      <td id=\"T_6b8e4_row55_col7\" class=\"data row55 col7\" >23.680782</td>\n",
       "      <td id=\"T_6b8e4_row55_col8\" class=\"data row55 col8\" >nan</td>\n",
       "      <td id=\"T_6b8e4_row55_col9\" class=\"data row55 col9\" >nan</td>\n",
       "      <td id=\"T_6b8e4_row55_col10\" class=\"data row55 col10\" >4.866290</td>\n",
       "    </tr>\n",
       "    <tr>\n",
       "      <th id=\"T_6b8e4_level0_row56\" class=\"row_heading level0 row56\" >24</th>\n",
       "      <td id=\"T_6b8e4_row56_col0\" class=\"data row56 col0\" >24</td>\n",
       "      <td id=\"T_6b8e4_row56_col1\" class=\"data row56 col1\" >0-DANetConfig</td>\n",
       "      <td id=\"T_6b8e4_row56_col2\" class=\"data row56 col2\" >32.000000</td>\n",
       "      <td id=\"T_6b8e4_row56_col3\" class=\"data row56 col3\" >64.000000</td>\n",
       "      <td id=\"T_6b8e4_row56_col4\" class=\"data row56 col4\" >4.000000</td>\n",
       "      <td id=\"T_6b8e4_row56_col5\" class=\"data row56 col5\" >Adam</td>\n",
       "      <td id=\"T_6b8e4_row56_col6\" class=\"data row56 col6\" >23.681072</td>\n",
       "      <td id=\"T_6b8e4_row56_col7\" class=\"data row56 col7\" >23.681072</td>\n",
       "      <td id=\"T_6b8e4_row56_col8\" class=\"data row56 col8\" >nan</td>\n",
       "      <td id=\"T_6b8e4_row56_col9\" class=\"data row56 col9\" >nan</td>\n",
       "      <td id=\"T_6b8e4_row56_col10\" class=\"data row56 col10\" >4.866320</td>\n",
       "    </tr>\n",
       "    <tr>\n",
       "      <th id=\"T_6b8e4_level0_row57\" class=\"row_heading level0 row57\" >21</th>\n",
       "      <td id=\"T_6b8e4_row57_col0\" class=\"data row57 col0\" >21</td>\n",
       "      <td id=\"T_6b8e4_row57_col1\" class=\"data row57 col1\" >0-DANetConfig</td>\n",
       "      <td id=\"T_6b8e4_row57_col2\" class=\"data row57 col2\" >32.000000</td>\n",
       "      <td id=\"T_6b8e4_row57_col3\" class=\"data row57 col3\" >32.000000</td>\n",
       "      <td id=\"T_6b8e4_row57_col4\" class=\"data row57 col4\" >8.000000</td>\n",
       "      <td id=\"T_6b8e4_row57_col5\" class=\"data row57 col5\" >AdamW</td>\n",
       "      <td id=\"T_6b8e4_row57_col6\" class=\"data row57 col6\" >23.749907</td>\n",
       "      <td id=\"T_6b8e4_row57_col7\" class=\"data row57 col7\" >23.749907</td>\n",
       "      <td id=\"T_6b8e4_row57_col8\" class=\"data row57 col8\" >nan</td>\n",
       "      <td id=\"T_6b8e4_row57_col9\" class=\"data row57 col9\" >nan</td>\n",
       "      <td id=\"T_6b8e4_row57_col10\" class=\"data row57 col10\" >4.873388</td>\n",
       "    </tr>\n",
       "    <tr>\n",
       "      <th id=\"T_6b8e4_level0_row58\" class=\"row_heading level0 row58\" >28</th>\n",
       "      <td id=\"T_6b8e4_row58_col0\" class=\"data row58 col0\" >28</td>\n",
       "      <td id=\"T_6b8e4_row58_col1\" class=\"data row58 col1\" >0-DANetConfig</td>\n",
       "      <td id=\"T_6b8e4_row58_col2\" class=\"data row58 col2\" >32.000000</td>\n",
       "      <td id=\"T_6b8e4_row58_col3\" class=\"data row58 col3\" >64.000000</td>\n",
       "      <td id=\"T_6b8e4_row58_col4\" class=\"data row58 col4\" >16.000000</td>\n",
       "      <td id=\"T_6b8e4_row58_col5\" class=\"data row58 col5\" >Adam</td>\n",
       "      <td id=\"T_6b8e4_row58_col6\" class=\"data row58 col6\" >23.842121</td>\n",
       "      <td id=\"T_6b8e4_row58_col7\" class=\"data row58 col7\" >23.842121</td>\n",
       "      <td id=\"T_6b8e4_row58_col8\" class=\"data row58 col8\" >nan</td>\n",
       "      <td id=\"T_6b8e4_row58_col9\" class=\"data row58 col9\" >nan</td>\n",
       "      <td id=\"T_6b8e4_row58_col10\" class=\"data row58 col10\" >4.882839</td>\n",
       "    </tr>\n",
       "    <tr>\n",
       "      <th id=\"T_6b8e4_level0_row59\" class=\"row_heading level0 row59\" >18</th>\n",
       "      <td id=\"T_6b8e4_row59_col0\" class=\"data row59 col0\" >18</td>\n",
       "      <td id=\"T_6b8e4_row59_col1\" class=\"data row59 col1\" >0-DANetConfig</td>\n",
       "      <td id=\"T_6b8e4_row59_col2\" class=\"data row59 col2\" >32.000000</td>\n",
       "      <td id=\"T_6b8e4_row59_col3\" class=\"data row59 col3\" >32.000000</td>\n",
       "      <td id=\"T_6b8e4_row59_col4\" class=\"data row59 col4\" >4.000000</td>\n",
       "      <td id=\"T_6b8e4_row59_col5\" class=\"data row59 col5\" >Adam</td>\n",
       "      <td id=\"T_6b8e4_row59_col6\" class=\"data row59 col6\" >23.899611</td>\n",
       "      <td id=\"T_6b8e4_row59_col7\" class=\"data row59 col7\" >23.899611</td>\n",
       "      <td id=\"T_6b8e4_row59_col8\" class=\"data row59 col8\" >nan</td>\n",
       "      <td id=\"T_6b8e4_row59_col9\" class=\"data row59 col9\" >nan</td>\n",
       "      <td id=\"T_6b8e4_row59_col10\" class=\"data row59 col10\" >4.888723</td>\n",
       "    </tr>\n",
       "    <tr>\n",
       "      <th id=\"T_6b8e4_level0_row60\" class=\"row_heading level0 row60\" >6</th>\n",
       "      <td id=\"T_6b8e4_row60_col0\" class=\"data row60 col0\" >6</td>\n",
       "      <td id=\"T_6b8e4_row60_col1\" class=\"data row60 col1\" >0-DANetConfig</td>\n",
       "      <td id=\"T_6b8e4_row60_col2\" class=\"data row60 col2\" >16.000000</td>\n",
       "      <td id=\"T_6b8e4_row60_col3\" class=\"data row60 col3\" >64.000000</td>\n",
       "      <td id=\"T_6b8e4_row60_col4\" class=\"data row60 col4\" >4.000000</td>\n",
       "      <td id=\"T_6b8e4_row60_col5\" class=\"data row60 col5\" >Adam</td>\n",
       "      <td id=\"T_6b8e4_row60_col6\" class=\"data row60 col6\" >23.901905</td>\n",
       "      <td id=\"T_6b8e4_row60_col7\" class=\"data row60 col7\" >23.901905</td>\n",
       "      <td id=\"T_6b8e4_row60_col8\" class=\"data row60 col8\" >nan</td>\n",
       "      <td id=\"T_6b8e4_row60_col9\" class=\"data row60 col9\" >nan</td>\n",
       "      <td id=\"T_6b8e4_row60_col10\" class=\"data row60 col10\" >4.888957</td>\n",
       "    </tr>\n",
       "    <tr>\n",
       "      <th id=\"T_6b8e4_level0_row61\" class=\"row_heading level0 row61\" >13</th>\n",
       "      <td id=\"T_6b8e4_row61_col0\" class=\"data row61 col0\" >13</td>\n",
       "      <td id=\"T_6b8e4_row61_col1\" class=\"data row61 col1\" >0-DANetConfig</td>\n",
       "      <td id=\"T_6b8e4_row61_col2\" class=\"data row61 col2\" >16.000000</td>\n",
       "      <td id=\"T_6b8e4_row61_col3\" class=\"data row61 col3\" >128.000000</td>\n",
       "      <td id=\"T_6b8e4_row61_col4\" class=\"data row61 col4\" >4.000000</td>\n",
       "      <td id=\"T_6b8e4_row61_col5\" class=\"data row61 col5\" >AdamW</td>\n",
       "      <td id=\"T_6b8e4_row61_col6\" class=\"data row61 col6\" >24.015657</td>\n",
       "      <td id=\"T_6b8e4_row61_col7\" class=\"data row61 col7\" >24.015657</td>\n",
       "      <td id=\"T_6b8e4_row61_col8\" class=\"data row61 col8\" >nan</td>\n",
       "      <td id=\"T_6b8e4_row61_col9\" class=\"data row61 col9\" >nan</td>\n",
       "      <td id=\"T_6b8e4_row61_col10\" class=\"data row61 col10\" >4.900577</td>\n",
       "    </tr>\n",
       "    <tr>\n",
       "      <th id=\"T_6b8e4_level0_row62\" class=\"row_heading level0 row62\" >65</th>\n",
       "      <td id=\"T_6b8e4_row62_col0\" class=\"data row62 col0\" >11</td>\n",
       "      <td id=\"T_6b8e4_row62_col1\" class=\"data row62 col1\" >1-GANDALFConfig</td>\n",
       "      <td id=\"T_6b8e4_row62_col2\" class=\"data row62 col2\" >nan</td>\n",
       "      <td id=\"T_6b8e4_row62_col3\" class=\"data row62 col3\" >nan</td>\n",
       "      <td id=\"T_6b8e4_row62_col4\" class=\"data row62 col4\" >nan</td>\n",
       "      <td id=\"T_6b8e4_row62_col5\" class=\"data row62 col5\" >AdamW</td>\n",
       "      <td id=\"T_6b8e4_row62_col6\" class=\"data row62 col6\" >24.037640</td>\n",
       "      <td id=\"T_6b8e4_row62_col7\" class=\"data row62 col7\" >24.037640</td>\n",
       "      <td id=\"T_6b8e4_row62_col8\" class=\"data row62 col8\" >0.200000</td>\n",
       "      <td id=\"T_6b8e4_row62_col9\" class=\"data row62 col9\" >15.000000</td>\n",
       "      <td id=\"T_6b8e4_row62_col10\" class=\"data row62 col10\" >4.902820</td>\n",
       "    </tr>\n",
       "    <tr>\n",
       "      <th id=\"T_6b8e4_level0_row63\" class=\"row_heading level0 row63\" >3</th>\n",
       "      <td id=\"T_6b8e4_row63_col0\" class=\"data row63 col0\" >3</td>\n",
       "      <td id=\"T_6b8e4_row63_col1\" class=\"data row63 col1\" >0-DANetConfig</td>\n",
       "      <td id=\"T_6b8e4_row63_col2\" class=\"data row63 col2\" >16.000000</td>\n",
       "      <td id=\"T_6b8e4_row63_col3\" class=\"data row63 col3\" >32.000000</td>\n",
       "      <td id=\"T_6b8e4_row63_col4\" class=\"data row63 col4\" >8.000000</td>\n",
       "      <td id=\"T_6b8e4_row63_col5\" class=\"data row63 col5\" >AdamW</td>\n",
       "      <td id=\"T_6b8e4_row63_col6\" class=\"data row63 col6\" >24.060131</td>\n",
       "      <td id=\"T_6b8e4_row63_col7\" class=\"data row63 col7\" >24.060131</td>\n",
       "      <td id=\"T_6b8e4_row63_col8\" class=\"data row63 col8\" >nan</td>\n",
       "      <td id=\"T_6b8e4_row63_col9\" class=\"data row63 col9\" >nan</td>\n",
       "      <td id=\"T_6b8e4_row63_col10\" class=\"data row63 col10\" >4.905113</td>\n",
       "    </tr>\n",
       "    <tr>\n",
       "      <th id=\"T_6b8e4_level0_row64\" class=\"row_heading level0 row64\" >5</th>\n",
       "      <td id=\"T_6b8e4_row64_col0\" class=\"data row64 col0\" >5</td>\n",
       "      <td id=\"T_6b8e4_row64_col1\" class=\"data row64 col1\" >0-DANetConfig</td>\n",
       "      <td id=\"T_6b8e4_row64_col2\" class=\"data row64 col2\" >16.000000</td>\n",
       "      <td id=\"T_6b8e4_row64_col3\" class=\"data row64 col3\" >32.000000</td>\n",
       "      <td id=\"T_6b8e4_row64_col4\" class=\"data row64 col4\" >16.000000</td>\n",
       "      <td id=\"T_6b8e4_row64_col5\" class=\"data row64 col5\" >AdamW</td>\n",
       "      <td id=\"T_6b8e4_row64_col6\" class=\"data row64 col6\" >24.060974</td>\n",
       "      <td id=\"T_6b8e4_row64_col7\" class=\"data row64 col7\" >24.060974</td>\n",
       "      <td id=\"T_6b8e4_row64_col8\" class=\"data row64 col8\" >nan</td>\n",
       "      <td id=\"T_6b8e4_row64_col9\" class=\"data row64 col9\" >nan</td>\n",
       "      <td id=\"T_6b8e4_row64_col10\" class=\"data row64 col10\" >4.905199</td>\n",
       "    </tr>\n",
       "    <tr>\n",
       "      <th id=\"T_6b8e4_level0_row65\" class=\"row_heading level0 row65\" >44</th>\n",
       "      <td id=\"T_6b8e4_row65_col0\" class=\"data row65 col0\" >44</td>\n",
       "      <td id=\"T_6b8e4_row65_col1\" class=\"data row65 col1\" >0-DANetConfig</td>\n",
       "      <td id=\"T_6b8e4_row65_col2\" class=\"data row65 col2\" >64.000000</td>\n",
       "      <td id=\"T_6b8e4_row65_col3\" class=\"data row65 col3\" >64.000000</td>\n",
       "      <td id=\"T_6b8e4_row65_col4\" class=\"data row65 col4\" >8.000000</td>\n",
       "      <td id=\"T_6b8e4_row65_col5\" class=\"data row65 col5\" >Adam</td>\n",
       "      <td id=\"T_6b8e4_row65_col6\" class=\"data row65 col6\" >24.088833</td>\n",
       "      <td id=\"T_6b8e4_row65_col7\" class=\"data row65 col7\" >24.088833</td>\n",
       "      <td id=\"T_6b8e4_row65_col8\" class=\"data row65 col8\" >nan</td>\n",
       "      <td id=\"T_6b8e4_row65_col9\" class=\"data row65 col9\" >nan</td>\n",
       "      <td id=\"T_6b8e4_row65_col10\" class=\"data row65 col10\" >4.908038</td>\n",
       "    </tr>\n",
       "  </tbody>\n",
       "</table>\n"
      ],
      "text/plain": [
       "<pandas.io.formats.style.Styler at 0x7753e0b4e1d0>"
      ]
     },
     "execution_count": 22,
     "metadata": {},
     "output_type": "execute_result"
    }
   ],
   "source": [
    "if model_type == 'regressor':\n",
    "    tuner_df.trials_df['test_rmse'] = np.sqrt(tuner_df.trials_df['mean_squared_error'])\n",
    "\n",
    "tuner_df.trials_df.sort_values('accuracy' if model_type == 'classifier' else 'loss', ascending=False if model_type == 'classifier' else True).style.background_gradient(\n",
    "    subset=['accuracy' if model_type == 'classifier' else 'loss'], cmap='RdYlGn'\n",
    ").background_gradient(subset=['loss'], cmap='RdYlGn_r')"
   ]
  },
  {
   "cell_type": "code",
   "execution_count": 23,
   "id": "ce42d06c-2825-41b5-8aef-45592e63b125",
   "metadata": {},
   "outputs": [
    {
     "data": {
      "text/html": [
       "<pre style=\"white-space:pre;overflow-x:auto;line-height:normal;font-family:Menlo,'DejaVu Sans Mono',consolas,'Courier New',monospace\">┏━━━━━━━━━━━━━━━━━━━━━━━━━━━┳━━━━━━━━━━━━━━━━━━━━━━━━━━━┓\n",
       "┃<span style=\"font-weight: bold\">        Test metric        </span>┃<span style=\"font-weight: bold\">       DataLoader 0        </span>┃\n",
       "┡━━━━━━━━━━━━━━━━━━━━━━━━━━━╇━━━━━━━━━━━━━━━━━━━━━━━━━━━┩\n",
       "│<span style=\"color: #008080; text-decoration-color: #008080\">         test_loss         </span>│<span style=\"color: #800080; text-decoration-color: #800080\">    0.7802320718765259     </span>│\n",
       "│<span style=\"color: #008080; text-decoration-color: #008080\">  test_mean_squared_error  </span>│<span style=\"color: #800080; text-decoration-color: #800080\">    0.7802320718765259     </span>│\n",
       "└───────────────────────────┴───────────────────────────┘\n",
       "</pre>\n"
      ],
      "text/plain": [
       "┏━━━━━━━━━━━━━━━━━━━━━━━━━━━┳━━━━━━━━━━━━━━━━━━━━━━━━━━━┓\n",
       "┃\u001b[1m \u001b[0m\u001b[1m       Test metric       \u001b[0m\u001b[1m \u001b[0m┃\u001b[1m \u001b[0m\u001b[1m      DataLoader 0       \u001b[0m\u001b[1m \u001b[0m┃\n",
       "┡━━━━━━━━━━━━━━━━━━━━━━━━━━━╇━━━━━━━━━━━━━━━━━━━━━━━━━━━┩\n",
       "│\u001b[36m \u001b[0m\u001b[36m        test_loss        \u001b[0m\u001b[36m \u001b[0m│\u001b[35m \u001b[0m\u001b[35m   0.7802320718765259    \u001b[0m\u001b[35m \u001b[0m│\n",
       "│\u001b[36m \u001b[0m\u001b[36m test_mean_squared_error \u001b[0m\u001b[36m \u001b[0m│\u001b[35m \u001b[0m\u001b[35m   0.7802320718765259    \u001b[0m\u001b[35m \u001b[0m│\n",
       "└───────────────────────────┴───────────────────────────┘\n"
      ]
     },
     "metadata": {},
     "output_type": "display_data"
    },
    {
     "data": {
      "text/plain": [
       "[{'test_loss': 0.7802320718765259,\n",
       "  'test_mean_squared_error': 0.7802320718765259}]"
      ]
     },
     "execution_count": 23,
     "metadata": {},
     "output_type": "execute_result"
    }
   ],
   "source": [
    "tuner_df.best_model.evaluate(test)"
   ]
  },
  {
   "cell_type": "markdown",
   "id": "469ada1e-32bf-45fa-94a1-d8b96976cadd",
   "metadata": {},
   "source": [
    "### Save Model"
   ]
  },
  {
   "cell_type": "code",
   "execution_count": 24,
   "id": "5c6a3a42-831a-499c-afe0-18b4a3796e14",
   "metadata": {},
   "outputs": [
    {
     "data": {
      "text/html": [
       "<pre style=\"white-space:pre;overflow-x:auto;line-height:normal;font-family:Menlo,'DejaVu Sans Mono',consolas,'Courier New',monospace\"><span style=\"color: #008080; text-decoration-color: #008080; font-weight: bold\">2025</span>-<span style=\"color: #008080; text-decoration-color: #008080; font-weight: bold\">02</span>-<span style=\"color: #008080; text-decoration-color: #008080; font-weight: bold\">26</span> <span style=\"color: #00ff00; text-decoration-color: #00ff00; font-weight: bold\">12:29:42</span>,<span style=\"color: #008080; text-decoration-color: #008080; font-weight: bold\">036</span> - <span style=\"font-weight: bold\">{</span>pytorch_tabular.tabular_model:<span style=\"color: #008080; text-decoration-color: #008080; font-weight: bold\">1575</span><span style=\"font-weight: bold\">}</span> - WARNING - Directory is not empty. Overwriting the \n",
       "contents.                                                                                                          \n",
       "</pre>\n"
      ],
      "text/plain": [
       "\u001b[1;36m2025\u001b[0m-\u001b[1;36m02\u001b[0m-\u001b[1;36m26\u001b[0m \u001b[1;92m12:29:42\u001b[0m,\u001b[1;36m036\u001b[0m - \u001b[1m{\u001b[0mpytorch_tabular.tabular_model:\u001b[1;36m1575\u001b[0m\u001b[1m}\u001b[0m - WARNING - Directory is not empty. Overwriting the \n",
       "contents.                                                                                                          \n"
      ]
     },
     "metadata": {},
     "output_type": "display_data"
    }
   ],
   "source": [
    "tuner_df.best_model.save_model('results/best_model_tuner_pytorch_tabular', inference_only=True)\n",
    "\n",
    "# Save columns names and informations\n",
    "data_to_save = {\n",
    "    'col_names_order': col_names_order,\n",
    "    'num_col_names': num_col_names,\n",
    "    'cat_col_names': cat_col_names,\n",
    "    'date_col_names': date_col_names,\n",
    "    'target_cols': target_cols,\n",
    "    'category_mappings': category_mappings,\n",
    "    'window_size': window_size\n",
    "}\n",
    "with open('results/columns_metadata_tuner_pytorch_tabular.json', 'w') as json_file:\n",
    "    json.dump(data_to_save, json_file, indent=4)"
   ]
  },
  {
   "cell_type": "markdown",
   "id": "ac33e785-fd8d-49ef-a218-cbb4c230926b",
   "metadata": {},
   "source": [
    "## Predict\n",
    "Precisar estar no formato DataFrame do Pandas com os nomes das colunas que participaram do treinamento para passar para o modelo fazer inferência."
   ]
  },
  {
   "cell_type": "code",
   "execution_count": 25,
   "id": "492b39f6-c227-42b3-9d90-0454b4ff2702",
   "metadata": {},
   "outputs": [],
   "source": [
    "import time\n",
    "import json\n",
    "import pickle\n",
    "\n",
    "import pandas as pd\n",
    "from pytorch_tabular import TabularModel"
   ]
  },
  {
   "cell_type": "code",
   "execution_count": 26,
   "id": "b435d08f-dfaf-4245-b90e-62aeab0170bc",
   "metadata": {},
   "outputs": [
    {
     "data": {
      "text/html": [
       "<pre style=\"white-space:pre;overflow-x:auto;line-height:normal;font-family:Menlo,'DejaVu Sans Mono',consolas,'Courier New',monospace\"><span style=\"color: #008080; text-decoration-color: #008080; font-weight: bold\">2025</span>-<span style=\"color: #008080; text-decoration-color: #008080; font-weight: bold\">02</span>-<span style=\"color: #008080; text-decoration-color: #008080; font-weight: bold\">26</span> <span style=\"color: #00ff00; text-decoration-color: #00ff00; font-weight: bold\">12:29:42</span>,<span style=\"color: #008080; text-decoration-color: #008080; font-weight: bold\">222</span> - <span style=\"font-weight: bold\">{</span>pytorch_tabular.tabular_model:<span style=\"color: #008080; text-decoration-color: #008080; font-weight: bold\">171</span><span style=\"font-weight: bold\">}</span> - INFO - Experiment Tracking is turned off           \n",
       "</pre>\n"
      ],
      "text/plain": [
       "\u001b[1;36m2025\u001b[0m-\u001b[1;36m02\u001b[0m-\u001b[1;36m26\u001b[0m \u001b[1;92m12:29:42\u001b[0m,\u001b[1;36m222\u001b[0m - \u001b[1m{\u001b[0mpytorch_tabular.tabular_model:\u001b[1;36m171\u001b[0m\u001b[1m}\u001b[0m - INFO - Experiment Tracking is turned off           \n"
      ]
     },
     "metadata": {},
     "output_type": "display_data"
    },
    {
     "data": {
      "text/html": [
       "<pre style=\"white-space:pre;overflow-x:auto;line-height:normal;font-family:Menlo,'DejaVu Sans Mono',consolas,'Courier New',monospace\"><span style=\"color: #008080; text-decoration-color: #008080; font-weight: bold\">2025</span>-<span style=\"color: #008080; text-decoration-color: #008080; font-weight: bold\">02</span>-<span style=\"color: #008080; text-decoration-color: #008080; font-weight: bold\">26</span> <span style=\"color: #00ff00; text-decoration-color: #00ff00; font-weight: bold\">12:29:42</span>,<span style=\"color: #008080; text-decoration-color: #008080; font-weight: bold\">225</span> - <span style=\"font-weight: bold\">{</span>pytorch_tabular.tabular_model:<span style=\"color: #008080; text-decoration-color: #008080; font-weight: bold\">342</span><span style=\"font-weight: bold\">}</span> - INFO - Preparing the Trainer                       \n",
       "</pre>\n"
      ],
      "text/plain": [
       "\u001b[1;36m2025\u001b[0m-\u001b[1;36m02\u001b[0m-\u001b[1;36m26\u001b[0m \u001b[1;92m12:29:42\u001b[0m,\u001b[1;36m225\u001b[0m - \u001b[1m{\u001b[0mpytorch_tabular.tabular_model:\u001b[1;36m342\u001b[0m\u001b[1m}\u001b[0m - INFO - Preparing the Trainer                       \n"
      ]
     },
     "metadata": {},
     "output_type": "display_data"
    }
   ],
   "source": [
    "loaded_model = TabularModel.load_model('results/best_model_tuner_pytorch_tabular')\n",
    "\n",
    "# columns_metadata\n",
    "columns_metadata = json.load(open('results/columns_metadata_tuner_pytorch_tabular.json', 'r'))"
   ]
  },
  {
   "cell_type": "code",
   "execution_count": 27,
   "id": "2a175d2a-3751-4f41-b636-7571d0fb0b05",
   "metadata": {},
   "outputs": [],
   "source": [
    "def preprocess_inference_data(new_input, columns_metadata, scaler=None):\n",
    "    \"\"\"\n",
    "    Preprocess the input data for inference based on metadata and scaler for numeric normalization.\n",
    "\n",
    "    Args:\n",
    "        new_input (list of list): Data to preprocess (each inner list is a row).\n",
    "        columns_metadata (dict): Metadata defining column names, types, mappings, and order.\n",
    "        scaler (StandardScaler): Trained scaler for numerical columns.\n",
    "    \n",
    "    Returns:\n",
    "        list: Preprocessed data ready for inference.\n",
    "    \"\"\"\n",
    "    # Exclude target columns from col_names_order for inference\n",
    "    target_cols = columns_metadata['target_cols']\n",
    "    col_names_order = [col for col in columns_metadata['col_names_order'] if col not in target_cols]\n",
    "    # Transform the new_input into a DataFrame with the correct column order\n",
    "    df_input = pd.DataFrame(new_input, columns=col_names_order)\n",
    "\n",
    "    # Convert categorical columns based on category_mappings\n",
    "    category_mappings = columns_metadata['category_mappings']\n",
    "    for col in columns_metadata['cat_col_names']:\n",
    "        if col in df_input.columns and col in category_mappings:\n",
    "            # Replace string categories with mapped integer IDs\n",
    "            df_input[col] = df_input[col].map(category_mappings[col])\n",
    "            if df_input[col].isnull().any():\n",
    "                raise ValueError(f'Invalid value found in column \"{col}\" that is not in the category mappings.')\n",
    "\n",
    "    # Normalize numeric columns using the trained scaler\n",
    "    num_col_names = columns_metadata['num_col_names']\n",
    "    if num_col_names and scaler:\n",
    "        df_input[num_col_names] = scaler.transform(df_input[num_col_names])\n",
    "\n",
    "    # Ensure date columns are in the correct datetime format\n",
    "    for col in columns_metadata['date_col_names']:\n",
    "        if col in df_input.columns:\n",
    "            df_input[col] = pd.to_datetime(df_input[col], errors='coerce')\n",
    "            if df_input[col].isnull().any():\n",
    "                raise ValueError(f'Invalid date value found in column \"{col}\".')\n",
    "\n",
    "    # Drop target columns if they exist in the input (not used in inference)\n",
    "    target_cols = columns_metadata['target_cols']\n",
    "    df_input = df_input.drop(columns=target_cols, errors='ignore')\n",
    "\n",
    "    # Convert DataFrame to list of rows for model inference\n",
    "    #processed_data = df_input.values.tolist()\n",
    "\n",
    "    return df_input"
   ]
  },
  {
   "cell_type": "code",
   "execution_count": 28,
   "id": "66ba333b-12ec-4b67-900d-174386a0fc73",
   "metadata": {
    "scrolled": true
   },
   "outputs": [
    {
     "data": {
      "text/html": [
       "<div>\n",
       "<style scoped>\n",
       "    .dataframe tbody tr th:only-of-type {\n",
       "        vertical-align: middle;\n",
       "    }\n",
       "\n",
       "    .dataframe tbody tr th {\n",
       "        vertical-align: top;\n",
       "    }\n",
       "\n",
       "    .dataframe thead th {\n",
       "        text-align: right;\n",
       "    }\n",
       "</style>\n",
       "<table border=\"1\" class=\"dataframe\">\n",
       "  <thead>\n",
       "    <tr style=\"text-align: right;\">\n",
       "      <th></th>\n",
       "      <th>feature_1</th>\n",
       "      <th>feature_2</th>\n",
       "      <th>feature_3</th>\n",
       "      <th>feature_4</th>\n",
       "      <th>feature_5</th>\n",
       "      <th>feature_6</th>\n",
       "      <th>feature_7</th>\n",
       "      <th>feature_8</th>\n",
       "    </tr>\n",
       "  </thead>\n",
       "  <tbody>\n",
       "    <tr>\n",
       "      <th>0</th>\n",
       "      <td>66.770774</td>\n",
       "      <td>0</td>\n",
       "      <td>129.519443</td>\n",
       "      <td>157.649826</td>\n",
       "      <td>6.255495</td>\n",
       "      <td>0.828523</td>\n",
       "      <td>1.1</td>\n",
       "      <td>0.656228</td>\n",
       "    </tr>\n",
       "  </tbody>\n",
       "</table>\n",
       "</div>"
      ],
      "text/plain": [
       "   feature_1  feature_2   feature_3   feature_4  feature_5  feature_6  \\\n",
       "0  66.770774          0  129.519443  157.649826   6.255495   0.828523   \n",
       "\n",
       "   feature_7  feature_8  \n",
       "0        1.1   0.656228  "
      ]
     },
     "execution_count": 28,
     "metadata": {},
     "output_type": "execute_result"
    }
   ],
   "source": [
    "new_input = [\n",
    "    [66.770774, 'A', 129.519443, 157.649826, 6.255495, 0.828523, 1.10, 0.656228]  # target 2.432088\n",
    "]\n",
    "new_input_preprocessed = preprocess_inference_data(new_input, columns_metadata)\n",
    "new_input_preprocessed"
   ]
  },
  {
   "cell_type": "code",
   "execution_count": 29,
   "id": "90591595-704f-4ccb-9b5f-7bb9045a4f82",
   "metadata": {},
   "outputs": [],
   "source": [
    "target = columns_metadata['target_cols'][0]\n",
    "clss_to_cat = {}\n",
    "if target in columns_metadata['category_mappings']:\n",
    "    for key, value in columns_metadata['category_mappings'][target].items():\n",
    "        clss_to_cat[value] = key"
   ]
  },
  {
   "cell_type": "code",
   "execution_count": 30,
   "id": "c4f33da5-9543-4263-8637-80f491d7a14e",
   "metadata": {},
   "outputs": [
    {
     "name": "stdout",
     "output_type": "stream",
     "text": [
      "   target_prediction\n",
      "0           2.616716\n",
      "Total time: 0.12073183059692383\n"
     ]
    }
   ],
   "source": [
    "tic = time.time()\n",
    "result = loaded_model.predict(new_input_preprocessed)\n",
    "if clss_to_cat:\n",
    "    result = clss_to_cat[result[0]]\n",
    "print(result)\n",
    "print(f'Total time: {time.time() - tic}')"
   ]
  }
 ],
 "metadata": {
  "kernelspec": {
   "display_name": "Python 3 (ipykernel)",
   "language": "python",
   "name": "python3"
  },
  "language_info": {
   "codemirror_mode": {
    "name": "ipython",
    "version": 3
   },
   "file_extension": ".py",
   "mimetype": "text/x-python",
   "name": "python",
   "nbconvert_exporter": "python",
   "pygments_lexer": "ipython3",
   "version": "3.10.13"
  }
 },
 "nbformat": 4,
 "nbformat_minor": 5
}
