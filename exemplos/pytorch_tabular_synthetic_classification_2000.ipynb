{
 "cells": [
  {
   "cell_type": "markdown",
   "id": "bbab0916-5eca-48ac-ab1f-24cf9e0a26e1",
   "metadata": {},
   "source": [
    "# Pytorch Tabular\n",
    "Notebook pensando para facilitar e agiliar o treinamento de Deep Learning, sendo necessário, em grande parte das vezes, somente alterar o caminho do dataset e o tipo (classificador ou regressão). Assim como, quais arquiteturas serão utilizado para buscar os melhores hiperparâmetros."
   ]
  },
  {
   "cell_type": "code",
   "execution_count": 1,
   "id": "dab7ad7e-a0eb-440c-8de0-0b7339e55a49",
   "metadata": {},
   "outputs": [],
   "source": [
    "import warnings\n",
    "warnings.filterwarnings('ignore')\n",
    "\n",
    "import time\n",
    "import math\n",
    "import json\n",
    "\n",
    "import numpy as np\n",
    "import pandas as pd\n",
    "from sklearn.preprocessing import LabelEncoder\n",
    "\n",
    "# Pytorch Tabular\n",
    "from pytorch_tabular.config import (\n",
    "    DataConfig,\n",
    "    OptimizerConfig,\n",
    "    TrainerConfig,\n",
    ")"
   ]
  },
  {
   "cell_type": "markdown",
   "id": "ab280318-1eb7-470e-80d2-d62cffda931a",
   "metadata": {},
   "source": [
    "## Preparar Dataset"
   ]
  },
  {
   "cell_type": "code",
   "execution_count": 2,
   "id": "faa6c036-d86a-473a-8df0-b160a6ad90ba",
   "metadata": {},
   "outputs": [],
   "source": [
    "def preprocess_data(df, target_cols, max_unique_values=10, window_size=1):\n",
    "    \"\"\"\n",
    "    Preprocess dataset, converting string columns to number and identifying numeric, categorical, and date columns.\n",
    "    Adds a window of historical rows to the data.\n",
    "\n",
    "    Args:\n",
    "        df (DataFrame): DataFrame with data to analyze.\n",
    "        target_cols (list): All target columns to not add in numeric, categorical, or date feature lists.\n",
    "        max_unique_values (int): Maximum number of unique values to consider a numeric column as categorical.\n",
    "        window_size (int): Number of previous rows to include for each row.\n",
    "\n",
    "    Returns:\n",
    "        df_copy (DataFrame): Processed DataFrame with transformations applied.\n",
    "        num_col_names (list): List of numeric feature column names.\n",
    "        cat_col_names (list): List of categorical feature column names.\n",
    "        date_col_names (list): List of date feature column names.\n",
    "        mappings (dict): Mapping of original categorical values (or target columns) to transformed numeric values.\n",
    "    \"\"\"\n",
    "    # Create a copy so as not to alter the original DataFrame\n",
    "    df_copy = df.copy()\n",
    "\n",
    "    # Remove lines with null values\n",
    "    df_copy = df_copy.dropna()\n",
    "    \n",
    "    # Identify categorical and numeric columns\n",
    "    cat_col_names = df_copy.select_dtypes(include=['object', 'category']).columns.tolist()\n",
    "    num_col_names = df_copy.select_dtypes(include=['number']).columns.tolist()\n",
    "    date_col_names = []\n",
    "\n",
    "    # Identify columns that are dates\n",
    "    for col in df.columns:\n",
    "        if df[col].dtype in ['object', 'string']:  # Only check object/string columns\n",
    "            try:\n",
    "                # Attempt to convert the column to datetime\n",
    "                pd.to_datetime(df[col], errors='raise')\n",
    "                if col not in target_cols:  # Avoid considering target columns as date columns\n",
    "                    date_col_names.append(col)\n",
    "            except (ValueError, TypeError):\n",
    "                pass\n",
    "\n",
    "    # Identify numeric columns that are categorical\n",
    "    potential_categorical = []\n",
    "    for col in num_col_names:\n",
    "        if col not in target_cols and df_copy[col].nunique() <= max_unique_values:\n",
    "            potential_categorical.append(col)\n",
    "\n",
    "    cat_col_names += potential_categorical\n",
    "\n",
    "    # Remove target columns from the lists\n",
    "    num_col_names = [col for col in num_col_names if col not in potential_categorical + target_cols]\n",
    "    cat_col_names = [col for col in cat_col_names if col not in target_cols]\n",
    "    \n",
    "    mappings = {}\n",
    "    label_encoders = {}\n",
    "\n",
    "    # Convert string columns to category and create a mapping (old value -> new value)\n",
    "    for col in cat_col_names + target_cols:\n",
    "        if df_copy[col].dtype not in ['int64', 'float64']:\n",
    "            le = LabelEncoder()\n",
    "            df_copy[col] = le.fit_transform(df_copy[col])\n",
    "            mappings[col] = dict(zip(le.classes_, le.transform(le.classes_)))\n",
    "            label_encoders[col] = le\n",
    "            # Convert values to int (otherwise will raise error if save as json)\n",
    "            for key, value in mappings[col].items():\n",
    "                mappings[col][key] = int(value)\n",
    "        #else:\n",
    "        #    mappings[col] = {int(val): int(val) for val in df_copy[col].unique()}\n",
    "\n",
    "    # Add historical data based on window_size\n",
    "    if window_size > 1:\n",
    "        historical_features = []\n",
    "        for i in range(window_size - 1, 0, -1):  # Criar features lag, do mais antigo ao mais recente\n",
    "            shifted = df_copy.drop(columns=target_cols, errors='ignore').shift(i).add_suffix(f'_lag_{i}')\n",
    "            historical_features.append(shifted)\n",
    "        \n",
    "        # Concatenate the lags to the left and keep the current values\n",
    "        df_copy = pd.concat(historical_features + [df_copy], axis=1)\n",
    "    \n",
    "        # Remove NaNs columns created by shifts\n",
    "        df_copy = df_copy.dropna()\n",
    "    \n",
    "        # Add lags\n",
    "        num_col_lags = [f'{col}_lag_{i}' for i in range(window_size - 1, 0, -1) for col in num_col_names]\n",
    "        cat_col_lags = [f'{col}_lag_{i}' for i in range(window_size - 1, 0, -1) for col in cat_col_names]\n",
    "        date_col_lags = [f'{col}_lag_{i}' for i in range(window_size - 1, 0, -1) for col in date_col_names]\n",
    "        mappings_lags = {}\n",
    "        for col, value in mappings.items():\n",
    "            for i in range(window_size - 1, 0, -1):\n",
    "                mappings_lags[f'{col}_lag_{i}'] = value\n",
    "    \n",
    "        # Update main columns + lags columns\n",
    "        num_col_names = num_col_lags + num_col_names\n",
    "        cat_col_names = cat_col_lags + cat_col_names\n",
    "        date_col_names = date_col_lags + date_col_names\n",
    "        mappings = {**mappings_lags, **mappings}\n",
    "    \n",
    "    return df_copy, num_col_names, cat_col_names, date_col_names, mappings"
   ]
  },
  {
   "cell_type": "code",
   "execution_count": 3,
   "id": "185745e3-eb7c-4ea9-8c1a-b5aa6fa71b8e",
   "metadata": {},
   "outputs": [
    {
     "data": {
      "text/html": [
       "<div>\n",
       "<style scoped>\n",
       "    .dataframe tbody tr th:only-of-type {\n",
       "        vertical-align: middle;\n",
       "    }\n",
       "\n",
       "    .dataframe tbody tr th {\n",
       "        vertical-align: top;\n",
       "    }\n",
       "\n",
       "    .dataframe thead th {\n",
       "        text-align: right;\n",
       "    }\n",
       "</style>\n",
       "<table border=\"1\" class=\"dataframe\">\n",
       "  <thead>\n",
       "    <tr style=\"text-align: right;\">\n",
       "      <th></th>\n",
       "      <th>feature_1</th>\n",
       "      <th>feature_2</th>\n",
       "      <th>feature_3</th>\n",
       "      <th>feature_4</th>\n",
       "      <th>feature_5</th>\n",
       "      <th>feature_6</th>\n",
       "      <th>feature_7</th>\n",
       "      <th>feature_8</th>\n",
       "      <th>target</th>\n",
       "    </tr>\n",
       "  </thead>\n",
       "  <tbody>\n",
       "    <tr>\n",
       "      <th>0</th>\n",
       "      <td>16.647436</td>\n",
       "      <td>E</td>\n",
       "      <td>183.980936</td>\n",
       "      <td>24.617366</td>\n",
       "      <td>5.717618</td>\n",
       "      <td>-0.631023</td>\n",
       "      <td>1.20</td>\n",
       "      <td>0.866846</td>\n",
       "      <td>type_3</td>\n",
       "    </tr>\n",
       "    <tr>\n",
       "      <th>1</th>\n",
       "      <td>10.604436</td>\n",
       "      <td>A</td>\n",
       "      <td>85.459194</td>\n",
       "      <td>307.449148</td>\n",
       "      <td>6.655153</td>\n",
       "      <td>0.767629</td>\n",
       "      <td>1.10</td>\n",
       "      <td>0.977042</td>\n",
       "      <td>type_4</td>\n",
       "    </tr>\n",
       "    <tr>\n",
       "      <th>2</th>\n",
       "      <td>77.388714</td>\n",
       "      <td>E</td>\n",
       "      <td>40.558116</td>\n",
       "      <td>155.780617</td>\n",
       "      <td>6.921389</td>\n",
       "      <td>0.015533</td>\n",
       "      <td>1.20</td>\n",
       "      <td>0.803368</td>\n",
       "      <td>type_3</td>\n",
       "    </tr>\n",
       "    <tr>\n",
       "      <th>3</th>\n",
       "      <td>90.406079</td>\n",
       "      <td>A</td>\n",
       "      <td>15.880388</td>\n",
       "      <td>33.010214</td>\n",
       "      <td>6.250944</td>\n",
       "      <td>-1.473239</td>\n",
       "      <td>1.10</td>\n",
       "      <td>0.964277</td>\n",
       "      <td>type_4</td>\n",
       "    </tr>\n",
       "    <tr>\n",
       "      <th>4</th>\n",
       "      <td>87.356717</td>\n",
       "      <td>E</td>\n",
       "      <td>170.070489</td>\n",
       "      <td>178.530697</td>\n",
       "      <td>6.204453</td>\n",
       "      <td>1.044204</td>\n",
       "      <td>1.20</td>\n",
       "      <td>0.052600</td>\n",
       "      <td>type_4</td>\n",
       "    </tr>\n",
       "    <tr>\n",
       "      <th>...</th>\n",
       "      <td>...</td>\n",
       "      <td>...</td>\n",
       "      <td>...</td>\n",
       "      <td>...</td>\n",
       "      <td>...</td>\n",
       "      <td>...</td>\n",
       "      <td>...</td>\n",
       "      <td>...</td>\n",
       "      <td>...</td>\n",
       "    </tr>\n",
       "    <tr>\n",
       "      <th>1995</th>\n",
       "      <td>52.551128</td>\n",
       "      <td>B</td>\n",
       "      <td>12.801325</td>\n",
       "      <td>246.448995</td>\n",
       "      <td>5.907150</td>\n",
       "      <td>0.017774</td>\n",
       "      <td>0.90</td>\n",
       "      <td>0.771878</td>\n",
       "      <td>type_2</td>\n",
       "    </tr>\n",
       "    <tr>\n",
       "      <th>1996</th>\n",
       "      <td>59.145417</td>\n",
       "      <td>D</td>\n",
       "      <td>156.294131</td>\n",
       "      <td>216.923304</td>\n",
       "      <td>5.872186</td>\n",
       "      <td>0.194822</td>\n",
       "      <td>0.95</td>\n",
       "      <td>0.143240</td>\n",
       "      <td>type_3</td>\n",
       "    </tr>\n",
       "    <tr>\n",
       "      <th>1997</th>\n",
       "      <td>22.532483</td>\n",
       "      <td>B</td>\n",
       "      <td>115.050490</td>\n",
       "      <td>217.424978</td>\n",
       "      <td>6.890049</td>\n",
       "      <td>0.120550</td>\n",
       "      <td>0.90</td>\n",
       "      <td>0.550371</td>\n",
       "      <td>type_2</td>\n",
       "    </tr>\n",
       "    <tr>\n",
       "      <th>1998</th>\n",
       "      <td>18.649490</td>\n",
       "      <td>F</td>\n",
       "      <td>38.755850</td>\n",
       "      <td>314.397756</td>\n",
       "      <td>6.590435</td>\n",
       "      <td>-0.790071</td>\n",
       "      <td>0.85</td>\n",
       "      <td>1.441102</td>\n",
       "      <td>type_5</td>\n",
       "    </tr>\n",
       "    <tr>\n",
       "      <th>1999</th>\n",
       "      <td>84.994711</td>\n",
       "      <td>E</td>\n",
       "      <td>82.194049</td>\n",
       "      <td>242.364786</td>\n",
       "      <td>6.448571</td>\n",
       "      <td>1.690049</td>\n",
       "      <td>1.20</td>\n",
       "      <td>0.566841</td>\n",
       "      <td>type_4</td>\n",
       "    </tr>\n",
       "  </tbody>\n",
       "</table>\n",
       "<p>2000 rows × 9 columns</p>\n",
       "</div>"
      ],
      "text/plain": [
       "      feature_1 feature_2   feature_3   feature_4  feature_5  feature_6  \\\n",
       "0     16.647436         E  183.980936   24.617366   5.717618  -0.631023   \n",
       "1     10.604436         A   85.459194  307.449148   6.655153   0.767629   \n",
       "2     77.388714         E   40.558116  155.780617   6.921389   0.015533   \n",
       "3     90.406079         A   15.880388   33.010214   6.250944  -1.473239   \n",
       "4     87.356717         E  170.070489  178.530697   6.204453   1.044204   \n",
       "...         ...       ...         ...         ...        ...        ...   \n",
       "1995  52.551128         B   12.801325  246.448995   5.907150   0.017774   \n",
       "1996  59.145417         D  156.294131  216.923304   5.872186   0.194822   \n",
       "1997  22.532483         B  115.050490  217.424978   6.890049   0.120550   \n",
       "1998  18.649490         F   38.755850  314.397756   6.590435  -0.790071   \n",
       "1999  84.994711         E   82.194049  242.364786   6.448571   1.690049   \n",
       "\n",
       "      feature_7  feature_8  target  \n",
       "0          1.20   0.866846  type_3  \n",
       "1          1.10   0.977042  type_4  \n",
       "2          1.20   0.803368  type_3  \n",
       "3          1.10   0.964277  type_4  \n",
       "4          1.20   0.052600  type_4  \n",
       "...         ...        ...     ...  \n",
       "1995       0.90   0.771878  type_2  \n",
       "1996       0.95   0.143240  type_3  \n",
       "1997       0.90   0.550371  type_2  \n",
       "1998       0.85   1.441102  type_5  \n",
       "1999       1.20   0.566841  type_4  \n",
       "\n",
       "[2000 rows x 9 columns]"
      ]
     },
     "execution_count": 3,
     "metadata": {},
     "output_type": "execute_result"
    }
   ],
   "source": [
    "df = pd.read_csv('dataset/synthetic_dataset_cat_1000.csv')\n",
    "model_type = 'classifier'  # classifier or regressor\n",
    "window_size = 1\n",
    "df"
   ]
  },
  {
   "cell_type": "code",
   "execution_count": 4,
   "id": "fd4af25a-5c0d-4143-b60c-e18881e93762",
   "metadata": {},
   "outputs": [],
   "source": [
    "target_cols = ['target']\n",
    "# Aplicar o pré-processamento\n",
    "df, num_col_names, cat_col_names, date_col_names, category_mappings = preprocess_data(df, target_cols, max_unique_values=10, window_size=window_size)\n",
    "col_names_order = df.columns.tolist()"
   ]
  },
  {
   "cell_type": "code",
   "execution_count": 5,
   "id": "37152cec-0231-4811-bb10-c942991209c1",
   "metadata": {},
   "outputs": [
    {
     "name": "stdout",
     "output_type": "stream",
     "text": [
      "col_names_order: ['feature_1', 'feature_2', 'feature_3', 'feature_4', 'feature_5', 'feature_6', 'feature_7', 'feature_8', 'target']\n",
      "num_col_names: ['feature_1', 'feature_3', 'feature_4', 'feature_5', 'feature_6', 'feature_8']\n",
      "cat_col_names: ['feature_2', 'feature_7']\n",
      "date_col_names: []\n",
      "target_cols: ['target']\n",
      "category_mappings: {'feature_2': {'A': 0, 'B': 1, 'C': 2, 'D': 3, 'E': 4, 'F': 5}, 'target': {'type_1': 0, 'type_2': 1, 'type_3': 2, 'type_4': 3, 'type_5': 4}}\n"
     ]
    }
   ],
   "source": [
    "print(f'''col_names_order: {col_names_order}\n",
    "num_col_names: {num_col_names}\n",
    "cat_col_names: {cat_col_names}\n",
    "date_col_names: {date_col_names}\n",
    "target_cols: {target_cols}\n",
    "category_mappings: {category_mappings}''')"
   ]
  },
  {
   "cell_type": "code",
   "execution_count": 6,
   "id": "4fcc2805-978c-4a48-8cb4-88cf8ab4f80b",
   "metadata": {},
   "outputs": [
    {
     "name": "stdout",
     "output_type": "stream",
     "text": [
      "<class 'pandas.core.frame.DataFrame'>\n",
      "Index: 1999 entries, 0 to 1999\n",
      "Data columns (total 9 columns):\n",
      " #   Column     Non-Null Count  Dtype  \n",
      "---  ------     --------------  -----  \n",
      " 0   feature_1  1999 non-null   float64\n",
      " 1   feature_2  1999 non-null   int64  \n",
      " 2   feature_3  1999 non-null   float64\n",
      " 3   feature_4  1999 non-null   float64\n",
      " 4   feature_5  1999 non-null   float64\n",
      " 5   feature_6  1999 non-null   float64\n",
      " 6   feature_7  1999 non-null   float64\n",
      " 7   feature_8  1999 non-null   float64\n",
      " 8   target     1999 non-null   int64  \n",
      "dtypes: float64(7), int64(2)\n",
      "memory usage: 156.2 KB\n"
     ]
    }
   ],
   "source": [
    "df.info()"
   ]
  },
  {
   "cell_type": "code",
   "execution_count": 7,
   "id": "948fbfed-100e-4c72-9e82-7dca8b0f6575",
   "metadata": {},
   "outputs": [
    {
     "name": "stdout",
     "output_type": "stream",
     "text": [
      "target\n",
      "0         400\n",
      "1         400\n",
      "2         400\n",
      "3         400\n",
      "4         399\n",
      "Name: count, dtype: int64\n"
     ]
    }
   ],
   "source": [
    "if model_type == 'classifier':\n",
    "    print(df[target_cols].value_counts())"
   ]
  },
  {
   "cell_type": "markdown",
   "id": "42eaf0f8-86ce-424c-a7fe-5e0ae5dc3312",
   "metadata": {},
   "source": [
    "### Dataset Splitting"
   ]
  },
  {
   "cell_type": "code",
   "execution_count": 8,
   "id": "8859f571-d656-4a56-ad06-dcf37e01591c",
   "metadata": {},
   "outputs": [],
   "source": [
    "from sklearn.model_selection import train_test_split\n",
    "\n",
    "train, valid = train_test_split(df, random_state=42, test_size=0.3)\n",
    "#valid, test = train_test_split(valid, random_state=42, test_size=0.5)\n",
    "test = valid"
   ]
  },
  {
   "cell_type": "markdown",
   "id": "b4b94ab7-3a7a-4ae2-a16f-766d4c9e79fe",
   "metadata": {},
   "source": [
    "## Train Pytorch Tabular\n",
    "https://github.com/manujosephv/pytorch_tabular"
   ]
  },
  {
   "cell_type": "markdown",
   "id": "2a76926f-2ee1-440a-a617-6cabf2d6e719",
   "metadata": {},
   "source": [
    "### Preparar Configurações"
   ]
  },
  {
   "cell_type": "markdown",
   "id": "d6274514-85d6-4844-9634-e9bba6392ccf",
   "metadata": {},
   "source": [
    "No [DataConfig](https://pytorch-tabular.readthedocs.io/en/latest/data/#pytorch_tabular.config.DataConfig) estão as configurações do dataset, contendo as coluna no DataFrame Pandas que é o \"target\" (valor que será previsto), colunas que possuem dados continuos e de dados categóricos. Além de outras configurações que podem ser alteradas."
   ]
  },
  {
   "cell_type": "code",
   "execution_count": 9,
   "id": "98368c66-7982-4e8a-b8e8-11119ad56100",
   "metadata": {},
   "outputs": [],
   "source": [
    "data_config = DataConfig(\n",
    "    target=target_cols,  # target should always be a list. Multi-targets are only supported for regression. Multi-Task Classification is not implemented\n",
    "    continuous_cols=num_col_names,  # Column names of the numeric fields\n",
    "    categorical_cols=cat_col_names,  # Column names of the categorical fields\n",
    "    date_columns=date_col_names,  # (Column name, Freq, Format) tuples of the date fields. E.g. [(\"date\", \"M\", %Y-%m')]. freq = https://pandas.pydata.org/pandas-docs/stable/user_guide/timeseries.html#offset-aliases\n",
    "    normalize_continuous_features=True, # Flag to normalize the input features (continuous). Default True\n",
    "    num_workers=4\n",
    ")"
   ]
  },
  {
   "cell_type": "markdown",
   "id": "899beb41-8b8c-48ab-b6d7-2b57c46b6a93",
   "metadata": {},
   "source": [
    "No [TrainerConfig](https://pytorch-tabular.readthedocs.io/en/latest/training/#using-the-entire-pytorch-lightning-trainer) estão as configurações de treinamento, incluindo quais métricas iremos utilizar para avaliar o modelo e criar os checkpoints\n",
    "\n",
    "No [OptimizerConfig](https://pytorch-tabular.readthedocs.io/en/latest/optimizer/#pytorch_tabular.config.OptimizerConfig) estão as configurações do otimizado que será utilizador, sendo inclusive possível alterar seus parâmetros."
   ]
  },
  {
   "cell_type": "code",
   "execution_count": 10,
   "id": "e805d0ae-0948-4750-b60a-cb6021a91e71",
   "metadata": {},
   "outputs": [],
   "source": [
    "trainer_config = TrainerConfig(\n",
    "    auto_lr_find=True,  # Runs the LRFinder to automatically derive a learning rate. Default False\n",
    "    batch_size=64,\n",
    "    max_epochs=300,\n",
    "    min_epochs=50,\n",
    "    early_stopping='valid_accuracy' if model_type == 'classifier' else 'valid_loss', # Monitor for early stopping. valid_loss or valid_accuracy\n",
    "    early_stopping_mode = 'max' if model_type == 'classifier' else 'min', # Set the mode as min for val_loss (lower is better) and max for val_accuracy (higher is better)\n",
    "    early_stopping_patience=20, # No. of epochs of degradation training will wait before terminating\n",
    "    checkpoints='valid_accuracy' if model_type == 'classifier' else 'valid_loss', # Save best checkpoint monitoring\n",
    "    checkpoints_mode='max' if model_type == 'classifier' else 'min',  # Set the mode as min for valid_loss (lower is better) and max for valid_accuracy (higher is better)\n",
    ")\n",
    "\n",
    "optimizer_config = OptimizerConfig(\n",
    "    #optimizer='RMSprop',  # https://pytorch.org/docs/stable/optim.html#algorithms\n",
    "    #optimizer_params={'alpha': 0.99},\n",
    "    #lr_scheduler='StepLR',\n",
    "    #lr_scheduler_params={'step_size': 10},\n",
    ")"
   ]
  },
  {
   "cell_type": "markdown",
   "id": "4affc056-9d08-4931-8c23-fcd032525c04",
   "metadata": {},
   "source": [
    "## Train Many Models\n",
    "Entre tantas alternativas é difícil saber qual a melhora arquitetura utilizar, sem falar que muitas vezes uma arquitetura tem um desempenho muito bom em determinado assunto/dataset, mas isso não se mostra verdade entre outro cenário, dificultando escolher qual utilizar.\n",
    "\n",
    "Para ajudar nesse dilema o Pytorch Tabular possui a função [model_sweep](https://pytorch-tabular.readthedocs.io/en/latest/apidocs_coreclasses/#pytorch_tabular.model_sweep) que roda todas as arquiteturas com os hiperpâmetros padrões e seu resultado consiste no comparativo entre todos eles. Dessa forma sabemos em qual/quais arquiteturas devemos investir mais tempo para buscar melhorar seus hiperparâmetros.\n",
    "\n",
    "Vamos rodar a categoria \"high_memory\" que irá treinar todos modelos, inclusive os que utilizam bastante memória. Mas não se preocupe, se a memória não for suficiente a biblioteca irá ignorar o modelo e na tabela de resultados irá informar que não tinha memória suficiente (OOM). Ressaltando que pode ser interessante ter um batch_size pequeno para conseguir treinar todos os modelos sem resultar em OOM, ou rodar o modelo específico que deu OOM depois isoladamente com o batch_size que for suficiente :)."
   ]
  },
  {
   "cell_type": "code",
   "execution_count": 11,
   "id": "9b3cda33-ff13-44b1-a1f6-7dd8b96f8027",
   "metadata": {},
   "outputs": [],
   "source": [
    "from pytorch_tabular import model_sweep, tabular_model_sweep"
   ]
  },
  {
   "cell_type": "code",
   "execution_count": 12,
   "id": "9f6b38c6-1030-4f54-aae5-a4178f85ab7b",
   "metadata": {},
   "outputs": [],
   "source": [
    "#tabular_model_sweep.MODEL_SWEEP_PRESETS"
   ]
  },
  {
   "cell_type": "code",
   "execution_count": 13,
   "id": "fa294148-23cd-46f6-b798-7940409e5652",
   "metadata": {
    "scrolled": true
   },
   "outputs": [
    {
     "data": {
      "application/vnd.jupyter.widget-view+json": {
       "model_id": "616900f4c7de48a093d1eb1141680c95",
       "version_major": 2,
       "version_minor": 0
      },
      "text/plain": [
       "Output()"
      ]
     },
     "metadata": {},
     "output_type": "display_data"
    },
    {
     "data": {
      "text/html": [
       "<pre style=\"white-space:pre;overflow-x:auto;line-height:normal;font-family:Menlo,'DejaVu Sans Mono',consolas,'Courier New',monospace\"><span style=\"color: #008080; text-decoration-color: #008080; font-weight: bold\">2025</span>-<span style=\"color: #008080; text-decoration-color: #008080; font-weight: bold\">02</span>-<span style=\"color: #008080; text-decoration-color: #008080; font-weight: bold\">26</span> <span style=\"color: #00ff00; text-decoration-color: #00ff00; font-weight: bold\">09:33:16</span>,<span style=\"color: #008080; text-decoration-color: #008080; font-weight: bold\">365</span> - <span style=\"font-weight: bold\">{</span>pytorch_tabular:<span style=\"color: #008080; text-decoration-color: #008080; font-weight: bold\">328</span><span style=\"font-weight: bold\">}</span> - INFO - Training AutoIntModel                                     \n",
       "</pre>\n"
      ],
      "text/plain": [
       "\u001b[1;36m2025\u001b[0m-\u001b[1;36m02\u001b[0m-\u001b[1;36m26\u001b[0m \u001b[1;92m09:33:16\u001b[0m,\u001b[1;36m365\u001b[0m - \u001b[1m{\u001b[0mpytorch_tabular:\u001b[1;36m328\u001b[0m\u001b[1m}\u001b[0m - INFO - Training AutoIntModel                                     \n"
      ]
     },
     "metadata": {},
     "output_type": "display_data"
    },
    {
     "data": {
      "application/vnd.jupyter.widget-view+json": {
       "model_id": "7ddea1470e4c403db45b9ae50d0855f9",
       "version_major": 2,
       "version_minor": 0
      },
      "text/plain": [
       "Finding best initial lr:   0%|          | 0/100 [00:00<?, ?it/s]"
      ]
     },
     "metadata": {},
     "output_type": "display_data"
    },
    {
     "data": {
      "text/html": [
       "<pre style=\"white-space:pre;overflow-x:auto;line-height:normal;font-family:Menlo,'DejaVu Sans Mono',consolas,'Courier New',monospace\"><span style=\"color: #008080; text-decoration-color: #008080; font-weight: bold\">2025</span>-<span style=\"color: #008080; text-decoration-color: #008080; font-weight: bold\">02</span>-<span style=\"color: #008080; text-decoration-color: #008080; font-weight: bold\">26</span> <span style=\"color: #00ff00; text-decoration-color: #00ff00; font-weight: bold\">09:33:28</span>,<span style=\"color: #008080; text-decoration-color: #008080; font-weight: bold\">631</span> - <span style=\"font-weight: bold\">{</span>pytorch_tabular:<span style=\"color: #008080; text-decoration-color: #008080; font-weight: bold\">382</span><span style=\"font-weight: bold\">}</span> - INFO - Finished Training AutoIntModel                            \n",
       "</pre>\n"
      ],
      "text/plain": [
       "\u001b[1;36m2025\u001b[0m-\u001b[1;36m02\u001b[0m-\u001b[1;36m26\u001b[0m \u001b[1;92m09:33:28\u001b[0m,\u001b[1;36m631\u001b[0m - \u001b[1m{\u001b[0mpytorch_tabular:\u001b[1;36m382\u001b[0m\u001b[1m}\u001b[0m - INFO - Finished Training AutoIntModel                            \n"
      ]
     },
     "metadata": {},
     "output_type": "display_data"
    },
    {
     "data": {
      "text/html": [
       "<pre style=\"white-space:pre;overflow-x:auto;line-height:normal;font-family:Menlo,'DejaVu Sans Mono',consolas,'Courier New',monospace\"><span style=\"color: #008080; text-decoration-color: #008080; font-weight: bold\">2025</span>-<span style=\"color: #008080; text-decoration-color: #008080; font-weight: bold\">02</span>-<span style=\"color: #008080; text-decoration-color: #008080; font-weight: bold\">26</span> <span style=\"color: #00ff00; text-decoration-color: #00ff00; font-weight: bold\">09:33:28</span>,<span style=\"color: #008080; text-decoration-color: #008080; font-weight: bold\">632</span> - <span style=\"font-weight: bold\">{</span>pytorch_tabular:<span style=\"color: #008080; text-decoration-color: #008080; font-weight: bold\">383</span><span style=\"font-weight: bold\">}</span> - INFO - Results: model: AutoIntModel, # Params: <span style=\"color: #008080; text-decoration-color: #008080; font-weight: bold\">15</span> T, epochs: <span style=\"color: #008080; text-decoration-color: #008080; font-weight: bold\">49</span>, \n",
       "test_loss_0: <span style=\"color: #008080; text-decoration-color: #008080; font-weight: bold\">11.459814071655273</span>, test_loss: <span style=\"color: #008080; text-decoration-color: #008080; font-weight: bold\">11.459814071655273</span>, test_accuracy: <span style=\"color: #008080; text-decoration-color: #008080; font-weight: bold\">0.2516666650772095</span>, time_taken:     \n",
       "<span style=\"color: #008080; text-decoration-color: #008080; font-weight: bold\">12.26884150505066</span>, time_taken_per_epoch: <span style=\"color: #008080; text-decoration-color: #008080; font-weight: bold\">0.25038452051123794</span>                                                       \n",
       "</pre>\n"
      ],
      "text/plain": [
       "\u001b[1;36m2025\u001b[0m-\u001b[1;36m02\u001b[0m-\u001b[1;36m26\u001b[0m \u001b[1;92m09:33:28\u001b[0m,\u001b[1;36m632\u001b[0m - \u001b[1m{\u001b[0mpytorch_tabular:\u001b[1;36m383\u001b[0m\u001b[1m}\u001b[0m - INFO - Results: model: AutoIntModel, # Params: \u001b[1;36m15\u001b[0m T, epochs: \u001b[1;36m49\u001b[0m, \n",
       "test_loss_0: \u001b[1;36m11.459814071655273\u001b[0m, test_loss: \u001b[1;36m11.459814071655273\u001b[0m, test_accuracy: \u001b[1;36m0.2516666650772095\u001b[0m, time_taken:     \n",
       "\u001b[1;36m12.26884150505066\u001b[0m, time_taken_per_epoch: \u001b[1;36m0.25038452051123794\u001b[0m                                                       \n"
      ]
     },
     "metadata": {},
     "output_type": "display_data"
    },
    {
     "data": {
      "text/html": [
       "<pre style=\"white-space:pre;overflow-x:auto;line-height:normal;font-family:Menlo,'DejaVu Sans Mono',consolas,'Courier New',monospace\"><span style=\"color: #008080; text-decoration-color: #008080; font-weight: bold\">2025</span>-<span style=\"color: #008080; text-decoration-color: #008080; font-weight: bold\">02</span>-<span style=\"color: #008080; text-decoration-color: #008080; font-weight: bold\">26</span> <span style=\"color: #00ff00; text-decoration-color: #00ff00; font-weight: bold\">09:33:28</span>,<span style=\"color: #008080; text-decoration-color: #008080; font-weight: bold\">650</span> - <span style=\"font-weight: bold\">{</span>pytorch_tabular:<span style=\"color: #008080; text-decoration-color: #008080; font-weight: bold\">328</span><span style=\"font-weight: bold\">}</span> - INFO - Training CategoryEmbeddingModel                           \n",
       "</pre>\n"
      ],
      "text/plain": [
       "\u001b[1;36m2025\u001b[0m-\u001b[1;36m02\u001b[0m-\u001b[1;36m26\u001b[0m \u001b[1;92m09:33:28\u001b[0m,\u001b[1;36m650\u001b[0m - \u001b[1m{\u001b[0mpytorch_tabular:\u001b[1;36m328\u001b[0m\u001b[1m}\u001b[0m - INFO - Training CategoryEmbeddingModel                           \n"
      ]
     },
     "metadata": {},
     "output_type": "display_data"
    },
    {
     "data": {
      "application/vnd.jupyter.widget-view+json": {
       "model_id": "342c50001ad442f7abfda6df67cc79cc",
       "version_major": 2,
       "version_minor": 0
      },
      "text/plain": [
       "Finding best initial lr:   0%|          | 0/100 [00:00<?, ?it/s]"
      ]
     },
     "metadata": {},
     "output_type": "display_data"
    },
    {
     "data": {
      "text/html": [
       "<pre style=\"white-space:pre;overflow-x:auto;line-height:normal;font-family:Menlo,'DejaVu Sans Mono',consolas,'Courier New',monospace\"><span style=\"color: #008080; text-decoration-color: #008080; font-weight: bold\">2025</span>-<span style=\"color: #008080; text-decoration-color: #008080; font-weight: bold\">02</span>-<span style=\"color: #008080; text-decoration-color: #008080; font-weight: bold\">26</span> <span style=\"color: #00ff00; text-decoration-color: #00ff00; font-weight: bold\">09:33:39</span>,<span style=\"color: #008080; text-decoration-color: #008080; font-weight: bold\">261</span> - <span style=\"font-weight: bold\">{</span>pytorch_tabular:<span style=\"color: #008080; text-decoration-color: #008080; font-weight: bold\">382</span><span style=\"font-weight: bold\">}</span> - INFO - Finished Training CategoryEmbeddingModel                  \n",
       "</pre>\n"
      ],
      "text/plain": [
       "\u001b[1;36m2025\u001b[0m-\u001b[1;36m02\u001b[0m-\u001b[1;36m26\u001b[0m \u001b[1;92m09:33:39\u001b[0m,\u001b[1;36m261\u001b[0m - \u001b[1m{\u001b[0mpytorch_tabular:\u001b[1;36m382\u001b[0m\u001b[1m}\u001b[0m - INFO - Finished Training CategoryEmbeddingModel                  \n"
      ]
     },
     "metadata": {},
     "output_type": "display_data"
    },
    {
     "data": {
      "text/html": [
       "<pre style=\"white-space:pre;overflow-x:auto;line-height:normal;font-family:Menlo,'DejaVu Sans Mono',consolas,'Courier New',monospace\"><span style=\"color: #008080; text-decoration-color: #008080; font-weight: bold\">2025</span>-<span style=\"color: #008080; text-decoration-color: #008080; font-weight: bold\">02</span>-<span style=\"color: #008080; text-decoration-color: #008080; font-weight: bold\">26</span> <span style=\"color: #00ff00; text-decoration-color: #00ff00; font-weight: bold\">09:33:39</span>,<span style=\"color: #008080; text-decoration-color: #008080; font-weight: bold\">262</span> - <span style=\"font-weight: bold\">{</span>pytorch_tabular:<span style=\"color: #008080; text-decoration-color: #008080; font-weight: bold\">383</span><span style=\"font-weight: bold\">}</span> - INFO - Results: model: CategoryEmbeddingModel, # Params: <span style=\"color: #008080; text-decoration-color: #008080; font-weight: bold\">12</span> T,   \n",
       "epochs: <span style=\"color: #008080; text-decoration-color: #008080; font-weight: bold\">43</span>, test_loss_0: <span style=\"color: #008080; text-decoration-color: #008080; font-weight: bold\">0.8231348395347595</span>, test_loss: <span style=\"color: #008080; text-decoration-color: #008080; font-weight: bold\">0.8231348395347595</span>, test_accuracy: <span style=\"color: #008080; text-decoration-color: #008080; font-weight: bold\">0.7116666436195374</span>,     \n",
       "time_taken: <span style=\"color: #008080; text-decoration-color: #008080; font-weight: bold\">10.616985321044922</span>, time_taken_per_epoch: <span style=\"color: #008080; text-decoration-color: #008080; font-weight: bold\">0.24690663537313773</span>                                          \n",
       "</pre>\n"
      ],
      "text/plain": [
       "\u001b[1;36m2025\u001b[0m-\u001b[1;36m02\u001b[0m-\u001b[1;36m26\u001b[0m \u001b[1;92m09:33:39\u001b[0m,\u001b[1;36m262\u001b[0m - \u001b[1m{\u001b[0mpytorch_tabular:\u001b[1;36m383\u001b[0m\u001b[1m}\u001b[0m - INFO - Results: model: CategoryEmbeddingModel, # Params: \u001b[1;36m12\u001b[0m T,   \n",
       "epochs: \u001b[1;36m43\u001b[0m, test_loss_0: \u001b[1;36m0.8231348395347595\u001b[0m, test_loss: \u001b[1;36m0.8231348395347595\u001b[0m, test_accuracy: \u001b[1;36m0.7116666436195374\u001b[0m,     \n",
       "time_taken: \u001b[1;36m10.616985321044922\u001b[0m, time_taken_per_epoch: \u001b[1;36m0.24690663537313773\u001b[0m                                          \n"
      ]
     },
     "metadata": {},
     "output_type": "display_data"
    },
    {
     "data": {
      "text/html": [
       "<pre style=\"white-space:pre;overflow-x:auto;line-height:normal;font-family:Menlo,'DejaVu Sans Mono',consolas,'Courier New',monospace\"><span style=\"color: #008080; text-decoration-color: #008080; font-weight: bold\">2025</span>-<span style=\"color: #008080; text-decoration-color: #008080; font-weight: bold\">02</span>-<span style=\"color: #008080; text-decoration-color: #008080; font-weight: bold\">26</span> <span style=\"color: #00ff00; text-decoration-color: #00ff00; font-weight: bold\">09:33:39</span>,<span style=\"color: #008080; text-decoration-color: #008080; font-weight: bold\">277</span> - <span style=\"font-weight: bold\">{</span>pytorch_tabular:<span style=\"color: #008080; text-decoration-color: #008080; font-weight: bold\">328</span><span style=\"font-weight: bold\">}</span> - INFO - Training DANetModel                                       \n",
       "</pre>\n"
      ],
      "text/plain": [
       "\u001b[1;36m2025\u001b[0m-\u001b[1;36m02\u001b[0m-\u001b[1;36m26\u001b[0m \u001b[1;92m09:33:39\u001b[0m,\u001b[1;36m277\u001b[0m - \u001b[1m{\u001b[0mpytorch_tabular:\u001b[1;36m328\u001b[0m\u001b[1m}\u001b[0m - INFO - Training DANetModel                                       \n"
      ]
     },
     "metadata": {},
     "output_type": "display_data"
    },
    {
     "data": {
      "application/vnd.jupyter.widget-view+json": {
       "model_id": "33dc7b06495e4585bc75270a846eb64d",
       "version_major": 2,
       "version_minor": 0
      },
      "text/plain": [
       "Finding best initial lr:   0%|          | 0/100 [00:00<?, ?it/s]"
      ]
     },
     "metadata": {},
     "output_type": "display_data"
    },
    {
     "data": {
      "text/html": [
       "<pre style=\"white-space:pre;overflow-x:auto;line-height:normal;font-family:Menlo,'DejaVu Sans Mono',consolas,'Courier New',monospace\"><span style=\"color: #008080; text-decoration-color: #008080; font-weight: bold\">2025</span>-<span style=\"color: #008080; text-decoration-color: #008080; font-weight: bold\">02</span>-<span style=\"color: #008080; text-decoration-color: #008080; font-weight: bold\">26</span> <span style=\"color: #00ff00; text-decoration-color: #00ff00; font-weight: bold\">09:34:24</span>,<span style=\"color: #008080; text-decoration-color: #008080; font-weight: bold\">631</span> - <span style=\"font-weight: bold\">{</span>pytorch_tabular:<span style=\"color: #008080; text-decoration-color: #008080; font-weight: bold\">382</span><span style=\"font-weight: bold\">}</span> - INFO - Finished Training DANetModel                              \n",
       "</pre>\n"
      ],
      "text/plain": [
       "\u001b[1;36m2025\u001b[0m-\u001b[1;36m02\u001b[0m-\u001b[1;36m26\u001b[0m \u001b[1;92m09:34:24\u001b[0m,\u001b[1;36m631\u001b[0m - \u001b[1m{\u001b[0mpytorch_tabular:\u001b[1;36m382\u001b[0m\u001b[1m}\u001b[0m - INFO - Finished Training DANetModel                              \n"
      ]
     },
     "metadata": {},
     "output_type": "display_data"
    },
    {
     "data": {
      "text/html": [
       "<pre style=\"white-space:pre;overflow-x:auto;line-height:normal;font-family:Menlo,'DejaVu Sans Mono',consolas,'Courier New',monospace\"><span style=\"color: #008080; text-decoration-color: #008080; font-weight: bold\">2025</span>-<span style=\"color: #008080; text-decoration-color: #008080; font-weight: bold\">02</span>-<span style=\"color: #008080; text-decoration-color: #008080; font-weight: bold\">26</span> <span style=\"color: #00ff00; text-decoration-color: #00ff00; font-weight: bold\">09:34:24</span>,<span style=\"color: #008080; text-decoration-color: #008080; font-weight: bold\">632</span> - <span style=\"font-weight: bold\">{</span>pytorch_tabular:<span style=\"color: #008080; text-decoration-color: #008080; font-weight: bold\">383</span><span style=\"font-weight: bold\">}</span> - INFO - Results: model: DANetModel, # Params: <span style=\"color: #008080; text-decoration-color: #008080; font-weight: bold\">426</span> T, epochs: <span style=\"color: #008080; text-decoration-color: #008080; font-weight: bold\">49</span>,  \n",
       "test_loss_0: <span style=\"color: #008080; text-decoration-color: #008080; font-weight: bold\">0.6810656189918518</span>, test_loss: <span style=\"color: #008080; text-decoration-color: #008080; font-weight: bold\">0.6810656189918518</span>, test_accuracy: <span style=\"color: #008080; text-decoration-color: #008080; font-weight: bold\">0.7133333086967468</span>, time_taken:     \n",
       "<span style=\"color: #008080; text-decoration-color: #008080; font-weight: bold\">45.346718311309814</span>, time_taken_per_epoch: <span style=\"color: #008080; text-decoration-color: #008080; font-weight: bold\">0.9254432308430575</span>                                                       \n",
       "</pre>\n"
      ],
      "text/plain": [
       "\u001b[1;36m2025\u001b[0m-\u001b[1;36m02\u001b[0m-\u001b[1;36m26\u001b[0m \u001b[1;92m09:34:24\u001b[0m,\u001b[1;36m632\u001b[0m - \u001b[1m{\u001b[0mpytorch_tabular:\u001b[1;36m383\u001b[0m\u001b[1m}\u001b[0m - INFO - Results: model: DANetModel, # Params: \u001b[1;36m426\u001b[0m T, epochs: \u001b[1;36m49\u001b[0m,  \n",
       "test_loss_0: \u001b[1;36m0.6810656189918518\u001b[0m, test_loss: \u001b[1;36m0.6810656189918518\u001b[0m, test_accuracy: \u001b[1;36m0.7133333086967468\u001b[0m, time_taken:     \n",
       "\u001b[1;36m45.346718311309814\u001b[0m, time_taken_per_epoch: \u001b[1;36m0.9254432308430575\u001b[0m                                                       \n"
      ]
     },
     "metadata": {},
     "output_type": "display_data"
    },
    {
     "data": {
      "text/html": [
       "<pre style=\"white-space:pre;overflow-x:auto;line-height:normal;font-family:Menlo,'DejaVu Sans Mono',consolas,'Courier New',monospace\"><span style=\"color: #008080; text-decoration-color: #008080; font-weight: bold\">2025</span>-<span style=\"color: #008080; text-decoration-color: #008080; font-weight: bold\">02</span>-<span style=\"color: #008080; text-decoration-color: #008080; font-weight: bold\">26</span> <span style=\"color: #00ff00; text-decoration-color: #00ff00; font-weight: bold\">09:34:24</span>,<span style=\"color: #008080; text-decoration-color: #008080; font-weight: bold\">649</span> - <span style=\"font-weight: bold\">{</span>pytorch_tabular:<span style=\"color: #008080; text-decoration-color: #008080; font-weight: bold\">328</span><span style=\"font-weight: bold\">}</span> - INFO - Training FTTransformerModel                               \n",
       "</pre>\n"
      ],
      "text/plain": [
       "\u001b[1;36m2025\u001b[0m-\u001b[1;36m02\u001b[0m-\u001b[1;36m26\u001b[0m \u001b[1;92m09:34:24\u001b[0m,\u001b[1;36m649\u001b[0m - \u001b[1m{\u001b[0mpytorch_tabular:\u001b[1;36m328\u001b[0m\u001b[1m}\u001b[0m - INFO - Training FTTransformerModel                               \n"
      ]
     },
     "metadata": {},
     "output_type": "display_data"
    },
    {
     "data": {
      "application/vnd.jupyter.widget-view+json": {
       "model_id": "608e19d716d04c9fa465c7c5f5239775",
       "version_major": 2,
       "version_minor": 0
      },
      "text/plain": [
       "Finding best initial lr:   0%|          | 0/100 [00:00<?, ?it/s]"
      ]
     },
     "metadata": {},
     "output_type": "display_data"
    },
    {
     "data": {
      "text/html": [
       "<pre style=\"white-space:pre;overflow-x:auto;line-height:normal;font-family:Menlo,'DejaVu Sans Mono',consolas,'Courier New',monospace\"><span style=\"color: #008080; text-decoration-color: #008080; font-weight: bold\">2025</span>-<span style=\"color: #008080; text-decoration-color: #008080; font-weight: bold\">02</span>-<span style=\"color: #008080; text-decoration-color: #008080; font-weight: bold\">26</span> <span style=\"color: #00ff00; text-decoration-color: #00ff00; font-weight: bold\">09:34:45</span>,<span style=\"color: #008080; text-decoration-color: #008080; font-weight: bold\">376</span> - <span style=\"font-weight: bold\">{</span>pytorch_tabular:<span style=\"color: #008080; text-decoration-color: #008080; font-weight: bold\">382</span><span style=\"font-weight: bold\">}</span> - INFO - Finished Training FTTransformerModel                      \n",
       "</pre>\n"
      ],
      "text/plain": [
       "\u001b[1;36m2025\u001b[0m-\u001b[1;36m02\u001b[0m-\u001b[1;36m26\u001b[0m \u001b[1;92m09:34:45\u001b[0m,\u001b[1;36m376\u001b[0m - \u001b[1m{\u001b[0mpytorch_tabular:\u001b[1;36m382\u001b[0m\u001b[1m}\u001b[0m - INFO - Finished Training FTTransformerModel                      \n"
      ]
     },
     "metadata": {},
     "output_type": "display_data"
    },
    {
     "data": {
      "text/html": [
       "<pre style=\"white-space:pre;overflow-x:auto;line-height:normal;font-family:Menlo,'DejaVu Sans Mono',consolas,'Courier New',monospace\"><span style=\"color: #008080; text-decoration-color: #008080; font-weight: bold\">2025</span>-<span style=\"color: #008080; text-decoration-color: #008080; font-weight: bold\">02</span>-<span style=\"color: #008080; text-decoration-color: #008080; font-weight: bold\">26</span> <span style=\"color: #00ff00; text-decoration-color: #00ff00; font-weight: bold\">09:34:45</span>,<span style=\"color: #008080; text-decoration-color: #008080; font-weight: bold\">378</span> - <span style=\"font-weight: bold\">{</span>pytorch_tabular:<span style=\"color: #008080; text-decoration-color: #008080; font-weight: bold\">383</span><span style=\"font-weight: bold\">}</span> - INFO - Results: model: FTTransformerModel, # Params: <span style=\"color: #008080; text-decoration-color: #008080; font-weight: bold\">272</span> T,      \n",
       "epochs: <span style=\"color: #008080; text-decoration-color: #008080; font-weight: bold\">49</span>, test_loss_0: <span style=\"color: #008080; text-decoration-color: #008080; font-weight: bold\">0.6228945851325989</span>, test_loss: <span style=\"color: #008080; text-decoration-color: #008080; font-weight: bold\">0.6228945851325989</span>, test_accuracy: <span style=\"color: #008080; text-decoration-color: #008080; font-weight: bold\">0.7416666746139526</span>,     \n",
       "time_taken: <span style=\"color: #008080; text-decoration-color: #008080; font-weight: bold\">20.725056648254395</span>, time_taken_per_epoch: <span style=\"color: #008080; text-decoration-color: #008080; font-weight: bold\">0.4229603397602938</span>                                           \n",
       "</pre>\n"
      ],
      "text/plain": [
       "\u001b[1;36m2025\u001b[0m-\u001b[1;36m02\u001b[0m-\u001b[1;36m26\u001b[0m \u001b[1;92m09:34:45\u001b[0m,\u001b[1;36m378\u001b[0m - \u001b[1m{\u001b[0mpytorch_tabular:\u001b[1;36m383\u001b[0m\u001b[1m}\u001b[0m - INFO - Results: model: FTTransformerModel, # Params: \u001b[1;36m272\u001b[0m T,      \n",
       "epochs: \u001b[1;36m49\u001b[0m, test_loss_0: \u001b[1;36m0.6228945851325989\u001b[0m, test_loss: \u001b[1;36m0.6228945851325989\u001b[0m, test_accuracy: \u001b[1;36m0.7416666746139526\u001b[0m,     \n",
       "time_taken: \u001b[1;36m20.725056648254395\u001b[0m, time_taken_per_epoch: \u001b[1;36m0.4229603397602938\u001b[0m                                           \n"
      ]
     },
     "metadata": {},
     "output_type": "display_data"
    },
    {
     "data": {
      "text/html": [
       "<pre style=\"white-space:pre;overflow-x:auto;line-height:normal;font-family:Menlo,'DejaVu Sans Mono',consolas,'Courier New',monospace\"><span style=\"color: #008080; text-decoration-color: #008080; font-weight: bold\">2025</span>-<span style=\"color: #008080; text-decoration-color: #008080; font-weight: bold\">02</span>-<span style=\"color: #008080; text-decoration-color: #008080; font-weight: bold\">26</span> <span style=\"color: #00ff00; text-decoration-color: #00ff00; font-weight: bold\">09:34:45</span>,<span style=\"color: #008080; text-decoration-color: #008080; font-weight: bold\">393</span> - <span style=\"font-weight: bold\">{</span>pytorch_tabular:<span style=\"color: #008080; text-decoration-color: #008080; font-weight: bold\">328</span><span style=\"font-weight: bold\">}</span> - INFO - Training GANDALFModel                                     \n",
       "</pre>\n"
      ],
      "text/plain": [
       "\u001b[1;36m2025\u001b[0m-\u001b[1;36m02\u001b[0m-\u001b[1;36m26\u001b[0m \u001b[1;92m09:34:45\u001b[0m,\u001b[1;36m393\u001b[0m - \u001b[1m{\u001b[0mpytorch_tabular:\u001b[1;36m328\u001b[0m\u001b[1m}\u001b[0m - INFO - Training GANDALFModel                                     \n"
      ]
     },
     "metadata": {},
     "output_type": "display_data"
    },
    {
     "data": {
      "application/vnd.jupyter.widget-view+json": {
       "model_id": "99107844138b462e8d6440b4f287aa6d",
       "version_major": 2,
       "version_minor": 0
      },
      "text/plain": [
       "Finding best initial lr:   0%|          | 0/100 [00:00<?, ?it/s]"
      ]
     },
     "metadata": {},
     "output_type": "display_data"
    },
    {
     "data": {
      "text/html": [
       "<pre style=\"white-space:pre;overflow-x:auto;line-height:normal;font-family:Menlo,'DejaVu Sans Mono',consolas,'Courier New',monospace\"><span style=\"color: #008080; text-decoration-color: #008080; font-weight: bold\">2025</span>-<span style=\"color: #008080; text-decoration-color: #008080; font-weight: bold\">02</span>-<span style=\"color: #008080; text-decoration-color: #008080; font-weight: bold\">26</span> <span style=\"color: #00ff00; text-decoration-color: #00ff00; font-weight: bold\">09:35:03</span>,<span style=\"color: #008080; text-decoration-color: #008080; font-weight: bold\">682</span> - <span style=\"font-weight: bold\">{</span>pytorch_tabular:<span style=\"color: #008080; text-decoration-color: #008080; font-weight: bold\">382</span><span style=\"font-weight: bold\">}</span> - INFO - Finished Training GANDALFModel                            \n",
       "</pre>\n"
      ],
      "text/plain": [
       "\u001b[1;36m2025\u001b[0m-\u001b[1;36m02\u001b[0m-\u001b[1;36m26\u001b[0m \u001b[1;92m09:35:03\u001b[0m,\u001b[1;36m682\u001b[0m - \u001b[1m{\u001b[0mpytorch_tabular:\u001b[1;36m382\u001b[0m\u001b[1m}\u001b[0m - INFO - Finished Training GANDALFModel                            \n"
      ]
     },
     "metadata": {},
     "output_type": "display_data"
    },
    {
     "data": {
      "text/html": [
       "<pre style=\"white-space:pre;overflow-x:auto;line-height:normal;font-family:Menlo,'DejaVu Sans Mono',consolas,'Courier New',monospace\"><span style=\"color: #008080; text-decoration-color: #008080; font-weight: bold\">2025</span>-<span style=\"color: #008080; text-decoration-color: #008080; font-weight: bold\">02</span>-<span style=\"color: #008080; text-decoration-color: #008080; font-weight: bold\">26</span> <span style=\"color: #00ff00; text-decoration-color: #00ff00; font-weight: bold\">09:35:03</span>,<span style=\"color: #008080; text-decoration-color: #008080; font-weight: bold\">683</span> - <span style=\"font-weight: bold\">{</span>pytorch_tabular:<span style=\"color: #008080; text-decoration-color: #008080; font-weight: bold\">383</span><span style=\"font-weight: bold\">}</span> - INFO - Results: model: GANDALFModel, # Params: <span style=\"color: #008080; text-decoration-color: #008080; font-weight: bold\">7</span> T, epochs: <span style=\"color: #008080; text-decoration-color: #008080; font-weight: bold\">49</span>,  \n",
       "test_loss_0: <span style=\"color: #008080; text-decoration-color: #008080; font-weight: bold\">1.2240256071090698</span>, test_loss: <span style=\"color: #008080; text-decoration-color: #008080; font-weight: bold\">1.2240256071090698</span>, test_accuracy: <span style=\"color: #008080; text-decoration-color: #008080; font-weight: bold\">0.4516666531562805</span>, time_taken:     \n",
       "<span style=\"color: #008080; text-decoration-color: #008080; font-weight: bold\">18.30255889892578</span>, time_taken_per_epoch: <span style=\"color: #008080; text-decoration-color: #008080; font-weight: bold\">0.3735216101821588</span>                                                        \n",
       "</pre>\n"
      ],
      "text/plain": [
       "\u001b[1;36m2025\u001b[0m-\u001b[1;36m02\u001b[0m-\u001b[1;36m26\u001b[0m \u001b[1;92m09:35:03\u001b[0m,\u001b[1;36m683\u001b[0m - \u001b[1m{\u001b[0mpytorch_tabular:\u001b[1;36m383\u001b[0m\u001b[1m}\u001b[0m - INFO - Results: model: GANDALFModel, # Params: \u001b[1;36m7\u001b[0m T, epochs: \u001b[1;36m49\u001b[0m,  \n",
       "test_loss_0: \u001b[1;36m1.2240256071090698\u001b[0m, test_loss: \u001b[1;36m1.2240256071090698\u001b[0m, test_accuracy: \u001b[1;36m0.4516666531562805\u001b[0m, time_taken:     \n",
       "\u001b[1;36m18.30255889892578\u001b[0m, time_taken_per_epoch: \u001b[1;36m0.3735216101821588\u001b[0m                                                        \n"
      ]
     },
     "metadata": {},
     "output_type": "display_data"
    },
    {
     "data": {
      "text/html": [
       "<pre style=\"white-space:pre;overflow-x:auto;line-height:normal;font-family:Menlo,'DejaVu Sans Mono',consolas,'Courier New',monospace\"><span style=\"color: #008080; text-decoration-color: #008080; font-weight: bold\">2025</span>-<span style=\"color: #008080; text-decoration-color: #008080; font-weight: bold\">02</span>-<span style=\"color: #008080; text-decoration-color: #008080; font-weight: bold\">26</span> <span style=\"color: #00ff00; text-decoration-color: #00ff00; font-weight: bold\">09:35:03</span>,<span style=\"color: #008080; text-decoration-color: #008080; font-weight: bold\">703</span> - <span style=\"font-weight: bold\">{</span>pytorch_tabular:<span style=\"color: #008080; text-decoration-color: #008080; font-weight: bold\">328</span><span style=\"font-weight: bold\">}</span> - INFO - Training GatedAdditiveTreeEnsembleModel                   \n",
       "</pre>\n"
      ],
      "text/plain": [
       "\u001b[1;36m2025\u001b[0m-\u001b[1;36m02\u001b[0m-\u001b[1;36m26\u001b[0m \u001b[1;92m09:35:03\u001b[0m,\u001b[1;36m703\u001b[0m - \u001b[1m{\u001b[0mpytorch_tabular:\u001b[1;36m328\u001b[0m\u001b[1m}\u001b[0m - INFO - Training GatedAdditiveTreeEnsembleModel                   \n"
      ]
     },
     "metadata": {},
     "output_type": "display_data"
    },
    {
     "data": {
      "application/vnd.jupyter.widget-view+json": {
       "model_id": "f018c31527734e5aae431aace4e696c9",
       "version_major": 2,
       "version_minor": 0
      },
      "text/plain": [
       "Finding best initial lr:   0%|          | 0/100 [00:00<?, ?it/s]"
      ]
     },
     "metadata": {},
     "output_type": "display_data"
    },
    {
     "data": {
      "text/html": [
       "<pre style=\"white-space:pre;overflow-x:auto;line-height:normal;font-family:Menlo,'DejaVu Sans Mono',consolas,'Courier New',monospace\"><span style=\"color: #008080; text-decoration-color: #008080; font-weight: bold\">2025</span>-<span style=\"color: #008080; text-decoration-color: #008080; font-weight: bold\">02</span>-<span style=\"color: #008080; text-decoration-color: #008080; font-weight: bold\">26</span> <span style=\"color: #00ff00; text-decoration-color: #00ff00; font-weight: bold\">09:37:00</span>,<span style=\"color: #008080; text-decoration-color: #008080; font-weight: bold\">516</span> - <span style=\"font-weight: bold\">{</span>pytorch_tabular:<span style=\"color: #008080; text-decoration-color: #008080; font-weight: bold\">382</span><span style=\"font-weight: bold\">}</span> - INFO - Finished Training GatedAdditiveTreeEnsembleModel          \n",
       "</pre>\n"
      ],
      "text/plain": [
       "\u001b[1;36m2025\u001b[0m-\u001b[1;36m02\u001b[0m-\u001b[1;36m26\u001b[0m \u001b[1;92m09:37:00\u001b[0m,\u001b[1;36m516\u001b[0m - \u001b[1m{\u001b[0mpytorch_tabular:\u001b[1;36m382\u001b[0m\u001b[1m}\u001b[0m - INFO - Finished Training GatedAdditiveTreeEnsembleModel          \n"
      ]
     },
     "metadata": {},
     "output_type": "display_data"
    },
    {
     "data": {
      "text/html": [
       "<pre style=\"white-space:pre;overflow-x:auto;line-height:normal;font-family:Menlo,'DejaVu Sans Mono',consolas,'Courier New',monospace\"><span style=\"color: #008080; text-decoration-color: #008080; font-weight: bold\">2025</span>-<span style=\"color: #008080; text-decoration-color: #008080; font-weight: bold\">02</span>-<span style=\"color: #008080; text-decoration-color: #008080; font-weight: bold\">26</span> <span style=\"color: #00ff00; text-decoration-color: #00ff00; font-weight: bold\">09:37:00</span>,<span style=\"color: #008080; text-decoration-color: #008080; font-weight: bold\">517</span> - <span style=\"font-weight: bold\">{</span>pytorch_tabular:<span style=\"color: #008080; text-decoration-color: #008080; font-weight: bold\">383</span><span style=\"font-weight: bold\">}</span> - INFO - Results: model: GatedAdditiveTreeEnsembleModel, # Params: \n",
       "<span style=\"color: #008080; text-decoration-color: #008080; font-weight: bold\">77</span> T, epochs: <span style=\"color: #008080; text-decoration-color: #008080; font-weight: bold\">74</span>, test_loss_0: <span style=\"color: #008080; text-decoration-color: #008080; font-weight: bold\">0.8841896653175354</span>, test_loss: <span style=\"color: #008080; text-decoration-color: #008080; font-weight: bold\">0.8841896653175354</span>, test_accuracy:                   \n",
       "<span style=\"color: #008080; text-decoration-color: #008080; font-weight: bold\">0.6499999761581421</span>, time_taken: <span style=\"color: #008080; text-decoration-color: #008080; font-weight: bold\">116.83144879341125</span>, time_taken_per_epoch: <span style=\"color: #008080; text-decoration-color: #008080; font-weight: bold\">1.578803362073125</span>                        \n",
       "</pre>\n"
      ],
      "text/plain": [
       "\u001b[1;36m2025\u001b[0m-\u001b[1;36m02\u001b[0m-\u001b[1;36m26\u001b[0m \u001b[1;92m09:37:00\u001b[0m,\u001b[1;36m517\u001b[0m - \u001b[1m{\u001b[0mpytorch_tabular:\u001b[1;36m383\u001b[0m\u001b[1m}\u001b[0m - INFO - Results: model: GatedAdditiveTreeEnsembleModel, # Params: \n",
       "\u001b[1;36m77\u001b[0m T, epochs: \u001b[1;36m74\u001b[0m, test_loss_0: \u001b[1;36m0.8841896653175354\u001b[0m, test_loss: \u001b[1;36m0.8841896653175354\u001b[0m, test_accuracy:                   \n",
       "\u001b[1;36m0.6499999761581421\u001b[0m, time_taken: \u001b[1;36m116.83144879341125\u001b[0m, time_taken_per_epoch: \u001b[1;36m1.578803362073125\u001b[0m                        \n"
      ]
     },
     "metadata": {},
     "output_type": "display_data"
    },
    {
     "data": {
      "text/html": [
       "<pre style=\"white-space:pre;overflow-x:auto;line-height:normal;font-family:Menlo,'DejaVu Sans Mono',consolas,'Courier New',monospace\"><span style=\"color: #008080; text-decoration-color: #008080; font-weight: bold\">2025</span>-<span style=\"color: #008080; text-decoration-color: #008080; font-weight: bold\">02</span>-<span style=\"color: #008080; text-decoration-color: #008080; font-weight: bold\">26</span> <span style=\"color: #00ff00; text-decoration-color: #00ff00; font-weight: bold\">09:37:00</span>,<span style=\"color: #008080; text-decoration-color: #008080; font-weight: bold\">532</span> - <span style=\"font-weight: bold\">{</span>pytorch_tabular:<span style=\"color: #008080; text-decoration-color: #008080; font-weight: bold\">328</span><span style=\"font-weight: bold\">}</span> - INFO - Training NODEModel                                        \n",
       "</pre>\n"
      ],
      "text/plain": [
       "\u001b[1;36m2025\u001b[0m-\u001b[1;36m02\u001b[0m-\u001b[1;36m26\u001b[0m \u001b[1;92m09:37:00\u001b[0m,\u001b[1;36m532\u001b[0m - \u001b[1m{\u001b[0mpytorch_tabular:\u001b[1;36m328\u001b[0m\u001b[1m}\u001b[0m - INFO - Training NODEModel                                        \n"
      ]
     },
     "metadata": {},
     "output_type": "display_data"
    },
    {
     "data": {
      "text/html": [
       "<pre style=\"white-space:pre;overflow-x:auto;line-height:normal;font-family:Menlo,'DejaVu Sans Mono',consolas,'Courier New',monospace\"><span style=\"color: #008080; text-decoration-color: #008080; font-weight: bold\">2025</span>-<span style=\"color: #008080; text-decoration-color: #008080; font-weight: bold\">02</span>-<span style=\"color: #008080; text-decoration-color: #008080; font-weight: bold\">26</span> <span style=\"color: #00ff00; text-decoration-color: #00ff00; font-weight: bold\">09:37:00</span>,<span style=\"color: #008080; text-decoration-color: #008080; font-weight: bold\">554</span> - <span style=\"font-weight: bold\">{</span>pytorch_tabular.models.node.node_model:<span style=\"color: #008080; text-decoration-color: #008080; font-weight: bold\">74</span><span style=\"font-weight: bold\">}</span> - INFO - Data Aware Initialization of NODE   \n",
       "using a forward pass with <span style=\"color: #008080; text-decoration-color: #008080; font-weight: bold\">2000</span> batch size<span style=\"color: #808000; text-decoration-color: #808000\">...</span>.                                                                      \n",
       "</pre>\n"
      ],
      "text/plain": [
       "\u001b[1;36m2025\u001b[0m-\u001b[1;36m02\u001b[0m-\u001b[1;36m26\u001b[0m \u001b[1;92m09:37:00\u001b[0m,\u001b[1;36m554\u001b[0m - \u001b[1m{\u001b[0mpytorch_tabular.models.node.node_model:\u001b[1;36m74\u001b[0m\u001b[1m}\u001b[0m - INFO - Data Aware Initialization of NODE   \n",
       "using a forward pass with \u001b[1;36m2000\u001b[0m batch size\u001b[33m...\u001b[0m.                                                                      \n"
      ]
     },
     "metadata": {},
     "output_type": "display_data"
    },
    {
     "data": {
      "application/vnd.jupyter.widget-view+json": {
       "model_id": "9b2b7e8f99cb43ab8e036358aabb6a97",
       "version_major": 2,
       "version_minor": 0
      },
      "text/plain": [
       "Finding best initial lr:   0%|          | 0/100 [00:00<?, ?it/s]"
      ]
     },
     "metadata": {},
     "output_type": "display_data"
    },
    {
     "data": {
      "text/html": [
       "<pre style=\"white-space:pre;overflow-x:auto;line-height:normal;font-family:Menlo,'DejaVu Sans Mono',consolas,'Courier New',monospace\"><span style=\"color: #008080; text-decoration-color: #008080; font-weight: bold\">2025</span>-<span style=\"color: #008080; text-decoration-color: #008080; font-weight: bold\">02</span>-<span style=\"color: #008080; text-decoration-color: #008080; font-weight: bold\">26</span> <span style=\"color: #00ff00; text-decoration-color: #00ff00; font-weight: bold\">09:37:07</span>,<span style=\"color: #008080; text-decoration-color: #008080; font-weight: bold\">310</span> - <span style=\"font-weight: bold\">{</span>pytorch_tabular.models.node.node_model:<span style=\"color: #008080; text-decoration-color: #008080; font-weight: bold\">74</span><span style=\"font-weight: bold\">}</span> - INFO - Data Aware Initialization of NODE   \n",
       "using a forward pass with <span style=\"color: #008080; text-decoration-color: #008080; font-weight: bold\">2000</span> batch size<span style=\"color: #808000; text-decoration-color: #808000\">...</span>.                                                                      \n",
       "</pre>\n"
      ],
      "text/plain": [
       "\u001b[1;36m2025\u001b[0m-\u001b[1;36m02\u001b[0m-\u001b[1;36m26\u001b[0m \u001b[1;92m09:37:07\u001b[0m,\u001b[1;36m310\u001b[0m - \u001b[1m{\u001b[0mpytorch_tabular.models.node.node_model:\u001b[1;36m74\u001b[0m\u001b[1m}\u001b[0m - INFO - Data Aware Initialization of NODE   \n",
       "using a forward pass with \u001b[1;36m2000\u001b[0m batch size\u001b[33m...\u001b[0m.                                                                      \n"
      ]
     },
     "metadata": {},
     "output_type": "display_data"
    },
    {
     "data": {
      "text/html": [
       "<pre style=\"white-space:pre;overflow-x:auto;line-height:normal;font-family:Menlo,'DejaVu Sans Mono',consolas,'Courier New',monospace\"><span style=\"color: #008080; text-decoration-color: #008080; font-weight: bold\">2025</span>-<span style=\"color: #008080; text-decoration-color: #008080; font-weight: bold\">02</span>-<span style=\"color: #008080; text-decoration-color: #008080; font-weight: bold\">26</span> <span style=\"color: #00ff00; text-decoration-color: #00ff00; font-weight: bold\">09:37:46</span>,<span style=\"color: #008080; text-decoration-color: #008080; font-weight: bold\">975</span> - <span style=\"font-weight: bold\">{</span>pytorch_tabular:<span style=\"color: #008080; text-decoration-color: #008080; font-weight: bold\">382</span><span style=\"font-weight: bold\">}</span> - INFO - Finished Training NODEModel                               \n",
       "</pre>\n"
      ],
      "text/plain": [
       "\u001b[1;36m2025\u001b[0m-\u001b[1;36m02\u001b[0m-\u001b[1;36m26\u001b[0m \u001b[1;92m09:37:46\u001b[0m,\u001b[1;36m975\u001b[0m - \u001b[1m{\u001b[0mpytorch_tabular:\u001b[1;36m382\u001b[0m\u001b[1m}\u001b[0m - INFO - Finished Training NODEModel                               \n"
      ]
     },
     "metadata": {},
     "output_type": "display_data"
    },
    {
     "data": {
      "text/html": [
       "<pre style=\"white-space:pre;overflow-x:auto;line-height:normal;font-family:Menlo,'DejaVu Sans Mono',consolas,'Courier New',monospace\"><span style=\"color: #008080; text-decoration-color: #008080; font-weight: bold\">2025</span>-<span style=\"color: #008080; text-decoration-color: #008080; font-weight: bold\">02</span>-<span style=\"color: #008080; text-decoration-color: #008080; font-weight: bold\">26</span> <span style=\"color: #00ff00; text-decoration-color: #00ff00; font-weight: bold\">09:37:46</span>,<span style=\"color: #008080; text-decoration-color: #008080; font-weight: bold\">976</span> - <span style=\"font-weight: bold\">{</span>pytorch_tabular:<span style=\"color: #008080; text-decoration-color: #008080; font-weight: bold\">383</span><span style=\"font-weight: bold\">}</span> - INFO - Results: model: NODEModel, # Params: <span style=\"color: #008080; text-decoration-color: #008080; font-weight: bold\">1</span> M, epochs: <span style=\"color: #008080; text-decoration-color: #008080; font-weight: bold\">49</span>,     \n",
       "test_loss_0: <span style=\"color: #008080; text-decoration-color: #008080; font-weight: bold\">0.881664514541626</span>, test_loss: <span style=\"color: #008080; text-decoration-color: #008080; font-weight: bold\">0.881664514541626</span>, test_accuracy: <span style=\"color: #008080; text-decoration-color: #008080; font-weight: bold\">0.621666669845581</span>, time_taken:        \n",
       "<span style=\"color: #008080; text-decoration-color: #008080; font-weight: bold\">46.45766878128052</span>, time_taken_per_epoch: <span style=\"color: #008080; text-decoration-color: #008080; font-weight: bold\">0.9481156894138881</span>                                                        \n",
       "</pre>\n"
      ],
      "text/plain": [
       "\u001b[1;36m2025\u001b[0m-\u001b[1;36m02\u001b[0m-\u001b[1;36m26\u001b[0m \u001b[1;92m09:37:46\u001b[0m,\u001b[1;36m976\u001b[0m - \u001b[1m{\u001b[0mpytorch_tabular:\u001b[1;36m383\u001b[0m\u001b[1m}\u001b[0m - INFO - Results: model: NODEModel, # Params: \u001b[1;36m1\u001b[0m M, epochs: \u001b[1;36m49\u001b[0m,     \n",
       "test_loss_0: \u001b[1;36m0.881664514541626\u001b[0m, test_loss: \u001b[1;36m0.881664514541626\u001b[0m, test_accuracy: \u001b[1;36m0.621666669845581\u001b[0m, time_taken:        \n",
       "\u001b[1;36m46.45766878128052\u001b[0m, time_taken_per_epoch: \u001b[1;36m0.9481156894138881\u001b[0m                                                        \n"
      ]
     },
     "metadata": {},
     "output_type": "display_data"
    },
    {
     "data": {
      "text/html": [
       "<pre style=\"white-space:pre;overflow-x:auto;line-height:normal;font-family:Menlo,'DejaVu Sans Mono',consolas,'Courier New',monospace\"><span style=\"color: #008080; text-decoration-color: #008080; font-weight: bold\">2025</span>-<span style=\"color: #008080; text-decoration-color: #008080; font-weight: bold\">02</span>-<span style=\"color: #008080; text-decoration-color: #008080; font-weight: bold\">26</span> <span style=\"color: #00ff00; text-decoration-color: #00ff00; font-weight: bold\">09:37:46</span>,<span style=\"color: #008080; text-decoration-color: #008080; font-weight: bold\">992</span> - <span style=\"font-weight: bold\">{</span>pytorch_tabular:<span style=\"color: #008080; text-decoration-color: #008080; font-weight: bold\">328</span><span style=\"font-weight: bold\">}</span> - INFO - Training TabNetModel                                      \n",
       "</pre>\n"
      ],
      "text/plain": [
       "\u001b[1;36m2025\u001b[0m-\u001b[1;36m02\u001b[0m-\u001b[1;36m26\u001b[0m \u001b[1;92m09:37:46\u001b[0m,\u001b[1;36m992\u001b[0m - \u001b[1m{\u001b[0mpytorch_tabular:\u001b[1;36m328\u001b[0m\u001b[1m}\u001b[0m - INFO - Training TabNetModel                                      \n"
      ]
     },
     "metadata": {},
     "output_type": "display_data"
    },
    {
     "data": {
      "application/vnd.jupyter.widget-view+json": {
       "model_id": "dc4a15f7768a48b08a0ebd7066b0df90",
       "version_major": 2,
       "version_minor": 0
      },
      "text/plain": [
       "Finding best initial lr:   0%|          | 0/100 [00:00<?, ?it/s]"
      ]
     },
     "metadata": {},
     "output_type": "display_data"
    },
    {
     "data": {
      "text/html": [
       "<pre style=\"white-space:pre;overflow-x:auto;line-height:normal;font-family:Menlo,'DejaVu Sans Mono',consolas,'Courier New',monospace\"><span style=\"color: #008080; text-decoration-color: #008080; font-weight: bold\">2025</span>-<span style=\"color: #008080; text-decoration-color: #008080; font-weight: bold\">02</span>-<span style=\"color: #008080; text-decoration-color: #008080; font-weight: bold\">26</span> <span style=\"color: #00ff00; text-decoration-color: #00ff00; font-weight: bold\">09:38:09</span>,<span style=\"color: #008080; text-decoration-color: #008080; font-weight: bold\">522</span> - <span style=\"font-weight: bold\">{</span>pytorch_tabular:<span style=\"color: #008080; text-decoration-color: #008080; font-weight: bold\">382</span><span style=\"font-weight: bold\">}</span> - INFO - Finished Training TabNetModel                             \n",
       "</pre>\n"
      ],
      "text/plain": [
       "\u001b[1;36m2025\u001b[0m-\u001b[1;36m02\u001b[0m-\u001b[1;36m26\u001b[0m \u001b[1;92m09:38:09\u001b[0m,\u001b[1;36m522\u001b[0m - \u001b[1m{\u001b[0mpytorch_tabular:\u001b[1;36m382\u001b[0m\u001b[1m}\u001b[0m - INFO - Finished Training TabNetModel                             \n"
      ]
     },
     "metadata": {},
     "output_type": "display_data"
    },
    {
     "data": {
      "text/html": [
       "<pre style=\"white-space:pre;overflow-x:auto;line-height:normal;font-family:Menlo,'DejaVu Sans Mono',consolas,'Courier New',monospace\"><span style=\"color: #008080; text-decoration-color: #008080; font-weight: bold\">2025</span>-<span style=\"color: #008080; text-decoration-color: #008080; font-weight: bold\">02</span>-<span style=\"color: #008080; text-decoration-color: #008080; font-weight: bold\">26</span> <span style=\"color: #00ff00; text-decoration-color: #00ff00; font-weight: bold\">09:38:09</span>,<span style=\"color: #008080; text-decoration-color: #008080; font-weight: bold\">522</span> - <span style=\"font-weight: bold\">{</span>pytorch_tabular:<span style=\"color: #008080; text-decoration-color: #008080; font-weight: bold\">383</span><span style=\"font-weight: bold\">}</span> - INFO - Results: model: TabNetModel, # Params: <span style=\"color: #008080; text-decoration-color: #008080; font-weight: bold\">6</span> T, epochs: <span style=\"color: #008080; text-decoration-color: #008080; font-weight: bold\">49</span>,   \n",
       "test_loss_0: <span style=\"color: #008080; text-decoration-color: #008080; font-weight: bold\">1.4273555278778076</span>, test_loss: <span style=\"color: #008080; text-decoration-color: #008080; font-weight: bold\">1.4273555278778076</span>, test_accuracy: <span style=\"color: #008080; text-decoration-color: #008080; font-weight: bold\">0.3799999952316284</span>, time_taken:     \n",
       "<span style=\"color: #008080; text-decoration-color: #008080; font-weight: bold\">22.54457688331604</span>, time_taken_per_epoch: <span style=\"color: #008080; text-decoration-color: #008080; font-weight: bold\">0.46009340578196</span>                                                          \n",
       "</pre>\n"
      ],
      "text/plain": [
       "\u001b[1;36m2025\u001b[0m-\u001b[1;36m02\u001b[0m-\u001b[1;36m26\u001b[0m \u001b[1;92m09:38:09\u001b[0m,\u001b[1;36m522\u001b[0m - \u001b[1m{\u001b[0mpytorch_tabular:\u001b[1;36m383\u001b[0m\u001b[1m}\u001b[0m - INFO - Results: model: TabNetModel, # Params: \u001b[1;36m6\u001b[0m T, epochs: \u001b[1;36m49\u001b[0m,   \n",
       "test_loss_0: \u001b[1;36m1.4273555278778076\u001b[0m, test_loss: \u001b[1;36m1.4273555278778076\u001b[0m, test_accuracy: \u001b[1;36m0.3799999952316284\u001b[0m, time_taken:     \n",
       "\u001b[1;36m22.54457688331604\u001b[0m, time_taken_per_epoch: \u001b[1;36m0.46009340578196\u001b[0m                                                          \n"
      ]
     },
     "metadata": {},
     "output_type": "display_data"
    },
    {
     "data": {
      "text/html": [
       "<pre style=\"white-space:pre;overflow-x:auto;line-height:normal;font-family:Menlo,'DejaVu Sans Mono',consolas,'Courier New',monospace\"><span style=\"color: #008080; text-decoration-color: #008080; font-weight: bold\">2025</span>-<span style=\"color: #008080; text-decoration-color: #008080; font-weight: bold\">02</span>-<span style=\"color: #008080; text-decoration-color: #008080; font-weight: bold\">26</span> <span style=\"color: #00ff00; text-decoration-color: #00ff00; font-weight: bold\">09:38:09</span>,<span style=\"color: #008080; text-decoration-color: #008080; font-weight: bold\">540</span> - <span style=\"font-weight: bold\">{</span>pytorch_tabular:<span style=\"color: #008080; text-decoration-color: #008080; font-weight: bold\">328</span><span style=\"font-weight: bold\">}</span> - INFO - Training TabTransformerModel                              \n",
       "</pre>\n"
      ],
      "text/plain": [
       "\u001b[1;36m2025\u001b[0m-\u001b[1;36m02\u001b[0m-\u001b[1;36m26\u001b[0m \u001b[1;92m09:38:09\u001b[0m,\u001b[1;36m540\u001b[0m - \u001b[1m{\u001b[0mpytorch_tabular:\u001b[1;36m328\u001b[0m\u001b[1m}\u001b[0m - INFO - Training TabTransformerModel                              \n"
      ]
     },
     "metadata": {},
     "output_type": "display_data"
    },
    {
     "data": {
      "application/vnd.jupyter.widget-view+json": {
       "model_id": "3fad7003fab240f6951a4624a7061948",
       "version_major": 2,
       "version_minor": 0
      },
      "text/plain": [
       "Finding best initial lr:   0%|          | 0/100 [00:00<?, ?it/s]"
      ]
     },
     "metadata": {},
     "output_type": "display_data"
    },
    {
     "data": {
      "text/html": [
       "<pre style=\"white-space:pre;overflow-x:auto;line-height:normal;font-family:Menlo,'DejaVu Sans Mono',consolas,'Courier New',monospace\"><span style=\"color: #008080; text-decoration-color: #008080; font-weight: bold\">2025</span>-<span style=\"color: #008080; text-decoration-color: #008080; font-weight: bold\">02</span>-<span style=\"color: #008080; text-decoration-color: #008080; font-weight: bold\">26</span> <span style=\"color: #00ff00; text-decoration-color: #00ff00; font-weight: bold\">09:38:30</span>,<span style=\"color: #008080; text-decoration-color: #008080; font-weight: bold\">472</span> - <span style=\"font-weight: bold\">{</span>pytorch_tabular:<span style=\"color: #008080; text-decoration-color: #008080; font-weight: bold\">382</span><span style=\"font-weight: bold\">}</span> - INFO - Finished Training TabTransformerModel                     \n",
       "</pre>\n"
      ],
      "text/plain": [
       "\u001b[1;36m2025\u001b[0m-\u001b[1;36m02\u001b[0m-\u001b[1;36m26\u001b[0m \u001b[1;92m09:38:30\u001b[0m,\u001b[1;36m472\u001b[0m - \u001b[1m{\u001b[0mpytorch_tabular:\u001b[1;36m382\u001b[0m\u001b[1m}\u001b[0m - INFO - Finished Training TabTransformerModel                     \n"
      ]
     },
     "metadata": {},
     "output_type": "display_data"
    },
    {
     "data": {
      "text/html": [
       "<pre style=\"white-space:pre;overflow-x:auto;line-height:normal;font-family:Menlo,'DejaVu Sans Mono',consolas,'Courier New',monospace\"><span style=\"color: #008080; text-decoration-color: #008080; font-weight: bold\">2025</span>-<span style=\"color: #008080; text-decoration-color: #008080; font-weight: bold\">02</span>-<span style=\"color: #008080; text-decoration-color: #008080; font-weight: bold\">26</span> <span style=\"color: #00ff00; text-decoration-color: #00ff00; font-weight: bold\">09:38:30</span>,<span style=\"color: #008080; text-decoration-color: #008080; font-weight: bold\">473</span> - <span style=\"font-weight: bold\">{</span>pytorch_tabular:<span style=\"color: #008080; text-decoration-color: #008080; font-weight: bold\">383</span><span style=\"font-weight: bold\">}</span> - INFO - Results: model: TabTransformerModel, # Params: <span style=\"color: #008080; text-decoration-color: #008080; font-weight: bold\">272</span> T,     \n",
       "epochs: <span style=\"color: #008080; text-decoration-color: #008080; font-weight: bold\">49</span>, test_loss_0: <span style=\"color: #008080; text-decoration-color: #008080; font-weight: bold\">0.975267767906189</span>, test_loss: <span style=\"color: #008080; text-decoration-color: #008080; font-weight: bold\">0.975267767906189</span>, test_accuracy: <span style=\"color: #008080; text-decoration-color: #008080; font-weight: bold\">0.5983333587646484</span>,       \n",
       "time_taken: <span style=\"color: #008080; text-decoration-color: #008080; font-weight: bold\">20.949220418930054</span>, time_taken_per_epoch: <span style=\"color: #008080; text-decoration-color: #008080; font-weight: bold\">0.4275351105904093</span>                                           \n",
       "</pre>\n"
      ],
      "text/plain": [
       "\u001b[1;36m2025\u001b[0m-\u001b[1;36m02\u001b[0m-\u001b[1;36m26\u001b[0m \u001b[1;92m09:38:30\u001b[0m,\u001b[1;36m473\u001b[0m - \u001b[1m{\u001b[0mpytorch_tabular:\u001b[1;36m383\u001b[0m\u001b[1m}\u001b[0m - INFO - Results: model: TabTransformerModel, # Params: \u001b[1;36m272\u001b[0m T,     \n",
       "epochs: \u001b[1;36m49\u001b[0m, test_loss_0: \u001b[1;36m0.975267767906189\u001b[0m, test_loss: \u001b[1;36m0.975267767906189\u001b[0m, test_accuracy: \u001b[1;36m0.5983333587646484\u001b[0m,       \n",
       "time_taken: \u001b[1;36m20.949220418930054\u001b[0m, time_taken_per_epoch: \u001b[1;36m0.4275351105904093\u001b[0m                                           \n"
      ]
     },
     "metadata": {},
     "output_type": "display_data"
    },
    {
     "data": {
      "text/html": [
       "<pre style=\"white-space:pre;overflow-x:auto;line-height:normal;font-family:Menlo,'DejaVu Sans Mono',consolas,'Courier New',monospace\"></pre>\n"
      ],
      "text/plain": []
     },
     "metadata": {},
     "output_type": "display_data"
    },
    {
     "data": {
      "text/html": [
       "<pre style=\"white-space:pre;overflow-x:auto;line-height:normal;font-family:Menlo,'DejaVu Sans Mono',consolas,'Courier New',monospace\"><span style=\"color: #008080; text-decoration-color: #008080; font-weight: bold\">2025</span>-<span style=\"color: #008080; text-decoration-color: #008080; font-weight: bold\">02</span>-<span style=\"color: #008080; text-decoration-color: #008080; font-weight: bold\">26</span> <span style=\"color: #00ff00; text-decoration-color: #00ff00; font-weight: bold\">09:38:30</span>,<span style=\"color: #008080; text-decoration-color: #008080; font-weight: bold\">475</span> - <span style=\"font-weight: bold\">{</span>pytorch_tabular:<span style=\"color: #008080; text-decoration-color: #008080; font-weight: bold\">388</span><span style=\"font-weight: bold\">}</span> - INFO - Model Sweep Finished                                      \n",
       "</pre>\n"
      ],
      "text/plain": [
       "\u001b[1;36m2025\u001b[0m-\u001b[1;36m02\u001b[0m-\u001b[1;36m26\u001b[0m \u001b[1;92m09:38:30\u001b[0m,\u001b[1;36m475\u001b[0m - \u001b[1m{\u001b[0mpytorch_tabular:\u001b[1;36m388\u001b[0m\u001b[1m}\u001b[0m - INFO - Model Sweep Finished                                      \n"
      ]
     },
     "metadata": {},
     "output_type": "display_data"
    },
    {
     "data": {
      "text/html": [
       "<pre style=\"white-space:pre;overflow-x:auto;line-height:normal;font-family:Menlo,'DejaVu Sans Mono',consolas,'Courier New',monospace\"><span style=\"color: #008080; text-decoration-color: #008080; font-weight: bold\">2025</span>-<span style=\"color: #008080; text-decoration-color: #008080; font-weight: bold\">02</span>-<span style=\"color: #008080; text-decoration-color: #008080; font-weight: bold\">26</span> <span style=\"color: #00ff00; text-decoration-color: #00ff00; font-weight: bold\">09:38:30</span>,<span style=\"color: #008080; text-decoration-color: #008080; font-weight: bold\">476</span> - <span style=\"font-weight: bold\">{</span>pytorch_tabular:<span style=\"color: #008080; text-decoration-color: #008080; font-weight: bold\">389</span><span style=\"font-weight: bold\">}</span> - INFO - Best Model: FTTransformerModel                            \n",
       "</pre>\n"
      ],
      "text/plain": [
       "\u001b[1;36m2025\u001b[0m-\u001b[1;36m02\u001b[0m-\u001b[1;36m26\u001b[0m \u001b[1;92m09:38:30\u001b[0m,\u001b[1;36m476\u001b[0m - \u001b[1m{\u001b[0mpytorch_tabular:\u001b[1;36m389\u001b[0m\u001b[1m}\u001b[0m - INFO - Best Model: FTTransformerModel                            \n"
      ]
     },
     "metadata": {},
     "output_type": "display_data"
    },
    {
     "name": "stdout",
     "output_type": "stream",
     "text": [
      "Total time: 314.16385865211487\n"
     ]
    }
   ],
   "source": [
    "tic = time.time()\n",
    "sweep_df, best_model = model_sweep(\n",
    "    task='classification' if model_type == 'classifier' else 'regression',  # 'classification' or 'regression'\n",
    "    train=train,\n",
    "    test=valid,\n",
    "    data_config=data_config,\n",
    "    optimizer_config=optimizer_config,\n",
    "    trainer_config=trainer_config,\n",
    "    model_list='high_memory',  # The list of models to compare. This can be one of the presets defined in pytorch_tabular.tabular_model_sweep.MODEL_SWEEP_PRESETS or a list of ModelConfig objects. Defaults to \"lite\".\n",
    "    verbose=True\n",
    ")\n",
    "print(f'Total time: {time.time() - tic}')"
   ]
  },
  {
   "cell_type": "markdown",
   "id": "41f86294-0e61-476e-bff5-af43ddca31c1",
   "metadata": {},
   "source": [
    "O melhor checkpoint de todos treinamentos será armazenado na variável de output, que neste caso estamos chamando de \"best_model\"."
   ]
  },
  {
   "cell_type": "code",
   "execution_count": 14,
   "id": "de2217e8-798a-4ddf-b69a-11e4254b49ac",
   "metadata": {},
   "outputs": [
    {
     "data": {
      "text/html": [
       "<pre style=\"white-space:pre;overflow-x:auto;line-height:normal;font-family:Menlo,'DejaVu Sans Mono',consolas,'Courier New',monospace\">┏━━━━━━━━━━━━━━━━━━━━━━━━━━━┳━━━━━━━━━━━━━━━━━━━━━━━━━━━┓\n",
       "┃<span style=\"font-weight: bold\">        Test metric        </span>┃<span style=\"font-weight: bold\">       DataLoader 0        </span>┃\n",
       "┡━━━━━━━━━━━━━━━━━━━━━━━━━━━╇━━━━━━━━━━━━━━━━━━━━━━━━━━━┩\n",
       "│<span style=\"color: #008080; text-decoration-color: #008080\">       test_accuracy       </span>│<span style=\"color: #800080; text-decoration-color: #800080\">    0.7416666746139526     </span>│\n",
       "│<span style=\"color: #008080; text-decoration-color: #008080\">         test_loss         </span>│<span style=\"color: #800080; text-decoration-color: #800080\">    0.6228945851325989     </span>│\n",
       "│<span style=\"color: #008080; text-decoration-color: #008080\">        test_loss_0        </span>│<span style=\"color: #800080; text-decoration-color: #800080\">    0.6228945851325989     </span>│\n",
       "└───────────────────────────┴───────────────────────────┘\n",
       "</pre>\n"
      ],
      "text/plain": [
       "┏━━━━━━━━━━━━━━━━━━━━━━━━━━━┳━━━━━━━━━━━━━━━━━━━━━━━━━━━┓\n",
       "┃\u001b[1m \u001b[0m\u001b[1m       Test metric       \u001b[0m\u001b[1m \u001b[0m┃\u001b[1m \u001b[0m\u001b[1m      DataLoader 0       \u001b[0m\u001b[1m \u001b[0m┃\n",
       "┡━━━━━━━━━━━━━━━━━━━━━━━━━━━╇━━━━━━━━━━━━━━━━━━━━━━━━━━━┩\n",
       "│\u001b[36m \u001b[0m\u001b[36m      test_accuracy      \u001b[0m\u001b[36m \u001b[0m│\u001b[35m \u001b[0m\u001b[35m   0.7416666746139526    \u001b[0m\u001b[35m \u001b[0m│\n",
       "│\u001b[36m \u001b[0m\u001b[36m        test_loss        \u001b[0m\u001b[36m \u001b[0m│\u001b[35m \u001b[0m\u001b[35m   0.6228945851325989    \u001b[0m\u001b[35m \u001b[0m│\n",
       "│\u001b[36m \u001b[0m\u001b[36m       test_loss_0       \u001b[0m\u001b[36m \u001b[0m│\u001b[35m \u001b[0m\u001b[35m   0.6228945851325989    \u001b[0m\u001b[35m \u001b[0m│\n",
       "└───────────────────────────┴───────────────────────────┘\n"
      ]
     },
     "metadata": {},
     "output_type": "display_data"
    }
   ],
   "source": [
    "test_metric = best_model.evaluate(test)\n",
    "if model_type == 'regressor':\n",
    "    print('Test MSE: %.3f' % (test_metric[0]['test_mean_squared_error']))\n",
    "    print(f'Test inference error (RMSE): ±{math.sqrt(test_metric[0][\"test_mean_squared_error\"])}')"
   ]
  },
  {
   "cell_type": "markdown",
   "id": "56fb7720-6c4e-4e46-8f80-519692c1c2e2",
   "metadata": {},
   "source": [
    "Lembrando que: Cada vez que rodar o treinamento o resultado pode ser diferente!"
   ]
  },
  {
   "cell_type": "code",
   "execution_count": 15,
   "id": "5c8a2493-e2f3-49a2-9ddc-e063f80c8d84",
   "metadata": {},
   "outputs": [
    {
     "data": {
      "text/html": [
       "<style type=\"text/css\">\n",
       "#T_2202e_row0_col4, #T_2202e_row0_col5, #T_2202e_row2_col6, #T_2202e_row8_col6 {\n",
       "  background-color: #006837;\n",
       "  color: #f1f1f1;\n",
       "}\n",
       "#T_2202e_row0_col6 {\n",
       "  background-color: #30a356;\n",
       "  color: #f1f1f1;\n",
       "}\n",
       "#T_2202e_row1_col4 {\n",
       "  background-color: #016a38;\n",
       "  color: #f1f1f1;\n",
       "}\n",
       "#T_2202e_row1_col5, #T_2202e_row6_col4 {\n",
       "  background-color: #0e8245;\n",
       "  color: #f1f1f1;\n",
       "}\n",
       "#T_2202e_row1_col6 {\n",
       "  background-color: #fffcba;\n",
       "  color: #000000;\n",
       "}\n",
       "#T_2202e_row2_col4 {\n",
       "  background-color: #04703b;\n",
       "  color: #f1f1f1;\n",
       "}\n",
       "#T_2202e_row2_col5 {\n",
       "  background-color: #0f8446;\n",
       "  color: #f1f1f1;\n",
       "}\n",
       "#T_2202e_row3_col4, #T_2202e_row4_col4 {\n",
       "  background-color: #06733d;\n",
       "  color: #f1f1f1;\n",
       "}\n",
       "#T_2202e_row3_col5 {\n",
       "  background-color: #5ab760;\n",
       "  color: #f1f1f1;\n",
       "}\n",
       "#T_2202e_row3_col6, #T_2202e_row8_col4, #T_2202e_row8_col5 {\n",
       "  background-color: #a50026;\n",
       "  color: #f1f1f1;\n",
       "}\n",
       "#T_2202e_row4_col5 {\n",
       "  background-color: #82c966;\n",
       "  color: #000000;\n",
       "}\n",
       "#T_2202e_row4_col6 {\n",
       "  background-color: #fff7b2;\n",
       "  color: #000000;\n",
       "}\n",
       "#T_2202e_row5_col4 {\n",
       "  background-color: #08773f;\n",
       "  color: #f1f1f1;\n",
       "}\n",
       "#T_2202e_row5_col5 {\n",
       "  background-color: #a0d669;\n",
       "  color: #000000;\n",
       "}\n",
       "#T_2202e_row5_col6 {\n",
       "  background-color: #33a456;\n",
       "  color: #f1f1f1;\n",
       "}\n",
       "#T_2202e_row6_col5 {\n",
       "  background-color: #fee28f;\n",
       "  color: #000000;\n",
       "}\n",
       "#T_2202e_row6_col6 {\n",
       "  background-color: #18954f;\n",
       "  color: #f1f1f1;\n",
       "}\n",
       "#T_2202e_row7_col4 {\n",
       "  background-color: #138c4a;\n",
       "  color: #f1f1f1;\n",
       "}\n",
       "#T_2202e_row7_col5 {\n",
       "  background-color: #fa9656;\n",
       "  color: #000000;\n",
       "}\n",
       "#T_2202e_row7_col6 {\n",
       "  background-color: #45ad5b;\n",
       "  color: #f1f1f1;\n",
       "}\n",
       "</style>\n",
       "<table id=\"T_2202e\">\n",
       "  <thead>\n",
       "    <tr>\n",
       "      <th class=\"blank level0\" >&nbsp;</th>\n",
       "      <th id=\"T_2202e_level0_col0\" class=\"col_heading level0 col0\" >model</th>\n",
       "      <th id=\"T_2202e_level0_col1\" class=\"col_heading level0 col1\" ># Params</th>\n",
       "      <th id=\"T_2202e_level0_col2\" class=\"col_heading level0 col2\" >epochs</th>\n",
       "      <th id=\"T_2202e_level0_col3\" class=\"col_heading level0 col3\" >test_loss_0</th>\n",
       "      <th id=\"T_2202e_level0_col4\" class=\"col_heading level0 col4\" >test_loss</th>\n",
       "      <th id=\"T_2202e_level0_col5\" class=\"col_heading level0 col5\" >test_accuracy</th>\n",
       "      <th id=\"T_2202e_level0_col6\" class=\"col_heading level0 col6\" >time_taken_per_epoch</th>\n",
       "    </tr>\n",
       "  </thead>\n",
       "  <tbody>\n",
       "    <tr>\n",
       "      <th id=\"T_2202e_level0_row0\" class=\"row_heading level0 row0\" >3</th>\n",
       "      <td id=\"T_2202e_row0_col0\" class=\"data row0 col0\" >FTTransformerModel</td>\n",
       "      <td id=\"T_2202e_row0_col1\" class=\"data row0 col1\" >272 T</td>\n",
       "      <td id=\"T_2202e_row0_col2\" class=\"data row0 col2\" >49</td>\n",
       "      <td id=\"T_2202e_row0_col3\" class=\"data row0 col3\" >0.622895</td>\n",
       "      <td id=\"T_2202e_row0_col4\" class=\"data row0 col4\" >0.622895</td>\n",
       "      <td id=\"T_2202e_row0_col5\" class=\"data row0 col5\" >0.741667</td>\n",
       "      <td id=\"T_2202e_row0_col6\" class=\"data row0 col6\" >0.422960</td>\n",
       "    </tr>\n",
       "    <tr>\n",
       "      <th id=\"T_2202e_level0_row1\" class=\"row_heading level0 row1\" >2</th>\n",
       "      <td id=\"T_2202e_row1_col0\" class=\"data row1 col0\" >DANetModel</td>\n",
       "      <td id=\"T_2202e_row1_col1\" class=\"data row1 col1\" >426 T</td>\n",
       "      <td id=\"T_2202e_row1_col2\" class=\"data row1 col2\" >49</td>\n",
       "      <td id=\"T_2202e_row1_col3\" class=\"data row1 col3\" >0.681066</td>\n",
       "      <td id=\"T_2202e_row1_col4\" class=\"data row1 col4\" >0.681066</td>\n",
       "      <td id=\"T_2202e_row1_col5\" class=\"data row1 col5\" >0.713333</td>\n",
       "      <td id=\"T_2202e_row1_col6\" class=\"data row1 col6\" >0.925443</td>\n",
       "    </tr>\n",
       "    <tr>\n",
       "      <th id=\"T_2202e_level0_row2\" class=\"row_heading level0 row2\" >1</th>\n",
       "      <td id=\"T_2202e_row2_col0\" class=\"data row2 col0\" >CategoryEmbeddingModel</td>\n",
       "      <td id=\"T_2202e_row2_col1\" class=\"data row2 col1\" >12 T</td>\n",
       "      <td id=\"T_2202e_row2_col2\" class=\"data row2 col2\" >43</td>\n",
       "      <td id=\"T_2202e_row2_col3\" class=\"data row2 col3\" >0.823135</td>\n",
       "      <td id=\"T_2202e_row2_col4\" class=\"data row2 col4\" >0.823135</td>\n",
       "      <td id=\"T_2202e_row2_col5\" class=\"data row2 col5\" >0.711667</td>\n",
       "      <td id=\"T_2202e_row2_col6\" class=\"data row2 col6\" >0.246907</td>\n",
       "    </tr>\n",
       "    <tr>\n",
       "      <th id=\"T_2202e_level0_row3\" class=\"row_heading level0 row3\" >5</th>\n",
       "      <td id=\"T_2202e_row3_col0\" class=\"data row3 col0\" >GatedAdditiveTreeEnsembleModel</td>\n",
       "      <td id=\"T_2202e_row3_col1\" class=\"data row3 col1\" >77 T</td>\n",
       "      <td id=\"T_2202e_row3_col2\" class=\"data row3 col2\" >74</td>\n",
       "      <td id=\"T_2202e_row3_col3\" class=\"data row3 col3\" >0.884190</td>\n",
       "      <td id=\"T_2202e_row3_col4\" class=\"data row3 col4\" >0.884190</td>\n",
       "      <td id=\"T_2202e_row3_col5\" class=\"data row3 col5\" >0.650000</td>\n",
       "      <td id=\"T_2202e_row3_col6\" class=\"data row3 col6\" >1.578803</td>\n",
       "    </tr>\n",
       "    <tr>\n",
       "      <th id=\"T_2202e_level0_row4\" class=\"row_heading level0 row4\" >6</th>\n",
       "      <td id=\"T_2202e_row4_col0\" class=\"data row4 col0\" >NODEModel</td>\n",
       "      <td id=\"T_2202e_row4_col1\" class=\"data row4 col1\" >1 M</td>\n",
       "      <td id=\"T_2202e_row4_col2\" class=\"data row4 col2\" >49</td>\n",
       "      <td id=\"T_2202e_row4_col3\" class=\"data row4 col3\" >0.881665</td>\n",
       "      <td id=\"T_2202e_row4_col4\" class=\"data row4 col4\" >0.881665</td>\n",
       "      <td id=\"T_2202e_row4_col5\" class=\"data row4 col5\" >0.621667</td>\n",
       "      <td id=\"T_2202e_row4_col6\" class=\"data row4 col6\" >0.948116</td>\n",
       "    </tr>\n",
       "    <tr>\n",
       "      <th id=\"T_2202e_level0_row5\" class=\"row_heading level0 row5\" >8</th>\n",
       "      <td id=\"T_2202e_row5_col0\" class=\"data row5 col0\" >TabTransformerModel</td>\n",
       "      <td id=\"T_2202e_row5_col1\" class=\"data row5 col1\" >272 T</td>\n",
       "      <td id=\"T_2202e_row5_col2\" class=\"data row5 col2\" >49</td>\n",
       "      <td id=\"T_2202e_row5_col3\" class=\"data row5 col3\" >0.975268</td>\n",
       "      <td id=\"T_2202e_row5_col4\" class=\"data row5 col4\" >0.975268</td>\n",
       "      <td id=\"T_2202e_row5_col5\" class=\"data row5 col5\" >0.598333</td>\n",
       "      <td id=\"T_2202e_row5_col6\" class=\"data row5 col6\" >0.427535</td>\n",
       "    </tr>\n",
       "    <tr>\n",
       "      <th id=\"T_2202e_level0_row6\" class=\"row_heading level0 row6\" >4</th>\n",
       "      <td id=\"T_2202e_row6_col0\" class=\"data row6 col0\" >GANDALFModel</td>\n",
       "      <td id=\"T_2202e_row6_col1\" class=\"data row6 col1\" >7 T</td>\n",
       "      <td id=\"T_2202e_row6_col2\" class=\"data row6 col2\" >49</td>\n",
       "      <td id=\"T_2202e_row6_col3\" class=\"data row6 col3\" >1.224026</td>\n",
       "      <td id=\"T_2202e_row6_col4\" class=\"data row6 col4\" >1.224026</td>\n",
       "      <td id=\"T_2202e_row6_col5\" class=\"data row6 col5\" >0.451667</td>\n",
       "      <td id=\"T_2202e_row6_col6\" class=\"data row6 col6\" >0.373522</td>\n",
       "    </tr>\n",
       "    <tr>\n",
       "      <th id=\"T_2202e_level0_row7\" class=\"row_heading level0 row7\" >7</th>\n",
       "      <td id=\"T_2202e_row7_col0\" class=\"data row7 col0\" >TabNetModel</td>\n",
       "      <td id=\"T_2202e_row7_col1\" class=\"data row7 col1\" >6 T</td>\n",
       "      <td id=\"T_2202e_row7_col2\" class=\"data row7 col2\" >49</td>\n",
       "      <td id=\"T_2202e_row7_col3\" class=\"data row7 col3\" >1.427356</td>\n",
       "      <td id=\"T_2202e_row7_col4\" class=\"data row7 col4\" >1.427356</td>\n",
       "      <td id=\"T_2202e_row7_col5\" class=\"data row7 col5\" >0.380000</td>\n",
       "      <td id=\"T_2202e_row7_col6\" class=\"data row7 col6\" >0.460093</td>\n",
       "    </tr>\n",
       "    <tr>\n",
       "      <th id=\"T_2202e_level0_row8\" class=\"row_heading level0 row8\" >0</th>\n",
       "      <td id=\"T_2202e_row8_col0\" class=\"data row8 col0\" >AutoIntModel</td>\n",
       "      <td id=\"T_2202e_row8_col1\" class=\"data row8 col1\" >15 T</td>\n",
       "      <td id=\"T_2202e_row8_col2\" class=\"data row8 col2\" >49</td>\n",
       "      <td id=\"T_2202e_row8_col3\" class=\"data row8 col3\" >11.459814</td>\n",
       "      <td id=\"T_2202e_row8_col4\" class=\"data row8 col4\" >11.459814</td>\n",
       "      <td id=\"T_2202e_row8_col5\" class=\"data row8 col5\" >0.251667</td>\n",
       "      <td id=\"T_2202e_row8_col6\" class=\"data row8 col6\" >0.250385</td>\n",
       "    </tr>\n",
       "  </tbody>\n",
       "</table>\n"
      ],
      "text/plain": [
       "<pandas.io.formats.style.Styler at 0x73cbc2ef9ba0>"
      ]
     },
     "execution_count": 15,
     "metadata": {},
     "output_type": "execute_result"
    }
   ],
   "source": [
    "# Replace \"OOM\" with 0.0\n",
    "sweep_df.replace(['OOM', np.nan], 0.0, inplace=True)\n",
    "sweep_df.replace([np.inf], 999., inplace=True)\n",
    "\n",
    "if model_type == 'regressor':\n",
    "    sweep_df['test_rmse'] = np.sqrt(sweep_df['test_mean_squared_error'])\n",
    "\n",
    "sweep_df.drop(columns=['params', 'time_taken']).sort_values(\n",
    "    'test_accuracy' if model_type == 'classifier' else 'test_loss', ascending=False if model_type == 'classifier' else True).style.background_gradient(\n",
    "    subset=['test_accuracy' if model_type == 'classifier' else 'test_loss'], cmap='RdYlGn'\n",
    ").background_gradient(subset=['time_taken_per_epoch', 'test_loss'], cmap='RdYlGn_r')"
   ]
  },
  {
   "cell_type": "code",
   "execution_count": 16,
   "id": "b72c4c16-0908-4184-85be-d188a30c7aa6",
   "metadata": {},
   "outputs": [
    {
     "data": {
      "text/html": [
       "<pre style=\"white-space:pre;overflow-x:auto;line-height:normal;font-family:Menlo,'DejaVu Sans Mono',consolas,'Courier New',monospace\"><span style=\"color: #008080; text-decoration-color: #008080; font-weight: bold\">2025</span>-<span style=\"color: #008080; text-decoration-color: #008080; font-weight: bold\">02</span>-<span style=\"color: #008080; text-decoration-color: #008080; font-weight: bold\">26</span> <span style=\"color: #00ff00; text-decoration-color: #00ff00; font-weight: bold\">09:38:30</span>,<span style=\"color: #008080; text-decoration-color: #008080; font-weight: bold\">696</span> - <span style=\"font-weight: bold\">{</span>pytorch_tabular.tabular_model:<span style=\"color: #008080; text-decoration-color: #008080; font-weight: bold\">1575</span><span style=\"font-weight: bold\">}</span> - WARNING - Directory is not empty. Overwriting the \n",
       "contents.                                                                                                          \n",
       "</pre>\n"
      ],
      "text/plain": [
       "\u001b[1;36m2025\u001b[0m-\u001b[1;36m02\u001b[0m-\u001b[1;36m26\u001b[0m \u001b[1;92m09:38:30\u001b[0m,\u001b[1;36m696\u001b[0m - \u001b[1m{\u001b[0mpytorch_tabular.tabular_model:\u001b[1;36m1575\u001b[0m\u001b[1m}\u001b[0m - WARNING - Directory is not empty. Overwriting the \n",
       "contents.                                                                                                          \n"
      ]
     },
     "metadata": {},
     "output_type": "display_data"
    }
   ],
   "source": [
    "# Save best model\n",
    "best_model.save_model('results/best_model_pytorch_tabular', inference_only=True)\n",
    "\n",
    "# Save columns names and informations\n",
    "data_to_save = {\n",
    "    'col_names_order': col_names_order,\n",
    "    'num_col_names': num_col_names,\n",
    "    'cat_col_names': cat_col_names,\n",
    "    'date_col_names': date_col_names,\n",
    "    'target_cols': target_cols,\n",
    "    'category_mappings': category_mappings,\n",
    "    'window_size': window_size\n",
    "}\n",
    "with open('results/columns_metadata_pytorch_tabular.json', 'w') as json_file:\n",
    "    json.dump(data_to_save, json_file, indent=4)"
   ]
  },
  {
   "cell_type": "markdown",
   "id": "813e3158-0db3-482c-b5eb-9be4b5699f78",
   "metadata": {},
   "source": [
    "### Fine-tuning Hyperparametrs\n",
    "Show, agora que sabemos as melhores arquiteturas para o nosso modelo, podemos brincar com ela(s) para buscar melhores hiperparâmetros para termos resultados ainda melhores. Para isso o Pytorch Tabular disponibilizar a função [tuner](https://pytorch-tabular.readthedocs.io/en/latest/apidocs_coreclasses/#pytorch_tabular.TabularModelTuner.tune)."
   ]
  },
  {
   "cell_type": "markdown",
   "id": "7df8050c-c222-4447-99ab-007b56e6c6a8",
   "metadata": {},
   "source": [
    "Configurações dos modelos: https://pytorch-tabular.readthedocs.io/en/latest/apidocs_model/\n",
    "\n",
    "Mais informações de como o hyperparameter space funcionam: https://pytorch-tabular.readthedocs.io/en/latest/tutorials/10-Hyperparameter%20Tuning/#define-the-hyperparameter-space\n",
    "\n",
    "Neste caso vamos pegar as duas arquiteturas que se sairam bem e brinca com elas."
   ]
  },
  {
   "cell_type": "code",
   "execution_count": 17,
   "id": "e3421d5e-7e46-413f-b0ea-06a7afbdeec0",
   "metadata": {},
   "outputs": [],
   "source": [
    "from pytorch_tabular.tabular_model_tuner import TabularModelTuner\n",
    "\n",
    "from pytorch_tabular.models import (\n",
    "    FTTransformerConfig,\n",
    "    DANetConfig,\n",
    ")   "
   ]
  },
  {
   "cell_type": "markdown",
   "id": "e76edf9a-901d-4b67-808e-d56809661221",
   "metadata": {},
   "source": [
    "As configurações dos spaces que serão utilizados sempre irão começar com nome da configuração, dois underlines e o parâmetro. Sendo seus valores uma lista com todas as configurações que deseja testar."
   ]
  },
  {
   "cell_type": "code",
   "execution_count": 18,
   "id": "a5c29373-4d23-4c0e-940a-e10b8b6eba03",
   "metadata": {},
   "outputs": [],
   "source": [
    "model_config_FTTransformerConfig = FTTransformerConfig(task='classification' if model_type == 'classifier' else 'regression')\n",
    "\n",
    "search_space_FTTransformerConfig = {\n",
    "    'model_config__input_embed_dim': [16, 32, 64],\n",
    "    'model_config__num_heads': [4, 8, 16],\n",
    "    'model_config__transformer_activation': ['GEGLU', 'ReLU', 'LeakyReLU'],\n",
    "}"
   ]
  },
  {
   "cell_type": "code",
   "execution_count": 19,
   "id": "33e0c298-ddd9-4e62-9aea-30a3d8daa577",
   "metadata": {},
   "outputs": [],
   "source": [
    "model_config_DANetConfig = DANetConfig(task='classification' if model_type == 'classifier' else 'regression')\n",
    "\n",
    "search_space_DANetConfig = {\n",
    "    'optimizer_config__optimizer': ['Adam', 'AdamW'],\n",
    "    'model_config__n_layers': [4, 8, 16],\n",
    "    'model_config__abstlay_dim_1': [16, 32, 64],\n",
    "    'model_config__abstlay_dim_2': [32, 64, 128],\n",
    "}"
   ]
  },
  {
   "cell_type": "markdown",
   "id": "2d4034f3-946a-480b-888c-0367c35cca54",
   "metadata": {},
   "source": [
    "Para informar o tuner quais arquiteturas e hiperparâmetros testar, é necessário adicioná-los em listas. Ressaltando que ambas listas devem estar ordenadas iguais e ter o mesmo tamanho (irá utilizar primeiro elemento de models com primeiro de search_space, segundo com segundo,...)"
   ]
  },
  {
   "cell_type": "code",
   "execution_count": 20,
   "id": "52004721-37ae-4043-a175-8b9564b3d0db",
   "metadata": {},
   "outputs": [],
   "source": [
    "all_models = [model_config_FTTransformerConfig, model_config_DANetConfig]\n",
    "all_search_space = [search_space_FTTransformerConfig, search_space_DANetConfig]"
   ]
  },
  {
   "cell_type": "markdown",
   "id": "f430eb5c-1704-4c40-a730-4aed62949602",
   "metadata": {},
   "source": [
    "O tuner possui duas \"strategy\" principais:\n",
    "- grid_search: Para pesquisar todos os hiperparâmetros que foram definidos, mas lembre-se que cada novo campo que você adicionar aumentará consideravelmente o tempo total de treinamento. Se você configurar 4 otimizadores, 4 layes, 2 ativações e 2 dropout, isso significa 64 (4 * 4 * 2 * 2) treinamentos.\n",
    "- random_search: Obterá aleatoriamente configurações de hiperparâmetros \"n_trials\" de cada modelo que foi definido. É útil para um treinamento mais rápido, mas lembre-se de que não testará todos os hiperparâmetros."
   ]
  },
  {
   "cell_type": "code",
   "execution_count": 21,
   "id": "e9a1449e-a034-4e3b-9101-80fad9272307",
   "metadata": {
    "scrolled": true
   },
   "outputs": [
    {
     "data": {
      "application/vnd.jupyter.widget-view+json": {
       "model_id": "07d8dc3c50814f00ac38ffa403634318",
       "version_major": 2,
       "version_minor": 0
      },
      "text/plain": [
       "Output()"
      ]
     },
     "metadata": {},
     "output_type": "display_data"
    },
    {
     "data": {
      "application/vnd.jupyter.widget-view+json": {
       "model_id": "c3ef23f8b701456090eeceee265ce631",
       "version_major": 2,
       "version_minor": 0
      },
      "text/plain": [
       "Finding best initial lr:   0%|          | 0/100 [00:00<?, ?it/s]"
      ]
     },
     "metadata": {},
     "output_type": "display_data"
    },
    {
     "data": {
      "text/html": [
       "<pre style=\"white-space:pre;overflow-x:auto;line-height:normal;font-family:Menlo,'DejaVu Sans Mono',consolas,'Courier New',monospace\"><span style=\"color: #008080; text-decoration-color: #008080; font-weight: bold\">2025</span>-<span style=\"color: #008080; text-decoration-color: #008080; font-weight: bold\">02</span>-<span style=\"color: #008080; text-decoration-color: #008080; font-weight: bold\">26</span> <span style=\"color: #00ff00; text-decoration-color: #00ff00; font-weight: bold\">09:48:44</span>,<span style=\"color: #008080; text-decoration-color: #008080; font-weight: bold\">357</span> - <span style=\"font-weight: bold\">{</span>pytorch_tabular.tabular_model_tuner:<span style=\"color: #008080; text-decoration-color: #008080; font-weight: bold\">412</span><span style=\"font-weight: bold\">}</span> - INFO - Trial <span style=\"color: #008080; text-decoration-color: #008080; font-weight: bold\">1</span>/<span style=\"color: #008080; text-decoration-color: #008080; font-weight: bold\">27</span>: <span style=\"font-weight: bold\">{</span><span style=\"color: #008000; text-decoration-color: #008000\">'model'</span>:                 \n",
       "<span style=\"color: #008000; text-decoration-color: #008000\">'0-FTTransformerConfig'</span>, <span style=\"color: #008000; text-decoration-color: #008000\">'model_config__input_embed_dim'</span>: <span style=\"color: #008080; text-decoration-color: #008080; font-weight: bold\">16</span>, <span style=\"color: #008000; text-decoration-color: #008000\">'model_config__num_heads'</span>: <span style=\"color: #008080; text-decoration-color: #008080; font-weight: bold\">4</span>,                        \n",
       "<span style=\"color: #008000; text-decoration-color: #008000\">'model_config__transformer_activation'</span>: <span style=\"color: #008000; text-decoration-color: #008000\">'GEGLU'</span>, <span style=\"color: #008000; text-decoration-color: #008000\">'loss_0'</span>: <span style=\"color: #008080; text-decoration-color: #008080; font-weight: bold\">0.6435269117355347</span>, <span style=\"color: #008000; text-decoration-color: #008000\">'loss'</span>: <span style=\"color: #008080; text-decoration-color: #008080; font-weight: bold\">0.6435269117355347</span>,         \n",
       "<span style=\"color: #008000; text-decoration-color: #008000\">'accuracy'</span>: <span style=\"color: #008080; text-decoration-color: #008080; font-weight: bold\">0.7549999952316284</span>, <span style=\"color: #008000; text-decoration-color: #008000\">'trial_id'</span>: <span style=\"color: #008080; text-decoration-color: #008080; font-weight: bold\">0</span><span style=\"font-weight: bold\">}</span> | Score: <span style=\"color: #008080; text-decoration-color: #008080; font-weight: bold\">0.7549999952316284</span>                                         \n",
       "</pre>\n"
      ],
      "text/plain": [
       "\u001b[1;36m2025\u001b[0m-\u001b[1;36m02\u001b[0m-\u001b[1;36m26\u001b[0m \u001b[1;92m09:48:44\u001b[0m,\u001b[1;36m357\u001b[0m - \u001b[1m{\u001b[0mpytorch_tabular.tabular_model_tuner:\u001b[1;36m412\u001b[0m\u001b[1m}\u001b[0m - INFO - Trial \u001b[1;36m1\u001b[0m/\u001b[1;36m27\u001b[0m: \u001b[1m{\u001b[0m\u001b[32m'model'\u001b[0m:                 \n",
       "\u001b[32m'0-FTTransformerConfig'\u001b[0m, \u001b[32m'model_config__input_embed_dim'\u001b[0m: \u001b[1;36m16\u001b[0m, \u001b[32m'model_config__num_heads'\u001b[0m: \u001b[1;36m4\u001b[0m,                        \n",
       "\u001b[32m'model_config__transformer_activation'\u001b[0m: \u001b[32m'GEGLU'\u001b[0m, \u001b[32m'loss_0'\u001b[0m: \u001b[1;36m0.6435269117355347\u001b[0m, \u001b[32m'loss'\u001b[0m: \u001b[1;36m0.6435269117355347\u001b[0m,         \n",
       "\u001b[32m'accuracy'\u001b[0m: \u001b[1;36m0.7549999952316284\u001b[0m, \u001b[32m'trial_id'\u001b[0m: \u001b[1;36m0\u001b[0m\u001b[1m}\u001b[0m | Score: \u001b[1;36m0.7549999952316284\u001b[0m                                         \n"
      ]
     },
     "metadata": {},
     "output_type": "display_data"
    },
    {
     "data": {
      "application/vnd.jupyter.widget-view+json": {
       "model_id": "453e96ba57b744c3a9dcba5cb73a03c9",
       "version_major": 2,
       "version_minor": 0
      },
      "text/plain": [
       "Finding best initial lr:   0%|          | 0/100 [00:00<?, ?it/s]"
      ]
     },
     "metadata": {},
     "output_type": "display_data"
    },
    {
     "data": {
      "text/html": [
       "<pre style=\"white-space:pre;overflow-x:auto;line-height:normal;font-family:Menlo,'DejaVu Sans Mono',consolas,'Courier New',monospace\"><span style=\"color: #008080; text-decoration-color: #008080; font-weight: bold\">2025</span>-<span style=\"color: #008080; text-decoration-color: #008080; font-weight: bold\">02</span>-<span style=\"color: #008080; text-decoration-color: #008080; font-weight: bold\">26</span> <span style=\"color: #00ff00; text-decoration-color: #00ff00; font-weight: bold\">09:49:19</span>,<span style=\"color: #008080; text-decoration-color: #008080; font-weight: bold\">986</span> - <span style=\"font-weight: bold\">{</span>pytorch_tabular.tabular_model_tuner:<span style=\"color: #008080; text-decoration-color: #008080; font-weight: bold\">412</span><span style=\"font-weight: bold\">}</span> - INFO - Trial <span style=\"color: #008080; text-decoration-color: #008080; font-weight: bold\">2</span>/<span style=\"color: #008080; text-decoration-color: #008080; font-weight: bold\">27</span>: <span style=\"font-weight: bold\">{</span><span style=\"color: #008000; text-decoration-color: #008000\">'model'</span>:                 \n",
       "<span style=\"color: #008000; text-decoration-color: #008000\">'0-FTTransformerConfig'</span>, <span style=\"color: #008000; text-decoration-color: #008000\">'model_config__input_embed_dim'</span>: <span style=\"color: #008080; text-decoration-color: #008080; font-weight: bold\">16</span>, <span style=\"color: #008000; text-decoration-color: #008000\">'model_config__num_heads'</span>: <span style=\"color: #008080; text-decoration-color: #008080; font-weight: bold\">4</span>,                        \n",
       "<span style=\"color: #008000; text-decoration-color: #008000\">'model_config__transformer_activation'</span>: <span style=\"color: #008000; text-decoration-color: #008000\">'ReLU'</span>, <span style=\"color: #008000; text-decoration-color: #008000\">'loss_0'</span>: <span style=\"color: #008080; text-decoration-color: #008080; font-weight: bold\">0.5075352787971497</span>, <span style=\"color: #008000; text-decoration-color: #008000\">'loss'</span>: <span style=\"color: #008080; text-decoration-color: #008080; font-weight: bold\">0.5075352787971497</span>,          \n",
       "<span style=\"color: #008000; text-decoration-color: #008000\">'accuracy'</span>: <span style=\"color: #008080; text-decoration-color: #008080; font-weight: bold\">0.8083333373069763</span>, <span style=\"color: #008000; text-decoration-color: #008000\">'trial_id'</span>: <span style=\"color: #008080; text-decoration-color: #008080; font-weight: bold\">1</span><span style=\"font-weight: bold\">}</span> | Score: <span style=\"color: #008080; text-decoration-color: #008080; font-weight: bold\">0.8083333373069763</span>                                         \n",
       "</pre>\n"
      ],
      "text/plain": [
       "\u001b[1;36m2025\u001b[0m-\u001b[1;36m02\u001b[0m-\u001b[1;36m26\u001b[0m \u001b[1;92m09:49:19\u001b[0m,\u001b[1;36m986\u001b[0m - \u001b[1m{\u001b[0mpytorch_tabular.tabular_model_tuner:\u001b[1;36m412\u001b[0m\u001b[1m}\u001b[0m - INFO - Trial \u001b[1;36m2\u001b[0m/\u001b[1;36m27\u001b[0m: \u001b[1m{\u001b[0m\u001b[32m'model'\u001b[0m:                 \n",
       "\u001b[32m'0-FTTransformerConfig'\u001b[0m, \u001b[32m'model_config__input_embed_dim'\u001b[0m: \u001b[1;36m16\u001b[0m, \u001b[32m'model_config__num_heads'\u001b[0m: \u001b[1;36m4\u001b[0m,                        \n",
       "\u001b[32m'model_config__transformer_activation'\u001b[0m: \u001b[32m'ReLU'\u001b[0m, \u001b[32m'loss_0'\u001b[0m: \u001b[1;36m0.5075352787971497\u001b[0m, \u001b[32m'loss'\u001b[0m: \u001b[1;36m0.5075352787971497\u001b[0m,          \n",
       "\u001b[32m'accuracy'\u001b[0m: \u001b[1;36m0.8083333373069763\u001b[0m, \u001b[32m'trial_id'\u001b[0m: \u001b[1;36m1\u001b[0m\u001b[1m}\u001b[0m | Score: \u001b[1;36m0.8083333373069763\u001b[0m                                         \n"
      ]
     },
     "metadata": {},
     "output_type": "display_data"
    },
    {
     "data": {
      "application/vnd.jupyter.widget-view+json": {
       "model_id": "268e39ccf64a45d1a897df435bc8e6ff",
       "version_major": 2,
       "version_minor": 0
      },
      "text/plain": [
       "Finding best initial lr:   0%|          | 0/100 [00:00<?, ?it/s]"
      ]
     },
     "metadata": {},
     "output_type": "display_data"
    },
    {
     "data": {
      "text/html": [
       "<pre style=\"white-space:pre;overflow-x:auto;line-height:normal;font-family:Menlo,'DejaVu Sans Mono',consolas,'Courier New',monospace\"><span style=\"color: #008080; text-decoration-color: #008080; font-weight: bold\">2025</span>-<span style=\"color: #008080; text-decoration-color: #008080; font-weight: bold\">02</span>-<span style=\"color: #008080; text-decoration-color: #008080; font-weight: bold\">26</span> <span style=\"color: #00ff00; text-decoration-color: #00ff00; font-weight: bold\">09:49:44</span>,<span style=\"color: #008080; text-decoration-color: #008080; font-weight: bold\">934</span> - <span style=\"font-weight: bold\">{</span>pytorch_tabular.tabular_model_tuner:<span style=\"color: #008080; text-decoration-color: #008080; font-weight: bold\">412</span><span style=\"font-weight: bold\">}</span> - INFO - Trial <span style=\"color: #008080; text-decoration-color: #008080; font-weight: bold\">3</span>/<span style=\"color: #008080; text-decoration-color: #008080; font-weight: bold\">27</span>: <span style=\"font-weight: bold\">{</span><span style=\"color: #008000; text-decoration-color: #008000\">'model'</span>:                 \n",
       "<span style=\"color: #008000; text-decoration-color: #008000\">'0-FTTransformerConfig'</span>, <span style=\"color: #008000; text-decoration-color: #008000\">'model_config__input_embed_dim'</span>: <span style=\"color: #008080; text-decoration-color: #008080; font-weight: bold\">16</span>, <span style=\"color: #008000; text-decoration-color: #008000\">'model_config__num_heads'</span>: <span style=\"color: #008080; text-decoration-color: #008080; font-weight: bold\">4</span>,                        \n",
       "<span style=\"color: #008000; text-decoration-color: #008000\">'model_config__transformer_activation'</span>: <span style=\"color: #008000; text-decoration-color: #008000\">'LeakyReLU'</span>, <span style=\"color: #008000; text-decoration-color: #008000\">'loss_0'</span>: <span style=\"color: #008080; text-decoration-color: #008080; font-weight: bold\">0.5907058715820312</span>, <span style=\"color: #008000; text-decoration-color: #008000\">'loss'</span>: <span style=\"color: #008080; text-decoration-color: #008080; font-weight: bold\">0.5907058715820312</span>,     \n",
       "<span style=\"color: #008000; text-decoration-color: #008000\">'accuracy'</span>: <span style=\"color: #008080; text-decoration-color: #008080; font-weight: bold\">0.7599999904632568</span>, <span style=\"color: #008000; text-decoration-color: #008000\">'trial_id'</span>: <span style=\"color: #008080; text-decoration-color: #008080; font-weight: bold\">2</span><span style=\"font-weight: bold\">}</span> | Score: <span style=\"color: #008080; text-decoration-color: #008080; font-weight: bold\">0.7599999904632568</span>                                         \n",
       "</pre>\n"
      ],
      "text/plain": [
       "\u001b[1;36m2025\u001b[0m-\u001b[1;36m02\u001b[0m-\u001b[1;36m26\u001b[0m \u001b[1;92m09:49:44\u001b[0m,\u001b[1;36m934\u001b[0m - \u001b[1m{\u001b[0mpytorch_tabular.tabular_model_tuner:\u001b[1;36m412\u001b[0m\u001b[1m}\u001b[0m - INFO - Trial \u001b[1;36m3\u001b[0m/\u001b[1;36m27\u001b[0m: \u001b[1m{\u001b[0m\u001b[32m'model'\u001b[0m:                 \n",
       "\u001b[32m'0-FTTransformerConfig'\u001b[0m, \u001b[32m'model_config__input_embed_dim'\u001b[0m: \u001b[1;36m16\u001b[0m, \u001b[32m'model_config__num_heads'\u001b[0m: \u001b[1;36m4\u001b[0m,                        \n",
       "\u001b[32m'model_config__transformer_activation'\u001b[0m: \u001b[32m'LeakyReLU'\u001b[0m, \u001b[32m'loss_0'\u001b[0m: \u001b[1;36m0.5907058715820312\u001b[0m, \u001b[32m'loss'\u001b[0m: \u001b[1;36m0.5907058715820312\u001b[0m,     \n",
       "\u001b[32m'accuracy'\u001b[0m: \u001b[1;36m0.7599999904632568\u001b[0m, \u001b[32m'trial_id'\u001b[0m: \u001b[1;36m2\u001b[0m\u001b[1m}\u001b[0m | Score: \u001b[1;36m0.7599999904632568\u001b[0m                                         \n"
      ]
     },
     "metadata": {},
     "output_type": "display_data"
    },
    {
     "data": {
      "application/vnd.jupyter.widget-view+json": {
       "model_id": "20dba9dfadba4a7f8b047d4c41543e08",
       "version_major": 2,
       "version_minor": 0
      },
      "text/plain": [
       "Finding best initial lr:   0%|          | 0/100 [00:00<?, ?it/s]"
      ]
     },
     "metadata": {},
     "output_type": "display_data"
    },
    {
     "data": {
      "text/html": [
       "<pre style=\"white-space:pre;overflow-x:auto;line-height:normal;font-family:Menlo,'DejaVu Sans Mono',consolas,'Courier New',monospace\"><span style=\"color: #008080; text-decoration-color: #008080; font-weight: bold\">2025</span>-<span style=\"color: #008080; text-decoration-color: #008080; font-weight: bold\">02</span>-<span style=\"color: #008080; text-decoration-color: #008080; font-weight: bold\">26</span> <span style=\"color: #00ff00; text-decoration-color: #00ff00; font-weight: bold\">09:50:09</span>,<span style=\"color: #008080; text-decoration-color: #008080; font-weight: bold\">262</span> - <span style=\"font-weight: bold\">{</span>pytorch_tabular.tabular_model_tuner:<span style=\"color: #008080; text-decoration-color: #008080; font-weight: bold\">412</span><span style=\"font-weight: bold\">}</span> - INFO - Trial <span style=\"color: #008080; text-decoration-color: #008080; font-weight: bold\">4</span>/<span style=\"color: #008080; text-decoration-color: #008080; font-weight: bold\">27</span>: <span style=\"font-weight: bold\">{</span><span style=\"color: #008000; text-decoration-color: #008000\">'model'</span>:                 \n",
       "<span style=\"color: #008000; text-decoration-color: #008000\">'0-FTTransformerConfig'</span>, <span style=\"color: #008000; text-decoration-color: #008000\">'model_config__input_embed_dim'</span>: <span style=\"color: #008080; text-decoration-color: #008080; font-weight: bold\">16</span>, <span style=\"color: #008000; text-decoration-color: #008000\">'model_config__num_heads'</span>: <span style=\"color: #008080; text-decoration-color: #008080; font-weight: bold\">8</span>,                        \n",
       "<span style=\"color: #008000; text-decoration-color: #008000\">'model_config__transformer_activation'</span>: <span style=\"color: #008000; text-decoration-color: #008000\">'GEGLU'</span>, <span style=\"color: #008000; text-decoration-color: #008000\">'loss_0'</span>: <span style=\"color: #008080; text-decoration-color: #008080; font-weight: bold\">0.5730581879615784</span>, <span style=\"color: #008000; text-decoration-color: #008000\">'loss'</span>: <span style=\"color: #008080; text-decoration-color: #008080; font-weight: bold\">0.5730581879615784</span>,         \n",
       "<span style=\"color: #008000; text-decoration-color: #008000\">'accuracy'</span>: <span style=\"color: #008080; text-decoration-color: #008080; font-weight: bold\">0.7766666412353516</span>, <span style=\"color: #008000; text-decoration-color: #008000\">'trial_id'</span>: <span style=\"color: #008080; text-decoration-color: #008080; font-weight: bold\">3</span><span style=\"font-weight: bold\">}</span> | Score: <span style=\"color: #008080; text-decoration-color: #008080; font-weight: bold\">0.7766666412353516</span>                                         \n",
       "</pre>\n"
      ],
      "text/plain": [
       "\u001b[1;36m2025\u001b[0m-\u001b[1;36m02\u001b[0m-\u001b[1;36m26\u001b[0m \u001b[1;92m09:50:09\u001b[0m,\u001b[1;36m262\u001b[0m - \u001b[1m{\u001b[0mpytorch_tabular.tabular_model_tuner:\u001b[1;36m412\u001b[0m\u001b[1m}\u001b[0m - INFO - Trial \u001b[1;36m4\u001b[0m/\u001b[1;36m27\u001b[0m: \u001b[1m{\u001b[0m\u001b[32m'model'\u001b[0m:                 \n",
       "\u001b[32m'0-FTTransformerConfig'\u001b[0m, \u001b[32m'model_config__input_embed_dim'\u001b[0m: \u001b[1;36m16\u001b[0m, \u001b[32m'model_config__num_heads'\u001b[0m: \u001b[1;36m8\u001b[0m,                        \n",
       "\u001b[32m'model_config__transformer_activation'\u001b[0m: \u001b[32m'GEGLU'\u001b[0m, \u001b[32m'loss_0'\u001b[0m: \u001b[1;36m0.5730581879615784\u001b[0m, \u001b[32m'loss'\u001b[0m: \u001b[1;36m0.5730581879615784\u001b[0m,         \n",
       "\u001b[32m'accuracy'\u001b[0m: \u001b[1;36m0.7766666412353516\u001b[0m, \u001b[32m'trial_id'\u001b[0m: \u001b[1;36m3\u001b[0m\u001b[1m}\u001b[0m | Score: \u001b[1;36m0.7766666412353516\u001b[0m                                         \n"
      ]
     },
     "metadata": {},
     "output_type": "display_data"
    },
    {
     "data": {
      "application/vnd.jupyter.widget-view+json": {
       "model_id": "f08049cc54294d1c9561360057a519d1",
       "version_major": 2,
       "version_minor": 0
      },
      "text/plain": [
       "Finding best initial lr:   0%|          | 0/100 [00:00<?, ?it/s]"
      ]
     },
     "metadata": {},
     "output_type": "display_data"
    },
    {
     "data": {
      "text/html": [
       "<pre style=\"white-space:pre;overflow-x:auto;line-height:normal;font-family:Menlo,'DejaVu Sans Mono',consolas,'Courier New',monospace\"><span style=\"color: #008080; text-decoration-color: #008080; font-weight: bold\">2025</span>-<span style=\"color: #008080; text-decoration-color: #008080; font-weight: bold\">02</span>-<span style=\"color: #008080; text-decoration-color: #008080; font-weight: bold\">26</span> <span style=\"color: #00ff00; text-decoration-color: #00ff00; font-weight: bold\">09:50:32</span>,<span style=\"color: #008080; text-decoration-color: #008080; font-weight: bold\">335</span> - <span style=\"font-weight: bold\">{</span>pytorch_tabular.tabular_model_tuner:<span style=\"color: #008080; text-decoration-color: #008080; font-weight: bold\">412</span><span style=\"font-weight: bold\">}</span> - INFO - Trial <span style=\"color: #008080; text-decoration-color: #008080; font-weight: bold\">5</span>/<span style=\"color: #008080; text-decoration-color: #008080; font-weight: bold\">27</span>: <span style=\"font-weight: bold\">{</span><span style=\"color: #008000; text-decoration-color: #008000\">'model'</span>:                 \n",
       "<span style=\"color: #008000; text-decoration-color: #008000\">'0-FTTransformerConfig'</span>, <span style=\"color: #008000; text-decoration-color: #008000\">'model_config__input_embed_dim'</span>: <span style=\"color: #008080; text-decoration-color: #008080; font-weight: bold\">16</span>, <span style=\"color: #008000; text-decoration-color: #008000\">'model_config__num_heads'</span>: <span style=\"color: #008080; text-decoration-color: #008080; font-weight: bold\">8</span>,                        \n",
       "<span style=\"color: #008000; text-decoration-color: #008000\">'model_config__transformer_activation'</span>: <span style=\"color: #008000; text-decoration-color: #008000\">'ReLU'</span>, <span style=\"color: #008000; text-decoration-color: #008000\">'loss_0'</span>: <span style=\"color: #008080; text-decoration-color: #008080; font-weight: bold\">0.538459837436676</span>, <span style=\"color: #008000; text-decoration-color: #008000\">'loss'</span>: <span style=\"color: #008080; text-decoration-color: #008080; font-weight: bold\">0.538459837436676</span>, <span style=\"color: #008000; text-decoration-color: #008000\">'accuracy'</span>:\n",
       "<span style=\"color: #008080; text-decoration-color: #008080; font-weight: bold\">0.7916666865348816</span>, <span style=\"color: #008000; text-decoration-color: #008000\">'trial_id'</span>: <span style=\"color: #008080; text-decoration-color: #008080; font-weight: bold\">4</span><span style=\"font-weight: bold\">}</span> | Score: <span style=\"color: #008080; text-decoration-color: #008080; font-weight: bold\">0.7916666865348816</span>                                                     \n",
       "</pre>\n"
      ],
      "text/plain": [
       "\u001b[1;36m2025\u001b[0m-\u001b[1;36m02\u001b[0m-\u001b[1;36m26\u001b[0m \u001b[1;92m09:50:32\u001b[0m,\u001b[1;36m335\u001b[0m - \u001b[1m{\u001b[0mpytorch_tabular.tabular_model_tuner:\u001b[1;36m412\u001b[0m\u001b[1m}\u001b[0m - INFO - Trial \u001b[1;36m5\u001b[0m/\u001b[1;36m27\u001b[0m: \u001b[1m{\u001b[0m\u001b[32m'model'\u001b[0m:                 \n",
       "\u001b[32m'0-FTTransformerConfig'\u001b[0m, \u001b[32m'model_config__input_embed_dim'\u001b[0m: \u001b[1;36m16\u001b[0m, \u001b[32m'model_config__num_heads'\u001b[0m: \u001b[1;36m8\u001b[0m,                        \n",
       "\u001b[32m'model_config__transformer_activation'\u001b[0m: \u001b[32m'ReLU'\u001b[0m, \u001b[32m'loss_0'\u001b[0m: \u001b[1;36m0.538459837436676\u001b[0m, \u001b[32m'loss'\u001b[0m: \u001b[1;36m0.538459837436676\u001b[0m, \u001b[32m'accuracy'\u001b[0m:\n",
       "\u001b[1;36m0.7916666865348816\u001b[0m, \u001b[32m'trial_id'\u001b[0m: \u001b[1;36m4\u001b[0m\u001b[1m}\u001b[0m | Score: \u001b[1;36m0.7916666865348816\u001b[0m                                                     \n"
      ]
     },
     "metadata": {},
     "output_type": "display_data"
    },
    {
     "data": {
      "application/vnd.jupyter.widget-view+json": {
       "model_id": "5244de1730ed4a439e3dcb21cb4465fb",
       "version_major": 2,
       "version_minor": 0
      },
      "text/plain": [
       "Finding best initial lr:   0%|          | 0/100 [00:00<?, ?it/s]"
      ]
     },
     "metadata": {},
     "output_type": "display_data"
    },
    {
     "data": {
      "text/html": [
       "<pre style=\"white-space:pre;overflow-x:auto;line-height:normal;font-family:Menlo,'DejaVu Sans Mono',consolas,'Courier New',monospace\"><span style=\"color: #008080; text-decoration-color: #008080; font-weight: bold\">2025</span>-<span style=\"color: #008080; text-decoration-color: #008080; font-weight: bold\">02</span>-<span style=\"color: #008080; text-decoration-color: #008080; font-weight: bold\">26</span> <span style=\"color: #00ff00; text-decoration-color: #00ff00; font-weight: bold\">09:51:08</span>,<span style=\"color: #008080; text-decoration-color: #008080; font-weight: bold\">566</span> - <span style=\"font-weight: bold\">{</span>pytorch_tabular.tabular_model_tuner:<span style=\"color: #008080; text-decoration-color: #008080; font-weight: bold\">412</span><span style=\"font-weight: bold\">}</span> - INFO - Trial <span style=\"color: #008080; text-decoration-color: #008080; font-weight: bold\">6</span>/<span style=\"color: #008080; text-decoration-color: #008080; font-weight: bold\">27</span>: <span style=\"font-weight: bold\">{</span><span style=\"color: #008000; text-decoration-color: #008000\">'model'</span>:                 \n",
       "<span style=\"color: #008000; text-decoration-color: #008000\">'0-FTTransformerConfig'</span>, <span style=\"color: #008000; text-decoration-color: #008000\">'model_config__input_embed_dim'</span>: <span style=\"color: #008080; text-decoration-color: #008080; font-weight: bold\">16</span>, <span style=\"color: #008000; text-decoration-color: #008000\">'model_config__num_heads'</span>: <span style=\"color: #008080; text-decoration-color: #008080; font-weight: bold\">8</span>,                        \n",
       "<span style=\"color: #008000; text-decoration-color: #008000\">'model_config__transformer_activation'</span>: <span style=\"color: #008000; text-decoration-color: #008000\">'LeakyReLU'</span>, <span style=\"color: #008000; text-decoration-color: #008000\">'loss_0'</span>: <span style=\"color: #008080; text-decoration-color: #008080; font-weight: bold\">0.5335812568664551</span>, <span style=\"color: #008000; text-decoration-color: #008000\">'loss'</span>: <span style=\"color: #008080; text-decoration-color: #008080; font-weight: bold\">0.5335812568664551</span>,     \n",
       "<span style=\"color: #008000; text-decoration-color: #008000\">'accuracy'</span>: <span style=\"color: #008080; text-decoration-color: #008080; font-weight: bold\">0.7716666460037231</span>, <span style=\"color: #008000; text-decoration-color: #008000\">'trial_id'</span>: <span style=\"color: #008080; text-decoration-color: #008080; font-weight: bold\">5</span><span style=\"font-weight: bold\">}</span> | Score: <span style=\"color: #008080; text-decoration-color: #008080; font-weight: bold\">0.7716666460037231</span>                                         \n",
       "</pre>\n"
      ],
      "text/plain": [
       "\u001b[1;36m2025\u001b[0m-\u001b[1;36m02\u001b[0m-\u001b[1;36m26\u001b[0m \u001b[1;92m09:51:08\u001b[0m,\u001b[1;36m566\u001b[0m - \u001b[1m{\u001b[0mpytorch_tabular.tabular_model_tuner:\u001b[1;36m412\u001b[0m\u001b[1m}\u001b[0m - INFO - Trial \u001b[1;36m6\u001b[0m/\u001b[1;36m27\u001b[0m: \u001b[1m{\u001b[0m\u001b[32m'model'\u001b[0m:                 \n",
       "\u001b[32m'0-FTTransformerConfig'\u001b[0m, \u001b[32m'model_config__input_embed_dim'\u001b[0m: \u001b[1;36m16\u001b[0m, \u001b[32m'model_config__num_heads'\u001b[0m: \u001b[1;36m8\u001b[0m,                        \n",
       "\u001b[32m'model_config__transformer_activation'\u001b[0m: \u001b[32m'LeakyReLU'\u001b[0m, \u001b[32m'loss_0'\u001b[0m: \u001b[1;36m0.5335812568664551\u001b[0m, \u001b[32m'loss'\u001b[0m: \u001b[1;36m0.5335812568664551\u001b[0m,     \n",
       "\u001b[32m'accuracy'\u001b[0m: \u001b[1;36m0.7716666460037231\u001b[0m, \u001b[32m'trial_id'\u001b[0m: \u001b[1;36m5\u001b[0m\u001b[1m}\u001b[0m | Score: \u001b[1;36m0.7716666460037231\u001b[0m                                         \n"
      ]
     },
     "metadata": {},
     "output_type": "display_data"
    },
    {
     "data": {
      "application/vnd.jupyter.widget-view+json": {
       "model_id": "ce249c1f1bf54c7fabb4f656a104a981",
       "version_major": 2,
       "version_minor": 0
      },
      "text/plain": [
       "Finding best initial lr:   0%|          | 0/100 [00:00<?, ?it/s]"
      ]
     },
     "metadata": {},
     "output_type": "display_data"
    },
    {
     "data": {
      "text/html": [
       "<pre style=\"white-space:pre;overflow-x:auto;line-height:normal;font-family:Menlo,'DejaVu Sans Mono',consolas,'Courier New',monospace\"><span style=\"color: #008080; text-decoration-color: #008080; font-weight: bold\">2025</span>-<span style=\"color: #008080; text-decoration-color: #008080; font-weight: bold\">02</span>-<span style=\"color: #008080; text-decoration-color: #008080; font-weight: bold\">26</span> <span style=\"color: #00ff00; text-decoration-color: #00ff00; font-weight: bold\">09:51:32</span>,<span style=\"color: #008080; text-decoration-color: #008080; font-weight: bold\">912</span> - <span style=\"font-weight: bold\">{</span>pytorch_tabular.tabular_model_tuner:<span style=\"color: #008080; text-decoration-color: #008080; font-weight: bold\">412</span><span style=\"font-weight: bold\">}</span> - INFO - Trial <span style=\"color: #008080; text-decoration-color: #008080; font-weight: bold\">7</span>/<span style=\"color: #008080; text-decoration-color: #008080; font-weight: bold\">27</span>: <span style=\"font-weight: bold\">{</span><span style=\"color: #008000; text-decoration-color: #008000\">'model'</span>:                 \n",
       "<span style=\"color: #008000; text-decoration-color: #008000\">'0-FTTransformerConfig'</span>, <span style=\"color: #008000; text-decoration-color: #008000\">'model_config__input_embed_dim'</span>: <span style=\"color: #008080; text-decoration-color: #008080; font-weight: bold\">16</span>, <span style=\"color: #008000; text-decoration-color: #008000\">'model_config__num_heads'</span>: <span style=\"color: #008080; text-decoration-color: #008080; font-weight: bold\">16</span>,                       \n",
       "<span style=\"color: #008000; text-decoration-color: #008000\">'model_config__transformer_activation'</span>: <span style=\"color: #008000; text-decoration-color: #008000\">'GEGLU'</span>, <span style=\"color: #008000; text-decoration-color: #008000\">'loss_0'</span>: <span style=\"color: #008080; text-decoration-color: #008080; font-weight: bold\">0.7013547420501709</span>, <span style=\"color: #008000; text-decoration-color: #008000\">'loss'</span>: <span style=\"color: #008080; text-decoration-color: #008080; font-weight: bold\">0.7013547420501709</span>,         \n",
       "<span style=\"color: #008000; text-decoration-color: #008000\">'accuracy'</span>: <span style=\"color: #008080; text-decoration-color: #008080; font-weight: bold\">0.7483333349227905</span>, <span style=\"color: #008000; text-decoration-color: #008000\">'trial_id'</span>: <span style=\"color: #008080; text-decoration-color: #008080; font-weight: bold\">6</span><span style=\"font-weight: bold\">}</span> | Score: <span style=\"color: #008080; text-decoration-color: #008080; font-weight: bold\">0.7483333349227905</span>                                         \n",
       "</pre>\n"
      ],
      "text/plain": [
       "\u001b[1;36m2025\u001b[0m-\u001b[1;36m02\u001b[0m-\u001b[1;36m26\u001b[0m \u001b[1;92m09:51:32\u001b[0m,\u001b[1;36m912\u001b[0m - \u001b[1m{\u001b[0mpytorch_tabular.tabular_model_tuner:\u001b[1;36m412\u001b[0m\u001b[1m}\u001b[0m - INFO - Trial \u001b[1;36m7\u001b[0m/\u001b[1;36m27\u001b[0m: \u001b[1m{\u001b[0m\u001b[32m'model'\u001b[0m:                 \n",
       "\u001b[32m'0-FTTransformerConfig'\u001b[0m, \u001b[32m'model_config__input_embed_dim'\u001b[0m: \u001b[1;36m16\u001b[0m, \u001b[32m'model_config__num_heads'\u001b[0m: \u001b[1;36m16\u001b[0m,                       \n",
       "\u001b[32m'model_config__transformer_activation'\u001b[0m: \u001b[32m'GEGLU'\u001b[0m, \u001b[32m'loss_0'\u001b[0m: \u001b[1;36m0.7013547420501709\u001b[0m, \u001b[32m'loss'\u001b[0m: \u001b[1;36m0.7013547420501709\u001b[0m,         \n",
       "\u001b[32m'accuracy'\u001b[0m: \u001b[1;36m0.7483333349227905\u001b[0m, \u001b[32m'trial_id'\u001b[0m: \u001b[1;36m6\u001b[0m\u001b[1m}\u001b[0m | Score: \u001b[1;36m0.7483333349227905\u001b[0m                                         \n"
      ]
     },
     "metadata": {},
     "output_type": "display_data"
    },
    {
     "data": {
      "application/vnd.jupyter.widget-view+json": {
       "model_id": "2695a668b9344ee8bed3fc9fe25c342d",
       "version_major": 2,
       "version_minor": 0
      },
      "text/plain": [
       "Finding best initial lr:   0%|          | 0/100 [00:00<?, ?it/s]"
      ]
     },
     "metadata": {},
     "output_type": "display_data"
    },
    {
     "data": {
      "text/html": [
       "<pre style=\"white-space:pre;overflow-x:auto;line-height:normal;font-family:Menlo,'DejaVu Sans Mono',consolas,'Courier New',monospace\"><span style=\"color: #008080; text-decoration-color: #008080; font-weight: bold\">2025</span>-<span style=\"color: #008080; text-decoration-color: #008080; font-weight: bold\">02</span>-<span style=\"color: #008080; text-decoration-color: #008080; font-weight: bold\">26</span> <span style=\"color: #00ff00; text-decoration-color: #00ff00; font-weight: bold\">09:52:08</span>,<span style=\"color: #008080; text-decoration-color: #008080; font-weight: bold\">513</span> - <span style=\"font-weight: bold\">{</span>pytorch_tabular.tabular_model_tuner:<span style=\"color: #008080; text-decoration-color: #008080; font-weight: bold\">412</span><span style=\"font-weight: bold\">}</span> - INFO - Trial <span style=\"color: #008080; text-decoration-color: #008080; font-weight: bold\">8</span>/<span style=\"color: #008080; text-decoration-color: #008080; font-weight: bold\">27</span>: <span style=\"font-weight: bold\">{</span><span style=\"color: #008000; text-decoration-color: #008000\">'model'</span>:                 \n",
       "<span style=\"color: #008000; text-decoration-color: #008000\">'0-FTTransformerConfig'</span>, <span style=\"color: #008000; text-decoration-color: #008000\">'model_config__input_embed_dim'</span>: <span style=\"color: #008080; text-decoration-color: #008080; font-weight: bold\">16</span>, <span style=\"color: #008000; text-decoration-color: #008000\">'model_config__num_heads'</span>: <span style=\"color: #008080; text-decoration-color: #008080; font-weight: bold\">16</span>,                       \n",
       "<span style=\"color: #008000; text-decoration-color: #008000\">'model_config__transformer_activation'</span>: <span style=\"color: #008000; text-decoration-color: #008000\">'ReLU'</span>, <span style=\"color: #008000; text-decoration-color: #008000\">'loss_0'</span>: <span style=\"color: #008080; text-decoration-color: #008080; font-weight: bold\">0.5710221529006958</span>, <span style=\"color: #008000; text-decoration-color: #008000\">'loss'</span>: <span style=\"color: #008080; text-decoration-color: #008080; font-weight: bold\">0.5710221529006958</span>,          \n",
       "<span style=\"color: #008000; text-decoration-color: #008000\">'accuracy'</span>: <span style=\"color: #008080; text-decoration-color: #008080; font-weight: bold\">0.800000011920929</span>, <span style=\"color: #008000; text-decoration-color: #008000\">'trial_id'</span>: <span style=\"color: #008080; text-decoration-color: #008080; font-weight: bold\">7</span><span style=\"font-weight: bold\">}</span> | Score: <span style=\"color: #008080; text-decoration-color: #008080; font-weight: bold\">0.800000011920929</span>                                           \n",
       "</pre>\n"
      ],
      "text/plain": [
       "\u001b[1;36m2025\u001b[0m-\u001b[1;36m02\u001b[0m-\u001b[1;36m26\u001b[0m \u001b[1;92m09:52:08\u001b[0m,\u001b[1;36m513\u001b[0m - \u001b[1m{\u001b[0mpytorch_tabular.tabular_model_tuner:\u001b[1;36m412\u001b[0m\u001b[1m}\u001b[0m - INFO - Trial \u001b[1;36m8\u001b[0m/\u001b[1;36m27\u001b[0m: \u001b[1m{\u001b[0m\u001b[32m'model'\u001b[0m:                 \n",
       "\u001b[32m'0-FTTransformerConfig'\u001b[0m, \u001b[32m'model_config__input_embed_dim'\u001b[0m: \u001b[1;36m16\u001b[0m, \u001b[32m'model_config__num_heads'\u001b[0m: \u001b[1;36m16\u001b[0m,                       \n",
       "\u001b[32m'model_config__transformer_activation'\u001b[0m: \u001b[32m'ReLU'\u001b[0m, \u001b[32m'loss_0'\u001b[0m: \u001b[1;36m0.5710221529006958\u001b[0m, \u001b[32m'loss'\u001b[0m: \u001b[1;36m0.5710221529006958\u001b[0m,          \n",
       "\u001b[32m'accuracy'\u001b[0m: \u001b[1;36m0.800000011920929\u001b[0m, \u001b[32m'trial_id'\u001b[0m: \u001b[1;36m7\u001b[0m\u001b[1m}\u001b[0m | Score: \u001b[1;36m0.800000011920929\u001b[0m                                           \n"
      ]
     },
     "metadata": {},
     "output_type": "display_data"
    },
    {
     "data": {
      "application/vnd.jupyter.widget-view+json": {
       "model_id": "d2a4644088294f83ba398503a76196b0",
       "version_major": 2,
       "version_minor": 0
      },
      "text/plain": [
       "Finding best initial lr:   0%|          | 0/100 [00:00<?, ?it/s]"
      ]
     },
     "metadata": {},
     "output_type": "display_data"
    },
    {
     "data": {
      "text/html": [
       "<pre style=\"white-space:pre;overflow-x:auto;line-height:normal;font-family:Menlo,'DejaVu Sans Mono',consolas,'Courier New',monospace\"><span style=\"color: #008080; text-decoration-color: #008080; font-weight: bold\">2025</span>-<span style=\"color: #008080; text-decoration-color: #008080; font-weight: bold\">02</span>-<span style=\"color: #008080; text-decoration-color: #008080; font-weight: bold\">26</span> <span style=\"color: #00ff00; text-decoration-color: #00ff00; font-weight: bold\">09:52:46</span>,<span style=\"color: #008080; text-decoration-color: #008080; font-weight: bold\">948</span> - <span style=\"font-weight: bold\">{</span>pytorch_tabular.tabular_model_tuner:<span style=\"color: #008080; text-decoration-color: #008080; font-weight: bold\">412</span><span style=\"font-weight: bold\">}</span> - INFO - Trial <span style=\"color: #008080; text-decoration-color: #008080; font-weight: bold\">9</span>/<span style=\"color: #008080; text-decoration-color: #008080; font-weight: bold\">27</span>: <span style=\"font-weight: bold\">{</span><span style=\"color: #008000; text-decoration-color: #008000\">'model'</span>:                 \n",
       "<span style=\"color: #008000; text-decoration-color: #008000\">'0-FTTransformerConfig'</span>, <span style=\"color: #008000; text-decoration-color: #008000\">'model_config__input_embed_dim'</span>: <span style=\"color: #008080; text-decoration-color: #008080; font-weight: bold\">16</span>, <span style=\"color: #008000; text-decoration-color: #008000\">'model_config__num_heads'</span>: <span style=\"color: #008080; text-decoration-color: #008080; font-weight: bold\">16</span>,                       \n",
       "<span style=\"color: #008000; text-decoration-color: #008000\">'model_config__transformer_activation'</span>: <span style=\"color: #008000; text-decoration-color: #008000\">'LeakyReLU'</span>, <span style=\"color: #008000; text-decoration-color: #008000\">'loss_0'</span>: <span style=\"color: #008080; text-decoration-color: #008080; font-weight: bold\">0.5741908550262451</span>, <span style=\"color: #008000; text-decoration-color: #008000\">'loss'</span>: <span style=\"color: #008080; text-decoration-color: #008080; font-weight: bold\">0.5741908550262451</span>,     \n",
       "<span style=\"color: #008000; text-decoration-color: #008000\">'accuracy'</span>: <span style=\"color: #008080; text-decoration-color: #008080; font-weight: bold\">0.7766666412353516</span>, <span style=\"color: #008000; text-decoration-color: #008000\">'trial_id'</span>: <span style=\"color: #008080; text-decoration-color: #008080; font-weight: bold\">8</span><span style=\"font-weight: bold\">}</span> | Score: <span style=\"color: #008080; text-decoration-color: #008080; font-weight: bold\">0.7766666412353516</span>                                         \n",
       "</pre>\n"
      ],
      "text/plain": [
       "\u001b[1;36m2025\u001b[0m-\u001b[1;36m02\u001b[0m-\u001b[1;36m26\u001b[0m \u001b[1;92m09:52:46\u001b[0m,\u001b[1;36m948\u001b[0m - \u001b[1m{\u001b[0mpytorch_tabular.tabular_model_tuner:\u001b[1;36m412\u001b[0m\u001b[1m}\u001b[0m - INFO - Trial \u001b[1;36m9\u001b[0m/\u001b[1;36m27\u001b[0m: \u001b[1m{\u001b[0m\u001b[32m'model'\u001b[0m:                 \n",
       "\u001b[32m'0-FTTransformerConfig'\u001b[0m, \u001b[32m'model_config__input_embed_dim'\u001b[0m: \u001b[1;36m16\u001b[0m, \u001b[32m'model_config__num_heads'\u001b[0m: \u001b[1;36m16\u001b[0m,                       \n",
       "\u001b[32m'model_config__transformer_activation'\u001b[0m: \u001b[32m'LeakyReLU'\u001b[0m, \u001b[32m'loss_0'\u001b[0m: \u001b[1;36m0.5741908550262451\u001b[0m, \u001b[32m'loss'\u001b[0m: \u001b[1;36m0.5741908550262451\u001b[0m,     \n",
       "\u001b[32m'accuracy'\u001b[0m: \u001b[1;36m0.7766666412353516\u001b[0m, \u001b[32m'trial_id'\u001b[0m: \u001b[1;36m8\u001b[0m\u001b[1m}\u001b[0m | Score: \u001b[1;36m0.7766666412353516\u001b[0m                                         \n"
      ]
     },
     "metadata": {},
     "output_type": "display_data"
    },
    {
     "data": {
      "application/vnd.jupyter.widget-view+json": {
       "model_id": "8ca81b6b19b84c85a7a155d85cc54bdb",
       "version_major": 2,
       "version_minor": 0
      },
      "text/plain": [
       "Finding best initial lr:   0%|          | 0/100 [00:00<?, ?it/s]"
      ]
     },
     "metadata": {},
     "output_type": "display_data"
    },
    {
     "data": {
      "text/html": [
       "<pre style=\"white-space:pre;overflow-x:auto;line-height:normal;font-family:Menlo,'DejaVu Sans Mono',consolas,'Courier New',monospace\"><span style=\"color: #008080; text-decoration-color: #008080; font-weight: bold\">2025</span>-<span style=\"color: #008080; text-decoration-color: #008080; font-weight: bold\">02</span>-<span style=\"color: #008080; text-decoration-color: #008080; font-weight: bold\">26</span> <span style=\"color: #00ff00; text-decoration-color: #00ff00; font-weight: bold\">09:53:11</span>,<span style=\"color: #008080; text-decoration-color: #008080; font-weight: bold\">409</span> - <span style=\"font-weight: bold\">{</span>pytorch_tabular.tabular_model_tuner:<span style=\"color: #008080; text-decoration-color: #008080; font-weight: bold\">412</span><span style=\"font-weight: bold\">}</span> - INFO - Trial <span style=\"color: #008080; text-decoration-color: #008080; font-weight: bold\">10</span>/<span style=\"color: #008080; text-decoration-color: #008080; font-weight: bold\">27</span>: <span style=\"font-weight: bold\">{</span><span style=\"color: #008000; text-decoration-color: #008000\">'model'</span>:                \n",
       "<span style=\"color: #008000; text-decoration-color: #008000\">'0-FTTransformerConfig'</span>, <span style=\"color: #008000; text-decoration-color: #008000\">'model_config__input_embed_dim'</span>: <span style=\"color: #008080; text-decoration-color: #008080; font-weight: bold\">32</span>, <span style=\"color: #008000; text-decoration-color: #008000\">'model_config__num_heads'</span>: <span style=\"color: #008080; text-decoration-color: #008080; font-weight: bold\">4</span>,                        \n",
       "<span style=\"color: #008000; text-decoration-color: #008000\">'model_config__transformer_activation'</span>: <span style=\"color: #008000; text-decoration-color: #008000\">'GEGLU'</span>, <span style=\"color: #008000; text-decoration-color: #008000\">'loss_0'</span>: <span style=\"color: #008080; text-decoration-color: #008080; font-weight: bold\">0.6132776141166687</span>, <span style=\"color: #008000; text-decoration-color: #008000\">'loss'</span>: <span style=\"color: #008080; text-decoration-color: #008080; font-weight: bold\">0.6132776141166687</span>,         \n",
       "<span style=\"color: #008000; text-decoration-color: #008000\">'accuracy'</span>: <span style=\"color: #008080; text-decoration-color: #008080; font-weight: bold\">0.7666666507720947</span>, <span style=\"color: #008000; text-decoration-color: #008000\">'trial_id'</span>: <span style=\"color: #008080; text-decoration-color: #008080; font-weight: bold\">9</span><span style=\"font-weight: bold\">}</span> | Score: <span style=\"color: #008080; text-decoration-color: #008080; font-weight: bold\">0.7666666507720947</span>                                         \n",
       "</pre>\n"
      ],
      "text/plain": [
       "\u001b[1;36m2025\u001b[0m-\u001b[1;36m02\u001b[0m-\u001b[1;36m26\u001b[0m \u001b[1;92m09:53:11\u001b[0m,\u001b[1;36m409\u001b[0m - \u001b[1m{\u001b[0mpytorch_tabular.tabular_model_tuner:\u001b[1;36m412\u001b[0m\u001b[1m}\u001b[0m - INFO - Trial \u001b[1;36m10\u001b[0m/\u001b[1;36m27\u001b[0m: \u001b[1m{\u001b[0m\u001b[32m'model'\u001b[0m:                \n",
       "\u001b[32m'0-FTTransformerConfig'\u001b[0m, \u001b[32m'model_config__input_embed_dim'\u001b[0m: \u001b[1;36m32\u001b[0m, \u001b[32m'model_config__num_heads'\u001b[0m: \u001b[1;36m4\u001b[0m,                        \n",
       "\u001b[32m'model_config__transformer_activation'\u001b[0m: \u001b[32m'GEGLU'\u001b[0m, \u001b[32m'loss_0'\u001b[0m: \u001b[1;36m0.6132776141166687\u001b[0m, \u001b[32m'loss'\u001b[0m: \u001b[1;36m0.6132776141166687\u001b[0m,         \n",
       "\u001b[32m'accuracy'\u001b[0m: \u001b[1;36m0.7666666507720947\u001b[0m, \u001b[32m'trial_id'\u001b[0m: \u001b[1;36m9\u001b[0m\u001b[1m}\u001b[0m | Score: \u001b[1;36m0.7666666507720947\u001b[0m                                         \n"
      ]
     },
     "metadata": {},
     "output_type": "display_data"
    },
    {
     "data": {
      "application/vnd.jupyter.widget-view+json": {
       "model_id": "0a207e8761db4077ac6cf455a5c0b892",
       "version_major": 2,
       "version_minor": 0
      },
      "text/plain": [
       "Finding best initial lr:   0%|          | 0/100 [00:00<?, ?it/s]"
      ]
     },
     "metadata": {},
     "output_type": "display_data"
    },
    {
     "data": {
      "text/html": [
       "<pre style=\"white-space:pre;overflow-x:auto;line-height:normal;font-family:Menlo,'DejaVu Sans Mono',consolas,'Courier New',monospace\"><span style=\"color: #008080; text-decoration-color: #008080; font-weight: bold\">2025</span>-<span style=\"color: #008080; text-decoration-color: #008080; font-weight: bold\">02</span>-<span style=\"color: #008080; text-decoration-color: #008080; font-weight: bold\">26</span> <span style=\"color: #00ff00; text-decoration-color: #00ff00; font-weight: bold\">09:53:34</span>,<span style=\"color: #008080; text-decoration-color: #008080; font-weight: bold\">582</span> - <span style=\"font-weight: bold\">{</span>pytorch_tabular.tabular_model_tuner:<span style=\"color: #008080; text-decoration-color: #008080; font-weight: bold\">412</span><span style=\"font-weight: bold\">}</span> - INFO - Trial <span style=\"color: #008080; text-decoration-color: #008080; font-weight: bold\">11</span>/<span style=\"color: #008080; text-decoration-color: #008080; font-weight: bold\">27</span>: <span style=\"font-weight: bold\">{</span><span style=\"color: #008000; text-decoration-color: #008000\">'model'</span>:                \n",
       "<span style=\"color: #008000; text-decoration-color: #008000\">'0-FTTransformerConfig'</span>, <span style=\"color: #008000; text-decoration-color: #008000\">'model_config__input_embed_dim'</span>: <span style=\"color: #008080; text-decoration-color: #008080; font-weight: bold\">32</span>, <span style=\"color: #008000; text-decoration-color: #008000\">'model_config__num_heads'</span>: <span style=\"color: #008080; text-decoration-color: #008080; font-weight: bold\">4</span>,                        \n",
       "<span style=\"color: #008000; text-decoration-color: #008000\">'model_config__transformer_activation'</span>: <span style=\"color: #008000; text-decoration-color: #008000\">'ReLU'</span>, <span style=\"color: #008000; text-decoration-color: #008000\">'loss_0'</span>: <span style=\"color: #008080; text-decoration-color: #008080; font-weight: bold\">0.6222407817840576</span>, <span style=\"color: #008000; text-decoration-color: #008000\">'loss'</span>: <span style=\"color: #008080; text-decoration-color: #008080; font-weight: bold\">0.6222407817840576</span>,          \n",
       "<span style=\"color: #008000; text-decoration-color: #008000\">'accuracy'</span>: <span style=\"color: #008080; text-decoration-color: #008080; font-weight: bold\">0.7649999856948853</span>, <span style=\"color: #008000; text-decoration-color: #008000\">'trial_id'</span>: <span style=\"color: #008080; text-decoration-color: #008080; font-weight: bold\">10</span><span style=\"font-weight: bold\">}</span> | Score: <span style=\"color: #008080; text-decoration-color: #008080; font-weight: bold\">0.7649999856948853</span>                                        \n",
       "</pre>\n"
      ],
      "text/plain": [
       "\u001b[1;36m2025\u001b[0m-\u001b[1;36m02\u001b[0m-\u001b[1;36m26\u001b[0m \u001b[1;92m09:53:34\u001b[0m,\u001b[1;36m582\u001b[0m - \u001b[1m{\u001b[0mpytorch_tabular.tabular_model_tuner:\u001b[1;36m412\u001b[0m\u001b[1m}\u001b[0m - INFO - Trial \u001b[1;36m11\u001b[0m/\u001b[1;36m27\u001b[0m: \u001b[1m{\u001b[0m\u001b[32m'model'\u001b[0m:                \n",
       "\u001b[32m'0-FTTransformerConfig'\u001b[0m, \u001b[32m'model_config__input_embed_dim'\u001b[0m: \u001b[1;36m32\u001b[0m, \u001b[32m'model_config__num_heads'\u001b[0m: \u001b[1;36m4\u001b[0m,                        \n",
       "\u001b[32m'model_config__transformer_activation'\u001b[0m: \u001b[32m'ReLU'\u001b[0m, \u001b[32m'loss_0'\u001b[0m: \u001b[1;36m0.6222407817840576\u001b[0m, \u001b[32m'loss'\u001b[0m: \u001b[1;36m0.6222407817840576\u001b[0m,          \n",
       "\u001b[32m'accuracy'\u001b[0m: \u001b[1;36m0.7649999856948853\u001b[0m, \u001b[32m'trial_id'\u001b[0m: \u001b[1;36m10\u001b[0m\u001b[1m}\u001b[0m | Score: \u001b[1;36m0.7649999856948853\u001b[0m                                        \n"
      ]
     },
     "metadata": {},
     "output_type": "display_data"
    },
    {
     "data": {
      "application/vnd.jupyter.widget-view+json": {
       "model_id": "a2faa794e2554b6ab10769b80e3bc82e",
       "version_major": 2,
       "version_minor": 0
      },
      "text/plain": [
       "Finding best initial lr:   0%|          | 0/100 [00:00<?, ?it/s]"
      ]
     },
     "metadata": {},
     "output_type": "display_data"
    },
    {
     "data": {
      "text/html": [
       "<pre style=\"white-space:pre;overflow-x:auto;line-height:normal;font-family:Menlo,'DejaVu Sans Mono',consolas,'Courier New',monospace\"><span style=\"color: #008080; text-decoration-color: #008080; font-weight: bold\">2025</span>-<span style=\"color: #008080; text-decoration-color: #008080; font-weight: bold\">02</span>-<span style=\"color: #008080; text-decoration-color: #008080; font-weight: bold\">26</span> <span style=\"color: #00ff00; text-decoration-color: #00ff00; font-weight: bold\">09:53:58</span>,<span style=\"color: #008080; text-decoration-color: #008080; font-weight: bold\">394</span> - <span style=\"font-weight: bold\">{</span>pytorch_tabular.tabular_model_tuner:<span style=\"color: #008080; text-decoration-color: #008080; font-weight: bold\">412</span><span style=\"font-weight: bold\">}</span> - INFO - Trial <span style=\"color: #008080; text-decoration-color: #008080; font-weight: bold\">12</span>/<span style=\"color: #008080; text-decoration-color: #008080; font-weight: bold\">27</span>: <span style=\"font-weight: bold\">{</span><span style=\"color: #008000; text-decoration-color: #008000\">'model'</span>:                \n",
       "<span style=\"color: #008000; text-decoration-color: #008000\">'0-FTTransformerConfig'</span>, <span style=\"color: #008000; text-decoration-color: #008000\">'model_config__input_embed_dim'</span>: <span style=\"color: #008080; text-decoration-color: #008080; font-weight: bold\">32</span>, <span style=\"color: #008000; text-decoration-color: #008000\">'model_config__num_heads'</span>: <span style=\"color: #008080; text-decoration-color: #008080; font-weight: bold\">4</span>,                        \n",
       "<span style=\"color: #008000; text-decoration-color: #008000\">'model_config__transformer_activation'</span>: <span style=\"color: #008000; text-decoration-color: #008000\">'LeakyReLU'</span>, <span style=\"color: #008000; text-decoration-color: #008000\">'loss_0'</span>: <span style=\"color: #008080; text-decoration-color: #008080; font-weight: bold\">1.6137073040008545</span>, <span style=\"color: #008000; text-decoration-color: #008000\">'loss'</span>: <span style=\"color: #008080; text-decoration-color: #008080; font-weight: bold\">1.6137073040008545</span>,     \n",
       "<span style=\"color: #008000; text-decoration-color: #008000\">'accuracy'</span>: <span style=\"color: #008080; text-decoration-color: #008080; font-weight: bold\">0.21166667342185974</span>, <span style=\"color: #008000; text-decoration-color: #008000\">'trial_id'</span>: <span style=\"color: #008080; text-decoration-color: #008080; font-weight: bold\">11</span><span style=\"font-weight: bold\">}</span> | Score: <span style=\"color: #008080; text-decoration-color: #008080; font-weight: bold\">0.21166667342185974</span>                                      \n",
       "</pre>\n"
      ],
      "text/plain": [
       "\u001b[1;36m2025\u001b[0m-\u001b[1;36m02\u001b[0m-\u001b[1;36m26\u001b[0m \u001b[1;92m09:53:58\u001b[0m,\u001b[1;36m394\u001b[0m - \u001b[1m{\u001b[0mpytorch_tabular.tabular_model_tuner:\u001b[1;36m412\u001b[0m\u001b[1m}\u001b[0m - INFO - Trial \u001b[1;36m12\u001b[0m/\u001b[1;36m27\u001b[0m: \u001b[1m{\u001b[0m\u001b[32m'model'\u001b[0m:                \n",
       "\u001b[32m'0-FTTransformerConfig'\u001b[0m, \u001b[32m'model_config__input_embed_dim'\u001b[0m: \u001b[1;36m32\u001b[0m, \u001b[32m'model_config__num_heads'\u001b[0m: \u001b[1;36m4\u001b[0m,                        \n",
       "\u001b[32m'model_config__transformer_activation'\u001b[0m: \u001b[32m'LeakyReLU'\u001b[0m, \u001b[32m'loss_0'\u001b[0m: \u001b[1;36m1.6137073040008545\u001b[0m, \u001b[32m'loss'\u001b[0m: \u001b[1;36m1.6137073040008545\u001b[0m,     \n",
       "\u001b[32m'accuracy'\u001b[0m: \u001b[1;36m0.21166667342185974\u001b[0m, \u001b[32m'trial_id'\u001b[0m: \u001b[1;36m11\u001b[0m\u001b[1m}\u001b[0m | Score: \u001b[1;36m0.21166667342185974\u001b[0m                                      \n"
      ]
     },
     "metadata": {},
     "output_type": "display_data"
    },
    {
     "data": {
      "application/vnd.jupyter.widget-view+json": {
       "model_id": "007f077276074f12b67fddefb6b6853d",
       "version_major": 2,
       "version_minor": 0
      },
      "text/plain": [
       "Finding best initial lr:   0%|          | 0/100 [00:00<?, ?it/s]"
      ]
     },
     "metadata": {},
     "output_type": "display_data"
    },
    {
     "data": {
      "text/html": [
       "<pre style=\"white-space:pre;overflow-x:auto;line-height:normal;font-family:Menlo,'DejaVu Sans Mono',consolas,'Courier New',monospace\"><span style=\"color: #008080; text-decoration-color: #008080; font-weight: bold\">2025</span>-<span style=\"color: #008080; text-decoration-color: #008080; font-weight: bold\">02</span>-<span style=\"color: #008080; text-decoration-color: #008080; font-weight: bold\">26</span> <span style=\"color: #00ff00; text-decoration-color: #00ff00; font-weight: bold\">09:54:23</span>,<span style=\"color: #008080; text-decoration-color: #008080; font-weight: bold\">202</span> - <span style=\"font-weight: bold\">{</span>pytorch_tabular.tabular_model_tuner:<span style=\"color: #008080; text-decoration-color: #008080; font-weight: bold\">412</span><span style=\"font-weight: bold\">}</span> - INFO - Trial <span style=\"color: #008080; text-decoration-color: #008080; font-weight: bold\">13</span>/<span style=\"color: #008080; text-decoration-color: #008080; font-weight: bold\">27</span>: <span style=\"font-weight: bold\">{</span><span style=\"color: #008000; text-decoration-color: #008000\">'model'</span>:                \n",
       "<span style=\"color: #008000; text-decoration-color: #008000\">'0-FTTransformerConfig'</span>, <span style=\"color: #008000; text-decoration-color: #008000\">'model_config__input_embed_dim'</span>: <span style=\"color: #008080; text-decoration-color: #008080; font-weight: bold\">32</span>, <span style=\"color: #008000; text-decoration-color: #008000\">'model_config__num_heads'</span>: <span style=\"color: #008080; text-decoration-color: #008080; font-weight: bold\">8</span>,                        \n",
       "<span style=\"color: #008000; text-decoration-color: #008000\">'model_config__transformer_activation'</span>: <span style=\"color: #008000; text-decoration-color: #008000\">'GEGLU'</span>, <span style=\"color: #008000; text-decoration-color: #008000\">'loss_0'</span>: <span style=\"color: #008080; text-decoration-color: #008080; font-weight: bold\">0.5861130952835083</span>, <span style=\"color: #008000; text-decoration-color: #008000\">'loss'</span>: <span style=\"color: #008080; text-decoration-color: #008080; font-weight: bold\">0.5861130952835083</span>,         \n",
       "<span style=\"color: #008000; text-decoration-color: #008000\">'accuracy'</span>: <span style=\"color: #008080; text-decoration-color: #008080; font-weight: bold\">0.7749999761581421</span>, <span style=\"color: #008000; text-decoration-color: #008000\">'trial_id'</span>: <span style=\"color: #008080; text-decoration-color: #008080; font-weight: bold\">12</span><span style=\"font-weight: bold\">}</span> | Score: <span style=\"color: #008080; text-decoration-color: #008080; font-weight: bold\">0.7749999761581421</span>                                        \n",
       "</pre>\n"
      ],
      "text/plain": [
       "\u001b[1;36m2025\u001b[0m-\u001b[1;36m02\u001b[0m-\u001b[1;36m26\u001b[0m \u001b[1;92m09:54:23\u001b[0m,\u001b[1;36m202\u001b[0m - \u001b[1m{\u001b[0mpytorch_tabular.tabular_model_tuner:\u001b[1;36m412\u001b[0m\u001b[1m}\u001b[0m - INFO - Trial \u001b[1;36m13\u001b[0m/\u001b[1;36m27\u001b[0m: \u001b[1m{\u001b[0m\u001b[32m'model'\u001b[0m:                \n",
       "\u001b[32m'0-FTTransformerConfig'\u001b[0m, \u001b[32m'model_config__input_embed_dim'\u001b[0m: \u001b[1;36m32\u001b[0m, \u001b[32m'model_config__num_heads'\u001b[0m: \u001b[1;36m8\u001b[0m,                        \n",
       "\u001b[32m'model_config__transformer_activation'\u001b[0m: \u001b[32m'GEGLU'\u001b[0m, \u001b[32m'loss_0'\u001b[0m: \u001b[1;36m0.5861130952835083\u001b[0m, \u001b[32m'loss'\u001b[0m: \u001b[1;36m0.5861130952835083\u001b[0m,         \n",
       "\u001b[32m'accuracy'\u001b[0m: \u001b[1;36m0.7749999761581421\u001b[0m, \u001b[32m'trial_id'\u001b[0m: \u001b[1;36m12\u001b[0m\u001b[1m}\u001b[0m | Score: \u001b[1;36m0.7749999761581421\u001b[0m                                        \n"
      ]
     },
     "metadata": {},
     "output_type": "display_data"
    },
    {
     "data": {
      "application/vnd.jupyter.widget-view+json": {
       "model_id": "d1653451b15b4b51bee850022d6f53bc",
       "version_major": 2,
       "version_minor": 0
      },
      "text/plain": [
       "Finding best initial lr:   0%|          | 0/100 [00:00<?, ?it/s]"
      ]
     },
     "metadata": {},
     "output_type": "display_data"
    },
    {
     "data": {
      "text/html": [
       "<pre style=\"white-space:pre;overflow-x:auto;line-height:normal;font-family:Menlo,'DejaVu Sans Mono',consolas,'Courier New',monospace\"><span style=\"color: #008080; text-decoration-color: #008080; font-weight: bold\">2025</span>-<span style=\"color: #008080; text-decoration-color: #008080; font-weight: bold\">02</span>-<span style=\"color: #008080; text-decoration-color: #008080; font-weight: bold\">26</span> <span style=\"color: #00ff00; text-decoration-color: #00ff00; font-weight: bold\">09:54:46</span>,<span style=\"color: #008080; text-decoration-color: #008080; font-weight: bold\">486</span> - <span style=\"font-weight: bold\">{</span>pytorch_tabular.tabular_model_tuner:<span style=\"color: #008080; text-decoration-color: #008080; font-weight: bold\">412</span><span style=\"font-weight: bold\">}</span> - INFO - Trial <span style=\"color: #008080; text-decoration-color: #008080; font-weight: bold\">14</span>/<span style=\"color: #008080; text-decoration-color: #008080; font-weight: bold\">27</span>: <span style=\"font-weight: bold\">{</span><span style=\"color: #008000; text-decoration-color: #008000\">'model'</span>:                \n",
       "<span style=\"color: #008000; text-decoration-color: #008000\">'0-FTTransformerConfig'</span>, <span style=\"color: #008000; text-decoration-color: #008000\">'model_config__input_embed_dim'</span>: <span style=\"color: #008080; text-decoration-color: #008080; font-weight: bold\">32</span>, <span style=\"color: #008000; text-decoration-color: #008000\">'model_config__num_heads'</span>: <span style=\"color: #008080; text-decoration-color: #008080; font-weight: bold\">8</span>,                        \n",
       "<span style=\"color: #008000; text-decoration-color: #008000\">'model_config__transformer_activation'</span>: <span style=\"color: #008000; text-decoration-color: #008000\">'ReLU'</span>, <span style=\"color: #008000; text-decoration-color: #008000\">'loss_0'</span>: <span style=\"color: #008080; text-decoration-color: #008080; font-weight: bold\">0.6831270456314087</span>, <span style=\"color: #008000; text-decoration-color: #008000\">'loss'</span>: <span style=\"color: #008080; text-decoration-color: #008080; font-weight: bold\">0.6831270456314087</span>,          \n",
       "<span style=\"color: #008000; text-decoration-color: #008000\">'accuracy'</span>: <span style=\"color: #008080; text-decoration-color: #008080; font-weight: bold\">0.7566666603088379</span>, <span style=\"color: #008000; text-decoration-color: #008000\">'trial_id'</span>: <span style=\"color: #008080; text-decoration-color: #008080; font-weight: bold\">13</span><span style=\"font-weight: bold\">}</span> | Score: <span style=\"color: #008080; text-decoration-color: #008080; font-weight: bold\">0.7566666603088379</span>                                        \n",
       "</pre>\n"
      ],
      "text/plain": [
       "\u001b[1;36m2025\u001b[0m-\u001b[1;36m02\u001b[0m-\u001b[1;36m26\u001b[0m \u001b[1;92m09:54:46\u001b[0m,\u001b[1;36m486\u001b[0m - \u001b[1m{\u001b[0mpytorch_tabular.tabular_model_tuner:\u001b[1;36m412\u001b[0m\u001b[1m}\u001b[0m - INFO - Trial \u001b[1;36m14\u001b[0m/\u001b[1;36m27\u001b[0m: \u001b[1m{\u001b[0m\u001b[32m'model'\u001b[0m:                \n",
       "\u001b[32m'0-FTTransformerConfig'\u001b[0m, \u001b[32m'model_config__input_embed_dim'\u001b[0m: \u001b[1;36m32\u001b[0m, \u001b[32m'model_config__num_heads'\u001b[0m: \u001b[1;36m8\u001b[0m,                        \n",
       "\u001b[32m'model_config__transformer_activation'\u001b[0m: \u001b[32m'ReLU'\u001b[0m, \u001b[32m'loss_0'\u001b[0m: \u001b[1;36m0.6831270456314087\u001b[0m, \u001b[32m'loss'\u001b[0m: \u001b[1;36m0.6831270456314087\u001b[0m,          \n",
       "\u001b[32m'accuracy'\u001b[0m: \u001b[1;36m0.7566666603088379\u001b[0m, \u001b[32m'trial_id'\u001b[0m: \u001b[1;36m13\u001b[0m\u001b[1m}\u001b[0m | Score: \u001b[1;36m0.7566666603088379\u001b[0m                                        \n"
      ]
     },
     "metadata": {},
     "output_type": "display_data"
    },
    {
     "data": {
      "application/vnd.jupyter.widget-view+json": {
       "model_id": "438dcb33862c47e0aa8d926399507680",
       "version_major": 2,
       "version_minor": 0
      },
      "text/plain": [
       "Finding best initial lr:   0%|          | 0/100 [00:00<?, ?it/s]"
      ]
     },
     "metadata": {},
     "output_type": "display_data"
    },
    {
     "data": {
      "text/html": [
       "<pre style=\"white-space:pre;overflow-x:auto;line-height:normal;font-family:Menlo,'DejaVu Sans Mono',consolas,'Courier New',monospace\"><span style=\"color: #008080; text-decoration-color: #008080; font-weight: bold\">2025</span>-<span style=\"color: #008080; text-decoration-color: #008080; font-weight: bold\">02</span>-<span style=\"color: #008080; text-decoration-color: #008080; font-weight: bold\">26</span> <span style=\"color: #00ff00; text-decoration-color: #00ff00; font-weight: bold\">09:55:11</span>,<span style=\"color: #008080; text-decoration-color: #008080; font-weight: bold\">128</span> - <span style=\"font-weight: bold\">{</span>pytorch_tabular.tabular_model_tuner:<span style=\"color: #008080; text-decoration-color: #008080; font-weight: bold\">412</span><span style=\"font-weight: bold\">}</span> - INFO - Trial <span style=\"color: #008080; text-decoration-color: #008080; font-weight: bold\">15</span>/<span style=\"color: #008080; text-decoration-color: #008080; font-weight: bold\">27</span>: <span style=\"font-weight: bold\">{</span><span style=\"color: #008000; text-decoration-color: #008000\">'model'</span>:                \n",
       "<span style=\"color: #008000; text-decoration-color: #008000\">'0-FTTransformerConfig'</span>, <span style=\"color: #008000; text-decoration-color: #008000\">'model_config__input_embed_dim'</span>: <span style=\"color: #008080; text-decoration-color: #008080; font-weight: bold\">32</span>, <span style=\"color: #008000; text-decoration-color: #008000\">'model_config__num_heads'</span>: <span style=\"color: #008080; text-decoration-color: #008080; font-weight: bold\">8</span>,                        \n",
       "<span style=\"color: #008000; text-decoration-color: #008000\">'model_config__transformer_activation'</span>: <span style=\"color: #008000; text-decoration-color: #008000\">'LeakyReLU'</span>, <span style=\"color: #008000; text-decoration-color: #008000\">'loss_0'</span>: <span style=\"color: #008080; text-decoration-color: #008080; font-weight: bold\">0.5990369915962219</span>, <span style=\"color: #008000; text-decoration-color: #008000\">'loss'</span>: <span style=\"color: #008080; text-decoration-color: #008080; font-weight: bold\">0.5990369915962219</span>,     \n",
       "<span style=\"color: #008000; text-decoration-color: #008000\">'accuracy'</span>: <span style=\"color: #008080; text-decoration-color: #008080; font-weight: bold\">0.7633333206176758</span>, <span style=\"color: #008000; text-decoration-color: #008000\">'trial_id'</span>: <span style=\"color: #008080; text-decoration-color: #008080; font-weight: bold\">14</span><span style=\"font-weight: bold\">}</span> | Score: <span style=\"color: #008080; text-decoration-color: #008080; font-weight: bold\">0.7633333206176758</span>                                        \n",
       "</pre>\n"
      ],
      "text/plain": [
       "\u001b[1;36m2025\u001b[0m-\u001b[1;36m02\u001b[0m-\u001b[1;36m26\u001b[0m \u001b[1;92m09:55:11\u001b[0m,\u001b[1;36m128\u001b[0m - \u001b[1m{\u001b[0mpytorch_tabular.tabular_model_tuner:\u001b[1;36m412\u001b[0m\u001b[1m}\u001b[0m - INFO - Trial \u001b[1;36m15\u001b[0m/\u001b[1;36m27\u001b[0m: \u001b[1m{\u001b[0m\u001b[32m'model'\u001b[0m:                \n",
       "\u001b[32m'0-FTTransformerConfig'\u001b[0m, \u001b[32m'model_config__input_embed_dim'\u001b[0m: \u001b[1;36m32\u001b[0m, \u001b[32m'model_config__num_heads'\u001b[0m: \u001b[1;36m8\u001b[0m,                        \n",
       "\u001b[32m'model_config__transformer_activation'\u001b[0m: \u001b[32m'LeakyReLU'\u001b[0m, \u001b[32m'loss_0'\u001b[0m: \u001b[1;36m0.5990369915962219\u001b[0m, \u001b[32m'loss'\u001b[0m: \u001b[1;36m0.5990369915962219\u001b[0m,     \n",
       "\u001b[32m'accuracy'\u001b[0m: \u001b[1;36m0.7633333206176758\u001b[0m, \u001b[32m'trial_id'\u001b[0m: \u001b[1;36m14\u001b[0m\u001b[1m}\u001b[0m | Score: \u001b[1;36m0.7633333206176758\u001b[0m                                        \n"
      ]
     },
     "metadata": {},
     "output_type": "display_data"
    },
    {
     "data": {
      "application/vnd.jupyter.widget-view+json": {
       "model_id": "ca800b5e5f7d4de9b004e384a96564f1",
       "version_major": 2,
       "version_minor": 0
      },
      "text/plain": [
       "Finding best initial lr:   0%|          | 0/100 [00:00<?, ?it/s]"
      ]
     },
     "metadata": {},
     "output_type": "display_data"
    },
    {
     "data": {
      "text/html": [
       "<pre style=\"white-space:pre;overflow-x:auto;line-height:normal;font-family:Menlo,'DejaVu Sans Mono',consolas,'Courier New',monospace\"><span style=\"color: #008080; text-decoration-color: #008080; font-weight: bold\">2025</span>-<span style=\"color: #008080; text-decoration-color: #008080; font-weight: bold\">02</span>-<span style=\"color: #008080; text-decoration-color: #008080; font-weight: bold\">26</span> <span style=\"color: #00ff00; text-decoration-color: #00ff00; font-weight: bold\">09:55:37</span>,<span style=\"color: #008080; text-decoration-color: #008080; font-weight: bold\">098</span> - <span style=\"font-weight: bold\">{</span>pytorch_tabular.tabular_model_tuner:<span style=\"color: #008080; text-decoration-color: #008080; font-weight: bold\">412</span><span style=\"font-weight: bold\">}</span> - INFO - Trial <span style=\"color: #008080; text-decoration-color: #008080; font-weight: bold\">16</span>/<span style=\"color: #008080; text-decoration-color: #008080; font-weight: bold\">27</span>: <span style=\"font-weight: bold\">{</span><span style=\"color: #008000; text-decoration-color: #008000\">'model'</span>:                \n",
       "<span style=\"color: #008000; text-decoration-color: #008000\">'0-FTTransformerConfig'</span>, <span style=\"color: #008000; text-decoration-color: #008000\">'model_config__input_embed_dim'</span>: <span style=\"color: #008080; text-decoration-color: #008080; font-weight: bold\">32</span>, <span style=\"color: #008000; text-decoration-color: #008000\">'model_config__num_heads'</span>: <span style=\"color: #008080; text-decoration-color: #008080; font-weight: bold\">16</span>,                       \n",
       "<span style=\"color: #008000; text-decoration-color: #008000\">'model_config__transformer_activation'</span>: <span style=\"color: #008000; text-decoration-color: #008000\">'GEGLU'</span>, <span style=\"color: #008000; text-decoration-color: #008000\">'loss_0'</span>: <span style=\"color: #008080; text-decoration-color: #008080; font-weight: bold\">0.5491219162940979</span>, <span style=\"color: #008000; text-decoration-color: #008000\">'loss'</span>: <span style=\"color: #008080; text-decoration-color: #008080; font-weight: bold\">0.5491219162940979</span>,         \n",
       "<span style=\"color: #008000; text-decoration-color: #008000\">'accuracy'</span>: <span style=\"color: #008080; text-decoration-color: #008080; font-weight: bold\">0.7866666913032532</span>, <span style=\"color: #008000; text-decoration-color: #008000\">'trial_id'</span>: <span style=\"color: #008080; text-decoration-color: #008080; font-weight: bold\">15</span><span style=\"font-weight: bold\">}</span> | Score: <span style=\"color: #008080; text-decoration-color: #008080; font-weight: bold\">0.7866666913032532</span>                                        \n",
       "</pre>\n"
      ],
      "text/plain": [
       "\u001b[1;36m2025\u001b[0m-\u001b[1;36m02\u001b[0m-\u001b[1;36m26\u001b[0m \u001b[1;92m09:55:37\u001b[0m,\u001b[1;36m098\u001b[0m - \u001b[1m{\u001b[0mpytorch_tabular.tabular_model_tuner:\u001b[1;36m412\u001b[0m\u001b[1m}\u001b[0m - INFO - Trial \u001b[1;36m16\u001b[0m/\u001b[1;36m27\u001b[0m: \u001b[1m{\u001b[0m\u001b[32m'model'\u001b[0m:                \n",
       "\u001b[32m'0-FTTransformerConfig'\u001b[0m, \u001b[32m'model_config__input_embed_dim'\u001b[0m: \u001b[1;36m32\u001b[0m, \u001b[32m'model_config__num_heads'\u001b[0m: \u001b[1;36m16\u001b[0m,                       \n",
       "\u001b[32m'model_config__transformer_activation'\u001b[0m: \u001b[32m'GEGLU'\u001b[0m, \u001b[32m'loss_0'\u001b[0m: \u001b[1;36m0.5491219162940979\u001b[0m, \u001b[32m'loss'\u001b[0m: \u001b[1;36m0.5491219162940979\u001b[0m,         \n",
       "\u001b[32m'accuracy'\u001b[0m: \u001b[1;36m0.7866666913032532\u001b[0m, \u001b[32m'trial_id'\u001b[0m: \u001b[1;36m15\u001b[0m\u001b[1m}\u001b[0m | Score: \u001b[1;36m0.7866666913032532\u001b[0m                                        \n"
      ]
     },
     "metadata": {},
     "output_type": "display_data"
    },
    {
     "data": {
      "application/vnd.jupyter.widget-view+json": {
       "model_id": "d58e54dc9f2248c590c1c6b4dcda88f3",
       "version_major": 2,
       "version_minor": 0
      },
      "text/plain": [
       "Finding best initial lr:   0%|          | 0/100 [00:00<?, ?it/s]"
      ]
     },
     "metadata": {},
     "output_type": "display_data"
    },
    {
     "data": {
      "text/html": [
       "<pre style=\"white-space:pre;overflow-x:auto;line-height:normal;font-family:Menlo,'DejaVu Sans Mono',consolas,'Courier New',monospace\"><span style=\"color: #008080; text-decoration-color: #008080; font-weight: bold\">2025</span>-<span style=\"color: #008080; text-decoration-color: #008080; font-weight: bold\">02</span>-<span style=\"color: #008080; text-decoration-color: #008080; font-weight: bold\">26</span> <span style=\"color: #00ff00; text-decoration-color: #00ff00; font-weight: bold\">09:56:21</span>,<span style=\"color: #008080; text-decoration-color: #008080; font-weight: bold\">150</span> - <span style=\"font-weight: bold\">{</span>pytorch_tabular.tabular_model_tuner:<span style=\"color: #008080; text-decoration-color: #008080; font-weight: bold\">412</span><span style=\"font-weight: bold\">}</span> - INFO - Trial <span style=\"color: #008080; text-decoration-color: #008080; font-weight: bold\">17</span>/<span style=\"color: #008080; text-decoration-color: #008080; font-weight: bold\">27</span>: <span style=\"font-weight: bold\">{</span><span style=\"color: #008000; text-decoration-color: #008000\">'model'</span>:                \n",
       "<span style=\"color: #008000; text-decoration-color: #008000\">'0-FTTransformerConfig'</span>, <span style=\"color: #008000; text-decoration-color: #008000\">'model_config__input_embed_dim'</span>: <span style=\"color: #008080; text-decoration-color: #008080; font-weight: bold\">32</span>, <span style=\"color: #008000; text-decoration-color: #008000\">'model_config__num_heads'</span>: <span style=\"color: #008080; text-decoration-color: #008080; font-weight: bold\">16</span>,                       \n",
       "<span style=\"color: #008000; text-decoration-color: #008000\">'model_config__transformer_activation'</span>: <span style=\"color: #008000; text-decoration-color: #008000\">'ReLU'</span>, <span style=\"color: #008000; text-decoration-color: #008000\">'loss_0'</span>: <span style=\"color: #008080; text-decoration-color: #008080; font-weight: bold\">0.562818169593811</span>, <span style=\"color: #008000; text-decoration-color: #008000\">'loss'</span>: <span style=\"color: #008080; text-decoration-color: #008080; font-weight: bold\">0.562818169593811</span>, <span style=\"color: #008000; text-decoration-color: #008000\">'accuracy'</span>:\n",
       "<span style=\"color: #008080; text-decoration-color: #008080; font-weight: bold\">0.7883333563804626</span>, <span style=\"color: #008000; text-decoration-color: #008000\">'trial_id'</span>: <span style=\"color: #008080; text-decoration-color: #008080; font-weight: bold\">16</span><span style=\"font-weight: bold\">}</span> | Score: <span style=\"color: #008080; text-decoration-color: #008080; font-weight: bold\">0.7883333563804626</span>                                                    \n",
       "</pre>\n"
      ],
      "text/plain": [
       "\u001b[1;36m2025\u001b[0m-\u001b[1;36m02\u001b[0m-\u001b[1;36m26\u001b[0m \u001b[1;92m09:56:21\u001b[0m,\u001b[1;36m150\u001b[0m - \u001b[1m{\u001b[0mpytorch_tabular.tabular_model_tuner:\u001b[1;36m412\u001b[0m\u001b[1m}\u001b[0m - INFO - Trial \u001b[1;36m17\u001b[0m/\u001b[1;36m27\u001b[0m: \u001b[1m{\u001b[0m\u001b[32m'model'\u001b[0m:                \n",
       "\u001b[32m'0-FTTransformerConfig'\u001b[0m, \u001b[32m'model_config__input_embed_dim'\u001b[0m: \u001b[1;36m32\u001b[0m, \u001b[32m'model_config__num_heads'\u001b[0m: \u001b[1;36m16\u001b[0m,                       \n",
       "\u001b[32m'model_config__transformer_activation'\u001b[0m: \u001b[32m'ReLU'\u001b[0m, \u001b[32m'loss_0'\u001b[0m: \u001b[1;36m0.562818169593811\u001b[0m, \u001b[32m'loss'\u001b[0m: \u001b[1;36m0.562818169593811\u001b[0m, \u001b[32m'accuracy'\u001b[0m:\n",
       "\u001b[1;36m0.7883333563804626\u001b[0m, \u001b[32m'trial_id'\u001b[0m: \u001b[1;36m16\u001b[0m\u001b[1m}\u001b[0m | Score: \u001b[1;36m0.7883333563804626\u001b[0m                                                    \n"
      ]
     },
     "metadata": {},
     "output_type": "display_data"
    },
    {
     "data": {
      "application/vnd.jupyter.widget-view+json": {
       "model_id": "2cc06caa99864e04ae75e84e38539335",
       "version_major": 2,
       "version_minor": 0
      },
      "text/plain": [
       "Finding best initial lr:   0%|          | 0/100 [00:00<?, ?it/s]"
      ]
     },
     "metadata": {},
     "output_type": "display_data"
    },
    {
     "data": {
      "text/html": [
       "<pre style=\"white-space:pre;overflow-x:auto;line-height:normal;font-family:Menlo,'DejaVu Sans Mono',consolas,'Courier New',monospace\"><span style=\"color: #008080; text-decoration-color: #008080; font-weight: bold\">2025</span>-<span style=\"color: #008080; text-decoration-color: #008080; font-weight: bold\">02</span>-<span style=\"color: #008080; text-decoration-color: #008080; font-weight: bold\">26</span> <span style=\"color: #00ff00; text-decoration-color: #00ff00; font-weight: bold\">09:56:46</span>,<span style=\"color: #008080; text-decoration-color: #008080; font-weight: bold\">569</span> - <span style=\"font-weight: bold\">{</span>pytorch_tabular.tabular_model_tuner:<span style=\"color: #008080; text-decoration-color: #008080; font-weight: bold\">412</span><span style=\"font-weight: bold\">}</span> - INFO - Trial <span style=\"color: #008080; text-decoration-color: #008080; font-weight: bold\">18</span>/<span style=\"color: #008080; text-decoration-color: #008080; font-weight: bold\">27</span>: <span style=\"font-weight: bold\">{</span><span style=\"color: #008000; text-decoration-color: #008000\">'model'</span>:                \n",
       "<span style=\"color: #008000; text-decoration-color: #008000\">'0-FTTransformerConfig'</span>, <span style=\"color: #008000; text-decoration-color: #008000\">'model_config__input_embed_dim'</span>: <span style=\"color: #008080; text-decoration-color: #008080; font-weight: bold\">32</span>, <span style=\"color: #008000; text-decoration-color: #008000\">'model_config__num_heads'</span>: <span style=\"color: #008080; text-decoration-color: #008080; font-weight: bold\">16</span>,                       \n",
       "<span style=\"color: #008000; text-decoration-color: #008000\">'model_config__transformer_activation'</span>: <span style=\"color: #008000; text-decoration-color: #008000\">'LeakyReLU'</span>, <span style=\"color: #008000; text-decoration-color: #008000\">'loss_0'</span>: <span style=\"color: #008080; text-decoration-color: #008080; font-weight: bold\">0.5190829634666443</span>, <span style=\"color: #008000; text-decoration-color: #008000\">'loss'</span>: <span style=\"color: #008080; text-decoration-color: #008080; font-weight: bold\">0.5190829634666443</span>,     \n",
       "<span style=\"color: #008000; text-decoration-color: #008000\">'accuracy'</span>: <span style=\"color: #008080; text-decoration-color: #008080; font-weight: bold\">0.7933333516120911</span>, <span style=\"color: #008000; text-decoration-color: #008000\">'trial_id'</span>: <span style=\"color: #008080; text-decoration-color: #008080; font-weight: bold\">17</span><span style=\"font-weight: bold\">}</span> | Score: <span style=\"color: #008080; text-decoration-color: #008080; font-weight: bold\">0.7933333516120911</span>                                        \n",
       "</pre>\n"
      ],
      "text/plain": [
       "\u001b[1;36m2025\u001b[0m-\u001b[1;36m02\u001b[0m-\u001b[1;36m26\u001b[0m \u001b[1;92m09:56:46\u001b[0m,\u001b[1;36m569\u001b[0m - \u001b[1m{\u001b[0mpytorch_tabular.tabular_model_tuner:\u001b[1;36m412\u001b[0m\u001b[1m}\u001b[0m - INFO - Trial \u001b[1;36m18\u001b[0m/\u001b[1;36m27\u001b[0m: \u001b[1m{\u001b[0m\u001b[32m'model'\u001b[0m:                \n",
       "\u001b[32m'0-FTTransformerConfig'\u001b[0m, \u001b[32m'model_config__input_embed_dim'\u001b[0m: \u001b[1;36m32\u001b[0m, \u001b[32m'model_config__num_heads'\u001b[0m: \u001b[1;36m16\u001b[0m,                       \n",
       "\u001b[32m'model_config__transformer_activation'\u001b[0m: \u001b[32m'LeakyReLU'\u001b[0m, \u001b[32m'loss_0'\u001b[0m: \u001b[1;36m0.5190829634666443\u001b[0m, \u001b[32m'loss'\u001b[0m: \u001b[1;36m0.5190829634666443\u001b[0m,     \n",
       "\u001b[32m'accuracy'\u001b[0m: \u001b[1;36m0.7933333516120911\u001b[0m, \u001b[32m'trial_id'\u001b[0m: \u001b[1;36m17\u001b[0m\u001b[1m}\u001b[0m | Score: \u001b[1;36m0.7933333516120911\u001b[0m                                        \n"
      ]
     },
     "metadata": {},
     "output_type": "display_data"
    },
    {
     "data": {
      "application/vnd.jupyter.widget-view+json": {
       "model_id": "71031ef2da9144d39d5e13a0cb013c8a",
       "version_major": 2,
       "version_minor": 0
      },
      "text/plain": [
       "Finding best initial lr:   0%|          | 0/100 [00:00<?, ?it/s]"
      ]
     },
     "metadata": {},
     "output_type": "display_data"
    },
    {
     "data": {
      "text/html": [
       "<pre style=\"white-space:pre;overflow-x:auto;line-height:normal;font-family:Menlo,'DejaVu Sans Mono',consolas,'Courier New',monospace\"><span style=\"color: #008080; text-decoration-color: #008080; font-weight: bold\">2025</span>-<span style=\"color: #008080; text-decoration-color: #008080; font-weight: bold\">02</span>-<span style=\"color: #008080; text-decoration-color: #008080; font-weight: bold\">26</span> <span style=\"color: #00ff00; text-decoration-color: #00ff00; font-weight: bold\">09:57:11</span>,<span style=\"color: #008080; text-decoration-color: #008080; font-weight: bold\">566</span> - <span style=\"font-weight: bold\">{</span>pytorch_tabular.tabular_model_tuner:<span style=\"color: #008080; text-decoration-color: #008080; font-weight: bold\">412</span><span style=\"font-weight: bold\">}</span> - INFO - Trial <span style=\"color: #008080; text-decoration-color: #008080; font-weight: bold\">19</span>/<span style=\"color: #008080; text-decoration-color: #008080; font-weight: bold\">27</span>: <span style=\"font-weight: bold\">{</span><span style=\"color: #008000; text-decoration-color: #008000\">'model'</span>:                \n",
       "<span style=\"color: #008000; text-decoration-color: #008000\">'0-FTTransformerConfig'</span>, <span style=\"color: #008000; text-decoration-color: #008000\">'model_config__input_embed_dim'</span>: <span style=\"color: #008080; text-decoration-color: #008080; font-weight: bold\">64</span>, <span style=\"color: #008000; text-decoration-color: #008000\">'model_config__num_heads'</span>: <span style=\"color: #008080; text-decoration-color: #008080; font-weight: bold\">4</span>,                        \n",
       "<span style=\"color: #008000; text-decoration-color: #008000\">'model_config__transformer_activation'</span>: <span style=\"color: #008000; text-decoration-color: #008000\">'GEGLU'</span>, <span style=\"color: #008000; text-decoration-color: #008000\">'loss_0'</span>: <span style=\"color: #008080; text-decoration-color: #008080; font-weight: bold\">0.6557214856147766</span>, <span style=\"color: #008000; text-decoration-color: #008000\">'loss'</span>: <span style=\"color: #008080; text-decoration-color: #008080; font-weight: bold\">0.6557214856147766</span>,         \n",
       "<span style=\"color: #008000; text-decoration-color: #008000\">'accuracy'</span>: <span style=\"color: #008080; text-decoration-color: #008080; font-weight: bold\">0.7383333444595337</span>, <span style=\"color: #008000; text-decoration-color: #008000\">'trial_id'</span>: <span style=\"color: #008080; text-decoration-color: #008080; font-weight: bold\">18</span><span style=\"font-weight: bold\">}</span> | Score: <span style=\"color: #008080; text-decoration-color: #008080; font-weight: bold\">0.7383333444595337</span>                                        \n",
       "</pre>\n"
      ],
      "text/plain": [
       "\u001b[1;36m2025\u001b[0m-\u001b[1;36m02\u001b[0m-\u001b[1;36m26\u001b[0m \u001b[1;92m09:57:11\u001b[0m,\u001b[1;36m566\u001b[0m - \u001b[1m{\u001b[0mpytorch_tabular.tabular_model_tuner:\u001b[1;36m412\u001b[0m\u001b[1m}\u001b[0m - INFO - Trial \u001b[1;36m19\u001b[0m/\u001b[1;36m27\u001b[0m: \u001b[1m{\u001b[0m\u001b[32m'model'\u001b[0m:                \n",
       "\u001b[32m'0-FTTransformerConfig'\u001b[0m, \u001b[32m'model_config__input_embed_dim'\u001b[0m: \u001b[1;36m64\u001b[0m, \u001b[32m'model_config__num_heads'\u001b[0m: \u001b[1;36m4\u001b[0m,                        \n",
       "\u001b[32m'model_config__transformer_activation'\u001b[0m: \u001b[32m'GEGLU'\u001b[0m, \u001b[32m'loss_0'\u001b[0m: \u001b[1;36m0.6557214856147766\u001b[0m, \u001b[32m'loss'\u001b[0m: \u001b[1;36m0.6557214856147766\u001b[0m,         \n",
       "\u001b[32m'accuracy'\u001b[0m: \u001b[1;36m0.7383333444595337\u001b[0m, \u001b[32m'trial_id'\u001b[0m: \u001b[1;36m18\u001b[0m\u001b[1m}\u001b[0m | Score: \u001b[1;36m0.7383333444595337\u001b[0m                                        \n"
      ]
     },
     "metadata": {},
     "output_type": "display_data"
    },
    {
     "data": {
      "application/vnd.jupyter.widget-view+json": {
       "model_id": "98d5c97ea729497c96d713e2b3528784",
       "version_major": 2,
       "version_minor": 0
      },
      "text/plain": [
       "Finding best initial lr:   0%|          | 0/100 [00:00<?, ?it/s]"
      ]
     },
     "metadata": {},
     "output_type": "display_data"
    },
    {
     "data": {
      "text/html": [
       "<pre style=\"white-space:pre;overflow-x:auto;line-height:normal;font-family:Menlo,'DejaVu Sans Mono',consolas,'Courier New',monospace\"><span style=\"color: #008080; text-decoration-color: #008080; font-weight: bold\">2025</span>-<span style=\"color: #008080; text-decoration-color: #008080; font-weight: bold\">02</span>-<span style=\"color: #008080; text-decoration-color: #008080; font-weight: bold\">26</span> <span style=\"color: #00ff00; text-decoration-color: #00ff00; font-weight: bold\">09:57:35</span>,<span style=\"color: #008080; text-decoration-color: #008080; font-weight: bold\">636</span> - <span style=\"font-weight: bold\">{</span>pytorch_tabular.tabular_model_tuner:<span style=\"color: #008080; text-decoration-color: #008080; font-weight: bold\">412</span><span style=\"font-weight: bold\">}</span> - INFO - Trial <span style=\"color: #008080; text-decoration-color: #008080; font-weight: bold\">20</span>/<span style=\"color: #008080; text-decoration-color: #008080; font-weight: bold\">27</span>: <span style=\"font-weight: bold\">{</span><span style=\"color: #008000; text-decoration-color: #008000\">'model'</span>:                \n",
       "<span style=\"color: #008000; text-decoration-color: #008000\">'0-FTTransformerConfig'</span>, <span style=\"color: #008000; text-decoration-color: #008000\">'model_config__input_embed_dim'</span>: <span style=\"color: #008080; text-decoration-color: #008080; font-weight: bold\">64</span>, <span style=\"color: #008000; text-decoration-color: #008000\">'model_config__num_heads'</span>: <span style=\"color: #008080; text-decoration-color: #008080; font-weight: bold\">4</span>,                        \n",
       "<span style=\"color: #008000; text-decoration-color: #008000\">'model_config__transformer_activation'</span>: <span style=\"color: #008000; text-decoration-color: #008000\">'ReLU'</span>, <span style=\"color: #008000; text-decoration-color: #008000\">'loss_0'</span>: <span style=\"color: #008080; text-decoration-color: #008080; font-weight: bold\">0.6184008121490479</span>, <span style=\"color: #008000; text-decoration-color: #008000\">'loss'</span>: <span style=\"color: #008080; text-decoration-color: #008080; font-weight: bold\">0.6184008121490479</span>,          \n",
       "<span style=\"color: #008000; text-decoration-color: #008000\">'accuracy'</span>: <span style=\"color: #008080; text-decoration-color: #008080; font-weight: bold\">0.7566666603088379</span>, <span style=\"color: #008000; text-decoration-color: #008000\">'trial_id'</span>: <span style=\"color: #008080; text-decoration-color: #008080; font-weight: bold\">19</span><span style=\"font-weight: bold\">}</span> | Score: <span style=\"color: #008080; text-decoration-color: #008080; font-weight: bold\">0.7566666603088379</span>                                        \n",
       "</pre>\n"
      ],
      "text/plain": [
       "\u001b[1;36m2025\u001b[0m-\u001b[1;36m02\u001b[0m-\u001b[1;36m26\u001b[0m \u001b[1;92m09:57:35\u001b[0m,\u001b[1;36m636\u001b[0m - \u001b[1m{\u001b[0mpytorch_tabular.tabular_model_tuner:\u001b[1;36m412\u001b[0m\u001b[1m}\u001b[0m - INFO - Trial \u001b[1;36m20\u001b[0m/\u001b[1;36m27\u001b[0m: \u001b[1m{\u001b[0m\u001b[32m'model'\u001b[0m:                \n",
       "\u001b[32m'0-FTTransformerConfig'\u001b[0m, \u001b[32m'model_config__input_embed_dim'\u001b[0m: \u001b[1;36m64\u001b[0m, \u001b[32m'model_config__num_heads'\u001b[0m: \u001b[1;36m4\u001b[0m,                        \n",
       "\u001b[32m'model_config__transformer_activation'\u001b[0m: \u001b[32m'ReLU'\u001b[0m, \u001b[32m'loss_0'\u001b[0m: \u001b[1;36m0.6184008121490479\u001b[0m, \u001b[32m'loss'\u001b[0m: \u001b[1;36m0.6184008121490479\u001b[0m,          \n",
       "\u001b[32m'accuracy'\u001b[0m: \u001b[1;36m0.7566666603088379\u001b[0m, \u001b[32m'trial_id'\u001b[0m: \u001b[1;36m19\u001b[0m\u001b[1m}\u001b[0m | Score: \u001b[1;36m0.7566666603088379\u001b[0m                                        \n"
      ]
     },
     "metadata": {},
     "output_type": "display_data"
    },
    {
     "data": {
      "application/vnd.jupyter.widget-view+json": {
       "model_id": "7b87bee21d6842c1b0bcfd76898c4c4d",
       "version_major": 2,
       "version_minor": 0
      },
      "text/plain": [
       "Finding best initial lr:   0%|          | 0/100 [00:00<?, ?it/s]"
      ]
     },
     "metadata": {},
     "output_type": "display_data"
    },
    {
     "data": {
      "text/html": [
       "<pre style=\"white-space:pre;overflow-x:auto;line-height:normal;font-family:Menlo,'DejaVu Sans Mono',consolas,'Courier New',monospace\"><span style=\"color: #008080; text-decoration-color: #008080; font-weight: bold\">2025</span>-<span style=\"color: #008080; text-decoration-color: #008080; font-weight: bold\">02</span>-<span style=\"color: #008080; text-decoration-color: #008080; font-weight: bold\">26</span> <span style=\"color: #00ff00; text-decoration-color: #00ff00; font-weight: bold\">09:58:00</span>,<span style=\"color: #008080; text-decoration-color: #008080; font-weight: bold\">259</span> - <span style=\"font-weight: bold\">{</span>pytorch_tabular.tabular_model_tuner:<span style=\"color: #008080; text-decoration-color: #008080; font-weight: bold\">412</span><span style=\"font-weight: bold\">}</span> - INFO - Trial <span style=\"color: #008080; text-decoration-color: #008080; font-weight: bold\">21</span>/<span style=\"color: #008080; text-decoration-color: #008080; font-weight: bold\">27</span>: <span style=\"font-weight: bold\">{</span><span style=\"color: #008000; text-decoration-color: #008000\">'model'</span>:                \n",
       "<span style=\"color: #008000; text-decoration-color: #008000\">'0-FTTransformerConfig'</span>, <span style=\"color: #008000; text-decoration-color: #008000\">'model_config__input_embed_dim'</span>: <span style=\"color: #008080; text-decoration-color: #008080; font-weight: bold\">64</span>, <span style=\"color: #008000; text-decoration-color: #008000\">'model_config__num_heads'</span>: <span style=\"color: #008080; text-decoration-color: #008080; font-weight: bold\">4</span>,                        \n",
       "<span style=\"color: #008000; text-decoration-color: #008000\">'model_config__transformer_activation'</span>: <span style=\"color: #008000; text-decoration-color: #008000\">'LeakyReLU'</span>, <span style=\"color: #008000; text-decoration-color: #008000\">'loss_0'</span>: <span style=\"color: #008080; text-decoration-color: #008080; font-weight: bold\">0.6170562505722046</span>, <span style=\"color: #008000; text-decoration-color: #008000\">'loss'</span>: <span style=\"color: #008080; text-decoration-color: #008080; font-weight: bold\">0.6170562505722046</span>,     \n",
       "<span style=\"color: #008000; text-decoration-color: #008000\">'accuracy'</span>: <span style=\"color: #008080; text-decoration-color: #008080; font-weight: bold\">0.7583333253860474</span>, <span style=\"color: #008000; text-decoration-color: #008000\">'trial_id'</span>: <span style=\"color: #008080; text-decoration-color: #008080; font-weight: bold\">20</span><span style=\"font-weight: bold\">}</span> | Score: <span style=\"color: #008080; text-decoration-color: #008080; font-weight: bold\">0.7583333253860474</span>                                        \n",
       "</pre>\n"
      ],
      "text/plain": [
       "\u001b[1;36m2025\u001b[0m-\u001b[1;36m02\u001b[0m-\u001b[1;36m26\u001b[0m \u001b[1;92m09:58:00\u001b[0m,\u001b[1;36m259\u001b[0m - \u001b[1m{\u001b[0mpytorch_tabular.tabular_model_tuner:\u001b[1;36m412\u001b[0m\u001b[1m}\u001b[0m - INFO - Trial \u001b[1;36m21\u001b[0m/\u001b[1;36m27\u001b[0m: \u001b[1m{\u001b[0m\u001b[32m'model'\u001b[0m:                \n",
       "\u001b[32m'0-FTTransformerConfig'\u001b[0m, \u001b[32m'model_config__input_embed_dim'\u001b[0m: \u001b[1;36m64\u001b[0m, \u001b[32m'model_config__num_heads'\u001b[0m: \u001b[1;36m4\u001b[0m,                        \n",
       "\u001b[32m'model_config__transformer_activation'\u001b[0m: \u001b[32m'LeakyReLU'\u001b[0m, \u001b[32m'loss_0'\u001b[0m: \u001b[1;36m0.6170562505722046\u001b[0m, \u001b[32m'loss'\u001b[0m: \u001b[1;36m0.6170562505722046\u001b[0m,     \n",
       "\u001b[32m'accuracy'\u001b[0m: \u001b[1;36m0.7583333253860474\u001b[0m, \u001b[32m'trial_id'\u001b[0m: \u001b[1;36m20\u001b[0m\u001b[1m}\u001b[0m | Score: \u001b[1;36m0.7583333253860474\u001b[0m                                        \n"
      ]
     },
     "metadata": {},
     "output_type": "display_data"
    },
    {
     "data": {
      "application/vnd.jupyter.widget-view+json": {
       "model_id": "96c3205b41324669a587ebe830bfe36f",
       "version_major": 2,
       "version_minor": 0
      },
      "text/plain": [
       "Finding best initial lr:   0%|          | 0/100 [00:00<?, ?it/s]"
      ]
     },
     "metadata": {},
     "output_type": "display_data"
    },
    {
     "data": {
      "text/html": [
       "<pre style=\"white-space:pre;overflow-x:auto;line-height:normal;font-family:Menlo,'DejaVu Sans Mono',consolas,'Courier New',monospace\"><span style=\"color: #008080; text-decoration-color: #008080; font-weight: bold\">2025</span>-<span style=\"color: #008080; text-decoration-color: #008080; font-weight: bold\">02</span>-<span style=\"color: #008080; text-decoration-color: #008080; font-weight: bold\">26</span> <span style=\"color: #00ff00; text-decoration-color: #00ff00; font-weight: bold\">09:58:25</span>,<span style=\"color: #008080; text-decoration-color: #008080; font-weight: bold\">225</span> - <span style=\"font-weight: bold\">{</span>pytorch_tabular.tabular_model_tuner:<span style=\"color: #008080; text-decoration-color: #008080; font-weight: bold\">412</span><span style=\"font-weight: bold\">}</span> - INFO - Trial <span style=\"color: #008080; text-decoration-color: #008080; font-weight: bold\">22</span>/<span style=\"color: #008080; text-decoration-color: #008080; font-weight: bold\">27</span>: <span style=\"font-weight: bold\">{</span><span style=\"color: #008000; text-decoration-color: #008000\">'model'</span>:                \n",
       "<span style=\"color: #008000; text-decoration-color: #008000\">'0-FTTransformerConfig'</span>, <span style=\"color: #008000; text-decoration-color: #008000\">'model_config__input_embed_dim'</span>: <span style=\"color: #008080; text-decoration-color: #008080; font-weight: bold\">64</span>, <span style=\"color: #008000; text-decoration-color: #008000\">'model_config__num_heads'</span>: <span style=\"color: #008080; text-decoration-color: #008080; font-weight: bold\">8</span>,                        \n",
       "<span style=\"color: #008000; text-decoration-color: #008000\">'model_config__transformer_activation'</span>: <span style=\"color: #008000; text-decoration-color: #008000\">'GEGLU'</span>, <span style=\"color: #008000; text-decoration-color: #008000\">'loss_0'</span>: <span style=\"color: #008080; text-decoration-color: #008080; font-weight: bold\">0.5549353361129761</span>, <span style=\"color: #008000; text-decoration-color: #008000\">'loss'</span>: <span style=\"color: #008080; text-decoration-color: #008080; font-weight: bold\">0.5549353361129761</span>,         \n",
       "<span style=\"color: #008000; text-decoration-color: #008000\">'accuracy'</span>: <span style=\"color: #008080; text-decoration-color: #008080; font-weight: bold\">0.7900000214576721</span>, <span style=\"color: #008000; text-decoration-color: #008000\">'trial_id'</span>: <span style=\"color: #008080; text-decoration-color: #008080; font-weight: bold\">21</span><span style=\"font-weight: bold\">}</span> | Score: <span style=\"color: #008080; text-decoration-color: #008080; font-weight: bold\">0.7900000214576721</span>                                        \n",
       "</pre>\n"
      ],
      "text/plain": [
       "\u001b[1;36m2025\u001b[0m-\u001b[1;36m02\u001b[0m-\u001b[1;36m26\u001b[0m \u001b[1;92m09:58:25\u001b[0m,\u001b[1;36m225\u001b[0m - \u001b[1m{\u001b[0mpytorch_tabular.tabular_model_tuner:\u001b[1;36m412\u001b[0m\u001b[1m}\u001b[0m - INFO - Trial \u001b[1;36m22\u001b[0m/\u001b[1;36m27\u001b[0m: \u001b[1m{\u001b[0m\u001b[32m'model'\u001b[0m:                \n",
       "\u001b[32m'0-FTTransformerConfig'\u001b[0m, \u001b[32m'model_config__input_embed_dim'\u001b[0m: \u001b[1;36m64\u001b[0m, \u001b[32m'model_config__num_heads'\u001b[0m: \u001b[1;36m8\u001b[0m,                        \n",
       "\u001b[32m'model_config__transformer_activation'\u001b[0m: \u001b[32m'GEGLU'\u001b[0m, \u001b[32m'loss_0'\u001b[0m: \u001b[1;36m0.5549353361129761\u001b[0m, \u001b[32m'loss'\u001b[0m: \u001b[1;36m0.5549353361129761\u001b[0m,         \n",
       "\u001b[32m'accuracy'\u001b[0m: \u001b[1;36m0.7900000214576721\u001b[0m, \u001b[32m'trial_id'\u001b[0m: \u001b[1;36m21\u001b[0m\u001b[1m}\u001b[0m | Score: \u001b[1;36m0.7900000214576721\u001b[0m                                        \n"
      ]
     },
     "metadata": {},
     "output_type": "display_data"
    },
    {
     "data": {
      "application/vnd.jupyter.widget-view+json": {
       "model_id": "1d0ef53435964172836e515509c5fe02",
       "version_major": 2,
       "version_minor": 0
      },
      "text/plain": [
       "Finding best initial lr:   0%|          | 0/100 [00:00<?, ?it/s]"
      ]
     },
     "metadata": {},
     "output_type": "display_data"
    },
    {
     "data": {
      "text/html": [
       "<pre style=\"white-space:pre;overflow-x:auto;line-height:normal;font-family:Menlo,'DejaVu Sans Mono',consolas,'Courier New',monospace\"><span style=\"color: #008080; text-decoration-color: #008080; font-weight: bold\">2025</span>-<span style=\"color: #008080; text-decoration-color: #008080; font-weight: bold\">02</span>-<span style=\"color: #008080; text-decoration-color: #008080; font-weight: bold\">26</span> <span style=\"color: #00ff00; text-decoration-color: #00ff00; font-weight: bold\">09:58:49</span>,<span style=\"color: #008080; text-decoration-color: #008080; font-weight: bold\">489</span> - <span style=\"font-weight: bold\">{</span>pytorch_tabular.tabular_model_tuner:<span style=\"color: #008080; text-decoration-color: #008080; font-weight: bold\">412</span><span style=\"font-weight: bold\">}</span> - INFO - Trial <span style=\"color: #008080; text-decoration-color: #008080; font-weight: bold\">23</span>/<span style=\"color: #008080; text-decoration-color: #008080; font-weight: bold\">27</span>: <span style=\"font-weight: bold\">{</span><span style=\"color: #008000; text-decoration-color: #008000\">'model'</span>:                \n",
       "<span style=\"color: #008000; text-decoration-color: #008000\">'0-FTTransformerConfig'</span>, <span style=\"color: #008000; text-decoration-color: #008000\">'model_config__input_embed_dim'</span>: <span style=\"color: #008080; text-decoration-color: #008080; font-weight: bold\">64</span>, <span style=\"color: #008000; text-decoration-color: #008000\">'model_config__num_heads'</span>: <span style=\"color: #008080; text-decoration-color: #008080; font-weight: bold\">8</span>,                        \n",
       "<span style=\"color: #008000; text-decoration-color: #008000\">'model_config__transformer_activation'</span>: <span style=\"color: #008000; text-decoration-color: #008000\">'ReLU'</span>, <span style=\"color: #008000; text-decoration-color: #008000\">'loss_0'</span>: <span style=\"color: #008080; text-decoration-color: #008080; font-weight: bold\">0.6386935114860535</span>, <span style=\"color: #008000; text-decoration-color: #008000\">'loss'</span>: <span style=\"color: #008080; text-decoration-color: #008080; font-weight: bold\">0.6386935114860535</span>,          \n",
       "<span style=\"color: #008000; text-decoration-color: #008000\">'accuracy'</span>: <span style=\"color: #008080; text-decoration-color: #008080; font-weight: bold\">0.7583333253860474</span>, <span style=\"color: #008000; text-decoration-color: #008000\">'trial_id'</span>: <span style=\"color: #008080; text-decoration-color: #008080; font-weight: bold\">22</span><span style=\"font-weight: bold\">}</span> | Score: <span style=\"color: #008080; text-decoration-color: #008080; font-weight: bold\">0.7583333253860474</span>                                        \n",
       "</pre>\n"
      ],
      "text/plain": [
       "\u001b[1;36m2025\u001b[0m-\u001b[1;36m02\u001b[0m-\u001b[1;36m26\u001b[0m \u001b[1;92m09:58:49\u001b[0m,\u001b[1;36m489\u001b[0m - \u001b[1m{\u001b[0mpytorch_tabular.tabular_model_tuner:\u001b[1;36m412\u001b[0m\u001b[1m}\u001b[0m - INFO - Trial \u001b[1;36m23\u001b[0m/\u001b[1;36m27\u001b[0m: \u001b[1m{\u001b[0m\u001b[32m'model'\u001b[0m:                \n",
       "\u001b[32m'0-FTTransformerConfig'\u001b[0m, \u001b[32m'model_config__input_embed_dim'\u001b[0m: \u001b[1;36m64\u001b[0m, \u001b[32m'model_config__num_heads'\u001b[0m: \u001b[1;36m8\u001b[0m,                        \n",
       "\u001b[32m'model_config__transformer_activation'\u001b[0m: \u001b[32m'ReLU'\u001b[0m, \u001b[32m'loss_0'\u001b[0m: \u001b[1;36m0.6386935114860535\u001b[0m, \u001b[32m'loss'\u001b[0m: \u001b[1;36m0.6386935114860535\u001b[0m,          \n",
       "\u001b[32m'accuracy'\u001b[0m: \u001b[1;36m0.7583333253860474\u001b[0m, \u001b[32m'trial_id'\u001b[0m: \u001b[1;36m22\u001b[0m\u001b[1m}\u001b[0m | Score: \u001b[1;36m0.7583333253860474\u001b[0m                                        \n"
      ]
     },
     "metadata": {},
     "output_type": "display_data"
    },
    {
     "data": {
      "application/vnd.jupyter.widget-view+json": {
       "model_id": "3efb6160827c4fbcacfa57a58396da57",
       "version_major": 2,
       "version_minor": 0
      },
      "text/plain": [
       "Finding best initial lr:   0%|          | 0/100 [00:00<?, ?it/s]"
      ]
     },
     "metadata": {},
     "output_type": "display_data"
    },
    {
     "data": {
      "text/html": [
       "<pre style=\"white-space:pre;overflow-x:auto;line-height:normal;font-family:Menlo,'DejaVu Sans Mono',consolas,'Courier New',monospace\"><span style=\"color: #008080; text-decoration-color: #008080; font-weight: bold\">2025</span>-<span style=\"color: #008080; text-decoration-color: #008080; font-weight: bold\">02</span>-<span style=\"color: #008080; text-decoration-color: #008080; font-weight: bold\">26</span> <span style=\"color: #00ff00; text-decoration-color: #00ff00; font-weight: bold\">09:59:14</span>,<span style=\"color: #008080; text-decoration-color: #008080; font-weight: bold\">988</span> - <span style=\"font-weight: bold\">{</span>pytorch_tabular.tabular_model_tuner:<span style=\"color: #008080; text-decoration-color: #008080; font-weight: bold\">412</span><span style=\"font-weight: bold\">}</span> - INFO - Trial <span style=\"color: #008080; text-decoration-color: #008080; font-weight: bold\">24</span>/<span style=\"color: #008080; text-decoration-color: #008080; font-weight: bold\">27</span>: <span style=\"font-weight: bold\">{</span><span style=\"color: #008000; text-decoration-color: #008000\">'model'</span>:                \n",
       "<span style=\"color: #008000; text-decoration-color: #008000\">'0-FTTransformerConfig'</span>, <span style=\"color: #008000; text-decoration-color: #008000\">'model_config__input_embed_dim'</span>: <span style=\"color: #008080; text-decoration-color: #008080; font-weight: bold\">64</span>, <span style=\"color: #008000; text-decoration-color: #008000\">'model_config__num_heads'</span>: <span style=\"color: #008080; text-decoration-color: #008080; font-weight: bold\">8</span>,                        \n",
       "<span style=\"color: #008000; text-decoration-color: #008000\">'model_config__transformer_activation'</span>: <span style=\"color: #008000; text-decoration-color: #008000\">'LeakyReLU'</span>, <span style=\"color: #008000; text-decoration-color: #008000\">'loss_0'</span>: <span style=\"color: #008080; text-decoration-color: #008080; font-weight: bold\">0.5619188547134399</span>, <span style=\"color: #008000; text-decoration-color: #008000\">'loss'</span>: <span style=\"color: #008080; text-decoration-color: #008080; font-weight: bold\">0.5619188547134399</span>,     \n",
       "<span style=\"color: #008000; text-decoration-color: #008000\">'accuracy'</span>: <span style=\"color: #008080; text-decoration-color: #008080; font-weight: bold\">0.7733333110809326</span>, <span style=\"color: #008000; text-decoration-color: #008000\">'trial_id'</span>: <span style=\"color: #008080; text-decoration-color: #008080; font-weight: bold\">23</span><span style=\"font-weight: bold\">}</span> | Score: <span style=\"color: #008080; text-decoration-color: #008080; font-weight: bold\">0.7733333110809326</span>                                        \n",
       "</pre>\n"
      ],
      "text/plain": [
       "\u001b[1;36m2025\u001b[0m-\u001b[1;36m02\u001b[0m-\u001b[1;36m26\u001b[0m \u001b[1;92m09:59:14\u001b[0m,\u001b[1;36m988\u001b[0m - \u001b[1m{\u001b[0mpytorch_tabular.tabular_model_tuner:\u001b[1;36m412\u001b[0m\u001b[1m}\u001b[0m - INFO - Trial \u001b[1;36m24\u001b[0m/\u001b[1;36m27\u001b[0m: \u001b[1m{\u001b[0m\u001b[32m'model'\u001b[0m:                \n",
       "\u001b[32m'0-FTTransformerConfig'\u001b[0m, \u001b[32m'model_config__input_embed_dim'\u001b[0m: \u001b[1;36m64\u001b[0m, \u001b[32m'model_config__num_heads'\u001b[0m: \u001b[1;36m8\u001b[0m,                        \n",
       "\u001b[32m'model_config__transformer_activation'\u001b[0m: \u001b[32m'LeakyReLU'\u001b[0m, \u001b[32m'loss_0'\u001b[0m: \u001b[1;36m0.5619188547134399\u001b[0m, \u001b[32m'loss'\u001b[0m: \u001b[1;36m0.5619188547134399\u001b[0m,     \n",
       "\u001b[32m'accuracy'\u001b[0m: \u001b[1;36m0.7733333110809326\u001b[0m, \u001b[32m'trial_id'\u001b[0m: \u001b[1;36m23\u001b[0m\u001b[1m}\u001b[0m | Score: \u001b[1;36m0.7733333110809326\u001b[0m                                        \n"
      ]
     },
     "metadata": {},
     "output_type": "display_data"
    },
    {
     "data": {
      "application/vnd.jupyter.widget-view+json": {
       "model_id": "61e4296f8888418b9c65564cd8bcc3b6",
       "version_major": 2,
       "version_minor": 0
      },
      "text/plain": [
       "Finding best initial lr:   0%|          | 0/100 [00:00<?, ?it/s]"
      ]
     },
     "metadata": {},
     "output_type": "display_data"
    },
    {
     "data": {
      "text/html": [
       "<pre style=\"white-space:pre;overflow-x:auto;line-height:normal;font-family:Menlo,'DejaVu Sans Mono',consolas,'Courier New',monospace\"><span style=\"color: #008080; text-decoration-color: #008080; font-weight: bold\">2025</span>-<span style=\"color: #008080; text-decoration-color: #008080; font-weight: bold\">02</span>-<span style=\"color: #008080; text-decoration-color: #008080; font-weight: bold\">26</span> <span style=\"color: #00ff00; text-decoration-color: #00ff00; font-weight: bold\">09:59:46</span>,<span style=\"color: #008080; text-decoration-color: #008080; font-weight: bold\">425</span> - <span style=\"font-weight: bold\">{</span>pytorch_tabular.tabular_model_tuner:<span style=\"color: #008080; text-decoration-color: #008080; font-weight: bold\">412</span><span style=\"font-weight: bold\">}</span> - INFO - Trial <span style=\"color: #008080; text-decoration-color: #008080; font-weight: bold\">25</span>/<span style=\"color: #008080; text-decoration-color: #008080; font-weight: bold\">27</span>: <span style=\"font-weight: bold\">{</span><span style=\"color: #008000; text-decoration-color: #008000\">'model'</span>:                \n",
       "<span style=\"color: #008000; text-decoration-color: #008000\">'0-FTTransformerConfig'</span>, <span style=\"color: #008000; text-decoration-color: #008000\">'model_config__input_embed_dim'</span>: <span style=\"color: #008080; text-decoration-color: #008080; font-weight: bold\">64</span>, <span style=\"color: #008000; text-decoration-color: #008000\">'model_config__num_heads'</span>: <span style=\"color: #008080; text-decoration-color: #008080; font-weight: bold\">16</span>,                       \n",
       "<span style=\"color: #008000; text-decoration-color: #008000\">'model_config__transformer_activation'</span>: <span style=\"color: #008000; text-decoration-color: #008000\">'GEGLU'</span>, <span style=\"color: #008000; text-decoration-color: #008000\">'loss_0'</span>: <span style=\"color: #008080; text-decoration-color: #008080; font-weight: bold\">0.5930124521255493</span>, <span style=\"color: #008000; text-decoration-color: #008000\">'loss'</span>: <span style=\"color: #008080; text-decoration-color: #008080; font-weight: bold\">0.5930124521255493</span>,         \n",
       "<span style=\"color: #008000; text-decoration-color: #008000\">'accuracy'</span>: <span style=\"color: #008080; text-decoration-color: #008080; font-weight: bold\">0.7766666412353516</span>, <span style=\"color: #008000; text-decoration-color: #008000\">'trial_id'</span>: <span style=\"color: #008080; text-decoration-color: #008080; font-weight: bold\">24</span><span style=\"font-weight: bold\">}</span> | Score: <span style=\"color: #008080; text-decoration-color: #008080; font-weight: bold\">0.7766666412353516</span>                                        \n",
       "</pre>\n"
      ],
      "text/plain": [
       "\u001b[1;36m2025\u001b[0m-\u001b[1;36m02\u001b[0m-\u001b[1;36m26\u001b[0m \u001b[1;92m09:59:46\u001b[0m,\u001b[1;36m425\u001b[0m - \u001b[1m{\u001b[0mpytorch_tabular.tabular_model_tuner:\u001b[1;36m412\u001b[0m\u001b[1m}\u001b[0m - INFO - Trial \u001b[1;36m25\u001b[0m/\u001b[1;36m27\u001b[0m: \u001b[1m{\u001b[0m\u001b[32m'model'\u001b[0m:                \n",
       "\u001b[32m'0-FTTransformerConfig'\u001b[0m, \u001b[32m'model_config__input_embed_dim'\u001b[0m: \u001b[1;36m64\u001b[0m, \u001b[32m'model_config__num_heads'\u001b[0m: \u001b[1;36m16\u001b[0m,                       \n",
       "\u001b[32m'model_config__transformer_activation'\u001b[0m: \u001b[32m'GEGLU'\u001b[0m, \u001b[32m'loss_0'\u001b[0m: \u001b[1;36m0.5930124521255493\u001b[0m, \u001b[32m'loss'\u001b[0m: \u001b[1;36m0.5930124521255493\u001b[0m,         \n",
       "\u001b[32m'accuracy'\u001b[0m: \u001b[1;36m0.7766666412353516\u001b[0m, \u001b[32m'trial_id'\u001b[0m: \u001b[1;36m24\u001b[0m\u001b[1m}\u001b[0m | Score: \u001b[1;36m0.7766666412353516\u001b[0m                                        \n"
      ]
     },
     "metadata": {},
     "output_type": "display_data"
    },
    {
     "data": {
      "application/vnd.jupyter.widget-view+json": {
       "model_id": "bd8eed93e5614e9a93c49f9363f642f7",
       "version_major": 2,
       "version_minor": 0
      },
      "text/plain": [
       "Finding best initial lr:   0%|          | 0/100 [00:00<?, ?it/s]"
      ]
     },
     "metadata": {},
     "output_type": "display_data"
    },
    {
     "data": {
      "text/html": [
       "<pre style=\"white-space:pre;overflow-x:auto;line-height:normal;font-family:Menlo,'DejaVu Sans Mono',consolas,'Courier New',monospace\"><span style=\"color: #008080; text-decoration-color: #008080; font-weight: bold\">2025</span>-<span style=\"color: #008080; text-decoration-color: #008080; font-weight: bold\">02</span>-<span style=\"color: #008080; text-decoration-color: #008080; font-weight: bold\">26</span> <span style=\"color: #00ff00; text-decoration-color: #00ff00; font-weight: bold\">10:00:14</span>,<span style=\"color: #008080; text-decoration-color: #008080; font-weight: bold\">970</span> - <span style=\"font-weight: bold\">{</span>pytorch_tabular.tabular_model_tuner:<span style=\"color: #008080; text-decoration-color: #008080; font-weight: bold\">412</span><span style=\"font-weight: bold\">}</span> - INFO - Trial <span style=\"color: #008080; text-decoration-color: #008080; font-weight: bold\">26</span>/<span style=\"color: #008080; text-decoration-color: #008080; font-weight: bold\">27</span>: <span style=\"font-weight: bold\">{</span><span style=\"color: #008000; text-decoration-color: #008000\">'model'</span>:                \n",
       "<span style=\"color: #008000; text-decoration-color: #008000\">'0-FTTransformerConfig'</span>, <span style=\"color: #008000; text-decoration-color: #008000\">'model_config__input_embed_dim'</span>: <span style=\"color: #008080; text-decoration-color: #008080; font-weight: bold\">64</span>, <span style=\"color: #008000; text-decoration-color: #008000\">'model_config__num_heads'</span>: <span style=\"color: #008080; text-decoration-color: #008080; font-weight: bold\">16</span>,                       \n",
       "<span style=\"color: #008000; text-decoration-color: #008000\">'model_config__transformer_activation'</span>: <span style=\"color: #008000; text-decoration-color: #008000\">'ReLU'</span>, <span style=\"color: #008000; text-decoration-color: #008000\">'loss_0'</span>: <span style=\"color: #008080; text-decoration-color: #008080; font-weight: bold\">0.5522167682647705</span>, <span style=\"color: #008000; text-decoration-color: #008000\">'loss'</span>: <span style=\"color: #008080; text-decoration-color: #008080; font-weight: bold\">0.5522167682647705</span>,          \n",
       "<span style=\"color: #008000; text-decoration-color: #008000\">'accuracy'</span>: <span style=\"color: #008080; text-decoration-color: #008080; font-weight: bold\">0.7950000166893005</span>, <span style=\"color: #008000; text-decoration-color: #008000\">'trial_id'</span>: <span style=\"color: #008080; text-decoration-color: #008080; font-weight: bold\">25</span><span style=\"font-weight: bold\">}</span> | Score: <span style=\"color: #008080; text-decoration-color: #008080; font-weight: bold\">0.7950000166893005</span>                                        \n",
       "</pre>\n"
      ],
      "text/plain": [
       "\u001b[1;36m2025\u001b[0m-\u001b[1;36m02\u001b[0m-\u001b[1;36m26\u001b[0m \u001b[1;92m10:00:14\u001b[0m,\u001b[1;36m970\u001b[0m - \u001b[1m{\u001b[0mpytorch_tabular.tabular_model_tuner:\u001b[1;36m412\u001b[0m\u001b[1m}\u001b[0m - INFO - Trial \u001b[1;36m26\u001b[0m/\u001b[1;36m27\u001b[0m: \u001b[1m{\u001b[0m\u001b[32m'model'\u001b[0m:                \n",
       "\u001b[32m'0-FTTransformerConfig'\u001b[0m, \u001b[32m'model_config__input_embed_dim'\u001b[0m: \u001b[1;36m64\u001b[0m, \u001b[32m'model_config__num_heads'\u001b[0m: \u001b[1;36m16\u001b[0m,                       \n",
       "\u001b[32m'model_config__transformer_activation'\u001b[0m: \u001b[32m'ReLU'\u001b[0m, \u001b[32m'loss_0'\u001b[0m: \u001b[1;36m0.5522167682647705\u001b[0m, \u001b[32m'loss'\u001b[0m: \u001b[1;36m0.5522167682647705\u001b[0m,          \n",
       "\u001b[32m'accuracy'\u001b[0m: \u001b[1;36m0.7950000166893005\u001b[0m, \u001b[32m'trial_id'\u001b[0m: \u001b[1;36m25\u001b[0m\u001b[1m}\u001b[0m | Score: \u001b[1;36m0.7950000166893005\u001b[0m                                        \n"
      ]
     },
     "metadata": {},
     "output_type": "display_data"
    },
    {
     "data": {
      "application/vnd.jupyter.widget-view+json": {
       "model_id": "99ecaf2b136e408db00be77fe0925045",
       "version_major": 2,
       "version_minor": 0
      },
      "text/plain": [
       "Finding best initial lr:   0%|          | 0/100 [00:00<?, ?it/s]"
      ]
     },
     "metadata": {},
     "output_type": "display_data"
    },
    {
     "data": {
      "text/html": [
       "<pre style=\"white-space:pre;overflow-x:auto;line-height:normal;font-family:Menlo,'DejaVu Sans Mono',consolas,'Courier New',monospace\"><span style=\"color: #008080; text-decoration-color: #008080; font-weight: bold\">2025</span>-<span style=\"color: #008080; text-decoration-color: #008080; font-weight: bold\">02</span>-<span style=\"color: #008080; text-decoration-color: #008080; font-weight: bold\">26</span> <span style=\"color: #00ff00; text-decoration-color: #00ff00; font-weight: bold\">10:00:42</span>,<span style=\"color: #008080; text-decoration-color: #008080; font-weight: bold\">788</span> - <span style=\"font-weight: bold\">{</span>pytorch_tabular.tabular_model_tuner:<span style=\"color: #008080; text-decoration-color: #008080; font-weight: bold\">412</span><span style=\"font-weight: bold\">}</span> - INFO - Trial <span style=\"color: #008080; text-decoration-color: #008080; font-weight: bold\">27</span>/<span style=\"color: #008080; text-decoration-color: #008080; font-weight: bold\">27</span>: <span style=\"font-weight: bold\">{</span><span style=\"color: #008000; text-decoration-color: #008000\">'model'</span>:                \n",
       "<span style=\"color: #008000; text-decoration-color: #008000\">'0-FTTransformerConfig'</span>, <span style=\"color: #008000; text-decoration-color: #008000\">'model_config__input_embed_dim'</span>: <span style=\"color: #008080; text-decoration-color: #008080; font-weight: bold\">64</span>, <span style=\"color: #008000; text-decoration-color: #008000\">'model_config__num_heads'</span>: <span style=\"color: #008080; text-decoration-color: #008080; font-weight: bold\">16</span>,                       \n",
       "<span style=\"color: #008000; text-decoration-color: #008000\">'model_config__transformer_activation'</span>: <span style=\"color: #008000; text-decoration-color: #008000\">'LeakyReLU'</span>, <span style=\"color: #008000; text-decoration-color: #008000\">'loss_0'</span>: <span style=\"color: #008080; text-decoration-color: #008080; font-weight: bold\">0.5762237310409546</span>, <span style=\"color: #008000; text-decoration-color: #008000\">'loss'</span>: <span style=\"color: #008080; text-decoration-color: #008080; font-weight: bold\">0.5762237310409546</span>,     \n",
       "<span style=\"color: #008000; text-decoration-color: #008000\">'accuracy'</span>: <span style=\"color: #008080; text-decoration-color: #008080; font-weight: bold\">0.7799999713897705</span>, <span style=\"color: #008000; text-decoration-color: #008000\">'trial_id'</span>: <span style=\"color: #008080; text-decoration-color: #008080; font-weight: bold\">26</span><span style=\"font-weight: bold\">}</span> | Score: <span style=\"color: #008080; text-decoration-color: #008080; font-weight: bold\">0.7799999713897705</span>                                        \n",
       "</pre>\n"
      ],
      "text/plain": [
       "\u001b[1;36m2025\u001b[0m-\u001b[1;36m02\u001b[0m-\u001b[1;36m26\u001b[0m \u001b[1;92m10:00:42\u001b[0m,\u001b[1;36m788\u001b[0m - \u001b[1m{\u001b[0mpytorch_tabular.tabular_model_tuner:\u001b[1;36m412\u001b[0m\u001b[1m}\u001b[0m - INFO - Trial \u001b[1;36m27\u001b[0m/\u001b[1;36m27\u001b[0m: \u001b[1m{\u001b[0m\u001b[32m'model'\u001b[0m:                \n",
       "\u001b[32m'0-FTTransformerConfig'\u001b[0m, \u001b[32m'model_config__input_embed_dim'\u001b[0m: \u001b[1;36m64\u001b[0m, \u001b[32m'model_config__num_heads'\u001b[0m: \u001b[1;36m16\u001b[0m,                       \n",
       "\u001b[32m'model_config__transformer_activation'\u001b[0m: \u001b[32m'LeakyReLU'\u001b[0m, \u001b[32m'loss_0'\u001b[0m: \u001b[1;36m0.5762237310409546\u001b[0m, \u001b[32m'loss'\u001b[0m: \u001b[1;36m0.5762237310409546\u001b[0m,     \n",
       "\u001b[32m'accuracy'\u001b[0m: \u001b[1;36m0.7799999713897705\u001b[0m, \u001b[32m'trial_id'\u001b[0m: \u001b[1;36m26\u001b[0m\u001b[1m}\u001b[0m | Score: \u001b[1;36m0.7799999713897705\u001b[0m                                        \n"
      ]
     },
     "metadata": {},
     "output_type": "display_data"
    },
    {
     "data": {
      "application/vnd.jupyter.widget-view+json": {
       "model_id": "f8e1ebbceb724d41ae56cdd27de6b164",
       "version_major": 2,
       "version_minor": 0
      },
      "text/plain": [
       "Finding best initial lr:   0%|          | 0/100 [00:00<?, ?it/s]"
      ]
     },
     "metadata": {},
     "output_type": "display_data"
    },
    {
     "data": {
      "text/html": [
       "<pre style=\"white-space:pre;overflow-x:auto;line-height:normal;font-family:Menlo,'DejaVu Sans Mono',consolas,'Courier New',monospace\"><span style=\"color: #008080; text-decoration-color: #008080; font-weight: bold\">2025</span>-<span style=\"color: #008080; text-decoration-color: #008080; font-weight: bold\">02</span>-<span style=\"color: #008080; text-decoration-color: #008080; font-weight: bold\">26</span> <span style=\"color: #00ff00; text-decoration-color: #00ff00; font-weight: bold\">10:01:29</span>,<span style=\"color: #008080; text-decoration-color: #008080; font-weight: bold\">703</span> - <span style=\"font-weight: bold\">{</span>pytorch_tabular.tabular_model_tuner:<span style=\"color: #008080; text-decoration-color: #008080; font-weight: bold\">412</span><span style=\"font-weight: bold\">}</span> - INFO - Trial <span style=\"color: #008080; text-decoration-color: #008080; font-weight: bold\">1</span>/<span style=\"color: #008080; text-decoration-color: #008080; font-weight: bold\">54</span>: <span style=\"font-weight: bold\">{</span><span style=\"color: #008000; text-decoration-color: #008000\">'model'</span>: <span style=\"color: #008000; text-decoration-color: #008000\">'1-DANetConfig'</span>,\n",
       "<span style=\"color: #008000; text-decoration-color: #008000\">'model_config__abstlay_dim_1'</span>: <span style=\"color: #008080; text-decoration-color: #008080; font-weight: bold\">16</span>, <span style=\"color: #008000; text-decoration-color: #008000\">'model_config__abstlay_dim_2'</span>: <span style=\"color: #008080; text-decoration-color: #008080; font-weight: bold\">32</span>, <span style=\"color: #008000; text-decoration-color: #008000\">'model_config__n_layers'</span>: <span style=\"color: #008080; text-decoration-color: #008080; font-weight: bold\">4</span>,                 \n",
       "<span style=\"color: #008000; text-decoration-color: #008000\">'optimizer_config__optimizer'</span>: <span style=\"color: #008000; text-decoration-color: #008000\">'Adam'</span>, <span style=\"color: #008000; text-decoration-color: #008000\">'loss_0'</span>: <span style=\"color: #008080; text-decoration-color: #008080; font-weight: bold\">0.5924443006515503</span>, <span style=\"color: #008000; text-decoration-color: #008000\">'loss'</span>: <span style=\"color: #008080; text-decoration-color: #008080; font-weight: bold\">0.5924443006515503</span>, <span style=\"color: #008000; text-decoration-color: #008000\">'accuracy'</span>:       \n",
       "<span style=\"color: #008080; text-decoration-color: #008080; font-weight: bold\">0.7933333516120911</span>, <span style=\"color: #008000; text-decoration-color: #008000\">'trial_id'</span>: <span style=\"color: #008080; text-decoration-color: #008080; font-weight: bold\">0</span><span style=\"font-weight: bold\">}</span> | Score: <span style=\"color: #008080; text-decoration-color: #008080; font-weight: bold\">0.7933333516120911</span>                                                     \n",
       "</pre>\n"
      ],
      "text/plain": [
       "\u001b[1;36m2025\u001b[0m-\u001b[1;36m02\u001b[0m-\u001b[1;36m26\u001b[0m \u001b[1;92m10:01:29\u001b[0m,\u001b[1;36m703\u001b[0m - \u001b[1m{\u001b[0mpytorch_tabular.tabular_model_tuner:\u001b[1;36m412\u001b[0m\u001b[1m}\u001b[0m - INFO - Trial \u001b[1;36m1\u001b[0m/\u001b[1;36m54\u001b[0m: \u001b[1m{\u001b[0m\u001b[32m'model'\u001b[0m: \u001b[32m'1-DANetConfig'\u001b[0m,\n",
       "\u001b[32m'model_config__abstlay_dim_1'\u001b[0m: \u001b[1;36m16\u001b[0m, \u001b[32m'model_config__abstlay_dim_2'\u001b[0m: \u001b[1;36m32\u001b[0m, \u001b[32m'model_config__n_layers'\u001b[0m: \u001b[1;36m4\u001b[0m,                 \n",
       "\u001b[32m'optimizer_config__optimizer'\u001b[0m: \u001b[32m'Adam'\u001b[0m, \u001b[32m'loss_0'\u001b[0m: \u001b[1;36m0.5924443006515503\u001b[0m, \u001b[32m'loss'\u001b[0m: \u001b[1;36m0.5924443006515503\u001b[0m, \u001b[32m'accuracy'\u001b[0m:       \n",
       "\u001b[1;36m0.7933333516120911\u001b[0m, \u001b[32m'trial_id'\u001b[0m: \u001b[1;36m0\u001b[0m\u001b[1m}\u001b[0m | Score: \u001b[1;36m0.7933333516120911\u001b[0m                                                     \n"
      ]
     },
     "metadata": {},
     "output_type": "display_data"
    },
    {
     "data": {
      "application/vnd.jupyter.widget-view+json": {
       "model_id": "f39591f52d0d421ab280aa8b46821d4b",
       "version_major": 2,
       "version_minor": 0
      },
      "text/plain": [
       "Finding best initial lr:   0%|          | 0/100 [00:00<?, ?it/s]"
      ]
     },
     "metadata": {},
     "output_type": "display_data"
    },
    {
     "data": {
      "text/html": [
       "<pre style=\"white-space:pre;overflow-x:auto;line-height:normal;font-family:Menlo,'DejaVu Sans Mono',consolas,'Courier New',monospace\"><span style=\"color: #008080; text-decoration-color: #008080; font-weight: bold\">2025</span>-<span style=\"color: #008080; text-decoration-color: #008080; font-weight: bold\">02</span>-<span style=\"color: #008080; text-decoration-color: #008080; font-weight: bold\">26</span> <span style=\"color: #00ff00; text-decoration-color: #00ff00; font-weight: bold\">10:02:05</span>,<span style=\"color: #008080; text-decoration-color: #008080; font-weight: bold\">014</span> - <span style=\"font-weight: bold\">{</span>pytorch_tabular.tabular_model_tuner:<span style=\"color: #008080; text-decoration-color: #008080; font-weight: bold\">412</span><span style=\"font-weight: bold\">}</span> - INFO - Trial <span style=\"color: #008080; text-decoration-color: #008080; font-weight: bold\">2</span>/<span style=\"color: #008080; text-decoration-color: #008080; font-weight: bold\">54</span>: <span style=\"font-weight: bold\">{</span><span style=\"color: #008000; text-decoration-color: #008000\">'model'</span>: <span style=\"color: #008000; text-decoration-color: #008000\">'1-DANetConfig'</span>,\n",
       "<span style=\"color: #008000; text-decoration-color: #008000\">'model_config__abstlay_dim_1'</span>: <span style=\"color: #008080; text-decoration-color: #008080; font-weight: bold\">16</span>, <span style=\"color: #008000; text-decoration-color: #008000\">'model_config__abstlay_dim_2'</span>: <span style=\"color: #008080; text-decoration-color: #008080; font-weight: bold\">32</span>, <span style=\"color: #008000; text-decoration-color: #008000\">'model_config__n_layers'</span>: <span style=\"color: #008080; text-decoration-color: #008080; font-weight: bold\">4</span>,                 \n",
       "<span style=\"color: #008000; text-decoration-color: #008000\">'optimizer_config__optimizer'</span>: <span style=\"color: #008000; text-decoration-color: #008000\">'AdamW'</span>, <span style=\"color: #008000; text-decoration-color: #008000\">'loss_0'</span>: <span style=\"color: #008080; text-decoration-color: #008080; font-weight: bold\">0.5493144392967224</span>, <span style=\"color: #008000; text-decoration-color: #008000\">'loss'</span>: <span style=\"color: #008080; text-decoration-color: #008080; font-weight: bold\">0.5493144392967224</span>, <span style=\"color: #008000; text-decoration-color: #008000\">'accuracy'</span>:      \n",
       "<span style=\"color: #008080; text-decoration-color: #008080; font-weight: bold\">0.7833333611488342</span>, <span style=\"color: #008000; text-decoration-color: #008000\">'trial_id'</span>: <span style=\"color: #008080; text-decoration-color: #008080; font-weight: bold\">1</span><span style=\"font-weight: bold\">}</span> | Score: <span style=\"color: #008080; text-decoration-color: #008080; font-weight: bold\">0.7833333611488342</span>                                                     \n",
       "</pre>\n"
      ],
      "text/plain": [
       "\u001b[1;36m2025\u001b[0m-\u001b[1;36m02\u001b[0m-\u001b[1;36m26\u001b[0m \u001b[1;92m10:02:05\u001b[0m,\u001b[1;36m014\u001b[0m - \u001b[1m{\u001b[0mpytorch_tabular.tabular_model_tuner:\u001b[1;36m412\u001b[0m\u001b[1m}\u001b[0m - INFO - Trial \u001b[1;36m2\u001b[0m/\u001b[1;36m54\u001b[0m: \u001b[1m{\u001b[0m\u001b[32m'model'\u001b[0m: \u001b[32m'1-DANetConfig'\u001b[0m,\n",
       "\u001b[32m'model_config__abstlay_dim_1'\u001b[0m: \u001b[1;36m16\u001b[0m, \u001b[32m'model_config__abstlay_dim_2'\u001b[0m: \u001b[1;36m32\u001b[0m, \u001b[32m'model_config__n_layers'\u001b[0m: \u001b[1;36m4\u001b[0m,                 \n",
       "\u001b[32m'optimizer_config__optimizer'\u001b[0m: \u001b[32m'AdamW'\u001b[0m, \u001b[32m'loss_0'\u001b[0m: \u001b[1;36m0.5493144392967224\u001b[0m, \u001b[32m'loss'\u001b[0m: \u001b[1;36m0.5493144392967224\u001b[0m, \u001b[32m'accuracy'\u001b[0m:      \n",
       "\u001b[1;36m0.7833333611488342\u001b[0m, \u001b[32m'trial_id'\u001b[0m: \u001b[1;36m1\u001b[0m\u001b[1m}\u001b[0m | Score: \u001b[1;36m0.7833333611488342\u001b[0m                                                     \n"
      ]
     },
     "metadata": {},
     "output_type": "display_data"
    },
    {
     "data": {
      "application/vnd.jupyter.widget-view+json": {
       "model_id": "6641c7f69602468092c4679accaf7587",
       "version_major": 2,
       "version_minor": 0
      },
      "text/plain": [
       "Finding best initial lr:   0%|          | 0/100 [00:00<?, ?it/s]"
      ]
     },
     "metadata": {},
     "output_type": "display_data"
    },
    {
     "data": {
      "text/html": [
       "<pre style=\"white-space:pre;overflow-x:auto;line-height:normal;font-family:Menlo,'DejaVu Sans Mono',consolas,'Courier New',monospace\"><span style=\"color: #008080; text-decoration-color: #008080; font-weight: bold\">2025</span>-<span style=\"color: #008080; text-decoration-color: #008080; font-weight: bold\">02</span>-<span style=\"color: #008080; text-decoration-color: #008080; font-weight: bold\">26</span> <span style=\"color: #00ff00; text-decoration-color: #00ff00; font-weight: bold\">10:03:00</span>,<span style=\"color: #008080; text-decoration-color: #008080; font-weight: bold\">122</span> - <span style=\"font-weight: bold\">{</span>pytorch_tabular.tabular_model_tuner:<span style=\"color: #008080; text-decoration-color: #008080; font-weight: bold\">412</span><span style=\"font-weight: bold\">}</span> - INFO - Trial <span style=\"color: #008080; text-decoration-color: #008080; font-weight: bold\">3</span>/<span style=\"color: #008080; text-decoration-color: #008080; font-weight: bold\">54</span>: <span style=\"font-weight: bold\">{</span><span style=\"color: #008000; text-decoration-color: #008000\">'model'</span>: <span style=\"color: #008000; text-decoration-color: #008000\">'1-DANetConfig'</span>,\n",
       "<span style=\"color: #008000; text-decoration-color: #008000\">'model_config__abstlay_dim_1'</span>: <span style=\"color: #008080; text-decoration-color: #008080; font-weight: bold\">16</span>, <span style=\"color: #008000; text-decoration-color: #008000\">'model_config__abstlay_dim_2'</span>: <span style=\"color: #008080; text-decoration-color: #008080; font-weight: bold\">32</span>, <span style=\"color: #008000; text-decoration-color: #008000\">'model_config__n_layers'</span>: <span style=\"color: #008080; text-decoration-color: #008080; font-weight: bold\">8</span>,                 \n",
       "<span style=\"color: #008000; text-decoration-color: #008000\">'optimizer_config__optimizer'</span>: <span style=\"color: #008000; text-decoration-color: #008000\">'Adam'</span>, <span style=\"color: #008000; text-decoration-color: #008000\">'loss_0'</span>: <span style=\"color: #008080; text-decoration-color: #008080; font-weight: bold\">0.5994921326637268</span>, <span style=\"color: #008000; text-decoration-color: #008000\">'loss'</span>: <span style=\"color: #008080; text-decoration-color: #008080; font-weight: bold\">0.5994921326637268</span>, <span style=\"color: #008000; text-decoration-color: #008000\">'accuracy'</span>:       \n",
       "<span style=\"color: #008080; text-decoration-color: #008080; font-weight: bold\">0.7850000262260437</span>, <span style=\"color: #008000; text-decoration-color: #008000\">'trial_id'</span>: <span style=\"color: #008080; text-decoration-color: #008080; font-weight: bold\">2</span><span style=\"font-weight: bold\">}</span> | Score: <span style=\"color: #008080; text-decoration-color: #008080; font-weight: bold\">0.7850000262260437</span>                                                     \n",
       "</pre>\n"
      ],
      "text/plain": [
       "\u001b[1;36m2025\u001b[0m-\u001b[1;36m02\u001b[0m-\u001b[1;36m26\u001b[0m \u001b[1;92m10:03:00\u001b[0m,\u001b[1;36m122\u001b[0m - \u001b[1m{\u001b[0mpytorch_tabular.tabular_model_tuner:\u001b[1;36m412\u001b[0m\u001b[1m}\u001b[0m - INFO - Trial \u001b[1;36m3\u001b[0m/\u001b[1;36m54\u001b[0m: \u001b[1m{\u001b[0m\u001b[32m'model'\u001b[0m: \u001b[32m'1-DANetConfig'\u001b[0m,\n",
       "\u001b[32m'model_config__abstlay_dim_1'\u001b[0m: \u001b[1;36m16\u001b[0m, \u001b[32m'model_config__abstlay_dim_2'\u001b[0m: \u001b[1;36m32\u001b[0m, \u001b[32m'model_config__n_layers'\u001b[0m: \u001b[1;36m8\u001b[0m,                 \n",
       "\u001b[32m'optimizer_config__optimizer'\u001b[0m: \u001b[32m'Adam'\u001b[0m, \u001b[32m'loss_0'\u001b[0m: \u001b[1;36m0.5994921326637268\u001b[0m, \u001b[32m'loss'\u001b[0m: \u001b[1;36m0.5994921326637268\u001b[0m, \u001b[32m'accuracy'\u001b[0m:       \n",
       "\u001b[1;36m0.7850000262260437\u001b[0m, \u001b[32m'trial_id'\u001b[0m: \u001b[1;36m2\u001b[0m\u001b[1m}\u001b[0m | Score: \u001b[1;36m0.7850000262260437\u001b[0m                                                     \n"
      ]
     },
     "metadata": {},
     "output_type": "display_data"
    },
    {
     "data": {
      "application/vnd.jupyter.widget-view+json": {
       "model_id": "17329e6ef55d412ab4dfdbdb7a70e889",
       "version_major": 2,
       "version_minor": 0
      },
      "text/plain": [
       "Finding best initial lr:   0%|          | 0/100 [00:00<?, ?it/s]"
      ]
     },
     "metadata": {},
     "output_type": "display_data"
    },
    {
     "data": {
      "text/html": [
       "<pre style=\"white-space:pre;overflow-x:auto;line-height:normal;font-family:Menlo,'DejaVu Sans Mono',consolas,'Courier New',monospace\"><span style=\"color: #008080; text-decoration-color: #008080; font-weight: bold\">2025</span>-<span style=\"color: #008080; text-decoration-color: #008080; font-weight: bold\">02</span>-<span style=\"color: #008080; text-decoration-color: #008080; font-weight: bold\">26</span> <span style=\"color: #00ff00; text-decoration-color: #00ff00; font-weight: bold\">10:03:52</span>,<span style=\"color: #008080; text-decoration-color: #008080; font-weight: bold\">317</span> - <span style=\"font-weight: bold\">{</span>pytorch_tabular.tabular_model_tuner:<span style=\"color: #008080; text-decoration-color: #008080; font-weight: bold\">412</span><span style=\"font-weight: bold\">}</span> - INFO - Trial <span style=\"color: #008080; text-decoration-color: #008080; font-weight: bold\">4</span>/<span style=\"color: #008080; text-decoration-color: #008080; font-weight: bold\">54</span>: <span style=\"font-weight: bold\">{</span><span style=\"color: #008000; text-decoration-color: #008000\">'model'</span>: <span style=\"color: #008000; text-decoration-color: #008000\">'1-DANetConfig'</span>,\n",
       "<span style=\"color: #008000; text-decoration-color: #008000\">'model_config__abstlay_dim_1'</span>: <span style=\"color: #008080; text-decoration-color: #008080; font-weight: bold\">16</span>, <span style=\"color: #008000; text-decoration-color: #008000\">'model_config__abstlay_dim_2'</span>: <span style=\"color: #008080; text-decoration-color: #008080; font-weight: bold\">32</span>, <span style=\"color: #008000; text-decoration-color: #008000\">'model_config__n_layers'</span>: <span style=\"color: #008080; text-decoration-color: #008080; font-weight: bold\">8</span>,                 \n",
       "<span style=\"color: #008000; text-decoration-color: #008000\">'optimizer_config__optimizer'</span>: <span style=\"color: #008000; text-decoration-color: #008000\">'AdamW'</span>, <span style=\"color: #008000; text-decoration-color: #008000\">'loss_0'</span>: <span style=\"color: #008080; text-decoration-color: #008080; font-weight: bold\">0.5623465776443481</span>, <span style=\"color: #008000; text-decoration-color: #008000\">'loss'</span>: <span style=\"color: #008080; text-decoration-color: #008080; font-weight: bold\">0.5623465776443481</span>, <span style=\"color: #008000; text-decoration-color: #008000\">'accuracy'</span>:      \n",
       "<span style=\"color: #008080; text-decoration-color: #008080; font-weight: bold\">0.7816666960716248</span>, <span style=\"color: #008000; text-decoration-color: #008000\">'trial_id'</span>: <span style=\"color: #008080; text-decoration-color: #008080; font-weight: bold\">3</span><span style=\"font-weight: bold\">}</span> | Score: <span style=\"color: #008080; text-decoration-color: #008080; font-weight: bold\">0.7816666960716248</span>                                                     \n",
       "</pre>\n"
      ],
      "text/plain": [
       "\u001b[1;36m2025\u001b[0m-\u001b[1;36m02\u001b[0m-\u001b[1;36m26\u001b[0m \u001b[1;92m10:03:52\u001b[0m,\u001b[1;36m317\u001b[0m - \u001b[1m{\u001b[0mpytorch_tabular.tabular_model_tuner:\u001b[1;36m412\u001b[0m\u001b[1m}\u001b[0m - INFO - Trial \u001b[1;36m4\u001b[0m/\u001b[1;36m54\u001b[0m: \u001b[1m{\u001b[0m\u001b[32m'model'\u001b[0m: \u001b[32m'1-DANetConfig'\u001b[0m,\n",
       "\u001b[32m'model_config__abstlay_dim_1'\u001b[0m: \u001b[1;36m16\u001b[0m, \u001b[32m'model_config__abstlay_dim_2'\u001b[0m: \u001b[1;36m32\u001b[0m, \u001b[32m'model_config__n_layers'\u001b[0m: \u001b[1;36m8\u001b[0m,                 \n",
       "\u001b[32m'optimizer_config__optimizer'\u001b[0m: \u001b[32m'AdamW'\u001b[0m, \u001b[32m'loss_0'\u001b[0m: \u001b[1;36m0.5623465776443481\u001b[0m, \u001b[32m'loss'\u001b[0m: \u001b[1;36m0.5623465776443481\u001b[0m, \u001b[32m'accuracy'\u001b[0m:      \n",
       "\u001b[1;36m0.7816666960716248\u001b[0m, \u001b[32m'trial_id'\u001b[0m: \u001b[1;36m3\u001b[0m\u001b[1m}\u001b[0m | Score: \u001b[1;36m0.7816666960716248\u001b[0m                                                     \n"
      ]
     },
     "metadata": {},
     "output_type": "display_data"
    },
    {
     "data": {
      "application/vnd.jupyter.widget-view+json": {
       "model_id": "1065699236dc4cec835c5b831a2a47aa",
       "version_major": 2,
       "version_minor": 0
      },
      "text/plain": [
       "Finding best initial lr:   0%|          | 0/100 [00:00<?, ?it/s]"
      ]
     },
     "metadata": {},
     "output_type": "display_data"
    },
    {
     "data": {
      "text/html": [
       "<pre style=\"white-space:pre;overflow-x:auto;line-height:normal;font-family:Menlo,'DejaVu Sans Mono',consolas,'Courier New',monospace\"><span style=\"color: #008080; text-decoration-color: #008080; font-weight: bold\">2025</span>-<span style=\"color: #008080; text-decoration-color: #008080; font-weight: bold\">02</span>-<span style=\"color: #008080; text-decoration-color: #008080; font-weight: bold\">26</span> <span style=\"color: #00ff00; text-decoration-color: #00ff00; font-weight: bold\">10:05:29</span>,<span style=\"color: #008080; text-decoration-color: #008080; font-weight: bold\">939</span> - <span style=\"font-weight: bold\">{</span>pytorch_tabular.tabular_model_tuner:<span style=\"color: #008080; text-decoration-color: #008080; font-weight: bold\">412</span><span style=\"font-weight: bold\">}</span> - INFO - Trial <span style=\"color: #008080; text-decoration-color: #008080; font-weight: bold\">5</span>/<span style=\"color: #008080; text-decoration-color: #008080; font-weight: bold\">54</span>: <span style=\"font-weight: bold\">{</span><span style=\"color: #008000; text-decoration-color: #008000\">'model'</span>: <span style=\"color: #008000; text-decoration-color: #008000\">'1-DANetConfig'</span>,\n",
       "<span style=\"color: #008000; text-decoration-color: #008000\">'model_config__abstlay_dim_1'</span>: <span style=\"color: #008080; text-decoration-color: #008080; font-weight: bold\">16</span>, <span style=\"color: #008000; text-decoration-color: #008000\">'model_config__abstlay_dim_2'</span>: <span style=\"color: #008080; text-decoration-color: #008080; font-weight: bold\">32</span>, <span style=\"color: #008000; text-decoration-color: #008000\">'model_config__n_layers'</span>: <span style=\"color: #008080; text-decoration-color: #008080; font-weight: bold\">16</span>,                \n",
       "<span style=\"color: #008000; text-decoration-color: #008000\">'optimizer_config__optimizer'</span>: <span style=\"color: #008000; text-decoration-color: #008000\">'Adam'</span>, <span style=\"color: #008000; text-decoration-color: #008000\">'loss_0'</span>: <span style=\"color: #008080; text-decoration-color: #008080; font-weight: bold\">0.5574001669883728</span>, <span style=\"color: #008000; text-decoration-color: #008000\">'loss'</span>: <span style=\"color: #008080; text-decoration-color: #008080; font-weight: bold\">0.5574001669883728</span>, <span style=\"color: #008000; text-decoration-color: #008000\">'accuracy'</span>:       \n",
       "<span style=\"color: #008080; text-decoration-color: #008080; font-weight: bold\">0.7816666960716248</span>, <span style=\"color: #008000; text-decoration-color: #008000\">'trial_id'</span>: <span style=\"color: #008080; text-decoration-color: #008080; font-weight: bold\">4</span><span style=\"font-weight: bold\">}</span> | Score: <span style=\"color: #008080; text-decoration-color: #008080; font-weight: bold\">0.7816666960716248</span>                                                     \n",
       "</pre>\n"
      ],
      "text/plain": [
       "\u001b[1;36m2025\u001b[0m-\u001b[1;36m02\u001b[0m-\u001b[1;36m26\u001b[0m \u001b[1;92m10:05:29\u001b[0m,\u001b[1;36m939\u001b[0m - \u001b[1m{\u001b[0mpytorch_tabular.tabular_model_tuner:\u001b[1;36m412\u001b[0m\u001b[1m}\u001b[0m - INFO - Trial \u001b[1;36m5\u001b[0m/\u001b[1;36m54\u001b[0m: \u001b[1m{\u001b[0m\u001b[32m'model'\u001b[0m: \u001b[32m'1-DANetConfig'\u001b[0m,\n",
       "\u001b[32m'model_config__abstlay_dim_1'\u001b[0m: \u001b[1;36m16\u001b[0m, \u001b[32m'model_config__abstlay_dim_2'\u001b[0m: \u001b[1;36m32\u001b[0m, \u001b[32m'model_config__n_layers'\u001b[0m: \u001b[1;36m16\u001b[0m,                \n",
       "\u001b[32m'optimizer_config__optimizer'\u001b[0m: \u001b[32m'Adam'\u001b[0m, \u001b[32m'loss_0'\u001b[0m: \u001b[1;36m0.5574001669883728\u001b[0m, \u001b[32m'loss'\u001b[0m: \u001b[1;36m0.5574001669883728\u001b[0m, \u001b[32m'accuracy'\u001b[0m:       \n",
       "\u001b[1;36m0.7816666960716248\u001b[0m, \u001b[32m'trial_id'\u001b[0m: \u001b[1;36m4\u001b[0m\u001b[1m}\u001b[0m | Score: \u001b[1;36m0.7816666960716248\u001b[0m                                                     \n"
      ]
     },
     "metadata": {},
     "output_type": "display_data"
    },
    {
     "data": {
      "application/vnd.jupyter.widget-view+json": {
       "model_id": "02825f9b8b02407fac0bed29acbe5c4b",
       "version_major": 2,
       "version_minor": 0
      },
      "text/plain": [
       "Finding best initial lr:   0%|          | 0/100 [00:00<?, ?it/s]"
      ]
     },
     "metadata": {},
     "output_type": "display_data"
    },
    {
     "data": {
      "text/html": [
       "<pre style=\"white-space:pre;overflow-x:auto;line-height:normal;font-family:Menlo,'DejaVu Sans Mono',consolas,'Courier New',monospace\"><span style=\"color: #008080; text-decoration-color: #008080; font-weight: bold\">2025</span>-<span style=\"color: #008080; text-decoration-color: #008080; font-weight: bold\">02</span>-<span style=\"color: #008080; text-decoration-color: #008080; font-weight: bold\">26</span> <span style=\"color: #00ff00; text-decoration-color: #00ff00; font-weight: bold\">10:07:16</span>,<span style=\"color: #008080; text-decoration-color: #008080; font-weight: bold\">423</span> - <span style=\"font-weight: bold\">{</span>pytorch_tabular.tabular_model_tuner:<span style=\"color: #008080; text-decoration-color: #008080; font-weight: bold\">412</span><span style=\"font-weight: bold\">}</span> - INFO - Trial <span style=\"color: #008080; text-decoration-color: #008080; font-weight: bold\">6</span>/<span style=\"color: #008080; text-decoration-color: #008080; font-weight: bold\">54</span>: <span style=\"font-weight: bold\">{</span><span style=\"color: #008000; text-decoration-color: #008000\">'model'</span>: <span style=\"color: #008000; text-decoration-color: #008000\">'1-DANetConfig'</span>,\n",
       "<span style=\"color: #008000; text-decoration-color: #008000\">'model_config__abstlay_dim_1'</span>: <span style=\"color: #008080; text-decoration-color: #008080; font-weight: bold\">16</span>, <span style=\"color: #008000; text-decoration-color: #008000\">'model_config__abstlay_dim_2'</span>: <span style=\"color: #008080; text-decoration-color: #008080; font-weight: bold\">32</span>, <span style=\"color: #008000; text-decoration-color: #008000\">'model_config__n_layers'</span>: <span style=\"color: #008080; text-decoration-color: #008080; font-weight: bold\">16</span>,                \n",
       "<span style=\"color: #008000; text-decoration-color: #008000\">'optimizer_config__optimizer'</span>: <span style=\"color: #008000; text-decoration-color: #008000\">'AdamW'</span>, <span style=\"color: #008000; text-decoration-color: #008000\">'loss_0'</span>: <span style=\"color: #008080; text-decoration-color: #008080; font-weight: bold\">0.5939121842384338</span>, <span style=\"color: #008000; text-decoration-color: #008000\">'loss'</span>: <span style=\"color: #008080; text-decoration-color: #008080; font-weight: bold\">0.5939121842384338</span>, <span style=\"color: #008000; text-decoration-color: #008000\">'accuracy'</span>:      \n",
       "<span style=\"color: #008080; text-decoration-color: #008080; font-weight: bold\">0.7866666913032532</span>, <span style=\"color: #008000; text-decoration-color: #008000\">'trial_id'</span>: <span style=\"color: #008080; text-decoration-color: #008080; font-weight: bold\">5</span><span style=\"font-weight: bold\">}</span> | Score: <span style=\"color: #008080; text-decoration-color: #008080; font-weight: bold\">0.7866666913032532</span>                                                     \n",
       "</pre>\n"
      ],
      "text/plain": [
       "\u001b[1;36m2025\u001b[0m-\u001b[1;36m02\u001b[0m-\u001b[1;36m26\u001b[0m \u001b[1;92m10:07:16\u001b[0m,\u001b[1;36m423\u001b[0m - \u001b[1m{\u001b[0mpytorch_tabular.tabular_model_tuner:\u001b[1;36m412\u001b[0m\u001b[1m}\u001b[0m - INFO - Trial \u001b[1;36m6\u001b[0m/\u001b[1;36m54\u001b[0m: \u001b[1m{\u001b[0m\u001b[32m'model'\u001b[0m: \u001b[32m'1-DANetConfig'\u001b[0m,\n",
       "\u001b[32m'model_config__abstlay_dim_1'\u001b[0m: \u001b[1;36m16\u001b[0m, \u001b[32m'model_config__abstlay_dim_2'\u001b[0m: \u001b[1;36m32\u001b[0m, \u001b[32m'model_config__n_layers'\u001b[0m: \u001b[1;36m16\u001b[0m,                \n",
       "\u001b[32m'optimizer_config__optimizer'\u001b[0m: \u001b[32m'AdamW'\u001b[0m, \u001b[32m'loss_0'\u001b[0m: \u001b[1;36m0.5939121842384338\u001b[0m, \u001b[32m'loss'\u001b[0m: \u001b[1;36m0.5939121842384338\u001b[0m, \u001b[32m'accuracy'\u001b[0m:      \n",
       "\u001b[1;36m0.7866666913032532\u001b[0m, \u001b[32m'trial_id'\u001b[0m: \u001b[1;36m5\u001b[0m\u001b[1m}\u001b[0m | Score: \u001b[1;36m0.7866666913032532\u001b[0m                                                     \n"
      ]
     },
     "metadata": {},
     "output_type": "display_data"
    },
    {
     "data": {
      "application/vnd.jupyter.widget-view+json": {
       "model_id": "e3abe5ccd9d04320912ed70031093360",
       "version_major": 2,
       "version_minor": 0
      },
      "text/plain": [
       "Finding best initial lr:   0%|          | 0/100 [00:00<?, ?it/s]"
      ]
     },
     "metadata": {},
     "output_type": "display_data"
    },
    {
     "data": {
      "text/html": [
       "<pre style=\"white-space:pre;overflow-x:auto;line-height:normal;font-family:Menlo,'DejaVu Sans Mono',consolas,'Courier New',monospace\"><span style=\"color: #008080; text-decoration-color: #008080; font-weight: bold\">2025</span>-<span style=\"color: #008080; text-decoration-color: #008080; font-weight: bold\">02</span>-<span style=\"color: #008080; text-decoration-color: #008080; font-weight: bold\">26</span> <span style=\"color: #00ff00; text-decoration-color: #00ff00; font-weight: bold\">10:07:51</span>,<span style=\"color: #008080; text-decoration-color: #008080; font-weight: bold\">946</span> - <span style=\"font-weight: bold\">{</span>pytorch_tabular.tabular_model_tuner:<span style=\"color: #008080; text-decoration-color: #008080; font-weight: bold\">412</span><span style=\"font-weight: bold\">}</span> - INFO - Trial <span style=\"color: #008080; text-decoration-color: #008080; font-weight: bold\">7</span>/<span style=\"color: #008080; text-decoration-color: #008080; font-weight: bold\">54</span>: <span style=\"font-weight: bold\">{</span><span style=\"color: #008000; text-decoration-color: #008000\">'model'</span>: <span style=\"color: #008000; text-decoration-color: #008000\">'1-DANetConfig'</span>,\n",
       "<span style=\"color: #008000; text-decoration-color: #008000\">'model_config__abstlay_dim_1'</span>: <span style=\"color: #008080; text-decoration-color: #008080; font-weight: bold\">16</span>, <span style=\"color: #008000; text-decoration-color: #008000\">'model_config__abstlay_dim_2'</span>: <span style=\"color: #008080; text-decoration-color: #008080; font-weight: bold\">64</span>, <span style=\"color: #008000; text-decoration-color: #008000\">'model_config__n_layers'</span>: <span style=\"color: #008080; text-decoration-color: #008080; font-weight: bold\">4</span>,                 \n",
       "<span style=\"color: #008000; text-decoration-color: #008000\">'optimizer_config__optimizer'</span>: <span style=\"color: #008000; text-decoration-color: #008000\">'Adam'</span>, <span style=\"color: #008000; text-decoration-color: #008000\">'loss_0'</span>: <span style=\"color: #008080; text-decoration-color: #008080; font-weight: bold\">1.6252514123916626</span>, <span style=\"color: #008000; text-decoration-color: #008000\">'loss'</span>: <span style=\"color: #008080; text-decoration-color: #008080; font-weight: bold\">1.6252514123916626</span>, <span style=\"color: #008000; text-decoration-color: #008000\">'accuracy'</span>:       \n",
       "<span style=\"color: #008080; text-decoration-color: #008080; font-weight: bold\">0.22166666388511658</span>, <span style=\"color: #008000; text-decoration-color: #008000\">'trial_id'</span>: <span style=\"color: #008080; text-decoration-color: #008080; font-weight: bold\">6</span><span style=\"font-weight: bold\">}</span> | Score: <span style=\"color: #008080; text-decoration-color: #008080; font-weight: bold\">0.22166666388511658</span>                                                   \n",
       "</pre>\n"
      ],
      "text/plain": [
       "\u001b[1;36m2025\u001b[0m-\u001b[1;36m02\u001b[0m-\u001b[1;36m26\u001b[0m \u001b[1;92m10:07:51\u001b[0m,\u001b[1;36m946\u001b[0m - \u001b[1m{\u001b[0mpytorch_tabular.tabular_model_tuner:\u001b[1;36m412\u001b[0m\u001b[1m}\u001b[0m - INFO - Trial \u001b[1;36m7\u001b[0m/\u001b[1;36m54\u001b[0m: \u001b[1m{\u001b[0m\u001b[32m'model'\u001b[0m: \u001b[32m'1-DANetConfig'\u001b[0m,\n",
       "\u001b[32m'model_config__abstlay_dim_1'\u001b[0m: \u001b[1;36m16\u001b[0m, \u001b[32m'model_config__abstlay_dim_2'\u001b[0m: \u001b[1;36m64\u001b[0m, \u001b[32m'model_config__n_layers'\u001b[0m: \u001b[1;36m4\u001b[0m,                 \n",
       "\u001b[32m'optimizer_config__optimizer'\u001b[0m: \u001b[32m'Adam'\u001b[0m, \u001b[32m'loss_0'\u001b[0m: \u001b[1;36m1.6252514123916626\u001b[0m, \u001b[32m'loss'\u001b[0m: \u001b[1;36m1.6252514123916626\u001b[0m, \u001b[32m'accuracy'\u001b[0m:       \n",
       "\u001b[1;36m0.22166666388511658\u001b[0m, \u001b[32m'trial_id'\u001b[0m: \u001b[1;36m6\u001b[0m\u001b[1m}\u001b[0m | Score: \u001b[1;36m0.22166666388511658\u001b[0m                                                   \n"
      ]
     },
     "metadata": {},
     "output_type": "display_data"
    },
    {
     "data": {
      "application/vnd.jupyter.widget-view+json": {
       "model_id": "2fa4a6049bb742b8b986497fad5f6519",
       "version_major": 2,
       "version_minor": 0
      },
      "text/plain": [
       "Finding best initial lr:   0%|          | 0/100 [00:00<?, ?it/s]"
      ]
     },
     "metadata": {},
     "output_type": "display_data"
    },
    {
     "data": {
      "text/html": [
       "<pre style=\"white-space:pre;overflow-x:auto;line-height:normal;font-family:Menlo,'DejaVu Sans Mono',consolas,'Courier New',monospace\"><span style=\"color: #008080; text-decoration-color: #008080; font-weight: bold\">2025</span>-<span style=\"color: #008080; text-decoration-color: #008080; font-weight: bold\">02</span>-<span style=\"color: #008080; text-decoration-color: #008080; font-weight: bold\">26</span> <span style=\"color: #00ff00; text-decoration-color: #00ff00; font-weight: bold\">10:08:27</span>,<span style=\"color: #008080; text-decoration-color: #008080; font-weight: bold\">678</span> - <span style=\"font-weight: bold\">{</span>pytorch_tabular.tabular_model_tuner:<span style=\"color: #008080; text-decoration-color: #008080; font-weight: bold\">412</span><span style=\"font-weight: bold\">}</span> - INFO - Trial <span style=\"color: #008080; text-decoration-color: #008080; font-weight: bold\">8</span>/<span style=\"color: #008080; text-decoration-color: #008080; font-weight: bold\">54</span>: <span style=\"font-weight: bold\">{</span><span style=\"color: #008000; text-decoration-color: #008000\">'model'</span>: <span style=\"color: #008000; text-decoration-color: #008000\">'1-DANetConfig'</span>,\n",
       "<span style=\"color: #008000; text-decoration-color: #008000\">'model_config__abstlay_dim_1'</span>: <span style=\"color: #008080; text-decoration-color: #008080; font-weight: bold\">16</span>, <span style=\"color: #008000; text-decoration-color: #008000\">'model_config__abstlay_dim_2'</span>: <span style=\"color: #008080; text-decoration-color: #008080; font-weight: bold\">64</span>, <span style=\"color: #008000; text-decoration-color: #008000\">'model_config__n_layers'</span>: <span style=\"color: #008080; text-decoration-color: #008080; font-weight: bold\">4</span>,                 \n",
       "<span style=\"color: #008000; text-decoration-color: #008000\">'optimizer_config__optimizer'</span>: <span style=\"color: #008000; text-decoration-color: #008000\">'AdamW'</span>, <span style=\"color: #008000; text-decoration-color: #008000\">'loss_0'</span>: <span style=\"color: #008080; text-decoration-color: #008080; font-weight: bold\">0.6127594113349915</span>, <span style=\"color: #008000; text-decoration-color: #008000\">'loss'</span>: <span style=\"color: #008080; text-decoration-color: #008080; font-weight: bold\">0.6127594113349915</span>, <span style=\"color: #008000; text-decoration-color: #008000\">'accuracy'</span>:      \n",
       "<span style=\"color: #008080; text-decoration-color: #008080; font-weight: bold\">0.778333306312561</span>, <span style=\"color: #008000; text-decoration-color: #008000\">'trial_id'</span>: <span style=\"color: #008080; text-decoration-color: #008080; font-weight: bold\">7</span><span style=\"font-weight: bold\">}</span> | Score: <span style=\"color: #008080; text-decoration-color: #008080; font-weight: bold\">0.778333306312561</span>                                                       \n",
       "</pre>\n"
      ],
      "text/plain": [
       "\u001b[1;36m2025\u001b[0m-\u001b[1;36m02\u001b[0m-\u001b[1;36m26\u001b[0m \u001b[1;92m10:08:27\u001b[0m,\u001b[1;36m678\u001b[0m - \u001b[1m{\u001b[0mpytorch_tabular.tabular_model_tuner:\u001b[1;36m412\u001b[0m\u001b[1m}\u001b[0m - INFO - Trial \u001b[1;36m8\u001b[0m/\u001b[1;36m54\u001b[0m: \u001b[1m{\u001b[0m\u001b[32m'model'\u001b[0m: \u001b[32m'1-DANetConfig'\u001b[0m,\n",
       "\u001b[32m'model_config__abstlay_dim_1'\u001b[0m: \u001b[1;36m16\u001b[0m, \u001b[32m'model_config__abstlay_dim_2'\u001b[0m: \u001b[1;36m64\u001b[0m, \u001b[32m'model_config__n_layers'\u001b[0m: \u001b[1;36m4\u001b[0m,                 \n",
       "\u001b[32m'optimizer_config__optimizer'\u001b[0m: \u001b[32m'AdamW'\u001b[0m, \u001b[32m'loss_0'\u001b[0m: \u001b[1;36m0.6127594113349915\u001b[0m, \u001b[32m'loss'\u001b[0m: \u001b[1;36m0.6127594113349915\u001b[0m, \u001b[32m'accuracy'\u001b[0m:      \n",
       "\u001b[1;36m0.778333306312561\u001b[0m, \u001b[32m'trial_id'\u001b[0m: \u001b[1;36m7\u001b[0m\u001b[1m}\u001b[0m | Score: \u001b[1;36m0.778333306312561\u001b[0m                                                       \n"
      ]
     },
     "metadata": {},
     "output_type": "display_data"
    },
    {
     "data": {
      "application/vnd.jupyter.widget-view+json": {
       "model_id": "0f6477846dc74fd18c79a5f063cab33f",
       "version_major": 2,
       "version_minor": 0
      },
      "text/plain": [
       "Finding best initial lr:   0%|          | 0/100 [00:00<?, ?it/s]"
      ]
     },
     "metadata": {},
     "output_type": "display_data"
    },
    {
     "data": {
      "text/html": [
       "<pre style=\"white-space:pre;overflow-x:auto;line-height:normal;font-family:Menlo,'DejaVu Sans Mono',consolas,'Courier New',monospace\"><span style=\"color: #008080; text-decoration-color: #008080; font-weight: bold\">2025</span>-<span style=\"color: #008080; text-decoration-color: #008080; font-weight: bold\">02</span>-<span style=\"color: #008080; text-decoration-color: #008080; font-weight: bold\">26</span> <span style=\"color: #00ff00; text-decoration-color: #00ff00; font-weight: bold\">10:09:23</span>,<span style=\"color: #008080; text-decoration-color: #008080; font-weight: bold\">921</span> - <span style=\"font-weight: bold\">{</span>pytorch_tabular.tabular_model_tuner:<span style=\"color: #008080; text-decoration-color: #008080; font-weight: bold\">412</span><span style=\"font-weight: bold\">}</span> - INFO - Trial <span style=\"color: #008080; text-decoration-color: #008080; font-weight: bold\">9</span>/<span style=\"color: #008080; text-decoration-color: #008080; font-weight: bold\">54</span>: <span style=\"font-weight: bold\">{</span><span style=\"color: #008000; text-decoration-color: #008000\">'model'</span>: <span style=\"color: #008000; text-decoration-color: #008000\">'1-DANetConfig'</span>,\n",
       "<span style=\"color: #008000; text-decoration-color: #008000\">'model_config__abstlay_dim_1'</span>: <span style=\"color: #008080; text-decoration-color: #008080; font-weight: bold\">16</span>, <span style=\"color: #008000; text-decoration-color: #008000\">'model_config__abstlay_dim_2'</span>: <span style=\"color: #008080; text-decoration-color: #008080; font-weight: bold\">64</span>, <span style=\"color: #008000; text-decoration-color: #008000\">'model_config__n_layers'</span>: <span style=\"color: #008080; text-decoration-color: #008080; font-weight: bold\">8</span>,                 \n",
       "<span style=\"color: #008000; text-decoration-color: #008000\">'optimizer_config__optimizer'</span>: <span style=\"color: #008000; text-decoration-color: #008000\">'Adam'</span>, <span style=\"color: #008000; text-decoration-color: #008000\">'loss_0'</span>: <span style=\"color: #008080; text-decoration-color: #008080; font-weight: bold\">0.5611543655395508</span>, <span style=\"color: #008000; text-decoration-color: #008000\">'loss'</span>: <span style=\"color: #008080; text-decoration-color: #008080; font-weight: bold\">0.5611543655395508</span>, <span style=\"color: #008000; text-decoration-color: #008000\">'accuracy'</span>:       \n",
       "<span style=\"color: #008080; text-decoration-color: #008080; font-weight: bold\">0.7683333158493042</span>, <span style=\"color: #008000; text-decoration-color: #008000\">'trial_id'</span>: <span style=\"color: #008080; text-decoration-color: #008080; font-weight: bold\">8</span><span style=\"font-weight: bold\">}</span> | Score: <span style=\"color: #008080; text-decoration-color: #008080; font-weight: bold\">0.7683333158493042</span>                                                     \n",
       "</pre>\n"
      ],
      "text/plain": [
       "\u001b[1;36m2025\u001b[0m-\u001b[1;36m02\u001b[0m-\u001b[1;36m26\u001b[0m \u001b[1;92m10:09:23\u001b[0m,\u001b[1;36m921\u001b[0m - \u001b[1m{\u001b[0mpytorch_tabular.tabular_model_tuner:\u001b[1;36m412\u001b[0m\u001b[1m}\u001b[0m - INFO - Trial \u001b[1;36m9\u001b[0m/\u001b[1;36m54\u001b[0m: \u001b[1m{\u001b[0m\u001b[32m'model'\u001b[0m: \u001b[32m'1-DANetConfig'\u001b[0m,\n",
       "\u001b[32m'model_config__abstlay_dim_1'\u001b[0m: \u001b[1;36m16\u001b[0m, \u001b[32m'model_config__abstlay_dim_2'\u001b[0m: \u001b[1;36m64\u001b[0m, \u001b[32m'model_config__n_layers'\u001b[0m: \u001b[1;36m8\u001b[0m,                 \n",
       "\u001b[32m'optimizer_config__optimizer'\u001b[0m: \u001b[32m'Adam'\u001b[0m, \u001b[32m'loss_0'\u001b[0m: \u001b[1;36m0.5611543655395508\u001b[0m, \u001b[32m'loss'\u001b[0m: \u001b[1;36m0.5611543655395508\u001b[0m, \u001b[32m'accuracy'\u001b[0m:       \n",
       "\u001b[1;36m0.7683333158493042\u001b[0m, \u001b[32m'trial_id'\u001b[0m: \u001b[1;36m8\u001b[0m\u001b[1m}\u001b[0m | Score: \u001b[1;36m0.7683333158493042\u001b[0m                                                     \n"
      ]
     },
     "metadata": {},
     "output_type": "display_data"
    },
    {
     "data": {
      "application/vnd.jupyter.widget-view+json": {
       "model_id": "3e2b540f4dcd4f3b8efb41e151556079",
       "version_major": 2,
       "version_minor": 0
      },
      "text/plain": [
       "Finding best initial lr:   0%|          | 0/100 [00:00<?, ?it/s]"
      ]
     },
     "metadata": {},
     "output_type": "display_data"
    },
    {
     "data": {
      "text/html": [
       "<pre style=\"white-space:pre;overflow-x:auto;line-height:normal;font-family:Menlo,'DejaVu Sans Mono',consolas,'Courier New',monospace\"><span style=\"color: #008080; text-decoration-color: #008080; font-weight: bold\">2025</span>-<span style=\"color: #008080; text-decoration-color: #008080; font-weight: bold\">02</span>-<span style=\"color: #008080; text-decoration-color: #008080; font-weight: bold\">26</span> <span style=\"color: #00ff00; text-decoration-color: #00ff00; font-weight: bold\">10:10:20</span>,<span style=\"color: #008080; text-decoration-color: #008080; font-weight: bold\">331</span> - <span style=\"font-weight: bold\">{</span>pytorch_tabular.tabular_model_tuner:<span style=\"color: #008080; text-decoration-color: #008080; font-weight: bold\">412</span><span style=\"font-weight: bold\">}</span> - INFO - Trial <span style=\"color: #008080; text-decoration-color: #008080; font-weight: bold\">10</span>/<span style=\"color: #008080; text-decoration-color: #008080; font-weight: bold\">54</span>: <span style=\"font-weight: bold\">{</span><span style=\"color: #008000; text-decoration-color: #008000\">'model'</span>:                \n",
       "<span style=\"color: #008000; text-decoration-color: #008000\">'1-DANetConfig'</span>, <span style=\"color: #008000; text-decoration-color: #008000\">'model_config__abstlay_dim_1'</span>: <span style=\"color: #008080; text-decoration-color: #008080; font-weight: bold\">16</span>, <span style=\"color: #008000; text-decoration-color: #008000\">'model_config__abstlay_dim_2'</span>: <span style=\"color: #008080; text-decoration-color: #008080; font-weight: bold\">64</span>, <span style=\"color: #008000; text-decoration-color: #008000\">'model_config__n_layers'</span>: <span style=\"color: #008080; text-decoration-color: #008080; font-weight: bold\">8</span>,\n",
       "<span style=\"color: #008000; text-decoration-color: #008000\">'optimizer_config__optimizer'</span>: <span style=\"color: #008000; text-decoration-color: #008000\">'AdamW'</span>, <span style=\"color: #008000; text-decoration-color: #008000\">'loss_0'</span>: <span style=\"color: #008080; text-decoration-color: #008080; font-weight: bold\">0.6072933673858643</span>, <span style=\"color: #008000; text-decoration-color: #008000\">'loss'</span>: <span style=\"color: #008080; text-decoration-color: #008080; font-weight: bold\">0.6072933673858643</span>, <span style=\"color: #008000; text-decoration-color: #008000\">'accuracy'</span>:      \n",
       "<span style=\"color: #008080; text-decoration-color: #008080; font-weight: bold\">0.7649999856948853</span>, <span style=\"color: #008000; text-decoration-color: #008000\">'trial_id'</span>: <span style=\"color: #008080; text-decoration-color: #008080; font-weight: bold\">9</span><span style=\"font-weight: bold\">}</span> | Score: <span style=\"color: #008080; text-decoration-color: #008080; font-weight: bold\">0.7649999856948853</span>                                                     \n",
       "</pre>\n"
      ],
      "text/plain": [
       "\u001b[1;36m2025\u001b[0m-\u001b[1;36m02\u001b[0m-\u001b[1;36m26\u001b[0m \u001b[1;92m10:10:20\u001b[0m,\u001b[1;36m331\u001b[0m - \u001b[1m{\u001b[0mpytorch_tabular.tabular_model_tuner:\u001b[1;36m412\u001b[0m\u001b[1m}\u001b[0m - INFO - Trial \u001b[1;36m10\u001b[0m/\u001b[1;36m54\u001b[0m: \u001b[1m{\u001b[0m\u001b[32m'model'\u001b[0m:                \n",
       "\u001b[32m'1-DANetConfig'\u001b[0m, \u001b[32m'model_config__abstlay_dim_1'\u001b[0m: \u001b[1;36m16\u001b[0m, \u001b[32m'model_config__abstlay_dim_2'\u001b[0m: \u001b[1;36m64\u001b[0m, \u001b[32m'model_config__n_layers'\u001b[0m: \u001b[1;36m8\u001b[0m,\n",
       "\u001b[32m'optimizer_config__optimizer'\u001b[0m: \u001b[32m'AdamW'\u001b[0m, \u001b[32m'loss_0'\u001b[0m: \u001b[1;36m0.6072933673858643\u001b[0m, \u001b[32m'loss'\u001b[0m: \u001b[1;36m0.6072933673858643\u001b[0m, \u001b[32m'accuracy'\u001b[0m:      \n",
       "\u001b[1;36m0.7649999856948853\u001b[0m, \u001b[32m'trial_id'\u001b[0m: \u001b[1;36m9\u001b[0m\u001b[1m}\u001b[0m | Score: \u001b[1;36m0.7649999856948853\u001b[0m                                                     \n"
      ]
     },
     "metadata": {},
     "output_type": "display_data"
    },
    {
     "data": {
      "application/vnd.jupyter.widget-view+json": {
       "model_id": "d3881f9212414eca95236e2bb7b5351e",
       "version_major": 2,
       "version_minor": 0
      },
      "text/plain": [
       "Finding best initial lr:   0%|          | 0/100 [00:00<?, ?it/s]"
      ]
     },
     "metadata": {},
     "output_type": "display_data"
    },
    {
     "data": {
      "text/html": [
       "<pre style=\"white-space:pre;overflow-x:auto;line-height:normal;font-family:Menlo,'DejaVu Sans Mono',consolas,'Courier New',monospace\"><span style=\"color: #008080; text-decoration-color: #008080; font-weight: bold\">2025</span>-<span style=\"color: #008080; text-decoration-color: #008080; font-weight: bold\">02</span>-<span style=\"color: #008080; text-decoration-color: #008080; font-weight: bold\">26</span> <span style=\"color: #00ff00; text-decoration-color: #00ff00; font-weight: bold\">10:11:54</span>,<span style=\"color: #008080; text-decoration-color: #008080; font-weight: bold\">493</span> - <span style=\"font-weight: bold\">{</span>pytorch_tabular.tabular_model_tuner:<span style=\"color: #008080; text-decoration-color: #008080; font-weight: bold\">412</span><span style=\"font-weight: bold\">}</span> - INFO - Trial <span style=\"color: #008080; text-decoration-color: #008080; font-weight: bold\">11</span>/<span style=\"color: #008080; text-decoration-color: #008080; font-weight: bold\">54</span>: <span style=\"font-weight: bold\">{</span><span style=\"color: #008000; text-decoration-color: #008000\">'model'</span>:                \n",
       "<span style=\"color: #008000; text-decoration-color: #008000\">'1-DANetConfig'</span>, <span style=\"color: #008000; text-decoration-color: #008000\">'model_config__abstlay_dim_1'</span>: <span style=\"color: #008080; text-decoration-color: #008080; font-weight: bold\">16</span>, <span style=\"color: #008000; text-decoration-color: #008000\">'model_config__abstlay_dim_2'</span>: <span style=\"color: #008080; text-decoration-color: #008080; font-weight: bold\">64</span>, <span style=\"color: #008000; text-decoration-color: #008000\">'model_config__n_layers'</span>:   \n",
       "<span style=\"color: #008080; text-decoration-color: #008080; font-weight: bold\">16</span>, <span style=\"color: #008000; text-decoration-color: #008000\">'optimizer_config__optimizer'</span>: <span style=\"color: #008000; text-decoration-color: #008000\">'Adam'</span>, <span style=\"color: #008000; text-decoration-color: #008000\">'loss_0'</span>: <span style=\"color: #008080; text-decoration-color: #008080; font-weight: bold\">0.6082817316055298</span>, <span style=\"color: #008000; text-decoration-color: #008000\">'loss'</span>: <span style=\"color: #008080; text-decoration-color: #008080; font-weight: bold\">0.6082817316055298</span>, <span style=\"color: #008000; text-decoration-color: #008000\">'accuracy'</span>:   \n",
       "<span style=\"color: #008080; text-decoration-color: #008080; font-weight: bold\">0.7749999761581421</span>, <span style=\"color: #008000; text-decoration-color: #008000\">'trial_id'</span>: <span style=\"color: #008080; text-decoration-color: #008080; font-weight: bold\">10</span><span style=\"font-weight: bold\">}</span> | Score: <span style=\"color: #008080; text-decoration-color: #008080; font-weight: bold\">0.7749999761581421</span>                                                    \n",
       "</pre>\n"
      ],
      "text/plain": [
       "\u001b[1;36m2025\u001b[0m-\u001b[1;36m02\u001b[0m-\u001b[1;36m26\u001b[0m \u001b[1;92m10:11:54\u001b[0m,\u001b[1;36m493\u001b[0m - \u001b[1m{\u001b[0mpytorch_tabular.tabular_model_tuner:\u001b[1;36m412\u001b[0m\u001b[1m}\u001b[0m - INFO - Trial \u001b[1;36m11\u001b[0m/\u001b[1;36m54\u001b[0m: \u001b[1m{\u001b[0m\u001b[32m'model'\u001b[0m:                \n",
       "\u001b[32m'1-DANetConfig'\u001b[0m, \u001b[32m'model_config__abstlay_dim_1'\u001b[0m: \u001b[1;36m16\u001b[0m, \u001b[32m'model_config__abstlay_dim_2'\u001b[0m: \u001b[1;36m64\u001b[0m, \u001b[32m'model_config__n_layers'\u001b[0m:   \n",
       "\u001b[1;36m16\u001b[0m, \u001b[32m'optimizer_config__optimizer'\u001b[0m: \u001b[32m'Adam'\u001b[0m, \u001b[32m'loss_0'\u001b[0m: \u001b[1;36m0.6082817316055298\u001b[0m, \u001b[32m'loss'\u001b[0m: \u001b[1;36m0.6082817316055298\u001b[0m, \u001b[32m'accuracy'\u001b[0m:   \n",
       "\u001b[1;36m0.7749999761581421\u001b[0m, \u001b[32m'trial_id'\u001b[0m: \u001b[1;36m10\u001b[0m\u001b[1m}\u001b[0m | Score: \u001b[1;36m0.7749999761581421\u001b[0m                                                    \n"
      ]
     },
     "metadata": {},
     "output_type": "display_data"
    },
    {
     "data": {
      "application/vnd.jupyter.widget-view+json": {
       "model_id": "e581c9484bd649908b04269c31996945",
       "version_major": 2,
       "version_minor": 0
      },
      "text/plain": [
       "Finding best initial lr:   0%|          | 0/100 [00:00<?, ?it/s]"
      ]
     },
     "metadata": {},
     "output_type": "display_data"
    },
    {
     "data": {
      "text/html": [
       "<pre style=\"white-space:pre;overflow-x:auto;line-height:normal;font-family:Menlo,'DejaVu Sans Mono',consolas,'Courier New',monospace\"><span style=\"color: #008080; text-decoration-color: #008080; font-weight: bold\">2025</span>-<span style=\"color: #008080; text-decoration-color: #008080; font-weight: bold\">02</span>-<span style=\"color: #008080; text-decoration-color: #008080; font-weight: bold\">26</span> <span style=\"color: #00ff00; text-decoration-color: #00ff00; font-weight: bold\">10:13:47</span>,<span style=\"color: #008080; text-decoration-color: #008080; font-weight: bold\">441</span> - <span style=\"font-weight: bold\">{</span>pytorch_tabular.tabular_model_tuner:<span style=\"color: #008080; text-decoration-color: #008080; font-weight: bold\">412</span><span style=\"font-weight: bold\">}</span> - INFO - Trial <span style=\"color: #008080; text-decoration-color: #008080; font-weight: bold\">12</span>/<span style=\"color: #008080; text-decoration-color: #008080; font-weight: bold\">54</span>: <span style=\"font-weight: bold\">{</span><span style=\"color: #008000; text-decoration-color: #008000\">'model'</span>:                \n",
       "<span style=\"color: #008000; text-decoration-color: #008000\">'1-DANetConfig'</span>, <span style=\"color: #008000; text-decoration-color: #008000\">'model_config__abstlay_dim_1'</span>: <span style=\"color: #008080; text-decoration-color: #008080; font-weight: bold\">16</span>, <span style=\"color: #008000; text-decoration-color: #008000\">'model_config__abstlay_dim_2'</span>: <span style=\"color: #008080; text-decoration-color: #008080; font-weight: bold\">64</span>, <span style=\"color: #008000; text-decoration-color: #008000\">'model_config__n_layers'</span>:   \n",
       "<span style=\"color: #008080; text-decoration-color: #008080; font-weight: bold\">16</span>, <span style=\"color: #008000; text-decoration-color: #008000\">'optimizer_config__optimizer'</span>: <span style=\"color: #008000; text-decoration-color: #008000\">'AdamW'</span>, <span style=\"color: #008000; text-decoration-color: #008000\">'loss_0'</span>: <span style=\"color: #008080; text-decoration-color: #008080; font-weight: bold\">0.6285465955734253</span>, <span style=\"color: #008000; text-decoration-color: #008000\">'loss'</span>: <span style=\"color: #008080; text-decoration-color: #008080; font-weight: bold\">0.6285465955734253</span>, <span style=\"color: #008000; text-decoration-color: #008000\">'accuracy'</span>:  \n",
       "<span style=\"color: #008080; text-decoration-color: #008080; font-weight: bold\">0.7566666603088379</span>, <span style=\"color: #008000; text-decoration-color: #008000\">'trial_id'</span>: <span style=\"color: #008080; text-decoration-color: #008080; font-weight: bold\">11</span><span style=\"font-weight: bold\">}</span> | Score: <span style=\"color: #008080; text-decoration-color: #008080; font-weight: bold\">0.7566666603088379</span>                                                    \n",
       "</pre>\n"
      ],
      "text/plain": [
       "\u001b[1;36m2025\u001b[0m-\u001b[1;36m02\u001b[0m-\u001b[1;36m26\u001b[0m \u001b[1;92m10:13:47\u001b[0m,\u001b[1;36m441\u001b[0m - \u001b[1m{\u001b[0mpytorch_tabular.tabular_model_tuner:\u001b[1;36m412\u001b[0m\u001b[1m}\u001b[0m - INFO - Trial \u001b[1;36m12\u001b[0m/\u001b[1;36m54\u001b[0m: \u001b[1m{\u001b[0m\u001b[32m'model'\u001b[0m:                \n",
       "\u001b[32m'1-DANetConfig'\u001b[0m, \u001b[32m'model_config__abstlay_dim_1'\u001b[0m: \u001b[1;36m16\u001b[0m, \u001b[32m'model_config__abstlay_dim_2'\u001b[0m: \u001b[1;36m64\u001b[0m, \u001b[32m'model_config__n_layers'\u001b[0m:   \n",
       "\u001b[1;36m16\u001b[0m, \u001b[32m'optimizer_config__optimizer'\u001b[0m: \u001b[32m'AdamW'\u001b[0m, \u001b[32m'loss_0'\u001b[0m: \u001b[1;36m0.6285465955734253\u001b[0m, \u001b[32m'loss'\u001b[0m: \u001b[1;36m0.6285465955734253\u001b[0m, \u001b[32m'accuracy'\u001b[0m:  \n",
       "\u001b[1;36m0.7566666603088379\u001b[0m, \u001b[32m'trial_id'\u001b[0m: \u001b[1;36m11\u001b[0m\u001b[1m}\u001b[0m | Score: \u001b[1;36m0.7566666603088379\u001b[0m                                                    \n"
      ]
     },
     "metadata": {},
     "output_type": "display_data"
    },
    {
     "data": {
      "application/vnd.jupyter.widget-view+json": {
       "model_id": "4f5ca20fa3244375866ab5b2fb6493d6",
       "version_major": 2,
       "version_minor": 0
      },
      "text/plain": [
       "Finding best initial lr:   0%|          | 0/100 [00:00<?, ?it/s]"
      ]
     },
     "metadata": {},
     "output_type": "display_data"
    },
    {
     "data": {
      "text/html": [
       "<pre style=\"white-space:pre;overflow-x:auto;line-height:normal;font-family:Menlo,'DejaVu Sans Mono',consolas,'Courier New',monospace\"><span style=\"color: #008080; text-decoration-color: #008080; font-weight: bold\">2025</span>-<span style=\"color: #008080; text-decoration-color: #008080; font-weight: bold\">02</span>-<span style=\"color: #008080; text-decoration-color: #008080; font-weight: bold\">26</span> <span style=\"color: #00ff00; text-decoration-color: #00ff00; font-weight: bold\">10:14:27</span>,<span style=\"color: #008080; text-decoration-color: #008080; font-weight: bold\">142</span> - <span style=\"font-weight: bold\">{</span>pytorch_tabular.tabular_model_tuner:<span style=\"color: #008080; text-decoration-color: #008080; font-weight: bold\">412</span><span style=\"font-weight: bold\">}</span> - INFO - Trial <span style=\"color: #008080; text-decoration-color: #008080; font-weight: bold\">13</span>/<span style=\"color: #008080; text-decoration-color: #008080; font-weight: bold\">54</span>: <span style=\"font-weight: bold\">{</span><span style=\"color: #008000; text-decoration-color: #008000\">'model'</span>:                \n",
       "<span style=\"color: #008000; text-decoration-color: #008000\">'1-DANetConfig'</span>, <span style=\"color: #008000; text-decoration-color: #008000\">'model_config__abstlay_dim_1'</span>: <span style=\"color: #008080; text-decoration-color: #008080; font-weight: bold\">16</span>, <span style=\"color: #008000; text-decoration-color: #008000\">'model_config__abstlay_dim_2'</span>: <span style=\"color: #008080; text-decoration-color: #008080; font-weight: bold\">128</span>, <span style=\"color: #008000; text-decoration-color: #008000\">'model_config__n_layers'</span>:  \n",
       "<span style=\"color: #008080; text-decoration-color: #008080; font-weight: bold\">4</span>, <span style=\"color: #008000; text-decoration-color: #008000\">'optimizer_config__optimizer'</span>: <span style=\"color: #008000; text-decoration-color: #008000\">'Adam'</span>, <span style=\"color: #008000; text-decoration-color: #008000\">'loss_0'</span>: <span style=\"color: #008080; text-decoration-color: #008080; font-weight: bold\">0.6947253346443176</span>, <span style=\"color: #008000; text-decoration-color: #008000\">'loss'</span>: <span style=\"color: #008080; text-decoration-color: #008080; font-weight: bold\">0.6947253346443176</span>, <span style=\"color: #008000; text-decoration-color: #008000\">'accuracy'</span>:    \n",
       "<span style=\"color: #008080; text-decoration-color: #008080; font-weight: bold\">0.7683333158493042</span>, <span style=\"color: #008000; text-decoration-color: #008000\">'trial_id'</span>: <span style=\"color: #008080; text-decoration-color: #008080; font-weight: bold\">12</span><span style=\"font-weight: bold\">}</span> | Score: <span style=\"color: #008080; text-decoration-color: #008080; font-weight: bold\">0.7683333158493042</span>                                                    \n",
       "</pre>\n"
      ],
      "text/plain": [
       "\u001b[1;36m2025\u001b[0m-\u001b[1;36m02\u001b[0m-\u001b[1;36m26\u001b[0m \u001b[1;92m10:14:27\u001b[0m,\u001b[1;36m142\u001b[0m - \u001b[1m{\u001b[0mpytorch_tabular.tabular_model_tuner:\u001b[1;36m412\u001b[0m\u001b[1m}\u001b[0m - INFO - Trial \u001b[1;36m13\u001b[0m/\u001b[1;36m54\u001b[0m: \u001b[1m{\u001b[0m\u001b[32m'model'\u001b[0m:                \n",
       "\u001b[32m'1-DANetConfig'\u001b[0m, \u001b[32m'model_config__abstlay_dim_1'\u001b[0m: \u001b[1;36m16\u001b[0m, \u001b[32m'model_config__abstlay_dim_2'\u001b[0m: \u001b[1;36m128\u001b[0m, \u001b[32m'model_config__n_layers'\u001b[0m:  \n",
       "\u001b[1;36m4\u001b[0m, \u001b[32m'optimizer_config__optimizer'\u001b[0m: \u001b[32m'Adam'\u001b[0m, \u001b[32m'loss_0'\u001b[0m: \u001b[1;36m0.6947253346443176\u001b[0m, \u001b[32m'loss'\u001b[0m: \u001b[1;36m0.6947253346443176\u001b[0m, \u001b[32m'accuracy'\u001b[0m:    \n",
       "\u001b[1;36m0.7683333158493042\u001b[0m, \u001b[32m'trial_id'\u001b[0m: \u001b[1;36m12\u001b[0m\u001b[1m}\u001b[0m | Score: \u001b[1;36m0.7683333158493042\u001b[0m                                                    \n"
      ]
     },
     "metadata": {},
     "output_type": "display_data"
    },
    {
     "data": {
      "application/vnd.jupyter.widget-view+json": {
       "model_id": "3455a38dd3df4802b9c47d0b8a632aed",
       "version_major": 2,
       "version_minor": 0
      },
      "text/plain": [
       "Finding best initial lr:   0%|          | 0/100 [00:00<?, ?it/s]"
      ]
     },
     "metadata": {},
     "output_type": "display_data"
    },
    {
     "data": {
      "text/html": [
       "<pre style=\"white-space:pre;overflow-x:auto;line-height:normal;font-family:Menlo,'DejaVu Sans Mono',consolas,'Courier New',monospace\"><span style=\"color: #008080; text-decoration-color: #008080; font-weight: bold\">2025</span>-<span style=\"color: #008080; text-decoration-color: #008080; font-weight: bold\">02</span>-<span style=\"color: #008080; text-decoration-color: #008080; font-weight: bold\">26</span> <span style=\"color: #00ff00; text-decoration-color: #00ff00; font-weight: bold\">10:15:04</span>,<span style=\"color: #008080; text-decoration-color: #008080; font-weight: bold\">461</span> - <span style=\"font-weight: bold\">{</span>pytorch_tabular.tabular_model_tuner:<span style=\"color: #008080; text-decoration-color: #008080; font-weight: bold\">412</span><span style=\"font-weight: bold\">}</span> - INFO - Trial <span style=\"color: #008080; text-decoration-color: #008080; font-weight: bold\">14</span>/<span style=\"color: #008080; text-decoration-color: #008080; font-weight: bold\">54</span>: <span style=\"font-weight: bold\">{</span><span style=\"color: #008000; text-decoration-color: #008000\">'model'</span>:                \n",
       "<span style=\"color: #008000; text-decoration-color: #008000\">'1-DANetConfig'</span>, <span style=\"color: #008000; text-decoration-color: #008000\">'model_config__abstlay_dim_1'</span>: <span style=\"color: #008080; text-decoration-color: #008080; font-weight: bold\">16</span>, <span style=\"color: #008000; text-decoration-color: #008000\">'model_config__abstlay_dim_2'</span>: <span style=\"color: #008080; text-decoration-color: #008080; font-weight: bold\">128</span>, <span style=\"color: #008000; text-decoration-color: #008000\">'model_config__n_layers'</span>:  \n",
       "<span style=\"color: #008080; text-decoration-color: #008080; font-weight: bold\">4</span>, <span style=\"color: #008000; text-decoration-color: #008000\">'optimizer_config__optimizer'</span>: <span style=\"color: #008000; text-decoration-color: #008000\">'AdamW'</span>, <span style=\"color: #008000; text-decoration-color: #008000\">'loss_0'</span>: <span style=\"color: #008080; text-decoration-color: #008080; font-weight: bold\">0.5905603766441345</span>, <span style=\"color: #008000; text-decoration-color: #008000\">'loss'</span>: <span style=\"color: #008080; text-decoration-color: #008080; font-weight: bold\">0.5905603766441345</span>, <span style=\"color: #008000; text-decoration-color: #008000\">'accuracy'</span>:   \n",
       "<span style=\"color: #008080; text-decoration-color: #008080; font-weight: bold\">0.778333306312561</span>, <span style=\"color: #008000; text-decoration-color: #008000\">'trial_id'</span>: <span style=\"color: #008080; text-decoration-color: #008080; font-weight: bold\">13</span><span style=\"font-weight: bold\">}</span> | Score: <span style=\"color: #008080; text-decoration-color: #008080; font-weight: bold\">0.778333306312561</span>                                                      \n",
       "</pre>\n"
      ],
      "text/plain": [
       "\u001b[1;36m2025\u001b[0m-\u001b[1;36m02\u001b[0m-\u001b[1;36m26\u001b[0m \u001b[1;92m10:15:04\u001b[0m,\u001b[1;36m461\u001b[0m - \u001b[1m{\u001b[0mpytorch_tabular.tabular_model_tuner:\u001b[1;36m412\u001b[0m\u001b[1m}\u001b[0m - INFO - Trial \u001b[1;36m14\u001b[0m/\u001b[1;36m54\u001b[0m: \u001b[1m{\u001b[0m\u001b[32m'model'\u001b[0m:                \n",
       "\u001b[32m'1-DANetConfig'\u001b[0m, \u001b[32m'model_config__abstlay_dim_1'\u001b[0m: \u001b[1;36m16\u001b[0m, \u001b[32m'model_config__abstlay_dim_2'\u001b[0m: \u001b[1;36m128\u001b[0m, \u001b[32m'model_config__n_layers'\u001b[0m:  \n",
       "\u001b[1;36m4\u001b[0m, \u001b[32m'optimizer_config__optimizer'\u001b[0m: \u001b[32m'AdamW'\u001b[0m, \u001b[32m'loss_0'\u001b[0m: \u001b[1;36m0.5905603766441345\u001b[0m, \u001b[32m'loss'\u001b[0m: \u001b[1;36m0.5905603766441345\u001b[0m, \u001b[32m'accuracy'\u001b[0m:   \n",
       "\u001b[1;36m0.778333306312561\u001b[0m, \u001b[32m'trial_id'\u001b[0m: \u001b[1;36m13\u001b[0m\u001b[1m}\u001b[0m | Score: \u001b[1;36m0.778333306312561\u001b[0m                                                      \n"
      ]
     },
     "metadata": {},
     "output_type": "display_data"
    },
    {
     "data": {
      "application/vnd.jupyter.widget-view+json": {
       "model_id": "2181f73845804ce7852e22fd2ecdf159",
       "version_major": 2,
       "version_minor": 0
      },
      "text/plain": [
       "Finding best initial lr:   0%|          | 0/100 [00:00<?, ?it/s]"
      ]
     },
     "metadata": {},
     "output_type": "display_data"
    },
    {
     "data": {
      "text/html": [
       "<pre style=\"white-space:pre;overflow-x:auto;line-height:normal;font-family:Menlo,'DejaVu Sans Mono',consolas,'Courier New',monospace\"><span style=\"color: #008080; text-decoration-color: #008080; font-weight: bold\">2025</span>-<span style=\"color: #008080; text-decoration-color: #008080; font-weight: bold\">02</span>-<span style=\"color: #008080; text-decoration-color: #008080; font-weight: bold\">26</span> <span style=\"color: #00ff00; text-decoration-color: #00ff00; font-weight: bold\">10:16:13</span>,<span style=\"color: #008080; text-decoration-color: #008080; font-weight: bold\">355</span> - <span style=\"font-weight: bold\">{</span>pytorch_tabular.tabular_model_tuner:<span style=\"color: #008080; text-decoration-color: #008080; font-weight: bold\">412</span><span style=\"font-weight: bold\">}</span> - INFO - Trial <span style=\"color: #008080; text-decoration-color: #008080; font-weight: bold\">15</span>/<span style=\"color: #008080; text-decoration-color: #008080; font-weight: bold\">54</span>: <span style=\"font-weight: bold\">{</span><span style=\"color: #008000; text-decoration-color: #008000\">'model'</span>:                \n",
       "<span style=\"color: #008000; text-decoration-color: #008000\">'1-DANetConfig'</span>, <span style=\"color: #008000; text-decoration-color: #008000\">'model_config__abstlay_dim_1'</span>: <span style=\"color: #008080; text-decoration-color: #008080; font-weight: bold\">16</span>, <span style=\"color: #008000; text-decoration-color: #008000\">'model_config__abstlay_dim_2'</span>: <span style=\"color: #008080; text-decoration-color: #008080; font-weight: bold\">128</span>, <span style=\"color: #008000; text-decoration-color: #008000\">'model_config__n_layers'</span>:  \n",
       "<span style=\"color: #008080; text-decoration-color: #008080; font-weight: bold\">8</span>, <span style=\"color: #008000; text-decoration-color: #008000\">'optimizer_config__optimizer'</span>: <span style=\"color: #008000; text-decoration-color: #008000\">'Adam'</span>, <span style=\"color: #008000; text-decoration-color: #008000\">'loss_0'</span>: <span style=\"color: #008080; text-decoration-color: #008080; font-weight: bold\">0.6765219569206238</span>, <span style=\"color: #008000; text-decoration-color: #008000\">'loss'</span>: <span style=\"color: #008080; text-decoration-color: #008080; font-weight: bold\">0.6765219569206238</span>, <span style=\"color: #008000; text-decoration-color: #008000\">'accuracy'</span>:    \n",
       "<span style=\"color: #008080; text-decoration-color: #008080; font-weight: bold\">0.753333330154419</span>, <span style=\"color: #008000; text-decoration-color: #008000\">'trial_id'</span>: <span style=\"color: #008080; text-decoration-color: #008080; font-weight: bold\">14</span><span style=\"font-weight: bold\">}</span> | Score: <span style=\"color: #008080; text-decoration-color: #008080; font-weight: bold\">0.753333330154419</span>                                                      \n",
       "</pre>\n"
      ],
      "text/plain": [
       "\u001b[1;36m2025\u001b[0m-\u001b[1;36m02\u001b[0m-\u001b[1;36m26\u001b[0m \u001b[1;92m10:16:13\u001b[0m,\u001b[1;36m355\u001b[0m - \u001b[1m{\u001b[0mpytorch_tabular.tabular_model_tuner:\u001b[1;36m412\u001b[0m\u001b[1m}\u001b[0m - INFO - Trial \u001b[1;36m15\u001b[0m/\u001b[1;36m54\u001b[0m: \u001b[1m{\u001b[0m\u001b[32m'model'\u001b[0m:                \n",
       "\u001b[32m'1-DANetConfig'\u001b[0m, \u001b[32m'model_config__abstlay_dim_1'\u001b[0m: \u001b[1;36m16\u001b[0m, \u001b[32m'model_config__abstlay_dim_2'\u001b[0m: \u001b[1;36m128\u001b[0m, \u001b[32m'model_config__n_layers'\u001b[0m:  \n",
       "\u001b[1;36m8\u001b[0m, \u001b[32m'optimizer_config__optimizer'\u001b[0m: \u001b[32m'Adam'\u001b[0m, \u001b[32m'loss_0'\u001b[0m: \u001b[1;36m0.6765219569206238\u001b[0m, \u001b[32m'loss'\u001b[0m: \u001b[1;36m0.6765219569206238\u001b[0m, \u001b[32m'accuracy'\u001b[0m:    \n",
       "\u001b[1;36m0.753333330154419\u001b[0m, \u001b[32m'trial_id'\u001b[0m: \u001b[1;36m14\u001b[0m\u001b[1m}\u001b[0m | Score: \u001b[1;36m0.753333330154419\u001b[0m                                                      \n"
      ]
     },
     "metadata": {},
     "output_type": "display_data"
    },
    {
     "data": {
      "application/vnd.jupyter.widget-view+json": {
       "model_id": "a0536aa4f94044d3989c7c2d11ce1d57",
       "version_major": 2,
       "version_minor": 0
      },
      "text/plain": [
       "Finding best initial lr:   0%|          | 0/100 [00:00<?, ?it/s]"
      ]
     },
     "metadata": {},
     "output_type": "display_data"
    },
    {
     "data": {
      "text/html": [
       "<pre style=\"white-space:pre;overflow-x:auto;line-height:normal;font-family:Menlo,'DejaVu Sans Mono',consolas,'Courier New',monospace\"><span style=\"color: #008080; text-decoration-color: #008080; font-weight: bold\">2025</span>-<span style=\"color: #008080; text-decoration-color: #008080; font-weight: bold\">02</span>-<span style=\"color: #008080; text-decoration-color: #008080; font-weight: bold\">26</span> <span style=\"color: #00ff00; text-decoration-color: #00ff00; font-weight: bold\">10:17:16</span>,<span style=\"color: #008080; text-decoration-color: #008080; font-weight: bold\">371</span> - <span style=\"font-weight: bold\">{</span>pytorch_tabular.tabular_model_tuner:<span style=\"color: #008080; text-decoration-color: #008080; font-weight: bold\">412</span><span style=\"font-weight: bold\">}</span> - INFO - Trial <span style=\"color: #008080; text-decoration-color: #008080; font-weight: bold\">16</span>/<span style=\"color: #008080; text-decoration-color: #008080; font-weight: bold\">54</span>: <span style=\"font-weight: bold\">{</span><span style=\"color: #008000; text-decoration-color: #008000\">'model'</span>:                \n",
       "<span style=\"color: #008000; text-decoration-color: #008000\">'1-DANetConfig'</span>, <span style=\"color: #008000; text-decoration-color: #008000\">'model_config__abstlay_dim_1'</span>: <span style=\"color: #008080; text-decoration-color: #008080; font-weight: bold\">16</span>, <span style=\"color: #008000; text-decoration-color: #008000\">'model_config__abstlay_dim_2'</span>: <span style=\"color: #008080; text-decoration-color: #008080; font-weight: bold\">128</span>, <span style=\"color: #008000; text-decoration-color: #008000\">'model_config__n_layers'</span>:  \n",
       "<span style=\"color: #008080; text-decoration-color: #008080; font-weight: bold\">8</span>, <span style=\"color: #008000; text-decoration-color: #008000\">'optimizer_config__optimizer'</span>: <span style=\"color: #008000; text-decoration-color: #008000\">'AdamW'</span>, <span style=\"color: #008000; text-decoration-color: #008000\">'loss_0'</span>: <span style=\"color: #008080; text-decoration-color: #008080; font-weight: bold\">0.5823825001716614</span>, <span style=\"color: #008000; text-decoration-color: #008000\">'loss'</span>: <span style=\"color: #008080; text-decoration-color: #008080; font-weight: bold\">0.5823825001716614</span>, <span style=\"color: #008000; text-decoration-color: #008000\">'accuracy'</span>:   \n",
       "<span style=\"color: #008080; text-decoration-color: #008080; font-weight: bold\">0.7749999761581421</span>, <span style=\"color: #008000; text-decoration-color: #008000\">'trial_id'</span>: <span style=\"color: #008080; text-decoration-color: #008080; font-weight: bold\">15</span><span style=\"font-weight: bold\">}</span> | Score: <span style=\"color: #008080; text-decoration-color: #008080; font-weight: bold\">0.7749999761581421</span>                                                    \n",
       "</pre>\n"
      ],
      "text/plain": [
       "\u001b[1;36m2025\u001b[0m-\u001b[1;36m02\u001b[0m-\u001b[1;36m26\u001b[0m \u001b[1;92m10:17:16\u001b[0m,\u001b[1;36m371\u001b[0m - \u001b[1m{\u001b[0mpytorch_tabular.tabular_model_tuner:\u001b[1;36m412\u001b[0m\u001b[1m}\u001b[0m - INFO - Trial \u001b[1;36m16\u001b[0m/\u001b[1;36m54\u001b[0m: \u001b[1m{\u001b[0m\u001b[32m'model'\u001b[0m:                \n",
       "\u001b[32m'1-DANetConfig'\u001b[0m, \u001b[32m'model_config__abstlay_dim_1'\u001b[0m: \u001b[1;36m16\u001b[0m, \u001b[32m'model_config__abstlay_dim_2'\u001b[0m: \u001b[1;36m128\u001b[0m, \u001b[32m'model_config__n_layers'\u001b[0m:  \n",
       "\u001b[1;36m8\u001b[0m, \u001b[32m'optimizer_config__optimizer'\u001b[0m: \u001b[32m'AdamW'\u001b[0m, \u001b[32m'loss_0'\u001b[0m: \u001b[1;36m0.5823825001716614\u001b[0m, \u001b[32m'loss'\u001b[0m: \u001b[1;36m0.5823825001716614\u001b[0m, \u001b[32m'accuracy'\u001b[0m:   \n",
       "\u001b[1;36m0.7749999761581421\u001b[0m, \u001b[32m'trial_id'\u001b[0m: \u001b[1;36m15\u001b[0m\u001b[1m}\u001b[0m | Score: \u001b[1;36m0.7749999761581421\u001b[0m                                                    \n"
      ]
     },
     "metadata": {},
     "output_type": "display_data"
    },
    {
     "data": {
      "application/vnd.jupyter.widget-view+json": {
       "model_id": "f6a6492671154318873e411cb20bec33",
       "version_major": 2,
       "version_minor": 0
      },
      "text/plain": [
       "Finding best initial lr:   0%|          | 0/100 [00:00<?, ?it/s]"
      ]
     },
     "metadata": {},
     "output_type": "display_data"
    },
    {
     "data": {
      "text/html": [
       "<pre style=\"white-space:pre;overflow-x:auto;line-height:normal;font-family:Menlo,'DejaVu Sans Mono',consolas,'Courier New',monospace\"><span style=\"color: #008080; text-decoration-color: #008080; font-weight: bold\">2025</span>-<span style=\"color: #008080; text-decoration-color: #008080; font-weight: bold\">02</span>-<span style=\"color: #008080; text-decoration-color: #008080; font-weight: bold\">26</span> <span style=\"color: #00ff00; text-decoration-color: #00ff00; font-weight: bold\">10:19:14</span>,<span style=\"color: #008080; text-decoration-color: #008080; font-weight: bold\">921</span> - <span style=\"font-weight: bold\">{</span>pytorch_tabular.tabular_model_tuner:<span style=\"color: #008080; text-decoration-color: #008080; font-weight: bold\">412</span><span style=\"font-weight: bold\">}</span> - INFO - Trial <span style=\"color: #008080; text-decoration-color: #008080; font-weight: bold\">17</span>/<span style=\"color: #008080; text-decoration-color: #008080; font-weight: bold\">54</span>: <span style=\"font-weight: bold\">{</span><span style=\"color: #008000; text-decoration-color: #008000\">'model'</span>:                \n",
       "<span style=\"color: #008000; text-decoration-color: #008000\">'1-DANetConfig'</span>, <span style=\"color: #008000; text-decoration-color: #008000\">'model_config__abstlay_dim_1'</span>: <span style=\"color: #008080; text-decoration-color: #008080; font-weight: bold\">16</span>, <span style=\"color: #008000; text-decoration-color: #008000\">'model_config__abstlay_dim_2'</span>: <span style=\"color: #008080; text-decoration-color: #008080; font-weight: bold\">128</span>, <span style=\"color: #008000; text-decoration-color: #008000\">'model_config__n_layers'</span>:  \n",
       "<span style=\"color: #008080; text-decoration-color: #008080; font-weight: bold\">16</span>, <span style=\"color: #008000; text-decoration-color: #008000\">'optimizer_config__optimizer'</span>: <span style=\"color: #008000; text-decoration-color: #008000\">'Adam'</span>, <span style=\"color: #008000; text-decoration-color: #008000\">'loss_0'</span>: <span style=\"color: #008080; text-decoration-color: #008080; font-weight: bold\">0.5780763030052185</span>, <span style=\"color: #008000; text-decoration-color: #008000\">'loss'</span>: <span style=\"color: #008080; text-decoration-color: #008080; font-weight: bold\">0.5780763030052185</span>, <span style=\"color: #008000; text-decoration-color: #008000\">'accuracy'</span>:   \n",
       "<span style=\"color: #008080; text-decoration-color: #008080; font-weight: bold\">0.7699999809265137</span>, <span style=\"color: #008000; text-decoration-color: #008000\">'trial_id'</span>: <span style=\"color: #008080; text-decoration-color: #008080; font-weight: bold\">16</span><span style=\"font-weight: bold\">}</span> | Score: <span style=\"color: #008080; text-decoration-color: #008080; font-weight: bold\">0.7699999809265137</span>                                                    \n",
       "</pre>\n"
      ],
      "text/plain": [
       "\u001b[1;36m2025\u001b[0m-\u001b[1;36m02\u001b[0m-\u001b[1;36m26\u001b[0m \u001b[1;92m10:19:14\u001b[0m,\u001b[1;36m921\u001b[0m - \u001b[1m{\u001b[0mpytorch_tabular.tabular_model_tuner:\u001b[1;36m412\u001b[0m\u001b[1m}\u001b[0m - INFO - Trial \u001b[1;36m17\u001b[0m/\u001b[1;36m54\u001b[0m: \u001b[1m{\u001b[0m\u001b[32m'model'\u001b[0m:                \n",
       "\u001b[32m'1-DANetConfig'\u001b[0m, \u001b[32m'model_config__abstlay_dim_1'\u001b[0m: \u001b[1;36m16\u001b[0m, \u001b[32m'model_config__abstlay_dim_2'\u001b[0m: \u001b[1;36m128\u001b[0m, \u001b[32m'model_config__n_layers'\u001b[0m:  \n",
       "\u001b[1;36m16\u001b[0m, \u001b[32m'optimizer_config__optimizer'\u001b[0m: \u001b[32m'Adam'\u001b[0m, \u001b[32m'loss_0'\u001b[0m: \u001b[1;36m0.5780763030052185\u001b[0m, \u001b[32m'loss'\u001b[0m: \u001b[1;36m0.5780763030052185\u001b[0m, \u001b[32m'accuracy'\u001b[0m:   \n",
       "\u001b[1;36m0.7699999809265137\u001b[0m, \u001b[32m'trial_id'\u001b[0m: \u001b[1;36m16\u001b[0m\u001b[1m}\u001b[0m | Score: \u001b[1;36m0.7699999809265137\u001b[0m                                                    \n"
      ]
     },
     "metadata": {},
     "output_type": "display_data"
    },
    {
     "data": {
      "application/vnd.jupyter.widget-view+json": {
       "model_id": "03043fbc1ce54ce598e44a1df6f07000",
       "version_major": 2,
       "version_minor": 0
      },
      "text/plain": [
       "Finding best initial lr:   0%|          | 0/100 [00:00<?, ?it/s]"
      ]
     },
     "metadata": {},
     "output_type": "display_data"
    },
    {
     "data": {
      "text/html": [
       "<pre style=\"white-space:pre;overflow-x:auto;line-height:normal;font-family:Menlo,'DejaVu Sans Mono',consolas,'Courier New',monospace\"><span style=\"color: #008080; text-decoration-color: #008080; font-weight: bold\">2025</span>-<span style=\"color: #008080; text-decoration-color: #008080; font-weight: bold\">02</span>-<span style=\"color: #008080; text-decoration-color: #008080; font-weight: bold\">26</span> <span style=\"color: #00ff00; text-decoration-color: #00ff00; font-weight: bold\">10:21:03</span>,<span style=\"color: #008080; text-decoration-color: #008080; font-weight: bold\">169</span> - <span style=\"font-weight: bold\">{</span>pytorch_tabular.tabular_model_tuner:<span style=\"color: #008080; text-decoration-color: #008080; font-weight: bold\">412</span><span style=\"font-weight: bold\">}</span> - INFO - Trial <span style=\"color: #008080; text-decoration-color: #008080; font-weight: bold\">18</span>/<span style=\"color: #008080; text-decoration-color: #008080; font-weight: bold\">54</span>: <span style=\"font-weight: bold\">{</span><span style=\"color: #008000; text-decoration-color: #008000\">'model'</span>:                \n",
       "<span style=\"color: #008000; text-decoration-color: #008000\">'1-DANetConfig'</span>, <span style=\"color: #008000; text-decoration-color: #008000\">'model_config__abstlay_dim_1'</span>: <span style=\"color: #008080; text-decoration-color: #008080; font-weight: bold\">16</span>, <span style=\"color: #008000; text-decoration-color: #008000\">'model_config__abstlay_dim_2'</span>: <span style=\"color: #008080; text-decoration-color: #008080; font-weight: bold\">128</span>, <span style=\"color: #008000; text-decoration-color: #008000\">'model_config__n_layers'</span>:  \n",
       "<span style=\"color: #008080; text-decoration-color: #008080; font-weight: bold\">16</span>, <span style=\"color: #008000; text-decoration-color: #008000\">'optimizer_config__optimizer'</span>: <span style=\"color: #008000; text-decoration-color: #008000\">'AdamW'</span>, <span style=\"color: #008000; text-decoration-color: #008000\">'loss_0'</span>: <span style=\"color: #008080; text-decoration-color: #008080; font-weight: bold\">0.5664991736412048</span>, <span style=\"color: #008000; text-decoration-color: #008000\">'loss'</span>: <span style=\"color: #008080; text-decoration-color: #008080; font-weight: bold\">0.5664991736412048</span>, <span style=\"color: #008000; text-decoration-color: #008000\">'accuracy'</span>:  \n",
       "<span style=\"color: #008080; text-decoration-color: #008080; font-weight: bold\">0.7733333110809326</span>, <span style=\"color: #008000; text-decoration-color: #008000\">'trial_id'</span>: <span style=\"color: #008080; text-decoration-color: #008080; font-weight: bold\">17</span><span style=\"font-weight: bold\">}</span> | Score: <span style=\"color: #008080; text-decoration-color: #008080; font-weight: bold\">0.7733333110809326</span>                                                    \n",
       "</pre>\n"
      ],
      "text/plain": [
       "\u001b[1;36m2025\u001b[0m-\u001b[1;36m02\u001b[0m-\u001b[1;36m26\u001b[0m \u001b[1;92m10:21:03\u001b[0m,\u001b[1;36m169\u001b[0m - \u001b[1m{\u001b[0mpytorch_tabular.tabular_model_tuner:\u001b[1;36m412\u001b[0m\u001b[1m}\u001b[0m - INFO - Trial \u001b[1;36m18\u001b[0m/\u001b[1;36m54\u001b[0m: \u001b[1m{\u001b[0m\u001b[32m'model'\u001b[0m:                \n",
       "\u001b[32m'1-DANetConfig'\u001b[0m, \u001b[32m'model_config__abstlay_dim_1'\u001b[0m: \u001b[1;36m16\u001b[0m, \u001b[32m'model_config__abstlay_dim_2'\u001b[0m: \u001b[1;36m128\u001b[0m, \u001b[32m'model_config__n_layers'\u001b[0m:  \n",
       "\u001b[1;36m16\u001b[0m, \u001b[32m'optimizer_config__optimizer'\u001b[0m: \u001b[32m'AdamW'\u001b[0m, \u001b[32m'loss_0'\u001b[0m: \u001b[1;36m0.5664991736412048\u001b[0m, \u001b[32m'loss'\u001b[0m: \u001b[1;36m0.5664991736412048\u001b[0m, \u001b[32m'accuracy'\u001b[0m:  \n",
       "\u001b[1;36m0.7733333110809326\u001b[0m, \u001b[32m'trial_id'\u001b[0m: \u001b[1;36m17\u001b[0m\u001b[1m}\u001b[0m | Score: \u001b[1;36m0.7733333110809326\u001b[0m                                                    \n"
      ]
     },
     "metadata": {},
     "output_type": "display_data"
    },
    {
     "data": {
      "application/vnd.jupyter.widget-view+json": {
       "model_id": "aed6c4fdb2c5469fa0a421d0e6afc807",
       "version_major": 2,
       "version_minor": 0
      },
      "text/plain": [
       "Finding best initial lr:   0%|          | 0/100 [00:00<?, ?it/s]"
      ]
     },
     "metadata": {},
     "output_type": "display_data"
    },
    {
     "data": {
      "text/html": [
       "<pre style=\"white-space:pre;overflow-x:auto;line-height:normal;font-family:Menlo,'DejaVu Sans Mono',consolas,'Courier New',monospace\"><span style=\"color: #008080; text-decoration-color: #008080; font-weight: bold\">2025</span>-<span style=\"color: #008080; text-decoration-color: #008080; font-weight: bold\">02</span>-<span style=\"color: #008080; text-decoration-color: #008080; font-weight: bold\">26</span> <span style=\"color: #00ff00; text-decoration-color: #00ff00; font-weight: bold\">10:21:41</span>,<span style=\"color: #008080; text-decoration-color: #008080; font-weight: bold\">406</span> - <span style=\"font-weight: bold\">{</span>pytorch_tabular.tabular_model_tuner:<span style=\"color: #008080; text-decoration-color: #008080; font-weight: bold\">412</span><span style=\"font-weight: bold\">}</span> - INFO - Trial <span style=\"color: #008080; text-decoration-color: #008080; font-weight: bold\">19</span>/<span style=\"color: #008080; text-decoration-color: #008080; font-weight: bold\">54</span>: <span style=\"font-weight: bold\">{</span><span style=\"color: #008000; text-decoration-color: #008000\">'model'</span>:                \n",
       "<span style=\"color: #008000; text-decoration-color: #008000\">'1-DANetConfig'</span>, <span style=\"color: #008000; text-decoration-color: #008000\">'model_config__abstlay_dim_1'</span>: <span style=\"color: #008080; text-decoration-color: #008080; font-weight: bold\">32</span>, <span style=\"color: #008000; text-decoration-color: #008000\">'model_config__abstlay_dim_2'</span>: <span style=\"color: #008080; text-decoration-color: #008080; font-weight: bold\">32</span>, <span style=\"color: #008000; text-decoration-color: #008000\">'model_config__n_layers'</span>: <span style=\"color: #008080; text-decoration-color: #008080; font-weight: bold\">4</span>,\n",
       "<span style=\"color: #008000; text-decoration-color: #008000\">'optimizer_config__optimizer'</span>: <span style=\"color: #008000; text-decoration-color: #008000\">'Adam'</span>, <span style=\"color: #008000; text-decoration-color: #008000\">'loss_0'</span>: <span style=\"color: #008080; text-decoration-color: #008080; font-weight: bold\">0.5526057481765747</span>, <span style=\"color: #008000; text-decoration-color: #008000\">'loss'</span>: <span style=\"color: #008080; text-decoration-color: #008080; font-weight: bold\">0.5526057481765747</span>, <span style=\"color: #008000; text-decoration-color: #008000\">'accuracy'</span>:       \n",
       "<span style=\"color: #008080; text-decoration-color: #008080; font-weight: bold\">0.8083333373069763</span>, <span style=\"color: #008000; text-decoration-color: #008000\">'trial_id'</span>: <span style=\"color: #008080; text-decoration-color: #008080; font-weight: bold\">18</span><span style=\"font-weight: bold\">}</span> | Score: <span style=\"color: #008080; text-decoration-color: #008080; font-weight: bold\">0.8083333373069763</span>                                                    \n",
       "</pre>\n"
      ],
      "text/plain": [
       "\u001b[1;36m2025\u001b[0m-\u001b[1;36m02\u001b[0m-\u001b[1;36m26\u001b[0m \u001b[1;92m10:21:41\u001b[0m,\u001b[1;36m406\u001b[0m - \u001b[1m{\u001b[0mpytorch_tabular.tabular_model_tuner:\u001b[1;36m412\u001b[0m\u001b[1m}\u001b[0m - INFO - Trial \u001b[1;36m19\u001b[0m/\u001b[1;36m54\u001b[0m: \u001b[1m{\u001b[0m\u001b[32m'model'\u001b[0m:                \n",
       "\u001b[32m'1-DANetConfig'\u001b[0m, \u001b[32m'model_config__abstlay_dim_1'\u001b[0m: \u001b[1;36m32\u001b[0m, \u001b[32m'model_config__abstlay_dim_2'\u001b[0m: \u001b[1;36m32\u001b[0m, \u001b[32m'model_config__n_layers'\u001b[0m: \u001b[1;36m4\u001b[0m,\n",
       "\u001b[32m'optimizer_config__optimizer'\u001b[0m: \u001b[32m'Adam'\u001b[0m, \u001b[32m'loss_0'\u001b[0m: \u001b[1;36m0.5526057481765747\u001b[0m, \u001b[32m'loss'\u001b[0m: \u001b[1;36m0.5526057481765747\u001b[0m, \u001b[32m'accuracy'\u001b[0m:       \n",
       "\u001b[1;36m0.8083333373069763\u001b[0m, \u001b[32m'trial_id'\u001b[0m: \u001b[1;36m18\u001b[0m\u001b[1m}\u001b[0m | Score: \u001b[1;36m0.8083333373069763\u001b[0m                                                    \n"
      ]
     },
     "metadata": {},
     "output_type": "display_data"
    },
    {
     "data": {
      "application/vnd.jupyter.widget-view+json": {
       "model_id": "5d70490611bf4c6c8b3462fa5710ce7a",
       "version_major": 2,
       "version_minor": 0
      },
      "text/plain": [
       "Finding best initial lr:   0%|          | 0/100 [00:00<?, ?it/s]"
      ]
     },
     "metadata": {},
     "output_type": "display_data"
    },
    {
     "data": {
      "text/html": [
       "<pre style=\"white-space:pre;overflow-x:auto;line-height:normal;font-family:Menlo,'DejaVu Sans Mono',consolas,'Courier New',monospace\"><span style=\"color: #008080; text-decoration-color: #008080; font-weight: bold\">2025</span>-<span style=\"color: #008080; text-decoration-color: #008080; font-weight: bold\">02</span>-<span style=\"color: #008080; text-decoration-color: #008080; font-weight: bold\">26</span> <span style=\"color: #00ff00; text-decoration-color: #00ff00; font-weight: bold\">10:22:18</span>,<span style=\"color: #008080; text-decoration-color: #008080; font-weight: bold\">722</span> - <span style=\"font-weight: bold\">{</span>pytorch_tabular.tabular_model_tuner:<span style=\"color: #008080; text-decoration-color: #008080; font-weight: bold\">412</span><span style=\"font-weight: bold\">}</span> - INFO - Trial <span style=\"color: #008080; text-decoration-color: #008080; font-weight: bold\">20</span>/<span style=\"color: #008080; text-decoration-color: #008080; font-weight: bold\">54</span>: <span style=\"font-weight: bold\">{</span><span style=\"color: #008000; text-decoration-color: #008000\">'model'</span>:                \n",
       "<span style=\"color: #008000; text-decoration-color: #008000\">'1-DANetConfig'</span>, <span style=\"color: #008000; text-decoration-color: #008000\">'model_config__abstlay_dim_1'</span>: <span style=\"color: #008080; text-decoration-color: #008080; font-weight: bold\">32</span>, <span style=\"color: #008000; text-decoration-color: #008000\">'model_config__abstlay_dim_2'</span>: <span style=\"color: #008080; text-decoration-color: #008080; font-weight: bold\">32</span>, <span style=\"color: #008000; text-decoration-color: #008000\">'model_config__n_layers'</span>: <span style=\"color: #008080; text-decoration-color: #008080; font-weight: bold\">4</span>,\n",
       "<span style=\"color: #008000; text-decoration-color: #008000\">'optimizer_config__optimizer'</span>: <span style=\"color: #008000; text-decoration-color: #008000\">'AdamW'</span>, <span style=\"color: #008000; text-decoration-color: #008000\">'loss_0'</span>: <span style=\"color: #008080; text-decoration-color: #008080; font-weight: bold\">0.5129860639572144</span>, <span style=\"color: #008000; text-decoration-color: #008000\">'loss'</span>: <span style=\"color: #008080; text-decoration-color: #008080; font-weight: bold\">0.5129860639572144</span>, <span style=\"color: #008000; text-decoration-color: #008000\">'accuracy'</span>:      \n",
       "<span style=\"color: #008080; text-decoration-color: #008080; font-weight: bold\">0.8199999928474426</span>, <span style=\"color: #008000; text-decoration-color: #008000\">'trial_id'</span>: <span style=\"color: #008080; text-decoration-color: #008080; font-weight: bold\">19</span><span style=\"font-weight: bold\">}</span> | Score: <span style=\"color: #008080; text-decoration-color: #008080; font-weight: bold\">0.8199999928474426</span>                                                    \n",
       "</pre>\n"
      ],
      "text/plain": [
       "\u001b[1;36m2025\u001b[0m-\u001b[1;36m02\u001b[0m-\u001b[1;36m26\u001b[0m \u001b[1;92m10:22:18\u001b[0m,\u001b[1;36m722\u001b[0m - \u001b[1m{\u001b[0mpytorch_tabular.tabular_model_tuner:\u001b[1;36m412\u001b[0m\u001b[1m}\u001b[0m - INFO - Trial \u001b[1;36m20\u001b[0m/\u001b[1;36m54\u001b[0m: \u001b[1m{\u001b[0m\u001b[32m'model'\u001b[0m:                \n",
       "\u001b[32m'1-DANetConfig'\u001b[0m, \u001b[32m'model_config__abstlay_dim_1'\u001b[0m: \u001b[1;36m32\u001b[0m, \u001b[32m'model_config__abstlay_dim_2'\u001b[0m: \u001b[1;36m32\u001b[0m, \u001b[32m'model_config__n_layers'\u001b[0m: \u001b[1;36m4\u001b[0m,\n",
       "\u001b[32m'optimizer_config__optimizer'\u001b[0m: \u001b[32m'AdamW'\u001b[0m, \u001b[32m'loss_0'\u001b[0m: \u001b[1;36m0.5129860639572144\u001b[0m, \u001b[32m'loss'\u001b[0m: \u001b[1;36m0.5129860639572144\u001b[0m, \u001b[32m'accuracy'\u001b[0m:      \n",
       "\u001b[1;36m0.8199999928474426\u001b[0m, \u001b[32m'trial_id'\u001b[0m: \u001b[1;36m19\u001b[0m\u001b[1m}\u001b[0m | Score: \u001b[1;36m0.8199999928474426\u001b[0m                                                    \n"
      ]
     },
     "metadata": {},
     "output_type": "display_data"
    },
    {
     "data": {
      "application/vnd.jupyter.widget-view+json": {
       "model_id": "58cbc1e39c5149f7ace84b53459a3d99",
       "version_major": 2,
       "version_minor": 0
      },
      "text/plain": [
       "Finding best initial lr:   0%|          | 0/100 [00:00<?, ?it/s]"
      ]
     },
     "metadata": {},
     "output_type": "display_data"
    },
    {
     "data": {
      "text/html": [
       "<pre style=\"white-space:pre;overflow-x:auto;line-height:normal;font-family:Menlo,'DejaVu Sans Mono',consolas,'Courier New',monospace\"><span style=\"color: #008080; text-decoration-color: #008080; font-weight: bold\">2025</span>-<span style=\"color: #008080; text-decoration-color: #008080; font-weight: bold\">02</span>-<span style=\"color: #008080; text-decoration-color: #008080; font-weight: bold\">26</span> <span style=\"color: #00ff00; text-decoration-color: #00ff00; font-weight: bold\">10:23:17</span>,<span style=\"color: #008080; text-decoration-color: #008080; font-weight: bold\">374</span> - <span style=\"font-weight: bold\">{</span>pytorch_tabular.tabular_model_tuner:<span style=\"color: #008080; text-decoration-color: #008080; font-weight: bold\">412</span><span style=\"font-weight: bold\">}</span> - INFO - Trial <span style=\"color: #008080; text-decoration-color: #008080; font-weight: bold\">21</span>/<span style=\"color: #008080; text-decoration-color: #008080; font-weight: bold\">54</span>: <span style=\"font-weight: bold\">{</span><span style=\"color: #008000; text-decoration-color: #008000\">'model'</span>:                \n",
       "<span style=\"color: #008000; text-decoration-color: #008000\">'1-DANetConfig'</span>, <span style=\"color: #008000; text-decoration-color: #008000\">'model_config__abstlay_dim_1'</span>: <span style=\"color: #008080; text-decoration-color: #008080; font-weight: bold\">32</span>, <span style=\"color: #008000; text-decoration-color: #008000\">'model_config__abstlay_dim_2'</span>: <span style=\"color: #008080; text-decoration-color: #008080; font-weight: bold\">32</span>, <span style=\"color: #008000; text-decoration-color: #008000\">'model_config__n_layers'</span>: <span style=\"color: #008080; text-decoration-color: #008080; font-weight: bold\">8</span>,\n",
       "<span style=\"color: #008000; text-decoration-color: #008000\">'optimizer_config__optimizer'</span>: <span style=\"color: #008000; text-decoration-color: #008000\">'Adam'</span>, <span style=\"color: #008000; text-decoration-color: #008000\">'loss_0'</span>: <span style=\"color: #008080; text-decoration-color: #008080; font-weight: bold\">0.5777369737625122</span>, <span style=\"color: #008000; text-decoration-color: #008000\">'loss'</span>: <span style=\"color: #008080; text-decoration-color: #008080; font-weight: bold\">0.5777369737625122</span>, <span style=\"color: #008000; text-decoration-color: #008000\">'accuracy'</span>:       \n",
       "<span style=\"color: #008080; text-decoration-color: #008080; font-weight: bold\">0.7733333110809326</span>, <span style=\"color: #008000; text-decoration-color: #008000\">'trial_id'</span>: <span style=\"color: #008080; text-decoration-color: #008080; font-weight: bold\">20</span><span style=\"font-weight: bold\">}</span> | Score: <span style=\"color: #008080; text-decoration-color: #008080; font-weight: bold\">0.7733333110809326</span>                                                    \n",
       "</pre>\n"
      ],
      "text/plain": [
       "\u001b[1;36m2025\u001b[0m-\u001b[1;36m02\u001b[0m-\u001b[1;36m26\u001b[0m \u001b[1;92m10:23:17\u001b[0m,\u001b[1;36m374\u001b[0m - \u001b[1m{\u001b[0mpytorch_tabular.tabular_model_tuner:\u001b[1;36m412\u001b[0m\u001b[1m}\u001b[0m - INFO - Trial \u001b[1;36m21\u001b[0m/\u001b[1;36m54\u001b[0m: \u001b[1m{\u001b[0m\u001b[32m'model'\u001b[0m:                \n",
       "\u001b[32m'1-DANetConfig'\u001b[0m, \u001b[32m'model_config__abstlay_dim_1'\u001b[0m: \u001b[1;36m32\u001b[0m, \u001b[32m'model_config__abstlay_dim_2'\u001b[0m: \u001b[1;36m32\u001b[0m, \u001b[32m'model_config__n_layers'\u001b[0m: \u001b[1;36m8\u001b[0m,\n",
       "\u001b[32m'optimizer_config__optimizer'\u001b[0m: \u001b[32m'Adam'\u001b[0m, \u001b[32m'loss_0'\u001b[0m: \u001b[1;36m0.5777369737625122\u001b[0m, \u001b[32m'loss'\u001b[0m: \u001b[1;36m0.5777369737625122\u001b[0m, \u001b[32m'accuracy'\u001b[0m:       \n",
       "\u001b[1;36m0.7733333110809326\u001b[0m, \u001b[32m'trial_id'\u001b[0m: \u001b[1;36m20\u001b[0m\u001b[1m}\u001b[0m | Score: \u001b[1;36m0.7733333110809326\u001b[0m                                                    \n"
      ]
     },
     "metadata": {},
     "output_type": "display_data"
    },
    {
     "data": {
      "application/vnd.jupyter.widget-view+json": {
       "model_id": "103b411d3e7546488a2dc9a2edcdab3c",
       "version_major": 2,
       "version_minor": 0
      },
      "text/plain": [
       "Finding best initial lr:   0%|          | 0/100 [00:00<?, ?it/s]"
      ]
     },
     "metadata": {},
     "output_type": "display_data"
    },
    {
     "data": {
      "text/html": [
       "<pre style=\"white-space:pre;overflow-x:auto;line-height:normal;font-family:Menlo,'DejaVu Sans Mono',consolas,'Courier New',monospace\"><span style=\"color: #008080; text-decoration-color: #008080; font-weight: bold\">2025</span>-<span style=\"color: #008080; text-decoration-color: #008080; font-weight: bold\">02</span>-<span style=\"color: #008080; text-decoration-color: #008080; font-weight: bold\">26</span> <span style=\"color: #00ff00; text-decoration-color: #00ff00; font-weight: bold\">10:24:15</span>,<span style=\"color: #008080; text-decoration-color: #008080; font-weight: bold\">035</span> - <span style=\"font-weight: bold\">{</span>pytorch_tabular.tabular_model_tuner:<span style=\"color: #008080; text-decoration-color: #008080; font-weight: bold\">412</span><span style=\"font-weight: bold\">}</span> - INFO - Trial <span style=\"color: #008080; text-decoration-color: #008080; font-weight: bold\">22</span>/<span style=\"color: #008080; text-decoration-color: #008080; font-weight: bold\">54</span>: <span style=\"font-weight: bold\">{</span><span style=\"color: #008000; text-decoration-color: #008000\">'model'</span>:                \n",
       "<span style=\"color: #008000; text-decoration-color: #008000\">'1-DANetConfig'</span>, <span style=\"color: #008000; text-decoration-color: #008000\">'model_config__abstlay_dim_1'</span>: <span style=\"color: #008080; text-decoration-color: #008080; font-weight: bold\">32</span>, <span style=\"color: #008000; text-decoration-color: #008000\">'model_config__abstlay_dim_2'</span>: <span style=\"color: #008080; text-decoration-color: #008080; font-weight: bold\">32</span>, <span style=\"color: #008000; text-decoration-color: #008000\">'model_config__n_layers'</span>: <span style=\"color: #008080; text-decoration-color: #008080; font-weight: bold\">8</span>,\n",
       "<span style=\"color: #008000; text-decoration-color: #008000\">'optimizer_config__optimizer'</span>: <span style=\"color: #008000; text-decoration-color: #008000\">'AdamW'</span>, <span style=\"color: #008000; text-decoration-color: #008000\">'loss_0'</span>: <span style=\"color: #008080; text-decoration-color: #008080; font-weight: bold\">0.572403073310852</span>, <span style=\"color: #008000; text-decoration-color: #008000\">'loss'</span>: <span style=\"color: #008080; text-decoration-color: #008080; font-weight: bold\">0.572403073310852</span>, <span style=\"color: #008000; text-decoration-color: #008000\">'accuracy'</span>:        \n",
       "<span style=\"color: #008080; text-decoration-color: #008080; font-weight: bold\">0.7850000262260437</span>, <span style=\"color: #008000; text-decoration-color: #008000\">'trial_id'</span>: <span style=\"color: #008080; text-decoration-color: #008080; font-weight: bold\">21</span><span style=\"font-weight: bold\">}</span> | Score: <span style=\"color: #008080; text-decoration-color: #008080; font-weight: bold\">0.7850000262260437</span>                                                    \n",
       "</pre>\n"
      ],
      "text/plain": [
       "\u001b[1;36m2025\u001b[0m-\u001b[1;36m02\u001b[0m-\u001b[1;36m26\u001b[0m \u001b[1;92m10:24:15\u001b[0m,\u001b[1;36m035\u001b[0m - \u001b[1m{\u001b[0mpytorch_tabular.tabular_model_tuner:\u001b[1;36m412\u001b[0m\u001b[1m}\u001b[0m - INFO - Trial \u001b[1;36m22\u001b[0m/\u001b[1;36m54\u001b[0m: \u001b[1m{\u001b[0m\u001b[32m'model'\u001b[0m:                \n",
       "\u001b[32m'1-DANetConfig'\u001b[0m, \u001b[32m'model_config__abstlay_dim_1'\u001b[0m: \u001b[1;36m32\u001b[0m, \u001b[32m'model_config__abstlay_dim_2'\u001b[0m: \u001b[1;36m32\u001b[0m, \u001b[32m'model_config__n_layers'\u001b[0m: \u001b[1;36m8\u001b[0m,\n",
       "\u001b[32m'optimizer_config__optimizer'\u001b[0m: \u001b[32m'AdamW'\u001b[0m, \u001b[32m'loss_0'\u001b[0m: \u001b[1;36m0.572403073310852\u001b[0m, \u001b[32m'loss'\u001b[0m: \u001b[1;36m0.572403073310852\u001b[0m, \u001b[32m'accuracy'\u001b[0m:        \n",
       "\u001b[1;36m0.7850000262260437\u001b[0m, \u001b[32m'trial_id'\u001b[0m: \u001b[1;36m21\u001b[0m\u001b[1m}\u001b[0m | Score: \u001b[1;36m0.7850000262260437\u001b[0m                                                    \n"
      ]
     },
     "metadata": {},
     "output_type": "display_data"
    },
    {
     "data": {
      "application/vnd.jupyter.widget-view+json": {
       "model_id": "95b37c0d01d34d199b9ccac22a317b9c",
       "version_major": 2,
       "version_minor": 0
      },
      "text/plain": [
       "Finding best initial lr:   0%|          | 0/100 [00:00<?, ?it/s]"
      ]
     },
     "metadata": {},
     "output_type": "display_data"
    },
    {
     "data": {
      "text/html": [
       "<pre style=\"white-space:pre;overflow-x:auto;line-height:normal;font-family:Menlo,'DejaVu Sans Mono',consolas,'Courier New',monospace\"><span style=\"color: #008080; text-decoration-color: #008080; font-weight: bold\">2025</span>-<span style=\"color: #008080; text-decoration-color: #008080; font-weight: bold\">02</span>-<span style=\"color: #008080; text-decoration-color: #008080; font-weight: bold\">26</span> <span style=\"color: #00ff00; text-decoration-color: #00ff00; font-weight: bold\">10:26:36</span>,<span style=\"color: #008080; text-decoration-color: #008080; font-weight: bold\">589</span> - <span style=\"font-weight: bold\">{</span>pytorch_tabular.tabular_model_tuner:<span style=\"color: #008080; text-decoration-color: #008080; font-weight: bold\">412</span><span style=\"font-weight: bold\">}</span> - INFO - Trial <span style=\"color: #008080; text-decoration-color: #008080; font-weight: bold\">23</span>/<span style=\"color: #008080; text-decoration-color: #008080; font-weight: bold\">54</span>: <span style=\"font-weight: bold\">{</span><span style=\"color: #008000; text-decoration-color: #008000\">'model'</span>:                \n",
       "<span style=\"color: #008000; text-decoration-color: #008000\">'1-DANetConfig'</span>, <span style=\"color: #008000; text-decoration-color: #008000\">'model_config__abstlay_dim_1'</span>: <span style=\"color: #008080; text-decoration-color: #008080; font-weight: bold\">32</span>, <span style=\"color: #008000; text-decoration-color: #008000\">'model_config__abstlay_dim_2'</span>: <span style=\"color: #008080; text-decoration-color: #008080; font-weight: bold\">32</span>, <span style=\"color: #008000; text-decoration-color: #008000\">'model_config__n_layers'</span>:   \n",
       "<span style=\"color: #008080; text-decoration-color: #008080; font-weight: bold\">16</span>, <span style=\"color: #008000; text-decoration-color: #008000\">'optimizer_config__optimizer'</span>: <span style=\"color: #008000; text-decoration-color: #008000\">'Adam'</span>, <span style=\"color: #008000; text-decoration-color: #008000\">'loss_0'</span>: <span style=\"color: #008080; text-decoration-color: #008080; font-weight: bold\">0.5804307460784912</span>, <span style=\"color: #008000; text-decoration-color: #008000\">'loss'</span>: <span style=\"color: #008080; text-decoration-color: #008080; font-weight: bold\">0.5804307460784912</span>, <span style=\"color: #008000; text-decoration-color: #008000\">'accuracy'</span>:   \n",
       "<span style=\"color: #008080; text-decoration-color: #008080; font-weight: bold\">0.7816666960716248</span>, <span style=\"color: #008000; text-decoration-color: #008000\">'trial_id'</span>: <span style=\"color: #008080; text-decoration-color: #008080; font-weight: bold\">22</span><span style=\"font-weight: bold\">}</span> | Score: <span style=\"color: #008080; text-decoration-color: #008080; font-weight: bold\">0.7816666960716248</span>                                                    \n",
       "</pre>\n"
      ],
      "text/plain": [
       "\u001b[1;36m2025\u001b[0m-\u001b[1;36m02\u001b[0m-\u001b[1;36m26\u001b[0m \u001b[1;92m10:26:36\u001b[0m,\u001b[1;36m589\u001b[0m - \u001b[1m{\u001b[0mpytorch_tabular.tabular_model_tuner:\u001b[1;36m412\u001b[0m\u001b[1m}\u001b[0m - INFO - Trial \u001b[1;36m23\u001b[0m/\u001b[1;36m54\u001b[0m: \u001b[1m{\u001b[0m\u001b[32m'model'\u001b[0m:                \n",
       "\u001b[32m'1-DANetConfig'\u001b[0m, \u001b[32m'model_config__abstlay_dim_1'\u001b[0m: \u001b[1;36m32\u001b[0m, \u001b[32m'model_config__abstlay_dim_2'\u001b[0m: \u001b[1;36m32\u001b[0m, \u001b[32m'model_config__n_layers'\u001b[0m:   \n",
       "\u001b[1;36m16\u001b[0m, \u001b[32m'optimizer_config__optimizer'\u001b[0m: \u001b[32m'Adam'\u001b[0m, \u001b[32m'loss_0'\u001b[0m: \u001b[1;36m0.5804307460784912\u001b[0m, \u001b[32m'loss'\u001b[0m: \u001b[1;36m0.5804307460784912\u001b[0m, \u001b[32m'accuracy'\u001b[0m:   \n",
       "\u001b[1;36m0.7816666960716248\u001b[0m, \u001b[32m'trial_id'\u001b[0m: \u001b[1;36m22\u001b[0m\u001b[1m}\u001b[0m | Score: \u001b[1;36m0.7816666960716248\u001b[0m                                                    \n"
      ]
     },
     "metadata": {},
     "output_type": "display_data"
    },
    {
     "data": {
      "application/vnd.jupyter.widget-view+json": {
       "model_id": "b7020f1718ac404da8684498e80c7c5a",
       "version_major": 2,
       "version_minor": 0
      },
      "text/plain": [
       "Finding best initial lr:   0%|          | 0/100 [00:00<?, ?it/s]"
      ]
     },
     "metadata": {},
     "output_type": "display_data"
    },
    {
     "data": {
      "text/html": [
       "<pre style=\"white-space:pre;overflow-x:auto;line-height:normal;font-family:Menlo,'DejaVu Sans Mono',consolas,'Courier New',monospace\"><span style=\"color: #008080; text-decoration-color: #008080; font-weight: bold\">2025</span>-<span style=\"color: #008080; text-decoration-color: #008080; font-weight: bold\">02</span>-<span style=\"color: #008080; text-decoration-color: #008080; font-weight: bold\">26</span> <span style=\"color: #00ff00; text-decoration-color: #00ff00; font-weight: bold\">10:28:44</span>,<span style=\"color: #008080; text-decoration-color: #008080; font-weight: bold\">716</span> - <span style=\"font-weight: bold\">{</span>pytorch_tabular.tabular_model_tuner:<span style=\"color: #008080; text-decoration-color: #008080; font-weight: bold\">412</span><span style=\"font-weight: bold\">}</span> - INFO - Trial <span style=\"color: #008080; text-decoration-color: #008080; font-weight: bold\">24</span>/<span style=\"color: #008080; text-decoration-color: #008080; font-weight: bold\">54</span>: <span style=\"font-weight: bold\">{</span><span style=\"color: #008000; text-decoration-color: #008000\">'model'</span>:                \n",
       "<span style=\"color: #008000; text-decoration-color: #008000\">'1-DANetConfig'</span>, <span style=\"color: #008000; text-decoration-color: #008000\">'model_config__abstlay_dim_1'</span>: <span style=\"color: #008080; text-decoration-color: #008080; font-weight: bold\">32</span>, <span style=\"color: #008000; text-decoration-color: #008000\">'model_config__abstlay_dim_2'</span>: <span style=\"color: #008080; text-decoration-color: #008080; font-weight: bold\">32</span>, <span style=\"color: #008000; text-decoration-color: #008000\">'model_config__n_layers'</span>:   \n",
       "<span style=\"color: #008080; text-decoration-color: #008080; font-weight: bold\">16</span>, <span style=\"color: #008000; text-decoration-color: #008000\">'optimizer_config__optimizer'</span>: <span style=\"color: #008000; text-decoration-color: #008000\">'AdamW'</span>, <span style=\"color: #008000; text-decoration-color: #008000\">'loss_0'</span>: <span style=\"color: #008080; text-decoration-color: #008080; font-weight: bold\">0.5936295390129089</span>, <span style=\"color: #008000; text-decoration-color: #008000\">'loss'</span>: <span style=\"color: #008080; text-decoration-color: #008080; font-weight: bold\">0.5936295390129089</span>, <span style=\"color: #008000; text-decoration-color: #008000\">'accuracy'</span>:  \n",
       "<span style=\"color: #008080; text-decoration-color: #008080; font-weight: bold\">0.7666666507720947</span>, <span style=\"color: #008000; text-decoration-color: #008000\">'trial_id'</span>: <span style=\"color: #008080; text-decoration-color: #008080; font-weight: bold\">23</span><span style=\"font-weight: bold\">}</span> | Score: <span style=\"color: #008080; text-decoration-color: #008080; font-weight: bold\">0.7666666507720947</span>                                                    \n",
       "</pre>\n"
      ],
      "text/plain": [
       "\u001b[1;36m2025\u001b[0m-\u001b[1;36m02\u001b[0m-\u001b[1;36m26\u001b[0m \u001b[1;92m10:28:44\u001b[0m,\u001b[1;36m716\u001b[0m - \u001b[1m{\u001b[0mpytorch_tabular.tabular_model_tuner:\u001b[1;36m412\u001b[0m\u001b[1m}\u001b[0m - INFO - Trial \u001b[1;36m24\u001b[0m/\u001b[1;36m54\u001b[0m: \u001b[1m{\u001b[0m\u001b[32m'model'\u001b[0m:                \n",
       "\u001b[32m'1-DANetConfig'\u001b[0m, \u001b[32m'model_config__abstlay_dim_1'\u001b[0m: \u001b[1;36m32\u001b[0m, \u001b[32m'model_config__abstlay_dim_2'\u001b[0m: \u001b[1;36m32\u001b[0m, \u001b[32m'model_config__n_layers'\u001b[0m:   \n",
       "\u001b[1;36m16\u001b[0m, \u001b[32m'optimizer_config__optimizer'\u001b[0m: \u001b[32m'AdamW'\u001b[0m, \u001b[32m'loss_0'\u001b[0m: \u001b[1;36m0.5936295390129089\u001b[0m, \u001b[32m'loss'\u001b[0m: \u001b[1;36m0.5936295390129089\u001b[0m, \u001b[32m'accuracy'\u001b[0m:  \n",
       "\u001b[1;36m0.7666666507720947\u001b[0m, \u001b[32m'trial_id'\u001b[0m: \u001b[1;36m23\u001b[0m\u001b[1m}\u001b[0m | Score: \u001b[1;36m0.7666666507720947\u001b[0m                                                    \n"
      ]
     },
     "metadata": {},
     "output_type": "display_data"
    },
    {
     "data": {
      "application/vnd.jupyter.widget-view+json": {
       "model_id": "9dda23a71d224820bade9eb937e27885",
       "version_major": 2,
       "version_minor": 0
      },
      "text/plain": [
       "Finding best initial lr:   0%|          | 0/100 [00:00<?, ?it/s]"
      ]
     },
     "metadata": {},
     "output_type": "display_data"
    },
    {
     "data": {
      "text/html": [
       "<pre style=\"white-space:pre;overflow-x:auto;line-height:normal;font-family:Menlo,'DejaVu Sans Mono',consolas,'Courier New',monospace\"><span style=\"color: #008080; text-decoration-color: #008080; font-weight: bold\">2025</span>-<span style=\"color: #008080; text-decoration-color: #008080; font-weight: bold\">02</span>-<span style=\"color: #008080; text-decoration-color: #008080; font-weight: bold\">26</span> <span style=\"color: #00ff00; text-decoration-color: #00ff00; font-weight: bold\">10:29:22</span>,<span style=\"color: #008080; text-decoration-color: #008080; font-weight: bold\">017</span> - <span style=\"font-weight: bold\">{</span>pytorch_tabular.tabular_model_tuner:<span style=\"color: #008080; text-decoration-color: #008080; font-weight: bold\">412</span><span style=\"font-weight: bold\">}</span> - INFO - Trial <span style=\"color: #008080; text-decoration-color: #008080; font-weight: bold\">25</span>/<span style=\"color: #008080; text-decoration-color: #008080; font-weight: bold\">54</span>: <span style=\"font-weight: bold\">{</span><span style=\"color: #008000; text-decoration-color: #008000\">'model'</span>:                \n",
       "<span style=\"color: #008000; text-decoration-color: #008000\">'1-DANetConfig'</span>, <span style=\"color: #008000; text-decoration-color: #008000\">'model_config__abstlay_dim_1'</span>: <span style=\"color: #008080; text-decoration-color: #008080; font-weight: bold\">32</span>, <span style=\"color: #008000; text-decoration-color: #008000\">'model_config__abstlay_dim_2'</span>: <span style=\"color: #008080; text-decoration-color: #008080; font-weight: bold\">64</span>, <span style=\"color: #008000; text-decoration-color: #008000\">'model_config__n_layers'</span>: <span style=\"color: #008080; text-decoration-color: #008080; font-weight: bold\">4</span>,\n",
       "<span style=\"color: #008000; text-decoration-color: #008000\">'optimizer_config__optimizer'</span>: <span style=\"color: #008000; text-decoration-color: #008000\">'Adam'</span>, <span style=\"color: #008000; text-decoration-color: #008000\">'loss_0'</span>: <span style=\"color: #008080; text-decoration-color: #008080; font-weight: bold\">0.598013699054718</span>, <span style=\"color: #008000; text-decoration-color: #008000\">'loss'</span>: <span style=\"color: #008080; text-decoration-color: #008080; font-weight: bold\">0.598013699054718</span>, <span style=\"color: #008000; text-decoration-color: #008000\">'accuracy'</span>:         \n",
       "<span style=\"color: #008080; text-decoration-color: #008080; font-weight: bold\">0.7599999904632568</span>, <span style=\"color: #008000; text-decoration-color: #008000\">'trial_id'</span>: <span style=\"color: #008080; text-decoration-color: #008080; font-weight: bold\">24</span><span style=\"font-weight: bold\">}</span> | Score: <span style=\"color: #008080; text-decoration-color: #008080; font-weight: bold\">0.7599999904632568</span>                                                    \n",
       "</pre>\n"
      ],
      "text/plain": [
       "\u001b[1;36m2025\u001b[0m-\u001b[1;36m02\u001b[0m-\u001b[1;36m26\u001b[0m \u001b[1;92m10:29:22\u001b[0m,\u001b[1;36m017\u001b[0m - \u001b[1m{\u001b[0mpytorch_tabular.tabular_model_tuner:\u001b[1;36m412\u001b[0m\u001b[1m}\u001b[0m - INFO - Trial \u001b[1;36m25\u001b[0m/\u001b[1;36m54\u001b[0m: \u001b[1m{\u001b[0m\u001b[32m'model'\u001b[0m:                \n",
       "\u001b[32m'1-DANetConfig'\u001b[0m, \u001b[32m'model_config__abstlay_dim_1'\u001b[0m: \u001b[1;36m32\u001b[0m, \u001b[32m'model_config__abstlay_dim_2'\u001b[0m: \u001b[1;36m64\u001b[0m, \u001b[32m'model_config__n_layers'\u001b[0m: \u001b[1;36m4\u001b[0m,\n",
       "\u001b[32m'optimizer_config__optimizer'\u001b[0m: \u001b[32m'Adam'\u001b[0m, \u001b[32m'loss_0'\u001b[0m: \u001b[1;36m0.598013699054718\u001b[0m, \u001b[32m'loss'\u001b[0m: \u001b[1;36m0.598013699054718\u001b[0m, \u001b[32m'accuracy'\u001b[0m:         \n",
       "\u001b[1;36m0.7599999904632568\u001b[0m, \u001b[32m'trial_id'\u001b[0m: \u001b[1;36m24\u001b[0m\u001b[1m}\u001b[0m | Score: \u001b[1;36m0.7599999904632568\u001b[0m                                                    \n"
      ]
     },
     "metadata": {},
     "output_type": "display_data"
    },
    {
     "data": {
      "application/vnd.jupyter.widget-view+json": {
       "model_id": "8b0f42b4c8634f5c8973106521e0a44c",
       "version_major": 2,
       "version_minor": 0
      },
      "text/plain": [
       "Finding best initial lr:   0%|          | 0/100 [00:00<?, ?it/s]"
      ]
     },
     "metadata": {},
     "output_type": "display_data"
    },
    {
     "data": {
      "text/html": [
       "<pre style=\"white-space:pre;overflow-x:auto;line-height:normal;font-family:Menlo,'DejaVu Sans Mono',consolas,'Courier New',monospace\"><span style=\"color: #008080; text-decoration-color: #008080; font-weight: bold\">2025</span>-<span style=\"color: #008080; text-decoration-color: #008080; font-weight: bold\">02</span>-<span style=\"color: #008080; text-decoration-color: #008080; font-weight: bold\">26</span> <span style=\"color: #00ff00; text-decoration-color: #00ff00; font-weight: bold\">10:29:59</span>,<span style=\"color: #008080; text-decoration-color: #008080; font-weight: bold\">708</span> - <span style=\"font-weight: bold\">{</span>pytorch_tabular.tabular_model_tuner:<span style=\"color: #008080; text-decoration-color: #008080; font-weight: bold\">412</span><span style=\"font-weight: bold\">}</span> - INFO - Trial <span style=\"color: #008080; text-decoration-color: #008080; font-weight: bold\">26</span>/<span style=\"color: #008080; text-decoration-color: #008080; font-weight: bold\">54</span>: <span style=\"font-weight: bold\">{</span><span style=\"color: #008000; text-decoration-color: #008000\">'model'</span>:                \n",
       "<span style=\"color: #008000; text-decoration-color: #008000\">'1-DANetConfig'</span>, <span style=\"color: #008000; text-decoration-color: #008000\">'model_config__abstlay_dim_1'</span>: <span style=\"color: #008080; text-decoration-color: #008080; font-weight: bold\">32</span>, <span style=\"color: #008000; text-decoration-color: #008000\">'model_config__abstlay_dim_2'</span>: <span style=\"color: #008080; text-decoration-color: #008080; font-weight: bold\">64</span>, <span style=\"color: #008000; text-decoration-color: #008000\">'model_config__n_layers'</span>: <span style=\"color: #008080; text-decoration-color: #008080; font-weight: bold\">4</span>,\n",
       "<span style=\"color: #008000; text-decoration-color: #008000\">'optimizer_config__optimizer'</span>: <span style=\"color: #008000; text-decoration-color: #008000\">'AdamW'</span>, <span style=\"color: #008000; text-decoration-color: #008000\">'loss_0'</span>: <span style=\"color: #008080; text-decoration-color: #008080; font-weight: bold\">0.540740430355072</span>, <span style=\"color: #008000; text-decoration-color: #008000\">'loss'</span>: <span style=\"color: #008080; text-decoration-color: #008080; font-weight: bold\">0.540740430355072</span>, <span style=\"color: #008000; text-decoration-color: #008000\">'accuracy'</span>:        \n",
       "<span style=\"color: #008080; text-decoration-color: #008080; font-weight: bold\">0.7916666865348816</span>, <span style=\"color: #008000; text-decoration-color: #008000\">'trial_id'</span>: <span style=\"color: #008080; text-decoration-color: #008080; font-weight: bold\">25</span><span style=\"font-weight: bold\">}</span> | Score: <span style=\"color: #008080; text-decoration-color: #008080; font-weight: bold\">0.7916666865348816</span>                                                    \n",
       "</pre>\n"
      ],
      "text/plain": [
       "\u001b[1;36m2025\u001b[0m-\u001b[1;36m02\u001b[0m-\u001b[1;36m26\u001b[0m \u001b[1;92m10:29:59\u001b[0m,\u001b[1;36m708\u001b[0m - \u001b[1m{\u001b[0mpytorch_tabular.tabular_model_tuner:\u001b[1;36m412\u001b[0m\u001b[1m}\u001b[0m - INFO - Trial \u001b[1;36m26\u001b[0m/\u001b[1;36m54\u001b[0m: \u001b[1m{\u001b[0m\u001b[32m'model'\u001b[0m:                \n",
       "\u001b[32m'1-DANetConfig'\u001b[0m, \u001b[32m'model_config__abstlay_dim_1'\u001b[0m: \u001b[1;36m32\u001b[0m, \u001b[32m'model_config__abstlay_dim_2'\u001b[0m: \u001b[1;36m64\u001b[0m, \u001b[32m'model_config__n_layers'\u001b[0m: \u001b[1;36m4\u001b[0m,\n",
       "\u001b[32m'optimizer_config__optimizer'\u001b[0m: \u001b[32m'AdamW'\u001b[0m, \u001b[32m'loss_0'\u001b[0m: \u001b[1;36m0.540740430355072\u001b[0m, \u001b[32m'loss'\u001b[0m: \u001b[1;36m0.540740430355072\u001b[0m, \u001b[32m'accuracy'\u001b[0m:        \n",
       "\u001b[1;36m0.7916666865348816\u001b[0m, \u001b[32m'trial_id'\u001b[0m: \u001b[1;36m25\u001b[0m\u001b[1m}\u001b[0m | Score: \u001b[1;36m0.7916666865348816\u001b[0m                                                    \n"
      ]
     },
     "metadata": {},
     "output_type": "display_data"
    },
    {
     "data": {
      "application/vnd.jupyter.widget-view+json": {
       "model_id": "167a0b94300f42c7adfbc192fa7edb07",
       "version_major": 2,
       "version_minor": 0
      },
      "text/plain": [
       "Finding best initial lr:   0%|          | 0/100 [00:00<?, ?it/s]"
      ]
     },
     "metadata": {},
     "output_type": "display_data"
    },
    {
     "data": {
      "text/html": [
       "<pre style=\"white-space:pre;overflow-x:auto;line-height:normal;font-family:Menlo,'DejaVu Sans Mono',consolas,'Courier New',monospace\"><span style=\"color: #008080; text-decoration-color: #008080; font-weight: bold\">2025</span>-<span style=\"color: #008080; text-decoration-color: #008080; font-weight: bold\">02</span>-<span style=\"color: #008080; text-decoration-color: #008080; font-weight: bold\">26</span> <span style=\"color: #00ff00; text-decoration-color: #00ff00; font-weight: bold\">10:30:56</span>,<span style=\"color: #008080; text-decoration-color: #008080; font-weight: bold\">413</span> - <span style=\"font-weight: bold\">{</span>pytorch_tabular.tabular_model_tuner:<span style=\"color: #008080; text-decoration-color: #008080; font-weight: bold\">412</span><span style=\"font-weight: bold\">}</span> - INFO - Trial <span style=\"color: #008080; text-decoration-color: #008080; font-weight: bold\">27</span>/<span style=\"color: #008080; text-decoration-color: #008080; font-weight: bold\">54</span>: <span style=\"font-weight: bold\">{</span><span style=\"color: #008000; text-decoration-color: #008000\">'model'</span>:                \n",
       "<span style=\"color: #008000; text-decoration-color: #008000\">'1-DANetConfig'</span>, <span style=\"color: #008000; text-decoration-color: #008000\">'model_config__abstlay_dim_1'</span>: <span style=\"color: #008080; text-decoration-color: #008080; font-weight: bold\">32</span>, <span style=\"color: #008000; text-decoration-color: #008000\">'model_config__abstlay_dim_2'</span>: <span style=\"color: #008080; text-decoration-color: #008080; font-weight: bold\">64</span>, <span style=\"color: #008000; text-decoration-color: #008000\">'model_config__n_layers'</span>: <span style=\"color: #008080; text-decoration-color: #008080; font-weight: bold\">8</span>,\n",
       "<span style=\"color: #008000; text-decoration-color: #008000\">'optimizer_config__optimizer'</span>: <span style=\"color: #008000; text-decoration-color: #008000\">'Adam'</span>, <span style=\"color: #008000; text-decoration-color: #008000\">'loss_0'</span>: <span style=\"color: #008080; text-decoration-color: #008080; font-weight: bold\">0.5533960461616516</span>, <span style=\"color: #008000; text-decoration-color: #008000\">'loss'</span>: <span style=\"color: #008080; text-decoration-color: #008080; font-weight: bold\">0.5533960461616516</span>, <span style=\"color: #008000; text-decoration-color: #008000\">'accuracy'</span>:       \n",
       "<span style=\"color: #008080; text-decoration-color: #008080; font-weight: bold\">0.7916666865348816</span>, <span style=\"color: #008000; text-decoration-color: #008000\">'trial_id'</span>: <span style=\"color: #008080; text-decoration-color: #008080; font-weight: bold\">26</span><span style=\"font-weight: bold\">}</span> | Score: <span style=\"color: #008080; text-decoration-color: #008080; font-weight: bold\">0.7916666865348816</span>                                                    \n",
       "</pre>\n"
      ],
      "text/plain": [
       "\u001b[1;36m2025\u001b[0m-\u001b[1;36m02\u001b[0m-\u001b[1;36m26\u001b[0m \u001b[1;92m10:30:56\u001b[0m,\u001b[1;36m413\u001b[0m - \u001b[1m{\u001b[0mpytorch_tabular.tabular_model_tuner:\u001b[1;36m412\u001b[0m\u001b[1m}\u001b[0m - INFO - Trial \u001b[1;36m27\u001b[0m/\u001b[1;36m54\u001b[0m: \u001b[1m{\u001b[0m\u001b[32m'model'\u001b[0m:                \n",
       "\u001b[32m'1-DANetConfig'\u001b[0m, \u001b[32m'model_config__abstlay_dim_1'\u001b[0m: \u001b[1;36m32\u001b[0m, \u001b[32m'model_config__abstlay_dim_2'\u001b[0m: \u001b[1;36m64\u001b[0m, \u001b[32m'model_config__n_layers'\u001b[0m: \u001b[1;36m8\u001b[0m,\n",
       "\u001b[32m'optimizer_config__optimizer'\u001b[0m: \u001b[32m'Adam'\u001b[0m, \u001b[32m'loss_0'\u001b[0m: \u001b[1;36m0.5533960461616516\u001b[0m, \u001b[32m'loss'\u001b[0m: \u001b[1;36m0.5533960461616516\u001b[0m, \u001b[32m'accuracy'\u001b[0m:       \n",
       "\u001b[1;36m0.7916666865348816\u001b[0m, \u001b[32m'trial_id'\u001b[0m: \u001b[1;36m26\u001b[0m\u001b[1m}\u001b[0m | Score: \u001b[1;36m0.7916666865348816\u001b[0m                                                    \n"
      ]
     },
     "metadata": {},
     "output_type": "display_data"
    },
    {
     "data": {
      "application/vnd.jupyter.widget-view+json": {
       "model_id": "22d0cf7dd50b47fd82091674e035a7d6",
       "version_major": 2,
       "version_minor": 0
      },
      "text/plain": [
       "Finding best initial lr:   0%|          | 0/100 [00:00<?, ?it/s]"
      ]
     },
     "metadata": {},
     "output_type": "display_data"
    },
    {
     "data": {
      "text/html": [
       "<pre style=\"white-space:pre;overflow-x:auto;line-height:normal;font-family:Menlo,'DejaVu Sans Mono',consolas,'Courier New',monospace\"><span style=\"color: #008080; text-decoration-color: #008080; font-weight: bold\">2025</span>-<span style=\"color: #008080; text-decoration-color: #008080; font-weight: bold\">02</span>-<span style=\"color: #008080; text-decoration-color: #008080; font-weight: bold\">26</span> <span style=\"color: #00ff00; text-decoration-color: #00ff00; font-weight: bold\">10:32:00</span>,<span style=\"color: #008080; text-decoration-color: #008080; font-weight: bold\">246</span> - <span style=\"font-weight: bold\">{</span>pytorch_tabular.tabular_model_tuner:<span style=\"color: #008080; text-decoration-color: #008080; font-weight: bold\">412</span><span style=\"font-weight: bold\">}</span> - INFO - Trial <span style=\"color: #008080; text-decoration-color: #008080; font-weight: bold\">28</span>/<span style=\"color: #008080; text-decoration-color: #008080; font-weight: bold\">54</span>: <span style=\"font-weight: bold\">{</span><span style=\"color: #008000; text-decoration-color: #008000\">'model'</span>:                \n",
       "<span style=\"color: #008000; text-decoration-color: #008000\">'1-DANetConfig'</span>, <span style=\"color: #008000; text-decoration-color: #008000\">'model_config__abstlay_dim_1'</span>: <span style=\"color: #008080; text-decoration-color: #008080; font-weight: bold\">32</span>, <span style=\"color: #008000; text-decoration-color: #008000\">'model_config__abstlay_dim_2'</span>: <span style=\"color: #008080; text-decoration-color: #008080; font-weight: bold\">64</span>, <span style=\"color: #008000; text-decoration-color: #008000\">'model_config__n_layers'</span>: <span style=\"color: #008080; text-decoration-color: #008080; font-weight: bold\">8</span>,\n",
       "<span style=\"color: #008000; text-decoration-color: #008000\">'optimizer_config__optimizer'</span>: <span style=\"color: #008000; text-decoration-color: #008000\">'AdamW'</span>, <span style=\"color: #008000; text-decoration-color: #008000\">'loss_0'</span>: <span style=\"color: #008080; text-decoration-color: #008080; font-weight: bold\">0.5914373397827148</span>, <span style=\"color: #008000; text-decoration-color: #008000\">'loss'</span>: <span style=\"color: #008080; text-decoration-color: #008080; font-weight: bold\">0.5914373397827148</span>, <span style=\"color: #008000; text-decoration-color: #008000\">'accuracy'</span>:      \n",
       "<span style=\"color: #008080; text-decoration-color: #008080; font-weight: bold\">0.7666666507720947</span>, <span style=\"color: #008000; text-decoration-color: #008000\">'trial_id'</span>: <span style=\"color: #008080; text-decoration-color: #008080; font-weight: bold\">27</span><span style=\"font-weight: bold\">}</span> | Score: <span style=\"color: #008080; text-decoration-color: #008080; font-weight: bold\">0.7666666507720947</span>                                                    \n",
       "</pre>\n"
      ],
      "text/plain": [
       "\u001b[1;36m2025\u001b[0m-\u001b[1;36m02\u001b[0m-\u001b[1;36m26\u001b[0m \u001b[1;92m10:32:00\u001b[0m,\u001b[1;36m246\u001b[0m - \u001b[1m{\u001b[0mpytorch_tabular.tabular_model_tuner:\u001b[1;36m412\u001b[0m\u001b[1m}\u001b[0m - INFO - Trial \u001b[1;36m28\u001b[0m/\u001b[1;36m54\u001b[0m: \u001b[1m{\u001b[0m\u001b[32m'model'\u001b[0m:                \n",
       "\u001b[32m'1-DANetConfig'\u001b[0m, \u001b[32m'model_config__abstlay_dim_1'\u001b[0m: \u001b[1;36m32\u001b[0m, \u001b[32m'model_config__abstlay_dim_2'\u001b[0m: \u001b[1;36m64\u001b[0m, \u001b[32m'model_config__n_layers'\u001b[0m: \u001b[1;36m8\u001b[0m,\n",
       "\u001b[32m'optimizer_config__optimizer'\u001b[0m: \u001b[32m'AdamW'\u001b[0m, \u001b[32m'loss_0'\u001b[0m: \u001b[1;36m0.5914373397827148\u001b[0m, \u001b[32m'loss'\u001b[0m: \u001b[1;36m0.5914373397827148\u001b[0m, \u001b[32m'accuracy'\u001b[0m:      \n",
       "\u001b[1;36m0.7666666507720947\u001b[0m, \u001b[32m'trial_id'\u001b[0m: \u001b[1;36m27\u001b[0m\u001b[1m}\u001b[0m | Score: \u001b[1;36m0.7666666507720947\u001b[0m                                                    \n"
      ]
     },
     "metadata": {},
     "output_type": "display_data"
    },
    {
     "data": {
      "application/vnd.jupyter.widget-view+json": {
       "model_id": "00b3314f9eae4687bb159f868456172f",
       "version_major": 2,
       "version_minor": 0
      },
      "text/plain": [
       "Finding best initial lr:   0%|          | 0/100 [00:00<?, ?it/s]"
      ]
     },
     "metadata": {},
     "output_type": "display_data"
    },
    {
     "data": {
      "text/html": [
       "<pre style=\"white-space:pre;overflow-x:auto;line-height:normal;font-family:Menlo,'DejaVu Sans Mono',consolas,'Courier New',monospace\"><span style=\"color: #008080; text-decoration-color: #008080; font-weight: bold\">2025</span>-<span style=\"color: #008080; text-decoration-color: #008080; font-weight: bold\">02</span>-<span style=\"color: #008080; text-decoration-color: #008080; font-weight: bold\">26</span> <span style=\"color: #00ff00; text-decoration-color: #00ff00; font-weight: bold\">10:33:59</span>,<span style=\"color: #008080; text-decoration-color: #008080; font-weight: bold\">140</span> - <span style=\"font-weight: bold\">{</span>pytorch_tabular.tabular_model_tuner:<span style=\"color: #008080; text-decoration-color: #008080; font-weight: bold\">412</span><span style=\"font-weight: bold\">}</span> - INFO - Trial <span style=\"color: #008080; text-decoration-color: #008080; font-weight: bold\">29</span>/<span style=\"color: #008080; text-decoration-color: #008080; font-weight: bold\">54</span>: <span style=\"font-weight: bold\">{</span><span style=\"color: #008000; text-decoration-color: #008000\">'model'</span>:                \n",
       "<span style=\"color: #008000; text-decoration-color: #008000\">'1-DANetConfig'</span>, <span style=\"color: #008000; text-decoration-color: #008000\">'model_config__abstlay_dim_1'</span>: <span style=\"color: #008080; text-decoration-color: #008080; font-weight: bold\">32</span>, <span style=\"color: #008000; text-decoration-color: #008000\">'model_config__abstlay_dim_2'</span>: <span style=\"color: #008080; text-decoration-color: #008080; font-weight: bold\">64</span>, <span style=\"color: #008000; text-decoration-color: #008000\">'model_config__n_layers'</span>:   \n",
       "<span style=\"color: #008080; text-decoration-color: #008080; font-weight: bold\">16</span>, <span style=\"color: #008000; text-decoration-color: #008000\">'optimizer_config__optimizer'</span>: <span style=\"color: #008000; text-decoration-color: #008000\">'Adam'</span>, <span style=\"color: #008000; text-decoration-color: #008000\">'loss_0'</span>: <span style=\"color: #008080; text-decoration-color: #008080; font-weight: bold\">0.5727825164794922</span>, <span style=\"color: #008000; text-decoration-color: #008000\">'loss'</span>: <span style=\"color: #008080; text-decoration-color: #008080; font-weight: bold\">0.5727825164794922</span>, <span style=\"color: #008000; text-decoration-color: #008000\">'accuracy'</span>:   \n",
       "<span style=\"color: #008080; text-decoration-color: #008080; font-weight: bold\">0.8033333420753479</span>, <span style=\"color: #008000; text-decoration-color: #008000\">'trial_id'</span>: <span style=\"color: #008080; text-decoration-color: #008080; font-weight: bold\">28</span><span style=\"font-weight: bold\">}</span> | Score: <span style=\"color: #008080; text-decoration-color: #008080; font-weight: bold\">0.8033333420753479</span>                                                    \n",
       "</pre>\n"
      ],
      "text/plain": [
       "\u001b[1;36m2025\u001b[0m-\u001b[1;36m02\u001b[0m-\u001b[1;36m26\u001b[0m \u001b[1;92m10:33:59\u001b[0m,\u001b[1;36m140\u001b[0m - \u001b[1m{\u001b[0mpytorch_tabular.tabular_model_tuner:\u001b[1;36m412\u001b[0m\u001b[1m}\u001b[0m - INFO - Trial \u001b[1;36m29\u001b[0m/\u001b[1;36m54\u001b[0m: \u001b[1m{\u001b[0m\u001b[32m'model'\u001b[0m:                \n",
       "\u001b[32m'1-DANetConfig'\u001b[0m, \u001b[32m'model_config__abstlay_dim_1'\u001b[0m: \u001b[1;36m32\u001b[0m, \u001b[32m'model_config__abstlay_dim_2'\u001b[0m: \u001b[1;36m64\u001b[0m, \u001b[32m'model_config__n_layers'\u001b[0m:   \n",
       "\u001b[1;36m16\u001b[0m, \u001b[32m'optimizer_config__optimizer'\u001b[0m: \u001b[32m'Adam'\u001b[0m, \u001b[32m'loss_0'\u001b[0m: \u001b[1;36m0.5727825164794922\u001b[0m, \u001b[32m'loss'\u001b[0m: \u001b[1;36m0.5727825164794922\u001b[0m, \u001b[32m'accuracy'\u001b[0m:   \n",
       "\u001b[1;36m0.8033333420753479\u001b[0m, \u001b[32m'trial_id'\u001b[0m: \u001b[1;36m28\u001b[0m\u001b[1m}\u001b[0m | Score: \u001b[1;36m0.8033333420753479\u001b[0m                                                    \n"
      ]
     },
     "metadata": {},
     "output_type": "display_data"
    },
    {
     "data": {
      "application/vnd.jupyter.widget-view+json": {
       "model_id": "034541e3179a426699e9b58e2e91dc57",
       "version_major": 2,
       "version_minor": 0
      },
      "text/plain": [
       "Finding best initial lr:   0%|          | 0/100 [00:00<?, ?it/s]"
      ]
     },
     "metadata": {},
     "output_type": "display_data"
    },
    {
     "data": {
      "text/html": [
       "<pre style=\"white-space:pre;overflow-x:auto;line-height:normal;font-family:Menlo,'DejaVu Sans Mono',consolas,'Courier New',monospace\"><span style=\"color: #008080; text-decoration-color: #008080; font-weight: bold\">2025</span>-<span style=\"color: #008080; text-decoration-color: #008080; font-weight: bold\">02</span>-<span style=\"color: #008080; text-decoration-color: #008080; font-weight: bold\">26</span> <span style=\"color: #00ff00; text-decoration-color: #00ff00; font-weight: bold\">10:35:33</span>,<span style=\"color: #008080; text-decoration-color: #008080; font-weight: bold\">406</span> - <span style=\"font-weight: bold\">{</span>pytorch_tabular.tabular_model_tuner:<span style=\"color: #008080; text-decoration-color: #008080; font-weight: bold\">412</span><span style=\"font-weight: bold\">}</span> - INFO - Trial <span style=\"color: #008080; text-decoration-color: #008080; font-weight: bold\">30</span>/<span style=\"color: #008080; text-decoration-color: #008080; font-weight: bold\">54</span>: <span style=\"font-weight: bold\">{</span><span style=\"color: #008000; text-decoration-color: #008000\">'model'</span>:                \n",
       "<span style=\"color: #008000; text-decoration-color: #008000\">'1-DANetConfig'</span>, <span style=\"color: #008000; text-decoration-color: #008000\">'model_config__abstlay_dim_1'</span>: <span style=\"color: #008080; text-decoration-color: #008080; font-weight: bold\">32</span>, <span style=\"color: #008000; text-decoration-color: #008000\">'model_config__abstlay_dim_2'</span>: <span style=\"color: #008080; text-decoration-color: #008080; font-weight: bold\">64</span>, <span style=\"color: #008000; text-decoration-color: #008000\">'model_config__n_layers'</span>:   \n",
       "<span style=\"color: #008080; text-decoration-color: #008080; font-weight: bold\">16</span>, <span style=\"color: #008000; text-decoration-color: #008000\">'optimizer_config__optimizer'</span>: <span style=\"color: #008000; text-decoration-color: #008000\">'AdamW'</span>, <span style=\"color: #008000; text-decoration-color: #008000\">'loss_0'</span>: <span style=\"color: #008080; text-decoration-color: #008080; font-weight: bold\">1.010401964187622</span>, <span style=\"color: #008000; text-decoration-color: #008000\">'loss'</span>: <span style=\"color: #008080; text-decoration-color: #008080; font-weight: bold\">1.010401964187622</span>, <span style=\"color: #008000; text-decoration-color: #008000\">'accuracy'</span>:    \n",
       "<span style=\"color: #008080; text-decoration-color: #008080; font-weight: bold\">0.6233333349227905</span>, <span style=\"color: #008000; text-decoration-color: #008000\">'trial_id'</span>: <span style=\"color: #008080; text-decoration-color: #008080; font-weight: bold\">29</span><span style=\"font-weight: bold\">}</span> | Score: <span style=\"color: #008080; text-decoration-color: #008080; font-weight: bold\">0.6233333349227905</span>                                                    \n",
       "</pre>\n"
      ],
      "text/plain": [
       "\u001b[1;36m2025\u001b[0m-\u001b[1;36m02\u001b[0m-\u001b[1;36m26\u001b[0m \u001b[1;92m10:35:33\u001b[0m,\u001b[1;36m406\u001b[0m - \u001b[1m{\u001b[0mpytorch_tabular.tabular_model_tuner:\u001b[1;36m412\u001b[0m\u001b[1m}\u001b[0m - INFO - Trial \u001b[1;36m30\u001b[0m/\u001b[1;36m54\u001b[0m: \u001b[1m{\u001b[0m\u001b[32m'model'\u001b[0m:                \n",
       "\u001b[32m'1-DANetConfig'\u001b[0m, \u001b[32m'model_config__abstlay_dim_1'\u001b[0m: \u001b[1;36m32\u001b[0m, \u001b[32m'model_config__abstlay_dim_2'\u001b[0m: \u001b[1;36m64\u001b[0m, \u001b[32m'model_config__n_layers'\u001b[0m:   \n",
       "\u001b[1;36m16\u001b[0m, \u001b[32m'optimizer_config__optimizer'\u001b[0m: \u001b[32m'AdamW'\u001b[0m, \u001b[32m'loss_0'\u001b[0m: \u001b[1;36m1.010401964187622\u001b[0m, \u001b[32m'loss'\u001b[0m: \u001b[1;36m1.010401964187622\u001b[0m, \u001b[32m'accuracy'\u001b[0m:    \n",
       "\u001b[1;36m0.6233333349227905\u001b[0m, \u001b[32m'trial_id'\u001b[0m: \u001b[1;36m29\u001b[0m\u001b[1m}\u001b[0m | Score: \u001b[1;36m0.6233333349227905\u001b[0m                                                    \n"
      ]
     },
     "metadata": {},
     "output_type": "display_data"
    },
    {
     "data": {
      "application/vnd.jupyter.widget-view+json": {
       "model_id": "da61dd656d274854935d2d248ad5ef21",
       "version_major": 2,
       "version_minor": 0
      },
      "text/plain": [
       "Finding best initial lr:   0%|          | 0/100 [00:00<?, ?it/s]"
      ]
     },
     "metadata": {},
     "output_type": "display_data"
    },
    {
     "data": {
      "text/html": [
       "<pre style=\"white-space:pre;overflow-x:auto;line-height:normal;font-family:Menlo,'DejaVu Sans Mono',consolas,'Courier New',monospace\"><span style=\"color: #008080; text-decoration-color: #008080; font-weight: bold\">2025</span>-<span style=\"color: #008080; text-decoration-color: #008080; font-weight: bold\">02</span>-<span style=\"color: #008080; text-decoration-color: #008080; font-weight: bold\">26</span> <span style=\"color: #00ff00; text-decoration-color: #00ff00; font-weight: bold\">10:36:08</span>,<span style=\"color: #008080; text-decoration-color: #008080; font-weight: bold\">587</span> - <span style=\"font-weight: bold\">{</span>pytorch_tabular.tabular_model_tuner:<span style=\"color: #008080; text-decoration-color: #008080; font-weight: bold\">412</span><span style=\"font-weight: bold\">}</span> - INFO - Trial <span style=\"color: #008080; text-decoration-color: #008080; font-weight: bold\">31</span>/<span style=\"color: #008080; text-decoration-color: #008080; font-weight: bold\">54</span>: <span style=\"font-weight: bold\">{</span><span style=\"color: #008000; text-decoration-color: #008000\">'model'</span>:                \n",
       "<span style=\"color: #008000; text-decoration-color: #008000\">'1-DANetConfig'</span>, <span style=\"color: #008000; text-decoration-color: #008000\">'model_config__abstlay_dim_1'</span>: <span style=\"color: #008080; text-decoration-color: #008080; font-weight: bold\">32</span>, <span style=\"color: #008000; text-decoration-color: #008000\">'model_config__abstlay_dim_2'</span>: <span style=\"color: #008080; text-decoration-color: #008080; font-weight: bold\">128</span>, <span style=\"color: #008000; text-decoration-color: #008000\">'model_config__n_layers'</span>:  \n",
       "<span style=\"color: #008080; text-decoration-color: #008080; font-weight: bold\">4</span>, <span style=\"color: #008000; text-decoration-color: #008000\">'optimizer_config__optimizer'</span>: <span style=\"color: #008000; text-decoration-color: #008000\">'Adam'</span>, <span style=\"color: #008000; text-decoration-color: #008000\">'loss_0'</span>: <span style=\"color: #008080; text-decoration-color: #008080; font-weight: bold\">0.6952121257781982</span>, <span style=\"color: #008000; text-decoration-color: #008000\">'loss'</span>: <span style=\"color: #008080; text-decoration-color: #008080; font-weight: bold\">0.6952121257781982</span>, <span style=\"color: #008000; text-decoration-color: #008000\">'accuracy'</span>:    \n",
       "<span style=\"color: #008080; text-decoration-color: #008080; font-weight: bold\">0.7599999904632568</span>, <span style=\"color: #008000; text-decoration-color: #008000\">'trial_id'</span>: <span style=\"color: #008080; text-decoration-color: #008080; font-weight: bold\">30</span><span style=\"font-weight: bold\">}</span> | Score: <span style=\"color: #008080; text-decoration-color: #008080; font-weight: bold\">0.7599999904632568</span>                                                    \n",
       "</pre>\n"
      ],
      "text/plain": [
       "\u001b[1;36m2025\u001b[0m-\u001b[1;36m02\u001b[0m-\u001b[1;36m26\u001b[0m \u001b[1;92m10:36:08\u001b[0m,\u001b[1;36m587\u001b[0m - \u001b[1m{\u001b[0mpytorch_tabular.tabular_model_tuner:\u001b[1;36m412\u001b[0m\u001b[1m}\u001b[0m - INFO - Trial \u001b[1;36m31\u001b[0m/\u001b[1;36m54\u001b[0m: \u001b[1m{\u001b[0m\u001b[32m'model'\u001b[0m:                \n",
       "\u001b[32m'1-DANetConfig'\u001b[0m, \u001b[32m'model_config__abstlay_dim_1'\u001b[0m: \u001b[1;36m32\u001b[0m, \u001b[32m'model_config__abstlay_dim_2'\u001b[0m: \u001b[1;36m128\u001b[0m, \u001b[32m'model_config__n_layers'\u001b[0m:  \n",
       "\u001b[1;36m4\u001b[0m, \u001b[32m'optimizer_config__optimizer'\u001b[0m: \u001b[32m'Adam'\u001b[0m, \u001b[32m'loss_0'\u001b[0m: \u001b[1;36m0.6952121257781982\u001b[0m, \u001b[32m'loss'\u001b[0m: \u001b[1;36m0.6952121257781982\u001b[0m, \u001b[32m'accuracy'\u001b[0m:    \n",
       "\u001b[1;36m0.7599999904632568\u001b[0m, \u001b[32m'trial_id'\u001b[0m: \u001b[1;36m30\u001b[0m\u001b[1m}\u001b[0m | Score: \u001b[1;36m0.7599999904632568\u001b[0m                                                    \n"
      ]
     },
     "metadata": {},
     "output_type": "display_data"
    },
    {
     "data": {
      "application/vnd.jupyter.widget-view+json": {
       "model_id": "68df0955cf914688a971501a4755b61d",
       "version_major": 2,
       "version_minor": 0
      },
      "text/plain": [
       "Finding best initial lr:   0%|          | 0/100 [00:00<?, ?it/s]"
      ]
     },
     "metadata": {},
     "output_type": "display_data"
    },
    {
     "data": {
      "text/html": [
       "<pre style=\"white-space:pre;overflow-x:auto;line-height:normal;font-family:Menlo,'DejaVu Sans Mono',consolas,'Courier New',monospace\"><span style=\"color: #008080; text-decoration-color: #008080; font-weight: bold\">2025</span>-<span style=\"color: #008080; text-decoration-color: #008080; font-weight: bold\">02</span>-<span style=\"color: #008080; text-decoration-color: #008080; font-weight: bold\">26</span> <span style=\"color: #00ff00; text-decoration-color: #00ff00; font-weight: bold\">10:36:59</span>,<span style=\"color: #008080; text-decoration-color: #008080; font-weight: bold\">322</span> - <span style=\"font-weight: bold\">{</span>pytorch_tabular.tabular_model_tuner:<span style=\"color: #008080; text-decoration-color: #008080; font-weight: bold\">412</span><span style=\"font-weight: bold\">}</span> - INFO - Trial <span style=\"color: #008080; text-decoration-color: #008080; font-weight: bold\">32</span>/<span style=\"color: #008080; text-decoration-color: #008080; font-weight: bold\">54</span>: <span style=\"font-weight: bold\">{</span><span style=\"color: #008000; text-decoration-color: #008000\">'model'</span>:                \n",
       "<span style=\"color: #008000; text-decoration-color: #008000\">'1-DANetConfig'</span>, <span style=\"color: #008000; text-decoration-color: #008000\">'model_config__abstlay_dim_1'</span>: <span style=\"color: #008080; text-decoration-color: #008080; font-weight: bold\">32</span>, <span style=\"color: #008000; text-decoration-color: #008000\">'model_config__abstlay_dim_2'</span>: <span style=\"color: #008080; text-decoration-color: #008080; font-weight: bold\">128</span>, <span style=\"color: #008000; text-decoration-color: #008000\">'model_config__n_layers'</span>:  \n",
       "<span style=\"color: #008080; text-decoration-color: #008080; font-weight: bold\">4</span>, <span style=\"color: #008000; text-decoration-color: #008000\">'optimizer_config__optimizer'</span>: <span style=\"color: #008000; text-decoration-color: #008000\">'AdamW'</span>, <span style=\"color: #008000; text-decoration-color: #008000\">'loss_0'</span>: <span style=\"color: #008080; text-decoration-color: #008080; font-weight: bold\">0.5806983113288879</span>, <span style=\"color: #008000; text-decoration-color: #008000\">'loss'</span>: <span style=\"color: #008080; text-decoration-color: #008080; font-weight: bold\">0.5806983113288879</span>, <span style=\"color: #008000; text-decoration-color: #008000\">'accuracy'</span>:   \n",
       "<span style=\"color: #008080; text-decoration-color: #008080; font-weight: bold\">0.7749999761581421</span>, <span style=\"color: #008000; text-decoration-color: #008000\">'trial_id'</span>: <span style=\"color: #008080; text-decoration-color: #008080; font-weight: bold\">31</span><span style=\"font-weight: bold\">}</span> | Score: <span style=\"color: #008080; text-decoration-color: #008080; font-weight: bold\">0.7749999761581421</span>                                                    \n",
       "</pre>\n"
      ],
      "text/plain": [
       "\u001b[1;36m2025\u001b[0m-\u001b[1;36m02\u001b[0m-\u001b[1;36m26\u001b[0m \u001b[1;92m10:36:59\u001b[0m,\u001b[1;36m322\u001b[0m - \u001b[1m{\u001b[0mpytorch_tabular.tabular_model_tuner:\u001b[1;36m412\u001b[0m\u001b[1m}\u001b[0m - INFO - Trial \u001b[1;36m32\u001b[0m/\u001b[1;36m54\u001b[0m: \u001b[1m{\u001b[0m\u001b[32m'model'\u001b[0m:                \n",
       "\u001b[32m'1-DANetConfig'\u001b[0m, \u001b[32m'model_config__abstlay_dim_1'\u001b[0m: \u001b[1;36m32\u001b[0m, \u001b[32m'model_config__abstlay_dim_2'\u001b[0m: \u001b[1;36m128\u001b[0m, \u001b[32m'model_config__n_layers'\u001b[0m:  \n",
       "\u001b[1;36m4\u001b[0m, \u001b[32m'optimizer_config__optimizer'\u001b[0m: \u001b[32m'AdamW'\u001b[0m, \u001b[32m'loss_0'\u001b[0m: \u001b[1;36m0.5806983113288879\u001b[0m, \u001b[32m'loss'\u001b[0m: \u001b[1;36m0.5806983113288879\u001b[0m, \u001b[32m'accuracy'\u001b[0m:   \n",
       "\u001b[1;36m0.7749999761581421\u001b[0m, \u001b[32m'trial_id'\u001b[0m: \u001b[1;36m31\u001b[0m\u001b[1m}\u001b[0m | Score: \u001b[1;36m0.7749999761581421\u001b[0m                                                    \n"
      ]
     },
     "metadata": {},
     "output_type": "display_data"
    },
    {
     "data": {
      "application/vnd.jupyter.widget-view+json": {
       "model_id": "e7c24b3940614868936be372d08117cc",
       "version_major": 2,
       "version_minor": 0
      },
      "text/plain": [
       "Finding best initial lr:   0%|          | 0/100 [00:00<?, ?it/s]"
      ]
     },
     "metadata": {},
     "output_type": "display_data"
    },
    {
     "data": {
      "text/html": [
       "<pre style=\"white-space:pre;overflow-x:auto;line-height:normal;font-family:Menlo,'DejaVu Sans Mono',consolas,'Courier New',monospace\"><span style=\"color: #008080; text-decoration-color: #008080; font-weight: bold\">2025</span>-<span style=\"color: #008080; text-decoration-color: #008080; font-weight: bold\">02</span>-<span style=\"color: #008080; text-decoration-color: #008080; font-weight: bold\">26</span> <span style=\"color: #00ff00; text-decoration-color: #00ff00; font-weight: bold\">10:38:04</span>,<span style=\"color: #008080; text-decoration-color: #008080; font-weight: bold\">115</span> - <span style=\"font-weight: bold\">{</span>pytorch_tabular.tabular_model_tuner:<span style=\"color: #008080; text-decoration-color: #008080; font-weight: bold\">412</span><span style=\"font-weight: bold\">}</span> - INFO - Trial <span style=\"color: #008080; text-decoration-color: #008080; font-weight: bold\">33</span>/<span style=\"color: #008080; text-decoration-color: #008080; font-weight: bold\">54</span>: <span style=\"font-weight: bold\">{</span><span style=\"color: #008000; text-decoration-color: #008000\">'model'</span>:                \n",
       "<span style=\"color: #008000; text-decoration-color: #008000\">'1-DANetConfig'</span>, <span style=\"color: #008000; text-decoration-color: #008000\">'model_config__abstlay_dim_1'</span>: <span style=\"color: #008080; text-decoration-color: #008080; font-weight: bold\">32</span>, <span style=\"color: #008000; text-decoration-color: #008000\">'model_config__abstlay_dim_2'</span>: <span style=\"color: #008080; text-decoration-color: #008080; font-weight: bold\">128</span>, <span style=\"color: #008000; text-decoration-color: #008000\">'model_config__n_layers'</span>:  \n",
       "<span style=\"color: #008080; text-decoration-color: #008080; font-weight: bold\">8</span>, <span style=\"color: #008000; text-decoration-color: #008000\">'optimizer_config__optimizer'</span>: <span style=\"color: #008000; text-decoration-color: #008000\">'Adam'</span>, <span style=\"color: #008000; text-decoration-color: #008000\">'loss_0'</span>: <span style=\"color: #008080; text-decoration-color: #008080; font-weight: bold\">0.5862411260604858</span>, <span style=\"color: #008000; text-decoration-color: #008000\">'loss'</span>: <span style=\"color: #008080; text-decoration-color: #008080; font-weight: bold\">0.5862411260604858</span>, <span style=\"color: #008000; text-decoration-color: #008000\">'accuracy'</span>:    \n",
       "<span style=\"color: #008080; text-decoration-color: #008080; font-weight: bold\">0.7749999761581421</span>, <span style=\"color: #008000; text-decoration-color: #008000\">'trial_id'</span>: <span style=\"color: #008080; text-decoration-color: #008080; font-weight: bold\">32</span><span style=\"font-weight: bold\">}</span> | Score: <span style=\"color: #008080; text-decoration-color: #008080; font-weight: bold\">0.7749999761581421</span>                                                    \n",
       "</pre>\n"
      ],
      "text/plain": [
       "\u001b[1;36m2025\u001b[0m-\u001b[1;36m02\u001b[0m-\u001b[1;36m26\u001b[0m \u001b[1;92m10:38:04\u001b[0m,\u001b[1;36m115\u001b[0m - \u001b[1m{\u001b[0mpytorch_tabular.tabular_model_tuner:\u001b[1;36m412\u001b[0m\u001b[1m}\u001b[0m - INFO - Trial \u001b[1;36m33\u001b[0m/\u001b[1;36m54\u001b[0m: \u001b[1m{\u001b[0m\u001b[32m'model'\u001b[0m:                \n",
       "\u001b[32m'1-DANetConfig'\u001b[0m, \u001b[32m'model_config__abstlay_dim_1'\u001b[0m: \u001b[1;36m32\u001b[0m, \u001b[32m'model_config__abstlay_dim_2'\u001b[0m: \u001b[1;36m128\u001b[0m, \u001b[32m'model_config__n_layers'\u001b[0m:  \n",
       "\u001b[1;36m8\u001b[0m, \u001b[32m'optimizer_config__optimizer'\u001b[0m: \u001b[32m'Adam'\u001b[0m, \u001b[32m'loss_0'\u001b[0m: \u001b[1;36m0.5862411260604858\u001b[0m, \u001b[32m'loss'\u001b[0m: \u001b[1;36m0.5862411260604858\u001b[0m, \u001b[32m'accuracy'\u001b[0m:    \n",
       "\u001b[1;36m0.7749999761581421\u001b[0m, \u001b[32m'trial_id'\u001b[0m: \u001b[1;36m32\u001b[0m\u001b[1m}\u001b[0m | Score: \u001b[1;36m0.7749999761581421\u001b[0m                                                    \n"
      ]
     },
     "metadata": {},
     "output_type": "display_data"
    },
    {
     "data": {
      "application/vnd.jupyter.widget-view+json": {
       "model_id": "be2cb1b878a74ae5b1cbf31b689b9391",
       "version_major": 2,
       "version_minor": 0
      },
      "text/plain": [
       "Finding best initial lr:   0%|          | 0/100 [00:00<?, ?it/s]"
      ]
     },
     "metadata": {},
     "output_type": "display_data"
    },
    {
     "data": {
      "text/html": [
       "<pre style=\"white-space:pre;overflow-x:auto;line-height:normal;font-family:Menlo,'DejaVu Sans Mono',consolas,'Courier New',monospace\"><span style=\"color: #008080; text-decoration-color: #008080; font-weight: bold\">2025</span>-<span style=\"color: #008080; text-decoration-color: #008080; font-weight: bold\">02</span>-<span style=\"color: #008080; text-decoration-color: #008080; font-weight: bold\">26</span> <span style=\"color: #00ff00; text-decoration-color: #00ff00; font-weight: bold\">10:39:03</span>,<span style=\"color: #008080; text-decoration-color: #008080; font-weight: bold\">412</span> - <span style=\"font-weight: bold\">{</span>pytorch_tabular.tabular_model_tuner:<span style=\"color: #008080; text-decoration-color: #008080; font-weight: bold\">412</span><span style=\"font-weight: bold\">}</span> - INFO - Trial <span style=\"color: #008080; text-decoration-color: #008080; font-weight: bold\">34</span>/<span style=\"color: #008080; text-decoration-color: #008080; font-weight: bold\">54</span>: <span style=\"font-weight: bold\">{</span><span style=\"color: #008000; text-decoration-color: #008000\">'model'</span>:                \n",
       "<span style=\"color: #008000; text-decoration-color: #008000\">'1-DANetConfig'</span>, <span style=\"color: #008000; text-decoration-color: #008000\">'model_config__abstlay_dim_1'</span>: <span style=\"color: #008080; text-decoration-color: #008080; font-weight: bold\">32</span>, <span style=\"color: #008000; text-decoration-color: #008000\">'model_config__abstlay_dim_2'</span>: <span style=\"color: #008080; text-decoration-color: #008080; font-weight: bold\">128</span>, <span style=\"color: #008000; text-decoration-color: #008000\">'model_config__n_layers'</span>:  \n",
       "<span style=\"color: #008080; text-decoration-color: #008080; font-weight: bold\">8</span>, <span style=\"color: #008000; text-decoration-color: #008000\">'optimizer_config__optimizer'</span>: <span style=\"color: #008000; text-decoration-color: #008000\">'AdamW'</span>, <span style=\"color: #008000; text-decoration-color: #008000\">'loss_0'</span>: <span style=\"color: #008080; text-decoration-color: #008080; font-weight: bold\">0.6162854433059692</span>, <span style=\"color: #008000; text-decoration-color: #008000\">'loss'</span>: <span style=\"color: #008080; text-decoration-color: #008080; font-weight: bold\">0.6162854433059692</span>, <span style=\"color: #008000; text-decoration-color: #008000\">'accuracy'</span>:   \n",
       "<span style=\"color: #008080; text-decoration-color: #008080; font-weight: bold\">0.7683333158493042</span>, <span style=\"color: #008000; text-decoration-color: #008000\">'trial_id'</span>: <span style=\"color: #008080; text-decoration-color: #008080; font-weight: bold\">33</span><span style=\"font-weight: bold\">}</span> | Score: <span style=\"color: #008080; text-decoration-color: #008080; font-weight: bold\">0.7683333158493042</span>                                                    \n",
       "</pre>\n"
      ],
      "text/plain": [
       "\u001b[1;36m2025\u001b[0m-\u001b[1;36m02\u001b[0m-\u001b[1;36m26\u001b[0m \u001b[1;92m10:39:03\u001b[0m,\u001b[1;36m412\u001b[0m - \u001b[1m{\u001b[0mpytorch_tabular.tabular_model_tuner:\u001b[1;36m412\u001b[0m\u001b[1m}\u001b[0m - INFO - Trial \u001b[1;36m34\u001b[0m/\u001b[1;36m54\u001b[0m: \u001b[1m{\u001b[0m\u001b[32m'model'\u001b[0m:                \n",
       "\u001b[32m'1-DANetConfig'\u001b[0m, \u001b[32m'model_config__abstlay_dim_1'\u001b[0m: \u001b[1;36m32\u001b[0m, \u001b[32m'model_config__abstlay_dim_2'\u001b[0m: \u001b[1;36m128\u001b[0m, \u001b[32m'model_config__n_layers'\u001b[0m:  \n",
       "\u001b[1;36m8\u001b[0m, \u001b[32m'optimizer_config__optimizer'\u001b[0m: \u001b[32m'AdamW'\u001b[0m, \u001b[32m'loss_0'\u001b[0m: \u001b[1;36m0.6162854433059692\u001b[0m, \u001b[32m'loss'\u001b[0m: \u001b[1;36m0.6162854433059692\u001b[0m, \u001b[32m'accuracy'\u001b[0m:   \n",
       "\u001b[1;36m0.7683333158493042\u001b[0m, \u001b[32m'trial_id'\u001b[0m: \u001b[1;36m33\u001b[0m\u001b[1m}\u001b[0m | Score: \u001b[1;36m0.7683333158493042\u001b[0m                                                    \n"
      ]
     },
     "metadata": {},
     "output_type": "display_data"
    },
    {
     "data": {
      "application/vnd.jupyter.widget-view+json": {
       "model_id": "892a7e2ec5924437bdf4912fcd751b49",
       "version_major": 2,
       "version_minor": 0
      },
      "text/plain": [
       "Finding best initial lr:   0%|          | 0/100 [00:00<?, ?it/s]"
      ]
     },
     "metadata": {},
     "output_type": "display_data"
    },
    {
     "data": {
      "text/html": [
       "<pre style=\"white-space:pre;overflow-x:auto;line-height:normal;font-family:Menlo,'DejaVu Sans Mono',consolas,'Courier New',monospace\"><span style=\"color: #008080; text-decoration-color: #008080; font-weight: bold\">2025</span>-<span style=\"color: #008080; text-decoration-color: #008080; font-weight: bold\">02</span>-<span style=\"color: #008080; text-decoration-color: #008080; font-weight: bold\">26</span> <span style=\"color: #00ff00; text-decoration-color: #00ff00; font-weight: bold\">10:40:56</span>,<span style=\"color: #008080; text-decoration-color: #008080; font-weight: bold\">977</span> - <span style=\"font-weight: bold\">{</span>pytorch_tabular.tabular_model_tuner:<span style=\"color: #008080; text-decoration-color: #008080; font-weight: bold\">412</span><span style=\"font-weight: bold\">}</span> - INFO - Trial <span style=\"color: #008080; text-decoration-color: #008080; font-weight: bold\">35</span>/<span style=\"color: #008080; text-decoration-color: #008080; font-weight: bold\">54</span>: <span style=\"font-weight: bold\">{</span><span style=\"color: #008000; text-decoration-color: #008000\">'model'</span>:                \n",
       "<span style=\"color: #008000; text-decoration-color: #008000\">'1-DANetConfig'</span>, <span style=\"color: #008000; text-decoration-color: #008000\">'model_config__abstlay_dim_1'</span>: <span style=\"color: #008080; text-decoration-color: #008080; font-weight: bold\">32</span>, <span style=\"color: #008000; text-decoration-color: #008000\">'model_config__abstlay_dim_2'</span>: <span style=\"color: #008080; text-decoration-color: #008080; font-weight: bold\">128</span>, <span style=\"color: #008000; text-decoration-color: #008000\">'model_config__n_layers'</span>:  \n",
       "<span style=\"color: #008080; text-decoration-color: #008080; font-weight: bold\">16</span>, <span style=\"color: #008000; text-decoration-color: #008000\">'optimizer_config__optimizer'</span>: <span style=\"color: #008000; text-decoration-color: #008000\">'Adam'</span>, <span style=\"color: #008000; text-decoration-color: #008000\">'loss_0'</span>: <span style=\"color: #008080; text-decoration-color: #008080; font-weight: bold\">0.5855701565742493</span>, <span style=\"color: #008000; text-decoration-color: #008000\">'loss'</span>: <span style=\"color: #008080; text-decoration-color: #008080; font-weight: bold\">0.5855701565742493</span>, <span style=\"color: #008000; text-decoration-color: #008000\">'accuracy'</span>:   \n",
       "<span style=\"color: #008080; text-decoration-color: #008080; font-weight: bold\">0.7866666913032532</span>, <span style=\"color: #008000; text-decoration-color: #008000\">'trial_id'</span>: <span style=\"color: #008080; text-decoration-color: #008080; font-weight: bold\">34</span><span style=\"font-weight: bold\">}</span> | Score: <span style=\"color: #008080; text-decoration-color: #008080; font-weight: bold\">0.7866666913032532</span>                                                    \n",
       "</pre>\n"
      ],
      "text/plain": [
       "\u001b[1;36m2025\u001b[0m-\u001b[1;36m02\u001b[0m-\u001b[1;36m26\u001b[0m \u001b[1;92m10:40:56\u001b[0m,\u001b[1;36m977\u001b[0m - \u001b[1m{\u001b[0mpytorch_tabular.tabular_model_tuner:\u001b[1;36m412\u001b[0m\u001b[1m}\u001b[0m - INFO - Trial \u001b[1;36m35\u001b[0m/\u001b[1;36m54\u001b[0m: \u001b[1m{\u001b[0m\u001b[32m'model'\u001b[0m:                \n",
       "\u001b[32m'1-DANetConfig'\u001b[0m, \u001b[32m'model_config__abstlay_dim_1'\u001b[0m: \u001b[1;36m32\u001b[0m, \u001b[32m'model_config__abstlay_dim_2'\u001b[0m: \u001b[1;36m128\u001b[0m, \u001b[32m'model_config__n_layers'\u001b[0m:  \n",
       "\u001b[1;36m16\u001b[0m, \u001b[32m'optimizer_config__optimizer'\u001b[0m: \u001b[32m'Adam'\u001b[0m, \u001b[32m'loss_0'\u001b[0m: \u001b[1;36m0.5855701565742493\u001b[0m, \u001b[32m'loss'\u001b[0m: \u001b[1;36m0.5855701565742493\u001b[0m, \u001b[32m'accuracy'\u001b[0m:   \n",
       "\u001b[1;36m0.7866666913032532\u001b[0m, \u001b[32m'trial_id'\u001b[0m: \u001b[1;36m34\u001b[0m\u001b[1m}\u001b[0m | Score: \u001b[1;36m0.7866666913032532\u001b[0m                                                    \n"
      ]
     },
     "metadata": {},
     "output_type": "display_data"
    },
    {
     "data": {
      "application/vnd.jupyter.widget-view+json": {
       "model_id": "759e7ec6b68644d3a81cb0cd73bbed55",
       "version_major": 2,
       "version_minor": 0
      },
      "text/plain": [
       "Finding best initial lr:   0%|          | 0/100 [00:00<?, ?it/s]"
      ]
     },
     "metadata": {},
     "output_type": "display_data"
    },
    {
     "data": {
      "text/html": [
       "<pre style=\"white-space:pre;overflow-x:auto;line-height:normal;font-family:Menlo,'DejaVu Sans Mono',consolas,'Courier New',monospace\"><span style=\"color: #008080; text-decoration-color: #008080; font-weight: bold\">2025</span>-<span style=\"color: #008080; text-decoration-color: #008080; font-weight: bold\">02</span>-<span style=\"color: #008080; text-decoration-color: #008080; font-weight: bold\">26</span> <span style=\"color: #00ff00; text-decoration-color: #00ff00; font-weight: bold\">10:42:33</span>,<span style=\"color: #008080; text-decoration-color: #008080; font-weight: bold\">361</span> - <span style=\"font-weight: bold\">{</span>pytorch_tabular.tabular_model_tuner:<span style=\"color: #008080; text-decoration-color: #008080; font-weight: bold\">412</span><span style=\"font-weight: bold\">}</span> - INFO - Trial <span style=\"color: #008080; text-decoration-color: #008080; font-weight: bold\">36</span>/<span style=\"color: #008080; text-decoration-color: #008080; font-weight: bold\">54</span>: <span style=\"font-weight: bold\">{</span><span style=\"color: #008000; text-decoration-color: #008000\">'model'</span>:                \n",
       "<span style=\"color: #008000; text-decoration-color: #008000\">'1-DANetConfig'</span>, <span style=\"color: #008000; text-decoration-color: #008000\">'model_config__abstlay_dim_1'</span>: <span style=\"color: #008080; text-decoration-color: #008080; font-weight: bold\">32</span>, <span style=\"color: #008000; text-decoration-color: #008000\">'model_config__abstlay_dim_2'</span>: <span style=\"color: #008080; text-decoration-color: #008080; font-weight: bold\">128</span>, <span style=\"color: #008000; text-decoration-color: #008000\">'model_config__n_layers'</span>:  \n",
       "<span style=\"color: #008080; text-decoration-color: #008080; font-weight: bold\">16</span>, <span style=\"color: #008000; text-decoration-color: #008000\">'optimizer_config__optimizer'</span>: <span style=\"color: #008000; text-decoration-color: #008000\">'AdamW'</span>, <span style=\"color: #008000; text-decoration-color: #008000\">'loss_0'</span>: <span style=\"color: #008080; text-decoration-color: #008080; font-weight: bold\">0.5742362141609192</span>, <span style=\"color: #008000; text-decoration-color: #008000\">'loss'</span>: <span style=\"color: #008080; text-decoration-color: #008080; font-weight: bold\">0.5742362141609192</span>, <span style=\"color: #008000; text-decoration-color: #008000\">'accuracy'</span>:  \n",
       "<span style=\"color: #008080; text-decoration-color: #008080; font-weight: bold\">0.7816666960716248</span>, <span style=\"color: #008000; text-decoration-color: #008000\">'trial_id'</span>: <span style=\"color: #008080; text-decoration-color: #008080; font-weight: bold\">35</span><span style=\"font-weight: bold\">}</span> | Score: <span style=\"color: #008080; text-decoration-color: #008080; font-weight: bold\">0.7816666960716248</span>                                                    \n",
       "</pre>\n"
      ],
      "text/plain": [
       "\u001b[1;36m2025\u001b[0m-\u001b[1;36m02\u001b[0m-\u001b[1;36m26\u001b[0m \u001b[1;92m10:42:33\u001b[0m,\u001b[1;36m361\u001b[0m - \u001b[1m{\u001b[0mpytorch_tabular.tabular_model_tuner:\u001b[1;36m412\u001b[0m\u001b[1m}\u001b[0m - INFO - Trial \u001b[1;36m36\u001b[0m/\u001b[1;36m54\u001b[0m: \u001b[1m{\u001b[0m\u001b[32m'model'\u001b[0m:                \n",
       "\u001b[32m'1-DANetConfig'\u001b[0m, \u001b[32m'model_config__abstlay_dim_1'\u001b[0m: \u001b[1;36m32\u001b[0m, \u001b[32m'model_config__abstlay_dim_2'\u001b[0m: \u001b[1;36m128\u001b[0m, \u001b[32m'model_config__n_layers'\u001b[0m:  \n",
       "\u001b[1;36m16\u001b[0m, \u001b[32m'optimizer_config__optimizer'\u001b[0m: \u001b[32m'AdamW'\u001b[0m, \u001b[32m'loss_0'\u001b[0m: \u001b[1;36m0.5742362141609192\u001b[0m, \u001b[32m'loss'\u001b[0m: \u001b[1;36m0.5742362141609192\u001b[0m, \u001b[32m'accuracy'\u001b[0m:  \n",
       "\u001b[1;36m0.7816666960716248\u001b[0m, \u001b[32m'trial_id'\u001b[0m: \u001b[1;36m35\u001b[0m\u001b[1m}\u001b[0m | Score: \u001b[1;36m0.7816666960716248\u001b[0m                                                    \n"
      ]
     },
     "metadata": {},
     "output_type": "display_data"
    },
    {
     "data": {
      "application/vnd.jupyter.widget-view+json": {
       "model_id": "df4cdf5f5e4b4938baa061317bc8bc63",
       "version_major": 2,
       "version_minor": 0
      },
      "text/plain": [
       "Finding best initial lr:   0%|          | 0/100 [00:00<?, ?it/s]"
      ]
     },
     "metadata": {},
     "output_type": "display_data"
    },
    {
     "data": {
      "text/html": [
       "<pre style=\"white-space:pre;overflow-x:auto;line-height:normal;font-family:Menlo,'DejaVu Sans Mono',consolas,'Courier New',monospace\"><span style=\"color: #008080; text-decoration-color: #008080; font-weight: bold\">2025</span>-<span style=\"color: #008080; text-decoration-color: #008080; font-weight: bold\">02</span>-<span style=\"color: #008080; text-decoration-color: #008080; font-weight: bold\">26</span> <span style=\"color: #00ff00; text-decoration-color: #00ff00; font-weight: bold\">10:43:20</span>,<span style=\"color: #008080; text-decoration-color: #008080; font-weight: bold\">649</span> - <span style=\"font-weight: bold\">{</span>pytorch_tabular.tabular_model_tuner:<span style=\"color: #008080; text-decoration-color: #008080; font-weight: bold\">412</span><span style=\"font-weight: bold\">}</span> - INFO - Trial <span style=\"color: #008080; text-decoration-color: #008080; font-weight: bold\">37</span>/<span style=\"color: #008080; text-decoration-color: #008080; font-weight: bold\">54</span>: <span style=\"font-weight: bold\">{</span><span style=\"color: #008000; text-decoration-color: #008000\">'model'</span>:                \n",
       "<span style=\"color: #008000; text-decoration-color: #008000\">'1-DANetConfig'</span>, <span style=\"color: #008000; text-decoration-color: #008000\">'model_config__abstlay_dim_1'</span>: <span style=\"color: #008080; text-decoration-color: #008080; font-weight: bold\">64</span>, <span style=\"color: #008000; text-decoration-color: #008000\">'model_config__abstlay_dim_2'</span>: <span style=\"color: #008080; text-decoration-color: #008080; font-weight: bold\">32</span>, <span style=\"color: #008000; text-decoration-color: #008000\">'model_config__n_layers'</span>: <span style=\"color: #008080; text-decoration-color: #008080; font-weight: bold\">4</span>,\n",
       "<span style=\"color: #008000; text-decoration-color: #008000\">'optimizer_config__optimizer'</span>: <span style=\"color: #008000; text-decoration-color: #008000\">'Adam'</span>, <span style=\"color: #008000; text-decoration-color: #008000\">'loss_0'</span>: <span style=\"color: #008080; text-decoration-color: #008080; font-weight: bold\">0.5108688473701477</span>, <span style=\"color: #008000; text-decoration-color: #008000\">'loss'</span>: <span style=\"color: #008080; text-decoration-color: #008080; font-weight: bold\">0.5108688473701477</span>, <span style=\"color: #008000; text-decoration-color: #008000\">'accuracy'</span>:       \n",
       "<span style=\"color: #008080; text-decoration-color: #008080; font-weight: bold\">0.8016666769981384</span>, <span style=\"color: #008000; text-decoration-color: #008000\">'trial_id'</span>: <span style=\"color: #008080; text-decoration-color: #008080; font-weight: bold\">36</span><span style=\"font-weight: bold\">}</span> | Score: <span style=\"color: #008080; text-decoration-color: #008080; font-weight: bold\">0.8016666769981384</span>                                                    \n",
       "</pre>\n"
      ],
      "text/plain": [
       "\u001b[1;36m2025\u001b[0m-\u001b[1;36m02\u001b[0m-\u001b[1;36m26\u001b[0m \u001b[1;92m10:43:20\u001b[0m,\u001b[1;36m649\u001b[0m - \u001b[1m{\u001b[0mpytorch_tabular.tabular_model_tuner:\u001b[1;36m412\u001b[0m\u001b[1m}\u001b[0m - INFO - Trial \u001b[1;36m37\u001b[0m/\u001b[1;36m54\u001b[0m: \u001b[1m{\u001b[0m\u001b[32m'model'\u001b[0m:                \n",
       "\u001b[32m'1-DANetConfig'\u001b[0m, \u001b[32m'model_config__abstlay_dim_1'\u001b[0m: \u001b[1;36m64\u001b[0m, \u001b[32m'model_config__abstlay_dim_2'\u001b[0m: \u001b[1;36m32\u001b[0m, \u001b[32m'model_config__n_layers'\u001b[0m: \u001b[1;36m4\u001b[0m,\n",
       "\u001b[32m'optimizer_config__optimizer'\u001b[0m: \u001b[32m'Adam'\u001b[0m, \u001b[32m'loss_0'\u001b[0m: \u001b[1;36m0.5108688473701477\u001b[0m, \u001b[32m'loss'\u001b[0m: \u001b[1;36m0.5108688473701477\u001b[0m, \u001b[32m'accuracy'\u001b[0m:       \n",
       "\u001b[1;36m0.8016666769981384\u001b[0m, \u001b[32m'trial_id'\u001b[0m: \u001b[1;36m36\u001b[0m\u001b[1m}\u001b[0m | Score: \u001b[1;36m0.8016666769981384\u001b[0m                                                    \n"
      ]
     },
     "metadata": {},
     "output_type": "display_data"
    },
    {
     "data": {
      "application/vnd.jupyter.widget-view+json": {
       "model_id": "5f80975eb65644f1918d5c87df955a10",
       "version_major": 2,
       "version_minor": 0
      },
      "text/plain": [
       "Finding best initial lr:   0%|          | 0/100 [00:00<?, ?it/s]"
      ]
     },
     "metadata": {},
     "output_type": "display_data"
    },
    {
     "data": {
      "text/html": [
       "<pre style=\"white-space:pre;overflow-x:auto;line-height:normal;font-family:Menlo,'DejaVu Sans Mono',consolas,'Courier New',monospace\"><span style=\"color: #008080; text-decoration-color: #008080; font-weight: bold\">2025</span>-<span style=\"color: #008080; text-decoration-color: #008080; font-weight: bold\">02</span>-<span style=\"color: #008080; text-decoration-color: #008080; font-weight: bold\">26</span> <span style=\"color: #00ff00; text-decoration-color: #00ff00; font-weight: bold\">10:43:56</span>,<span style=\"color: #008080; text-decoration-color: #008080; font-weight: bold\">921</span> - <span style=\"font-weight: bold\">{</span>pytorch_tabular.tabular_model_tuner:<span style=\"color: #008080; text-decoration-color: #008080; font-weight: bold\">412</span><span style=\"font-weight: bold\">}</span> - INFO - Trial <span style=\"color: #008080; text-decoration-color: #008080; font-weight: bold\">38</span>/<span style=\"color: #008080; text-decoration-color: #008080; font-weight: bold\">54</span>: <span style=\"font-weight: bold\">{</span><span style=\"color: #008000; text-decoration-color: #008000\">'model'</span>:                \n",
       "<span style=\"color: #008000; text-decoration-color: #008000\">'1-DANetConfig'</span>, <span style=\"color: #008000; text-decoration-color: #008000\">'model_config__abstlay_dim_1'</span>: <span style=\"color: #008080; text-decoration-color: #008080; font-weight: bold\">64</span>, <span style=\"color: #008000; text-decoration-color: #008000\">'model_config__abstlay_dim_2'</span>: <span style=\"color: #008080; text-decoration-color: #008080; font-weight: bold\">32</span>, <span style=\"color: #008000; text-decoration-color: #008000\">'model_config__n_layers'</span>: <span style=\"color: #008080; text-decoration-color: #008080; font-weight: bold\">4</span>,\n",
       "<span style=\"color: #008000; text-decoration-color: #008000\">'optimizer_config__optimizer'</span>: <span style=\"color: #008000; text-decoration-color: #008000\">'AdamW'</span>, <span style=\"color: #008000; text-decoration-color: #008000\">'loss_0'</span>: <span style=\"color: #008080; text-decoration-color: #008080; font-weight: bold\">0.5570616126060486</span>, <span style=\"color: #008000; text-decoration-color: #008000\">'loss'</span>: <span style=\"color: #008080; text-decoration-color: #008080; font-weight: bold\">0.5570616126060486</span>, <span style=\"color: #008000; text-decoration-color: #008000\">'accuracy'</span>:      \n",
       "<span style=\"color: #008080; text-decoration-color: #008080; font-weight: bold\">0.7933333516120911</span>, <span style=\"color: #008000; text-decoration-color: #008000\">'trial_id'</span>: <span style=\"color: #008080; text-decoration-color: #008080; font-weight: bold\">37</span><span style=\"font-weight: bold\">}</span> | Score: <span style=\"color: #008080; text-decoration-color: #008080; font-weight: bold\">0.7933333516120911</span>                                                    \n",
       "</pre>\n"
      ],
      "text/plain": [
       "\u001b[1;36m2025\u001b[0m-\u001b[1;36m02\u001b[0m-\u001b[1;36m26\u001b[0m \u001b[1;92m10:43:56\u001b[0m,\u001b[1;36m921\u001b[0m - \u001b[1m{\u001b[0mpytorch_tabular.tabular_model_tuner:\u001b[1;36m412\u001b[0m\u001b[1m}\u001b[0m - INFO - Trial \u001b[1;36m38\u001b[0m/\u001b[1;36m54\u001b[0m: \u001b[1m{\u001b[0m\u001b[32m'model'\u001b[0m:                \n",
       "\u001b[32m'1-DANetConfig'\u001b[0m, \u001b[32m'model_config__abstlay_dim_1'\u001b[0m: \u001b[1;36m64\u001b[0m, \u001b[32m'model_config__abstlay_dim_2'\u001b[0m: \u001b[1;36m32\u001b[0m, \u001b[32m'model_config__n_layers'\u001b[0m: \u001b[1;36m4\u001b[0m,\n",
       "\u001b[32m'optimizer_config__optimizer'\u001b[0m: \u001b[32m'AdamW'\u001b[0m, \u001b[32m'loss_0'\u001b[0m: \u001b[1;36m0.5570616126060486\u001b[0m, \u001b[32m'loss'\u001b[0m: \u001b[1;36m0.5570616126060486\u001b[0m, \u001b[32m'accuracy'\u001b[0m:      \n",
       "\u001b[1;36m0.7933333516120911\u001b[0m, \u001b[32m'trial_id'\u001b[0m: \u001b[1;36m37\u001b[0m\u001b[1m}\u001b[0m | Score: \u001b[1;36m0.7933333516120911\u001b[0m                                                    \n"
      ]
     },
     "metadata": {},
     "output_type": "display_data"
    },
    {
     "data": {
      "application/vnd.jupyter.widget-view+json": {
       "model_id": "eb19561e2ac3407b8555f464c1b3efeb",
       "version_major": 2,
       "version_minor": 0
      },
      "text/plain": [
       "Finding best initial lr:   0%|          | 0/100 [00:00<?, ?it/s]"
      ]
     },
     "metadata": {},
     "output_type": "display_data"
    },
    {
     "data": {
      "text/html": [
       "<pre style=\"white-space:pre;overflow-x:auto;line-height:normal;font-family:Menlo,'DejaVu Sans Mono',consolas,'Courier New',monospace\"><span style=\"color: #008080; text-decoration-color: #008080; font-weight: bold\">2025</span>-<span style=\"color: #008080; text-decoration-color: #008080; font-weight: bold\">02</span>-<span style=\"color: #008080; text-decoration-color: #008080; font-weight: bold\">26</span> <span style=\"color: #00ff00; text-decoration-color: #00ff00; font-weight: bold\">10:44:54</span>,<span style=\"color: #008080; text-decoration-color: #008080; font-weight: bold\">522</span> - <span style=\"font-weight: bold\">{</span>pytorch_tabular.tabular_model_tuner:<span style=\"color: #008080; text-decoration-color: #008080; font-weight: bold\">412</span><span style=\"font-weight: bold\">}</span> - INFO - Trial <span style=\"color: #008080; text-decoration-color: #008080; font-weight: bold\">39</span>/<span style=\"color: #008080; text-decoration-color: #008080; font-weight: bold\">54</span>: <span style=\"font-weight: bold\">{</span><span style=\"color: #008000; text-decoration-color: #008000\">'model'</span>:                \n",
       "<span style=\"color: #008000; text-decoration-color: #008000\">'1-DANetConfig'</span>, <span style=\"color: #008000; text-decoration-color: #008000\">'model_config__abstlay_dim_1'</span>: <span style=\"color: #008080; text-decoration-color: #008080; font-weight: bold\">64</span>, <span style=\"color: #008000; text-decoration-color: #008000\">'model_config__abstlay_dim_2'</span>: <span style=\"color: #008080; text-decoration-color: #008080; font-weight: bold\">32</span>, <span style=\"color: #008000; text-decoration-color: #008000\">'model_config__n_layers'</span>: <span style=\"color: #008080; text-decoration-color: #008080; font-weight: bold\">8</span>,\n",
       "<span style=\"color: #008000; text-decoration-color: #008000\">'optimizer_config__optimizer'</span>: <span style=\"color: #008000; text-decoration-color: #008000\">'Adam'</span>, <span style=\"color: #008000; text-decoration-color: #008000\">'loss_0'</span>: <span style=\"color: #008080; text-decoration-color: #008080; font-weight: bold\">0.6074979901313782</span>, <span style=\"color: #008000; text-decoration-color: #008000\">'loss'</span>: <span style=\"color: #008080; text-decoration-color: #008080; font-weight: bold\">0.6074979901313782</span>, <span style=\"color: #008000; text-decoration-color: #008000\">'accuracy'</span>:       \n",
       "<span style=\"color: #008080; text-decoration-color: #008080; font-weight: bold\">0.7716666460037231</span>, <span style=\"color: #008000; text-decoration-color: #008000\">'trial_id'</span>: <span style=\"color: #008080; text-decoration-color: #008080; font-weight: bold\">38</span><span style=\"font-weight: bold\">}</span> | Score: <span style=\"color: #008080; text-decoration-color: #008080; font-weight: bold\">0.7716666460037231</span>                                                    \n",
       "</pre>\n"
      ],
      "text/plain": [
       "\u001b[1;36m2025\u001b[0m-\u001b[1;36m02\u001b[0m-\u001b[1;36m26\u001b[0m \u001b[1;92m10:44:54\u001b[0m,\u001b[1;36m522\u001b[0m - \u001b[1m{\u001b[0mpytorch_tabular.tabular_model_tuner:\u001b[1;36m412\u001b[0m\u001b[1m}\u001b[0m - INFO - Trial \u001b[1;36m39\u001b[0m/\u001b[1;36m54\u001b[0m: \u001b[1m{\u001b[0m\u001b[32m'model'\u001b[0m:                \n",
       "\u001b[32m'1-DANetConfig'\u001b[0m, \u001b[32m'model_config__abstlay_dim_1'\u001b[0m: \u001b[1;36m64\u001b[0m, \u001b[32m'model_config__abstlay_dim_2'\u001b[0m: \u001b[1;36m32\u001b[0m, \u001b[32m'model_config__n_layers'\u001b[0m: \u001b[1;36m8\u001b[0m,\n",
       "\u001b[32m'optimizer_config__optimizer'\u001b[0m: \u001b[32m'Adam'\u001b[0m, \u001b[32m'loss_0'\u001b[0m: \u001b[1;36m0.6074979901313782\u001b[0m, \u001b[32m'loss'\u001b[0m: \u001b[1;36m0.6074979901313782\u001b[0m, \u001b[32m'accuracy'\u001b[0m:       \n",
       "\u001b[1;36m0.7716666460037231\u001b[0m, \u001b[32m'trial_id'\u001b[0m: \u001b[1;36m38\u001b[0m\u001b[1m}\u001b[0m | Score: \u001b[1;36m0.7716666460037231\u001b[0m                                                    \n"
      ]
     },
     "metadata": {},
     "output_type": "display_data"
    },
    {
     "data": {
      "application/vnd.jupyter.widget-view+json": {
       "model_id": "9089ac79b7184ef7953d29949d6c5312",
       "version_major": 2,
       "version_minor": 0
      },
      "text/plain": [
       "Finding best initial lr:   0%|          | 0/100 [00:00<?, ?it/s]"
      ]
     },
     "metadata": {},
     "output_type": "display_data"
    },
    {
     "data": {
      "text/html": [
       "<pre style=\"white-space:pre;overflow-x:auto;line-height:normal;font-family:Menlo,'DejaVu Sans Mono',consolas,'Courier New',monospace\"><span style=\"color: #008080; text-decoration-color: #008080; font-weight: bold\">2025</span>-<span style=\"color: #008080; text-decoration-color: #008080; font-weight: bold\">02</span>-<span style=\"color: #008080; text-decoration-color: #008080; font-weight: bold\">26</span> <span style=\"color: #00ff00; text-decoration-color: #00ff00; font-weight: bold\">10:45:49</span>,<span style=\"color: #008080; text-decoration-color: #008080; font-weight: bold\">222</span> - <span style=\"font-weight: bold\">{</span>pytorch_tabular.tabular_model_tuner:<span style=\"color: #008080; text-decoration-color: #008080; font-weight: bold\">412</span><span style=\"font-weight: bold\">}</span> - INFO - Trial <span style=\"color: #008080; text-decoration-color: #008080; font-weight: bold\">40</span>/<span style=\"color: #008080; text-decoration-color: #008080; font-weight: bold\">54</span>: <span style=\"font-weight: bold\">{</span><span style=\"color: #008000; text-decoration-color: #008000\">'model'</span>:                \n",
       "<span style=\"color: #008000; text-decoration-color: #008000\">'1-DANetConfig'</span>, <span style=\"color: #008000; text-decoration-color: #008000\">'model_config__abstlay_dim_1'</span>: <span style=\"color: #008080; text-decoration-color: #008080; font-weight: bold\">64</span>, <span style=\"color: #008000; text-decoration-color: #008000\">'model_config__abstlay_dim_2'</span>: <span style=\"color: #008080; text-decoration-color: #008080; font-weight: bold\">32</span>, <span style=\"color: #008000; text-decoration-color: #008000\">'model_config__n_layers'</span>: <span style=\"color: #008080; text-decoration-color: #008080; font-weight: bold\">8</span>,\n",
       "<span style=\"color: #008000; text-decoration-color: #008000\">'optimizer_config__optimizer'</span>: <span style=\"color: #008000; text-decoration-color: #008000\">'AdamW'</span>, <span style=\"color: #008000; text-decoration-color: #008000\">'loss_0'</span>: <span style=\"color: #008080; text-decoration-color: #008080; font-weight: bold\">0.6209770441055298</span>, <span style=\"color: #008000; text-decoration-color: #008000\">'loss'</span>: <span style=\"color: #008080; text-decoration-color: #008080; font-weight: bold\">0.6209770441055298</span>, <span style=\"color: #008000; text-decoration-color: #008000\">'accuracy'</span>:      \n",
       "<span style=\"color: #008080; text-decoration-color: #008080; font-weight: bold\">0.7666666507720947</span>, <span style=\"color: #008000; text-decoration-color: #008000\">'trial_id'</span>: <span style=\"color: #008080; text-decoration-color: #008080; font-weight: bold\">39</span><span style=\"font-weight: bold\">}</span> | Score: <span style=\"color: #008080; text-decoration-color: #008080; font-weight: bold\">0.7666666507720947</span>                                                    \n",
       "</pre>\n"
      ],
      "text/plain": [
       "\u001b[1;36m2025\u001b[0m-\u001b[1;36m02\u001b[0m-\u001b[1;36m26\u001b[0m \u001b[1;92m10:45:49\u001b[0m,\u001b[1;36m222\u001b[0m - \u001b[1m{\u001b[0mpytorch_tabular.tabular_model_tuner:\u001b[1;36m412\u001b[0m\u001b[1m}\u001b[0m - INFO - Trial \u001b[1;36m40\u001b[0m/\u001b[1;36m54\u001b[0m: \u001b[1m{\u001b[0m\u001b[32m'model'\u001b[0m:                \n",
       "\u001b[32m'1-DANetConfig'\u001b[0m, \u001b[32m'model_config__abstlay_dim_1'\u001b[0m: \u001b[1;36m64\u001b[0m, \u001b[32m'model_config__abstlay_dim_2'\u001b[0m: \u001b[1;36m32\u001b[0m, \u001b[32m'model_config__n_layers'\u001b[0m: \u001b[1;36m8\u001b[0m,\n",
       "\u001b[32m'optimizer_config__optimizer'\u001b[0m: \u001b[32m'AdamW'\u001b[0m, \u001b[32m'loss_0'\u001b[0m: \u001b[1;36m0.6209770441055298\u001b[0m, \u001b[32m'loss'\u001b[0m: \u001b[1;36m0.6209770441055298\u001b[0m, \u001b[32m'accuracy'\u001b[0m:      \n",
       "\u001b[1;36m0.7666666507720947\u001b[0m, \u001b[32m'trial_id'\u001b[0m: \u001b[1;36m39\u001b[0m\u001b[1m}\u001b[0m | Score: \u001b[1;36m0.7666666507720947\u001b[0m                                                    \n"
      ]
     },
     "metadata": {},
     "output_type": "display_data"
    },
    {
     "data": {
      "application/vnd.jupyter.widget-view+json": {
       "model_id": "2ec9fe7699c64bc19a1348b51e53396a",
       "version_major": 2,
       "version_minor": 0
      },
      "text/plain": [
       "Finding best initial lr:   0%|          | 0/100 [00:00<?, ?it/s]"
      ]
     },
     "metadata": {},
     "output_type": "display_data"
    },
    {
     "data": {
      "text/html": [
       "<pre style=\"white-space:pre;overflow-x:auto;line-height:normal;font-family:Menlo,'DejaVu Sans Mono',consolas,'Courier New',monospace\"><span style=\"color: #008080; text-decoration-color: #008080; font-weight: bold\">2025</span>-<span style=\"color: #008080; text-decoration-color: #008080; font-weight: bold\">02</span>-<span style=\"color: #008080; text-decoration-color: #008080; font-weight: bold\">26</span> <span style=\"color: #00ff00; text-decoration-color: #00ff00; font-weight: bold\">10:47:25</span>,<span style=\"color: #008080; text-decoration-color: #008080; font-weight: bold\">054</span> - <span style=\"font-weight: bold\">{</span>pytorch_tabular.tabular_model_tuner:<span style=\"color: #008080; text-decoration-color: #008080; font-weight: bold\">412</span><span style=\"font-weight: bold\">}</span> - INFO - Trial <span style=\"color: #008080; text-decoration-color: #008080; font-weight: bold\">41</span>/<span style=\"color: #008080; text-decoration-color: #008080; font-weight: bold\">54</span>: <span style=\"font-weight: bold\">{</span><span style=\"color: #008000; text-decoration-color: #008000\">'model'</span>:                \n",
       "<span style=\"color: #008000; text-decoration-color: #008000\">'1-DANetConfig'</span>, <span style=\"color: #008000; text-decoration-color: #008000\">'model_config__abstlay_dim_1'</span>: <span style=\"color: #008080; text-decoration-color: #008080; font-weight: bold\">64</span>, <span style=\"color: #008000; text-decoration-color: #008000\">'model_config__abstlay_dim_2'</span>: <span style=\"color: #008080; text-decoration-color: #008080; font-weight: bold\">32</span>, <span style=\"color: #008000; text-decoration-color: #008000\">'model_config__n_layers'</span>:   \n",
       "<span style=\"color: #008080; text-decoration-color: #008080; font-weight: bold\">16</span>, <span style=\"color: #008000; text-decoration-color: #008000\">'optimizer_config__optimizer'</span>: <span style=\"color: #008000; text-decoration-color: #008000\">'Adam'</span>, <span style=\"color: #008000; text-decoration-color: #008000\">'loss_0'</span>: <span style=\"color: #008080; text-decoration-color: #008080; font-weight: bold\">0.5640115737915039</span>, <span style=\"color: #008000; text-decoration-color: #008000\">'loss'</span>: <span style=\"color: #008080; text-decoration-color: #008080; font-weight: bold\">0.5640115737915039</span>, <span style=\"color: #008000; text-decoration-color: #008000\">'accuracy'</span>:   \n",
       "<span style=\"color: #008080; text-decoration-color: #008080; font-weight: bold\">0.7816666960716248</span>, <span style=\"color: #008000; text-decoration-color: #008000\">'trial_id'</span>: <span style=\"color: #008080; text-decoration-color: #008080; font-weight: bold\">40</span><span style=\"font-weight: bold\">}</span> | Score: <span style=\"color: #008080; text-decoration-color: #008080; font-weight: bold\">0.7816666960716248</span>                                                    \n",
       "</pre>\n"
      ],
      "text/plain": [
       "\u001b[1;36m2025\u001b[0m-\u001b[1;36m02\u001b[0m-\u001b[1;36m26\u001b[0m \u001b[1;92m10:47:25\u001b[0m,\u001b[1;36m054\u001b[0m - \u001b[1m{\u001b[0mpytorch_tabular.tabular_model_tuner:\u001b[1;36m412\u001b[0m\u001b[1m}\u001b[0m - INFO - Trial \u001b[1;36m41\u001b[0m/\u001b[1;36m54\u001b[0m: \u001b[1m{\u001b[0m\u001b[32m'model'\u001b[0m:                \n",
       "\u001b[32m'1-DANetConfig'\u001b[0m, \u001b[32m'model_config__abstlay_dim_1'\u001b[0m: \u001b[1;36m64\u001b[0m, \u001b[32m'model_config__abstlay_dim_2'\u001b[0m: \u001b[1;36m32\u001b[0m, \u001b[32m'model_config__n_layers'\u001b[0m:   \n",
       "\u001b[1;36m16\u001b[0m, \u001b[32m'optimizer_config__optimizer'\u001b[0m: \u001b[32m'Adam'\u001b[0m, \u001b[32m'loss_0'\u001b[0m: \u001b[1;36m0.5640115737915039\u001b[0m, \u001b[32m'loss'\u001b[0m: \u001b[1;36m0.5640115737915039\u001b[0m, \u001b[32m'accuracy'\u001b[0m:   \n",
       "\u001b[1;36m0.7816666960716248\u001b[0m, \u001b[32m'trial_id'\u001b[0m: \u001b[1;36m40\u001b[0m\u001b[1m}\u001b[0m | Score: \u001b[1;36m0.7816666960716248\u001b[0m                                                    \n"
      ]
     },
     "metadata": {},
     "output_type": "display_data"
    },
    {
     "data": {
      "application/vnd.jupyter.widget-view+json": {
       "model_id": "392b66ce918241c99f17489ecd9e089e",
       "version_major": 2,
       "version_minor": 0
      },
      "text/plain": [
       "Finding best initial lr:   0%|          | 0/100 [00:00<?, ?it/s]"
      ]
     },
     "metadata": {},
     "output_type": "display_data"
    },
    {
     "data": {
      "text/html": [
       "<pre style=\"white-space:pre;overflow-x:auto;line-height:normal;font-family:Menlo,'DejaVu Sans Mono',consolas,'Courier New',monospace\"><span style=\"color: #008080; text-decoration-color: #008080; font-weight: bold\">2025</span>-<span style=\"color: #008080; text-decoration-color: #008080; font-weight: bold\">02</span>-<span style=\"color: #008080; text-decoration-color: #008080; font-weight: bold\">26</span> <span style=\"color: #00ff00; text-decoration-color: #00ff00; font-weight: bold\">10:49:21</span>,<span style=\"color: #008080; text-decoration-color: #008080; font-weight: bold\">262</span> - <span style=\"font-weight: bold\">{</span>pytorch_tabular.tabular_model_tuner:<span style=\"color: #008080; text-decoration-color: #008080; font-weight: bold\">412</span><span style=\"font-weight: bold\">}</span> - INFO - Trial <span style=\"color: #008080; text-decoration-color: #008080; font-weight: bold\">42</span>/<span style=\"color: #008080; text-decoration-color: #008080; font-weight: bold\">54</span>: <span style=\"font-weight: bold\">{</span><span style=\"color: #008000; text-decoration-color: #008000\">'model'</span>:                \n",
       "<span style=\"color: #008000; text-decoration-color: #008000\">'1-DANetConfig'</span>, <span style=\"color: #008000; text-decoration-color: #008000\">'model_config__abstlay_dim_1'</span>: <span style=\"color: #008080; text-decoration-color: #008080; font-weight: bold\">64</span>, <span style=\"color: #008000; text-decoration-color: #008000\">'model_config__abstlay_dim_2'</span>: <span style=\"color: #008080; text-decoration-color: #008080; font-weight: bold\">32</span>, <span style=\"color: #008000; text-decoration-color: #008000\">'model_config__n_layers'</span>:   \n",
       "<span style=\"color: #008080; text-decoration-color: #008080; font-weight: bold\">16</span>, <span style=\"color: #008000; text-decoration-color: #008000\">'optimizer_config__optimizer'</span>: <span style=\"color: #008000; text-decoration-color: #008000\">'AdamW'</span>, <span style=\"color: #008000; text-decoration-color: #008000\">'loss_0'</span>: <span style=\"color: #008080; text-decoration-color: #008080; font-weight: bold\">0.7257691025733948</span>, <span style=\"color: #008000; text-decoration-color: #008000\">'loss'</span>: <span style=\"color: #008080; text-decoration-color: #008080; font-weight: bold\">0.7257691025733948</span>, <span style=\"color: #008000; text-decoration-color: #008000\">'accuracy'</span>:  \n",
       "<span style=\"color: #008080; text-decoration-color: #008080; font-weight: bold\">0.7233333587646484</span>, <span style=\"color: #008000; text-decoration-color: #008000\">'trial_id'</span>: <span style=\"color: #008080; text-decoration-color: #008080; font-weight: bold\">41</span><span style=\"font-weight: bold\">}</span> | Score: <span style=\"color: #008080; text-decoration-color: #008080; font-weight: bold\">0.7233333587646484</span>                                                    \n",
       "</pre>\n"
      ],
      "text/plain": [
       "\u001b[1;36m2025\u001b[0m-\u001b[1;36m02\u001b[0m-\u001b[1;36m26\u001b[0m \u001b[1;92m10:49:21\u001b[0m,\u001b[1;36m262\u001b[0m - \u001b[1m{\u001b[0mpytorch_tabular.tabular_model_tuner:\u001b[1;36m412\u001b[0m\u001b[1m}\u001b[0m - INFO - Trial \u001b[1;36m42\u001b[0m/\u001b[1;36m54\u001b[0m: \u001b[1m{\u001b[0m\u001b[32m'model'\u001b[0m:                \n",
       "\u001b[32m'1-DANetConfig'\u001b[0m, \u001b[32m'model_config__abstlay_dim_1'\u001b[0m: \u001b[1;36m64\u001b[0m, \u001b[32m'model_config__abstlay_dim_2'\u001b[0m: \u001b[1;36m32\u001b[0m, \u001b[32m'model_config__n_layers'\u001b[0m:   \n",
       "\u001b[1;36m16\u001b[0m, \u001b[32m'optimizer_config__optimizer'\u001b[0m: \u001b[32m'AdamW'\u001b[0m, \u001b[32m'loss_0'\u001b[0m: \u001b[1;36m0.7257691025733948\u001b[0m, \u001b[32m'loss'\u001b[0m: \u001b[1;36m0.7257691025733948\u001b[0m, \u001b[32m'accuracy'\u001b[0m:  \n",
       "\u001b[1;36m0.7233333587646484\u001b[0m, \u001b[32m'trial_id'\u001b[0m: \u001b[1;36m41\u001b[0m\u001b[1m}\u001b[0m | Score: \u001b[1;36m0.7233333587646484\u001b[0m                                                    \n"
      ]
     },
     "metadata": {},
     "output_type": "display_data"
    },
    {
     "data": {
      "application/vnd.jupyter.widget-view+json": {
       "model_id": "688960a601584f45a44366471648a7b3",
       "version_major": 2,
       "version_minor": 0
      },
      "text/plain": [
       "Finding best initial lr:   0%|          | 0/100 [00:00<?, ?it/s]"
      ]
     },
     "metadata": {},
     "output_type": "display_data"
    },
    {
     "data": {
      "text/html": [
       "<pre style=\"white-space:pre;overflow-x:auto;line-height:normal;font-family:Menlo,'DejaVu Sans Mono',consolas,'Courier New',monospace\"><span style=\"color: #008080; text-decoration-color: #008080; font-weight: bold\">2025</span>-<span style=\"color: #008080; text-decoration-color: #008080; font-weight: bold\">02</span>-<span style=\"color: #008080; text-decoration-color: #008080; font-weight: bold\">26</span> <span style=\"color: #00ff00; text-decoration-color: #00ff00; font-weight: bold\">10:49:57</span>,<span style=\"color: #008080; text-decoration-color: #008080; font-weight: bold\">945</span> - <span style=\"font-weight: bold\">{</span>pytorch_tabular.tabular_model_tuner:<span style=\"color: #008080; text-decoration-color: #008080; font-weight: bold\">412</span><span style=\"font-weight: bold\">}</span> - INFO - Trial <span style=\"color: #008080; text-decoration-color: #008080; font-weight: bold\">43</span>/<span style=\"color: #008080; text-decoration-color: #008080; font-weight: bold\">54</span>: <span style=\"font-weight: bold\">{</span><span style=\"color: #008000; text-decoration-color: #008000\">'model'</span>:                \n",
       "<span style=\"color: #008000; text-decoration-color: #008000\">'1-DANetConfig'</span>, <span style=\"color: #008000; text-decoration-color: #008000\">'model_config__abstlay_dim_1'</span>: <span style=\"color: #008080; text-decoration-color: #008080; font-weight: bold\">64</span>, <span style=\"color: #008000; text-decoration-color: #008000\">'model_config__abstlay_dim_2'</span>: <span style=\"color: #008080; text-decoration-color: #008080; font-weight: bold\">64</span>, <span style=\"color: #008000; text-decoration-color: #008000\">'model_config__n_layers'</span>: <span style=\"color: #008080; text-decoration-color: #008080; font-weight: bold\">4</span>,\n",
       "<span style=\"color: #008000; text-decoration-color: #008000\">'optimizer_config__optimizer'</span>: <span style=\"color: #008000; text-decoration-color: #008000\">'Adam'</span>, <span style=\"color: #008000; text-decoration-color: #008000\">'loss_0'</span>: <span style=\"color: #008080; text-decoration-color: #008080; font-weight: bold\">0.5749837160110474</span>, <span style=\"color: #008000; text-decoration-color: #008000\">'loss'</span>: <span style=\"color: #008080; text-decoration-color: #008080; font-weight: bold\">0.5749837160110474</span>, <span style=\"color: #008000; text-decoration-color: #008000\">'accuracy'</span>:       \n",
       "<span style=\"color: #008080; text-decoration-color: #008080; font-weight: bold\">0.7833333611488342</span>, <span style=\"color: #008000; text-decoration-color: #008000\">'trial_id'</span>: <span style=\"color: #008080; text-decoration-color: #008080; font-weight: bold\">42</span><span style=\"font-weight: bold\">}</span> | Score: <span style=\"color: #008080; text-decoration-color: #008080; font-weight: bold\">0.7833333611488342</span>                                                    \n",
       "</pre>\n"
      ],
      "text/plain": [
       "\u001b[1;36m2025\u001b[0m-\u001b[1;36m02\u001b[0m-\u001b[1;36m26\u001b[0m \u001b[1;92m10:49:57\u001b[0m,\u001b[1;36m945\u001b[0m - \u001b[1m{\u001b[0mpytorch_tabular.tabular_model_tuner:\u001b[1;36m412\u001b[0m\u001b[1m}\u001b[0m - INFO - Trial \u001b[1;36m43\u001b[0m/\u001b[1;36m54\u001b[0m: \u001b[1m{\u001b[0m\u001b[32m'model'\u001b[0m:                \n",
       "\u001b[32m'1-DANetConfig'\u001b[0m, \u001b[32m'model_config__abstlay_dim_1'\u001b[0m: \u001b[1;36m64\u001b[0m, \u001b[32m'model_config__abstlay_dim_2'\u001b[0m: \u001b[1;36m64\u001b[0m, \u001b[32m'model_config__n_layers'\u001b[0m: \u001b[1;36m4\u001b[0m,\n",
       "\u001b[32m'optimizer_config__optimizer'\u001b[0m: \u001b[32m'Adam'\u001b[0m, \u001b[32m'loss_0'\u001b[0m: \u001b[1;36m0.5749837160110474\u001b[0m, \u001b[32m'loss'\u001b[0m: \u001b[1;36m0.5749837160110474\u001b[0m, \u001b[32m'accuracy'\u001b[0m:       \n",
       "\u001b[1;36m0.7833333611488342\u001b[0m, \u001b[32m'trial_id'\u001b[0m: \u001b[1;36m42\u001b[0m\u001b[1m}\u001b[0m | Score: \u001b[1;36m0.7833333611488342\u001b[0m                                                    \n"
      ]
     },
     "metadata": {},
     "output_type": "display_data"
    },
    {
     "data": {
      "application/vnd.jupyter.widget-view+json": {
       "model_id": "7a3eebc4fe9b46869666a2b6cdbb1436",
       "version_major": 2,
       "version_minor": 0
      },
      "text/plain": [
       "Finding best initial lr:   0%|          | 0/100 [00:00<?, ?it/s]"
      ]
     },
     "metadata": {},
     "output_type": "display_data"
    },
    {
     "data": {
      "text/html": [
       "<pre style=\"white-space:pre;overflow-x:auto;line-height:normal;font-family:Menlo,'DejaVu Sans Mono',consolas,'Courier New',monospace\"><span style=\"color: #008080; text-decoration-color: #008080; font-weight: bold\">2025</span>-<span style=\"color: #008080; text-decoration-color: #008080; font-weight: bold\">02</span>-<span style=\"color: #008080; text-decoration-color: #008080; font-weight: bold\">26</span> <span style=\"color: #00ff00; text-decoration-color: #00ff00; font-weight: bold\">10:50:40</span>,<span style=\"color: #008080; text-decoration-color: #008080; font-weight: bold\">330</span> - <span style=\"font-weight: bold\">{</span>pytorch_tabular.tabular_model_tuner:<span style=\"color: #008080; text-decoration-color: #008080; font-weight: bold\">412</span><span style=\"font-weight: bold\">}</span> - INFO - Trial <span style=\"color: #008080; text-decoration-color: #008080; font-weight: bold\">44</span>/<span style=\"color: #008080; text-decoration-color: #008080; font-weight: bold\">54</span>: <span style=\"font-weight: bold\">{</span><span style=\"color: #008000; text-decoration-color: #008000\">'model'</span>:                \n",
       "<span style=\"color: #008000; text-decoration-color: #008000\">'1-DANetConfig'</span>, <span style=\"color: #008000; text-decoration-color: #008000\">'model_config__abstlay_dim_1'</span>: <span style=\"color: #008080; text-decoration-color: #008080; font-weight: bold\">64</span>, <span style=\"color: #008000; text-decoration-color: #008000\">'model_config__abstlay_dim_2'</span>: <span style=\"color: #008080; text-decoration-color: #008080; font-weight: bold\">64</span>, <span style=\"color: #008000; text-decoration-color: #008000\">'model_config__n_layers'</span>: <span style=\"color: #008080; text-decoration-color: #008080; font-weight: bold\">4</span>,\n",
       "<span style=\"color: #008000; text-decoration-color: #008000\">'optimizer_config__optimizer'</span>: <span style=\"color: #008000; text-decoration-color: #008000\">'AdamW'</span>, <span style=\"color: #008000; text-decoration-color: #008000\">'loss_0'</span>: <span style=\"color: #008080; text-decoration-color: #008080; font-weight: bold\">0.606814980506897</span>, <span style=\"color: #008000; text-decoration-color: #008000\">'loss'</span>: <span style=\"color: #008080; text-decoration-color: #008080; font-weight: bold\">0.606814980506897</span>, <span style=\"color: #008000; text-decoration-color: #008000\">'accuracy'</span>:        \n",
       "<span style=\"color: #008080; text-decoration-color: #008080; font-weight: bold\">0.7816666960716248</span>, <span style=\"color: #008000; text-decoration-color: #008000\">'trial_id'</span>: <span style=\"color: #008080; text-decoration-color: #008080; font-weight: bold\">43</span><span style=\"font-weight: bold\">}</span> | Score: <span style=\"color: #008080; text-decoration-color: #008080; font-weight: bold\">0.7816666960716248</span>                                                    \n",
       "</pre>\n"
      ],
      "text/plain": [
       "\u001b[1;36m2025\u001b[0m-\u001b[1;36m02\u001b[0m-\u001b[1;36m26\u001b[0m \u001b[1;92m10:50:40\u001b[0m,\u001b[1;36m330\u001b[0m - \u001b[1m{\u001b[0mpytorch_tabular.tabular_model_tuner:\u001b[1;36m412\u001b[0m\u001b[1m}\u001b[0m - INFO - Trial \u001b[1;36m44\u001b[0m/\u001b[1;36m54\u001b[0m: \u001b[1m{\u001b[0m\u001b[32m'model'\u001b[0m:                \n",
       "\u001b[32m'1-DANetConfig'\u001b[0m, \u001b[32m'model_config__abstlay_dim_1'\u001b[0m: \u001b[1;36m64\u001b[0m, \u001b[32m'model_config__abstlay_dim_2'\u001b[0m: \u001b[1;36m64\u001b[0m, \u001b[32m'model_config__n_layers'\u001b[0m: \u001b[1;36m4\u001b[0m,\n",
       "\u001b[32m'optimizer_config__optimizer'\u001b[0m: \u001b[32m'AdamW'\u001b[0m, \u001b[32m'loss_0'\u001b[0m: \u001b[1;36m0.606814980506897\u001b[0m, \u001b[32m'loss'\u001b[0m: \u001b[1;36m0.606814980506897\u001b[0m, \u001b[32m'accuracy'\u001b[0m:        \n",
       "\u001b[1;36m0.7816666960716248\u001b[0m, \u001b[32m'trial_id'\u001b[0m: \u001b[1;36m43\u001b[0m\u001b[1m}\u001b[0m | Score: \u001b[1;36m0.7816666960716248\u001b[0m                                                    \n"
      ]
     },
     "metadata": {},
     "output_type": "display_data"
    },
    {
     "data": {
      "application/vnd.jupyter.widget-view+json": {
       "model_id": "f3e605fc2ef64fbca69eca4e8b64dd5d",
       "version_major": 2,
       "version_minor": 0
      },
      "text/plain": [
       "Finding best initial lr:   0%|          | 0/100 [00:00<?, ?it/s]"
      ]
     },
     "metadata": {},
     "output_type": "display_data"
    },
    {
     "data": {
      "text/html": [
       "<pre style=\"white-space:pre;overflow-x:auto;line-height:normal;font-family:Menlo,'DejaVu Sans Mono',consolas,'Courier New',monospace\"><span style=\"color: #008080; text-decoration-color: #008080; font-weight: bold\">2025</span>-<span style=\"color: #008080; text-decoration-color: #008080; font-weight: bold\">02</span>-<span style=\"color: #008080; text-decoration-color: #008080; font-weight: bold\">26</span> <span style=\"color: #00ff00; text-decoration-color: #00ff00; font-weight: bold\">10:51:50</span>,<span style=\"color: #008080; text-decoration-color: #008080; font-weight: bold\">335</span> - <span style=\"font-weight: bold\">{</span>pytorch_tabular.tabular_model_tuner:<span style=\"color: #008080; text-decoration-color: #008080; font-weight: bold\">412</span><span style=\"font-weight: bold\">}</span> - INFO - Trial <span style=\"color: #008080; text-decoration-color: #008080; font-weight: bold\">45</span>/<span style=\"color: #008080; text-decoration-color: #008080; font-weight: bold\">54</span>: <span style=\"font-weight: bold\">{</span><span style=\"color: #008000; text-decoration-color: #008000\">'model'</span>:                \n",
       "<span style=\"color: #008000; text-decoration-color: #008000\">'1-DANetConfig'</span>, <span style=\"color: #008000; text-decoration-color: #008000\">'model_config__abstlay_dim_1'</span>: <span style=\"color: #008080; text-decoration-color: #008080; font-weight: bold\">64</span>, <span style=\"color: #008000; text-decoration-color: #008000\">'model_config__abstlay_dim_2'</span>: <span style=\"color: #008080; text-decoration-color: #008080; font-weight: bold\">64</span>, <span style=\"color: #008000; text-decoration-color: #008000\">'model_config__n_layers'</span>: <span style=\"color: #008080; text-decoration-color: #008080; font-weight: bold\">8</span>,\n",
       "<span style=\"color: #008000; text-decoration-color: #008000\">'optimizer_config__optimizer'</span>: <span style=\"color: #008000; text-decoration-color: #008000\">'Adam'</span>, <span style=\"color: #008000; text-decoration-color: #008000\">'loss_0'</span>: <span style=\"color: #008080; text-decoration-color: #008080; font-weight: bold\">0.5718675851821899</span>, <span style=\"color: #008000; text-decoration-color: #008000\">'loss'</span>: <span style=\"color: #008080; text-decoration-color: #008080; font-weight: bold\">0.5718675851821899</span>, <span style=\"color: #008000; text-decoration-color: #008000\">'accuracy'</span>:       \n",
       "<span style=\"color: #008080; text-decoration-color: #008080; font-weight: bold\">0.7866666913032532</span>, <span style=\"color: #008000; text-decoration-color: #008000\">'trial_id'</span>: <span style=\"color: #008080; text-decoration-color: #008080; font-weight: bold\">44</span><span style=\"font-weight: bold\">}</span> | Score: <span style=\"color: #008080; text-decoration-color: #008080; font-weight: bold\">0.7866666913032532</span>                                                    \n",
       "</pre>\n"
      ],
      "text/plain": [
       "\u001b[1;36m2025\u001b[0m-\u001b[1;36m02\u001b[0m-\u001b[1;36m26\u001b[0m \u001b[1;92m10:51:50\u001b[0m,\u001b[1;36m335\u001b[0m - \u001b[1m{\u001b[0mpytorch_tabular.tabular_model_tuner:\u001b[1;36m412\u001b[0m\u001b[1m}\u001b[0m - INFO - Trial \u001b[1;36m45\u001b[0m/\u001b[1;36m54\u001b[0m: \u001b[1m{\u001b[0m\u001b[32m'model'\u001b[0m:                \n",
       "\u001b[32m'1-DANetConfig'\u001b[0m, \u001b[32m'model_config__abstlay_dim_1'\u001b[0m: \u001b[1;36m64\u001b[0m, \u001b[32m'model_config__abstlay_dim_2'\u001b[0m: \u001b[1;36m64\u001b[0m, \u001b[32m'model_config__n_layers'\u001b[0m: \u001b[1;36m8\u001b[0m,\n",
       "\u001b[32m'optimizer_config__optimizer'\u001b[0m: \u001b[32m'Adam'\u001b[0m, \u001b[32m'loss_0'\u001b[0m: \u001b[1;36m0.5718675851821899\u001b[0m, \u001b[32m'loss'\u001b[0m: \u001b[1;36m0.5718675851821899\u001b[0m, \u001b[32m'accuracy'\u001b[0m:       \n",
       "\u001b[1;36m0.7866666913032532\u001b[0m, \u001b[32m'trial_id'\u001b[0m: \u001b[1;36m44\u001b[0m\u001b[1m}\u001b[0m | Score: \u001b[1;36m0.7866666913032532\u001b[0m                                                    \n"
      ]
     },
     "metadata": {},
     "output_type": "display_data"
    },
    {
     "data": {
      "application/vnd.jupyter.widget-view+json": {
       "model_id": "5f9205c9a4b240bd8460f7cf6b60596a",
       "version_major": 2,
       "version_minor": 0
      },
      "text/plain": [
       "Finding best initial lr:   0%|          | 0/100 [00:00<?, ?it/s]"
      ]
     },
     "metadata": {},
     "output_type": "display_data"
    },
    {
     "data": {
      "text/html": [
       "<pre style=\"white-space:pre;overflow-x:auto;line-height:normal;font-family:Menlo,'DejaVu Sans Mono',consolas,'Courier New',monospace\"><span style=\"color: #008080; text-decoration-color: #008080; font-weight: bold\">2025</span>-<span style=\"color: #008080; text-decoration-color: #008080; font-weight: bold\">02</span>-<span style=\"color: #008080; text-decoration-color: #008080; font-weight: bold\">26</span> <span style=\"color: #00ff00; text-decoration-color: #00ff00; font-weight: bold\">10:52:48</span>,<span style=\"color: #008080; text-decoration-color: #008080; font-weight: bold\">847</span> - <span style=\"font-weight: bold\">{</span>pytorch_tabular.tabular_model_tuner:<span style=\"color: #008080; text-decoration-color: #008080; font-weight: bold\">412</span><span style=\"font-weight: bold\">}</span> - INFO - Trial <span style=\"color: #008080; text-decoration-color: #008080; font-weight: bold\">46</span>/<span style=\"color: #008080; text-decoration-color: #008080; font-weight: bold\">54</span>: <span style=\"font-weight: bold\">{</span><span style=\"color: #008000; text-decoration-color: #008000\">'model'</span>:                \n",
       "<span style=\"color: #008000; text-decoration-color: #008000\">'1-DANetConfig'</span>, <span style=\"color: #008000; text-decoration-color: #008000\">'model_config__abstlay_dim_1'</span>: <span style=\"color: #008080; text-decoration-color: #008080; font-weight: bold\">64</span>, <span style=\"color: #008000; text-decoration-color: #008000\">'model_config__abstlay_dim_2'</span>: <span style=\"color: #008080; text-decoration-color: #008080; font-weight: bold\">64</span>, <span style=\"color: #008000; text-decoration-color: #008000\">'model_config__n_layers'</span>: <span style=\"color: #008080; text-decoration-color: #008080; font-weight: bold\">8</span>,\n",
       "<span style=\"color: #008000; text-decoration-color: #008000\">'optimizer_config__optimizer'</span>: <span style=\"color: #008000; text-decoration-color: #008000\">'AdamW'</span>, <span style=\"color: #008000; text-decoration-color: #008000\">'loss_0'</span>: <span style=\"color: #008080; text-decoration-color: #008080; font-weight: bold\">0.5695136785507202</span>, <span style=\"color: #008000; text-decoration-color: #008000\">'loss'</span>: <span style=\"color: #008080; text-decoration-color: #008080; font-weight: bold\">0.5695136785507202</span>, <span style=\"color: #008000; text-decoration-color: #008000\">'accuracy'</span>:      \n",
       "<span style=\"color: #008080; text-decoration-color: #008080; font-weight: bold\">0.7649999856948853</span>, <span style=\"color: #008000; text-decoration-color: #008000\">'trial_id'</span>: <span style=\"color: #008080; text-decoration-color: #008080; font-weight: bold\">45</span><span style=\"font-weight: bold\">}</span> | Score: <span style=\"color: #008080; text-decoration-color: #008080; font-weight: bold\">0.7649999856948853</span>                                                    \n",
       "</pre>\n"
      ],
      "text/plain": [
       "\u001b[1;36m2025\u001b[0m-\u001b[1;36m02\u001b[0m-\u001b[1;36m26\u001b[0m \u001b[1;92m10:52:48\u001b[0m,\u001b[1;36m847\u001b[0m - \u001b[1m{\u001b[0mpytorch_tabular.tabular_model_tuner:\u001b[1;36m412\u001b[0m\u001b[1m}\u001b[0m - INFO - Trial \u001b[1;36m46\u001b[0m/\u001b[1;36m54\u001b[0m: \u001b[1m{\u001b[0m\u001b[32m'model'\u001b[0m:                \n",
       "\u001b[32m'1-DANetConfig'\u001b[0m, \u001b[32m'model_config__abstlay_dim_1'\u001b[0m: \u001b[1;36m64\u001b[0m, \u001b[32m'model_config__abstlay_dim_2'\u001b[0m: \u001b[1;36m64\u001b[0m, \u001b[32m'model_config__n_layers'\u001b[0m: \u001b[1;36m8\u001b[0m,\n",
       "\u001b[32m'optimizer_config__optimizer'\u001b[0m: \u001b[32m'AdamW'\u001b[0m, \u001b[32m'loss_0'\u001b[0m: \u001b[1;36m0.5695136785507202\u001b[0m, \u001b[32m'loss'\u001b[0m: \u001b[1;36m0.5695136785507202\u001b[0m, \u001b[32m'accuracy'\u001b[0m:      \n",
       "\u001b[1;36m0.7649999856948853\u001b[0m, \u001b[32m'trial_id'\u001b[0m: \u001b[1;36m45\u001b[0m\u001b[1m}\u001b[0m | Score: \u001b[1;36m0.7649999856948853\u001b[0m                                                    \n"
      ]
     },
     "metadata": {},
     "output_type": "display_data"
    },
    {
     "data": {
      "application/vnd.jupyter.widget-view+json": {
       "model_id": "cc16d3ee9e764549b59380a6cdd908a3",
       "version_major": 2,
       "version_minor": 0
      },
      "text/plain": [
       "Finding best initial lr:   0%|          | 0/100 [00:00<?, ?it/s]"
      ]
     },
     "metadata": {},
     "output_type": "display_data"
    },
    {
     "data": {
      "text/html": [
       "<pre style=\"white-space:pre;overflow-x:auto;line-height:normal;font-family:Menlo,'DejaVu Sans Mono',consolas,'Courier New',monospace\"><span style=\"color: #008080; text-decoration-color: #008080; font-weight: bold\">2025</span>-<span style=\"color: #008080; text-decoration-color: #008080; font-weight: bold\">02</span>-<span style=\"color: #008080; text-decoration-color: #008080; font-weight: bold\">26</span> <span style=\"color: #00ff00; text-decoration-color: #00ff00; font-weight: bold\">10:54:23</span>,<span style=\"color: #008080; text-decoration-color: #008080; font-weight: bold\">515</span> - <span style=\"font-weight: bold\">{</span>pytorch_tabular.tabular_model_tuner:<span style=\"color: #008080; text-decoration-color: #008080; font-weight: bold\">412</span><span style=\"font-weight: bold\">}</span> - INFO - Trial <span style=\"color: #008080; text-decoration-color: #008080; font-weight: bold\">47</span>/<span style=\"color: #008080; text-decoration-color: #008080; font-weight: bold\">54</span>: <span style=\"font-weight: bold\">{</span><span style=\"color: #008000; text-decoration-color: #008000\">'model'</span>:                \n",
       "<span style=\"color: #008000; text-decoration-color: #008000\">'1-DANetConfig'</span>, <span style=\"color: #008000; text-decoration-color: #008000\">'model_config__abstlay_dim_1'</span>: <span style=\"color: #008080; text-decoration-color: #008080; font-weight: bold\">64</span>, <span style=\"color: #008000; text-decoration-color: #008000\">'model_config__abstlay_dim_2'</span>: <span style=\"color: #008080; text-decoration-color: #008080; font-weight: bold\">64</span>, <span style=\"color: #008000; text-decoration-color: #008000\">'model_config__n_layers'</span>:   \n",
       "<span style=\"color: #008080; text-decoration-color: #008080; font-weight: bold\">16</span>, <span style=\"color: #008000; text-decoration-color: #008000\">'optimizer_config__optimizer'</span>: <span style=\"color: #008000; text-decoration-color: #008000\">'Adam'</span>, <span style=\"color: #008000; text-decoration-color: #008000\">'loss_0'</span>: <span style=\"color: #008080; text-decoration-color: #008080; font-weight: bold\">0.5780597925186157</span>, <span style=\"color: #008000; text-decoration-color: #008000\">'loss'</span>: <span style=\"color: #008080; text-decoration-color: #008080; font-weight: bold\">0.5780597925186157</span>, <span style=\"color: #008000; text-decoration-color: #008000\">'accuracy'</span>:   \n",
       "<span style=\"color: #008080; text-decoration-color: #008080; font-weight: bold\">0.7799999713897705</span>, <span style=\"color: #008000; text-decoration-color: #008000\">'trial_id'</span>: <span style=\"color: #008080; text-decoration-color: #008080; font-weight: bold\">46</span><span style=\"font-weight: bold\">}</span> | Score: <span style=\"color: #008080; text-decoration-color: #008080; font-weight: bold\">0.7799999713897705</span>                                                    \n",
       "</pre>\n"
      ],
      "text/plain": [
       "\u001b[1;36m2025\u001b[0m-\u001b[1;36m02\u001b[0m-\u001b[1;36m26\u001b[0m \u001b[1;92m10:54:23\u001b[0m,\u001b[1;36m515\u001b[0m - \u001b[1m{\u001b[0mpytorch_tabular.tabular_model_tuner:\u001b[1;36m412\u001b[0m\u001b[1m}\u001b[0m - INFO - Trial \u001b[1;36m47\u001b[0m/\u001b[1;36m54\u001b[0m: \u001b[1m{\u001b[0m\u001b[32m'model'\u001b[0m:                \n",
       "\u001b[32m'1-DANetConfig'\u001b[0m, \u001b[32m'model_config__abstlay_dim_1'\u001b[0m: \u001b[1;36m64\u001b[0m, \u001b[32m'model_config__abstlay_dim_2'\u001b[0m: \u001b[1;36m64\u001b[0m, \u001b[32m'model_config__n_layers'\u001b[0m:   \n",
       "\u001b[1;36m16\u001b[0m, \u001b[32m'optimizer_config__optimizer'\u001b[0m: \u001b[32m'Adam'\u001b[0m, \u001b[32m'loss_0'\u001b[0m: \u001b[1;36m0.5780597925186157\u001b[0m, \u001b[32m'loss'\u001b[0m: \u001b[1;36m0.5780597925186157\u001b[0m, \u001b[32m'accuracy'\u001b[0m:   \n",
       "\u001b[1;36m0.7799999713897705\u001b[0m, \u001b[32m'trial_id'\u001b[0m: \u001b[1;36m46\u001b[0m\u001b[1m}\u001b[0m | Score: \u001b[1;36m0.7799999713897705\u001b[0m                                                    \n"
      ]
     },
     "metadata": {},
     "output_type": "display_data"
    },
    {
     "data": {
      "application/vnd.jupyter.widget-view+json": {
       "model_id": "06479c83e135427ea721afccb97e8089",
       "version_major": 2,
       "version_minor": 0
      },
      "text/plain": [
       "Finding best initial lr:   0%|          | 0/100 [00:00<?, ?it/s]"
      ]
     },
     "metadata": {},
     "output_type": "display_data"
    },
    {
     "data": {
      "text/html": [
       "<pre style=\"white-space:pre;overflow-x:auto;line-height:normal;font-family:Menlo,'DejaVu Sans Mono',consolas,'Courier New',monospace\"><span style=\"color: #008080; text-decoration-color: #008080; font-weight: bold\">2025</span>-<span style=\"color: #008080; text-decoration-color: #008080; font-weight: bold\">02</span>-<span style=\"color: #008080; text-decoration-color: #008080; font-weight: bold\">26</span> <span style=\"color: #00ff00; text-decoration-color: #00ff00; font-weight: bold\">10:56:02</span>,<span style=\"color: #008080; text-decoration-color: #008080; font-weight: bold\">722</span> - <span style=\"font-weight: bold\">{</span>pytorch_tabular.tabular_model_tuner:<span style=\"color: #008080; text-decoration-color: #008080; font-weight: bold\">412</span><span style=\"font-weight: bold\">}</span> - INFO - Trial <span style=\"color: #008080; text-decoration-color: #008080; font-weight: bold\">48</span>/<span style=\"color: #008080; text-decoration-color: #008080; font-weight: bold\">54</span>: <span style=\"font-weight: bold\">{</span><span style=\"color: #008000; text-decoration-color: #008000\">'model'</span>:                \n",
       "<span style=\"color: #008000; text-decoration-color: #008000\">'1-DANetConfig'</span>, <span style=\"color: #008000; text-decoration-color: #008000\">'model_config__abstlay_dim_1'</span>: <span style=\"color: #008080; text-decoration-color: #008080; font-weight: bold\">64</span>, <span style=\"color: #008000; text-decoration-color: #008000\">'model_config__abstlay_dim_2'</span>: <span style=\"color: #008080; text-decoration-color: #008080; font-weight: bold\">64</span>, <span style=\"color: #008000; text-decoration-color: #008000\">'model_config__n_layers'</span>:   \n",
       "<span style=\"color: #008080; text-decoration-color: #008080; font-weight: bold\">16</span>, <span style=\"color: #008000; text-decoration-color: #008000\">'optimizer_config__optimizer'</span>: <span style=\"color: #008000; text-decoration-color: #008000\">'AdamW'</span>, <span style=\"color: #008000; text-decoration-color: #008000\">'loss_0'</span>: <span style=\"color: #008080; text-decoration-color: #008080; font-weight: bold\">0.569395124912262</span>, <span style=\"color: #008000; text-decoration-color: #008000\">'loss'</span>: <span style=\"color: #008080; text-decoration-color: #008080; font-weight: bold\">0.569395124912262</span>, <span style=\"color: #008000; text-decoration-color: #008000\">'accuracy'</span>:    \n",
       "<span style=\"color: #008080; text-decoration-color: #008080; font-weight: bold\">0.7883333563804626</span>, <span style=\"color: #008000; text-decoration-color: #008000\">'trial_id'</span>: <span style=\"color: #008080; text-decoration-color: #008080; font-weight: bold\">47</span><span style=\"font-weight: bold\">}</span> | Score: <span style=\"color: #008080; text-decoration-color: #008080; font-weight: bold\">0.7883333563804626</span>                                                    \n",
       "</pre>\n"
      ],
      "text/plain": [
       "\u001b[1;36m2025\u001b[0m-\u001b[1;36m02\u001b[0m-\u001b[1;36m26\u001b[0m \u001b[1;92m10:56:02\u001b[0m,\u001b[1;36m722\u001b[0m - \u001b[1m{\u001b[0mpytorch_tabular.tabular_model_tuner:\u001b[1;36m412\u001b[0m\u001b[1m}\u001b[0m - INFO - Trial \u001b[1;36m48\u001b[0m/\u001b[1;36m54\u001b[0m: \u001b[1m{\u001b[0m\u001b[32m'model'\u001b[0m:                \n",
       "\u001b[32m'1-DANetConfig'\u001b[0m, \u001b[32m'model_config__abstlay_dim_1'\u001b[0m: \u001b[1;36m64\u001b[0m, \u001b[32m'model_config__abstlay_dim_2'\u001b[0m: \u001b[1;36m64\u001b[0m, \u001b[32m'model_config__n_layers'\u001b[0m:   \n",
       "\u001b[1;36m16\u001b[0m, \u001b[32m'optimizer_config__optimizer'\u001b[0m: \u001b[32m'AdamW'\u001b[0m, \u001b[32m'loss_0'\u001b[0m: \u001b[1;36m0.569395124912262\u001b[0m, \u001b[32m'loss'\u001b[0m: \u001b[1;36m0.569395124912262\u001b[0m, \u001b[32m'accuracy'\u001b[0m:    \n",
       "\u001b[1;36m0.7883333563804626\u001b[0m, \u001b[32m'trial_id'\u001b[0m: \u001b[1;36m47\u001b[0m\u001b[1m}\u001b[0m | Score: \u001b[1;36m0.7883333563804626\u001b[0m                                                    \n"
      ]
     },
     "metadata": {},
     "output_type": "display_data"
    },
    {
     "data": {
      "application/vnd.jupyter.widget-view+json": {
       "model_id": "902be77b545d4599bb109afbb8de36c7",
       "version_major": 2,
       "version_minor": 0
      },
      "text/plain": [
       "Finding best initial lr:   0%|          | 0/100 [00:00<?, ?it/s]"
      ]
     },
     "metadata": {},
     "output_type": "display_data"
    },
    {
     "data": {
      "text/html": [
       "<pre style=\"white-space:pre;overflow-x:auto;line-height:normal;font-family:Menlo,'DejaVu Sans Mono',consolas,'Courier New',monospace\"><span style=\"color: #008080; text-decoration-color: #008080; font-weight: bold\">2025</span>-<span style=\"color: #008080; text-decoration-color: #008080; font-weight: bold\">02</span>-<span style=\"color: #008080; text-decoration-color: #008080; font-weight: bold\">26</span> <span style=\"color: #00ff00; text-decoration-color: #00ff00; font-weight: bold\">10:56:37</span>,<span style=\"color: #008080; text-decoration-color: #008080; font-weight: bold\">995</span> - <span style=\"font-weight: bold\">{</span>pytorch_tabular.tabular_model_tuner:<span style=\"color: #008080; text-decoration-color: #008080; font-weight: bold\">412</span><span style=\"font-weight: bold\">}</span> - INFO - Trial <span style=\"color: #008080; text-decoration-color: #008080; font-weight: bold\">49</span>/<span style=\"color: #008080; text-decoration-color: #008080; font-weight: bold\">54</span>: <span style=\"font-weight: bold\">{</span><span style=\"color: #008000; text-decoration-color: #008000\">'model'</span>:                \n",
       "<span style=\"color: #008000; text-decoration-color: #008000\">'1-DANetConfig'</span>, <span style=\"color: #008000; text-decoration-color: #008000\">'model_config__abstlay_dim_1'</span>: <span style=\"color: #008080; text-decoration-color: #008080; font-weight: bold\">64</span>, <span style=\"color: #008000; text-decoration-color: #008000\">'model_config__abstlay_dim_2'</span>: <span style=\"color: #008080; text-decoration-color: #008080; font-weight: bold\">128</span>, <span style=\"color: #008000; text-decoration-color: #008000\">'model_config__n_layers'</span>:  \n",
       "<span style=\"color: #008080; text-decoration-color: #008080; font-weight: bold\">4</span>, <span style=\"color: #008000; text-decoration-color: #008000\">'optimizer_config__optimizer'</span>: <span style=\"color: #008000; text-decoration-color: #008000\">'Adam'</span>, <span style=\"color: #008000; text-decoration-color: #008000\">'loss_0'</span>: <span style=\"color: #008080; text-decoration-color: #008080; font-weight: bold\">0.6944559812545776</span>, <span style=\"color: #008000; text-decoration-color: #008000\">'loss'</span>: <span style=\"color: #008080; text-decoration-color: #008080; font-weight: bold\">0.6944559812545776</span>, <span style=\"color: #008000; text-decoration-color: #008000\">'accuracy'</span>:    \n",
       "<span style=\"color: #008080; text-decoration-color: #008080; font-weight: bold\">0.7383333444595337</span>, <span style=\"color: #008000; text-decoration-color: #008000\">'trial_id'</span>: <span style=\"color: #008080; text-decoration-color: #008080; font-weight: bold\">48</span><span style=\"font-weight: bold\">}</span> | Score: <span style=\"color: #008080; text-decoration-color: #008080; font-weight: bold\">0.7383333444595337</span>                                                    \n",
       "</pre>\n"
      ],
      "text/plain": [
       "\u001b[1;36m2025\u001b[0m-\u001b[1;36m02\u001b[0m-\u001b[1;36m26\u001b[0m \u001b[1;92m10:56:37\u001b[0m,\u001b[1;36m995\u001b[0m - \u001b[1m{\u001b[0mpytorch_tabular.tabular_model_tuner:\u001b[1;36m412\u001b[0m\u001b[1m}\u001b[0m - INFO - Trial \u001b[1;36m49\u001b[0m/\u001b[1;36m54\u001b[0m: \u001b[1m{\u001b[0m\u001b[32m'model'\u001b[0m:                \n",
       "\u001b[32m'1-DANetConfig'\u001b[0m, \u001b[32m'model_config__abstlay_dim_1'\u001b[0m: \u001b[1;36m64\u001b[0m, \u001b[32m'model_config__abstlay_dim_2'\u001b[0m: \u001b[1;36m128\u001b[0m, \u001b[32m'model_config__n_layers'\u001b[0m:  \n",
       "\u001b[1;36m4\u001b[0m, \u001b[32m'optimizer_config__optimizer'\u001b[0m: \u001b[32m'Adam'\u001b[0m, \u001b[32m'loss_0'\u001b[0m: \u001b[1;36m0.6944559812545776\u001b[0m, \u001b[32m'loss'\u001b[0m: \u001b[1;36m0.6944559812545776\u001b[0m, \u001b[32m'accuracy'\u001b[0m:    \n",
       "\u001b[1;36m0.7383333444595337\u001b[0m, \u001b[32m'trial_id'\u001b[0m: \u001b[1;36m48\u001b[0m\u001b[1m}\u001b[0m | Score: \u001b[1;36m0.7383333444595337\u001b[0m                                                    \n"
      ]
     },
     "metadata": {},
     "output_type": "display_data"
    },
    {
     "data": {
      "application/vnd.jupyter.widget-view+json": {
       "model_id": "7952d8b71c6b43799e9efe2dee0ef511",
       "version_major": 2,
       "version_minor": 0
      },
      "text/plain": [
       "Finding best initial lr:   0%|          | 0/100 [00:00<?, ?it/s]"
      ]
     },
     "metadata": {},
     "output_type": "display_data"
    },
    {
     "data": {
      "text/html": [
       "<pre style=\"white-space:pre;overflow-x:auto;line-height:normal;font-family:Menlo,'DejaVu Sans Mono',consolas,'Courier New',monospace\"><span style=\"color: #008080; text-decoration-color: #008080; font-weight: bold\">2025</span>-<span style=\"color: #008080; text-decoration-color: #008080; font-weight: bold\">02</span>-<span style=\"color: #008080; text-decoration-color: #008080; font-weight: bold\">26</span> <span style=\"color: #00ff00; text-decoration-color: #00ff00; font-weight: bold\">10:57:14</span>,<span style=\"color: #008080; text-decoration-color: #008080; font-weight: bold\">088</span> - <span style=\"font-weight: bold\">{</span>pytorch_tabular.tabular_model_tuner:<span style=\"color: #008080; text-decoration-color: #008080; font-weight: bold\">412</span><span style=\"font-weight: bold\">}</span> - INFO - Trial <span style=\"color: #008080; text-decoration-color: #008080; font-weight: bold\">50</span>/<span style=\"color: #008080; text-decoration-color: #008080; font-weight: bold\">54</span>: <span style=\"font-weight: bold\">{</span><span style=\"color: #008000; text-decoration-color: #008000\">'model'</span>:                \n",
       "<span style=\"color: #008000; text-decoration-color: #008000\">'1-DANetConfig'</span>, <span style=\"color: #008000; text-decoration-color: #008000\">'model_config__abstlay_dim_1'</span>: <span style=\"color: #008080; text-decoration-color: #008080; font-weight: bold\">64</span>, <span style=\"color: #008000; text-decoration-color: #008000\">'model_config__abstlay_dim_2'</span>: <span style=\"color: #008080; text-decoration-color: #008080; font-weight: bold\">128</span>, <span style=\"color: #008000; text-decoration-color: #008000\">'model_config__n_layers'</span>:  \n",
       "<span style=\"color: #008080; text-decoration-color: #008080; font-weight: bold\">4</span>, <span style=\"color: #008000; text-decoration-color: #008000\">'optimizer_config__optimizer'</span>: <span style=\"color: #008000; text-decoration-color: #008000\">'AdamW'</span>, <span style=\"color: #008000; text-decoration-color: #008000\">'loss_0'</span>: <span style=\"color: #008080; text-decoration-color: #008080; font-weight: bold\">0.5359759330749512</span>, <span style=\"color: #008000; text-decoration-color: #008000\">'loss'</span>: <span style=\"color: #008080; text-decoration-color: #008080; font-weight: bold\">0.5359759330749512</span>, <span style=\"color: #008000; text-decoration-color: #008000\">'accuracy'</span>:   \n",
       "<span style=\"color: #008080; text-decoration-color: #008080; font-weight: bold\">0.7883333563804626</span>, <span style=\"color: #008000; text-decoration-color: #008000\">'trial_id'</span>: <span style=\"color: #008080; text-decoration-color: #008080; font-weight: bold\">49</span><span style=\"font-weight: bold\">}</span> | Score: <span style=\"color: #008080; text-decoration-color: #008080; font-weight: bold\">0.7883333563804626</span>                                                    \n",
       "</pre>\n"
      ],
      "text/plain": [
       "\u001b[1;36m2025\u001b[0m-\u001b[1;36m02\u001b[0m-\u001b[1;36m26\u001b[0m \u001b[1;92m10:57:14\u001b[0m,\u001b[1;36m088\u001b[0m - \u001b[1m{\u001b[0mpytorch_tabular.tabular_model_tuner:\u001b[1;36m412\u001b[0m\u001b[1m}\u001b[0m - INFO - Trial \u001b[1;36m50\u001b[0m/\u001b[1;36m54\u001b[0m: \u001b[1m{\u001b[0m\u001b[32m'model'\u001b[0m:                \n",
       "\u001b[32m'1-DANetConfig'\u001b[0m, \u001b[32m'model_config__abstlay_dim_1'\u001b[0m: \u001b[1;36m64\u001b[0m, \u001b[32m'model_config__abstlay_dim_2'\u001b[0m: \u001b[1;36m128\u001b[0m, \u001b[32m'model_config__n_layers'\u001b[0m:  \n",
       "\u001b[1;36m4\u001b[0m, \u001b[32m'optimizer_config__optimizer'\u001b[0m: \u001b[32m'AdamW'\u001b[0m, \u001b[32m'loss_0'\u001b[0m: \u001b[1;36m0.5359759330749512\u001b[0m, \u001b[32m'loss'\u001b[0m: \u001b[1;36m0.5359759330749512\u001b[0m, \u001b[32m'accuracy'\u001b[0m:   \n",
       "\u001b[1;36m0.7883333563804626\u001b[0m, \u001b[32m'trial_id'\u001b[0m: \u001b[1;36m49\u001b[0m\u001b[1m}\u001b[0m | Score: \u001b[1;36m0.7883333563804626\u001b[0m                                                    \n"
      ]
     },
     "metadata": {},
     "output_type": "display_data"
    },
    {
     "data": {
      "application/vnd.jupyter.widget-view+json": {
       "model_id": "1414ab734e754585becfc3e35a3cc56f",
       "version_major": 2,
       "version_minor": 0
      },
      "text/plain": [
       "Finding best initial lr:   0%|          | 0/100 [00:00<?, ?it/s]"
      ]
     },
     "metadata": {},
     "output_type": "display_data"
    },
    {
     "data": {
      "text/html": [
       "<pre style=\"white-space:pre;overflow-x:auto;line-height:normal;font-family:Menlo,'DejaVu Sans Mono',consolas,'Courier New',monospace\"><span style=\"color: #008080; text-decoration-color: #008080; font-weight: bold\">2025</span>-<span style=\"color: #008080; text-decoration-color: #008080; font-weight: bold\">02</span>-<span style=\"color: #008080; text-decoration-color: #008080; font-weight: bold\">26</span> <span style=\"color: #00ff00; text-decoration-color: #00ff00; font-weight: bold\">10:58:12</span>,<span style=\"color: #008080; text-decoration-color: #008080; font-weight: bold\">317</span> - <span style=\"font-weight: bold\">{</span>pytorch_tabular.tabular_model_tuner:<span style=\"color: #008080; text-decoration-color: #008080; font-weight: bold\">412</span><span style=\"font-weight: bold\">}</span> - INFO - Trial <span style=\"color: #008080; text-decoration-color: #008080; font-weight: bold\">51</span>/<span style=\"color: #008080; text-decoration-color: #008080; font-weight: bold\">54</span>: <span style=\"font-weight: bold\">{</span><span style=\"color: #008000; text-decoration-color: #008000\">'model'</span>:                \n",
       "<span style=\"color: #008000; text-decoration-color: #008000\">'1-DANetConfig'</span>, <span style=\"color: #008000; text-decoration-color: #008000\">'model_config__abstlay_dim_1'</span>: <span style=\"color: #008080; text-decoration-color: #008080; font-weight: bold\">64</span>, <span style=\"color: #008000; text-decoration-color: #008000\">'model_config__abstlay_dim_2'</span>: <span style=\"color: #008080; text-decoration-color: #008080; font-weight: bold\">128</span>, <span style=\"color: #008000; text-decoration-color: #008000\">'model_config__n_layers'</span>:  \n",
       "<span style=\"color: #008080; text-decoration-color: #008080; font-weight: bold\">8</span>, <span style=\"color: #008000; text-decoration-color: #008000\">'optimizer_config__optimizer'</span>: <span style=\"color: #008000; text-decoration-color: #008000\">'Adam'</span>, <span style=\"color: #008000; text-decoration-color: #008000\">'loss_0'</span>: <span style=\"color: #008080; text-decoration-color: #008080; font-weight: bold\">0.6464951634407043</span>, <span style=\"color: #008000; text-decoration-color: #008000\">'loss'</span>: <span style=\"color: #008080; text-decoration-color: #008080; font-weight: bold\">0.6464951634407043</span>, <span style=\"color: #008000; text-decoration-color: #008000\">'accuracy'</span>:    \n",
       "<span style=\"color: #008080; text-decoration-color: #008080; font-weight: bold\">0.7599999904632568</span>, <span style=\"color: #008000; text-decoration-color: #008000\">'trial_id'</span>: <span style=\"color: #008080; text-decoration-color: #008080; font-weight: bold\">50</span><span style=\"font-weight: bold\">}</span> | Score: <span style=\"color: #008080; text-decoration-color: #008080; font-weight: bold\">0.7599999904632568</span>                                                    \n",
       "</pre>\n"
      ],
      "text/plain": [
       "\u001b[1;36m2025\u001b[0m-\u001b[1;36m02\u001b[0m-\u001b[1;36m26\u001b[0m \u001b[1;92m10:58:12\u001b[0m,\u001b[1;36m317\u001b[0m - \u001b[1m{\u001b[0mpytorch_tabular.tabular_model_tuner:\u001b[1;36m412\u001b[0m\u001b[1m}\u001b[0m - INFO - Trial \u001b[1;36m51\u001b[0m/\u001b[1;36m54\u001b[0m: \u001b[1m{\u001b[0m\u001b[32m'model'\u001b[0m:                \n",
       "\u001b[32m'1-DANetConfig'\u001b[0m, \u001b[32m'model_config__abstlay_dim_1'\u001b[0m: \u001b[1;36m64\u001b[0m, \u001b[32m'model_config__abstlay_dim_2'\u001b[0m: \u001b[1;36m128\u001b[0m, \u001b[32m'model_config__n_layers'\u001b[0m:  \n",
       "\u001b[1;36m8\u001b[0m, \u001b[32m'optimizer_config__optimizer'\u001b[0m: \u001b[32m'Adam'\u001b[0m, \u001b[32m'loss_0'\u001b[0m: \u001b[1;36m0.6464951634407043\u001b[0m, \u001b[32m'loss'\u001b[0m: \u001b[1;36m0.6464951634407043\u001b[0m, \u001b[32m'accuracy'\u001b[0m:    \n",
       "\u001b[1;36m0.7599999904632568\u001b[0m, \u001b[32m'trial_id'\u001b[0m: \u001b[1;36m50\u001b[0m\u001b[1m}\u001b[0m | Score: \u001b[1;36m0.7599999904632568\u001b[0m                                                    \n"
      ]
     },
     "metadata": {},
     "output_type": "display_data"
    },
    {
     "data": {
      "application/vnd.jupyter.widget-view+json": {
       "model_id": "f86ee3ac26994178bb82702a6b1ff65c",
       "version_major": 2,
       "version_minor": 0
      },
      "text/plain": [
       "Finding best initial lr:   0%|          | 0/100 [00:00<?, ?it/s]"
      ]
     },
     "metadata": {},
     "output_type": "display_data"
    },
    {
     "data": {
      "text/html": [
       "<pre style=\"white-space:pre;overflow-x:auto;line-height:normal;font-family:Menlo,'DejaVu Sans Mono',consolas,'Courier New',monospace\"><span style=\"color: #008080; text-decoration-color: #008080; font-weight: bold\">2025</span>-<span style=\"color: #008080; text-decoration-color: #008080; font-weight: bold\">02</span>-<span style=\"color: #008080; text-decoration-color: #008080; font-weight: bold\">26</span> <span style=\"color: #00ff00; text-decoration-color: #00ff00; font-weight: bold\">10:59:06</span>,<span style=\"color: #008080; text-decoration-color: #008080; font-weight: bold\">822</span> - <span style=\"font-weight: bold\">{</span>pytorch_tabular.tabular_model_tuner:<span style=\"color: #008080; text-decoration-color: #008080; font-weight: bold\">412</span><span style=\"font-weight: bold\">}</span> - INFO - Trial <span style=\"color: #008080; text-decoration-color: #008080; font-weight: bold\">52</span>/<span style=\"color: #008080; text-decoration-color: #008080; font-weight: bold\">54</span>: <span style=\"font-weight: bold\">{</span><span style=\"color: #008000; text-decoration-color: #008000\">'model'</span>:                \n",
       "<span style=\"color: #008000; text-decoration-color: #008000\">'1-DANetConfig'</span>, <span style=\"color: #008000; text-decoration-color: #008000\">'model_config__abstlay_dim_1'</span>: <span style=\"color: #008080; text-decoration-color: #008080; font-weight: bold\">64</span>, <span style=\"color: #008000; text-decoration-color: #008000\">'model_config__abstlay_dim_2'</span>: <span style=\"color: #008080; text-decoration-color: #008080; font-weight: bold\">128</span>, <span style=\"color: #008000; text-decoration-color: #008000\">'model_config__n_layers'</span>:  \n",
       "<span style=\"color: #008080; text-decoration-color: #008080; font-weight: bold\">8</span>, <span style=\"color: #008000; text-decoration-color: #008000\">'optimizer_config__optimizer'</span>: <span style=\"color: #008000; text-decoration-color: #008000\">'AdamW'</span>, <span style=\"color: #008000; text-decoration-color: #008000\">'loss_0'</span>: <span style=\"color: #008080; text-decoration-color: #008080; font-weight: bold\">0.7044978141784668</span>, <span style=\"color: #008000; text-decoration-color: #008000\">'loss'</span>: <span style=\"color: #008080; text-decoration-color: #008080; font-weight: bold\">0.7044978141784668</span>, <span style=\"color: #008000; text-decoration-color: #008000\">'accuracy'</span>:   \n",
       "<span style=\"color: #008080; text-decoration-color: #008080; font-weight: bold\">0.75</span>, <span style=\"color: #008000; text-decoration-color: #008000\">'trial_id'</span>: <span style=\"color: #008080; text-decoration-color: #008080; font-weight: bold\">51</span><span style=\"font-weight: bold\">}</span> | Score: <span style=\"color: #008080; text-decoration-color: #008080; font-weight: bold\">0.75</span>                                                                                \n",
       "</pre>\n"
      ],
      "text/plain": [
       "\u001b[1;36m2025\u001b[0m-\u001b[1;36m02\u001b[0m-\u001b[1;36m26\u001b[0m \u001b[1;92m10:59:06\u001b[0m,\u001b[1;36m822\u001b[0m - \u001b[1m{\u001b[0mpytorch_tabular.tabular_model_tuner:\u001b[1;36m412\u001b[0m\u001b[1m}\u001b[0m - INFO - Trial \u001b[1;36m52\u001b[0m/\u001b[1;36m54\u001b[0m: \u001b[1m{\u001b[0m\u001b[32m'model'\u001b[0m:                \n",
       "\u001b[32m'1-DANetConfig'\u001b[0m, \u001b[32m'model_config__abstlay_dim_1'\u001b[0m: \u001b[1;36m64\u001b[0m, \u001b[32m'model_config__abstlay_dim_2'\u001b[0m: \u001b[1;36m128\u001b[0m, \u001b[32m'model_config__n_layers'\u001b[0m:  \n",
       "\u001b[1;36m8\u001b[0m, \u001b[32m'optimizer_config__optimizer'\u001b[0m: \u001b[32m'AdamW'\u001b[0m, \u001b[32m'loss_0'\u001b[0m: \u001b[1;36m0.7044978141784668\u001b[0m, \u001b[32m'loss'\u001b[0m: \u001b[1;36m0.7044978141784668\u001b[0m, \u001b[32m'accuracy'\u001b[0m:   \n",
       "\u001b[1;36m0.75\u001b[0m, \u001b[32m'trial_id'\u001b[0m: \u001b[1;36m51\u001b[0m\u001b[1m}\u001b[0m | Score: \u001b[1;36m0.75\u001b[0m                                                                                \n"
      ]
     },
     "metadata": {},
     "output_type": "display_data"
    },
    {
     "data": {
      "application/vnd.jupyter.widget-view+json": {
       "model_id": "5eb53429ba124dcc89e652fb3bb07b9e",
       "version_major": 2,
       "version_minor": 0
      },
      "text/plain": [
       "Finding best initial lr:   0%|          | 0/100 [00:00<?, ?it/s]"
      ]
     },
     "metadata": {},
     "output_type": "display_data"
    },
    {
     "data": {
      "text/html": [
       "<pre style=\"white-space:pre;overflow-x:auto;line-height:normal;font-family:Menlo,'DejaVu Sans Mono',consolas,'Courier New',monospace\"><span style=\"color: #008080; text-decoration-color: #008080; font-weight: bold\">2025</span>-<span style=\"color: #008080; text-decoration-color: #008080; font-weight: bold\">02</span>-<span style=\"color: #008080; text-decoration-color: #008080; font-weight: bold\">26</span> <span style=\"color: #00ff00; text-decoration-color: #00ff00; font-weight: bold\">11:00:40</span>,<span style=\"color: #008080; text-decoration-color: #008080; font-weight: bold\">525</span> - <span style=\"font-weight: bold\">{</span>pytorch_tabular.tabular_model_tuner:<span style=\"color: #008080; text-decoration-color: #008080; font-weight: bold\">412</span><span style=\"font-weight: bold\">}</span> - INFO - Trial <span style=\"color: #008080; text-decoration-color: #008080; font-weight: bold\">53</span>/<span style=\"color: #008080; text-decoration-color: #008080; font-weight: bold\">54</span>: <span style=\"font-weight: bold\">{</span><span style=\"color: #008000; text-decoration-color: #008000\">'model'</span>:                \n",
       "<span style=\"color: #008000; text-decoration-color: #008000\">'1-DANetConfig'</span>, <span style=\"color: #008000; text-decoration-color: #008000\">'model_config__abstlay_dim_1'</span>: <span style=\"color: #008080; text-decoration-color: #008080; font-weight: bold\">64</span>, <span style=\"color: #008000; text-decoration-color: #008000\">'model_config__abstlay_dim_2'</span>: <span style=\"color: #008080; text-decoration-color: #008080; font-weight: bold\">128</span>, <span style=\"color: #008000; text-decoration-color: #008000\">'model_config__n_layers'</span>:  \n",
       "<span style=\"color: #008080; text-decoration-color: #008080; font-weight: bold\">16</span>, <span style=\"color: #008000; text-decoration-color: #008000\">'optimizer_config__optimizer'</span>: <span style=\"color: #008000; text-decoration-color: #008000\">'Adam'</span>, <span style=\"color: #008000; text-decoration-color: #008000\">'loss_0'</span>: <span style=\"color: #008080; text-decoration-color: #008080; font-weight: bold\">0.6074923276901245</span>, <span style=\"color: #008000; text-decoration-color: #008000\">'loss'</span>: <span style=\"color: #008080; text-decoration-color: #008080; font-weight: bold\">0.6074923276901245</span>, <span style=\"color: #008000; text-decoration-color: #008000\">'accuracy'</span>:   \n",
       "<span style=\"color: #008080; text-decoration-color: #008080; font-weight: bold\">0.7633333206176758</span>, <span style=\"color: #008000; text-decoration-color: #008000\">'trial_id'</span>: <span style=\"color: #008080; text-decoration-color: #008080; font-weight: bold\">52</span><span style=\"font-weight: bold\">}</span> | Score: <span style=\"color: #008080; text-decoration-color: #008080; font-weight: bold\">0.7633333206176758</span>                                                    \n",
       "</pre>\n"
      ],
      "text/plain": [
       "\u001b[1;36m2025\u001b[0m-\u001b[1;36m02\u001b[0m-\u001b[1;36m26\u001b[0m \u001b[1;92m11:00:40\u001b[0m,\u001b[1;36m525\u001b[0m - \u001b[1m{\u001b[0mpytorch_tabular.tabular_model_tuner:\u001b[1;36m412\u001b[0m\u001b[1m}\u001b[0m - INFO - Trial \u001b[1;36m53\u001b[0m/\u001b[1;36m54\u001b[0m: \u001b[1m{\u001b[0m\u001b[32m'model'\u001b[0m:                \n",
       "\u001b[32m'1-DANetConfig'\u001b[0m, \u001b[32m'model_config__abstlay_dim_1'\u001b[0m: \u001b[1;36m64\u001b[0m, \u001b[32m'model_config__abstlay_dim_2'\u001b[0m: \u001b[1;36m128\u001b[0m, \u001b[32m'model_config__n_layers'\u001b[0m:  \n",
       "\u001b[1;36m16\u001b[0m, \u001b[32m'optimizer_config__optimizer'\u001b[0m: \u001b[32m'Adam'\u001b[0m, \u001b[32m'loss_0'\u001b[0m: \u001b[1;36m0.6074923276901245\u001b[0m, \u001b[32m'loss'\u001b[0m: \u001b[1;36m0.6074923276901245\u001b[0m, \u001b[32m'accuracy'\u001b[0m:   \n",
       "\u001b[1;36m0.7633333206176758\u001b[0m, \u001b[32m'trial_id'\u001b[0m: \u001b[1;36m52\u001b[0m\u001b[1m}\u001b[0m | Score: \u001b[1;36m0.7633333206176758\u001b[0m                                                    \n"
      ]
     },
     "metadata": {},
     "output_type": "display_data"
    },
    {
     "data": {
      "application/vnd.jupyter.widget-view+json": {
       "model_id": "5d9beaf7b6a44df68af99cabb6b269a6",
       "version_major": 2,
       "version_minor": 0
      },
      "text/plain": [
       "Finding best initial lr:   0%|          | 0/100 [00:00<?, ?it/s]"
      ]
     },
     "metadata": {},
     "output_type": "display_data"
    },
    {
     "data": {
      "text/html": [
       "<pre style=\"white-space:pre;overflow-x:auto;line-height:normal;font-family:Menlo,'DejaVu Sans Mono',consolas,'Courier New',monospace\"><span style=\"color: #008080; text-decoration-color: #008080; font-weight: bold\">2025</span>-<span style=\"color: #008080; text-decoration-color: #008080; font-weight: bold\">02</span>-<span style=\"color: #008080; text-decoration-color: #008080; font-weight: bold\">26</span> <span style=\"color: #00ff00; text-decoration-color: #00ff00; font-weight: bold\">11:02:14</span>,<span style=\"color: #008080; text-decoration-color: #008080; font-weight: bold\">739</span> - <span style=\"font-weight: bold\">{</span>pytorch_tabular.tabular_model_tuner:<span style=\"color: #008080; text-decoration-color: #008080; font-weight: bold\">412</span><span style=\"font-weight: bold\">}</span> - INFO - Trial <span style=\"color: #008080; text-decoration-color: #008080; font-weight: bold\">54</span>/<span style=\"color: #008080; text-decoration-color: #008080; font-weight: bold\">54</span>: <span style=\"font-weight: bold\">{</span><span style=\"color: #008000; text-decoration-color: #008000\">'model'</span>:                \n",
       "<span style=\"color: #008000; text-decoration-color: #008000\">'1-DANetConfig'</span>, <span style=\"color: #008000; text-decoration-color: #008000\">'model_config__abstlay_dim_1'</span>: <span style=\"color: #008080; text-decoration-color: #008080; font-weight: bold\">64</span>, <span style=\"color: #008000; text-decoration-color: #008000\">'model_config__abstlay_dim_2'</span>: <span style=\"color: #008080; text-decoration-color: #008080; font-weight: bold\">128</span>, <span style=\"color: #008000; text-decoration-color: #008000\">'model_config__n_layers'</span>:  \n",
       "<span style=\"color: #008080; text-decoration-color: #008080; font-weight: bold\">16</span>, <span style=\"color: #008000; text-decoration-color: #008000\">'optimizer_config__optimizer'</span>: <span style=\"color: #008000; text-decoration-color: #008000\">'AdamW'</span>, <span style=\"color: #008000; text-decoration-color: #008000\">'loss_0'</span>: <span style=\"color: #008080; text-decoration-color: #008080; font-weight: bold\">0.5869177579879761</span>, <span style=\"color: #008000; text-decoration-color: #008000\">'loss'</span>: <span style=\"color: #008080; text-decoration-color: #008080; font-weight: bold\">0.5869177579879761</span>, <span style=\"color: #008000; text-decoration-color: #008000\">'accuracy'</span>:  \n",
       "<span style=\"color: #008080; text-decoration-color: #008080; font-weight: bold\">0.778333306312561</span>, <span style=\"color: #008000; text-decoration-color: #008000\">'trial_id'</span>: <span style=\"color: #008080; text-decoration-color: #008080; font-weight: bold\">53</span><span style=\"font-weight: bold\">}</span> | Score: <span style=\"color: #008080; text-decoration-color: #008080; font-weight: bold\">0.778333306312561</span>                                                      \n",
       "</pre>\n"
      ],
      "text/plain": [
       "\u001b[1;36m2025\u001b[0m-\u001b[1;36m02\u001b[0m-\u001b[1;36m26\u001b[0m \u001b[1;92m11:02:14\u001b[0m,\u001b[1;36m739\u001b[0m - \u001b[1m{\u001b[0mpytorch_tabular.tabular_model_tuner:\u001b[1;36m412\u001b[0m\u001b[1m}\u001b[0m - INFO - Trial \u001b[1;36m54\u001b[0m/\u001b[1;36m54\u001b[0m: \u001b[1m{\u001b[0m\u001b[32m'model'\u001b[0m:                \n",
       "\u001b[32m'1-DANetConfig'\u001b[0m, \u001b[32m'model_config__abstlay_dim_1'\u001b[0m: \u001b[1;36m64\u001b[0m, \u001b[32m'model_config__abstlay_dim_2'\u001b[0m: \u001b[1;36m128\u001b[0m, \u001b[32m'model_config__n_layers'\u001b[0m:  \n",
       "\u001b[1;36m16\u001b[0m, \u001b[32m'optimizer_config__optimizer'\u001b[0m: \u001b[32m'AdamW'\u001b[0m, \u001b[32m'loss_0'\u001b[0m: \u001b[1;36m0.5869177579879761\u001b[0m, \u001b[32m'loss'\u001b[0m: \u001b[1;36m0.5869177579879761\u001b[0m, \u001b[32m'accuracy'\u001b[0m:  \n",
       "\u001b[1;36m0.778333306312561\u001b[0m, \u001b[32m'trial_id'\u001b[0m: \u001b[1;36m53\u001b[0m\u001b[1m}\u001b[0m | Score: \u001b[1;36m0.778333306312561\u001b[0m                                                      \n"
      ]
     },
     "metadata": {},
     "output_type": "display_data"
    },
    {
     "data": {
      "text/html": [
       "<pre style=\"white-space:pre;overflow-x:auto;line-height:normal;font-family:Menlo,'DejaVu Sans Mono',consolas,'Courier New',monospace\"></pre>\n"
      ],
      "text/plain": []
     },
     "metadata": {},
     "output_type": "display_data"
    },
    {
     "data": {
      "text/html": [
       "<pre style=\"white-space:pre;overflow-x:auto;line-height:normal;font-family:Menlo,'DejaVu Sans Mono',consolas,'Courier New',monospace\"><span style=\"color: #008080; text-decoration-color: #008080; font-weight: bold\">2025</span>-<span style=\"color: #008080; text-decoration-color: #008080; font-weight: bold\">02</span>-<span style=\"color: #008080; text-decoration-color: #008080; font-weight: bold\">26</span> <span style=\"color: #00ff00; text-decoration-color: #00ff00; font-weight: bold\">11:02:14</span>,<span style=\"color: #008080; text-decoration-color: #008080; font-weight: bold\">746</span> - <span style=\"font-weight: bold\">{</span>pytorch_tabular.tabular_model_tuner:<span style=\"color: #008080; text-decoration-color: #008080; font-weight: bold\">427</span><span style=\"font-weight: bold\">}</span> - INFO - Model Tuner Finished                  \n",
       "</pre>\n"
      ],
      "text/plain": [
       "\u001b[1;36m2025\u001b[0m-\u001b[1;36m02\u001b[0m-\u001b[1;36m26\u001b[0m \u001b[1;92m11:02:14\u001b[0m,\u001b[1;36m746\u001b[0m - \u001b[1m{\u001b[0mpytorch_tabular.tabular_model_tuner:\u001b[1;36m427\u001b[0m\u001b[1m}\u001b[0m - INFO - Model Tuner Finished                  \n"
      ]
     },
     "metadata": {},
     "output_type": "display_data"
    },
    {
     "data": {
      "text/html": [
       "<pre style=\"white-space:pre;overflow-x:auto;line-height:normal;font-family:Menlo,'DejaVu Sans Mono',consolas,'Courier New',monospace\"><span style=\"color: #008080; text-decoration-color: #008080; font-weight: bold\">2025</span>-<span style=\"color: #008080; text-decoration-color: #008080; font-weight: bold\">02</span>-<span style=\"color: #008080; text-decoration-color: #008080; font-weight: bold\">26</span> <span style=\"color: #00ff00; text-decoration-color: #00ff00; font-weight: bold\">11:02:14</span>,<span style=\"color: #008080; text-decoration-color: #008080; font-weight: bold\">747</span> - <span style=\"font-weight: bold\">{</span>pytorch_tabular.tabular_model_tuner:<span style=\"color: #008080; text-decoration-color: #008080; font-weight: bold\">428</span><span style=\"font-weight: bold\">}</span> - INFO - Best Model: <span style=\"color: #008080; text-decoration-color: #008080; font-weight: bold\">1</span>-DANetConfig - Best Score\n",
       "<span style=\"font-weight: bold\">(</span>accuracy<span style=\"font-weight: bold\">)</span>: <span style=\"color: #008080; text-decoration-color: #008080; font-weight: bold\">0.8199999928474426</span>                                                                                     \n",
       "</pre>\n"
      ],
      "text/plain": [
       "\u001b[1;36m2025\u001b[0m-\u001b[1;36m02\u001b[0m-\u001b[1;36m26\u001b[0m \u001b[1;92m11:02:14\u001b[0m,\u001b[1;36m747\u001b[0m - \u001b[1m{\u001b[0mpytorch_tabular.tabular_model_tuner:\u001b[1;36m428\u001b[0m\u001b[1m}\u001b[0m - INFO - Best Model: \u001b[1;36m1\u001b[0m-DANetConfig - Best Score\n",
       "\u001b[1m(\u001b[0maccuracy\u001b[1m)\u001b[0m: \u001b[1;36m0.8199999928474426\u001b[0m                                                                                     \n"
      ]
     },
     "metadata": {},
     "output_type": "display_data"
    },
    {
     "name": "stdout",
     "output_type": "stream",
     "text": [
      "Total time: 4435.764271974564\n"
     ]
    }
   ],
   "source": [
    "tuner = TabularModelTuner(\n",
    "    data_config=data_config,\n",
    "    model_config=all_models,\n",
    "    optimizer_config=optimizer_config,\n",
    "    trainer_config=trainer_config\n",
    ")\n",
    "\n",
    "tic = time.time()\n",
    "tuner_df = tuner.tune(\n",
    "    train=train,\n",
    "    validation=valid,\n",
    "    search_space=all_search_space,\n",
    "    strategy='grid_search',  # grid_search (seach in all search_spaces) or random_search (search in n_trials random search_spaces)\n",
    "    n_trials=4,  # Used when strategy is random_search\n",
    "    metric='accuracy' if model_type == 'classifier' else 'loss',\n",
    "    mode='max' if model_type == 'classifier' else 'min',  # max or min\n",
    "    progress_bar=True,\n",
    "    verbose=True # Make True if you want to log metrics and params each iteration\n",
    ")\n",
    "print(f'Total time: {time.time() - tic}')"
   ]
  },
  {
   "cell_type": "markdown",
   "id": "3c3e5a74-c03d-471f-86de-38d22d5d2fef",
   "metadata": {},
   "source": [
    "O Tuner retorna uma única variável contendo [tabela deresultados, parâmetros do melhor modelo, valor da melhor métrica, melhor modelo]."
   ]
  },
  {
   "cell_type": "code",
   "execution_count": 22,
   "id": "6fbe9813-dced-4b62-807e-17ec4bde19c1",
   "metadata": {
    "scrolled": true
   },
   "outputs": [
    {
     "data": {
      "text/html": [
       "<style type=\"text/css\">\n",
       "#T_10950_row0_col6 {\n",
       "  background-color: #016a38;\n",
       "  color: #f1f1f1;\n",
       "}\n",
       "#T_10950_row0_col7, #T_10950_row2_col6, #T_10950_row4_col6 {\n",
       "  background-color: #006837;\n",
       "  color: #f1f1f1;\n",
       "}\n",
       "#T_10950_row1_col6, #T_10950_row6_col6, #T_10950_row6_col7, #T_10950_row10_col6, #T_10950_row13_col6 {\n",
       "  background-color: #0a7b41;\n",
       "  color: #f1f1f1;\n",
       "}\n",
       "#T_10950_row1_col7, #T_10950_row2_col7 {\n",
       "  background-color: #04703b;\n",
       "  color: #f1f1f1;\n",
       "}\n",
       "#T_10950_row3_col6, #T_10950_row5_col6, #T_10950_row15_col6, #T_10950_row17_col6, #T_10950_row17_col7, #T_10950_row18_col7, #T_10950_row19_col7, #T_10950_row20_col7, #T_10950_row21_col6, #T_10950_row21_col7, #T_10950_row22_col7, #T_10950_row59_col6 {\n",
       "  background-color: #0e8245;\n",
       "  color: #f1f1f1;\n",
       "}\n",
       "#T_10950_row3_col7, #T_10950_row4_col7, #T_10950_row11_col6, #T_10950_row12_col6 {\n",
       "  background-color: #07753e;\n",
       "  color: #f1f1f1;\n",
       "}\n",
       "#T_10950_row5_col7 {\n",
       "  background-color: #08773f;\n",
       "  color: #f1f1f1;\n",
       "}\n",
       "#T_10950_row7_col6, #T_10950_row7_col7, #T_10950_row8_col7, #T_10950_row9_col7, #T_10950_row10_col7, #T_10950_row11_col7, #T_10950_row12_col7, #T_10950_row26_col6 {\n",
       "  background-color: #0b7d42;\n",
       "  color: #f1f1f1;\n",
       "}\n",
       "#T_10950_row8_col6, #T_10950_row20_col6, #T_10950_row33_col6, #T_10950_row38_col6, #T_10950_row44_col7, #T_10950_row45_col7, #T_10950_row46_col7, #T_10950_row54_col6, #T_10950_row55_col6, #T_10950_row65_col6 {\n",
       "  background-color: #138c4a;\n",
       "  color: #f1f1f1;\n",
       "}\n",
       "#T_10950_row9_col6 {\n",
       "  background-color: #026c39;\n",
       "  color: #f1f1f1;\n",
       "}\n",
       "#T_10950_row13_col7, #T_10950_row14_col6, #T_10950_row25_col6, #T_10950_row27_col6, #T_10950_row46_col6, #T_10950_row51_col6 {\n",
       "  background-color: #0c7f43;\n",
       "  color: #f1f1f1;\n",
       "}\n",
       "#T_10950_row14_col7, #T_10950_row15_col7, #T_10950_row16_col7, #T_10950_row44_col6 {\n",
       "  background-color: #0d8044;\n",
       "  color: #f1f1f1;\n",
       "}\n",
       "#T_10950_row16_col6 {\n",
       "  background-color: #06733d;\n",
       "  color: #f1f1f1;\n",
       "}\n",
       "#T_10950_row18_col6, #T_10950_row23_col6 {\n",
       "  background-color: #097940;\n",
       "  color: #f1f1f1;\n",
       "}\n",
       "#T_10950_row19_col6, #T_10950_row33_col7, #T_10950_row34_col7, #T_10950_row35_col7, #T_10950_row42_col6, #T_10950_row43_col6 {\n",
       "  background-color: #118848;\n",
       "  color: #f1f1f1;\n",
       "}\n",
       "#T_10950_row22_col6, #T_10950_row49_col7, #T_10950_row50_col7, #T_10950_row51_col7, #T_10950_row52_col7 {\n",
       "  background-color: #15904c;\n",
       "  color: #f1f1f1;\n",
       "}\n",
       "#T_10950_row23_col7, #T_10950_row24_col6, #T_10950_row24_col7, #T_10950_row29_col6, #T_10950_row31_col6, #T_10950_row36_col6, #T_10950_row37_col6 {\n",
       "  background-color: #0f8446;\n",
       "  color: #f1f1f1;\n",
       "}\n",
       "#T_10950_row25_col7, #T_10950_row26_col7, #T_10950_row27_col7, #T_10950_row28_col6, #T_10950_row28_col7, #T_10950_row29_col7, #T_10950_row30_col7, #T_10950_row31_col7, #T_10950_row32_col6, #T_10950_row32_col7, #T_10950_row39_col6, #T_10950_row45_col6, #T_10950_row49_col6 {\n",
       "  background-color: #108647;\n",
       "  color: #f1f1f1;\n",
       "}\n",
       "#T_10950_row30_col6, #T_10950_row48_col6, #T_10950_row53_col7, #T_10950_row54_col7, #T_10950_row55_col7, #T_10950_row56_col7, #T_10950_row58_col6, #T_10950_row60_col6 {\n",
       "  background-color: #16914d;\n",
       "  color: #f1f1f1;\n",
       "}\n",
       "#T_10950_row34_col6, #T_10950_row36_col7, #T_10950_row37_col7, #T_10950_row38_col7, #T_10950_row39_col7, #T_10950_row40_col6, #T_10950_row40_col7, #T_10950_row41_col7, #T_10950_row42_col7, #T_10950_row43_col7 {\n",
       "  background-color: #128a49;\n",
       "  color: #f1f1f1;\n",
       "}\n",
       "#T_10950_row35_col6, #T_10950_row50_col6, #T_10950_row56_col6 {\n",
       "  background-color: #18954f;\n",
       "  color: #f1f1f1;\n",
       "}\n",
       "#T_10950_row41_col6, #T_10950_row57_col7, #T_10950_row58_col7, #T_10950_row59_col7, #T_10950_row60_col7, #T_10950_row61_col7 {\n",
       "  background-color: #17934e;\n",
       "  color: #f1f1f1;\n",
       "}\n",
       "#T_10950_row47_col6 {\n",
       "  background-color: #05713c;\n",
       "  color: #f1f1f1;\n",
       "}\n",
       "#T_10950_row47_col7, #T_10950_row48_col7, #T_10950_row61_col6, #T_10950_row64_col6 {\n",
       "  background-color: #148e4b;\n",
       "  color: #f1f1f1;\n",
       "}\n",
       "#T_10950_row52_col6, #T_10950_row63_col6, #T_10950_row75_col6 {\n",
       "  background-color: #4bb05c;\n",
       "  color: #f1f1f1;\n",
       "}\n",
       "#T_10950_row53_col6, #T_10950_row62_col7, #T_10950_row63_col7, #T_10950_row64_col7, #T_10950_row65_col7, #T_10950_row66_col6, #T_10950_row66_col7, #T_10950_row67_col7, #T_10950_row68_col6 {\n",
       "  background-color: #199750;\n",
       "  color: #f1f1f1;\n",
       "}\n",
       "#T_10950_row57_col6, #T_10950_row68_col7, #T_10950_row69_col7, #T_10950_row70_col7 {\n",
       "  background-color: #1b9950;\n",
       "  color: #f1f1f1;\n",
       "}\n",
       "#T_10950_row62_col6, #T_10950_row71_col6 {\n",
       "  background-color: #2aa054;\n",
       "  color: #f1f1f1;\n",
       "}\n",
       "#T_10950_row67_col6, #T_10950_row74_col7 {\n",
       "  background-color: #279f53;\n",
       "  color: #f1f1f1;\n",
       "}\n",
       "#T_10950_row69_col6, #T_10950_row71_col7 {\n",
       "  background-color: #1e9a51;\n",
       "  color: #f1f1f1;\n",
       "}\n",
       "#T_10950_row70_col6, #T_10950_row77_col7 {\n",
       "  background-color: #45ad5b;\n",
       "  color: #f1f1f1;\n",
       "}\n",
       "#T_10950_row72_col6 {\n",
       "  background-color: #3faa59;\n",
       "  color: #f1f1f1;\n",
       "}\n",
       "#T_10950_row72_col7 {\n",
       "  background-color: #219c52;\n",
       "  color: #f1f1f1;\n",
       "}\n",
       "#T_10950_row73_col6 {\n",
       "  background-color: #54b45f;\n",
       "  color: #f1f1f1;\n",
       "}\n",
       "#T_10950_row73_col7 {\n",
       "  background-color: #249d53;\n",
       "  color: #f1f1f1;\n",
       "}\n",
       "#T_10950_row74_col6 {\n",
       "  background-color: #51b35e;\n",
       "  color: #f1f1f1;\n",
       "}\n",
       "#T_10950_row75_col7, #T_10950_row76_col7 {\n",
       "  background-color: #33a456;\n",
       "  color: #f1f1f1;\n",
       "}\n",
       "#T_10950_row76_col6 {\n",
       "  background-color: #30a356;\n",
       "  color: #f1f1f1;\n",
       "}\n",
       "#T_10950_row77_col6 {\n",
       "  background-color: #60ba62;\n",
       "  color: #f1f1f1;\n",
       "}\n",
       "#T_10950_row78_col6 {\n",
       "  background-color: #ecf7a6;\n",
       "  color: #000000;\n",
       "}\n",
       "#T_10950_row78_col7 {\n",
       "  background-color: #b1de71;\n",
       "  color: #000000;\n",
       "}\n",
       "#T_10950_row79_col6, #T_10950_row80_col7 {\n",
       "  background-color: #a50026;\n",
       "  color: #f1f1f1;\n",
       "}\n",
       "#T_10950_row79_col7 {\n",
       "  background-color: #ad0826;\n",
       "  color: #f1f1f1;\n",
       "}\n",
       "#T_10950_row80_col6 {\n",
       "  background-color: #a90426;\n",
       "  color: #f1f1f1;\n",
       "}\n",
       "</style>\n",
       "<table id=\"T_10950\">\n",
       "  <thead>\n",
       "    <tr>\n",
       "      <th class=\"blank level0\" >&nbsp;</th>\n",
       "      <th id=\"T_10950_level0_col0\" class=\"col_heading level0 col0\" >trial_id</th>\n",
       "      <th id=\"T_10950_level0_col1\" class=\"col_heading level0 col1\" >model</th>\n",
       "      <th id=\"T_10950_level0_col2\" class=\"col_heading level0 col2\" >model_config__input_embed_dim</th>\n",
       "      <th id=\"T_10950_level0_col3\" class=\"col_heading level0 col3\" >model_config__num_heads</th>\n",
       "      <th id=\"T_10950_level0_col4\" class=\"col_heading level0 col4\" >model_config__transformer_activation</th>\n",
       "      <th id=\"T_10950_level0_col5\" class=\"col_heading level0 col5\" >loss_0</th>\n",
       "      <th id=\"T_10950_level0_col6\" class=\"col_heading level0 col6\" >loss</th>\n",
       "      <th id=\"T_10950_level0_col7\" class=\"col_heading level0 col7\" >accuracy</th>\n",
       "      <th id=\"T_10950_level0_col8\" class=\"col_heading level0 col8\" >model_config__abstlay_dim_1</th>\n",
       "      <th id=\"T_10950_level0_col9\" class=\"col_heading level0 col9\" >model_config__abstlay_dim_2</th>\n",
       "      <th id=\"T_10950_level0_col10\" class=\"col_heading level0 col10\" >model_config__n_layers</th>\n",
       "      <th id=\"T_10950_level0_col11\" class=\"col_heading level0 col11\" >optimizer_config__optimizer</th>\n",
       "    </tr>\n",
       "  </thead>\n",
       "  <tbody>\n",
       "    <tr>\n",
       "      <th id=\"T_10950_level0_row0\" class=\"row_heading level0 row0\" >46</th>\n",
       "      <td id=\"T_10950_row0_col0\" class=\"data row0 col0\" >19</td>\n",
       "      <td id=\"T_10950_row0_col1\" class=\"data row0 col1\" >1-DANetConfig</td>\n",
       "      <td id=\"T_10950_row0_col2\" class=\"data row0 col2\" >nan</td>\n",
       "      <td id=\"T_10950_row0_col3\" class=\"data row0 col3\" >nan</td>\n",
       "      <td id=\"T_10950_row0_col4\" class=\"data row0 col4\" >nan</td>\n",
       "      <td id=\"T_10950_row0_col5\" class=\"data row0 col5\" >0.512986</td>\n",
       "      <td id=\"T_10950_row0_col6\" class=\"data row0 col6\" >0.512986</td>\n",
       "      <td id=\"T_10950_row0_col7\" class=\"data row0 col7\" >0.820000</td>\n",
       "      <td id=\"T_10950_row0_col8\" class=\"data row0 col8\" >32.000000</td>\n",
       "      <td id=\"T_10950_row0_col9\" class=\"data row0 col9\" >32.000000</td>\n",
       "      <td id=\"T_10950_row0_col10\" class=\"data row0 col10\" >4.000000</td>\n",
       "      <td id=\"T_10950_row0_col11\" class=\"data row0 col11\" >AdamW</td>\n",
       "    </tr>\n",
       "    <tr>\n",
       "      <th id=\"T_10950_level0_row1\" class=\"row_heading level0 row1\" >45</th>\n",
       "      <td id=\"T_10950_row1_col0\" class=\"data row1 col0\" >18</td>\n",
       "      <td id=\"T_10950_row1_col1\" class=\"data row1 col1\" >1-DANetConfig</td>\n",
       "      <td id=\"T_10950_row1_col2\" class=\"data row1 col2\" >nan</td>\n",
       "      <td id=\"T_10950_row1_col3\" class=\"data row1 col3\" >nan</td>\n",
       "      <td id=\"T_10950_row1_col4\" class=\"data row1 col4\" >nan</td>\n",
       "      <td id=\"T_10950_row1_col5\" class=\"data row1 col5\" >0.552606</td>\n",
       "      <td id=\"T_10950_row1_col6\" class=\"data row1 col6\" >0.552606</td>\n",
       "      <td id=\"T_10950_row1_col7\" class=\"data row1 col7\" >0.808333</td>\n",
       "      <td id=\"T_10950_row1_col8\" class=\"data row1 col8\" >32.000000</td>\n",
       "      <td id=\"T_10950_row1_col9\" class=\"data row1 col9\" >32.000000</td>\n",
       "      <td id=\"T_10950_row1_col10\" class=\"data row1 col10\" >4.000000</td>\n",
       "      <td id=\"T_10950_row1_col11\" class=\"data row1 col11\" >Adam</td>\n",
       "    </tr>\n",
       "    <tr>\n",
       "      <th id=\"T_10950_level0_row2\" class=\"row_heading level0 row2\" >1</th>\n",
       "      <td id=\"T_10950_row2_col0\" class=\"data row2 col0\" >1</td>\n",
       "      <td id=\"T_10950_row2_col1\" class=\"data row2 col1\" >0-FTTransformerConfig</td>\n",
       "      <td id=\"T_10950_row2_col2\" class=\"data row2 col2\" >16.000000</td>\n",
       "      <td id=\"T_10950_row2_col3\" class=\"data row2 col3\" >4.000000</td>\n",
       "      <td id=\"T_10950_row2_col4\" class=\"data row2 col4\" >ReLU</td>\n",
       "      <td id=\"T_10950_row2_col5\" class=\"data row2 col5\" >0.507535</td>\n",
       "      <td id=\"T_10950_row2_col6\" class=\"data row2 col6\" >0.507535</td>\n",
       "      <td id=\"T_10950_row2_col7\" class=\"data row2 col7\" >0.808333</td>\n",
       "      <td id=\"T_10950_row2_col8\" class=\"data row2 col8\" >nan</td>\n",
       "      <td id=\"T_10950_row2_col9\" class=\"data row2 col9\" >nan</td>\n",
       "      <td id=\"T_10950_row2_col10\" class=\"data row2 col10\" >nan</td>\n",
       "      <td id=\"T_10950_row2_col11\" class=\"data row2 col11\" >nan</td>\n",
       "    </tr>\n",
       "    <tr>\n",
       "      <th id=\"T_10950_level0_row3\" class=\"row_heading level0 row3\" >55</th>\n",
       "      <td id=\"T_10950_row3_col0\" class=\"data row3 col0\" >28</td>\n",
       "      <td id=\"T_10950_row3_col1\" class=\"data row3 col1\" >1-DANetConfig</td>\n",
       "      <td id=\"T_10950_row3_col2\" class=\"data row3 col2\" >nan</td>\n",
       "      <td id=\"T_10950_row3_col3\" class=\"data row3 col3\" >nan</td>\n",
       "      <td id=\"T_10950_row3_col4\" class=\"data row3 col4\" >nan</td>\n",
       "      <td id=\"T_10950_row3_col5\" class=\"data row3 col5\" >0.572783</td>\n",
       "      <td id=\"T_10950_row3_col6\" class=\"data row3 col6\" >0.572783</td>\n",
       "      <td id=\"T_10950_row3_col7\" class=\"data row3 col7\" >0.803333</td>\n",
       "      <td id=\"T_10950_row3_col8\" class=\"data row3 col8\" >32.000000</td>\n",
       "      <td id=\"T_10950_row3_col9\" class=\"data row3 col9\" >64.000000</td>\n",
       "      <td id=\"T_10950_row3_col10\" class=\"data row3 col10\" >16.000000</td>\n",
       "      <td id=\"T_10950_row3_col11\" class=\"data row3 col11\" >Adam</td>\n",
       "    </tr>\n",
       "    <tr>\n",
       "      <th id=\"T_10950_level0_row4\" class=\"row_heading level0 row4\" >63</th>\n",
       "      <td id=\"T_10950_row4_col0\" class=\"data row4 col0\" >36</td>\n",
       "      <td id=\"T_10950_row4_col1\" class=\"data row4 col1\" >1-DANetConfig</td>\n",
       "      <td id=\"T_10950_row4_col2\" class=\"data row4 col2\" >nan</td>\n",
       "      <td id=\"T_10950_row4_col3\" class=\"data row4 col3\" >nan</td>\n",
       "      <td id=\"T_10950_row4_col4\" class=\"data row4 col4\" >nan</td>\n",
       "      <td id=\"T_10950_row4_col5\" class=\"data row4 col5\" >0.510869</td>\n",
       "      <td id=\"T_10950_row4_col6\" class=\"data row4 col6\" >0.510869</td>\n",
       "      <td id=\"T_10950_row4_col7\" class=\"data row4 col7\" >0.801667</td>\n",
       "      <td id=\"T_10950_row4_col8\" class=\"data row4 col8\" >64.000000</td>\n",
       "      <td id=\"T_10950_row4_col9\" class=\"data row4 col9\" >32.000000</td>\n",
       "      <td id=\"T_10950_row4_col10\" class=\"data row4 col10\" >4.000000</td>\n",
       "      <td id=\"T_10950_row4_col11\" class=\"data row4 col11\" >Adam</td>\n",
       "    </tr>\n",
       "    <tr>\n",
       "      <th id=\"T_10950_level0_row5\" class=\"row_heading level0 row5\" >7</th>\n",
       "      <td id=\"T_10950_row5_col0\" class=\"data row5 col0\" >7</td>\n",
       "      <td id=\"T_10950_row5_col1\" class=\"data row5 col1\" >0-FTTransformerConfig</td>\n",
       "      <td id=\"T_10950_row5_col2\" class=\"data row5 col2\" >16.000000</td>\n",
       "      <td id=\"T_10950_row5_col3\" class=\"data row5 col3\" >16.000000</td>\n",
       "      <td id=\"T_10950_row5_col4\" class=\"data row5 col4\" >ReLU</td>\n",
       "      <td id=\"T_10950_row5_col5\" class=\"data row5 col5\" >0.571022</td>\n",
       "      <td id=\"T_10950_row5_col6\" class=\"data row5 col6\" >0.571022</td>\n",
       "      <td id=\"T_10950_row5_col7\" class=\"data row5 col7\" >0.800000</td>\n",
       "      <td id=\"T_10950_row5_col8\" class=\"data row5 col8\" >nan</td>\n",
       "      <td id=\"T_10950_row5_col9\" class=\"data row5 col9\" >nan</td>\n",
       "      <td id=\"T_10950_row5_col10\" class=\"data row5 col10\" >nan</td>\n",
       "      <td id=\"T_10950_row5_col11\" class=\"data row5 col11\" >nan</td>\n",
       "    </tr>\n",
       "    <tr>\n",
       "      <th id=\"T_10950_level0_row6\" class=\"row_heading level0 row6\" >25</th>\n",
       "      <td id=\"T_10950_row6_col0\" class=\"data row6 col0\" >25</td>\n",
       "      <td id=\"T_10950_row6_col1\" class=\"data row6 col1\" >0-FTTransformerConfig</td>\n",
       "      <td id=\"T_10950_row6_col2\" class=\"data row6 col2\" >64.000000</td>\n",
       "      <td id=\"T_10950_row6_col3\" class=\"data row6 col3\" >16.000000</td>\n",
       "      <td id=\"T_10950_row6_col4\" class=\"data row6 col4\" >ReLU</td>\n",
       "      <td id=\"T_10950_row6_col5\" class=\"data row6 col5\" >0.552217</td>\n",
       "      <td id=\"T_10950_row6_col6\" class=\"data row6 col6\" >0.552217</td>\n",
       "      <td id=\"T_10950_row6_col7\" class=\"data row6 col7\" >0.795000</td>\n",
       "      <td id=\"T_10950_row6_col8\" class=\"data row6 col8\" >nan</td>\n",
       "      <td id=\"T_10950_row6_col9\" class=\"data row6 col9\" >nan</td>\n",
       "      <td id=\"T_10950_row6_col10\" class=\"data row6 col10\" >nan</td>\n",
       "      <td id=\"T_10950_row6_col11\" class=\"data row6 col11\" >nan</td>\n",
       "    </tr>\n",
       "    <tr>\n",
       "      <th id=\"T_10950_level0_row7\" class=\"row_heading level0 row7\" >64</th>\n",
       "      <td id=\"T_10950_row7_col0\" class=\"data row7 col0\" >37</td>\n",
       "      <td id=\"T_10950_row7_col1\" class=\"data row7 col1\" >1-DANetConfig</td>\n",
       "      <td id=\"T_10950_row7_col2\" class=\"data row7 col2\" >nan</td>\n",
       "      <td id=\"T_10950_row7_col3\" class=\"data row7 col3\" >nan</td>\n",
       "      <td id=\"T_10950_row7_col4\" class=\"data row7 col4\" >nan</td>\n",
       "      <td id=\"T_10950_row7_col5\" class=\"data row7 col5\" >0.557062</td>\n",
       "      <td id=\"T_10950_row7_col6\" class=\"data row7 col6\" >0.557062</td>\n",
       "      <td id=\"T_10950_row7_col7\" class=\"data row7 col7\" >0.793333</td>\n",
       "      <td id=\"T_10950_row7_col8\" class=\"data row7 col8\" >64.000000</td>\n",
       "      <td id=\"T_10950_row7_col9\" class=\"data row7 col9\" >32.000000</td>\n",
       "      <td id=\"T_10950_row7_col10\" class=\"data row7 col10\" >4.000000</td>\n",
       "      <td id=\"T_10950_row7_col11\" class=\"data row7 col11\" >AdamW</td>\n",
       "    </tr>\n",
       "    <tr>\n",
       "      <th id=\"T_10950_level0_row8\" class=\"row_heading level0 row8\" >27</th>\n",
       "      <td id=\"T_10950_row8_col0\" class=\"data row8 col0\" >0</td>\n",
       "      <td id=\"T_10950_row8_col1\" class=\"data row8 col1\" >1-DANetConfig</td>\n",
       "      <td id=\"T_10950_row8_col2\" class=\"data row8 col2\" >nan</td>\n",
       "      <td id=\"T_10950_row8_col3\" class=\"data row8 col3\" >nan</td>\n",
       "      <td id=\"T_10950_row8_col4\" class=\"data row8 col4\" >nan</td>\n",
       "      <td id=\"T_10950_row8_col5\" class=\"data row8 col5\" >0.592444</td>\n",
       "      <td id=\"T_10950_row8_col6\" class=\"data row8 col6\" >0.592444</td>\n",
       "      <td id=\"T_10950_row8_col7\" class=\"data row8 col7\" >0.793333</td>\n",
       "      <td id=\"T_10950_row8_col8\" class=\"data row8 col8\" >16.000000</td>\n",
       "      <td id=\"T_10950_row8_col9\" class=\"data row8 col9\" >32.000000</td>\n",
       "      <td id=\"T_10950_row8_col10\" class=\"data row8 col10\" >4.000000</td>\n",
       "      <td id=\"T_10950_row8_col11\" class=\"data row8 col11\" >Adam</td>\n",
       "    </tr>\n",
       "    <tr>\n",
       "      <th id=\"T_10950_level0_row9\" class=\"row_heading level0 row9\" >17</th>\n",
       "      <td id=\"T_10950_row9_col0\" class=\"data row9 col0\" >17</td>\n",
       "      <td id=\"T_10950_row9_col1\" class=\"data row9 col1\" >0-FTTransformerConfig</td>\n",
       "      <td id=\"T_10950_row9_col2\" class=\"data row9 col2\" >32.000000</td>\n",
       "      <td id=\"T_10950_row9_col3\" class=\"data row9 col3\" >16.000000</td>\n",
       "      <td id=\"T_10950_row9_col4\" class=\"data row9 col4\" >LeakyReLU</td>\n",
       "      <td id=\"T_10950_row9_col5\" class=\"data row9 col5\" >0.519083</td>\n",
       "      <td id=\"T_10950_row9_col6\" class=\"data row9 col6\" >0.519083</td>\n",
       "      <td id=\"T_10950_row9_col7\" class=\"data row9 col7\" >0.793333</td>\n",
       "      <td id=\"T_10950_row9_col8\" class=\"data row9 col8\" >nan</td>\n",
       "      <td id=\"T_10950_row9_col9\" class=\"data row9 col9\" >nan</td>\n",
       "      <td id=\"T_10950_row9_col10\" class=\"data row9 col10\" >nan</td>\n",
       "      <td id=\"T_10950_row9_col11\" class=\"data row9 col11\" >nan</td>\n",
       "    </tr>\n",
       "    <tr>\n",
       "      <th id=\"T_10950_level0_row10\" class=\"row_heading level0 row10\" >53</th>\n",
       "      <td id=\"T_10950_row10_col0\" class=\"data row10 col0\" >26</td>\n",
       "      <td id=\"T_10950_row10_col1\" class=\"data row10 col1\" >1-DANetConfig</td>\n",
       "      <td id=\"T_10950_row10_col2\" class=\"data row10 col2\" >nan</td>\n",
       "      <td id=\"T_10950_row10_col3\" class=\"data row10 col3\" >nan</td>\n",
       "      <td id=\"T_10950_row10_col4\" class=\"data row10 col4\" >nan</td>\n",
       "      <td id=\"T_10950_row10_col5\" class=\"data row10 col5\" >0.553396</td>\n",
       "      <td id=\"T_10950_row10_col6\" class=\"data row10 col6\" >0.553396</td>\n",
       "      <td id=\"T_10950_row10_col7\" class=\"data row10 col7\" >0.791667</td>\n",
       "      <td id=\"T_10950_row10_col8\" class=\"data row10 col8\" >32.000000</td>\n",
       "      <td id=\"T_10950_row10_col9\" class=\"data row10 col9\" >64.000000</td>\n",
       "      <td id=\"T_10950_row10_col10\" class=\"data row10 col10\" >8.000000</td>\n",
       "      <td id=\"T_10950_row10_col11\" class=\"data row10 col11\" >Adam</td>\n",
       "    </tr>\n",
       "    <tr>\n",
       "      <th id=\"T_10950_level0_row11\" class=\"row_heading level0 row11\" >4</th>\n",
       "      <td id=\"T_10950_row11_col0\" class=\"data row11 col0\" >4</td>\n",
       "      <td id=\"T_10950_row11_col1\" class=\"data row11 col1\" >0-FTTransformerConfig</td>\n",
       "      <td id=\"T_10950_row11_col2\" class=\"data row11 col2\" >16.000000</td>\n",
       "      <td id=\"T_10950_row11_col3\" class=\"data row11 col3\" >8.000000</td>\n",
       "      <td id=\"T_10950_row11_col4\" class=\"data row11 col4\" >ReLU</td>\n",
       "      <td id=\"T_10950_row11_col5\" class=\"data row11 col5\" >0.538460</td>\n",
       "      <td id=\"T_10950_row11_col6\" class=\"data row11 col6\" >0.538460</td>\n",
       "      <td id=\"T_10950_row11_col7\" class=\"data row11 col7\" >0.791667</td>\n",
       "      <td id=\"T_10950_row11_col8\" class=\"data row11 col8\" >nan</td>\n",
       "      <td id=\"T_10950_row11_col9\" class=\"data row11 col9\" >nan</td>\n",
       "      <td id=\"T_10950_row11_col10\" class=\"data row11 col10\" >nan</td>\n",
       "      <td id=\"T_10950_row11_col11\" class=\"data row11 col11\" >nan</td>\n",
       "    </tr>\n",
       "    <tr>\n",
       "      <th id=\"T_10950_level0_row12\" class=\"row_heading level0 row12\" >52</th>\n",
       "      <td id=\"T_10950_row12_col0\" class=\"data row12 col0\" >25</td>\n",
       "      <td id=\"T_10950_row12_col1\" class=\"data row12 col1\" >1-DANetConfig</td>\n",
       "      <td id=\"T_10950_row12_col2\" class=\"data row12 col2\" >nan</td>\n",
       "      <td id=\"T_10950_row12_col3\" class=\"data row12 col3\" >nan</td>\n",
       "      <td id=\"T_10950_row12_col4\" class=\"data row12 col4\" >nan</td>\n",
       "      <td id=\"T_10950_row12_col5\" class=\"data row12 col5\" >0.540740</td>\n",
       "      <td id=\"T_10950_row12_col6\" class=\"data row12 col6\" >0.540740</td>\n",
       "      <td id=\"T_10950_row12_col7\" class=\"data row12 col7\" >0.791667</td>\n",
       "      <td id=\"T_10950_row12_col8\" class=\"data row12 col8\" >32.000000</td>\n",
       "      <td id=\"T_10950_row12_col9\" class=\"data row12 col9\" >64.000000</td>\n",
       "      <td id=\"T_10950_row12_col10\" class=\"data row12 col10\" >4.000000</td>\n",
       "      <td id=\"T_10950_row12_col11\" class=\"data row12 col11\" >AdamW</td>\n",
       "    </tr>\n",
       "    <tr>\n",
       "      <th id=\"T_10950_level0_row13\" class=\"row_heading level0 row13\" >21</th>\n",
       "      <td id=\"T_10950_row13_col0\" class=\"data row13 col0\" >21</td>\n",
       "      <td id=\"T_10950_row13_col1\" class=\"data row13 col1\" >0-FTTransformerConfig</td>\n",
       "      <td id=\"T_10950_row13_col2\" class=\"data row13 col2\" >64.000000</td>\n",
       "      <td id=\"T_10950_row13_col3\" class=\"data row13 col3\" >8.000000</td>\n",
       "      <td id=\"T_10950_row13_col4\" class=\"data row13 col4\" >GEGLU</td>\n",
       "      <td id=\"T_10950_row13_col5\" class=\"data row13 col5\" >0.554935</td>\n",
       "      <td id=\"T_10950_row13_col6\" class=\"data row13 col6\" >0.554935</td>\n",
       "      <td id=\"T_10950_row13_col7\" class=\"data row13 col7\" >0.790000</td>\n",
       "      <td id=\"T_10950_row13_col8\" class=\"data row13 col8\" >nan</td>\n",
       "      <td id=\"T_10950_row13_col9\" class=\"data row13 col9\" >nan</td>\n",
       "      <td id=\"T_10950_row13_col10\" class=\"data row13 col10\" >nan</td>\n",
       "      <td id=\"T_10950_row13_col11\" class=\"data row13 col11\" >nan</td>\n",
       "    </tr>\n",
       "    <tr>\n",
       "      <th id=\"T_10950_level0_row14\" class=\"row_heading level0 row14\" >16</th>\n",
       "      <td id=\"T_10950_row14_col0\" class=\"data row14 col0\" >16</td>\n",
       "      <td id=\"T_10950_row14_col1\" class=\"data row14 col1\" >0-FTTransformerConfig</td>\n",
       "      <td id=\"T_10950_row14_col2\" class=\"data row14 col2\" >32.000000</td>\n",
       "      <td id=\"T_10950_row14_col3\" class=\"data row14 col3\" >16.000000</td>\n",
       "      <td id=\"T_10950_row14_col4\" class=\"data row14 col4\" >ReLU</td>\n",
       "      <td id=\"T_10950_row14_col5\" class=\"data row14 col5\" >0.562818</td>\n",
       "      <td id=\"T_10950_row14_col6\" class=\"data row14 col6\" >0.562818</td>\n",
       "      <td id=\"T_10950_row14_col7\" class=\"data row14 col7\" >0.788333</td>\n",
       "      <td id=\"T_10950_row14_col8\" class=\"data row14 col8\" >nan</td>\n",
       "      <td id=\"T_10950_row14_col9\" class=\"data row14 col9\" >nan</td>\n",
       "      <td id=\"T_10950_row14_col10\" class=\"data row14 col10\" >nan</td>\n",
       "      <td id=\"T_10950_row14_col11\" class=\"data row14 col11\" >nan</td>\n",
       "    </tr>\n",
       "    <tr>\n",
       "      <th id=\"T_10950_level0_row15\" class=\"row_heading level0 row15\" >74</th>\n",
       "      <td id=\"T_10950_row15_col0\" class=\"data row15 col0\" >47</td>\n",
       "      <td id=\"T_10950_row15_col1\" class=\"data row15 col1\" >1-DANetConfig</td>\n",
       "      <td id=\"T_10950_row15_col2\" class=\"data row15 col2\" >nan</td>\n",
       "      <td id=\"T_10950_row15_col3\" class=\"data row15 col3\" >nan</td>\n",
       "      <td id=\"T_10950_row15_col4\" class=\"data row15 col4\" >nan</td>\n",
       "      <td id=\"T_10950_row15_col5\" class=\"data row15 col5\" >0.569395</td>\n",
       "      <td id=\"T_10950_row15_col6\" class=\"data row15 col6\" >0.569395</td>\n",
       "      <td id=\"T_10950_row15_col7\" class=\"data row15 col7\" >0.788333</td>\n",
       "      <td id=\"T_10950_row15_col8\" class=\"data row15 col8\" >64.000000</td>\n",
       "      <td id=\"T_10950_row15_col9\" class=\"data row15 col9\" >64.000000</td>\n",
       "      <td id=\"T_10950_row15_col10\" class=\"data row15 col10\" >16.000000</td>\n",
       "      <td id=\"T_10950_row15_col11\" class=\"data row15 col11\" >AdamW</td>\n",
       "    </tr>\n",
       "    <tr>\n",
       "      <th id=\"T_10950_level0_row16\" class=\"row_heading level0 row16\" >76</th>\n",
       "      <td id=\"T_10950_row16_col0\" class=\"data row16 col0\" >49</td>\n",
       "      <td id=\"T_10950_row16_col1\" class=\"data row16 col1\" >1-DANetConfig</td>\n",
       "      <td id=\"T_10950_row16_col2\" class=\"data row16 col2\" >nan</td>\n",
       "      <td id=\"T_10950_row16_col3\" class=\"data row16 col3\" >nan</td>\n",
       "      <td id=\"T_10950_row16_col4\" class=\"data row16 col4\" >nan</td>\n",
       "      <td id=\"T_10950_row16_col5\" class=\"data row16 col5\" >0.535976</td>\n",
       "      <td id=\"T_10950_row16_col6\" class=\"data row16 col6\" >0.535976</td>\n",
       "      <td id=\"T_10950_row16_col7\" class=\"data row16 col7\" >0.788333</td>\n",
       "      <td id=\"T_10950_row16_col8\" class=\"data row16 col8\" >64.000000</td>\n",
       "      <td id=\"T_10950_row16_col9\" class=\"data row16 col9\" >128.000000</td>\n",
       "      <td id=\"T_10950_row16_col10\" class=\"data row16 col10\" >4.000000</td>\n",
       "      <td id=\"T_10950_row16_col11\" class=\"data row16 col11\" >AdamW</td>\n",
       "    </tr>\n",
       "    <tr>\n",
       "      <th id=\"T_10950_level0_row17\" class=\"row_heading level0 row17\" >71</th>\n",
       "      <td id=\"T_10950_row17_col0\" class=\"data row17 col0\" >44</td>\n",
       "      <td id=\"T_10950_row17_col1\" class=\"data row17 col1\" >1-DANetConfig</td>\n",
       "      <td id=\"T_10950_row17_col2\" class=\"data row17 col2\" >nan</td>\n",
       "      <td id=\"T_10950_row17_col3\" class=\"data row17 col3\" >nan</td>\n",
       "      <td id=\"T_10950_row17_col4\" class=\"data row17 col4\" >nan</td>\n",
       "      <td id=\"T_10950_row17_col5\" class=\"data row17 col5\" >0.571868</td>\n",
       "      <td id=\"T_10950_row17_col6\" class=\"data row17 col6\" >0.571868</td>\n",
       "      <td id=\"T_10950_row17_col7\" class=\"data row17 col7\" >0.786667</td>\n",
       "      <td id=\"T_10950_row17_col8\" class=\"data row17 col8\" >64.000000</td>\n",
       "      <td id=\"T_10950_row17_col9\" class=\"data row17 col9\" >64.000000</td>\n",
       "      <td id=\"T_10950_row17_col10\" class=\"data row17 col10\" >8.000000</td>\n",
       "      <td id=\"T_10950_row17_col11\" class=\"data row17 col11\" >Adam</td>\n",
       "    </tr>\n",
       "    <tr>\n",
       "      <th id=\"T_10950_level0_row18\" class=\"row_heading level0 row18\" >15</th>\n",
       "      <td id=\"T_10950_row18_col0\" class=\"data row18 col0\" >15</td>\n",
       "      <td id=\"T_10950_row18_col1\" class=\"data row18 col1\" >0-FTTransformerConfig</td>\n",
       "      <td id=\"T_10950_row18_col2\" class=\"data row18 col2\" >32.000000</td>\n",
       "      <td id=\"T_10950_row18_col3\" class=\"data row18 col3\" >16.000000</td>\n",
       "      <td id=\"T_10950_row18_col4\" class=\"data row18 col4\" >GEGLU</td>\n",
       "      <td id=\"T_10950_row18_col5\" class=\"data row18 col5\" >0.549122</td>\n",
       "      <td id=\"T_10950_row18_col6\" class=\"data row18 col6\" >0.549122</td>\n",
       "      <td id=\"T_10950_row18_col7\" class=\"data row18 col7\" >0.786667</td>\n",
       "      <td id=\"T_10950_row18_col8\" class=\"data row18 col8\" >nan</td>\n",
       "      <td id=\"T_10950_row18_col9\" class=\"data row18 col9\" >nan</td>\n",
       "      <td id=\"T_10950_row18_col10\" class=\"data row18 col10\" >nan</td>\n",
       "      <td id=\"T_10950_row18_col11\" class=\"data row18 col11\" >nan</td>\n",
       "    </tr>\n",
       "    <tr>\n",
       "      <th id=\"T_10950_level0_row19\" class=\"row_heading level0 row19\" >61</th>\n",
       "      <td id=\"T_10950_row19_col0\" class=\"data row19 col0\" >34</td>\n",
       "      <td id=\"T_10950_row19_col1\" class=\"data row19 col1\" >1-DANetConfig</td>\n",
       "      <td id=\"T_10950_row19_col2\" class=\"data row19 col2\" >nan</td>\n",
       "      <td id=\"T_10950_row19_col3\" class=\"data row19 col3\" >nan</td>\n",
       "      <td id=\"T_10950_row19_col4\" class=\"data row19 col4\" >nan</td>\n",
       "      <td id=\"T_10950_row19_col5\" class=\"data row19 col5\" >0.585570</td>\n",
       "      <td id=\"T_10950_row19_col6\" class=\"data row19 col6\" >0.585570</td>\n",
       "      <td id=\"T_10950_row19_col7\" class=\"data row19 col7\" >0.786667</td>\n",
       "      <td id=\"T_10950_row19_col8\" class=\"data row19 col8\" >32.000000</td>\n",
       "      <td id=\"T_10950_row19_col9\" class=\"data row19 col9\" >128.000000</td>\n",
       "      <td id=\"T_10950_row19_col10\" class=\"data row19 col10\" >16.000000</td>\n",
       "      <td id=\"T_10950_row19_col11\" class=\"data row19 col11\" >Adam</td>\n",
       "    </tr>\n",
       "    <tr>\n",
       "      <th id=\"T_10950_level0_row20\" class=\"row_heading level0 row20\" >32</th>\n",
       "      <td id=\"T_10950_row20_col0\" class=\"data row20 col0\" >5</td>\n",
       "      <td id=\"T_10950_row20_col1\" class=\"data row20 col1\" >1-DANetConfig</td>\n",
       "      <td id=\"T_10950_row20_col2\" class=\"data row20 col2\" >nan</td>\n",
       "      <td id=\"T_10950_row20_col3\" class=\"data row20 col3\" >nan</td>\n",
       "      <td id=\"T_10950_row20_col4\" class=\"data row20 col4\" >nan</td>\n",
       "      <td id=\"T_10950_row20_col5\" class=\"data row20 col5\" >0.593912</td>\n",
       "      <td id=\"T_10950_row20_col6\" class=\"data row20 col6\" >0.593912</td>\n",
       "      <td id=\"T_10950_row20_col7\" class=\"data row20 col7\" >0.786667</td>\n",
       "      <td id=\"T_10950_row20_col8\" class=\"data row20 col8\" >16.000000</td>\n",
       "      <td id=\"T_10950_row20_col9\" class=\"data row20 col9\" >32.000000</td>\n",
       "      <td id=\"T_10950_row20_col10\" class=\"data row20 col10\" >16.000000</td>\n",
       "      <td id=\"T_10950_row20_col11\" class=\"data row20 col11\" >AdamW</td>\n",
       "    </tr>\n",
       "    <tr>\n",
       "      <th id=\"T_10950_level0_row21\" class=\"row_heading level0 row21\" >48</th>\n",
       "      <td id=\"T_10950_row21_col0\" class=\"data row21 col0\" >21</td>\n",
       "      <td id=\"T_10950_row21_col1\" class=\"data row21 col1\" >1-DANetConfig</td>\n",
       "      <td id=\"T_10950_row21_col2\" class=\"data row21 col2\" >nan</td>\n",
       "      <td id=\"T_10950_row21_col3\" class=\"data row21 col3\" >nan</td>\n",
       "      <td id=\"T_10950_row21_col4\" class=\"data row21 col4\" >nan</td>\n",
       "      <td id=\"T_10950_row21_col5\" class=\"data row21 col5\" >0.572403</td>\n",
       "      <td id=\"T_10950_row21_col6\" class=\"data row21 col6\" >0.572403</td>\n",
       "      <td id=\"T_10950_row21_col7\" class=\"data row21 col7\" >0.785000</td>\n",
       "      <td id=\"T_10950_row21_col8\" class=\"data row21 col8\" >32.000000</td>\n",
       "      <td id=\"T_10950_row21_col9\" class=\"data row21 col9\" >32.000000</td>\n",
       "      <td id=\"T_10950_row21_col10\" class=\"data row21 col10\" >8.000000</td>\n",
       "      <td id=\"T_10950_row21_col11\" class=\"data row21 col11\" >AdamW</td>\n",
       "    </tr>\n",
       "    <tr>\n",
       "      <th id=\"T_10950_level0_row22\" class=\"row_heading level0 row22\" >29</th>\n",
       "      <td id=\"T_10950_row22_col0\" class=\"data row22 col0\" >2</td>\n",
       "      <td id=\"T_10950_row22_col1\" class=\"data row22 col1\" >1-DANetConfig</td>\n",
       "      <td id=\"T_10950_row22_col2\" class=\"data row22 col2\" >nan</td>\n",
       "      <td id=\"T_10950_row22_col3\" class=\"data row22 col3\" >nan</td>\n",
       "      <td id=\"T_10950_row22_col4\" class=\"data row22 col4\" >nan</td>\n",
       "      <td id=\"T_10950_row22_col5\" class=\"data row22 col5\" >0.599492</td>\n",
       "      <td id=\"T_10950_row22_col6\" class=\"data row22 col6\" >0.599492</td>\n",
       "      <td id=\"T_10950_row22_col7\" class=\"data row22 col7\" >0.785000</td>\n",
       "      <td id=\"T_10950_row22_col8\" class=\"data row22 col8\" >16.000000</td>\n",
       "      <td id=\"T_10950_row22_col9\" class=\"data row22 col9\" >32.000000</td>\n",
       "      <td id=\"T_10950_row22_col10\" class=\"data row22 col10\" >8.000000</td>\n",
       "      <td id=\"T_10950_row22_col11\" class=\"data row22 col11\" >Adam</td>\n",
       "    </tr>\n",
       "    <tr>\n",
       "      <th id=\"T_10950_level0_row23\" class=\"row_heading level0 row23\" >28</th>\n",
       "      <td id=\"T_10950_row23_col0\" class=\"data row23 col0\" >1</td>\n",
       "      <td id=\"T_10950_row23_col1\" class=\"data row23 col1\" >1-DANetConfig</td>\n",
       "      <td id=\"T_10950_row23_col2\" class=\"data row23 col2\" >nan</td>\n",
       "      <td id=\"T_10950_row23_col3\" class=\"data row23 col3\" >nan</td>\n",
       "      <td id=\"T_10950_row23_col4\" class=\"data row23 col4\" >nan</td>\n",
       "      <td id=\"T_10950_row23_col5\" class=\"data row23 col5\" >0.549314</td>\n",
       "      <td id=\"T_10950_row23_col6\" class=\"data row23 col6\" >0.549314</td>\n",
       "      <td id=\"T_10950_row23_col7\" class=\"data row23 col7\" >0.783333</td>\n",
       "      <td id=\"T_10950_row23_col8\" class=\"data row23 col8\" >16.000000</td>\n",
       "      <td id=\"T_10950_row23_col9\" class=\"data row23 col9\" >32.000000</td>\n",
       "      <td id=\"T_10950_row23_col10\" class=\"data row23 col10\" >4.000000</td>\n",
       "      <td id=\"T_10950_row23_col11\" class=\"data row23 col11\" >AdamW</td>\n",
       "    </tr>\n",
       "    <tr>\n",
       "      <th id=\"T_10950_level0_row24\" class=\"row_heading level0 row24\" >69</th>\n",
       "      <td id=\"T_10950_row24_col0\" class=\"data row24 col0\" >42</td>\n",
       "      <td id=\"T_10950_row24_col1\" class=\"data row24 col1\" >1-DANetConfig</td>\n",
       "      <td id=\"T_10950_row24_col2\" class=\"data row24 col2\" >nan</td>\n",
       "      <td id=\"T_10950_row24_col3\" class=\"data row24 col3\" >nan</td>\n",
       "      <td id=\"T_10950_row24_col4\" class=\"data row24 col4\" >nan</td>\n",
       "      <td id=\"T_10950_row24_col5\" class=\"data row24 col5\" >0.574984</td>\n",
       "      <td id=\"T_10950_row24_col6\" class=\"data row24 col6\" >0.574984</td>\n",
       "      <td id=\"T_10950_row24_col7\" class=\"data row24 col7\" >0.783333</td>\n",
       "      <td id=\"T_10950_row24_col8\" class=\"data row24 col8\" >64.000000</td>\n",
       "      <td id=\"T_10950_row24_col9\" class=\"data row24 col9\" >64.000000</td>\n",
       "      <td id=\"T_10950_row24_col10\" class=\"data row24 col10\" >4.000000</td>\n",
       "      <td id=\"T_10950_row24_col11\" class=\"data row24 col11\" >Adam</td>\n",
       "    </tr>\n",
       "    <tr>\n",
       "      <th id=\"T_10950_level0_row25\" class=\"row_heading level0 row25\" >30</th>\n",
       "      <td id=\"T_10950_row25_col0\" class=\"data row25 col0\" >3</td>\n",
       "      <td id=\"T_10950_row25_col1\" class=\"data row25 col1\" >1-DANetConfig</td>\n",
       "      <td id=\"T_10950_row25_col2\" class=\"data row25 col2\" >nan</td>\n",
       "      <td id=\"T_10950_row25_col3\" class=\"data row25 col3\" >nan</td>\n",
       "      <td id=\"T_10950_row25_col4\" class=\"data row25 col4\" >nan</td>\n",
       "      <td id=\"T_10950_row25_col5\" class=\"data row25 col5\" >0.562347</td>\n",
       "      <td id=\"T_10950_row25_col6\" class=\"data row25 col6\" >0.562347</td>\n",
       "      <td id=\"T_10950_row25_col7\" class=\"data row25 col7\" >0.781667</td>\n",
       "      <td id=\"T_10950_row25_col8\" class=\"data row25 col8\" >16.000000</td>\n",
       "      <td id=\"T_10950_row25_col9\" class=\"data row25 col9\" >32.000000</td>\n",
       "      <td id=\"T_10950_row25_col10\" class=\"data row25 col10\" >8.000000</td>\n",
       "      <td id=\"T_10950_row25_col11\" class=\"data row25 col11\" >AdamW</td>\n",
       "    </tr>\n",
       "    <tr>\n",
       "      <th id=\"T_10950_level0_row26\" class=\"row_heading level0 row26\" >31</th>\n",
       "      <td id=\"T_10950_row26_col0\" class=\"data row26 col0\" >4</td>\n",
       "      <td id=\"T_10950_row26_col1\" class=\"data row26 col1\" >1-DANetConfig</td>\n",
       "      <td id=\"T_10950_row26_col2\" class=\"data row26 col2\" >nan</td>\n",
       "      <td id=\"T_10950_row26_col3\" class=\"data row26 col3\" >nan</td>\n",
       "      <td id=\"T_10950_row26_col4\" class=\"data row26 col4\" >nan</td>\n",
       "      <td id=\"T_10950_row26_col5\" class=\"data row26 col5\" >0.557400</td>\n",
       "      <td id=\"T_10950_row26_col6\" class=\"data row26 col6\" >0.557400</td>\n",
       "      <td id=\"T_10950_row26_col7\" class=\"data row26 col7\" >0.781667</td>\n",
       "      <td id=\"T_10950_row26_col8\" class=\"data row26 col8\" >16.000000</td>\n",
       "      <td id=\"T_10950_row26_col9\" class=\"data row26 col9\" >32.000000</td>\n",
       "      <td id=\"T_10950_row26_col10\" class=\"data row26 col10\" >16.000000</td>\n",
       "      <td id=\"T_10950_row26_col11\" class=\"data row26 col11\" >Adam</td>\n",
       "    </tr>\n",
       "    <tr>\n",
       "      <th id=\"T_10950_level0_row27\" class=\"row_heading level0 row27\" >67</th>\n",
       "      <td id=\"T_10950_row27_col0\" class=\"data row27 col0\" >40</td>\n",
       "      <td id=\"T_10950_row27_col1\" class=\"data row27 col1\" >1-DANetConfig</td>\n",
       "      <td id=\"T_10950_row27_col2\" class=\"data row27 col2\" >nan</td>\n",
       "      <td id=\"T_10950_row27_col3\" class=\"data row27 col3\" >nan</td>\n",
       "      <td id=\"T_10950_row27_col4\" class=\"data row27 col4\" >nan</td>\n",
       "      <td id=\"T_10950_row27_col5\" class=\"data row27 col5\" >0.564012</td>\n",
       "      <td id=\"T_10950_row27_col6\" class=\"data row27 col6\" >0.564012</td>\n",
       "      <td id=\"T_10950_row27_col7\" class=\"data row27 col7\" >0.781667</td>\n",
       "      <td id=\"T_10950_row27_col8\" class=\"data row27 col8\" >64.000000</td>\n",
       "      <td id=\"T_10950_row27_col9\" class=\"data row27 col9\" >32.000000</td>\n",
       "      <td id=\"T_10950_row27_col10\" class=\"data row27 col10\" >16.000000</td>\n",
       "      <td id=\"T_10950_row27_col11\" class=\"data row27 col11\" >Adam</td>\n",
       "    </tr>\n",
       "    <tr>\n",
       "      <th id=\"T_10950_level0_row28\" class=\"row_heading level0 row28\" >49</th>\n",
       "      <td id=\"T_10950_row28_col0\" class=\"data row28 col0\" >22</td>\n",
       "      <td id=\"T_10950_row28_col1\" class=\"data row28 col1\" >1-DANetConfig</td>\n",
       "      <td id=\"T_10950_row28_col2\" class=\"data row28 col2\" >nan</td>\n",
       "      <td id=\"T_10950_row28_col3\" class=\"data row28 col3\" >nan</td>\n",
       "      <td id=\"T_10950_row28_col4\" class=\"data row28 col4\" >nan</td>\n",
       "      <td id=\"T_10950_row28_col5\" class=\"data row28 col5\" >0.580431</td>\n",
       "      <td id=\"T_10950_row28_col6\" class=\"data row28 col6\" >0.580431</td>\n",
       "      <td id=\"T_10950_row28_col7\" class=\"data row28 col7\" >0.781667</td>\n",
       "      <td id=\"T_10950_row28_col8\" class=\"data row28 col8\" >32.000000</td>\n",
       "      <td id=\"T_10950_row28_col9\" class=\"data row28 col9\" >32.000000</td>\n",
       "      <td id=\"T_10950_row28_col10\" class=\"data row28 col10\" >16.000000</td>\n",
       "      <td id=\"T_10950_row28_col11\" class=\"data row28 col11\" >Adam</td>\n",
       "    </tr>\n",
       "    <tr>\n",
       "      <th id=\"T_10950_level0_row29\" class=\"row_heading level0 row29\" >62</th>\n",
       "      <td id=\"T_10950_row29_col0\" class=\"data row29 col0\" >35</td>\n",
       "      <td id=\"T_10950_row29_col1\" class=\"data row29 col1\" >1-DANetConfig</td>\n",
       "      <td id=\"T_10950_row29_col2\" class=\"data row29 col2\" >nan</td>\n",
       "      <td id=\"T_10950_row29_col3\" class=\"data row29 col3\" >nan</td>\n",
       "      <td id=\"T_10950_row29_col4\" class=\"data row29 col4\" >nan</td>\n",
       "      <td id=\"T_10950_row29_col5\" class=\"data row29 col5\" >0.574236</td>\n",
       "      <td id=\"T_10950_row29_col6\" class=\"data row29 col6\" >0.574236</td>\n",
       "      <td id=\"T_10950_row29_col7\" class=\"data row29 col7\" >0.781667</td>\n",
       "      <td id=\"T_10950_row29_col8\" class=\"data row29 col8\" >32.000000</td>\n",
       "      <td id=\"T_10950_row29_col9\" class=\"data row29 col9\" >128.000000</td>\n",
       "      <td id=\"T_10950_row29_col10\" class=\"data row29 col10\" >16.000000</td>\n",
       "      <td id=\"T_10950_row29_col11\" class=\"data row29 col11\" >AdamW</td>\n",
       "    </tr>\n",
       "    <tr>\n",
       "      <th id=\"T_10950_level0_row30\" class=\"row_heading level0 row30\" >70</th>\n",
       "      <td id=\"T_10950_row30_col0\" class=\"data row30 col0\" >43</td>\n",
       "      <td id=\"T_10950_row30_col1\" class=\"data row30 col1\" >1-DANetConfig</td>\n",
       "      <td id=\"T_10950_row30_col2\" class=\"data row30 col2\" >nan</td>\n",
       "      <td id=\"T_10950_row30_col3\" class=\"data row30 col3\" >nan</td>\n",
       "      <td id=\"T_10950_row30_col4\" class=\"data row30 col4\" >nan</td>\n",
       "      <td id=\"T_10950_row30_col5\" class=\"data row30 col5\" >0.606815</td>\n",
       "      <td id=\"T_10950_row30_col6\" class=\"data row30 col6\" >0.606815</td>\n",
       "      <td id=\"T_10950_row30_col7\" class=\"data row30 col7\" >0.781667</td>\n",
       "      <td id=\"T_10950_row30_col8\" class=\"data row30 col8\" >64.000000</td>\n",
       "      <td id=\"T_10950_row30_col9\" class=\"data row30 col9\" >64.000000</td>\n",
       "      <td id=\"T_10950_row30_col10\" class=\"data row30 col10\" >4.000000</td>\n",
       "      <td id=\"T_10950_row30_col11\" class=\"data row30 col11\" >AdamW</td>\n",
       "    </tr>\n",
       "    <tr>\n",
       "      <th id=\"T_10950_level0_row31\" class=\"row_heading level0 row31\" >26</th>\n",
       "      <td id=\"T_10950_row31_col0\" class=\"data row31 col0\" >26</td>\n",
       "      <td id=\"T_10950_row31_col1\" class=\"data row31 col1\" >0-FTTransformerConfig</td>\n",
       "      <td id=\"T_10950_row31_col2\" class=\"data row31 col2\" >64.000000</td>\n",
       "      <td id=\"T_10950_row31_col3\" class=\"data row31 col3\" >16.000000</td>\n",
       "      <td id=\"T_10950_row31_col4\" class=\"data row31 col4\" >LeakyReLU</td>\n",
       "      <td id=\"T_10950_row31_col5\" class=\"data row31 col5\" >0.576224</td>\n",
       "      <td id=\"T_10950_row31_col6\" class=\"data row31 col6\" >0.576224</td>\n",
       "      <td id=\"T_10950_row31_col7\" class=\"data row31 col7\" >0.780000</td>\n",
       "      <td id=\"T_10950_row31_col8\" class=\"data row31 col8\" >nan</td>\n",
       "      <td id=\"T_10950_row31_col9\" class=\"data row31 col9\" >nan</td>\n",
       "      <td id=\"T_10950_row31_col10\" class=\"data row31 col10\" >nan</td>\n",
       "      <td id=\"T_10950_row31_col11\" class=\"data row31 col11\" >nan</td>\n",
       "    </tr>\n",
       "    <tr>\n",
       "      <th id=\"T_10950_level0_row32\" class=\"row_heading level0 row32\" >73</th>\n",
       "      <td id=\"T_10950_row32_col0\" class=\"data row32 col0\" >46</td>\n",
       "      <td id=\"T_10950_row32_col1\" class=\"data row32 col1\" >1-DANetConfig</td>\n",
       "      <td id=\"T_10950_row32_col2\" class=\"data row32 col2\" >nan</td>\n",
       "      <td id=\"T_10950_row32_col3\" class=\"data row32 col3\" >nan</td>\n",
       "      <td id=\"T_10950_row32_col4\" class=\"data row32 col4\" >nan</td>\n",
       "      <td id=\"T_10950_row32_col5\" class=\"data row32 col5\" >0.578060</td>\n",
       "      <td id=\"T_10950_row32_col6\" class=\"data row32 col6\" >0.578060</td>\n",
       "      <td id=\"T_10950_row32_col7\" class=\"data row32 col7\" >0.780000</td>\n",
       "      <td id=\"T_10950_row32_col8\" class=\"data row32 col8\" >64.000000</td>\n",
       "      <td id=\"T_10950_row32_col9\" class=\"data row32 col9\" >64.000000</td>\n",
       "      <td id=\"T_10950_row32_col10\" class=\"data row32 col10\" >16.000000</td>\n",
       "      <td id=\"T_10950_row32_col11\" class=\"data row32 col11\" >Adam</td>\n",
       "    </tr>\n",
       "    <tr>\n",
       "      <th id=\"T_10950_level0_row33\" class=\"row_heading level0 row33\" >40</th>\n",
       "      <td id=\"T_10950_row33_col0\" class=\"data row33 col0\" >13</td>\n",
       "      <td id=\"T_10950_row33_col1\" class=\"data row33 col1\" >1-DANetConfig</td>\n",
       "      <td id=\"T_10950_row33_col2\" class=\"data row33 col2\" >nan</td>\n",
       "      <td id=\"T_10950_row33_col3\" class=\"data row33 col3\" >nan</td>\n",
       "      <td id=\"T_10950_row33_col4\" class=\"data row33 col4\" >nan</td>\n",
       "      <td id=\"T_10950_row33_col5\" class=\"data row33 col5\" >0.590560</td>\n",
       "      <td id=\"T_10950_row33_col6\" class=\"data row33 col6\" >0.590560</td>\n",
       "      <td id=\"T_10950_row33_col7\" class=\"data row33 col7\" >0.778333</td>\n",
       "      <td id=\"T_10950_row33_col8\" class=\"data row33 col8\" >16.000000</td>\n",
       "      <td id=\"T_10950_row33_col9\" class=\"data row33 col9\" >128.000000</td>\n",
       "      <td id=\"T_10950_row33_col10\" class=\"data row33 col10\" >4.000000</td>\n",
       "      <td id=\"T_10950_row33_col11\" class=\"data row33 col11\" >AdamW</td>\n",
       "    </tr>\n",
       "    <tr>\n",
       "      <th id=\"T_10950_level0_row34\" class=\"row_heading level0 row34\" >80</th>\n",
       "      <td id=\"T_10950_row34_col0\" class=\"data row34 col0\" >53</td>\n",
       "      <td id=\"T_10950_row34_col1\" class=\"data row34 col1\" >1-DANetConfig</td>\n",
       "      <td id=\"T_10950_row34_col2\" class=\"data row34 col2\" >nan</td>\n",
       "      <td id=\"T_10950_row34_col3\" class=\"data row34 col3\" >nan</td>\n",
       "      <td id=\"T_10950_row34_col4\" class=\"data row34 col4\" >nan</td>\n",
       "      <td id=\"T_10950_row34_col5\" class=\"data row34 col5\" >0.586918</td>\n",
       "      <td id=\"T_10950_row34_col6\" class=\"data row34 col6\" >0.586918</td>\n",
       "      <td id=\"T_10950_row34_col7\" class=\"data row34 col7\" >0.778333</td>\n",
       "      <td id=\"T_10950_row34_col8\" class=\"data row34 col8\" >64.000000</td>\n",
       "      <td id=\"T_10950_row34_col9\" class=\"data row34 col9\" >128.000000</td>\n",
       "      <td id=\"T_10950_row34_col10\" class=\"data row34 col10\" >16.000000</td>\n",
       "      <td id=\"T_10950_row34_col11\" class=\"data row34 col11\" >AdamW</td>\n",
       "    </tr>\n",
       "    <tr>\n",
       "      <th id=\"T_10950_level0_row35\" class=\"row_heading level0 row35\" >34</th>\n",
       "      <td id=\"T_10950_row35_col0\" class=\"data row35 col0\" >7</td>\n",
       "      <td id=\"T_10950_row35_col1\" class=\"data row35 col1\" >1-DANetConfig</td>\n",
       "      <td id=\"T_10950_row35_col2\" class=\"data row35 col2\" >nan</td>\n",
       "      <td id=\"T_10950_row35_col3\" class=\"data row35 col3\" >nan</td>\n",
       "      <td id=\"T_10950_row35_col4\" class=\"data row35 col4\" >nan</td>\n",
       "      <td id=\"T_10950_row35_col5\" class=\"data row35 col5\" >0.612759</td>\n",
       "      <td id=\"T_10950_row35_col6\" class=\"data row35 col6\" >0.612759</td>\n",
       "      <td id=\"T_10950_row35_col7\" class=\"data row35 col7\" >0.778333</td>\n",
       "      <td id=\"T_10950_row35_col8\" class=\"data row35 col8\" >16.000000</td>\n",
       "      <td id=\"T_10950_row35_col9\" class=\"data row35 col9\" >64.000000</td>\n",
       "      <td id=\"T_10950_row35_col10\" class=\"data row35 col10\" >4.000000</td>\n",
       "      <td id=\"T_10950_row35_col11\" class=\"data row35 col11\" >AdamW</td>\n",
       "    </tr>\n",
       "    <tr>\n",
       "      <th id=\"T_10950_level0_row36\" class=\"row_heading level0 row36\" >3</th>\n",
       "      <td id=\"T_10950_row36_col0\" class=\"data row36 col0\" >3</td>\n",
       "      <td id=\"T_10950_row36_col1\" class=\"data row36 col1\" >0-FTTransformerConfig</td>\n",
       "      <td id=\"T_10950_row36_col2\" class=\"data row36 col2\" >16.000000</td>\n",
       "      <td id=\"T_10950_row36_col3\" class=\"data row36 col3\" >8.000000</td>\n",
       "      <td id=\"T_10950_row36_col4\" class=\"data row36 col4\" >GEGLU</td>\n",
       "      <td id=\"T_10950_row36_col5\" class=\"data row36 col5\" >0.573058</td>\n",
       "      <td id=\"T_10950_row36_col6\" class=\"data row36 col6\" >0.573058</td>\n",
       "      <td id=\"T_10950_row36_col7\" class=\"data row36 col7\" >0.776667</td>\n",
       "      <td id=\"T_10950_row36_col8\" class=\"data row36 col8\" >nan</td>\n",
       "      <td id=\"T_10950_row36_col9\" class=\"data row36 col9\" >nan</td>\n",
       "      <td id=\"T_10950_row36_col10\" class=\"data row36 col10\" >nan</td>\n",
       "      <td id=\"T_10950_row36_col11\" class=\"data row36 col11\" >nan</td>\n",
       "    </tr>\n",
       "    <tr>\n",
       "      <th id=\"T_10950_level0_row37\" class=\"row_heading level0 row37\" >8</th>\n",
       "      <td id=\"T_10950_row37_col0\" class=\"data row37 col0\" >8</td>\n",
       "      <td id=\"T_10950_row37_col1\" class=\"data row37 col1\" >0-FTTransformerConfig</td>\n",
       "      <td id=\"T_10950_row37_col2\" class=\"data row37 col2\" >16.000000</td>\n",
       "      <td id=\"T_10950_row37_col3\" class=\"data row37 col3\" >16.000000</td>\n",
       "      <td id=\"T_10950_row37_col4\" class=\"data row37 col4\" >LeakyReLU</td>\n",
       "      <td id=\"T_10950_row37_col5\" class=\"data row37 col5\" >0.574191</td>\n",
       "      <td id=\"T_10950_row37_col6\" class=\"data row37 col6\" >0.574191</td>\n",
       "      <td id=\"T_10950_row37_col7\" class=\"data row37 col7\" >0.776667</td>\n",
       "      <td id=\"T_10950_row37_col8\" class=\"data row37 col8\" >nan</td>\n",
       "      <td id=\"T_10950_row37_col9\" class=\"data row37 col9\" >nan</td>\n",
       "      <td id=\"T_10950_row37_col10\" class=\"data row37 col10\" >nan</td>\n",
       "      <td id=\"T_10950_row37_col11\" class=\"data row37 col11\" >nan</td>\n",
       "    </tr>\n",
       "    <tr>\n",
       "      <th id=\"T_10950_level0_row38\" class=\"row_heading level0 row38\" >24</th>\n",
       "      <td id=\"T_10950_row38_col0\" class=\"data row38 col0\" >24</td>\n",
       "      <td id=\"T_10950_row38_col1\" class=\"data row38 col1\" >0-FTTransformerConfig</td>\n",
       "      <td id=\"T_10950_row38_col2\" class=\"data row38 col2\" >64.000000</td>\n",
       "      <td id=\"T_10950_row38_col3\" class=\"data row38 col3\" >16.000000</td>\n",
       "      <td id=\"T_10950_row38_col4\" class=\"data row38 col4\" >GEGLU</td>\n",
       "      <td id=\"T_10950_row38_col5\" class=\"data row38 col5\" >0.593012</td>\n",
       "      <td id=\"T_10950_row38_col6\" class=\"data row38 col6\" >0.593012</td>\n",
       "      <td id=\"T_10950_row38_col7\" class=\"data row38 col7\" >0.776667</td>\n",
       "      <td id=\"T_10950_row38_col8\" class=\"data row38 col8\" >nan</td>\n",
       "      <td id=\"T_10950_row38_col9\" class=\"data row38 col9\" >nan</td>\n",
       "      <td id=\"T_10950_row38_col10\" class=\"data row38 col10\" >nan</td>\n",
       "      <td id=\"T_10950_row38_col11\" class=\"data row38 col11\" >nan</td>\n",
       "    </tr>\n",
       "    <tr>\n",
       "      <th id=\"T_10950_level0_row39\" class=\"row_heading level0 row39\" >58</th>\n",
       "      <td id=\"T_10950_row39_col0\" class=\"data row39 col0\" >31</td>\n",
       "      <td id=\"T_10950_row39_col1\" class=\"data row39 col1\" >1-DANetConfig</td>\n",
       "      <td id=\"T_10950_row39_col2\" class=\"data row39 col2\" >nan</td>\n",
       "      <td id=\"T_10950_row39_col3\" class=\"data row39 col3\" >nan</td>\n",
       "      <td id=\"T_10950_row39_col4\" class=\"data row39 col4\" >nan</td>\n",
       "      <td id=\"T_10950_row39_col5\" class=\"data row39 col5\" >0.580698</td>\n",
       "      <td id=\"T_10950_row39_col6\" class=\"data row39 col6\" >0.580698</td>\n",
       "      <td id=\"T_10950_row39_col7\" class=\"data row39 col7\" >0.775000</td>\n",
       "      <td id=\"T_10950_row39_col8\" class=\"data row39 col8\" >32.000000</td>\n",
       "      <td id=\"T_10950_row39_col9\" class=\"data row39 col9\" >128.000000</td>\n",
       "      <td id=\"T_10950_row39_col10\" class=\"data row39 col10\" >4.000000</td>\n",
       "      <td id=\"T_10950_row39_col11\" class=\"data row39 col11\" >AdamW</td>\n",
       "    </tr>\n",
       "    <tr>\n",
       "      <th id=\"T_10950_level0_row40\" class=\"row_heading level0 row40\" >59</th>\n",
       "      <td id=\"T_10950_row40_col0\" class=\"data row40 col0\" >32</td>\n",
       "      <td id=\"T_10950_row40_col1\" class=\"data row40 col1\" >1-DANetConfig</td>\n",
       "      <td id=\"T_10950_row40_col2\" class=\"data row40 col2\" >nan</td>\n",
       "      <td id=\"T_10950_row40_col3\" class=\"data row40 col3\" >nan</td>\n",
       "      <td id=\"T_10950_row40_col4\" class=\"data row40 col4\" >nan</td>\n",
       "      <td id=\"T_10950_row40_col5\" class=\"data row40 col5\" >0.586241</td>\n",
       "      <td id=\"T_10950_row40_col6\" class=\"data row40 col6\" >0.586241</td>\n",
       "      <td id=\"T_10950_row40_col7\" class=\"data row40 col7\" >0.775000</td>\n",
       "      <td id=\"T_10950_row40_col8\" class=\"data row40 col8\" >32.000000</td>\n",
       "      <td id=\"T_10950_row40_col9\" class=\"data row40 col9\" >128.000000</td>\n",
       "      <td id=\"T_10950_row40_col10\" class=\"data row40 col10\" >8.000000</td>\n",
       "      <td id=\"T_10950_row40_col11\" class=\"data row40 col11\" >Adam</td>\n",
       "    </tr>\n",
       "    <tr>\n",
       "      <th id=\"T_10950_level0_row41\" class=\"row_heading level0 row41\" >37</th>\n",
       "      <td id=\"T_10950_row41_col0\" class=\"data row41 col0\" >10</td>\n",
       "      <td id=\"T_10950_row41_col1\" class=\"data row41 col1\" >1-DANetConfig</td>\n",
       "      <td id=\"T_10950_row41_col2\" class=\"data row41 col2\" >nan</td>\n",
       "      <td id=\"T_10950_row41_col3\" class=\"data row41 col3\" >nan</td>\n",
       "      <td id=\"T_10950_row41_col4\" class=\"data row41 col4\" >nan</td>\n",
       "      <td id=\"T_10950_row41_col5\" class=\"data row41 col5\" >0.608282</td>\n",
       "      <td id=\"T_10950_row41_col6\" class=\"data row41 col6\" >0.608282</td>\n",
       "      <td id=\"T_10950_row41_col7\" class=\"data row41 col7\" >0.775000</td>\n",
       "      <td id=\"T_10950_row41_col8\" class=\"data row41 col8\" >16.000000</td>\n",
       "      <td id=\"T_10950_row41_col9\" class=\"data row41 col9\" >64.000000</td>\n",
       "      <td id=\"T_10950_row41_col10\" class=\"data row41 col10\" >16.000000</td>\n",
       "      <td id=\"T_10950_row41_col11\" class=\"data row41 col11\" >Adam</td>\n",
       "    </tr>\n",
       "    <tr>\n",
       "      <th id=\"T_10950_level0_row42\" class=\"row_heading level0 row42\" >42</th>\n",
       "      <td id=\"T_10950_row42_col0\" class=\"data row42 col0\" >15</td>\n",
       "      <td id=\"T_10950_row42_col1\" class=\"data row42 col1\" >1-DANetConfig</td>\n",
       "      <td id=\"T_10950_row42_col2\" class=\"data row42 col2\" >nan</td>\n",
       "      <td id=\"T_10950_row42_col3\" class=\"data row42 col3\" >nan</td>\n",
       "      <td id=\"T_10950_row42_col4\" class=\"data row42 col4\" >nan</td>\n",
       "      <td id=\"T_10950_row42_col5\" class=\"data row42 col5\" >0.582383</td>\n",
       "      <td id=\"T_10950_row42_col6\" class=\"data row42 col6\" >0.582383</td>\n",
       "      <td id=\"T_10950_row42_col7\" class=\"data row42 col7\" >0.775000</td>\n",
       "      <td id=\"T_10950_row42_col8\" class=\"data row42 col8\" >16.000000</td>\n",
       "      <td id=\"T_10950_row42_col9\" class=\"data row42 col9\" >128.000000</td>\n",
       "      <td id=\"T_10950_row42_col10\" class=\"data row42 col10\" >8.000000</td>\n",
       "      <td id=\"T_10950_row42_col11\" class=\"data row42 col11\" >AdamW</td>\n",
       "    </tr>\n",
       "    <tr>\n",
       "      <th id=\"T_10950_level0_row43\" class=\"row_heading level0 row43\" >12</th>\n",
       "      <td id=\"T_10950_row43_col0\" class=\"data row43 col0\" >12</td>\n",
       "      <td id=\"T_10950_row43_col1\" class=\"data row43 col1\" >0-FTTransformerConfig</td>\n",
       "      <td id=\"T_10950_row43_col2\" class=\"data row43 col2\" >32.000000</td>\n",
       "      <td id=\"T_10950_row43_col3\" class=\"data row43 col3\" >8.000000</td>\n",
       "      <td id=\"T_10950_row43_col4\" class=\"data row43 col4\" >GEGLU</td>\n",
       "      <td id=\"T_10950_row43_col5\" class=\"data row43 col5\" >0.586113</td>\n",
       "      <td id=\"T_10950_row43_col6\" class=\"data row43 col6\" >0.586113</td>\n",
       "      <td id=\"T_10950_row43_col7\" class=\"data row43 col7\" >0.775000</td>\n",
       "      <td id=\"T_10950_row43_col8\" class=\"data row43 col8\" >nan</td>\n",
       "      <td id=\"T_10950_row43_col9\" class=\"data row43 col9\" >nan</td>\n",
       "      <td id=\"T_10950_row43_col10\" class=\"data row43 col10\" >nan</td>\n",
       "      <td id=\"T_10950_row43_col11\" class=\"data row43 col11\" >nan</td>\n",
       "    </tr>\n",
       "    <tr>\n",
       "      <th id=\"T_10950_level0_row44\" class=\"row_heading level0 row44\" >44</th>\n",
       "      <td id=\"T_10950_row44_col0\" class=\"data row44 col0\" >17</td>\n",
       "      <td id=\"T_10950_row44_col1\" class=\"data row44 col1\" >1-DANetConfig</td>\n",
       "      <td id=\"T_10950_row44_col2\" class=\"data row44 col2\" >nan</td>\n",
       "      <td id=\"T_10950_row44_col3\" class=\"data row44 col3\" >nan</td>\n",
       "      <td id=\"T_10950_row44_col4\" class=\"data row44 col4\" >nan</td>\n",
       "      <td id=\"T_10950_row44_col5\" class=\"data row44 col5\" >0.566499</td>\n",
       "      <td id=\"T_10950_row44_col6\" class=\"data row44 col6\" >0.566499</td>\n",
       "      <td id=\"T_10950_row44_col7\" class=\"data row44 col7\" >0.773333</td>\n",
       "      <td id=\"T_10950_row44_col8\" class=\"data row44 col8\" >16.000000</td>\n",
       "      <td id=\"T_10950_row44_col9\" class=\"data row44 col9\" >128.000000</td>\n",
       "      <td id=\"T_10950_row44_col10\" class=\"data row44 col10\" >16.000000</td>\n",
       "      <td id=\"T_10950_row44_col11\" class=\"data row44 col11\" >AdamW</td>\n",
       "    </tr>\n",
       "    <tr>\n",
       "      <th id=\"T_10950_level0_row45\" class=\"row_heading level0 row45\" >47</th>\n",
       "      <td id=\"T_10950_row45_col0\" class=\"data row45 col0\" >20</td>\n",
       "      <td id=\"T_10950_row45_col1\" class=\"data row45 col1\" >1-DANetConfig</td>\n",
       "      <td id=\"T_10950_row45_col2\" class=\"data row45 col2\" >nan</td>\n",
       "      <td id=\"T_10950_row45_col3\" class=\"data row45 col3\" >nan</td>\n",
       "      <td id=\"T_10950_row45_col4\" class=\"data row45 col4\" >nan</td>\n",
       "      <td id=\"T_10950_row45_col5\" class=\"data row45 col5\" >0.577737</td>\n",
       "      <td id=\"T_10950_row45_col6\" class=\"data row45 col6\" >0.577737</td>\n",
       "      <td id=\"T_10950_row45_col7\" class=\"data row45 col7\" >0.773333</td>\n",
       "      <td id=\"T_10950_row45_col8\" class=\"data row45 col8\" >32.000000</td>\n",
       "      <td id=\"T_10950_row45_col9\" class=\"data row45 col9\" >32.000000</td>\n",
       "      <td id=\"T_10950_row45_col10\" class=\"data row45 col10\" >8.000000</td>\n",
       "      <td id=\"T_10950_row45_col11\" class=\"data row45 col11\" >Adam</td>\n",
       "    </tr>\n",
       "    <tr>\n",
       "      <th id=\"T_10950_level0_row46\" class=\"row_heading level0 row46\" >23</th>\n",
       "      <td id=\"T_10950_row46_col0\" class=\"data row46 col0\" >23</td>\n",
       "      <td id=\"T_10950_row46_col1\" class=\"data row46 col1\" >0-FTTransformerConfig</td>\n",
       "      <td id=\"T_10950_row46_col2\" class=\"data row46 col2\" >64.000000</td>\n",
       "      <td id=\"T_10950_row46_col3\" class=\"data row46 col3\" >8.000000</td>\n",
       "      <td id=\"T_10950_row46_col4\" class=\"data row46 col4\" >LeakyReLU</td>\n",
       "      <td id=\"T_10950_row46_col5\" class=\"data row46 col5\" >0.561919</td>\n",
       "      <td id=\"T_10950_row46_col6\" class=\"data row46 col6\" >0.561919</td>\n",
       "      <td id=\"T_10950_row46_col7\" class=\"data row46 col7\" >0.773333</td>\n",
       "      <td id=\"T_10950_row46_col8\" class=\"data row46 col8\" >nan</td>\n",
       "      <td id=\"T_10950_row46_col9\" class=\"data row46 col9\" >nan</td>\n",
       "      <td id=\"T_10950_row46_col10\" class=\"data row46 col10\" >nan</td>\n",
       "      <td id=\"T_10950_row46_col11\" class=\"data row46 col11\" >nan</td>\n",
       "    </tr>\n",
       "    <tr>\n",
       "      <th id=\"T_10950_level0_row47\" class=\"row_heading level0 row47\" >5</th>\n",
       "      <td id=\"T_10950_row47_col0\" class=\"data row47 col0\" >5</td>\n",
       "      <td id=\"T_10950_row47_col1\" class=\"data row47 col1\" >0-FTTransformerConfig</td>\n",
       "      <td id=\"T_10950_row47_col2\" class=\"data row47 col2\" >16.000000</td>\n",
       "      <td id=\"T_10950_row47_col3\" class=\"data row47 col3\" >8.000000</td>\n",
       "      <td id=\"T_10950_row47_col4\" class=\"data row47 col4\" >LeakyReLU</td>\n",
       "      <td id=\"T_10950_row47_col5\" class=\"data row47 col5\" >0.533581</td>\n",
       "      <td id=\"T_10950_row47_col6\" class=\"data row47 col6\" >0.533581</td>\n",
       "      <td id=\"T_10950_row47_col7\" class=\"data row47 col7\" >0.771667</td>\n",
       "      <td id=\"T_10950_row47_col8\" class=\"data row47 col8\" >nan</td>\n",
       "      <td id=\"T_10950_row47_col9\" class=\"data row47 col9\" >nan</td>\n",
       "      <td id=\"T_10950_row47_col10\" class=\"data row47 col10\" >nan</td>\n",
       "      <td id=\"T_10950_row47_col11\" class=\"data row47 col11\" >nan</td>\n",
       "    </tr>\n",
       "    <tr>\n",
       "      <th id=\"T_10950_level0_row48\" class=\"row_heading level0 row48\" >65</th>\n",
       "      <td id=\"T_10950_row48_col0\" class=\"data row48 col0\" >38</td>\n",
       "      <td id=\"T_10950_row48_col1\" class=\"data row48 col1\" >1-DANetConfig</td>\n",
       "      <td id=\"T_10950_row48_col2\" class=\"data row48 col2\" >nan</td>\n",
       "      <td id=\"T_10950_row48_col3\" class=\"data row48 col3\" >nan</td>\n",
       "      <td id=\"T_10950_row48_col4\" class=\"data row48 col4\" >nan</td>\n",
       "      <td id=\"T_10950_row48_col5\" class=\"data row48 col5\" >0.607498</td>\n",
       "      <td id=\"T_10950_row48_col6\" class=\"data row48 col6\" >0.607498</td>\n",
       "      <td id=\"T_10950_row48_col7\" class=\"data row48 col7\" >0.771667</td>\n",
       "      <td id=\"T_10950_row48_col8\" class=\"data row48 col8\" >64.000000</td>\n",
       "      <td id=\"T_10950_row48_col9\" class=\"data row48 col9\" >32.000000</td>\n",
       "      <td id=\"T_10950_row48_col10\" class=\"data row48 col10\" >8.000000</td>\n",
       "      <td id=\"T_10950_row48_col11\" class=\"data row48 col11\" >Adam</td>\n",
       "    </tr>\n",
       "    <tr>\n",
       "      <th id=\"T_10950_level0_row49\" class=\"row_heading level0 row49\" >43</th>\n",
       "      <td id=\"T_10950_row49_col0\" class=\"data row49 col0\" >16</td>\n",
       "      <td id=\"T_10950_row49_col1\" class=\"data row49 col1\" >1-DANetConfig</td>\n",
       "      <td id=\"T_10950_row49_col2\" class=\"data row49 col2\" >nan</td>\n",
       "      <td id=\"T_10950_row49_col3\" class=\"data row49 col3\" >nan</td>\n",
       "      <td id=\"T_10950_row49_col4\" class=\"data row49 col4\" >nan</td>\n",
       "      <td id=\"T_10950_row49_col5\" class=\"data row49 col5\" >0.578076</td>\n",
       "      <td id=\"T_10950_row49_col6\" class=\"data row49 col6\" >0.578076</td>\n",
       "      <td id=\"T_10950_row49_col7\" class=\"data row49 col7\" >0.770000</td>\n",
       "      <td id=\"T_10950_row49_col8\" class=\"data row49 col8\" >16.000000</td>\n",
       "      <td id=\"T_10950_row49_col9\" class=\"data row49 col9\" >128.000000</td>\n",
       "      <td id=\"T_10950_row49_col10\" class=\"data row49 col10\" >16.000000</td>\n",
       "      <td id=\"T_10950_row49_col11\" class=\"data row49 col11\" >Adam</td>\n",
       "    </tr>\n",
       "    <tr>\n",
       "      <th id=\"T_10950_level0_row50\" class=\"row_heading level0 row50\" >60</th>\n",
       "      <td id=\"T_10950_row50_col0\" class=\"data row50 col0\" >33</td>\n",
       "      <td id=\"T_10950_row50_col1\" class=\"data row50 col1\" >1-DANetConfig</td>\n",
       "      <td id=\"T_10950_row50_col2\" class=\"data row50 col2\" >nan</td>\n",
       "      <td id=\"T_10950_row50_col3\" class=\"data row50 col3\" >nan</td>\n",
       "      <td id=\"T_10950_row50_col4\" class=\"data row50 col4\" >nan</td>\n",
       "      <td id=\"T_10950_row50_col5\" class=\"data row50 col5\" >0.616285</td>\n",
       "      <td id=\"T_10950_row50_col6\" class=\"data row50 col6\" >0.616285</td>\n",
       "      <td id=\"T_10950_row50_col7\" class=\"data row50 col7\" >0.768333</td>\n",
       "      <td id=\"T_10950_row50_col8\" class=\"data row50 col8\" >32.000000</td>\n",
       "      <td id=\"T_10950_row50_col9\" class=\"data row50 col9\" >128.000000</td>\n",
       "      <td id=\"T_10950_row50_col10\" class=\"data row50 col10\" >8.000000</td>\n",
       "      <td id=\"T_10950_row50_col11\" class=\"data row50 col11\" >AdamW</td>\n",
       "    </tr>\n",
       "    <tr>\n",
       "      <th id=\"T_10950_level0_row51\" class=\"row_heading level0 row51\" >35</th>\n",
       "      <td id=\"T_10950_row51_col0\" class=\"data row51 col0\" >8</td>\n",
       "      <td id=\"T_10950_row51_col1\" class=\"data row51 col1\" >1-DANetConfig</td>\n",
       "      <td id=\"T_10950_row51_col2\" class=\"data row51 col2\" >nan</td>\n",
       "      <td id=\"T_10950_row51_col3\" class=\"data row51 col3\" >nan</td>\n",
       "      <td id=\"T_10950_row51_col4\" class=\"data row51 col4\" >nan</td>\n",
       "      <td id=\"T_10950_row51_col5\" class=\"data row51 col5\" >0.561154</td>\n",
       "      <td id=\"T_10950_row51_col6\" class=\"data row51 col6\" >0.561154</td>\n",
       "      <td id=\"T_10950_row51_col7\" class=\"data row51 col7\" >0.768333</td>\n",
       "      <td id=\"T_10950_row51_col8\" class=\"data row51 col8\" >16.000000</td>\n",
       "      <td id=\"T_10950_row51_col9\" class=\"data row51 col9\" >64.000000</td>\n",
       "      <td id=\"T_10950_row51_col10\" class=\"data row51 col10\" >8.000000</td>\n",
       "      <td id=\"T_10950_row51_col11\" class=\"data row51 col11\" >Adam</td>\n",
       "    </tr>\n",
       "    <tr>\n",
       "      <th id=\"T_10950_level0_row52\" class=\"row_heading level0 row52\" >39</th>\n",
       "      <td id=\"T_10950_row52_col0\" class=\"data row52 col0\" >12</td>\n",
       "      <td id=\"T_10950_row52_col1\" class=\"data row52 col1\" >1-DANetConfig</td>\n",
       "      <td id=\"T_10950_row52_col2\" class=\"data row52 col2\" >nan</td>\n",
       "      <td id=\"T_10950_row52_col3\" class=\"data row52 col3\" >nan</td>\n",
       "      <td id=\"T_10950_row52_col4\" class=\"data row52 col4\" >nan</td>\n",
       "      <td id=\"T_10950_row52_col5\" class=\"data row52 col5\" >0.694725</td>\n",
       "      <td id=\"T_10950_row52_col6\" class=\"data row52 col6\" >0.694725</td>\n",
       "      <td id=\"T_10950_row52_col7\" class=\"data row52 col7\" >0.768333</td>\n",
       "      <td id=\"T_10950_row52_col8\" class=\"data row52 col8\" >16.000000</td>\n",
       "      <td id=\"T_10950_row52_col9\" class=\"data row52 col9\" >128.000000</td>\n",
       "      <td id=\"T_10950_row52_col10\" class=\"data row52 col10\" >4.000000</td>\n",
       "      <td id=\"T_10950_row52_col11\" class=\"data row52 col11\" >Adam</td>\n",
       "    </tr>\n",
       "    <tr>\n",
       "      <th id=\"T_10950_level0_row53\" class=\"row_heading level0 row53\" >66</th>\n",
       "      <td id=\"T_10950_row53_col0\" class=\"data row53 col0\" >39</td>\n",
       "      <td id=\"T_10950_row53_col1\" class=\"data row53 col1\" >1-DANetConfig</td>\n",
       "      <td id=\"T_10950_row53_col2\" class=\"data row53 col2\" >nan</td>\n",
       "      <td id=\"T_10950_row53_col3\" class=\"data row53 col3\" >nan</td>\n",
       "      <td id=\"T_10950_row53_col4\" class=\"data row53 col4\" >nan</td>\n",
       "      <td id=\"T_10950_row53_col5\" class=\"data row53 col5\" >0.620977</td>\n",
       "      <td id=\"T_10950_row53_col6\" class=\"data row53 col6\" >0.620977</td>\n",
       "      <td id=\"T_10950_row53_col7\" class=\"data row53 col7\" >0.766667</td>\n",
       "      <td id=\"T_10950_row53_col8\" class=\"data row53 col8\" >64.000000</td>\n",
       "      <td id=\"T_10950_row53_col9\" class=\"data row53 col9\" >32.000000</td>\n",
       "      <td id=\"T_10950_row53_col10\" class=\"data row53 col10\" >8.000000</td>\n",
       "      <td id=\"T_10950_row53_col11\" class=\"data row53 col11\" >AdamW</td>\n",
       "    </tr>\n",
       "    <tr>\n",
       "      <th id=\"T_10950_level0_row54\" class=\"row_heading level0 row54\" >54</th>\n",
       "      <td id=\"T_10950_row54_col0\" class=\"data row54 col0\" >27</td>\n",
       "      <td id=\"T_10950_row54_col1\" class=\"data row54 col1\" >1-DANetConfig</td>\n",
       "      <td id=\"T_10950_row54_col2\" class=\"data row54 col2\" >nan</td>\n",
       "      <td id=\"T_10950_row54_col3\" class=\"data row54 col3\" >nan</td>\n",
       "      <td id=\"T_10950_row54_col4\" class=\"data row54 col4\" >nan</td>\n",
       "      <td id=\"T_10950_row54_col5\" class=\"data row54 col5\" >0.591437</td>\n",
       "      <td id=\"T_10950_row54_col6\" class=\"data row54 col6\" >0.591437</td>\n",
       "      <td id=\"T_10950_row54_col7\" class=\"data row54 col7\" >0.766667</td>\n",
       "      <td id=\"T_10950_row54_col8\" class=\"data row54 col8\" >32.000000</td>\n",
       "      <td id=\"T_10950_row54_col9\" class=\"data row54 col9\" >64.000000</td>\n",
       "      <td id=\"T_10950_row54_col10\" class=\"data row54 col10\" >8.000000</td>\n",
       "      <td id=\"T_10950_row54_col11\" class=\"data row54 col11\" >AdamW</td>\n",
       "    </tr>\n",
       "    <tr>\n",
       "      <th id=\"T_10950_level0_row55\" class=\"row_heading level0 row55\" >50</th>\n",
       "      <td id=\"T_10950_row55_col0\" class=\"data row55 col0\" >23</td>\n",
       "      <td id=\"T_10950_row55_col1\" class=\"data row55 col1\" >1-DANetConfig</td>\n",
       "      <td id=\"T_10950_row55_col2\" class=\"data row55 col2\" >nan</td>\n",
       "      <td id=\"T_10950_row55_col3\" class=\"data row55 col3\" >nan</td>\n",
       "      <td id=\"T_10950_row55_col4\" class=\"data row55 col4\" >nan</td>\n",
       "      <td id=\"T_10950_row55_col5\" class=\"data row55 col5\" >0.593630</td>\n",
       "      <td id=\"T_10950_row55_col6\" class=\"data row55 col6\" >0.593630</td>\n",
       "      <td id=\"T_10950_row55_col7\" class=\"data row55 col7\" >0.766667</td>\n",
       "      <td id=\"T_10950_row55_col8\" class=\"data row55 col8\" >32.000000</td>\n",
       "      <td id=\"T_10950_row55_col9\" class=\"data row55 col9\" >32.000000</td>\n",
       "      <td id=\"T_10950_row55_col10\" class=\"data row55 col10\" >16.000000</td>\n",
       "      <td id=\"T_10950_row55_col11\" class=\"data row55 col11\" >AdamW</td>\n",
       "    </tr>\n",
       "    <tr>\n",
       "      <th id=\"T_10950_level0_row56\" class=\"row_heading level0 row56\" >9</th>\n",
       "      <td id=\"T_10950_row56_col0\" class=\"data row56 col0\" >9</td>\n",
       "      <td id=\"T_10950_row56_col1\" class=\"data row56 col1\" >0-FTTransformerConfig</td>\n",
       "      <td id=\"T_10950_row56_col2\" class=\"data row56 col2\" >32.000000</td>\n",
       "      <td id=\"T_10950_row56_col3\" class=\"data row56 col3\" >4.000000</td>\n",
       "      <td id=\"T_10950_row56_col4\" class=\"data row56 col4\" >GEGLU</td>\n",
       "      <td id=\"T_10950_row56_col5\" class=\"data row56 col5\" >0.613278</td>\n",
       "      <td id=\"T_10950_row56_col6\" class=\"data row56 col6\" >0.613278</td>\n",
       "      <td id=\"T_10950_row56_col7\" class=\"data row56 col7\" >0.766667</td>\n",
       "      <td id=\"T_10950_row56_col8\" class=\"data row56 col8\" >nan</td>\n",
       "      <td id=\"T_10950_row56_col9\" class=\"data row56 col9\" >nan</td>\n",
       "      <td id=\"T_10950_row56_col10\" class=\"data row56 col10\" >nan</td>\n",
       "      <td id=\"T_10950_row56_col11\" class=\"data row56 col11\" >nan</td>\n",
       "    </tr>\n",
       "    <tr>\n",
       "      <th id=\"T_10950_level0_row57\" class=\"row_heading level0 row57\" >10</th>\n",
       "      <td id=\"T_10950_row57_col0\" class=\"data row57 col0\" >10</td>\n",
       "      <td id=\"T_10950_row57_col1\" class=\"data row57 col1\" >0-FTTransformerConfig</td>\n",
       "      <td id=\"T_10950_row57_col2\" class=\"data row57 col2\" >32.000000</td>\n",
       "      <td id=\"T_10950_row57_col3\" class=\"data row57 col3\" >4.000000</td>\n",
       "      <td id=\"T_10950_row57_col4\" class=\"data row57 col4\" >ReLU</td>\n",
       "      <td id=\"T_10950_row57_col5\" class=\"data row57 col5\" >0.622241</td>\n",
       "      <td id=\"T_10950_row57_col6\" class=\"data row57 col6\" >0.622241</td>\n",
       "      <td id=\"T_10950_row57_col7\" class=\"data row57 col7\" >0.765000</td>\n",
       "      <td id=\"T_10950_row57_col8\" class=\"data row57 col8\" >nan</td>\n",
       "      <td id=\"T_10950_row57_col9\" class=\"data row57 col9\" >nan</td>\n",
       "      <td id=\"T_10950_row57_col10\" class=\"data row57 col10\" >nan</td>\n",
       "      <td id=\"T_10950_row57_col11\" class=\"data row57 col11\" >nan</td>\n",
       "    </tr>\n",
       "    <tr>\n",
       "      <th id=\"T_10950_level0_row58\" class=\"row_heading level0 row58\" >36</th>\n",
       "      <td id=\"T_10950_row58_col0\" class=\"data row58 col0\" >9</td>\n",
       "      <td id=\"T_10950_row58_col1\" class=\"data row58 col1\" >1-DANetConfig</td>\n",
       "      <td id=\"T_10950_row58_col2\" class=\"data row58 col2\" >nan</td>\n",
       "      <td id=\"T_10950_row58_col3\" class=\"data row58 col3\" >nan</td>\n",
       "      <td id=\"T_10950_row58_col4\" class=\"data row58 col4\" >nan</td>\n",
       "      <td id=\"T_10950_row58_col5\" class=\"data row58 col5\" >0.607293</td>\n",
       "      <td id=\"T_10950_row58_col6\" class=\"data row58 col6\" >0.607293</td>\n",
       "      <td id=\"T_10950_row58_col7\" class=\"data row58 col7\" >0.765000</td>\n",
       "      <td id=\"T_10950_row58_col8\" class=\"data row58 col8\" >16.000000</td>\n",
       "      <td id=\"T_10950_row58_col9\" class=\"data row58 col9\" >64.000000</td>\n",
       "      <td id=\"T_10950_row58_col10\" class=\"data row58 col10\" >8.000000</td>\n",
       "      <td id=\"T_10950_row58_col11\" class=\"data row58 col11\" >AdamW</td>\n",
       "    </tr>\n",
       "    <tr>\n",
       "      <th id=\"T_10950_level0_row59\" class=\"row_heading level0 row59\" >72</th>\n",
       "      <td id=\"T_10950_row59_col0\" class=\"data row59 col0\" >45</td>\n",
       "      <td id=\"T_10950_row59_col1\" class=\"data row59 col1\" >1-DANetConfig</td>\n",
       "      <td id=\"T_10950_row59_col2\" class=\"data row59 col2\" >nan</td>\n",
       "      <td id=\"T_10950_row59_col3\" class=\"data row59 col3\" >nan</td>\n",
       "      <td id=\"T_10950_row59_col4\" class=\"data row59 col4\" >nan</td>\n",
       "      <td id=\"T_10950_row59_col5\" class=\"data row59 col5\" >0.569514</td>\n",
       "      <td id=\"T_10950_row59_col6\" class=\"data row59 col6\" >0.569514</td>\n",
       "      <td id=\"T_10950_row59_col7\" class=\"data row59 col7\" >0.765000</td>\n",
       "      <td id=\"T_10950_row59_col8\" class=\"data row59 col8\" >64.000000</td>\n",
       "      <td id=\"T_10950_row59_col9\" class=\"data row59 col9\" >64.000000</td>\n",
       "      <td id=\"T_10950_row59_col10\" class=\"data row59 col10\" >8.000000</td>\n",
       "      <td id=\"T_10950_row59_col11\" class=\"data row59 col11\" >AdamW</td>\n",
       "    </tr>\n",
       "    <tr>\n",
       "      <th id=\"T_10950_level0_row60\" class=\"row_heading level0 row60\" >79</th>\n",
       "      <td id=\"T_10950_row60_col0\" class=\"data row60 col0\" >52</td>\n",
       "      <td id=\"T_10950_row60_col1\" class=\"data row60 col1\" >1-DANetConfig</td>\n",
       "      <td id=\"T_10950_row60_col2\" class=\"data row60 col2\" >nan</td>\n",
       "      <td id=\"T_10950_row60_col3\" class=\"data row60 col3\" >nan</td>\n",
       "      <td id=\"T_10950_row60_col4\" class=\"data row60 col4\" >nan</td>\n",
       "      <td id=\"T_10950_row60_col5\" class=\"data row60 col5\" >0.607492</td>\n",
       "      <td id=\"T_10950_row60_col6\" class=\"data row60 col6\" >0.607492</td>\n",
       "      <td id=\"T_10950_row60_col7\" class=\"data row60 col7\" >0.763333</td>\n",
       "      <td id=\"T_10950_row60_col8\" class=\"data row60 col8\" >64.000000</td>\n",
       "      <td id=\"T_10950_row60_col9\" class=\"data row60 col9\" >128.000000</td>\n",
       "      <td id=\"T_10950_row60_col10\" class=\"data row60 col10\" >16.000000</td>\n",
       "      <td id=\"T_10950_row60_col11\" class=\"data row60 col11\" >Adam</td>\n",
       "    </tr>\n",
       "    <tr>\n",
       "      <th id=\"T_10950_level0_row61\" class=\"row_heading level0 row61\" >14</th>\n",
       "      <td id=\"T_10950_row61_col0\" class=\"data row61 col0\" >14</td>\n",
       "      <td id=\"T_10950_row61_col1\" class=\"data row61 col1\" >0-FTTransformerConfig</td>\n",
       "      <td id=\"T_10950_row61_col2\" class=\"data row61 col2\" >32.000000</td>\n",
       "      <td id=\"T_10950_row61_col3\" class=\"data row61 col3\" >8.000000</td>\n",
       "      <td id=\"T_10950_row61_col4\" class=\"data row61 col4\" >LeakyReLU</td>\n",
       "      <td id=\"T_10950_row61_col5\" class=\"data row61 col5\" >0.599037</td>\n",
       "      <td id=\"T_10950_row61_col6\" class=\"data row61 col6\" >0.599037</td>\n",
       "      <td id=\"T_10950_row61_col7\" class=\"data row61 col7\" >0.763333</td>\n",
       "      <td id=\"T_10950_row61_col8\" class=\"data row61 col8\" >nan</td>\n",
       "      <td id=\"T_10950_row61_col9\" class=\"data row61 col9\" >nan</td>\n",
       "      <td id=\"T_10950_row61_col10\" class=\"data row61 col10\" >nan</td>\n",
       "      <td id=\"T_10950_row61_col11\" class=\"data row61 col11\" >nan</td>\n",
       "    </tr>\n",
       "    <tr>\n",
       "      <th id=\"T_10950_level0_row62\" class=\"row_heading level0 row62\" >77</th>\n",
       "      <td id=\"T_10950_row62_col0\" class=\"data row62 col0\" >50</td>\n",
       "      <td id=\"T_10950_row62_col1\" class=\"data row62 col1\" >1-DANetConfig</td>\n",
       "      <td id=\"T_10950_row62_col2\" class=\"data row62 col2\" >nan</td>\n",
       "      <td id=\"T_10950_row62_col3\" class=\"data row62 col3\" >nan</td>\n",
       "      <td id=\"T_10950_row62_col4\" class=\"data row62 col4\" >nan</td>\n",
       "      <td id=\"T_10950_row62_col5\" class=\"data row62 col5\" >0.646495</td>\n",
       "      <td id=\"T_10950_row62_col6\" class=\"data row62 col6\" >0.646495</td>\n",
       "      <td id=\"T_10950_row62_col7\" class=\"data row62 col7\" >0.760000</td>\n",
       "      <td id=\"T_10950_row62_col8\" class=\"data row62 col8\" >64.000000</td>\n",
       "      <td id=\"T_10950_row62_col9\" class=\"data row62 col9\" >128.000000</td>\n",
       "      <td id=\"T_10950_row62_col10\" class=\"data row62 col10\" >8.000000</td>\n",
       "      <td id=\"T_10950_row62_col11\" class=\"data row62 col11\" >Adam</td>\n",
       "    </tr>\n",
       "    <tr>\n",
       "      <th id=\"T_10950_level0_row63\" class=\"row_heading level0 row63\" >57</th>\n",
       "      <td id=\"T_10950_row63_col0\" class=\"data row63 col0\" >30</td>\n",
       "      <td id=\"T_10950_row63_col1\" class=\"data row63 col1\" >1-DANetConfig</td>\n",
       "      <td id=\"T_10950_row63_col2\" class=\"data row63 col2\" >nan</td>\n",
       "      <td id=\"T_10950_row63_col3\" class=\"data row63 col3\" >nan</td>\n",
       "      <td id=\"T_10950_row63_col4\" class=\"data row63 col4\" >nan</td>\n",
       "      <td id=\"T_10950_row63_col5\" class=\"data row63 col5\" >0.695212</td>\n",
       "      <td id=\"T_10950_row63_col6\" class=\"data row63 col6\" >0.695212</td>\n",
       "      <td id=\"T_10950_row63_col7\" class=\"data row63 col7\" >0.760000</td>\n",
       "      <td id=\"T_10950_row63_col8\" class=\"data row63 col8\" >32.000000</td>\n",
       "      <td id=\"T_10950_row63_col9\" class=\"data row63 col9\" >128.000000</td>\n",
       "      <td id=\"T_10950_row63_col10\" class=\"data row63 col10\" >4.000000</td>\n",
       "      <td id=\"T_10950_row63_col11\" class=\"data row63 col11\" >Adam</td>\n",
       "    </tr>\n",
       "    <tr>\n",
       "      <th id=\"T_10950_level0_row64\" class=\"row_heading level0 row64\" >51</th>\n",
       "      <td id=\"T_10950_row64_col0\" class=\"data row64 col0\" >24</td>\n",
       "      <td id=\"T_10950_row64_col1\" class=\"data row64 col1\" >1-DANetConfig</td>\n",
       "      <td id=\"T_10950_row64_col2\" class=\"data row64 col2\" >nan</td>\n",
       "      <td id=\"T_10950_row64_col3\" class=\"data row64 col3\" >nan</td>\n",
       "      <td id=\"T_10950_row64_col4\" class=\"data row64 col4\" >nan</td>\n",
       "      <td id=\"T_10950_row64_col5\" class=\"data row64 col5\" >0.598014</td>\n",
       "      <td id=\"T_10950_row64_col6\" class=\"data row64 col6\" >0.598014</td>\n",
       "      <td id=\"T_10950_row64_col7\" class=\"data row64 col7\" >0.760000</td>\n",
       "      <td id=\"T_10950_row64_col8\" class=\"data row64 col8\" >32.000000</td>\n",
       "      <td id=\"T_10950_row64_col9\" class=\"data row64 col9\" >64.000000</td>\n",
       "      <td id=\"T_10950_row64_col10\" class=\"data row64 col10\" >4.000000</td>\n",
       "      <td id=\"T_10950_row64_col11\" class=\"data row64 col11\" >Adam</td>\n",
       "    </tr>\n",
       "    <tr>\n",
       "      <th id=\"T_10950_level0_row65\" class=\"row_heading level0 row65\" >2</th>\n",
       "      <td id=\"T_10950_row65_col0\" class=\"data row65 col0\" >2</td>\n",
       "      <td id=\"T_10950_row65_col1\" class=\"data row65 col1\" >0-FTTransformerConfig</td>\n",
       "      <td id=\"T_10950_row65_col2\" class=\"data row65 col2\" >16.000000</td>\n",
       "      <td id=\"T_10950_row65_col3\" class=\"data row65 col3\" >4.000000</td>\n",
       "      <td id=\"T_10950_row65_col4\" class=\"data row65 col4\" >LeakyReLU</td>\n",
       "      <td id=\"T_10950_row65_col5\" class=\"data row65 col5\" >0.590706</td>\n",
       "      <td id=\"T_10950_row65_col6\" class=\"data row65 col6\" >0.590706</td>\n",
       "      <td id=\"T_10950_row65_col7\" class=\"data row65 col7\" >0.760000</td>\n",
       "      <td id=\"T_10950_row65_col8\" class=\"data row65 col8\" >nan</td>\n",
       "      <td id=\"T_10950_row65_col9\" class=\"data row65 col9\" >nan</td>\n",
       "      <td id=\"T_10950_row65_col10\" class=\"data row65 col10\" >nan</td>\n",
       "      <td id=\"T_10950_row65_col11\" class=\"data row65 col11\" >nan</td>\n",
       "    </tr>\n",
       "    <tr>\n",
       "      <th id=\"T_10950_level0_row66\" class=\"row_heading level0 row66\" >20</th>\n",
       "      <td id=\"T_10950_row66_col0\" class=\"data row66 col0\" >20</td>\n",
       "      <td id=\"T_10950_row66_col1\" class=\"data row66 col1\" >0-FTTransformerConfig</td>\n",
       "      <td id=\"T_10950_row66_col2\" class=\"data row66 col2\" >64.000000</td>\n",
       "      <td id=\"T_10950_row66_col3\" class=\"data row66 col3\" >4.000000</td>\n",
       "      <td id=\"T_10950_row66_col4\" class=\"data row66 col4\" >LeakyReLU</td>\n",
       "      <td id=\"T_10950_row66_col5\" class=\"data row66 col5\" >0.617056</td>\n",
       "      <td id=\"T_10950_row66_col6\" class=\"data row66 col6\" >0.617056</td>\n",
       "      <td id=\"T_10950_row66_col7\" class=\"data row66 col7\" >0.758333</td>\n",
       "      <td id=\"T_10950_row66_col8\" class=\"data row66 col8\" >nan</td>\n",
       "      <td id=\"T_10950_row66_col9\" class=\"data row66 col9\" >nan</td>\n",
       "      <td id=\"T_10950_row66_col10\" class=\"data row66 col10\" >nan</td>\n",
       "      <td id=\"T_10950_row66_col11\" class=\"data row66 col11\" >nan</td>\n",
       "    </tr>\n",
       "    <tr>\n",
       "      <th id=\"T_10950_level0_row67\" class=\"row_heading level0 row67\" >22</th>\n",
       "      <td id=\"T_10950_row67_col0\" class=\"data row67 col0\" >22</td>\n",
       "      <td id=\"T_10950_row67_col1\" class=\"data row67 col1\" >0-FTTransformerConfig</td>\n",
       "      <td id=\"T_10950_row67_col2\" class=\"data row67 col2\" >64.000000</td>\n",
       "      <td id=\"T_10950_row67_col3\" class=\"data row67 col3\" >8.000000</td>\n",
       "      <td id=\"T_10950_row67_col4\" class=\"data row67 col4\" >ReLU</td>\n",
       "      <td id=\"T_10950_row67_col5\" class=\"data row67 col5\" >0.638694</td>\n",
       "      <td id=\"T_10950_row67_col6\" class=\"data row67 col6\" >0.638694</td>\n",
       "      <td id=\"T_10950_row67_col7\" class=\"data row67 col7\" >0.758333</td>\n",
       "      <td id=\"T_10950_row67_col8\" class=\"data row67 col8\" >nan</td>\n",
       "      <td id=\"T_10950_row67_col9\" class=\"data row67 col9\" >nan</td>\n",
       "      <td id=\"T_10950_row67_col10\" class=\"data row67 col10\" >nan</td>\n",
       "      <td id=\"T_10950_row67_col11\" class=\"data row67 col11\" >nan</td>\n",
       "    </tr>\n",
       "    <tr>\n",
       "      <th id=\"T_10950_level0_row68\" class=\"row_heading level0 row68\" >19</th>\n",
       "      <td id=\"T_10950_row68_col0\" class=\"data row68 col0\" >19</td>\n",
       "      <td id=\"T_10950_row68_col1\" class=\"data row68 col1\" >0-FTTransformerConfig</td>\n",
       "      <td id=\"T_10950_row68_col2\" class=\"data row68 col2\" >64.000000</td>\n",
       "      <td id=\"T_10950_row68_col3\" class=\"data row68 col3\" >4.000000</td>\n",
       "      <td id=\"T_10950_row68_col4\" class=\"data row68 col4\" >ReLU</td>\n",
       "      <td id=\"T_10950_row68_col5\" class=\"data row68 col5\" >0.618401</td>\n",
       "      <td id=\"T_10950_row68_col6\" class=\"data row68 col6\" >0.618401</td>\n",
       "      <td id=\"T_10950_row68_col7\" class=\"data row68 col7\" >0.756667</td>\n",
       "      <td id=\"T_10950_row68_col8\" class=\"data row68 col8\" >nan</td>\n",
       "      <td id=\"T_10950_row68_col9\" class=\"data row68 col9\" >nan</td>\n",
       "      <td id=\"T_10950_row68_col10\" class=\"data row68 col10\" >nan</td>\n",
       "      <td id=\"T_10950_row68_col11\" class=\"data row68 col11\" >nan</td>\n",
       "    </tr>\n",
       "    <tr>\n",
       "      <th id=\"T_10950_level0_row69\" class=\"row_heading level0 row69\" >38</th>\n",
       "      <td id=\"T_10950_row69_col0\" class=\"data row69 col0\" >11</td>\n",
       "      <td id=\"T_10950_row69_col1\" class=\"data row69 col1\" >1-DANetConfig</td>\n",
       "      <td id=\"T_10950_row69_col2\" class=\"data row69 col2\" >nan</td>\n",
       "      <td id=\"T_10950_row69_col3\" class=\"data row69 col3\" >nan</td>\n",
       "      <td id=\"T_10950_row69_col4\" class=\"data row69 col4\" >nan</td>\n",
       "      <td id=\"T_10950_row69_col5\" class=\"data row69 col5\" >0.628547</td>\n",
       "      <td id=\"T_10950_row69_col6\" class=\"data row69 col6\" >0.628547</td>\n",
       "      <td id=\"T_10950_row69_col7\" class=\"data row69 col7\" >0.756667</td>\n",
       "      <td id=\"T_10950_row69_col8\" class=\"data row69 col8\" >16.000000</td>\n",
       "      <td id=\"T_10950_row69_col9\" class=\"data row69 col9\" >64.000000</td>\n",
       "      <td id=\"T_10950_row69_col10\" class=\"data row69 col10\" >16.000000</td>\n",
       "      <td id=\"T_10950_row69_col11\" class=\"data row69 col11\" >AdamW</td>\n",
       "    </tr>\n",
       "    <tr>\n",
       "      <th id=\"T_10950_level0_row70\" class=\"row_heading level0 row70\" >13</th>\n",
       "      <td id=\"T_10950_row70_col0\" class=\"data row70 col0\" >13</td>\n",
       "      <td id=\"T_10950_row70_col1\" class=\"data row70 col1\" >0-FTTransformerConfig</td>\n",
       "      <td id=\"T_10950_row70_col2\" class=\"data row70 col2\" >32.000000</td>\n",
       "      <td id=\"T_10950_row70_col3\" class=\"data row70 col3\" >8.000000</td>\n",
       "      <td id=\"T_10950_row70_col4\" class=\"data row70 col4\" >ReLU</td>\n",
       "      <td id=\"T_10950_row70_col5\" class=\"data row70 col5\" >0.683127</td>\n",
       "      <td id=\"T_10950_row70_col6\" class=\"data row70 col6\" >0.683127</td>\n",
       "      <td id=\"T_10950_row70_col7\" class=\"data row70 col7\" >0.756667</td>\n",
       "      <td id=\"T_10950_row70_col8\" class=\"data row70 col8\" >nan</td>\n",
       "      <td id=\"T_10950_row70_col9\" class=\"data row70 col9\" >nan</td>\n",
       "      <td id=\"T_10950_row70_col10\" class=\"data row70 col10\" >nan</td>\n",
       "      <td id=\"T_10950_row70_col11\" class=\"data row70 col11\" >nan</td>\n",
       "    </tr>\n",
       "    <tr>\n",
       "      <th id=\"T_10950_level0_row71\" class=\"row_heading level0 row71\" >0</th>\n",
       "      <td id=\"T_10950_row71_col0\" class=\"data row71 col0\" >0</td>\n",
       "      <td id=\"T_10950_row71_col1\" class=\"data row71 col1\" >0-FTTransformerConfig</td>\n",
       "      <td id=\"T_10950_row71_col2\" class=\"data row71 col2\" >16.000000</td>\n",
       "      <td id=\"T_10950_row71_col3\" class=\"data row71 col3\" >4.000000</td>\n",
       "      <td id=\"T_10950_row71_col4\" class=\"data row71 col4\" >GEGLU</td>\n",
       "      <td id=\"T_10950_row71_col5\" class=\"data row71 col5\" >0.643527</td>\n",
       "      <td id=\"T_10950_row71_col6\" class=\"data row71 col6\" >0.643527</td>\n",
       "      <td id=\"T_10950_row71_col7\" class=\"data row71 col7\" >0.755000</td>\n",
       "      <td id=\"T_10950_row71_col8\" class=\"data row71 col8\" >nan</td>\n",
       "      <td id=\"T_10950_row71_col9\" class=\"data row71 col9\" >nan</td>\n",
       "      <td id=\"T_10950_row71_col10\" class=\"data row71 col10\" >nan</td>\n",
       "      <td id=\"T_10950_row71_col11\" class=\"data row71 col11\" >nan</td>\n",
       "    </tr>\n",
       "    <tr>\n",
       "      <th id=\"T_10950_level0_row72\" class=\"row_heading level0 row72\" >41</th>\n",
       "      <td id=\"T_10950_row72_col0\" class=\"data row72 col0\" >14</td>\n",
       "      <td id=\"T_10950_row72_col1\" class=\"data row72 col1\" >1-DANetConfig</td>\n",
       "      <td id=\"T_10950_row72_col2\" class=\"data row72 col2\" >nan</td>\n",
       "      <td id=\"T_10950_row72_col3\" class=\"data row72 col3\" >nan</td>\n",
       "      <td id=\"T_10950_row72_col4\" class=\"data row72 col4\" >nan</td>\n",
       "      <td id=\"T_10950_row72_col5\" class=\"data row72 col5\" >0.676522</td>\n",
       "      <td id=\"T_10950_row72_col6\" class=\"data row72 col6\" >0.676522</td>\n",
       "      <td id=\"T_10950_row72_col7\" class=\"data row72 col7\" >0.753333</td>\n",
       "      <td id=\"T_10950_row72_col8\" class=\"data row72 col8\" >16.000000</td>\n",
       "      <td id=\"T_10950_row72_col9\" class=\"data row72 col9\" >128.000000</td>\n",
       "      <td id=\"T_10950_row72_col10\" class=\"data row72 col10\" >8.000000</td>\n",
       "      <td id=\"T_10950_row72_col11\" class=\"data row72 col11\" >Adam</td>\n",
       "    </tr>\n",
       "    <tr>\n",
       "      <th id=\"T_10950_level0_row73\" class=\"row_heading level0 row73\" >78</th>\n",
       "      <td id=\"T_10950_row73_col0\" class=\"data row73 col0\" >51</td>\n",
       "      <td id=\"T_10950_row73_col1\" class=\"data row73 col1\" >1-DANetConfig</td>\n",
       "      <td id=\"T_10950_row73_col2\" class=\"data row73 col2\" >nan</td>\n",
       "      <td id=\"T_10950_row73_col3\" class=\"data row73 col3\" >nan</td>\n",
       "      <td id=\"T_10950_row73_col4\" class=\"data row73 col4\" >nan</td>\n",
       "      <td id=\"T_10950_row73_col5\" class=\"data row73 col5\" >0.704498</td>\n",
       "      <td id=\"T_10950_row73_col6\" class=\"data row73 col6\" >0.704498</td>\n",
       "      <td id=\"T_10950_row73_col7\" class=\"data row73 col7\" >0.750000</td>\n",
       "      <td id=\"T_10950_row73_col8\" class=\"data row73 col8\" >64.000000</td>\n",
       "      <td id=\"T_10950_row73_col9\" class=\"data row73 col9\" >128.000000</td>\n",
       "      <td id=\"T_10950_row73_col10\" class=\"data row73 col10\" >8.000000</td>\n",
       "      <td id=\"T_10950_row73_col11\" class=\"data row73 col11\" >AdamW</td>\n",
       "    </tr>\n",
       "    <tr>\n",
       "      <th id=\"T_10950_level0_row74\" class=\"row_heading level0 row74\" >6</th>\n",
       "      <td id=\"T_10950_row74_col0\" class=\"data row74 col0\" >6</td>\n",
       "      <td id=\"T_10950_row74_col1\" class=\"data row74 col1\" >0-FTTransformerConfig</td>\n",
       "      <td id=\"T_10950_row74_col2\" class=\"data row74 col2\" >16.000000</td>\n",
       "      <td id=\"T_10950_row74_col3\" class=\"data row74 col3\" >16.000000</td>\n",
       "      <td id=\"T_10950_row74_col4\" class=\"data row74 col4\" >GEGLU</td>\n",
       "      <td id=\"T_10950_row74_col5\" class=\"data row74 col5\" >0.701355</td>\n",
       "      <td id=\"T_10950_row74_col6\" class=\"data row74 col6\" >0.701355</td>\n",
       "      <td id=\"T_10950_row74_col7\" class=\"data row74 col7\" >0.748333</td>\n",
       "      <td id=\"T_10950_row74_col8\" class=\"data row74 col8\" >nan</td>\n",
       "      <td id=\"T_10950_row74_col9\" class=\"data row74 col9\" >nan</td>\n",
       "      <td id=\"T_10950_row74_col10\" class=\"data row74 col10\" >nan</td>\n",
       "      <td id=\"T_10950_row74_col11\" class=\"data row74 col11\" >nan</td>\n",
       "    </tr>\n",
       "    <tr>\n",
       "      <th id=\"T_10950_level0_row75\" class=\"row_heading level0 row75\" >75</th>\n",
       "      <td id=\"T_10950_row75_col0\" class=\"data row75 col0\" >48</td>\n",
       "      <td id=\"T_10950_row75_col1\" class=\"data row75 col1\" >1-DANetConfig</td>\n",
       "      <td id=\"T_10950_row75_col2\" class=\"data row75 col2\" >nan</td>\n",
       "      <td id=\"T_10950_row75_col3\" class=\"data row75 col3\" >nan</td>\n",
       "      <td id=\"T_10950_row75_col4\" class=\"data row75 col4\" >nan</td>\n",
       "      <td id=\"T_10950_row75_col5\" class=\"data row75 col5\" >0.694456</td>\n",
       "      <td id=\"T_10950_row75_col6\" class=\"data row75 col6\" >0.694456</td>\n",
       "      <td id=\"T_10950_row75_col7\" class=\"data row75 col7\" >0.738333</td>\n",
       "      <td id=\"T_10950_row75_col8\" class=\"data row75 col8\" >64.000000</td>\n",
       "      <td id=\"T_10950_row75_col9\" class=\"data row75 col9\" >128.000000</td>\n",
       "      <td id=\"T_10950_row75_col10\" class=\"data row75 col10\" >4.000000</td>\n",
       "      <td id=\"T_10950_row75_col11\" class=\"data row75 col11\" >Adam</td>\n",
       "    </tr>\n",
       "    <tr>\n",
       "      <th id=\"T_10950_level0_row76\" class=\"row_heading level0 row76\" >18</th>\n",
       "      <td id=\"T_10950_row76_col0\" class=\"data row76 col0\" >18</td>\n",
       "      <td id=\"T_10950_row76_col1\" class=\"data row76 col1\" >0-FTTransformerConfig</td>\n",
       "      <td id=\"T_10950_row76_col2\" class=\"data row76 col2\" >64.000000</td>\n",
       "      <td id=\"T_10950_row76_col3\" class=\"data row76 col3\" >4.000000</td>\n",
       "      <td id=\"T_10950_row76_col4\" class=\"data row76 col4\" >GEGLU</td>\n",
       "      <td id=\"T_10950_row76_col5\" class=\"data row76 col5\" >0.655721</td>\n",
       "      <td id=\"T_10950_row76_col6\" class=\"data row76 col6\" >0.655721</td>\n",
       "      <td id=\"T_10950_row76_col7\" class=\"data row76 col7\" >0.738333</td>\n",
       "      <td id=\"T_10950_row76_col8\" class=\"data row76 col8\" >nan</td>\n",
       "      <td id=\"T_10950_row76_col9\" class=\"data row76 col9\" >nan</td>\n",
       "      <td id=\"T_10950_row76_col10\" class=\"data row76 col10\" >nan</td>\n",
       "      <td id=\"T_10950_row76_col11\" class=\"data row76 col11\" >nan</td>\n",
       "    </tr>\n",
       "    <tr>\n",
       "      <th id=\"T_10950_level0_row77\" class=\"row_heading level0 row77\" >68</th>\n",
       "      <td id=\"T_10950_row77_col0\" class=\"data row77 col0\" >41</td>\n",
       "      <td id=\"T_10950_row77_col1\" class=\"data row77 col1\" >1-DANetConfig</td>\n",
       "      <td id=\"T_10950_row77_col2\" class=\"data row77 col2\" >nan</td>\n",
       "      <td id=\"T_10950_row77_col3\" class=\"data row77 col3\" >nan</td>\n",
       "      <td id=\"T_10950_row77_col4\" class=\"data row77 col4\" >nan</td>\n",
       "      <td id=\"T_10950_row77_col5\" class=\"data row77 col5\" >0.725769</td>\n",
       "      <td id=\"T_10950_row77_col6\" class=\"data row77 col6\" >0.725769</td>\n",
       "      <td id=\"T_10950_row77_col7\" class=\"data row77 col7\" >0.723333</td>\n",
       "      <td id=\"T_10950_row77_col8\" class=\"data row77 col8\" >64.000000</td>\n",
       "      <td id=\"T_10950_row77_col9\" class=\"data row77 col9\" >32.000000</td>\n",
       "      <td id=\"T_10950_row77_col10\" class=\"data row77 col10\" >16.000000</td>\n",
       "      <td id=\"T_10950_row77_col11\" class=\"data row77 col11\" >AdamW</td>\n",
       "    </tr>\n",
       "    <tr>\n",
       "      <th id=\"T_10950_level0_row78\" class=\"row_heading level0 row78\" >56</th>\n",
       "      <td id=\"T_10950_row78_col0\" class=\"data row78 col0\" >29</td>\n",
       "      <td id=\"T_10950_row78_col1\" class=\"data row78 col1\" >1-DANetConfig</td>\n",
       "      <td id=\"T_10950_row78_col2\" class=\"data row78 col2\" >nan</td>\n",
       "      <td id=\"T_10950_row78_col3\" class=\"data row78 col3\" >nan</td>\n",
       "      <td id=\"T_10950_row78_col4\" class=\"data row78 col4\" >nan</td>\n",
       "      <td id=\"T_10950_row78_col5\" class=\"data row78 col5\" >1.010402</td>\n",
       "      <td id=\"T_10950_row78_col6\" class=\"data row78 col6\" >1.010402</td>\n",
       "      <td id=\"T_10950_row78_col7\" class=\"data row78 col7\" >0.623333</td>\n",
       "      <td id=\"T_10950_row78_col8\" class=\"data row78 col8\" >32.000000</td>\n",
       "      <td id=\"T_10950_row78_col9\" class=\"data row78 col9\" >64.000000</td>\n",
       "      <td id=\"T_10950_row78_col10\" class=\"data row78 col10\" >16.000000</td>\n",
       "      <td id=\"T_10950_row78_col11\" class=\"data row78 col11\" >AdamW</td>\n",
       "    </tr>\n",
       "    <tr>\n",
       "      <th id=\"T_10950_level0_row79\" class=\"row_heading level0 row79\" >33</th>\n",
       "      <td id=\"T_10950_row79_col0\" class=\"data row79 col0\" >6</td>\n",
       "      <td id=\"T_10950_row79_col1\" class=\"data row79 col1\" >1-DANetConfig</td>\n",
       "      <td id=\"T_10950_row79_col2\" class=\"data row79 col2\" >nan</td>\n",
       "      <td id=\"T_10950_row79_col3\" class=\"data row79 col3\" >nan</td>\n",
       "      <td id=\"T_10950_row79_col4\" class=\"data row79 col4\" >nan</td>\n",
       "      <td id=\"T_10950_row79_col5\" class=\"data row79 col5\" >1.625251</td>\n",
       "      <td id=\"T_10950_row79_col6\" class=\"data row79 col6\" >1.625251</td>\n",
       "      <td id=\"T_10950_row79_col7\" class=\"data row79 col7\" >0.221667</td>\n",
       "      <td id=\"T_10950_row79_col8\" class=\"data row79 col8\" >16.000000</td>\n",
       "      <td id=\"T_10950_row79_col9\" class=\"data row79 col9\" >64.000000</td>\n",
       "      <td id=\"T_10950_row79_col10\" class=\"data row79 col10\" >4.000000</td>\n",
       "      <td id=\"T_10950_row79_col11\" class=\"data row79 col11\" >Adam</td>\n",
       "    </tr>\n",
       "    <tr>\n",
       "      <th id=\"T_10950_level0_row80\" class=\"row_heading level0 row80\" >11</th>\n",
       "      <td id=\"T_10950_row80_col0\" class=\"data row80 col0\" >11</td>\n",
       "      <td id=\"T_10950_row80_col1\" class=\"data row80 col1\" >0-FTTransformerConfig</td>\n",
       "      <td id=\"T_10950_row80_col2\" class=\"data row80 col2\" >32.000000</td>\n",
       "      <td id=\"T_10950_row80_col3\" class=\"data row80 col3\" >4.000000</td>\n",
       "      <td id=\"T_10950_row80_col4\" class=\"data row80 col4\" >LeakyReLU</td>\n",
       "      <td id=\"T_10950_row80_col5\" class=\"data row80 col5\" >1.613707</td>\n",
       "      <td id=\"T_10950_row80_col6\" class=\"data row80 col6\" >1.613707</td>\n",
       "      <td id=\"T_10950_row80_col7\" class=\"data row80 col7\" >0.211667</td>\n",
       "      <td id=\"T_10950_row80_col8\" class=\"data row80 col8\" >nan</td>\n",
       "      <td id=\"T_10950_row80_col9\" class=\"data row80 col9\" >nan</td>\n",
       "      <td id=\"T_10950_row80_col10\" class=\"data row80 col10\" >nan</td>\n",
       "      <td id=\"T_10950_row80_col11\" class=\"data row80 col11\" >nan</td>\n",
       "    </tr>\n",
       "  </tbody>\n",
       "</table>\n"
      ],
      "text/plain": [
       "<pandas.io.formats.style.Styler at 0x73cba6ac6800>"
      ]
     },
     "execution_count": 22,
     "metadata": {},
     "output_type": "execute_result"
    }
   ],
   "source": [
    "if model_type == 'regressor':\n",
    "    tuner_df.trials_df['test_rmse'] = np.sqrt(tuner_df.trials_df['mean_squared_error'])\n",
    "\n",
    "tuner_df.trials_df.sort_values('accuracy' if model_type == 'classifier' else 'loss', ascending=False if model_type == 'classifier' else True).style.background_gradient(\n",
    "    subset=['accuracy' if model_type == 'classifier' else 'loss'], cmap='RdYlGn'\n",
    ").background_gradient(subset=['loss'], cmap='RdYlGn_r')"
   ]
  },
  {
   "cell_type": "code",
   "execution_count": 23,
   "id": "ce42d06c-2825-41b5-8aef-45592e63b125",
   "metadata": {},
   "outputs": [
    {
     "data": {
      "text/html": [
       "<pre style=\"white-space:pre;overflow-x:auto;line-height:normal;font-family:Menlo,'DejaVu Sans Mono',consolas,'Courier New',monospace\">┏━━━━━━━━━━━━━━━━━━━━━━━━━━━┳━━━━━━━━━━━━━━━━━━━━━━━━━━━┓\n",
       "┃<span style=\"font-weight: bold\">        Test metric        </span>┃<span style=\"font-weight: bold\">       DataLoader 0        </span>┃\n",
       "┡━━━━━━━━━━━━━━━━━━━━━━━━━━━╇━━━━━━━━━━━━━━━━━━━━━━━━━━━┩\n",
       "│<span style=\"color: #008080; text-decoration-color: #008080\">       test_accuracy       </span>│<span style=\"color: #800080; text-decoration-color: #800080\">    0.8199999928474426     </span>│\n",
       "│<span style=\"color: #008080; text-decoration-color: #008080\">         test_loss         </span>│<span style=\"color: #800080; text-decoration-color: #800080\">    0.5129860639572144     </span>│\n",
       "│<span style=\"color: #008080; text-decoration-color: #008080\">        test_loss_0        </span>│<span style=\"color: #800080; text-decoration-color: #800080\">    0.5129860639572144     </span>│\n",
       "└───────────────────────────┴───────────────────────────┘\n",
       "</pre>\n"
      ],
      "text/plain": [
       "┏━━━━━━━━━━━━━━━━━━━━━━━━━━━┳━━━━━━━━━━━━━━━━━━━━━━━━━━━┓\n",
       "┃\u001b[1m \u001b[0m\u001b[1m       Test metric       \u001b[0m\u001b[1m \u001b[0m┃\u001b[1m \u001b[0m\u001b[1m      DataLoader 0       \u001b[0m\u001b[1m \u001b[0m┃\n",
       "┡━━━━━━━━━━━━━━━━━━━━━━━━━━━╇━━━━━━━━━━━━━━━━━━━━━━━━━━━┩\n",
       "│\u001b[36m \u001b[0m\u001b[36m      test_accuracy      \u001b[0m\u001b[36m \u001b[0m│\u001b[35m \u001b[0m\u001b[35m   0.8199999928474426    \u001b[0m\u001b[35m \u001b[0m│\n",
       "│\u001b[36m \u001b[0m\u001b[36m        test_loss        \u001b[0m\u001b[36m \u001b[0m│\u001b[35m \u001b[0m\u001b[35m   0.5129860639572144    \u001b[0m\u001b[35m \u001b[0m│\n",
       "│\u001b[36m \u001b[0m\u001b[36m       test_loss_0       \u001b[0m\u001b[36m \u001b[0m│\u001b[35m \u001b[0m\u001b[35m   0.5129860639572144    \u001b[0m\u001b[35m \u001b[0m│\n",
       "└───────────────────────────┴───────────────────────────┘\n"
      ]
     },
     "metadata": {},
     "output_type": "display_data"
    },
    {
     "data": {
      "text/plain": [
       "[{'test_loss_0': 0.5129860639572144,\n",
       "  'test_loss': 0.5129860639572144,\n",
       "  'test_accuracy': 0.8199999928474426}]"
      ]
     },
     "execution_count": 23,
     "metadata": {},
     "output_type": "execute_result"
    }
   ],
   "source": [
    "tuner_df.best_model.evaluate(test)"
   ]
  },
  {
   "cell_type": "markdown",
   "id": "469ada1e-32bf-45fa-94a1-d8b96976cadd",
   "metadata": {},
   "source": [
    "### Save Model"
   ]
  },
  {
   "cell_type": "code",
   "execution_count": 24,
   "id": "5c6a3a42-831a-499c-afe0-18b4a3796e14",
   "metadata": {},
   "outputs": [
    {
     "data": {
      "text/html": [
       "<pre style=\"white-space:pre;overflow-x:auto;line-height:normal;font-family:Menlo,'DejaVu Sans Mono',consolas,'Courier New',monospace\"><span style=\"color: #008080; text-decoration-color: #008080; font-weight: bold\">2025</span>-<span style=\"color: #008080; text-decoration-color: #008080; font-weight: bold\">02</span>-<span style=\"color: #008080; text-decoration-color: #008080; font-weight: bold\">26</span> <span style=\"color: #00ff00; text-decoration-color: #00ff00; font-weight: bold\">11:02:14</span>,<span style=\"color: #008080; text-decoration-color: #008080; font-weight: bold\">973</span> - <span style=\"font-weight: bold\">{</span>pytorch_tabular.tabular_model:<span style=\"color: #008080; text-decoration-color: #008080; font-weight: bold\">1575</span><span style=\"font-weight: bold\">}</span> - WARNING - Directory is not empty. Overwriting the \n",
       "contents.                                                                                                          \n",
       "</pre>\n"
      ],
      "text/plain": [
       "\u001b[1;36m2025\u001b[0m-\u001b[1;36m02\u001b[0m-\u001b[1;36m26\u001b[0m \u001b[1;92m11:02:14\u001b[0m,\u001b[1;36m973\u001b[0m - \u001b[1m{\u001b[0mpytorch_tabular.tabular_model:\u001b[1;36m1575\u001b[0m\u001b[1m}\u001b[0m - WARNING - Directory is not empty. Overwriting the \n",
       "contents.                                                                                                          \n"
      ]
     },
     "metadata": {},
     "output_type": "display_data"
    }
   ],
   "source": [
    "tuner_df.best_model.save_model('results/best_model_tuner_pytorch_tabular', inference_only=True)\n",
    "\n",
    "# Save columns names and informations\n",
    "data_to_save = {\n",
    "    'col_names_order': col_names_order,\n",
    "    'num_col_names': num_col_names,\n",
    "    'cat_col_names': cat_col_names,\n",
    "    'date_col_names': date_col_names,\n",
    "    'target_cols': target_cols,\n",
    "    'category_mappings': category_mappings,\n",
    "    'window_size': window_size\n",
    "}\n",
    "with open('results/columns_metadata_tuner_pytorch_tabular.json', 'w') as json_file:\n",
    "    json.dump(data_to_save, json_file, indent=4)"
   ]
  },
  {
   "cell_type": "markdown",
   "id": "ac33e785-fd8d-49ef-a218-cbb4c230926b",
   "metadata": {},
   "source": [
    "## Predict\n",
    "Precisar estar no formato DataFrame do Pandas com os nomes das colunas que participaram do treinamento para passar para o modelo fazer inferência."
   ]
  },
  {
   "cell_type": "code",
   "execution_count": 25,
   "id": "492b39f6-c227-42b3-9d90-0454b4ff2702",
   "metadata": {},
   "outputs": [],
   "source": [
    "import time\n",
    "import json\n",
    "import pickle\n",
    "\n",
    "import pandas as pd\n",
    "from pytorch_tabular import TabularModel"
   ]
  },
  {
   "cell_type": "code",
   "execution_count": 27,
   "id": "b435d08f-dfaf-4245-b90e-62aeab0170bc",
   "metadata": {},
   "outputs": [
    {
     "data": {
      "text/html": [
       "<pre style=\"white-space:pre;overflow-x:auto;line-height:normal;font-family:Menlo,'DejaVu Sans Mono',consolas,'Courier New',monospace\"><span style=\"color: #008080; text-decoration-color: #008080; font-weight: bold\">2025</span>-<span style=\"color: #008080; text-decoration-color: #008080; font-weight: bold\">02</span>-<span style=\"color: #008080; text-decoration-color: #008080; font-weight: bold\">26</span> <span style=\"color: #00ff00; text-decoration-color: #00ff00; font-weight: bold\">11:03:26</span>,<span style=\"color: #008080; text-decoration-color: #008080; font-weight: bold\">855</span> - <span style=\"font-weight: bold\">{</span>pytorch_tabular.tabular_model:<span style=\"color: #008080; text-decoration-color: #008080; font-weight: bold\">171</span><span style=\"font-weight: bold\">}</span> - INFO - Experiment Tracking is turned off           \n",
       "</pre>\n"
      ],
      "text/plain": [
       "\u001b[1;36m2025\u001b[0m-\u001b[1;36m02\u001b[0m-\u001b[1;36m26\u001b[0m \u001b[1;92m11:03:26\u001b[0m,\u001b[1;36m855\u001b[0m - \u001b[1m{\u001b[0mpytorch_tabular.tabular_model:\u001b[1;36m171\u001b[0m\u001b[1m}\u001b[0m - INFO - Experiment Tracking is turned off           \n"
      ]
     },
     "metadata": {},
     "output_type": "display_data"
    },
    {
     "data": {
      "text/html": [
       "<pre style=\"white-space:pre;overflow-x:auto;line-height:normal;font-family:Menlo,'DejaVu Sans Mono',consolas,'Courier New',monospace\"><span style=\"color: #008080; text-decoration-color: #008080; font-weight: bold\">2025</span>-<span style=\"color: #008080; text-decoration-color: #008080; font-weight: bold\">02</span>-<span style=\"color: #008080; text-decoration-color: #008080; font-weight: bold\">26</span> <span style=\"color: #00ff00; text-decoration-color: #00ff00; font-weight: bold\">11:03:26</span>,<span style=\"color: #008080; text-decoration-color: #008080; font-weight: bold\">858</span> - <span style=\"font-weight: bold\">{</span>pytorch_tabular.tabular_model:<span style=\"color: #008080; text-decoration-color: #008080; font-weight: bold\">342</span><span style=\"font-weight: bold\">}</span> - INFO - Preparing the Trainer                       \n",
       "</pre>\n"
      ],
      "text/plain": [
       "\u001b[1;36m2025\u001b[0m-\u001b[1;36m02\u001b[0m-\u001b[1;36m26\u001b[0m \u001b[1;92m11:03:26\u001b[0m,\u001b[1;36m858\u001b[0m - \u001b[1m{\u001b[0mpytorch_tabular.tabular_model:\u001b[1;36m342\u001b[0m\u001b[1m}\u001b[0m - INFO - Preparing the Trainer                       \n"
      ]
     },
     "metadata": {},
     "output_type": "display_data"
    }
   ],
   "source": [
    "loaded_model = TabularModel.load_model('results/best_model_tuner_pytorch_tabular')\n",
    "\n",
    "# columns_metadata\n",
    "columns_metadata = json.load(open('results/columns_metadata_tuner_pytorch_tabular.json', 'r'))"
   ]
  },
  {
   "cell_type": "code",
   "execution_count": 28,
   "id": "2a175d2a-3751-4f41-b636-7571d0fb0b05",
   "metadata": {},
   "outputs": [],
   "source": [
    "def preprocess_inference_data(new_input, columns_metadata, scaler=None):\n",
    "    \"\"\"\n",
    "    Preprocess the input data for inference based on metadata and scaler for numeric normalization.\n",
    "\n",
    "    Args:\n",
    "        new_input (list of list): Data to preprocess (each inner list is a row).\n",
    "        columns_metadata (dict): Metadata defining column names, types, mappings, and order.\n",
    "        scaler (StandardScaler): Trained scaler for numerical columns.\n",
    "    \n",
    "    Returns:\n",
    "        list: Preprocessed data ready for inference.\n",
    "    \"\"\"\n",
    "    # Exclude target columns from col_names_order for inference\n",
    "    target_cols = columns_metadata['target_cols']\n",
    "    col_names_order = [col for col in columns_metadata['col_names_order'] if col not in target_cols]\n",
    "    # Transform the new_input into a DataFrame with the correct column order\n",
    "    df_input = pd.DataFrame(new_input, columns=col_names_order)\n",
    "\n",
    "    # Convert categorical columns based on category_mappings\n",
    "    category_mappings = columns_metadata['category_mappings']\n",
    "    for col in columns_metadata['cat_col_names']:\n",
    "        if col in df_input.columns and col in category_mappings:\n",
    "            # Replace string categories with mapped integer IDs\n",
    "            df_input[col] = df_input[col].map(category_mappings[col])\n",
    "            if df_input[col].isnull().any():\n",
    "                raise ValueError(f'Invalid value found in column \"{col}\" that is not in the category mappings.')\n",
    "\n",
    "    # Normalize numeric columns using the trained scaler\n",
    "    num_col_names = columns_metadata['num_col_names']\n",
    "    if num_col_names and scaler:\n",
    "        df_input[num_col_names] = scaler.transform(df_input[num_col_names])\n",
    "\n",
    "    # Ensure date columns are in the correct datetime format\n",
    "    for col in columns_metadata['date_col_names']:\n",
    "        if col in df_input.columns:\n",
    "            df_input[col] = pd.to_datetime(df_input[col], errors='coerce')\n",
    "            if df_input[col].isnull().any():\n",
    "                raise ValueError(f'Invalid date value found in column \"{col}\".')\n",
    "\n",
    "    # Drop target columns if they exist in the input (not used in inference)\n",
    "    target_cols = columns_metadata['target_cols']\n",
    "    df_input = df_input.drop(columns=target_cols, errors='ignore')\n",
    "\n",
    "    # Convert DataFrame to list of rows for model inference\n",
    "    #processed_data = df_input.values.tolist()\n",
    "\n",
    "    return df_input"
   ]
  },
  {
   "cell_type": "code",
   "execution_count": 29,
   "id": "66ba333b-12ec-4b67-900d-174386a0fc73",
   "metadata": {
    "scrolled": true
   },
   "outputs": [
    {
     "data": {
      "text/html": [
       "<div>\n",
       "<style scoped>\n",
       "    .dataframe tbody tr th:only-of-type {\n",
       "        vertical-align: middle;\n",
       "    }\n",
       "\n",
       "    .dataframe tbody tr th {\n",
       "        vertical-align: top;\n",
       "    }\n",
       "\n",
       "    .dataframe thead th {\n",
       "        text-align: right;\n",
       "    }\n",
       "</style>\n",
       "<table border=\"1\" class=\"dataframe\">\n",
       "  <thead>\n",
       "    <tr style=\"text-align: right;\">\n",
       "      <th></th>\n",
       "      <th>feature_1</th>\n",
       "      <th>feature_2</th>\n",
       "      <th>feature_3</th>\n",
       "      <th>feature_4</th>\n",
       "      <th>feature_5</th>\n",
       "      <th>feature_6</th>\n",
       "      <th>feature_7</th>\n",
       "      <th>feature_8</th>\n",
       "    </tr>\n",
       "  </thead>\n",
       "  <tbody>\n",
       "    <tr>\n",
       "      <th>0</th>\n",
       "      <td>66.770774</td>\n",
       "      <td>0</td>\n",
       "      <td>129.519443</td>\n",
       "      <td>157.649826</td>\n",
       "      <td>6.255495</td>\n",
       "      <td>0.828523</td>\n",
       "      <td>1.1</td>\n",
       "      <td>0.656228</td>\n",
       "    </tr>\n",
       "  </tbody>\n",
       "</table>\n",
       "</div>"
      ],
      "text/plain": [
       "   feature_1  feature_2   feature_3   feature_4  feature_5  feature_6  \\\n",
       "0  66.770774          0  129.519443  157.649826   6.255495   0.828523   \n",
       "\n",
       "   feature_7  feature_8  \n",
       "0        1.1   0.656228  "
      ]
     },
     "execution_count": 29,
     "metadata": {},
     "output_type": "execute_result"
    }
   ],
   "source": [
    "new_input = [\n",
    "    [66.770774, 'A', 129.519443, 157.649826, 6.255495, 0.828523, 1.10, 0.656228]  # target type_4\n",
    "]\n",
    "new_input_preprocessed = preprocess_inference_data(new_input, columns_metadata)\n",
    "new_input_preprocessed"
   ]
  },
  {
   "cell_type": "code",
   "execution_count": 30,
   "id": "51a4dcaa-0235-4d44-aa84-7a4f156c9eb5",
   "metadata": {},
   "outputs": [],
   "source": [
    "target = columns_metadata['target_cols'][0]\n",
    "clss_to_cat = {}\n",
    "if target in columns_metadata['category_mappings']:\n",
    "    for key, value in columns_metadata['category_mappings'][target].items():\n",
    "        clss_to_cat[value] = key"
   ]
  },
  {
   "cell_type": "code",
   "execution_count": 31,
   "id": "c4f33da5-9543-4263-8637-80f491d7a14e",
   "metadata": {},
   "outputs": [
    {
     "name": "stdout",
     "output_type": "stream",
     "text": [
      "type_4\n",
      "Total time: 0.12233686447143555\n"
     ]
    }
   ],
   "source": [
    "tic = time.time()\n",
    "result = loaded_model.predict(new_input_preprocessed)\n",
    "if clss_to_cat:\n",
    "    result = clss_to_cat[result['target_prediction'][0]]\n",
    "print(result)\n",
    "print(f'Total time: {time.time() - tic}')"
   ]
  }
 ],
 "metadata": {
  "kernelspec": {
   "display_name": "Python 3 (ipykernel)",
   "language": "python",
   "name": "python3"
  },
  "language_info": {
   "codemirror_mode": {
    "name": "ipython",
    "version": 3
   },
   "file_extension": ".py",
   "mimetype": "text/x-python",
   "name": "python",
   "nbconvert_exporter": "python",
   "pygments_lexer": "ipython3",
   "version": "3.10.13"
  }
 },
 "nbformat": 4,
 "nbformat_minor": 5
}
