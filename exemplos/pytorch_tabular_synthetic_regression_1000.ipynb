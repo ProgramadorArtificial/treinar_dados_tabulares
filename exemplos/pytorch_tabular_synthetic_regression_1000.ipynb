{
 "cells": [
  {
   "cell_type": "markdown",
   "id": "bbab0916-5eca-48ac-ab1f-24cf9e0a26e1",
   "metadata": {},
   "source": [
    "# Pytorch Tabular\n",
    "Notebook pensando para facilitar e agiliar o treinamento de Deep Learning, sendo necessário, em grande parte das vezes, somente alterar o caminho do dataset e o tipo (classificador ou regressão). Assim como, quais arquiteturas serão utilizado para buscar os melhores hiperparâmetros."
   ]
  },
  {
   "cell_type": "code",
   "execution_count": 1,
   "id": "dab7ad7e-a0eb-440c-8de0-0b7339e55a49",
   "metadata": {},
   "outputs": [],
   "source": [
    "import warnings\n",
    "warnings.filterwarnings('ignore')\n",
    "\n",
    "import time\n",
    "import math\n",
    "import json\n",
    "\n",
    "import numpy as np\n",
    "import pandas as pd\n",
    "from sklearn.preprocessing import LabelEncoder\n",
    "\n",
    "# Pytorch Tabular\n",
    "from pytorch_tabular.config import (\n",
    "    DataConfig,\n",
    "    OptimizerConfig,\n",
    "    TrainerConfig,\n",
    ")"
   ]
  },
  {
   "cell_type": "markdown",
   "id": "ab280318-1eb7-470e-80d2-d62cffda931a",
   "metadata": {},
   "source": [
    "## Preparar Dataset"
   ]
  },
  {
   "cell_type": "code",
   "execution_count": 2,
   "id": "faa6c036-d86a-473a-8df0-b160a6ad90ba",
   "metadata": {},
   "outputs": [],
   "source": [
    "def preprocess_data(df, target_cols, max_unique_values=10, window_size=1):\n",
    "    \"\"\"\n",
    "    Preprocess dataset, converting string columns to number and identifying numeric, categorical, and date columns.\n",
    "    Adds a window of historical rows to the data.\n",
    "\n",
    "    Args:\n",
    "        df (DataFrame): DataFrame with data to analyze.\n",
    "        target_cols (list): All target columns to not add in numeric, categorical, or date feature lists.\n",
    "        max_unique_values (int): Maximum number of unique values to consider a numeric column as categorical.\n",
    "        window_size (int): Number of previous rows to include for each row.\n",
    "\n",
    "    Returns:\n",
    "        df_copy (DataFrame): Processed DataFrame with transformations applied.\n",
    "        num_col_names (list): List of numeric feature column names.\n",
    "        cat_col_names (list): List of categorical feature column names.\n",
    "        date_col_names (list): List of date feature column names.\n",
    "        mappings (dict): Mapping of original categorical values (or target columns) to transformed numeric values.\n",
    "    \"\"\"\n",
    "    # Create a copy so as not to alter the original DataFrame\n",
    "    df_copy = df.copy()\n",
    "\n",
    "    # Remove lines with null values\n",
    "    df_copy = df_copy.dropna()\n",
    "    \n",
    "    # Identify categorical and numeric columns\n",
    "    cat_col_names = df_copy.select_dtypes(include=['object', 'category']).columns.tolist()\n",
    "    num_col_names = df_copy.select_dtypes(include=['number']).columns.tolist()\n",
    "    date_col_names = []\n",
    "\n",
    "    # Identify columns that are dates\n",
    "    for col in df.columns:\n",
    "        if df[col].dtype in ['object', 'string']:  # Only check object/string columns\n",
    "            try:\n",
    "                # Attempt to convert the column to datetime\n",
    "                pd.to_datetime(df[col], errors='raise')\n",
    "                if col not in target_cols:  # Avoid considering target columns as date columns\n",
    "                    date_col_names.append(col)\n",
    "            except (ValueError, TypeError):\n",
    "                pass\n",
    "\n",
    "    # Identify numeric columns that are categorical\n",
    "    potential_categorical = []\n",
    "    for col in num_col_names:\n",
    "        if col not in target_cols and df_copy[col].nunique() <= max_unique_values:\n",
    "            potential_categorical.append(col)\n",
    "\n",
    "    cat_col_names += potential_categorical\n",
    "\n",
    "    # Remove target columns from the lists\n",
    "    num_col_names = [col for col in num_col_names if col not in potential_categorical + target_cols]\n",
    "    cat_col_names = [col for col in cat_col_names if col not in target_cols]\n",
    "    \n",
    "    mappings = {}\n",
    "    label_encoders = {}\n",
    "\n",
    "    # Convert string columns to category and create a mapping (old value -> new value)\n",
    "    for col in cat_col_names + target_cols:\n",
    "        if df_copy[col].dtype not in ['int64', 'float64']:\n",
    "            le = LabelEncoder()\n",
    "            df_copy[col] = le.fit_transform(df_copy[col])\n",
    "            mappings[col] = dict(zip(le.classes_, le.transform(le.classes_)))\n",
    "            label_encoders[col] = le\n",
    "            # Convert values to int (otherwise will raise error if save as json)\n",
    "            for key, value in mappings[col].items():\n",
    "                mappings[col][key] = int(value)\n",
    "        #else:\n",
    "        #    mappings[col] = {int(val): int(val) for val in df_copy[col].unique()}\n",
    "\n",
    "    # Add historical data based on window_size\n",
    "    if window_size > 1:\n",
    "        historical_features = []\n",
    "        for i in range(window_size - 1, 0, -1):  # Criar features lag, do mais antigo ao mais recente\n",
    "            shifted = df_copy.drop(columns=target_cols, errors='ignore').shift(i).add_suffix(f'_lag_{i}')\n",
    "            historical_features.append(shifted)\n",
    "        \n",
    "        # Concatenate the lags to the left and keep the current values\n",
    "        df_copy = pd.concat(historical_features + [df_copy], axis=1)\n",
    "    \n",
    "        # Remove NaNs columns created by shifts\n",
    "        df_copy = df_copy.dropna()\n",
    "    \n",
    "        # Add lags\n",
    "        num_col_lags = [f'{col}_lag_{i}' for i in range(window_size - 1, 0, -1) for col in num_col_names]\n",
    "        cat_col_lags = [f'{col}_lag_{i}' for i in range(window_size - 1, 0, -1) for col in cat_col_names]\n",
    "        date_col_lags = [f'{col}_lag_{i}' for i in range(window_size - 1, 0, -1) for col in date_col_names]\n",
    "        mappings_lags = {}\n",
    "        for col, value in mappings.items():\n",
    "            for i in range(window_size - 1, 0, -1):\n",
    "                mappings_lags[f'{col}_lag_{i}'] = value\n",
    "    \n",
    "        # Update main columns + lags columns\n",
    "        num_col_names = num_col_lags + num_col_names\n",
    "        cat_col_names = cat_col_lags + cat_col_names\n",
    "        date_col_names = date_col_lags + date_col_names\n",
    "        mappings = {**mappings_lags, **mappings}\n",
    "    \n",
    "    return df_copy, num_col_names, cat_col_names, date_col_names, mappings"
   ]
  },
  {
   "cell_type": "code",
   "execution_count": 3,
   "id": "185745e3-eb7c-4ea9-8c1a-b5aa6fa71b8e",
   "metadata": {},
   "outputs": [
    {
     "data": {
      "text/html": [
       "<div>\n",
       "<style scoped>\n",
       "    .dataframe tbody tr th:only-of-type {\n",
       "        vertical-align: middle;\n",
       "    }\n",
       "\n",
       "    .dataframe tbody tr th {\n",
       "        vertical-align: top;\n",
       "    }\n",
       "\n",
       "    .dataframe thead th {\n",
       "        text-align: right;\n",
       "    }\n",
       "</style>\n",
       "<table border=\"1\" class=\"dataframe\">\n",
       "  <thead>\n",
       "    <tr style=\"text-align: right;\">\n",
       "      <th></th>\n",
       "      <th>feature_1</th>\n",
       "      <th>feature_2</th>\n",
       "      <th>feature_3</th>\n",
       "      <th>feature_4</th>\n",
       "      <th>feature_5</th>\n",
       "      <th>feature_6</th>\n",
       "      <th>feature_7</th>\n",
       "      <th>feature_8</th>\n",
       "      <th>target</th>\n",
       "    </tr>\n",
       "  </thead>\n",
       "  <tbody>\n",
       "    <tr>\n",
       "      <th>0</th>\n",
       "      <td>66.770774</td>\n",
       "      <td>A</td>\n",
       "      <td>129.519443</td>\n",
       "      <td>157.649826</td>\n",
       "      <td>6.255495</td>\n",
       "      <td>0.828523</td>\n",
       "      <td>1.10</td>\n",
       "      <td>0.656228</td>\n",
       "      <td>2.432088</td>\n",
       "    </tr>\n",
       "    <tr>\n",
       "      <th>1</th>\n",
       "      <td>-2.221535</td>\n",
       "      <td>E</td>\n",
       "      <td>140.304091</td>\n",
       "      <td>216.744647</td>\n",
       "      <td>5.713914</td>\n",
       "      <td>0.355732</td>\n",
       "      <td>1.20</td>\n",
       "      <td>0.698121</td>\n",
       "      <td>0.522399</td>\n",
       "    </tr>\n",
       "    <tr>\n",
       "      <th>2</th>\n",
       "      <td>77.488190</td>\n",
       "      <td>A</td>\n",
       "      <td>166.952399</td>\n",
       "      <td>312.938945</td>\n",
       "      <td>5.267239</td>\n",
       "      <td>0.960411</td>\n",
       "      <td>1.10</td>\n",
       "      <td>0.957005</td>\n",
       "      <td>8.291973</td>\n",
       "    </tr>\n",
       "    <tr>\n",
       "      <th>3</th>\n",
       "      <td>57.321113</td>\n",
       "      <td>E</td>\n",
       "      <td>88.365298</td>\n",
       "      <td>89.727234</td>\n",
       "      <td>6.706377</td>\n",
       "      <td>-0.895494</td>\n",
       "      <td>1.20</td>\n",
       "      <td>0.757337</td>\n",
       "      <td>-0.253508</td>\n",
       "    </tr>\n",
       "    <tr>\n",
       "      <th>4</th>\n",
       "      <td>36.569191</td>\n",
       "      <td>D</td>\n",
       "      <td>143.379356</td>\n",
       "      <td>118.911115</td>\n",
       "      <td>6.242576</td>\n",
       "      <td>1.525309</td>\n",
       "      <td>0.95</td>\n",
       "      <td>0.965473</td>\n",
       "      <td>2.611435</td>\n",
       "    </tr>\n",
       "    <tr>\n",
       "      <th>...</th>\n",
       "      <td>...</td>\n",
       "      <td>...</td>\n",
       "      <td>...</td>\n",
       "      <td>...</td>\n",
       "      <td>...</td>\n",
       "      <td>...</td>\n",
       "      <td>...</td>\n",
       "      <td>...</td>\n",
       "      <td>...</td>\n",
       "    </tr>\n",
       "    <tr>\n",
       "      <th>995</th>\n",
       "      <td>103.368938</td>\n",
       "      <td>B</td>\n",
       "      <td>186.348599</td>\n",
       "      <td>86.930012</td>\n",
       "      <td>5.304516</td>\n",
       "      <td>1.636305</td>\n",
       "      <td>0.90</td>\n",
       "      <td>0.837241</td>\n",
       "      <td>9.203443</td>\n",
       "    </tr>\n",
       "    <tr>\n",
       "      <th>996</th>\n",
       "      <td>90.724062</td>\n",
       "      <td>C</td>\n",
       "      <td>105.858206</td>\n",
       "      <td>332.872938</td>\n",
       "      <td>7.254402</td>\n",
       "      <td>-0.141445</td>\n",
       "      <td>1.05</td>\n",
       "      <td>0.663071</td>\n",
       "      <td>5.213301</td>\n",
       "    </tr>\n",
       "    <tr>\n",
       "      <th>997</th>\n",
       "      <td>93.945082</td>\n",
       "      <td>C</td>\n",
       "      <td>96.920963</td>\n",
       "      <td>134.339603</td>\n",
       "      <td>6.679430</td>\n",
       "      <td>-0.193135</td>\n",
       "      <td>1.05</td>\n",
       "      <td>0.985183</td>\n",
       "      <td>4.534213</td>\n",
       "    </tr>\n",
       "    <tr>\n",
       "      <th>998</th>\n",
       "      <td>49.022551</td>\n",
       "      <td>C</td>\n",
       "      <td>141.195125</td>\n",
       "      <td>138.956040</td>\n",
       "      <td>6.623024</td>\n",
       "      <td>-1.847212</td>\n",
       "      <td>1.05</td>\n",
       "      <td>0.718735</td>\n",
       "      <td>1.150318</td>\n",
       "    </tr>\n",
       "    <tr>\n",
       "      <th>999</th>\n",
       "      <td>65.396854</td>\n",
       "      <td>C</td>\n",
       "      <td>169.895414</td>\n",
       "      <td>205.841059</td>\n",
       "      <td>4.312114</td>\n",
       "      <td>-0.040263</td>\n",
       "      <td>1.05</td>\n",
       "      <td>0.999962</td>\n",
       "      <td>4.097842</td>\n",
       "    </tr>\n",
       "  </tbody>\n",
       "</table>\n",
       "<p>1000 rows × 9 columns</p>\n",
       "</div>"
      ],
      "text/plain": [
       "      feature_1 feature_2   feature_3   feature_4  feature_5  feature_6  \\\n",
       "0     66.770774         A  129.519443  157.649826   6.255495   0.828523   \n",
       "1     -2.221535         E  140.304091  216.744647   5.713914   0.355732   \n",
       "2     77.488190         A  166.952399  312.938945   5.267239   0.960411   \n",
       "3     57.321113         E   88.365298   89.727234   6.706377  -0.895494   \n",
       "4     36.569191         D  143.379356  118.911115   6.242576   1.525309   \n",
       "..          ...       ...         ...         ...        ...        ...   \n",
       "995  103.368938         B  186.348599   86.930012   5.304516   1.636305   \n",
       "996   90.724062         C  105.858206  332.872938   7.254402  -0.141445   \n",
       "997   93.945082         C   96.920963  134.339603   6.679430  -0.193135   \n",
       "998   49.022551         C  141.195125  138.956040   6.623024  -1.847212   \n",
       "999   65.396854         C  169.895414  205.841059   4.312114  -0.040263   \n",
       "\n",
       "     feature_7  feature_8    target  \n",
       "0         1.10   0.656228  2.432088  \n",
       "1         1.20   0.698121  0.522399  \n",
       "2         1.10   0.957005  8.291973  \n",
       "3         1.20   0.757337 -0.253508  \n",
       "4         0.95   0.965473  2.611435  \n",
       "..         ...        ...       ...  \n",
       "995       0.90   0.837241  9.203443  \n",
       "996       1.05   0.663071  5.213301  \n",
       "997       1.05   0.985183  4.534213  \n",
       "998       1.05   0.718735  1.150318  \n",
       "999       1.05   0.999962  4.097842  \n",
       "\n",
       "[1000 rows x 9 columns]"
      ]
     },
     "execution_count": 3,
     "metadata": {},
     "output_type": "execute_result"
    }
   ],
   "source": [
    "df = pd.read_csv('dataset/synthetic_dataset_reg_1000.csv')\n",
    "model_type = 'regressor'  # classifier or regressor\n",
    "window_size = 1\n",
    "df"
   ]
  },
  {
   "cell_type": "code",
   "execution_count": 4,
   "id": "fd4af25a-5c0d-4143-b60c-e18881e93762",
   "metadata": {},
   "outputs": [],
   "source": [
    "target_cols = ['target']\n",
    "# Aplicar o pré-processamento\n",
    "df, num_col_names, cat_col_names, date_col_names, category_mappings = preprocess_data(df, target_cols, max_unique_values=10, window_size=window_size)\n",
    "col_names_order = df.columns.tolist()"
   ]
  },
  {
   "cell_type": "code",
   "execution_count": 5,
   "id": "37152cec-0231-4811-bb10-c942991209c1",
   "metadata": {},
   "outputs": [
    {
     "name": "stdout",
     "output_type": "stream",
     "text": [
      "col_names_order: ['feature_1', 'feature_2', 'feature_3', 'feature_4', 'feature_5', 'feature_6', 'feature_7', 'feature_8', 'target']\n",
      "num_col_names: ['feature_1', 'feature_3', 'feature_4', 'feature_5', 'feature_6', 'feature_8']\n",
      "cat_col_names: ['feature_2', 'feature_7']\n",
      "date_col_names: []\n",
      "target_cols: ['target']\n",
      "category_mappings: {'feature_2': {'A': 0, 'B': 1, 'C': 2, 'D': 3, 'E': 4, 'F': 5}}\n"
     ]
    }
   ],
   "source": [
    "print(f'''col_names_order: {col_names_order}\n",
    "num_col_names: {num_col_names}\n",
    "cat_col_names: {cat_col_names}\n",
    "date_col_names: {date_col_names}\n",
    "target_cols: {target_cols}\n",
    "category_mappings: {category_mappings}''')"
   ]
  },
  {
   "cell_type": "code",
   "execution_count": 6,
   "id": "4fcc2805-978c-4a48-8cb4-88cf8ab4f80b",
   "metadata": {},
   "outputs": [
    {
     "name": "stdout",
     "output_type": "stream",
     "text": [
      "<class 'pandas.core.frame.DataFrame'>\n",
      "RangeIndex: 1000 entries, 0 to 999\n",
      "Data columns (total 9 columns):\n",
      " #   Column     Non-Null Count  Dtype  \n",
      "---  ------     --------------  -----  \n",
      " 0   feature_1  1000 non-null   float64\n",
      " 1   feature_2  1000 non-null   int64  \n",
      " 2   feature_3  1000 non-null   float64\n",
      " 3   feature_4  1000 non-null   float64\n",
      " 4   feature_5  1000 non-null   float64\n",
      " 5   feature_6  1000 non-null   float64\n",
      " 6   feature_7  1000 non-null   float64\n",
      " 7   feature_8  1000 non-null   float64\n",
      " 8   target     1000 non-null   float64\n",
      "dtypes: float64(8), int64(1)\n",
      "memory usage: 70.4 KB\n"
     ]
    }
   ],
   "source": [
    "df.info()"
   ]
  },
  {
   "cell_type": "code",
   "execution_count": 7,
   "id": "948fbfed-100e-4c72-9e82-7dca8b0f6575",
   "metadata": {},
   "outputs": [],
   "source": [
    "if model_type == 'classifier':\n",
    "    print(df[target_cols].value_counts())"
   ]
  },
  {
   "cell_type": "markdown",
   "id": "42eaf0f8-86ce-424c-a7fe-5e0ae5dc3312",
   "metadata": {},
   "source": [
    "### Dataset Splitting"
   ]
  },
  {
   "cell_type": "code",
   "execution_count": 8,
   "id": "8859f571-d656-4a56-ad06-dcf37e01591c",
   "metadata": {},
   "outputs": [],
   "source": [
    "from sklearn.model_selection import train_test_split\n",
    "\n",
    "train, valid = train_test_split(df, random_state=42, test_size=0.3)\n",
    "#valid, test = train_test_split(valid, random_state=42, test_size=0.5)\n",
    "test = valid"
   ]
  },
  {
   "cell_type": "markdown",
   "id": "b4b94ab7-3a7a-4ae2-a16f-766d4c9e79fe",
   "metadata": {},
   "source": [
    "## Train Pytorch Tabular\n",
    "https://github.com/manujosephv/pytorch_tabular"
   ]
  },
  {
   "cell_type": "markdown",
   "id": "2a76926f-2ee1-440a-a617-6cabf2d6e719",
   "metadata": {},
   "source": [
    "### Preparar Configurações"
   ]
  },
  {
   "cell_type": "markdown",
   "id": "d6274514-85d6-4844-9634-e9bba6392ccf",
   "metadata": {},
   "source": [
    "No [DataConfig](https://pytorch-tabular.readthedocs.io/en/latest/data/#pytorch_tabular.config.DataConfig) estão as configurações do dataset, contendo as coluna no DataFrame Pandas que é o \"target\" (valor que será previsto), colunas que possuem dados continuos e de dados categóricos. Além de outras configurações que podem ser alteradas."
   ]
  },
  {
   "cell_type": "code",
   "execution_count": 9,
   "id": "98368c66-7982-4e8a-b8e8-11119ad56100",
   "metadata": {},
   "outputs": [],
   "source": [
    "data_config = DataConfig(\n",
    "    target=target_cols,  # target should always be a list. Multi-targets are only supported for regression. Multi-Task Classification is not implemented\n",
    "    continuous_cols=num_col_names,  # Column names of the numeric fields\n",
    "    categorical_cols=cat_col_names,  # Column names of the categorical fields\n",
    "    date_columns=date_col_names,  # (Column name, Freq, Format) tuples of the date fields. E.g. [(\"date\", \"M\", %Y-%m')]. freq = https://pandas.pydata.org/pandas-docs/stable/user_guide/timeseries.html#offset-aliases\n",
    "    normalize_continuous_features=True, # Flag to normalize the input features (continuous). Default True\n",
    "    num_workers=4\n",
    ")"
   ]
  },
  {
   "cell_type": "markdown",
   "id": "899beb41-8b8c-48ab-b6d7-2b57c46b6a93",
   "metadata": {},
   "source": [
    "No [TrainerConfig](https://pytorch-tabular.readthedocs.io/en/latest/training/#using-the-entire-pytorch-lightning-trainer) estão as configurações de treinamento, incluindo quais métricas iremos utilizar para avaliar o modelo e criar os checkpoints\n",
    "\n",
    "No [OptimizerConfig](https://pytorch-tabular.readthedocs.io/en/latest/optimizer/#pytorch_tabular.config.OptimizerConfig) estão as configurações do otimizado que será utilizador, sendo inclusive possível alterar seus parâmetros."
   ]
  },
  {
   "cell_type": "code",
   "execution_count": 10,
   "id": "e805d0ae-0948-4750-b60a-cb6021a91e71",
   "metadata": {},
   "outputs": [],
   "source": [
    "trainer_config = TrainerConfig(\n",
    "    auto_lr_find=True,  # Runs the LRFinder to automatically derive a learning rate. Default False\n",
    "    batch_size=64,\n",
    "    max_epochs=300,\n",
    "    min_epochs=50,\n",
    "    early_stopping='valid_accuracy' if model_type == 'classifier' else 'valid_loss', # Monitor for early stopping. valid_loss or valid_accuracy\n",
    "    early_stopping_mode = 'max' if model_type == 'classifier' else 'min', # Set the mode as min for val_loss (lower is better) and max for val_accuracy (higher is better)\n",
    "    early_stopping_patience=20, # No. of epochs of degradation training will wait before terminating\n",
    "    checkpoints='valid_accuracy' if model_type == 'classifier' else 'valid_loss', # Save best checkpoint monitoring\n",
    "    checkpoints_mode='max' if model_type == 'classifier' else 'min',  # Set the mode as min for valid_loss (lower is better) and max for valid_accuracy (higher is better)\n",
    ")\n",
    "\n",
    "optimizer_config = OptimizerConfig(\n",
    "    #optimizer='RMSprop',  # https://pytorch.org/docs/stable/optim.html#algorithms\n",
    "    #optimizer_params={'alpha': 0.99},\n",
    "    #lr_scheduler='StepLR',\n",
    "    #lr_scheduler_params={'step_size': 10},\n",
    ")"
   ]
  },
  {
   "cell_type": "markdown",
   "id": "4affc056-9d08-4931-8c23-fcd032525c04",
   "metadata": {},
   "source": [
    "## Train Many Models\n",
    "Entre tantas alternativas é difícil saber qual a melhora arquitetura utilizar, sem falar que muitas vezes uma arquitetura tem um desempenho muito bom em determinado assunto/dataset, mas isso não se mostra verdade entre outro cenário, dificultando escolher qual utilizar.\n",
    "\n",
    "Para ajudar nesse dilema o Pytorch Tabular possui a função [model_sweep](https://pytorch-tabular.readthedocs.io/en/latest/apidocs_coreclasses/#pytorch_tabular.model_sweep) que roda todas as arquiteturas com os hiperpâmetros padrões e seu resultado consiste no comparativo entre todos eles. Dessa forma sabemos em qual/quais arquiteturas devemos investir mais tempo para buscar melhorar seus hiperparâmetros.\n",
    "\n",
    "Vamos rodar a categoria \"high_memory\" que irá treinar todos modelos, inclusive os que utilizam bastante memória. Mas não se preocupe, se a memória não for suficiente a biblioteca irá ignorar o modelo e na tabela de resultados irá informar que não tinha memória suficiente (OOM). Ressaltando que pode ser interessante ter um batch_size pequeno para conseguir treinar todos os modelos sem resultar em OOM, ou rodar o modelo específico que deu OOM depois isoladamente com o batch_size que for suficiente :)."
   ]
  },
  {
   "cell_type": "code",
   "execution_count": 11,
   "id": "9b3cda33-ff13-44b1-a1f6-7dd8b96f8027",
   "metadata": {},
   "outputs": [],
   "source": [
    "from pytorch_tabular import model_sweep, tabular_model_sweep"
   ]
  },
  {
   "cell_type": "code",
   "execution_count": 12,
   "id": "9f6b38c6-1030-4f54-aae5-a4178f85ab7b",
   "metadata": {},
   "outputs": [],
   "source": [
    "#tabular_model_sweep.MODEL_SWEEP_PRESETS"
   ]
  },
  {
   "cell_type": "code",
   "execution_count": 13,
   "id": "fa294148-23cd-46f6-b798-7940409e5652",
   "metadata": {
    "scrolled": true
   },
   "outputs": [
    {
     "data": {
      "application/vnd.jupyter.widget-view+json": {
       "model_id": "04b605a6faff44108eac77000b3f8ade",
       "version_major": 2,
       "version_minor": 0
      },
      "text/plain": [
       "Output()"
      ]
     },
     "metadata": {},
     "output_type": "display_data"
    },
    {
     "data": {
      "text/html": [
       "<pre style=\"white-space:pre;overflow-x:auto;line-height:normal;font-family:Menlo,'DejaVu Sans Mono',consolas,'Courier New',monospace\"><span style=\"color: #008080; text-decoration-color: #008080; font-weight: bold\">2025</span>-<span style=\"color: #008080; text-decoration-color: #008080; font-weight: bold\">02</span>-<span style=\"color: #008080; text-decoration-color: #008080; font-weight: bold\">23</span> <span style=\"color: #00ff00; text-decoration-color: #00ff00; font-weight: bold\">08:29:35</span>,<span style=\"color: #008080; text-decoration-color: #008080; font-weight: bold\">330</span> - <span style=\"font-weight: bold\">{</span>pytorch_tabular:<span style=\"color: #008080; text-decoration-color: #008080; font-weight: bold\">328</span><span style=\"font-weight: bold\">}</span> - INFO - Training AutoIntModel                                     \n",
       "</pre>\n"
      ],
      "text/plain": [
       "\u001b[1;36m2025\u001b[0m-\u001b[1;36m02\u001b[0m-\u001b[1;36m23\u001b[0m \u001b[1;92m08:29:35\u001b[0m,\u001b[1;36m330\u001b[0m - \u001b[1m{\u001b[0mpytorch_tabular:\u001b[1;36m328\u001b[0m\u001b[1m}\u001b[0m - INFO - Training AutoIntModel                                     \n"
      ]
     },
     "metadata": {},
     "output_type": "display_data"
    },
    {
     "data": {
      "application/vnd.jupyter.widget-view+json": {
       "model_id": "cce4192e007d40368cd78ce7eac96789",
       "version_major": 2,
       "version_minor": 0
      },
      "text/plain": [
       "Finding best initial lr:   0%|          | 0/100 [00:00<?, ?it/s]"
      ]
     },
     "metadata": {},
     "output_type": "display_data"
    },
    {
     "data": {
      "text/html": [
       "<pre style=\"white-space:pre;overflow-x:auto;line-height:normal;font-family:Menlo,'DejaVu Sans Mono',consolas,'Courier New',monospace\"><span style=\"color: #008080; text-decoration-color: #008080; font-weight: bold\">2025</span>-<span style=\"color: #008080; text-decoration-color: #008080; font-weight: bold\">02</span>-<span style=\"color: #008080; text-decoration-color: #008080; font-weight: bold\">23</span> <span style=\"color: #00ff00; text-decoration-color: #00ff00; font-weight: bold\">08:29:56</span>,<span style=\"color: #008080; text-decoration-color: #008080; font-weight: bold\">908</span> - <span style=\"font-weight: bold\">{</span>pytorch_tabular:<span style=\"color: #008080; text-decoration-color: #008080; font-weight: bold\">382</span><span style=\"font-weight: bold\">}</span> - INFO - Finished Training AutoIntModel                            \n",
       "</pre>\n"
      ],
      "text/plain": [
       "\u001b[1;36m2025\u001b[0m-\u001b[1;36m02\u001b[0m-\u001b[1;36m23\u001b[0m \u001b[1;92m08:29:56\u001b[0m,\u001b[1;36m908\u001b[0m - \u001b[1m{\u001b[0mpytorch_tabular:\u001b[1;36m382\u001b[0m\u001b[1m}\u001b[0m - INFO - Finished Training AutoIntModel                            \n"
      ]
     },
     "metadata": {},
     "output_type": "display_data"
    },
    {
     "data": {
      "text/html": [
       "<pre style=\"white-space:pre;overflow-x:auto;line-height:normal;font-family:Menlo,'DejaVu Sans Mono',consolas,'Courier New',monospace\"><span style=\"color: #008080; text-decoration-color: #008080; font-weight: bold\">2025</span>-<span style=\"color: #008080; text-decoration-color: #008080; font-weight: bold\">02</span>-<span style=\"color: #008080; text-decoration-color: #008080; font-weight: bold\">23</span> <span style=\"color: #00ff00; text-decoration-color: #00ff00; font-weight: bold\">08:29:56</span>,<span style=\"color: #008080; text-decoration-color: #008080; font-weight: bold\">909</span> - <span style=\"font-weight: bold\">{</span>pytorch_tabular:<span style=\"color: #008080; text-decoration-color: #008080; font-weight: bold\">383</span><span style=\"font-weight: bold\">}</span> - INFO - Results: model: AutoIntModel, # Params: <span style=\"color: #008080; text-decoration-color: #008080; font-weight: bold\">14</span> T, epochs: <span style=\"color: #008080; text-decoration-color: #008080; font-weight: bold\">147</span>,\n",
       "test_loss: <span style=\"color: #008080; text-decoration-color: #008080; font-weight: bold\">22.912860870361328</span>, test_mean_squared_error: <span style=\"color: #008080; text-decoration-color: #008080; font-weight: bold\">22.912860870361328</span>, time_taken: <span style=\"color: #008080; text-decoration-color: #008080; font-weight: bold\">21.581355571746826</span>,        \n",
       "time_taken_per_epoch: <span style=\"color: #008080; text-decoration-color: #008080; font-weight: bold\">0.1468119426649444</span>                                                                           \n",
       "</pre>\n"
      ],
      "text/plain": [
       "\u001b[1;36m2025\u001b[0m-\u001b[1;36m02\u001b[0m-\u001b[1;36m23\u001b[0m \u001b[1;92m08:29:56\u001b[0m,\u001b[1;36m909\u001b[0m - \u001b[1m{\u001b[0mpytorch_tabular:\u001b[1;36m383\u001b[0m\u001b[1m}\u001b[0m - INFO - Results: model: AutoIntModel, # Params: \u001b[1;36m14\u001b[0m T, epochs: \u001b[1;36m147\u001b[0m,\n",
       "test_loss: \u001b[1;36m22.912860870361328\u001b[0m, test_mean_squared_error: \u001b[1;36m22.912860870361328\u001b[0m, time_taken: \u001b[1;36m21.581355571746826\u001b[0m,        \n",
       "time_taken_per_epoch: \u001b[1;36m0.1468119426649444\u001b[0m                                                                           \n"
      ]
     },
     "metadata": {},
     "output_type": "display_data"
    },
    {
     "data": {
      "text/html": [
       "<pre style=\"white-space:pre;overflow-x:auto;line-height:normal;font-family:Menlo,'DejaVu Sans Mono',consolas,'Courier New',monospace\"><span style=\"color: #008080; text-decoration-color: #008080; font-weight: bold\">2025</span>-<span style=\"color: #008080; text-decoration-color: #008080; font-weight: bold\">02</span>-<span style=\"color: #008080; text-decoration-color: #008080; font-weight: bold\">23</span> <span style=\"color: #00ff00; text-decoration-color: #00ff00; font-weight: bold\">08:29:56</span>,<span style=\"color: #008080; text-decoration-color: #008080; font-weight: bold\">923</span> - <span style=\"font-weight: bold\">{</span>pytorch_tabular:<span style=\"color: #008080; text-decoration-color: #008080; font-weight: bold\">328</span><span style=\"font-weight: bold\">}</span> - INFO - Training CategoryEmbeddingModel                           \n",
       "</pre>\n"
      ],
      "text/plain": [
       "\u001b[1;36m2025\u001b[0m-\u001b[1;36m02\u001b[0m-\u001b[1;36m23\u001b[0m \u001b[1;92m08:29:56\u001b[0m,\u001b[1;36m923\u001b[0m - \u001b[1m{\u001b[0mpytorch_tabular:\u001b[1;36m328\u001b[0m\u001b[1m}\u001b[0m - INFO - Training CategoryEmbeddingModel                           \n"
      ]
     },
     "metadata": {},
     "output_type": "display_data"
    },
    {
     "data": {
      "application/vnd.jupyter.widget-view+json": {
       "model_id": "198e9651f87c4550be7f5b077bd714e2",
       "version_major": 2,
       "version_minor": 0
      },
      "text/plain": [
       "Finding best initial lr:   0%|          | 0/100 [00:00<?, ?it/s]"
      ]
     },
     "metadata": {},
     "output_type": "display_data"
    },
    {
     "data": {
      "text/html": [
       "<pre style=\"white-space:pre;overflow-x:auto;line-height:normal;font-family:Menlo,'DejaVu Sans Mono',consolas,'Courier New',monospace\"><span style=\"color: #008080; text-decoration-color: #008080; font-weight: bold\">2025</span>-<span style=\"color: #008080; text-decoration-color: #008080; font-weight: bold\">02</span>-<span style=\"color: #008080; text-decoration-color: #008080; font-weight: bold\">23</span> <span style=\"color: #00ff00; text-decoration-color: #00ff00; font-weight: bold\">08:30:04</span>,<span style=\"color: #008080; text-decoration-color: #008080; font-weight: bold\">810</span> - <span style=\"font-weight: bold\">{</span>pytorch_tabular:<span style=\"color: #008080; text-decoration-color: #008080; font-weight: bold\">382</span><span style=\"font-weight: bold\">}</span> - INFO - Finished Training CategoryEmbeddingModel                  \n",
       "</pre>\n"
      ],
      "text/plain": [
       "\u001b[1;36m2025\u001b[0m-\u001b[1;36m02\u001b[0m-\u001b[1;36m23\u001b[0m \u001b[1;92m08:30:04\u001b[0m,\u001b[1;36m810\u001b[0m - \u001b[1m{\u001b[0mpytorch_tabular:\u001b[1;36m382\u001b[0m\u001b[1m}\u001b[0m - INFO - Finished Training CategoryEmbeddingModel                  \n"
      ]
     },
     "metadata": {},
     "output_type": "display_data"
    },
    {
     "data": {
      "text/html": [
       "<pre style=\"white-space:pre;overflow-x:auto;line-height:normal;font-family:Menlo,'DejaVu Sans Mono',consolas,'Courier New',monospace\"><span style=\"color: #008080; text-decoration-color: #008080; font-weight: bold\">2025</span>-<span style=\"color: #008080; text-decoration-color: #008080; font-weight: bold\">02</span>-<span style=\"color: #008080; text-decoration-color: #008080; font-weight: bold\">23</span> <span style=\"color: #00ff00; text-decoration-color: #00ff00; font-weight: bold\">08:30:04</span>,<span style=\"color: #008080; text-decoration-color: #008080; font-weight: bold\">811</span> - <span style=\"font-weight: bold\">{</span>pytorch_tabular:<span style=\"color: #008080; text-decoration-color: #008080; font-weight: bold\">383</span><span style=\"font-weight: bold\">}</span> - INFO - Results: model: CategoryEmbeddingModel, # Params: <span style=\"color: #008080; text-decoration-color: #008080; font-weight: bold\">12</span> T,   \n",
       "epochs: <span style=\"color: #008080; text-decoration-color: #008080; font-weight: bold\">33</span>, test_loss: <span style=\"color: #008080; text-decoration-color: #008080; font-weight: bold\">22.87525177001953</span>, test_mean_squared_error: <span style=\"color: #008080; text-decoration-color: #008080; font-weight: bold\">22.87525177001953</span>, time_taken:                  \n",
       "<span style=\"color: #008080; text-decoration-color: #008080; font-weight: bold\">7.889577627182007</span>, time_taken_per_epoch: <span style=\"color: #008080; text-decoration-color: #008080; font-weight: bold\">0.23907810991460626</span>                                                       \n",
       "</pre>\n"
      ],
      "text/plain": [
       "\u001b[1;36m2025\u001b[0m-\u001b[1;36m02\u001b[0m-\u001b[1;36m23\u001b[0m \u001b[1;92m08:30:04\u001b[0m,\u001b[1;36m811\u001b[0m - \u001b[1m{\u001b[0mpytorch_tabular:\u001b[1;36m383\u001b[0m\u001b[1m}\u001b[0m - INFO - Results: model: CategoryEmbeddingModel, # Params: \u001b[1;36m12\u001b[0m T,   \n",
       "epochs: \u001b[1;36m33\u001b[0m, test_loss: \u001b[1;36m22.87525177001953\u001b[0m, test_mean_squared_error: \u001b[1;36m22.87525177001953\u001b[0m, time_taken:                  \n",
       "\u001b[1;36m7.889577627182007\u001b[0m, time_taken_per_epoch: \u001b[1;36m0.23907810991460626\u001b[0m                                                       \n"
      ]
     },
     "metadata": {},
     "output_type": "display_data"
    },
    {
     "data": {
      "text/html": [
       "<pre style=\"white-space:pre;overflow-x:auto;line-height:normal;font-family:Menlo,'DejaVu Sans Mono',consolas,'Courier New',monospace\"><span style=\"color: #008080; text-decoration-color: #008080; font-weight: bold\">2025</span>-<span style=\"color: #008080; text-decoration-color: #008080; font-weight: bold\">02</span>-<span style=\"color: #008080; text-decoration-color: #008080; font-weight: bold\">23</span> <span style=\"color: #00ff00; text-decoration-color: #00ff00; font-weight: bold\">08:30:04</span>,<span style=\"color: #008080; text-decoration-color: #008080; font-weight: bold\">827</span> - <span style=\"font-weight: bold\">{</span>pytorch_tabular:<span style=\"color: #008080; text-decoration-color: #008080; font-weight: bold\">328</span><span style=\"font-weight: bold\">}</span> - INFO - Training DANetModel                                       \n",
       "</pre>\n"
      ],
      "text/plain": [
       "\u001b[1;36m2025\u001b[0m-\u001b[1;36m02\u001b[0m-\u001b[1;36m23\u001b[0m \u001b[1;92m08:30:04\u001b[0m,\u001b[1;36m827\u001b[0m - \u001b[1m{\u001b[0mpytorch_tabular:\u001b[1;36m328\u001b[0m\u001b[1m}\u001b[0m - INFO - Training DANetModel                                       \n"
      ]
     },
     "metadata": {},
     "output_type": "display_data"
    },
    {
     "data": {
      "application/vnd.jupyter.widget-view+json": {
       "model_id": "f37e2d9526464b88b39ae583f9296ee9",
       "version_major": 2,
       "version_minor": 0
      },
      "text/plain": [
       "Finding best initial lr:   0%|          | 0/100 [00:00<?, ?it/s]"
      ]
     },
     "metadata": {},
     "output_type": "display_data"
    },
    {
     "data": {
      "text/html": [
       "<pre style=\"white-space:pre;overflow-x:auto;line-height:normal;font-family:Menlo,'DejaVu Sans Mono',consolas,'Courier New',monospace\"><span style=\"color: #008080; text-decoration-color: #008080; font-weight: bold\">2025</span>-<span style=\"color: #008080; text-decoration-color: #008080; font-weight: bold\">02</span>-<span style=\"color: #008080; text-decoration-color: #008080; font-weight: bold\">23</span> <span style=\"color: #00ff00; text-decoration-color: #00ff00; font-weight: bold\">08:30:32</span>,<span style=\"color: #008080; text-decoration-color: #008080; font-weight: bold\">779</span> - <span style=\"font-weight: bold\">{</span>pytorch_tabular:<span style=\"color: #008080; text-decoration-color: #008080; font-weight: bold\">382</span><span style=\"font-weight: bold\">}</span> - INFO - Finished Training DANetModel                              \n",
       "</pre>\n"
      ],
      "text/plain": [
       "\u001b[1;36m2025\u001b[0m-\u001b[1;36m02\u001b[0m-\u001b[1;36m23\u001b[0m \u001b[1;92m08:30:32\u001b[0m,\u001b[1;36m779\u001b[0m - \u001b[1m{\u001b[0mpytorch_tabular:\u001b[1;36m382\u001b[0m\u001b[1m}\u001b[0m - INFO - Finished Training DANetModel                              \n"
      ]
     },
     "metadata": {},
     "output_type": "display_data"
    },
    {
     "data": {
      "text/html": [
       "<pre style=\"white-space:pre;overflow-x:auto;line-height:normal;font-family:Menlo,'DejaVu Sans Mono',consolas,'Courier New',monospace\"><span style=\"color: #008080; text-decoration-color: #008080; font-weight: bold\">2025</span>-<span style=\"color: #008080; text-decoration-color: #008080; font-weight: bold\">02</span>-<span style=\"color: #008080; text-decoration-color: #008080; font-weight: bold\">23</span> <span style=\"color: #00ff00; text-decoration-color: #00ff00; font-weight: bold\">08:30:32</span>,<span style=\"color: #008080; text-decoration-color: #008080; font-weight: bold\">780</span> - <span style=\"font-weight: bold\">{</span>pytorch_tabular:<span style=\"color: #008080; text-decoration-color: #008080; font-weight: bold\">383</span><span style=\"font-weight: bold\">}</span> - INFO - Results: model: DANetModel, # Params: <span style=\"color: #008080; text-decoration-color: #008080; font-weight: bold\">426</span> T, epochs: <span style=\"color: #008080; text-decoration-color: #008080; font-weight: bold\">49</span>,  \n",
       "test_loss: <span style=\"color: #008080; text-decoration-color: #008080; font-weight: bold\">22.791797637939453</span>, test_mean_squared_error: <span style=\"color: #008080; text-decoration-color: #008080; font-weight: bold\">22.791797637939453</span>, time_taken: <span style=\"color: #008080; text-decoration-color: #008080; font-weight: bold\">27.944632530212402</span>,        \n",
       "time_taken_per_epoch: <span style=\"color: #008080; text-decoration-color: #008080; font-weight: bold\">0.5702986230655592</span>                                                                           \n",
       "</pre>\n"
      ],
      "text/plain": [
       "\u001b[1;36m2025\u001b[0m-\u001b[1;36m02\u001b[0m-\u001b[1;36m23\u001b[0m \u001b[1;92m08:30:32\u001b[0m,\u001b[1;36m780\u001b[0m - \u001b[1m{\u001b[0mpytorch_tabular:\u001b[1;36m383\u001b[0m\u001b[1m}\u001b[0m - INFO - Results: model: DANetModel, # Params: \u001b[1;36m426\u001b[0m T, epochs: \u001b[1;36m49\u001b[0m,  \n",
       "test_loss: \u001b[1;36m22.791797637939453\u001b[0m, test_mean_squared_error: \u001b[1;36m22.791797637939453\u001b[0m, time_taken: \u001b[1;36m27.944632530212402\u001b[0m,        \n",
       "time_taken_per_epoch: \u001b[1;36m0.5702986230655592\u001b[0m                                                                           \n"
      ]
     },
     "metadata": {},
     "output_type": "display_data"
    },
    {
     "data": {
      "text/html": [
       "<pre style=\"white-space:pre;overflow-x:auto;line-height:normal;font-family:Menlo,'DejaVu Sans Mono',consolas,'Courier New',monospace\"><span style=\"color: #008080; text-decoration-color: #008080; font-weight: bold\">2025</span>-<span style=\"color: #008080; text-decoration-color: #008080; font-weight: bold\">02</span>-<span style=\"color: #008080; text-decoration-color: #008080; font-weight: bold\">23</span> <span style=\"color: #00ff00; text-decoration-color: #00ff00; font-weight: bold\">08:30:32</span>,<span style=\"color: #008080; text-decoration-color: #008080; font-weight: bold\">795</span> - <span style=\"font-weight: bold\">{</span>pytorch_tabular:<span style=\"color: #008080; text-decoration-color: #008080; font-weight: bold\">328</span><span style=\"font-weight: bold\">}</span> - INFO - Training FTTransformerModel                               \n",
       "</pre>\n"
      ],
      "text/plain": [
       "\u001b[1;36m2025\u001b[0m-\u001b[1;36m02\u001b[0m-\u001b[1;36m23\u001b[0m \u001b[1;92m08:30:32\u001b[0m,\u001b[1;36m795\u001b[0m - \u001b[1m{\u001b[0mpytorch_tabular:\u001b[1;36m328\u001b[0m\u001b[1m}\u001b[0m - INFO - Training FTTransformerModel                               \n"
      ]
     },
     "metadata": {},
     "output_type": "display_data"
    },
    {
     "data": {
      "application/vnd.jupyter.widget-view+json": {
       "model_id": "c5986a0b94954dd4bd8d3dd7fbfb6c6e",
       "version_major": 2,
       "version_minor": 0
      },
      "text/plain": [
       "Finding best initial lr:   0%|          | 0/100 [00:00<?, ?it/s]"
      ]
     },
     "metadata": {},
     "output_type": "display_data"
    },
    {
     "data": {
      "text/html": [
       "<pre style=\"white-space:pre;overflow-x:auto;line-height:normal;font-family:Menlo,'DejaVu Sans Mono',consolas,'Courier New',monospace\"><span style=\"color: #008080; text-decoration-color: #008080; font-weight: bold\">2025</span>-<span style=\"color: #008080; text-decoration-color: #008080; font-weight: bold\">02</span>-<span style=\"color: #008080; text-decoration-color: #008080; font-weight: bold\">23</span> <span style=\"color: #00ff00; text-decoration-color: #00ff00; font-weight: bold\">08:30:49</span>,<span style=\"color: #008080; text-decoration-color: #008080; font-weight: bold\">060</span> - <span style=\"font-weight: bold\">{</span>pytorch_tabular:<span style=\"color: #008080; text-decoration-color: #008080; font-weight: bold\">382</span><span style=\"font-weight: bold\">}</span> - INFO - Finished Training FTTransformerModel                      \n",
       "</pre>\n"
      ],
      "text/plain": [
       "\u001b[1;36m2025\u001b[0m-\u001b[1;36m02\u001b[0m-\u001b[1;36m23\u001b[0m \u001b[1;92m08:30:49\u001b[0m,\u001b[1;36m060\u001b[0m - \u001b[1m{\u001b[0mpytorch_tabular:\u001b[1;36m382\u001b[0m\u001b[1m}\u001b[0m - INFO - Finished Training FTTransformerModel                      \n"
      ]
     },
     "metadata": {},
     "output_type": "display_data"
    },
    {
     "data": {
      "text/html": [
       "<pre style=\"white-space:pre;overflow-x:auto;line-height:normal;font-family:Menlo,'DejaVu Sans Mono',consolas,'Courier New',monospace\"><span style=\"color: #008080; text-decoration-color: #008080; font-weight: bold\">2025</span>-<span style=\"color: #008080; text-decoration-color: #008080; font-weight: bold\">02</span>-<span style=\"color: #008080; text-decoration-color: #008080; font-weight: bold\">23</span> <span style=\"color: #00ff00; text-decoration-color: #00ff00; font-weight: bold\">08:30:49</span>,<span style=\"color: #008080; text-decoration-color: #008080; font-weight: bold\">061</span> - <span style=\"font-weight: bold\">{</span>pytorch_tabular:<span style=\"color: #008080; text-decoration-color: #008080; font-weight: bold\">383</span><span style=\"font-weight: bold\">}</span> - INFO - Results: model: FTTransformerModel, # Params: <span style=\"color: #008080; text-decoration-color: #008080; font-weight: bold\">272</span> T,      \n",
       "epochs: <span style=\"color: #008080; text-decoration-color: #008080; font-weight: bold\">58</span>, test_loss: <span style=\"color: #008080; text-decoration-color: #008080; font-weight: bold\">3.208240270614624</span>, test_mean_squared_error: <span style=\"color: #008080; text-decoration-color: #008080; font-weight: bold\">3.208240270614624</span>, time_taken:                  \n",
       "<span style=\"color: #008080; text-decoration-color: #008080; font-weight: bold\">16.263137817382812</span>, time_taken_per_epoch: <span style=\"color: #008080; text-decoration-color: #008080; font-weight: bold\">0.2803989278859106</span>                                                       \n",
       "</pre>\n"
      ],
      "text/plain": [
       "\u001b[1;36m2025\u001b[0m-\u001b[1;36m02\u001b[0m-\u001b[1;36m23\u001b[0m \u001b[1;92m08:30:49\u001b[0m,\u001b[1;36m061\u001b[0m - \u001b[1m{\u001b[0mpytorch_tabular:\u001b[1;36m383\u001b[0m\u001b[1m}\u001b[0m - INFO - Results: model: FTTransformerModel, # Params: \u001b[1;36m272\u001b[0m T,      \n",
       "epochs: \u001b[1;36m58\u001b[0m, test_loss: \u001b[1;36m3.208240270614624\u001b[0m, test_mean_squared_error: \u001b[1;36m3.208240270614624\u001b[0m, time_taken:                  \n",
       "\u001b[1;36m16.263137817382812\u001b[0m, time_taken_per_epoch: \u001b[1;36m0.2803989278859106\u001b[0m                                                       \n"
      ]
     },
     "metadata": {},
     "output_type": "display_data"
    },
    {
     "data": {
      "text/html": [
       "<pre style=\"white-space:pre;overflow-x:auto;line-height:normal;font-family:Menlo,'DejaVu Sans Mono',consolas,'Courier New',monospace\"><span style=\"color: #008080; text-decoration-color: #008080; font-weight: bold\">2025</span>-<span style=\"color: #008080; text-decoration-color: #008080; font-weight: bold\">02</span>-<span style=\"color: #008080; text-decoration-color: #008080; font-weight: bold\">23</span> <span style=\"color: #00ff00; text-decoration-color: #00ff00; font-weight: bold\">08:30:49</span>,<span style=\"color: #008080; text-decoration-color: #008080; font-weight: bold\">076</span> - <span style=\"font-weight: bold\">{</span>pytorch_tabular:<span style=\"color: #008080; text-decoration-color: #008080; font-weight: bold\">328</span><span style=\"font-weight: bold\">}</span> - INFO - Training GANDALFModel                                     \n",
       "</pre>\n"
      ],
      "text/plain": [
       "\u001b[1;36m2025\u001b[0m-\u001b[1;36m02\u001b[0m-\u001b[1;36m23\u001b[0m \u001b[1;92m08:30:49\u001b[0m,\u001b[1;36m076\u001b[0m - \u001b[1m{\u001b[0mpytorch_tabular:\u001b[1;36m328\u001b[0m\u001b[1m}\u001b[0m - INFO - Training GANDALFModel                                     \n"
      ]
     },
     "metadata": {},
     "output_type": "display_data"
    },
    {
     "data": {
      "text/html": [
       "<pre style=\"white-space:pre;overflow-x:auto;line-height:normal;font-family:Menlo,'DejaVu Sans Mono',consolas,'Courier New',monospace\"><span style=\"color: #008080; text-decoration-color: #008080; font-weight: bold\">2025</span>-<span style=\"color: #008080; text-decoration-color: #008080; font-weight: bold\">02</span>-<span style=\"color: #008080; text-decoration-color: #008080; font-weight: bold\">23</span> <span style=\"color: #00ff00; text-decoration-color: #00ff00; font-weight: bold\">08:30:49</span>,<span style=\"color: #008080; text-decoration-color: #008080; font-weight: bold\">099</span> - <span style=\"font-weight: bold\">{</span>pytorch_tabular.models.gandalf.gandal<span style=\"color: #00ff00; text-decoration-color: #00ff00; font-weight: bold\">f:109</span><span style=\"font-weight: bold\">}</span> - INFO - Data Aware Initialization of T0    \n",
       "</pre>\n"
      ],
      "text/plain": [
       "\u001b[1;36m2025\u001b[0m-\u001b[1;36m02\u001b[0m-\u001b[1;36m23\u001b[0m \u001b[1;92m08:30:49\u001b[0m,\u001b[1;36m099\u001b[0m - \u001b[1m{\u001b[0mpytorch_tabular.models.gandalf.gandal\u001b[1;92mf:109\u001b[0m\u001b[1m}\u001b[0m - INFO - Data Aware Initialization of T0    \n"
      ]
     },
     "metadata": {},
     "output_type": "display_data"
    },
    {
     "data": {
      "application/vnd.jupyter.widget-view+json": {
       "model_id": "6aa49166ec9145e99fe6b5c9dd2db492",
       "version_major": 2,
       "version_minor": 0
      },
      "text/plain": [
       "Finding best initial lr:   0%|          | 0/100 [00:00<?, ?it/s]"
      ]
     },
     "metadata": {},
     "output_type": "display_data"
    },
    {
     "data": {
      "text/html": [
       "<pre style=\"white-space:pre;overflow-x:auto;line-height:normal;font-family:Menlo,'DejaVu Sans Mono',consolas,'Courier New',monospace\"><span style=\"color: #008080; text-decoration-color: #008080; font-weight: bold\">2025</span>-<span style=\"color: #008080; text-decoration-color: #008080; font-weight: bold\">02</span>-<span style=\"color: #008080; text-decoration-color: #008080; font-weight: bold\">23</span> <span style=\"color: #00ff00; text-decoration-color: #00ff00; font-weight: bold\">08:30:51</span>,<span style=\"color: #008080; text-decoration-color: #008080; font-weight: bold\">646</span> - <span style=\"font-weight: bold\">{</span>pytorch_tabular.models.gandalf.gandal<span style=\"color: #00ff00; text-decoration-color: #00ff00; font-weight: bold\">f:109</span><span style=\"font-weight: bold\">}</span> - INFO - Data Aware Initialization of T0    \n",
       "</pre>\n"
      ],
      "text/plain": [
       "\u001b[1;36m2025\u001b[0m-\u001b[1;36m02\u001b[0m-\u001b[1;36m23\u001b[0m \u001b[1;92m08:30:51\u001b[0m,\u001b[1;36m646\u001b[0m - \u001b[1m{\u001b[0mpytorch_tabular.models.gandalf.gandal\u001b[1;92mf:109\u001b[0m\u001b[1m}\u001b[0m - INFO - Data Aware Initialization of T0    \n"
      ]
     },
     "metadata": {},
     "output_type": "display_data"
    },
    {
     "data": {
      "text/html": [
       "<pre style=\"white-space:pre;overflow-x:auto;line-height:normal;font-family:Menlo,'DejaVu Sans Mono',consolas,'Courier New',monospace\"><span style=\"color: #008080; text-decoration-color: #008080; font-weight: bold\">2025</span>-<span style=\"color: #008080; text-decoration-color: #008080; font-weight: bold\">02</span>-<span style=\"color: #008080; text-decoration-color: #008080; font-weight: bold\">23</span> <span style=\"color: #00ff00; text-decoration-color: #00ff00; font-weight: bold\">08:31:02</span>,<span style=\"color: #008080; text-decoration-color: #008080; font-weight: bold\">018</span> - <span style=\"font-weight: bold\">{</span>pytorch_tabular:<span style=\"color: #008080; text-decoration-color: #008080; font-weight: bold\">382</span><span style=\"font-weight: bold\">}</span> - INFO - Finished Training GANDALFModel                            \n",
       "</pre>\n"
      ],
      "text/plain": [
       "\u001b[1;36m2025\u001b[0m-\u001b[1;36m02\u001b[0m-\u001b[1;36m23\u001b[0m \u001b[1;92m08:31:02\u001b[0m,\u001b[1;36m018\u001b[0m - \u001b[1m{\u001b[0mpytorch_tabular:\u001b[1;36m382\u001b[0m\u001b[1m}\u001b[0m - INFO - Finished Training GANDALFModel                            \n"
      ]
     },
     "metadata": {},
     "output_type": "display_data"
    },
    {
     "data": {
      "text/html": [
       "<pre style=\"white-space:pre;overflow-x:auto;line-height:normal;font-family:Menlo,'DejaVu Sans Mono',consolas,'Courier New',monospace\"><span style=\"color: #008080; text-decoration-color: #008080; font-weight: bold\">2025</span>-<span style=\"color: #008080; text-decoration-color: #008080; font-weight: bold\">02</span>-<span style=\"color: #008080; text-decoration-color: #008080; font-weight: bold\">23</span> <span style=\"color: #00ff00; text-decoration-color: #00ff00; font-weight: bold\">08:31:02</span>,<span style=\"color: #008080; text-decoration-color: #008080; font-weight: bold\">018</span> - <span style=\"font-weight: bold\">{</span>pytorch_tabular:<span style=\"color: #008080; text-decoration-color: #008080; font-weight: bold\">383</span><span style=\"font-weight: bold\">}</span> - INFO - Results: model: GANDALFModel, # Params: <span style=\"color: #008080; text-decoration-color: #008080; font-weight: bold\">7</span> T, epochs: <span style=\"color: #008080; text-decoration-color: #008080; font-weight: bold\">49</span>,  \n",
       "test_loss: <span style=\"color: #008080; text-decoration-color: #008080; font-weight: bold\">2.776019334793091</span>, test_mean_squared_error: <span style=\"color: #008080; text-decoration-color: #008080; font-weight: bold\">2.776019334793091</span>, time_taken: <span style=\"color: #008080; text-decoration-color: #008080; font-weight: bold\">12.944191217422485</span>,          \n",
       "time_taken_per_epoch: <span style=\"color: #008080; text-decoration-color: #008080; font-weight: bold\">0.2641671677024997</span>                                                                           \n",
       "</pre>\n"
      ],
      "text/plain": [
       "\u001b[1;36m2025\u001b[0m-\u001b[1;36m02\u001b[0m-\u001b[1;36m23\u001b[0m \u001b[1;92m08:31:02\u001b[0m,\u001b[1;36m018\u001b[0m - \u001b[1m{\u001b[0mpytorch_tabular:\u001b[1;36m383\u001b[0m\u001b[1m}\u001b[0m - INFO - Results: model: GANDALFModel, # Params: \u001b[1;36m7\u001b[0m T, epochs: \u001b[1;36m49\u001b[0m,  \n",
       "test_loss: \u001b[1;36m2.776019334793091\u001b[0m, test_mean_squared_error: \u001b[1;36m2.776019334793091\u001b[0m, time_taken: \u001b[1;36m12.944191217422485\u001b[0m,          \n",
       "time_taken_per_epoch: \u001b[1;36m0.2641671677024997\u001b[0m                                                                           \n"
      ]
     },
     "metadata": {},
     "output_type": "display_data"
    },
    {
     "data": {
      "text/html": [
       "<pre style=\"white-space:pre;overflow-x:auto;line-height:normal;font-family:Menlo,'DejaVu Sans Mono',consolas,'Courier New',monospace\"><span style=\"color: #008080; text-decoration-color: #008080; font-weight: bold\">2025</span>-<span style=\"color: #008080; text-decoration-color: #008080; font-weight: bold\">02</span>-<span style=\"color: #008080; text-decoration-color: #008080; font-weight: bold\">23</span> <span style=\"color: #00ff00; text-decoration-color: #00ff00; font-weight: bold\">08:31:02</span>,<span style=\"color: #008080; text-decoration-color: #008080; font-weight: bold\">035</span> - <span style=\"font-weight: bold\">{</span>pytorch_tabular:<span style=\"color: #008080; text-decoration-color: #008080; font-weight: bold\">328</span><span style=\"font-weight: bold\">}</span> - INFO - Training GatedAdditiveTreeEnsembleModel                   \n",
       "</pre>\n"
      ],
      "text/plain": [
       "\u001b[1;36m2025\u001b[0m-\u001b[1;36m02\u001b[0m-\u001b[1;36m23\u001b[0m \u001b[1;92m08:31:02\u001b[0m,\u001b[1;36m035\u001b[0m - \u001b[1m{\u001b[0mpytorch_tabular:\u001b[1;36m328\u001b[0m\u001b[1m}\u001b[0m - INFO - Training GatedAdditiveTreeEnsembleModel                   \n"
      ]
     },
     "metadata": {},
     "output_type": "display_data"
    },
    {
     "data": {
      "text/html": [
       "<pre style=\"white-space:pre;overflow-x:auto;line-height:normal;font-family:Menlo,'DejaVu Sans Mono',consolas,'Courier New',monospace\"><span style=\"color: #008080; text-decoration-color: #008080; font-weight: bold\">2025</span>-<span style=\"color: #008080; text-decoration-color: #008080; font-weight: bold\">02</span>-<span style=\"color: #008080; text-decoration-color: #008080; font-weight: bold\">23</span> <span style=\"color: #00ff00; text-decoration-color: #00ff00; font-weight: bold\">08:31:02</span>,<span style=\"color: #008080; text-decoration-color: #008080; font-weight: bold\">084</span> - <span style=\"font-weight: bold\">{</span>pytorch_tabular.models.gate.gate_model:<span style=\"color: #008080; text-decoration-color: #008080; font-weight: bold\">255</span><span style=\"font-weight: bold\">}</span> - INFO - Data Aware Initialization of T0    \n",
       "</pre>\n"
      ],
      "text/plain": [
       "\u001b[1;36m2025\u001b[0m-\u001b[1;36m02\u001b[0m-\u001b[1;36m23\u001b[0m \u001b[1;92m08:31:02\u001b[0m,\u001b[1;36m084\u001b[0m - \u001b[1m{\u001b[0mpytorch_tabular.models.gate.gate_model:\u001b[1;36m255\u001b[0m\u001b[1m}\u001b[0m - INFO - Data Aware Initialization of T0    \n"
      ]
     },
     "metadata": {},
     "output_type": "display_data"
    },
    {
     "data": {
      "application/vnd.jupyter.widget-view+json": {
       "model_id": "25dab3fb88e848e699f2912d0d989af9",
       "version_major": 2,
       "version_minor": 0
      },
      "text/plain": [
       "Finding best initial lr:   0%|          | 0/100 [00:00<?, ?it/s]"
      ]
     },
     "metadata": {},
     "output_type": "display_data"
    },
    {
     "data": {
      "text/html": [
       "<pre style=\"white-space:pre;overflow-x:auto;line-height:normal;font-family:Menlo,'DejaVu Sans Mono',consolas,'Courier New',monospace\"><span style=\"color: #008080; text-decoration-color: #008080; font-weight: bold\">2025</span>-<span style=\"color: #008080; text-decoration-color: #008080; font-weight: bold\">02</span>-<span style=\"color: #008080; text-decoration-color: #008080; font-weight: bold\">23</span> <span style=\"color: #00ff00; text-decoration-color: #00ff00; font-weight: bold\">08:31:10</span>,<span style=\"color: #008080; text-decoration-color: #008080; font-weight: bold\">726</span> - <span style=\"font-weight: bold\">{</span>pytorch_tabular.models.gate.gate_model:<span style=\"color: #008080; text-decoration-color: #008080; font-weight: bold\">255</span><span style=\"font-weight: bold\">}</span> - INFO - Data Aware Initialization of T0    \n",
       "</pre>\n"
      ],
      "text/plain": [
       "\u001b[1;36m2025\u001b[0m-\u001b[1;36m02\u001b[0m-\u001b[1;36m23\u001b[0m \u001b[1;92m08:31:10\u001b[0m,\u001b[1;36m726\u001b[0m - \u001b[1m{\u001b[0mpytorch_tabular.models.gate.gate_model:\u001b[1;36m255\u001b[0m\u001b[1m}\u001b[0m - INFO - Data Aware Initialization of T0    \n"
      ]
     },
     "metadata": {},
     "output_type": "display_data"
    },
    {
     "data": {
      "text/html": [
       "<pre style=\"white-space:pre;overflow-x:auto;line-height:normal;font-family:Menlo,'DejaVu Sans Mono',consolas,'Courier New',monospace\"><span style=\"color: #008080; text-decoration-color: #008080; font-weight: bold\">2025</span>-<span style=\"color: #008080; text-decoration-color: #008080; font-weight: bold\">02</span>-<span style=\"color: #008080; text-decoration-color: #008080; font-weight: bold\">23</span> <span style=\"color: #00ff00; text-decoration-color: #00ff00; font-weight: bold\">08:35:08</span>,<span style=\"color: #008080; text-decoration-color: #008080; font-weight: bold\">054</span> - <span style=\"font-weight: bold\">{</span>pytorch_tabular:<span style=\"color: #008080; text-decoration-color: #008080; font-weight: bold\">382</span><span style=\"font-weight: bold\">}</span> - INFO - Finished Training GatedAdditiveTreeEnsembleModel          \n",
       "</pre>\n"
      ],
      "text/plain": [
       "\u001b[1;36m2025\u001b[0m-\u001b[1;36m02\u001b[0m-\u001b[1;36m23\u001b[0m \u001b[1;92m08:35:08\u001b[0m,\u001b[1;36m054\u001b[0m - \u001b[1m{\u001b[0mpytorch_tabular:\u001b[1;36m382\u001b[0m\u001b[1m}\u001b[0m - INFO - Finished Training GatedAdditiveTreeEnsembleModel          \n"
      ]
     },
     "metadata": {},
     "output_type": "display_data"
    },
    {
     "data": {
      "text/html": [
       "<pre style=\"white-space:pre;overflow-x:auto;line-height:normal;font-family:Menlo,'DejaVu Sans Mono',consolas,'Courier New',monospace\"><span style=\"color: #008080; text-decoration-color: #008080; font-weight: bold\">2025</span>-<span style=\"color: #008080; text-decoration-color: #008080; font-weight: bold\">02</span>-<span style=\"color: #008080; text-decoration-color: #008080; font-weight: bold\">23</span> <span style=\"color: #00ff00; text-decoration-color: #00ff00; font-weight: bold\">08:35:08</span>,<span style=\"color: #008080; text-decoration-color: #008080; font-weight: bold\">055</span> - <span style=\"font-weight: bold\">{</span>pytorch_tabular:<span style=\"color: #008080; text-decoration-color: #008080; font-weight: bold\">383</span><span style=\"font-weight: bold\">}</span> - INFO - Results: model: GatedAdditiveTreeEnsembleModel, # Params: \n",
       "<span style=\"color: #008080; text-decoration-color: #008080; font-weight: bold\">77</span> T, epochs: <span style=\"color: #008080; text-decoration-color: #008080; font-weight: bold\">300</span>, test_loss: <span style=\"color: #008080; text-decoration-color: #008080; font-weight: bold\">24.528846740722656</span>, test_mean_squared_error: <span style=\"color: #008080; text-decoration-color: #008080; font-weight: bold\">24.528846740722656</span>, time_taken:         \n",
       "<span style=\"color: #008080; text-decoration-color: #008080; font-weight: bold\">246.03513956069946</span>, time_taken_per_epoch: <span style=\"color: #008080; text-decoration-color: #008080; font-weight: bold\">0.8201171318689983</span>                                                       \n",
       "</pre>\n"
      ],
      "text/plain": [
       "\u001b[1;36m2025\u001b[0m-\u001b[1;36m02\u001b[0m-\u001b[1;36m23\u001b[0m \u001b[1;92m08:35:08\u001b[0m,\u001b[1;36m055\u001b[0m - \u001b[1m{\u001b[0mpytorch_tabular:\u001b[1;36m383\u001b[0m\u001b[1m}\u001b[0m - INFO - Results: model: GatedAdditiveTreeEnsembleModel, # Params: \n",
       "\u001b[1;36m77\u001b[0m T, epochs: \u001b[1;36m300\u001b[0m, test_loss: \u001b[1;36m24.528846740722656\u001b[0m, test_mean_squared_error: \u001b[1;36m24.528846740722656\u001b[0m, time_taken:         \n",
       "\u001b[1;36m246.03513956069946\u001b[0m, time_taken_per_epoch: \u001b[1;36m0.8201171318689983\u001b[0m                                                       \n"
      ]
     },
     "metadata": {},
     "output_type": "display_data"
    },
    {
     "data": {
      "text/html": [
       "<pre style=\"white-space:pre;overflow-x:auto;line-height:normal;font-family:Menlo,'DejaVu Sans Mono',consolas,'Courier New',monospace\"><span style=\"color: #008080; text-decoration-color: #008080; font-weight: bold\">2025</span>-<span style=\"color: #008080; text-decoration-color: #008080; font-weight: bold\">02</span>-<span style=\"color: #008080; text-decoration-color: #008080; font-weight: bold\">23</span> <span style=\"color: #00ff00; text-decoration-color: #00ff00; font-weight: bold\">08:35:08</span>,<span style=\"color: #008080; text-decoration-color: #008080; font-weight: bold\">071</span> - <span style=\"font-weight: bold\">{</span>pytorch_tabular:<span style=\"color: #008080; text-decoration-color: #008080; font-weight: bold\">328</span><span style=\"font-weight: bold\">}</span> - INFO - Training NODEModel                                        \n",
       "</pre>\n"
      ],
      "text/plain": [
       "\u001b[1;36m2025\u001b[0m-\u001b[1;36m02\u001b[0m-\u001b[1;36m23\u001b[0m \u001b[1;92m08:35:08\u001b[0m,\u001b[1;36m071\u001b[0m - \u001b[1m{\u001b[0mpytorch_tabular:\u001b[1;36m328\u001b[0m\u001b[1m}\u001b[0m - INFO - Training NODEModel                                        \n"
      ]
     },
     "metadata": {},
     "output_type": "display_data"
    },
    {
     "data": {
      "text/html": [
       "<pre style=\"white-space:pre;overflow-x:auto;line-height:normal;font-family:Menlo,'DejaVu Sans Mono',consolas,'Courier New',monospace\"><span style=\"color: #008080; text-decoration-color: #008080; font-weight: bold\">2025</span>-<span style=\"color: #008080; text-decoration-color: #008080; font-weight: bold\">02</span>-<span style=\"color: #008080; text-decoration-color: #008080; font-weight: bold\">23</span> <span style=\"color: #00ff00; text-decoration-color: #00ff00; font-weight: bold\">08:35:08</span>,<span style=\"color: #008080; text-decoration-color: #008080; font-weight: bold\">089</span> - <span style=\"font-weight: bold\">{</span>pytorch_tabular.models.node.node_model:<span style=\"color: #008080; text-decoration-color: #008080; font-weight: bold\">74</span><span style=\"font-weight: bold\">}</span> - INFO - Data Aware Initialization of NODE   \n",
       "using a forward pass with <span style=\"color: #008080; text-decoration-color: #008080; font-weight: bold\">2000</span> batch size<span style=\"color: #808000; text-decoration-color: #808000\">...</span>.                                                                      \n",
       "</pre>\n"
      ],
      "text/plain": [
       "\u001b[1;36m2025\u001b[0m-\u001b[1;36m02\u001b[0m-\u001b[1;36m23\u001b[0m \u001b[1;92m08:35:08\u001b[0m,\u001b[1;36m089\u001b[0m - \u001b[1m{\u001b[0mpytorch_tabular.models.node.node_model:\u001b[1;36m74\u001b[0m\u001b[1m}\u001b[0m - INFO - Data Aware Initialization of NODE   \n",
       "using a forward pass with \u001b[1;36m2000\u001b[0m batch size\u001b[33m...\u001b[0m.                                                                      \n"
      ]
     },
     "metadata": {},
     "output_type": "display_data"
    },
    {
     "data": {
      "application/vnd.jupyter.widget-view+json": {
       "model_id": "6257008c035741e6ac7b4bc8675548cb",
       "version_major": 2,
       "version_minor": 0
      },
      "text/plain": [
       "Finding best initial lr:   0%|          | 0/100 [00:00<?, ?it/s]"
      ]
     },
     "metadata": {},
     "output_type": "display_data"
    },
    {
     "data": {
      "text/html": [
       "<pre style=\"white-space:pre;overflow-x:auto;line-height:normal;font-family:Menlo,'DejaVu Sans Mono',consolas,'Courier New',monospace\"><span style=\"color: #008080; text-decoration-color: #008080; font-weight: bold\">2025</span>-<span style=\"color: #008080; text-decoration-color: #008080; font-weight: bold\">02</span>-<span style=\"color: #008080; text-decoration-color: #008080; font-weight: bold\">23</span> <span style=\"color: #00ff00; text-decoration-color: #00ff00; font-weight: bold\">08:35:14</span>,<span style=\"color: #008080; text-decoration-color: #008080; font-weight: bold\">036</span> - <span style=\"font-weight: bold\">{</span>pytorch_tabular.models.node.node_model:<span style=\"color: #008080; text-decoration-color: #008080; font-weight: bold\">74</span><span style=\"font-weight: bold\">}</span> - INFO - Data Aware Initialization of NODE   \n",
       "using a forward pass with <span style=\"color: #008080; text-decoration-color: #008080; font-weight: bold\">2000</span> batch size<span style=\"color: #808000; text-decoration-color: #808000\">...</span>.                                                                      \n",
       "</pre>\n"
      ],
      "text/plain": [
       "\u001b[1;36m2025\u001b[0m-\u001b[1;36m02\u001b[0m-\u001b[1;36m23\u001b[0m \u001b[1;92m08:35:14\u001b[0m,\u001b[1;36m036\u001b[0m - \u001b[1m{\u001b[0mpytorch_tabular.models.node.node_model:\u001b[1;36m74\u001b[0m\u001b[1m}\u001b[0m - INFO - Data Aware Initialization of NODE   \n",
       "using a forward pass with \u001b[1;36m2000\u001b[0m batch size\u001b[33m...\u001b[0m.                                                                      \n"
      ]
     },
     "metadata": {},
     "output_type": "display_data"
    },
    {
     "data": {
      "text/html": [
       "<pre style=\"white-space:pre;overflow-x:auto;line-height:normal;font-family:Menlo,'DejaVu Sans Mono',consolas,'Courier New',monospace\"><span style=\"color: #008080; text-decoration-color: #008080; font-weight: bold\">2025</span>-<span style=\"color: #008080; text-decoration-color: #008080; font-weight: bold\">02</span>-<span style=\"color: #008080; text-decoration-color: #008080; font-weight: bold\">23</span> <span style=\"color: #00ff00; text-decoration-color: #00ff00; font-weight: bold\">08:35:35</span>,<span style=\"color: #008080; text-decoration-color: #008080; font-weight: bold\">921</span> - <span style=\"font-weight: bold\">{</span>pytorch_tabular:<span style=\"color: #008080; text-decoration-color: #008080; font-weight: bold\">382</span><span style=\"font-weight: bold\">}</span> - INFO - Finished Training NODEModel                               \n",
       "</pre>\n"
      ],
      "text/plain": [
       "\u001b[1;36m2025\u001b[0m-\u001b[1;36m02\u001b[0m-\u001b[1;36m23\u001b[0m \u001b[1;92m08:35:35\u001b[0m,\u001b[1;36m921\u001b[0m - \u001b[1m{\u001b[0mpytorch_tabular:\u001b[1;36m382\u001b[0m\u001b[1m}\u001b[0m - INFO - Finished Training NODEModel                               \n"
      ]
     },
     "metadata": {},
     "output_type": "display_data"
    },
    {
     "data": {
      "text/html": [
       "<pre style=\"white-space:pre;overflow-x:auto;line-height:normal;font-family:Menlo,'DejaVu Sans Mono',consolas,'Courier New',monospace\"><span style=\"color: #008080; text-decoration-color: #008080; font-weight: bold\">2025</span>-<span style=\"color: #008080; text-decoration-color: #008080; font-weight: bold\">02</span>-<span style=\"color: #008080; text-decoration-color: #008080; font-weight: bold\">23</span> <span style=\"color: #00ff00; text-decoration-color: #00ff00; font-weight: bold\">08:35:35</span>,<span style=\"color: #008080; text-decoration-color: #008080; font-weight: bold\">922</span> - <span style=\"font-weight: bold\">{</span>pytorch_tabular:<span style=\"color: #008080; text-decoration-color: #008080; font-weight: bold\">383</span><span style=\"font-weight: bold\">}</span> - INFO - Results: model: NODEModel, # Params: <span style=\"color: #008080; text-decoration-color: #008080; font-weight: bold\">720</span> T, epochs: <span style=\"color: #008080; text-decoration-color: #008080; font-weight: bold\">49</span>,   \n",
       "test_loss: <span style=\"color: #008080; text-decoration-color: #008080; font-weight: bold\">22.764732360839844</span>, test_mean_squared_error: <span style=\"color: #008080; text-decoration-color: #008080; font-weight: bold\">22.764732360839844</span>, time_taken: <span style=\"color: #008080; text-decoration-color: #008080; font-weight: bold\">27.8646821975708</span>,          \n",
       "time_taken_per_epoch: <span style=\"color: #008080; text-decoration-color: #008080; font-weight: bold\">0.5686669836238939</span>                                                                           \n",
       "</pre>\n"
      ],
      "text/plain": [
       "\u001b[1;36m2025\u001b[0m-\u001b[1;36m02\u001b[0m-\u001b[1;36m23\u001b[0m \u001b[1;92m08:35:35\u001b[0m,\u001b[1;36m922\u001b[0m - \u001b[1m{\u001b[0mpytorch_tabular:\u001b[1;36m383\u001b[0m\u001b[1m}\u001b[0m - INFO - Results: model: NODEModel, # Params: \u001b[1;36m720\u001b[0m T, epochs: \u001b[1;36m49\u001b[0m,   \n",
       "test_loss: \u001b[1;36m22.764732360839844\u001b[0m, test_mean_squared_error: \u001b[1;36m22.764732360839844\u001b[0m, time_taken: \u001b[1;36m27.8646821975708\u001b[0m,          \n",
       "time_taken_per_epoch: \u001b[1;36m0.5686669836238939\u001b[0m                                                                           \n"
      ]
     },
     "metadata": {},
     "output_type": "display_data"
    },
    {
     "data": {
      "text/html": [
       "<pre style=\"white-space:pre;overflow-x:auto;line-height:normal;font-family:Menlo,'DejaVu Sans Mono',consolas,'Courier New',monospace\"><span style=\"color: #008080; text-decoration-color: #008080; font-weight: bold\">2025</span>-<span style=\"color: #008080; text-decoration-color: #008080; font-weight: bold\">02</span>-<span style=\"color: #008080; text-decoration-color: #008080; font-weight: bold\">23</span> <span style=\"color: #00ff00; text-decoration-color: #00ff00; font-weight: bold\">08:35:35</span>,<span style=\"color: #008080; text-decoration-color: #008080; font-weight: bold\">938</span> - <span style=\"font-weight: bold\">{</span>pytorch_tabular:<span style=\"color: #008080; text-decoration-color: #008080; font-weight: bold\">328</span><span style=\"font-weight: bold\">}</span> - INFO - Training TabNetModel                                      \n",
       "</pre>\n"
      ],
      "text/plain": [
       "\u001b[1;36m2025\u001b[0m-\u001b[1;36m02\u001b[0m-\u001b[1;36m23\u001b[0m \u001b[1;92m08:35:35\u001b[0m,\u001b[1;36m938\u001b[0m - \u001b[1m{\u001b[0mpytorch_tabular:\u001b[1;36m328\u001b[0m\u001b[1m}\u001b[0m - INFO - Training TabNetModel                                      \n"
      ]
     },
     "metadata": {},
     "output_type": "display_data"
    },
    {
     "data": {
      "application/vnd.jupyter.widget-view+json": {
       "model_id": "98b309dd2a54434080300fd83eda0cf1",
       "version_major": 2,
       "version_minor": 0
      },
      "text/plain": [
       "Finding best initial lr:   0%|          | 0/100 [00:00<?, ?it/s]"
      ]
     },
     "metadata": {},
     "output_type": "display_data"
    },
    {
     "data": {
      "text/html": [
       "<pre style=\"white-space:pre;overflow-x:auto;line-height:normal;font-family:Menlo,'DejaVu Sans Mono',consolas,'Courier New',monospace\"><span style=\"color: #008080; text-decoration-color: #008080; font-weight: bold\">2025</span>-<span style=\"color: #008080; text-decoration-color: #008080; font-weight: bold\">02</span>-<span style=\"color: #008080; text-decoration-color: #008080; font-weight: bold\">23</span> <span style=\"color: #00ff00; text-decoration-color: #00ff00; font-weight: bold\">08:36:01</span>,<span style=\"color: #008080; text-decoration-color: #008080; font-weight: bold\">254</span> - <span style=\"font-weight: bold\">{</span>pytorch_tabular:<span style=\"color: #008080; text-decoration-color: #008080; font-weight: bold\">382</span><span style=\"font-weight: bold\">}</span> - INFO - Finished Training TabNetModel                             \n",
       "</pre>\n"
      ],
      "text/plain": [
       "\u001b[1;36m2025\u001b[0m-\u001b[1;36m02\u001b[0m-\u001b[1;36m23\u001b[0m \u001b[1;92m08:36:01\u001b[0m,\u001b[1;36m254\u001b[0m - \u001b[1m{\u001b[0mpytorch_tabular:\u001b[1;36m382\u001b[0m\u001b[1m}\u001b[0m - INFO - Finished Training TabNetModel                             \n"
      ]
     },
     "metadata": {},
     "output_type": "display_data"
    },
    {
     "data": {
      "text/html": [
       "<pre style=\"white-space:pre;overflow-x:auto;line-height:normal;font-family:Menlo,'DejaVu Sans Mono',consolas,'Courier New',monospace\"><span style=\"color: #008080; text-decoration-color: #008080; font-weight: bold\">2025</span>-<span style=\"color: #008080; text-decoration-color: #008080; font-weight: bold\">02</span>-<span style=\"color: #008080; text-decoration-color: #008080; font-weight: bold\">23</span> <span style=\"color: #00ff00; text-decoration-color: #00ff00; font-weight: bold\">08:36:01</span>,<span style=\"color: #008080; text-decoration-color: #008080; font-weight: bold\">255</span> - <span style=\"font-weight: bold\">{</span>pytorch_tabular:<span style=\"color: #008080; text-decoration-color: #008080; font-weight: bold\">383</span><span style=\"font-weight: bold\">}</span> - INFO - Results: model: TabNetModel, # Params: <span style=\"color: #008080; text-decoration-color: #008080; font-weight: bold\">6</span> T, epochs: <span style=\"color: #008080; text-decoration-color: #008080; font-weight: bold\">90</span>,   \n",
       "test_loss: <span style=\"color: #008080; text-decoration-color: #008080; font-weight: bold\">21.460956573486328</span>, test_mean_squared_error: <span style=\"color: #008080; text-decoration-color: #008080; font-weight: bold\">21.460956573486328</span>, time_taken: <span style=\"color: #008080; text-decoration-color: #008080; font-weight: bold\">25.331011295318604</span>,        \n",
       "time_taken_per_epoch: <span style=\"color: #008080; text-decoration-color: #008080; font-weight: bold\">0.2814556810590956</span>                                                                           \n",
       "</pre>\n"
      ],
      "text/plain": [
       "\u001b[1;36m2025\u001b[0m-\u001b[1;36m02\u001b[0m-\u001b[1;36m23\u001b[0m \u001b[1;92m08:36:01\u001b[0m,\u001b[1;36m255\u001b[0m - \u001b[1m{\u001b[0mpytorch_tabular:\u001b[1;36m383\u001b[0m\u001b[1m}\u001b[0m - INFO - Results: model: TabNetModel, # Params: \u001b[1;36m6\u001b[0m T, epochs: \u001b[1;36m90\u001b[0m,   \n",
       "test_loss: \u001b[1;36m21.460956573486328\u001b[0m, test_mean_squared_error: \u001b[1;36m21.460956573486328\u001b[0m, time_taken: \u001b[1;36m25.331011295318604\u001b[0m,        \n",
       "time_taken_per_epoch: \u001b[1;36m0.2814556810590956\u001b[0m                                                                           \n"
      ]
     },
     "metadata": {},
     "output_type": "display_data"
    },
    {
     "data": {
      "text/html": [
       "<pre style=\"white-space:pre;overflow-x:auto;line-height:normal;font-family:Menlo,'DejaVu Sans Mono',consolas,'Courier New',monospace\"><span style=\"color: #008080; text-decoration-color: #008080; font-weight: bold\">2025</span>-<span style=\"color: #008080; text-decoration-color: #008080; font-weight: bold\">02</span>-<span style=\"color: #008080; text-decoration-color: #008080; font-weight: bold\">23</span> <span style=\"color: #00ff00; text-decoration-color: #00ff00; font-weight: bold\">08:36:01</span>,<span style=\"color: #008080; text-decoration-color: #008080; font-weight: bold\">271</span> - <span style=\"font-weight: bold\">{</span>pytorch_tabular:<span style=\"color: #008080; text-decoration-color: #008080; font-weight: bold\">328</span><span style=\"font-weight: bold\">}</span> - INFO - Training TabTransformerModel                              \n",
       "</pre>\n"
      ],
      "text/plain": [
       "\u001b[1;36m2025\u001b[0m-\u001b[1;36m02\u001b[0m-\u001b[1;36m23\u001b[0m \u001b[1;92m08:36:01\u001b[0m,\u001b[1;36m271\u001b[0m - \u001b[1m{\u001b[0mpytorch_tabular:\u001b[1;36m328\u001b[0m\u001b[1m}\u001b[0m - INFO - Training TabTransformerModel                              \n"
      ]
     },
     "metadata": {},
     "output_type": "display_data"
    },
    {
     "data": {
      "application/vnd.jupyter.widget-view+json": {
       "model_id": "5744c565a7d047f1b138dcb0fa2c735e",
       "version_major": 2,
       "version_minor": 0
      },
      "text/plain": [
       "Finding best initial lr:   0%|          | 0/100 [00:00<?, ?it/s]"
      ]
     },
     "metadata": {},
     "output_type": "display_data"
    },
    {
     "data": {
      "text/html": [
       "<pre style=\"white-space:pre;overflow-x:auto;line-height:normal;font-family:Menlo,'DejaVu Sans Mono',consolas,'Courier New',monospace\"><span style=\"color: #008080; text-decoration-color: #008080; font-weight: bold\">2025</span>-<span style=\"color: #008080; text-decoration-color: #008080; font-weight: bold\">02</span>-<span style=\"color: #008080; text-decoration-color: #008080; font-weight: bold\">23</span> <span style=\"color: #00ff00; text-decoration-color: #00ff00; font-weight: bold\">08:36:15</span>,<span style=\"color: #008080; text-decoration-color: #008080; font-weight: bold\">913</span> - <span style=\"font-weight: bold\">{</span>pytorch_tabular:<span style=\"color: #008080; text-decoration-color: #008080; font-weight: bold\">382</span><span style=\"font-weight: bold\">}</span> - INFO - Finished Training TabTransformerModel                     \n",
       "</pre>\n"
      ],
      "text/plain": [
       "\u001b[1;36m2025\u001b[0m-\u001b[1;36m02\u001b[0m-\u001b[1;36m23\u001b[0m \u001b[1;92m08:36:15\u001b[0m,\u001b[1;36m913\u001b[0m - \u001b[1m{\u001b[0mpytorch_tabular:\u001b[1;36m382\u001b[0m\u001b[1m}\u001b[0m - INFO - Finished Training TabTransformerModel                     \n"
      ]
     },
     "metadata": {},
     "output_type": "display_data"
    },
    {
     "data": {
      "text/html": [
       "<pre style=\"white-space:pre;overflow-x:auto;line-height:normal;font-family:Menlo,'DejaVu Sans Mono',consolas,'Courier New',monospace\"><span style=\"color: #008080; text-decoration-color: #008080; font-weight: bold\">2025</span>-<span style=\"color: #008080; text-decoration-color: #008080; font-weight: bold\">02</span>-<span style=\"color: #008080; text-decoration-color: #008080; font-weight: bold\">23</span> <span style=\"color: #00ff00; text-decoration-color: #00ff00; font-weight: bold\">08:36:15</span>,<span style=\"color: #008080; text-decoration-color: #008080; font-weight: bold\">914</span> - <span style=\"font-weight: bold\">{</span>pytorch_tabular:<span style=\"color: #008080; text-decoration-color: #008080; font-weight: bold\">383</span><span style=\"font-weight: bold\">}</span> - INFO - Results: model: TabTransformerModel, # Params: <span style=\"color: #008080; text-decoration-color: #008080; font-weight: bold\">271</span> T,     \n",
       "epochs: <span style=\"color: #008080; text-decoration-color: #008080; font-weight: bold\">49</span>, test_loss: <span style=\"color: #008080; text-decoration-color: #008080; font-weight: bold\">7.159618377685547</span>, test_mean_squared_error: <span style=\"color: #008080; text-decoration-color: #008080; font-weight: bold\">7.159618377685547</span>, time_taken:                  \n",
       "<span style=\"color: #008080; text-decoration-color: #008080; font-weight: bold\">14.65751051902771</span>, time_taken_per_epoch: <span style=\"color: #008080; text-decoration-color: #008080; font-weight: bold\">0.2991328677352594</span>                                                        \n",
       "</pre>\n"
      ],
      "text/plain": [
       "\u001b[1;36m2025\u001b[0m-\u001b[1;36m02\u001b[0m-\u001b[1;36m23\u001b[0m \u001b[1;92m08:36:15\u001b[0m,\u001b[1;36m914\u001b[0m - \u001b[1m{\u001b[0mpytorch_tabular:\u001b[1;36m383\u001b[0m\u001b[1m}\u001b[0m - INFO - Results: model: TabTransformerModel, # Params: \u001b[1;36m271\u001b[0m T,     \n",
       "epochs: \u001b[1;36m49\u001b[0m, test_loss: \u001b[1;36m7.159618377685547\u001b[0m, test_mean_squared_error: \u001b[1;36m7.159618377685547\u001b[0m, time_taken:                  \n",
       "\u001b[1;36m14.65751051902771\u001b[0m, time_taken_per_epoch: \u001b[1;36m0.2991328677352594\u001b[0m                                                        \n"
      ]
     },
     "metadata": {},
     "output_type": "display_data"
    },
    {
     "data": {
      "text/html": [
       "<pre style=\"white-space:pre;overflow-x:auto;line-height:normal;font-family:Menlo,'DejaVu Sans Mono',consolas,'Courier New',monospace\"></pre>\n"
      ],
      "text/plain": []
     },
     "metadata": {},
     "output_type": "display_data"
    },
    {
     "data": {
      "text/html": [
       "<pre style=\"white-space:pre;overflow-x:auto;line-height:normal;font-family:Menlo,'DejaVu Sans Mono',consolas,'Courier New',monospace\"><span style=\"color: #008080; text-decoration-color: #008080; font-weight: bold\">2025</span>-<span style=\"color: #008080; text-decoration-color: #008080; font-weight: bold\">02</span>-<span style=\"color: #008080; text-decoration-color: #008080; font-weight: bold\">23</span> <span style=\"color: #00ff00; text-decoration-color: #00ff00; font-weight: bold\">08:36:15</span>,<span style=\"color: #008080; text-decoration-color: #008080; font-weight: bold\">915</span> - <span style=\"font-weight: bold\">{</span>pytorch_tabular:<span style=\"color: #008080; text-decoration-color: #008080; font-weight: bold\">388</span><span style=\"font-weight: bold\">}</span> - INFO - Model Sweep Finished                                      \n",
       "</pre>\n"
      ],
      "text/plain": [
       "\u001b[1;36m2025\u001b[0m-\u001b[1;36m02\u001b[0m-\u001b[1;36m23\u001b[0m \u001b[1;92m08:36:15\u001b[0m,\u001b[1;36m915\u001b[0m - \u001b[1m{\u001b[0mpytorch_tabular:\u001b[1;36m388\u001b[0m\u001b[1m}\u001b[0m - INFO - Model Sweep Finished                                      \n"
      ]
     },
     "metadata": {},
     "output_type": "display_data"
    },
    {
     "data": {
      "text/html": [
       "<pre style=\"white-space:pre;overflow-x:auto;line-height:normal;font-family:Menlo,'DejaVu Sans Mono',consolas,'Courier New',monospace\"><span style=\"color: #008080; text-decoration-color: #008080; font-weight: bold\">2025</span>-<span style=\"color: #008080; text-decoration-color: #008080; font-weight: bold\">02</span>-<span style=\"color: #008080; text-decoration-color: #008080; font-weight: bold\">23</span> <span style=\"color: #00ff00; text-decoration-color: #00ff00; font-weight: bold\">08:36:15</span>,<span style=\"color: #008080; text-decoration-color: #008080; font-weight: bold\">916</span> - <span style=\"font-weight: bold\">{</span>pytorch_tabular:<span style=\"color: #008080; text-decoration-color: #008080; font-weight: bold\">389</span><span style=\"font-weight: bold\">}</span> - INFO - Best Model: GANDALFModel                                  \n",
       "</pre>\n"
      ],
      "text/plain": [
       "\u001b[1;36m2025\u001b[0m-\u001b[1;36m02\u001b[0m-\u001b[1;36m23\u001b[0m \u001b[1;92m08:36:15\u001b[0m,\u001b[1;36m916\u001b[0m - \u001b[1m{\u001b[0mpytorch_tabular:\u001b[1;36m389\u001b[0m\u001b[1m}\u001b[0m - INFO - Best Model: GANDALFModel                                  \n"
      ]
     },
     "metadata": {},
     "output_type": "display_data"
    },
    {
     "name": "stdout",
     "output_type": "stream",
     "text": [
      "Total time: 400.6379806995392\n"
     ]
    }
   ],
   "source": [
    "tic = time.time()\n",
    "sweep_df, best_model = model_sweep(\n",
    "    task='classification' if model_type == 'classifier' else 'regression',  # 'classification' or 'regression'\n",
    "    train=train,\n",
    "    test=valid,\n",
    "    data_config=data_config,\n",
    "    optimizer_config=optimizer_config,\n",
    "    trainer_config=trainer_config,\n",
    "    model_list='high_memory',  # The list of models to compare. This can be one of the presets defined in pytorch_tabular.tabular_model_sweep.MODEL_SWEEP_PRESETS or a list of ModelConfig objects. Defaults to \"lite\".\n",
    "    verbose=True\n",
    ")\n",
    "print(f'Total time: {time.time() - tic}')"
   ]
  },
  {
   "cell_type": "markdown",
   "id": "41f86294-0e61-476e-bff5-af43ddca31c1",
   "metadata": {},
   "source": [
    "O melhor checkpoint de todos treinamentos será armazenado na variável de output, que neste caso estamos chamando de \"best_model\"."
   ]
  },
  {
   "cell_type": "code",
   "execution_count": 14,
   "id": "de2217e8-798a-4ddf-b69a-11e4254b49ac",
   "metadata": {},
   "outputs": [
    {
     "data": {
      "text/html": [
       "<pre style=\"white-space:pre;overflow-x:auto;line-height:normal;font-family:Menlo,'DejaVu Sans Mono',consolas,'Courier New',monospace\">┏━━━━━━━━━━━━━━━━━━━━━━━━━━━┳━━━━━━━━━━━━━━━━━━━━━━━━━━━┓\n",
       "┃<span style=\"font-weight: bold\">        Test metric        </span>┃<span style=\"font-weight: bold\">       DataLoader 0        </span>┃\n",
       "┡━━━━━━━━━━━━━━━━━━━━━━━━━━━╇━━━━━━━━━━━━━━━━━━━━━━━━━━━┩\n",
       "│<span style=\"color: #008080; text-decoration-color: #008080\">         test_loss         </span>│<span style=\"color: #800080; text-decoration-color: #800080\">     2.776019334793091     </span>│\n",
       "│<span style=\"color: #008080; text-decoration-color: #008080\">  test_mean_squared_error  </span>│<span style=\"color: #800080; text-decoration-color: #800080\">     2.776019334793091     </span>│\n",
       "└───────────────────────────┴───────────────────────────┘\n",
       "</pre>\n"
      ],
      "text/plain": [
       "┏━━━━━━━━━━━━━━━━━━━━━━━━━━━┳━━━━━━━━━━━━━━━━━━━━━━━━━━━┓\n",
       "┃\u001b[1m \u001b[0m\u001b[1m       Test metric       \u001b[0m\u001b[1m \u001b[0m┃\u001b[1m \u001b[0m\u001b[1m      DataLoader 0       \u001b[0m\u001b[1m \u001b[0m┃\n",
       "┡━━━━━━━━━━━━━━━━━━━━━━━━━━━╇━━━━━━━━━━━━━━━━━━━━━━━━━━━┩\n",
       "│\u001b[36m \u001b[0m\u001b[36m        test_loss        \u001b[0m\u001b[36m \u001b[0m│\u001b[35m \u001b[0m\u001b[35m    2.776019334793091    \u001b[0m\u001b[35m \u001b[0m│\n",
       "│\u001b[36m \u001b[0m\u001b[36m test_mean_squared_error \u001b[0m\u001b[36m \u001b[0m│\u001b[35m \u001b[0m\u001b[35m    2.776019334793091    \u001b[0m\u001b[35m \u001b[0m│\n",
       "└───────────────────────────┴───────────────────────────┘\n"
      ]
     },
     "metadata": {},
     "output_type": "display_data"
    },
    {
     "name": "stdout",
     "output_type": "stream",
     "text": [
      "Test MSE: 2.776\n",
      "Test inference error (RMSE): ±1.666139050257538\n"
     ]
    }
   ],
   "source": [
    "test_metric = best_model.evaluate(test)\n",
    "if model_type == 'regressor':\n",
    "    print('Test MSE: %.3f' % (test_metric[0]['test_mean_squared_error']))\n",
    "    print(f'Test inference error (RMSE): ±{math.sqrt(test_metric[0][\"test_mean_squared_error\"])}')"
   ]
  },
  {
   "cell_type": "markdown",
   "id": "56fb7720-6c4e-4e46-8f80-519692c1c2e2",
   "metadata": {},
   "source": [
    "Lembrando que: Cada vez que rodar o treinamento o resultado pode ser diferente!"
   ]
  },
  {
   "cell_type": "code",
   "execution_count": 15,
   "id": "5c8a2493-e2f3-49a2-9ddc-e063f80c8d84",
   "metadata": {},
   "outputs": [
    {
     "data": {
      "text/html": [
       "<style type=\"text/css\">\n",
       "#T_92747_row0_col3 {\n",
       "  background-color: #a50026;\n",
       "  color: #f1f1f1;\n",
       "  background-color: #006837;\n",
       "  color: #f1f1f1;\n",
       "}\n",
       "#T_92747_row0_col5 {\n",
       "  background-color: #51b35e;\n",
       "  color: #f1f1f1;\n",
       "}\n",
       "#T_92747_row1_col3 {\n",
       "  background-color: #af0926;\n",
       "  color: #f1f1f1;\n",
       "  background-color: #05713c;\n",
       "  color: #f1f1f1;\n",
       "}\n",
       "#T_92747_row1_col5 {\n",
       "  background-color: #63bc62;\n",
       "  color: #f1f1f1;\n",
       "}\n",
       "#T_92747_row2_col3 {\n",
       "  background-color: #f46d43;\n",
       "  color: #f1f1f1;\n",
       "  background-color: #66bd63;\n",
       "  color: #f1f1f1;\n",
       "}\n",
       "#T_92747_row2_col5 {\n",
       "  background-color: #75c465;\n",
       "  color: #000000;\n",
       "}\n",
       "#T_92747_row3_col3 {\n",
       "  background-color: #39a758;\n",
       "  color: #f1f1f1;\n",
       "  background-color: #e34933;\n",
       "  color: #f1f1f1;\n",
       "}\n",
       "#T_92747_row3_col5 {\n",
       "  background-color: #66bd63;\n",
       "  color: #f1f1f1;\n",
       "}\n",
       "#T_92747_row4_col3, #T_92747_row5_col3 {\n",
       "  background-color: #148e4b;\n",
       "  color: #f1f1f1;\n",
       "  background-color: #cc2627;\n",
       "  color: #f1f1f1;\n",
       "}\n",
       "#T_92747_row4_col5 {\n",
       "  background-color: #fed27f;\n",
       "  color: #000000;\n",
       "}\n",
       "#T_92747_row5_col5 {\n",
       "  background-color: #fed07e;\n",
       "  color: #000000;\n",
       "}\n",
       "#T_92747_row6_col3, #T_92747_row7_col3 {\n",
       "  background-color: #138c4a;\n",
       "  color: #f1f1f1;\n",
       "  background-color: #ca2427;\n",
       "  color: #f1f1f1;\n",
       "}\n",
       "#T_92747_row6_col5 {\n",
       "  background-color: #36a657;\n",
       "  color: #f1f1f1;\n",
       "}\n",
       "#T_92747_row7_col5 {\n",
       "  background-color: #006837;\n",
       "  color: #f1f1f1;\n",
       "}\n",
       "#T_92747_row8_col3 {\n",
       "  background-color: #006837;\n",
       "  color: #f1f1f1;\n",
       "  background-color: #a50026;\n",
       "  color: #f1f1f1;\n",
       "}\n",
       "#T_92747_row8_col5 {\n",
       "  background-color: #a50026;\n",
       "  color: #f1f1f1;\n",
       "}\n",
       "</style>\n",
       "<table id=\"T_92747\">\n",
       "  <thead>\n",
       "    <tr>\n",
       "      <th class=\"blank level0\" >&nbsp;</th>\n",
       "      <th id=\"T_92747_level0_col0\" class=\"col_heading level0 col0\" >model</th>\n",
       "      <th id=\"T_92747_level0_col1\" class=\"col_heading level0 col1\" ># Params</th>\n",
       "      <th id=\"T_92747_level0_col2\" class=\"col_heading level0 col2\" >epochs</th>\n",
       "      <th id=\"T_92747_level0_col3\" class=\"col_heading level0 col3\" >test_loss</th>\n",
       "      <th id=\"T_92747_level0_col4\" class=\"col_heading level0 col4\" >test_mean_squared_error</th>\n",
       "      <th id=\"T_92747_level0_col5\" class=\"col_heading level0 col5\" >time_taken_per_epoch</th>\n",
       "      <th id=\"T_92747_level0_col6\" class=\"col_heading level0 col6\" >test_rmse</th>\n",
       "    </tr>\n",
       "  </thead>\n",
       "  <tbody>\n",
       "    <tr>\n",
       "      <th id=\"T_92747_level0_row0\" class=\"row_heading level0 row0\" >4</th>\n",
       "      <td id=\"T_92747_row0_col0\" class=\"data row0 col0\" >GANDALFModel</td>\n",
       "      <td id=\"T_92747_row0_col1\" class=\"data row0 col1\" >7 T</td>\n",
       "      <td id=\"T_92747_row0_col2\" class=\"data row0 col2\" >49</td>\n",
       "      <td id=\"T_92747_row0_col3\" class=\"data row0 col3\" >2.776019</td>\n",
       "      <td id=\"T_92747_row0_col4\" class=\"data row0 col4\" >2.776019</td>\n",
       "      <td id=\"T_92747_row0_col5\" class=\"data row0 col5\" >0.264167</td>\n",
       "      <td id=\"T_92747_row0_col6\" class=\"data row0 col6\" >1.666139</td>\n",
       "    </tr>\n",
       "    <tr>\n",
       "      <th id=\"T_92747_level0_row1\" class=\"row_heading level0 row1\" >3</th>\n",
       "      <td id=\"T_92747_row1_col0\" class=\"data row1 col0\" >FTTransformerModel</td>\n",
       "      <td id=\"T_92747_row1_col1\" class=\"data row1 col1\" >272 T</td>\n",
       "      <td id=\"T_92747_row1_col2\" class=\"data row1 col2\" >58</td>\n",
       "      <td id=\"T_92747_row1_col3\" class=\"data row1 col3\" >3.208240</td>\n",
       "      <td id=\"T_92747_row1_col4\" class=\"data row1 col4\" >3.208240</td>\n",
       "      <td id=\"T_92747_row1_col5\" class=\"data row1 col5\" >0.280399</td>\n",
       "      <td id=\"T_92747_row1_col6\" class=\"data row1 col6\" >1.791156</td>\n",
       "    </tr>\n",
       "    <tr>\n",
       "      <th id=\"T_92747_level0_row2\" class=\"row_heading level0 row2\" >8</th>\n",
       "      <td id=\"T_92747_row2_col0\" class=\"data row2 col0\" >TabTransformerModel</td>\n",
       "      <td id=\"T_92747_row2_col1\" class=\"data row2 col1\" >271 T</td>\n",
       "      <td id=\"T_92747_row2_col2\" class=\"data row2 col2\" >49</td>\n",
       "      <td id=\"T_92747_row2_col3\" class=\"data row2 col3\" >7.159618</td>\n",
       "      <td id=\"T_92747_row2_col4\" class=\"data row2 col4\" >7.159618</td>\n",
       "      <td id=\"T_92747_row2_col5\" class=\"data row2 col5\" >0.299133</td>\n",
       "      <td id=\"T_92747_row2_col6\" class=\"data row2 col6\" >2.675746</td>\n",
       "    </tr>\n",
       "    <tr>\n",
       "      <th id=\"T_92747_level0_row3\" class=\"row_heading level0 row3\" >7</th>\n",
       "      <td id=\"T_92747_row3_col0\" class=\"data row3 col0\" >TabNetModel</td>\n",
       "      <td id=\"T_92747_row3_col1\" class=\"data row3 col1\" >6 T</td>\n",
       "      <td id=\"T_92747_row3_col2\" class=\"data row3 col2\" >90</td>\n",
       "      <td id=\"T_92747_row3_col3\" class=\"data row3 col3\" >21.460957</td>\n",
       "      <td id=\"T_92747_row3_col4\" class=\"data row3 col4\" >21.460957</td>\n",
       "      <td id=\"T_92747_row3_col5\" class=\"data row3 col5\" >0.281456</td>\n",
       "      <td id=\"T_92747_row3_col6\" class=\"data row3 col6\" >4.632597</td>\n",
       "    </tr>\n",
       "    <tr>\n",
       "      <th id=\"T_92747_level0_row4\" class=\"row_heading level0 row4\" >6</th>\n",
       "      <td id=\"T_92747_row4_col0\" class=\"data row4 col0\" >NODEModel</td>\n",
       "      <td id=\"T_92747_row4_col1\" class=\"data row4 col1\" >720 T</td>\n",
       "      <td id=\"T_92747_row4_col2\" class=\"data row4 col2\" >49</td>\n",
       "      <td id=\"T_92747_row4_col3\" class=\"data row4 col3\" >22.764732</td>\n",
       "      <td id=\"T_92747_row4_col4\" class=\"data row4 col4\" >22.764732</td>\n",
       "      <td id=\"T_92747_row4_col5\" class=\"data row4 col5\" >0.568667</td>\n",
       "      <td id=\"T_92747_row4_col6\" class=\"data row4 col6\" >4.771240</td>\n",
       "    </tr>\n",
       "    <tr>\n",
       "      <th id=\"T_92747_level0_row5\" class=\"row_heading level0 row5\" >2</th>\n",
       "      <td id=\"T_92747_row5_col0\" class=\"data row5 col0\" >DANetModel</td>\n",
       "      <td id=\"T_92747_row5_col1\" class=\"data row5 col1\" >426 T</td>\n",
       "      <td id=\"T_92747_row5_col2\" class=\"data row5 col2\" >49</td>\n",
       "      <td id=\"T_92747_row5_col3\" class=\"data row5 col3\" >22.791798</td>\n",
       "      <td id=\"T_92747_row5_col4\" class=\"data row5 col4\" >22.791798</td>\n",
       "      <td id=\"T_92747_row5_col5\" class=\"data row5 col5\" >0.570299</td>\n",
       "      <td id=\"T_92747_row5_col6\" class=\"data row5 col6\" >4.774076</td>\n",
       "    </tr>\n",
       "    <tr>\n",
       "      <th id=\"T_92747_level0_row6\" class=\"row_heading level0 row6\" >1</th>\n",
       "      <td id=\"T_92747_row6_col0\" class=\"data row6 col0\" >CategoryEmbeddingModel</td>\n",
       "      <td id=\"T_92747_row6_col1\" class=\"data row6 col1\" >12 T</td>\n",
       "      <td id=\"T_92747_row6_col2\" class=\"data row6 col2\" >33</td>\n",
       "      <td id=\"T_92747_row6_col3\" class=\"data row6 col3\" >22.875252</td>\n",
       "      <td id=\"T_92747_row6_col4\" class=\"data row6 col4\" >22.875252</td>\n",
       "      <td id=\"T_92747_row6_col5\" class=\"data row6 col5\" >0.239078</td>\n",
       "      <td id=\"T_92747_row6_col6\" class=\"data row6 col6\" >4.782808</td>\n",
       "    </tr>\n",
       "    <tr>\n",
       "      <th id=\"T_92747_level0_row7\" class=\"row_heading level0 row7\" >0</th>\n",
       "      <td id=\"T_92747_row7_col0\" class=\"data row7 col0\" >AutoIntModel</td>\n",
       "      <td id=\"T_92747_row7_col1\" class=\"data row7 col1\" >14 T</td>\n",
       "      <td id=\"T_92747_row7_col2\" class=\"data row7 col2\" >147</td>\n",
       "      <td id=\"T_92747_row7_col3\" class=\"data row7 col3\" >22.912861</td>\n",
       "      <td id=\"T_92747_row7_col4\" class=\"data row7 col4\" >22.912861</td>\n",
       "      <td id=\"T_92747_row7_col5\" class=\"data row7 col5\" >0.146812</td>\n",
       "      <td id=\"T_92747_row7_col6\" class=\"data row7 col6\" >4.786738</td>\n",
       "    </tr>\n",
       "    <tr>\n",
       "      <th id=\"T_92747_level0_row8\" class=\"row_heading level0 row8\" >5</th>\n",
       "      <td id=\"T_92747_row8_col0\" class=\"data row8 col0\" >GatedAdditiveTreeEnsembleModel</td>\n",
       "      <td id=\"T_92747_row8_col1\" class=\"data row8 col1\" >77 T</td>\n",
       "      <td id=\"T_92747_row8_col2\" class=\"data row8 col2\" >300</td>\n",
       "      <td id=\"T_92747_row8_col3\" class=\"data row8 col3\" >24.528847</td>\n",
       "      <td id=\"T_92747_row8_col4\" class=\"data row8 col4\" >24.528847</td>\n",
       "      <td id=\"T_92747_row8_col5\" class=\"data row8 col5\" >0.820117</td>\n",
       "      <td id=\"T_92747_row8_col6\" class=\"data row8 col6\" >4.952661</td>\n",
       "    </tr>\n",
       "  </tbody>\n",
       "</table>\n"
      ],
      "text/plain": [
       "<pandas.io.formats.style.Styler at 0x74abe0d5d000>"
      ]
     },
     "execution_count": 15,
     "metadata": {},
     "output_type": "execute_result"
    }
   ],
   "source": [
    "# Replace \"OOM\" with 0.0\n",
    "sweep_df.replace(['OOM', np.nan], 0.0, inplace=True)\n",
    "sweep_df.replace([np.inf], 999., inplace=True)\n",
    "\n",
    "if model_type == 'regressor':\n",
    "    sweep_df['test_rmse'] = np.sqrt(sweep_df['test_mean_squared_error'])\n",
    "\n",
    "sweep_df.drop(columns=['params', 'time_taken']).sort_values(\n",
    "    'test_accuracy' if model_type == 'classifier' else 'test_loss', ascending=False if model_type == 'classifier' else True).style.background_gradient(\n",
    "    subset=['test_accuracy' if model_type == 'classifier' else 'test_loss'], cmap='RdYlGn'\n",
    ").background_gradient(subset=['time_taken_per_epoch', 'test_loss'], cmap='RdYlGn_r')"
   ]
  },
  {
   "cell_type": "code",
   "execution_count": 16,
   "id": "b72c4c16-0908-4184-85be-d188a30c7aa6",
   "metadata": {},
   "outputs": [],
   "source": [
    "# Save best model\n",
    "best_model.save_model('results/best_model_pytorch_tabular', inference_only=True)\n",
    "\n",
    "# Save columns names and informations\n",
    "data_to_save = {\n",
    "    'col_names_order': col_names_order,\n",
    "    'num_col_names': num_col_names,\n",
    "    'cat_col_names': cat_col_names,\n",
    "    'date_col_names': date_col_names,\n",
    "    'target_cols': target_cols,\n",
    "    'category_mappings': category_mappings,\n",
    "    'window_size': window_size\n",
    "}\n",
    "with open('results/columns_metadata_pytorch_tabular.json', 'w') as json_file:\n",
    "    json.dump(data_to_save, json_file, indent=4)"
   ]
  },
  {
   "cell_type": "markdown",
   "id": "813e3158-0db3-482c-b5eb-9be4b5699f78",
   "metadata": {},
   "source": [
    "### Fine-tuning Hyperparametrs\n",
    "Show, agora que sabemos as melhores arquiteturas para o nosso modelo, podemos brincar com ela(s) para buscar melhores hiperparâmetros para termos resultados ainda melhores. Para isso o Pytorch Tabular disponibilizar a função [tuner](https://pytorch-tabular.readthedocs.io/en/latest/apidocs_coreclasses/#pytorch_tabular.TabularModelTuner.tune)."
   ]
  },
  {
   "cell_type": "markdown",
   "id": "7df8050c-c222-4447-99ab-007b56e6c6a8",
   "metadata": {},
   "source": [
    "Configurações dos modelos: https://pytorch-tabular.readthedocs.io/en/latest/apidocs_model/\n",
    "\n",
    "Mais informações de como o hyperparameter space funcionam: https://pytorch-tabular.readthedocs.io/en/latest/tutorials/10-Hyperparameter%20Tuning/#define-the-hyperparameter-space\n",
    "\n",
    "Neste caso vamos pegar as duas arquiteturas que se sairam bem e brinca com elas."
   ]
  },
  {
   "cell_type": "code",
   "execution_count": 19,
   "id": "e3421d5e-7e46-413f-b0ea-06a7afbdeec0",
   "metadata": {},
   "outputs": [],
   "source": [
    "from pytorch_tabular.tabular_model_tuner import TabularModelTuner\n",
    "\n",
    "from pytorch_tabular.models import (\n",
    "    GANDALFConfig,\n",
    "    FTTransformerConfig,\n",
    ")   "
   ]
  },
  {
   "cell_type": "markdown",
   "id": "e76edf9a-901d-4b67-808e-d56809661221",
   "metadata": {},
   "source": [
    "As configurações dos spaces que serão utilizados sempre irão começar com nome da configuração, dois underlines e o parâmetro. Sendo seus valores uma lista com todas as configurações que deseja testar."
   ]
  },
  {
   "cell_type": "code",
   "execution_count": 20,
   "id": "80497ee5-5761-4317-8180-df2fe73437ca",
   "metadata": {},
   "outputs": [],
   "source": [
    "model_config_GANDALFConfig = GANDALFConfig(task='classification' if model_type == 'classifier' else 'regression')\n",
    "\n",
    "search_space_GANDALFConfig = {\n",
    "    'optimizer_config__optimizer': ['Adam', 'AdamW'],\n",
    "    'model_config__gflu_stages': [6, 12, 15],\n",
    "    'model_config__gflu_dropout': [0.0, 0.2],\n",
    "    #\"model_config__embedding_dropout\": [0.0, 0.2],\n",
    "}"
   ]
  },
  {
   "cell_type": "code",
   "execution_count": 21,
   "id": "33e0c298-ddd9-4e62-9aea-30a3d8daa577",
   "metadata": {},
   "outputs": [],
   "source": [
    "model_config_FTTransformerConfig = FTTransformerConfig(task='classification' if model_type == 'classifier' else 'regression')\n",
    "\n",
    "search_space_FTTransformerConfig = {\n",
    "    \"model_config__input_embed_dim\": [16, 32, 64],\n",
    "    'model_config__num_heads': [4, 8, 16],\n",
    "    \"model_config__transformer_activation\": ['GEGLU', 'ReLU', 'LeakyReLU'],\n",
    "}"
   ]
  },
  {
   "cell_type": "markdown",
   "id": "2d4034f3-946a-480b-888c-0367c35cca54",
   "metadata": {},
   "source": [
    "Para informar o tuner quais arquiteturas e hiperparâmetros testar, é necessário adicioná-los em listas. Ressaltando que ambas listas devem estar ordenadas iguais e ter o mesmo tamanho (irá utilizar primeiro elemento de models com primeiro de search_space, segundo com segundo,...)"
   ]
  },
  {
   "cell_type": "code",
   "execution_count": 23,
   "id": "52004721-37ae-4043-a175-8b9564b3d0db",
   "metadata": {},
   "outputs": [],
   "source": [
    "all_models = [model_config_GANDALFConfig, model_config_FTTransformerConfig]\n",
    "all_search_space = [search_space_GANDALFConfig, search_space_FTTransformerConfig]"
   ]
  },
  {
   "cell_type": "markdown",
   "id": "f430eb5c-1704-4c40-a730-4aed62949602",
   "metadata": {},
   "source": [
    "O tuner possui duas \"strategy\" principais:\n",
    "- grid_search: Para pesquisar todos os hiperparâmetros que foram definidos, mas lembre-se que cada novo campo que você adicionar aumentará consideravelmente o tempo total de treinamento. Se você configurar 4 otimizadores, 4 layes, 2 ativações e 2 dropout, isso significa 64 (4 * 4 * 2 * 2) treinamentos.\n",
    "- random_search: Obterá aleatoriamente configurações de hiperparâmetros \"n_trials\" de cada modelo que foi definido. É útil para um treinamento mais rápido, mas lembre-se de que não testará todos os hiperparâmetros."
   ]
  },
  {
   "cell_type": "code",
   "execution_count": 24,
   "id": "9948aea6-f063-4d7a-ac18-78a14ac648e3",
   "metadata": {
    "scrolled": true
   },
   "outputs": [
    {
     "data": {
      "application/vnd.jupyter.widget-view+json": {
       "model_id": "e8e63cbc6b0e4cab93d262b39b273e95",
       "version_major": 2,
       "version_minor": 0
      },
      "text/plain": [
       "Output()"
      ]
     },
     "metadata": {},
     "output_type": "display_data"
    },
    {
     "data": {
      "text/html": [
       "<pre style=\"white-space:pre;overflow-x:auto;line-height:normal;font-family:Menlo,'DejaVu Sans Mono',consolas,'Courier New',monospace\"><span style=\"color: #008080; text-decoration-color: #008080; font-weight: bold\">2025</span>-<span style=\"color: #008080; text-decoration-color: #008080; font-weight: bold\">02</span>-<span style=\"color: #008080; text-decoration-color: #008080; font-weight: bold\">23</span> <span style=\"color: #00ff00; text-decoration-color: #00ff00; font-weight: bold\">08:57:26</span>,<span style=\"color: #008080; text-decoration-color: #008080; font-weight: bold\">470</span> - <span style=\"font-weight: bold\">{</span>pytorch_tabular.models.gandalf.gandal<span style=\"color: #00ff00; text-decoration-color: #00ff00; font-weight: bold\">f:109</span><span style=\"font-weight: bold\">}</span> - INFO - Data Aware Initialization of T0    \n",
       "</pre>\n"
      ],
      "text/plain": [
       "\u001b[1;36m2025\u001b[0m-\u001b[1;36m02\u001b[0m-\u001b[1;36m23\u001b[0m \u001b[1;92m08:57:26\u001b[0m,\u001b[1;36m470\u001b[0m - \u001b[1m{\u001b[0mpytorch_tabular.models.gandalf.gandal\u001b[1;92mf:109\u001b[0m\u001b[1m}\u001b[0m - INFO - Data Aware Initialization of T0    \n"
      ]
     },
     "metadata": {},
     "output_type": "display_data"
    },
    {
     "data": {
      "application/vnd.jupyter.widget-view+json": {
       "model_id": "f268b12eca4d49c3ae16ca552af5c470",
       "version_major": 2,
       "version_minor": 0
      },
      "text/plain": [
       "Finding best initial lr:   0%|          | 0/100 [00:00<?, ?it/s]"
      ]
     },
     "metadata": {},
     "output_type": "display_data"
    },
    {
     "data": {
      "text/html": [
       "<pre style=\"white-space:pre;overflow-x:auto;line-height:normal;font-family:Menlo,'DejaVu Sans Mono',consolas,'Courier New',monospace\"><span style=\"color: #008080; text-decoration-color: #008080; font-weight: bold\">2025</span>-<span style=\"color: #008080; text-decoration-color: #008080; font-weight: bold\">02</span>-<span style=\"color: #008080; text-decoration-color: #008080; font-weight: bold\">23</span> <span style=\"color: #00ff00; text-decoration-color: #00ff00; font-weight: bold\">08:57:28</span>,<span style=\"color: #008080; text-decoration-color: #008080; font-weight: bold\">895</span> - <span style=\"font-weight: bold\">{</span>pytorch_tabular.models.gandalf.gandal<span style=\"color: #00ff00; text-decoration-color: #00ff00; font-weight: bold\">f:109</span><span style=\"font-weight: bold\">}</span> - INFO - Data Aware Initialization of T0    \n",
       "</pre>\n"
      ],
      "text/plain": [
       "\u001b[1;36m2025\u001b[0m-\u001b[1;36m02\u001b[0m-\u001b[1;36m23\u001b[0m \u001b[1;92m08:57:28\u001b[0m,\u001b[1;36m895\u001b[0m - \u001b[1m{\u001b[0mpytorch_tabular.models.gandalf.gandal\u001b[1;92mf:109\u001b[0m\u001b[1m}\u001b[0m - INFO - Data Aware Initialization of T0    \n"
      ]
     },
     "metadata": {},
     "output_type": "display_data"
    },
    {
     "data": {
      "text/html": [
       "<pre style=\"white-space:pre;overflow-x:auto;line-height:normal;font-family:Menlo,'DejaVu Sans Mono',consolas,'Courier New',monospace\"><span style=\"color: #008080; text-decoration-color: #008080; font-weight: bold\">2025</span>-<span style=\"color: #008080; text-decoration-color: #008080; font-weight: bold\">02</span>-<span style=\"color: #008080; text-decoration-color: #008080; font-weight: bold\">23</span> <span style=\"color: #00ff00; text-decoration-color: #00ff00; font-weight: bold\">08:57:40</span>,<span style=\"color: #008080; text-decoration-color: #008080; font-weight: bold\">823</span> - <span style=\"font-weight: bold\">{</span>pytorch_tabular.tabular_model_tuner:<span style=\"color: #008080; text-decoration-color: #008080; font-weight: bold\">412</span><span style=\"font-weight: bold\">}</span> - INFO - Trial <span style=\"color: #008080; text-decoration-color: #008080; font-weight: bold\">1</span>/<span style=\"color: #008080; text-decoration-color: #008080; font-weight: bold\">12</span>: <span style=\"font-weight: bold\">{</span><span style=\"color: #008000; text-decoration-color: #008000\">'model'</span>:                 \n",
       "<span style=\"color: #008000; text-decoration-color: #008000\">'0-GANDALFConfig'</span>, <span style=\"color: #008000; text-decoration-color: #008000\">'model_config__gflu_dropout'</span>: <span style=\"color: #008080; text-decoration-color: #008080; font-weight: bold\">0.0</span>, <span style=\"color: #008000; text-decoration-color: #008000\">'model_config__gflu_stages'</span>: <span style=\"color: #008080; text-decoration-color: #008080; font-weight: bold\">6</span>,                              \n",
       "<span style=\"color: #008000; text-decoration-color: #008000\">'optimizer_config__optimizer'</span>: <span style=\"color: #008000; text-decoration-color: #008000\">'Adam'</span>, <span style=\"color: #008000; text-decoration-color: #008000\">'loss'</span>: <span style=\"color: #008080; text-decoration-color: #008080; font-weight: bold\">2.35070538520813</span>, <span style=\"color: #008000; text-decoration-color: #008000\">'mean_squared_error'</span>: <span style=\"color: #008080; text-decoration-color: #008080; font-weight: bold\">2.35070538520813</span>,           \n",
       "<span style=\"color: #008000; text-decoration-color: #008000\">'trial_id'</span>: <span style=\"color: #008080; text-decoration-color: #008080; font-weight: bold\">0</span><span style=\"font-weight: bold\">}</span> | Score: <span style=\"color: #008080; text-decoration-color: #008080; font-weight: bold\">2.35070538520813</span>                                                                           \n",
       "</pre>\n"
      ],
      "text/plain": [
       "\u001b[1;36m2025\u001b[0m-\u001b[1;36m02\u001b[0m-\u001b[1;36m23\u001b[0m \u001b[1;92m08:57:40\u001b[0m,\u001b[1;36m823\u001b[0m - \u001b[1m{\u001b[0mpytorch_tabular.tabular_model_tuner:\u001b[1;36m412\u001b[0m\u001b[1m}\u001b[0m - INFO - Trial \u001b[1;36m1\u001b[0m/\u001b[1;36m12\u001b[0m: \u001b[1m{\u001b[0m\u001b[32m'model'\u001b[0m:                 \n",
       "\u001b[32m'0-GANDALFConfig'\u001b[0m, \u001b[32m'model_config__gflu_dropout'\u001b[0m: \u001b[1;36m0.0\u001b[0m, \u001b[32m'model_config__gflu_stages'\u001b[0m: \u001b[1;36m6\u001b[0m,                              \n",
       "\u001b[32m'optimizer_config__optimizer'\u001b[0m: \u001b[32m'Adam'\u001b[0m, \u001b[32m'loss'\u001b[0m: \u001b[1;36m2.35070538520813\u001b[0m, \u001b[32m'mean_squared_error'\u001b[0m: \u001b[1;36m2.35070538520813\u001b[0m,           \n",
       "\u001b[32m'trial_id'\u001b[0m: \u001b[1;36m0\u001b[0m\u001b[1m}\u001b[0m | Score: \u001b[1;36m2.35070538520813\u001b[0m                                                                           \n"
      ]
     },
     "metadata": {},
     "output_type": "display_data"
    },
    {
     "data": {
      "text/html": [
       "<pre style=\"white-space:pre;overflow-x:auto;line-height:normal;font-family:Menlo,'DejaVu Sans Mono',consolas,'Courier New',monospace\"><span style=\"color: #008080; text-decoration-color: #008080; font-weight: bold\">2025</span>-<span style=\"color: #008080; text-decoration-color: #008080; font-weight: bold\">02</span>-<span style=\"color: #008080; text-decoration-color: #008080; font-weight: bold\">23</span> <span style=\"color: #00ff00; text-decoration-color: #00ff00; font-weight: bold\">08:57:40</span>,<span style=\"color: #008080; text-decoration-color: #008080; font-weight: bold\">855</span> - <span style=\"font-weight: bold\">{</span>pytorch_tabular.models.gandalf.gandal<span style=\"color: #00ff00; text-decoration-color: #00ff00; font-weight: bold\">f:109</span><span style=\"font-weight: bold\">}</span> - INFO - Data Aware Initialization of T0    \n",
       "</pre>\n"
      ],
      "text/plain": [
       "\u001b[1;36m2025\u001b[0m-\u001b[1;36m02\u001b[0m-\u001b[1;36m23\u001b[0m \u001b[1;92m08:57:40\u001b[0m,\u001b[1;36m855\u001b[0m - \u001b[1m{\u001b[0mpytorch_tabular.models.gandalf.gandal\u001b[1;92mf:109\u001b[0m\u001b[1m}\u001b[0m - INFO - Data Aware Initialization of T0    \n"
      ]
     },
     "metadata": {},
     "output_type": "display_data"
    },
    {
     "data": {
      "application/vnd.jupyter.widget-view+json": {
       "model_id": "6a40f1ac393b44a8b75a0a3249685acc",
       "version_major": 2,
       "version_minor": 0
      },
      "text/plain": [
       "Finding best initial lr:   0%|          | 0/100 [00:00<?, ?it/s]"
      ]
     },
     "metadata": {},
     "output_type": "display_data"
    },
    {
     "data": {
      "text/html": [
       "<pre style=\"white-space:pre;overflow-x:auto;line-height:normal;font-family:Menlo,'DejaVu Sans Mono',consolas,'Courier New',monospace\"><span style=\"color: #008080; text-decoration-color: #008080; font-weight: bold\">2025</span>-<span style=\"color: #008080; text-decoration-color: #008080; font-weight: bold\">02</span>-<span style=\"color: #008080; text-decoration-color: #008080; font-weight: bold\">23</span> <span style=\"color: #00ff00; text-decoration-color: #00ff00; font-weight: bold\">08:57:43</span>,<span style=\"color: #008080; text-decoration-color: #008080; font-weight: bold\">294</span> - <span style=\"font-weight: bold\">{</span>pytorch_tabular.models.gandalf.gandal<span style=\"color: #00ff00; text-decoration-color: #00ff00; font-weight: bold\">f:109</span><span style=\"font-weight: bold\">}</span> - INFO - Data Aware Initialization of T0    \n",
       "</pre>\n"
      ],
      "text/plain": [
       "\u001b[1;36m2025\u001b[0m-\u001b[1;36m02\u001b[0m-\u001b[1;36m23\u001b[0m \u001b[1;92m08:57:43\u001b[0m,\u001b[1;36m294\u001b[0m - \u001b[1m{\u001b[0mpytorch_tabular.models.gandalf.gandal\u001b[1;92mf:109\u001b[0m\u001b[1m}\u001b[0m - INFO - Data Aware Initialization of T0    \n"
      ]
     },
     "metadata": {},
     "output_type": "display_data"
    },
    {
     "data": {
      "text/html": [
       "<pre style=\"white-space:pre;overflow-x:auto;line-height:normal;font-family:Menlo,'DejaVu Sans Mono',consolas,'Courier New',monospace\"><span style=\"color: #008080; text-decoration-color: #008080; font-weight: bold\">2025</span>-<span style=\"color: #008080; text-decoration-color: #008080; font-weight: bold\">02</span>-<span style=\"color: #008080; text-decoration-color: #008080; font-weight: bold\">23</span> <span style=\"color: #00ff00; text-decoration-color: #00ff00; font-weight: bold\">08:57:55</span>,<span style=\"color: #008080; text-decoration-color: #008080; font-weight: bold\">017</span> - <span style=\"font-weight: bold\">{</span>pytorch_tabular.tabular_model_tuner:<span style=\"color: #008080; text-decoration-color: #008080; font-weight: bold\">412</span><span style=\"font-weight: bold\">}</span> - INFO - Trial <span style=\"color: #008080; text-decoration-color: #008080; font-weight: bold\">2</span>/<span style=\"color: #008080; text-decoration-color: #008080; font-weight: bold\">12</span>: <span style=\"font-weight: bold\">{</span><span style=\"color: #008000; text-decoration-color: #008000\">'model'</span>:                 \n",
       "<span style=\"color: #008000; text-decoration-color: #008000\">'0-GANDALFConfig'</span>, <span style=\"color: #008000; text-decoration-color: #008000\">'model_config__gflu_dropout'</span>: <span style=\"color: #008080; text-decoration-color: #008080; font-weight: bold\">0.0</span>, <span style=\"color: #008000; text-decoration-color: #008000\">'model_config__gflu_stages'</span>: <span style=\"color: #008080; text-decoration-color: #008080; font-weight: bold\">6</span>,                              \n",
       "<span style=\"color: #008000; text-decoration-color: #008000\">'optimizer_config__optimizer'</span>: <span style=\"color: #008000; text-decoration-color: #008000\">'AdamW'</span>, <span style=\"color: #008000; text-decoration-color: #008000\">'loss'</span>: <span style=\"color: #008080; text-decoration-color: #008080; font-weight: bold\">21.803760528564453</span>, <span style=\"color: #008000; text-decoration-color: #008000\">'mean_squared_error'</span>: <span style=\"color: #008080; text-decoration-color: #008080; font-weight: bold\">21.803760528564453</span>,      \n",
       "<span style=\"color: #008000; text-decoration-color: #008000\">'trial_id'</span>: <span style=\"color: #008080; text-decoration-color: #008080; font-weight: bold\">1</span><span style=\"font-weight: bold\">}</span> | Score: <span style=\"color: #008080; text-decoration-color: #008080; font-weight: bold\">21.803760528564453</span>                                                                         \n",
       "</pre>\n"
      ],
      "text/plain": [
       "\u001b[1;36m2025\u001b[0m-\u001b[1;36m02\u001b[0m-\u001b[1;36m23\u001b[0m \u001b[1;92m08:57:55\u001b[0m,\u001b[1;36m017\u001b[0m - \u001b[1m{\u001b[0mpytorch_tabular.tabular_model_tuner:\u001b[1;36m412\u001b[0m\u001b[1m}\u001b[0m - INFO - Trial \u001b[1;36m2\u001b[0m/\u001b[1;36m12\u001b[0m: \u001b[1m{\u001b[0m\u001b[32m'model'\u001b[0m:                 \n",
       "\u001b[32m'0-GANDALFConfig'\u001b[0m, \u001b[32m'model_config__gflu_dropout'\u001b[0m: \u001b[1;36m0.0\u001b[0m, \u001b[32m'model_config__gflu_stages'\u001b[0m: \u001b[1;36m6\u001b[0m,                              \n",
       "\u001b[32m'optimizer_config__optimizer'\u001b[0m: \u001b[32m'AdamW'\u001b[0m, \u001b[32m'loss'\u001b[0m: \u001b[1;36m21.803760528564453\u001b[0m, \u001b[32m'mean_squared_error'\u001b[0m: \u001b[1;36m21.803760528564453\u001b[0m,      \n",
       "\u001b[32m'trial_id'\u001b[0m: \u001b[1;36m1\u001b[0m\u001b[1m}\u001b[0m | Score: \u001b[1;36m21.803760528564453\u001b[0m                                                                         \n"
      ]
     },
     "metadata": {},
     "output_type": "display_data"
    },
    {
     "data": {
      "text/html": [
       "<pre style=\"white-space:pre;overflow-x:auto;line-height:normal;font-family:Menlo,'DejaVu Sans Mono',consolas,'Courier New',monospace\"><span style=\"color: #008080; text-decoration-color: #008080; font-weight: bold\">2025</span>-<span style=\"color: #008080; text-decoration-color: #008080; font-weight: bold\">02</span>-<span style=\"color: #008080; text-decoration-color: #008080; font-weight: bold\">23</span> <span style=\"color: #00ff00; text-decoration-color: #00ff00; font-weight: bold\">08:57:55</span>,<span style=\"color: #008080; text-decoration-color: #008080; font-weight: bold\">048</span> - <span style=\"font-weight: bold\">{</span>pytorch_tabular.models.gandalf.gandal<span style=\"color: #00ff00; text-decoration-color: #00ff00; font-weight: bold\">f:109</span><span style=\"font-weight: bold\">}</span> - INFO - Data Aware Initialization of T0    \n",
       "</pre>\n"
      ],
      "text/plain": [
       "\u001b[1;36m2025\u001b[0m-\u001b[1;36m02\u001b[0m-\u001b[1;36m23\u001b[0m \u001b[1;92m08:57:55\u001b[0m,\u001b[1;36m048\u001b[0m - \u001b[1m{\u001b[0mpytorch_tabular.models.gandalf.gandal\u001b[1;92mf:109\u001b[0m\u001b[1m}\u001b[0m - INFO - Data Aware Initialization of T0    \n"
      ]
     },
     "metadata": {},
     "output_type": "display_data"
    },
    {
     "data": {
      "application/vnd.jupyter.widget-view+json": {
       "model_id": "8cc615dfcad647ef946de7acc6a56c89",
       "version_major": 2,
       "version_minor": 0
      },
      "text/plain": [
       "Finding best initial lr:   0%|          | 0/100 [00:00<?, ?it/s]"
      ]
     },
     "metadata": {},
     "output_type": "display_data"
    },
    {
     "data": {
      "text/html": [
       "<pre style=\"white-space:pre;overflow-x:auto;line-height:normal;font-family:Menlo,'DejaVu Sans Mono',consolas,'Courier New',monospace\"><span style=\"color: #008080; text-decoration-color: #008080; font-weight: bold\">2025</span>-<span style=\"color: #008080; text-decoration-color: #008080; font-weight: bold\">02</span>-<span style=\"color: #008080; text-decoration-color: #008080; font-weight: bold\">23</span> <span style=\"color: #00ff00; text-decoration-color: #00ff00; font-weight: bold\">08:57:57</span>,<span style=\"color: #008080; text-decoration-color: #008080; font-weight: bold\">791</span> - <span style=\"font-weight: bold\">{</span>pytorch_tabular.models.gandalf.gandal<span style=\"color: #00ff00; text-decoration-color: #00ff00; font-weight: bold\">f:109</span><span style=\"font-weight: bold\">}</span> - INFO - Data Aware Initialization of T0    \n",
       "</pre>\n"
      ],
      "text/plain": [
       "\u001b[1;36m2025\u001b[0m-\u001b[1;36m02\u001b[0m-\u001b[1;36m23\u001b[0m \u001b[1;92m08:57:57\u001b[0m,\u001b[1;36m791\u001b[0m - \u001b[1m{\u001b[0mpytorch_tabular.models.gandalf.gandal\u001b[1;92mf:109\u001b[0m\u001b[1m}\u001b[0m - INFO - Data Aware Initialization of T0    \n"
      ]
     },
     "metadata": {},
     "output_type": "display_data"
    },
    {
     "data": {
      "text/html": [
       "<pre style=\"white-space:pre;overflow-x:auto;line-height:normal;font-family:Menlo,'DejaVu Sans Mono',consolas,'Courier New',monospace\"><span style=\"color: #008080; text-decoration-color: #008080; font-weight: bold\">2025</span>-<span style=\"color: #008080; text-decoration-color: #008080; font-weight: bold\">02</span>-<span style=\"color: #008080; text-decoration-color: #008080; font-weight: bold\">23</span> <span style=\"color: #00ff00; text-decoration-color: #00ff00; font-weight: bold\">08:59:16</span>,<span style=\"color: #008080; text-decoration-color: #008080; font-weight: bold\">971</span> - <span style=\"font-weight: bold\">{</span>pytorch_tabular.tabular_model_tuner:<span style=\"color: #008080; text-decoration-color: #008080; font-weight: bold\">412</span><span style=\"font-weight: bold\">}</span> - INFO - Trial <span style=\"color: #008080; text-decoration-color: #008080; font-weight: bold\">3</span>/<span style=\"color: #008080; text-decoration-color: #008080; font-weight: bold\">12</span>: <span style=\"font-weight: bold\">{</span><span style=\"color: #008000; text-decoration-color: #008000\">'model'</span>:                 \n",
       "<span style=\"color: #008000; text-decoration-color: #008000\">'0-GANDALFConfig'</span>, <span style=\"color: #008000; text-decoration-color: #008000\">'model_config__gflu_dropout'</span>: <span style=\"color: #008080; text-decoration-color: #008080; font-weight: bold\">0.0</span>, <span style=\"color: #008000; text-decoration-color: #008000\">'model_config__gflu_stages'</span>: <span style=\"color: #008080; text-decoration-color: #008080; font-weight: bold\">12</span>,                             \n",
       "<span style=\"color: #008000; text-decoration-color: #008000\">'optimizer_config__optimizer'</span>: <span style=\"color: #008000; text-decoration-color: #008000\">'Adam'</span>, <span style=\"color: #008000; text-decoration-color: #008000\">'loss'</span>: <span style=\"color: #008080; text-decoration-color: #008080; font-weight: bold\">22.296279907226562</span>, <span style=\"color: #008000; text-decoration-color: #008000\">'mean_squared_error'</span>: <span style=\"color: #008080; text-decoration-color: #008080; font-weight: bold\">22.296279907226562</span>,       \n",
       "<span style=\"color: #008000; text-decoration-color: #008000\">'trial_id'</span>: <span style=\"color: #008080; text-decoration-color: #008080; font-weight: bold\">2</span><span style=\"font-weight: bold\">}</span> | Score: <span style=\"color: #008080; text-decoration-color: #008080; font-weight: bold\">22.296279907226562</span>                                                                         \n",
       "</pre>\n"
      ],
      "text/plain": [
       "\u001b[1;36m2025\u001b[0m-\u001b[1;36m02\u001b[0m-\u001b[1;36m23\u001b[0m \u001b[1;92m08:59:16\u001b[0m,\u001b[1;36m971\u001b[0m - \u001b[1m{\u001b[0mpytorch_tabular.tabular_model_tuner:\u001b[1;36m412\u001b[0m\u001b[1m}\u001b[0m - INFO - Trial \u001b[1;36m3\u001b[0m/\u001b[1;36m12\u001b[0m: \u001b[1m{\u001b[0m\u001b[32m'model'\u001b[0m:                 \n",
       "\u001b[32m'0-GANDALFConfig'\u001b[0m, \u001b[32m'model_config__gflu_dropout'\u001b[0m: \u001b[1;36m0.0\u001b[0m, \u001b[32m'model_config__gflu_stages'\u001b[0m: \u001b[1;36m12\u001b[0m,                             \n",
       "\u001b[32m'optimizer_config__optimizer'\u001b[0m: \u001b[32m'Adam'\u001b[0m, \u001b[32m'loss'\u001b[0m: \u001b[1;36m22.296279907226562\u001b[0m, \u001b[32m'mean_squared_error'\u001b[0m: \u001b[1;36m22.296279907226562\u001b[0m,       \n",
       "\u001b[32m'trial_id'\u001b[0m: \u001b[1;36m2\u001b[0m\u001b[1m}\u001b[0m | Score: \u001b[1;36m22.296279907226562\u001b[0m                                                                         \n"
      ]
     },
     "metadata": {},
     "output_type": "display_data"
    },
    {
     "data": {
      "text/html": [
       "<pre style=\"white-space:pre;overflow-x:auto;line-height:normal;font-family:Menlo,'DejaVu Sans Mono',consolas,'Courier New',monospace\"><span style=\"color: #008080; text-decoration-color: #008080; font-weight: bold\">2025</span>-<span style=\"color: #008080; text-decoration-color: #008080; font-weight: bold\">02</span>-<span style=\"color: #008080; text-decoration-color: #008080; font-weight: bold\">23</span> <span style=\"color: #00ff00; text-decoration-color: #00ff00; font-weight: bold\">08:59:17</span>,<span style=\"color: #008080; text-decoration-color: #008080; font-weight: bold\">005</span> - <span style=\"font-weight: bold\">{</span>pytorch_tabular.models.gandalf.gandal<span style=\"color: #00ff00; text-decoration-color: #00ff00; font-weight: bold\">f:109</span><span style=\"font-weight: bold\">}</span> - INFO - Data Aware Initialization of T0    \n",
       "</pre>\n"
      ],
      "text/plain": [
       "\u001b[1;36m2025\u001b[0m-\u001b[1;36m02\u001b[0m-\u001b[1;36m23\u001b[0m \u001b[1;92m08:59:17\u001b[0m,\u001b[1;36m005\u001b[0m - \u001b[1m{\u001b[0mpytorch_tabular.models.gandalf.gandal\u001b[1;92mf:109\u001b[0m\u001b[1m}\u001b[0m - INFO - Data Aware Initialization of T0    \n"
      ]
     },
     "metadata": {},
     "output_type": "display_data"
    },
    {
     "data": {
      "application/vnd.jupyter.widget-view+json": {
       "model_id": "038f29486ba642e0aac0fbf63df86e49",
       "version_major": 2,
       "version_minor": 0
      },
      "text/plain": [
       "Finding best initial lr:   0%|          | 0/100 [00:00<?, ?it/s]"
      ]
     },
     "metadata": {},
     "output_type": "display_data"
    },
    {
     "data": {
      "text/html": [
       "<pre style=\"white-space:pre;overflow-x:auto;line-height:normal;font-family:Menlo,'DejaVu Sans Mono',consolas,'Courier New',monospace\"><span style=\"color: #008080; text-decoration-color: #008080; font-weight: bold\">2025</span>-<span style=\"color: #008080; text-decoration-color: #008080; font-weight: bold\">02</span>-<span style=\"color: #008080; text-decoration-color: #008080; font-weight: bold\">23</span> <span style=\"color: #00ff00; text-decoration-color: #00ff00; font-weight: bold\">08:59:19</span>,<span style=\"color: #008080; text-decoration-color: #008080; font-weight: bold\">792</span> - <span style=\"font-weight: bold\">{</span>pytorch_tabular.models.gandalf.gandal<span style=\"color: #00ff00; text-decoration-color: #00ff00; font-weight: bold\">f:109</span><span style=\"font-weight: bold\">}</span> - INFO - Data Aware Initialization of T0    \n",
       "</pre>\n"
      ],
      "text/plain": [
       "\u001b[1;36m2025\u001b[0m-\u001b[1;36m02\u001b[0m-\u001b[1;36m23\u001b[0m \u001b[1;92m08:59:19\u001b[0m,\u001b[1;36m792\u001b[0m - \u001b[1m{\u001b[0mpytorch_tabular.models.gandalf.gandal\u001b[1;92mf:109\u001b[0m\u001b[1m}\u001b[0m - INFO - Data Aware Initialization of T0    \n"
      ]
     },
     "metadata": {},
     "output_type": "display_data"
    },
    {
     "data": {
      "text/html": [
       "<pre style=\"white-space:pre;overflow-x:auto;line-height:normal;font-family:Menlo,'DejaVu Sans Mono',consolas,'Courier New',monospace\"><span style=\"color: #008080; text-decoration-color: #008080; font-weight: bold\">2025</span>-<span style=\"color: #008080; text-decoration-color: #008080; font-weight: bold\">02</span>-<span style=\"color: #008080; text-decoration-color: #008080; font-weight: bold\">23</span> <span style=\"color: #00ff00; text-decoration-color: #00ff00; font-weight: bold\">08:59:33</span>,<span style=\"color: #008080; text-decoration-color: #008080; font-weight: bold\">718</span> - <span style=\"font-weight: bold\">{</span>pytorch_tabular.tabular_model_tuner:<span style=\"color: #008080; text-decoration-color: #008080; font-weight: bold\">412</span><span style=\"font-weight: bold\">}</span> - INFO - Trial <span style=\"color: #008080; text-decoration-color: #008080; font-weight: bold\">4</span>/<span style=\"color: #008080; text-decoration-color: #008080; font-weight: bold\">12</span>: <span style=\"font-weight: bold\">{</span><span style=\"color: #008000; text-decoration-color: #008000\">'model'</span>:                 \n",
       "<span style=\"color: #008000; text-decoration-color: #008000\">'0-GANDALFConfig'</span>, <span style=\"color: #008000; text-decoration-color: #008000\">'model_config__gflu_dropout'</span>: <span style=\"color: #008080; text-decoration-color: #008080; font-weight: bold\">0.0</span>, <span style=\"color: #008000; text-decoration-color: #008000\">'model_config__gflu_stages'</span>: <span style=\"color: #008080; text-decoration-color: #008080; font-weight: bold\">12</span>,                             \n",
       "<span style=\"color: #008000; text-decoration-color: #008000\">'optimizer_config__optimizer'</span>: <span style=\"color: #008000; text-decoration-color: #008000\">'AdamW'</span>, <span style=\"color: #008000; text-decoration-color: #008000\">'loss'</span>: <span style=\"color: #008080; text-decoration-color: #008080; font-weight: bold\">2.509063482284546</span>, <span style=\"color: #008000; text-decoration-color: #008000\">'mean_squared_error'</span>: <span style=\"color: #008080; text-decoration-color: #008080; font-weight: bold\">2.509063482284546</span>,        \n",
       "<span style=\"color: #008000; text-decoration-color: #008000\">'trial_id'</span>: <span style=\"color: #008080; text-decoration-color: #008080; font-weight: bold\">3</span><span style=\"font-weight: bold\">}</span> | Score: <span style=\"color: #008080; text-decoration-color: #008080; font-weight: bold\">2.509063482284546</span>                                                                          \n",
       "</pre>\n"
      ],
      "text/plain": [
       "\u001b[1;36m2025\u001b[0m-\u001b[1;36m02\u001b[0m-\u001b[1;36m23\u001b[0m \u001b[1;92m08:59:33\u001b[0m,\u001b[1;36m718\u001b[0m - \u001b[1m{\u001b[0mpytorch_tabular.tabular_model_tuner:\u001b[1;36m412\u001b[0m\u001b[1m}\u001b[0m - INFO - Trial \u001b[1;36m4\u001b[0m/\u001b[1;36m12\u001b[0m: \u001b[1m{\u001b[0m\u001b[32m'model'\u001b[0m:                 \n",
       "\u001b[32m'0-GANDALFConfig'\u001b[0m, \u001b[32m'model_config__gflu_dropout'\u001b[0m: \u001b[1;36m0.0\u001b[0m, \u001b[32m'model_config__gflu_stages'\u001b[0m: \u001b[1;36m12\u001b[0m,                             \n",
       "\u001b[32m'optimizer_config__optimizer'\u001b[0m: \u001b[32m'AdamW'\u001b[0m, \u001b[32m'loss'\u001b[0m: \u001b[1;36m2.509063482284546\u001b[0m, \u001b[32m'mean_squared_error'\u001b[0m: \u001b[1;36m2.509063482284546\u001b[0m,        \n",
       "\u001b[32m'trial_id'\u001b[0m: \u001b[1;36m3\u001b[0m\u001b[1m}\u001b[0m | Score: \u001b[1;36m2.509063482284546\u001b[0m                                                                          \n"
      ]
     },
     "metadata": {},
     "output_type": "display_data"
    },
    {
     "data": {
      "text/html": [
       "<pre style=\"white-space:pre;overflow-x:auto;line-height:normal;font-family:Menlo,'DejaVu Sans Mono',consolas,'Courier New',monospace\"><span style=\"color: #008080; text-decoration-color: #008080; font-weight: bold\">2025</span>-<span style=\"color: #008080; text-decoration-color: #008080; font-weight: bold\">02</span>-<span style=\"color: #008080; text-decoration-color: #008080; font-weight: bold\">23</span> <span style=\"color: #00ff00; text-decoration-color: #00ff00; font-weight: bold\">08:59:33</span>,<span style=\"color: #008080; text-decoration-color: #008080; font-weight: bold\">749</span> - <span style=\"font-weight: bold\">{</span>pytorch_tabular.models.gandalf.gandal<span style=\"color: #00ff00; text-decoration-color: #00ff00; font-weight: bold\">f:109</span><span style=\"font-weight: bold\">}</span> - INFO - Data Aware Initialization of T0    \n",
       "</pre>\n"
      ],
      "text/plain": [
       "\u001b[1;36m2025\u001b[0m-\u001b[1;36m02\u001b[0m-\u001b[1;36m23\u001b[0m \u001b[1;92m08:59:33\u001b[0m,\u001b[1;36m749\u001b[0m - \u001b[1m{\u001b[0mpytorch_tabular.models.gandalf.gandal\u001b[1;92mf:109\u001b[0m\u001b[1m}\u001b[0m - INFO - Data Aware Initialization of T0    \n"
      ]
     },
     "metadata": {},
     "output_type": "display_data"
    },
    {
     "data": {
      "application/vnd.jupyter.widget-view+json": {
       "model_id": "d22a043a48d341c1be168876ee2f3258",
       "version_major": 2,
       "version_minor": 0
      },
      "text/plain": [
       "Finding best initial lr:   0%|          | 0/100 [00:00<?, ?it/s]"
      ]
     },
     "metadata": {},
     "output_type": "display_data"
    },
    {
     "data": {
      "text/html": [
       "<pre style=\"white-space:pre;overflow-x:auto;line-height:normal;font-family:Menlo,'DejaVu Sans Mono',consolas,'Courier New',monospace\"><span style=\"color: #008080; text-decoration-color: #008080; font-weight: bold\">2025</span>-<span style=\"color: #008080; text-decoration-color: #008080; font-weight: bold\">02</span>-<span style=\"color: #008080; text-decoration-color: #008080; font-weight: bold\">23</span> <span style=\"color: #00ff00; text-decoration-color: #00ff00; font-weight: bold\">08:59:36</span>,<span style=\"color: #008080; text-decoration-color: #008080; font-weight: bold\">731</span> - <span style=\"font-weight: bold\">{</span>pytorch_tabular.models.gandalf.gandal<span style=\"color: #00ff00; text-decoration-color: #00ff00; font-weight: bold\">f:109</span><span style=\"font-weight: bold\">}</span> - INFO - Data Aware Initialization of T0    \n",
       "</pre>\n"
      ],
      "text/plain": [
       "\u001b[1;36m2025\u001b[0m-\u001b[1;36m02\u001b[0m-\u001b[1;36m23\u001b[0m \u001b[1;92m08:59:36\u001b[0m,\u001b[1;36m731\u001b[0m - \u001b[1m{\u001b[0mpytorch_tabular.models.gandalf.gandal\u001b[1;92mf:109\u001b[0m\u001b[1m}\u001b[0m - INFO - Data Aware Initialization of T0    \n"
      ]
     },
     "metadata": {},
     "output_type": "display_data"
    },
    {
     "data": {
      "text/html": [
       "<pre style=\"white-space:pre;overflow-x:auto;line-height:normal;font-family:Menlo,'DejaVu Sans Mono',consolas,'Courier New',monospace\"><span style=\"color: #008080; text-decoration-color: #008080; font-weight: bold\">2025</span>-<span style=\"color: #008080; text-decoration-color: #008080; font-weight: bold\">02</span>-<span style=\"color: #008080; text-decoration-color: #008080; font-weight: bold\">23</span> <span style=\"color: #00ff00; text-decoration-color: #00ff00; font-weight: bold\">08:59:51</span>,<span style=\"color: #008080; text-decoration-color: #008080; font-weight: bold\">541</span> - <span style=\"font-weight: bold\">{</span>pytorch_tabular.tabular_model_tuner:<span style=\"color: #008080; text-decoration-color: #008080; font-weight: bold\">412</span><span style=\"font-weight: bold\">}</span> - INFO - Trial <span style=\"color: #008080; text-decoration-color: #008080; font-weight: bold\">5</span>/<span style=\"color: #008080; text-decoration-color: #008080; font-weight: bold\">12</span>: <span style=\"font-weight: bold\">{</span><span style=\"color: #008000; text-decoration-color: #008000\">'model'</span>:                 \n",
       "<span style=\"color: #008000; text-decoration-color: #008000\">'0-GANDALFConfig'</span>, <span style=\"color: #008000; text-decoration-color: #008000\">'model_config__gflu_dropout'</span>: <span style=\"color: #008080; text-decoration-color: #008080; font-weight: bold\">0.0</span>, <span style=\"color: #008000; text-decoration-color: #008000\">'model_config__gflu_stages'</span>: <span style=\"color: #008080; text-decoration-color: #008080; font-weight: bold\">15</span>,                             \n",
       "<span style=\"color: #008000; text-decoration-color: #008000\">'optimizer_config__optimizer'</span>: <span style=\"color: #008000; text-decoration-color: #008000\">'Adam'</span>, <span style=\"color: #008000; text-decoration-color: #008000\">'loss'</span>: <span style=\"color: #008080; text-decoration-color: #008080; font-weight: bold\">22.32073974609375</span>, <span style=\"color: #008000; text-decoration-color: #008000\">'mean_squared_error'</span>: <span style=\"color: #008080; text-decoration-color: #008080; font-weight: bold\">22.32073974609375</span>,         \n",
       "<span style=\"color: #008000; text-decoration-color: #008000\">'trial_id'</span>: <span style=\"color: #008080; text-decoration-color: #008080; font-weight: bold\">4</span><span style=\"font-weight: bold\">}</span> | Score: <span style=\"color: #008080; text-decoration-color: #008080; font-weight: bold\">22.32073974609375</span>                                                                          \n",
       "</pre>\n"
      ],
      "text/plain": [
       "\u001b[1;36m2025\u001b[0m-\u001b[1;36m02\u001b[0m-\u001b[1;36m23\u001b[0m \u001b[1;92m08:59:51\u001b[0m,\u001b[1;36m541\u001b[0m - \u001b[1m{\u001b[0mpytorch_tabular.tabular_model_tuner:\u001b[1;36m412\u001b[0m\u001b[1m}\u001b[0m - INFO - Trial \u001b[1;36m5\u001b[0m/\u001b[1;36m12\u001b[0m: \u001b[1m{\u001b[0m\u001b[32m'model'\u001b[0m:                 \n",
       "\u001b[32m'0-GANDALFConfig'\u001b[0m, \u001b[32m'model_config__gflu_dropout'\u001b[0m: \u001b[1;36m0.0\u001b[0m, \u001b[32m'model_config__gflu_stages'\u001b[0m: \u001b[1;36m15\u001b[0m,                             \n",
       "\u001b[32m'optimizer_config__optimizer'\u001b[0m: \u001b[32m'Adam'\u001b[0m, \u001b[32m'loss'\u001b[0m: \u001b[1;36m22.32073974609375\u001b[0m, \u001b[32m'mean_squared_error'\u001b[0m: \u001b[1;36m22.32073974609375\u001b[0m,         \n",
       "\u001b[32m'trial_id'\u001b[0m: \u001b[1;36m4\u001b[0m\u001b[1m}\u001b[0m | Score: \u001b[1;36m22.32073974609375\u001b[0m                                                                          \n"
      ]
     },
     "metadata": {},
     "output_type": "display_data"
    },
    {
     "data": {
      "text/html": [
       "<pre style=\"white-space:pre;overflow-x:auto;line-height:normal;font-family:Menlo,'DejaVu Sans Mono',consolas,'Courier New',monospace\"><span style=\"color: #008080; text-decoration-color: #008080; font-weight: bold\">2025</span>-<span style=\"color: #008080; text-decoration-color: #008080; font-weight: bold\">02</span>-<span style=\"color: #008080; text-decoration-color: #008080; font-weight: bold\">23</span> <span style=\"color: #00ff00; text-decoration-color: #00ff00; font-weight: bold\">08:59:51</span>,<span style=\"color: #008080; text-decoration-color: #008080; font-weight: bold\">573</span> - <span style=\"font-weight: bold\">{</span>pytorch_tabular.models.gandalf.gandal<span style=\"color: #00ff00; text-decoration-color: #00ff00; font-weight: bold\">f:109</span><span style=\"font-weight: bold\">}</span> - INFO - Data Aware Initialization of T0    \n",
       "</pre>\n"
      ],
      "text/plain": [
       "\u001b[1;36m2025\u001b[0m-\u001b[1;36m02\u001b[0m-\u001b[1;36m23\u001b[0m \u001b[1;92m08:59:51\u001b[0m,\u001b[1;36m573\u001b[0m - \u001b[1m{\u001b[0mpytorch_tabular.models.gandalf.gandal\u001b[1;92mf:109\u001b[0m\u001b[1m}\u001b[0m - INFO - Data Aware Initialization of T0    \n"
      ]
     },
     "metadata": {},
     "output_type": "display_data"
    },
    {
     "data": {
      "application/vnd.jupyter.widget-view+json": {
       "model_id": "68fa152be2b845cea9b692246250b031",
       "version_major": 2,
       "version_minor": 0
      },
      "text/plain": [
       "Finding best initial lr:   0%|          | 0/100 [00:00<?, ?it/s]"
      ]
     },
     "metadata": {},
     "output_type": "display_data"
    },
    {
     "data": {
      "text/html": [
       "<pre style=\"white-space:pre;overflow-x:auto;line-height:normal;font-family:Menlo,'DejaVu Sans Mono',consolas,'Courier New',monospace\"><span style=\"color: #008080; text-decoration-color: #008080; font-weight: bold\">2025</span>-<span style=\"color: #008080; text-decoration-color: #008080; font-weight: bold\">02</span>-<span style=\"color: #008080; text-decoration-color: #008080; font-weight: bold\">23</span> <span style=\"color: #00ff00; text-decoration-color: #00ff00; font-weight: bold\">08:59:54</span>,<span style=\"color: #008080; text-decoration-color: #008080; font-weight: bold\">548</span> - <span style=\"font-weight: bold\">{</span>pytorch_tabular.models.gandalf.gandal<span style=\"color: #00ff00; text-decoration-color: #00ff00; font-weight: bold\">f:109</span><span style=\"font-weight: bold\">}</span> - INFO - Data Aware Initialization of T0    \n",
       "</pre>\n"
      ],
      "text/plain": [
       "\u001b[1;36m2025\u001b[0m-\u001b[1;36m02\u001b[0m-\u001b[1;36m23\u001b[0m \u001b[1;92m08:59:54\u001b[0m,\u001b[1;36m548\u001b[0m - \u001b[1m{\u001b[0mpytorch_tabular.models.gandalf.gandal\u001b[1;92mf:109\u001b[0m\u001b[1m}\u001b[0m - INFO - Data Aware Initialization of T0    \n"
      ]
     },
     "metadata": {},
     "output_type": "display_data"
    },
    {
     "data": {
      "text/html": [
       "<pre style=\"white-space:pre;overflow-x:auto;line-height:normal;font-family:Menlo,'DejaVu Sans Mono',consolas,'Courier New',monospace\"><span style=\"color: #008080; text-decoration-color: #008080; font-weight: bold\">2025</span>-<span style=\"color: #008080; text-decoration-color: #008080; font-weight: bold\">02</span>-<span style=\"color: #008080; text-decoration-color: #008080; font-weight: bold\">23</span> <span style=\"color: #00ff00; text-decoration-color: #00ff00; font-weight: bold\">09:00:09</span>,<span style=\"color: #008080; text-decoration-color: #008080; font-weight: bold\">420</span> - <span style=\"font-weight: bold\">{</span>pytorch_tabular.tabular_model_tuner:<span style=\"color: #008080; text-decoration-color: #008080; font-weight: bold\">412</span><span style=\"font-weight: bold\">}</span> - INFO - Trial <span style=\"color: #008080; text-decoration-color: #008080; font-weight: bold\">6</span>/<span style=\"color: #008080; text-decoration-color: #008080; font-weight: bold\">12</span>: <span style=\"font-weight: bold\">{</span><span style=\"color: #008000; text-decoration-color: #008000\">'model'</span>:                 \n",
       "<span style=\"color: #008000; text-decoration-color: #008000\">'0-GANDALFConfig'</span>, <span style=\"color: #008000; text-decoration-color: #008000\">'model_config__gflu_dropout'</span>: <span style=\"color: #008080; text-decoration-color: #008080; font-weight: bold\">0.0</span>, <span style=\"color: #008000; text-decoration-color: #008000\">'model_config__gflu_stages'</span>: <span style=\"color: #008080; text-decoration-color: #008080; font-weight: bold\">15</span>,                             \n",
       "<span style=\"color: #008000; text-decoration-color: #008000\">'optimizer_config__optimizer'</span>: <span style=\"color: #008000; text-decoration-color: #008000\">'AdamW'</span>, <span style=\"color: #008000; text-decoration-color: #008000\">'loss'</span>: <span style=\"color: #008080; text-decoration-color: #008080; font-weight: bold\">3.8283114433288574</span>, <span style=\"color: #008000; text-decoration-color: #008000\">'mean_squared_error'</span>: <span style=\"color: #008080; text-decoration-color: #008080; font-weight: bold\">3.8283114433288574</span>,      \n",
       "<span style=\"color: #008000; text-decoration-color: #008000\">'trial_id'</span>: <span style=\"color: #008080; text-decoration-color: #008080; font-weight: bold\">5</span><span style=\"font-weight: bold\">}</span> | Score: <span style=\"color: #008080; text-decoration-color: #008080; font-weight: bold\">3.8283114433288574</span>                                                                         \n",
       "</pre>\n"
      ],
      "text/plain": [
       "\u001b[1;36m2025\u001b[0m-\u001b[1;36m02\u001b[0m-\u001b[1;36m23\u001b[0m \u001b[1;92m09:00:09\u001b[0m,\u001b[1;36m420\u001b[0m - \u001b[1m{\u001b[0mpytorch_tabular.tabular_model_tuner:\u001b[1;36m412\u001b[0m\u001b[1m}\u001b[0m - INFO - Trial \u001b[1;36m6\u001b[0m/\u001b[1;36m12\u001b[0m: \u001b[1m{\u001b[0m\u001b[32m'model'\u001b[0m:                 \n",
       "\u001b[32m'0-GANDALFConfig'\u001b[0m, \u001b[32m'model_config__gflu_dropout'\u001b[0m: \u001b[1;36m0.0\u001b[0m, \u001b[32m'model_config__gflu_stages'\u001b[0m: \u001b[1;36m15\u001b[0m,                             \n",
       "\u001b[32m'optimizer_config__optimizer'\u001b[0m: \u001b[32m'AdamW'\u001b[0m, \u001b[32m'loss'\u001b[0m: \u001b[1;36m3.8283114433288574\u001b[0m, \u001b[32m'mean_squared_error'\u001b[0m: \u001b[1;36m3.8283114433288574\u001b[0m,      \n",
       "\u001b[32m'trial_id'\u001b[0m: \u001b[1;36m5\u001b[0m\u001b[1m}\u001b[0m | Score: \u001b[1;36m3.8283114433288574\u001b[0m                                                                         \n"
      ]
     },
     "metadata": {},
     "output_type": "display_data"
    },
    {
     "data": {
      "text/html": [
       "<pre style=\"white-space:pre;overflow-x:auto;line-height:normal;font-family:Menlo,'DejaVu Sans Mono',consolas,'Courier New',monospace\"><span style=\"color: #008080; text-decoration-color: #008080; font-weight: bold\">2025</span>-<span style=\"color: #008080; text-decoration-color: #008080; font-weight: bold\">02</span>-<span style=\"color: #008080; text-decoration-color: #008080; font-weight: bold\">23</span> <span style=\"color: #00ff00; text-decoration-color: #00ff00; font-weight: bold\">09:00:09</span>,<span style=\"color: #008080; text-decoration-color: #008080; font-weight: bold\">451</span> - <span style=\"font-weight: bold\">{</span>pytorch_tabular.models.gandalf.gandal<span style=\"color: #00ff00; text-decoration-color: #00ff00; font-weight: bold\">f:109</span><span style=\"font-weight: bold\">}</span> - INFO - Data Aware Initialization of T0    \n",
       "</pre>\n"
      ],
      "text/plain": [
       "\u001b[1;36m2025\u001b[0m-\u001b[1;36m02\u001b[0m-\u001b[1;36m23\u001b[0m \u001b[1;92m09:00:09\u001b[0m,\u001b[1;36m451\u001b[0m - \u001b[1m{\u001b[0mpytorch_tabular.models.gandalf.gandal\u001b[1;92mf:109\u001b[0m\u001b[1m}\u001b[0m - INFO - Data Aware Initialization of T0    \n"
      ]
     },
     "metadata": {},
     "output_type": "display_data"
    },
    {
     "data": {
      "application/vnd.jupyter.widget-view+json": {
       "model_id": "3ea8f98fb0764f40b75ace6cc1292808",
       "version_major": 2,
       "version_minor": 0
      },
      "text/plain": [
       "Finding best initial lr:   0%|          | 0/100 [00:00<?, ?it/s]"
      ]
     },
     "metadata": {},
     "output_type": "display_data"
    },
    {
     "data": {
      "text/html": [
       "<pre style=\"white-space:pre;overflow-x:auto;line-height:normal;font-family:Menlo,'DejaVu Sans Mono',consolas,'Courier New',monospace\"><span style=\"color: #008080; text-decoration-color: #008080; font-weight: bold\">2025</span>-<span style=\"color: #008080; text-decoration-color: #008080; font-weight: bold\">02</span>-<span style=\"color: #008080; text-decoration-color: #008080; font-weight: bold\">23</span> <span style=\"color: #00ff00; text-decoration-color: #00ff00; font-weight: bold\">09:00:11</span>,<span style=\"color: #008080; text-decoration-color: #008080; font-weight: bold\">851</span> - <span style=\"font-weight: bold\">{</span>pytorch_tabular.models.gandalf.gandal<span style=\"color: #00ff00; text-decoration-color: #00ff00; font-weight: bold\">f:109</span><span style=\"font-weight: bold\">}</span> - INFO - Data Aware Initialization of T0    \n",
       "</pre>\n"
      ],
      "text/plain": [
       "\u001b[1;36m2025\u001b[0m-\u001b[1;36m02\u001b[0m-\u001b[1;36m23\u001b[0m \u001b[1;92m09:00:11\u001b[0m,\u001b[1;36m851\u001b[0m - \u001b[1m{\u001b[0mpytorch_tabular.models.gandalf.gandal\u001b[1;92mf:109\u001b[0m\u001b[1m}\u001b[0m - INFO - Data Aware Initialization of T0    \n"
      ]
     },
     "metadata": {},
     "output_type": "display_data"
    },
    {
     "data": {
      "text/html": [
       "<pre style=\"white-space:pre;overflow-x:auto;line-height:normal;font-family:Menlo,'DejaVu Sans Mono',consolas,'Courier New',monospace\"><span style=\"color: #008080; text-decoration-color: #008080; font-weight: bold\">2025</span>-<span style=\"color: #008080; text-decoration-color: #008080; font-weight: bold\">02</span>-<span style=\"color: #008080; text-decoration-color: #008080; font-weight: bold\">23</span> <span style=\"color: #00ff00; text-decoration-color: #00ff00; font-weight: bold\">09:00:23</span>,<span style=\"color: #008080; text-decoration-color: #008080; font-weight: bold\">404</span> - <span style=\"font-weight: bold\">{</span>pytorch_tabular.tabular_model_tuner:<span style=\"color: #008080; text-decoration-color: #008080; font-weight: bold\">412</span><span style=\"font-weight: bold\">}</span> - INFO - Trial <span style=\"color: #008080; text-decoration-color: #008080; font-weight: bold\">7</span>/<span style=\"color: #008080; text-decoration-color: #008080; font-weight: bold\">12</span>: <span style=\"font-weight: bold\">{</span><span style=\"color: #008000; text-decoration-color: #008000\">'model'</span>:                 \n",
       "<span style=\"color: #008000; text-decoration-color: #008000\">'0-GANDALFConfig'</span>, <span style=\"color: #008000; text-decoration-color: #008000\">'model_config__gflu_dropout'</span>: <span style=\"color: #008080; text-decoration-color: #008080; font-weight: bold\">0.2</span>, <span style=\"color: #008000; text-decoration-color: #008000\">'model_config__gflu_stages'</span>: <span style=\"color: #008080; text-decoration-color: #008080; font-weight: bold\">6</span>,                              \n",
       "<span style=\"color: #008000; text-decoration-color: #008000\">'optimizer_config__optimizer'</span>: <span style=\"color: #008000; text-decoration-color: #008000\">'Adam'</span>, <span style=\"color: #008000; text-decoration-color: #008000\">'loss'</span>: <span style=\"color: #008080; text-decoration-color: #008080; font-weight: bold\">4.665591716766357</span>, <span style=\"color: #008000; text-decoration-color: #008000\">'mean_squared_error'</span>: <span style=\"color: #008080; text-decoration-color: #008080; font-weight: bold\">4.665591716766357</span>,         \n",
       "<span style=\"color: #008000; text-decoration-color: #008000\">'trial_id'</span>: <span style=\"color: #008080; text-decoration-color: #008080; font-weight: bold\">6</span><span style=\"font-weight: bold\">}</span> | Score: <span style=\"color: #008080; text-decoration-color: #008080; font-weight: bold\">4.665591716766357</span>                                                                          \n",
       "</pre>\n"
      ],
      "text/plain": [
       "\u001b[1;36m2025\u001b[0m-\u001b[1;36m02\u001b[0m-\u001b[1;36m23\u001b[0m \u001b[1;92m09:00:23\u001b[0m,\u001b[1;36m404\u001b[0m - \u001b[1m{\u001b[0mpytorch_tabular.tabular_model_tuner:\u001b[1;36m412\u001b[0m\u001b[1m}\u001b[0m - INFO - Trial \u001b[1;36m7\u001b[0m/\u001b[1;36m12\u001b[0m: \u001b[1m{\u001b[0m\u001b[32m'model'\u001b[0m:                 \n",
       "\u001b[32m'0-GANDALFConfig'\u001b[0m, \u001b[32m'model_config__gflu_dropout'\u001b[0m: \u001b[1;36m0.2\u001b[0m, \u001b[32m'model_config__gflu_stages'\u001b[0m: \u001b[1;36m6\u001b[0m,                              \n",
       "\u001b[32m'optimizer_config__optimizer'\u001b[0m: \u001b[32m'Adam'\u001b[0m, \u001b[32m'loss'\u001b[0m: \u001b[1;36m4.665591716766357\u001b[0m, \u001b[32m'mean_squared_error'\u001b[0m: \u001b[1;36m4.665591716766357\u001b[0m,         \n",
       "\u001b[32m'trial_id'\u001b[0m: \u001b[1;36m6\u001b[0m\u001b[1m}\u001b[0m | Score: \u001b[1;36m4.665591716766357\u001b[0m                                                                          \n"
      ]
     },
     "metadata": {},
     "output_type": "display_data"
    },
    {
     "data": {
      "text/html": [
       "<pre style=\"white-space:pre;overflow-x:auto;line-height:normal;font-family:Menlo,'DejaVu Sans Mono',consolas,'Courier New',monospace\"><span style=\"color: #008080; text-decoration-color: #008080; font-weight: bold\">2025</span>-<span style=\"color: #008080; text-decoration-color: #008080; font-weight: bold\">02</span>-<span style=\"color: #008080; text-decoration-color: #008080; font-weight: bold\">23</span> <span style=\"color: #00ff00; text-decoration-color: #00ff00; font-weight: bold\">09:00:23</span>,<span style=\"color: #008080; text-decoration-color: #008080; font-weight: bold\">437</span> - <span style=\"font-weight: bold\">{</span>pytorch_tabular.models.gandalf.gandal<span style=\"color: #00ff00; text-decoration-color: #00ff00; font-weight: bold\">f:109</span><span style=\"font-weight: bold\">}</span> - INFO - Data Aware Initialization of T0    \n",
       "</pre>\n"
      ],
      "text/plain": [
       "\u001b[1;36m2025\u001b[0m-\u001b[1;36m02\u001b[0m-\u001b[1;36m23\u001b[0m \u001b[1;92m09:00:23\u001b[0m,\u001b[1;36m437\u001b[0m - \u001b[1m{\u001b[0mpytorch_tabular.models.gandalf.gandal\u001b[1;92mf:109\u001b[0m\u001b[1m}\u001b[0m - INFO - Data Aware Initialization of T0    \n"
      ]
     },
     "metadata": {},
     "output_type": "display_data"
    },
    {
     "data": {
      "application/vnd.jupyter.widget-view+json": {
       "model_id": "679a622af89046e1b11567748f34b944",
       "version_major": 2,
       "version_minor": 0
      },
      "text/plain": [
       "Finding best initial lr:   0%|          | 0/100 [00:00<?, ?it/s]"
      ]
     },
     "metadata": {},
     "output_type": "display_data"
    },
    {
     "data": {
      "text/html": [
       "<pre style=\"white-space:pre;overflow-x:auto;line-height:normal;font-family:Menlo,'DejaVu Sans Mono',consolas,'Courier New',monospace\"><span style=\"color: #008080; text-decoration-color: #008080; font-weight: bold\">2025</span>-<span style=\"color: #008080; text-decoration-color: #008080; font-weight: bold\">02</span>-<span style=\"color: #008080; text-decoration-color: #008080; font-weight: bold\">23</span> <span style=\"color: #00ff00; text-decoration-color: #00ff00; font-weight: bold\">09:00:25</span>,<span style=\"color: #008080; text-decoration-color: #008080; font-weight: bold\">814</span> - <span style=\"font-weight: bold\">{</span>pytorch_tabular.models.gandalf.gandal<span style=\"color: #00ff00; text-decoration-color: #00ff00; font-weight: bold\">f:109</span><span style=\"font-weight: bold\">}</span> - INFO - Data Aware Initialization of T0    \n",
       "</pre>\n"
      ],
      "text/plain": [
       "\u001b[1;36m2025\u001b[0m-\u001b[1;36m02\u001b[0m-\u001b[1;36m23\u001b[0m \u001b[1;92m09:00:25\u001b[0m,\u001b[1;36m814\u001b[0m - \u001b[1m{\u001b[0mpytorch_tabular.models.gandalf.gandal\u001b[1;92mf:109\u001b[0m\u001b[1m}\u001b[0m - INFO - Data Aware Initialization of T0    \n"
      ]
     },
     "metadata": {},
     "output_type": "display_data"
    },
    {
     "data": {
      "text/html": [
       "<pre style=\"white-space:pre;overflow-x:auto;line-height:normal;font-family:Menlo,'DejaVu Sans Mono',consolas,'Courier New',monospace\"><span style=\"color: #008080; text-decoration-color: #008080; font-weight: bold\">2025</span>-<span style=\"color: #008080; text-decoration-color: #008080; font-weight: bold\">02</span>-<span style=\"color: #008080; text-decoration-color: #008080; font-weight: bold\">23</span> <span style=\"color: #00ff00; text-decoration-color: #00ff00; font-weight: bold\">09:00:41</span>,<span style=\"color: #008080; text-decoration-color: #008080; font-weight: bold\">179</span> - <span style=\"font-weight: bold\">{</span>pytorch_tabular.tabular_model_tuner:<span style=\"color: #008080; text-decoration-color: #008080; font-weight: bold\">412</span><span style=\"font-weight: bold\">}</span> - INFO - Trial <span style=\"color: #008080; text-decoration-color: #008080; font-weight: bold\">8</span>/<span style=\"color: #008080; text-decoration-color: #008080; font-weight: bold\">12</span>: <span style=\"font-weight: bold\">{</span><span style=\"color: #008000; text-decoration-color: #008000\">'model'</span>:                 \n",
       "<span style=\"color: #008000; text-decoration-color: #008000\">'0-GANDALFConfig'</span>, <span style=\"color: #008000; text-decoration-color: #008000\">'model_config__gflu_dropout'</span>: <span style=\"color: #008080; text-decoration-color: #008080; font-weight: bold\">0.2</span>, <span style=\"color: #008000; text-decoration-color: #008000\">'model_config__gflu_stages'</span>: <span style=\"color: #008080; text-decoration-color: #008080; font-weight: bold\">6</span>,                              \n",
       "<span style=\"color: #008000; text-decoration-color: #008000\">'optimizer_config__optimizer'</span>: <span style=\"color: #008000; text-decoration-color: #008000\">'AdamW'</span>, <span style=\"color: #008000; text-decoration-color: #008000\">'loss'</span>: <span style=\"color: #008080; text-decoration-color: #008080; font-weight: bold\">2.724367380142212</span>, <span style=\"color: #008000; text-decoration-color: #008000\">'mean_squared_error'</span>: <span style=\"color: #008080; text-decoration-color: #008080; font-weight: bold\">2.724367380142212</span>,        \n",
       "<span style=\"color: #008000; text-decoration-color: #008000\">'trial_id'</span>: <span style=\"color: #008080; text-decoration-color: #008080; font-weight: bold\">7</span><span style=\"font-weight: bold\">}</span> | Score: <span style=\"color: #008080; text-decoration-color: #008080; font-weight: bold\">2.724367380142212</span>                                                                          \n",
       "</pre>\n"
      ],
      "text/plain": [
       "\u001b[1;36m2025\u001b[0m-\u001b[1;36m02\u001b[0m-\u001b[1;36m23\u001b[0m \u001b[1;92m09:00:41\u001b[0m,\u001b[1;36m179\u001b[0m - \u001b[1m{\u001b[0mpytorch_tabular.tabular_model_tuner:\u001b[1;36m412\u001b[0m\u001b[1m}\u001b[0m - INFO - Trial \u001b[1;36m8\u001b[0m/\u001b[1;36m12\u001b[0m: \u001b[1m{\u001b[0m\u001b[32m'model'\u001b[0m:                 \n",
       "\u001b[32m'0-GANDALFConfig'\u001b[0m, \u001b[32m'model_config__gflu_dropout'\u001b[0m: \u001b[1;36m0.2\u001b[0m, \u001b[32m'model_config__gflu_stages'\u001b[0m: \u001b[1;36m6\u001b[0m,                              \n",
       "\u001b[32m'optimizer_config__optimizer'\u001b[0m: \u001b[32m'AdamW'\u001b[0m, \u001b[32m'loss'\u001b[0m: \u001b[1;36m2.724367380142212\u001b[0m, \u001b[32m'mean_squared_error'\u001b[0m: \u001b[1;36m2.724367380142212\u001b[0m,        \n",
       "\u001b[32m'trial_id'\u001b[0m: \u001b[1;36m7\u001b[0m\u001b[1m}\u001b[0m | Score: \u001b[1;36m2.724367380142212\u001b[0m                                                                          \n"
      ]
     },
     "metadata": {},
     "output_type": "display_data"
    },
    {
     "data": {
      "text/html": [
       "<pre style=\"white-space:pre;overflow-x:auto;line-height:normal;font-family:Menlo,'DejaVu Sans Mono',consolas,'Courier New',monospace\"><span style=\"color: #008080; text-decoration-color: #008080; font-weight: bold\">2025</span>-<span style=\"color: #008080; text-decoration-color: #008080; font-weight: bold\">02</span>-<span style=\"color: #008080; text-decoration-color: #008080; font-weight: bold\">23</span> <span style=\"color: #00ff00; text-decoration-color: #00ff00; font-weight: bold\">09:00:41</span>,<span style=\"color: #008080; text-decoration-color: #008080; font-weight: bold\">216</span> - <span style=\"font-weight: bold\">{</span>pytorch_tabular.models.gandalf.gandal<span style=\"color: #00ff00; text-decoration-color: #00ff00; font-weight: bold\">f:109</span><span style=\"font-weight: bold\">}</span> - INFO - Data Aware Initialization of T0    \n",
       "</pre>\n"
      ],
      "text/plain": [
       "\u001b[1;36m2025\u001b[0m-\u001b[1;36m02\u001b[0m-\u001b[1;36m23\u001b[0m \u001b[1;92m09:00:41\u001b[0m,\u001b[1;36m216\u001b[0m - \u001b[1m{\u001b[0mpytorch_tabular.models.gandalf.gandal\u001b[1;92mf:109\u001b[0m\u001b[1m}\u001b[0m - INFO - Data Aware Initialization of T0    \n"
      ]
     },
     "metadata": {},
     "output_type": "display_data"
    },
    {
     "data": {
      "application/vnd.jupyter.widget-view+json": {
       "model_id": "a33f132427e843daafae769752dc2ed5",
       "version_major": 2,
       "version_minor": 0
      },
      "text/plain": [
       "Finding best initial lr:   0%|          | 0/100 [00:00<?, ?it/s]"
      ]
     },
     "metadata": {},
     "output_type": "display_data"
    },
    {
     "data": {
      "text/html": [
       "<pre style=\"white-space:pre;overflow-x:auto;line-height:normal;font-family:Menlo,'DejaVu Sans Mono',consolas,'Courier New',monospace\"><span style=\"color: #008080; text-decoration-color: #008080; font-weight: bold\">2025</span>-<span style=\"color: #008080; text-decoration-color: #008080; font-weight: bold\">02</span>-<span style=\"color: #008080; text-decoration-color: #008080; font-weight: bold\">23</span> <span style=\"color: #00ff00; text-decoration-color: #00ff00; font-weight: bold\">09:00:43</span>,<span style=\"color: #008080; text-decoration-color: #008080; font-weight: bold\">939</span> - <span style=\"font-weight: bold\">{</span>pytorch_tabular.models.gandalf.gandal<span style=\"color: #00ff00; text-decoration-color: #00ff00; font-weight: bold\">f:109</span><span style=\"font-weight: bold\">}</span> - INFO - Data Aware Initialization of T0    \n",
       "</pre>\n"
      ],
      "text/plain": [
       "\u001b[1;36m2025\u001b[0m-\u001b[1;36m02\u001b[0m-\u001b[1;36m23\u001b[0m \u001b[1;92m09:00:43\u001b[0m,\u001b[1;36m939\u001b[0m - \u001b[1m{\u001b[0mpytorch_tabular.models.gandalf.gandal\u001b[1;92mf:109\u001b[0m\u001b[1m}\u001b[0m - INFO - Data Aware Initialization of T0    \n"
      ]
     },
     "metadata": {},
     "output_type": "display_data"
    },
    {
     "data": {
      "text/html": [
       "<pre style=\"white-space:pre;overflow-x:auto;line-height:normal;font-family:Menlo,'DejaVu Sans Mono',consolas,'Courier New',monospace\"><span style=\"color: #008080; text-decoration-color: #008080; font-weight: bold\">2025</span>-<span style=\"color: #008080; text-decoration-color: #008080; font-weight: bold\">02</span>-<span style=\"color: #008080; text-decoration-color: #008080; font-weight: bold\">23</span> <span style=\"color: #00ff00; text-decoration-color: #00ff00; font-weight: bold\">09:00:57</span>,<span style=\"color: #008080; text-decoration-color: #008080; font-weight: bold\">514</span> - <span style=\"font-weight: bold\">{</span>pytorch_tabular.tabular_model_tuner:<span style=\"color: #008080; text-decoration-color: #008080; font-weight: bold\">412</span><span style=\"font-weight: bold\">}</span> - INFO - Trial <span style=\"color: #008080; text-decoration-color: #008080; font-weight: bold\">9</span>/<span style=\"color: #008080; text-decoration-color: #008080; font-weight: bold\">12</span>: <span style=\"font-weight: bold\">{</span><span style=\"color: #008000; text-decoration-color: #008000\">'model'</span>:                 \n",
       "<span style=\"color: #008000; text-decoration-color: #008000\">'0-GANDALFConfig'</span>, <span style=\"color: #008000; text-decoration-color: #008000\">'model_config__gflu_dropout'</span>: <span style=\"color: #008080; text-decoration-color: #008080; font-weight: bold\">0.2</span>, <span style=\"color: #008000; text-decoration-color: #008000\">'model_config__gflu_stages'</span>: <span style=\"color: #008080; text-decoration-color: #008080; font-weight: bold\">12</span>,                             \n",
       "<span style=\"color: #008000; text-decoration-color: #008000\">'optimizer_config__optimizer'</span>: <span style=\"color: #008000; text-decoration-color: #008000\">'Adam'</span>, <span style=\"color: #008000; text-decoration-color: #008000\">'loss'</span>: <span style=\"color: #008080; text-decoration-color: #008080; font-weight: bold\">3.1020472049713135</span>, <span style=\"color: #008000; text-decoration-color: #008000\">'mean_squared_error'</span>: <span style=\"color: #008080; text-decoration-color: #008080; font-weight: bold\">3.1020472049713135</span>,       \n",
       "<span style=\"color: #008000; text-decoration-color: #008000\">'trial_id'</span>: <span style=\"color: #008080; text-decoration-color: #008080; font-weight: bold\">8</span><span style=\"font-weight: bold\">}</span> | Score: <span style=\"color: #008080; text-decoration-color: #008080; font-weight: bold\">3.1020472049713135</span>                                                                         \n",
       "</pre>\n"
      ],
      "text/plain": [
       "\u001b[1;36m2025\u001b[0m-\u001b[1;36m02\u001b[0m-\u001b[1;36m23\u001b[0m \u001b[1;92m09:00:57\u001b[0m,\u001b[1;36m514\u001b[0m - \u001b[1m{\u001b[0mpytorch_tabular.tabular_model_tuner:\u001b[1;36m412\u001b[0m\u001b[1m}\u001b[0m - INFO - Trial \u001b[1;36m9\u001b[0m/\u001b[1;36m12\u001b[0m: \u001b[1m{\u001b[0m\u001b[32m'model'\u001b[0m:                 \n",
       "\u001b[32m'0-GANDALFConfig'\u001b[0m, \u001b[32m'model_config__gflu_dropout'\u001b[0m: \u001b[1;36m0.2\u001b[0m, \u001b[32m'model_config__gflu_stages'\u001b[0m: \u001b[1;36m12\u001b[0m,                             \n",
       "\u001b[32m'optimizer_config__optimizer'\u001b[0m: \u001b[32m'Adam'\u001b[0m, \u001b[32m'loss'\u001b[0m: \u001b[1;36m3.1020472049713135\u001b[0m, \u001b[32m'mean_squared_error'\u001b[0m: \u001b[1;36m3.1020472049713135\u001b[0m,       \n",
       "\u001b[32m'trial_id'\u001b[0m: \u001b[1;36m8\u001b[0m\u001b[1m}\u001b[0m | Score: \u001b[1;36m3.1020472049713135\u001b[0m                                                                         \n"
      ]
     },
     "metadata": {},
     "output_type": "display_data"
    },
    {
     "data": {
      "text/html": [
       "<pre style=\"white-space:pre;overflow-x:auto;line-height:normal;font-family:Menlo,'DejaVu Sans Mono',consolas,'Courier New',monospace\"><span style=\"color: #008080; text-decoration-color: #008080; font-weight: bold\">2025</span>-<span style=\"color: #008080; text-decoration-color: #008080; font-weight: bold\">02</span>-<span style=\"color: #008080; text-decoration-color: #008080; font-weight: bold\">23</span> <span style=\"color: #00ff00; text-decoration-color: #00ff00; font-weight: bold\">09:00:57</span>,<span style=\"color: #008080; text-decoration-color: #008080; font-weight: bold\">546</span> - <span style=\"font-weight: bold\">{</span>pytorch_tabular.models.gandalf.gandal<span style=\"color: #00ff00; text-decoration-color: #00ff00; font-weight: bold\">f:109</span><span style=\"font-weight: bold\">}</span> - INFO - Data Aware Initialization of T0    \n",
       "</pre>\n"
      ],
      "text/plain": [
       "\u001b[1;36m2025\u001b[0m-\u001b[1;36m02\u001b[0m-\u001b[1;36m23\u001b[0m \u001b[1;92m09:00:57\u001b[0m,\u001b[1;36m546\u001b[0m - \u001b[1m{\u001b[0mpytorch_tabular.models.gandalf.gandal\u001b[1;92mf:109\u001b[0m\u001b[1m}\u001b[0m - INFO - Data Aware Initialization of T0    \n"
      ]
     },
     "metadata": {},
     "output_type": "display_data"
    },
    {
     "data": {
      "application/vnd.jupyter.widget-view+json": {
       "model_id": "7751771214fc4fb6b2b401cebf5041c8",
       "version_major": 2,
       "version_minor": 0
      },
      "text/plain": [
       "Finding best initial lr:   0%|          | 0/100 [00:00<?, ?it/s]"
      ]
     },
     "metadata": {},
     "output_type": "display_data"
    },
    {
     "data": {
      "text/html": [
       "<pre style=\"white-space:pre;overflow-x:auto;line-height:normal;font-family:Menlo,'DejaVu Sans Mono',consolas,'Courier New',monospace\"><span style=\"color: #008080; text-decoration-color: #008080; font-weight: bold\">2025</span>-<span style=\"color: #008080; text-decoration-color: #008080; font-weight: bold\">02</span>-<span style=\"color: #008080; text-decoration-color: #008080; font-weight: bold\">23</span> <span style=\"color: #00ff00; text-decoration-color: #00ff00; font-weight: bold\">09:01:00</span>,<span style=\"color: #008080; text-decoration-color: #008080; font-weight: bold\">282</span> - <span style=\"font-weight: bold\">{</span>pytorch_tabular.models.gandalf.gandal<span style=\"color: #00ff00; text-decoration-color: #00ff00; font-weight: bold\">f:109</span><span style=\"font-weight: bold\">}</span> - INFO - Data Aware Initialization of T0    \n",
       "</pre>\n"
      ],
      "text/plain": [
       "\u001b[1;36m2025\u001b[0m-\u001b[1;36m02\u001b[0m-\u001b[1;36m23\u001b[0m \u001b[1;92m09:01:00\u001b[0m,\u001b[1;36m282\u001b[0m - \u001b[1m{\u001b[0mpytorch_tabular.models.gandalf.gandal\u001b[1;92mf:109\u001b[0m\u001b[1m}\u001b[0m - INFO - Data Aware Initialization of T0    \n"
      ]
     },
     "metadata": {},
     "output_type": "display_data"
    },
    {
     "data": {
      "text/html": [
       "<pre style=\"white-space:pre;overflow-x:auto;line-height:normal;font-family:Menlo,'DejaVu Sans Mono',consolas,'Courier New',monospace\"><span style=\"color: #008080; text-decoration-color: #008080; font-weight: bold\">2025</span>-<span style=\"color: #008080; text-decoration-color: #008080; font-weight: bold\">02</span>-<span style=\"color: #008080; text-decoration-color: #008080; font-weight: bold\">23</span> <span style=\"color: #00ff00; text-decoration-color: #00ff00; font-weight: bold\">09:01:14</span>,<span style=\"color: #008080; text-decoration-color: #008080; font-weight: bold\">107</span> - <span style=\"font-weight: bold\">{</span>pytorch_tabular.tabular_model_tuner:<span style=\"color: #008080; text-decoration-color: #008080; font-weight: bold\">412</span><span style=\"font-weight: bold\">}</span> - INFO - Trial <span style=\"color: #008080; text-decoration-color: #008080; font-weight: bold\">10</span>/<span style=\"color: #008080; text-decoration-color: #008080; font-weight: bold\">12</span>: <span style=\"font-weight: bold\">{</span><span style=\"color: #008000; text-decoration-color: #008000\">'model'</span>:                \n",
       "<span style=\"color: #008000; text-decoration-color: #008000\">'0-GANDALFConfig'</span>, <span style=\"color: #008000; text-decoration-color: #008000\">'model_config__gflu_dropout'</span>: <span style=\"color: #008080; text-decoration-color: #008080; font-weight: bold\">0.2</span>, <span style=\"color: #008000; text-decoration-color: #008000\">'model_config__gflu_stages'</span>: <span style=\"color: #008080; text-decoration-color: #008080; font-weight: bold\">12</span>,                             \n",
       "<span style=\"color: #008000; text-decoration-color: #008000\">'optimizer_config__optimizer'</span>: <span style=\"color: #008000; text-decoration-color: #008000\">'AdamW'</span>, <span style=\"color: #008000; text-decoration-color: #008000\">'loss'</span>: <span style=\"color: #008080; text-decoration-color: #008080; font-weight: bold\">22.03923988342285</span>, <span style=\"color: #008000; text-decoration-color: #008000\">'mean_squared_error'</span>: <span style=\"color: #008080; text-decoration-color: #008080; font-weight: bold\">22.03923988342285</span>,        \n",
       "<span style=\"color: #008000; text-decoration-color: #008000\">'trial_id'</span>: <span style=\"color: #008080; text-decoration-color: #008080; font-weight: bold\">9</span><span style=\"font-weight: bold\">}</span> | Score: <span style=\"color: #008080; text-decoration-color: #008080; font-weight: bold\">22.03923988342285</span>                                                                          \n",
       "</pre>\n"
      ],
      "text/plain": [
       "\u001b[1;36m2025\u001b[0m-\u001b[1;36m02\u001b[0m-\u001b[1;36m23\u001b[0m \u001b[1;92m09:01:14\u001b[0m,\u001b[1;36m107\u001b[0m - \u001b[1m{\u001b[0mpytorch_tabular.tabular_model_tuner:\u001b[1;36m412\u001b[0m\u001b[1m}\u001b[0m - INFO - Trial \u001b[1;36m10\u001b[0m/\u001b[1;36m12\u001b[0m: \u001b[1m{\u001b[0m\u001b[32m'model'\u001b[0m:                \n",
       "\u001b[32m'0-GANDALFConfig'\u001b[0m, \u001b[32m'model_config__gflu_dropout'\u001b[0m: \u001b[1;36m0.2\u001b[0m, \u001b[32m'model_config__gflu_stages'\u001b[0m: \u001b[1;36m12\u001b[0m,                             \n",
       "\u001b[32m'optimizer_config__optimizer'\u001b[0m: \u001b[32m'AdamW'\u001b[0m, \u001b[32m'loss'\u001b[0m: \u001b[1;36m22.03923988342285\u001b[0m, \u001b[32m'mean_squared_error'\u001b[0m: \u001b[1;36m22.03923988342285\u001b[0m,        \n",
       "\u001b[32m'trial_id'\u001b[0m: \u001b[1;36m9\u001b[0m\u001b[1m}\u001b[0m | Score: \u001b[1;36m22.03923988342285\u001b[0m                                                                          \n"
      ]
     },
     "metadata": {},
     "output_type": "display_data"
    },
    {
     "data": {
      "text/html": [
       "<pre style=\"white-space:pre;overflow-x:auto;line-height:normal;font-family:Menlo,'DejaVu Sans Mono',consolas,'Courier New',monospace\"><span style=\"color: #008080; text-decoration-color: #008080; font-weight: bold\">2025</span>-<span style=\"color: #008080; text-decoration-color: #008080; font-weight: bold\">02</span>-<span style=\"color: #008080; text-decoration-color: #008080; font-weight: bold\">23</span> <span style=\"color: #00ff00; text-decoration-color: #00ff00; font-weight: bold\">09:01:14</span>,<span style=\"color: #008080; text-decoration-color: #008080; font-weight: bold\">138</span> - <span style=\"font-weight: bold\">{</span>pytorch_tabular.models.gandalf.gandal<span style=\"color: #00ff00; text-decoration-color: #00ff00; font-weight: bold\">f:109</span><span style=\"font-weight: bold\">}</span> - INFO - Data Aware Initialization of T0    \n",
       "</pre>\n"
      ],
      "text/plain": [
       "\u001b[1;36m2025\u001b[0m-\u001b[1;36m02\u001b[0m-\u001b[1;36m23\u001b[0m \u001b[1;92m09:01:14\u001b[0m,\u001b[1;36m138\u001b[0m - \u001b[1m{\u001b[0mpytorch_tabular.models.gandalf.gandal\u001b[1;92mf:109\u001b[0m\u001b[1m}\u001b[0m - INFO - Data Aware Initialization of T0    \n"
      ]
     },
     "metadata": {},
     "output_type": "display_data"
    },
    {
     "data": {
      "application/vnd.jupyter.widget-view+json": {
       "model_id": "c5c6680e133544ee867a53d94551e2d1",
       "version_major": 2,
       "version_minor": 0
      },
      "text/plain": [
       "Finding best initial lr:   0%|          | 0/100 [00:00<?, ?it/s]"
      ]
     },
     "metadata": {},
     "output_type": "display_data"
    },
    {
     "data": {
      "text/html": [
       "<pre style=\"white-space:pre;overflow-x:auto;line-height:normal;font-family:Menlo,'DejaVu Sans Mono',consolas,'Courier New',monospace\"><span style=\"color: #008080; text-decoration-color: #008080; font-weight: bold\">2025</span>-<span style=\"color: #008080; text-decoration-color: #008080; font-weight: bold\">02</span>-<span style=\"color: #008080; text-decoration-color: #008080; font-weight: bold\">23</span> <span style=\"color: #00ff00; text-decoration-color: #00ff00; font-weight: bold\">09:01:17</span>,<span style=\"color: #008080; text-decoration-color: #008080; font-weight: bold\">064</span> - <span style=\"font-weight: bold\">{</span>pytorch_tabular.models.gandalf.gandal<span style=\"color: #00ff00; text-decoration-color: #00ff00; font-weight: bold\">f:109</span><span style=\"font-weight: bold\">}</span> - INFO - Data Aware Initialization of T0    \n",
       "</pre>\n"
      ],
      "text/plain": [
       "\u001b[1;36m2025\u001b[0m-\u001b[1;36m02\u001b[0m-\u001b[1;36m23\u001b[0m \u001b[1;92m09:01:17\u001b[0m,\u001b[1;36m064\u001b[0m - \u001b[1m{\u001b[0mpytorch_tabular.models.gandalf.gandal\u001b[1;92mf:109\u001b[0m\u001b[1m}\u001b[0m - INFO - Data Aware Initialization of T0    \n"
      ]
     },
     "metadata": {},
     "output_type": "display_data"
    },
    {
     "data": {
      "text/html": [
       "<pre style=\"white-space:pre;overflow-x:auto;line-height:normal;font-family:Menlo,'DejaVu Sans Mono',consolas,'Courier New',monospace\"><span style=\"color: #008080; text-decoration-color: #008080; font-weight: bold\">2025</span>-<span style=\"color: #008080; text-decoration-color: #008080; font-weight: bold\">02</span>-<span style=\"color: #008080; text-decoration-color: #008080; font-weight: bold\">23</span> <span style=\"color: #00ff00; text-decoration-color: #00ff00; font-weight: bold\">09:01:31</span>,<span style=\"color: #008080; text-decoration-color: #008080; font-weight: bold\">703</span> - <span style=\"font-weight: bold\">{</span>pytorch_tabular.tabular_model_tuner:<span style=\"color: #008080; text-decoration-color: #008080; font-weight: bold\">412</span><span style=\"font-weight: bold\">}</span> - INFO - Trial <span style=\"color: #008080; text-decoration-color: #008080; font-weight: bold\">11</span>/<span style=\"color: #008080; text-decoration-color: #008080; font-weight: bold\">12</span>: <span style=\"font-weight: bold\">{</span><span style=\"color: #008000; text-decoration-color: #008000\">'model'</span>:                \n",
       "<span style=\"color: #008000; text-decoration-color: #008000\">'0-GANDALFConfig'</span>, <span style=\"color: #008000; text-decoration-color: #008000\">'model_config__gflu_dropout'</span>: <span style=\"color: #008080; text-decoration-color: #008080; font-weight: bold\">0.2</span>, <span style=\"color: #008000; text-decoration-color: #008000\">'model_config__gflu_stages'</span>: <span style=\"color: #008080; text-decoration-color: #008080; font-weight: bold\">15</span>,                             \n",
       "<span style=\"color: #008000; text-decoration-color: #008000\">'optimizer_config__optimizer'</span>: <span style=\"color: #008000; text-decoration-color: #008000\">'Adam'</span>, <span style=\"color: #008000; text-decoration-color: #008000\">'loss'</span>: <span style=\"color: #008080; text-decoration-color: #008080; font-weight: bold\">5.131916522979736</span>, <span style=\"color: #008000; text-decoration-color: #008000\">'mean_squared_error'</span>: <span style=\"color: #008080; text-decoration-color: #008080; font-weight: bold\">5.131916522979736</span>,         \n",
       "<span style=\"color: #008000; text-decoration-color: #008000\">'trial_id'</span>: <span style=\"color: #008080; text-decoration-color: #008080; font-weight: bold\">10</span><span style=\"font-weight: bold\">}</span> | Score: <span style=\"color: #008080; text-decoration-color: #008080; font-weight: bold\">5.131916522979736</span>                                                                         \n",
       "</pre>\n"
      ],
      "text/plain": [
       "\u001b[1;36m2025\u001b[0m-\u001b[1;36m02\u001b[0m-\u001b[1;36m23\u001b[0m \u001b[1;92m09:01:31\u001b[0m,\u001b[1;36m703\u001b[0m - \u001b[1m{\u001b[0mpytorch_tabular.tabular_model_tuner:\u001b[1;36m412\u001b[0m\u001b[1m}\u001b[0m - INFO - Trial \u001b[1;36m11\u001b[0m/\u001b[1;36m12\u001b[0m: \u001b[1m{\u001b[0m\u001b[32m'model'\u001b[0m:                \n",
       "\u001b[32m'0-GANDALFConfig'\u001b[0m, \u001b[32m'model_config__gflu_dropout'\u001b[0m: \u001b[1;36m0.2\u001b[0m, \u001b[32m'model_config__gflu_stages'\u001b[0m: \u001b[1;36m15\u001b[0m,                             \n",
       "\u001b[32m'optimizer_config__optimizer'\u001b[0m: \u001b[32m'Adam'\u001b[0m, \u001b[32m'loss'\u001b[0m: \u001b[1;36m5.131916522979736\u001b[0m, \u001b[32m'mean_squared_error'\u001b[0m: \u001b[1;36m5.131916522979736\u001b[0m,         \n",
       "\u001b[32m'trial_id'\u001b[0m: \u001b[1;36m10\u001b[0m\u001b[1m}\u001b[0m | Score: \u001b[1;36m5.131916522979736\u001b[0m                                                                         \n"
      ]
     },
     "metadata": {},
     "output_type": "display_data"
    },
    {
     "data": {
      "text/html": [
       "<pre style=\"white-space:pre;overflow-x:auto;line-height:normal;font-family:Menlo,'DejaVu Sans Mono',consolas,'Courier New',monospace\"><span style=\"color: #008080; text-decoration-color: #008080; font-weight: bold\">2025</span>-<span style=\"color: #008080; text-decoration-color: #008080; font-weight: bold\">02</span>-<span style=\"color: #008080; text-decoration-color: #008080; font-weight: bold\">23</span> <span style=\"color: #00ff00; text-decoration-color: #00ff00; font-weight: bold\">09:01:31</span>,<span style=\"color: #008080; text-decoration-color: #008080; font-weight: bold\">733</span> - <span style=\"font-weight: bold\">{</span>pytorch_tabular.models.gandalf.gandal<span style=\"color: #00ff00; text-decoration-color: #00ff00; font-weight: bold\">f:109</span><span style=\"font-weight: bold\">}</span> - INFO - Data Aware Initialization of T0    \n",
       "</pre>\n"
      ],
      "text/plain": [
       "\u001b[1;36m2025\u001b[0m-\u001b[1;36m02\u001b[0m-\u001b[1;36m23\u001b[0m \u001b[1;92m09:01:31\u001b[0m,\u001b[1;36m733\u001b[0m - \u001b[1m{\u001b[0mpytorch_tabular.models.gandalf.gandal\u001b[1;92mf:109\u001b[0m\u001b[1m}\u001b[0m - INFO - Data Aware Initialization of T0    \n"
      ]
     },
     "metadata": {},
     "output_type": "display_data"
    },
    {
     "data": {
      "application/vnd.jupyter.widget-view+json": {
       "model_id": "d34c8a0fe7f24ec19d1d96e0c6473bb1",
       "version_major": 2,
       "version_minor": 0
      },
      "text/plain": [
       "Finding best initial lr:   0%|          | 0/100 [00:00<?, ?it/s]"
      ]
     },
     "metadata": {},
     "output_type": "display_data"
    },
    {
     "data": {
      "text/html": [
       "<pre style=\"white-space:pre;overflow-x:auto;line-height:normal;font-family:Menlo,'DejaVu Sans Mono',consolas,'Courier New',monospace\"><span style=\"color: #008080; text-decoration-color: #008080; font-weight: bold\">2025</span>-<span style=\"color: #008080; text-decoration-color: #008080; font-weight: bold\">02</span>-<span style=\"color: #008080; text-decoration-color: #008080; font-weight: bold\">23</span> <span style=\"color: #00ff00; text-decoration-color: #00ff00; font-weight: bold\">09:01:34</span>,<span style=\"color: #008080; text-decoration-color: #008080; font-weight: bold\">675</span> - <span style=\"font-weight: bold\">{</span>pytorch_tabular.models.gandalf.gandal<span style=\"color: #00ff00; text-decoration-color: #00ff00; font-weight: bold\">f:109</span><span style=\"font-weight: bold\">}</span> - INFO - Data Aware Initialization of T0    \n",
       "</pre>\n"
      ],
      "text/plain": [
       "\u001b[1;36m2025\u001b[0m-\u001b[1;36m02\u001b[0m-\u001b[1;36m23\u001b[0m \u001b[1;92m09:01:34\u001b[0m,\u001b[1;36m675\u001b[0m - \u001b[1m{\u001b[0mpytorch_tabular.models.gandalf.gandal\u001b[1;92mf:109\u001b[0m\u001b[1m}\u001b[0m - INFO - Data Aware Initialization of T0    \n"
      ]
     },
     "metadata": {},
     "output_type": "display_data"
    },
    {
     "data": {
      "text/html": [
       "<pre style=\"white-space:pre;overflow-x:auto;line-height:normal;font-family:Menlo,'DejaVu Sans Mono',consolas,'Courier New',monospace\"><span style=\"color: #008080; text-decoration-color: #008080; font-weight: bold\">2025</span>-<span style=\"color: #008080; text-decoration-color: #008080; font-weight: bold\">02</span>-<span style=\"color: #008080; text-decoration-color: #008080; font-weight: bold\">23</span> <span style=\"color: #00ff00; text-decoration-color: #00ff00; font-weight: bold\">09:01:49</span>,<span style=\"color: #008080; text-decoration-color: #008080; font-weight: bold\">217</span> - <span style=\"font-weight: bold\">{</span>pytorch_tabular.tabular_model_tuner:<span style=\"color: #008080; text-decoration-color: #008080; font-weight: bold\">412</span><span style=\"font-weight: bold\">}</span> - INFO - Trial <span style=\"color: #008080; text-decoration-color: #008080; font-weight: bold\">12</span>/<span style=\"color: #008080; text-decoration-color: #008080; font-weight: bold\">12</span>: <span style=\"font-weight: bold\">{</span><span style=\"color: #008000; text-decoration-color: #008000\">'model'</span>:                \n",
       "<span style=\"color: #008000; text-decoration-color: #008000\">'0-GANDALFConfig'</span>, <span style=\"color: #008000; text-decoration-color: #008000\">'model_config__gflu_dropout'</span>: <span style=\"color: #008080; text-decoration-color: #008080; font-weight: bold\">0.2</span>, <span style=\"color: #008000; text-decoration-color: #008000\">'model_config__gflu_stages'</span>: <span style=\"color: #008080; text-decoration-color: #008080; font-weight: bold\">15</span>,                             \n",
       "<span style=\"color: #008000; text-decoration-color: #008000\">'optimizer_config__optimizer'</span>: <span style=\"color: #008000; text-decoration-color: #008000\">'AdamW'</span>, <span style=\"color: #008000; text-decoration-color: #008000\">'loss'</span>: <span style=\"color: #008080; text-decoration-color: #008080; font-weight: bold\">6.068520545959473</span>, <span style=\"color: #008000; text-decoration-color: #008000\">'mean_squared_error'</span>: <span style=\"color: #008080; text-decoration-color: #008080; font-weight: bold\">6.068520545959473</span>,        \n",
       "<span style=\"color: #008000; text-decoration-color: #008000\">'trial_id'</span>: <span style=\"color: #008080; text-decoration-color: #008080; font-weight: bold\">11</span><span style=\"font-weight: bold\">}</span> | Score: <span style=\"color: #008080; text-decoration-color: #008080; font-weight: bold\">6.068520545959473</span>                                                                         \n",
       "</pre>\n"
      ],
      "text/plain": [
       "\u001b[1;36m2025\u001b[0m-\u001b[1;36m02\u001b[0m-\u001b[1;36m23\u001b[0m \u001b[1;92m09:01:49\u001b[0m,\u001b[1;36m217\u001b[0m - \u001b[1m{\u001b[0mpytorch_tabular.tabular_model_tuner:\u001b[1;36m412\u001b[0m\u001b[1m}\u001b[0m - INFO - Trial \u001b[1;36m12\u001b[0m/\u001b[1;36m12\u001b[0m: \u001b[1m{\u001b[0m\u001b[32m'model'\u001b[0m:                \n",
       "\u001b[32m'0-GANDALFConfig'\u001b[0m, \u001b[32m'model_config__gflu_dropout'\u001b[0m: \u001b[1;36m0.2\u001b[0m, \u001b[32m'model_config__gflu_stages'\u001b[0m: \u001b[1;36m15\u001b[0m,                             \n",
       "\u001b[32m'optimizer_config__optimizer'\u001b[0m: \u001b[32m'AdamW'\u001b[0m, \u001b[32m'loss'\u001b[0m: \u001b[1;36m6.068520545959473\u001b[0m, \u001b[32m'mean_squared_error'\u001b[0m: \u001b[1;36m6.068520545959473\u001b[0m,        \n",
       "\u001b[32m'trial_id'\u001b[0m: \u001b[1;36m11\u001b[0m\u001b[1m}\u001b[0m | Score: \u001b[1;36m6.068520545959473\u001b[0m                                                                         \n"
      ]
     },
     "metadata": {},
     "output_type": "display_data"
    },
    {
     "data": {
      "application/vnd.jupyter.widget-view+json": {
       "model_id": "12c52f901eab472399810f84c0e39cef",
       "version_major": 2,
       "version_minor": 0
      },
      "text/plain": [
       "Finding best initial lr:   0%|          | 0/100 [00:00<?, ?it/s]"
      ]
     },
     "metadata": {},
     "output_type": "display_data"
    },
    {
     "data": {
      "text/html": [
       "<pre style=\"white-space:pre;overflow-x:auto;line-height:normal;font-family:Menlo,'DejaVu Sans Mono',consolas,'Courier New',monospace\"><span style=\"color: #008080; text-decoration-color: #008080; font-weight: bold\">2025</span>-<span style=\"color: #008080; text-decoration-color: #008080; font-weight: bold\">02</span>-<span style=\"color: #008080; text-decoration-color: #008080; font-weight: bold\">23</span> <span style=\"color: #00ff00; text-decoration-color: #00ff00; font-weight: bold\">09:02:10</span>,<span style=\"color: #008080; text-decoration-color: #008080; font-weight: bold\">437</span> - <span style=\"font-weight: bold\">{</span>pytorch_tabular.tabular_model_tuner:<span style=\"color: #008080; text-decoration-color: #008080; font-weight: bold\">412</span><span style=\"font-weight: bold\">}</span> - INFO - Trial <span style=\"color: #008080; text-decoration-color: #008080; font-weight: bold\">1</span>/<span style=\"color: #008080; text-decoration-color: #008080; font-weight: bold\">27</span>: <span style=\"font-weight: bold\">{</span><span style=\"color: #008000; text-decoration-color: #008000\">'model'</span>:                 \n",
       "<span style=\"color: #008000; text-decoration-color: #008000\">'1-FTTransformerConfig'</span>, <span style=\"color: #008000; text-decoration-color: #008000\">'model_config__input_embed_dim'</span>: <span style=\"color: #008080; text-decoration-color: #008080; font-weight: bold\">16</span>, <span style=\"color: #008000; text-decoration-color: #008000\">'model_config__num_heads'</span>: <span style=\"color: #008080; text-decoration-color: #008080; font-weight: bold\">4</span>,                        \n",
       "<span style=\"color: #008000; text-decoration-color: #008000\">'model_config__transformer_activation'</span>: <span style=\"color: #008000; text-decoration-color: #008000\">'GEGLU'</span>, <span style=\"color: #008000; text-decoration-color: #008000\">'loss'</span>: <span style=\"color: #008080; text-decoration-color: #008080; font-weight: bold\">2.517475128173828</span>, <span style=\"color: #008000; text-decoration-color: #008000\">'mean_squared_error'</span>:                  \n",
       "<span style=\"color: #008080; text-decoration-color: #008080; font-weight: bold\">2.517475128173828</span>, <span style=\"color: #008000; text-decoration-color: #008000\">'trial_id'</span>: <span style=\"color: #008080; text-decoration-color: #008080; font-weight: bold\">0</span><span style=\"font-weight: bold\">}</span> | Score: <span style=\"color: #008080; text-decoration-color: #008080; font-weight: bold\">2.517475128173828</span>                                                       \n",
       "</pre>\n"
      ],
      "text/plain": [
       "\u001b[1;36m2025\u001b[0m-\u001b[1;36m02\u001b[0m-\u001b[1;36m23\u001b[0m \u001b[1;92m09:02:10\u001b[0m,\u001b[1;36m437\u001b[0m - \u001b[1m{\u001b[0mpytorch_tabular.tabular_model_tuner:\u001b[1;36m412\u001b[0m\u001b[1m}\u001b[0m - INFO - Trial \u001b[1;36m1\u001b[0m/\u001b[1;36m27\u001b[0m: \u001b[1m{\u001b[0m\u001b[32m'model'\u001b[0m:                 \n",
       "\u001b[32m'1-FTTransformerConfig'\u001b[0m, \u001b[32m'model_config__input_embed_dim'\u001b[0m: \u001b[1;36m16\u001b[0m, \u001b[32m'model_config__num_heads'\u001b[0m: \u001b[1;36m4\u001b[0m,                        \n",
       "\u001b[32m'model_config__transformer_activation'\u001b[0m: \u001b[32m'GEGLU'\u001b[0m, \u001b[32m'loss'\u001b[0m: \u001b[1;36m2.517475128173828\u001b[0m, \u001b[32m'mean_squared_error'\u001b[0m:                  \n",
       "\u001b[1;36m2.517475128173828\u001b[0m, \u001b[32m'trial_id'\u001b[0m: \u001b[1;36m0\u001b[0m\u001b[1m}\u001b[0m | Score: \u001b[1;36m2.517475128173828\u001b[0m                                                       \n"
      ]
     },
     "metadata": {},
     "output_type": "display_data"
    },
    {
     "data": {
      "application/vnd.jupyter.widget-view+json": {
       "model_id": "44673ac5214943ae8355774844867842",
       "version_major": 2,
       "version_minor": 0
      },
      "text/plain": [
       "Finding best initial lr:   0%|          | 0/100 [00:00<?, ?it/s]"
      ]
     },
     "metadata": {},
     "output_type": "display_data"
    },
    {
     "data": {
      "text/html": [
       "<pre style=\"white-space:pre;overflow-x:auto;line-height:normal;font-family:Menlo,'DejaVu Sans Mono',consolas,'Courier New',monospace\"><span style=\"color: #008080; text-decoration-color: #008080; font-weight: bold\">2025</span>-<span style=\"color: #008080; text-decoration-color: #008080; font-weight: bold\">02</span>-<span style=\"color: #008080; text-decoration-color: #008080; font-weight: bold\">23</span> <span style=\"color: #00ff00; text-decoration-color: #00ff00; font-weight: bold\">09:02:45</span>,<span style=\"color: #008080; text-decoration-color: #008080; font-weight: bold\">887</span> - <span style=\"font-weight: bold\">{</span>pytorch_tabular.tabular_model_tuner:<span style=\"color: #008080; text-decoration-color: #008080; font-weight: bold\">412</span><span style=\"font-weight: bold\">}</span> - INFO - Trial <span style=\"color: #008080; text-decoration-color: #008080; font-weight: bold\">2</span>/<span style=\"color: #008080; text-decoration-color: #008080; font-weight: bold\">27</span>: <span style=\"font-weight: bold\">{</span><span style=\"color: #008000; text-decoration-color: #008000\">'model'</span>:                 \n",
       "<span style=\"color: #008000; text-decoration-color: #008000\">'1-FTTransformerConfig'</span>, <span style=\"color: #008000; text-decoration-color: #008000\">'model_config__input_embed_dim'</span>: <span style=\"color: #008080; text-decoration-color: #008080; font-weight: bold\">16</span>, <span style=\"color: #008000; text-decoration-color: #008000\">'model_config__num_heads'</span>: <span style=\"color: #008080; text-decoration-color: #008080; font-weight: bold\">4</span>,                        \n",
       "<span style=\"color: #008000; text-decoration-color: #008000\">'model_config__transformer_activation'</span>: <span style=\"color: #008000; text-decoration-color: #008000\">'ReLU'</span>, <span style=\"color: #008000; text-decoration-color: #008000\">'loss'</span>: <span style=\"color: #008080; text-decoration-color: #008080; font-weight: bold\">2.295161724090576</span>, <span style=\"color: #008000; text-decoration-color: #008000\">'mean_squared_error'</span>: <span style=\"color: #008080; text-decoration-color: #008080; font-weight: bold\">2.295161724090576</span>,\n",
       "<span style=\"color: #008000; text-decoration-color: #008000\">'trial_id'</span>: <span style=\"color: #008080; text-decoration-color: #008080; font-weight: bold\">1</span><span style=\"font-weight: bold\">}</span> | Score: <span style=\"color: #008080; text-decoration-color: #008080; font-weight: bold\">2.295161724090576</span>                                                                          \n",
       "</pre>\n"
      ],
      "text/plain": [
       "\u001b[1;36m2025\u001b[0m-\u001b[1;36m02\u001b[0m-\u001b[1;36m23\u001b[0m \u001b[1;92m09:02:45\u001b[0m,\u001b[1;36m887\u001b[0m - \u001b[1m{\u001b[0mpytorch_tabular.tabular_model_tuner:\u001b[1;36m412\u001b[0m\u001b[1m}\u001b[0m - INFO - Trial \u001b[1;36m2\u001b[0m/\u001b[1;36m27\u001b[0m: \u001b[1m{\u001b[0m\u001b[32m'model'\u001b[0m:                 \n",
       "\u001b[32m'1-FTTransformerConfig'\u001b[0m, \u001b[32m'model_config__input_embed_dim'\u001b[0m: \u001b[1;36m16\u001b[0m, \u001b[32m'model_config__num_heads'\u001b[0m: \u001b[1;36m4\u001b[0m,                        \n",
       "\u001b[32m'model_config__transformer_activation'\u001b[0m: \u001b[32m'ReLU'\u001b[0m, \u001b[32m'loss'\u001b[0m: \u001b[1;36m2.295161724090576\u001b[0m, \u001b[32m'mean_squared_error'\u001b[0m: \u001b[1;36m2.295161724090576\u001b[0m,\n",
       "\u001b[32m'trial_id'\u001b[0m: \u001b[1;36m1\u001b[0m\u001b[1m}\u001b[0m | Score: \u001b[1;36m2.295161724090576\u001b[0m                                                                          \n"
      ]
     },
     "metadata": {},
     "output_type": "display_data"
    },
    {
     "data": {
      "application/vnd.jupyter.widget-view+json": {
       "model_id": "829a805ea1664e8695b33c5e1405734d",
       "version_major": 2,
       "version_minor": 0
      },
      "text/plain": [
       "Finding best initial lr:   0%|          | 0/100 [00:00<?, ?it/s]"
      ]
     },
     "metadata": {},
     "output_type": "display_data"
    },
    {
     "data": {
      "text/html": [
       "<pre style=\"white-space:pre;overflow-x:auto;line-height:normal;font-family:Menlo,'DejaVu Sans Mono',consolas,'Courier New',monospace\"><span style=\"color: #008080; text-decoration-color: #008080; font-weight: bold\">2025</span>-<span style=\"color: #008080; text-decoration-color: #008080; font-weight: bold\">02</span>-<span style=\"color: #008080; text-decoration-color: #008080; font-weight: bold\">23</span> <span style=\"color: #00ff00; text-decoration-color: #00ff00; font-weight: bold\">09:04:10</span>,<span style=\"color: #008080; text-decoration-color: #008080; font-weight: bold\">834</span> - <span style=\"font-weight: bold\">{</span>pytorch_tabular.tabular_model_tuner:<span style=\"color: #008080; text-decoration-color: #008080; font-weight: bold\">412</span><span style=\"font-weight: bold\">}</span> - INFO - Trial <span style=\"color: #008080; text-decoration-color: #008080; font-weight: bold\">3</span>/<span style=\"color: #008080; text-decoration-color: #008080; font-weight: bold\">27</span>: <span style=\"font-weight: bold\">{</span><span style=\"color: #008000; text-decoration-color: #008000\">'model'</span>:                 \n",
       "<span style=\"color: #008000; text-decoration-color: #008000\">'1-FTTransformerConfig'</span>, <span style=\"color: #008000; text-decoration-color: #008000\">'model_config__input_embed_dim'</span>: <span style=\"color: #008080; text-decoration-color: #008080; font-weight: bold\">16</span>, <span style=\"color: #008000; text-decoration-color: #008000\">'model_config__num_heads'</span>: <span style=\"color: #008080; text-decoration-color: #008080; font-weight: bold\">4</span>,                        \n",
       "<span style=\"color: #008000; text-decoration-color: #008000\">'model_config__transformer_activation'</span>: <span style=\"color: #008000; text-decoration-color: #008000\">'LeakyReLU'</span>, <span style=\"color: #008000; text-decoration-color: #008000\">'loss'</span>: <span style=\"color: #008080; text-decoration-color: #008080; font-weight: bold\">21.948514938354492</span>, <span style=\"color: #008000; text-decoration-color: #008000\">'mean_squared_error'</span>:             \n",
       "<span style=\"color: #008080; text-decoration-color: #008080; font-weight: bold\">21.948514938354492</span>, <span style=\"color: #008000; text-decoration-color: #008000\">'trial_id'</span>: <span style=\"color: #008080; text-decoration-color: #008080; font-weight: bold\">2</span><span style=\"font-weight: bold\">}</span> | Score: <span style=\"color: #008080; text-decoration-color: #008080; font-weight: bold\">21.948514938354492</span>                                                     \n",
       "</pre>\n"
      ],
      "text/plain": [
       "\u001b[1;36m2025\u001b[0m-\u001b[1;36m02\u001b[0m-\u001b[1;36m23\u001b[0m \u001b[1;92m09:04:10\u001b[0m,\u001b[1;36m834\u001b[0m - \u001b[1m{\u001b[0mpytorch_tabular.tabular_model_tuner:\u001b[1;36m412\u001b[0m\u001b[1m}\u001b[0m - INFO - Trial \u001b[1;36m3\u001b[0m/\u001b[1;36m27\u001b[0m: \u001b[1m{\u001b[0m\u001b[32m'model'\u001b[0m:                 \n",
       "\u001b[32m'1-FTTransformerConfig'\u001b[0m, \u001b[32m'model_config__input_embed_dim'\u001b[0m: \u001b[1;36m16\u001b[0m, \u001b[32m'model_config__num_heads'\u001b[0m: \u001b[1;36m4\u001b[0m,                        \n",
       "\u001b[32m'model_config__transformer_activation'\u001b[0m: \u001b[32m'LeakyReLU'\u001b[0m, \u001b[32m'loss'\u001b[0m: \u001b[1;36m21.948514938354492\u001b[0m, \u001b[32m'mean_squared_error'\u001b[0m:             \n",
       "\u001b[1;36m21.948514938354492\u001b[0m, \u001b[32m'trial_id'\u001b[0m: \u001b[1;36m2\u001b[0m\u001b[1m}\u001b[0m | Score: \u001b[1;36m21.948514938354492\u001b[0m                                                     \n"
      ]
     },
     "metadata": {},
     "output_type": "display_data"
    },
    {
     "data": {
      "application/vnd.jupyter.widget-view+json": {
       "model_id": "3f4bb9bf35b244e58dc24cc4f46b4783",
       "version_major": 2,
       "version_minor": 0
      },
      "text/plain": [
       "Finding best initial lr:   0%|          | 0/100 [00:00<?, ?it/s]"
      ]
     },
     "metadata": {},
     "output_type": "display_data"
    },
    {
     "data": {
      "text/html": [
       "<pre style=\"white-space:pre;overflow-x:auto;line-height:normal;font-family:Menlo,'DejaVu Sans Mono',consolas,'Courier New',monospace\"><span style=\"color: #008080; text-decoration-color: #008080; font-weight: bold\">2025</span>-<span style=\"color: #008080; text-decoration-color: #008080; font-weight: bold\">02</span>-<span style=\"color: #008080; text-decoration-color: #008080; font-weight: bold\">23</span> <span style=\"color: #00ff00; text-decoration-color: #00ff00; font-weight: bold\">09:05:33</span>,<span style=\"color: #008080; text-decoration-color: #008080; font-weight: bold\">618</span> - <span style=\"font-weight: bold\">{</span>pytorch_tabular.tabular_model_tuner:<span style=\"color: #008080; text-decoration-color: #008080; font-weight: bold\">412</span><span style=\"font-weight: bold\">}</span> - INFO - Trial <span style=\"color: #008080; text-decoration-color: #008080; font-weight: bold\">4</span>/<span style=\"color: #008080; text-decoration-color: #008080; font-weight: bold\">27</span>: <span style=\"font-weight: bold\">{</span><span style=\"color: #008000; text-decoration-color: #008000\">'model'</span>:                 \n",
       "<span style=\"color: #008000; text-decoration-color: #008000\">'1-FTTransformerConfig'</span>, <span style=\"color: #008000; text-decoration-color: #008000\">'model_config__input_embed_dim'</span>: <span style=\"color: #008080; text-decoration-color: #008080; font-weight: bold\">16</span>, <span style=\"color: #008000; text-decoration-color: #008000\">'model_config__num_heads'</span>: <span style=\"color: #008080; text-decoration-color: #008080; font-weight: bold\">8</span>,                        \n",
       "<span style=\"color: #008000; text-decoration-color: #008000\">'model_config__transformer_activation'</span>: <span style=\"color: #008000; text-decoration-color: #008000\">'GEGLU'</span>, <span style=\"color: #008000; text-decoration-color: #008000\">'loss'</span>: <span style=\"color: #008080; text-decoration-color: #008080; font-weight: bold\">22.00809097290039</span>, <span style=\"color: #008000; text-decoration-color: #008000\">'mean_squared_error'</span>:                  \n",
       "<span style=\"color: #008080; text-decoration-color: #008080; font-weight: bold\">22.00809097290039</span>, <span style=\"color: #008000; text-decoration-color: #008000\">'trial_id'</span>: <span style=\"color: #008080; text-decoration-color: #008080; font-weight: bold\">3</span><span style=\"font-weight: bold\">}</span> | Score: <span style=\"color: #008080; text-decoration-color: #008080; font-weight: bold\">22.00809097290039</span>                                                       \n",
       "</pre>\n"
      ],
      "text/plain": [
       "\u001b[1;36m2025\u001b[0m-\u001b[1;36m02\u001b[0m-\u001b[1;36m23\u001b[0m \u001b[1;92m09:05:33\u001b[0m,\u001b[1;36m618\u001b[0m - \u001b[1m{\u001b[0mpytorch_tabular.tabular_model_tuner:\u001b[1;36m412\u001b[0m\u001b[1m}\u001b[0m - INFO - Trial \u001b[1;36m4\u001b[0m/\u001b[1;36m27\u001b[0m: \u001b[1m{\u001b[0m\u001b[32m'model'\u001b[0m:                 \n",
       "\u001b[32m'1-FTTransformerConfig'\u001b[0m, \u001b[32m'model_config__input_embed_dim'\u001b[0m: \u001b[1;36m16\u001b[0m, \u001b[32m'model_config__num_heads'\u001b[0m: \u001b[1;36m8\u001b[0m,                        \n",
       "\u001b[32m'model_config__transformer_activation'\u001b[0m: \u001b[32m'GEGLU'\u001b[0m, \u001b[32m'loss'\u001b[0m: \u001b[1;36m22.00809097290039\u001b[0m, \u001b[32m'mean_squared_error'\u001b[0m:                  \n",
       "\u001b[1;36m22.00809097290039\u001b[0m, \u001b[32m'trial_id'\u001b[0m: \u001b[1;36m3\u001b[0m\u001b[1m}\u001b[0m | Score: \u001b[1;36m22.00809097290039\u001b[0m                                                       \n"
      ]
     },
     "metadata": {},
     "output_type": "display_data"
    },
    {
     "data": {
      "application/vnd.jupyter.widget-view+json": {
       "model_id": "edc630f344d144b8af733301b4f118d0",
       "version_major": 2,
       "version_minor": 0
      },
      "text/plain": [
       "Finding best initial lr:   0%|          | 0/100 [00:00<?, ?it/s]"
      ]
     },
     "metadata": {},
     "output_type": "display_data"
    },
    {
     "data": {
      "text/html": [
       "<pre style=\"white-space:pre;overflow-x:auto;line-height:normal;font-family:Menlo,'DejaVu Sans Mono',consolas,'Courier New',monospace\"><span style=\"color: #008080; text-decoration-color: #008080; font-weight: bold\">2025</span>-<span style=\"color: #008080; text-decoration-color: #008080; font-weight: bold\">02</span>-<span style=\"color: #008080; text-decoration-color: #008080; font-weight: bold\">23</span> <span style=\"color: #00ff00; text-decoration-color: #00ff00; font-weight: bold\">09:06:24</span>,<span style=\"color: #008080; text-decoration-color: #008080; font-weight: bold\">973</span> - <span style=\"font-weight: bold\">{</span>pytorch_tabular.tabular_model_tuner:<span style=\"color: #008080; text-decoration-color: #008080; font-weight: bold\">412</span><span style=\"font-weight: bold\">}</span> - INFO - Trial <span style=\"color: #008080; text-decoration-color: #008080; font-weight: bold\">5</span>/<span style=\"color: #008080; text-decoration-color: #008080; font-weight: bold\">27</span>: <span style=\"font-weight: bold\">{</span><span style=\"color: #008000; text-decoration-color: #008000\">'model'</span>:                 \n",
       "<span style=\"color: #008000; text-decoration-color: #008000\">'1-FTTransformerConfig'</span>, <span style=\"color: #008000; text-decoration-color: #008000\">'model_config__input_embed_dim'</span>: <span style=\"color: #008080; text-decoration-color: #008080; font-weight: bold\">16</span>, <span style=\"color: #008000; text-decoration-color: #008000\">'model_config__num_heads'</span>: <span style=\"color: #008080; text-decoration-color: #008080; font-weight: bold\">8</span>,                        \n",
       "<span style=\"color: #008000; text-decoration-color: #008000\">'model_config__transformer_activation'</span>: <span style=\"color: #008000; text-decoration-color: #008000\">'ReLU'</span>, <span style=\"color: #008000; text-decoration-color: #008000\">'loss'</span>: <span style=\"color: #008080; text-decoration-color: #008080; font-weight: bold\">1.855196475982666</span>, <span style=\"color: #008000; text-decoration-color: #008000\">'mean_squared_error'</span>: <span style=\"color: #008080; text-decoration-color: #008080; font-weight: bold\">1.855196475982666</span>,\n",
       "<span style=\"color: #008000; text-decoration-color: #008000\">'trial_id'</span>: <span style=\"color: #008080; text-decoration-color: #008080; font-weight: bold\">4</span><span style=\"font-weight: bold\">}</span> | Score: <span style=\"color: #008080; text-decoration-color: #008080; font-weight: bold\">1.855196475982666</span>                                                                          \n",
       "</pre>\n"
      ],
      "text/plain": [
       "\u001b[1;36m2025\u001b[0m-\u001b[1;36m02\u001b[0m-\u001b[1;36m23\u001b[0m \u001b[1;92m09:06:24\u001b[0m,\u001b[1;36m973\u001b[0m - \u001b[1m{\u001b[0mpytorch_tabular.tabular_model_tuner:\u001b[1;36m412\u001b[0m\u001b[1m}\u001b[0m - INFO - Trial \u001b[1;36m5\u001b[0m/\u001b[1;36m27\u001b[0m: \u001b[1m{\u001b[0m\u001b[32m'model'\u001b[0m:                 \n",
       "\u001b[32m'1-FTTransformerConfig'\u001b[0m, \u001b[32m'model_config__input_embed_dim'\u001b[0m: \u001b[1;36m16\u001b[0m, \u001b[32m'model_config__num_heads'\u001b[0m: \u001b[1;36m8\u001b[0m,                        \n",
       "\u001b[32m'model_config__transformer_activation'\u001b[0m: \u001b[32m'ReLU'\u001b[0m, \u001b[32m'loss'\u001b[0m: \u001b[1;36m1.855196475982666\u001b[0m, \u001b[32m'mean_squared_error'\u001b[0m: \u001b[1;36m1.855196475982666\u001b[0m,\n",
       "\u001b[32m'trial_id'\u001b[0m: \u001b[1;36m4\u001b[0m\u001b[1m}\u001b[0m | Score: \u001b[1;36m1.855196475982666\u001b[0m                                                                          \n"
      ]
     },
     "metadata": {},
     "output_type": "display_data"
    },
    {
     "data": {
      "application/vnd.jupyter.widget-view+json": {
       "model_id": "50111cea488f43b98c5b4f43c6c26a25",
       "version_major": 2,
       "version_minor": 0
      },
      "text/plain": [
       "Finding best initial lr:   0%|          | 0/100 [00:00<?, ?it/s]"
      ]
     },
     "metadata": {},
     "output_type": "display_data"
    },
    {
     "data": {
      "text/html": [
       "<pre style=\"white-space:pre;overflow-x:auto;line-height:normal;font-family:Menlo,'DejaVu Sans Mono',consolas,'Courier New',monospace\"><span style=\"color: #008080; text-decoration-color: #008080; font-weight: bold\">2025</span>-<span style=\"color: #008080; text-decoration-color: #008080; font-weight: bold\">02</span>-<span style=\"color: #008080; text-decoration-color: #008080; font-weight: bold\">23</span> <span style=\"color: #00ff00; text-decoration-color: #00ff00; font-weight: bold\">09:06:42</span>,<span style=\"color: #008080; text-decoration-color: #008080; font-weight: bold\">409</span> - <span style=\"font-weight: bold\">{</span>pytorch_tabular.tabular_model_tuner:<span style=\"color: #008080; text-decoration-color: #008080; font-weight: bold\">412</span><span style=\"font-weight: bold\">}</span> - INFO - Trial <span style=\"color: #008080; text-decoration-color: #008080; font-weight: bold\">6</span>/<span style=\"color: #008080; text-decoration-color: #008080; font-weight: bold\">27</span>: <span style=\"font-weight: bold\">{</span><span style=\"color: #008000; text-decoration-color: #008000\">'model'</span>:                 \n",
       "<span style=\"color: #008000; text-decoration-color: #008000\">'1-FTTransformerConfig'</span>, <span style=\"color: #008000; text-decoration-color: #008000\">'model_config__input_embed_dim'</span>: <span style=\"color: #008080; text-decoration-color: #008080; font-weight: bold\">16</span>, <span style=\"color: #008000; text-decoration-color: #008000\">'model_config__num_heads'</span>: <span style=\"color: #008080; text-decoration-color: #008080; font-weight: bold\">8</span>,                        \n",
       "<span style=\"color: #008000; text-decoration-color: #008000\">'model_config__transformer_activation'</span>: <span style=\"color: #008000; text-decoration-color: #008000\">'LeakyReLU'</span>, <span style=\"color: #008000; text-decoration-color: #008000\">'loss'</span>: <span style=\"color: #008080; text-decoration-color: #008080; font-weight: bold\">2.5200507640838623</span>, <span style=\"color: #008000; text-decoration-color: #008000\">'mean_squared_error'</span>:             \n",
       "<span style=\"color: #008080; text-decoration-color: #008080; font-weight: bold\">2.5200507640838623</span>, <span style=\"color: #008000; text-decoration-color: #008000\">'trial_id'</span>: <span style=\"color: #008080; text-decoration-color: #008080; font-weight: bold\">5</span><span style=\"font-weight: bold\">}</span> | Score: <span style=\"color: #008080; text-decoration-color: #008080; font-weight: bold\">2.5200507640838623</span>                                                     \n",
       "</pre>\n"
      ],
      "text/plain": [
       "\u001b[1;36m2025\u001b[0m-\u001b[1;36m02\u001b[0m-\u001b[1;36m23\u001b[0m \u001b[1;92m09:06:42\u001b[0m,\u001b[1;36m409\u001b[0m - \u001b[1m{\u001b[0mpytorch_tabular.tabular_model_tuner:\u001b[1;36m412\u001b[0m\u001b[1m}\u001b[0m - INFO - Trial \u001b[1;36m6\u001b[0m/\u001b[1;36m27\u001b[0m: \u001b[1m{\u001b[0m\u001b[32m'model'\u001b[0m:                 \n",
       "\u001b[32m'1-FTTransformerConfig'\u001b[0m, \u001b[32m'model_config__input_embed_dim'\u001b[0m: \u001b[1;36m16\u001b[0m, \u001b[32m'model_config__num_heads'\u001b[0m: \u001b[1;36m8\u001b[0m,                        \n",
       "\u001b[32m'model_config__transformer_activation'\u001b[0m: \u001b[32m'LeakyReLU'\u001b[0m, \u001b[32m'loss'\u001b[0m: \u001b[1;36m2.5200507640838623\u001b[0m, \u001b[32m'mean_squared_error'\u001b[0m:             \n",
       "\u001b[1;36m2.5200507640838623\u001b[0m, \u001b[32m'trial_id'\u001b[0m: \u001b[1;36m5\u001b[0m\u001b[1m}\u001b[0m | Score: \u001b[1;36m2.5200507640838623\u001b[0m                                                     \n"
      ]
     },
     "metadata": {},
     "output_type": "display_data"
    },
    {
     "data": {
      "application/vnd.jupyter.widget-view+json": {
       "model_id": "20a28b96e47640a48602ab3d2e587a8d",
       "version_major": 2,
       "version_minor": 0
      },
      "text/plain": [
       "Finding best initial lr:   0%|          | 0/100 [00:00<?, ?it/s]"
      ]
     },
     "metadata": {},
     "output_type": "display_data"
    },
    {
     "data": {
      "text/html": [
       "<pre style=\"white-space:pre;overflow-x:auto;line-height:normal;font-family:Menlo,'DejaVu Sans Mono',consolas,'Courier New',monospace\"><span style=\"color: #008080; text-decoration-color: #008080; font-weight: bold\">2025</span>-<span style=\"color: #008080; text-decoration-color: #008080; font-weight: bold\">02</span>-<span style=\"color: #008080; text-decoration-color: #008080; font-weight: bold\">23</span> <span style=\"color: #00ff00; text-decoration-color: #00ff00; font-weight: bold\">09:07:07</span>,<span style=\"color: #008080; text-decoration-color: #008080; font-weight: bold\">331</span> - <span style=\"font-weight: bold\">{</span>pytorch_tabular.tabular_model_tuner:<span style=\"color: #008080; text-decoration-color: #008080; font-weight: bold\">412</span><span style=\"font-weight: bold\">}</span> - INFO - Trial <span style=\"color: #008080; text-decoration-color: #008080; font-weight: bold\">7</span>/<span style=\"color: #008080; text-decoration-color: #008080; font-weight: bold\">27</span>: <span style=\"font-weight: bold\">{</span><span style=\"color: #008000; text-decoration-color: #008000\">'model'</span>:                 \n",
       "<span style=\"color: #008000; text-decoration-color: #008000\">'1-FTTransformerConfig'</span>, <span style=\"color: #008000; text-decoration-color: #008000\">'model_config__input_embed_dim'</span>: <span style=\"color: #008080; text-decoration-color: #008080; font-weight: bold\">16</span>, <span style=\"color: #008000; text-decoration-color: #008000\">'model_config__num_heads'</span>: <span style=\"color: #008080; text-decoration-color: #008080; font-weight: bold\">16</span>,                       \n",
       "<span style=\"color: #008000; text-decoration-color: #008000\">'model_config__transformer_activation'</span>: <span style=\"color: #008000; text-decoration-color: #008000\">'GEGLU'</span>, <span style=\"color: #008000; text-decoration-color: #008000\">'loss'</span>: <span style=\"color: #008080; text-decoration-color: #008080; font-weight: bold\">1.986963152885437</span>, <span style=\"color: #008000; text-decoration-color: #008000\">'mean_squared_error'</span>:                  \n",
       "<span style=\"color: #008080; text-decoration-color: #008080; font-weight: bold\">1.986963152885437</span>, <span style=\"color: #008000; text-decoration-color: #008000\">'trial_id'</span>: <span style=\"color: #008080; text-decoration-color: #008080; font-weight: bold\">6</span><span style=\"font-weight: bold\">}</span> | Score: <span style=\"color: #008080; text-decoration-color: #008080; font-weight: bold\">1.986963152885437</span>                                                       \n",
       "</pre>\n"
      ],
      "text/plain": [
       "\u001b[1;36m2025\u001b[0m-\u001b[1;36m02\u001b[0m-\u001b[1;36m23\u001b[0m \u001b[1;92m09:07:07\u001b[0m,\u001b[1;36m331\u001b[0m - \u001b[1m{\u001b[0mpytorch_tabular.tabular_model_tuner:\u001b[1;36m412\u001b[0m\u001b[1m}\u001b[0m - INFO - Trial \u001b[1;36m7\u001b[0m/\u001b[1;36m27\u001b[0m: \u001b[1m{\u001b[0m\u001b[32m'model'\u001b[0m:                 \n",
       "\u001b[32m'1-FTTransformerConfig'\u001b[0m, \u001b[32m'model_config__input_embed_dim'\u001b[0m: \u001b[1;36m16\u001b[0m, \u001b[32m'model_config__num_heads'\u001b[0m: \u001b[1;36m16\u001b[0m,                       \n",
       "\u001b[32m'model_config__transformer_activation'\u001b[0m: \u001b[32m'GEGLU'\u001b[0m, \u001b[32m'loss'\u001b[0m: \u001b[1;36m1.986963152885437\u001b[0m, \u001b[32m'mean_squared_error'\u001b[0m:                  \n",
       "\u001b[1;36m1.986963152885437\u001b[0m, \u001b[32m'trial_id'\u001b[0m: \u001b[1;36m6\u001b[0m\u001b[1m}\u001b[0m | Score: \u001b[1;36m1.986963152885437\u001b[0m                                                       \n"
      ]
     },
     "metadata": {},
     "output_type": "display_data"
    },
    {
     "data": {
      "application/vnd.jupyter.widget-view+json": {
       "model_id": "6b13ccbc2c304a33b25aaa660571b19b",
       "version_major": 2,
       "version_minor": 0
      },
      "text/plain": [
       "Finding best initial lr:   0%|          | 0/100 [00:00<?, ?it/s]"
      ]
     },
     "metadata": {},
     "output_type": "display_data"
    },
    {
     "data": {
      "text/html": [
       "<pre style=\"white-space:pre;overflow-x:auto;line-height:normal;font-family:Menlo,'DejaVu Sans Mono',consolas,'Courier New',monospace\"><span style=\"color: #008080; text-decoration-color: #008080; font-weight: bold\">2025</span>-<span style=\"color: #008080; text-decoration-color: #008080; font-weight: bold\">02</span>-<span style=\"color: #008080; text-decoration-color: #008080; font-weight: bold\">23</span> <span style=\"color: #00ff00; text-decoration-color: #00ff00; font-weight: bold\">09:08:34</span>,<span style=\"color: #008080; text-decoration-color: #008080; font-weight: bold\">765</span> - <span style=\"font-weight: bold\">{</span>pytorch_tabular.tabular_model_tuner:<span style=\"color: #008080; text-decoration-color: #008080; font-weight: bold\">412</span><span style=\"font-weight: bold\">}</span> - INFO - Trial <span style=\"color: #008080; text-decoration-color: #008080; font-weight: bold\">8</span>/<span style=\"color: #008080; text-decoration-color: #008080; font-weight: bold\">27</span>: <span style=\"font-weight: bold\">{</span><span style=\"color: #008000; text-decoration-color: #008000\">'model'</span>:                 \n",
       "<span style=\"color: #008000; text-decoration-color: #008000\">'1-FTTransformerConfig'</span>, <span style=\"color: #008000; text-decoration-color: #008000\">'model_config__input_embed_dim'</span>: <span style=\"color: #008080; text-decoration-color: #008080; font-weight: bold\">16</span>, <span style=\"color: #008000; text-decoration-color: #008000\">'model_config__num_heads'</span>: <span style=\"color: #008080; text-decoration-color: #008080; font-weight: bold\">16</span>,                       \n",
       "<span style=\"color: #008000; text-decoration-color: #008000\">'model_config__transformer_activation'</span>: <span style=\"color: #008000; text-decoration-color: #008000\">'ReLU'</span>, <span style=\"color: #008000; text-decoration-color: #008000\">'loss'</span>: <span style=\"color: #008080; text-decoration-color: #008080; font-weight: bold\">20.853200912475586</span>, <span style=\"color: #008000; text-decoration-color: #008000\">'mean_squared_error'</span>:                  \n",
       "<span style=\"color: #008080; text-decoration-color: #008080; font-weight: bold\">20.853200912475586</span>, <span style=\"color: #008000; text-decoration-color: #008000\">'trial_id'</span>: <span style=\"color: #008080; text-decoration-color: #008080; font-weight: bold\">7</span><span style=\"font-weight: bold\">}</span> | Score: <span style=\"color: #008080; text-decoration-color: #008080; font-weight: bold\">20.853200912475586</span>                                                     \n",
       "</pre>\n"
      ],
      "text/plain": [
       "\u001b[1;36m2025\u001b[0m-\u001b[1;36m02\u001b[0m-\u001b[1;36m23\u001b[0m \u001b[1;92m09:08:34\u001b[0m,\u001b[1;36m765\u001b[0m - \u001b[1m{\u001b[0mpytorch_tabular.tabular_model_tuner:\u001b[1;36m412\u001b[0m\u001b[1m}\u001b[0m - INFO - Trial \u001b[1;36m8\u001b[0m/\u001b[1;36m27\u001b[0m: \u001b[1m{\u001b[0m\u001b[32m'model'\u001b[0m:                 \n",
       "\u001b[32m'1-FTTransformerConfig'\u001b[0m, \u001b[32m'model_config__input_embed_dim'\u001b[0m: \u001b[1;36m16\u001b[0m, \u001b[32m'model_config__num_heads'\u001b[0m: \u001b[1;36m16\u001b[0m,                       \n",
       "\u001b[32m'model_config__transformer_activation'\u001b[0m: \u001b[32m'ReLU'\u001b[0m, \u001b[32m'loss'\u001b[0m: \u001b[1;36m20.853200912475586\u001b[0m, \u001b[32m'mean_squared_error'\u001b[0m:                  \n",
       "\u001b[1;36m20.853200912475586\u001b[0m, \u001b[32m'trial_id'\u001b[0m: \u001b[1;36m7\u001b[0m\u001b[1m}\u001b[0m | Score: \u001b[1;36m20.853200912475586\u001b[0m                                                     \n"
      ]
     },
     "metadata": {},
     "output_type": "display_data"
    },
    {
     "data": {
      "application/vnd.jupyter.widget-view+json": {
       "model_id": "499d8e7994034c04be3412b69e4829fd",
       "version_major": 2,
       "version_minor": 0
      },
      "text/plain": [
       "Finding best initial lr:   0%|          | 0/100 [00:00<?, ?it/s]"
      ]
     },
     "metadata": {},
     "output_type": "display_data"
    },
    {
     "data": {
      "text/html": [
       "<pre style=\"white-space:pre;overflow-x:auto;line-height:normal;font-family:Menlo,'DejaVu Sans Mono',consolas,'Courier New',monospace\"><span style=\"color: #008080; text-decoration-color: #008080; font-weight: bold\">2025</span>-<span style=\"color: #008080; text-decoration-color: #008080; font-weight: bold\">02</span>-<span style=\"color: #008080; text-decoration-color: #008080; font-weight: bold\">23</span> <span style=\"color: #00ff00; text-decoration-color: #00ff00; font-weight: bold\">09:09:13</span>,<span style=\"color: #008080; text-decoration-color: #008080; font-weight: bold\">102</span> - <span style=\"font-weight: bold\">{</span>pytorch_tabular.tabular_model_tuner:<span style=\"color: #008080; text-decoration-color: #008080; font-weight: bold\">412</span><span style=\"font-weight: bold\">}</span> - INFO - Trial <span style=\"color: #008080; text-decoration-color: #008080; font-weight: bold\">9</span>/<span style=\"color: #008080; text-decoration-color: #008080; font-weight: bold\">27</span>: <span style=\"font-weight: bold\">{</span><span style=\"color: #008000; text-decoration-color: #008000\">'model'</span>:                 \n",
       "<span style=\"color: #008000; text-decoration-color: #008000\">'1-FTTransformerConfig'</span>, <span style=\"color: #008000; text-decoration-color: #008000\">'model_config__input_embed_dim'</span>: <span style=\"color: #008080; text-decoration-color: #008080; font-weight: bold\">16</span>, <span style=\"color: #008000; text-decoration-color: #008000\">'model_config__num_heads'</span>: <span style=\"color: #008080; text-decoration-color: #008080; font-weight: bold\">16</span>,                       \n",
       "<span style=\"color: #008000; text-decoration-color: #008000\">'model_config__transformer_activation'</span>: <span style=\"color: #008000; text-decoration-color: #008000\">'LeakyReLU'</span>, <span style=\"color: #008000; text-decoration-color: #008000\">'loss'</span>: <span style=\"color: #008080; text-decoration-color: #008080; font-weight: bold\">2.138178825378418</span>, <span style=\"color: #008000; text-decoration-color: #008000\">'mean_squared_error'</span>:              \n",
       "<span style=\"color: #008080; text-decoration-color: #008080; font-weight: bold\">2.138178825378418</span>, <span style=\"color: #008000; text-decoration-color: #008000\">'trial_id'</span>: <span style=\"color: #008080; text-decoration-color: #008080; font-weight: bold\">8</span><span style=\"font-weight: bold\">}</span> | Score: <span style=\"color: #008080; text-decoration-color: #008080; font-weight: bold\">2.138178825378418</span>                                                       \n",
       "</pre>\n"
      ],
      "text/plain": [
       "\u001b[1;36m2025\u001b[0m-\u001b[1;36m02\u001b[0m-\u001b[1;36m23\u001b[0m \u001b[1;92m09:09:13\u001b[0m,\u001b[1;36m102\u001b[0m - \u001b[1m{\u001b[0mpytorch_tabular.tabular_model_tuner:\u001b[1;36m412\u001b[0m\u001b[1m}\u001b[0m - INFO - Trial \u001b[1;36m9\u001b[0m/\u001b[1;36m27\u001b[0m: \u001b[1m{\u001b[0m\u001b[32m'model'\u001b[0m:                 \n",
       "\u001b[32m'1-FTTransformerConfig'\u001b[0m, \u001b[32m'model_config__input_embed_dim'\u001b[0m: \u001b[1;36m16\u001b[0m, \u001b[32m'model_config__num_heads'\u001b[0m: \u001b[1;36m16\u001b[0m,                       \n",
       "\u001b[32m'model_config__transformer_activation'\u001b[0m: \u001b[32m'LeakyReLU'\u001b[0m, \u001b[32m'loss'\u001b[0m: \u001b[1;36m2.138178825378418\u001b[0m, \u001b[32m'mean_squared_error'\u001b[0m:              \n",
       "\u001b[1;36m2.138178825378418\u001b[0m, \u001b[32m'trial_id'\u001b[0m: \u001b[1;36m8\u001b[0m\u001b[1m}\u001b[0m | Score: \u001b[1;36m2.138178825378418\u001b[0m                                                       \n"
      ]
     },
     "metadata": {},
     "output_type": "display_data"
    },
    {
     "data": {
      "text/html": [
       "<pre style=\"white-space:pre;overflow-x:auto;line-height:normal;font-family:Menlo,'DejaVu Sans Mono',consolas,'Courier New',monospace\"><span style=\"color: #008080; text-decoration-color: #008080; font-weight: bold\">2025</span>-<span style=\"color: #008080; text-decoration-color: #008080; font-weight: bold\">02</span>-<span style=\"color: #008080; text-decoration-color: #008080; font-weight: bold\">23</span> <span style=\"color: #00ff00; text-decoration-color: #00ff00; font-weight: bold\">09:09:39</span>,<span style=\"color: #008080; text-decoration-color: #008080; font-weight: bold\">360</span> - <span style=\"font-weight: bold\">{</span>pytorch_tabular.tabular_model_tuner:<span style=\"color: #008080; text-decoration-color: #008080; font-weight: bold\">412</span><span style=\"font-weight: bold\">}</span> - INFO - Trial <span style=\"color: #008080; text-decoration-color: #008080; font-weight: bold\">10</span>/<span style=\"color: #008080; text-decoration-color: #008080; font-weight: bold\">27</span>: <span style=\"font-weight: bold\">{</span><span style=\"color: #008000; text-decoration-color: #008000\">'model'</span>:                \n",
       "<span style=\"color: #008000; text-decoration-color: #008000\">'1-FTTransformerConfig'</span>, <span style=\"color: #008000; text-decoration-color: #008000\">'model_config__input_embed_dim'</span>: <span style=\"color: #008080; text-decoration-color: #008080; font-weight: bold\">32</span>, <span style=\"color: #008000; text-decoration-color: #008000\">'model_config__num_heads'</span>: <span style=\"color: #008080; text-decoration-color: #008080; font-weight: bold\">4</span>,                        \n",
       "<span style=\"color: #008000; text-decoration-color: #008000\">'model_config__transformer_activation'</span>: <span style=\"color: #008000; text-decoration-color: #008000\">'GEGLU'</span>, <span style=\"color: #008000; text-decoration-color: #008000\">'loss'</span>: <span style=\"color: #008080; text-decoration-color: #008080; font-weight: bold\">2.2544422149658203</span>, <span style=\"color: #008000; text-decoration-color: #008000\">'mean_squared_error'</span>:                 \n",
       "<span style=\"color: #008080; text-decoration-color: #008080; font-weight: bold\">2.2544422149658203</span>, <span style=\"color: #008000; text-decoration-color: #008000\">'trial_id'</span>: <span style=\"color: #008080; text-decoration-color: #008080; font-weight: bold\">9</span><span style=\"font-weight: bold\">}</span> | Score: <span style=\"color: #008080; text-decoration-color: #008080; font-weight: bold\">2.2544422149658203</span>                                                     \n",
       "</pre>\n"
      ],
      "text/plain": [
       "\u001b[1;36m2025\u001b[0m-\u001b[1;36m02\u001b[0m-\u001b[1;36m23\u001b[0m \u001b[1;92m09:09:39\u001b[0m,\u001b[1;36m360\u001b[0m - \u001b[1m{\u001b[0mpytorch_tabular.tabular_model_tuner:\u001b[1;36m412\u001b[0m\u001b[1m}\u001b[0m - INFO - Trial \u001b[1;36m10\u001b[0m/\u001b[1;36m27\u001b[0m: \u001b[1m{\u001b[0m\u001b[32m'model'\u001b[0m:                \n",
       "\u001b[32m'1-FTTransformerConfig'\u001b[0m, \u001b[32m'model_config__input_embed_dim'\u001b[0m: \u001b[1;36m32\u001b[0m, \u001b[32m'model_config__num_heads'\u001b[0m: \u001b[1;36m4\u001b[0m,                        \n",
       "\u001b[32m'model_config__transformer_activation'\u001b[0m: \u001b[32m'GEGLU'\u001b[0m, \u001b[32m'loss'\u001b[0m: \u001b[1;36m2.2544422149658203\u001b[0m, \u001b[32m'mean_squared_error'\u001b[0m:                 \n",
       "\u001b[1;36m2.2544422149658203\u001b[0m, \u001b[32m'trial_id'\u001b[0m: \u001b[1;36m9\u001b[0m\u001b[1m}\u001b[0m | Score: \u001b[1;36m2.2544422149658203\u001b[0m                                                     \n"
      ]
     },
     "metadata": {},
     "output_type": "display_data"
    },
    {
     "data": {
      "application/vnd.jupyter.widget-view+json": {
       "model_id": "e4a93e1518dc4749823281e1d518f42f",
       "version_major": 2,
       "version_minor": 0
      },
      "text/plain": [
       "Finding best initial lr:   0%|          | 0/100 [00:00<?, ?it/s]"
      ]
     },
     "metadata": {},
     "output_type": "display_data"
    },
    {
     "data": {
      "text/html": [
       "<pre style=\"white-space:pre;overflow-x:auto;line-height:normal;font-family:Menlo,'DejaVu Sans Mono',consolas,'Courier New',monospace\"><span style=\"color: #008080; text-decoration-color: #008080; font-weight: bold\">2025</span>-<span style=\"color: #008080; text-decoration-color: #008080; font-weight: bold\">02</span>-<span style=\"color: #008080; text-decoration-color: #008080; font-weight: bold\">23</span> <span style=\"color: #00ff00; text-decoration-color: #00ff00; font-weight: bold\">09:11:03</span>,<span style=\"color: #008080; text-decoration-color: #008080; font-weight: bold\">775</span> - <span style=\"font-weight: bold\">{</span>pytorch_tabular.tabular_model_tuner:<span style=\"color: #008080; text-decoration-color: #008080; font-weight: bold\">412</span><span style=\"font-weight: bold\">}</span> - INFO - Trial <span style=\"color: #008080; text-decoration-color: #008080; font-weight: bold\">11</span>/<span style=\"color: #008080; text-decoration-color: #008080; font-weight: bold\">27</span>: <span style=\"font-weight: bold\">{</span><span style=\"color: #008000; text-decoration-color: #008000\">'model'</span>:                \n",
       "<span style=\"color: #008000; text-decoration-color: #008000\">'1-FTTransformerConfig'</span>, <span style=\"color: #008000; text-decoration-color: #008000\">'model_config__input_embed_dim'</span>: <span style=\"color: #008080; text-decoration-color: #008080; font-weight: bold\">32</span>, <span style=\"color: #008000; text-decoration-color: #008000\">'model_config__num_heads'</span>: <span style=\"color: #008080; text-decoration-color: #008080; font-weight: bold\">4</span>,                        \n",
       "<span style=\"color: #008000; text-decoration-color: #008000\">'model_config__transformer_activation'</span>: <span style=\"color: #008000; text-decoration-color: #008000\">'ReLU'</span>, <span style=\"color: #008000; text-decoration-color: #008000\">'loss'</span>: <span style=\"color: #008080; text-decoration-color: #008080; font-weight: bold\">21.897380828857422</span>, <span style=\"color: #008000; text-decoration-color: #008000\">'mean_squared_error'</span>:                  \n",
       "<span style=\"color: #008080; text-decoration-color: #008080; font-weight: bold\">21.897380828857422</span>, <span style=\"color: #008000; text-decoration-color: #008000\">'trial_id'</span>: <span style=\"color: #008080; text-decoration-color: #008080; font-weight: bold\">10</span><span style=\"font-weight: bold\">}</span> | Score: <span style=\"color: #008080; text-decoration-color: #008080; font-weight: bold\">21.897380828857422</span>                                                    \n",
       "</pre>\n"
      ],
      "text/plain": [
       "\u001b[1;36m2025\u001b[0m-\u001b[1;36m02\u001b[0m-\u001b[1;36m23\u001b[0m \u001b[1;92m09:11:03\u001b[0m,\u001b[1;36m775\u001b[0m - \u001b[1m{\u001b[0mpytorch_tabular.tabular_model_tuner:\u001b[1;36m412\u001b[0m\u001b[1m}\u001b[0m - INFO - Trial \u001b[1;36m11\u001b[0m/\u001b[1;36m27\u001b[0m: \u001b[1m{\u001b[0m\u001b[32m'model'\u001b[0m:                \n",
       "\u001b[32m'1-FTTransformerConfig'\u001b[0m, \u001b[32m'model_config__input_embed_dim'\u001b[0m: \u001b[1;36m32\u001b[0m, \u001b[32m'model_config__num_heads'\u001b[0m: \u001b[1;36m4\u001b[0m,                        \n",
       "\u001b[32m'model_config__transformer_activation'\u001b[0m: \u001b[32m'ReLU'\u001b[0m, \u001b[32m'loss'\u001b[0m: \u001b[1;36m21.897380828857422\u001b[0m, \u001b[32m'mean_squared_error'\u001b[0m:                  \n",
       "\u001b[1;36m21.897380828857422\u001b[0m, \u001b[32m'trial_id'\u001b[0m: \u001b[1;36m10\u001b[0m\u001b[1m}\u001b[0m | Score: \u001b[1;36m21.897380828857422\u001b[0m                                                    \n"
      ]
     },
     "metadata": {},
     "output_type": "display_data"
    },
    {
     "data": {
      "application/vnd.jupyter.widget-view+json": {
       "model_id": "3718b8d897bd4e0d83167f6a38ee7037",
       "version_major": 2,
       "version_minor": 0
      },
      "text/plain": [
       "Finding best initial lr:   0%|          | 0/100 [00:00<?, ?it/s]"
      ]
     },
     "metadata": {},
     "output_type": "display_data"
    },
    {
     "data": {
      "text/html": [
       "<pre style=\"white-space:pre;overflow-x:auto;line-height:normal;font-family:Menlo,'DejaVu Sans Mono',consolas,'Courier New',monospace\"><span style=\"color: #008080; text-decoration-color: #008080; font-weight: bold\">2025</span>-<span style=\"color: #008080; text-decoration-color: #008080; font-weight: bold\">02</span>-<span style=\"color: #008080; text-decoration-color: #008080; font-weight: bold\">23</span> <span style=\"color: #00ff00; text-decoration-color: #00ff00; font-weight: bold\">09:11:23</span>,<span style=\"color: #008080; text-decoration-color: #008080; font-weight: bold\">802</span> - <span style=\"font-weight: bold\">{</span>pytorch_tabular.tabular_model_tuner:<span style=\"color: #008080; text-decoration-color: #008080; font-weight: bold\">412</span><span style=\"font-weight: bold\">}</span> - INFO - Trial <span style=\"color: #008080; text-decoration-color: #008080; font-weight: bold\">12</span>/<span style=\"color: #008080; text-decoration-color: #008080; font-weight: bold\">27</span>: <span style=\"font-weight: bold\">{</span><span style=\"color: #008000; text-decoration-color: #008000\">'model'</span>:                \n",
       "<span style=\"color: #008000; text-decoration-color: #008000\">'1-FTTransformerConfig'</span>, <span style=\"color: #008000; text-decoration-color: #008000\">'model_config__input_embed_dim'</span>: <span style=\"color: #008080; text-decoration-color: #008080; font-weight: bold\">32</span>, <span style=\"color: #008000; text-decoration-color: #008000\">'model_config__num_heads'</span>: <span style=\"color: #008080; text-decoration-color: #008080; font-weight: bold\">4</span>,                        \n",
       "<span style=\"color: #008000; text-decoration-color: #008000\">'model_config__transformer_activation'</span>: <span style=\"color: #008000; text-decoration-color: #008000\">'LeakyReLU'</span>, <span style=\"color: #008000; text-decoration-color: #008000\">'loss'</span>: <span style=\"color: #008080; text-decoration-color: #008080; font-weight: bold\">2.272346258163452</span>, <span style=\"color: #008000; text-decoration-color: #008000\">'mean_squared_error'</span>:              \n",
       "<span style=\"color: #008080; text-decoration-color: #008080; font-weight: bold\">2.272346258163452</span>, <span style=\"color: #008000; text-decoration-color: #008000\">'trial_id'</span>: <span style=\"color: #008080; text-decoration-color: #008080; font-weight: bold\">11</span><span style=\"font-weight: bold\">}</span> | Score: <span style=\"color: #008080; text-decoration-color: #008080; font-weight: bold\">2.272346258163452</span>                                                      \n",
       "</pre>\n"
      ],
      "text/plain": [
       "\u001b[1;36m2025\u001b[0m-\u001b[1;36m02\u001b[0m-\u001b[1;36m23\u001b[0m \u001b[1;92m09:11:23\u001b[0m,\u001b[1;36m802\u001b[0m - \u001b[1m{\u001b[0mpytorch_tabular.tabular_model_tuner:\u001b[1;36m412\u001b[0m\u001b[1m}\u001b[0m - INFO - Trial \u001b[1;36m12\u001b[0m/\u001b[1;36m27\u001b[0m: \u001b[1m{\u001b[0m\u001b[32m'model'\u001b[0m:                \n",
       "\u001b[32m'1-FTTransformerConfig'\u001b[0m, \u001b[32m'model_config__input_embed_dim'\u001b[0m: \u001b[1;36m32\u001b[0m, \u001b[32m'model_config__num_heads'\u001b[0m: \u001b[1;36m4\u001b[0m,                        \n",
       "\u001b[32m'model_config__transformer_activation'\u001b[0m: \u001b[32m'LeakyReLU'\u001b[0m, \u001b[32m'loss'\u001b[0m: \u001b[1;36m2.272346258163452\u001b[0m, \u001b[32m'mean_squared_error'\u001b[0m:              \n",
       "\u001b[1;36m2.272346258163452\u001b[0m, \u001b[32m'trial_id'\u001b[0m: \u001b[1;36m11\u001b[0m\u001b[1m}\u001b[0m | Score: \u001b[1;36m2.272346258163452\u001b[0m                                                      \n"
      ]
     },
     "metadata": {},
     "output_type": "display_data"
    },
    {
     "data": {
      "application/vnd.jupyter.widget-view+json": {
       "model_id": "13e73dfeb32c418bb15de68bb510dc0b",
       "version_major": 2,
       "version_minor": 0
      },
      "text/plain": [
       "Finding best initial lr:   0%|          | 0/100 [00:00<?, ?it/s]"
      ]
     },
     "metadata": {},
     "output_type": "display_data"
    },
    {
     "data": {
      "text/html": [
       "<pre style=\"white-space:pre;overflow-x:auto;line-height:normal;font-family:Menlo,'DejaVu Sans Mono',consolas,'Courier New',monospace\"><span style=\"color: #008080; text-decoration-color: #008080; font-weight: bold\">2025</span>-<span style=\"color: #008080; text-decoration-color: #008080; font-weight: bold\">02</span>-<span style=\"color: #008080; text-decoration-color: #008080; font-weight: bold\">23</span> <span style=\"color: #00ff00; text-decoration-color: #00ff00; font-weight: bold\">09:11:44</span>,<span style=\"color: #008080; text-decoration-color: #008080; font-weight: bold\">027</span> - <span style=\"font-weight: bold\">{</span>pytorch_tabular.tabular_model_tuner:<span style=\"color: #008080; text-decoration-color: #008080; font-weight: bold\">412</span><span style=\"font-weight: bold\">}</span> - INFO - Trial <span style=\"color: #008080; text-decoration-color: #008080; font-weight: bold\">13</span>/<span style=\"color: #008080; text-decoration-color: #008080; font-weight: bold\">27</span>: <span style=\"font-weight: bold\">{</span><span style=\"color: #008000; text-decoration-color: #008000\">'model'</span>:                \n",
       "<span style=\"color: #008000; text-decoration-color: #008000\">'1-FTTransformerConfig'</span>, <span style=\"color: #008000; text-decoration-color: #008000\">'model_config__input_embed_dim'</span>: <span style=\"color: #008080; text-decoration-color: #008080; font-weight: bold\">32</span>, <span style=\"color: #008000; text-decoration-color: #008000\">'model_config__num_heads'</span>: <span style=\"color: #008080; text-decoration-color: #008080; font-weight: bold\">8</span>,                        \n",
       "<span style=\"color: #008000; text-decoration-color: #008000\">'model_config__transformer_activation'</span>: <span style=\"color: #008000; text-decoration-color: #008000\">'GEGLU'</span>, <span style=\"color: #008000; text-decoration-color: #008000\">'loss'</span>: <span style=\"color: #008080; text-decoration-color: #008080; font-weight: bold\">2.1780319213867188</span>, <span style=\"color: #008000; text-decoration-color: #008000\">'mean_squared_error'</span>:                 \n",
       "<span style=\"color: #008080; text-decoration-color: #008080; font-weight: bold\">2.1780319213867188</span>, <span style=\"color: #008000; text-decoration-color: #008000\">'trial_id'</span>: <span style=\"color: #008080; text-decoration-color: #008080; font-weight: bold\">12</span><span style=\"font-weight: bold\">}</span> | Score: <span style=\"color: #008080; text-decoration-color: #008080; font-weight: bold\">2.1780319213867188</span>                                                    \n",
       "</pre>\n"
      ],
      "text/plain": [
       "\u001b[1;36m2025\u001b[0m-\u001b[1;36m02\u001b[0m-\u001b[1;36m23\u001b[0m \u001b[1;92m09:11:44\u001b[0m,\u001b[1;36m027\u001b[0m - \u001b[1m{\u001b[0mpytorch_tabular.tabular_model_tuner:\u001b[1;36m412\u001b[0m\u001b[1m}\u001b[0m - INFO - Trial \u001b[1;36m13\u001b[0m/\u001b[1;36m27\u001b[0m: \u001b[1m{\u001b[0m\u001b[32m'model'\u001b[0m:                \n",
       "\u001b[32m'1-FTTransformerConfig'\u001b[0m, \u001b[32m'model_config__input_embed_dim'\u001b[0m: \u001b[1;36m32\u001b[0m, \u001b[32m'model_config__num_heads'\u001b[0m: \u001b[1;36m8\u001b[0m,                        \n",
       "\u001b[32m'model_config__transformer_activation'\u001b[0m: \u001b[32m'GEGLU'\u001b[0m, \u001b[32m'loss'\u001b[0m: \u001b[1;36m2.1780319213867188\u001b[0m, \u001b[32m'mean_squared_error'\u001b[0m:                 \n",
       "\u001b[1;36m2.1780319213867188\u001b[0m, \u001b[32m'trial_id'\u001b[0m: \u001b[1;36m12\u001b[0m\u001b[1m}\u001b[0m | Score: \u001b[1;36m2.1780319213867188\u001b[0m                                                    \n"
      ]
     },
     "metadata": {},
     "output_type": "display_data"
    },
    {
     "data": {
      "application/vnd.jupyter.widget-view+json": {
       "model_id": "552a9ada8e0e494581119a453ad5baf9",
       "version_major": 2,
       "version_minor": 0
      },
      "text/plain": [
       "Finding best initial lr:   0%|          | 0/100 [00:00<?, ?it/s]"
      ]
     },
     "metadata": {},
     "output_type": "display_data"
    },
    {
     "data": {
      "text/html": [
       "<pre style=\"white-space:pre;overflow-x:auto;line-height:normal;font-family:Menlo,'DejaVu Sans Mono',consolas,'Courier New',monospace\"><span style=\"color: #008080; text-decoration-color: #008080; font-weight: bold\">2025</span>-<span style=\"color: #008080; text-decoration-color: #008080; font-weight: bold\">02</span>-<span style=\"color: #008080; text-decoration-color: #008080; font-weight: bold\">23</span> <span style=\"color: #00ff00; text-decoration-color: #00ff00; font-weight: bold\">09:12:10</span>,<span style=\"color: #008080; text-decoration-color: #008080; font-weight: bold\">933</span> - <span style=\"font-weight: bold\">{</span>pytorch_tabular.tabular_model_tuner:<span style=\"color: #008080; text-decoration-color: #008080; font-weight: bold\">412</span><span style=\"font-weight: bold\">}</span> - INFO - Trial <span style=\"color: #008080; text-decoration-color: #008080; font-weight: bold\">14</span>/<span style=\"color: #008080; text-decoration-color: #008080; font-weight: bold\">27</span>: <span style=\"font-weight: bold\">{</span><span style=\"color: #008000; text-decoration-color: #008000\">'model'</span>:                \n",
       "<span style=\"color: #008000; text-decoration-color: #008000\">'1-FTTransformerConfig'</span>, <span style=\"color: #008000; text-decoration-color: #008000\">'model_config__input_embed_dim'</span>: <span style=\"color: #008080; text-decoration-color: #008080; font-weight: bold\">32</span>, <span style=\"color: #008000; text-decoration-color: #008000\">'model_config__num_heads'</span>: <span style=\"color: #008080; text-decoration-color: #008080; font-weight: bold\">8</span>,                        \n",
       "<span style=\"color: #008000; text-decoration-color: #008000\">'model_config__transformer_activation'</span>: <span style=\"color: #008000; text-decoration-color: #008000\">'ReLU'</span>, <span style=\"color: #008000; text-decoration-color: #008000\">'loss'</span>: <span style=\"color: #008080; text-decoration-color: #008080; font-weight: bold\">1.971181869506836</span>, <span style=\"color: #008000; text-decoration-color: #008000\">'mean_squared_error'</span>: <span style=\"color: #008080; text-decoration-color: #008080; font-weight: bold\">1.971181869506836</span>,\n",
       "<span style=\"color: #008000; text-decoration-color: #008000\">'trial_id'</span>: <span style=\"color: #008080; text-decoration-color: #008080; font-weight: bold\">13</span><span style=\"font-weight: bold\">}</span> | Score: <span style=\"color: #008080; text-decoration-color: #008080; font-weight: bold\">1.971181869506836</span>                                                                         \n",
       "</pre>\n"
      ],
      "text/plain": [
       "\u001b[1;36m2025\u001b[0m-\u001b[1;36m02\u001b[0m-\u001b[1;36m23\u001b[0m \u001b[1;92m09:12:10\u001b[0m,\u001b[1;36m933\u001b[0m - \u001b[1m{\u001b[0mpytorch_tabular.tabular_model_tuner:\u001b[1;36m412\u001b[0m\u001b[1m}\u001b[0m - INFO - Trial \u001b[1;36m14\u001b[0m/\u001b[1;36m27\u001b[0m: \u001b[1m{\u001b[0m\u001b[32m'model'\u001b[0m:                \n",
       "\u001b[32m'1-FTTransformerConfig'\u001b[0m, \u001b[32m'model_config__input_embed_dim'\u001b[0m: \u001b[1;36m32\u001b[0m, \u001b[32m'model_config__num_heads'\u001b[0m: \u001b[1;36m8\u001b[0m,                        \n",
       "\u001b[32m'model_config__transformer_activation'\u001b[0m: \u001b[32m'ReLU'\u001b[0m, \u001b[32m'loss'\u001b[0m: \u001b[1;36m1.971181869506836\u001b[0m, \u001b[32m'mean_squared_error'\u001b[0m: \u001b[1;36m1.971181869506836\u001b[0m,\n",
       "\u001b[32m'trial_id'\u001b[0m: \u001b[1;36m13\u001b[0m\u001b[1m}\u001b[0m | Score: \u001b[1;36m1.971181869506836\u001b[0m                                                                         \n"
      ]
     },
     "metadata": {},
     "output_type": "display_data"
    },
    {
     "data": {
      "application/vnd.jupyter.widget-view+json": {
       "model_id": "d56f98e303114b7da2078c8f0e08c29c",
       "version_major": 2,
       "version_minor": 0
      },
      "text/plain": [
       "Finding best initial lr:   0%|          | 0/100 [00:00<?, ?it/s]"
      ]
     },
     "metadata": {},
     "output_type": "display_data"
    },
    {
     "data": {
      "text/html": [
       "<pre style=\"white-space:pre;overflow-x:auto;line-height:normal;font-family:Menlo,'DejaVu Sans Mono',consolas,'Courier New',monospace\"><span style=\"color: #008080; text-decoration-color: #008080; font-weight: bold\">2025</span>-<span style=\"color: #008080; text-decoration-color: #008080; font-weight: bold\">02</span>-<span style=\"color: #008080; text-decoration-color: #008080; font-weight: bold\">23</span> <span style=\"color: #00ff00; text-decoration-color: #00ff00; font-weight: bold\">09:12:38</span>,<span style=\"color: #008080; text-decoration-color: #008080; font-weight: bold\">861</span> - <span style=\"font-weight: bold\">{</span>pytorch_tabular.tabular_model_tuner:<span style=\"color: #008080; text-decoration-color: #008080; font-weight: bold\">412</span><span style=\"font-weight: bold\">}</span> - INFO - Trial <span style=\"color: #008080; text-decoration-color: #008080; font-weight: bold\">15</span>/<span style=\"color: #008080; text-decoration-color: #008080; font-weight: bold\">27</span>: <span style=\"font-weight: bold\">{</span><span style=\"color: #008000; text-decoration-color: #008000\">'model'</span>:                \n",
       "<span style=\"color: #008000; text-decoration-color: #008000\">'1-FTTransformerConfig'</span>, <span style=\"color: #008000; text-decoration-color: #008000\">'model_config__input_embed_dim'</span>: <span style=\"color: #008080; text-decoration-color: #008080; font-weight: bold\">32</span>, <span style=\"color: #008000; text-decoration-color: #008000\">'model_config__num_heads'</span>: <span style=\"color: #008080; text-decoration-color: #008080; font-weight: bold\">8</span>,                        \n",
       "<span style=\"color: #008000; text-decoration-color: #008000\">'model_config__transformer_activation'</span>: <span style=\"color: #008000; text-decoration-color: #008000\">'LeakyReLU'</span>, <span style=\"color: #008000; text-decoration-color: #008000\">'loss'</span>: <span style=\"color: #008080; text-decoration-color: #008080; font-weight: bold\">1.9904073476791382</span>, <span style=\"color: #008000; text-decoration-color: #008000\">'mean_squared_error'</span>:             \n",
       "<span style=\"color: #008080; text-decoration-color: #008080; font-weight: bold\">1.9904073476791382</span>, <span style=\"color: #008000; text-decoration-color: #008000\">'trial_id'</span>: <span style=\"color: #008080; text-decoration-color: #008080; font-weight: bold\">14</span><span style=\"font-weight: bold\">}</span> | Score: <span style=\"color: #008080; text-decoration-color: #008080; font-weight: bold\">1.9904073476791382</span>                                                    \n",
       "</pre>\n"
      ],
      "text/plain": [
       "\u001b[1;36m2025\u001b[0m-\u001b[1;36m02\u001b[0m-\u001b[1;36m23\u001b[0m \u001b[1;92m09:12:38\u001b[0m,\u001b[1;36m861\u001b[0m - \u001b[1m{\u001b[0mpytorch_tabular.tabular_model_tuner:\u001b[1;36m412\u001b[0m\u001b[1m}\u001b[0m - INFO - Trial \u001b[1;36m15\u001b[0m/\u001b[1;36m27\u001b[0m: \u001b[1m{\u001b[0m\u001b[32m'model'\u001b[0m:                \n",
       "\u001b[32m'1-FTTransformerConfig'\u001b[0m, \u001b[32m'model_config__input_embed_dim'\u001b[0m: \u001b[1;36m32\u001b[0m, \u001b[32m'model_config__num_heads'\u001b[0m: \u001b[1;36m8\u001b[0m,                        \n",
       "\u001b[32m'model_config__transformer_activation'\u001b[0m: \u001b[32m'LeakyReLU'\u001b[0m, \u001b[32m'loss'\u001b[0m: \u001b[1;36m1.9904073476791382\u001b[0m, \u001b[32m'mean_squared_error'\u001b[0m:             \n",
       "\u001b[1;36m1.9904073476791382\u001b[0m, \u001b[32m'trial_id'\u001b[0m: \u001b[1;36m14\u001b[0m\u001b[1m}\u001b[0m | Score: \u001b[1;36m1.9904073476791382\u001b[0m                                                    \n"
      ]
     },
     "metadata": {},
     "output_type": "display_data"
    },
    {
     "data": {
      "application/vnd.jupyter.widget-view+json": {
       "model_id": "c14bdf6b3485411ba1a521ab6ec756ea",
       "version_major": 2,
       "version_minor": 0
      },
      "text/plain": [
       "Finding best initial lr:   0%|          | 0/100 [00:00<?, ?it/s]"
      ]
     },
     "metadata": {},
     "output_type": "display_data"
    },
    {
     "data": {
      "text/html": [
       "<pre style=\"white-space:pre;overflow-x:auto;line-height:normal;font-family:Menlo,'DejaVu Sans Mono',consolas,'Courier New',monospace\"><span style=\"color: #008080; text-decoration-color: #008080; font-weight: bold\">2025</span>-<span style=\"color: #008080; text-decoration-color: #008080; font-weight: bold\">02</span>-<span style=\"color: #008080; text-decoration-color: #008080; font-weight: bold\">23</span> <span style=\"color: #00ff00; text-decoration-color: #00ff00; font-weight: bold\">09:13:25</span>,<span style=\"color: #008080; text-decoration-color: #008080; font-weight: bold\">264</span> - <span style=\"font-weight: bold\">{</span>pytorch_tabular.tabular_model_tuner:<span style=\"color: #008080; text-decoration-color: #008080; font-weight: bold\">412</span><span style=\"font-weight: bold\">}</span> - INFO - Trial <span style=\"color: #008080; text-decoration-color: #008080; font-weight: bold\">16</span>/<span style=\"color: #008080; text-decoration-color: #008080; font-weight: bold\">27</span>: <span style=\"font-weight: bold\">{</span><span style=\"color: #008000; text-decoration-color: #008000\">'model'</span>:                \n",
       "<span style=\"color: #008000; text-decoration-color: #008000\">'1-FTTransformerConfig'</span>, <span style=\"color: #008000; text-decoration-color: #008000\">'model_config__input_embed_dim'</span>: <span style=\"color: #008080; text-decoration-color: #008080; font-weight: bold\">32</span>, <span style=\"color: #008000; text-decoration-color: #008000\">'model_config__num_heads'</span>: <span style=\"color: #008080; text-decoration-color: #008080; font-weight: bold\">16</span>,                       \n",
       "<span style=\"color: #008000; text-decoration-color: #008000\">'model_config__transformer_activation'</span>: <span style=\"color: #008000; text-decoration-color: #008000\">'GEGLU'</span>, <span style=\"color: #008000; text-decoration-color: #008000\">'loss'</span>: <span style=\"color: #008080; text-decoration-color: #008080; font-weight: bold\">1.8835132122039795</span>, <span style=\"color: #008000; text-decoration-color: #008000\">'mean_squared_error'</span>:                 \n",
       "<span style=\"color: #008080; text-decoration-color: #008080; font-weight: bold\">1.8835132122039795</span>, <span style=\"color: #008000; text-decoration-color: #008000\">'trial_id'</span>: <span style=\"color: #008080; text-decoration-color: #008080; font-weight: bold\">15</span><span style=\"font-weight: bold\">}</span> | Score: <span style=\"color: #008080; text-decoration-color: #008080; font-weight: bold\">1.8835132122039795</span>                                                    \n",
       "</pre>\n"
      ],
      "text/plain": [
       "\u001b[1;36m2025\u001b[0m-\u001b[1;36m02\u001b[0m-\u001b[1;36m23\u001b[0m \u001b[1;92m09:13:25\u001b[0m,\u001b[1;36m264\u001b[0m - \u001b[1m{\u001b[0mpytorch_tabular.tabular_model_tuner:\u001b[1;36m412\u001b[0m\u001b[1m}\u001b[0m - INFO - Trial \u001b[1;36m16\u001b[0m/\u001b[1;36m27\u001b[0m: \u001b[1m{\u001b[0m\u001b[32m'model'\u001b[0m:                \n",
       "\u001b[32m'1-FTTransformerConfig'\u001b[0m, \u001b[32m'model_config__input_embed_dim'\u001b[0m: \u001b[1;36m32\u001b[0m, \u001b[32m'model_config__num_heads'\u001b[0m: \u001b[1;36m16\u001b[0m,                       \n",
       "\u001b[32m'model_config__transformer_activation'\u001b[0m: \u001b[32m'GEGLU'\u001b[0m, \u001b[32m'loss'\u001b[0m: \u001b[1;36m1.8835132122039795\u001b[0m, \u001b[32m'mean_squared_error'\u001b[0m:                 \n",
       "\u001b[1;36m1.8835132122039795\u001b[0m, \u001b[32m'trial_id'\u001b[0m: \u001b[1;36m15\u001b[0m\u001b[1m}\u001b[0m | Score: \u001b[1;36m1.8835132122039795\u001b[0m                                                    \n"
      ]
     },
     "metadata": {},
     "output_type": "display_data"
    },
    {
     "data": {
      "application/vnd.jupyter.widget-view+json": {
       "model_id": "ce2f66b456224832a30c375a06a7e6bf",
       "version_major": 2,
       "version_minor": 0
      },
      "text/plain": [
       "Finding best initial lr:   0%|          | 0/100 [00:00<?, ?it/s]"
      ]
     },
     "metadata": {},
     "output_type": "display_data"
    },
    {
     "data": {
      "text/html": [
       "<pre style=\"white-space:pre;overflow-x:auto;line-height:normal;font-family:Menlo,'DejaVu Sans Mono',consolas,'Courier New',monospace\"><span style=\"color: #008080; text-decoration-color: #008080; font-weight: bold\">2025</span>-<span style=\"color: #008080; text-decoration-color: #008080; font-weight: bold\">02</span>-<span style=\"color: #008080; text-decoration-color: #008080; font-weight: bold\">23</span> <span style=\"color: #00ff00; text-decoration-color: #00ff00; font-weight: bold\">09:14:55</span>,<span style=\"color: #008080; text-decoration-color: #008080; font-weight: bold\">975</span> - <span style=\"font-weight: bold\">{</span>pytorch_tabular.tabular_model_tuner:<span style=\"color: #008080; text-decoration-color: #008080; font-weight: bold\">412</span><span style=\"font-weight: bold\">}</span> - INFO - Trial <span style=\"color: #008080; text-decoration-color: #008080; font-weight: bold\">17</span>/<span style=\"color: #008080; text-decoration-color: #008080; font-weight: bold\">27</span>: <span style=\"font-weight: bold\">{</span><span style=\"color: #008000; text-decoration-color: #008000\">'model'</span>:                \n",
       "<span style=\"color: #008000; text-decoration-color: #008000\">'1-FTTransformerConfig'</span>, <span style=\"color: #008000; text-decoration-color: #008000\">'model_config__input_embed_dim'</span>: <span style=\"color: #008080; text-decoration-color: #008080; font-weight: bold\">32</span>, <span style=\"color: #008000; text-decoration-color: #008000\">'model_config__num_heads'</span>: <span style=\"color: #008080; text-decoration-color: #008080; font-weight: bold\">16</span>,                       \n",
       "<span style=\"color: #008000; text-decoration-color: #008000\">'model_config__transformer_activation'</span>: <span style=\"color: #008000; text-decoration-color: #008000\">'ReLU'</span>, <span style=\"color: #008000; text-decoration-color: #008000\">'loss'</span>: <span style=\"color: #008080; text-decoration-color: #008080; font-weight: bold\">23.891380310058594</span>, <span style=\"color: #008000; text-decoration-color: #008000\">'mean_squared_error'</span>:                  \n",
       "<span style=\"color: #008080; text-decoration-color: #008080; font-weight: bold\">23.891380310058594</span>, <span style=\"color: #008000; text-decoration-color: #008000\">'trial_id'</span>: <span style=\"color: #008080; text-decoration-color: #008080; font-weight: bold\">16</span><span style=\"font-weight: bold\">}</span> | Score: <span style=\"color: #008080; text-decoration-color: #008080; font-weight: bold\">23.891380310058594</span>                                                    \n",
       "</pre>\n"
      ],
      "text/plain": [
       "\u001b[1;36m2025\u001b[0m-\u001b[1;36m02\u001b[0m-\u001b[1;36m23\u001b[0m \u001b[1;92m09:14:55\u001b[0m,\u001b[1;36m975\u001b[0m - \u001b[1m{\u001b[0mpytorch_tabular.tabular_model_tuner:\u001b[1;36m412\u001b[0m\u001b[1m}\u001b[0m - INFO - Trial \u001b[1;36m17\u001b[0m/\u001b[1;36m27\u001b[0m: \u001b[1m{\u001b[0m\u001b[32m'model'\u001b[0m:                \n",
       "\u001b[32m'1-FTTransformerConfig'\u001b[0m, \u001b[32m'model_config__input_embed_dim'\u001b[0m: \u001b[1;36m32\u001b[0m, \u001b[32m'model_config__num_heads'\u001b[0m: \u001b[1;36m16\u001b[0m,                       \n",
       "\u001b[32m'model_config__transformer_activation'\u001b[0m: \u001b[32m'ReLU'\u001b[0m, \u001b[32m'loss'\u001b[0m: \u001b[1;36m23.891380310058594\u001b[0m, \u001b[32m'mean_squared_error'\u001b[0m:                  \n",
       "\u001b[1;36m23.891380310058594\u001b[0m, \u001b[32m'trial_id'\u001b[0m: \u001b[1;36m16\u001b[0m\u001b[1m}\u001b[0m | Score: \u001b[1;36m23.891380310058594\u001b[0m                                                    \n"
      ]
     },
     "metadata": {},
     "output_type": "display_data"
    },
    {
     "data": {
      "application/vnd.jupyter.widget-view+json": {
       "model_id": "999b84df31984533b72868e41a91f800",
       "version_major": 2,
       "version_minor": 0
      },
      "text/plain": [
       "Finding best initial lr:   0%|          | 0/100 [00:00<?, ?it/s]"
      ]
     },
     "metadata": {},
     "output_type": "display_data"
    },
    {
     "data": {
      "text/html": [
       "<pre style=\"white-space:pre;overflow-x:auto;line-height:normal;font-family:Menlo,'DejaVu Sans Mono',consolas,'Courier New',monospace\"><span style=\"color: #008080; text-decoration-color: #008080; font-weight: bold\">2025</span>-<span style=\"color: #008080; text-decoration-color: #008080; font-weight: bold\">02</span>-<span style=\"color: #008080; text-decoration-color: #008080; font-weight: bold\">23</span> <span style=\"color: #00ff00; text-decoration-color: #00ff00; font-weight: bold\">09:15:57</span>,<span style=\"color: #008080; text-decoration-color: #008080; font-weight: bold\">079</span> - <span style=\"font-weight: bold\">{</span>pytorch_tabular.tabular_model_tuner:<span style=\"color: #008080; text-decoration-color: #008080; font-weight: bold\">412</span><span style=\"font-weight: bold\">}</span> - INFO - Trial <span style=\"color: #008080; text-decoration-color: #008080; font-weight: bold\">18</span>/<span style=\"color: #008080; text-decoration-color: #008080; font-weight: bold\">27</span>: <span style=\"font-weight: bold\">{</span><span style=\"color: #008000; text-decoration-color: #008000\">'model'</span>:                \n",
       "<span style=\"color: #008000; text-decoration-color: #008000\">'1-FTTransformerConfig'</span>, <span style=\"color: #008000; text-decoration-color: #008000\">'model_config__input_embed_dim'</span>: <span style=\"color: #008080; text-decoration-color: #008080; font-weight: bold\">32</span>, <span style=\"color: #008000; text-decoration-color: #008000\">'model_config__num_heads'</span>: <span style=\"color: #008080; text-decoration-color: #008080; font-weight: bold\">16</span>,                       \n",
       "<span style=\"color: #008000; text-decoration-color: #008000\">'model_config__transformer_activation'</span>: <span style=\"color: #008000; text-decoration-color: #008000\">'LeakyReLU'</span>, <span style=\"color: #008000; text-decoration-color: #008000\">'loss'</span>: <span style=\"color: #008080; text-decoration-color: #008080; font-weight: bold\">1.7719718217849731</span>, <span style=\"color: #008000; text-decoration-color: #008000\">'mean_squared_error'</span>:             \n",
       "<span style=\"color: #008080; text-decoration-color: #008080; font-weight: bold\">1.7719718217849731</span>, <span style=\"color: #008000; text-decoration-color: #008000\">'trial_id'</span>: <span style=\"color: #008080; text-decoration-color: #008080; font-weight: bold\">17</span><span style=\"font-weight: bold\">}</span> | Score: <span style=\"color: #008080; text-decoration-color: #008080; font-weight: bold\">1.7719718217849731</span>                                                    \n",
       "</pre>\n"
      ],
      "text/plain": [
       "\u001b[1;36m2025\u001b[0m-\u001b[1;36m02\u001b[0m-\u001b[1;36m23\u001b[0m \u001b[1;92m09:15:57\u001b[0m,\u001b[1;36m079\u001b[0m - \u001b[1m{\u001b[0mpytorch_tabular.tabular_model_tuner:\u001b[1;36m412\u001b[0m\u001b[1m}\u001b[0m - INFO - Trial \u001b[1;36m18\u001b[0m/\u001b[1;36m27\u001b[0m: \u001b[1m{\u001b[0m\u001b[32m'model'\u001b[0m:                \n",
       "\u001b[32m'1-FTTransformerConfig'\u001b[0m, \u001b[32m'model_config__input_embed_dim'\u001b[0m: \u001b[1;36m32\u001b[0m, \u001b[32m'model_config__num_heads'\u001b[0m: \u001b[1;36m16\u001b[0m,                       \n",
       "\u001b[32m'model_config__transformer_activation'\u001b[0m: \u001b[32m'LeakyReLU'\u001b[0m, \u001b[32m'loss'\u001b[0m: \u001b[1;36m1.7719718217849731\u001b[0m, \u001b[32m'mean_squared_error'\u001b[0m:             \n",
       "\u001b[1;36m1.7719718217849731\u001b[0m, \u001b[32m'trial_id'\u001b[0m: \u001b[1;36m17\u001b[0m\u001b[1m}\u001b[0m | Score: \u001b[1;36m1.7719718217849731\u001b[0m                                                    \n"
      ]
     },
     "metadata": {},
     "output_type": "display_data"
    },
    {
     "data": {
      "application/vnd.jupyter.widget-view+json": {
       "model_id": "beff199806434f9f94db19c4070c7582",
       "version_major": 2,
       "version_minor": 0
      },
      "text/plain": [
       "Finding best initial lr:   0%|          | 0/100 [00:00<?, ?it/s]"
      ]
     },
     "metadata": {},
     "output_type": "display_data"
    },
    {
     "data": {
      "text/html": [
       "<pre style=\"white-space:pre;overflow-x:auto;line-height:normal;font-family:Menlo,'DejaVu Sans Mono',consolas,'Courier New',monospace\"><span style=\"color: #008080; text-decoration-color: #008080; font-weight: bold\">2025</span>-<span style=\"color: #008080; text-decoration-color: #008080; font-weight: bold\">02</span>-<span style=\"color: #008080; text-decoration-color: #008080; font-weight: bold\">23</span> <span style=\"color: #00ff00; text-decoration-color: #00ff00; font-weight: bold\">09:17:28</span>,<span style=\"color: #008080; text-decoration-color: #008080; font-weight: bold\">265</span> - <span style=\"font-weight: bold\">{</span>pytorch_tabular.tabular_model_tuner:<span style=\"color: #008080; text-decoration-color: #008080; font-weight: bold\">412</span><span style=\"font-weight: bold\">}</span> - INFO - Trial <span style=\"color: #008080; text-decoration-color: #008080; font-weight: bold\">19</span>/<span style=\"color: #008080; text-decoration-color: #008080; font-weight: bold\">27</span>: <span style=\"font-weight: bold\">{</span><span style=\"color: #008000; text-decoration-color: #008000\">'model'</span>:                \n",
       "<span style=\"color: #008000; text-decoration-color: #008000\">'1-FTTransformerConfig'</span>, <span style=\"color: #008000; text-decoration-color: #008000\">'model_config__input_embed_dim'</span>: <span style=\"color: #008080; text-decoration-color: #008080; font-weight: bold\">64</span>, <span style=\"color: #008000; text-decoration-color: #008000\">'model_config__num_heads'</span>: <span style=\"color: #008080; text-decoration-color: #008080; font-weight: bold\">4</span>,                        \n",
       "<span style=\"color: #008000; text-decoration-color: #008000\">'model_config__transformer_activation'</span>: <span style=\"color: #008000; text-decoration-color: #008000\">'GEGLU'</span>, <span style=\"color: #008000; text-decoration-color: #008000\">'loss'</span>: <span style=\"color: #008080; text-decoration-color: #008080; font-weight: bold\">21.195005416870117</span>, <span style=\"color: #008000; text-decoration-color: #008000\">'mean_squared_error'</span>:                 \n",
       "<span style=\"color: #008080; text-decoration-color: #008080; font-weight: bold\">21.195005416870117</span>, <span style=\"color: #008000; text-decoration-color: #008000\">'trial_id'</span>: <span style=\"color: #008080; text-decoration-color: #008080; font-weight: bold\">18</span><span style=\"font-weight: bold\">}</span> | Score: <span style=\"color: #008080; text-decoration-color: #008080; font-weight: bold\">21.195005416870117</span>                                                    \n",
       "</pre>\n"
      ],
      "text/plain": [
       "\u001b[1;36m2025\u001b[0m-\u001b[1;36m02\u001b[0m-\u001b[1;36m23\u001b[0m \u001b[1;92m09:17:28\u001b[0m,\u001b[1;36m265\u001b[0m - \u001b[1m{\u001b[0mpytorch_tabular.tabular_model_tuner:\u001b[1;36m412\u001b[0m\u001b[1m}\u001b[0m - INFO - Trial \u001b[1;36m19\u001b[0m/\u001b[1;36m27\u001b[0m: \u001b[1m{\u001b[0m\u001b[32m'model'\u001b[0m:                \n",
       "\u001b[32m'1-FTTransformerConfig'\u001b[0m, \u001b[32m'model_config__input_embed_dim'\u001b[0m: \u001b[1;36m64\u001b[0m, \u001b[32m'model_config__num_heads'\u001b[0m: \u001b[1;36m4\u001b[0m,                        \n",
       "\u001b[32m'model_config__transformer_activation'\u001b[0m: \u001b[32m'GEGLU'\u001b[0m, \u001b[32m'loss'\u001b[0m: \u001b[1;36m21.195005416870117\u001b[0m, \u001b[32m'mean_squared_error'\u001b[0m:                 \n",
       "\u001b[1;36m21.195005416870117\u001b[0m, \u001b[32m'trial_id'\u001b[0m: \u001b[1;36m18\u001b[0m\u001b[1m}\u001b[0m | Score: \u001b[1;36m21.195005416870117\u001b[0m                                                    \n"
      ]
     },
     "metadata": {},
     "output_type": "display_data"
    },
    {
     "data": {
      "application/vnd.jupyter.widget-view+json": {
       "model_id": "b77c375a59b04d4d986180012d120bf7",
       "version_major": 2,
       "version_minor": 0
      },
      "text/plain": [
       "Finding best initial lr:   0%|          | 0/100 [00:00<?, ?it/s]"
      ]
     },
     "metadata": {},
     "output_type": "display_data"
    },
    {
     "data": {
      "text/html": [
       "<pre style=\"white-space:pre;overflow-x:auto;line-height:normal;font-family:Menlo,'DejaVu Sans Mono',consolas,'Courier New',monospace\"><span style=\"color: #008080; text-decoration-color: #008080; font-weight: bold\">2025</span>-<span style=\"color: #008080; text-decoration-color: #008080; font-weight: bold\">02</span>-<span style=\"color: #008080; text-decoration-color: #008080; font-weight: bold\">23</span> <span style=\"color: #00ff00; text-decoration-color: #00ff00; font-weight: bold\">09:18:59</span>,<span style=\"color: #008080; text-decoration-color: #008080; font-weight: bold\">719</span> - <span style=\"font-weight: bold\">{</span>pytorch_tabular.tabular_model_tuner:<span style=\"color: #008080; text-decoration-color: #008080; font-weight: bold\">412</span><span style=\"font-weight: bold\">}</span> - INFO - Trial <span style=\"color: #008080; text-decoration-color: #008080; font-weight: bold\">20</span>/<span style=\"color: #008080; text-decoration-color: #008080; font-weight: bold\">27</span>: <span style=\"font-weight: bold\">{</span><span style=\"color: #008000; text-decoration-color: #008000\">'model'</span>:                \n",
       "<span style=\"color: #008000; text-decoration-color: #008000\">'1-FTTransformerConfig'</span>, <span style=\"color: #008000; text-decoration-color: #008000\">'model_config__input_embed_dim'</span>: <span style=\"color: #008080; text-decoration-color: #008080; font-weight: bold\">64</span>, <span style=\"color: #008000; text-decoration-color: #008000\">'model_config__num_heads'</span>: <span style=\"color: #008080; text-decoration-color: #008080; font-weight: bold\">4</span>,                        \n",
       "<span style=\"color: #008000; text-decoration-color: #008000\">'model_config__transformer_activation'</span>: <span style=\"color: #008000; text-decoration-color: #008000\">'ReLU'</span>, <span style=\"color: #008000; text-decoration-color: #008000\">'loss'</span>: <span style=\"color: #008080; text-decoration-color: #008080; font-weight: bold\">13.730344772338867</span>, <span style=\"color: #008000; text-decoration-color: #008000\">'mean_squared_error'</span>:                  \n",
       "<span style=\"color: #008080; text-decoration-color: #008080; font-weight: bold\">13.730344772338867</span>, <span style=\"color: #008000; text-decoration-color: #008000\">'trial_id'</span>: <span style=\"color: #008080; text-decoration-color: #008080; font-weight: bold\">19</span><span style=\"font-weight: bold\">}</span> | Score: <span style=\"color: #008080; text-decoration-color: #008080; font-weight: bold\">13.730344772338867</span>                                                    \n",
       "</pre>\n"
      ],
      "text/plain": [
       "\u001b[1;36m2025\u001b[0m-\u001b[1;36m02\u001b[0m-\u001b[1;36m23\u001b[0m \u001b[1;92m09:18:59\u001b[0m,\u001b[1;36m719\u001b[0m - \u001b[1m{\u001b[0mpytorch_tabular.tabular_model_tuner:\u001b[1;36m412\u001b[0m\u001b[1m}\u001b[0m - INFO - Trial \u001b[1;36m20\u001b[0m/\u001b[1;36m27\u001b[0m: \u001b[1m{\u001b[0m\u001b[32m'model'\u001b[0m:                \n",
       "\u001b[32m'1-FTTransformerConfig'\u001b[0m, \u001b[32m'model_config__input_embed_dim'\u001b[0m: \u001b[1;36m64\u001b[0m, \u001b[32m'model_config__num_heads'\u001b[0m: \u001b[1;36m4\u001b[0m,                        \n",
       "\u001b[32m'model_config__transformer_activation'\u001b[0m: \u001b[32m'ReLU'\u001b[0m, \u001b[32m'loss'\u001b[0m: \u001b[1;36m13.730344772338867\u001b[0m, \u001b[32m'mean_squared_error'\u001b[0m:                  \n",
       "\u001b[1;36m13.730344772338867\u001b[0m, \u001b[32m'trial_id'\u001b[0m: \u001b[1;36m19\u001b[0m\u001b[1m}\u001b[0m | Score: \u001b[1;36m13.730344772338867\u001b[0m                                                    \n"
      ]
     },
     "metadata": {},
     "output_type": "display_data"
    },
    {
     "data": {
      "application/vnd.jupyter.widget-view+json": {
       "model_id": "d8d9d2f0effe4d36987df64bcb4e5304",
       "version_major": 2,
       "version_minor": 0
      },
      "text/plain": [
       "Finding best initial lr:   0%|          | 0/100 [00:00<?, ?it/s]"
      ]
     },
     "metadata": {},
     "output_type": "display_data"
    },
    {
     "data": {
      "text/html": [
       "<pre style=\"white-space:pre;overflow-x:auto;line-height:normal;font-family:Menlo,'DejaVu Sans Mono',consolas,'Courier New',monospace\"><span style=\"color: #008080; text-decoration-color: #008080; font-weight: bold\">2025</span>-<span style=\"color: #008080; text-decoration-color: #008080; font-weight: bold\">02</span>-<span style=\"color: #008080; text-decoration-color: #008080; font-weight: bold\">23</span> <span style=\"color: #00ff00; text-decoration-color: #00ff00; font-weight: bold\">09:20:30</span>,<span style=\"color: #008080; text-decoration-color: #008080; font-weight: bold\">040</span> - <span style=\"font-weight: bold\">{</span>pytorch_tabular.tabular_model_tuner:<span style=\"color: #008080; text-decoration-color: #008080; font-weight: bold\">412</span><span style=\"font-weight: bold\">}</span> - INFO - Trial <span style=\"color: #008080; text-decoration-color: #008080; font-weight: bold\">21</span>/<span style=\"color: #008080; text-decoration-color: #008080; font-weight: bold\">27</span>: <span style=\"font-weight: bold\">{</span><span style=\"color: #008000; text-decoration-color: #008000\">'model'</span>:                \n",
       "<span style=\"color: #008000; text-decoration-color: #008000\">'1-FTTransformerConfig'</span>, <span style=\"color: #008000; text-decoration-color: #008000\">'model_config__input_embed_dim'</span>: <span style=\"color: #008080; text-decoration-color: #008080; font-weight: bold\">64</span>, <span style=\"color: #008000; text-decoration-color: #008000\">'model_config__num_heads'</span>: <span style=\"color: #008080; text-decoration-color: #008080; font-weight: bold\">4</span>,                        \n",
       "<span style=\"color: #008000; text-decoration-color: #008000\">'model_config__transformer_activation'</span>: <span style=\"color: #008000; text-decoration-color: #008000\">'LeakyReLU'</span>, <span style=\"color: #008000; text-decoration-color: #008000\">'loss'</span>: <span style=\"color: #008080; text-decoration-color: #008080; font-weight: bold\">17.967880249023438</span>, <span style=\"color: #008000; text-decoration-color: #008000\">'mean_squared_error'</span>:             \n",
       "<span style=\"color: #008080; text-decoration-color: #008080; font-weight: bold\">17.967880249023438</span>, <span style=\"color: #008000; text-decoration-color: #008000\">'trial_id'</span>: <span style=\"color: #008080; text-decoration-color: #008080; font-weight: bold\">20</span><span style=\"font-weight: bold\">}</span> | Score: <span style=\"color: #008080; text-decoration-color: #008080; font-weight: bold\">17.967880249023438</span>                                                    \n",
       "</pre>\n"
      ],
      "text/plain": [
       "\u001b[1;36m2025\u001b[0m-\u001b[1;36m02\u001b[0m-\u001b[1;36m23\u001b[0m \u001b[1;92m09:20:30\u001b[0m,\u001b[1;36m040\u001b[0m - \u001b[1m{\u001b[0mpytorch_tabular.tabular_model_tuner:\u001b[1;36m412\u001b[0m\u001b[1m}\u001b[0m - INFO - Trial \u001b[1;36m21\u001b[0m/\u001b[1;36m27\u001b[0m: \u001b[1m{\u001b[0m\u001b[32m'model'\u001b[0m:                \n",
       "\u001b[32m'1-FTTransformerConfig'\u001b[0m, \u001b[32m'model_config__input_embed_dim'\u001b[0m: \u001b[1;36m64\u001b[0m, \u001b[32m'model_config__num_heads'\u001b[0m: \u001b[1;36m4\u001b[0m,                        \n",
       "\u001b[32m'model_config__transformer_activation'\u001b[0m: \u001b[32m'LeakyReLU'\u001b[0m, \u001b[32m'loss'\u001b[0m: \u001b[1;36m17.967880249023438\u001b[0m, \u001b[32m'mean_squared_error'\u001b[0m:             \n",
       "\u001b[1;36m17.967880249023438\u001b[0m, \u001b[32m'trial_id'\u001b[0m: \u001b[1;36m20\u001b[0m\u001b[1m}\u001b[0m | Score: \u001b[1;36m17.967880249023438\u001b[0m                                                    \n"
      ]
     },
     "metadata": {},
     "output_type": "display_data"
    },
    {
     "data": {
      "application/vnd.jupyter.widget-view+json": {
       "model_id": "31cb46616e7749b7bdf7cd0565390cd7",
       "version_major": 2,
       "version_minor": 0
      },
      "text/plain": [
       "Finding best initial lr:   0%|          | 0/100 [00:00<?, ?it/s]"
      ]
     },
     "metadata": {},
     "output_type": "display_data"
    },
    {
     "data": {
      "text/html": [
       "<pre style=\"white-space:pre;overflow-x:auto;line-height:normal;font-family:Menlo,'DejaVu Sans Mono',consolas,'Courier New',monospace\"><span style=\"color: #008080; text-decoration-color: #008080; font-weight: bold\">2025</span>-<span style=\"color: #008080; text-decoration-color: #008080; font-weight: bold\">02</span>-<span style=\"color: #008080; text-decoration-color: #008080; font-weight: bold\">23</span> <span style=\"color: #00ff00; text-decoration-color: #00ff00; font-weight: bold\">09:20:59</span>,<span style=\"color: #008080; text-decoration-color: #008080; font-weight: bold\">395</span> - <span style=\"font-weight: bold\">{</span>pytorch_tabular.tabular_model_tuner:<span style=\"color: #008080; text-decoration-color: #008080; font-weight: bold\">412</span><span style=\"font-weight: bold\">}</span> - INFO - Trial <span style=\"color: #008080; text-decoration-color: #008080; font-weight: bold\">22</span>/<span style=\"color: #008080; text-decoration-color: #008080; font-weight: bold\">27</span>: <span style=\"font-weight: bold\">{</span><span style=\"color: #008000; text-decoration-color: #008000\">'model'</span>:                \n",
       "<span style=\"color: #008000; text-decoration-color: #008000\">'1-FTTransformerConfig'</span>, <span style=\"color: #008000; text-decoration-color: #008000\">'model_config__input_embed_dim'</span>: <span style=\"color: #008080; text-decoration-color: #008080; font-weight: bold\">64</span>, <span style=\"color: #008000; text-decoration-color: #008000\">'model_config__num_heads'</span>: <span style=\"color: #008080; text-decoration-color: #008080; font-weight: bold\">8</span>,                        \n",
       "<span style=\"color: #008000; text-decoration-color: #008000\">'model_config__transformer_activation'</span>: <span style=\"color: #008000; text-decoration-color: #008000\">'GEGLU'</span>, <span style=\"color: #008000; text-decoration-color: #008000\">'loss'</span>: <span style=\"color: #008080; text-decoration-color: #008080; font-weight: bold\">2.0337634086608887</span>, <span style=\"color: #008000; text-decoration-color: #008000\">'mean_squared_error'</span>:                 \n",
       "<span style=\"color: #008080; text-decoration-color: #008080; font-weight: bold\">2.0337634086608887</span>, <span style=\"color: #008000; text-decoration-color: #008000\">'trial_id'</span>: <span style=\"color: #008080; text-decoration-color: #008080; font-weight: bold\">21</span><span style=\"font-weight: bold\">}</span> | Score: <span style=\"color: #008080; text-decoration-color: #008080; font-weight: bold\">2.0337634086608887</span>                                                    \n",
       "</pre>\n"
      ],
      "text/plain": [
       "\u001b[1;36m2025\u001b[0m-\u001b[1;36m02\u001b[0m-\u001b[1;36m23\u001b[0m \u001b[1;92m09:20:59\u001b[0m,\u001b[1;36m395\u001b[0m - \u001b[1m{\u001b[0mpytorch_tabular.tabular_model_tuner:\u001b[1;36m412\u001b[0m\u001b[1m}\u001b[0m - INFO - Trial \u001b[1;36m22\u001b[0m/\u001b[1;36m27\u001b[0m: \u001b[1m{\u001b[0m\u001b[32m'model'\u001b[0m:                \n",
       "\u001b[32m'1-FTTransformerConfig'\u001b[0m, \u001b[32m'model_config__input_embed_dim'\u001b[0m: \u001b[1;36m64\u001b[0m, \u001b[32m'model_config__num_heads'\u001b[0m: \u001b[1;36m8\u001b[0m,                        \n",
       "\u001b[32m'model_config__transformer_activation'\u001b[0m: \u001b[32m'GEGLU'\u001b[0m, \u001b[32m'loss'\u001b[0m: \u001b[1;36m2.0337634086608887\u001b[0m, \u001b[32m'mean_squared_error'\u001b[0m:                 \n",
       "\u001b[1;36m2.0337634086608887\u001b[0m, \u001b[32m'trial_id'\u001b[0m: \u001b[1;36m21\u001b[0m\u001b[1m}\u001b[0m | Score: \u001b[1;36m2.0337634086608887\u001b[0m                                                    \n"
      ]
     },
     "metadata": {},
     "output_type": "display_data"
    },
    {
     "data": {
      "application/vnd.jupyter.widget-view+json": {
       "model_id": "b58d3991017449448c0fc7943c26da28",
       "version_major": 2,
       "version_minor": 0
      },
      "text/plain": [
       "Finding best initial lr:   0%|          | 0/100 [00:00<?, ?it/s]"
      ]
     },
     "metadata": {},
     "output_type": "display_data"
    },
    {
     "data": {
      "text/html": [
       "<pre style=\"white-space:pre;overflow-x:auto;line-height:normal;font-family:Menlo,'DejaVu Sans Mono',consolas,'Courier New',monospace\"><span style=\"color: #008080; text-decoration-color: #008080; font-weight: bold\">2025</span>-<span style=\"color: #008080; text-decoration-color: #008080; font-weight: bold\">02</span>-<span style=\"color: #008080; text-decoration-color: #008080; font-weight: bold\">23</span> <span style=\"color: #00ff00; text-decoration-color: #00ff00; font-weight: bold\">09:21:33</span>,<span style=\"color: #008080; text-decoration-color: #008080; font-weight: bold\">533</span> - <span style=\"font-weight: bold\">{</span>pytorch_tabular.tabular_model_tuner:<span style=\"color: #008080; text-decoration-color: #008080; font-weight: bold\">412</span><span style=\"font-weight: bold\">}</span> - INFO - Trial <span style=\"color: #008080; text-decoration-color: #008080; font-weight: bold\">23</span>/<span style=\"color: #008080; text-decoration-color: #008080; font-weight: bold\">27</span>: <span style=\"font-weight: bold\">{</span><span style=\"color: #008000; text-decoration-color: #008000\">'model'</span>:                \n",
       "<span style=\"color: #008000; text-decoration-color: #008000\">'1-FTTransformerConfig'</span>, <span style=\"color: #008000; text-decoration-color: #008000\">'model_config__input_embed_dim'</span>: <span style=\"color: #008080; text-decoration-color: #008080; font-weight: bold\">64</span>, <span style=\"color: #008000; text-decoration-color: #008000\">'model_config__num_heads'</span>: <span style=\"color: #008080; text-decoration-color: #008080; font-weight: bold\">8</span>,                        \n",
       "<span style=\"color: #008000; text-decoration-color: #008000\">'model_config__transformer_activation'</span>: <span style=\"color: #008000; text-decoration-color: #008000\">'ReLU'</span>, <span style=\"color: #008000; text-decoration-color: #008000\">'loss'</span>: <span style=\"color: #008080; text-decoration-color: #008080; font-weight: bold\">1.7459391355514526</span>, <span style=\"color: #008000; text-decoration-color: #008000\">'mean_squared_error'</span>:                  \n",
       "<span style=\"color: #008080; text-decoration-color: #008080; font-weight: bold\">1.7459391355514526</span>, <span style=\"color: #008000; text-decoration-color: #008000\">'trial_id'</span>: <span style=\"color: #008080; text-decoration-color: #008080; font-weight: bold\">22</span><span style=\"font-weight: bold\">}</span> | Score: <span style=\"color: #008080; text-decoration-color: #008080; font-weight: bold\">1.7459391355514526</span>                                                    \n",
       "</pre>\n"
      ],
      "text/plain": [
       "\u001b[1;36m2025\u001b[0m-\u001b[1;36m02\u001b[0m-\u001b[1;36m23\u001b[0m \u001b[1;92m09:21:33\u001b[0m,\u001b[1;36m533\u001b[0m - \u001b[1m{\u001b[0mpytorch_tabular.tabular_model_tuner:\u001b[1;36m412\u001b[0m\u001b[1m}\u001b[0m - INFO - Trial \u001b[1;36m23\u001b[0m/\u001b[1;36m27\u001b[0m: \u001b[1m{\u001b[0m\u001b[32m'model'\u001b[0m:                \n",
       "\u001b[32m'1-FTTransformerConfig'\u001b[0m, \u001b[32m'model_config__input_embed_dim'\u001b[0m: \u001b[1;36m64\u001b[0m, \u001b[32m'model_config__num_heads'\u001b[0m: \u001b[1;36m8\u001b[0m,                        \n",
       "\u001b[32m'model_config__transformer_activation'\u001b[0m: \u001b[32m'ReLU'\u001b[0m, \u001b[32m'loss'\u001b[0m: \u001b[1;36m1.7459391355514526\u001b[0m, \u001b[32m'mean_squared_error'\u001b[0m:                  \n",
       "\u001b[1;36m1.7459391355514526\u001b[0m, \u001b[32m'trial_id'\u001b[0m: \u001b[1;36m22\u001b[0m\u001b[1m}\u001b[0m | Score: \u001b[1;36m1.7459391355514526\u001b[0m                                                    \n"
      ]
     },
     "metadata": {},
     "output_type": "display_data"
    },
    {
     "data": {
      "application/vnd.jupyter.widget-view+json": {
       "model_id": "7e0f53d9473043678ca3e5383c93dd86",
       "version_major": 2,
       "version_minor": 0
      },
      "text/plain": [
       "Finding best initial lr:   0%|          | 0/100 [00:00<?, ?it/s]"
      ]
     },
     "metadata": {},
     "output_type": "display_data"
    },
    {
     "data": {
      "text/html": [
       "<pre style=\"white-space:pre;overflow-x:auto;line-height:normal;font-family:Menlo,'DejaVu Sans Mono',consolas,'Courier New',monospace\"><span style=\"color: #008080; text-decoration-color: #008080; font-weight: bold\">2025</span>-<span style=\"color: #008080; text-decoration-color: #008080; font-weight: bold\">02</span>-<span style=\"color: #008080; text-decoration-color: #008080; font-weight: bold\">23</span> <span style=\"color: #00ff00; text-decoration-color: #00ff00; font-weight: bold\">09:23:11</span>,<span style=\"color: #008080; text-decoration-color: #008080; font-weight: bold\">456</span> - <span style=\"font-weight: bold\">{</span>pytorch_tabular.tabular_model_tuner:<span style=\"color: #008080; text-decoration-color: #008080; font-weight: bold\">412</span><span style=\"font-weight: bold\">}</span> - INFO - Trial <span style=\"color: #008080; text-decoration-color: #008080; font-weight: bold\">24</span>/<span style=\"color: #008080; text-decoration-color: #008080; font-weight: bold\">27</span>: <span style=\"font-weight: bold\">{</span><span style=\"color: #008000; text-decoration-color: #008000\">'model'</span>:                \n",
       "<span style=\"color: #008000; text-decoration-color: #008000\">'1-FTTransformerConfig'</span>, <span style=\"color: #008000; text-decoration-color: #008000\">'model_config__input_embed_dim'</span>: <span style=\"color: #008080; text-decoration-color: #008080; font-weight: bold\">64</span>, <span style=\"color: #008000; text-decoration-color: #008000\">'model_config__num_heads'</span>: <span style=\"color: #008080; text-decoration-color: #008080; font-weight: bold\">8</span>,                        \n",
       "<span style=\"color: #008000; text-decoration-color: #008000\">'model_config__transformer_activation'</span>: <span style=\"color: #008000; text-decoration-color: #008000\">'LeakyReLU'</span>, <span style=\"color: #008000; text-decoration-color: #008000\">'loss'</span>: <span style=\"color: #008080; text-decoration-color: #008080; font-weight: bold\">18.56005096435547</span>, <span style=\"color: #008000; text-decoration-color: #008000\">'mean_squared_error'</span>:              \n",
       "<span style=\"color: #008080; text-decoration-color: #008080; font-weight: bold\">18.56005096435547</span>, <span style=\"color: #008000; text-decoration-color: #008000\">'trial_id'</span>: <span style=\"color: #008080; text-decoration-color: #008080; font-weight: bold\">23</span><span style=\"font-weight: bold\">}</span> | Score: <span style=\"color: #008080; text-decoration-color: #008080; font-weight: bold\">18.56005096435547</span>                                                      \n",
       "</pre>\n"
      ],
      "text/plain": [
       "\u001b[1;36m2025\u001b[0m-\u001b[1;36m02\u001b[0m-\u001b[1;36m23\u001b[0m \u001b[1;92m09:23:11\u001b[0m,\u001b[1;36m456\u001b[0m - \u001b[1m{\u001b[0mpytorch_tabular.tabular_model_tuner:\u001b[1;36m412\u001b[0m\u001b[1m}\u001b[0m - INFO - Trial \u001b[1;36m24\u001b[0m/\u001b[1;36m27\u001b[0m: \u001b[1m{\u001b[0m\u001b[32m'model'\u001b[0m:                \n",
       "\u001b[32m'1-FTTransformerConfig'\u001b[0m, \u001b[32m'model_config__input_embed_dim'\u001b[0m: \u001b[1;36m64\u001b[0m, \u001b[32m'model_config__num_heads'\u001b[0m: \u001b[1;36m8\u001b[0m,                        \n",
       "\u001b[32m'model_config__transformer_activation'\u001b[0m: \u001b[32m'LeakyReLU'\u001b[0m, \u001b[32m'loss'\u001b[0m: \u001b[1;36m18.56005096435547\u001b[0m, \u001b[32m'mean_squared_error'\u001b[0m:              \n",
       "\u001b[1;36m18.56005096435547\u001b[0m, \u001b[32m'trial_id'\u001b[0m: \u001b[1;36m23\u001b[0m\u001b[1m}\u001b[0m | Score: \u001b[1;36m18.56005096435547\u001b[0m                                                      \n"
      ]
     },
     "metadata": {},
     "output_type": "display_data"
    },
    {
     "data": {
      "application/vnd.jupyter.widget-view+json": {
       "model_id": "404956dfff744a10b7421b22c3ac009f",
       "version_major": 2,
       "version_minor": 0
      },
      "text/plain": [
       "Finding best initial lr:   0%|          | 0/100 [00:00<?, ?it/s]"
      ]
     },
     "metadata": {},
     "output_type": "display_data"
    },
    {
     "data": {
      "text/html": [
       "<pre style=\"white-space:pre;overflow-x:auto;line-height:normal;font-family:Menlo,'DejaVu Sans Mono',consolas,'Courier New',monospace\"><span style=\"color: #008080; text-decoration-color: #008080; font-weight: bold\">2025</span>-<span style=\"color: #008080; text-decoration-color: #008080; font-weight: bold\">02</span>-<span style=\"color: #008080; text-decoration-color: #008080; font-weight: bold\">23</span> <span style=\"color: #00ff00; text-decoration-color: #00ff00; font-weight: bold\">09:25:03</span>,<span style=\"color: #008080; text-decoration-color: #008080; font-weight: bold\">648</span> - <span style=\"font-weight: bold\">{</span>pytorch_tabular.tabular_model_tuner:<span style=\"color: #008080; text-decoration-color: #008080; font-weight: bold\">412</span><span style=\"font-weight: bold\">}</span> - INFO - Trial <span style=\"color: #008080; text-decoration-color: #008080; font-weight: bold\">25</span>/<span style=\"color: #008080; text-decoration-color: #008080; font-weight: bold\">27</span>: <span style=\"font-weight: bold\">{</span><span style=\"color: #008000; text-decoration-color: #008000\">'model'</span>:                \n",
       "<span style=\"color: #008000; text-decoration-color: #008000\">'1-FTTransformerConfig'</span>, <span style=\"color: #008000; text-decoration-color: #008000\">'model_config__input_embed_dim'</span>: <span style=\"color: #008080; text-decoration-color: #008080; font-weight: bold\">64</span>, <span style=\"color: #008000; text-decoration-color: #008000\">'model_config__num_heads'</span>: <span style=\"color: #008080; text-decoration-color: #008080; font-weight: bold\">16</span>,                       \n",
       "<span style=\"color: #008000; text-decoration-color: #008000\">'model_config__transformer_activation'</span>: <span style=\"color: #008000; text-decoration-color: #008000\">'GEGLU'</span>, <span style=\"color: #008000; text-decoration-color: #008000\">'loss'</span>: <span style=\"color: #008080; text-decoration-color: #008080; font-weight: bold\">17.210039138793945</span>, <span style=\"color: #008000; text-decoration-color: #008000\">'mean_squared_error'</span>:                 \n",
       "<span style=\"color: #008080; text-decoration-color: #008080; font-weight: bold\">17.210039138793945</span>, <span style=\"color: #008000; text-decoration-color: #008000\">'trial_id'</span>: <span style=\"color: #008080; text-decoration-color: #008080; font-weight: bold\">24</span><span style=\"font-weight: bold\">}</span> | Score: <span style=\"color: #008080; text-decoration-color: #008080; font-weight: bold\">17.210039138793945</span>                                                    \n",
       "</pre>\n"
      ],
      "text/plain": [
       "\u001b[1;36m2025\u001b[0m-\u001b[1;36m02\u001b[0m-\u001b[1;36m23\u001b[0m \u001b[1;92m09:25:03\u001b[0m,\u001b[1;36m648\u001b[0m - \u001b[1m{\u001b[0mpytorch_tabular.tabular_model_tuner:\u001b[1;36m412\u001b[0m\u001b[1m}\u001b[0m - INFO - Trial \u001b[1;36m25\u001b[0m/\u001b[1;36m27\u001b[0m: \u001b[1m{\u001b[0m\u001b[32m'model'\u001b[0m:                \n",
       "\u001b[32m'1-FTTransformerConfig'\u001b[0m, \u001b[32m'model_config__input_embed_dim'\u001b[0m: \u001b[1;36m64\u001b[0m, \u001b[32m'model_config__num_heads'\u001b[0m: \u001b[1;36m16\u001b[0m,                       \n",
       "\u001b[32m'model_config__transformer_activation'\u001b[0m: \u001b[32m'GEGLU'\u001b[0m, \u001b[32m'loss'\u001b[0m: \u001b[1;36m17.210039138793945\u001b[0m, \u001b[32m'mean_squared_error'\u001b[0m:                 \n",
       "\u001b[1;36m17.210039138793945\u001b[0m, \u001b[32m'trial_id'\u001b[0m: \u001b[1;36m24\u001b[0m\u001b[1m}\u001b[0m | Score: \u001b[1;36m17.210039138793945\u001b[0m                                                    \n"
      ]
     },
     "metadata": {},
     "output_type": "display_data"
    },
    {
     "data": {
      "application/vnd.jupyter.widget-view+json": {
       "model_id": "562d92e1d63f4d43bfc4522c04848cc3",
       "version_major": 2,
       "version_minor": 0
      },
      "text/plain": [
       "Finding best initial lr:   0%|          | 0/100 [00:00<?, ?it/s]"
      ]
     },
     "metadata": {},
     "output_type": "display_data"
    },
    {
     "data": {
      "text/html": [
       "<pre style=\"white-space:pre;overflow-x:auto;line-height:normal;font-family:Menlo,'DejaVu Sans Mono',consolas,'Courier New',monospace\"><span style=\"color: #008080; text-decoration-color: #008080; font-weight: bold\">2025</span>-<span style=\"color: #008080; text-decoration-color: #008080; font-weight: bold\">02</span>-<span style=\"color: #008080; text-decoration-color: #008080; font-weight: bold\">23</span> <span style=\"color: #00ff00; text-decoration-color: #00ff00; font-weight: bold\">09:26:51</span>,<span style=\"color: #008080; text-decoration-color: #008080; font-weight: bold\">413</span> - <span style=\"font-weight: bold\">{</span>pytorch_tabular.tabular_model_tuner:<span style=\"color: #008080; text-decoration-color: #008080; font-weight: bold\">412</span><span style=\"font-weight: bold\">}</span> - INFO - Trial <span style=\"color: #008080; text-decoration-color: #008080; font-weight: bold\">26</span>/<span style=\"color: #008080; text-decoration-color: #008080; font-weight: bold\">27</span>: <span style=\"font-weight: bold\">{</span><span style=\"color: #008000; text-decoration-color: #008000\">'model'</span>:                \n",
       "<span style=\"color: #008000; text-decoration-color: #008000\">'1-FTTransformerConfig'</span>, <span style=\"color: #008000; text-decoration-color: #008000\">'model_config__input_embed_dim'</span>: <span style=\"color: #008080; text-decoration-color: #008080; font-weight: bold\">64</span>, <span style=\"color: #008000; text-decoration-color: #008000\">'model_config__num_heads'</span>: <span style=\"color: #008080; text-decoration-color: #008080; font-weight: bold\">16</span>,                       \n",
       "<span style=\"color: #008000; text-decoration-color: #008000\">'model_config__transformer_activation'</span>: <span style=\"color: #008000; text-decoration-color: #008000\">'ReLU'</span>, <span style=\"color: #008000; text-decoration-color: #008000\">'loss'</span>: <span style=\"color: #008080; text-decoration-color: #008080; font-weight: bold\">15.936339378356934</span>, <span style=\"color: #008000; text-decoration-color: #008000\">'mean_squared_error'</span>:                  \n",
       "<span style=\"color: #008080; text-decoration-color: #008080; font-weight: bold\">15.936339378356934</span>, <span style=\"color: #008000; text-decoration-color: #008000\">'trial_id'</span>: <span style=\"color: #008080; text-decoration-color: #008080; font-weight: bold\">25</span><span style=\"font-weight: bold\">}</span> | Score: <span style=\"color: #008080; text-decoration-color: #008080; font-weight: bold\">15.936339378356934</span>                                                    \n",
       "</pre>\n"
      ],
      "text/plain": [
       "\u001b[1;36m2025\u001b[0m-\u001b[1;36m02\u001b[0m-\u001b[1;36m23\u001b[0m \u001b[1;92m09:26:51\u001b[0m,\u001b[1;36m413\u001b[0m - \u001b[1m{\u001b[0mpytorch_tabular.tabular_model_tuner:\u001b[1;36m412\u001b[0m\u001b[1m}\u001b[0m - INFO - Trial \u001b[1;36m26\u001b[0m/\u001b[1;36m27\u001b[0m: \u001b[1m{\u001b[0m\u001b[32m'model'\u001b[0m:                \n",
       "\u001b[32m'1-FTTransformerConfig'\u001b[0m, \u001b[32m'model_config__input_embed_dim'\u001b[0m: \u001b[1;36m64\u001b[0m, \u001b[32m'model_config__num_heads'\u001b[0m: \u001b[1;36m16\u001b[0m,                       \n",
       "\u001b[32m'model_config__transformer_activation'\u001b[0m: \u001b[32m'ReLU'\u001b[0m, \u001b[32m'loss'\u001b[0m: \u001b[1;36m15.936339378356934\u001b[0m, \u001b[32m'mean_squared_error'\u001b[0m:                  \n",
       "\u001b[1;36m15.936339378356934\u001b[0m, \u001b[32m'trial_id'\u001b[0m: \u001b[1;36m25\u001b[0m\u001b[1m}\u001b[0m | Score: \u001b[1;36m15.936339378356934\u001b[0m                                                    \n"
      ]
     },
     "metadata": {},
     "output_type": "display_data"
    },
    {
     "data": {
      "application/vnd.jupyter.widget-view+json": {
       "model_id": "1e8e3d18a4ba41d4860b5809bad0a523",
       "version_major": 2,
       "version_minor": 0
      },
      "text/plain": [
       "Finding best initial lr:   0%|          | 0/100 [00:00<?, ?it/s]"
      ]
     },
     "metadata": {},
     "output_type": "display_data"
    },
    {
     "data": {
      "text/html": [
       "<pre style=\"white-space:pre;overflow-x:auto;line-height:normal;font-family:Menlo,'DejaVu Sans Mono',consolas,'Courier New',monospace\"><span style=\"color: #008080; text-decoration-color: #008080; font-weight: bold\">2025</span>-<span style=\"color: #008080; text-decoration-color: #008080; font-weight: bold\">02</span>-<span style=\"color: #008080; text-decoration-color: #008080; font-weight: bold\">23</span> <span style=\"color: #00ff00; text-decoration-color: #00ff00; font-weight: bold\">09:28:38</span>,<span style=\"color: #008080; text-decoration-color: #008080; font-weight: bold\">203</span> - <span style=\"font-weight: bold\">{</span>pytorch_tabular.tabular_model_tuner:<span style=\"color: #008080; text-decoration-color: #008080; font-weight: bold\">412</span><span style=\"font-weight: bold\">}</span> - INFO - Trial <span style=\"color: #008080; text-decoration-color: #008080; font-weight: bold\">27</span>/<span style=\"color: #008080; text-decoration-color: #008080; font-weight: bold\">27</span>: <span style=\"font-weight: bold\">{</span><span style=\"color: #008000; text-decoration-color: #008000\">'model'</span>:                \n",
       "<span style=\"color: #008000; text-decoration-color: #008000\">'1-FTTransformerConfig'</span>, <span style=\"color: #008000; text-decoration-color: #008000\">'model_config__input_embed_dim'</span>: <span style=\"color: #008080; text-decoration-color: #008080; font-weight: bold\">64</span>, <span style=\"color: #008000; text-decoration-color: #008000\">'model_config__num_heads'</span>: <span style=\"color: #008080; text-decoration-color: #008080; font-weight: bold\">16</span>,                       \n",
       "<span style=\"color: #008000; text-decoration-color: #008000\">'model_config__transformer_activation'</span>: <span style=\"color: #008000; text-decoration-color: #008000\">'LeakyReLU'</span>, <span style=\"color: #008000; text-decoration-color: #008000\">'loss'</span>: <span style=\"color: #008080; text-decoration-color: #008080; font-weight: bold\">9.904928207397461</span>, <span style=\"color: #008000; text-decoration-color: #008000\">'mean_squared_error'</span>:              \n",
       "<span style=\"color: #008080; text-decoration-color: #008080; font-weight: bold\">9.904928207397461</span>, <span style=\"color: #008000; text-decoration-color: #008000\">'trial_id'</span>: <span style=\"color: #008080; text-decoration-color: #008080; font-weight: bold\">26</span><span style=\"font-weight: bold\">}</span> | Score: <span style=\"color: #008080; text-decoration-color: #008080; font-weight: bold\">9.904928207397461</span>                                                      \n",
       "</pre>\n"
      ],
      "text/plain": [
       "\u001b[1;36m2025\u001b[0m-\u001b[1;36m02\u001b[0m-\u001b[1;36m23\u001b[0m \u001b[1;92m09:28:38\u001b[0m,\u001b[1;36m203\u001b[0m - \u001b[1m{\u001b[0mpytorch_tabular.tabular_model_tuner:\u001b[1;36m412\u001b[0m\u001b[1m}\u001b[0m - INFO - Trial \u001b[1;36m27\u001b[0m/\u001b[1;36m27\u001b[0m: \u001b[1m{\u001b[0m\u001b[32m'model'\u001b[0m:                \n",
       "\u001b[32m'1-FTTransformerConfig'\u001b[0m, \u001b[32m'model_config__input_embed_dim'\u001b[0m: \u001b[1;36m64\u001b[0m, \u001b[32m'model_config__num_heads'\u001b[0m: \u001b[1;36m16\u001b[0m,                       \n",
       "\u001b[32m'model_config__transformer_activation'\u001b[0m: \u001b[32m'LeakyReLU'\u001b[0m, \u001b[32m'loss'\u001b[0m: \u001b[1;36m9.904928207397461\u001b[0m, \u001b[32m'mean_squared_error'\u001b[0m:              \n",
       "\u001b[1;36m9.904928207397461\u001b[0m, \u001b[32m'trial_id'\u001b[0m: \u001b[1;36m26\u001b[0m\u001b[1m}\u001b[0m | Score: \u001b[1;36m9.904928207397461\u001b[0m                                                      \n"
      ]
     },
     "metadata": {},
     "output_type": "display_data"
    },
    {
     "data": {
      "text/html": [
       "<pre style=\"white-space:pre;overflow-x:auto;line-height:normal;font-family:Menlo,'DejaVu Sans Mono',consolas,'Courier New',monospace\"></pre>\n"
      ],
      "text/plain": []
     },
     "metadata": {},
     "output_type": "display_data"
    },
    {
     "data": {
      "text/html": [
       "<pre style=\"white-space:pre;overflow-x:auto;line-height:normal;font-family:Menlo,'DejaVu Sans Mono',consolas,'Courier New',monospace\"><span style=\"color: #008080; text-decoration-color: #008080; font-weight: bold\">2025</span>-<span style=\"color: #008080; text-decoration-color: #008080; font-weight: bold\">02</span>-<span style=\"color: #008080; text-decoration-color: #008080; font-weight: bold\">23</span> <span style=\"color: #00ff00; text-decoration-color: #00ff00; font-weight: bold\">09:28:38</span>,<span style=\"color: #008080; text-decoration-color: #008080; font-weight: bold\">210</span> - <span style=\"font-weight: bold\">{</span>pytorch_tabular.tabular_model_tuner:<span style=\"color: #008080; text-decoration-color: #008080; font-weight: bold\">427</span><span style=\"font-weight: bold\">}</span> - INFO - Model Tuner Finished                  \n",
       "</pre>\n"
      ],
      "text/plain": [
       "\u001b[1;36m2025\u001b[0m-\u001b[1;36m02\u001b[0m-\u001b[1;36m23\u001b[0m \u001b[1;92m09:28:38\u001b[0m,\u001b[1;36m210\u001b[0m - \u001b[1m{\u001b[0mpytorch_tabular.tabular_model_tuner:\u001b[1;36m427\u001b[0m\u001b[1m}\u001b[0m - INFO - Model Tuner Finished                  \n"
      ]
     },
     "metadata": {},
     "output_type": "display_data"
    },
    {
     "data": {
      "text/html": [
       "<pre style=\"white-space:pre;overflow-x:auto;line-height:normal;font-family:Menlo,'DejaVu Sans Mono',consolas,'Courier New',monospace\"><span style=\"color: #008080; text-decoration-color: #008080; font-weight: bold\">2025</span>-<span style=\"color: #008080; text-decoration-color: #008080; font-weight: bold\">02</span>-<span style=\"color: #008080; text-decoration-color: #008080; font-weight: bold\">23</span> <span style=\"color: #00ff00; text-decoration-color: #00ff00; font-weight: bold\">09:28:38</span>,<span style=\"color: #008080; text-decoration-color: #008080; font-weight: bold\">211</span> - <span style=\"font-weight: bold\">{</span>pytorch_tabular.tabular_model_tuner:<span style=\"color: #008080; text-decoration-color: #008080; font-weight: bold\">428</span><span style=\"font-weight: bold\">}</span> - INFO - Best Model: <span style=\"color: #008080; text-decoration-color: #008080; font-weight: bold\">1</span>-FTTransformerConfig -   \n",
       "Best Score <span style=\"font-weight: bold\">(</span>loss<span style=\"font-weight: bold\">)</span>: <span style=\"color: #008080; text-decoration-color: #008080; font-weight: bold\">1.7459391355514526</span>                                                                              \n",
       "</pre>\n"
      ],
      "text/plain": [
       "\u001b[1;36m2025\u001b[0m-\u001b[1;36m02\u001b[0m-\u001b[1;36m23\u001b[0m \u001b[1;92m09:28:38\u001b[0m,\u001b[1;36m211\u001b[0m - \u001b[1m{\u001b[0mpytorch_tabular.tabular_model_tuner:\u001b[1;36m428\u001b[0m\u001b[1m}\u001b[0m - INFO - Best Model: \u001b[1;36m1\u001b[0m-FTTransformerConfig -   \n",
       "Best Score \u001b[1m(\u001b[0mloss\u001b[1m)\u001b[0m: \u001b[1;36m1.7459391355514526\u001b[0m                                                                              \n"
      ]
     },
     "metadata": {},
     "output_type": "display_data"
    },
    {
     "name": "stdout",
     "output_type": "stream",
     "text": [
      "Total time: 1871.7901632785797\n"
     ]
    }
   ],
   "source": [
    "tuner = TabularModelTuner(\n",
    "    data_config=data_config,\n",
    "    model_config=all_models,\n",
    "    optimizer_config=optimizer_config,\n",
    "    trainer_config=trainer_config\n",
    ")\n",
    "\n",
    "tic = time.time()\n",
    "tuner_df = tuner.tune(\n",
    "    train=train,\n",
    "    validation=valid,\n",
    "    search_space=all_search_space,\n",
    "    strategy='grid_search',  # grid_search (seach in all search_spaces) or random_search (search in n_trials random search_spaces)\n",
    "    n_trials=4,  # Used when strategy is random_search\n",
    "    metric='accuracy' if model_type == 'classifier' else 'loss',\n",
    "    mode='max' if model_type == 'classifier' else 'min',  # max or min\n",
    "    progress_bar=True,\n",
    "    verbose=True # Make True if you want to log metrics and params each iteration\n",
    ")\n",
    "print(f'Total time: {time.time() - tic}')"
   ]
  },
  {
   "cell_type": "markdown",
   "id": "3c3e5a74-c03d-471f-86de-38d22d5d2fef",
   "metadata": {},
   "source": [
    "O Tuner retorna uma única variável contendo [tabela deresultados, parâmetros do melhor modelo, valor da melhor métrica, melhor modelo]."
   ]
  },
  {
   "cell_type": "code",
   "execution_count": 25,
   "id": "6fbe9813-dced-4b62-807e-17ec4bde19c1",
   "metadata": {
    "scrolled": true
   },
   "outputs": [
    {
     "data": {
      "text/html": [
       "<style type=\"text/css\">\n",
       "#T_6d8e7_row0_col5, #T_6d8e7_row1_col5 {\n",
       "  background-color: #a50026;\n",
       "  color: #f1f1f1;\n",
       "  background-color: #006837;\n",
       "  color: #f1f1f1;\n",
       "}\n",
       "#T_6d8e7_row2_col5, #T_6d8e7_row3_col5 {\n",
       "  background-color: #a70226;\n",
       "  color: #f1f1f1;\n",
       "  background-color: #016a38;\n",
       "  color: #f1f1f1;\n",
       "}\n",
       "#T_6d8e7_row4_col5, #T_6d8e7_row5_col5, #T_6d8e7_row6_col5 {\n",
       "  background-color: #a90426;\n",
       "  color: #f1f1f1;\n",
       "  background-color: #026c39;\n",
       "  color: #f1f1f1;\n",
       "}\n",
       "#T_6d8e7_row7_col5 {\n",
       "  background-color: #ab0626;\n",
       "  color: #f1f1f1;\n",
       "  background-color: #036e3a;\n",
       "  color: #f1f1f1;\n",
       "}\n",
       "#T_6d8e7_row8_col5, #T_6d8e7_row9_col5 {\n",
       "  background-color: #ad0826;\n",
       "  color: #f1f1f1;\n",
       "  background-color: #04703b;\n",
       "  color: #f1f1f1;\n",
       "}\n",
       "#T_6d8e7_row10_col5 {\n",
       "  background-color: #af0926;\n",
       "  color: #f1f1f1;\n",
       "  background-color: #05713c;\n",
       "  color: #f1f1f1;\n",
       "}\n",
       "#T_6d8e7_row11_col5, #T_6d8e7_row12_col5, #T_6d8e7_row13_col5 {\n",
       "  background-color: #b10b26;\n",
       "  color: #f1f1f1;\n",
       "  background-color: #06733d;\n",
       "  color: #f1f1f1;\n",
       "}\n",
       "#T_6d8e7_row14_col5, #T_6d8e7_row15_col5, #T_6d8e7_row16_col5 {\n",
       "  background-color: #b50f26;\n",
       "  color: #f1f1f1;\n",
       "  background-color: #08773f;\n",
       "  color: #f1f1f1;\n",
       "}\n",
       "#T_6d8e7_row17_col5 {\n",
       "  background-color: #bb1526;\n",
       "  color: #f1f1f1;\n",
       "  background-color: #0b7d42;\n",
       "  color: #f1f1f1;\n",
       "}\n",
       "#T_6d8e7_row18_col5 {\n",
       "  background-color: #c21c27;\n",
       "  color: #f1f1f1;\n",
       "  background-color: #0f8446;\n",
       "  color: #f1f1f1;\n",
       "}\n",
       "#T_6d8e7_row19_col5 {\n",
       "  background-color: #d42d27;\n",
       "  color: #f1f1f1;\n",
       "  background-color: #18954f;\n",
       "  color: #f1f1f1;\n",
       "}\n",
       "#T_6d8e7_row20_col5 {\n",
       "  background-color: #e0422f;\n",
       "  color: #f1f1f1;\n",
       "  background-color: #30a356;\n",
       "  color: #f1f1f1;\n",
       "}\n",
       "#T_6d8e7_row21_col5 {\n",
       "  background-color: #e65036;\n",
       "  color: #f1f1f1;\n",
       "  background-color: #42ac5a;\n",
       "  color: #f1f1f1;\n",
       "}\n",
       "#T_6d8e7_row22_col5 {\n",
       "  background-color: #f26841;\n",
       "  color: #f1f1f1;\n",
       "  background-color: #60ba62;\n",
       "  color: #f1f1f1;\n",
       "}\n",
       "#T_6d8e7_row23_col5 {\n",
       "  background-color: #fed07e;\n",
       "  color: #000000;\n",
       "  background-color: #c9e881;\n",
       "  color: #000000;\n",
       "}\n",
       "#T_6d8e7_row24_col5 {\n",
       "  background-color: #eff8aa;\n",
       "  color: #000000;\n",
       "  background-color: #fff2aa;\n",
       "  color: #000000;\n",
       "}\n",
       "#T_6d8e7_row25_col5 {\n",
       "  background-color: #c3e67d;\n",
       "  color: #000000;\n",
       "  background-color: #feca79;\n",
       "  color: #000000;\n",
       "}\n",
       "#T_6d8e7_row26_col5 {\n",
       "  background-color: #a7d96b;\n",
       "  color: #000000;\n",
       "  background-color: #fdaf62;\n",
       "  color: #000000;\n",
       "}\n",
       "#T_6d8e7_row27_col5 {\n",
       "  background-color: #91d068;\n",
       "  color: #000000;\n",
       "  background-color: #fa9857;\n",
       "  color: #000000;\n",
       "}\n",
       "#T_6d8e7_row28_col5 {\n",
       "  background-color: #7fc866;\n",
       "  color: #000000;\n",
       "  background-color: #f8864f;\n",
       "  color: #f1f1f1;\n",
       "}\n",
       "#T_6d8e7_row29_col5 {\n",
       "  background-color: #36a657;\n",
       "  color: #f1f1f1;\n",
       "  background-color: #e24731;\n",
       "  color: #f1f1f1;\n",
       "}\n",
       "#T_6d8e7_row30_col5 {\n",
       "  background-color: #2aa054;\n",
       "  color: #f1f1f1;\n",
       "  background-color: #dd3d2d;\n",
       "  color: #f1f1f1;\n",
       "}\n",
       "#T_6d8e7_row31_col5 {\n",
       "  background-color: #18954f;\n",
       "  color: #f1f1f1;\n",
       "  background-color: #d42d27;\n",
       "  color: #f1f1f1;\n",
       "}\n",
       "#T_6d8e7_row32_col5 {\n",
       "  background-color: #17934e;\n",
       "  color: #f1f1f1;\n",
       "  background-color: #d22b27;\n",
       "  color: #f1f1f1;\n",
       "}\n",
       "#T_6d8e7_row33_col5 {\n",
       "  background-color: #16914d;\n",
       "  color: #f1f1f1;\n",
       "  background-color: #d02927;\n",
       "  color: #f1f1f1;\n",
       "}\n",
       "#T_6d8e7_row34_col5, #T_6d8e7_row35_col5 {\n",
       "  background-color: #15904c;\n",
       "  color: #f1f1f1;\n",
       "  background-color: #ce2827;\n",
       "  color: #f1f1f1;\n",
       "}\n",
       "#T_6d8e7_row36_col5, #T_6d8e7_row37_col5 {\n",
       "  background-color: #128a49;\n",
       "  color: #f1f1f1;\n",
       "  background-color: #c82227;\n",
       "  color: #f1f1f1;\n",
       "}\n",
       "#T_6d8e7_row38_col5 {\n",
       "  background-color: #006837;\n",
       "  color: #f1f1f1;\n",
       "  background-color: #a50026;\n",
       "  color: #f1f1f1;\n",
       "}\n",
       "</style>\n",
       "<table id=\"T_6d8e7\">\n",
       "  <thead>\n",
       "    <tr>\n",
       "      <th class=\"blank level0\" >&nbsp;</th>\n",
       "      <th id=\"T_6d8e7_level0_col0\" class=\"col_heading level0 col0\" >trial_id</th>\n",
       "      <th id=\"T_6d8e7_level0_col1\" class=\"col_heading level0 col1\" >model</th>\n",
       "      <th id=\"T_6d8e7_level0_col2\" class=\"col_heading level0 col2\" >model_config__gflu_dropout</th>\n",
       "      <th id=\"T_6d8e7_level0_col3\" class=\"col_heading level0 col3\" >model_config__gflu_stages</th>\n",
       "      <th id=\"T_6d8e7_level0_col4\" class=\"col_heading level0 col4\" >optimizer_config__optimizer</th>\n",
       "      <th id=\"T_6d8e7_level0_col5\" class=\"col_heading level0 col5\" >loss</th>\n",
       "      <th id=\"T_6d8e7_level0_col6\" class=\"col_heading level0 col6\" >mean_squared_error</th>\n",
       "      <th id=\"T_6d8e7_level0_col7\" class=\"col_heading level0 col7\" >model_config__input_embed_dim</th>\n",
       "      <th id=\"T_6d8e7_level0_col8\" class=\"col_heading level0 col8\" >model_config__num_heads</th>\n",
       "      <th id=\"T_6d8e7_level0_col9\" class=\"col_heading level0 col9\" >model_config__transformer_activation</th>\n",
       "      <th id=\"T_6d8e7_level0_col10\" class=\"col_heading level0 col10\" >test_rmse</th>\n",
       "    </tr>\n",
       "  </thead>\n",
       "  <tbody>\n",
       "    <tr>\n",
       "      <th id=\"T_6d8e7_level0_row0\" class=\"row_heading level0 row0\" >34</th>\n",
       "      <td id=\"T_6d8e7_row0_col0\" class=\"data row0 col0\" >22</td>\n",
       "      <td id=\"T_6d8e7_row0_col1\" class=\"data row0 col1\" >1-FTTransformerConfig</td>\n",
       "      <td id=\"T_6d8e7_row0_col2\" class=\"data row0 col2\" >nan</td>\n",
       "      <td id=\"T_6d8e7_row0_col3\" class=\"data row0 col3\" >nan</td>\n",
       "      <td id=\"T_6d8e7_row0_col4\" class=\"data row0 col4\" >nan</td>\n",
       "      <td id=\"T_6d8e7_row0_col5\" class=\"data row0 col5\" >1.745939</td>\n",
       "      <td id=\"T_6d8e7_row0_col6\" class=\"data row0 col6\" >1.745939</td>\n",
       "      <td id=\"T_6d8e7_row0_col7\" class=\"data row0 col7\" >64.000000</td>\n",
       "      <td id=\"T_6d8e7_row0_col8\" class=\"data row0 col8\" >8.000000</td>\n",
       "      <td id=\"T_6d8e7_row0_col9\" class=\"data row0 col9\" >ReLU</td>\n",
       "      <td id=\"T_6d8e7_row0_col10\" class=\"data row0 col10\" >1.321340</td>\n",
       "    </tr>\n",
       "    <tr>\n",
       "      <th id=\"T_6d8e7_level0_row1\" class=\"row_heading level0 row1\" >29</th>\n",
       "      <td id=\"T_6d8e7_row1_col0\" class=\"data row1 col0\" >17</td>\n",
       "      <td id=\"T_6d8e7_row1_col1\" class=\"data row1 col1\" >1-FTTransformerConfig</td>\n",
       "      <td id=\"T_6d8e7_row1_col2\" class=\"data row1 col2\" >nan</td>\n",
       "      <td id=\"T_6d8e7_row1_col3\" class=\"data row1 col3\" >nan</td>\n",
       "      <td id=\"T_6d8e7_row1_col4\" class=\"data row1 col4\" >nan</td>\n",
       "      <td id=\"T_6d8e7_row1_col5\" class=\"data row1 col5\" >1.771972</td>\n",
       "      <td id=\"T_6d8e7_row1_col6\" class=\"data row1 col6\" >1.771972</td>\n",
       "      <td id=\"T_6d8e7_row1_col7\" class=\"data row1 col7\" >32.000000</td>\n",
       "      <td id=\"T_6d8e7_row1_col8\" class=\"data row1 col8\" >16.000000</td>\n",
       "      <td id=\"T_6d8e7_row1_col9\" class=\"data row1 col9\" >LeakyReLU</td>\n",
       "      <td id=\"T_6d8e7_row1_col10\" class=\"data row1 col10\" >1.331154</td>\n",
       "    </tr>\n",
       "    <tr>\n",
       "      <th id=\"T_6d8e7_level0_row2\" class=\"row_heading level0 row2\" >16</th>\n",
       "      <td id=\"T_6d8e7_row2_col0\" class=\"data row2 col0\" >4</td>\n",
       "      <td id=\"T_6d8e7_row2_col1\" class=\"data row2 col1\" >1-FTTransformerConfig</td>\n",
       "      <td id=\"T_6d8e7_row2_col2\" class=\"data row2 col2\" >nan</td>\n",
       "      <td id=\"T_6d8e7_row2_col3\" class=\"data row2 col3\" >nan</td>\n",
       "      <td id=\"T_6d8e7_row2_col4\" class=\"data row2 col4\" >nan</td>\n",
       "      <td id=\"T_6d8e7_row2_col5\" class=\"data row2 col5\" >1.855196</td>\n",
       "      <td id=\"T_6d8e7_row2_col6\" class=\"data row2 col6\" >1.855196</td>\n",
       "      <td id=\"T_6d8e7_row2_col7\" class=\"data row2 col7\" >16.000000</td>\n",
       "      <td id=\"T_6d8e7_row2_col8\" class=\"data row2 col8\" >8.000000</td>\n",
       "      <td id=\"T_6d8e7_row2_col9\" class=\"data row2 col9\" >ReLU</td>\n",
       "      <td id=\"T_6d8e7_row2_col10\" class=\"data row2 col10\" >1.362056</td>\n",
       "    </tr>\n",
       "    <tr>\n",
       "      <th id=\"T_6d8e7_level0_row3\" class=\"row_heading level0 row3\" >27</th>\n",
       "      <td id=\"T_6d8e7_row3_col0\" class=\"data row3 col0\" >15</td>\n",
       "      <td id=\"T_6d8e7_row3_col1\" class=\"data row3 col1\" >1-FTTransformerConfig</td>\n",
       "      <td id=\"T_6d8e7_row3_col2\" class=\"data row3 col2\" >nan</td>\n",
       "      <td id=\"T_6d8e7_row3_col3\" class=\"data row3 col3\" >nan</td>\n",
       "      <td id=\"T_6d8e7_row3_col4\" class=\"data row3 col4\" >nan</td>\n",
       "      <td id=\"T_6d8e7_row3_col5\" class=\"data row3 col5\" >1.883513</td>\n",
       "      <td id=\"T_6d8e7_row3_col6\" class=\"data row3 col6\" >1.883513</td>\n",
       "      <td id=\"T_6d8e7_row3_col7\" class=\"data row3 col7\" >32.000000</td>\n",
       "      <td id=\"T_6d8e7_row3_col8\" class=\"data row3 col8\" >16.000000</td>\n",
       "      <td id=\"T_6d8e7_row3_col9\" class=\"data row3 col9\" >GEGLU</td>\n",
       "      <td id=\"T_6d8e7_row3_col10\" class=\"data row3 col10\" >1.372411</td>\n",
       "    </tr>\n",
       "    <tr>\n",
       "      <th id=\"T_6d8e7_level0_row4\" class=\"row_heading level0 row4\" >25</th>\n",
       "      <td id=\"T_6d8e7_row4_col0\" class=\"data row4 col0\" >13</td>\n",
       "      <td id=\"T_6d8e7_row4_col1\" class=\"data row4 col1\" >1-FTTransformerConfig</td>\n",
       "      <td id=\"T_6d8e7_row4_col2\" class=\"data row4 col2\" >nan</td>\n",
       "      <td id=\"T_6d8e7_row4_col3\" class=\"data row4 col3\" >nan</td>\n",
       "      <td id=\"T_6d8e7_row4_col4\" class=\"data row4 col4\" >nan</td>\n",
       "      <td id=\"T_6d8e7_row4_col5\" class=\"data row4 col5\" >1.971182</td>\n",
       "      <td id=\"T_6d8e7_row4_col6\" class=\"data row4 col6\" >1.971182</td>\n",
       "      <td id=\"T_6d8e7_row4_col7\" class=\"data row4 col7\" >32.000000</td>\n",
       "      <td id=\"T_6d8e7_row4_col8\" class=\"data row4 col8\" >8.000000</td>\n",
       "      <td id=\"T_6d8e7_row4_col9\" class=\"data row4 col9\" >ReLU</td>\n",
       "      <td id=\"T_6d8e7_row4_col10\" class=\"data row4 col10\" >1.403988</td>\n",
       "    </tr>\n",
       "    <tr>\n",
       "      <th id=\"T_6d8e7_level0_row5\" class=\"row_heading level0 row5\" >18</th>\n",
       "      <td id=\"T_6d8e7_row5_col0\" class=\"data row5 col0\" >6</td>\n",
       "      <td id=\"T_6d8e7_row5_col1\" class=\"data row5 col1\" >1-FTTransformerConfig</td>\n",
       "      <td id=\"T_6d8e7_row5_col2\" class=\"data row5 col2\" >nan</td>\n",
       "      <td id=\"T_6d8e7_row5_col3\" class=\"data row5 col3\" >nan</td>\n",
       "      <td id=\"T_6d8e7_row5_col4\" class=\"data row5 col4\" >nan</td>\n",
       "      <td id=\"T_6d8e7_row5_col5\" class=\"data row5 col5\" >1.986963</td>\n",
       "      <td id=\"T_6d8e7_row5_col6\" class=\"data row5 col6\" >1.986963</td>\n",
       "      <td id=\"T_6d8e7_row5_col7\" class=\"data row5 col7\" >16.000000</td>\n",
       "      <td id=\"T_6d8e7_row5_col8\" class=\"data row5 col8\" >16.000000</td>\n",
       "      <td id=\"T_6d8e7_row5_col9\" class=\"data row5 col9\" >GEGLU</td>\n",
       "      <td id=\"T_6d8e7_row5_col10\" class=\"data row5 col10\" >1.409597</td>\n",
       "    </tr>\n",
       "    <tr>\n",
       "      <th id=\"T_6d8e7_level0_row6\" class=\"row_heading level0 row6\" >26</th>\n",
       "      <td id=\"T_6d8e7_row6_col0\" class=\"data row6 col0\" >14</td>\n",
       "      <td id=\"T_6d8e7_row6_col1\" class=\"data row6 col1\" >1-FTTransformerConfig</td>\n",
       "      <td id=\"T_6d8e7_row6_col2\" class=\"data row6 col2\" >nan</td>\n",
       "      <td id=\"T_6d8e7_row6_col3\" class=\"data row6 col3\" >nan</td>\n",
       "      <td id=\"T_6d8e7_row6_col4\" class=\"data row6 col4\" >nan</td>\n",
       "      <td id=\"T_6d8e7_row6_col5\" class=\"data row6 col5\" >1.990407</td>\n",
       "      <td id=\"T_6d8e7_row6_col6\" class=\"data row6 col6\" >1.990407</td>\n",
       "      <td id=\"T_6d8e7_row6_col7\" class=\"data row6 col7\" >32.000000</td>\n",
       "      <td id=\"T_6d8e7_row6_col8\" class=\"data row6 col8\" >8.000000</td>\n",
       "      <td id=\"T_6d8e7_row6_col9\" class=\"data row6 col9\" >LeakyReLU</td>\n",
       "      <td id=\"T_6d8e7_row6_col10\" class=\"data row6 col10\" >1.410818</td>\n",
       "    </tr>\n",
       "    <tr>\n",
       "      <th id=\"T_6d8e7_level0_row7\" class=\"row_heading level0 row7\" >33</th>\n",
       "      <td id=\"T_6d8e7_row7_col0\" class=\"data row7 col0\" >21</td>\n",
       "      <td id=\"T_6d8e7_row7_col1\" class=\"data row7 col1\" >1-FTTransformerConfig</td>\n",
       "      <td id=\"T_6d8e7_row7_col2\" class=\"data row7 col2\" >nan</td>\n",
       "      <td id=\"T_6d8e7_row7_col3\" class=\"data row7 col3\" >nan</td>\n",
       "      <td id=\"T_6d8e7_row7_col4\" class=\"data row7 col4\" >nan</td>\n",
       "      <td id=\"T_6d8e7_row7_col5\" class=\"data row7 col5\" >2.033763</td>\n",
       "      <td id=\"T_6d8e7_row7_col6\" class=\"data row7 col6\" >2.033763</td>\n",
       "      <td id=\"T_6d8e7_row7_col7\" class=\"data row7 col7\" >64.000000</td>\n",
       "      <td id=\"T_6d8e7_row7_col8\" class=\"data row7 col8\" >8.000000</td>\n",
       "      <td id=\"T_6d8e7_row7_col9\" class=\"data row7 col9\" >GEGLU</td>\n",
       "      <td id=\"T_6d8e7_row7_col10\" class=\"data row7 col10\" >1.426101</td>\n",
       "    </tr>\n",
       "    <tr>\n",
       "      <th id=\"T_6d8e7_level0_row8\" class=\"row_heading level0 row8\" >20</th>\n",
       "      <td id=\"T_6d8e7_row8_col0\" class=\"data row8 col0\" >8</td>\n",
       "      <td id=\"T_6d8e7_row8_col1\" class=\"data row8 col1\" >1-FTTransformerConfig</td>\n",
       "      <td id=\"T_6d8e7_row8_col2\" class=\"data row8 col2\" >nan</td>\n",
       "      <td id=\"T_6d8e7_row8_col3\" class=\"data row8 col3\" >nan</td>\n",
       "      <td id=\"T_6d8e7_row8_col4\" class=\"data row8 col4\" >nan</td>\n",
       "      <td id=\"T_6d8e7_row8_col5\" class=\"data row8 col5\" >2.138179</td>\n",
       "      <td id=\"T_6d8e7_row8_col6\" class=\"data row8 col6\" >2.138179</td>\n",
       "      <td id=\"T_6d8e7_row8_col7\" class=\"data row8 col7\" >16.000000</td>\n",
       "      <td id=\"T_6d8e7_row8_col8\" class=\"data row8 col8\" >16.000000</td>\n",
       "      <td id=\"T_6d8e7_row8_col9\" class=\"data row8 col9\" >LeakyReLU</td>\n",
       "      <td id=\"T_6d8e7_row8_col10\" class=\"data row8 col10\" >1.462251</td>\n",
       "    </tr>\n",
       "    <tr>\n",
       "      <th id=\"T_6d8e7_level0_row9\" class=\"row_heading level0 row9\" >24</th>\n",
       "      <td id=\"T_6d8e7_row9_col0\" class=\"data row9 col0\" >12</td>\n",
       "      <td id=\"T_6d8e7_row9_col1\" class=\"data row9 col1\" >1-FTTransformerConfig</td>\n",
       "      <td id=\"T_6d8e7_row9_col2\" class=\"data row9 col2\" >nan</td>\n",
       "      <td id=\"T_6d8e7_row9_col3\" class=\"data row9 col3\" >nan</td>\n",
       "      <td id=\"T_6d8e7_row9_col4\" class=\"data row9 col4\" >nan</td>\n",
       "      <td id=\"T_6d8e7_row9_col5\" class=\"data row9 col5\" >2.178032</td>\n",
       "      <td id=\"T_6d8e7_row9_col6\" class=\"data row9 col6\" >2.178032</td>\n",
       "      <td id=\"T_6d8e7_row9_col7\" class=\"data row9 col7\" >32.000000</td>\n",
       "      <td id=\"T_6d8e7_row9_col8\" class=\"data row9 col8\" >8.000000</td>\n",
       "      <td id=\"T_6d8e7_row9_col9\" class=\"data row9 col9\" >GEGLU</td>\n",
       "      <td id=\"T_6d8e7_row9_col10\" class=\"data row9 col10\" >1.475816</td>\n",
       "    </tr>\n",
       "    <tr>\n",
       "      <th id=\"T_6d8e7_level0_row10\" class=\"row_heading level0 row10\" >21</th>\n",
       "      <td id=\"T_6d8e7_row10_col0\" class=\"data row10 col0\" >9</td>\n",
       "      <td id=\"T_6d8e7_row10_col1\" class=\"data row10 col1\" >1-FTTransformerConfig</td>\n",
       "      <td id=\"T_6d8e7_row10_col2\" class=\"data row10 col2\" >nan</td>\n",
       "      <td id=\"T_6d8e7_row10_col3\" class=\"data row10 col3\" >nan</td>\n",
       "      <td id=\"T_6d8e7_row10_col4\" class=\"data row10 col4\" >nan</td>\n",
       "      <td id=\"T_6d8e7_row10_col5\" class=\"data row10 col5\" >2.254442</td>\n",
       "      <td id=\"T_6d8e7_row10_col6\" class=\"data row10 col6\" >2.254442</td>\n",
       "      <td id=\"T_6d8e7_row10_col7\" class=\"data row10 col7\" >32.000000</td>\n",
       "      <td id=\"T_6d8e7_row10_col8\" class=\"data row10 col8\" >4.000000</td>\n",
       "      <td id=\"T_6d8e7_row10_col9\" class=\"data row10 col9\" >GEGLU</td>\n",
       "      <td id=\"T_6d8e7_row10_col10\" class=\"data row10 col10\" >1.501480</td>\n",
       "    </tr>\n",
       "    <tr>\n",
       "      <th id=\"T_6d8e7_level0_row11\" class=\"row_heading level0 row11\" >23</th>\n",
       "      <td id=\"T_6d8e7_row11_col0\" class=\"data row11 col0\" >11</td>\n",
       "      <td id=\"T_6d8e7_row11_col1\" class=\"data row11 col1\" >1-FTTransformerConfig</td>\n",
       "      <td id=\"T_6d8e7_row11_col2\" class=\"data row11 col2\" >nan</td>\n",
       "      <td id=\"T_6d8e7_row11_col3\" class=\"data row11 col3\" >nan</td>\n",
       "      <td id=\"T_6d8e7_row11_col4\" class=\"data row11 col4\" >nan</td>\n",
       "      <td id=\"T_6d8e7_row11_col5\" class=\"data row11 col5\" >2.272346</td>\n",
       "      <td id=\"T_6d8e7_row11_col6\" class=\"data row11 col6\" >2.272346</td>\n",
       "      <td id=\"T_6d8e7_row11_col7\" class=\"data row11 col7\" >32.000000</td>\n",
       "      <td id=\"T_6d8e7_row11_col8\" class=\"data row11 col8\" >4.000000</td>\n",
       "      <td id=\"T_6d8e7_row11_col9\" class=\"data row11 col9\" >LeakyReLU</td>\n",
       "      <td id=\"T_6d8e7_row11_col10\" class=\"data row11 col10\" >1.507430</td>\n",
       "    </tr>\n",
       "    <tr>\n",
       "      <th id=\"T_6d8e7_level0_row12\" class=\"row_heading level0 row12\" >13</th>\n",
       "      <td id=\"T_6d8e7_row12_col0\" class=\"data row12 col0\" >1</td>\n",
       "      <td id=\"T_6d8e7_row12_col1\" class=\"data row12 col1\" >1-FTTransformerConfig</td>\n",
       "      <td id=\"T_6d8e7_row12_col2\" class=\"data row12 col2\" >nan</td>\n",
       "      <td id=\"T_6d8e7_row12_col3\" class=\"data row12 col3\" >nan</td>\n",
       "      <td id=\"T_6d8e7_row12_col4\" class=\"data row12 col4\" >nan</td>\n",
       "      <td id=\"T_6d8e7_row12_col5\" class=\"data row12 col5\" >2.295162</td>\n",
       "      <td id=\"T_6d8e7_row12_col6\" class=\"data row12 col6\" >2.295162</td>\n",
       "      <td id=\"T_6d8e7_row12_col7\" class=\"data row12 col7\" >16.000000</td>\n",
       "      <td id=\"T_6d8e7_row12_col8\" class=\"data row12 col8\" >4.000000</td>\n",
       "      <td id=\"T_6d8e7_row12_col9\" class=\"data row12 col9\" >ReLU</td>\n",
       "      <td id=\"T_6d8e7_row12_col10\" class=\"data row12 col10\" >1.514979</td>\n",
       "    </tr>\n",
       "    <tr>\n",
       "      <th id=\"T_6d8e7_level0_row13\" class=\"row_heading level0 row13\" >0</th>\n",
       "      <td id=\"T_6d8e7_row13_col0\" class=\"data row13 col0\" >0</td>\n",
       "      <td id=\"T_6d8e7_row13_col1\" class=\"data row13 col1\" >0-GANDALFConfig</td>\n",
       "      <td id=\"T_6d8e7_row13_col2\" class=\"data row13 col2\" >0.000000</td>\n",
       "      <td id=\"T_6d8e7_row13_col3\" class=\"data row13 col3\" >6.000000</td>\n",
       "      <td id=\"T_6d8e7_row13_col4\" class=\"data row13 col4\" >Adam</td>\n",
       "      <td id=\"T_6d8e7_row13_col5\" class=\"data row13 col5\" >2.350705</td>\n",
       "      <td id=\"T_6d8e7_row13_col6\" class=\"data row13 col6\" >2.350705</td>\n",
       "      <td id=\"T_6d8e7_row13_col7\" class=\"data row13 col7\" >nan</td>\n",
       "      <td id=\"T_6d8e7_row13_col8\" class=\"data row13 col8\" >nan</td>\n",
       "      <td id=\"T_6d8e7_row13_col9\" class=\"data row13 col9\" >nan</td>\n",
       "      <td id=\"T_6d8e7_row13_col10\" class=\"data row13 col10\" >1.533201</td>\n",
       "    </tr>\n",
       "    <tr>\n",
       "      <th id=\"T_6d8e7_level0_row14\" class=\"row_heading level0 row14\" >3</th>\n",
       "      <td id=\"T_6d8e7_row14_col0\" class=\"data row14 col0\" >3</td>\n",
       "      <td id=\"T_6d8e7_row14_col1\" class=\"data row14 col1\" >0-GANDALFConfig</td>\n",
       "      <td id=\"T_6d8e7_row14_col2\" class=\"data row14 col2\" >0.000000</td>\n",
       "      <td id=\"T_6d8e7_row14_col3\" class=\"data row14 col3\" >12.000000</td>\n",
       "      <td id=\"T_6d8e7_row14_col4\" class=\"data row14 col4\" >AdamW</td>\n",
       "      <td id=\"T_6d8e7_row14_col5\" class=\"data row14 col5\" >2.509063</td>\n",
       "      <td id=\"T_6d8e7_row14_col6\" class=\"data row14 col6\" >2.509063</td>\n",
       "      <td id=\"T_6d8e7_row14_col7\" class=\"data row14 col7\" >nan</td>\n",
       "      <td id=\"T_6d8e7_row14_col8\" class=\"data row14 col8\" >nan</td>\n",
       "      <td id=\"T_6d8e7_row14_col9\" class=\"data row14 col9\" >nan</td>\n",
       "      <td id=\"T_6d8e7_row14_col10\" class=\"data row14 col10\" >1.584002</td>\n",
       "    </tr>\n",
       "    <tr>\n",
       "      <th id=\"T_6d8e7_level0_row15\" class=\"row_heading level0 row15\" >12</th>\n",
       "      <td id=\"T_6d8e7_row15_col0\" class=\"data row15 col0\" >0</td>\n",
       "      <td id=\"T_6d8e7_row15_col1\" class=\"data row15 col1\" >1-FTTransformerConfig</td>\n",
       "      <td id=\"T_6d8e7_row15_col2\" class=\"data row15 col2\" >nan</td>\n",
       "      <td id=\"T_6d8e7_row15_col3\" class=\"data row15 col3\" >nan</td>\n",
       "      <td id=\"T_6d8e7_row15_col4\" class=\"data row15 col4\" >nan</td>\n",
       "      <td id=\"T_6d8e7_row15_col5\" class=\"data row15 col5\" >2.517475</td>\n",
       "      <td id=\"T_6d8e7_row15_col6\" class=\"data row15 col6\" >2.517475</td>\n",
       "      <td id=\"T_6d8e7_row15_col7\" class=\"data row15 col7\" >16.000000</td>\n",
       "      <td id=\"T_6d8e7_row15_col8\" class=\"data row15 col8\" >4.000000</td>\n",
       "      <td id=\"T_6d8e7_row15_col9\" class=\"data row15 col9\" >GEGLU</td>\n",
       "      <td id=\"T_6d8e7_row15_col10\" class=\"data row15 col10\" >1.586655</td>\n",
       "    </tr>\n",
       "    <tr>\n",
       "      <th id=\"T_6d8e7_level0_row16\" class=\"row_heading level0 row16\" >17</th>\n",
       "      <td id=\"T_6d8e7_row16_col0\" class=\"data row16 col0\" >5</td>\n",
       "      <td id=\"T_6d8e7_row16_col1\" class=\"data row16 col1\" >1-FTTransformerConfig</td>\n",
       "      <td id=\"T_6d8e7_row16_col2\" class=\"data row16 col2\" >nan</td>\n",
       "      <td id=\"T_6d8e7_row16_col3\" class=\"data row16 col3\" >nan</td>\n",
       "      <td id=\"T_6d8e7_row16_col4\" class=\"data row16 col4\" >nan</td>\n",
       "      <td id=\"T_6d8e7_row16_col5\" class=\"data row16 col5\" >2.520051</td>\n",
       "      <td id=\"T_6d8e7_row16_col6\" class=\"data row16 col6\" >2.520051</td>\n",
       "      <td id=\"T_6d8e7_row16_col7\" class=\"data row16 col7\" >16.000000</td>\n",
       "      <td id=\"T_6d8e7_row16_col8\" class=\"data row16 col8\" >8.000000</td>\n",
       "      <td id=\"T_6d8e7_row16_col9\" class=\"data row16 col9\" >LeakyReLU</td>\n",
       "      <td id=\"T_6d8e7_row16_col10\" class=\"data row16 col10\" >1.587467</td>\n",
       "    </tr>\n",
       "    <tr>\n",
       "      <th id=\"T_6d8e7_level0_row17\" class=\"row_heading level0 row17\" >7</th>\n",
       "      <td id=\"T_6d8e7_row17_col0\" class=\"data row17 col0\" >7</td>\n",
       "      <td id=\"T_6d8e7_row17_col1\" class=\"data row17 col1\" >0-GANDALFConfig</td>\n",
       "      <td id=\"T_6d8e7_row17_col2\" class=\"data row17 col2\" >0.200000</td>\n",
       "      <td id=\"T_6d8e7_row17_col3\" class=\"data row17 col3\" >6.000000</td>\n",
       "      <td id=\"T_6d8e7_row17_col4\" class=\"data row17 col4\" >AdamW</td>\n",
       "      <td id=\"T_6d8e7_row17_col5\" class=\"data row17 col5\" >2.724367</td>\n",
       "      <td id=\"T_6d8e7_row17_col6\" class=\"data row17 col6\" >2.724367</td>\n",
       "      <td id=\"T_6d8e7_row17_col7\" class=\"data row17 col7\" >nan</td>\n",
       "      <td id=\"T_6d8e7_row17_col8\" class=\"data row17 col8\" >nan</td>\n",
       "      <td id=\"T_6d8e7_row17_col9\" class=\"data row17 col9\" >nan</td>\n",
       "      <td id=\"T_6d8e7_row17_col10\" class=\"data row17 col10\" >1.650566</td>\n",
       "    </tr>\n",
       "    <tr>\n",
       "      <th id=\"T_6d8e7_level0_row18\" class=\"row_heading level0 row18\" >8</th>\n",
       "      <td id=\"T_6d8e7_row18_col0\" class=\"data row18 col0\" >8</td>\n",
       "      <td id=\"T_6d8e7_row18_col1\" class=\"data row18 col1\" >0-GANDALFConfig</td>\n",
       "      <td id=\"T_6d8e7_row18_col2\" class=\"data row18 col2\" >0.200000</td>\n",
       "      <td id=\"T_6d8e7_row18_col3\" class=\"data row18 col3\" >12.000000</td>\n",
       "      <td id=\"T_6d8e7_row18_col4\" class=\"data row18 col4\" >Adam</td>\n",
       "      <td id=\"T_6d8e7_row18_col5\" class=\"data row18 col5\" >3.102047</td>\n",
       "      <td id=\"T_6d8e7_row18_col6\" class=\"data row18 col6\" >3.102047</td>\n",
       "      <td id=\"T_6d8e7_row18_col7\" class=\"data row18 col7\" >nan</td>\n",
       "      <td id=\"T_6d8e7_row18_col8\" class=\"data row18 col8\" >nan</td>\n",
       "      <td id=\"T_6d8e7_row18_col9\" class=\"data row18 col9\" >nan</td>\n",
       "      <td id=\"T_6d8e7_row18_col10\" class=\"data row18 col10\" >1.761263</td>\n",
       "    </tr>\n",
       "    <tr>\n",
       "      <th id=\"T_6d8e7_level0_row19\" class=\"row_heading level0 row19\" >5</th>\n",
       "      <td id=\"T_6d8e7_row19_col0\" class=\"data row19 col0\" >5</td>\n",
       "      <td id=\"T_6d8e7_row19_col1\" class=\"data row19 col1\" >0-GANDALFConfig</td>\n",
       "      <td id=\"T_6d8e7_row19_col2\" class=\"data row19 col2\" >0.000000</td>\n",
       "      <td id=\"T_6d8e7_row19_col3\" class=\"data row19 col3\" >15.000000</td>\n",
       "      <td id=\"T_6d8e7_row19_col4\" class=\"data row19 col4\" >AdamW</td>\n",
       "      <td id=\"T_6d8e7_row19_col5\" class=\"data row19 col5\" >3.828311</td>\n",
       "      <td id=\"T_6d8e7_row19_col6\" class=\"data row19 col6\" >3.828311</td>\n",
       "      <td id=\"T_6d8e7_row19_col7\" class=\"data row19 col7\" >nan</td>\n",
       "      <td id=\"T_6d8e7_row19_col8\" class=\"data row19 col8\" >nan</td>\n",
       "      <td id=\"T_6d8e7_row19_col9\" class=\"data row19 col9\" >nan</td>\n",
       "      <td id=\"T_6d8e7_row19_col10\" class=\"data row19 col10\" >1.956607</td>\n",
       "    </tr>\n",
       "    <tr>\n",
       "      <th id=\"T_6d8e7_level0_row20\" class=\"row_heading level0 row20\" >6</th>\n",
       "      <td id=\"T_6d8e7_row20_col0\" class=\"data row20 col0\" >6</td>\n",
       "      <td id=\"T_6d8e7_row20_col1\" class=\"data row20 col1\" >0-GANDALFConfig</td>\n",
       "      <td id=\"T_6d8e7_row20_col2\" class=\"data row20 col2\" >0.200000</td>\n",
       "      <td id=\"T_6d8e7_row20_col3\" class=\"data row20 col3\" >6.000000</td>\n",
       "      <td id=\"T_6d8e7_row20_col4\" class=\"data row20 col4\" >Adam</td>\n",
       "      <td id=\"T_6d8e7_row20_col5\" class=\"data row20 col5\" >4.665592</td>\n",
       "      <td id=\"T_6d8e7_row20_col6\" class=\"data row20 col6\" >4.665592</td>\n",
       "      <td id=\"T_6d8e7_row20_col7\" class=\"data row20 col7\" >nan</td>\n",
       "      <td id=\"T_6d8e7_row20_col8\" class=\"data row20 col8\" >nan</td>\n",
       "      <td id=\"T_6d8e7_row20_col9\" class=\"data row20 col9\" >nan</td>\n",
       "      <td id=\"T_6d8e7_row20_col10\" class=\"data row20 col10\" >2.159998</td>\n",
       "    </tr>\n",
       "    <tr>\n",
       "      <th id=\"T_6d8e7_level0_row21\" class=\"row_heading level0 row21\" >10</th>\n",
       "      <td id=\"T_6d8e7_row21_col0\" class=\"data row21 col0\" >10</td>\n",
       "      <td id=\"T_6d8e7_row21_col1\" class=\"data row21 col1\" >0-GANDALFConfig</td>\n",
       "      <td id=\"T_6d8e7_row21_col2\" class=\"data row21 col2\" >0.200000</td>\n",
       "      <td id=\"T_6d8e7_row21_col3\" class=\"data row21 col3\" >15.000000</td>\n",
       "      <td id=\"T_6d8e7_row21_col4\" class=\"data row21 col4\" >Adam</td>\n",
       "      <td id=\"T_6d8e7_row21_col5\" class=\"data row21 col5\" >5.131917</td>\n",
       "      <td id=\"T_6d8e7_row21_col6\" class=\"data row21 col6\" >5.131917</td>\n",
       "      <td id=\"T_6d8e7_row21_col7\" class=\"data row21 col7\" >nan</td>\n",
       "      <td id=\"T_6d8e7_row21_col8\" class=\"data row21 col8\" >nan</td>\n",
       "      <td id=\"T_6d8e7_row21_col9\" class=\"data row21 col9\" >nan</td>\n",
       "      <td id=\"T_6d8e7_row21_col10\" class=\"data row21 col10\" >2.265373</td>\n",
       "    </tr>\n",
       "    <tr>\n",
       "      <th id=\"T_6d8e7_level0_row22\" class=\"row_heading level0 row22\" >11</th>\n",
       "      <td id=\"T_6d8e7_row22_col0\" class=\"data row22 col0\" >11</td>\n",
       "      <td id=\"T_6d8e7_row22_col1\" class=\"data row22 col1\" >0-GANDALFConfig</td>\n",
       "      <td id=\"T_6d8e7_row22_col2\" class=\"data row22 col2\" >0.200000</td>\n",
       "      <td id=\"T_6d8e7_row22_col3\" class=\"data row22 col3\" >15.000000</td>\n",
       "      <td id=\"T_6d8e7_row22_col4\" class=\"data row22 col4\" >AdamW</td>\n",
       "      <td id=\"T_6d8e7_row22_col5\" class=\"data row22 col5\" >6.068521</td>\n",
       "      <td id=\"T_6d8e7_row22_col6\" class=\"data row22 col6\" >6.068521</td>\n",
       "      <td id=\"T_6d8e7_row22_col7\" class=\"data row22 col7\" >nan</td>\n",
       "      <td id=\"T_6d8e7_row22_col8\" class=\"data row22 col8\" >nan</td>\n",
       "      <td id=\"T_6d8e7_row22_col9\" class=\"data row22 col9\" >nan</td>\n",
       "      <td id=\"T_6d8e7_row22_col10\" class=\"data row22 col10\" >2.463437</td>\n",
       "    </tr>\n",
       "    <tr>\n",
       "      <th id=\"T_6d8e7_level0_row23\" class=\"row_heading level0 row23\" >38</th>\n",
       "      <td id=\"T_6d8e7_row23_col0\" class=\"data row23 col0\" >26</td>\n",
       "      <td id=\"T_6d8e7_row23_col1\" class=\"data row23 col1\" >1-FTTransformerConfig</td>\n",
       "      <td id=\"T_6d8e7_row23_col2\" class=\"data row23 col2\" >nan</td>\n",
       "      <td id=\"T_6d8e7_row23_col3\" class=\"data row23 col3\" >nan</td>\n",
       "      <td id=\"T_6d8e7_row23_col4\" class=\"data row23 col4\" >nan</td>\n",
       "      <td id=\"T_6d8e7_row23_col5\" class=\"data row23 col5\" >9.904928</td>\n",
       "      <td id=\"T_6d8e7_row23_col6\" class=\"data row23 col6\" >9.904928</td>\n",
       "      <td id=\"T_6d8e7_row23_col7\" class=\"data row23 col7\" >64.000000</td>\n",
       "      <td id=\"T_6d8e7_row23_col8\" class=\"data row23 col8\" >16.000000</td>\n",
       "      <td id=\"T_6d8e7_row23_col9\" class=\"data row23 col9\" >LeakyReLU</td>\n",
       "      <td id=\"T_6d8e7_row23_col10\" class=\"data row23 col10\" >3.147210</td>\n",
       "    </tr>\n",
       "    <tr>\n",
       "      <th id=\"T_6d8e7_level0_row24\" class=\"row_heading level0 row24\" >31</th>\n",
       "      <td id=\"T_6d8e7_row24_col0\" class=\"data row24 col0\" >19</td>\n",
       "      <td id=\"T_6d8e7_row24_col1\" class=\"data row24 col1\" >1-FTTransformerConfig</td>\n",
       "      <td id=\"T_6d8e7_row24_col2\" class=\"data row24 col2\" >nan</td>\n",
       "      <td id=\"T_6d8e7_row24_col3\" class=\"data row24 col3\" >nan</td>\n",
       "      <td id=\"T_6d8e7_row24_col4\" class=\"data row24 col4\" >nan</td>\n",
       "      <td id=\"T_6d8e7_row24_col5\" class=\"data row24 col5\" >13.730345</td>\n",
       "      <td id=\"T_6d8e7_row24_col6\" class=\"data row24 col6\" >13.730345</td>\n",
       "      <td id=\"T_6d8e7_row24_col7\" class=\"data row24 col7\" >64.000000</td>\n",
       "      <td id=\"T_6d8e7_row24_col8\" class=\"data row24 col8\" >4.000000</td>\n",
       "      <td id=\"T_6d8e7_row24_col9\" class=\"data row24 col9\" >ReLU</td>\n",
       "      <td id=\"T_6d8e7_row24_col10\" class=\"data row24 col10\" >3.705448</td>\n",
       "    </tr>\n",
       "    <tr>\n",
       "      <th id=\"T_6d8e7_level0_row25\" class=\"row_heading level0 row25\" >37</th>\n",
       "      <td id=\"T_6d8e7_row25_col0\" class=\"data row25 col0\" >25</td>\n",
       "      <td id=\"T_6d8e7_row25_col1\" class=\"data row25 col1\" >1-FTTransformerConfig</td>\n",
       "      <td id=\"T_6d8e7_row25_col2\" class=\"data row25 col2\" >nan</td>\n",
       "      <td id=\"T_6d8e7_row25_col3\" class=\"data row25 col3\" >nan</td>\n",
       "      <td id=\"T_6d8e7_row25_col4\" class=\"data row25 col4\" >nan</td>\n",
       "      <td id=\"T_6d8e7_row25_col5\" class=\"data row25 col5\" >15.936339</td>\n",
       "      <td id=\"T_6d8e7_row25_col6\" class=\"data row25 col6\" >15.936339</td>\n",
       "      <td id=\"T_6d8e7_row25_col7\" class=\"data row25 col7\" >64.000000</td>\n",
       "      <td id=\"T_6d8e7_row25_col8\" class=\"data row25 col8\" >16.000000</td>\n",
       "      <td id=\"T_6d8e7_row25_col9\" class=\"data row25 col9\" >ReLU</td>\n",
       "      <td id=\"T_6d8e7_row25_col10\" class=\"data row25 col10\" >3.992034</td>\n",
       "    </tr>\n",
       "    <tr>\n",
       "      <th id=\"T_6d8e7_level0_row26\" class=\"row_heading level0 row26\" >36</th>\n",
       "      <td id=\"T_6d8e7_row26_col0\" class=\"data row26 col0\" >24</td>\n",
       "      <td id=\"T_6d8e7_row26_col1\" class=\"data row26 col1\" >1-FTTransformerConfig</td>\n",
       "      <td id=\"T_6d8e7_row26_col2\" class=\"data row26 col2\" >nan</td>\n",
       "      <td id=\"T_6d8e7_row26_col3\" class=\"data row26 col3\" >nan</td>\n",
       "      <td id=\"T_6d8e7_row26_col4\" class=\"data row26 col4\" >nan</td>\n",
       "      <td id=\"T_6d8e7_row26_col5\" class=\"data row26 col5\" >17.210039</td>\n",
       "      <td id=\"T_6d8e7_row26_col6\" class=\"data row26 col6\" >17.210039</td>\n",
       "      <td id=\"T_6d8e7_row26_col7\" class=\"data row26 col7\" >64.000000</td>\n",
       "      <td id=\"T_6d8e7_row26_col8\" class=\"data row26 col8\" >16.000000</td>\n",
       "      <td id=\"T_6d8e7_row26_col9\" class=\"data row26 col9\" >GEGLU</td>\n",
       "      <td id=\"T_6d8e7_row26_col10\" class=\"data row26 col10\" >4.148498</td>\n",
       "    </tr>\n",
       "    <tr>\n",
       "      <th id=\"T_6d8e7_level0_row27\" class=\"row_heading level0 row27\" >32</th>\n",
       "      <td id=\"T_6d8e7_row27_col0\" class=\"data row27 col0\" >20</td>\n",
       "      <td id=\"T_6d8e7_row27_col1\" class=\"data row27 col1\" >1-FTTransformerConfig</td>\n",
       "      <td id=\"T_6d8e7_row27_col2\" class=\"data row27 col2\" >nan</td>\n",
       "      <td id=\"T_6d8e7_row27_col3\" class=\"data row27 col3\" >nan</td>\n",
       "      <td id=\"T_6d8e7_row27_col4\" class=\"data row27 col4\" >nan</td>\n",
       "      <td id=\"T_6d8e7_row27_col5\" class=\"data row27 col5\" >17.967880</td>\n",
       "      <td id=\"T_6d8e7_row27_col6\" class=\"data row27 col6\" >17.967880</td>\n",
       "      <td id=\"T_6d8e7_row27_col7\" class=\"data row27 col7\" >64.000000</td>\n",
       "      <td id=\"T_6d8e7_row27_col8\" class=\"data row27 col8\" >4.000000</td>\n",
       "      <td id=\"T_6d8e7_row27_col9\" class=\"data row27 col9\" >LeakyReLU</td>\n",
       "      <td id=\"T_6d8e7_row27_col10\" class=\"data row27 col10\" >4.238854</td>\n",
       "    </tr>\n",
       "    <tr>\n",
       "      <th id=\"T_6d8e7_level0_row28\" class=\"row_heading level0 row28\" >35</th>\n",
       "      <td id=\"T_6d8e7_row28_col0\" class=\"data row28 col0\" >23</td>\n",
       "      <td id=\"T_6d8e7_row28_col1\" class=\"data row28 col1\" >1-FTTransformerConfig</td>\n",
       "      <td id=\"T_6d8e7_row28_col2\" class=\"data row28 col2\" >nan</td>\n",
       "      <td id=\"T_6d8e7_row28_col3\" class=\"data row28 col3\" >nan</td>\n",
       "      <td id=\"T_6d8e7_row28_col4\" class=\"data row28 col4\" >nan</td>\n",
       "      <td id=\"T_6d8e7_row28_col5\" class=\"data row28 col5\" >18.560051</td>\n",
       "      <td id=\"T_6d8e7_row28_col6\" class=\"data row28 col6\" >18.560051</td>\n",
       "      <td id=\"T_6d8e7_row28_col7\" class=\"data row28 col7\" >64.000000</td>\n",
       "      <td id=\"T_6d8e7_row28_col8\" class=\"data row28 col8\" >8.000000</td>\n",
       "      <td id=\"T_6d8e7_row28_col9\" class=\"data row28 col9\" >LeakyReLU</td>\n",
       "      <td id=\"T_6d8e7_row28_col10\" class=\"data row28 col10\" >4.308138</td>\n",
       "    </tr>\n",
       "    <tr>\n",
       "      <th id=\"T_6d8e7_level0_row29\" class=\"row_heading level0 row29\" >19</th>\n",
       "      <td id=\"T_6d8e7_row29_col0\" class=\"data row29 col0\" >7</td>\n",
       "      <td id=\"T_6d8e7_row29_col1\" class=\"data row29 col1\" >1-FTTransformerConfig</td>\n",
       "      <td id=\"T_6d8e7_row29_col2\" class=\"data row29 col2\" >nan</td>\n",
       "      <td id=\"T_6d8e7_row29_col3\" class=\"data row29 col3\" >nan</td>\n",
       "      <td id=\"T_6d8e7_row29_col4\" class=\"data row29 col4\" >nan</td>\n",
       "      <td id=\"T_6d8e7_row29_col5\" class=\"data row29 col5\" >20.853201</td>\n",
       "      <td id=\"T_6d8e7_row29_col6\" class=\"data row29 col6\" >20.853201</td>\n",
       "      <td id=\"T_6d8e7_row29_col7\" class=\"data row29 col7\" >16.000000</td>\n",
       "      <td id=\"T_6d8e7_row29_col8\" class=\"data row29 col8\" >16.000000</td>\n",
       "      <td id=\"T_6d8e7_row29_col9\" class=\"data row29 col9\" >ReLU</td>\n",
       "      <td id=\"T_6d8e7_row29_col10\" class=\"data row29 col10\" >4.566531</td>\n",
       "    </tr>\n",
       "    <tr>\n",
       "      <th id=\"T_6d8e7_level0_row30\" class=\"row_heading level0 row30\" >30</th>\n",
       "      <td id=\"T_6d8e7_row30_col0\" class=\"data row30 col0\" >18</td>\n",
       "      <td id=\"T_6d8e7_row30_col1\" class=\"data row30 col1\" >1-FTTransformerConfig</td>\n",
       "      <td id=\"T_6d8e7_row30_col2\" class=\"data row30 col2\" >nan</td>\n",
       "      <td id=\"T_6d8e7_row30_col3\" class=\"data row30 col3\" >nan</td>\n",
       "      <td id=\"T_6d8e7_row30_col4\" class=\"data row30 col4\" >nan</td>\n",
       "      <td id=\"T_6d8e7_row30_col5\" class=\"data row30 col5\" >21.195005</td>\n",
       "      <td id=\"T_6d8e7_row30_col6\" class=\"data row30 col6\" >21.195005</td>\n",
       "      <td id=\"T_6d8e7_row30_col7\" class=\"data row30 col7\" >64.000000</td>\n",
       "      <td id=\"T_6d8e7_row30_col8\" class=\"data row30 col8\" >4.000000</td>\n",
       "      <td id=\"T_6d8e7_row30_col9\" class=\"data row30 col9\" >GEGLU</td>\n",
       "      <td id=\"T_6d8e7_row30_col10\" class=\"data row30 col10\" >4.603803</td>\n",
       "    </tr>\n",
       "    <tr>\n",
       "      <th id=\"T_6d8e7_level0_row31\" class=\"row_heading level0 row31\" >1</th>\n",
       "      <td id=\"T_6d8e7_row31_col0\" class=\"data row31 col0\" >1</td>\n",
       "      <td id=\"T_6d8e7_row31_col1\" class=\"data row31 col1\" >0-GANDALFConfig</td>\n",
       "      <td id=\"T_6d8e7_row31_col2\" class=\"data row31 col2\" >0.000000</td>\n",
       "      <td id=\"T_6d8e7_row31_col3\" class=\"data row31 col3\" >6.000000</td>\n",
       "      <td id=\"T_6d8e7_row31_col4\" class=\"data row31 col4\" >AdamW</td>\n",
       "      <td id=\"T_6d8e7_row31_col5\" class=\"data row31 col5\" >21.803761</td>\n",
       "      <td id=\"T_6d8e7_row31_col6\" class=\"data row31 col6\" >21.803761</td>\n",
       "      <td id=\"T_6d8e7_row31_col7\" class=\"data row31 col7\" >nan</td>\n",
       "      <td id=\"T_6d8e7_row31_col8\" class=\"data row31 col8\" >nan</td>\n",
       "      <td id=\"T_6d8e7_row31_col9\" class=\"data row31 col9\" >nan</td>\n",
       "      <td id=\"T_6d8e7_row31_col10\" class=\"data row31 col10\" >4.669450</td>\n",
       "    </tr>\n",
       "    <tr>\n",
       "      <th id=\"T_6d8e7_level0_row32\" class=\"row_heading level0 row32\" >22</th>\n",
       "      <td id=\"T_6d8e7_row32_col0\" class=\"data row32 col0\" >10</td>\n",
       "      <td id=\"T_6d8e7_row32_col1\" class=\"data row32 col1\" >1-FTTransformerConfig</td>\n",
       "      <td id=\"T_6d8e7_row32_col2\" class=\"data row32 col2\" >nan</td>\n",
       "      <td id=\"T_6d8e7_row32_col3\" class=\"data row32 col3\" >nan</td>\n",
       "      <td id=\"T_6d8e7_row32_col4\" class=\"data row32 col4\" >nan</td>\n",
       "      <td id=\"T_6d8e7_row32_col5\" class=\"data row32 col5\" >21.897381</td>\n",
       "      <td id=\"T_6d8e7_row32_col6\" class=\"data row32 col6\" >21.897381</td>\n",
       "      <td id=\"T_6d8e7_row32_col7\" class=\"data row32 col7\" >32.000000</td>\n",
       "      <td id=\"T_6d8e7_row32_col8\" class=\"data row32 col8\" >4.000000</td>\n",
       "      <td id=\"T_6d8e7_row32_col9\" class=\"data row32 col9\" >ReLU</td>\n",
       "      <td id=\"T_6d8e7_row32_col10\" class=\"data row32 col10\" >4.679464</td>\n",
       "    </tr>\n",
       "    <tr>\n",
       "      <th id=\"T_6d8e7_level0_row33\" class=\"row_heading level0 row33\" >14</th>\n",
       "      <td id=\"T_6d8e7_row33_col0\" class=\"data row33 col0\" >2</td>\n",
       "      <td id=\"T_6d8e7_row33_col1\" class=\"data row33 col1\" >1-FTTransformerConfig</td>\n",
       "      <td id=\"T_6d8e7_row33_col2\" class=\"data row33 col2\" >nan</td>\n",
       "      <td id=\"T_6d8e7_row33_col3\" class=\"data row33 col3\" >nan</td>\n",
       "      <td id=\"T_6d8e7_row33_col4\" class=\"data row33 col4\" >nan</td>\n",
       "      <td id=\"T_6d8e7_row33_col5\" class=\"data row33 col5\" >21.948515</td>\n",
       "      <td id=\"T_6d8e7_row33_col6\" class=\"data row33 col6\" >21.948515</td>\n",
       "      <td id=\"T_6d8e7_row33_col7\" class=\"data row33 col7\" >16.000000</td>\n",
       "      <td id=\"T_6d8e7_row33_col8\" class=\"data row33 col8\" >4.000000</td>\n",
       "      <td id=\"T_6d8e7_row33_col9\" class=\"data row33 col9\" >LeakyReLU</td>\n",
       "      <td id=\"T_6d8e7_row33_col10\" class=\"data row33 col10\" >4.684924</td>\n",
       "    </tr>\n",
       "    <tr>\n",
       "      <th id=\"T_6d8e7_level0_row34\" class=\"row_heading level0 row34\" >15</th>\n",
       "      <td id=\"T_6d8e7_row34_col0\" class=\"data row34 col0\" >3</td>\n",
       "      <td id=\"T_6d8e7_row34_col1\" class=\"data row34 col1\" >1-FTTransformerConfig</td>\n",
       "      <td id=\"T_6d8e7_row34_col2\" class=\"data row34 col2\" >nan</td>\n",
       "      <td id=\"T_6d8e7_row34_col3\" class=\"data row34 col3\" >nan</td>\n",
       "      <td id=\"T_6d8e7_row34_col4\" class=\"data row34 col4\" >nan</td>\n",
       "      <td id=\"T_6d8e7_row34_col5\" class=\"data row34 col5\" >22.008091</td>\n",
       "      <td id=\"T_6d8e7_row34_col6\" class=\"data row34 col6\" >22.008091</td>\n",
       "      <td id=\"T_6d8e7_row34_col7\" class=\"data row34 col7\" >16.000000</td>\n",
       "      <td id=\"T_6d8e7_row34_col8\" class=\"data row34 col8\" >8.000000</td>\n",
       "      <td id=\"T_6d8e7_row34_col9\" class=\"data row34 col9\" >GEGLU</td>\n",
       "      <td id=\"T_6d8e7_row34_col10\" class=\"data row34 col10\" >4.691278</td>\n",
       "    </tr>\n",
       "    <tr>\n",
       "      <th id=\"T_6d8e7_level0_row35\" class=\"row_heading level0 row35\" >9</th>\n",
       "      <td id=\"T_6d8e7_row35_col0\" class=\"data row35 col0\" >9</td>\n",
       "      <td id=\"T_6d8e7_row35_col1\" class=\"data row35 col1\" >0-GANDALFConfig</td>\n",
       "      <td id=\"T_6d8e7_row35_col2\" class=\"data row35 col2\" >0.200000</td>\n",
       "      <td id=\"T_6d8e7_row35_col3\" class=\"data row35 col3\" >12.000000</td>\n",
       "      <td id=\"T_6d8e7_row35_col4\" class=\"data row35 col4\" >AdamW</td>\n",
       "      <td id=\"T_6d8e7_row35_col5\" class=\"data row35 col5\" >22.039240</td>\n",
       "      <td id=\"T_6d8e7_row35_col6\" class=\"data row35 col6\" >22.039240</td>\n",
       "      <td id=\"T_6d8e7_row35_col7\" class=\"data row35 col7\" >nan</td>\n",
       "      <td id=\"T_6d8e7_row35_col8\" class=\"data row35 col8\" >nan</td>\n",
       "      <td id=\"T_6d8e7_row35_col9\" class=\"data row35 col9\" >nan</td>\n",
       "      <td id=\"T_6d8e7_row35_col10\" class=\"data row35 col10\" >4.694597</td>\n",
       "    </tr>\n",
       "    <tr>\n",
       "      <th id=\"T_6d8e7_level0_row36\" class=\"row_heading level0 row36\" >2</th>\n",
       "      <td id=\"T_6d8e7_row36_col0\" class=\"data row36 col0\" >2</td>\n",
       "      <td id=\"T_6d8e7_row36_col1\" class=\"data row36 col1\" >0-GANDALFConfig</td>\n",
       "      <td id=\"T_6d8e7_row36_col2\" class=\"data row36 col2\" >0.000000</td>\n",
       "      <td id=\"T_6d8e7_row36_col3\" class=\"data row36 col3\" >12.000000</td>\n",
       "      <td id=\"T_6d8e7_row36_col4\" class=\"data row36 col4\" >Adam</td>\n",
       "      <td id=\"T_6d8e7_row36_col5\" class=\"data row36 col5\" >22.296280</td>\n",
       "      <td id=\"T_6d8e7_row36_col6\" class=\"data row36 col6\" >22.296280</td>\n",
       "      <td id=\"T_6d8e7_row36_col7\" class=\"data row36 col7\" >nan</td>\n",
       "      <td id=\"T_6d8e7_row36_col8\" class=\"data row36 col8\" >nan</td>\n",
       "      <td id=\"T_6d8e7_row36_col9\" class=\"data row36 col9\" >nan</td>\n",
       "      <td id=\"T_6d8e7_row36_col10\" class=\"data row36 col10\" >4.721894</td>\n",
       "    </tr>\n",
       "    <tr>\n",
       "      <th id=\"T_6d8e7_level0_row37\" class=\"row_heading level0 row37\" >4</th>\n",
       "      <td id=\"T_6d8e7_row37_col0\" class=\"data row37 col0\" >4</td>\n",
       "      <td id=\"T_6d8e7_row37_col1\" class=\"data row37 col1\" >0-GANDALFConfig</td>\n",
       "      <td id=\"T_6d8e7_row37_col2\" class=\"data row37 col2\" >0.000000</td>\n",
       "      <td id=\"T_6d8e7_row37_col3\" class=\"data row37 col3\" >15.000000</td>\n",
       "      <td id=\"T_6d8e7_row37_col4\" class=\"data row37 col4\" >Adam</td>\n",
       "      <td id=\"T_6d8e7_row37_col5\" class=\"data row37 col5\" >22.320740</td>\n",
       "      <td id=\"T_6d8e7_row37_col6\" class=\"data row37 col6\" >22.320740</td>\n",
       "      <td id=\"T_6d8e7_row37_col7\" class=\"data row37 col7\" >nan</td>\n",
       "      <td id=\"T_6d8e7_row37_col8\" class=\"data row37 col8\" >nan</td>\n",
       "      <td id=\"T_6d8e7_row37_col9\" class=\"data row37 col9\" >nan</td>\n",
       "      <td id=\"T_6d8e7_row37_col10\" class=\"data row37 col10\" >4.724483</td>\n",
       "    </tr>\n",
       "    <tr>\n",
       "      <th id=\"T_6d8e7_level0_row38\" class=\"row_heading level0 row38\" >28</th>\n",
       "      <td id=\"T_6d8e7_row38_col0\" class=\"data row38 col0\" >16</td>\n",
       "      <td id=\"T_6d8e7_row38_col1\" class=\"data row38 col1\" >1-FTTransformerConfig</td>\n",
       "      <td id=\"T_6d8e7_row38_col2\" class=\"data row38 col2\" >nan</td>\n",
       "      <td id=\"T_6d8e7_row38_col3\" class=\"data row38 col3\" >nan</td>\n",
       "      <td id=\"T_6d8e7_row38_col4\" class=\"data row38 col4\" >nan</td>\n",
       "      <td id=\"T_6d8e7_row38_col5\" class=\"data row38 col5\" >23.891380</td>\n",
       "      <td id=\"T_6d8e7_row38_col6\" class=\"data row38 col6\" >23.891380</td>\n",
       "      <td id=\"T_6d8e7_row38_col7\" class=\"data row38 col7\" >32.000000</td>\n",
       "      <td id=\"T_6d8e7_row38_col8\" class=\"data row38 col8\" >16.000000</td>\n",
       "      <td id=\"T_6d8e7_row38_col9\" class=\"data row38 col9\" >ReLU</td>\n",
       "      <td id=\"T_6d8e7_row38_col10\" class=\"data row38 col10\" >4.887881</td>\n",
       "    </tr>\n",
       "  </tbody>\n",
       "</table>\n"
      ],
      "text/plain": [
       "<pandas.io.formats.style.Styler at 0x74abd6c1f010>"
      ]
     },
     "execution_count": 25,
     "metadata": {},
     "output_type": "execute_result"
    }
   ],
   "source": [
    "if model_type == 'regressor':\n",
    "    tuner_df.trials_df['test_rmse'] = np.sqrt(tuner_df.trials_df['mean_squared_error'])\n",
    "\n",
    "tuner_df.trials_df.sort_values('accuracy' if model_type == 'classifier' else 'loss', ascending=False if model_type == 'classifier' else True).style.background_gradient(\n",
    "    subset=['accuracy' if model_type == 'classifier' else 'loss'], cmap='RdYlGn'\n",
    ").background_gradient(subset=['loss'], cmap='RdYlGn_r')"
   ]
  },
  {
   "cell_type": "code",
   "execution_count": 26,
   "id": "ce42d06c-2825-41b5-8aef-45592e63b125",
   "metadata": {},
   "outputs": [
    {
     "data": {
      "text/html": [
       "<pre style=\"white-space:pre;overflow-x:auto;line-height:normal;font-family:Menlo,'DejaVu Sans Mono',consolas,'Courier New',monospace\">┏━━━━━━━━━━━━━━━━━━━━━━━━━━━┳━━━━━━━━━━━━━━━━━━━━━━━━━━━┓\n",
       "┃<span style=\"font-weight: bold\">        Test metric        </span>┃<span style=\"font-weight: bold\">       DataLoader 0        </span>┃\n",
       "┡━━━━━━━━━━━━━━━━━━━━━━━━━━━╇━━━━━━━━━━━━━━━━━━━━━━━━━━━┩\n",
       "│<span style=\"color: #008080; text-decoration-color: #008080\">         test_loss         </span>│<span style=\"color: #800080; text-decoration-color: #800080\">    1.7459391355514526     </span>│\n",
       "│<span style=\"color: #008080; text-decoration-color: #008080\">  test_mean_squared_error  </span>│<span style=\"color: #800080; text-decoration-color: #800080\">    1.7459391355514526     </span>│\n",
       "└───────────────────────────┴───────────────────────────┘\n",
       "</pre>\n"
      ],
      "text/plain": [
       "┏━━━━━━━━━━━━━━━━━━━━━━━━━━━┳━━━━━━━━━━━━━━━━━━━━━━━━━━━┓\n",
       "┃\u001b[1m \u001b[0m\u001b[1m       Test metric       \u001b[0m\u001b[1m \u001b[0m┃\u001b[1m \u001b[0m\u001b[1m      DataLoader 0       \u001b[0m\u001b[1m \u001b[0m┃\n",
       "┡━━━━━━━━━━━━━━━━━━━━━━━━━━━╇━━━━━━━━━━━━━━━━━━━━━━━━━━━┩\n",
       "│\u001b[36m \u001b[0m\u001b[36m        test_loss        \u001b[0m\u001b[36m \u001b[0m│\u001b[35m \u001b[0m\u001b[35m   1.7459391355514526    \u001b[0m\u001b[35m \u001b[0m│\n",
       "│\u001b[36m \u001b[0m\u001b[36m test_mean_squared_error \u001b[0m\u001b[36m \u001b[0m│\u001b[35m \u001b[0m\u001b[35m   1.7459391355514526    \u001b[0m\u001b[35m \u001b[0m│\n",
       "└───────────────────────────┴───────────────────────────┘\n"
      ]
     },
     "metadata": {},
     "output_type": "display_data"
    },
    {
     "data": {
      "text/plain": [
       "[{'test_loss': 1.7459391355514526,\n",
       "  'test_mean_squared_error': 1.7459391355514526}]"
      ]
     },
     "execution_count": 26,
     "metadata": {},
     "output_type": "execute_result"
    }
   ],
   "source": [
    "tuner_df.best_model.evaluate(test)"
   ]
  },
  {
   "cell_type": "markdown",
   "id": "469ada1e-32bf-45fa-94a1-d8b96976cadd",
   "metadata": {},
   "source": [
    "### Save Model"
   ]
  },
  {
   "cell_type": "code",
   "execution_count": 27,
   "id": "5c6a3a42-831a-499c-afe0-18b4a3796e14",
   "metadata": {},
   "outputs": [
    {
     "data": {
      "text/html": [
       "<pre style=\"white-space:pre;overflow-x:auto;line-height:normal;font-family:Menlo,'DejaVu Sans Mono',consolas,'Courier New',monospace\"><span style=\"color: #008080; text-decoration-color: #008080; font-weight: bold\">2025</span>-<span style=\"color: #008080; text-decoration-color: #008080; font-weight: bold\">02</span>-<span style=\"color: #008080; text-decoration-color: #008080; font-weight: bold\">23</span> <span style=\"color: #00ff00; text-decoration-color: #00ff00; font-weight: bold\">09:37:23</span>,<span style=\"color: #008080; text-decoration-color: #008080; font-weight: bold\">685</span> - <span style=\"font-weight: bold\">{</span>pytorch_tabular.tabular_model:<span style=\"color: #008080; text-decoration-color: #008080; font-weight: bold\">1575</span><span style=\"font-weight: bold\">}</span> - WARNING - Directory is not empty. Overwriting the \n",
       "contents.                                                                                                          \n",
       "</pre>\n"
      ],
      "text/plain": [
       "\u001b[1;36m2025\u001b[0m-\u001b[1;36m02\u001b[0m-\u001b[1;36m23\u001b[0m \u001b[1;92m09:37:23\u001b[0m,\u001b[1;36m685\u001b[0m - \u001b[1m{\u001b[0mpytorch_tabular.tabular_model:\u001b[1;36m1575\u001b[0m\u001b[1m}\u001b[0m - WARNING - Directory is not empty. Overwriting the \n",
       "contents.                                                                                                          \n"
      ]
     },
     "metadata": {},
     "output_type": "display_data"
    }
   ],
   "source": [
    "tuner_df.best_model.save_model('results/best_model_tuner_pytorch_tabular', inference_only=True)\n",
    "\n",
    "# Save columns names and informations\n",
    "data_to_save = {\n",
    "    'col_names_order': col_names_order,\n",
    "    'num_col_names': num_col_names,\n",
    "    'cat_col_names': cat_col_names,\n",
    "    'date_col_names': date_col_names,\n",
    "    'target_cols': target_cols,\n",
    "    'category_mappings': category_mappings,\n",
    "    'window_size': window_size\n",
    "}\n",
    "with open('results/columns_metadata_tuner_pytorch_tabular.json', 'w') as json_file:\n",
    "    json.dump(data_to_save, json_file, indent=4)"
   ]
  },
  {
   "cell_type": "markdown",
   "id": "ac33e785-fd8d-49ef-a218-cbb4c230926b",
   "metadata": {},
   "source": [
    "## Predict\n",
    "Precisar estar no formato DataFrame do Pandas com os nomes das colunas que participaram do treinamento para passar para o modelo fazer inferência."
   ]
  },
  {
   "cell_type": "code",
   "execution_count": 28,
   "id": "492b39f6-c227-42b3-9d90-0454b4ff2702",
   "metadata": {},
   "outputs": [],
   "source": [
    "import time\n",
    "import json\n",
    "import pickle\n",
    "\n",
    "import pandas as pd\n",
    "from pytorch_tabular import TabularModel"
   ]
  },
  {
   "cell_type": "code",
   "execution_count": 29,
   "id": "b435d08f-dfaf-4245-b90e-62aeab0170bc",
   "metadata": {},
   "outputs": [
    {
     "data": {
      "text/html": [
       "<pre style=\"white-space:pre;overflow-x:auto;line-height:normal;font-family:Menlo,'DejaVu Sans Mono',consolas,'Courier New',monospace\"><span style=\"color: #008080; text-decoration-color: #008080; font-weight: bold\">2025</span>-<span style=\"color: #008080; text-decoration-color: #008080; font-weight: bold\">02</span>-<span style=\"color: #008080; text-decoration-color: #008080; font-weight: bold\">23</span> <span style=\"color: #00ff00; text-decoration-color: #00ff00; font-weight: bold\">09:37:31</span>,<span style=\"color: #008080; text-decoration-color: #008080; font-weight: bold\">594</span> - <span style=\"font-weight: bold\">{</span>pytorch_tabular.tabular_model:<span style=\"color: #008080; text-decoration-color: #008080; font-weight: bold\">171</span><span style=\"font-weight: bold\">}</span> - INFO - Experiment Tracking is turned off           \n",
       "</pre>\n"
      ],
      "text/plain": [
       "\u001b[1;36m2025\u001b[0m-\u001b[1;36m02\u001b[0m-\u001b[1;36m23\u001b[0m \u001b[1;92m09:37:31\u001b[0m,\u001b[1;36m594\u001b[0m - \u001b[1m{\u001b[0mpytorch_tabular.tabular_model:\u001b[1;36m171\u001b[0m\u001b[1m}\u001b[0m - INFO - Experiment Tracking is turned off           \n"
      ]
     },
     "metadata": {},
     "output_type": "display_data"
    },
    {
     "data": {
      "text/html": [
       "<pre style=\"white-space:pre;overflow-x:auto;line-height:normal;font-family:Menlo,'DejaVu Sans Mono',consolas,'Courier New',monospace\"><span style=\"color: #008080; text-decoration-color: #008080; font-weight: bold\">2025</span>-<span style=\"color: #008080; text-decoration-color: #008080; font-weight: bold\">02</span>-<span style=\"color: #008080; text-decoration-color: #008080; font-weight: bold\">23</span> <span style=\"color: #00ff00; text-decoration-color: #00ff00; font-weight: bold\">09:37:31</span>,<span style=\"color: #008080; text-decoration-color: #008080; font-weight: bold\">596</span> - <span style=\"font-weight: bold\">{</span>pytorch_tabular.tabular_model:<span style=\"color: #008080; text-decoration-color: #008080; font-weight: bold\">342</span><span style=\"font-weight: bold\">}</span> - INFO - Preparing the Trainer                       \n",
       "</pre>\n"
      ],
      "text/plain": [
       "\u001b[1;36m2025\u001b[0m-\u001b[1;36m02\u001b[0m-\u001b[1;36m23\u001b[0m \u001b[1;92m09:37:31\u001b[0m,\u001b[1;36m596\u001b[0m - \u001b[1m{\u001b[0mpytorch_tabular.tabular_model:\u001b[1;36m342\u001b[0m\u001b[1m}\u001b[0m - INFO - Preparing the Trainer                       \n"
      ]
     },
     "metadata": {},
     "output_type": "display_data"
    }
   ],
   "source": [
    "loaded_model = TabularModel.load_model('results/best_model_tuner_pytorch_tabular')\n",
    "\n",
    "# columns_metadata\n",
    "columns_metadata = json.load(open('results/columns_metadata_tuner_pytorch_tabular.json', 'r'))"
   ]
  },
  {
   "cell_type": "code",
   "execution_count": 30,
   "id": "2a175d2a-3751-4f41-b636-7571d0fb0b05",
   "metadata": {},
   "outputs": [],
   "source": [
    "def preprocess_inference_data(new_input, columns_metadata, scaler=None):\n",
    "    \"\"\"\n",
    "    Preprocess the input data for inference based on metadata and scaler for numeric normalization.\n",
    "\n",
    "    Args:\n",
    "        new_input (list of list): Data to preprocess (each inner list is a row).\n",
    "        columns_metadata (dict): Metadata defining column names, types, mappings, and order.\n",
    "        scaler (StandardScaler): Trained scaler for numerical columns.\n",
    "    \n",
    "    Returns:\n",
    "        list: Preprocessed data ready for inference.\n",
    "    \"\"\"\n",
    "    # Exclude target columns from col_names_order for inference\n",
    "    target_cols = columns_metadata['target_cols']\n",
    "    col_names_order = [col for col in columns_metadata['col_names_order'] if col not in target_cols]\n",
    "    # Transform the new_input into a DataFrame with the correct column order\n",
    "    df_input = pd.DataFrame(new_input, columns=col_names_order)\n",
    "\n",
    "    # Convert categorical columns based on category_mappings\n",
    "    category_mappings = columns_metadata['category_mappings']\n",
    "    for col in columns_metadata['cat_col_names']:\n",
    "        if col in df_input.columns and col in category_mappings:\n",
    "            # Replace string categories with mapped integer IDs\n",
    "            df_input[col] = df_input[col].map(category_mappings[col])\n",
    "            if df_input[col].isnull().any():\n",
    "                raise ValueError(f'Invalid value found in column \"{col}\" that is not in the category mappings.')\n",
    "\n",
    "    # Normalize numeric columns using the trained scaler\n",
    "    num_col_names = columns_metadata['num_col_names']\n",
    "    if num_col_names and scaler:\n",
    "        df_input[num_col_names] = scaler.transform(df_input[num_col_names])\n",
    "\n",
    "    # Ensure date columns are in the correct datetime format\n",
    "    for col in columns_metadata['date_col_names']:\n",
    "        if col in df_input.columns:\n",
    "            df_input[col] = pd.to_datetime(df_input[col], errors='coerce')\n",
    "            if df_input[col].isnull().any():\n",
    "                raise ValueError(f'Invalid date value found in column \"{col}\".')\n",
    "\n",
    "    # Drop target columns if they exist in the input (not used in inference)\n",
    "    target_cols = columns_metadata['target_cols']\n",
    "    df_input = df_input.drop(columns=target_cols, errors='ignore')\n",
    "\n",
    "    # Convert DataFrame to list of rows for model inference\n",
    "    #processed_data = df_input.values.tolist()\n",
    "\n",
    "    return df_input"
   ]
  },
  {
   "cell_type": "code",
   "execution_count": 31,
   "id": "66ba333b-12ec-4b67-900d-174386a0fc73",
   "metadata": {
    "scrolled": true
   },
   "outputs": [
    {
     "data": {
      "text/html": [
       "<div>\n",
       "<style scoped>\n",
       "    .dataframe tbody tr th:only-of-type {\n",
       "        vertical-align: middle;\n",
       "    }\n",
       "\n",
       "    .dataframe tbody tr th {\n",
       "        vertical-align: top;\n",
       "    }\n",
       "\n",
       "    .dataframe thead th {\n",
       "        text-align: right;\n",
       "    }\n",
       "</style>\n",
       "<table border=\"1\" class=\"dataframe\">\n",
       "  <thead>\n",
       "    <tr style=\"text-align: right;\">\n",
       "      <th></th>\n",
       "      <th>feature_1</th>\n",
       "      <th>feature_2</th>\n",
       "      <th>feature_3</th>\n",
       "      <th>feature_4</th>\n",
       "      <th>feature_5</th>\n",
       "      <th>feature_6</th>\n",
       "      <th>feature_7</th>\n",
       "      <th>feature_8</th>\n",
       "    </tr>\n",
       "  </thead>\n",
       "  <tbody>\n",
       "    <tr>\n",
       "      <th>0</th>\n",
       "      <td>66.770774</td>\n",
       "      <td>0</td>\n",
       "      <td>129.519443</td>\n",
       "      <td>157.649826</td>\n",
       "      <td>6.255495</td>\n",
       "      <td>0.828523</td>\n",
       "      <td>1.1</td>\n",
       "      <td>0.656228</td>\n",
       "    </tr>\n",
       "  </tbody>\n",
       "</table>\n",
       "</div>"
      ],
      "text/plain": [
       "   feature_1  feature_2   feature_3   feature_4  feature_5  feature_6  \\\n",
       "0  66.770774          0  129.519443  157.649826   6.255495   0.828523   \n",
       "\n",
       "   feature_7  feature_8  \n",
       "0        1.1   0.656228  "
      ]
     },
     "execution_count": 31,
     "metadata": {},
     "output_type": "execute_result"
    }
   ],
   "source": [
    "new_input = [\n",
    "    [66.770774, 'A', 129.519443, 157.649826, 6.255495, 0.828523, 1.10, 0.656228]  # target 2.432088\n",
    "]\n",
    "new_input_preprocessed = preprocess_inference_data(new_input, columns_metadata)\n",
    "new_input_preprocessed"
   ]
  },
  {
   "cell_type": "code",
   "execution_count": 32,
   "id": "90591595-704f-4ccb-9b5f-7bb9045a4f82",
   "metadata": {},
   "outputs": [],
   "source": [
    "target = columns_metadata['target_cols'][0]\n",
    "clss_to_cat = {}\n",
    "if target in columns_metadata['category_mappings']:\n",
    "    for key, value in columns_metadata['category_mappings'][target].items():\n",
    "        clss_to_cat[value] = key"
   ]
  },
  {
   "cell_type": "code",
   "execution_count": 34,
   "id": "c4f33da5-9543-4263-8637-80f491d7a14e",
   "metadata": {},
   "outputs": [
    {
     "name": "stdout",
     "output_type": "stream",
     "text": [
      "   target_prediction\n",
      "0           2.666698\n",
      "Total time: 0.10388064384460449\n"
     ]
    }
   ],
   "source": [
    "tic = time.time()\n",
    "result = loaded_model.predict(new_input_preprocessed)\n",
    "if clss_to_cat:\n",
    "    result = clss_to_cat[result[0]]\n",
    "print(result)\n",
    "print(f'Total time: {time.time() - tic}')"
   ]
  }
 ],
 "metadata": {
  "kernelspec": {
   "display_name": "Python 3 (ipykernel)",
   "language": "python",
   "name": "python3"
  },
  "language_info": {
   "codemirror_mode": {
    "name": "ipython",
    "version": 3
   },
   "file_extension": ".py",
   "mimetype": "text/x-python",
   "name": "python",
   "nbconvert_exporter": "python",
   "pygments_lexer": "ipython3",
   "version": "3.10.13"
  }
 },
 "nbformat": 4,
 "nbformat_minor": 5
}
