{
 "cells": [
  {
   "cell_type": "markdown",
   "id": "bbab0916-5eca-48ac-ab1f-24cf9e0a26e1",
   "metadata": {},
   "source": [
    "# Pytorch Tabular\n",
    "Notebook pensando para facilitar e agiliar o treinamento de Deep Learning, sendo necessário, em grande parte das vezes, somente alterar o caminho do dataset e o tipo (classificador ou regressão). Assim como, quais arquiteturas serão utilizado para buscar os melhores hiperparâmetros."
   ]
  },
  {
   "cell_type": "code",
   "execution_count": 1,
   "id": "dab7ad7e-a0eb-440c-8de0-0b7339e55a49",
   "metadata": {},
   "outputs": [],
   "source": [
    "import warnings\n",
    "warnings.filterwarnings('ignore')\n",
    "\n",
    "import time\n",
    "import math\n",
    "import json\n",
    "\n",
    "import numpy as np\n",
    "import pandas as pd\n",
    "from sklearn.preprocessing import LabelEncoder\n",
    "\n",
    "# Pytorch Tabular\n",
    "from pytorch_tabular.config import (\n",
    "    DataConfig,\n",
    "    OptimizerConfig,\n",
    "    TrainerConfig,\n",
    ")"
   ]
  },
  {
   "cell_type": "markdown",
   "id": "ab280318-1eb7-470e-80d2-d62cffda931a",
   "metadata": {},
   "source": [
    "## Preparar Dataset"
   ]
  },
  {
   "cell_type": "code",
   "execution_count": 2,
   "id": "faa6c036-d86a-473a-8df0-b160a6ad90ba",
   "metadata": {},
   "outputs": [],
   "source": [
    "def preprocess_data(df, target_cols, max_unique_values=10, window_size=1):\n",
    "    \"\"\"\n",
    "    Preprocess dataset, converting string columns to number and identifying numeric, categorical, and date columns.\n",
    "    Adds a window of historical rows to the data.\n",
    "\n",
    "    Args:\n",
    "        df (DataFrame): DataFrame with data to analyze.\n",
    "        target_cols (list): All target columns to not add in numeric, categorical, or date feature lists.\n",
    "        max_unique_values (int): Maximum number of unique values to consider a numeric column as categorical.\n",
    "        window_size (int): Number of previous rows to include for each row.\n",
    "\n",
    "    Returns:\n",
    "        df_copy (DataFrame): Processed DataFrame with transformations applied.\n",
    "        num_col_names (list): List of numeric feature column names.\n",
    "        cat_col_names (list): List of categorical feature column names.\n",
    "        date_col_names (list): List of date feature column names.\n",
    "        mappings (dict): Mapping of original categorical values (or target columns) to transformed numeric values.\n",
    "    \"\"\"\n",
    "    # Create a copy so as not to alter the original DataFrame\n",
    "    df_copy = df.copy()\n",
    "\n",
    "    # Remove lines with null values\n",
    "    df_copy = df_copy.dropna()\n",
    "    \n",
    "    # Identify categorical and numeric columns\n",
    "    cat_col_names = df_copy.select_dtypes(include=['object', 'category']).columns.tolist()\n",
    "    num_col_names = df_copy.select_dtypes(include=['number']).columns.tolist()\n",
    "    date_col_names = []\n",
    "\n",
    "    # Identify columns that are dates\n",
    "    for col in df.columns:\n",
    "        if df[col].dtype in ['object', 'string']:  # Only check object/string columns\n",
    "            try:\n",
    "                # Attempt to convert the column to datetime\n",
    "                pd.to_datetime(df[col], errors='raise')\n",
    "                if col not in target_cols:  # Avoid considering target columns as date columns\n",
    "                    date_col_names.append(col)\n",
    "            except (ValueError, TypeError):\n",
    "                pass\n",
    "\n",
    "    # Identify numeric columns that are categorical\n",
    "    potential_categorical = []\n",
    "    for col in num_col_names:\n",
    "        if col not in target_cols and df_copy[col].nunique() <= max_unique_values:\n",
    "            potential_categorical.append(col)\n",
    "\n",
    "    cat_col_names += potential_categorical\n",
    "\n",
    "    # Remove target columns from the lists\n",
    "    num_col_names = [col for col in num_col_names if col not in potential_categorical + target_cols]\n",
    "    cat_col_names = [col for col in cat_col_names if col not in target_cols]\n",
    "    \n",
    "    mappings = {}\n",
    "    label_encoders = {}\n",
    "\n",
    "    # Convert string columns to category and create a mapping (old value -> new value)\n",
    "    for col in cat_col_names + target_cols:\n",
    "        if df_copy[col].dtype not in ['int64', 'float64']:\n",
    "            le = LabelEncoder()\n",
    "            df_copy[col] = le.fit_transform(df_copy[col])\n",
    "            mappings[col] = dict(zip(le.classes_, le.transform(le.classes_)))\n",
    "            label_encoders[col] = le\n",
    "            # Convert values to int (otherwise will raise error if save as json)\n",
    "            for key, value in mappings[col].items():\n",
    "                mappings[col][key] = int(value)\n",
    "        #else:\n",
    "        #    mappings[col] = {int(val): int(val) for val in df_copy[col].unique()}\n",
    "\n",
    "    # Add historical data based on window_size\n",
    "    if window_size > 1:\n",
    "        historical_features = []\n",
    "        for i in range(window_size - 1, 0, -1):  # Criar features lag, do mais antigo ao mais recente\n",
    "            shifted = df_copy.drop(columns=target_cols, errors='ignore').shift(i).add_suffix(f'_lag_{i}')\n",
    "            historical_features.append(shifted)\n",
    "        \n",
    "        # Concatenate the lags to the left and keep the current values\n",
    "        df_copy = pd.concat(historical_features + [df_copy], axis=1)\n",
    "    \n",
    "        # Remove NaNs columns created by shifts\n",
    "        df_copy = df_copy.dropna()\n",
    "    \n",
    "        # Add lags\n",
    "        num_col_lags = [f'{col}_lag_{i}' for i in range(window_size - 1, 0, -1) for col in num_col_names]\n",
    "        cat_col_lags = [f'{col}_lag_{i}' for i in range(window_size - 1, 0, -1) for col in cat_col_names]\n",
    "        date_col_lags = [f'{col}_lag_{i}' for i in range(window_size - 1, 0, -1) for col in date_col_names]\n",
    "        mappings_lags = {}\n",
    "        for col, value in mappings.items():\n",
    "            for i in range(window_size - 1, 0, -1):\n",
    "                mappings_lags[f'{col}_lag_{i}'] = value\n",
    "    \n",
    "        # Update main columns + lags columns\n",
    "        num_col_names = num_col_lags + num_col_names\n",
    "        cat_col_names = cat_col_lags + cat_col_names\n",
    "        date_col_names = date_col_lags + date_col_names\n",
    "        mappings = {**mappings_lags, **mappings}\n",
    "    \n",
    "    return df_copy, num_col_names, cat_col_names, date_col_names, mappings"
   ]
  },
  {
   "cell_type": "code",
   "execution_count": 3,
   "id": "185745e3-eb7c-4ea9-8c1a-b5aa6fa71b8e",
   "metadata": {},
   "outputs": [
    {
     "data": {
      "text/html": [
       "<div>\n",
       "<style scoped>\n",
       "    .dataframe tbody tr th:only-of-type {\n",
       "        vertical-align: middle;\n",
       "    }\n",
       "\n",
       "    .dataframe tbody tr th {\n",
       "        vertical-align: top;\n",
       "    }\n",
       "\n",
       "    .dataframe thead th {\n",
       "        text-align: right;\n",
       "    }\n",
       "</style>\n",
       "<table border=\"1\" class=\"dataframe\">\n",
       "  <thead>\n",
       "    <tr style=\"text-align: right;\">\n",
       "      <th></th>\n",
       "      <th>feature_1</th>\n",
       "      <th>feature_2</th>\n",
       "      <th>feature_3</th>\n",
       "      <th>feature_4</th>\n",
       "      <th>feature_5</th>\n",
       "      <th>feature_6</th>\n",
       "      <th>feature_7</th>\n",
       "      <th>feature_8</th>\n",
       "      <th>target</th>\n",
       "    </tr>\n",
       "  </thead>\n",
       "  <tbody>\n",
       "    <tr>\n",
       "      <th>0</th>\n",
       "      <td>66.770774</td>\n",
       "      <td>A</td>\n",
       "      <td>129.519443</td>\n",
       "      <td>157.649826</td>\n",
       "      <td>6.255495</td>\n",
       "      <td>0.828523</td>\n",
       "      <td>1.10</td>\n",
       "      <td>0.656228</td>\n",
       "      <td>type_4</td>\n",
       "    </tr>\n",
       "    <tr>\n",
       "      <th>1</th>\n",
       "      <td>-2.221535</td>\n",
       "      <td>E</td>\n",
       "      <td>140.304091</td>\n",
       "      <td>216.744647</td>\n",
       "      <td>5.713914</td>\n",
       "      <td>0.355732</td>\n",
       "      <td>1.20</td>\n",
       "      <td>0.698121</td>\n",
       "      <td>type_3</td>\n",
       "    </tr>\n",
       "    <tr>\n",
       "      <th>2</th>\n",
       "      <td>77.488190</td>\n",
       "      <td>A</td>\n",
       "      <td>166.952399</td>\n",
       "      <td>312.938945</td>\n",
       "      <td>5.267239</td>\n",
       "      <td>0.960411</td>\n",
       "      <td>1.10</td>\n",
       "      <td>0.957005</td>\n",
       "      <td>type_5</td>\n",
       "    </tr>\n",
       "    <tr>\n",
       "      <th>3</th>\n",
       "      <td>57.321113</td>\n",
       "      <td>E</td>\n",
       "      <td>88.365298</td>\n",
       "      <td>89.727234</td>\n",
       "      <td>6.706377</td>\n",
       "      <td>-0.895494</td>\n",
       "      <td>1.20</td>\n",
       "      <td>0.757337</td>\n",
       "      <td>type_3</td>\n",
       "    </tr>\n",
       "    <tr>\n",
       "      <th>4</th>\n",
       "      <td>36.569191</td>\n",
       "      <td>D</td>\n",
       "      <td>143.379356</td>\n",
       "      <td>118.911115</td>\n",
       "      <td>6.242576</td>\n",
       "      <td>1.525309</td>\n",
       "      <td>0.95</td>\n",
       "      <td>0.965473</td>\n",
       "      <td>type_4</td>\n",
       "    </tr>\n",
       "    <tr>\n",
       "      <th>...</th>\n",
       "      <td>...</td>\n",
       "      <td>...</td>\n",
       "      <td>...</td>\n",
       "      <td>...</td>\n",
       "      <td>...</td>\n",
       "      <td>...</td>\n",
       "      <td>...</td>\n",
       "      <td>...</td>\n",
       "      <td>...</td>\n",
       "    </tr>\n",
       "    <tr>\n",
       "      <th>995</th>\n",
       "      <td>103.368938</td>\n",
       "      <td>B</td>\n",
       "      <td>186.348599</td>\n",
       "      <td>86.930012</td>\n",
       "      <td>5.304516</td>\n",
       "      <td>1.636305</td>\n",
       "      <td>0.90</td>\n",
       "      <td>0.837241</td>\n",
       "      <td>type_5</td>\n",
       "    </tr>\n",
       "    <tr>\n",
       "      <th>996</th>\n",
       "      <td>90.724062</td>\n",
       "      <td>C</td>\n",
       "      <td>105.858206</td>\n",
       "      <td>332.872938</td>\n",
       "      <td>7.254402</td>\n",
       "      <td>-0.141445</td>\n",
       "      <td>1.05</td>\n",
       "      <td>0.663071</td>\n",
       "      <td>type_5</td>\n",
       "    </tr>\n",
       "    <tr>\n",
       "      <th>997</th>\n",
       "      <td>93.945082</td>\n",
       "      <td>C</td>\n",
       "      <td>96.920963</td>\n",
       "      <td>134.339603</td>\n",
       "      <td>6.679430</td>\n",
       "      <td>-0.193135</td>\n",
       "      <td>1.05</td>\n",
       "      <td>0.985183</td>\n",
       "      <td>type_5</td>\n",
       "    </tr>\n",
       "    <tr>\n",
       "      <th>998</th>\n",
       "      <td>49.022551</td>\n",
       "      <td>C</td>\n",
       "      <td>141.195125</td>\n",
       "      <td>138.956040</td>\n",
       "      <td>6.623024</td>\n",
       "      <td>-1.847212</td>\n",
       "      <td>1.05</td>\n",
       "      <td>0.718735</td>\n",
       "      <td>type_3</td>\n",
       "    </tr>\n",
       "    <tr>\n",
       "      <th>999</th>\n",
       "      <td>65.396854</td>\n",
       "      <td>C</td>\n",
       "      <td>169.895414</td>\n",
       "      <td>205.841059</td>\n",
       "      <td>4.312114</td>\n",
       "      <td>-0.040263</td>\n",
       "      <td>1.05</td>\n",
       "      <td>0.999962</td>\n",
       "      <td>type_5</td>\n",
       "    </tr>\n",
       "  </tbody>\n",
       "</table>\n",
       "<p>1000 rows × 9 columns</p>\n",
       "</div>"
      ],
      "text/plain": [
       "      feature_1 feature_2   feature_3   feature_4  feature_5  feature_6  \\\n",
       "0     66.770774         A  129.519443  157.649826   6.255495   0.828523   \n",
       "1     -2.221535         E  140.304091  216.744647   5.713914   0.355732   \n",
       "2     77.488190         A  166.952399  312.938945   5.267239   0.960411   \n",
       "3     57.321113         E   88.365298   89.727234   6.706377  -0.895494   \n",
       "4     36.569191         D  143.379356  118.911115   6.242576   1.525309   \n",
       "..          ...       ...         ...         ...        ...        ...   \n",
       "995  103.368938         B  186.348599   86.930012   5.304516   1.636305   \n",
       "996   90.724062         C  105.858206  332.872938   7.254402  -0.141445   \n",
       "997   93.945082         C   96.920963  134.339603   6.679430  -0.193135   \n",
       "998   49.022551         C  141.195125  138.956040   6.623024  -1.847212   \n",
       "999   65.396854         C  169.895414  205.841059   4.312114  -0.040263   \n",
       "\n",
       "     feature_7  feature_8  target  \n",
       "0         1.10   0.656228  type_4  \n",
       "1         1.20   0.698121  type_3  \n",
       "2         1.10   0.957005  type_5  \n",
       "3         1.20   0.757337  type_3  \n",
       "4         0.95   0.965473  type_4  \n",
       "..         ...        ...     ...  \n",
       "995       0.90   0.837241  type_5  \n",
       "996       1.05   0.663071  type_5  \n",
       "997       1.05   0.985183  type_5  \n",
       "998       1.05   0.718735  type_3  \n",
       "999       1.05   0.999962  type_5  \n",
       "\n",
       "[1000 rows x 9 columns]"
      ]
     },
     "execution_count": 3,
     "metadata": {},
     "output_type": "execute_result"
    }
   ],
   "source": [
    "df = pd.read_csv('dataset/synthetic_dataset_cat_1000.csv')\n",
    "model_type = 'classifier'  # classifier or regressor\n",
    "window_size = 1\n",
    "df"
   ]
  },
  {
   "cell_type": "code",
   "execution_count": 4,
   "id": "fd4af25a-5c0d-4143-b60c-e18881e93762",
   "metadata": {},
   "outputs": [],
   "source": [
    "target_cols = ['target']\n",
    "# Aplicar o pré-processamento\n",
    "df, num_col_names, cat_col_names, date_col_names, category_mappings = preprocess_data(df, target_cols, max_unique_values=10, window_size=window_size)\n",
    "col_names_order = df.columns.tolist()"
   ]
  },
  {
   "cell_type": "code",
   "execution_count": 5,
   "id": "37152cec-0231-4811-bb10-c942991209c1",
   "metadata": {},
   "outputs": [
    {
     "name": "stdout",
     "output_type": "stream",
     "text": [
      "col_names_order: ['feature_1', 'feature_2', 'feature_3', 'feature_4', 'feature_5', 'feature_6', 'feature_7', 'feature_8', 'target']\n",
      "num_col_names: ['feature_1', 'feature_3', 'feature_4', 'feature_5', 'feature_6', 'feature_8']\n",
      "cat_col_names: ['feature_2', 'feature_7']\n",
      "date_col_names: []\n",
      "target_cols: ['target']\n",
      "category_mappings: {'feature_2': {'A': 0, 'B': 1, 'C': 2, 'D': 3, 'E': 4, 'F': 5}, 'target': {'type_1': 0, 'type_2': 1, 'type_3': 2, 'type_4': 3, 'type_5': 4}}\n"
     ]
    }
   ],
   "source": [
    "print(f'''col_names_order: {col_names_order}\n",
    "num_col_names: {num_col_names}\n",
    "cat_col_names: {cat_col_names}\n",
    "date_col_names: {date_col_names}\n",
    "target_cols: {target_cols}\n",
    "category_mappings: {category_mappings}''')"
   ]
  },
  {
   "cell_type": "code",
   "execution_count": 6,
   "id": "4fcc2805-978c-4a48-8cb4-88cf8ab4f80b",
   "metadata": {},
   "outputs": [
    {
     "name": "stdout",
     "output_type": "stream",
     "text": [
      "<class 'pandas.core.frame.DataFrame'>\n",
      "Index: 999 entries, 0 to 999\n",
      "Data columns (total 9 columns):\n",
      " #   Column     Non-Null Count  Dtype  \n",
      "---  ------     --------------  -----  \n",
      " 0   feature_1  999 non-null    float64\n",
      " 1   feature_2  999 non-null    int64  \n",
      " 2   feature_3  999 non-null    float64\n",
      " 3   feature_4  999 non-null    float64\n",
      " 4   feature_5  999 non-null    float64\n",
      " 5   feature_6  999 non-null    float64\n",
      " 6   feature_7  999 non-null    float64\n",
      " 7   feature_8  999 non-null    float64\n",
      " 8   target     999 non-null    int64  \n",
      "dtypes: float64(7), int64(2)\n",
      "memory usage: 78.0 KB\n"
     ]
    }
   ],
   "source": [
    "df.info()"
   ]
  },
  {
   "cell_type": "code",
   "execution_count": 7,
   "id": "948fbfed-100e-4c72-9e82-7dca8b0f6575",
   "metadata": {},
   "outputs": [
    {
     "name": "stdout",
     "output_type": "stream",
     "text": [
      "target\n",
      "0         200\n",
      "1         200\n",
      "2         200\n",
      "3         200\n",
      "4         199\n",
      "Name: count, dtype: int64\n"
     ]
    }
   ],
   "source": [
    "if model_type == 'classifier':\n",
    "    print(df[target_cols].value_counts())"
   ]
  },
  {
   "cell_type": "markdown",
   "id": "42eaf0f8-86ce-424c-a7fe-5e0ae5dc3312",
   "metadata": {},
   "source": [
    "### Dataset Splitting"
   ]
  },
  {
   "cell_type": "code",
   "execution_count": 8,
   "id": "8859f571-d656-4a56-ad06-dcf37e01591c",
   "metadata": {},
   "outputs": [],
   "source": [
    "from sklearn.model_selection import train_test_split\n",
    "\n",
    "train, valid = train_test_split(df, random_state=42, test_size=0.3)\n",
    "#valid, test = train_test_split(valid, random_state=42, test_size=0.5)\n",
    "test = valid"
   ]
  },
  {
   "cell_type": "markdown",
   "id": "b4b94ab7-3a7a-4ae2-a16f-766d4c9e79fe",
   "metadata": {},
   "source": [
    "## Train Pytorch Tabular\n",
    "https://github.com/manujosephv/pytorch_tabular"
   ]
  },
  {
   "cell_type": "markdown",
   "id": "2a76926f-2ee1-440a-a617-6cabf2d6e719",
   "metadata": {},
   "source": [
    "### Preparar Configurações"
   ]
  },
  {
   "cell_type": "markdown",
   "id": "d6274514-85d6-4844-9634-e9bba6392ccf",
   "metadata": {},
   "source": [
    "No [DataConfig](https://pytorch-tabular.readthedocs.io/en/latest/data/#pytorch_tabular.config.DataConfig) estão as configurações do dataset, contendo as coluna no DataFrame Pandas que é o \"target\" (valor que será previsto), colunas que possuem dados continuos e de dados categóricos. Além de outras configurações que podem ser alteradas."
   ]
  },
  {
   "cell_type": "code",
   "execution_count": 9,
   "id": "98368c66-7982-4e8a-b8e8-11119ad56100",
   "metadata": {},
   "outputs": [],
   "source": [
    "data_config = DataConfig(\n",
    "    target=target_cols,  # target should always be a list. Multi-targets are only supported for regression. Multi-Task Classification is not implemented\n",
    "    continuous_cols=num_col_names,  # Column names of the numeric fields\n",
    "    categorical_cols=cat_col_names,  # Column names of the categorical fields\n",
    "    date_columns=date_col_names,  # (Column name, Freq, Format) tuples of the date fields. E.g. [(\"date\", \"M\", %Y-%m')]. freq = https://pandas.pydata.org/pandas-docs/stable/user_guide/timeseries.html#offset-aliases\n",
    "    normalize_continuous_features=True, # Flag to normalize the input features (continuous). Default True\n",
    "    num_workers=4\n",
    ")"
   ]
  },
  {
   "cell_type": "markdown",
   "id": "899beb41-8b8c-48ab-b6d7-2b57c46b6a93",
   "metadata": {},
   "source": [
    "No [TrainerConfig](https://pytorch-tabular.readthedocs.io/en/latest/training/#using-the-entire-pytorch-lightning-trainer) estão as configurações de treinamento, incluindo quais métricas iremos utilizar para avaliar o modelo e criar os checkpoints\n",
    "\n",
    "No [OptimizerConfig](https://pytorch-tabular.readthedocs.io/en/latest/optimizer/#pytorch_tabular.config.OptimizerConfig) estão as configurações do otimizado que será utilizador, sendo inclusive possível alterar seus parâmetros."
   ]
  },
  {
   "cell_type": "code",
   "execution_count": 10,
   "id": "e805d0ae-0948-4750-b60a-cb6021a91e71",
   "metadata": {},
   "outputs": [],
   "source": [
    "trainer_config = TrainerConfig(\n",
    "    auto_lr_find=True,  # Runs the LRFinder to automatically derive a learning rate. Default False\n",
    "    batch_size=64,\n",
    "    max_epochs=300,\n",
    "    min_epochs=50,\n",
    "    early_stopping='valid_accuracy' if model_type == 'classifier' else 'valid_loss', # Monitor for early stopping. valid_loss or valid_accuracy\n",
    "    early_stopping_mode = 'max' if model_type == 'classifier' else 'min', # Set the mode as min for val_loss (lower is better) and max for val_accuracy (higher is better)\n",
    "    early_stopping_patience=20, # No. of epochs of degradation training will wait before terminating\n",
    "    checkpoints='valid_accuracy' if model_type == 'classifier' else 'valid_loss', # Save best checkpoint monitoring\n",
    "    checkpoints_mode='max' if model_type == 'classifier' else 'min',  # Set the mode as min for valid_loss (lower is better) and max for valid_accuracy (higher is better)\n",
    ")\n",
    "\n",
    "optimizer_config = OptimizerConfig(\n",
    "    #optimizer='RMSprop',  # https://pytorch.org/docs/stable/optim.html#algorithms\n",
    "    #optimizer_params={'alpha': 0.99},\n",
    "    #lr_scheduler='StepLR',\n",
    "    #lr_scheduler_params={'step_size': 10},\n",
    ")"
   ]
  },
  {
   "cell_type": "markdown",
   "id": "4affc056-9d08-4931-8c23-fcd032525c04",
   "metadata": {},
   "source": [
    "## Train Many Models\n",
    "Entre tantas alternativas é difícil saber qual a melhora arquitetura utilizar, sem falar que muitas vezes uma arquitetura tem um desempenho muito bom em determinado assunto/dataset, mas isso não se mostra verdade entre outro cenário, dificultando escolher qual utilizar.\n",
    "\n",
    "Para ajudar nesse dilema o Pytorch Tabular possui a função [model_sweep](https://pytorch-tabular.readthedocs.io/en/latest/apidocs_coreclasses/#pytorch_tabular.model_sweep) que roda todas as arquiteturas com os hiperpâmetros padrões e seu resultado consiste no comparativo entre todos eles. Dessa forma sabemos em qual/quais arquiteturas devemos investir mais tempo para buscar melhorar seus hiperparâmetros.\n",
    "\n",
    "Vamos rodar a categoria \"high_memory\" que irá treinar todos modelos, inclusive os que utilizam bastante memória. Mas não se preocupe, se a memória não for suficiente a biblioteca irá ignorar o modelo e na tabela de resultados irá informar que não tinha memória suficiente (OOM). Ressaltando que pode ser interessante ter um batch_size pequeno para conseguir treinar todos os modelos sem resultar em OOM, ou rodar o modelo específico que deu OOM depois isoladamente com o batch_size que for suficiente :)."
   ]
  },
  {
   "cell_type": "code",
   "execution_count": 11,
   "id": "9b3cda33-ff13-44b1-a1f6-7dd8b96f8027",
   "metadata": {},
   "outputs": [],
   "source": [
    "from pytorch_tabular import model_sweep, tabular_model_sweep"
   ]
  },
  {
   "cell_type": "code",
   "execution_count": 12,
   "id": "9f6b38c6-1030-4f54-aae5-a4178f85ab7b",
   "metadata": {},
   "outputs": [],
   "source": [
    "#tabular_model_sweep.MODEL_SWEEP_PRESETS"
   ]
  },
  {
   "cell_type": "code",
   "execution_count": 13,
   "id": "fa294148-23cd-46f6-b798-7940409e5652",
   "metadata": {
    "scrolled": true
   },
   "outputs": [
    {
     "data": {
      "application/vnd.jupyter.widget-view+json": {
       "model_id": "e0bf7fce384e4da99c09f222727232e8",
       "version_major": 2,
       "version_minor": 0
      },
      "text/plain": [
       "Output()"
      ]
     },
     "metadata": {},
     "output_type": "display_data"
    },
    {
     "data": {
      "text/html": [
       "<pre style=\"white-space:pre;overflow-x:auto;line-height:normal;font-family:Menlo,'DejaVu Sans Mono',consolas,'Courier New',monospace\"><span style=\"color: #008080; text-decoration-color: #008080; font-weight: bold\">2025</span>-<span style=\"color: #008080; text-decoration-color: #008080; font-weight: bold\">02</span>-<span style=\"color: #008080; text-decoration-color: #008080; font-weight: bold\">22</span> <span style=\"color: #00ff00; text-decoration-color: #00ff00; font-weight: bold\">15:11:57</span>,<span style=\"color: #008080; text-decoration-color: #008080; font-weight: bold\">070</span> - <span style=\"font-weight: bold\">{</span>pytorch_tabular:<span style=\"color: #008080; text-decoration-color: #008080; font-weight: bold\">328</span><span style=\"font-weight: bold\">}</span> - INFO - Training AutoIntModel                                     \n",
       "</pre>\n"
      ],
      "text/plain": [
       "\u001b[1;36m2025\u001b[0m-\u001b[1;36m02\u001b[0m-\u001b[1;36m22\u001b[0m \u001b[1;92m15:11:57\u001b[0m,\u001b[1;36m070\u001b[0m - \u001b[1m{\u001b[0mpytorch_tabular:\u001b[1;36m328\u001b[0m\u001b[1m}\u001b[0m - INFO - Training AutoIntModel                                     \n"
      ]
     },
     "metadata": {},
     "output_type": "display_data"
    },
    {
     "data": {
      "application/vnd.jupyter.widget-view+json": {
       "model_id": "d420b93726e741c7b3aa7adcf1192d62",
       "version_major": 2,
       "version_minor": 0
      },
      "text/plain": [
       "Finding best initial lr:   0%|          | 0/100 [00:00<?, ?it/s]"
      ]
     },
     "metadata": {},
     "output_type": "display_data"
    },
    {
     "data": {
      "text/html": [
       "<pre style=\"white-space:pre;overflow-x:auto;line-height:normal;font-family:Menlo,'DejaVu Sans Mono',consolas,'Courier New',monospace\"><span style=\"color: #008080; text-decoration-color: #008080; font-weight: bold\">2025</span>-<span style=\"color: #008080; text-decoration-color: #008080; font-weight: bold\">02</span>-<span style=\"color: #008080; text-decoration-color: #008080; font-weight: bold\">22</span> <span style=\"color: #00ff00; text-decoration-color: #00ff00; font-weight: bold\">15:12:06</span>,<span style=\"color: #008080; text-decoration-color: #008080; font-weight: bold\">465</span> - <span style=\"font-weight: bold\">{</span>pytorch_tabular:<span style=\"color: #008080; text-decoration-color: #008080; font-weight: bold\">382</span><span style=\"font-weight: bold\">}</span> - INFO - Finished Training AutoIntModel                            \n",
       "</pre>\n"
      ],
      "text/plain": [
       "\u001b[1;36m2025\u001b[0m-\u001b[1;36m02\u001b[0m-\u001b[1;36m22\u001b[0m \u001b[1;92m15:12:06\u001b[0m,\u001b[1;36m465\u001b[0m - \u001b[1m{\u001b[0mpytorch_tabular:\u001b[1;36m382\u001b[0m\u001b[1m}\u001b[0m - INFO - Finished Training AutoIntModel                            \n"
      ]
     },
     "metadata": {},
     "output_type": "display_data"
    },
    {
     "data": {
      "text/html": [
       "<pre style=\"white-space:pre;overflow-x:auto;line-height:normal;font-family:Menlo,'DejaVu Sans Mono',consolas,'Courier New',monospace\"><span style=\"color: #008080; text-decoration-color: #008080; font-weight: bold\">2025</span>-<span style=\"color: #008080; text-decoration-color: #008080; font-weight: bold\">02</span>-<span style=\"color: #008080; text-decoration-color: #008080; font-weight: bold\">22</span> <span style=\"color: #00ff00; text-decoration-color: #00ff00; font-weight: bold\">15:12:06</span>,<span style=\"color: #008080; text-decoration-color: #008080; font-weight: bold\">466</span> - <span style=\"font-weight: bold\">{</span>pytorch_tabular:<span style=\"color: #008080; text-decoration-color: #008080; font-weight: bold\">383</span><span style=\"font-weight: bold\">}</span> - INFO - Results: model: AutoIntModel, # Params: <span style=\"color: #008080; text-decoration-color: #008080; font-weight: bold\">15</span> T, epochs: <span style=\"color: #008080; text-decoration-color: #008080; font-weight: bold\">49</span>, \n",
       "test_loss_0: <span style=\"color: #008080; text-decoration-color: #008080; font-weight: bold\">1.462249517440796</span>, test_loss: <span style=\"color: #008080; text-decoration-color: #008080; font-weight: bold\">1.462249517440796</span>, test_accuracy: <span style=\"color: #008080; text-decoration-color: #008080; font-weight: bold\">0.35333332419395447</span>, time_taken:      \n",
       "<span style=\"color: #008080; text-decoration-color: #008080; font-weight: bold\">9.396040678024292</span>, time_taken_per_epoch: <span style=\"color: #008080; text-decoration-color: #008080; font-weight: bold\">0.1917559322045774</span>                                                        \n",
       "</pre>\n"
      ],
      "text/plain": [
       "\u001b[1;36m2025\u001b[0m-\u001b[1;36m02\u001b[0m-\u001b[1;36m22\u001b[0m \u001b[1;92m15:12:06\u001b[0m,\u001b[1;36m466\u001b[0m - \u001b[1m{\u001b[0mpytorch_tabular:\u001b[1;36m383\u001b[0m\u001b[1m}\u001b[0m - INFO - Results: model: AutoIntModel, # Params: \u001b[1;36m15\u001b[0m T, epochs: \u001b[1;36m49\u001b[0m, \n",
       "test_loss_0: \u001b[1;36m1.462249517440796\u001b[0m, test_loss: \u001b[1;36m1.462249517440796\u001b[0m, test_accuracy: \u001b[1;36m0.35333332419395447\u001b[0m, time_taken:      \n",
       "\u001b[1;36m9.396040678024292\u001b[0m, time_taken_per_epoch: \u001b[1;36m0.1917559322045774\u001b[0m                                                        \n"
      ]
     },
     "metadata": {},
     "output_type": "display_data"
    },
    {
     "data": {
      "text/html": [
       "<pre style=\"white-space:pre;overflow-x:auto;line-height:normal;font-family:Menlo,'DejaVu Sans Mono',consolas,'Courier New',monospace\"><span style=\"color: #008080; text-decoration-color: #008080; font-weight: bold\">2025</span>-<span style=\"color: #008080; text-decoration-color: #008080; font-weight: bold\">02</span>-<span style=\"color: #008080; text-decoration-color: #008080; font-weight: bold\">22</span> <span style=\"color: #00ff00; text-decoration-color: #00ff00; font-weight: bold\">15:12:06</span>,<span style=\"color: #008080; text-decoration-color: #008080; font-weight: bold\">481</span> - <span style=\"font-weight: bold\">{</span>pytorch_tabular:<span style=\"color: #008080; text-decoration-color: #008080; font-weight: bold\">328</span><span style=\"font-weight: bold\">}</span> - INFO - Training CategoryEmbeddingModel                           \n",
       "</pre>\n"
      ],
      "text/plain": [
       "\u001b[1;36m2025\u001b[0m-\u001b[1;36m02\u001b[0m-\u001b[1;36m22\u001b[0m \u001b[1;92m15:12:06\u001b[0m,\u001b[1;36m481\u001b[0m - \u001b[1m{\u001b[0mpytorch_tabular:\u001b[1;36m328\u001b[0m\u001b[1m}\u001b[0m - INFO - Training CategoryEmbeddingModel                           \n"
      ]
     },
     "metadata": {},
     "output_type": "display_data"
    },
    {
     "data": {
      "application/vnd.jupyter.widget-view+json": {
       "model_id": "3c0b843c3c924c32839463681e7485d3",
       "version_major": 2,
       "version_minor": 0
      },
      "text/plain": [
       "Finding best initial lr:   0%|          | 0/100 [00:00<?, ?it/s]"
      ]
     },
     "metadata": {},
     "output_type": "display_data"
    },
    {
     "data": {
      "text/html": [
       "<pre style=\"white-space:pre;overflow-x:auto;line-height:normal;font-family:Menlo,'DejaVu Sans Mono',consolas,'Courier New',monospace\"><span style=\"color: #008080; text-decoration-color: #008080; font-weight: bold\">2025</span>-<span style=\"color: #008080; text-decoration-color: #008080; font-weight: bold\">02</span>-<span style=\"color: #008080; text-decoration-color: #008080; font-weight: bold\">22</span> <span style=\"color: #00ff00; text-decoration-color: #00ff00; font-weight: bold\">15:12:14</span>,<span style=\"color: #008080; text-decoration-color: #008080; font-weight: bold\">775</span> - <span style=\"font-weight: bold\">{</span>pytorch_tabular:<span style=\"color: #008080; text-decoration-color: #008080; font-weight: bold\">382</span><span style=\"font-weight: bold\">}</span> - INFO - Finished Training CategoryEmbeddingModel                  \n",
       "</pre>\n"
      ],
      "text/plain": [
       "\u001b[1;36m2025\u001b[0m-\u001b[1;36m02\u001b[0m-\u001b[1;36m22\u001b[0m \u001b[1;92m15:12:14\u001b[0m,\u001b[1;36m775\u001b[0m - \u001b[1m{\u001b[0mpytorch_tabular:\u001b[1;36m382\u001b[0m\u001b[1m}\u001b[0m - INFO - Finished Training CategoryEmbeddingModel                  \n"
      ]
     },
     "metadata": {},
     "output_type": "display_data"
    },
    {
     "data": {
      "text/html": [
       "<pre style=\"white-space:pre;overflow-x:auto;line-height:normal;font-family:Menlo,'DejaVu Sans Mono',consolas,'Courier New',monospace\"><span style=\"color: #008080; text-decoration-color: #008080; font-weight: bold\">2025</span>-<span style=\"color: #008080; text-decoration-color: #008080; font-weight: bold\">02</span>-<span style=\"color: #008080; text-decoration-color: #008080; font-weight: bold\">22</span> <span style=\"color: #00ff00; text-decoration-color: #00ff00; font-weight: bold\">15:12:14</span>,<span style=\"color: #008080; text-decoration-color: #008080; font-weight: bold\">792</span> - <span style=\"font-weight: bold\">{</span>pytorch_tabular:<span style=\"color: #008080; text-decoration-color: #008080; font-weight: bold\">328</span><span style=\"font-weight: bold\">}</span> - INFO - Training DANetModel                                       \n",
       "</pre>\n"
      ],
      "text/plain": [
       "\u001b[1;36m2025\u001b[0m-\u001b[1;36m02\u001b[0m-\u001b[1;36m22\u001b[0m \u001b[1;92m15:12:14\u001b[0m,\u001b[1;36m792\u001b[0m - \u001b[1m{\u001b[0mpytorch_tabular:\u001b[1;36m328\u001b[0m\u001b[1m}\u001b[0m - INFO - Training DANetModel                                       \n"
      ]
     },
     "metadata": {},
     "output_type": "display_data"
    },
    {
     "data": {
      "application/vnd.jupyter.widget-view+json": {
       "model_id": "a710407060d4446eae0d6309d812b55e",
       "version_major": 2,
       "version_minor": 0
      },
      "text/plain": [
       "Finding best initial lr:   0%|          | 0/100 [00:00<?, ?it/s]"
      ]
     },
     "metadata": {},
     "output_type": "display_data"
    },
    {
     "data": {
      "text/html": [
       "<pre style=\"white-space:pre;overflow-x:auto;line-height:normal;font-family:Menlo,'DejaVu Sans Mono',consolas,'Courier New',monospace\"><span style=\"color: #008080; text-decoration-color: #008080; font-weight: bold\">2025</span>-<span style=\"color: #008080; text-decoration-color: #008080; font-weight: bold\">02</span>-<span style=\"color: #008080; text-decoration-color: #008080; font-weight: bold\">22</span> <span style=\"color: #00ff00; text-decoration-color: #00ff00; font-weight: bold\">15:12:44</span>,<span style=\"color: #008080; text-decoration-color: #008080; font-weight: bold\">309</span> - <span style=\"font-weight: bold\">{</span>pytorch_tabular:<span style=\"color: #008080; text-decoration-color: #008080; font-weight: bold\">382</span><span style=\"font-weight: bold\">}</span> - INFO - Finished Training DANetModel                              \n",
       "</pre>\n"
      ],
      "text/plain": [
       "\u001b[1;36m2025\u001b[0m-\u001b[1;36m02\u001b[0m-\u001b[1;36m22\u001b[0m \u001b[1;92m15:12:44\u001b[0m,\u001b[1;36m309\u001b[0m - \u001b[1m{\u001b[0mpytorch_tabular:\u001b[1;36m382\u001b[0m\u001b[1m}\u001b[0m - INFO - Finished Training DANetModel                              \n"
      ]
     },
     "metadata": {},
     "output_type": "display_data"
    },
    {
     "data": {
      "text/html": [
       "<pre style=\"white-space:pre;overflow-x:auto;line-height:normal;font-family:Menlo,'DejaVu Sans Mono',consolas,'Courier New',monospace\"><span style=\"color: #008080; text-decoration-color: #008080; font-weight: bold\">2025</span>-<span style=\"color: #008080; text-decoration-color: #008080; font-weight: bold\">02</span>-<span style=\"color: #008080; text-decoration-color: #008080; font-weight: bold\">22</span> <span style=\"color: #00ff00; text-decoration-color: #00ff00; font-weight: bold\">15:12:44</span>,<span style=\"color: #008080; text-decoration-color: #008080; font-weight: bold\">310</span> - <span style=\"font-weight: bold\">{</span>pytorch_tabular:<span style=\"color: #008080; text-decoration-color: #008080; font-weight: bold\">383</span><span style=\"font-weight: bold\">}</span> - INFO - Results: model: DANetModel, # Params: <span style=\"color: #008080; text-decoration-color: #008080; font-weight: bold\">426</span> T, epochs: <span style=\"color: #008080; text-decoration-color: #008080; font-weight: bold\">49</span>,  \n",
       "test_loss_0: <span style=\"color: #008080; text-decoration-color: #008080; font-weight: bold\">0.8683189153671265</span>, test_loss: <span style=\"color: #008080; text-decoration-color: #008080; font-weight: bold\">0.8683189153671265</span>, test_accuracy: <span style=\"color: #008080; text-decoration-color: #008080; font-weight: bold\">0.6200000047683716</span>, time_taken:     \n",
       "<span style=\"color: #008080; text-decoration-color: #008080; font-weight: bold\">29.506704330444336</span>, time_taken_per_epoch: <span style=\"color: #008080; text-decoration-color: #008080; font-weight: bold\">0.6021776393968232</span>                                                       \n",
       "</pre>\n"
      ],
      "text/plain": [
       "\u001b[1;36m2025\u001b[0m-\u001b[1;36m02\u001b[0m-\u001b[1;36m22\u001b[0m \u001b[1;92m15:12:44\u001b[0m,\u001b[1;36m310\u001b[0m - \u001b[1m{\u001b[0mpytorch_tabular:\u001b[1;36m383\u001b[0m\u001b[1m}\u001b[0m - INFO - Results: model: DANetModel, # Params: \u001b[1;36m426\u001b[0m T, epochs: \u001b[1;36m49\u001b[0m,  \n",
       "test_loss_0: \u001b[1;36m0.8683189153671265\u001b[0m, test_loss: \u001b[1;36m0.8683189153671265\u001b[0m, test_accuracy: \u001b[1;36m0.6200000047683716\u001b[0m, time_taken:     \n",
       "\u001b[1;36m29.506704330444336\u001b[0m, time_taken_per_epoch: \u001b[1;36m0.6021776393968232\u001b[0m                                                       \n"
      ]
     },
     "metadata": {},
     "output_type": "display_data"
    },
    {
     "data": {
      "text/html": [
       "<pre style=\"white-space:pre;overflow-x:auto;line-height:normal;font-family:Menlo,'DejaVu Sans Mono',consolas,'Courier New',monospace\"><span style=\"color: #008080; text-decoration-color: #008080; font-weight: bold\">2025</span>-<span style=\"color: #008080; text-decoration-color: #008080; font-weight: bold\">02</span>-<span style=\"color: #008080; text-decoration-color: #008080; font-weight: bold\">22</span> <span style=\"color: #00ff00; text-decoration-color: #00ff00; font-weight: bold\">15:12:44</span>,<span style=\"color: #008080; text-decoration-color: #008080; font-weight: bold\">328</span> - <span style=\"font-weight: bold\">{</span>pytorch_tabular:<span style=\"color: #008080; text-decoration-color: #008080; font-weight: bold\">328</span><span style=\"font-weight: bold\">}</span> - INFO - Training FTTransformerModel                               \n",
       "</pre>\n"
      ],
      "text/plain": [
       "\u001b[1;36m2025\u001b[0m-\u001b[1;36m02\u001b[0m-\u001b[1;36m22\u001b[0m \u001b[1;92m15:12:44\u001b[0m,\u001b[1;36m328\u001b[0m - \u001b[1m{\u001b[0mpytorch_tabular:\u001b[1;36m328\u001b[0m\u001b[1m}\u001b[0m - INFO - Training FTTransformerModel                               \n"
      ]
     },
     "metadata": {},
     "output_type": "display_data"
    },
    {
     "data": {
      "application/vnd.jupyter.widget-view+json": {
       "model_id": "a5c9124cb2254a5fae3cfcbbf584bea3",
       "version_major": 2,
       "version_minor": 0
      },
      "text/plain": [
       "Finding best initial lr:   0%|          | 0/100 [00:00<?, ?it/s]"
      ]
     },
     "metadata": {},
     "output_type": "display_data"
    },
    {
     "data": {
      "text/html": [
       "<pre style=\"white-space:pre;overflow-x:auto;line-height:normal;font-family:Menlo,'DejaVu Sans Mono',consolas,'Courier New',monospace\"><span style=\"color: #008080; text-decoration-color: #008080; font-weight: bold\">2025</span>-<span style=\"color: #008080; text-decoration-color: #008080; font-weight: bold\">02</span>-<span style=\"color: #008080; text-decoration-color: #008080; font-weight: bold\">22</span> <span style=\"color: #00ff00; text-decoration-color: #00ff00; font-weight: bold\">15:12:59</span>,<span style=\"color: #008080; text-decoration-color: #008080; font-weight: bold\">352</span> - <span style=\"font-weight: bold\">{</span>pytorch_tabular:<span style=\"color: #008080; text-decoration-color: #008080; font-weight: bold\">382</span><span style=\"font-weight: bold\">}</span> - INFO - Finished Training FTTransformerModel                      \n",
       "</pre>\n"
      ],
      "text/plain": [
       "\u001b[1;36m2025\u001b[0m-\u001b[1;36m02\u001b[0m-\u001b[1;36m22\u001b[0m \u001b[1;92m15:12:59\u001b[0m,\u001b[1;36m352\u001b[0m - \u001b[1m{\u001b[0mpytorch_tabular:\u001b[1;36m382\u001b[0m\u001b[1m}\u001b[0m - INFO - Finished Training FTTransformerModel                      \n"
      ]
     },
     "metadata": {},
     "output_type": "display_data"
    },
    {
     "data": {
      "text/html": [
       "<pre style=\"white-space:pre;overflow-x:auto;line-height:normal;font-family:Menlo,'DejaVu Sans Mono',consolas,'Courier New',monospace\"><span style=\"color: #008080; text-decoration-color: #008080; font-weight: bold\">2025</span>-<span style=\"color: #008080; text-decoration-color: #008080; font-weight: bold\">02</span>-<span style=\"color: #008080; text-decoration-color: #008080; font-weight: bold\">22</span> <span style=\"color: #00ff00; text-decoration-color: #00ff00; font-weight: bold\">15:12:59</span>,<span style=\"color: #008080; text-decoration-color: #008080; font-weight: bold\">353</span> - <span style=\"font-weight: bold\">{</span>pytorch_tabular:<span style=\"color: #008080; text-decoration-color: #008080; font-weight: bold\">383</span><span style=\"font-weight: bold\">}</span> - INFO - Results: model: FTTransformerModel, # Params: <span style=\"color: #008080; text-decoration-color: #008080; font-weight: bold\">272</span> T,      \n",
       "epochs: <span style=\"color: #008080; text-decoration-color: #008080; font-weight: bold\">49</span>, test_loss_0: <span style=\"color: #008080; text-decoration-color: #008080; font-weight: bold\">1.0761499404907227</span>, test_loss: <span style=\"color: #008080; text-decoration-color: #008080; font-weight: bold\">1.0761499404907227</span>, test_accuracy: <span style=\"color: #008080; text-decoration-color: #008080; font-weight: bold\">0.5766666531562805</span>,     \n",
       "time_taken: <span style=\"color: #008080; text-decoration-color: #008080; font-weight: bold\">15.041478395462036</span>, time_taken_per_epoch: <span style=\"color: #008080; text-decoration-color: #008080; font-weight: bold\">0.306968946846164</span>                                            \n",
       "</pre>\n"
      ],
      "text/plain": [
       "\u001b[1;36m2025\u001b[0m-\u001b[1;36m02\u001b[0m-\u001b[1;36m22\u001b[0m \u001b[1;92m15:12:59\u001b[0m,\u001b[1;36m353\u001b[0m - \u001b[1m{\u001b[0mpytorch_tabular:\u001b[1;36m383\u001b[0m\u001b[1m}\u001b[0m - INFO - Results: model: FTTransformerModel, # Params: \u001b[1;36m272\u001b[0m T,      \n",
       "epochs: \u001b[1;36m49\u001b[0m, test_loss_0: \u001b[1;36m1.0761499404907227\u001b[0m, test_loss: \u001b[1;36m1.0761499404907227\u001b[0m, test_accuracy: \u001b[1;36m0.5766666531562805\u001b[0m,     \n",
       "time_taken: \u001b[1;36m15.041478395462036\u001b[0m, time_taken_per_epoch: \u001b[1;36m0.306968946846164\u001b[0m                                            \n"
      ]
     },
     "metadata": {},
     "output_type": "display_data"
    },
    {
     "data": {
      "text/html": [
       "<pre style=\"white-space:pre;overflow-x:auto;line-height:normal;font-family:Menlo,'DejaVu Sans Mono',consolas,'Courier New',monospace\"><span style=\"color: #008080; text-decoration-color: #008080; font-weight: bold\">2025</span>-<span style=\"color: #008080; text-decoration-color: #008080; font-weight: bold\">02</span>-<span style=\"color: #008080; text-decoration-color: #008080; font-weight: bold\">22</span> <span style=\"color: #00ff00; text-decoration-color: #00ff00; font-weight: bold\">15:12:59</span>,<span style=\"color: #008080; text-decoration-color: #008080; font-weight: bold\">367</span> - <span style=\"font-weight: bold\">{</span>pytorch_tabular:<span style=\"color: #008080; text-decoration-color: #008080; font-weight: bold\">328</span><span style=\"font-weight: bold\">}</span> - INFO - Training GANDALFModel                                     \n",
       "</pre>\n"
      ],
      "text/plain": [
       "\u001b[1;36m2025\u001b[0m-\u001b[1;36m02\u001b[0m-\u001b[1;36m22\u001b[0m \u001b[1;92m15:12:59\u001b[0m,\u001b[1;36m367\u001b[0m - \u001b[1m{\u001b[0mpytorch_tabular:\u001b[1;36m328\u001b[0m\u001b[1m}\u001b[0m - INFO - Training GANDALFModel                                     \n"
      ]
     },
     "metadata": {},
     "output_type": "display_data"
    },
    {
     "data": {
      "application/vnd.jupyter.widget-view+json": {
       "model_id": "d33d8028444448ecb1b9854b022f6b52",
       "version_major": 2,
       "version_minor": 0
      },
      "text/plain": [
       "Finding best initial lr:   0%|          | 0/100 [00:00<?, ?it/s]"
      ]
     },
     "metadata": {},
     "output_type": "display_data"
    },
    {
     "data": {
      "text/html": [
       "<pre style=\"white-space:pre;overflow-x:auto;line-height:normal;font-family:Menlo,'DejaVu Sans Mono',consolas,'Courier New',monospace\"><span style=\"color: #008080; text-decoration-color: #008080; font-weight: bold\">2025</span>-<span style=\"color: #008080; text-decoration-color: #008080; font-weight: bold\">02</span>-<span style=\"color: #008080; text-decoration-color: #008080; font-weight: bold\">22</span> <span style=\"color: #00ff00; text-decoration-color: #00ff00; font-weight: bold\">15:13:12</span>,<span style=\"color: #008080; text-decoration-color: #008080; font-weight: bold\">659</span> - <span style=\"font-weight: bold\">{</span>pytorch_tabular:<span style=\"color: #008080; text-decoration-color: #008080; font-weight: bold\">382</span><span style=\"font-weight: bold\">}</span> - INFO - Finished Training GANDALFModel                            \n",
       "</pre>\n"
      ],
      "text/plain": [
       "\u001b[1;36m2025\u001b[0m-\u001b[1;36m02\u001b[0m-\u001b[1;36m22\u001b[0m \u001b[1;92m15:13:12\u001b[0m,\u001b[1;36m659\u001b[0m - \u001b[1m{\u001b[0mpytorch_tabular:\u001b[1;36m382\u001b[0m\u001b[1m}\u001b[0m - INFO - Finished Training GANDALFModel                            \n"
      ]
     },
     "metadata": {},
     "output_type": "display_data"
    },
    {
     "data": {
      "text/html": [
       "<pre style=\"white-space:pre;overflow-x:auto;line-height:normal;font-family:Menlo,'DejaVu Sans Mono',consolas,'Courier New',monospace\"><span style=\"color: #008080; text-decoration-color: #008080; font-weight: bold\">2025</span>-<span style=\"color: #008080; text-decoration-color: #008080; font-weight: bold\">02</span>-<span style=\"color: #008080; text-decoration-color: #008080; font-weight: bold\">22</span> <span style=\"color: #00ff00; text-decoration-color: #00ff00; font-weight: bold\">15:13:12</span>,<span style=\"color: #008080; text-decoration-color: #008080; font-weight: bold\">661</span> - <span style=\"font-weight: bold\">{</span>pytorch_tabular:<span style=\"color: #008080; text-decoration-color: #008080; font-weight: bold\">383</span><span style=\"font-weight: bold\">}</span> - INFO - Results: model: GANDALFModel, # Params: <span style=\"color: #008080; text-decoration-color: #008080; font-weight: bold\">7</span> T, epochs: <span style=\"color: #008080; text-decoration-color: #008080; font-weight: bold\">49</span>,  \n",
       "test_loss_0: <span style=\"color: #008080; text-decoration-color: #008080; font-weight: bold\">1.2639551162719727</span>, test_loss: <span style=\"color: #008080; text-decoration-color: #008080; font-weight: bold\">1.2639551162719727</span>, test_accuracy: <span style=\"color: #008080; text-decoration-color: #008080; font-weight: bold\">0.5299999713897705</span>, time_taken:     \n",
       "<span style=\"color: #008080; text-decoration-color: #008080; font-weight: bold\">13.305453062057495</span>, time_taken_per_epoch: <span style=\"color: #008080; text-decoration-color: #008080; font-weight: bold\">0.27153985840933664</span>                                                      \n",
       "</pre>\n"
      ],
      "text/plain": [
       "\u001b[1;36m2025\u001b[0m-\u001b[1;36m02\u001b[0m-\u001b[1;36m22\u001b[0m \u001b[1;92m15:13:12\u001b[0m,\u001b[1;36m661\u001b[0m - \u001b[1m{\u001b[0mpytorch_tabular:\u001b[1;36m383\u001b[0m\u001b[1m}\u001b[0m - INFO - Results: model: GANDALFModel, # Params: \u001b[1;36m7\u001b[0m T, epochs: \u001b[1;36m49\u001b[0m,  \n",
       "test_loss_0: \u001b[1;36m1.2639551162719727\u001b[0m, test_loss: \u001b[1;36m1.2639551162719727\u001b[0m, test_accuracy: \u001b[1;36m0.5299999713897705\u001b[0m, time_taken:     \n",
       "\u001b[1;36m13.305453062057495\u001b[0m, time_taken_per_epoch: \u001b[1;36m0.27153985840933664\u001b[0m                                                      \n"
      ]
     },
     "metadata": {},
     "output_type": "display_data"
    },
    {
     "data": {
      "text/html": [
       "<pre style=\"white-space:pre;overflow-x:auto;line-height:normal;font-family:Menlo,'DejaVu Sans Mono',consolas,'Courier New',monospace\"><span style=\"color: #008080; text-decoration-color: #008080; font-weight: bold\">2025</span>-<span style=\"color: #008080; text-decoration-color: #008080; font-weight: bold\">02</span>-<span style=\"color: #008080; text-decoration-color: #008080; font-weight: bold\">22</span> <span style=\"color: #00ff00; text-decoration-color: #00ff00; font-weight: bold\">15:13:12</span>,<span style=\"color: #008080; text-decoration-color: #008080; font-weight: bold\">677</span> - <span style=\"font-weight: bold\">{</span>pytorch_tabular:<span style=\"color: #008080; text-decoration-color: #008080; font-weight: bold\">328</span><span style=\"font-weight: bold\">}</span> - INFO - Training GatedAdditiveTreeEnsembleModel                   \n",
       "</pre>\n"
      ],
      "text/plain": [
       "\u001b[1;36m2025\u001b[0m-\u001b[1;36m02\u001b[0m-\u001b[1;36m22\u001b[0m \u001b[1;92m15:13:12\u001b[0m,\u001b[1;36m677\u001b[0m - \u001b[1m{\u001b[0mpytorch_tabular:\u001b[1;36m328\u001b[0m\u001b[1m}\u001b[0m - INFO - Training GatedAdditiveTreeEnsembleModel                   \n"
      ]
     },
     "metadata": {},
     "output_type": "display_data"
    },
    {
     "data": {
      "application/vnd.jupyter.widget-view+json": {
       "model_id": "506d984b80684c588a9728cf59ef21b2",
       "version_major": 2,
       "version_minor": 0
      },
      "text/plain": [
       "Finding best initial lr:   0%|          | 0/100 [00:00<?, ?it/s]"
      ]
     },
     "metadata": {},
     "output_type": "display_data"
    },
    {
     "data": {
      "text/html": [
       "<pre style=\"white-space:pre;overflow-x:auto;line-height:normal;font-family:Menlo,'DejaVu Sans Mono',consolas,'Courier New',monospace\"><span style=\"color: #008080; text-decoration-color: #008080; font-weight: bold\">2025</span>-<span style=\"color: #008080; text-decoration-color: #008080; font-weight: bold\">02</span>-<span style=\"color: #008080; text-decoration-color: #008080; font-weight: bold\">22</span> <span style=\"color: #00ff00; text-decoration-color: #00ff00; font-weight: bold\">15:14:01</span>,<span style=\"color: #008080; text-decoration-color: #008080; font-weight: bold\">143</span> - <span style=\"font-weight: bold\">{</span>pytorch_tabular:<span style=\"color: #008080; text-decoration-color: #008080; font-weight: bold\">382</span><span style=\"font-weight: bold\">}</span> - INFO - Finished Training GatedAdditiveTreeEnsembleModel          \n",
       "</pre>\n"
      ],
      "text/plain": [
       "\u001b[1;36m2025\u001b[0m-\u001b[1;36m02\u001b[0m-\u001b[1;36m22\u001b[0m \u001b[1;92m15:14:01\u001b[0m,\u001b[1;36m143\u001b[0m - \u001b[1m{\u001b[0mpytorch_tabular:\u001b[1;36m382\u001b[0m\u001b[1m}\u001b[0m - INFO - Finished Training GatedAdditiveTreeEnsembleModel          \n"
      ]
     },
     "metadata": {},
     "output_type": "display_data"
    },
    {
     "data": {
      "text/html": [
       "<pre style=\"white-space:pre;overflow-x:auto;line-height:normal;font-family:Menlo,'DejaVu Sans Mono',consolas,'Courier New',monospace\"><span style=\"color: #008080; text-decoration-color: #008080; font-weight: bold\">2025</span>-<span style=\"color: #008080; text-decoration-color: #008080; font-weight: bold\">02</span>-<span style=\"color: #008080; text-decoration-color: #008080; font-weight: bold\">22</span> <span style=\"color: #00ff00; text-decoration-color: #00ff00; font-weight: bold\">15:14:01</span>,<span style=\"color: #008080; text-decoration-color: #008080; font-weight: bold\">144</span> - <span style=\"font-weight: bold\">{</span>pytorch_tabular:<span style=\"color: #008080; text-decoration-color: #008080; font-weight: bold\">383</span><span style=\"font-weight: bold\">}</span> - INFO - Results: model: GatedAdditiveTreeEnsembleModel, # Params: \n",
       "<span style=\"color: #008080; text-decoration-color: #008080; font-weight: bold\">77</span> T, epochs: <span style=\"color: #008080; text-decoration-color: #008080; font-weight: bold\">49</span>, test_loss_0: <span style=\"color: #008080; text-decoration-color: #008080; font-weight: bold\">1.016709804534912</span>, test_loss: <span style=\"color: #008080; text-decoration-color: #008080; font-weight: bold\">1.016709804534912</span>, test_accuracy: <span style=\"color: #008080; text-decoration-color: #008080; font-weight: bold\">0.5933333039283752</span>, \n",
       "time_taken: <span style=\"color: #008080; text-decoration-color: #008080; font-weight: bold\">48.48209357261658</span>, time_taken_per_epoch: <span style=\"color: #008080; text-decoration-color: #008080; font-weight: bold\">0.9894304810738077</span>                                            \n",
       "</pre>\n"
      ],
      "text/plain": [
       "\u001b[1;36m2025\u001b[0m-\u001b[1;36m02\u001b[0m-\u001b[1;36m22\u001b[0m \u001b[1;92m15:14:01\u001b[0m,\u001b[1;36m144\u001b[0m - \u001b[1m{\u001b[0mpytorch_tabular:\u001b[1;36m383\u001b[0m\u001b[1m}\u001b[0m - INFO - Results: model: GatedAdditiveTreeEnsembleModel, # Params: \n",
       "\u001b[1;36m77\u001b[0m T, epochs: \u001b[1;36m49\u001b[0m, test_loss_0: \u001b[1;36m1.016709804534912\u001b[0m, test_loss: \u001b[1;36m1.016709804534912\u001b[0m, test_accuracy: \u001b[1;36m0.5933333039283752\u001b[0m, \n",
       "time_taken: \u001b[1;36m48.48209357261658\u001b[0m, time_taken_per_epoch: \u001b[1;36m0.9894304810738077\u001b[0m                                            \n"
      ]
     },
     "metadata": {},
     "output_type": "display_data"
    },
    {
     "data": {
      "text/html": [
       "<pre style=\"white-space:pre;overflow-x:auto;line-height:normal;font-family:Menlo,'DejaVu Sans Mono',consolas,'Courier New',monospace\"><span style=\"color: #008080; text-decoration-color: #008080; font-weight: bold\">2025</span>-<span style=\"color: #008080; text-decoration-color: #008080; font-weight: bold\">02</span>-<span style=\"color: #008080; text-decoration-color: #008080; font-weight: bold\">22</span> <span style=\"color: #00ff00; text-decoration-color: #00ff00; font-weight: bold\">15:14:01</span>,<span style=\"color: #008080; text-decoration-color: #008080; font-weight: bold\">161</span> - <span style=\"font-weight: bold\">{</span>pytorch_tabular:<span style=\"color: #008080; text-decoration-color: #008080; font-weight: bold\">328</span><span style=\"font-weight: bold\">}</span> - INFO - Training NODEModel                                        \n",
       "</pre>\n"
      ],
      "text/plain": [
       "\u001b[1;36m2025\u001b[0m-\u001b[1;36m02\u001b[0m-\u001b[1;36m22\u001b[0m \u001b[1;92m15:14:01\u001b[0m,\u001b[1;36m161\u001b[0m - \u001b[1m{\u001b[0mpytorch_tabular:\u001b[1;36m328\u001b[0m\u001b[1m}\u001b[0m - INFO - Training NODEModel                                        \n"
      ]
     },
     "metadata": {},
     "output_type": "display_data"
    },
    {
     "data": {
      "text/html": [
       "<pre style=\"white-space:pre;overflow-x:auto;line-height:normal;font-family:Menlo,'DejaVu Sans Mono',consolas,'Courier New',monospace\"><span style=\"color: #008080; text-decoration-color: #008080; font-weight: bold\">2025</span>-<span style=\"color: #008080; text-decoration-color: #008080; font-weight: bold\">02</span>-<span style=\"color: #008080; text-decoration-color: #008080; font-weight: bold\">22</span> <span style=\"color: #00ff00; text-decoration-color: #00ff00; font-weight: bold\">15:14:01</span>,<span style=\"color: #008080; text-decoration-color: #008080; font-weight: bold\">181</span> - <span style=\"font-weight: bold\">{</span>pytorch_tabular.models.node.node_model:<span style=\"color: #008080; text-decoration-color: #008080; font-weight: bold\">74</span><span style=\"font-weight: bold\">}</span> - INFO - Data Aware Initialization of NODE   \n",
       "using a forward pass with <span style=\"color: #008080; text-decoration-color: #008080; font-weight: bold\">2000</span> batch size<span style=\"color: #808000; text-decoration-color: #808000\">...</span>.                                                                      \n",
       "</pre>\n"
      ],
      "text/plain": [
       "\u001b[1;36m2025\u001b[0m-\u001b[1;36m02\u001b[0m-\u001b[1;36m22\u001b[0m \u001b[1;92m15:14:01\u001b[0m,\u001b[1;36m181\u001b[0m - \u001b[1m{\u001b[0mpytorch_tabular.models.node.node_model:\u001b[1;36m74\u001b[0m\u001b[1m}\u001b[0m - INFO - Data Aware Initialization of NODE   \n",
       "using a forward pass with \u001b[1;36m2000\u001b[0m batch size\u001b[33m...\u001b[0m.                                                                      \n"
      ]
     },
     "metadata": {},
     "output_type": "display_data"
    },
    {
     "data": {
      "application/vnd.jupyter.widget-view+json": {
       "model_id": "c25fe6c149014a11a75361f2ec7ead6e",
       "version_major": 2,
       "version_minor": 0
      },
      "text/plain": [
       "Finding best initial lr:   0%|          | 0/100 [00:00<?, ?it/s]"
      ]
     },
     "metadata": {},
     "output_type": "display_data"
    },
    {
     "data": {
      "text/html": [
       "<pre style=\"white-space:pre;overflow-x:auto;line-height:normal;font-family:Menlo,'DejaVu Sans Mono',consolas,'Courier New',monospace\"><span style=\"color: #008080; text-decoration-color: #008080; font-weight: bold\">2025</span>-<span style=\"color: #008080; text-decoration-color: #008080; font-weight: bold\">02</span>-<span style=\"color: #008080; text-decoration-color: #008080; font-weight: bold\">22</span> <span style=\"color: #00ff00; text-decoration-color: #00ff00; font-weight: bold\">15:14:07</span>,<span style=\"color: #008080; text-decoration-color: #008080; font-weight: bold\">282</span> - <span style=\"font-weight: bold\">{</span>pytorch_tabular.models.node.node_model:<span style=\"color: #008080; text-decoration-color: #008080; font-weight: bold\">74</span><span style=\"font-weight: bold\">}</span> - INFO - Data Aware Initialization of NODE   \n",
       "using a forward pass with <span style=\"color: #008080; text-decoration-color: #008080; font-weight: bold\">2000</span> batch size<span style=\"color: #808000; text-decoration-color: #808000\">...</span>.                                                                      \n",
       "</pre>\n"
      ],
      "text/plain": [
       "\u001b[1;36m2025\u001b[0m-\u001b[1;36m02\u001b[0m-\u001b[1;36m22\u001b[0m \u001b[1;92m15:14:07\u001b[0m,\u001b[1;36m282\u001b[0m - \u001b[1m{\u001b[0mpytorch_tabular.models.node.node_model:\u001b[1;36m74\u001b[0m\u001b[1m}\u001b[0m - INFO - Data Aware Initialization of NODE   \n",
       "using a forward pass with \u001b[1;36m2000\u001b[0m batch size\u001b[33m...\u001b[0m.                                                                      \n"
      ]
     },
     "metadata": {},
     "output_type": "display_data"
    },
    {
     "data": {
      "text/html": [
       "<pre style=\"white-space:pre;overflow-x:auto;line-height:normal;font-family:Menlo,'DejaVu Sans Mono',consolas,'Courier New',monospace\"><span style=\"color: #008080; text-decoration-color: #008080; font-weight: bold\">2025</span>-<span style=\"color: #008080; text-decoration-color: #008080; font-weight: bold\">02</span>-<span style=\"color: #008080; text-decoration-color: #008080; font-weight: bold\">22</span> <span style=\"color: #00ff00; text-decoration-color: #00ff00; font-weight: bold\">15:14:30</span>,<span style=\"color: #008080; text-decoration-color: #008080; font-weight: bold\">044</span> - <span style=\"font-weight: bold\">{</span>pytorch_tabular:<span style=\"color: #008080; text-decoration-color: #008080; font-weight: bold\">382</span><span style=\"font-weight: bold\">}</span> - INFO - Finished Training NODEModel                               \n",
       "</pre>\n"
      ],
      "text/plain": [
       "\u001b[1;36m2025\u001b[0m-\u001b[1;36m02\u001b[0m-\u001b[1;36m22\u001b[0m \u001b[1;92m15:14:30\u001b[0m,\u001b[1;36m044\u001b[0m - \u001b[1m{\u001b[0mpytorch_tabular:\u001b[1;36m382\u001b[0m\u001b[1m}\u001b[0m - INFO - Finished Training NODEModel                               \n"
      ]
     },
     "metadata": {},
     "output_type": "display_data"
    },
    {
     "data": {
      "text/html": [
       "<pre style=\"white-space:pre;overflow-x:auto;line-height:normal;font-family:Menlo,'DejaVu Sans Mono',consolas,'Courier New',monospace\"><span style=\"color: #008080; text-decoration-color: #008080; font-weight: bold\">2025</span>-<span style=\"color: #008080; text-decoration-color: #008080; font-weight: bold\">02</span>-<span style=\"color: #008080; text-decoration-color: #008080; font-weight: bold\">22</span> <span style=\"color: #00ff00; text-decoration-color: #00ff00; font-weight: bold\">15:14:30</span>,<span style=\"color: #008080; text-decoration-color: #008080; font-weight: bold\">045</span> - <span style=\"font-weight: bold\">{</span>pytorch_tabular:<span style=\"color: #008080; text-decoration-color: #008080; font-weight: bold\">383</span><span style=\"font-weight: bold\">}</span> - INFO - Results: model: NODEModel, # Params: <span style=\"color: #008080; text-decoration-color: #008080; font-weight: bold\">1</span> M, epochs: <span style=\"color: #008080; text-decoration-color: #008080; font-weight: bold\">49</span>,     \n",
       "test_loss_0: <span style=\"color: #008080; text-decoration-color: #008080; font-weight: bold\">0.9688305854797363</span>, test_loss: <span style=\"color: #008080; text-decoration-color: #008080; font-weight: bold\">0.9688305854797363</span>, test_accuracy: <span style=\"color: #008080; text-decoration-color: #008080; font-weight: bold\">0.6033333539962769</span>, time_taken:     \n",
       "<span style=\"color: #008080; text-decoration-color: #008080; font-weight: bold\">28.898852109909058</span>, time_taken_per_epoch: <span style=\"color: #008080; text-decoration-color: #008080; font-weight: bold\">0.5897724920389603</span>                                                       \n",
       "</pre>\n"
      ],
      "text/plain": [
       "\u001b[1;36m2025\u001b[0m-\u001b[1;36m02\u001b[0m-\u001b[1;36m22\u001b[0m \u001b[1;92m15:14:30\u001b[0m,\u001b[1;36m045\u001b[0m - \u001b[1m{\u001b[0mpytorch_tabular:\u001b[1;36m383\u001b[0m\u001b[1m}\u001b[0m - INFO - Results: model: NODEModel, # Params: \u001b[1;36m1\u001b[0m M, epochs: \u001b[1;36m49\u001b[0m,     \n",
       "test_loss_0: \u001b[1;36m0.9688305854797363\u001b[0m, test_loss: \u001b[1;36m0.9688305854797363\u001b[0m, test_accuracy: \u001b[1;36m0.6033333539962769\u001b[0m, time_taken:     \n",
       "\u001b[1;36m28.898852109909058\u001b[0m, time_taken_per_epoch: \u001b[1;36m0.5897724920389603\u001b[0m                                                       \n"
      ]
     },
     "metadata": {},
     "output_type": "display_data"
    },
    {
     "data": {
      "text/html": [
       "<pre style=\"white-space:pre;overflow-x:auto;line-height:normal;font-family:Menlo,'DejaVu Sans Mono',consolas,'Courier New',monospace\"><span style=\"color: #008080; text-decoration-color: #008080; font-weight: bold\">2025</span>-<span style=\"color: #008080; text-decoration-color: #008080; font-weight: bold\">02</span>-<span style=\"color: #008080; text-decoration-color: #008080; font-weight: bold\">22</span> <span style=\"color: #00ff00; text-decoration-color: #00ff00; font-weight: bold\">15:14:30</span>,<span style=\"color: #008080; text-decoration-color: #008080; font-weight: bold\">060</span> - <span style=\"font-weight: bold\">{</span>pytorch_tabular:<span style=\"color: #008080; text-decoration-color: #008080; font-weight: bold\">328</span><span style=\"font-weight: bold\">}</span> - INFO - Training TabNetModel                                      \n",
       "</pre>\n"
      ],
      "text/plain": [
       "\u001b[1;36m2025\u001b[0m-\u001b[1;36m02\u001b[0m-\u001b[1;36m22\u001b[0m \u001b[1;92m15:14:30\u001b[0m,\u001b[1;36m060\u001b[0m - \u001b[1m{\u001b[0mpytorch_tabular:\u001b[1;36m328\u001b[0m\u001b[1m}\u001b[0m - INFO - Training TabNetModel                                      \n"
      ]
     },
     "metadata": {},
     "output_type": "display_data"
    },
    {
     "data": {
      "application/vnd.jupyter.widget-view+json": {
       "model_id": "5298e89bc1674cef93ef9dcc404bdd80",
       "version_major": 2,
       "version_minor": 0
      },
      "text/plain": [
       "Finding best initial lr:   0%|          | 0/100 [00:00<?, ?it/s]"
      ]
     },
     "metadata": {},
     "output_type": "display_data"
    },
    {
     "data": {
      "text/html": [
       "<pre style=\"white-space:pre;overflow-x:auto;line-height:normal;font-family:Menlo,'DejaVu Sans Mono',consolas,'Courier New',monospace\"><span style=\"color: #008080; text-decoration-color: #008080; font-weight: bold\">2025</span>-<span style=\"color: #008080; text-decoration-color: #008080; font-weight: bold\">02</span>-<span style=\"color: #008080; text-decoration-color: #008080; font-weight: bold\">22</span> <span style=\"color: #00ff00; text-decoration-color: #00ff00; font-weight: bold\">15:14:49</span>,<span style=\"color: #008080; text-decoration-color: #008080; font-weight: bold\">163</span> - <span style=\"font-weight: bold\">{</span>pytorch_tabular:<span style=\"color: #008080; text-decoration-color: #008080; font-weight: bold\">382</span><span style=\"font-weight: bold\">}</span> - INFO - Finished Training TabNetModel                             \n",
       "</pre>\n"
      ],
      "text/plain": [
       "\u001b[1;36m2025\u001b[0m-\u001b[1;36m02\u001b[0m-\u001b[1;36m22\u001b[0m \u001b[1;92m15:14:49\u001b[0m,\u001b[1;36m163\u001b[0m - \u001b[1m{\u001b[0mpytorch_tabular:\u001b[1;36m382\u001b[0m\u001b[1m}\u001b[0m - INFO - Finished Training TabNetModel                             \n"
      ]
     },
     "metadata": {},
     "output_type": "display_data"
    },
    {
     "data": {
      "text/html": [
       "<pre style=\"white-space:pre;overflow-x:auto;line-height:normal;font-family:Menlo,'DejaVu Sans Mono',consolas,'Courier New',monospace\"><span style=\"color: #008080; text-decoration-color: #008080; font-weight: bold\">2025</span>-<span style=\"color: #008080; text-decoration-color: #008080; font-weight: bold\">02</span>-<span style=\"color: #008080; text-decoration-color: #008080; font-weight: bold\">22</span> <span style=\"color: #00ff00; text-decoration-color: #00ff00; font-weight: bold\">15:14:49</span>,<span style=\"color: #008080; text-decoration-color: #008080; font-weight: bold\">164</span> - <span style=\"font-weight: bold\">{</span>pytorch_tabular:<span style=\"color: #008080; text-decoration-color: #008080; font-weight: bold\">383</span><span style=\"font-weight: bold\">}</span> - INFO - Results: model: TabNetModel, # Params: <span style=\"color: #008080; text-decoration-color: #008080; font-weight: bold\">6</span> T, epochs: <span style=\"color: #008080; text-decoration-color: #008080; font-weight: bold\">60</span>,   \n",
       "test_loss_0: <span style=\"color: #008080; text-decoration-color: #008080; font-weight: bold\">0.990346372127533</span>, test_loss: <span style=\"color: #008080; text-decoration-color: #008080; font-weight: bold\">0.990346372127533</span>, test_accuracy: <span style=\"color: #008080; text-decoration-color: #008080; font-weight: bold\">0.6133333444595337</span>, time_taken:       \n",
       "<span style=\"color: #008080; text-decoration-color: #008080; font-weight: bold\">19.11698579788208</span>, time_taken_per_epoch: <span style=\"color: #008080; text-decoration-color: #008080; font-weight: bold\">0.31861642996470135</span>                                                       \n",
       "</pre>\n"
      ],
      "text/plain": [
       "\u001b[1;36m2025\u001b[0m-\u001b[1;36m02\u001b[0m-\u001b[1;36m22\u001b[0m \u001b[1;92m15:14:49\u001b[0m,\u001b[1;36m164\u001b[0m - \u001b[1m{\u001b[0mpytorch_tabular:\u001b[1;36m383\u001b[0m\u001b[1m}\u001b[0m - INFO - Results: model: TabNetModel, # Params: \u001b[1;36m6\u001b[0m T, epochs: \u001b[1;36m60\u001b[0m,   \n",
       "test_loss_0: \u001b[1;36m0.990346372127533\u001b[0m, test_loss: \u001b[1;36m0.990346372127533\u001b[0m, test_accuracy: \u001b[1;36m0.6133333444595337\u001b[0m, time_taken:       \n",
       "\u001b[1;36m19.11698579788208\u001b[0m, time_taken_per_epoch: \u001b[1;36m0.31861642996470135\u001b[0m                                                       \n"
      ]
     },
     "metadata": {},
     "output_type": "display_data"
    },
    {
     "data": {
      "text/html": [
       "<pre style=\"white-space:pre;overflow-x:auto;line-height:normal;font-family:Menlo,'DejaVu Sans Mono',consolas,'Courier New',monospace\"><span style=\"color: #008080; text-decoration-color: #008080; font-weight: bold\">2025</span>-<span style=\"color: #008080; text-decoration-color: #008080; font-weight: bold\">02</span>-<span style=\"color: #008080; text-decoration-color: #008080; font-weight: bold\">22</span> <span style=\"color: #00ff00; text-decoration-color: #00ff00; font-weight: bold\">15:14:49</span>,<span style=\"color: #008080; text-decoration-color: #008080; font-weight: bold\">179</span> - <span style=\"font-weight: bold\">{</span>pytorch_tabular:<span style=\"color: #008080; text-decoration-color: #008080; font-weight: bold\">328</span><span style=\"font-weight: bold\">}</span> - INFO - Training TabTransformerModel                              \n",
       "</pre>\n"
      ],
      "text/plain": [
       "\u001b[1;36m2025\u001b[0m-\u001b[1;36m02\u001b[0m-\u001b[1;36m22\u001b[0m \u001b[1;92m15:14:49\u001b[0m,\u001b[1;36m179\u001b[0m - \u001b[1m{\u001b[0mpytorch_tabular:\u001b[1;36m328\u001b[0m\u001b[1m}\u001b[0m - INFO - Training TabTransformerModel                              \n"
      ]
     },
     "metadata": {},
     "output_type": "display_data"
    },
    {
     "data": {
      "application/vnd.jupyter.widget-view+json": {
       "model_id": "d9b987025baf4095adc2172091c681f2",
       "version_major": 2,
       "version_minor": 0
      },
      "text/plain": [
       "Finding best initial lr:   0%|          | 0/100 [00:00<?, ?it/s]"
      ]
     },
     "metadata": {},
     "output_type": "display_data"
    },
    {
     "data": {
      "text/html": [
       "<pre style=\"white-space:pre;overflow-x:auto;line-height:normal;font-family:Menlo,'DejaVu Sans Mono',consolas,'Courier New',monospace\"><span style=\"color: #008080; text-decoration-color: #008080; font-weight: bold\">2025</span>-<span style=\"color: #008080; text-decoration-color: #008080; font-weight: bold\">02</span>-<span style=\"color: #008080; text-decoration-color: #008080; font-weight: bold\">22</span> <span style=\"color: #00ff00; text-decoration-color: #00ff00; font-weight: bold\">15:15:04</span>,<span style=\"color: #008080; text-decoration-color: #008080; font-weight: bold\">755</span> - <span style=\"font-weight: bold\">{</span>pytorch_tabular:<span style=\"color: #008080; text-decoration-color: #008080; font-weight: bold\">382</span><span style=\"font-weight: bold\">}</span> - INFO - Finished Training TabTransformerModel                     \n",
       "</pre>\n"
      ],
      "text/plain": [
       "\u001b[1;36m2025\u001b[0m-\u001b[1;36m02\u001b[0m-\u001b[1;36m22\u001b[0m \u001b[1;92m15:15:04\u001b[0m,\u001b[1;36m755\u001b[0m - \u001b[1m{\u001b[0mpytorch_tabular:\u001b[1;36m382\u001b[0m\u001b[1m}\u001b[0m - INFO - Finished Training TabTransformerModel                     \n"
      ]
     },
     "metadata": {},
     "output_type": "display_data"
    },
    {
     "data": {
      "text/html": [
       "<pre style=\"white-space:pre;overflow-x:auto;line-height:normal;font-family:Menlo,'DejaVu Sans Mono',consolas,'Courier New',monospace\"><span style=\"color: #008080; text-decoration-color: #008080; font-weight: bold\">2025</span>-<span style=\"color: #008080; text-decoration-color: #008080; font-weight: bold\">02</span>-<span style=\"color: #008080; text-decoration-color: #008080; font-weight: bold\">22</span> <span style=\"color: #00ff00; text-decoration-color: #00ff00; font-weight: bold\">15:15:04</span>,<span style=\"color: #008080; text-decoration-color: #008080; font-weight: bold\">755</span> - <span style=\"font-weight: bold\">{</span>pytorch_tabular:<span style=\"color: #008080; text-decoration-color: #008080; font-weight: bold\">383</span><span style=\"font-weight: bold\">}</span> - INFO - Results: model: TabTransformerModel, # Params: <span style=\"color: #008080; text-decoration-color: #008080; font-weight: bold\">272</span> T,     \n",
       "epochs: <span style=\"color: #008080; text-decoration-color: #008080; font-weight: bold\">38</span>, test_loss_0: <span style=\"color: #008080; text-decoration-color: #008080; font-weight: bold\">1.1604846715927124</span>, test_loss: <span style=\"color: #008080; text-decoration-color: #008080; font-weight: bold\">1.1604846715927124</span>, test_accuracy: <span style=\"color: #008080; text-decoration-color: #008080; font-weight: bold\">0.5533333420753479</span>,     \n",
       "time_taken: <span style=\"color: #008080; text-decoration-color: #008080; font-weight: bold\">15.589713096618652</span>, time_taken_per_epoch: <span style=\"color: #008080; text-decoration-color: #008080; font-weight: bold\">0.410255607805754</span>                                            \n",
       "</pre>\n"
      ],
      "text/plain": [
       "\u001b[1;36m2025\u001b[0m-\u001b[1;36m02\u001b[0m-\u001b[1;36m22\u001b[0m \u001b[1;92m15:15:04\u001b[0m,\u001b[1;36m755\u001b[0m - \u001b[1m{\u001b[0mpytorch_tabular:\u001b[1;36m383\u001b[0m\u001b[1m}\u001b[0m - INFO - Results: model: TabTransformerModel, # Params: \u001b[1;36m272\u001b[0m T,     \n",
       "epochs: \u001b[1;36m38\u001b[0m, test_loss_0: \u001b[1;36m1.1604846715927124\u001b[0m, test_loss: \u001b[1;36m1.1604846715927124\u001b[0m, test_accuracy: \u001b[1;36m0.5533333420753479\u001b[0m,     \n",
       "time_taken: \u001b[1;36m15.589713096618652\u001b[0m, time_taken_per_epoch: \u001b[1;36m0.410255607805754\u001b[0m                                            \n"
      ]
     },
     "metadata": {},
     "output_type": "display_data"
    },
    {
     "data": {
      "text/html": [
       "<pre style=\"white-space:pre;overflow-x:auto;line-height:normal;font-family:Menlo,'DejaVu Sans Mono',consolas,'Courier New',monospace\"></pre>\n"
      ],
      "text/plain": []
     },
     "metadata": {},
     "output_type": "display_data"
    },
    {
     "data": {
      "text/html": [
       "<pre style=\"white-space:pre;overflow-x:auto;line-height:normal;font-family:Menlo,'DejaVu Sans Mono',consolas,'Courier New',monospace\"><span style=\"color: #008080; text-decoration-color: #008080; font-weight: bold\">2025</span>-<span style=\"color: #008080; text-decoration-color: #008080; font-weight: bold\">02</span>-<span style=\"color: #008080; text-decoration-color: #008080; font-weight: bold\">22</span> <span style=\"color: #00ff00; text-decoration-color: #00ff00; font-weight: bold\">15:15:04</span>,<span style=\"color: #008080; text-decoration-color: #008080; font-weight: bold\">757</span> - <span style=\"font-weight: bold\">{</span>pytorch_tabular:<span style=\"color: #008080; text-decoration-color: #008080; font-weight: bold\">388</span><span style=\"font-weight: bold\">}</span> - INFO - Model Sweep Finished                                      \n",
       "</pre>\n"
      ],
      "text/plain": [
       "\u001b[1;36m2025\u001b[0m-\u001b[1;36m02\u001b[0m-\u001b[1;36m22\u001b[0m \u001b[1;92m15:15:04\u001b[0m,\u001b[1;36m757\u001b[0m - \u001b[1m{\u001b[0mpytorch_tabular:\u001b[1;36m388\u001b[0m\u001b[1m}\u001b[0m - INFO - Model Sweep Finished                                      \n"
      ]
     },
     "metadata": {},
     "output_type": "display_data"
    },
    {
     "data": {
      "text/html": [
       "<pre style=\"white-space:pre;overflow-x:auto;line-height:normal;font-family:Menlo,'DejaVu Sans Mono',consolas,'Courier New',monospace\"><span style=\"color: #008080; text-decoration-color: #008080; font-weight: bold\">2025</span>-<span style=\"color: #008080; text-decoration-color: #008080; font-weight: bold\">02</span>-<span style=\"color: #008080; text-decoration-color: #008080; font-weight: bold\">22</span> <span style=\"color: #00ff00; text-decoration-color: #00ff00; font-weight: bold\">15:15:04</span>,<span style=\"color: #008080; text-decoration-color: #008080; font-weight: bold\">758</span> - <span style=\"font-weight: bold\">{</span>pytorch_tabular:<span style=\"color: #008080; text-decoration-color: #008080; font-weight: bold\">389</span><span style=\"font-weight: bold\">}</span> - INFO - Best Model: DANetModel                                    \n",
       "</pre>\n"
      ],
      "text/plain": [
       "\u001b[1;36m2025\u001b[0m-\u001b[1;36m02\u001b[0m-\u001b[1;36m22\u001b[0m \u001b[1;92m15:15:04\u001b[0m,\u001b[1;36m758\u001b[0m - \u001b[1m{\u001b[0mpytorch_tabular:\u001b[1;36m389\u001b[0m\u001b[1m}\u001b[0m - INFO - Best Model: DANetModel                                    \n"
      ]
     },
     "metadata": {},
     "output_type": "display_data"
    },
    {
     "name": "stdout",
     "output_type": "stream",
     "text": [
      "Total time: 187.74058413505554\n"
     ]
    }
   ],
   "source": [
    "tic = time.time()\n",
    "sweep_df, best_model = model_sweep(\n",
    "    task='classification' if model_type == 'classifier' else 'regression',  # 'classification' or 'regression'\n",
    "    train=train,\n",
    "    test=valid,\n",
    "    data_config=data_config,\n",
    "    optimizer_config=optimizer_config,\n",
    "    trainer_config=trainer_config,\n",
    "    model_list='high_memory',  # The list of models to compare. This can be one of the presets defined in pytorch_tabular.tabular_model_sweep.MODEL_SWEEP_PRESETS or a list of ModelConfig objects. Defaults to \"lite\".\n",
    "    verbose=True\n",
    ")\n",
    "print(f'Total time: {time.time() - tic}')"
   ]
  },
  {
   "cell_type": "markdown",
   "id": "41f86294-0e61-476e-bff5-af43ddca31c1",
   "metadata": {},
   "source": [
    "O melhor checkpoint de todos treinamentos será armazenado na variável de output, que neste caso estamos chamando de \"best_model\"."
   ]
  },
  {
   "cell_type": "code",
   "execution_count": 14,
   "id": "de2217e8-798a-4ddf-b69a-11e4254b49ac",
   "metadata": {},
   "outputs": [
    {
     "data": {
      "text/html": [
       "<pre style=\"white-space:pre;overflow-x:auto;line-height:normal;font-family:Menlo,'DejaVu Sans Mono',consolas,'Courier New',monospace\">┏━━━━━━━━━━━━━━━━━━━━━━━━━━━┳━━━━━━━━━━━━━━━━━━━━━━━━━━━┓\n",
       "┃<span style=\"font-weight: bold\">        Test metric        </span>┃<span style=\"font-weight: bold\">       DataLoader 0        </span>┃\n",
       "┡━━━━━━━━━━━━━━━━━━━━━━━━━━━╇━━━━━━━━━━━━━━━━━━━━━━━━━━━┩\n",
       "│<span style=\"color: #008080; text-decoration-color: #008080\">       test_accuracy       </span>│<span style=\"color: #800080; text-decoration-color: #800080\">    0.6200000047683716     </span>│\n",
       "│<span style=\"color: #008080; text-decoration-color: #008080\">         test_loss         </span>│<span style=\"color: #800080; text-decoration-color: #800080\">    0.8683189153671265     </span>│\n",
       "│<span style=\"color: #008080; text-decoration-color: #008080\">        test_loss_0        </span>│<span style=\"color: #800080; text-decoration-color: #800080\">    0.8683189153671265     </span>│\n",
       "└───────────────────────────┴───────────────────────────┘\n",
       "</pre>\n"
      ],
      "text/plain": [
       "┏━━━━━━━━━━━━━━━━━━━━━━━━━━━┳━━━━━━━━━━━━━━━━━━━━━━━━━━━┓\n",
       "┃\u001b[1m \u001b[0m\u001b[1m       Test metric       \u001b[0m\u001b[1m \u001b[0m┃\u001b[1m \u001b[0m\u001b[1m      DataLoader 0       \u001b[0m\u001b[1m \u001b[0m┃\n",
       "┡━━━━━━━━━━━━━━━━━━━━━━━━━━━╇━━━━━━━━━━━━━━━━━━━━━━━━━━━┩\n",
       "│\u001b[36m \u001b[0m\u001b[36m      test_accuracy      \u001b[0m\u001b[36m \u001b[0m│\u001b[35m \u001b[0m\u001b[35m   0.6200000047683716    \u001b[0m\u001b[35m \u001b[0m│\n",
       "│\u001b[36m \u001b[0m\u001b[36m        test_loss        \u001b[0m\u001b[36m \u001b[0m│\u001b[35m \u001b[0m\u001b[35m   0.8683189153671265    \u001b[0m\u001b[35m \u001b[0m│\n",
       "│\u001b[36m \u001b[0m\u001b[36m       test_loss_0       \u001b[0m\u001b[36m \u001b[0m│\u001b[35m \u001b[0m\u001b[35m   0.8683189153671265    \u001b[0m\u001b[35m \u001b[0m│\n",
       "└───────────────────────────┴───────────────────────────┘\n"
      ]
     },
     "metadata": {},
     "output_type": "display_data"
    }
   ],
   "source": [
    "test_metric = best_model.evaluate(test)\n",
    "if model_type == 'regressor':\n",
    "    print('Test MSE: %.3f' % (test_metric[0]['test_mean_squared_error']))\n",
    "    print(f'Test inference error (RMSE): ±{math.sqrt(test_metric[0][\"test_mean_squared_error\"])}')"
   ]
  },
  {
   "cell_type": "markdown",
   "id": "56fb7720-6c4e-4e46-8f80-519692c1c2e2",
   "metadata": {},
   "source": [
    "Lembrando que: Cada vez que rodar o treinamento o resultado pode ser diferente!"
   ]
  },
  {
   "cell_type": "code",
   "execution_count": 15,
   "id": "5c8a2493-e2f3-49a2-9ddc-e063f80c8d84",
   "metadata": {},
   "outputs": [
    {
     "data": {
      "text/html": [
       "<style type=\"text/css\">\n",
       "#T_a508d_row0_col4, #T_a508d_row0_col5, #T_a508d_row1_col5, #T_a508d_row1_col6 {\n",
       "  background-color: #006837;\n",
       "  color: #f1f1f1;\n",
       "}\n",
       "#T_a508d_row0_col6 {\n",
       "  background-color: #fff6b0;\n",
       "  color: #000000;\n",
       "}\n",
       "#T_a508d_row1_col4, #T_a508d_row3_col4 {\n",
       "  background-color: #4eb15d;\n",
       "  color: #f1f1f1;\n",
       "}\n",
       "#T_a508d_row2_col4 {\n",
       "  background-color: #69be63;\n",
       "  color: #f1f1f1;\n",
       "}\n",
       "#T_a508d_row2_col5, #T_a508d_row8_col6 {\n",
       "  background-color: #06733d;\n",
       "  color: #f1f1f1;\n",
       "}\n",
       "#T_a508d_row2_col6 {\n",
       "  background-color: #57b65f;\n",
       "  color: #f1f1f1;\n",
       "}\n",
       "#T_a508d_row3_col5 {\n",
       "  background-color: #0f8446;\n",
       "  color: #f1f1f1;\n",
       "}\n",
       "#T_a508d_row3_col6 {\n",
       "  background-color: #fffbb8;\n",
       "  color: #000000;\n",
       "}\n",
       "#T_a508d_row4_col4, #T_a508d_row6_col5 {\n",
       "  background-color: #84ca66;\n",
       "  color: #000000;\n",
       "}\n",
       "#T_a508d_row4_col5 {\n",
       "  background-color: #199750;\n",
       "  color: #f1f1f1;\n",
       "}\n",
       "#T_a508d_row4_col6, #T_a508d_row8_col4, #T_a508d_row8_col5 {\n",
       "  background-color: #a50026;\n",
       "  color: #f1f1f1;\n",
       "}\n",
       "#T_a508d_row5_col4 {\n",
       "  background-color: #bfe47a;\n",
       "  color: #000000;\n",
       "}\n",
       "#T_a508d_row5_col5 {\n",
       "  background-color: #48ae5c;\n",
       "  color: #f1f1f1;\n",
       "}\n",
       "#T_a508d_row5_col6 {\n",
       "  background-color: #4bb05c;\n",
       "  color: #f1f1f1;\n",
       "}\n",
       "#T_a508d_row6_col4 {\n",
       "  background-color: #fbfdba;\n",
       "  color: #000000;\n",
       "}\n",
       "#T_a508d_row6_col6 {\n",
       "  background-color: #a2d76a;\n",
       "  color: #000000;\n",
       "}\n",
       "#T_a508d_row7_col4 {\n",
       "  background-color: #fdbf6f;\n",
       "  color: #000000;\n",
       "}\n",
       "#T_a508d_row7_col5 {\n",
       "  background-color: #b9e176;\n",
       "  color: #000000;\n",
       "}\n",
       "#T_a508d_row7_col6 {\n",
       "  background-color: #2aa054;\n",
       "  color: #f1f1f1;\n",
       "}\n",
       "</style>\n",
       "<table id=\"T_a508d\">\n",
       "  <thead>\n",
       "    <tr>\n",
       "      <th class=\"blank level0\" >&nbsp;</th>\n",
       "      <th id=\"T_a508d_level0_col0\" class=\"col_heading level0 col0\" >model</th>\n",
       "      <th id=\"T_a508d_level0_col1\" class=\"col_heading level0 col1\" ># Params</th>\n",
       "      <th id=\"T_a508d_level0_col2\" class=\"col_heading level0 col2\" >epochs</th>\n",
       "      <th id=\"T_a508d_level0_col3\" class=\"col_heading level0 col3\" >test_loss_0</th>\n",
       "      <th id=\"T_a508d_level0_col4\" class=\"col_heading level0 col4\" >test_loss</th>\n",
       "      <th id=\"T_a508d_level0_col5\" class=\"col_heading level0 col5\" >test_accuracy</th>\n",
       "      <th id=\"T_a508d_level0_col6\" class=\"col_heading level0 col6\" >time_taken_per_epoch</th>\n",
       "    </tr>\n",
       "  </thead>\n",
       "  <tbody>\n",
       "    <tr>\n",
       "      <th id=\"T_a508d_level0_row0\" class=\"row_heading level0 row0\" >2</th>\n",
       "      <td id=\"T_a508d_row0_col0\" class=\"data row0 col0\" >DANetModel</td>\n",
       "      <td id=\"T_a508d_row0_col1\" class=\"data row0 col1\" >426 T</td>\n",
       "      <td id=\"T_a508d_row0_col2\" class=\"data row0 col2\" >49</td>\n",
       "      <td id=\"T_a508d_row0_col3\" class=\"data row0 col3\" >0.868319</td>\n",
       "      <td id=\"T_a508d_row0_col4\" class=\"data row0 col4\" >0.868319</td>\n",
       "      <td id=\"T_a508d_row0_col5\" class=\"data row0 col5\" >0.620000</td>\n",
       "      <td id=\"T_a508d_row0_col6\" class=\"data row0 col6\" >0.602178</td>\n",
       "    </tr>\n",
       "    <tr>\n",
       "      <th id=\"T_a508d_level0_row1\" class=\"row_heading level0 row1\" >1</th>\n",
       "      <td id=\"T_a508d_row1_col0\" class=\"data row1 col0\" >CategoryEmbeddingModel</td>\n",
       "      <td id=\"T_a508d_row1_col1\" class=\"data row1 col1\" >12 T</td>\n",
       "      <td id=\"T_a508d_row1_col2\" class=\"data row1 col2\" >49</td>\n",
       "      <td id=\"T_a508d_row1_col3\" class=\"data row1 col3\" >0.968948</td>\n",
       "      <td id=\"T_a508d_row1_col4\" class=\"data row1 col4\" >0.968948</td>\n",
       "      <td id=\"T_a508d_row1_col5\" class=\"data row1 col5\" >0.620000</td>\n",
       "      <td id=\"T_a508d_row1_col6\" class=\"data row1 col6\" >0.169340</td>\n",
       "    </tr>\n",
       "    <tr>\n",
       "      <th id=\"T_a508d_level0_row2\" class=\"row_heading level0 row2\" >7</th>\n",
       "      <td id=\"T_a508d_row2_col0\" class=\"data row2 col0\" >TabNetModel</td>\n",
       "      <td id=\"T_a508d_row2_col1\" class=\"data row2 col1\" >6 T</td>\n",
       "      <td id=\"T_a508d_row2_col2\" class=\"data row2 col2\" >60</td>\n",
       "      <td id=\"T_a508d_row2_col3\" class=\"data row2 col3\" >0.990346</td>\n",
       "      <td id=\"T_a508d_row2_col4\" class=\"data row2 col4\" >0.990346</td>\n",
       "      <td id=\"T_a508d_row2_col5\" class=\"data row2 col5\" >0.613333</td>\n",
       "      <td id=\"T_a508d_row2_col6\" class=\"data row2 col6\" >0.318616</td>\n",
       "    </tr>\n",
       "    <tr>\n",
       "      <th id=\"T_a508d_level0_row3\" class=\"row_heading level0 row3\" >6</th>\n",
       "      <td id=\"T_a508d_row3_col0\" class=\"data row3 col0\" >NODEModel</td>\n",
       "      <td id=\"T_a508d_row3_col1\" class=\"data row3 col1\" >1 M</td>\n",
       "      <td id=\"T_a508d_row3_col2\" class=\"data row3 col2\" >49</td>\n",
       "      <td id=\"T_a508d_row3_col3\" class=\"data row3 col3\" >0.968831</td>\n",
       "      <td id=\"T_a508d_row3_col4\" class=\"data row3 col4\" >0.968831</td>\n",
       "      <td id=\"T_a508d_row3_col5\" class=\"data row3 col5\" >0.603333</td>\n",
       "      <td id=\"T_a508d_row3_col6\" class=\"data row3 col6\" >0.589772</td>\n",
       "    </tr>\n",
       "    <tr>\n",
       "      <th id=\"T_a508d_level0_row4\" class=\"row_heading level0 row4\" >5</th>\n",
       "      <td id=\"T_a508d_row4_col0\" class=\"data row4 col0\" >GatedAdditiveTreeEnsembleModel</td>\n",
       "      <td id=\"T_a508d_row4_col1\" class=\"data row4 col1\" >77 T</td>\n",
       "      <td id=\"T_a508d_row4_col2\" class=\"data row4 col2\" >49</td>\n",
       "      <td id=\"T_a508d_row4_col3\" class=\"data row4 col3\" >1.016710</td>\n",
       "      <td id=\"T_a508d_row4_col4\" class=\"data row4 col4\" >1.016710</td>\n",
       "      <td id=\"T_a508d_row4_col5\" class=\"data row4 col5\" >0.593333</td>\n",
       "      <td id=\"T_a508d_row4_col6\" class=\"data row4 col6\" >0.989430</td>\n",
       "    </tr>\n",
       "    <tr>\n",
       "      <th id=\"T_a508d_level0_row5\" class=\"row_heading level0 row5\" >3</th>\n",
       "      <td id=\"T_a508d_row5_col0\" class=\"data row5 col0\" >FTTransformerModel</td>\n",
       "      <td id=\"T_a508d_row5_col1\" class=\"data row5 col1\" >272 T</td>\n",
       "      <td id=\"T_a508d_row5_col2\" class=\"data row5 col2\" >49</td>\n",
       "      <td id=\"T_a508d_row5_col3\" class=\"data row5 col3\" >1.076150</td>\n",
       "      <td id=\"T_a508d_row5_col4\" class=\"data row5 col4\" >1.076150</td>\n",
       "      <td id=\"T_a508d_row5_col5\" class=\"data row5 col5\" >0.576667</td>\n",
       "      <td id=\"T_a508d_row5_col6\" class=\"data row5 col6\" >0.306969</td>\n",
       "    </tr>\n",
       "    <tr>\n",
       "      <th id=\"T_a508d_level0_row6\" class=\"row_heading level0 row6\" >8</th>\n",
       "      <td id=\"T_a508d_row6_col0\" class=\"data row6 col0\" >TabTransformerModel</td>\n",
       "      <td id=\"T_a508d_row6_col1\" class=\"data row6 col1\" >272 T</td>\n",
       "      <td id=\"T_a508d_row6_col2\" class=\"data row6 col2\" >38</td>\n",
       "      <td id=\"T_a508d_row6_col3\" class=\"data row6 col3\" >1.160485</td>\n",
       "      <td id=\"T_a508d_row6_col4\" class=\"data row6 col4\" >1.160485</td>\n",
       "      <td id=\"T_a508d_row6_col5\" class=\"data row6 col5\" >0.553333</td>\n",
       "      <td id=\"T_a508d_row6_col6\" class=\"data row6 col6\" >0.410256</td>\n",
       "    </tr>\n",
       "    <tr>\n",
       "      <th id=\"T_a508d_level0_row7\" class=\"row_heading level0 row7\" >4</th>\n",
       "      <td id=\"T_a508d_row7_col0\" class=\"data row7 col0\" >GANDALFModel</td>\n",
       "      <td id=\"T_a508d_row7_col1\" class=\"data row7 col1\" >7 T</td>\n",
       "      <td id=\"T_a508d_row7_col2\" class=\"data row7 col2\" >49</td>\n",
       "      <td id=\"T_a508d_row7_col3\" class=\"data row7 col3\" >1.263955</td>\n",
       "      <td id=\"T_a508d_row7_col4\" class=\"data row7 col4\" >1.263955</td>\n",
       "      <td id=\"T_a508d_row7_col5\" class=\"data row7 col5\" >0.530000</td>\n",
       "      <td id=\"T_a508d_row7_col6\" class=\"data row7 col6\" >0.271540</td>\n",
       "    </tr>\n",
       "    <tr>\n",
       "      <th id=\"T_a508d_level0_row8\" class=\"row_heading level0 row8\" >0</th>\n",
       "      <td id=\"T_a508d_row8_col0\" class=\"data row8 col0\" >AutoIntModel</td>\n",
       "      <td id=\"T_a508d_row8_col1\" class=\"data row8 col1\" >15 T</td>\n",
       "      <td id=\"T_a508d_row8_col2\" class=\"data row8 col2\" >49</td>\n",
       "      <td id=\"T_a508d_row8_col3\" class=\"data row8 col3\" >1.462250</td>\n",
       "      <td id=\"T_a508d_row8_col4\" class=\"data row8 col4\" >1.462250</td>\n",
       "      <td id=\"T_a508d_row8_col5\" class=\"data row8 col5\" >0.353333</td>\n",
       "      <td id=\"T_a508d_row8_col6\" class=\"data row8 col6\" >0.191756</td>\n",
       "    </tr>\n",
       "  </tbody>\n",
       "</table>\n"
      ],
      "text/plain": [
       "<pandas.io.formats.style.Styler at 0x7d9d1b732fb0>"
      ]
     },
     "execution_count": 15,
     "metadata": {},
     "output_type": "execute_result"
    }
   ],
   "source": [
    "# Replace \"OOM\" with 0.0\n",
    "sweep_df.replace(['OOM', np.nan], 0.0, inplace=True)\n",
    "sweep_df.replace([np.inf], 999., inplace=True)\n",
    "\n",
    "if model_type == 'regressor':\n",
    "    sweep_df['test_rmse'] = np.sqrt(sweep_df['test_mean_squared_error'])\n",
    "\n",
    "sweep_df.drop(columns=['params', 'time_taken']).sort_values(\n",
    "    'test_accuracy' if model_type == 'classifier' else 'test_loss', ascending=False if model_type == 'classifier' else True).style.background_gradient(\n",
    "    subset=['test_accuracy' if model_type == 'classifier' else 'test_loss'], cmap='RdYlGn'\n",
    ").background_gradient(subset=['time_taken_per_epoch', 'test_loss'], cmap='RdYlGn_r')"
   ]
  },
  {
   "cell_type": "code",
   "execution_count": 16,
   "id": "b72c4c16-0908-4184-85be-d188a30c7aa6",
   "metadata": {},
   "outputs": [
    {
     "data": {
      "text/html": [
       "<pre style=\"white-space:pre;overflow-x:auto;line-height:normal;font-family:Menlo,'DejaVu Sans Mono',consolas,'Courier New',monospace\"><span style=\"color: #008080; text-decoration-color: #008080; font-weight: bold\">2025</span>-<span style=\"color: #008080; text-decoration-color: #008080; font-weight: bold\">02</span>-<span style=\"color: #008080; text-decoration-color: #008080; font-weight: bold\">22</span> <span style=\"color: #00ff00; text-decoration-color: #00ff00; font-weight: bold\">15:15:04</span>,<span style=\"color: #008080; text-decoration-color: #008080; font-weight: bold\">973</span> - <span style=\"font-weight: bold\">{</span>pytorch_tabular.tabular_model:<span style=\"color: #008080; text-decoration-color: #008080; font-weight: bold\">1575</span><span style=\"font-weight: bold\">}</span> - WARNING - Directory is not empty. Overwriting the \n",
       "contents.                                                                                                          \n",
       "</pre>\n"
      ],
      "text/plain": [
       "\u001b[1;36m2025\u001b[0m-\u001b[1;36m02\u001b[0m-\u001b[1;36m22\u001b[0m \u001b[1;92m15:15:04\u001b[0m,\u001b[1;36m973\u001b[0m - \u001b[1m{\u001b[0mpytorch_tabular.tabular_model:\u001b[1;36m1575\u001b[0m\u001b[1m}\u001b[0m - WARNING - Directory is not empty. Overwriting the \n",
       "contents.                                                                                                          \n"
      ]
     },
     "metadata": {},
     "output_type": "display_data"
    }
   ],
   "source": [
    "# Save best model\n",
    "best_model.save_model('results/best_model_pytorch_tabular', inference_only=True)\n",
    "\n",
    "# Save columns names and informations\n",
    "data_to_save = {\n",
    "    'col_names_order': col_names_order,\n",
    "    'num_col_names': num_col_names,\n",
    "    'cat_col_names': cat_col_names,\n",
    "    'date_col_names': date_col_names,\n",
    "    'target_cols': target_cols,\n",
    "    'category_mappings': category_mappings,\n",
    "    'window_size': window_size\n",
    "}\n",
    "with open('results/columns_metadata_pytorch_tabular.json', 'w') as json_file:\n",
    "    json.dump(data_to_save, json_file, indent=4)"
   ]
  },
  {
   "cell_type": "markdown",
   "id": "813e3158-0db3-482c-b5eb-9be4b5699f78",
   "metadata": {},
   "source": [
    "### Fine-tuning Hyperparametrs\n",
    "Show, agora que sabemos as melhores arquiteturas para o nosso modelo, podemos brincar com ela(s) para buscar melhores hiperparâmetros para termos resultados ainda melhores. Para isso o Pytorch Tabular disponibilizar a função [tuner](https://pytorch-tabular.readthedocs.io/en/latest/apidocs_coreclasses/#pytorch_tabular.TabularModelTuner.tune)."
   ]
  },
  {
   "cell_type": "markdown",
   "id": "7df8050c-c222-4447-99ab-007b56e6c6a8",
   "metadata": {},
   "source": [
    "Configurações dos modelos: https://pytorch-tabular.readthedocs.io/en/latest/apidocs_model/\n",
    "\n",
    "Mais informações de como o hyperparameter space funcionam: https://pytorch-tabular.readthedocs.io/en/latest/tutorials/10-Hyperparameter%20Tuning/#define-the-hyperparameter-space\n",
    "\n",
    "Neste caso vamos pegar as duas arquiteturas que se sairam bem e brinca com elas."
   ]
  },
  {
   "cell_type": "code",
   "execution_count": 17,
   "id": "e3421d5e-7e46-413f-b0ea-06a7afbdeec0",
   "metadata": {},
   "outputs": [],
   "source": [
    "from pytorch_tabular.tabular_model_tuner import TabularModelTuner\n",
    "\n",
    "from pytorch_tabular.models import (\n",
    "    CategoryEmbeddingModelConfig,\n",
    "    DANetConfig,\n",
    ")   "
   ]
  },
  {
   "cell_type": "markdown",
   "id": "e76edf9a-901d-4b67-808e-d56809661221",
   "metadata": {},
   "source": [
    "As configurações dos spaces que serão utilizados sempre irão começar com nome da configuração, dois underlines e o parâmetro. Sendo seus valores uma lista com todas as configurações que deseja testar."
   ]
  },
  {
   "cell_type": "code",
   "execution_count": 18,
   "id": "80497ee5-5761-4317-8180-df2fe73437ca",
   "metadata": {},
   "outputs": [],
   "source": [
    "model_config_category_embedding = CategoryEmbeddingModelConfig(task='classification' if model_type == 'classifier' else 'regression')\n",
    "\n",
    "search_space_category_embedding = {\n",
    "    'optimizer_config__optimizer': ['Adam', 'AdamW'],\n",
    "    'model_config__layers': ['128-64-32', '1024-512-256', '32-64-128', '256-512-1024'],\n",
    "    'model_config__activation': ['ReLU', 'LeakyReLU'],\n",
    "}"
   ]
  },
  {
   "cell_type": "code",
   "execution_count": 19,
   "id": "33e0c298-ddd9-4e62-9aea-30a3d8daa577",
   "metadata": {},
   "outputs": [],
   "source": [
    "model_config_DANetConfig = DANetConfig(task='classification' if model_type == 'classifier' else 'regression')\n",
    "\n",
    "search_space_DANetConfig = {\n",
    "    'optimizer_config__optimizer': ['Adam', 'AdamW'],\n",
    "    'model_config__n_layers': [4, 8, 16],\n",
    "    'model_config__abstlay_dim_1': [16, 32, 64],\n",
    "    'model_config__abstlay_dim_2': [32, 64, 128],\n",
    "}"
   ]
  },
  {
   "cell_type": "markdown",
   "id": "2d4034f3-946a-480b-888c-0367c35cca54",
   "metadata": {},
   "source": [
    "Para informar o tuner quais arquiteturas e hiperparâmetros testar, é necessário adicioná-los em listas. Ressaltando que ambas listas devem estar ordenadas iguais e ter o mesmo tamanho (irá utilizar primeiro elemento de models com primeiro de search_space, segundo com segundo,...)"
   ]
  },
  {
   "cell_type": "code",
   "execution_count": 20,
   "id": "52004721-37ae-4043-a175-8b9564b3d0db",
   "metadata": {},
   "outputs": [],
   "source": [
    "all_models = [model_config_category_embedding, model_config_DANetConfig]\n",
    "all_search_space = [search_space_category_embedding, search_space_DANetConfig]"
   ]
  },
  {
   "cell_type": "markdown",
   "id": "f430eb5c-1704-4c40-a730-4aed62949602",
   "metadata": {},
   "source": [
    "O tuner possui duas \"strategy\" principais:\n",
    "- grid_search: Para pesquisar todos os hiperparâmetros que foram definidos, mas lembre-se que cada novo campo que você adicionar aumentará consideravelmente o tempo total de treinamento. Se você configurar 4 otimizadores, 4 layes, 2 ativações e 2 dropout, isso significa 64 (4 * 4 * 2 * 2) treinamentos.\n",
    "- random_search: Obterá aleatoriamente configurações de hiperparâmetros \"n_trials\" de cada modelo que foi definido. É útil para um treinamento mais rápido, mas lembre-se de que não testará todos os hiperparâmetros."
   ]
  },
  {
   "cell_type": "code",
   "execution_count": null,
   "id": "e9a1449e-a034-4e3b-9101-80fad9272307",
   "metadata": {
    "scrolled": true
   },
   "outputs": [],
   "source": [
    "tuner = TabularModelTuner(\n",
    "    data_config=data_config,\n",
    "    model_config=all_models,\n",
    "    optimizer_config=optimizer_config,\n",
    "    trainer_config=trainer_config\n",
    ")\n",
    "\n",
    "tic = time.time()\n",
    "tuner_df = tuner.tune(\n",
    "    train=train,\n",
    "    validation=valid,\n",
    "    search_space=all_search_space,\n",
    "    strategy='grid_search',  # grid_search (seach in all search_spaces) or random_search (search in n_trials random search_spaces)\n",
    "    n_trials=4,  # Used when strategy is random_search\n",
    "    metric='accuracy' if model_type == 'classifier' else 'loss',\n",
    "    mode='max' if model_type == 'classifier' else 'min',  # max or min\n",
    "    progress_bar=True,\n",
    "    verbose=True # Make True if you want to log metrics and params each iteration\n",
    ")\n",
    "print(f'Total time: {time.time() - tic}')"
   ]
  },
  {
   "cell_type": "markdown",
   "id": "3c3e5a74-c03d-471f-86de-38d22d5d2fef",
   "metadata": {},
   "source": [
    "O Tuner retorna uma única variável contendo [tabela deresultados, parâmetros do melhor modelo, valor da melhor métrica, melhor modelo]."
   ]
  },
  {
   "cell_type": "code",
   "execution_count": 22,
   "id": "6fbe9813-dced-4b62-807e-17ec4bde19c1",
   "metadata": {
    "scrolled": true
   },
   "outputs": [
    {
     "data": {
      "text/html": [
       "<style type=\"text/css\">\n",
       "#T_353f6_row0_col6 {\n",
       "  background-color: #6bbf64;\n",
       "  color: #000000;\n",
       "}\n",
       "#T_353f6_row0_col7, #T_353f6_row10_col6 {\n",
       "  background-color: #006837;\n",
       "  color: #f1f1f1;\n",
       "}\n",
       "#T_353f6_row1_col6, #T_353f6_row17_col6 {\n",
       "  background-color: #1e9a51;\n",
       "  color: #f1f1f1;\n",
       "}\n",
       "#T_353f6_row1_col7, #T_353f6_row2_col7 {\n",
       "  background-color: #016a38;\n",
       "  color: #f1f1f1;\n",
       "}\n",
       "#T_353f6_row2_col6, #T_353f6_row34_col6 {\n",
       "  background-color: #6ec064;\n",
       "  color: #000000;\n",
       "}\n",
       "#T_353f6_row3_col6, #T_353f6_row7_col6 {\n",
       "  background-color: #118848;\n",
       "  color: #f1f1f1;\n",
       "}\n",
       "#T_353f6_row3_col7, #T_353f6_row4_col7, #T_353f6_row5_col7, #T_353f6_row6_col7 {\n",
       "  background-color: #036e3a;\n",
       "  color: #f1f1f1;\n",
       "}\n",
       "#T_353f6_row4_col6, #T_353f6_row12_col7, #T_353f6_row13_col7, #T_353f6_row14_col7, #T_353f6_row15_col7 {\n",
       "  background-color: #097940;\n",
       "  color: #f1f1f1;\n",
       "}\n",
       "#T_353f6_row5_col6, #T_353f6_row32_col7, #T_353f6_row33_col7, #T_353f6_row34_col7, #T_353f6_row35_col7, #T_353f6_row36_col7, #T_353f6_row37_col7 {\n",
       "  background-color: #138c4a;\n",
       "  color: #f1f1f1;\n",
       "}\n",
       "#T_353f6_row6_col6 {\n",
       "  background-color: #05713c;\n",
       "  color: #f1f1f1;\n",
       "}\n",
       "#T_353f6_row7_col7, #T_353f6_row8_col7, #T_353f6_row9_col7 {\n",
       "  background-color: #04703b;\n",
       "  color: #f1f1f1;\n",
       "}\n",
       "#T_353f6_row8_col6, #T_353f6_row20_col7 {\n",
       "  background-color: #0e8245;\n",
       "  color: #f1f1f1;\n",
       "}\n",
       "#T_353f6_row9_col6, #T_353f6_row16_col7, #T_353f6_row17_col7, #T_353f6_row18_col7 {\n",
       "  background-color: #0b7d42;\n",
       "  color: #f1f1f1;\n",
       "}\n",
       "#T_353f6_row10_col7, #T_353f6_row11_col7 {\n",
       "  background-color: #08773f;\n",
       "  color: #f1f1f1;\n",
       "}\n",
       "#T_353f6_row11_col6 {\n",
       "  background-color: #82c966;\n",
       "  color: #000000;\n",
       "}\n",
       "#T_353f6_row12_col6, #T_353f6_row18_col6, #T_353f6_row19_col6, #T_353f6_row40_col6, #T_353f6_row55_col7, #T_353f6_row56_col7, #T_353f6_row57_col7, #T_353f6_row58_col7 {\n",
       "  background-color: #249d53;\n",
       "  color: #f1f1f1;\n",
       "}\n",
       "#T_353f6_row13_col6 {\n",
       "  background-color: #279f53;\n",
       "  color: #f1f1f1;\n",
       "}\n",
       "#T_353f6_row14_col6 {\n",
       "  background-color: #54b45f;\n",
       "  color: #f1f1f1;\n",
       "}\n",
       "#T_353f6_row15_col6, #T_353f6_row19_col7 {\n",
       "  background-color: #0d8044;\n",
       "  color: #f1f1f1;\n",
       "}\n",
       "#T_353f6_row16_col6, #T_353f6_row37_col6, #T_353f6_row39_col6 {\n",
       "  background-color: #66bd63;\n",
       "  color: #f1f1f1;\n",
       "}\n",
       "#T_353f6_row20_col6, #T_353f6_row21_col7, #T_353f6_row22_col7, #T_353f6_row23_col7, #T_353f6_row24_col7, #T_353f6_row25_col7 {\n",
       "  background-color: #108647;\n",
       "  color: #f1f1f1;\n",
       "}\n",
       "#T_353f6_row21_col6 {\n",
       "  background-color: #16914d;\n",
       "  color: #f1f1f1;\n",
       "}\n",
       "#T_353f6_row22_col6, #T_353f6_row65_col6, #T_353f6_row68_col7 {\n",
       "  background-color: #5db961;\n",
       "  color: #f1f1f1;\n",
       "}\n",
       "#T_353f6_row23_col6 {\n",
       "  background-color: #cdea83;\n",
       "  color: #000000;\n",
       "}\n",
       "#T_353f6_row24_col6, #T_353f6_row60_col6 {\n",
       "  background-color: #a2d76a;\n",
       "  color: #000000;\n",
       "}\n",
       "#T_353f6_row25_col6, #T_353f6_row47_col6, #T_353f6_row60_col7, #T_353f6_row61_col7, #T_353f6_row62_col7, #T_353f6_row63_col7, #T_353f6_row64_col7, #T_353f6_row65_col7 {\n",
       "  background-color: #30a356;\n",
       "  color: #f1f1f1;\n",
       "}\n",
       "#T_353f6_row26_col6, #T_353f6_row32_col6 {\n",
       "  background-color: #3ca959;\n",
       "  color: #f1f1f1;\n",
       "}\n",
       "#T_353f6_row26_col7, #T_353f6_row27_col7, #T_353f6_row28_col7, #T_353f6_row29_col7, #T_353f6_row30_col7, #T_353f6_row31_col7, #T_353f6_row35_col6 {\n",
       "  background-color: #128a49;\n",
       "  color: #f1f1f1;\n",
       "}\n",
       "#T_353f6_row27_col6, #T_353f6_row48_col6 {\n",
       "  background-color: #48ae5c;\n",
       "  color: #f1f1f1;\n",
       "}\n",
       "#T_353f6_row28_col6 {\n",
       "  background-color: #70c164;\n",
       "  color: #000000;\n",
       "}\n",
       "#T_353f6_row29_col6 {\n",
       "  background-color: #60ba62;\n",
       "  color: #f1f1f1;\n",
       "}\n",
       "#T_353f6_row30_col6 {\n",
       "  background-color: #36a657;\n",
       "  color: #f1f1f1;\n",
       "}\n",
       "#T_353f6_row31_col6, #T_353f6_row33_col6, #T_353f6_row52_col6 {\n",
       "  background-color: #42ac5a;\n",
       "  color: #f1f1f1;\n",
       "}\n",
       "#T_353f6_row36_col6, #T_353f6_row67_col7 {\n",
       "  background-color: #57b65f;\n",
       "  color: #f1f1f1;\n",
       "}\n",
       "#T_353f6_row38_col6 {\n",
       "  background-color: #4bb05c;\n",
       "  color: #f1f1f1;\n",
       "}\n",
       "#T_353f6_row38_col7, #T_353f6_row39_col7, #T_353f6_row40_col7, #T_353f6_row41_col7 {\n",
       "  background-color: #15904c;\n",
       "  color: #f1f1f1;\n",
       "}\n",
       "#T_353f6_row41_col6, #T_353f6_row51_col6, #T_353f6_row62_col6 {\n",
       "  background-color: #89cc67;\n",
       "  color: #000000;\n",
       "}\n",
       "#T_353f6_row42_col6 {\n",
       "  background-color: #5ab760;\n",
       "  color: #f1f1f1;\n",
       "}\n",
       "#T_353f6_row42_col7, #T_353f6_row43_col7, #T_353f6_row44_col7, #T_353f6_row45_col7, #T_353f6_row46_col7, #T_353f6_row47_col7 {\n",
       "  background-color: #17934e;\n",
       "  color: #f1f1f1;\n",
       "}\n",
       "#T_353f6_row43_col6 {\n",
       "  background-color: #7ac665;\n",
       "  color: #000000;\n",
       "}\n",
       "#T_353f6_row44_col6 {\n",
       "  background-color: #75c465;\n",
       "  color: #000000;\n",
       "}\n",
       "#T_353f6_row45_col6 {\n",
       "  background-color: #fee593;\n",
       "  color: #000000;\n",
       "}\n",
       "#T_353f6_row46_col6 {\n",
       "  background-color: #87cb67;\n",
       "  color: #000000;\n",
       "}\n",
       "#T_353f6_row48_col7, #T_353f6_row49_col7, #T_353f6_row50_col7, #T_353f6_row51_col7 {\n",
       "  background-color: #18954f;\n",
       "  color: #f1f1f1;\n",
       "}\n",
       "#T_353f6_row49_col6 {\n",
       "  background-color: #63bc62;\n",
       "  color: #f1f1f1;\n",
       "}\n",
       "#T_353f6_row50_col6 {\n",
       "  background-color: #8ccd67;\n",
       "  color: #000000;\n",
       "}\n",
       "#T_353f6_row52_col7, #T_353f6_row53_col7, #T_353f6_row54_col7 {\n",
       "  background-color: #1b9950;\n",
       "  color: #f1f1f1;\n",
       "}\n",
       "#T_353f6_row53_col6 {\n",
       "  background-color: #98d368;\n",
       "  color: #000000;\n",
       "}\n",
       "#T_353f6_row54_col6 {\n",
       "  background-color: #69be63;\n",
       "  color: #f1f1f1;\n",
       "}\n",
       "#T_353f6_row55_col6 {\n",
       "  background-color: #fff1a8;\n",
       "  color: #000000;\n",
       "}\n",
       "#T_353f6_row56_col6 {\n",
       "  background-color: #abdb6d;\n",
       "  color: #000000;\n",
       "}\n",
       "#T_353f6_row57_col6 {\n",
       "  background-color: #8ecf67;\n",
       "  color: #000000;\n",
       "}\n",
       "#T_353f6_row58_col6 {\n",
       "  background-color: #4eb15d;\n",
       "  color: #f1f1f1;\n",
       "}\n",
       "#T_353f6_row59_col6 {\n",
       "  background-color: #feeda1;\n",
       "  color: #000000;\n",
       "}\n",
       "#T_353f6_row59_col7 {\n",
       "  background-color: #2aa054;\n",
       "  color: #f1f1f1;\n",
       "}\n",
       "#T_353f6_row61_col6 {\n",
       "  background-color: #a0d669;\n",
       "  color: #000000;\n",
       "}\n",
       "#T_353f6_row63_col6 {\n",
       "  background-color: #fbfdba;\n",
       "  color: #000000;\n",
       "}\n",
       "#T_353f6_row64_col6, #T_353f6_row67_col6 {\n",
       "  background-color: #bbe278;\n",
       "  color: #000000;\n",
       "}\n",
       "#T_353f6_row66_col6 {\n",
       "  background-color: #51b35e;\n",
       "  color: #f1f1f1;\n",
       "}\n",
       "#T_353f6_row66_col7 {\n",
       "  background-color: #3faa59;\n",
       "  color: #f1f1f1;\n",
       "}\n",
       "#T_353f6_row68_col6 {\n",
       "  background-color: #c7e77f;\n",
       "  color: #000000;\n",
       "}\n",
       "#T_353f6_row69_col6, #T_353f6_row69_col7 {\n",
       "  background-color: #a50026;\n",
       "  color: #f1f1f1;\n",
       "}\n",
       "</style>\n",
       "<table id=\"T_353f6\">\n",
       "  <thead>\n",
       "    <tr>\n",
       "      <th class=\"blank level0\" >&nbsp;</th>\n",
       "      <th id=\"T_353f6_level0_col0\" class=\"col_heading level0 col0\" >trial_id</th>\n",
       "      <th id=\"T_353f6_level0_col1\" class=\"col_heading level0 col1\" >model</th>\n",
       "      <th id=\"T_353f6_level0_col2\" class=\"col_heading level0 col2\" >model_config__activation</th>\n",
       "      <th id=\"T_353f6_level0_col3\" class=\"col_heading level0 col3\" >model_config__layers</th>\n",
       "      <th id=\"T_353f6_level0_col4\" class=\"col_heading level0 col4\" >optimizer_config__optimizer</th>\n",
       "      <th id=\"T_353f6_level0_col5\" class=\"col_heading level0 col5\" >loss_0</th>\n",
       "      <th id=\"T_353f6_level0_col6\" class=\"col_heading level0 col6\" >loss</th>\n",
       "      <th id=\"T_353f6_level0_col7\" class=\"col_heading level0 col7\" >accuracy</th>\n",
       "      <th id=\"T_353f6_level0_col8\" class=\"col_heading level0 col8\" >model_config__abstlay_dim_1</th>\n",
       "      <th id=\"T_353f6_level0_col9\" class=\"col_heading level0 col9\" >model_config__abstlay_dim_2</th>\n",
       "      <th id=\"T_353f6_level0_col10\" class=\"col_heading level0 col10\" >model_config__n_layers</th>\n",
       "    </tr>\n",
       "  </thead>\n",
       "  <tbody>\n",
       "    <tr>\n",
       "      <th id=\"T_353f6_level0_row0\" class=\"row_heading level0 row0\" >38</th>\n",
       "      <td id=\"T_353f6_row0_col0\" class=\"data row0 col0\" >22</td>\n",
       "      <td id=\"T_353f6_row0_col1\" class=\"data row0 col1\" >1-DANetConfig</td>\n",
       "      <td id=\"T_353f6_row0_col2\" class=\"data row0 col2\" >nan</td>\n",
       "      <td id=\"T_353f6_row0_col3\" class=\"data row0 col3\" >nan</td>\n",
       "      <td id=\"T_353f6_row0_col4\" class=\"data row0 col4\" >Adam</td>\n",
       "      <td id=\"T_353f6_row0_col5\" class=\"data row0 col5\" >0.900050</td>\n",
       "      <td id=\"T_353f6_row0_col6\" class=\"data row0 col6\" >0.900050</td>\n",
       "      <td id=\"T_353f6_row0_col7\" class=\"data row0 col7\" >0.733333</td>\n",
       "      <td id=\"T_353f6_row0_col8\" class=\"data row0 col8\" >32.000000</td>\n",
       "      <td id=\"T_353f6_row0_col9\" class=\"data row0 col9\" >32.000000</td>\n",
       "      <td id=\"T_353f6_row0_col10\" class=\"data row0 col10\" >16.000000</td>\n",
       "    </tr>\n",
       "    <tr>\n",
       "      <th id=\"T_353f6_level0_row1\" class=\"row_heading level0 row1\" >56</th>\n",
       "      <td id=\"T_353f6_row1_col0\" class=\"data row1 col0\" >40</td>\n",
       "      <td id=\"T_353f6_row1_col1\" class=\"data row1 col1\" >1-DANetConfig</td>\n",
       "      <td id=\"T_353f6_row1_col2\" class=\"data row1 col2\" >nan</td>\n",
       "      <td id=\"T_353f6_row1_col3\" class=\"data row1 col3\" >nan</td>\n",
       "      <td id=\"T_353f6_row1_col4\" class=\"data row1 col4\" >Adam</td>\n",
       "      <td id=\"T_353f6_row1_col5\" class=\"data row1 col5\" >0.805125</td>\n",
       "      <td id=\"T_353f6_row1_col6\" class=\"data row1 col6\" >0.805125</td>\n",
       "      <td id=\"T_353f6_row1_col7\" class=\"data row1 col7\" >0.730000</td>\n",
       "      <td id=\"T_353f6_row1_col8\" class=\"data row1 col8\" >64.000000</td>\n",
       "      <td id=\"T_353f6_row1_col9\" class=\"data row1 col9\" >32.000000</td>\n",
       "      <td id=\"T_353f6_row1_col10\" class=\"data row1 col10\" >16.000000</td>\n",
       "    </tr>\n",
       "    <tr>\n",
       "      <th id=\"T_353f6_level0_row2\" class=\"row_heading level0 row2\" >12</th>\n",
       "      <td id=\"T_353f6_row2_col0\" class=\"data row2 col0\" >12</td>\n",
       "      <td id=\"T_353f6_row2_col1\" class=\"data row2 col1\" >0-CategoryEmbeddingModelConfig</td>\n",
       "      <td id=\"T_353f6_row2_col2\" class=\"data row2 col2\" >LeakyReLU</td>\n",
       "      <td id=\"T_353f6_row2_col3\" class=\"data row2 col3\" >32-64-128</td>\n",
       "      <td id=\"T_353f6_row2_col4\" class=\"data row2 col4\" >Adam</td>\n",
       "      <td id=\"T_353f6_row2_col5\" class=\"data row2 col5\" >0.902513</td>\n",
       "      <td id=\"T_353f6_row2_col6\" class=\"data row2 col6\" >0.902513</td>\n",
       "      <td id=\"T_353f6_row2_col7\" class=\"data row2 col7\" >0.730000</td>\n",
       "      <td id=\"T_353f6_row2_col8\" class=\"data row2 col8\" >nan</td>\n",
       "      <td id=\"T_353f6_row2_col9\" class=\"data row2 col9\" >nan</td>\n",
       "      <td id=\"T_353f6_row2_col10\" class=\"data row2 col10\" >nan</td>\n",
       "    </tr>\n",
       "    <tr>\n",
       "      <th id=\"T_353f6_level0_row3\" class=\"row_heading level0 row3\" >26</th>\n",
       "      <td id=\"T_353f6_row3_col0\" class=\"data row3 col0\" >10</td>\n",
       "      <td id=\"T_353f6_row3_col1\" class=\"data row3 col1\" >1-DANetConfig</td>\n",
       "      <td id=\"T_353f6_row3_col2\" class=\"data row3 col2\" >nan</td>\n",
       "      <td id=\"T_353f6_row3_col3\" class=\"data row3 col3\" >nan</td>\n",
       "      <td id=\"T_353f6_row3_col4\" class=\"data row3 col4\" >Adam</td>\n",
       "      <td id=\"T_353f6_row3_col5\" class=\"data row3 col5\" >0.765322</td>\n",
       "      <td id=\"T_353f6_row3_col6\" class=\"data row3 col6\" >0.765322</td>\n",
       "      <td id=\"T_353f6_row3_col7\" class=\"data row3 col7\" >0.726667</td>\n",
       "      <td id=\"T_353f6_row3_col8\" class=\"data row3 col8\" >16.000000</td>\n",
       "      <td id=\"T_353f6_row3_col9\" class=\"data row3 col9\" >64.000000</td>\n",
       "      <td id=\"T_353f6_row3_col10\" class=\"data row3 col10\" >16.000000</td>\n",
       "    </tr>\n",
       "    <tr>\n",
       "      <th id=\"T_353f6_level0_row4\" class=\"row_heading level0 row4\" >53</th>\n",
       "      <td id=\"T_353f6_row4_col0\" class=\"data row4 col0\" >37</td>\n",
       "      <td id=\"T_353f6_row4_col1\" class=\"data row4 col1\" >1-DANetConfig</td>\n",
       "      <td id=\"T_353f6_row4_col2\" class=\"data row4 col2\" >nan</td>\n",
       "      <td id=\"T_353f6_row4_col3\" class=\"data row4 col3\" >nan</td>\n",
       "      <td id=\"T_353f6_row4_col4\" class=\"data row4 col4\" >AdamW</td>\n",
       "      <td id=\"T_353f6_row4_col5\" class=\"data row4 col5\" >0.736627</td>\n",
       "      <td id=\"T_353f6_row4_col6\" class=\"data row4 col6\" >0.736627</td>\n",
       "      <td id=\"T_353f6_row4_col7\" class=\"data row4 col7\" >0.726667</td>\n",
       "      <td id=\"T_353f6_row4_col8\" class=\"data row4 col8\" >64.000000</td>\n",
       "      <td id=\"T_353f6_row4_col9\" class=\"data row4 col9\" >32.000000</td>\n",
       "      <td id=\"T_353f6_row4_col10\" class=\"data row4 col10\" >4.000000</td>\n",
       "    </tr>\n",
       "    <tr>\n",
       "      <th id=\"T_353f6_level0_row5\" class=\"row_heading level0 row5\" >17</th>\n",
       "      <td id=\"T_353f6_row5_col0\" class=\"data row5 col0\" >1</td>\n",
       "      <td id=\"T_353f6_row5_col1\" class=\"data row5 col1\" >1-DANetConfig</td>\n",
       "      <td id=\"T_353f6_row5_col2\" class=\"data row5 col2\" >nan</td>\n",
       "      <td id=\"T_353f6_row5_col3\" class=\"data row5 col3\" >nan</td>\n",
       "      <td id=\"T_353f6_row5_col4\" class=\"data row5 col4\" >AdamW</td>\n",
       "      <td id=\"T_353f6_row5_col5\" class=\"data row5 col5\" >0.775942</td>\n",
       "      <td id=\"T_353f6_row5_col6\" class=\"data row5 col6\" >0.775942</td>\n",
       "      <td id=\"T_353f6_row5_col7\" class=\"data row5 col7\" >0.726667</td>\n",
       "      <td id=\"T_353f6_row5_col8\" class=\"data row5 col8\" >16.000000</td>\n",
       "      <td id=\"T_353f6_row5_col9\" class=\"data row5 col9\" >32.000000</td>\n",
       "      <td id=\"T_353f6_row5_col10\" class=\"data row5 col10\" >4.000000</td>\n",
       "    </tr>\n",
       "    <tr>\n",
       "      <th id=\"T_353f6_level0_row6\" class=\"row_heading level0 row6\" >49</th>\n",
       "      <td id=\"T_353f6_row6_col0\" class=\"data row6 col0\" >33</td>\n",
       "      <td id=\"T_353f6_row6_col1\" class=\"data row6 col1\" >1-DANetConfig</td>\n",
       "      <td id=\"T_353f6_row6_col2\" class=\"data row6 col2\" >nan</td>\n",
       "      <td id=\"T_353f6_row6_col3\" class=\"data row6 col3\" >nan</td>\n",
       "      <td id=\"T_353f6_row6_col4\" class=\"data row6 col4\" >AdamW</td>\n",
       "      <td id=\"T_353f6_row6_col5\" class=\"data row6 col5\" >0.721133</td>\n",
       "      <td id=\"T_353f6_row6_col6\" class=\"data row6 col6\" >0.721133</td>\n",
       "      <td id=\"T_353f6_row6_col7\" class=\"data row6 col7\" >0.726667</td>\n",
       "      <td id=\"T_353f6_row6_col8\" class=\"data row6 col8\" >32.000000</td>\n",
       "      <td id=\"T_353f6_row6_col9\" class=\"data row6 col9\" >128.000000</td>\n",
       "      <td id=\"T_353f6_row6_col10\" class=\"data row6 col10\" >8.000000</td>\n",
       "    </tr>\n",
       "    <tr>\n",
       "      <th id=\"T_353f6_level0_row7\" class=\"row_heading level0 row7\" >57</th>\n",
       "      <td id=\"T_353f6_row7_col0\" class=\"data row7 col0\" >41</td>\n",
       "      <td id=\"T_353f6_row7_col1\" class=\"data row7 col1\" >1-DANetConfig</td>\n",
       "      <td id=\"T_353f6_row7_col2\" class=\"data row7 col2\" >nan</td>\n",
       "      <td id=\"T_353f6_row7_col3\" class=\"data row7 col3\" >nan</td>\n",
       "      <td id=\"T_353f6_row7_col4\" class=\"data row7 col4\" >AdamW</td>\n",
       "      <td id=\"T_353f6_row7_col5\" class=\"data row7 col5\" >0.768274</td>\n",
       "      <td id=\"T_353f6_row7_col6\" class=\"data row7 col6\" >0.768274</td>\n",
       "      <td id=\"T_353f6_row7_col7\" class=\"data row7 col7\" >0.723333</td>\n",
       "      <td id=\"T_353f6_row7_col8\" class=\"data row7 col8\" >64.000000</td>\n",
       "      <td id=\"T_353f6_row7_col9\" class=\"data row7 col9\" >32.000000</td>\n",
       "      <td id=\"T_353f6_row7_col10\" class=\"data row7 col10\" >16.000000</td>\n",
       "    </tr>\n",
       "    <tr>\n",
       "      <th id=\"T_353f6_level0_row8\" class=\"row_heading level0 row8\" >34</th>\n",
       "      <td id=\"T_353f6_row8_col0\" class=\"data row8 col0\" >18</td>\n",
       "      <td id=\"T_353f6_row8_col1\" class=\"data row8 col1\" >1-DANetConfig</td>\n",
       "      <td id=\"T_353f6_row8_col2\" class=\"data row8 col2\" >nan</td>\n",
       "      <td id=\"T_353f6_row8_col3\" class=\"data row8 col3\" >nan</td>\n",
       "      <td id=\"T_353f6_row8_col4\" class=\"data row8 col4\" >Adam</td>\n",
       "      <td id=\"T_353f6_row8_col5\" class=\"data row8 col5\" >0.754602</td>\n",
       "      <td id=\"T_353f6_row8_col6\" class=\"data row8 col6\" >0.754602</td>\n",
       "      <td id=\"T_353f6_row8_col7\" class=\"data row8 col7\" >0.723333</td>\n",
       "      <td id=\"T_353f6_row8_col8\" class=\"data row8 col8\" >32.000000</td>\n",
       "      <td id=\"T_353f6_row8_col9\" class=\"data row8 col9\" >32.000000</td>\n",
       "      <td id=\"T_353f6_row8_col10\" class=\"data row8 col10\" >4.000000</td>\n",
       "    </tr>\n",
       "    <tr>\n",
       "      <th id=\"T_353f6_level0_row9\" class=\"row_heading level0 row9\" >23</th>\n",
       "      <td id=\"T_353f6_row9_col0\" class=\"data row9 col0\" >7</td>\n",
       "      <td id=\"T_353f6_row9_col1\" class=\"data row9 col1\" >1-DANetConfig</td>\n",
       "      <td id=\"T_353f6_row9_col2\" class=\"data row9 col2\" >nan</td>\n",
       "      <td id=\"T_353f6_row9_col3\" class=\"data row9 col3\" >nan</td>\n",
       "      <td id=\"T_353f6_row9_col4\" class=\"data row9 col4\" >AdamW</td>\n",
       "      <td id=\"T_353f6_row9_col5\" class=\"data row9 col5\" >0.744002</td>\n",
       "      <td id=\"T_353f6_row9_col6\" class=\"data row9 col6\" >0.744002</td>\n",
       "      <td id=\"T_353f6_row9_col7\" class=\"data row9 col7\" >0.723333</td>\n",
       "      <td id=\"T_353f6_row9_col8\" class=\"data row9 col8\" >16.000000</td>\n",
       "      <td id=\"T_353f6_row9_col9\" class=\"data row9 col9\" >64.000000</td>\n",
       "      <td id=\"T_353f6_row9_col10\" class=\"data row9 col10\" >4.000000</td>\n",
       "    </tr>\n",
       "    <tr>\n",
       "      <th id=\"T_353f6_level0_row10\" class=\"row_heading level0 row10\" >52</th>\n",
       "      <td id=\"T_353f6_row10_col0\" class=\"data row10 col0\" >36</td>\n",
       "      <td id=\"T_353f6_row10_col1\" class=\"data row10 col1\" >1-DANetConfig</td>\n",
       "      <td id=\"T_353f6_row10_col2\" class=\"data row10 col2\" >nan</td>\n",
       "      <td id=\"T_353f6_row10_col3\" class=\"data row10 col3\" >nan</td>\n",
       "      <td id=\"T_353f6_row10_col4\" class=\"data row10 col4\" >Adam</td>\n",
       "      <td id=\"T_353f6_row10_col5\" class=\"data row10 col5\" >0.702307</td>\n",
       "      <td id=\"T_353f6_row10_col6\" class=\"data row10 col6\" >0.702307</td>\n",
       "      <td id=\"T_353f6_row10_col7\" class=\"data row10 col7\" >0.716667</td>\n",
       "      <td id=\"T_353f6_row10_col8\" class=\"data row10 col8\" >64.000000</td>\n",
       "      <td id=\"T_353f6_row10_col9\" class=\"data row10 col9\" >32.000000</td>\n",
       "      <td id=\"T_353f6_row10_col10\" class=\"data row10 col10\" >4.000000</td>\n",
       "    </tr>\n",
       "    <tr>\n",
       "      <th id=\"T_353f6_level0_row11\" class=\"row_heading level0 row11\" >46</th>\n",
       "      <td id=\"T_353f6_row11_col0\" class=\"data row11 col0\" >30</td>\n",
       "      <td id=\"T_353f6_row11_col1\" class=\"data row11 col1\" >1-DANetConfig</td>\n",
       "      <td id=\"T_353f6_row11_col2\" class=\"data row11 col2\" >nan</td>\n",
       "      <td id=\"T_353f6_row11_col3\" class=\"data row11 col3\" >nan</td>\n",
       "      <td id=\"T_353f6_row11_col4\" class=\"data row11 col4\" >Adam</td>\n",
       "      <td id=\"T_353f6_row11_col5\" class=\"data row11 col5\" >0.932385</td>\n",
       "      <td id=\"T_353f6_row11_col6\" class=\"data row11 col6\" >0.932385</td>\n",
       "      <td id=\"T_353f6_row11_col7\" class=\"data row11 col7\" >0.716667</td>\n",
       "      <td id=\"T_353f6_row11_col8\" class=\"data row11 col8\" >32.000000</td>\n",
       "      <td id=\"T_353f6_row11_col9\" class=\"data row11 col9\" >128.000000</td>\n",
       "      <td id=\"T_353f6_row11_col10\" class=\"data row11 col10\" >4.000000</td>\n",
       "    </tr>\n",
       "    <tr>\n",
       "      <th id=\"T_353f6_level0_row12\" class=\"row_heading level0 row12\" >48</th>\n",
       "      <td id=\"T_353f6_row12_col0\" class=\"data row12 col0\" >32</td>\n",
       "      <td id=\"T_353f6_row12_col1\" class=\"data row12 col1\" >1-DANetConfig</td>\n",
       "      <td id=\"T_353f6_row12_col2\" class=\"data row12 col2\" >nan</td>\n",
       "      <td id=\"T_353f6_row12_col3\" class=\"data row12 col3\" >nan</td>\n",
       "      <td id=\"T_353f6_row12_col4\" class=\"data row12 col4\" >Adam</td>\n",
       "      <td id=\"T_353f6_row12_col5\" class=\"data row12 col5\" >0.811401</td>\n",
       "      <td id=\"T_353f6_row12_col6\" class=\"data row12 col6\" >0.811401</td>\n",
       "      <td id=\"T_353f6_row12_col7\" class=\"data row12 col7\" >0.713333</td>\n",
       "      <td id=\"T_353f6_row12_col8\" class=\"data row12 col8\" >32.000000</td>\n",
       "      <td id=\"T_353f6_row12_col9\" class=\"data row12 col9\" >128.000000</td>\n",
       "      <td id=\"T_353f6_row12_col10\" class=\"data row12 col10\" >8.000000</td>\n",
       "    </tr>\n",
       "    <tr>\n",
       "      <th id=\"T_353f6_level0_row13\" class=\"row_heading level0 row13\" >37</th>\n",
       "      <td id=\"T_353f6_row13_col0\" class=\"data row13 col0\" >21</td>\n",
       "      <td id=\"T_353f6_row13_col1\" class=\"data row13 col1\" >1-DANetConfig</td>\n",
       "      <td id=\"T_353f6_row13_col2\" class=\"data row13 col2\" >nan</td>\n",
       "      <td id=\"T_353f6_row13_col3\" class=\"data row13 col3\" >nan</td>\n",
       "      <td id=\"T_353f6_row13_col4\" class=\"data row13 col4\" >AdamW</td>\n",
       "      <td id=\"T_353f6_row13_col5\" class=\"data row13 col5\" >0.816120</td>\n",
       "      <td id=\"T_353f6_row13_col6\" class=\"data row13 col6\" >0.816120</td>\n",
       "      <td id=\"T_353f6_row13_col7\" class=\"data row13 col7\" >0.713333</td>\n",
       "      <td id=\"T_353f6_row13_col8\" class=\"data row13 col8\" >32.000000</td>\n",
       "      <td id=\"T_353f6_row13_col9\" class=\"data row13 col9\" >32.000000</td>\n",
       "      <td id=\"T_353f6_row13_col10\" class=\"data row13 col10\" >8.000000</td>\n",
       "    </tr>\n",
       "    <tr>\n",
       "      <th id=\"T_353f6_level0_row14\" class=\"row_heading level0 row14\" >59</th>\n",
       "      <td id=\"T_353f6_row14_col0\" class=\"data row14 col0\" >43</td>\n",
       "      <td id=\"T_353f6_row14_col1\" class=\"data row14 col1\" >1-DANetConfig</td>\n",
       "      <td id=\"T_353f6_row14_col2\" class=\"data row14 col2\" >nan</td>\n",
       "      <td id=\"T_353f6_row14_col3\" class=\"data row14 col3\" >nan</td>\n",
       "      <td id=\"T_353f6_row14_col4\" class=\"data row14 col4\" >AdamW</td>\n",
       "      <td id=\"T_353f6_row14_col5\" class=\"data row14 col5\" >0.872538</td>\n",
       "      <td id=\"T_353f6_row14_col6\" class=\"data row14 col6\" >0.872538</td>\n",
       "      <td id=\"T_353f6_row14_col7\" class=\"data row14 col7\" >0.713333</td>\n",
       "      <td id=\"T_353f6_row14_col8\" class=\"data row14 col8\" >64.000000</td>\n",
       "      <td id=\"T_353f6_row14_col9\" class=\"data row14 col9\" >64.000000</td>\n",
       "      <td id=\"T_353f6_row14_col10\" class=\"data row14 col10\" >4.000000</td>\n",
       "    </tr>\n",
       "    <tr>\n",
       "      <th id=\"T_353f6_level0_row15\" class=\"row_heading level0 row15\" >41</th>\n",
       "      <td id=\"T_353f6_row15_col0\" class=\"data row15 col0\" >25</td>\n",
       "      <td id=\"T_353f6_row15_col1\" class=\"data row15 col1\" >1-DANetConfig</td>\n",
       "      <td id=\"T_353f6_row15_col2\" class=\"data row15 col2\" >nan</td>\n",
       "      <td id=\"T_353f6_row15_col3\" class=\"data row15 col3\" >nan</td>\n",
       "      <td id=\"T_353f6_row15_col4\" class=\"data row15 col4\" >AdamW</td>\n",
       "      <td id=\"T_353f6_row15_col5\" class=\"data row15 col5\" >0.753102</td>\n",
       "      <td id=\"T_353f6_row15_col6\" class=\"data row15 col6\" >0.753102</td>\n",
       "      <td id=\"T_353f6_row15_col7\" class=\"data row15 col7\" >0.713333</td>\n",
       "      <td id=\"T_353f6_row15_col8\" class=\"data row15 col8\" >32.000000</td>\n",
       "      <td id=\"T_353f6_row15_col9\" class=\"data row15 col9\" >64.000000</td>\n",
       "      <td id=\"T_353f6_row15_col10\" class=\"data row15 col10\" >4.000000</td>\n",
       "    </tr>\n",
       "    <tr>\n",
       "      <th id=\"T_353f6_level0_row16\" class=\"row_heading level0 row16\" >4</th>\n",
       "      <td id=\"T_353f6_row16_col0\" class=\"data row16 col0\" >4</td>\n",
       "      <td id=\"T_353f6_row16_col1\" class=\"data row16 col1\" >0-CategoryEmbeddingModelConfig</td>\n",
       "      <td id=\"T_353f6_row16_col2\" class=\"data row16 col2\" >ReLU</td>\n",
       "      <td id=\"T_353f6_row16_col3\" class=\"data row16 col3\" >32-64-128</td>\n",
       "      <td id=\"T_353f6_row16_col4\" class=\"data row16 col4\" >Adam</td>\n",
       "      <td id=\"T_353f6_row16_col5\" class=\"data row16 col5\" >0.891378</td>\n",
       "      <td id=\"T_353f6_row16_col6\" class=\"data row16 col6\" >0.891378</td>\n",
       "      <td id=\"T_353f6_row16_col7\" class=\"data row16 col7\" >0.710000</td>\n",
       "      <td id=\"T_353f6_row16_col8\" class=\"data row16 col8\" >nan</td>\n",
       "      <td id=\"T_353f6_row16_col9\" class=\"data row16 col9\" >nan</td>\n",
       "      <td id=\"T_353f6_row16_col10\" class=\"data row16 col10\" >nan</td>\n",
       "    </tr>\n",
       "    <tr>\n",
       "      <th id=\"T_353f6_level0_row17\" class=\"row_heading level0 row17\" >45</th>\n",
       "      <td id=\"T_353f6_row17_col0\" class=\"data row17 col0\" >29</td>\n",
       "      <td id=\"T_353f6_row17_col1\" class=\"data row17 col1\" >1-DANetConfig</td>\n",
       "      <td id=\"T_353f6_row17_col2\" class=\"data row17 col2\" >nan</td>\n",
       "      <td id=\"T_353f6_row17_col3\" class=\"data row17 col3\" >nan</td>\n",
       "      <td id=\"T_353f6_row17_col4\" class=\"data row17 col4\" >AdamW</td>\n",
       "      <td id=\"T_353f6_row17_col5\" class=\"data row17 col5\" >0.803968</td>\n",
       "      <td id=\"T_353f6_row17_col6\" class=\"data row17 col6\" >0.803968</td>\n",
       "      <td id=\"T_353f6_row17_col7\" class=\"data row17 col7\" >0.710000</td>\n",
       "      <td id=\"T_353f6_row17_col8\" class=\"data row17 col8\" >32.000000</td>\n",
       "      <td id=\"T_353f6_row17_col9\" class=\"data row17 col9\" >64.000000</td>\n",
       "      <td id=\"T_353f6_row17_col10\" class=\"data row17 col10\" >16.000000</td>\n",
       "    </tr>\n",
       "    <tr>\n",
       "      <th id=\"T_353f6_level0_row18\" class=\"row_heading level0 row18\" >27</th>\n",
       "      <td id=\"T_353f6_row18_col0\" class=\"data row18 col0\" >11</td>\n",
       "      <td id=\"T_353f6_row18_col1\" class=\"data row18 col1\" >1-DANetConfig</td>\n",
       "      <td id=\"T_353f6_row18_col2\" class=\"data row18 col2\" >nan</td>\n",
       "      <td id=\"T_353f6_row18_col3\" class=\"data row18 col3\" >nan</td>\n",
       "      <td id=\"T_353f6_row18_col4\" class=\"data row18 col4\" >AdamW</td>\n",
       "      <td id=\"T_353f6_row18_col5\" class=\"data row18 col5\" >0.810080</td>\n",
       "      <td id=\"T_353f6_row18_col6\" class=\"data row18 col6\" >0.810080</td>\n",
       "      <td id=\"T_353f6_row18_col7\" class=\"data row18 col7\" >0.710000</td>\n",
       "      <td id=\"T_353f6_row18_col8\" class=\"data row18 col8\" >16.000000</td>\n",
       "      <td id=\"T_353f6_row18_col9\" class=\"data row18 col9\" >64.000000</td>\n",
       "      <td id=\"T_353f6_row18_col10\" class=\"data row18 col10\" >16.000000</td>\n",
       "    </tr>\n",
       "    <tr>\n",
       "      <th id=\"T_353f6_level0_row19\" class=\"row_heading level0 row19\" >25</th>\n",
       "      <td id=\"T_353f6_row19_col0\" class=\"data row19 col0\" >9</td>\n",
       "      <td id=\"T_353f6_row19_col1\" class=\"data row19 col1\" >1-DANetConfig</td>\n",
       "      <td id=\"T_353f6_row19_col2\" class=\"data row19 col2\" >nan</td>\n",
       "      <td id=\"T_353f6_row19_col3\" class=\"data row19 col3\" >nan</td>\n",
       "      <td id=\"T_353f6_row19_col4\" class=\"data row19 col4\" >AdamW</td>\n",
       "      <td id=\"T_353f6_row19_col5\" class=\"data row19 col5\" >0.811419</td>\n",
       "      <td id=\"T_353f6_row19_col6\" class=\"data row19 col6\" >0.811419</td>\n",
       "      <td id=\"T_353f6_row19_col7\" class=\"data row19 col7\" >0.706667</td>\n",
       "      <td id=\"T_353f6_row19_col8\" class=\"data row19 col8\" >16.000000</td>\n",
       "      <td id=\"T_353f6_row19_col9\" class=\"data row19 col9\" >64.000000</td>\n",
       "      <td id=\"T_353f6_row19_col10\" class=\"data row19 col10\" >8.000000</td>\n",
       "    </tr>\n",
       "    <tr>\n",
       "      <th id=\"T_353f6_level0_row20\" class=\"row_heading level0 row20\" >55</th>\n",
       "      <td id=\"T_353f6_row20_col0\" class=\"data row20 col0\" >39</td>\n",
       "      <td id=\"T_353f6_row20_col1\" class=\"data row20 col1\" >1-DANetConfig</td>\n",
       "      <td id=\"T_353f6_row20_col2\" class=\"data row20 col2\" >nan</td>\n",
       "      <td id=\"T_353f6_row20_col3\" class=\"data row20 col3\" >nan</td>\n",
       "      <td id=\"T_353f6_row20_col4\" class=\"data row20 col4\" >AdamW</td>\n",
       "      <td id=\"T_353f6_row20_col5\" class=\"data row20 col5\" >0.761743</td>\n",
       "      <td id=\"T_353f6_row20_col6\" class=\"data row20 col6\" >0.761743</td>\n",
       "      <td id=\"T_353f6_row20_col7\" class=\"data row20 col7\" >0.703333</td>\n",
       "      <td id=\"T_353f6_row20_col8\" class=\"data row20 col8\" >64.000000</td>\n",
       "      <td id=\"T_353f6_row20_col9\" class=\"data row20 col9\" >32.000000</td>\n",
       "      <td id=\"T_353f6_row20_col10\" class=\"data row20 col10\" >8.000000</td>\n",
       "    </tr>\n",
       "    <tr>\n",
       "      <th id=\"T_353f6_level0_row21\" class=\"row_heading level0 row21\" >51</th>\n",
       "      <td id=\"T_353f6_row21_col0\" class=\"data row21 col0\" >35</td>\n",
       "      <td id=\"T_353f6_row21_col1\" class=\"data row21 col1\" >1-DANetConfig</td>\n",
       "      <td id=\"T_353f6_row21_col2\" class=\"data row21 col2\" >nan</td>\n",
       "      <td id=\"T_353f6_row21_col3\" class=\"data row21 col3\" >nan</td>\n",
       "      <td id=\"T_353f6_row21_col4\" class=\"data row21 col4\" >AdamW</td>\n",
       "      <td id=\"T_353f6_row21_col5\" class=\"data row21 col5\" >0.783772</td>\n",
       "      <td id=\"T_353f6_row21_col6\" class=\"data row21 col6\" >0.783772</td>\n",
       "      <td id=\"T_353f6_row21_col7\" class=\"data row21 col7\" >0.700000</td>\n",
       "      <td id=\"T_353f6_row21_col8\" class=\"data row21 col8\" >32.000000</td>\n",
       "      <td id=\"T_353f6_row21_col9\" class=\"data row21 col9\" >128.000000</td>\n",
       "      <td id=\"T_353f6_row21_col10\" class=\"data row21 col10\" >16.000000</td>\n",
       "    </tr>\n",
       "    <tr>\n",
       "      <th id=\"T_353f6_level0_row22\" class=\"row_heading level0 row22\" >0</th>\n",
       "      <td id=\"T_353f6_row22_col0\" class=\"data row22 col0\" >0</td>\n",
       "      <td id=\"T_353f6_row22_col1\" class=\"data row22 col1\" >0-CategoryEmbeddingModelConfig</td>\n",
       "      <td id=\"T_353f6_row22_col2\" class=\"data row22 col2\" >ReLU</td>\n",
       "      <td id=\"T_353f6_row22_col3\" class=\"data row22 col3\" >128-64-32</td>\n",
       "      <td id=\"T_353f6_row22_col4\" class=\"data row22 col4\" >Adam</td>\n",
       "      <td id=\"T_353f6_row22_col5\" class=\"data row22 col5\" >0.882729</td>\n",
       "      <td id=\"T_353f6_row22_col6\" class=\"data row22 col6\" >0.882729</td>\n",
       "      <td id=\"T_353f6_row22_col7\" class=\"data row22 col7\" >0.700000</td>\n",
       "      <td id=\"T_353f6_row22_col8\" class=\"data row22 col8\" >nan</td>\n",
       "      <td id=\"T_353f6_row22_col9\" class=\"data row22 col9\" >nan</td>\n",
       "      <td id=\"T_353f6_row22_col10\" class=\"data row22 col10\" >nan</td>\n",
       "    </tr>\n",
       "    <tr>\n",
       "      <th id=\"T_353f6_level0_row23\" class=\"row_heading level0 row23\" >44</th>\n",
       "      <td id=\"T_353f6_row23_col0\" class=\"data row23 col0\" >28</td>\n",
       "      <td id=\"T_353f6_row23_col1\" class=\"data row23 col1\" >1-DANetConfig</td>\n",
       "      <td id=\"T_353f6_row23_col2\" class=\"data row23 col2\" >nan</td>\n",
       "      <td id=\"T_353f6_row23_col3\" class=\"data row23 col3\" >nan</td>\n",
       "      <td id=\"T_353f6_row23_col4\" class=\"data row23 col4\" >Adam</td>\n",
       "      <td id=\"T_353f6_row23_col5\" class=\"data row23 col5\" >1.060147</td>\n",
       "      <td id=\"T_353f6_row23_col6\" class=\"data row23 col6\" >1.060147</td>\n",
       "      <td id=\"T_353f6_row23_col7\" class=\"data row23 col7\" >0.700000</td>\n",
       "      <td id=\"T_353f6_row23_col8\" class=\"data row23 col8\" >32.000000</td>\n",
       "      <td id=\"T_353f6_row23_col9\" class=\"data row23 col9\" >64.000000</td>\n",
       "      <td id=\"T_353f6_row23_col10\" class=\"data row23 col10\" >16.000000</td>\n",
       "    </tr>\n",
       "    <tr>\n",
       "      <th id=\"T_353f6_level0_row24\" class=\"row_heading level0 row24\" >58</th>\n",
       "      <td id=\"T_353f6_row24_col0\" class=\"data row24 col0\" >42</td>\n",
       "      <td id=\"T_353f6_row24_col1\" class=\"data row24 col1\" >1-DANetConfig</td>\n",
       "      <td id=\"T_353f6_row24_col2\" class=\"data row24 col2\" >nan</td>\n",
       "      <td id=\"T_353f6_row24_col3\" class=\"data row24 col3\" >nan</td>\n",
       "      <td id=\"T_353f6_row24_col4\" class=\"data row24 col4\" >Adam</td>\n",
       "      <td id=\"T_353f6_row24_col5\" class=\"data row24 col5\" >0.982917</td>\n",
       "      <td id=\"T_353f6_row24_col6\" class=\"data row24 col6\" >0.982917</td>\n",
       "      <td id=\"T_353f6_row24_col7\" class=\"data row24 col7\" >0.700000</td>\n",
       "      <td id=\"T_353f6_row24_col8\" class=\"data row24 col8\" >64.000000</td>\n",
       "      <td id=\"T_353f6_row24_col9\" class=\"data row24 col9\" >64.000000</td>\n",
       "      <td id=\"T_353f6_row24_col10\" class=\"data row24 col10\" >4.000000</td>\n",
       "    </tr>\n",
       "    <tr>\n",
       "      <th id=\"T_353f6_level0_row25\" class=\"row_heading level0 row25\" >9</th>\n",
       "      <td id=\"T_353f6_row25_col0\" class=\"data row25 col0\" >9</td>\n",
       "      <td id=\"T_353f6_row25_col1\" class=\"data row25 col1\" >0-CategoryEmbeddingModelConfig</td>\n",
       "      <td id=\"T_353f6_row25_col2\" class=\"data row25 col2\" >LeakyReLU</td>\n",
       "      <td id=\"T_353f6_row25_col3\" class=\"data row25 col3\" >128-64-32</td>\n",
       "      <td id=\"T_353f6_row25_col4\" class=\"data row25 col4\" >AdamW</td>\n",
       "      <td id=\"T_353f6_row25_col5\" class=\"data row25 col5\" >0.826485</td>\n",
       "      <td id=\"T_353f6_row25_col6\" class=\"data row25 col6\" >0.826485</td>\n",
       "      <td id=\"T_353f6_row25_col7\" class=\"data row25 col7\" >0.700000</td>\n",
       "      <td id=\"T_353f6_row25_col8\" class=\"data row25 col8\" >nan</td>\n",
       "      <td id=\"T_353f6_row25_col9\" class=\"data row25 col9\" >nan</td>\n",
       "      <td id=\"T_353f6_row25_col10\" class=\"data row25 col10\" >nan</td>\n",
       "    </tr>\n",
       "    <tr>\n",
       "      <th id=\"T_353f6_level0_row26\" class=\"row_heading level0 row26\" >22</th>\n",
       "      <td id=\"T_353f6_row26_col0\" class=\"data row26 col0\" >6</td>\n",
       "      <td id=\"T_353f6_row26_col1\" class=\"data row26 col1\" >1-DANetConfig</td>\n",
       "      <td id=\"T_353f6_row26_col2\" class=\"data row26 col2\" >nan</td>\n",
       "      <td id=\"T_353f6_row26_col3\" class=\"data row26 col3\" >nan</td>\n",
       "      <td id=\"T_353f6_row26_col4\" class=\"data row26 col4\" >Adam</td>\n",
       "      <td id=\"T_353f6_row26_col5\" class=\"data row26 col5\" >0.841336</td>\n",
       "      <td id=\"T_353f6_row26_col6\" class=\"data row26 col6\" >0.841336</td>\n",
       "      <td id=\"T_353f6_row26_col7\" class=\"data row26 col7\" >0.696667</td>\n",
       "      <td id=\"T_353f6_row26_col8\" class=\"data row26 col8\" >16.000000</td>\n",
       "      <td id=\"T_353f6_row26_col9\" class=\"data row26 col9\" >64.000000</td>\n",
       "      <td id=\"T_353f6_row26_col10\" class=\"data row26 col10\" >4.000000</td>\n",
       "    </tr>\n",
       "    <tr>\n",
       "      <th id=\"T_353f6_level0_row27\" class=\"row_heading level0 row27\" >54</th>\n",
       "      <td id=\"T_353f6_row27_col0\" class=\"data row27 col0\" >38</td>\n",
       "      <td id=\"T_353f6_row27_col1\" class=\"data row27 col1\" >1-DANetConfig</td>\n",
       "      <td id=\"T_353f6_row27_col2\" class=\"data row27 col2\" >nan</td>\n",
       "      <td id=\"T_353f6_row27_col3\" class=\"data row27 col3\" >nan</td>\n",
       "      <td id=\"T_353f6_row27_col4\" class=\"data row27 col4\" >Adam</td>\n",
       "      <td id=\"T_353f6_row27_col5\" class=\"data row27 col5\" >0.854988</td>\n",
       "      <td id=\"T_353f6_row27_col6\" class=\"data row27 col6\" >0.854988</td>\n",
       "      <td id=\"T_353f6_row27_col7\" class=\"data row27 col7\" >0.696667</td>\n",
       "      <td id=\"T_353f6_row27_col8\" class=\"data row27 col8\" >64.000000</td>\n",
       "      <td id=\"T_353f6_row27_col9\" class=\"data row27 col9\" >32.000000</td>\n",
       "      <td id=\"T_353f6_row27_col10\" class=\"data row27 col10\" >8.000000</td>\n",
       "    </tr>\n",
       "    <tr>\n",
       "      <th id=\"T_353f6_level0_row28\" class=\"row_heading level0 row28\" >67</th>\n",
       "      <td id=\"T_353f6_row28_col0\" class=\"data row28 col0\" >51</td>\n",
       "      <td id=\"T_353f6_row28_col1\" class=\"data row28 col1\" >1-DANetConfig</td>\n",
       "      <td id=\"T_353f6_row28_col2\" class=\"data row28 col2\" >nan</td>\n",
       "      <td id=\"T_353f6_row28_col3\" class=\"data row28 col3\" >nan</td>\n",
       "      <td id=\"T_353f6_row28_col4\" class=\"data row28 col4\" >AdamW</td>\n",
       "      <td id=\"T_353f6_row28_col5\" class=\"data row28 col5\" >0.907805</td>\n",
       "      <td id=\"T_353f6_row28_col6\" class=\"data row28 col6\" >0.907805</td>\n",
       "      <td id=\"T_353f6_row28_col7\" class=\"data row28 col7\" >0.696667</td>\n",
       "      <td id=\"T_353f6_row28_col8\" class=\"data row28 col8\" >64.000000</td>\n",
       "      <td id=\"T_353f6_row28_col9\" class=\"data row28 col9\" >128.000000</td>\n",
       "      <td id=\"T_353f6_row28_col10\" class=\"data row28 col10\" >8.000000</td>\n",
       "    </tr>\n",
       "    <tr>\n",
       "      <th id=\"T_353f6_level0_row29\" class=\"row_heading level0 row29\" >63</th>\n",
       "      <td id=\"T_353f6_row29_col0\" class=\"data row29 col0\" >47</td>\n",
       "      <td id=\"T_353f6_row29_col1\" class=\"data row29 col1\" >1-DANetConfig</td>\n",
       "      <td id=\"T_353f6_row29_col2\" class=\"data row29 col2\" >nan</td>\n",
       "      <td id=\"T_353f6_row29_col3\" class=\"data row29 col3\" >nan</td>\n",
       "      <td id=\"T_353f6_row29_col4\" class=\"data row29 col4\" >AdamW</td>\n",
       "      <td id=\"T_353f6_row29_col5\" class=\"data row29 col5\" >0.886277</td>\n",
       "      <td id=\"T_353f6_row29_col6\" class=\"data row29 col6\" >0.886277</td>\n",
       "      <td id=\"T_353f6_row29_col7\" class=\"data row29 col7\" >0.696667</td>\n",
       "      <td id=\"T_353f6_row29_col8\" class=\"data row29 col8\" >64.000000</td>\n",
       "      <td id=\"T_353f6_row29_col9\" class=\"data row29 col9\" >64.000000</td>\n",
       "      <td id=\"T_353f6_row29_col10\" class=\"data row29 col10\" >16.000000</td>\n",
       "    </tr>\n",
       "    <tr>\n",
       "      <th id=\"T_353f6_level0_row30\" class=\"row_heading level0 row30\" >36</th>\n",
       "      <td id=\"T_353f6_row30_col0\" class=\"data row30 col0\" >20</td>\n",
       "      <td id=\"T_353f6_row30_col1\" class=\"data row30 col1\" >1-DANetConfig</td>\n",
       "      <td id=\"T_353f6_row30_col2\" class=\"data row30 col2\" >nan</td>\n",
       "      <td id=\"T_353f6_row30_col3\" class=\"data row30 col3\" >nan</td>\n",
       "      <td id=\"T_353f6_row30_col4\" class=\"data row30 col4\" >Adam</td>\n",
       "      <td id=\"T_353f6_row30_col5\" class=\"data row30 col5\" >0.833813</td>\n",
       "      <td id=\"T_353f6_row30_col6\" class=\"data row30 col6\" >0.833813</td>\n",
       "      <td id=\"T_353f6_row30_col7\" class=\"data row30 col7\" >0.696667</td>\n",
       "      <td id=\"T_353f6_row30_col8\" class=\"data row30 col8\" >32.000000</td>\n",
       "      <td id=\"T_353f6_row30_col9\" class=\"data row30 col9\" >32.000000</td>\n",
       "      <td id=\"T_353f6_row30_col10\" class=\"data row30 col10\" >8.000000</td>\n",
       "    </tr>\n",
       "    <tr>\n",
       "      <th id=\"T_353f6_level0_row31\" class=\"row_heading level0 row31\" >33</th>\n",
       "      <td id=\"T_353f6_row31_col0\" class=\"data row31 col0\" >17</td>\n",
       "      <td id=\"T_353f6_row31_col1\" class=\"data row31 col1\" >1-DANetConfig</td>\n",
       "      <td id=\"T_353f6_row31_col2\" class=\"data row31 col2\" >nan</td>\n",
       "      <td id=\"T_353f6_row31_col3\" class=\"data row31 col3\" >nan</td>\n",
       "      <td id=\"T_353f6_row31_col4\" class=\"data row31 col4\" >AdamW</td>\n",
       "      <td id=\"T_353f6_row31_col5\" class=\"data row31 col5\" >0.848075</td>\n",
       "      <td id=\"T_353f6_row31_col6\" class=\"data row31 col6\" >0.848075</td>\n",
       "      <td id=\"T_353f6_row31_col7\" class=\"data row31 col7\" >0.696667</td>\n",
       "      <td id=\"T_353f6_row31_col8\" class=\"data row31 col8\" >16.000000</td>\n",
       "      <td id=\"T_353f6_row31_col9\" class=\"data row31 col9\" >128.000000</td>\n",
       "      <td id=\"T_353f6_row31_col10\" class=\"data row31 col10\" >16.000000</td>\n",
       "    </tr>\n",
       "    <tr>\n",
       "      <th id=\"T_353f6_level0_row32\" class=\"row_heading level0 row32\" >13</th>\n",
       "      <td id=\"T_353f6_row32_col0\" class=\"data row32 col0\" >13</td>\n",
       "      <td id=\"T_353f6_row32_col1\" class=\"data row32 col1\" >0-CategoryEmbeddingModelConfig</td>\n",
       "      <td id=\"T_353f6_row32_col2\" class=\"data row32 col2\" >LeakyReLU</td>\n",
       "      <td id=\"T_353f6_row32_col3\" class=\"data row32 col3\" >32-64-128</td>\n",
       "      <td id=\"T_353f6_row32_col4\" class=\"data row32 col4\" >AdamW</td>\n",
       "      <td id=\"T_353f6_row32_col5\" class=\"data row32 col5\" >0.842531</td>\n",
       "      <td id=\"T_353f6_row32_col6\" class=\"data row32 col6\" >0.842531</td>\n",
       "      <td id=\"T_353f6_row32_col7\" class=\"data row32 col7\" >0.693333</td>\n",
       "      <td id=\"T_353f6_row32_col8\" class=\"data row32 col8\" >nan</td>\n",
       "      <td id=\"T_353f6_row32_col9\" class=\"data row32 col9\" >nan</td>\n",
       "      <td id=\"T_353f6_row32_col10\" class=\"data row32 col10\" >nan</td>\n",
       "    </tr>\n",
       "    <tr>\n",
       "      <th id=\"T_353f6_level0_row33\" class=\"row_heading level0 row33\" >50</th>\n",
       "      <td id=\"T_353f6_row33_col0\" class=\"data row33 col0\" >34</td>\n",
       "      <td id=\"T_353f6_row33_col1\" class=\"data row33 col1\" >1-DANetConfig</td>\n",
       "      <td id=\"T_353f6_row33_col2\" class=\"data row33 col2\" >nan</td>\n",
       "      <td id=\"T_353f6_row33_col3\" class=\"data row33 col3\" >nan</td>\n",
       "      <td id=\"T_353f6_row33_col4\" class=\"data row33 col4\" >Adam</td>\n",
       "      <td id=\"T_353f6_row33_col5\" class=\"data row33 col5\" >0.846781</td>\n",
       "      <td id=\"T_353f6_row33_col6\" class=\"data row33 col6\" >0.846781</td>\n",
       "      <td id=\"T_353f6_row33_col7\" class=\"data row33 col7\" >0.693333</td>\n",
       "      <td id=\"T_353f6_row33_col8\" class=\"data row33 col8\" >32.000000</td>\n",
       "      <td id=\"T_353f6_row33_col9\" class=\"data row33 col9\" >128.000000</td>\n",
       "      <td id=\"T_353f6_row33_col10\" class=\"data row33 col10\" >16.000000</td>\n",
       "    </tr>\n",
       "    <tr>\n",
       "      <th id=\"T_353f6_level0_row34\" class=\"row_heading level0 row34\" >60</th>\n",
       "      <td id=\"T_353f6_row34_col0\" class=\"data row34 col0\" >44</td>\n",
       "      <td id=\"T_353f6_row34_col1\" class=\"data row34 col1\" >1-DANetConfig</td>\n",
       "      <td id=\"T_353f6_row34_col2\" class=\"data row34 col2\" >nan</td>\n",
       "      <td id=\"T_353f6_row34_col3\" class=\"data row34 col3\" >nan</td>\n",
       "      <td id=\"T_353f6_row34_col4\" class=\"data row34 col4\" >Adam</td>\n",
       "      <td id=\"T_353f6_row34_col5\" class=\"data row34 col5\" >0.905149</td>\n",
       "      <td id=\"T_353f6_row34_col6\" class=\"data row34 col6\" >0.905149</td>\n",
       "      <td id=\"T_353f6_row34_col7\" class=\"data row34 col7\" >0.693333</td>\n",
       "      <td id=\"T_353f6_row34_col8\" class=\"data row34 col8\" >64.000000</td>\n",
       "      <td id=\"T_353f6_row34_col9\" class=\"data row34 col9\" >64.000000</td>\n",
       "      <td id=\"T_353f6_row34_col10\" class=\"data row34 col10\" >8.000000</td>\n",
       "    </tr>\n",
       "    <tr>\n",
       "      <th id=\"T_353f6_level0_row35\" class=\"row_heading level0 row35\" >19</th>\n",
       "      <td id=\"T_353f6_row35_col0\" class=\"data row35 col0\" >3</td>\n",
       "      <td id=\"T_353f6_row35_col1\" class=\"data row35 col1\" >1-DANetConfig</td>\n",
       "      <td id=\"T_353f6_row35_col2\" class=\"data row35 col2\" >nan</td>\n",
       "      <td id=\"T_353f6_row35_col3\" class=\"data row35 col3\" >nan</td>\n",
       "      <td id=\"T_353f6_row35_col4\" class=\"data row35 col4\" >AdamW</td>\n",
       "      <td id=\"T_353f6_row35_col5\" class=\"data row35 col5\" >0.771043</td>\n",
       "      <td id=\"T_353f6_row35_col6\" class=\"data row35 col6\" >0.771043</td>\n",
       "      <td id=\"T_353f6_row35_col7\" class=\"data row35 col7\" >0.693333</td>\n",
       "      <td id=\"T_353f6_row35_col8\" class=\"data row35 col8\" >16.000000</td>\n",
       "      <td id=\"T_353f6_row35_col9\" class=\"data row35 col9\" >32.000000</td>\n",
       "      <td id=\"T_353f6_row35_col10\" class=\"data row35 col10\" >8.000000</td>\n",
       "    </tr>\n",
       "    <tr>\n",
       "      <th id=\"T_353f6_level0_row36\" class=\"row_heading level0 row36\" >20</th>\n",
       "      <td id=\"T_353f6_row36_col0\" class=\"data row36 col0\" >4</td>\n",
       "      <td id=\"T_353f6_row36_col1\" class=\"data row36 col1\" >1-DANetConfig</td>\n",
       "      <td id=\"T_353f6_row36_col2\" class=\"data row36 col2\" >nan</td>\n",
       "      <td id=\"T_353f6_row36_col3\" class=\"data row36 col3\" >nan</td>\n",
       "      <td id=\"T_353f6_row36_col4\" class=\"data row36 col4\" >Adam</td>\n",
       "      <td id=\"T_353f6_row36_col5\" class=\"data row36 col5\" >0.873156</td>\n",
       "      <td id=\"T_353f6_row36_col6\" class=\"data row36 col6\" >0.873156</td>\n",
       "      <td id=\"T_353f6_row36_col7\" class=\"data row36 col7\" >0.693333</td>\n",
       "      <td id=\"T_353f6_row36_col8\" class=\"data row36 col8\" >16.000000</td>\n",
       "      <td id=\"T_353f6_row36_col9\" class=\"data row36 col9\" >32.000000</td>\n",
       "      <td id=\"T_353f6_row36_col10\" class=\"data row36 col10\" >16.000000</td>\n",
       "    </tr>\n",
       "    <tr>\n",
       "      <th id=\"T_353f6_level0_row37\" class=\"row_heading level0 row37\" >21</th>\n",
       "      <td id=\"T_353f6_row37_col0\" class=\"data row37 col0\" >5</td>\n",
       "      <td id=\"T_353f6_row37_col1\" class=\"data row37 col1\" >1-DANetConfig</td>\n",
       "      <td id=\"T_353f6_row37_col2\" class=\"data row37 col2\" >nan</td>\n",
       "      <td id=\"T_353f6_row37_col3\" class=\"data row37 col3\" >nan</td>\n",
       "      <td id=\"T_353f6_row37_col4\" class=\"data row37 col4\" >AdamW</td>\n",
       "      <td id=\"T_353f6_row37_col5\" class=\"data row37 col5\" >0.893926</td>\n",
       "      <td id=\"T_353f6_row37_col6\" class=\"data row37 col6\" >0.893926</td>\n",
       "      <td id=\"T_353f6_row37_col7\" class=\"data row37 col7\" >0.693333</td>\n",
       "      <td id=\"T_353f6_row37_col8\" class=\"data row37 col8\" >16.000000</td>\n",
       "      <td id=\"T_353f6_row37_col9\" class=\"data row37 col9\" >32.000000</td>\n",
       "      <td id=\"T_353f6_row37_col10\" class=\"data row37 col10\" >16.000000</td>\n",
       "    </tr>\n",
       "    <tr>\n",
       "      <th id=\"T_353f6_level0_row38\" class=\"row_heading level0 row38\" >32</th>\n",
       "      <td id=\"T_353f6_row38_col0\" class=\"data row38 col0\" >16</td>\n",
       "      <td id=\"T_353f6_row38_col1\" class=\"data row38 col1\" >1-DANetConfig</td>\n",
       "      <td id=\"T_353f6_row38_col2\" class=\"data row38 col2\" >nan</td>\n",
       "      <td id=\"T_353f6_row38_col3\" class=\"data row38 col3\" >nan</td>\n",
       "      <td id=\"T_353f6_row38_col4\" class=\"data row38 col4\" >Adam</td>\n",
       "      <td id=\"T_353f6_row38_col5\" class=\"data row38 col5\" >0.860711</td>\n",
       "      <td id=\"T_353f6_row38_col6\" class=\"data row38 col6\" >0.860711</td>\n",
       "      <td id=\"T_353f6_row38_col7\" class=\"data row38 col7\" >0.690000</td>\n",
       "      <td id=\"T_353f6_row38_col8\" class=\"data row38 col8\" >16.000000</td>\n",
       "      <td id=\"T_353f6_row38_col9\" class=\"data row38 col9\" >128.000000</td>\n",
       "      <td id=\"T_353f6_row38_col10\" class=\"data row38 col10\" >16.000000</td>\n",
       "    </tr>\n",
       "    <tr>\n",
       "      <th id=\"T_353f6_level0_row39\" class=\"row_heading level0 row39\" >29</th>\n",
       "      <td id=\"T_353f6_row39_col0\" class=\"data row39 col0\" >13</td>\n",
       "      <td id=\"T_353f6_row39_col1\" class=\"data row39 col1\" >1-DANetConfig</td>\n",
       "      <td id=\"T_353f6_row39_col2\" class=\"data row39 col2\" >nan</td>\n",
       "      <td id=\"T_353f6_row39_col3\" class=\"data row39 col3\" >nan</td>\n",
       "      <td id=\"T_353f6_row39_col4\" class=\"data row39 col4\" >AdamW</td>\n",
       "      <td id=\"T_353f6_row39_col5\" class=\"data row39 col5\" >0.891878</td>\n",
       "      <td id=\"T_353f6_row39_col6\" class=\"data row39 col6\" >0.891878</td>\n",
       "      <td id=\"T_353f6_row39_col7\" class=\"data row39 col7\" >0.690000</td>\n",
       "      <td id=\"T_353f6_row39_col8\" class=\"data row39 col8\" >16.000000</td>\n",
       "      <td id=\"T_353f6_row39_col9\" class=\"data row39 col9\" >128.000000</td>\n",
       "      <td id=\"T_353f6_row39_col10\" class=\"data row39 col10\" >4.000000</td>\n",
       "    </tr>\n",
       "    <tr>\n",
       "      <th id=\"T_353f6_level0_row40\" class=\"row_heading level0 row40\" >16</th>\n",
       "      <td id=\"T_353f6_row40_col0\" class=\"data row40 col0\" >0</td>\n",
       "      <td id=\"T_353f6_row40_col1\" class=\"data row40 col1\" >1-DANetConfig</td>\n",
       "      <td id=\"T_353f6_row40_col2\" class=\"data row40 col2\" >nan</td>\n",
       "      <td id=\"T_353f6_row40_col3\" class=\"data row40 col3\" >nan</td>\n",
       "      <td id=\"T_353f6_row40_col4\" class=\"data row40 col4\" >Adam</td>\n",
       "      <td id=\"T_353f6_row40_col5\" class=\"data row40 col5\" >0.812914</td>\n",
       "      <td id=\"T_353f6_row40_col6\" class=\"data row40 col6\" >0.812914</td>\n",
       "      <td id=\"T_353f6_row40_col7\" class=\"data row40 col7\" >0.690000</td>\n",
       "      <td id=\"T_353f6_row40_col8\" class=\"data row40 col8\" >16.000000</td>\n",
       "      <td id=\"T_353f6_row40_col9\" class=\"data row40 col9\" >32.000000</td>\n",
       "      <td id=\"T_353f6_row40_col10\" class=\"data row40 col10\" >4.000000</td>\n",
       "    </tr>\n",
       "    <tr>\n",
       "      <th id=\"T_353f6_level0_row41\" class=\"row_heading level0 row41\" >7</th>\n",
       "      <td id=\"T_353f6_row41_col0\" class=\"data row41 col0\" >7</td>\n",
       "      <td id=\"T_353f6_row41_col1\" class=\"data row41 col1\" >0-CategoryEmbeddingModelConfig</td>\n",
       "      <td id=\"T_353f6_row41_col2\" class=\"data row41 col2\" >ReLU</td>\n",
       "      <td id=\"T_353f6_row41_col3\" class=\"data row41 col3\" >256-512-1024</td>\n",
       "      <td id=\"T_353f6_row41_col4\" class=\"data row41 col4\" >AdamW</td>\n",
       "      <td id=\"T_353f6_row41_col5\" class=\"data row41 col5\" >0.944960</td>\n",
       "      <td id=\"T_353f6_row41_col6\" class=\"data row41 col6\" >0.944960</td>\n",
       "      <td id=\"T_353f6_row41_col7\" class=\"data row41 col7\" >0.690000</td>\n",
       "      <td id=\"T_353f6_row41_col8\" class=\"data row41 col8\" >nan</td>\n",
       "      <td id=\"T_353f6_row41_col9\" class=\"data row41 col9\" >nan</td>\n",
       "      <td id=\"T_353f6_row41_col10\" class=\"data row41 col10\" >nan</td>\n",
       "    </tr>\n",
       "    <tr>\n",
       "      <th id=\"T_353f6_level0_row42\" class=\"row_heading level0 row42\" >43</th>\n",
       "      <td id=\"T_353f6_row42_col0\" class=\"data row42 col0\" >27</td>\n",
       "      <td id=\"T_353f6_row42_col1\" class=\"data row42 col1\" >1-DANetConfig</td>\n",
       "      <td id=\"T_353f6_row42_col2\" class=\"data row42 col2\" >nan</td>\n",
       "      <td id=\"T_353f6_row42_col3\" class=\"data row42 col3\" >nan</td>\n",
       "      <td id=\"T_353f6_row42_col4\" class=\"data row42 col4\" >AdamW</td>\n",
       "      <td id=\"T_353f6_row42_col5\" class=\"data row42 col5\" >0.877953</td>\n",
       "      <td id=\"T_353f6_row42_col6\" class=\"data row42 col6\" >0.877953</td>\n",
       "      <td id=\"T_353f6_row42_col7\" class=\"data row42 col7\" >0.686667</td>\n",
       "      <td id=\"T_353f6_row42_col8\" class=\"data row42 col8\" >32.000000</td>\n",
       "      <td id=\"T_353f6_row42_col9\" class=\"data row42 col9\" >64.000000</td>\n",
       "      <td id=\"T_353f6_row42_col10\" class=\"data row42 col10\" >8.000000</td>\n",
       "    </tr>\n",
       "    <tr>\n",
       "      <th id=\"T_353f6_level0_row43\" class=\"row_heading level0 row43\" >35</th>\n",
       "      <td id=\"T_353f6_row43_col0\" class=\"data row43 col0\" >19</td>\n",
       "      <td id=\"T_353f6_row43_col1\" class=\"data row43 col1\" >1-DANetConfig</td>\n",
       "      <td id=\"T_353f6_row43_col2\" class=\"data row43 col2\" >nan</td>\n",
       "      <td id=\"T_353f6_row43_col3\" class=\"data row43 col3\" >nan</td>\n",
       "      <td id=\"T_353f6_row43_col4\" class=\"data row43 col4\" >AdamW</td>\n",
       "      <td id=\"T_353f6_row43_col5\" class=\"data row43 col5\" >0.924334</td>\n",
       "      <td id=\"T_353f6_row43_col6\" class=\"data row43 col6\" >0.924334</td>\n",
       "      <td id=\"T_353f6_row43_col7\" class=\"data row43 col7\" >0.686667</td>\n",
       "      <td id=\"T_353f6_row43_col8\" class=\"data row43 col8\" >32.000000</td>\n",
       "      <td id=\"T_353f6_row43_col9\" class=\"data row43 col9\" >32.000000</td>\n",
       "      <td id=\"T_353f6_row43_col10\" class=\"data row43 col10\" >4.000000</td>\n",
       "    </tr>\n",
       "    <tr>\n",
       "      <th id=\"T_353f6_level0_row44\" class=\"row_heading level0 row44\" >42</th>\n",
       "      <td id=\"T_353f6_row44_col0\" class=\"data row44 col0\" >26</td>\n",
       "      <td id=\"T_353f6_row44_col1\" class=\"data row44 col1\" >1-DANetConfig</td>\n",
       "      <td id=\"T_353f6_row44_col2\" class=\"data row44 col2\" >nan</td>\n",
       "      <td id=\"T_353f6_row44_col3\" class=\"data row44 col3\" >nan</td>\n",
       "      <td id=\"T_353f6_row44_col4\" class=\"data row44 col4\" >Adam</td>\n",
       "      <td id=\"T_353f6_row44_col5\" class=\"data row44 col5\" >0.914250</td>\n",
       "      <td id=\"T_353f6_row44_col6\" class=\"data row44 col6\" >0.914250</td>\n",
       "      <td id=\"T_353f6_row44_col7\" class=\"data row44 col7\" >0.686667</td>\n",
       "      <td id=\"T_353f6_row44_col8\" class=\"data row44 col8\" >32.000000</td>\n",
       "      <td id=\"T_353f6_row44_col9\" class=\"data row44 col9\" >64.000000</td>\n",
       "      <td id=\"T_353f6_row44_col10\" class=\"data row44 col10\" >8.000000</td>\n",
       "    </tr>\n",
       "    <tr>\n",
       "      <th id=\"T_353f6_level0_row45\" class=\"row_heading level0 row45\" >11</th>\n",
       "      <td id=\"T_353f6_row45_col0\" class=\"data row45 col0\" >11</td>\n",
       "      <td id=\"T_353f6_row45_col1\" class=\"data row45 col1\" >0-CategoryEmbeddingModelConfig</td>\n",
       "      <td id=\"T_353f6_row45_col2\" class=\"data row45 col2\" >LeakyReLU</td>\n",
       "      <td id=\"T_353f6_row45_col3\" class=\"data row45 col3\" >1024-512-256</td>\n",
       "      <td id=\"T_353f6_row45_col4\" class=\"data row45 col4\" >AdamW</td>\n",
       "      <td id=\"T_353f6_row45_col5\" class=\"data row45 col5\" >1.254165</td>\n",
       "      <td id=\"T_353f6_row45_col6\" class=\"data row45 col6\" >1.254165</td>\n",
       "      <td id=\"T_353f6_row45_col7\" class=\"data row45 col7\" >0.686667</td>\n",
       "      <td id=\"T_353f6_row45_col8\" class=\"data row45 col8\" >nan</td>\n",
       "      <td id=\"T_353f6_row45_col9\" class=\"data row45 col9\" >nan</td>\n",
       "      <td id=\"T_353f6_row45_col10\" class=\"data row45 col10\" >nan</td>\n",
       "    </tr>\n",
       "    <tr>\n",
       "      <th id=\"T_353f6_level0_row46\" class=\"row_heading level0 row46\" >1</th>\n",
       "      <td id=\"T_353f6_row46_col0\" class=\"data row46 col0\" >1</td>\n",
       "      <td id=\"T_353f6_row46_col1\" class=\"data row46 col1\" >0-CategoryEmbeddingModelConfig</td>\n",
       "      <td id=\"T_353f6_row46_col2\" class=\"data row46 col2\" >ReLU</td>\n",
       "      <td id=\"T_353f6_row46_col3\" class=\"data row46 col3\" >128-64-32</td>\n",
       "      <td id=\"T_353f6_row46_col4\" class=\"data row46 col4\" >AdamW</td>\n",
       "      <td id=\"T_353f6_row46_col5\" class=\"data row46 col5\" >0.939911</td>\n",
       "      <td id=\"T_353f6_row46_col6\" class=\"data row46 col6\" >0.939911</td>\n",
       "      <td id=\"T_353f6_row46_col7\" class=\"data row46 col7\" >0.686667</td>\n",
       "      <td id=\"T_353f6_row46_col8\" class=\"data row46 col8\" >nan</td>\n",
       "      <td id=\"T_353f6_row46_col9\" class=\"data row46 col9\" >nan</td>\n",
       "      <td id=\"T_353f6_row46_col10\" class=\"data row46 col10\" >nan</td>\n",
       "    </tr>\n",
       "    <tr>\n",
       "      <th id=\"T_353f6_level0_row47\" class=\"row_heading level0 row47\" >31</th>\n",
       "      <td id=\"T_353f6_row47_col0\" class=\"data row47 col0\" >15</td>\n",
       "      <td id=\"T_353f6_row47_col1\" class=\"data row47 col1\" >1-DANetConfig</td>\n",
       "      <td id=\"T_353f6_row47_col2\" class=\"data row47 col2\" >nan</td>\n",
       "      <td id=\"T_353f6_row47_col3\" class=\"data row47 col3\" >nan</td>\n",
       "      <td id=\"T_353f6_row47_col4\" class=\"data row47 col4\" >AdamW</td>\n",
       "      <td id=\"T_353f6_row47_col5\" class=\"data row47 col5\" >0.827116</td>\n",
       "      <td id=\"T_353f6_row47_col6\" class=\"data row47 col6\" >0.827116</td>\n",
       "      <td id=\"T_353f6_row47_col7\" class=\"data row47 col7\" >0.686667</td>\n",
       "      <td id=\"T_353f6_row47_col8\" class=\"data row47 col8\" >16.000000</td>\n",
       "      <td id=\"T_353f6_row47_col9\" class=\"data row47 col9\" >128.000000</td>\n",
       "      <td id=\"T_353f6_row47_col10\" class=\"data row47 col10\" >8.000000</td>\n",
       "    </tr>\n",
       "    <tr>\n",
       "      <th id=\"T_353f6_level0_row48\" class=\"row_heading level0 row48\" >18</th>\n",
       "      <td id=\"T_353f6_row48_col0\" class=\"data row48 col0\" >2</td>\n",
       "      <td id=\"T_353f6_row48_col1\" class=\"data row48 col1\" >1-DANetConfig</td>\n",
       "      <td id=\"T_353f6_row48_col2\" class=\"data row48 col2\" >nan</td>\n",
       "      <td id=\"T_353f6_row48_col3\" class=\"data row48 col3\" >nan</td>\n",
       "      <td id=\"T_353f6_row48_col4\" class=\"data row48 col4\" >Adam</td>\n",
       "      <td id=\"T_353f6_row48_col5\" class=\"data row48 col5\" >0.856957</td>\n",
       "      <td id=\"T_353f6_row48_col6\" class=\"data row48 col6\" >0.856957</td>\n",
       "      <td id=\"T_353f6_row48_col7\" class=\"data row48 col7\" >0.683333</td>\n",
       "      <td id=\"T_353f6_row48_col8\" class=\"data row48 col8\" >16.000000</td>\n",
       "      <td id=\"T_353f6_row48_col9\" class=\"data row48 col9\" >32.000000</td>\n",
       "      <td id=\"T_353f6_row48_col10\" class=\"data row48 col10\" >8.000000</td>\n",
       "    </tr>\n",
       "    <tr>\n",
       "      <th id=\"T_353f6_level0_row49\" class=\"row_heading level0 row49\" >61</th>\n",
       "      <td id=\"T_353f6_row49_col0\" class=\"data row49 col0\" >45</td>\n",
       "      <td id=\"T_353f6_row49_col1\" class=\"data row49 col1\" >1-DANetConfig</td>\n",
       "      <td id=\"T_353f6_row49_col2\" class=\"data row49 col2\" >nan</td>\n",
       "      <td id=\"T_353f6_row49_col3\" class=\"data row49 col3\" >nan</td>\n",
       "      <td id=\"T_353f6_row49_col4\" class=\"data row49 col4\" >AdamW</td>\n",
       "      <td id=\"T_353f6_row49_col5\" class=\"data row49 col5\" >0.890724</td>\n",
       "      <td id=\"T_353f6_row49_col6\" class=\"data row49 col6\" >0.890724</td>\n",
       "      <td id=\"T_353f6_row49_col7\" class=\"data row49 col7\" >0.683333</td>\n",
       "      <td id=\"T_353f6_row49_col8\" class=\"data row49 col8\" >64.000000</td>\n",
       "      <td id=\"T_353f6_row49_col9\" class=\"data row49 col9\" >64.000000</td>\n",
       "      <td id=\"T_353f6_row49_col10\" class=\"data row49 col10\" >8.000000</td>\n",
       "    </tr>\n",
       "    <tr>\n",
       "      <th id=\"T_353f6_level0_row50\" class=\"row_heading level0 row50\" >10</th>\n",
       "      <td id=\"T_353f6_row50_col0\" class=\"data row50 col0\" >10</td>\n",
       "      <td id=\"T_353f6_row50_col1\" class=\"data row50 col1\" >0-CategoryEmbeddingModelConfig</td>\n",
       "      <td id=\"T_353f6_row50_col2\" class=\"data row50 col2\" >LeakyReLU</td>\n",
       "      <td id=\"T_353f6_row50_col3\" class=\"data row50 col3\" >1024-512-256</td>\n",
       "      <td id=\"T_353f6_row50_col4\" class=\"data row50 col4\" >Adam</td>\n",
       "      <td id=\"T_353f6_row50_col5\" class=\"data row50 col5\" >0.947635</td>\n",
       "      <td id=\"T_353f6_row50_col6\" class=\"data row50 col6\" >0.947635</td>\n",
       "      <td id=\"T_353f6_row50_col7\" class=\"data row50 col7\" >0.683333</td>\n",
       "      <td id=\"T_353f6_row50_col8\" class=\"data row50 col8\" >nan</td>\n",
       "      <td id=\"T_353f6_row50_col9\" class=\"data row50 col9\" >nan</td>\n",
       "      <td id=\"T_353f6_row50_col10\" class=\"data row50 col10\" >nan</td>\n",
       "    </tr>\n",
       "    <tr>\n",
       "      <th id=\"T_353f6_level0_row51\" class=\"row_heading level0 row51\" >69</th>\n",
       "      <td id=\"T_353f6_row51_col0\" class=\"data row51 col0\" >53</td>\n",
       "      <td id=\"T_353f6_row51_col1\" class=\"data row51 col1\" >1-DANetConfig</td>\n",
       "      <td id=\"T_353f6_row51_col2\" class=\"data row51 col2\" >nan</td>\n",
       "      <td id=\"T_353f6_row51_col3\" class=\"data row51 col3\" >nan</td>\n",
       "      <td id=\"T_353f6_row51_col4\" class=\"data row51 col4\" >AdamW</td>\n",
       "      <td id=\"T_353f6_row51_col5\" class=\"data row51 col5\" >0.945780</td>\n",
       "      <td id=\"T_353f6_row51_col6\" class=\"data row51 col6\" >0.945780</td>\n",
       "      <td id=\"T_353f6_row51_col7\" class=\"data row51 col7\" >0.683333</td>\n",
       "      <td id=\"T_353f6_row51_col8\" class=\"data row51 col8\" >64.000000</td>\n",
       "      <td id=\"T_353f6_row51_col9\" class=\"data row51 col9\" >128.000000</td>\n",
       "      <td id=\"T_353f6_row51_col10\" class=\"data row51 col10\" >16.000000</td>\n",
       "    </tr>\n",
       "    <tr>\n",
       "      <th id=\"T_353f6_level0_row52\" class=\"row_heading level0 row52\" >24</th>\n",
       "      <td id=\"T_353f6_row52_col0\" class=\"data row52 col0\" >8</td>\n",
       "      <td id=\"T_353f6_row52_col1\" class=\"data row52 col1\" >1-DANetConfig</td>\n",
       "      <td id=\"T_353f6_row52_col2\" class=\"data row52 col2\" >nan</td>\n",
       "      <td id=\"T_353f6_row52_col3\" class=\"data row52 col3\" >nan</td>\n",
       "      <td id=\"T_353f6_row52_col4\" class=\"data row52 col4\" >Adam</td>\n",
       "      <td id=\"T_353f6_row52_col5\" class=\"data row52 col5\" >0.848274</td>\n",
       "      <td id=\"T_353f6_row52_col6\" class=\"data row52 col6\" >0.848274</td>\n",
       "      <td id=\"T_353f6_row52_col7\" class=\"data row52 col7\" >0.680000</td>\n",
       "      <td id=\"T_353f6_row52_col8\" class=\"data row52 col8\" >16.000000</td>\n",
       "      <td id=\"T_353f6_row52_col9\" class=\"data row52 col9\" >64.000000</td>\n",
       "      <td id=\"T_353f6_row52_col10\" class=\"data row52 col10\" >8.000000</td>\n",
       "    </tr>\n",
       "    <tr>\n",
       "      <th id=\"T_353f6_level0_row53\" class=\"row_heading level0 row53\" >64</th>\n",
       "      <td id=\"T_353f6_row53_col0\" class=\"data row53 col0\" >48</td>\n",
       "      <td id=\"T_353f6_row53_col1\" class=\"data row53 col1\" >1-DANetConfig</td>\n",
       "      <td id=\"T_353f6_row53_col2\" class=\"data row53 col2\" >nan</td>\n",
       "      <td id=\"T_353f6_row53_col3\" class=\"data row53 col3\" >nan</td>\n",
       "      <td id=\"T_353f6_row53_col4\" class=\"data row53 col4\" >Adam</td>\n",
       "      <td id=\"T_353f6_row53_col5\" class=\"data row53 col5\" >0.966033</td>\n",
       "      <td id=\"T_353f6_row53_col6\" class=\"data row53 col6\" >0.966033</td>\n",
       "      <td id=\"T_353f6_row53_col7\" class=\"data row53 col7\" >0.680000</td>\n",
       "      <td id=\"T_353f6_row53_col8\" class=\"data row53 col8\" >64.000000</td>\n",
       "      <td id=\"T_353f6_row53_col9\" class=\"data row53 col9\" >128.000000</td>\n",
       "      <td id=\"T_353f6_row53_col10\" class=\"data row53 col10\" >4.000000</td>\n",
       "    </tr>\n",
       "    <tr>\n",
       "      <th id=\"T_353f6_level0_row54\" class=\"row_heading level0 row54\" >28</th>\n",
       "      <td id=\"T_353f6_row54_col0\" class=\"data row54 col0\" >12</td>\n",
       "      <td id=\"T_353f6_row54_col1\" class=\"data row54 col1\" >1-DANetConfig</td>\n",
       "      <td id=\"T_353f6_row54_col2\" class=\"data row54 col2\" >nan</td>\n",
       "      <td id=\"T_353f6_row54_col3\" class=\"data row54 col3\" >nan</td>\n",
       "      <td id=\"T_353f6_row54_col4\" class=\"data row54 col4\" >Adam</td>\n",
       "      <td id=\"T_353f6_row54_col5\" class=\"data row54 col5\" >0.896712</td>\n",
       "      <td id=\"T_353f6_row54_col6\" class=\"data row54 col6\" >0.896712</td>\n",
       "      <td id=\"T_353f6_row54_col7\" class=\"data row54 col7\" >0.680000</td>\n",
       "      <td id=\"T_353f6_row54_col8\" class=\"data row54 col8\" >16.000000</td>\n",
       "      <td id=\"T_353f6_row54_col9\" class=\"data row54 col9\" >128.000000</td>\n",
       "      <td id=\"T_353f6_row54_col10\" class=\"data row54 col10\" >4.000000</td>\n",
       "    </tr>\n",
       "    <tr>\n",
       "      <th id=\"T_353f6_level0_row55\" class=\"row_heading level0 row55\" >40</th>\n",
       "      <td id=\"T_353f6_row55_col0\" class=\"data row55 col0\" >24</td>\n",
       "      <td id=\"T_353f6_row55_col1\" class=\"data row55 col1\" >1-DANetConfig</td>\n",
       "      <td id=\"T_353f6_row55_col2\" class=\"data row55 col2\" >nan</td>\n",
       "      <td id=\"T_353f6_row55_col3\" class=\"data row55 col3\" >nan</td>\n",
       "      <td id=\"T_353f6_row55_col4\" class=\"data row55 col4\" >Adam</td>\n",
       "      <td id=\"T_353f6_row55_col5\" class=\"data row55 col5\" >1.220172</td>\n",
       "      <td id=\"T_353f6_row55_col6\" class=\"data row55 col6\" >1.220172</td>\n",
       "      <td id=\"T_353f6_row55_col7\" class=\"data row55 col7\" >0.673333</td>\n",
       "      <td id=\"T_353f6_row55_col8\" class=\"data row55 col8\" >32.000000</td>\n",
       "      <td id=\"T_353f6_row55_col9\" class=\"data row55 col9\" >64.000000</td>\n",
       "      <td id=\"T_353f6_row55_col10\" class=\"data row55 col10\" >4.000000</td>\n",
       "    </tr>\n",
       "    <tr>\n",
       "      <th id=\"T_353f6_level0_row56\" class=\"row_heading level0 row56\" >15</th>\n",
       "      <td id=\"T_353f6_row56_col0\" class=\"data row56 col0\" >15</td>\n",
       "      <td id=\"T_353f6_row56_col1\" class=\"data row56 col1\" >0-CategoryEmbeddingModelConfig</td>\n",
       "      <td id=\"T_353f6_row56_col2\" class=\"data row56 col2\" >LeakyReLU</td>\n",
       "      <td id=\"T_353f6_row56_col3\" class=\"data row56 col3\" >256-512-1024</td>\n",
       "      <td id=\"T_353f6_row56_col4\" class=\"data row56 col4\" >AdamW</td>\n",
       "      <td id=\"T_353f6_row56_col5\" class=\"data row56 col5\" >0.996864</td>\n",
       "      <td id=\"T_353f6_row56_col6\" class=\"data row56 col6\" >0.996864</td>\n",
       "      <td id=\"T_353f6_row56_col7\" class=\"data row56 col7\" >0.673333</td>\n",
       "      <td id=\"T_353f6_row56_col8\" class=\"data row56 col8\" >nan</td>\n",
       "      <td id=\"T_353f6_row56_col9\" class=\"data row56 col9\" >nan</td>\n",
       "      <td id=\"T_353f6_row56_col10\" class=\"data row56 col10\" >nan</td>\n",
       "    </tr>\n",
       "    <tr>\n",
       "      <th id=\"T_353f6_level0_row57\" class=\"row_heading level0 row57\" >62</th>\n",
       "      <td id=\"T_353f6_row57_col0\" class=\"data row57 col0\" >46</td>\n",
       "      <td id=\"T_353f6_row57_col1\" class=\"data row57 col1\" >1-DANetConfig</td>\n",
       "      <td id=\"T_353f6_row57_col2\" class=\"data row57 col2\" >nan</td>\n",
       "      <td id=\"T_353f6_row57_col3\" class=\"data row57 col3\" >nan</td>\n",
       "      <td id=\"T_353f6_row57_col4\" class=\"data row57 col4\" >Adam</td>\n",
       "      <td id=\"T_353f6_row57_col5\" class=\"data row57 col5\" >0.950514</td>\n",
       "      <td id=\"T_353f6_row57_col6\" class=\"data row57 col6\" >0.950514</td>\n",
       "      <td id=\"T_353f6_row57_col7\" class=\"data row57 col7\" >0.673333</td>\n",
       "      <td id=\"T_353f6_row57_col8\" class=\"data row57 col8\" >64.000000</td>\n",
       "      <td id=\"T_353f6_row57_col9\" class=\"data row57 col9\" >64.000000</td>\n",
       "      <td id=\"T_353f6_row57_col10\" class=\"data row57 col10\" >16.000000</td>\n",
       "    </tr>\n",
       "    <tr>\n",
       "      <th id=\"T_353f6_level0_row58\" class=\"row_heading level0 row58\" >5</th>\n",
       "      <td id=\"T_353f6_row58_col0\" class=\"data row58 col0\" >5</td>\n",
       "      <td id=\"T_353f6_row58_col1\" class=\"data row58 col1\" >0-CategoryEmbeddingModelConfig</td>\n",
       "      <td id=\"T_353f6_row58_col2\" class=\"data row58 col2\" >ReLU</td>\n",
       "      <td id=\"T_353f6_row58_col3\" class=\"data row58 col3\" >32-64-128</td>\n",
       "      <td id=\"T_353f6_row58_col4\" class=\"data row58 col4\" >AdamW</td>\n",
       "      <td id=\"T_353f6_row58_col5\" class=\"data row58 col5\" >0.864618</td>\n",
       "      <td id=\"T_353f6_row58_col6\" class=\"data row58 col6\" >0.864618</td>\n",
       "      <td id=\"T_353f6_row58_col7\" class=\"data row58 col7\" >0.673333</td>\n",
       "      <td id=\"T_353f6_row58_col8\" class=\"data row58 col8\" >nan</td>\n",
       "      <td id=\"T_353f6_row58_col9\" class=\"data row58 col9\" >nan</td>\n",
       "      <td id=\"T_353f6_row58_col10\" class=\"data row58 col10\" >nan</td>\n",
       "    </tr>\n",
       "    <tr>\n",
       "      <th id=\"T_353f6_level0_row59\" class=\"row_heading level0 row59\" >6</th>\n",
       "      <td id=\"T_353f6_row59_col0\" class=\"data row59 col0\" >6</td>\n",
       "      <td id=\"T_353f6_row59_col1\" class=\"data row59 col1\" >0-CategoryEmbeddingModelConfig</td>\n",
       "      <td id=\"T_353f6_row59_col2\" class=\"data row59 col2\" >ReLU</td>\n",
       "      <td id=\"T_353f6_row59_col3\" class=\"data row59 col3\" >256-512-1024</td>\n",
       "      <td id=\"T_353f6_row59_col4\" class=\"data row59 col4\" >Adam</td>\n",
       "      <td id=\"T_353f6_row59_col5\" class=\"data row59 col5\" >1.230893</td>\n",
       "      <td id=\"T_353f6_row59_col6\" class=\"data row59 col6\" >1.230893</td>\n",
       "      <td id=\"T_353f6_row59_col7\" class=\"data row59 col7\" >0.670000</td>\n",
       "      <td id=\"T_353f6_row59_col8\" class=\"data row59 col8\" >nan</td>\n",
       "      <td id=\"T_353f6_row59_col9\" class=\"data row59 col9\" >nan</td>\n",
       "      <td id=\"T_353f6_row59_col10\" class=\"data row59 col10\" >nan</td>\n",
       "    </tr>\n",
       "    <tr>\n",
       "      <th id=\"T_353f6_level0_row60\" class=\"row_heading level0 row60\" >14</th>\n",
       "      <td id=\"T_353f6_row60_col0\" class=\"data row60 col0\" >14</td>\n",
       "      <td id=\"T_353f6_row60_col1\" class=\"data row60 col1\" >0-CategoryEmbeddingModelConfig</td>\n",
       "      <td id=\"T_353f6_row60_col2\" class=\"data row60 col2\" >LeakyReLU</td>\n",
       "      <td id=\"T_353f6_row60_col3\" class=\"data row60 col3\" >256-512-1024</td>\n",
       "      <td id=\"T_353f6_row60_col4\" class=\"data row60 col4\" >Adam</td>\n",
       "      <td id=\"T_353f6_row60_col5\" class=\"data row60 col5\" >0.980583</td>\n",
       "      <td id=\"T_353f6_row60_col6\" class=\"data row60 col6\" >0.980583</td>\n",
       "      <td id=\"T_353f6_row60_col7\" class=\"data row60 col7\" >0.666667</td>\n",
       "      <td id=\"T_353f6_row60_col8\" class=\"data row60 col8\" >nan</td>\n",
       "      <td id=\"T_353f6_row60_col9\" class=\"data row60 col9\" >nan</td>\n",
       "      <td id=\"T_353f6_row60_col10\" class=\"data row60 col10\" >nan</td>\n",
       "    </tr>\n",
       "    <tr>\n",
       "      <th id=\"T_353f6_level0_row61\" class=\"row_heading level0 row61\" >8</th>\n",
       "      <td id=\"T_353f6_row61_col0\" class=\"data row61 col0\" >8</td>\n",
       "      <td id=\"T_353f6_row61_col1\" class=\"data row61 col1\" >0-CategoryEmbeddingModelConfig</td>\n",
       "      <td id=\"T_353f6_row61_col2\" class=\"data row61 col2\" >LeakyReLU</td>\n",
       "      <td id=\"T_353f6_row61_col3\" class=\"data row61 col3\" >128-64-32</td>\n",
       "      <td id=\"T_353f6_row61_col4\" class=\"data row61 col4\" >Adam</td>\n",
       "      <td id=\"T_353f6_row61_col5\" class=\"data row61 col5\" >0.977295</td>\n",
       "      <td id=\"T_353f6_row61_col6\" class=\"data row61 col6\" >0.977295</td>\n",
       "      <td id=\"T_353f6_row61_col7\" class=\"data row61 col7\" >0.666667</td>\n",
       "      <td id=\"T_353f6_row61_col8\" class=\"data row61 col8\" >nan</td>\n",
       "      <td id=\"T_353f6_row61_col9\" class=\"data row61 col9\" >nan</td>\n",
       "      <td id=\"T_353f6_row61_col10\" class=\"data row61 col10\" >nan</td>\n",
       "    </tr>\n",
       "    <tr>\n",
       "      <th id=\"T_353f6_level0_row62\" class=\"row_heading level0 row62\" >3</th>\n",
       "      <td id=\"T_353f6_row62_col0\" class=\"data row62 col0\" >3</td>\n",
       "      <td id=\"T_353f6_row62_col1\" class=\"data row62 col1\" >0-CategoryEmbeddingModelConfig</td>\n",
       "      <td id=\"T_353f6_row62_col2\" class=\"data row62 col2\" >ReLU</td>\n",
       "      <td id=\"T_353f6_row62_col3\" class=\"data row62 col3\" >1024-512-256</td>\n",
       "      <td id=\"T_353f6_row62_col4\" class=\"data row62 col4\" >AdamW</td>\n",
       "      <td id=\"T_353f6_row62_col5\" class=\"data row62 col5\" >0.944528</td>\n",
       "      <td id=\"T_353f6_row62_col6\" class=\"data row62 col6\" >0.944528</td>\n",
       "      <td id=\"T_353f6_row62_col7\" class=\"data row62 col7\" >0.666667</td>\n",
       "      <td id=\"T_353f6_row62_col8\" class=\"data row62 col8\" >nan</td>\n",
       "      <td id=\"T_353f6_row62_col9\" class=\"data row62 col9\" >nan</td>\n",
       "      <td id=\"T_353f6_row62_col10\" class=\"data row62 col10\" >nan</td>\n",
       "    </tr>\n",
       "    <tr>\n",
       "      <th id=\"T_353f6_level0_row63\" class=\"row_heading level0 row63\" >30</th>\n",
       "      <td id=\"T_353f6_row63_col0\" class=\"data row63 col0\" >14</td>\n",
       "      <td id=\"T_353f6_row63_col1\" class=\"data row63 col1\" >1-DANetConfig</td>\n",
       "      <td id=\"T_353f6_row63_col2\" class=\"data row63 col2\" >nan</td>\n",
       "      <td id=\"T_353f6_row63_col3\" class=\"data row63 col3\" >nan</td>\n",
       "      <td id=\"T_353f6_row63_col4\" class=\"data row63 col4\" >Adam</td>\n",
       "      <td id=\"T_353f6_row63_col5\" class=\"data row63 col5\" >1.167983</td>\n",
       "      <td id=\"T_353f6_row63_col6\" class=\"data row63 col6\" >1.167983</td>\n",
       "      <td id=\"T_353f6_row63_col7\" class=\"data row63 col7\" >0.666667</td>\n",
       "      <td id=\"T_353f6_row63_col8\" class=\"data row63 col8\" >16.000000</td>\n",
       "      <td id=\"T_353f6_row63_col9\" class=\"data row63 col9\" >128.000000</td>\n",
       "      <td id=\"T_353f6_row63_col10\" class=\"data row63 col10\" >8.000000</td>\n",
       "    </tr>\n",
       "    <tr>\n",
       "      <th id=\"T_353f6_level0_row64\" class=\"row_heading level0 row64\" >66</th>\n",
       "      <td id=\"T_353f6_row64_col0\" class=\"data row64 col0\" >50</td>\n",
       "      <td id=\"T_353f6_row64_col1\" class=\"data row64 col1\" >1-DANetConfig</td>\n",
       "      <td id=\"T_353f6_row64_col2\" class=\"data row64 col2\" >nan</td>\n",
       "      <td id=\"T_353f6_row64_col3\" class=\"data row64 col3\" >nan</td>\n",
       "      <td id=\"T_353f6_row64_col4\" class=\"data row64 col4\" >Adam</td>\n",
       "      <td id=\"T_353f6_row64_col5\" class=\"data row64 col5\" >1.025047</td>\n",
       "      <td id=\"T_353f6_row64_col6\" class=\"data row64 col6\" >1.025047</td>\n",
       "      <td id=\"T_353f6_row64_col7\" class=\"data row64 col7\" >0.666667</td>\n",
       "      <td id=\"T_353f6_row64_col8\" class=\"data row64 col8\" >64.000000</td>\n",
       "      <td id=\"T_353f6_row64_col9\" class=\"data row64 col9\" >128.000000</td>\n",
       "      <td id=\"T_353f6_row64_col10\" class=\"data row64 col10\" >8.000000</td>\n",
       "    </tr>\n",
       "    <tr>\n",
       "      <th id=\"T_353f6_level0_row65\" class=\"row_heading level0 row65\" >68</th>\n",
       "      <td id=\"T_353f6_row65_col0\" class=\"data row65 col0\" >52</td>\n",
       "      <td id=\"T_353f6_row65_col1\" class=\"data row65 col1\" >1-DANetConfig</td>\n",
       "      <td id=\"T_353f6_row65_col2\" class=\"data row65 col2\" >nan</td>\n",
       "      <td id=\"T_353f6_row65_col3\" class=\"data row65 col3\" >nan</td>\n",
       "      <td id=\"T_353f6_row65_col4\" class=\"data row65 col4\" >Adam</td>\n",
       "      <td id=\"T_353f6_row65_col5\" class=\"data row65 col5\" >0.882103</td>\n",
       "      <td id=\"T_353f6_row65_col6\" class=\"data row65 col6\" >0.882103</td>\n",
       "      <td id=\"T_353f6_row65_col7\" class=\"data row65 col7\" >0.666667</td>\n",
       "      <td id=\"T_353f6_row65_col8\" class=\"data row65 col8\" >64.000000</td>\n",
       "      <td id=\"T_353f6_row65_col9\" class=\"data row65 col9\" >128.000000</td>\n",
       "      <td id=\"T_353f6_row65_col10\" class=\"data row65 col10\" >16.000000</td>\n",
       "    </tr>\n",
       "    <tr>\n",
       "      <th id=\"T_353f6_level0_row66\" class=\"row_heading level0 row66\" >39</th>\n",
       "      <td id=\"T_353f6_row66_col0\" class=\"data row66 col0\" >23</td>\n",
       "      <td id=\"T_353f6_row66_col1\" class=\"data row66 col1\" >1-DANetConfig</td>\n",
       "      <td id=\"T_353f6_row66_col2\" class=\"data row66 col2\" >nan</td>\n",
       "      <td id=\"T_353f6_row66_col3\" class=\"data row66 col3\" >nan</td>\n",
       "      <td id=\"T_353f6_row66_col4\" class=\"data row66 col4\" >AdamW</td>\n",
       "      <td id=\"T_353f6_row66_col5\" class=\"data row66 col5\" >0.868623</td>\n",
       "      <td id=\"T_353f6_row66_col6\" class=\"data row66 col6\" >0.868623</td>\n",
       "      <td id=\"T_353f6_row66_col7\" class=\"data row66 col7\" >0.656667</td>\n",
       "      <td id=\"T_353f6_row66_col8\" class=\"data row66 col8\" >32.000000</td>\n",
       "      <td id=\"T_353f6_row66_col9\" class=\"data row66 col9\" >32.000000</td>\n",
       "      <td id=\"T_353f6_row66_col10\" class=\"data row66 col10\" >16.000000</td>\n",
       "    </tr>\n",
       "    <tr>\n",
       "      <th id=\"T_353f6_level0_row67\" class=\"row_heading level0 row67\" >47</th>\n",
       "      <td id=\"T_353f6_row67_col0\" class=\"data row67 col0\" >31</td>\n",
       "      <td id=\"T_353f6_row67_col1\" class=\"data row67 col1\" >1-DANetConfig</td>\n",
       "      <td id=\"T_353f6_row67_col2\" class=\"data row67 col2\" >nan</td>\n",
       "      <td id=\"T_353f6_row67_col3\" class=\"data row67 col3\" >nan</td>\n",
       "      <td id=\"T_353f6_row67_col4\" class=\"data row67 col4\" >AdamW</td>\n",
       "      <td id=\"T_353f6_row67_col5\" class=\"data row67 col5\" >1.026933</td>\n",
       "      <td id=\"T_353f6_row67_col6\" class=\"data row67 col6\" >1.026933</td>\n",
       "      <td id=\"T_353f6_row67_col7\" class=\"data row67 col7\" >0.640000</td>\n",
       "      <td id=\"T_353f6_row67_col8\" class=\"data row67 col8\" >32.000000</td>\n",
       "      <td id=\"T_353f6_row67_col9\" class=\"data row67 col9\" >128.000000</td>\n",
       "      <td id=\"T_353f6_row67_col10\" class=\"data row67 col10\" >4.000000</td>\n",
       "    </tr>\n",
       "    <tr>\n",
       "      <th id=\"T_353f6_level0_row68\" class=\"row_heading level0 row68\" >65</th>\n",
       "      <td id=\"T_353f6_row68_col0\" class=\"data row68 col0\" >49</td>\n",
       "      <td id=\"T_353f6_row68_col1\" class=\"data row68 col1\" >1-DANetConfig</td>\n",
       "      <td id=\"T_353f6_row68_col2\" class=\"data row68 col2\" >nan</td>\n",
       "      <td id=\"T_353f6_row68_col3\" class=\"data row68 col3\" >nan</td>\n",
       "      <td id=\"T_353f6_row68_col4\" class=\"data row68 col4\" >AdamW</td>\n",
       "      <td id=\"T_353f6_row68_col5\" class=\"data row68 col5\" >1.047731</td>\n",
       "      <td id=\"T_353f6_row68_col6\" class=\"data row68 col6\" >1.047731</td>\n",
       "      <td id=\"T_353f6_row68_col7\" class=\"data row68 col7\" >0.636667</td>\n",
       "      <td id=\"T_353f6_row68_col8\" class=\"data row68 col8\" >64.000000</td>\n",
       "      <td id=\"T_353f6_row68_col9\" class=\"data row68 col9\" >128.000000</td>\n",
       "      <td id=\"T_353f6_row68_col10\" class=\"data row68 col10\" >4.000000</td>\n",
       "    </tr>\n",
       "    <tr>\n",
       "      <th id=\"T_353f6_level0_row69\" class=\"row_heading level0 row69\" >2</th>\n",
       "      <td id=\"T_353f6_row69_col0\" class=\"data row69 col0\" >2</td>\n",
       "      <td id=\"T_353f6_row69_col1\" class=\"data row69 col1\" >0-CategoryEmbeddingModelConfig</td>\n",
       "      <td id=\"T_353f6_row69_col2\" class=\"data row69 col2\" >ReLU</td>\n",
       "      <td id=\"T_353f6_row69_col3\" class=\"data row69 col3\" >1024-512-256</td>\n",
       "      <td id=\"T_353f6_row69_col4\" class=\"data row69 col4\" >Adam</td>\n",
       "      <td id=\"T_353f6_row69_col5\" class=\"data row69 col5\" >1.650144</td>\n",
       "      <td id=\"T_353f6_row69_col6\" class=\"data row69 col6\" >1.650144</td>\n",
       "      <td id=\"T_353f6_row69_col7\" class=\"data row69 col7\" >0.220000</td>\n",
       "      <td id=\"T_353f6_row69_col8\" class=\"data row69 col8\" >nan</td>\n",
       "      <td id=\"T_353f6_row69_col9\" class=\"data row69 col9\" >nan</td>\n",
       "      <td id=\"T_353f6_row69_col10\" class=\"data row69 col10\" >nan</td>\n",
       "    </tr>\n",
       "  </tbody>\n",
       "</table>\n"
      ],
      "text/plain": [
       "<pandas.io.formats.style.Styler at 0x7d9e57188490>"
      ]
     },
     "execution_count": 22,
     "metadata": {},
     "output_type": "execute_result"
    }
   ],
   "source": [
    "if model_type == 'regressor':\n",
    "    tuner_df.trials_df['test_rmse'] = np.sqrt(tuner_df.trials_df['mean_squared_error'])\n",
    "\n",
    "tuner_df.trials_df.sort_values('accuracy' if model_type == 'classifier' else 'loss', ascending=False if model_type == 'classifier' else True).style.background_gradient(\n",
    "    subset=['accuracy' if model_type == 'classifier' else 'loss'], cmap='RdYlGn'\n",
    ").background_gradient(subset=['loss'], cmap='RdYlGn_r')"
   ]
  },
  {
   "cell_type": "code",
   "execution_count": null,
   "id": "ce42d06c-2825-41b5-8aef-45592e63b125",
   "metadata": {},
   "outputs": [],
   "source": [
    "tuner_df.best_model.evaluate(test)"
   ]
  },
  {
   "cell_type": "markdown",
   "id": "469ada1e-32bf-45fa-94a1-d8b96976cadd",
   "metadata": {},
   "source": [
    "### Save Model"
   ]
  },
  {
   "cell_type": "code",
   "execution_count": 28,
   "id": "5c6a3a42-831a-499c-afe0-18b4a3796e14",
   "metadata": {},
   "outputs": [
    {
     "data": {
      "text/html": [
       "<pre style=\"white-space:pre;overflow-x:auto;line-height:normal;font-family:Menlo,'DejaVu Sans Mono',consolas,'Courier New',monospace\"><span style=\"color: #008080; text-decoration-color: #008080; font-weight: bold\">2025</span>-<span style=\"color: #008080; text-decoration-color: #008080; font-weight: bold\">02</span>-<span style=\"color: #008080; text-decoration-color: #008080; font-weight: bold\">22</span> <span style=\"color: #00ff00; text-decoration-color: #00ff00; font-weight: bold\">17:39:57</span>,<span style=\"color: #008080; text-decoration-color: #008080; font-weight: bold\">575</span> - <span style=\"font-weight: bold\">{</span>pytorch_tabular.tabular_model:<span style=\"color: #008080; text-decoration-color: #008080; font-weight: bold\">1575</span><span style=\"font-weight: bold\">}</span> - WARNING - Directory is not empty. Overwriting the \n",
       "contents.                                                                                                          \n",
       "</pre>\n"
      ],
      "text/plain": [
       "\u001b[1;36m2025\u001b[0m-\u001b[1;36m02\u001b[0m-\u001b[1;36m22\u001b[0m \u001b[1;92m17:39:57\u001b[0m,\u001b[1;36m575\u001b[0m - \u001b[1m{\u001b[0mpytorch_tabular.tabular_model:\u001b[1;36m1575\u001b[0m\u001b[1m}\u001b[0m - WARNING - Directory is not empty. Overwriting the \n",
       "contents.                                                                                                          \n"
      ]
     },
     "metadata": {},
     "output_type": "display_data"
    }
   ],
   "source": [
    "tuner_df.best_model.save_model('results/best_model_tuner_pytorch_tabular', inference_only=True)\n",
    "\n",
    "# Save columns names and informations\n",
    "data_to_save = {\n",
    "    'col_names_order': col_names_order,\n",
    "    'num_col_names': num_col_names,\n",
    "    'cat_col_names': cat_col_names,\n",
    "    'date_col_names': date_col_names,\n",
    "    'target_cols': target_cols,\n",
    "    'category_mappings': category_mappings,\n",
    "    'window_size': window_size\n",
    "}\n",
    "with open('results/columns_metadata_tuner_pytorch_tabular.json', 'w') as json_file:\n",
    "    json.dump(data_to_save, json_file, indent=4)"
   ]
  },
  {
   "cell_type": "markdown",
   "id": "ac33e785-fd8d-49ef-a218-cbb4c230926b",
   "metadata": {},
   "source": [
    "## Predict\n",
    "Precisar estar no formato DataFrame do Pandas com os nomes das colunas que participaram do treinamento para passar para o modelo fazer inferência."
   ]
  },
  {
   "cell_type": "code",
   "execution_count": 29,
   "id": "492b39f6-c227-42b3-9d90-0454b4ff2702",
   "metadata": {},
   "outputs": [],
   "source": [
    "import time\n",
    "import json\n",
    "import pickle\n",
    "\n",
    "import pandas as pd\n",
    "from pytorch_tabular import TabularModel"
   ]
  },
  {
   "cell_type": "code",
   "execution_count": 30,
   "id": "b435d08f-dfaf-4245-b90e-62aeab0170bc",
   "metadata": {},
   "outputs": [
    {
     "data": {
      "text/html": [
       "<pre style=\"white-space:pre;overflow-x:auto;line-height:normal;font-family:Menlo,'DejaVu Sans Mono',consolas,'Courier New',monospace\"><span style=\"color: #008080; text-decoration-color: #008080; font-weight: bold\">2025</span>-<span style=\"color: #008080; text-decoration-color: #008080; font-weight: bold\">02</span>-<span style=\"color: #008080; text-decoration-color: #008080; font-weight: bold\">22</span> <span style=\"color: #00ff00; text-decoration-color: #00ff00; font-weight: bold\">17:40:01</span>,<span style=\"color: #008080; text-decoration-color: #008080; font-weight: bold\">386</span> - <span style=\"font-weight: bold\">{</span>pytorch_tabular.tabular_model:<span style=\"color: #008080; text-decoration-color: #008080; font-weight: bold\">171</span><span style=\"font-weight: bold\">}</span> - INFO - Experiment Tracking is turned off           \n",
       "</pre>\n"
      ],
      "text/plain": [
       "\u001b[1;36m2025\u001b[0m-\u001b[1;36m02\u001b[0m-\u001b[1;36m22\u001b[0m \u001b[1;92m17:40:01\u001b[0m,\u001b[1;36m386\u001b[0m - \u001b[1m{\u001b[0mpytorch_tabular.tabular_model:\u001b[1;36m171\u001b[0m\u001b[1m}\u001b[0m - INFO - Experiment Tracking is turned off           \n"
      ]
     },
     "metadata": {},
     "output_type": "display_data"
    },
    {
     "data": {
      "text/html": [
       "<pre style=\"white-space:pre;overflow-x:auto;line-height:normal;font-family:Menlo,'DejaVu Sans Mono',consolas,'Courier New',monospace\"><span style=\"color: #008080; text-decoration-color: #008080; font-weight: bold\">2025</span>-<span style=\"color: #008080; text-decoration-color: #008080; font-weight: bold\">02</span>-<span style=\"color: #008080; text-decoration-color: #008080; font-weight: bold\">22</span> <span style=\"color: #00ff00; text-decoration-color: #00ff00; font-weight: bold\">17:40:01</span>,<span style=\"color: #008080; text-decoration-color: #008080; font-weight: bold\">388</span> - <span style=\"font-weight: bold\">{</span>pytorch_tabular.tabular_model:<span style=\"color: #008080; text-decoration-color: #008080; font-weight: bold\">342</span><span style=\"font-weight: bold\">}</span> - INFO - Preparing the Trainer                       \n",
       "</pre>\n"
      ],
      "text/plain": [
       "\u001b[1;36m2025\u001b[0m-\u001b[1;36m02\u001b[0m-\u001b[1;36m22\u001b[0m \u001b[1;92m17:40:01\u001b[0m,\u001b[1;36m388\u001b[0m - \u001b[1m{\u001b[0mpytorch_tabular.tabular_model:\u001b[1;36m342\u001b[0m\u001b[1m}\u001b[0m - INFO - Preparing the Trainer                       \n"
      ]
     },
     "metadata": {},
     "output_type": "display_data"
    }
   ],
   "source": [
    "loaded_model = TabularModel.load_model('results/best_model_tuner_pytorch_tabular')\n",
    "\n",
    "# columns_metadata\n",
    "columns_metadata = json.load(open('results/columns_metadata_tuner_pytorch_tabular.json', 'r'))"
   ]
  },
  {
   "cell_type": "code",
   "execution_count": 31,
   "id": "2a175d2a-3751-4f41-b636-7571d0fb0b05",
   "metadata": {},
   "outputs": [],
   "source": [
    "def preprocess_inference_data(new_input, columns_metadata, scaler=None):\n",
    "    \"\"\"\n",
    "    Preprocess the input data for inference based on metadata and scaler for numeric normalization.\n",
    "\n",
    "    Args:\n",
    "        new_input (list of list): Data to preprocess (each inner list is a row).\n",
    "        columns_metadata (dict): Metadata defining column names, types, mappings, and order.\n",
    "        scaler (StandardScaler): Trained scaler for numerical columns.\n",
    "    \n",
    "    Returns:\n",
    "        list: Preprocessed data ready for inference.\n",
    "    \"\"\"\n",
    "    # Exclude target columns from col_names_order for inference\n",
    "    target_cols = columns_metadata['target_cols']\n",
    "    col_names_order = [col for col in columns_metadata['col_names_order'] if col not in target_cols]\n",
    "    # Transform the new_input into a DataFrame with the correct column order\n",
    "    df_input = pd.DataFrame(new_input, columns=col_names_order)\n",
    "\n",
    "    # Convert categorical columns based on category_mappings\n",
    "    category_mappings = columns_metadata['category_mappings']\n",
    "    for col in columns_metadata['cat_col_names']:\n",
    "        if col in df_input.columns and col in category_mappings:\n",
    "            # Replace string categories with mapped integer IDs\n",
    "            df_input[col] = df_input[col].map(category_mappings[col])\n",
    "            if df_input[col].isnull().any():\n",
    "                raise ValueError(f'Invalid value found in column \"{col}\" that is not in the category mappings.')\n",
    "\n",
    "    # Normalize numeric columns using the trained scaler\n",
    "    num_col_names = columns_metadata['num_col_names']\n",
    "    if num_col_names and scaler:\n",
    "        df_input[num_col_names] = scaler.transform(df_input[num_col_names])\n",
    "\n",
    "    # Ensure date columns are in the correct datetime format\n",
    "    for col in columns_metadata['date_col_names']:\n",
    "        if col in df_input.columns:\n",
    "            df_input[col] = pd.to_datetime(df_input[col], errors='coerce')\n",
    "            if df_input[col].isnull().any():\n",
    "                raise ValueError(f'Invalid date value found in column \"{col}\".')\n",
    "\n",
    "    # Drop target columns if they exist in the input (not used in inference)\n",
    "    target_cols = columns_metadata['target_cols']\n",
    "    df_input = df_input.drop(columns=target_cols, errors='ignore')\n",
    "\n",
    "    # Convert DataFrame to list of rows for model inference\n",
    "    #processed_data = df_input.values.tolist()\n",
    "\n",
    "    return df_input"
   ]
  },
  {
   "cell_type": "code",
   "execution_count": 32,
   "id": "66ba333b-12ec-4b67-900d-174386a0fc73",
   "metadata": {
    "scrolled": true
   },
   "outputs": [
    {
     "data": {
      "text/html": [
       "<div>\n",
       "<style scoped>\n",
       "    .dataframe tbody tr th:only-of-type {\n",
       "        vertical-align: middle;\n",
       "    }\n",
       "\n",
       "    .dataframe tbody tr th {\n",
       "        vertical-align: top;\n",
       "    }\n",
       "\n",
       "    .dataframe thead th {\n",
       "        text-align: right;\n",
       "    }\n",
       "</style>\n",
       "<table border=\"1\" class=\"dataframe\">\n",
       "  <thead>\n",
       "    <tr style=\"text-align: right;\">\n",
       "      <th></th>\n",
       "      <th>feature_1</th>\n",
       "      <th>feature_2</th>\n",
       "      <th>feature_3</th>\n",
       "      <th>feature_4</th>\n",
       "      <th>feature_5</th>\n",
       "      <th>feature_6</th>\n",
       "      <th>feature_7</th>\n",
       "      <th>feature_8</th>\n",
       "    </tr>\n",
       "  </thead>\n",
       "  <tbody>\n",
       "    <tr>\n",
       "      <th>0</th>\n",
       "      <td>66.770774</td>\n",
       "      <td>0</td>\n",
       "      <td>129.519443</td>\n",
       "      <td>157.649826</td>\n",
       "      <td>6.255495</td>\n",
       "      <td>0.828523</td>\n",
       "      <td>1.1</td>\n",
       "      <td>0.656228</td>\n",
       "    </tr>\n",
       "  </tbody>\n",
       "</table>\n",
       "</div>"
      ],
      "text/plain": [
       "   feature_1  feature_2   feature_3   feature_4  feature_5  feature_6  \\\n",
       "0  66.770774          0  129.519443  157.649826   6.255495   0.828523   \n",
       "\n",
       "   feature_7  feature_8  \n",
       "0        1.1   0.656228  "
      ]
     },
     "execution_count": 32,
     "metadata": {},
     "output_type": "execute_result"
    }
   ],
   "source": [
    "new_input = [\n",
    "    [66.770774, 'A', 129.519443, 157.649826, 6.255495, 0.828523, 1.10, 0.656228]  # target type_4\n",
    "]\n",
    "new_input_preprocessed = preprocess_inference_data(new_input, columns_metadata)\n",
    "new_input_preprocessed"
   ]
  },
  {
   "cell_type": "code",
   "execution_count": 33,
   "id": "51a4dcaa-0235-4d44-aa84-7a4f156c9eb5",
   "metadata": {},
   "outputs": [],
   "source": [
    "target = columns_metadata['target_cols'][0]\n",
    "clss_to_cat = {}\n",
    "if target in columns_metadata['category_mappings']:\n",
    "    for key, value in columns_metadata['category_mappings'][target].items():\n",
    "        clss_to_cat[value] = key"
   ]
  },
  {
   "cell_type": "code",
   "execution_count": 42,
   "id": "c4f33da5-9543-4263-8637-80f491d7a14e",
   "metadata": {},
   "outputs": [
    {
     "name": "stdout",
     "output_type": "stream",
     "text": [
      "type_4\n",
      "Total time: 0.15158700942993164\n"
     ]
    }
   ],
   "source": [
    "tic = time.time()\n",
    "result = loaded_model.predict(new_input_preprocessed)\n",
    "if clss_to_cat:\n",
    "    result = clss_to_cat[result['target_prediction'][0]]\n",
    "print(result)\n",
    "print(f'Total time: {time.time() - tic}')"
   ]
  }
 ],
 "metadata": {
  "kernelspec": {
   "display_name": "Python 3 (ipykernel)",
   "language": "python",
   "name": "python3"
  },
  "language_info": {
   "codemirror_mode": {
    "name": "ipython",
    "version": 3
   },
   "file_extension": ".py",
   "mimetype": "text/x-python",
   "name": "python",
   "nbconvert_exporter": "python",
   "pygments_lexer": "ipython3",
   "version": "3.10.13"
  }
 },
 "nbformat": 4,
 "nbformat_minor": 5
}
