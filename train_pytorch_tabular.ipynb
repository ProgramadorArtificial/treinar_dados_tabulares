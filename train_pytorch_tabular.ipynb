{
 "cells": [
  {
   "cell_type": "markdown",
   "id": "bbab0916-5eca-48ac-ab1f-24cf9e0a26e1",
   "metadata": {},
   "source": [
    "# Pytorch Tabular\n",
    "Notebook pensando para facilitar e agiliar o treinamento de Deep Learning, sendo necessário, em grande parte das vezes, somente alterar o caminho do dataset e o tipo (classificador ou regressão). Assim como, quais arquiteturas serão utilizado para buscar os melhores hiperparâmetros."
   ]
  },
  {
   "cell_type": "code",
   "execution_count": 1,
   "id": "dab7ad7e-a0eb-440c-8de0-0b7339e55a49",
   "metadata": {},
   "outputs": [],
   "source": [
    "import warnings\n",
    "warnings.filterwarnings('ignore')\n",
    "\n",
    "import time\n",
    "import math\n",
    "import json\n",
    "\n",
    "import numpy as np\n",
    "import pandas as pd\n",
    "from sklearn.preprocessing import LabelEncoder\n",
    "\n",
    "# Pytorch Tabular\n",
    "from pytorch_tabular.config import (\n",
    "    DataConfig,\n",
    "    OptimizerConfig,\n",
    "    TrainerConfig,\n",
    ")"
   ]
  },
  {
   "cell_type": "markdown",
   "id": "ab280318-1eb7-470e-80d2-d62cffda931a",
   "metadata": {},
   "source": [
    "## Preparar Dataset"
   ]
  },
  {
   "cell_type": "code",
   "execution_count": 2,
   "id": "faa6c036-d86a-473a-8df0-b160a6ad90ba",
   "metadata": {},
   "outputs": [],
   "source": [
    "def preprocess_data(df, target_cols, max_unique_values=10, window_size=1, no_columns_lags=[]):\n",
    "    \"\"\"\n",
    "    Preprocess dataset, converting string columns to number and identifying numeric, categorical, and date columns.\n",
    "    Adds a window of historical rows to the data.\n",
    "\n",
    "    Args:\n",
    "        df (DataFrame): DataFrame with data to analyze.\n",
    "        target_cols (list): All target columns to not add in numeric, categorical, or date feature lists.\n",
    "        max_unique_values (int): Maximum number of unique values to consider a numeric column as categorical.\n",
    "        window_size (int): Number of previous rows to include for each row.\n",
    "        no_columns_lags (list): Columns names to not do lags, keeping only the current one.\n",
    "\n",
    "    Returns:\n",
    "        df_copy (DataFrame): Processed DataFrame with transformations applied.\n",
    "        num_col_names (list): List of numeric feature column names.\n",
    "        cat_col_names (list): List of categorical feature column names.\n",
    "        date_col_names (list): List of date feature column names.\n",
    "        mappings (dict): Mapping of original categorical values (or target columns) to transformed numeric values.\n",
    "    \"\"\"\n",
    "    # Create a copy so as not to alter the original DataFrame\n",
    "    df_copy = df.copy()\n",
    "\n",
    "    # Remove lines with null values\n",
    "    df_copy = df_copy.dropna()\n",
    "    \n",
    "    # Identify categorical and numeric columns\n",
    "    cat_col_names = df_copy.select_dtypes(include=['object', 'category']).columns.tolist()\n",
    "    num_col_names = df_copy.select_dtypes(include=['number']).columns.tolist()\n",
    "    date_col_names = []\n",
    "\n",
    "    # Identify columns that are dates\n",
    "    for col in df.columns:\n",
    "        if df[col].dtype in ['object', 'string']:  # Only check object/string columns\n",
    "            try:\n",
    "                # Attempt to convert the column to datetime\n",
    "                df_copy[col] = pd.to_datetime(df[col], errors='raise')\n",
    "                if col not in target_cols:  # Avoid considering target columns as date columns\n",
    "                    date_col_names.append(col)\n",
    "            except (ValueError, TypeError):\n",
    "                pass\n",
    "\n",
    "    # Identify numeric columns that are categorical\n",
    "    potential_categorical = []\n",
    "    for col in num_col_names:\n",
    "        if col not in target_cols and df_copy[col].nunique() <= max_unique_values:\n",
    "            potential_categorical.append(col)\n",
    "\n",
    "    cat_col_names += potential_categorical\n",
    "\n",
    "    # Remove target columns from the lists\n",
    "    num_col_names = [col for col in num_col_names if col not in potential_categorical + target_cols + date_col_names]\n",
    "    cat_col_names = [col for col in cat_col_names if col not in target_cols + date_col_names]\n",
    "    \n",
    "    mappings = {}\n",
    "    label_encoders = {}\n",
    "\n",
    "    # Convert string columns to category and create a mapping (old value -> new value)\n",
    "    for col in cat_col_names + target_cols:\n",
    "        if df_copy[col].dtype not in ['int64', 'float64']:\n",
    "            le = LabelEncoder()\n",
    "            df_copy[col] = le.fit_transform(df_copy[col])\n",
    "            mappings[col] = dict(zip(le.classes_, le.transform(le.classes_)))\n",
    "            label_encoders[col] = le\n",
    "            # Convert values to int (otherwise will raise error if save as json)\n",
    "            for key, value in mappings[col].items():\n",
    "                mappings[col][key] = int(value)\n",
    "        #else:\n",
    "        #    mappings[col] = {int(val): int(val) for val in df_copy[col].unique()}\n",
    "\n",
    "    # Add historical data based on window_size\n",
    "    if window_size > 1:\n",
    "        historical_features = []\n",
    "        for i in range(window_size - 1, 0, -1):  # Create features lag, oldest to newest\n",
    "            shifted = df_copy.drop(columns=target_cols + no_columns_lags, errors='ignore').shift(i).add_suffix(f'_lag_{i}')\n",
    "            historical_features.append(shifted)\n",
    "        \n",
    "        # Concatenate the lags to the left and keep the current values\n",
    "        df_copy = pd.concat(historical_features + [df_copy], axis=1)\n",
    "\n",
    "        # Remove NaNs columns created by shifts\n",
    "        df_copy = df_copy.dropna()\n",
    "    \n",
    "        # Add lags\n",
    "        num_col_lags = [f'{col}_lag_{i}' for i in range(window_size - 1, 0, -1) for col in num_col_names if col not in no_columns_lags]\n",
    "        cat_col_lags = [f'{col}_lag_{i}' for i in range(window_size - 1, 0, -1) for col in cat_col_names if col not in no_columns_lags]\n",
    "        date_col_lags = [f'{col}_lag_{i}' for i in range(window_size - 1, 0, -1) for col in date_col_names if col not in no_columns_lags]\n",
    "        mappings_lags = {}\n",
    "        for col, value in mappings.items():\n",
    "            for i in range(window_size - 1, 0, -1):\n",
    "                mappings_lags[f'{col}_lag_{i}'] = value\n",
    "    \n",
    "        # Update main columns + lags columns\n",
    "        num_col_names = num_col_lags + num_col_names\n",
    "        cat_col_names = cat_col_lags + cat_col_names\n",
    "        date_col_names = date_col_lags + date_col_names\n",
    "        mappings = {**mappings_lags, **mappings}\n",
    "    \n",
    "    return df_copy, num_col_names, cat_col_names, date_col_names, mappings"
   ]
  },
  {
   "cell_type": "code",
   "execution_count": 3,
   "id": "185745e3-eb7c-4ea9-8c1a-b5aa6fa71b8e",
   "metadata": {},
   "outputs": [
    {
     "data": {
      "text/html": [
       "<div>\n",
       "<style scoped>\n",
       "    .dataframe tbody tr th:only-of-type {\n",
       "        vertical-align: middle;\n",
       "    }\n",
       "\n",
       "    .dataframe tbody tr th {\n",
       "        vertical-align: top;\n",
       "    }\n",
       "\n",
       "    .dataframe thead th {\n",
       "        text-align: right;\n",
       "    }\n",
       "</style>\n",
       "<table border=\"1\" class=\"dataframe\">\n",
       "  <thead>\n",
       "    <tr style=\"text-align: right;\">\n",
       "      <th></th>\n",
       "      <th>data</th>\n",
       "      <th>temperature</th>\n",
       "      <th>atmospheric_pressure</th>\n",
       "      <th>humidity</th>\n",
       "      <th>wind_speed</th>\n",
       "      <th>target</th>\n",
       "    </tr>\n",
       "  </thead>\n",
       "  <tbody>\n",
       "    <tr>\n",
       "      <th>0</th>\n",
       "      <td>2025-01-03</td>\n",
       "      <td>29.204468</td>\n",
       "      <td>1018.531025</td>\n",
       "      <td>55.368863</td>\n",
       "      <td>5.636536</td>\n",
       "      <td>12.745888</td>\n",
       "    </tr>\n",
       "    <tr>\n",
       "      <th>1</th>\n",
       "      <td>2025-01-04</td>\n",
       "      <td>22.318149</td>\n",
       "      <td>1017.262825</td>\n",
       "      <td>38.066587</td>\n",
       "      <td>2.520635</td>\n",
       "      <td>14.497671</td>\n",
       "    </tr>\n",
       "    <tr>\n",
       "      <th>2</th>\n",
       "      <td>2025-01-05</td>\n",
       "      <td>18.386458</td>\n",
       "      <td>994.651252</td>\n",
       "      <td>57.438279</td>\n",
       "      <td>9.802986</td>\n",
       "      <td>12.170944</td>\n",
       "    </tr>\n",
       "    <tr>\n",
       "      <th>3</th>\n",
       "      <td>2025-01-06</td>\n",
       "      <td>29.625662</td>\n",
       "      <td>1029.142441</td>\n",
       "      <td>88.232424</td>\n",
       "      <td>14.553119</td>\n",
       "      <td>10.076645</td>\n",
       "    </tr>\n",
       "    <tr>\n",
       "      <th>4</th>\n",
       "      <td>2025-01-07</td>\n",
       "      <td>13.901379</td>\n",
       "      <td>1005.326379</td>\n",
       "      <td>37.854832</td>\n",
       "      <td>12.765371</td>\n",
       "      <td>8.582377</td>\n",
       "    </tr>\n",
       "    <tr>\n",
       "      <th>...</th>\n",
       "      <td>...</td>\n",
       "      <td>...</td>\n",
       "      <td>...</td>\n",
       "      <td>...</td>\n",
       "      <td>...</td>\n",
       "      <td>...</td>\n",
       "    </tr>\n",
       "    <tr>\n",
       "      <th>993</th>\n",
       "      <td>2027-09-23</td>\n",
       "      <td>28.789072</td>\n",
       "      <td>1003.400658</td>\n",
       "      <td>67.593622</td>\n",
       "      <td>11.953912</td>\n",
       "      <td>9.325243</td>\n",
       "    </tr>\n",
       "    <tr>\n",
       "      <th>994</th>\n",
       "      <td>2027-09-24</td>\n",
       "      <td>27.887713</td>\n",
       "      <td>1012.916262</td>\n",
       "      <td>50.098965</td>\n",
       "      <td>2.210093</td>\n",
       "      <td>12.846413</td>\n",
       "    </tr>\n",
       "    <tr>\n",
       "      <th>995</th>\n",
       "      <td>2027-09-25</td>\n",
       "      <td>16.830046</td>\n",
       "      <td>988.167754</td>\n",
       "      <td>77.374936</td>\n",
       "      <td>14.168634</td>\n",
       "      <td>10.899380</td>\n",
       "    </tr>\n",
       "    <tr>\n",
       "      <th>996</th>\n",
       "      <td>2027-09-26</td>\n",
       "      <td>12.307704</td>\n",
       "      <td>990.774392</td>\n",
       "      <td>56.353575</td>\n",
       "      <td>18.602596</td>\n",
       "      <td>6.143613</td>\n",
       "    </tr>\n",
       "    <tr>\n",
       "      <th>997</th>\n",
       "      <td>2027-09-27</td>\n",
       "      <td>22.817836</td>\n",
       "      <td>995.903711</td>\n",
       "      <td>61.494547</td>\n",
       "      <td>6.716725</td>\n",
       "      <td>7.138004</td>\n",
       "    </tr>\n",
       "  </tbody>\n",
       "</table>\n",
       "<p>998 rows × 6 columns</p>\n",
       "</div>"
      ],
      "text/plain": [
       "           data  temperature  atmospheric_pressure   humidity  wind_speed  \\\n",
       "0    2025-01-03    29.204468           1018.531025  55.368863    5.636536   \n",
       "1    2025-01-04    22.318149           1017.262825  38.066587    2.520635   \n",
       "2    2025-01-05    18.386458            994.651252  57.438279    9.802986   \n",
       "3    2025-01-06    29.625662           1029.142441  88.232424   14.553119   \n",
       "4    2025-01-07    13.901379           1005.326379  37.854832   12.765371   \n",
       "..          ...          ...                   ...        ...         ...   \n",
       "993  2027-09-23    28.789072           1003.400658  67.593622   11.953912   \n",
       "994  2027-09-24    27.887713           1012.916262  50.098965    2.210093   \n",
       "995  2027-09-25    16.830046            988.167754  77.374936   14.168634   \n",
       "996  2027-09-26    12.307704            990.774392  56.353575   18.602596   \n",
       "997  2027-09-27    22.817836            995.903711  61.494547    6.716725   \n",
       "\n",
       "        target  \n",
       "0    12.745888  \n",
       "1    14.497671  \n",
       "2    12.170944  \n",
       "3    10.076645  \n",
       "4     8.582377  \n",
       "..         ...  \n",
       "993   9.325243  \n",
       "994  12.846413  \n",
       "995  10.899380  \n",
       "996   6.143613  \n",
       "997   7.138004  \n",
       "\n",
       "[998 rows x 6 columns]"
      ]
     },
     "execution_count": 3,
     "metadata": {},
     "output_type": "execute_result"
    }
   ],
   "source": [
    "df = pd.read_csv('dataset/time_series_temperature.csv')\n",
    "model_type = 'regressor'  # classifier or regressor\n",
    "window_size = 3  # Greater than 1 for temporal data\n",
    "no_columns_lags = ['data']  # Only for temporal data. Otherwise keep the list empty\n",
    "temporal_test_part = 2  # Which part of the dataset uses to test. 0 == random; 1 == begin; 2 == end\n",
    "target_cols = ['target']  # Target column\n",
    "df"
   ]
  },
  {
   "cell_type": "code",
   "execution_count": 4,
   "id": "fd4af25a-5c0d-4143-b60c-e18881e93762",
   "metadata": {},
   "outputs": [],
   "source": [
    "# Preprocess data\n",
    "df, num_col_names, cat_col_names, date_col_names, category_mappings = preprocess_data(df, target_cols, max_unique_values=10, window_size=window_size, no_columns_lags=no_columns_lags)\n",
    "col_names_order = df.columns.tolist()"
   ]
  },
  {
   "cell_type": "code",
   "execution_count": 5,
   "id": "37152cec-0231-4811-bb10-c942991209c1",
   "metadata": {},
   "outputs": [
    {
     "name": "stdout",
     "output_type": "stream",
     "text": [
      "col_names_order: ['temperature_lag_2', 'atmospheric_pressure_lag_2', 'humidity_lag_2', 'wind_speed_lag_2', 'temperature_lag_1', 'atmospheric_pressure_lag_1', 'humidity_lag_1', 'wind_speed_lag_1', 'data', 'temperature', 'atmospheric_pressure', 'humidity', 'wind_speed', 'target']\n",
      "num_col_names: ['temperature_lag_2', 'atmospheric_pressure_lag_2', 'humidity_lag_2', 'wind_speed_lag_2', 'temperature_lag_1', 'atmospheric_pressure_lag_1', 'humidity_lag_1', 'wind_speed_lag_1', 'temperature', 'atmospheric_pressure', 'humidity', 'wind_speed']\n",
      "cat_col_names: []\n",
      "date_col_names: ['data']\n",
      "target_cols: ['target']\n",
      "category_mappings: {}\n"
     ]
    }
   ],
   "source": [
    "print(f'''col_names_order: {col_names_order}\n",
    "num_col_names: {num_col_names}\n",
    "cat_col_names: {cat_col_names}\n",
    "date_col_names: {date_col_names}\n",
    "target_cols: {target_cols}\n",
    "category_mappings: {category_mappings}''')"
   ]
  },
  {
   "cell_type": "code",
   "execution_count": 6,
   "id": "4fcc2805-978c-4a48-8cb4-88cf8ab4f80b",
   "metadata": {},
   "outputs": [
    {
     "name": "stdout",
     "output_type": "stream",
     "text": [
      "<class 'pandas.core.frame.DataFrame'>\n",
      "Index: 996 entries, 2 to 997\n",
      "Data columns (total 14 columns):\n",
      " #   Column                      Non-Null Count  Dtype         \n",
      "---  ------                      --------------  -----         \n",
      " 0   temperature_lag_2           996 non-null    float64       \n",
      " 1   atmospheric_pressure_lag_2  996 non-null    float64       \n",
      " 2   humidity_lag_2              996 non-null    float64       \n",
      " 3   wind_speed_lag_2            996 non-null    float64       \n",
      " 4   temperature_lag_1           996 non-null    float64       \n",
      " 5   atmospheric_pressure_lag_1  996 non-null    float64       \n",
      " 6   humidity_lag_1              996 non-null    float64       \n",
      " 7   wind_speed_lag_1            996 non-null    float64       \n",
      " 8   data                        996 non-null    datetime64[ns]\n",
      " 9   temperature                 996 non-null    float64       \n",
      " 10  atmospheric_pressure        996 non-null    float64       \n",
      " 11  humidity                    996 non-null    float64       \n",
      " 12  wind_speed                  996 non-null    float64       \n",
      " 13  target                      996 non-null    float64       \n",
      "dtypes: datetime64[ns](1), float64(13)\n",
      "memory usage: 116.7 KB\n"
     ]
    }
   ],
   "source": [
    "df.info()"
   ]
  },
  {
   "cell_type": "code",
   "execution_count": 7,
   "id": "948fbfed-100e-4c72-9e82-7dca8b0f6575",
   "metadata": {},
   "outputs": [],
   "source": [
    "if model_type == 'classifier':\n",
    "    print(df[target_cols].value_counts())"
   ]
  },
  {
   "cell_type": "markdown",
   "id": "42eaf0f8-86ce-424c-a7fe-5e0ae5dc3312",
   "metadata": {},
   "source": [
    "### Dataset Splitting"
   ]
  },
  {
   "cell_type": "code",
   "execution_count": 8,
   "id": "8859f571-d656-4a56-ad06-dcf37e01591c",
   "metadata": {},
   "outputs": [],
   "source": [
    "from sklearn.model_selection import train_test_split\n",
    "from sklearn.utils import shuffle\n",
    "\n",
    "train, test = train_test_split(df, random_state=42, test_size=0.3)\n",
    "\n",
    "if window_size > 1:\n",
    "    # Get first part of the dataset for test\n",
    "    if temporal_test_part == 1:\n",
    "        train = df.iloc[:int(len(df)*0.3)]\n",
    "        train = shuffle(train, random_state=42)\n",
    "        test = df.iloc[int(len(df)*0.3):]\n",
    "    # Get last part of the dataset for test\n",
    "    elif temporal_test_part == 2:\n",
    "        train = df.iloc[:int(len(df)*0.7)]\n",
    "        train = shuffle(train, random_state=42)\n",
    "        test = df.iloc[int(len(df)*0.7):]\n",
    "\n",
    "valid = test"
   ]
  },
  {
   "cell_type": "markdown",
   "id": "b4b94ab7-3a7a-4ae2-a16f-766d4c9e79fe",
   "metadata": {},
   "source": [
    "## Train Pytorch Tabular\n",
    "https://github.com/manujosephv/pytorch_tabular"
   ]
  },
  {
   "cell_type": "markdown",
   "id": "2a76926f-2ee1-440a-a617-6cabf2d6e719",
   "metadata": {},
   "source": [
    "### Preparar Configurações"
   ]
  },
  {
   "cell_type": "markdown",
   "id": "d6274514-85d6-4844-9634-e9bba6392ccf",
   "metadata": {},
   "source": [
    "No [DataConfig](https://pytorch-tabular.readthedocs.io/en/latest/data/#pytorch_tabular.config.DataConfig) estão as configurações do dataset, contendo as coluna no DataFrame Pandas que é o \"target\" (valor que será previsto), colunas que possuem dados continuos e de dados categóricos. Além de outras configurações que podem ser alteradas."
   ]
  },
  {
   "cell_type": "code",
   "execution_count": 9,
   "id": "98368c66-7982-4e8a-b8e8-11119ad56100",
   "metadata": {},
   "outputs": [],
   "source": [
    "data_config = DataConfig(\n",
    "    target=target_cols,  # target should always be a list. Multi-targets are only supported for regression. Multi-Task Classification is not implemented\n",
    "    continuous_cols=num_col_names,  # Column names of the numeric fields\n",
    "    categorical_cols=cat_col_names,  # Column names of the categorical fields\n",
    "    date_columns=date_col_names,  # (Column name, Freq, Format) tuples of the date fields. E.g. [(\"date\", \"M\", %Y-%m')]. freq = https://pandas.pydata.org/pandas-docs/stable/user_guide/timeseries.html#offset-aliases\n",
    "    normalize_continuous_features=True, # Flag to normalize the input features (continuous). Default True\n",
    "    encode_date_columns=False,\n",
    "    num_workers=4\n",
    ")"
   ]
  },
  {
   "cell_type": "markdown",
   "id": "899beb41-8b8c-48ab-b6d7-2b57c46b6a93",
   "metadata": {},
   "source": [
    "No [TrainerConfig](https://pytorch-tabular.readthedocs.io/en/latest/training/#using-the-entire-pytorch-lightning-trainer) estão as configurações de treinamento, incluindo quais métricas iremos utilizar para avaliar o modelo e criar os checkpoints\n",
    "\n",
    "No [OptimizerConfig](https://pytorch-tabular.readthedocs.io/en/latest/optimizer/#pytorch_tabular.config.OptimizerConfig) estão as configurações do otimizado que será utilizador, sendo inclusive possível alterar seus parâmetros."
   ]
  },
  {
   "cell_type": "code",
   "execution_count": 10,
   "id": "e805d0ae-0948-4750-b60a-cb6021a91e71",
   "metadata": {},
   "outputs": [],
   "source": [
    "trainer_config = TrainerConfig(\n",
    "    auto_lr_find=True,  # Runs the LRFinder to automatically derive a learning rate. Default False\n",
    "    batch_size=64,\n",
    "    max_epochs=300,\n",
    "    min_epochs=50,\n",
    "    early_stopping='valid_accuracy' if model_type == 'classifier' else 'valid_loss', # Monitor for early stopping. valid_loss or valid_accuracy\n",
    "    early_stopping_mode = 'max' if model_type == 'classifier' else 'min', # Set the mode as min for val_loss (lower is better) and max for val_accuracy (higher is better)\n",
    "    early_stopping_patience=20, # No. of epochs of degradation training will wait before terminating\n",
    "    checkpoints='valid_accuracy' if model_type == 'classifier' else 'valid_loss', # Save best checkpoint monitoring\n",
    "    checkpoints_mode='max' if model_type == 'classifier' else 'min',  # Set the mode as min for valid_loss (lower is better) and max for valid_accuracy (higher is better)\n",
    ")\n",
    "\n",
    "optimizer_config = OptimizerConfig(\n",
    "    #optimizer='RMSprop',  # https://pytorch.org/docs/stable/optim.html#algorithms\n",
    "    #optimizer_params={'alpha': 0.99},\n",
    "    #lr_scheduler='StepLR',\n",
    "    #lr_scheduler_params={'step_size': 10},\n",
    ")"
   ]
  },
  {
   "cell_type": "markdown",
   "id": "4affc056-9d08-4931-8c23-fcd032525c04",
   "metadata": {},
   "source": [
    "## Train Many Models\n",
    "Entre tantas alternativas é difícil saber qual a melhora arquitetura utilizar, sem falar que muitas vezes uma arquitetura tem um desempenho muito bom em determinado assunto/dataset, mas isso não se mostra verdade entre outro cenário, dificultando escolher qual utilizar.\n",
    "\n",
    "Para ajudar nesse dilema o Pytorch Tabular possui a função [model_sweep](https://pytorch-tabular.readthedocs.io/en/latest/apidocs_coreclasses/#pytorch_tabular.model_sweep) que roda todas as arquiteturas com os hiperpâmetros padrões e seu resultado consiste no comparativo entre todos eles. Dessa forma sabemos em qual/quais arquiteturas devemos investir mais tempo para buscar melhorar seus hiperparâmetros.\n",
    "\n",
    "Vamos rodar a categoria \"high_memory\" que irá treinar todos modelos, inclusive os que utilizam bastante memória. Mas não se preocupe, se a memória não for suficiente a biblioteca irá ignorar o modelo e na tabela de resultados irá informar que não tinha memória suficiente (OOM). Ressaltando que pode ser interessante ter um batch_size pequeno para conseguir treinar todos os modelos sem resultar em OOM, ou rodar o modelo específico que deu OOM depois isoladamente com o batch_size que for suficiente :)."
   ]
  },
  {
   "cell_type": "code",
   "execution_count": 11,
   "id": "9b3cda33-ff13-44b1-a1f6-7dd8b96f8027",
   "metadata": {},
   "outputs": [],
   "source": [
    "from pytorch_tabular import model_sweep, tabular_model_sweep"
   ]
  },
  {
   "cell_type": "code",
   "execution_count": 12,
   "id": "9f6b38c6-1030-4f54-aae5-a4178f85ab7b",
   "metadata": {},
   "outputs": [],
   "source": [
    "#tabular_model_sweep.MODEL_SWEEP_PRESETS"
   ]
  },
  {
   "cell_type": "code",
   "execution_count": 13,
   "id": "fa294148-23cd-46f6-b798-7940409e5652",
   "metadata": {
    "scrolled": true
   },
   "outputs": [
    {
     "data": {
      "application/vnd.jupyter.widget-view+json": {
       "model_id": "c79fa97745e94b0684703b05925d6ee6",
       "version_major": 2,
       "version_minor": 0
      },
      "text/plain": [
       "Output()"
      ]
     },
     "metadata": {},
     "output_type": "display_data"
    },
    {
     "data": {
      "text/html": [
       "<pre style=\"white-space:pre;overflow-x:auto;line-height:normal;font-family:Menlo,'DejaVu Sans Mono',consolas,'Courier New',monospace\"><span style=\"color: #008080; text-decoration-color: #008080; font-weight: bold\">2025</span>-<span style=\"color: #008080; text-decoration-color: #008080; font-weight: bold\">05</span>-<span style=\"color: #008080; text-decoration-color: #008080; font-weight: bold\">30</span> <span style=\"color: #00ff00; text-decoration-color: #00ff00; font-weight: bold\">20:29:49</span>,<span style=\"color: #008080; text-decoration-color: #008080; font-weight: bold\">571</span> - <span style=\"font-weight: bold\">{</span>pytorch_tabular:<span style=\"color: #008080; text-decoration-color: #008080; font-weight: bold\">328</span><span style=\"font-weight: bold\">}</span> - INFO - Training AutoIntModel                                     \n",
       "</pre>\n"
      ],
      "text/plain": [
       "\u001b[1;36m2025\u001b[0m-\u001b[1;36m05\u001b[0m-\u001b[1;36m30\u001b[0m \u001b[1;92m20:29:49\u001b[0m,\u001b[1;36m571\u001b[0m - \u001b[1m{\u001b[0mpytorch_tabular:\u001b[1;36m328\u001b[0m\u001b[1m}\u001b[0m - INFO - Training AutoIntModel                                     \n"
      ]
     },
     "metadata": {},
     "output_type": "display_data"
    },
    {
     "data": {
      "application/vnd.jupyter.widget-view+json": {
       "model_id": "606a3597666d4aa5bb2d202f5017924c",
       "version_major": 2,
       "version_minor": 0
      },
      "text/plain": [
       "Finding best initial lr:   0%|          | 0/100 [00:00<?, ?it/s]"
      ]
     },
     "metadata": {},
     "output_type": "display_data"
    },
    {
     "data": {
      "text/html": [
       "<pre style=\"white-space:pre;overflow-x:auto;line-height:normal;font-family:Menlo,'DejaVu Sans Mono',consolas,'Courier New',monospace\"><span style=\"color: #008080; text-decoration-color: #008080; font-weight: bold\">2025</span>-<span style=\"color: #008080; text-decoration-color: #008080; font-weight: bold\">05</span>-<span style=\"color: #008080; text-decoration-color: #008080; font-weight: bold\">30</span> <span style=\"color: #00ff00; text-decoration-color: #00ff00; font-weight: bold\">20:30:03</span>,<span style=\"color: #008080; text-decoration-color: #008080; font-weight: bold\">896</span> - <span style=\"font-weight: bold\">{</span>pytorch_tabular:<span style=\"color: #008080; text-decoration-color: #008080; font-weight: bold\">382</span><span style=\"font-weight: bold\">}</span> - INFO - Finished Training AutoIntModel                            \n",
       "</pre>\n"
      ],
      "text/plain": [
       "\u001b[1;36m2025\u001b[0m-\u001b[1;36m05\u001b[0m-\u001b[1;36m30\u001b[0m \u001b[1;92m20:30:03\u001b[0m,\u001b[1;36m896\u001b[0m - \u001b[1m{\u001b[0mpytorch_tabular:\u001b[1;36m382\u001b[0m\u001b[1m}\u001b[0m - INFO - Finished Training AutoIntModel                            \n"
      ]
     },
     "metadata": {},
     "output_type": "display_data"
    },
    {
     "data": {
      "text/html": [
       "<pre style=\"white-space:pre;overflow-x:auto;line-height:normal;font-family:Menlo,'DejaVu Sans Mono',consolas,'Courier New',monospace\"><span style=\"color: #008080; text-decoration-color: #008080; font-weight: bold\">2025</span>-<span style=\"color: #008080; text-decoration-color: #008080; font-weight: bold\">05</span>-<span style=\"color: #008080; text-decoration-color: #008080; font-weight: bold\">30</span> <span style=\"color: #00ff00; text-decoration-color: #00ff00; font-weight: bold\">20:30:03</span>,<span style=\"color: #008080; text-decoration-color: #008080; font-weight: bold\">897</span> - <span style=\"font-weight: bold\">{</span>pytorch_tabular:<span style=\"color: #008080; text-decoration-color: #008080; font-weight: bold\">383</span><span style=\"font-weight: bold\">}</span> - INFO - Results: model: AutoIntModel, # Params: <span style=\"color: #008080; text-decoration-color: #008080; font-weight: bold\">14</span> T, epochs: <span style=\"color: #008080; text-decoration-color: #008080; font-weight: bold\">72</span>, \n",
       "test_loss: <span style=\"color: #008080; text-decoration-color: #008080; font-weight: bold\">0.021461065858602524</span>, test_mean_squared_error: <span style=\"color: #008080; text-decoration-color: #008080; font-weight: bold\">0.021461065858602524</span>, time_taken: <span style=\"color: #008080; text-decoration-color: #008080; font-weight: bold\">14.331501960754395</span>,    \n",
       "time_taken_per_epoch: <span style=\"color: #008080; text-decoration-color: #008080; font-weight: bold\">0.19904863834381104</span>                                                                          \n",
       "</pre>\n"
      ],
      "text/plain": [
       "\u001b[1;36m2025\u001b[0m-\u001b[1;36m05\u001b[0m-\u001b[1;36m30\u001b[0m \u001b[1;92m20:30:03\u001b[0m,\u001b[1;36m897\u001b[0m - \u001b[1m{\u001b[0mpytorch_tabular:\u001b[1;36m383\u001b[0m\u001b[1m}\u001b[0m - INFO - Results: model: AutoIntModel, # Params: \u001b[1;36m14\u001b[0m T, epochs: \u001b[1;36m72\u001b[0m, \n",
       "test_loss: \u001b[1;36m0.021461065858602524\u001b[0m, test_mean_squared_error: \u001b[1;36m0.021461065858602524\u001b[0m, time_taken: \u001b[1;36m14.331501960754395\u001b[0m,    \n",
       "time_taken_per_epoch: \u001b[1;36m0.19904863834381104\u001b[0m                                                                          \n"
      ]
     },
     "metadata": {},
     "output_type": "display_data"
    },
    {
     "data": {
      "text/html": [
       "<pre style=\"white-space:pre;overflow-x:auto;line-height:normal;font-family:Menlo,'DejaVu Sans Mono',consolas,'Courier New',monospace\"><span style=\"color: #008080; text-decoration-color: #008080; font-weight: bold\">2025</span>-<span style=\"color: #008080; text-decoration-color: #008080; font-weight: bold\">05</span>-<span style=\"color: #008080; text-decoration-color: #008080; font-weight: bold\">30</span> <span style=\"color: #00ff00; text-decoration-color: #00ff00; font-weight: bold\">20:30:03</span>,<span style=\"color: #008080; text-decoration-color: #008080; font-weight: bold\">912</span> - <span style=\"font-weight: bold\">{</span>pytorch_tabular:<span style=\"color: #008080; text-decoration-color: #008080; font-weight: bold\">328</span><span style=\"font-weight: bold\">}</span> - INFO - Training CategoryEmbeddingModel                           \n",
       "</pre>\n"
      ],
      "text/plain": [
       "\u001b[1;36m2025\u001b[0m-\u001b[1;36m05\u001b[0m-\u001b[1;36m30\u001b[0m \u001b[1;92m20:30:03\u001b[0m,\u001b[1;36m912\u001b[0m - \u001b[1m{\u001b[0mpytorch_tabular:\u001b[1;36m328\u001b[0m\u001b[1m}\u001b[0m - INFO - Training CategoryEmbeddingModel                           \n"
      ]
     },
     "metadata": {},
     "output_type": "display_data"
    },
    {
     "data": {
      "application/vnd.jupyter.widget-view+json": {
       "model_id": "92df591a59a6460486914120daf95685",
       "version_major": 2,
       "version_minor": 0
      },
      "text/plain": [
       "Finding best initial lr:   0%|          | 0/100 [00:00<?, ?it/s]"
      ]
     },
     "metadata": {},
     "output_type": "display_data"
    },
    {
     "data": {
      "text/html": [
       "<pre style=\"white-space:pre;overflow-x:auto;line-height:normal;font-family:Menlo,'DejaVu Sans Mono',consolas,'Courier New',monospace\"><span style=\"color: #008080; text-decoration-color: #008080; font-weight: bold\">2025</span>-<span style=\"color: #008080; text-decoration-color: #008080; font-weight: bold\">05</span>-<span style=\"color: #008080; text-decoration-color: #008080; font-weight: bold\">30</span> <span style=\"color: #00ff00; text-decoration-color: #00ff00; font-weight: bold\">20:30:31</span>,<span style=\"color: #008080; text-decoration-color: #008080; font-weight: bold\">790</span> - <span style=\"font-weight: bold\">{</span>pytorch_tabular:<span style=\"color: #008080; text-decoration-color: #008080; font-weight: bold\">382</span><span style=\"font-weight: bold\">}</span> - INFO - Finished Training CategoryEmbeddingModel                  \n",
       "</pre>\n"
      ],
      "text/plain": [
       "\u001b[1;36m2025\u001b[0m-\u001b[1;36m05\u001b[0m-\u001b[1;36m30\u001b[0m \u001b[1;92m20:30:31\u001b[0m,\u001b[1;36m790\u001b[0m - \u001b[1m{\u001b[0mpytorch_tabular:\u001b[1;36m382\u001b[0m\u001b[1m}\u001b[0m - INFO - Finished Training CategoryEmbeddingModel                  \n"
      ]
     },
     "metadata": {},
     "output_type": "display_data"
    },
    {
     "data": {
      "text/html": [
       "<pre style=\"white-space:pre;overflow-x:auto;line-height:normal;font-family:Menlo,'DejaVu Sans Mono',consolas,'Courier New',monospace\"><span style=\"color: #008080; text-decoration-color: #008080; font-weight: bold\">2025</span>-<span style=\"color: #008080; text-decoration-color: #008080; font-weight: bold\">05</span>-<span style=\"color: #008080; text-decoration-color: #008080; font-weight: bold\">30</span> <span style=\"color: #00ff00; text-decoration-color: #00ff00; font-weight: bold\">20:30:31</span>,<span style=\"color: #008080; text-decoration-color: #008080; font-weight: bold\">791</span> - <span style=\"font-weight: bold\">{</span>pytorch_tabular:<span style=\"color: #008080; text-decoration-color: #008080; font-weight: bold\">383</span><span style=\"font-weight: bold\">}</span> - INFO - Results: model: CategoryEmbeddingModel, # Params: <span style=\"color: #008080; text-decoration-color: #008080; font-weight: bold\">12</span> T,   \n",
       "epochs: <span style=\"color: #008080; text-decoration-color: #008080; font-weight: bold\">168</span>, test_loss: <span style=\"color: #008080; text-decoration-color: #008080; font-weight: bold\">0.07572584599256516</span>, test_mean_squared_error: <span style=\"color: #008080; text-decoration-color: #008080; font-weight: bold\">0.07572584599256516</span>, time_taken:             \n",
       "<span style=\"color: #008080; text-decoration-color: #008080; font-weight: bold\">27.892710208892822</span>, time_taken_per_epoch: <span style=\"color: #008080; text-decoration-color: #008080; font-weight: bold\">0.16602803695769536</span>                                                      \n",
       "</pre>\n"
      ],
      "text/plain": [
       "\u001b[1;36m2025\u001b[0m-\u001b[1;36m05\u001b[0m-\u001b[1;36m30\u001b[0m \u001b[1;92m20:30:31\u001b[0m,\u001b[1;36m791\u001b[0m - \u001b[1m{\u001b[0mpytorch_tabular:\u001b[1;36m383\u001b[0m\u001b[1m}\u001b[0m - INFO - Results: model: CategoryEmbeddingModel, # Params: \u001b[1;36m12\u001b[0m T,   \n",
       "epochs: \u001b[1;36m168\u001b[0m, test_loss: \u001b[1;36m0.07572584599256516\u001b[0m, test_mean_squared_error: \u001b[1;36m0.07572584599256516\u001b[0m, time_taken:             \n",
       "\u001b[1;36m27.892710208892822\u001b[0m, time_taken_per_epoch: \u001b[1;36m0.16602803695769536\u001b[0m                                                      \n"
      ]
     },
     "metadata": {},
     "output_type": "display_data"
    },
    {
     "data": {
      "text/html": [
       "<pre style=\"white-space:pre;overflow-x:auto;line-height:normal;font-family:Menlo,'DejaVu Sans Mono',consolas,'Courier New',monospace\"><span style=\"color: #008080; text-decoration-color: #008080; font-weight: bold\">2025</span>-<span style=\"color: #008080; text-decoration-color: #008080; font-weight: bold\">05</span>-<span style=\"color: #008080; text-decoration-color: #008080; font-weight: bold\">30</span> <span style=\"color: #00ff00; text-decoration-color: #00ff00; font-weight: bold\">20:30:31</span>,<span style=\"color: #008080; text-decoration-color: #008080; font-weight: bold\">807</span> - <span style=\"font-weight: bold\">{</span>pytorch_tabular:<span style=\"color: #008080; text-decoration-color: #008080; font-weight: bold\">328</span><span style=\"font-weight: bold\">}</span> - INFO - Training DANetModel                                       \n",
       "</pre>\n"
      ],
      "text/plain": [
       "\u001b[1;36m2025\u001b[0m-\u001b[1;36m05\u001b[0m-\u001b[1;36m30\u001b[0m \u001b[1;92m20:30:31\u001b[0m,\u001b[1;36m807\u001b[0m - \u001b[1m{\u001b[0mpytorch_tabular:\u001b[1;36m328\u001b[0m\u001b[1m}\u001b[0m - INFO - Training DANetModel                                       \n"
      ]
     },
     "metadata": {},
     "output_type": "display_data"
    },
    {
     "data": {
      "application/vnd.jupyter.widget-view+json": {
       "model_id": "37216f286038426f9251e56d3ee7f85f",
       "version_major": 2,
       "version_minor": 0
      },
      "text/plain": [
       "Finding best initial lr:   0%|          | 0/100 [00:00<?, ?it/s]"
      ]
     },
     "metadata": {},
     "output_type": "display_data"
    },
    {
     "data": {
      "text/html": [
       "<pre style=\"white-space:pre;overflow-x:auto;line-height:normal;font-family:Menlo,'DejaVu Sans Mono',consolas,'Courier New',monospace\"><span style=\"color: #008080; text-decoration-color: #008080; font-weight: bold\">2025</span>-<span style=\"color: #008080; text-decoration-color: #008080; font-weight: bold\">05</span>-<span style=\"color: #008080; text-decoration-color: #008080; font-weight: bold\">30</span> <span style=\"color: #00ff00; text-decoration-color: #00ff00; font-weight: bold\">20:31:02</span>,<span style=\"color: #008080; text-decoration-color: #008080; font-weight: bold\">447</span> - <span style=\"font-weight: bold\">{</span>pytorch_tabular:<span style=\"color: #008080; text-decoration-color: #008080; font-weight: bold\">382</span><span style=\"font-weight: bold\">}</span> - INFO - Finished Training DANetModel                              \n",
       "</pre>\n"
      ],
      "text/plain": [
       "\u001b[1;36m2025\u001b[0m-\u001b[1;36m05\u001b[0m-\u001b[1;36m30\u001b[0m \u001b[1;92m20:31:02\u001b[0m,\u001b[1;36m447\u001b[0m - \u001b[1m{\u001b[0mpytorch_tabular:\u001b[1;36m382\u001b[0m\u001b[1m}\u001b[0m - INFO - Finished Training DANetModel                              \n"
      ]
     },
     "metadata": {},
     "output_type": "display_data"
    },
    {
     "data": {
      "text/html": [
       "<pre style=\"white-space:pre;overflow-x:auto;line-height:normal;font-family:Menlo,'DejaVu Sans Mono',consolas,'Courier New',monospace\"><span style=\"color: #008080; text-decoration-color: #008080; font-weight: bold\">2025</span>-<span style=\"color: #008080; text-decoration-color: #008080; font-weight: bold\">05</span>-<span style=\"color: #008080; text-decoration-color: #008080; font-weight: bold\">30</span> <span style=\"color: #00ff00; text-decoration-color: #00ff00; font-weight: bold\">20:31:02</span>,<span style=\"color: #008080; text-decoration-color: #008080; font-weight: bold\">447</span> - <span style=\"font-weight: bold\">{</span>pytorch_tabular:<span style=\"color: #008080; text-decoration-color: #008080; font-weight: bold\">383</span><span style=\"font-weight: bold\">}</span> - INFO - Results: model: DANetModel, # Params: <span style=\"color: #008080; text-decoration-color: #008080; font-weight: bold\">415</span> T, epochs: <span style=\"color: #008080; text-decoration-color: #008080; font-weight: bold\">49</span>,  \n",
       "test_loss: <span style=\"color: #008080; text-decoration-color: #008080; font-weight: bold\">0.18746063113212585</span>, test_mean_squared_error: <span style=\"color: #008080; text-decoration-color: #008080; font-weight: bold\">0.18746063113212585</span>, time_taken: <span style=\"color: #008080; text-decoration-color: #008080; font-weight: bold\">30.65438461303711</span>,       \n",
       "time_taken_per_epoch: <span style=\"color: #008080; text-decoration-color: #008080; font-weight: bold\">0.6255996859803492</span>                                                                           \n",
       "</pre>\n"
      ],
      "text/plain": [
       "\u001b[1;36m2025\u001b[0m-\u001b[1;36m05\u001b[0m-\u001b[1;36m30\u001b[0m \u001b[1;92m20:31:02\u001b[0m,\u001b[1;36m447\u001b[0m - \u001b[1m{\u001b[0mpytorch_tabular:\u001b[1;36m383\u001b[0m\u001b[1m}\u001b[0m - INFO - Results: model: DANetModel, # Params: \u001b[1;36m415\u001b[0m T, epochs: \u001b[1;36m49\u001b[0m,  \n",
       "test_loss: \u001b[1;36m0.18746063113212585\u001b[0m, test_mean_squared_error: \u001b[1;36m0.18746063113212585\u001b[0m, time_taken: \u001b[1;36m30.65438461303711\u001b[0m,       \n",
       "time_taken_per_epoch: \u001b[1;36m0.6255996859803492\u001b[0m                                                                           \n"
      ]
     },
     "metadata": {},
     "output_type": "display_data"
    },
    {
     "data": {
      "text/html": [
       "<pre style=\"white-space:pre;overflow-x:auto;line-height:normal;font-family:Menlo,'DejaVu Sans Mono',consolas,'Courier New',monospace\"><span style=\"color: #008080; text-decoration-color: #008080; font-weight: bold\">2025</span>-<span style=\"color: #008080; text-decoration-color: #008080; font-weight: bold\">05</span>-<span style=\"color: #008080; text-decoration-color: #008080; font-weight: bold\">30</span> <span style=\"color: #00ff00; text-decoration-color: #00ff00; font-weight: bold\">20:31:02</span>,<span style=\"color: #008080; text-decoration-color: #008080; font-weight: bold\">463</span> - <span style=\"font-weight: bold\">{</span>pytorch_tabular:<span style=\"color: #008080; text-decoration-color: #008080; font-weight: bold\">328</span><span style=\"font-weight: bold\">}</span> - INFO - Training FTTransformerModel                               \n",
       "</pre>\n"
      ],
      "text/plain": [
       "\u001b[1;36m2025\u001b[0m-\u001b[1;36m05\u001b[0m-\u001b[1;36m30\u001b[0m \u001b[1;92m20:31:02\u001b[0m,\u001b[1;36m463\u001b[0m - \u001b[1m{\u001b[0mpytorch_tabular:\u001b[1;36m328\u001b[0m\u001b[1m}\u001b[0m - INFO - Training FTTransformerModel                               \n"
      ]
     },
     "metadata": {},
     "output_type": "display_data"
    },
    {
     "data": {
      "application/vnd.jupyter.widget-view+json": {
       "model_id": "b327a097b08040cd9e3c4dab13930421",
       "version_major": 2,
       "version_minor": 0
      },
      "text/plain": [
       "Finding best initial lr:   0%|          | 0/100 [00:00<?, ?it/s]"
      ]
     },
     "metadata": {},
     "output_type": "display_data"
    },
    {
     "data": {
      "text/html": [
       "<pre style=\"white-space:pre;overflow-x:auto;line-height:normal;font-family:Menlo,'DejaVu Sans Mono',consolas,'Courier New',monospace\"><span style=\"color: #008080; text-decoration-color: #008080; font-weight: bold\">2025</span>-<span style=\"color: #008080; text-decoration-color: #008080; font-weight: bold\">05</span>-<span style=\"color: #008080; text-decoration-color: #008080; font-weight: bold\">30</span> <span style=\"color: #00ff00; text-decoration-color: #00ff00; font-weight: bold\">20:32:08</span>,<span style=\"color: #008080; text-decoration-color: #008080; font-weight: bold\">772</span> - <span style=\"font-weight: bold\">{</span>pytorch_tabular:<span style=\"color: #008080; text-decoration-color: #008080; font-weight: bold\">382</span><span style=\"font-weight: bold\">}</span> - INFO - Finished Training FTTransformerModel                      \n",
       "</pre>\n"
      ],
      "text/plain": [
       "\u001b[1;36m2025\u001b[0m-\u001b[1;36m05\u001b[0m-\u001b[1;36m30\u001b[0m \u001b[1;92m20:32:08\u001b[0m,\u001b[1;36m772\u001b[0m - \u001b[1m{\u001b[0mpytorch_tabular:\u001b[1;36m382\u001b[0m\u001b[1m}\u001b[0m - INFO - Finished Training FTTransformerModel                      \n"
      ]
     },
     "metadata": {},
     "output_type": "display_data"
    },
    {
     "data": {
      "text/html": [
       "<pre style=\"white-space:pre;overflow-x:auto;line-height:normal;font-family:Menlo,'DejaVu Sans Mono',consolas,'Courier New',monospace\"><span style=\"color: #008080; text-decoration-color: #008080; font-weight: bold\">2025</span>-<span style=\"color: #008080; text-decoration-color: #008080; font-weight: bold\">05</span>-<span style=\"color: #008080; text-decoration-color: #008080; font-weight: bold\">30</span> <span style=\"color: #00ff00; text-decoration-color: #00ff00; font-weight: bold\">20:32:08</span>,<span style=\"color: #008080; text-decoration-color: #008080; font-weight: bold\">773</span> - <span style=\"font-weight: bold\">{</span>pytorch_tabular:<span style=\"color: #008080; text-decoration-color: #008080; font-weight: bold\">383</span><span style=\"font-weight: bold\">}</span> - INFO - Results: model: FTTransformerModel, # Params: <span style=\"color: #008080; text-decoration-color: #008080; font-weight: bold\">272</span> T,      \n",
       "epochs: <span style=\"color: #008080; text-decoration-color: #008080; font-weight: bold\">215</span>, test_loss: <span style=\"color: #008080; text-decoration-color: #008080; font-weight: bold\">0.1712530106306076</span>, test_mean_squared_error: <span style=\"color: #008080; text-decoration-color: #008080; font-weight: bold\">0.1712530106306076</span>, time_taken:               \n",
       "<span style=\"color: #008080; text-decoration-color: #008080; font-weight: bold\">66.32350063323975</span>, time_taken_per_epoch: <span style=\"color: #008080; text-decoration-color: #008080; font-weight: bold\">0.30848139829413834</span>                                                       \n",
       "</pre>\n"
      ],
      "text/plain": [
       "\u001b[1;36m2025\u001b[0m-\u001b[1;36m05\u001b[0m-\u001b[1;36m30\u001b[0m \u001b[1;92m20:32:08\u001b[0m,\u001b[1;36m773\u001b[0m - \u001b[1m{\u001b[0mpytorch_tabular:\u001b[1;36m383\u001b[0m\u001b[1m}\u001b[0m - INFO - Results: model: FTTransformerModel, # Params: \u001b[1;36m272\u001b[0m T,      \n",
       "epochs: \u001b[1;36m215\u001b[0m, test_loss: \u001b[1;36m0.1712530106306076\u001b[0m, test_mean_squared_error: \u001b[1;36m0.1712530106306076\u001b[0m, time_taken:               \n",
       "\u001b[1;36m66.32350063323975\u001b[0m, time_taken_per_epoch: \u001b[1;36m0.30848139829413834\u001b[0m                                                       \n"
      ]
     },
     "metadata": {},
     "output_type": "display_data"
    },
    {
     "data": {
      "text/html": [
       "<pre style=\"white-space:pre;overflow-x:auto;line-height:normal;font-family:Menlo,'DejaVu Sans Mono',consolas,'Courier New',monospace\"><span style=\"color: #008080; text-decoration-color: #008080; font-weight: bold\">2025</span>-<span style=\"color: #008080; text-decoration-color: #008080; font-weight: bold\">05</span>-<span style=\"color: #008080; text-decoration-color: #008080; font-weight: bold\">30</span> <span style=\"color: #00ff00; text-decoration-color: #00ff00; font-weight: bold\">20:32:08</span>,<span style=\"color: #008080; text-decoration-color: #008080; font-weight: bold\">788</span> - <span style=\"font-weight: bold\">{</span>pytorch_tabular:<span style=\"color: #008080; text-decoration-color: #008080; font-weight: bold\">328</span><span style=\"font-weight: bold\">}</span> - INFO - Training GANDALFModel                                     \n",
       "</pre>\n"
      ],
      "text/plain": [
       "\u001b[1;36m2025\u001b[0m-\u001b[1;36m05\u001b[0m-\u001b[1;36m30\u001b[0m \u001b[1;92m20:32:08\u001b[0m,\u001b[1;36m788\u001b[0m - \u001b[1m{\u001b[0mpytorch_tabular:\u001b[1;36m328\u001b[0m\u001b[1m}\u001b[0m - INFO - Training GANDALFModel                                     \n"
      ]
     },
     "metadata": {},
     "output_type": "display_data"
    },
    {
     "data": {
      "text/html": [
       "<pre style=\"white-space:pre;overflow-x:auto;line-height:normal;font-family:Menlo,'DejaVu Sans Mono',consolas,'Courier New',monospace\"><span style=\"color: #008080; text-decoration-color: #008080; font-weight: bold\">2025</span>-<span style=\"color: #008080; text-decoration-color: #008080; font-weight: bold\">05</span>-<span style=\"color: #008080; text-decoration-color: #008080; font-weight: bold\">30</span> <span style=\"color: #00ff00; text-decoration-color: #00ff00; font-weight: bold\">20:32:08</span>,<span style=\"color: #008080; text-decoration-color: #008080; font-weight: bold\">801</span> - <span style=\"font-weight: bold\">{</span>pytorch_tabular.models.gandalf.gandal<span style=\"color: #00ff00; text-decoration-color: #00ff00; font-weight: bold\">f:109</span><span style=\"font-weight: bold\">}</span> - INFO - Data Aware Initialization of T0    \n",
       "</pre>\n"
      ],
      "text/plain": [
       "\u001b[1;36m2025\u001b[0m-\u001b[1;36m05\u001b[0m-\u001b[1;36m30\u001b[0m \u001b[1;92m20:32:08\u001b[0m,\u001b[1;36m801\u001b[0m - \u001b[1m{\u001b[0mpytorch_tabular.models.gandalf.gandal\u001b[1;92mf:109\u001b[0m\u001b[1m}\u001b[0m - INFO - Data Aware Initialization of T0    \n"
      ]
     },
     "metadata": {},
     "output_type": "display_data"
    },
    {
     "data": {
      "application/vnd.jupyter.widget-view+json": {
       "model_id": "7d7bf82b51774aa688fc71a5d2b617c2",
       "version_major": 2,
       "version_minor": 0
      },
      "text/plain": [
       "Finding best initial lr:   0%|          | 0/100 [00:00<?, ?it/s]"
      ]
     },
     "metadata": {},
     "output_type": "display_data"
    },
    {
     "data": {
      "text/html": [
       "<pre style=\"white-space:pre;overflow-x:auto;line-height:normal;font-family:Menlo,'DejaVu Sans Mono',consolas,'Courier New',monospace\"><span style=\"color: #008080; text-decoration-color: #008080; font-weight: bold\">2025</span>-<span style=\"color: #008080; text-decoration-color: #008080; font-weight: bold\">05</span>-<span style=\"color: #008080; text-decoration-color: #008080; font-weight: bold\">30</span> <span style=\"color: #00ff00; text-decoration-color: #00ff00; font-weight: bold\">20:32:11</span>,<span style=\"color: #008080; text-decoration-color: #008080; font-weight: bold\">954</span> - <span style=\"font-weight: bold\">{</span>pytorch_tabular.models.gandalf.gandal<span style=\"color: #00ff00; text-decoration-color: #00ff00; font-weight: bold\">f:109</span><span style=\"font-weight: bold\">}</span> - INFO - Data Aware Initialization of T0    \n",
       "</pre>\n"
      ],
      "text/plain": [
       "\u001b[1;36m2025\u001b[0m-\u001b[1;36m05\u001b[0m-\u001b[1;36m30\u001b[0m \u001b[1;92m20:32:11\u001b[0m,\u001b[1;36m954\u001b[0m - \u001b[1m{\u001b[0mpytorch_tabular.models.gandalf.gandal\u001b[1;92mf:109\u001b[0m\u001b[1m}\u001b[0m - INFO - Data Aware Initialization of T0    \n"
      ]
     },
     "metadata": {},
     "output_type": "display_data"
    },
    {
     "data": {
      "text/html": [
       "<pre style=\"white-space:pre;overflow-x:auto;line-height:normal;font-family:Menlo,'DejaVu Sans Mono',consolas,'Courier New',monospace\"><span style=\"color: #008080; text-decoration-color: #008080; font-weight: bold\">2025</span>-<span style=\"color: #008080; text-decoration-color: #008080; font-weight: bold\">05</span>-<span style=\"color: #008080; text-decoration-color: #008080; font-weight: bold\">30</span> <span style=\"color: #00ff00; text-decoration-color: #00ff00; font-weight: bold\">20:32:25</span>,<span style=\"color: #008080; text-decoration-color: #008080; font-weight: bold\">933</span> - <span style=\"font-weight: bold\">{</span>pytorch_tabular:<span style=\"color: #008080; text-decoration-color: #008080; font-weight: bold\">382</span><span style=\"font-weight: bold\">}</span> - INFO - Finished Training GANDALFModel                            \n",
       "</pre>\n"
      ],
      "text/plain": [
       "\u001b[1;36m2025\u001b[0m-\u001b[1;36m05\u001b[0m-\u001b[1;36m30\u001b[0m \u001b[1;92m20:32:25\u001b[0m,\u001b[1;36m933\u001b[0m - \u001b[1m{\u001b[0mpytorch_tabular:\u001b[1;36m382\u001b[0m\u001b[1m}\u001b[0m - INFO - Finished Training GANDALFModel                            \n"
      ]
     },
     "metadata": {},
     "output_type": "display_data"
    },
    {
     "data": {
      "text/html": [
       "<pre style=\"white-space:pre;overflow-x:auto;line-height:normal;font-family:Menlo,'DejaVu Sans Mono',consolas,'Courier New',monospace\"><span style=\"color: #008080; text-decoration-color: #008080; font-weight: bold\">2025</span>-<span style=\"color: #008080; text-decoration-color: #008080; font-weight: bold\">05</span>-<span style=\"color: #008080; text-decoration-color: #008080; font-weight: bold\">30</span> <span style=\"color: #00ff00; text-decoration-color: #00ff00; font-weight: bold\">20:32:25</span>,<span style=\"color: #008080; text-decoration-color: #008080; font-weight: bold\">935</span> - <span style=\"font-weight: bold\">{</span>pytorch_tabular:<span style=\"color: #008080; text-decoration-color: #008080; font-weight: bold\">383</span><span style=\"font-weight: bold\">}</span> - INFO - Results: model: GANDALFModel, # Params: <span style=\"color: #008080; text-decoration-color: #008080; font-weight: bold\">5</span> T, epochs: <span style=\"color: #008080; text-decoration-color: #008080; font-weight: bold\">53</span>,  \n",
       "test_loss: <span style=\"color: #008080; text-decoration-color: #008080; font-weight: bold\">14.820548057556152</span>, test_mean_squared_error: <span style=\"color: #008080; text-decoration-color: #008080; font-weight: bold\">14.820548057556152</span>, time_taken: <span style=\"color: #008080; text-decoration-color: #008080; font-weight: bold\">17.159898042678833</span>,        \n",
       "time_taken_per_epoch: <span style=\"color: #008080; text-decoration-color: #008080; font-weight: bold\">0.32377166118261946</span>                                                                          \n",
       "</pre>\n"
      ],
      "text/plain": [
       "\u001b[1;36m2025\u001b[0m-\u001b[1;36m05\u001b[0m-\u001b[1;36m30\u001b[0m \u001b[1;92m20:32:25\u001b[0m,\u001b[1;36m935\u001b[0m - \u001b[1m{\u001b[0mpytorch_tabular:\u001b[1;36m383\u001b[0m\u001b[1m}\u001b[0m - INFO - Results: model: GANDALFModel, # Params: \u001b[1;36m5\u001b[0m T, epochs: \u001b[1;36m53\u001b[0m,  \n",
       "test_loss: \u001b[1;36m14.820548057556152\u001b[0m, test_mean_squared_error: \u001b[1;36m14.820548057556152\u001b[0m, time_taken: \u001b[1;36m17.159898042678833\u001b[0m,        \n",
       "time_taken_per_epoch: \u001b[1;36m0.32377166118261946\u001b[0m                                                                          \n"
      ]
     },
     "metadata": {},
     "output_type": "display_data"
    },
    {
     "data": {
      "text/html": [
       "<pre style=\"white-space:pre;overflow-x:auto;line-height:normal;font-family:Menlo,'DejaVu Sans Mono',consolas,'Courier New',monospace\"><span style=\"color: #008080; text-decoration-color: #008080; font-weight: bold\">2025</span>-<span style=\"color: #008080; text-decoration-color: #008080; font-weight: bold\">05</span>-<span style=\"color: #008080; text-decoration-color: #008080; font-weight: bold\">30</span> <span style=\"color: #00ff00; text-decoration-color: #00ff00; font-weight: bold\">20:32:26</span>,<span style=\"color: #008080; text-decoration-color: #008080; font-weight: bold\">090</span> - <span style=\"font-weight: bold\">{</span>pytorch_tabular.models.gate.gate_model:<span style=\"color: #008080; text-decoration-color: #008080; font-weight: bold\">255</span><span style=\"font-weight: bold\">}</span> - INFO - Data Aware Initialization of T0    \n",
       "</pre>\n"
      ],
      "text/plain": [
       "\u001b[1;36m2025\u001b[0m-\u001b[1;36m05\u001b[0m-\u001b[1;36m30\u001b[0m \u001b[1;92m20:32:26\u001b[0m,\u001b[1;36m090\u001b[0m - \u001b[1m{\u001b[0mpytorch_tabular.models.gate.gate_model:\u001b[1;36m255\u001b[0m\u001b[1m}\u001b[0m - INFO - Data Aware Initialization of T0    \n"
      ]
     },
     "metadata": {},
     "output_type": "display_data"
    },
    {
     "data": {
      "application/vnd.jupyter.widget-view+json": {
       "model_id": "b65d0c034ab343f792c915105c95736c",
       "version_major": 2,
       "version_minor": 0
      },
      "text/plain": [
       "Finding best initial lr:   0%|          | 0/100 [00:00<?, ?it/s]"
      ]
     },
     "metadata": {},
     "output_type": "display_data"
    },
    {
     "data": {
      "text/html": [
       "<pre style=\"white-space:pre;overflow-x:auto;line-height:normal;font-family:Menlo,'DejaVu Sans Mono',consolas,'Courier New',monospace\"><span style=\"color: #008080; text-decoration-color: #008080; font-weight: bold\">2025</span>-<span style=\"color: #008080; text-decoration-color: #008080; font-weight: bold\">05</span>-<span style=\"color: #008080; text-decoration-color: #008080; font-weight: bold\">30</span> <span style=\"color: #00ff00; text-decoration-color: #00ff00; font-weight: bold\">20:32:34</span>,<span style=\"color: #008080; text-decoration-color: #008080; font-weight: bold\">852</span> - <span style=\"font-weight: bold\">{</span>pytorch_tabular.models.gate.gate_model:<span style=\"color: #008080; text-decoration-color: #008080; font-weight: bold\">255</span><span style=\"font-weight: bold\">}</span> - INFO - Data Aware Initialization of T0    \n",
       "</pre>\n"
      ],
      "text/plain": [
       "\u001b[1;36m2025\u001b[0m-\u001b[1;36m05\u001b[0m-\u001b[1;36m30\u001b[0m \u001b[1;92m20:32:34\u001b[0m,\u001b[1;36m852\u001b[0m - \u001b[1m{\u001b[0mpytorch_tabular.models.gate.gate_model:\u001b[1;36m255\u001b[0m\u001b[1m}\u001b[0m - INFO - Data Aware Initialization of T0    \n"
      ]
     },
     "metadata": {},
     "output_type": "display_data"
    },
    {
     "data": {
      "text/html": [
       "<pre style=\"white-space:pre;overflow-x:auto;line-height:normal;font-family:Menlo,'DejaVu Sans Mono',consolas,'Courier New',monospace\"><span style=\"color: #008080; text-decoration-color: #008080; font-weight: bold\">2025</span>-<span style=\"color: #008080; text-decoration-color: #008080; font-weight: bold\">05</span>-<span style=\"color: #008080; text-decoration-color: #008080; font-weight: bold\">30</span> <span style=\"color: #00ff00; text-decoration-color: #00ff00; font-weight: bold\">20:33:14</span>,<span style=\"color: #008080; text-decoration-color: #008080; font-weight: bold\">192</span> - <span style=\"font-weight: bold\">{</span>pytorch_tabular:<span style=\"color: #008080; text-decoration-color: #008080; font-weight: bold\">382</span><span style=\"font-weight: bold\">}</span> - INFO - Finished Training GatedAdditiveTreeEnsembleModel          \n",
       "</pre>\n"
      ],
      "text/plain": [
       "\u001b[1;36m2025\u001b[0m-\u001b[1;36m05\u001b[0m-\u001b[1;36m30\u001b[0m \u001b[1;92m20:33:14\u001b[0m,\u001b[1;36m192\u001b[0m - \u001b[1m{\u001b[0mpytorch_tabular:\u001b[1;36m382\u001b[0m\u001b[1m}\u001b[0m - INFO - Finished Training GatedAdditiveTreeEnsembleModel          \n"
      ]
     },
     "metadata": {},
     "output_type": "display_data"
    },
    {
     "data": {
      "text/html": [
       "<pre style=\"white-space:pre;overflow-x:auto;line-height:normal;font-family:Menlo,'DejaVu Sans Mono',consolas,'Courier New',monospace\"><span style=\"color: #008080; text-decoration-color: #008080; font-weight: bold\">2025</span>-<span style=\"color: #008080; text-decoration-color: #008080; font-weight: bold\">05</span>-<span style=\"color: #008080; text-decoration-color: #008080; font-weight: bold\">30</span> <span style=\"color: #00ff00; text-decoration-color: #00ff00; font-weight: bold\">20:33:14</span>,<span style=\"color: #008080; text-decoration-color: #008080; font-weight: bold\">193</span> - <span style=\"font-weight: bold\">{</span>pytorch_tabular:<span style=\"color: #008080; text-decoration-color: #008080; font-weight: bold\">383</span><span style=\"font-weight: bold\">}</span> - INFO - Results: model: GatedAdditiveTreeEnsembleModel, # Params: \n",
       "<span style=\"color: #008080; text-decoration-color: #008080; font-weight: bold\">73</span> T, epochs: <span style=\"color: #008080; text-decoration-color: #008080; font-weight: bold\">49</span>, test_loss: <span style=\"color: #008080; text-decoration-color: #008080; font-weight: bold\">0.1837644726037979</span>, test_mean_squared_error: <span style=\"color: #008080; text-decoration-color: #008080; font-weight: bold\">0.1837644726037979</span>, time_taken:          \n",
       "<span style=\"color: #008080; text-decoration-color: #008080; font-weight: bold\">48.257137298583984</span>, time_taken_per_epoch: <span style=\"color: #008080; text-decoration-color: #008080; font-weight: bold\">0.9848395367057956</span>                                                       \n",
       "</pre>\n"
      ],
      "text/plain": [
       "\u001b[1;36m2025\u001b[0m-\u001b[1;36m05\u001b[0m-\u001b[1;36m30\u001b[0m \u001b[1;92m20:33:14\u001b[0m,\u001b[1;36m193\u001b[0m - \u001b[1m{\u001b[0mpytorch_tabular:\u001b[1;36m383\u001b[0m\u001b[1m}\u001b[0m - INFO - Results: model: GatedAdditiveTreeEnsembleModel, # Params: \n",
       "\u001b[1;36m73\u001b[0m T, epochs: \u001b[1;36m49\u001b[0m, test_loss: \u001b[1;36m0.1837644726037979\u001b[0m, test_mean_squared_error: \u001b[1;36m0.1837644726037979\u001b[0m, time_taken:          \n",
       "\u001b[1;36m48.257137298583984\u001b[0m, time_taken_per_epoch: \u001b[1;36m0.9848395367057956\u001b[0m                                                       \n"
      ]
     },
     "metadata": {},
     "output_type": "display_data"
    },
    {
     "data": {
      "text/html": [
       "<pre style=\"white-space:pre;overflow-x:auto;line-height:normal;font-family:Menlo,'DejaVu Sans Mono',consolas,'Courier New',monospace\"><span style=\"color: #008080; text-decoration-color: #008080; font-weight: bold\">2025</span>-<span style=\"color: #008080; text-decoration-color: #008080; font-weight: bold\">05</span>-<span style=\"color: #008080; text-decoration-color: #008080; font-weight: bold\">30</span> <span style=\"color: #00ff00; text-decoration-color: #00ff00; font-weight: bold\">20:33:14</span>,<span style=\"color: #008080; text-decoration-color: #008080; font-weight: bold\">210</span> - <span style=\"font-weight: bold\">{</span>pytorch_tabular:<span style=\"color: #008080; text-decoration-color: #008080; font-weight: bold\">328</span><span style=\"font-weight: bold\">}</span> - INFO - Training NODEModel                                        \n",
       "</pre>\n"
      ],
      "text/plain": [
       "\u001b[1;36m2025\u001b[0m-\u001b[1;36m05\u001b[0m-\u001b[1;36m30\u001b[0m \u001b[1;92m20:33:14\u001b[0m,\u001b[1;36m210\u001b[0m - \u001b[1m{\u001b[0mpytorch_tabular:\u001b[1;36m328\u001b[0m\u001b[1m}\u001b[0m - INFO - Training NODEModel                                        \n"
      ]
     },
     "metadata": {},
     "output_type": "display_data"
    },
    {
     "data": {
      "text/html": [
       "<pre style=\"white-space:pre;overflow-x:auto;line-height:normal;font-family:Menlo,'DejaVu Sans Mono',consolas,'Courier New',monospace\"><span style=\"color: #008080; text-decoration-color: #008080; font-weight: bold\">2025</span>-<span style=\"color: #008080; text-decoration-color: #008080; font-weight: bold\">05</span>-<span style=\"color: #008080; text-decoration-color: #008080; font-weight: bold\">30</span> <span style=\"color: #00ff00; text-decoration-color: #00ff00; font-weight: bold\">20:33:14</span>,<span style=\"color: #008080; text-decoration-color: #008080; font-weight: bold\">226</span> - <span style=\"font-weight: bold\">{</span>pytorch_tabular.models.node.node_model:<span style=\"color: #008080; text-decoration-color: #008080; font-weight: bold\">74</span><span style=\"font-weight: bold\">}</span> - INFO - Data Aware Initialization of NODE   \n",
       "using a forward pass with <span style=\"color: #008080; text-decoration-color: #008080; font-weight: bold\">2000</span> batch size<span style=\"color: #808000; text-decoration-color: #808000\">...</span>.                                                                      \n",
       "</pre>\n"
      ],
      "text/plain": [
       "\u001b[1;36m2025\u001b[0m-\u001b[1;36m05\u001b[0m-\u001b[1;36m30\u001b[0m \u001b[1;92m20:33:14\u001b[0m,\u001b[1;36m226\u001b[0m - \u001b[1m{\u001b[0mpytorch_tabular.models.node.node_model:\u001b[1;36m74\u001b[0m\u001b[1m}\u001b[0m - INFO - Data Aware Initialization of NODE   \n",
       "using a forward pass with \u001b[1;36m2000\u001b[0m batch size\u001b[33m...\u001b[0m.                                                                      \n"
      ]
     },
     "metadata": {},
     "output_type": "display_data"
    },
    {
     "data": {
      "application/vnd.jupyter.widget-view+json": {
       "model_id": "b0274ded36e641c5b0fc2d4888f80626",
       "version_major": 2,
       "version_minor": 0
      },
      "text/plain": [
       "Finding best initial lr:   0%|          | 0/100 [00:00<?, ?it/s]"
      ]
     },
     "metadata": {},
     "output_type": "display_data"
    },
    {
     "data": {
      "text/html": [
       "<pre style=\"white-space:pre;overflow-x:auto;line-height:normal;font-family:Menlo,'DejaVu Sans Mono',consolas,'Courier New',monospace\"><span style=\"color: #008080; text-decoration-color: #008080; font-weight: bold\">2025</span>-<span style=\"color: #008080; text-decoration-color: #008080; font-weight: bold\">05</span>-<span style=\"color: #008080; text-decoration-color: #008080; font-weight: bold\">30</span> <span style=\"color: #00ff00; text-decoration-color: #00ff00; font-weight: bold\">20:33:20</span>,<span style=\"color: #008080; text-decoration-color: #008080; font-weight: bold\">645</span> - <span style=\"font-weight: bold\">{</span>pytorch_tabular.models.node.node_model:<span style=\"color: #008080; text-decoration-color: #008080; font-weight: bold\">74</span><span style=\"font-weight: bold\">}</span> - INFO - Data Aware Initialization of NODE   \n",
       "using a forward pass with <span style=\"color: #008080; text-decoration-color: #008080; font-weight: bold\">2000</span> batch size<span style=\"color: #808000; text-decoration-color: #808000\">...</span>.                                                                      \n",
       "</pre>\n"
      ],
      "text/plain": [
       "\u001b[1;36m2025\u001b[0m-\u001b[1;36m05\u001b[0m-\u001b[1;36m30\u001b[0m \u001b[1;92m20:33:20\u001b[0m,\u001b[1;36m645\u001b[0m - \u001b[1m{\u001b[0mpytorch_tabular.models.node.node_model:\u001b[1;36m74\u001b[0m\u001b[1m}\u001b[0m - INFO - Data Aware Initialization of NODE   \n",
       "using a forward pass with \u001b[1;36m2000\u001b[0m batch size\u001b[33m...\u001b[0m.                                                                      \n"
      ]
     },
     "metadata": {},
     "output_type": "display_data"
    },
    {
     "data": {
      "text/html": [
       "<pre style=\"white-space:pre;overflow-x:auto;line-height:normal;font-family:Menlo,'DejaVu Sans Mono',consolas,'Courier New',monospace\"><span style=\"color: #008080; text-decoration-color: #008080; font-weight: bold\">2025</span>-<span style=\"color: #008080; text-decoration-color: #008080; font-weight: bold\">05</span>-<span style=\"color: #008080; text-decoration-color: #008080; font-weight: bold\">30</span> <span style=\"color: #00ff00; text-decoration-color: #00ff00; font-weight: bold\">20:33:48</span>,<span style=\"color: #008080; text-decoration-color: #008080; font-weight: bold\">664</span> - <span style=\"font-weight: bold\">{</span>pytorch_tabular:<span style=\"color: #008080; text-decoration-color: #008080; font-weight: bold\">382</span><span style=\"font-weight: bold\">}</span> - INFO - Finished Training NODEModel                               \n",
       "</pre>\n"
      ],
      "text/plain": [
       "\u001b[1;36m2025\u001b[0m-\u001b[1;36m05\u001b[0m-\u001b[1;36m30\u001b[0m \u001b[1;92m20:33:48\u001b[0m,\u001b[1;36m664\u001b[0m - \u001b[1m{\u001b[0mpytorch_tabular:\u001b[1;36m382\u001b[0m\u001b[1m}\u001b[0m - INFO - Finished Training NODEModel                               \n"
      ]
     },
     "metadata": {},
     "output_type": "display_data"
    },
    {
     "data": {
      "text/html": [
       "<pre style=\"white-space:pre;overflow-x:auto;line-height:normal;font-family:Menlo,'DejaVu Sans Mono',consolas,'Courier New',monospace\"><span style=\"color: #008080; text-decoration-color: #008080; font-weight: bold\">2025</span>-<span style=\"color: #008080; text-decoration-color: #008080; font-weight: bold\">05</span>-<span style=\"color: #008080; text-decoration-color: #008080; font-weight: bold\">30</span> <span style=\"color: #00ff00; text-decoration-color: #00ff00; font-weight: bold\">20:33:48</span>,<span style=\"color: #008080; text-decoration-color: #008080; font-weight: bold\">665</span> - <span style=\"font-weight: bold\">{</span>pytorch_tabular:<span style=\"color: #008080; text-decoration-color: #008080; font-weight: bold\">383</span><span style=\"font-weight: bold\">}</span> - INFO - Results: model: NODEModel, # Params: <span style=\"color: #008080; text-decoration-color: #008080; font-weight: bold\">696</span> T, epochs: <span style=\"color: #008080; text-decoration-color: #008080; font-weight: bold\">56</span>,   \n",
       "test_loss: <span style=\"color: #008080; text-decoration-color: #008080; font-weight: bold\">0.5075245499610901</span>, test_mean_squared_error: <span style=\"color: #008080; text-decoration-color: #008080; font-weight: bold\">0.5075245499610901</span>, time_taken: <span style=\"color: #008080; text-decoration-color: #008080; font-weight: bold\">34.46991539001465</span>,         \n",
       "time_taken_per_epoch: <span style=\"color: #008080; text-decoration-color: #008080; font-weight: bold\">0.6155342033931187</span>                                                                           \n",
       "</pre>\n"
      ],
      "text/plain": [
       "\u001b[1;36m2025\u001b[0m-\u001b[1;36m05\u001b[0m-\u001b[1;36m30\u001b[0m \u001b[1;92m20:33:48\u001b[0m,\u001b[1;36m665\u001b[0m - \u001b[1m{\u001b[0mpytorch_tabular:\u001b[1;36m383\u001b[0m\u001b[1m}\u001b[0m - INFO - Results: model: NODEModel, # Params: \u001b[1;36m696\u001b[0m T, epochs: \u001b[1;36m56\u001b[0m,   \n",
       "test_loss: \u001b[1;36m0.5075245499610901\u001b[0m, test_mean_squared_error: \u001b[1;36m0.5075245499610901\u001b[0m, time_taken: \u001b[1;36m34.46991539001465\u001b[0m,         \n",
       "time_taken_per_epoch: \u001b[1;36m0.6155342033931187\u001b[0m                                                                           \n"
      ]
     },
     "metadata": {},
     "output_type": "display_data"
    },
    {
     "data": {
      "text/html": [
       "<pre style=\"white-space:pre;overflow-x:auto;line-height:normal;font-family:Menlo,'DejaVu Sans Mono',consolas,'Courier New',monospace\"><span style=\"color: #008080; text-decoration-color: #008080; font-weight: bold\">2025</span>-<span style=\"color: #008080; text-decoration-color: #008080; font-weight: bold\">05</span>-<span style=\"color: #008080; text-decoration-color: #008080; font-weight: bold\">30</span> <span style=\"color: #00ff00; text-decoration-color: #00ff00; font-weight: bold\">20:33:48</span>,<span style=\"color: #008080; text-decoration-color: #008080; font-weight: bold\">681</span> - <span style=\"font-weight: bold\">{</span>pytorch_tabular:<span style=\"color: #008080; text-decoration-color: #008080; font-weight: bold\">328</span><span style=\"font-weight: bold\">}</span> - INFO - Training TabNetModel                                      \n",
       "</pre>\n"
      ],
      "text/plain": [
       "\u001b[1;36m2025\u001b[0m-\u001b[1;36m05\u001b[0m-\u001b[1;36m30\u001b[0m \u001b[1;92m20:33:48\u001b[0m,\u001b[1;36m681\u001b[0m - \u001b[1m{\u001b[0mpytorch_tabular:\u001b[1;36m328\u001b[0m\u001b[1m}\u001b[0m - INFO - Training TabNetModel                                      \n"
      ]
     },
     "metadata": {},
     "output_type": "display_data"
    },
    {
     "data": {
      "application/vnd.jupyter.widget-view+json": {
       "model_id": "a09b96da02a947798ba047ba0f042d93",
       "version_major": 2,
       "version_minor": 0
      },
      "text/plain": [
       "Finding best initial lr:   0%|          | 0/100 [00:00<?, ?it/s]"
      ]
     },
     "metadata": {},
     "output_type": "display_data"
    },
    {
     "data": {
      "text/html": [
       "<pre style=\"white-space:pre;overflow-x:auto;line-height:normal;font-family:Menlo,'DejaVu Sans Mono',consolas,'Courier New',monospace\"><span style=\"color: #008080; text-decoration-color: #008080; font-weight: bold\">2025</span>-<span style=\"color: #008080; text-decoration-color: #008080; font-weight: bold\">05</span>-<span style=\"color: #008080; text-decoration-color: #008080; font-weight: bold\">30</span> <span style=\"color: #00ff00; text-decoration-color: #00ff00; font-weight: bold\">20:34:18</span>,<span style=\"color: #008080; text-decoration-color: #008080; font-weight: bold\">504</span> - <span style=\"font-weight: bold\">{</span>pytorch_tabular:<span style=\"color: #008080; text-decoration-color: #008080; font-weight: bold\">382</span><span style=\"font-weight: bold\">}</span> - INFO - Finished Training TabNetModel                             \n",
       "</pre>\n"
      ],
      "text/plain": [
       "\u001b[1;36m2025\u001b[0m-\u001b[1;36m05\u001b[0m-\u001b[1;36m30\u001b[0m \u001b[1;92m20:34:18\u001b[0m,\u001b[1;36m504\u001b[0m - \u001b[1m{\u001b[0mpytorch_tabular:\u001b[1;36m382\u001b[0m\u001b[1m}\u001b[0m - INFO - Finished Training TabNetModel                             \n"
      ]
     },
     "metadata": {},
     "output_type": "display_data"
    },
    {
     "data": {
      "text/html": [
       "<pre style=\"white-space:pre;overflow-x:auto;line-height:normal;font-family:Menlo,'DejaVu Sans Mono',consolas,'Courier New',monospace\"><span style=\"color: #008080; text-decoration-color: #008080; font-weight: bold\">2025</span>-<span style=\"color: #008080; text-decoration-color: #008080; font-weight: bold\">05</span>-<span style=\"color: #008080; text-decoration-color: #008080; font-weight: bold\">30</span> <span style=\"color: #00ff00; text-decoration-color: #00ff00; font-weight: bold\">20:34:18</span>,<span style=\"color: #008080; text-decoration-color: #008080; font-weight: bold\">505</span> - <span style=\"font-weight: bold\">{</span>pytorch_tabular:<span style=\"color: #008080; text-decoration-color: #008080; font-weight: bold\">383</span><span style=\"font-weight: bold\">}</span> - INFO - Results: model: TabNetModel, # Params: <span style=\"color: #008080; text-decoration-color: #008080; font-weight: bold\">6</span> T, epochs: <span style=\"color: #008080; text-decoration-color: #008080; font-weight: bold\">88</span>,   \n",
       "test_loss: <span style=\"color: #008080; text-decoration-color: #008080; font-weight: bold\">0.15373462438583374</span>, test_mean_squared_error: <span style=\"color: #008080; text-decoration-color: #008080; font-weight: bold\">0.15373462438583374</span>, time_taken: <span style=\"color: #008080; text-decoration-color: #008080; font-weight: bold\">29.838064670562744</span>,      \n",
       "time_taken_per_epoch: <span style=\"color: #008080; text-decoration-color: #008080; font-weight: bold\">0.33906891671094025</span>                                                                          \n",
       "</pre>\n"
      ],
      "text/plain": [
       "\u001b[1;36m2025\u001b[0m-\u001b[1;36m05\u001b[0m-\u001b[1;36m30\u001b[0m \u001b[1;92m20:34:18\u001b[0m,\u001b[1;36m505\u001b[0m - \u001b[1m{\u001b[0mpytorch_tabular:\u001b[1;36m383\u001b[0m\u001b[1m}\u001b[0m - INFO - Results: model: TabNetModel, # Params: \u001b[1;36m6\u001b[0m T, epochs: \u001b[1;36m88\u001b[0m,   \n",
       "test_loss: \u001b[1;36m0.15373462438583374\u001b[0m, test_mean_squared_error: \u001b[1;36m0.15373462438583374\u001b[0m, time_taken: \u001b[1;36m29.838064670562744\u001b[0m,      \n",
       "time_taken_per_epoch: \u001b[1;36m0.33906891671094025\u001b[0m                                                                          \n"
      ]
     },
     "metadata": {},
     "output_type": "display_data"
    },
    {
     "data": {
      "text/html": [
       "<pre style=\"white-space:pre;overflow-x:auto;line-height:normal;font-family:Menlo,'DejaVu Sans Mono',consolas,'Courier New',monospace\"><span style=\"color: #008080; text-decoration-color: #008080; font-weight: bold\">2025</span>-<span style=\"color: #008080; text-decoration-color: #008080; font-weight: bold\">05</span>-<span style=\"color: #008080; text-decoration-color: #008080; font-weight: bold\">30</span> <span style=\"color: #00ff00; text-decoration-color: #00ff00; font-weight: bold\">20:34:18</span>,<span style=\"color: #008080; text-decoration-color: #008080; font-weight: bold\">521</span> - <span style=\"font-weight: bold\">{</span>pytorch_tabular:<span style=\"color: #008080; text-decoration-color: #008080; font-weight: bold\">328</span><span style=\"font-weight: bold\">}</span> - INFO - Training TabTransformerModel                              \n",
       "</pre>\n"
      ],
      "text/plain": [
       "\u001b[1;36m2025\u001b[0m-\u001b[1;36m05\u001b[0m-\u001b[1;36m30\u001b[0m \u001b[1;92m20:34:18\u001b[0m,\u001b[1;36m521\u001b[0m - \u001b[1m{\u001b[0mpytorch_tabular:\u001b[1;36m328\u001b[0m\u001b[1m}\u001b[0m - INFO - Training TabTransformerModel                              \n"
      ]
     },
     "metadata": {},
     "output_type": "display_data"
    },
    {
     "data": {
      "application/vnd.jupyter.widget-view+json": {
       "model_id": "7f4bc0e825584854afee23932ac42687",
       "version_major": 2,
       "version_minor": 0
      },
      "text/plain": [
       "Finding best initial lr:   0%|          | 0/100 [00:00<?, ?it/s]"
      ]
     },
     "metadata": {},
     "output_type": "display_data"
    },
    {
     "data": {
      "text/html": [
       "<pre style=\"white-space:pre;overflow-x:auto;line-height:normal;font-family:Menlo,'DejaVu Sans Mono',consolas,'Courier New',monospace\"><span style=\"color: #008080; text-decoration-color: #008080; font-weight: bold\">2025</span>-<span style=\"color: #008080; text-decoration-color: #008080; font-weight: bold\">05</span>-<span style=\"color: #008080; text-decoration-color: #008080; font-weight: bold\">30</span> <span style=\"color: #00ff00; text-decoration-color: #00ff00; font-weight: bold\">20:34:33</span>,<span style=\"color: #008080; text-decoration-color: #008080; font-weight: bold\">465</span> - <span style=\"font-weight: bold\">{</span>pytorch_tabular:<span style=\"color: #008080; text-decoration-color: #008080; font-weight: bold\">382</span><span style=\"font-weight: bold\">}</span> - INFO - Finished Training TabTransformerModel                     \n",
       "</pre>\n"
      ],
      "text/plain": [
       "\u001b[1;36m2025\u001b[0m-\u001b[1;36m05\u001b[0m-\u001b[1;36m30\u001b[0m \u001b[1;92m20:34:33\u001b[0m,\u001b[1;36m465\u001b[0m - \u001b[1m{\u001b[0mpytorch_tabular:\u001b[1;36m382\u001b[0m\u001b[1m}\u001b[0m - INFO - Finished Training TabTransformerModel                     \n"
      ]
     },
     "metadata": {},
     "output_type": "display_data"
    },
    {
     "data": {
      "text/html": [
       "<pre style=\"white-space:pre;overflow-x:auto;line-height:normal;font-family:Menlo,'DejaVu Sans Mono',consolas,'Courier New',monospace\"><span style=\"color: #008080; text-decoration-color: #008080; font-weight: bold\">2025</span>-<span style=\"color: #008080; text-decoration-color: #008080; font-weight: bold\">05</span>-<span style=\"color: #008080; text-decoration-color: #008080; font-weight: bold\">30</span> <span style=\"color: #00ff00; text-decoration-color: #00ff00; font-weight: bold\">20:34:33</span>,<span style=\"color: #008080; text-decoration-color: #008080; font-weight: bold\">466</span> - <span style=\"font-weight: bold\">{</span>pytorch_tabular:<span style=\"color: #008080; text-decoration-color: #008080; font-weight: bold\">383</span><span style=\"font-weight: bold\">}</span> - INFO - Results: model: TabTransformerModel, # Params: <span style=\"color: #008080; text-decoration-color: #008080; font-weight: bold\">271</span> T,     \n",
       "epochs: <span style=\"color: #008080; text-decoration-color: #008080; font-weight: bold\">49</span>, test_loss: <span style=\"color: #008080; text-decoration-color: #008080; font-weight: bold\">0.010695761069655418</span>, test_mean_squared_error: <span style=\"color: #008080; text-decoration-color: #008080; font-weight: bold\">0.010695761069655418</span>, time_taken:            \n",
       "<span style=\"color: #008080; text-decoration-color: #008080; font-weight: bold\">14.94556474685669</span>, time_taken_per_epoch: <span style=\"color: #008080; text-decoration-color: #008080; font-weight: bold\">0.30501152544605487</span>                                                       \n",
       "</pre>\n"
      ],
      "text/plain": [
       "\u001b[1;36m2025\u001b[0m-\u001b[1;36m05\u001b[0m-\u001b[1;36m30\u001b[0m \u001b[1;92m20:34:33\u001b[0m,\u001b[1;36m466\u001b[0m - \u001b[1m{\u001b[0mpytorch_tabular:\u001b[1;36m383\u001b[0m\u001b[1m}\u001b[0m - INFO - Results: model: TabTransformerModel, # Params: \u001b[1;36m271\u001b[0m T,     \n",
       "epochs: \u001b[1;36m49\u001b[0m, test_loss: \u001b[1;36m0.010695761069655418\u001b[0m, test_mean_squared_error: \u001b[1;36m0.010695761069655418\u001b[0m, time_taken:            \n",
       "\u001b[1;36m14.94556474685669\u001b[0m, time_taken_per_epoch: \u001b[1;36m0.30501152544605487\u001b[0m                                                       \n"
      ]
     },
     "metadata": {},
     "output_type": "display_data"
    },
    {
     "data": {
      "text/html": [
       "<pre style=\"white-space:pre;overflow-x:auto;line-height:normal;font-family:Menlo,'DejaVu Sans Mono',consolas,'Courier New',monospace\"></pre>\n"
      ],
      "text/plain": []
     },
     "metadata": {},
     "output_type": "display_data"
    },
    {
     "data": {
      "text/html": [
       "<pre style=\"white-space:pre;overflow-x:auto;line-height:normal;font-family:Menlo,'DejaVu Sans Mono',consolas,'Courier New',monospace\"><span style=\"color: #008080; text-decoration-color: #008080; font-weight: bold\">2025</span>-<span style=\"color: #008080; text-decoration-color: #008080; font-weight: bold\">05</span>-<span style=\"color: #008080; text-decoration-color: #008080; font-weight: bold\">30</span> <span style=\"color: #00ff00; text-decoration-color: #00ff00; font-weight: bold\">20:34:33</span>,<span style=\"color: #008080; text-decoration-color: #008080; font-weight: bold\">467</span> - <span style=\"font-weight: bold\">{</span>pytorch_tabular:<span style=\"color: #008080; text-decoration-color: #008080; font-weight: bold\">388</span><span style=\"font-weight: bold\">}</span> - INFO - Model Sweep Finished                                      \n",
       "</pre>\n"
      ],
      "text/plain": [
       "\u001b[1;36m2025\u001b[0m-\u001b[1;36m05\u001b[0m-\u001b[1;36m30\u001b[0m \u001b[1;92m20:34:33\u001b[0m,\u001b[1;36m467\u001b[0m - \u001b[1m{\u001b[0mpytorch_tabular:\u001b[1;36m388\u001b[0m\u001b[1m}\u001b[0m - INFO - Model Sweep Finished                                      \n"
      ]
     },
     "metadata": {},
     "output_type": "display_data"
    },
    {
     "data": {
      "text/html": [
       "<pre style=\"white-space:pre;overflow-x:auto;line-height:normal;font-family:Menlo,'DejaVu Sans Mono',consolas,'Courier New',monospace\"><span style=\"color: #008080; text-decoration-color: #008080; font-weight: bold\">2025</span>-<span style=\"color: #008080; text-decoration-color: #008080; font-weight: bold\">05</span>-<span style=\"color: #008080; text-decoration-color: #008080; font-weight: bold\">30</span> <span style=\"color: #00ff00; text-decoration-color: #00ff00; font-weight: bold\">20:34:33</span>,<span style=\"color: #008080; text-decoration-color: #008080; font-weight: bold\">468</span> - <span style=\"font-weight: bold\">{</span>pytorch_tabular:<span style=\"color: #008080; text-decoration-color: #008080; font-weight: bold\">389</span><span style=\"font-weight: bold\">}</span> - INFO - Best Model: TabTransformerModel                           \n",
       "</pre>\n"
      ],
      "text/plain": [
       "\u001b[1;36m2025\u001b[0m-\u001b[1;36m05\u001b[0m-\u001b[1;36m30\u001b[0m \u001b[1;92m20:34:33\u001b[0m,\u001b[1;36m468\u001b[0m - \u001b[1m{\u001b[0mpytorch_tabular:\u001b[1;36m389\u001b[0m\u001b[1m}\u001b[0m - INFO - Best Model: TabTransformerModel                           \n"
      ]
     },
     "metadata": {},
     "output_type": "display_data"
    },
    {
     "name": "stdout",
     "output_type": "stream",
     "text": [
      "Total time: 283.9715995788574\n"
     ]
    }
   ],
   "source": [
    "tic = time.time()\n",
    "sweep_df, best_model = model_sweep(\n",
    "    task='classification' if model_type == 'classifier' else 'regression',  # 'classification' or 'regression'\n",
    "    train=train,\n",
    "    test=valid,\n",
    "    data_config=data_config,\n",
    "    optimizer_config=optimizer_config,\n",
    "    trainer_config=trainer_config,\n",
    "    model_list='high_memory',  # The list of models to compare. This can be one of the presets defined in pytorch_tabular.tabular_model_sweep.MODEL_SWEEP_PRESETS or a list of ModelConfig objects. Defaults to \"lite\".\n",
    "    verbose=True\n",
    ")\n",
    "print(f'Total time: {time.time() - tic}')"
   ]
  },
  {
   "cell_type": "markdown",
   "id": "41f86294-0e61-476e-bff5-af43ddca31c1",
   "metadata": {},
   "source": [
    "O melhor checkpoint de todos treinamentos será armazenado na variável de output, que neste caso estamos chamando de \"best_model\"."
   ]
  },
  {
   "cell_type": "code",
   "execution_count": 14,
   "id": "de2217e8-798a-4ddf-b69a-11e4254b49ac",
   "metadata": {},
   "outputs": [
    {
     "data": {
      "text/html": [
       "<pre style=\"white-space:pre;overflow-x:auto;line-height:normal;font-family:Menlo,'DejaVu Sans Mono',consolas,'Courier New',monospace\">┏━━━━━━━━━━━━━━━━━━━━━━━━━━━┳━━━━━━━━━━━━━━━━━━━━━━━━━━━┓\n",
       "┃<span style=\"font-weight: bold\">        Test metric        </span>┃<span style=\"font-weight: bold\">       DataLoader 0        </span>┃\n",
       "┡━━━━━━━━━━━━━━━━━━━━━━━━━━━╇━━━━━━━━━━━━━━━━━━━━━━━━━━━┩\n",
       "│<span style=\"color: #008080; text-decoration-color: #008080\">         test_loss         </span>│<span style=\"color: #800080; text-decoration-color: #800080\">   0.010695761069655418    </span>│\n",
       "│<span style=\"color: #008080; text-decoration-color: #008080\">  test_mean_squared_error  </span>│<span style=\"color: #800080; text-decoration-color: #800080\">   0.010695761069655418    </span>│\n",
       "└───────────────────────────┴───────────────────────────┘\n",
       "</pre>\n"
      ],
      "text/plain": [
       "┏━━━━━━━━━━━━━━━━━━━━━━━━━━━┳━━━━━━━━━━━━━━━━━━━━━━━━━━━┓\n",
       "┃\u001b[1m \u001b[0m\u001b[1m       Test metric       \u001b[0m\u001b[1m \u001b[0m┃\u001b[1m \u001b[0m\u001b[1m      DataLoader 0       \u001b[0m\u001b[1m \u001b[0m┃\n",
       "┡━━━━━━━━━━━━━━━━━━━━━━━━━━━╇━━━━━━━━━━━━━━━━━━━━━━━━━━━┩\n",
       "│\u001b[36m \u001b[0m\u001b[36m        test_loss        \u001b[0m\u001b[36m \u001b[0m│\u001b[35m \u001b[0m\u001b[35m  0.010695761069655418   \u001b[0m\u001b[35m \u001b[0m│\n",
       "│\u001b[36m \u001b[0m\u001b[36m test_mean_squared_error \u001b[0m\u001b[36m \u001b[0m│\u001b[35m \u001b[0m\u001b[35m  0.010695761069655418   \u001b[0m\u001b[35m \u001b[0m│\n",
       "└───────────────────────────┴───────────────────────────┘\n"
      ]
     },
     "metadata": {},
     "output_type": "display_data"
    },
    {
     "name": "stdout",
     "output_type": "stream",
     "text": [
      "Test MSE: 0.011\n",
      "Test inference error (RMSE): ±0.10342031265498774\n"
     ]
    }
   ],
   "source": [
    "test_metric = best_model.evaluate(test)\n",
    "if model_type == 'regressor':\n",
    "    print('Test MSE: %.3f' % (test_metric[0]['test_mean_squared_error']))\n",
    "    print(f'Test inference error (RMSE): ±{math.sqrt(test_metric[0][\"test_mean_squared_error\"])}')"
   ]
  },
  {
   "cell_type": "markdown",
   "id": "56fb7720-6c4e-4e46-8f80-519692c1c2e2",
   "metadata": {},
   "source": [
    "Lembrando que: Cada vez que rodar o treinamento o resultado pode ser diferente!"
   ]
  },
  {
   "cell_type": "code",
   "execution_count": 15,
   "id": "5c8a2493-e2f3-49a2-9ddc-e063f80c8d84",
   "metadata": {},
   "outputs": [
    {
     "data": {
      "text/html": [
       "<style type=\"text/css\">\n",
       "#T_88c08_row0_col3, #T_88c08_row1_col3 {\n",
       "  background-color: #a50026;\n",
       "  color: #f1f1f1;\n",
       "  background-color: #006837;\n",
       "  color: #f1f1f1;\n",
       "}\n",
       "#T_88c08_row0_col5 {\n",
       "  background-color: #4eb15d;\n",
       "  color: #f1f1f1;\n",
       "}\n",
       "#T_88c08_row1_col5 {\n",
       "  background-color: #0a7b41;\n",
       "  color: #f1f1f1;\n",
       "}\n",
       "#T_88c08_row2_col3 {\n",
       "  background-color: #a70226;\n",
       "  color: #f1f1f1;\n",
       "  background-color: #016a38;\n",
       "  color: #f1f1f1;\n",
       "}\n",
       "#T_88c08_row2_col5 {\n",
       "  background-color: #006837;\n",
       "  color: #f1f1f1;\n",
       "}\n",
       "#T_88c08_row3_col3, #T_88c08_row4_col3, #T_88c08_row5_col3 {\n",
       "  background-color: #a90426;\n",
       "  color: #f1f1f1;\n",
       "  background-color: #026c39;\n",
       "  color: #f1f1f1;\n",
       "}\n",
       "#T_88c08_row3_col5 {\n",
       "  background-color: #6ec064;\n",
       "  color: #000000;\n",
       "}\n",
       "#T_88c08_row4_col5 {\n",
       "  background-color: #51b35e;\n",
       "  color: #f1f1f1;\n",
       "}\n",
       "#T_88c08_row5_col5 {\n",
       "  background-color: #a50026;\n",
       "  color: #f1f1f1;\n",
       "}\n",
       "#T_88c08_row6_col3 {\n",
       "  background-color: #ab0626;\n",
       "  color: #f1f1f1;\n",
       "  background-color: #036e3a;\n",
       "  color: #f1f1f1;\n",
       "}\n",
       "#T_88c08_row6_col5 {\n",
       "  background-color: #feec9f;\n",
       "  color: #000000;\n",
       "}\n",
       "#T_88c08_row7_col3 {\n",
       "  background-color: #b50f26;\n",
       "  color: #f1f1f1;\n",
       "  background-color: #08773f;\n",
       "  color: #f1f1f1;\n",
       "}\n",
       "#T_88c08_row7_col5 {\n",
       "  background-color: #fff0a6;\n",
       "  color: #000000;\n",
       "}\n",
       "#T_88c08_row8_col3 {\n",
       "  background-color: #006837;\n",
       "  color: #f1f1f1;\n",
       "  background-color: #a50026;\n",
       "  color: #f1f1f1;\n",
       "}\n",
       "#T_88c08_row8_col5 {\n",
       "  background-color: #60ba62;\n",
       "  color: #f1f1f1;\n",
       "}\n",
       "</style>\n",
       "<table id=\"T_88c08\">\n",
       "  <thead>\n",
       "    <tr>\n",
       "      <th class=\"blank level0\" >&nbsp;</th>\n",
       "      <th id=\"T_88c08_level0_col0\" class=\"col_heading level0 col0\" >model</th>\n",
       "      <th id=\"T_88c08_level0_col1\" class=\"col_heading level0 col1\" ># Params</th>\n",
       "      <th id=\"T_88c08_level0_col2\" class=\"col_heading level0 col2\" >epochs</th>\n",
       "      <th id=\"T_88c08_level0_col3\" class=\"col_heading level0 col3\" >test_loss</th>\n",
       "      <th id=\"T_88c08_level0_col4\" class=\"col_heading level0 col4\" >test_mean_squared_error</th>\n",
       "      <th id=\"T_88c08_level0_col5\" class=\"col_heading level0 col5\" >time_taken_per_epoch</th>\n",
       "      <th id=\"T_88c08_level0_col6\" class=\"col_heading level0 col6\" >test_rmse</th>\n",
       "    </tr>\n",
       "  </thead>\n",
       "  <tbody>\n",
       "    <tr>\n",
       "      <th id=\"T_88c08_level0_row0\" class=\"row_heading level0 row0\" >8</th>\n",
       "      <td id=\"T_88c08_row0_col0\" class=\"data row0 col0\" >TabTransformerModel</td>\n",
       "      <td id=\"T_88c08_row0_col1\" class=\"data row0 col1\" >271 T</td>\n",
       "      <td id=\"T_88c08_row0_col2\" class=\"data row0 col2\" >49</td>\n",
       "      <td id=\"T_88c08_row0_col3\" class=\"data row0 col3\" >0.010696</td>\n",
       "      <td id=\"T_88c08_row0_col4\" class=\"data row0 col4\" >0.010696</td>\n",
       "      <td id=\"T_88c08_row0_col5\" class=\"data row0 col5\" >0.305012</td>\n",
       "      <td id=\"T_88c08_row0_col6\" class=\"data row0 col6\" >0.103420</td>\n",
       "    </tr>\n",
       "    <tr>\n",
       "      <th id=\"T_88c08_level0_row1\" class=\"row_heading level0 row1\" >0</th>\n",
       "      <td id=\"T_88c08_row1_col0\" class=\"data row1 col0\" >AutoIntModel</td>\n",
       "      <td id=\"T_88c08_row1_col1\" class=\"data row1 col1\" >14 T</td>\n",
       "      <td id=\"T_88c08_row1_col2\" class=\"data row1 col2\" >72</td>\n",
       "      <td id=\"T_88c08_row1_col3\" class=\"data row1 col3\" >0.021461</td>\n",
       "      <td id=\"T_88c08_row1_col4\" class=\"data row1 col4\" >0.021461</td>\n",
       "      <td id=\"T_88c08_row1_col5\" class=\"data row1 col5\" >0.199049</td>\n",
       "      <td id=\"T_88c08_row1_col6\" class=\"data row1 col6\" >0.146496</td>\n",
       "    </tr>\n",
       "    <tr>\n",
       "      <th id=\"T_88c08_level0_row2\" class=\"row_heading level0 row2\" >1</th>\n",
       "      <td id=\"T_88c08_row2_col0\" class=\"data row2 col0\" >CategoryEmbeddingModel</td>\n",
       "      <td id=\"T_88c08_row2_col1\" class=\"data row2 col1\" >12 T</td>\n",
       "      <td id=\"T_88c08_row2_col2\" class=\"data row2 col2\" >168</td>\n",
       "      <td id=\"T_88c08_row2_col3\" class=\"data row2 col3\" >0.075726</td>\n",
       "      <td id=\"T_88c08_row2_col4\" class=\"data row2 col4\" >0.075726</td>\n",
       "      <td id=\"T_88c08_row2_col5\" class=\"data row2 col5\" >0.166028</td>\n",
       "      <td id=\"T_88c08_row2_col6\" class=\"data row2 col6\" >0.275183</td>\n",
       "    </tr>\n",
       "    <tr>\n",
       "      <th id=\"T_88c08_level0_row3\" class=\"row_heading level0 row3\" >7</th>\n",
       "      <td id=\"T_88c08_row3_col0\" class=\"data row3 col0\" >TabNetModel</td>\n",
       "      <td id=\"T_88c08_row3_col1\" class=\"data row3 col1\" >6 T</td>\n",
       "      <td id=\"T_88c08_row3_col2\" class=\"data row3 col2\" >88</td>\n",
       "      <td id=\"T_88c08_row3_col3\" class=\"data row3 col3\" >0.153735</td>\n",
       "      <td id=\"T_88c08_row3_col4\" class=\"data row3 col4\" >0.153735</td>\n",
       "      <td id=\"T_88c08_row3_col5\" class=\"data row3 col5\" >0.339069</td>\n",
       "      <td id=\"T_88c08_row3_col6\" class=\"data row3 col6\" >0.392090</td>\n",
       "    </tr>\n",
       "    <tr>\n",
       "      <th id=\"T_88c08_level0_row4\" class=\"row_heading level0 row4\" >3</th>\n",
       "      <td id=\"T_88c08_row4_col0\" class=\"data row4 col0\" >FTTransformerModel</td>\n",
       "      <td id=\"T_88c08_row4_col1\" class=\"data row4 col1\" >272 T</td>\n",
       "      <td id=\"T_88c08_row4_col2\" class=\"data row4 col2\" >215</td>\n",
       "      <td id=\"T_88c08_row4_col3\" class=\"data row4 col3\" >0.171253</td>\n",
       "      <td id=\"T_88c08_row4_col4\" class=\"data row4 col4\" >0.171253</td>\n",
       "      <td id=\"T_88c08_row4_col5\" class=\"data row4 col5\" >0.308481</td>\n",
       "      <td id=\"T_88c08_row4_col6\" class=\"data row4 col6\" >0.413827</td>\n",
       "    </tr>\n",
       "    <tr>\n",
       "      <th id=\"T_88c08_level0_row5\" class=\"row_heading level0 row5\" >5</th>\n",
       "      <td id=\"T_88c08_row5_col0\" class=\"data row5 col0\" >GatedAdditiveTreeEnsembleModel</td>\n",
       "      <td id=\"T_88c08_row5_col1\" class=\"data row5 col1\" >73 T</td>\n",
       "      <td id=\"T_88c08_row5_col2\" class=\"data row5 col2\" >49</td>\n",
       "      <td id=\"T_88c08_row5_col3\" class=\"data row5 col3\" >0.183764</td>\n",
       "      <td id=\"T_88c08_row5_col4\" class=\"data row5 col4\" >0.183764</td>\n",
       "      <td id=\"T_88c08_row5_col5\" class=\"data row5 col5\" >0.984840</td>\n",
       "      <td id=\"T_88c08_row5_col6\" class=\"data row5 col6\" >0.428678</td>\n",
       "    </tr>\n",
       "    <tr>\n",
       "      <th id=\"T_88c08_level0_row6\" class=\"row_heading level0 row6\" >2</th>\n",
       "      <td id=\"T_88c08_row6_col0\" class=\"data row6 col0\" >DANetModel</td>\n",
       "      <td id=\"T_88c08_row6_col1\" class=\"data row6 col1\" >415 T</td>\n",
       "      <td id=\"T_88c08_row6_col2\" class=\"data row6 col2\" >49</td>\n",
       "      <td id=\"T_88c08_row6_col3\" class=\"data row6 col3\" >0.187461</td>\n",
       "      <td id=\"T_88c08_row6_col4\" class=\"data row6 col4\" >0.187461</td>\n",
       "      <td id=\"T_88c08_row6_col5\" class=\"data row6 col5\" >0.625600</td>\n",
       "      <td id=\"T_88c08_row6_col6\" class=\"data row6 col6\" >0.432967</td>\n",
       "    </tr>\n",
       "    <tr>\n",
       "      <th id=\"T_88c08_level0_row7\" class=\"row_heading level0 row7\" >6</th>\n",
       "      <td id=\"T_88c08_row7_col0\" class=\"data row7 col0\" >NODEModel</td>\n",
       "      <td id=\"T_88c08_row7_col1\" class=\"data row7 col1\" >696 T</td>\n",
       "      <td id=\"T_88c08_row7_col2\" class=\"data row7 col2\" >56</td>\n",
       "      <td id=\"T_88c08_row7_col3\" class=\"data row7 col3\" >0.507525</td>\n",
       "      <td id=\"T_88c08_row7_col4\" class=\"data row7 col4\" >0.507525</td>\n",
       "      <td id=\"T_88c08_row7_col5\" class=\"data row7 col5\" >0.615534</td>\n",
       "      <td id=\"T_88c08_row7_col6\" class=\"data row7 col6\" >0.712408</td>\n",
       "    </tr>\n",
       "    <tr>\n",
       "      <th id=\"T_88c08_level0_row8\" class=\"row_heading level0 row8\" >4</th>\n",
       "      <td id=\"T_88c08_row8_col0\" class=\"data row8 col0\" >GANDALFModel</td>\n",
       "      <td id=\"T_88c08_row8_col1\" class=\"data row8 col1\" >5 T</td>\n",
       "      <td id=\"T_88c08_row8_col2\" class=\"data row8 col2\" >53</td>\n",
       "      <td id=\"T_88c08_row8_col3\" class=\"data row8 col3\" >14.820548</td>\n",
       "      <td id=\"T_88c08_row8_col4\" class=\"data row8 col4\" >14.820548</td>\n",
       "      <td id=\"T_88c08_row8_col5\" class=\"data row8 col5\" >0.323772</td>\n",
       "      <td id=\"T_88c08_row8_col6\" class=\"data row8 col6\" >3.849746</td>\n",
       "    </tr>\n",
       "  </tbody>\n",
       "</table>\n"
      ],
      "text/plain": [
       "<pandas.io.formats.style.Styler at 0x7d5790ff4310>"
      ]
     },
     "execution_count": 15,
     "metadata": {},
     "output_type": "execute_result"
    }
   ],
   "source": [
    "# Replace \"OOM\" with 0.0\n",
    "sweep_df.replace(['OOM', np.nan], 0.0, inplace=True)\n",
    "sweep_df.replace([np.inf], 999., inplace=True)\n",
    "\n",
    "if model_type == 'regressor':\n",
    "    sweep_df['test_rmse'] = np.sqrt(sweep_df['test_mean_squared_error'])\n",
    "\n",
    "sweep_df.drop(columns=['params', 'time_taken']).sort_values(\n",
    "    'test_accuracy' if model_type == 'classifier' else 'test_loss', ascending=False if model_type == 'classifier' else True).style.background_gradient(\n",
    "    subset=['test_accuracy' if model_type == 'classifier' else 'test_loss'], cmap='RdYlGn'\n",
    ").background_gradient(subset=['time_taken_per_epoch', 'test_loss'], cmap='RdYlGn_r')"
   ]
  },
  {
   "cell_type": "code",
   "execution_count": 16,
   "id": "b72c4c16-0908-4184-85be-d188a30c7aa6",
   "metadata": {},
   "outputs": [
    {
     "data": {
      "text/html": [
       "<pre style=\"white-space:pre;overflow-x:auto;line-height:normal;font-family:Menlo,'DejaVu Sans Mono',consolas,'Courier New',monospace\"><span style=\"color: #008080; text-decoration-color: #008080; font-weight: bold\">2025</span>-<span style=\"color: #008080; text-decoration-color: #008080; font-weight: bold\">05</span>-<span style=\"color: #008080; text-decoration-color: #008080; font-weight: bold\">30</span> <span style=\"color: #00ff00; text-decoration-color: #00ff00; font-weight: bold\">20:34:33</span>,<span style=\"color: #008080; text-decoration-color: #008080; font-weight: bold\">661</span> - <span style=\"font-weight: bold\">{</span>pytorch_tabular.tabular_model:<span style=\"color: #008080; text-decoration-color: #008080; font-weight: bold\">1575</span><span style=\"font-weight: bold\">}</span> - WARNING - Directory is not empty. Overwriting the \n",
       "contents.                                                                                                          \n",
       "</pre>\n"
      ],
      "text/plain": [
       "\u001b[1;36m2025\u001b[0m-\u001b[1;36m05\u001b[0m-\u001b[1;36m30\u001b[0m \u001b[1;92m20:34:33\u001b[0m,\u001b[1;36m661\u001b[0m - \u001b[1m{\u001b[0mpytorch_tabular.tabular_model:\u001b[1;36m1575\u001b[0m\u001b[1m}\u001b[0m - WARNING - Directory is not empty. Overwriting the \n",
       "contents.                                                                                                          \n"
      ]
     },
     "metadata": {},
     "output_type": "display_data"
    }
   ],
   "source": [
    "# Save best model\n",
    "best_model.save_model('results/best_model_pytorch_tabular', inference_only=True)"
   ]
  },
  {
   "cell_type": "markdown",
   "id": "813e3158-0db3-482c-b5eb-9be4b5699f78",
   "metadata": {},
   "source": [
    "### Fine-tuning Hyperparametrs\n",
    "Show, agora que sabemos as melhores arquiteturas para o nosso modelo, podemos brincar com ela(s) para buscar melhores hiperparâmetros para termos resultados ainda melhores. Para isso o Pytorch Tabular disponibilizar a função [tuner](https://pytorch-tabular.readthedocs.io/en/latest/apidocs_coreclasses/#pytorch_tabular.TabularModelTuner.tune)."
   ]
  },
  {
   "cell_type": "markdown",
   "id": "7df8050c-c222-4447-99ab-007b56e6c6a8",
   "metadata": {},
   "source": [
    "Configurações dos modelos: https://pytorch-tabular.readthedocs.io/en/latest/apidocs_model/\n",
    "\n",
    "Mais informações de como o hyperparameter space funcionam: https://pytorch-tabular.readthedocs.io/en/latest/tutorials/10-Hyperparameter%20Tuning/#define-the-hyperparameter-space\n",
    "\n",
    "Neste caso vamos pegar as duas arquiteturas que se sairam bem e brinca com elas."
   ]
  },
  {
   "cell_type": "code",
   "execution_count": 19,
   "id": "e3421d5e-7e46-413f-b0ea-06a7afbdeec0",
   "metadata": {},
   "outputs": [],
   "source": [
    "from pytorch_tabular.tabular_model_tuner import TabularModelTuner\n",
    "\n",
    "from pytorch_tabular.models import (\n",
    "    TabTransformerConfig,\n",
    "    AutoIntConfig\n",
    ")   "
   ]
  },
  {
   "cell_type": "markdown",
   "id": "e76edf9a-901d-4b67-808e-d56809661221",
   "metadata": {},
   "source": [
    "As configurações dos spaces que serão utilizados sempre irão começar com nome da configuração, dois underlines e o parâmetro. Sendo seus valores uma lista com todas as configurações que deseja testar."
   ]
  },
  {
   "cell_type": "code",
   "execution_count": 20,
   "id": "80497ee5-5761-4317-8180-df2fe73437ca",
   "metadata": {},
   "outputs": [],
   "source": [
    "model_config_tab_tramsformer = TabTransformerConfig(task='classification' if model_type == 'classifier' else 'regression')\n",
    "\n",
    "search_space_tab_tramsformer = {\n",
    "    'model_config__input_embed_dim': [16, 32, 64],\n",
    "    'model_config__num_heads': [4, 8, 16]\n",
    "}"
   ]
  },
  {
   "cell_type": "code",
   "execution_count": 21,
   "id": "7c8dacdd-24d3-4de7-bc5e-70fccf73e151",
   "metadata": {},
   "outputs": [],
   "source": [
    "model_config_auto_int = AutoIntConfig(task='classification' if model_type == 'classifier' else 'regression')\n",
    "\n",
    "search_space_auto_int = {\n",
    "    'optimizer_config__optimizer': ['Adam', 'SGD'],\n",
    "    'model_config__layers': ['128-64-32', '1024-512-256'],\n",
    "    'model_config__activation': ['ReLU', 'LeakyReLU']\n",
    "}"
   ]
  },
  {
   "cell_type": "markdown",
   "id": "2d4034f3-946a-480b-888c-0367c35cca54",
   "metadata": {},
   "source": [
    "Para informar o tuner quais arquiteturas e hiperparâmetros testar, é necessário adicioná-los em listas. Ressaltando que ambas listas devem estar ordenadas iguais e ter o mesmo tamanho (irá utilizar primeiro elemento de models com primeiro de search_space, segundo com segundo,...)"
   ]
  },
  {
   "cell_type": "code",
   "execution_count": 22,
   "id": "52004721-37ae-4043-a175-8b9564b3d0db",
   "metadata": {},
   "outputs": [],
   "source": [
    "all_models = [model_config_tab_tramsformer, model_config_auto_int]\n",
    "all_search_space = [search_space_tab_tramsformer, search_space_auto_int]"
   ]
  },
  {
   "cell_type": "markdown",
   "id": "f430eb5c-1704-4c40-a730-4aed62949602",
   "metadata": {},
   "source": [
    "O tuner possui duas \"strategy\" principais:\n",
    "- grid_search: Para pesquisar todos os hiperparâmetros que foram definidos, mas lembre-se que cada novo campo que você adicionar aumentará consideravelmente o tempo total de treinamento. Se você configurar 4 otimizadores, 4 layes, 2 ativações e 2 dropout, isso significa 64 (4 * 4 * 2 * 2) treinamentos.\n",
    "- random_search: Obterá aleatoriamente configurações de hiperparâmetros \"n_trials\" de cada modelo que foi definido. É útil para um treinamento mais rápido, mas lembre-se de que não testará todos os hiperparâmetros."
   ]
  },
  {
   "cell_type": "code",
   "execution_count": 23,
   "id": "9948aea6-f063-4d7a-ac18-78a14ac648e3",
   "metadata": {
    "scrolled": true
   },
   "outputs": [
    {
     "data": {
      "application/vnd.jupyter.widget-view+json": {
       "model_id": "1f105bf622bb469b997c2631f85547f3",
       "version_major": 2,
       "version_minor": 0
      },
      "text/plain": [
       "Output()"
      ]
     },
     "metadata": {},
     "output_type": "display_data"
    },
    {
     "data": {
      "application/vnd.jupyter.widget-view+json": {
       "model_id": "be8f95ac900040e88a8b5cea7c10293c",
       "version_major": 2,
       "version_minor": 0
      },
      "text/plain": [
       "Finding best initial lr:   0%|          | 0/100 [00:00<?, ?it/s]"
      ]
     },
     "metadata": {},
     "output_type": "display_data"
    },
    {
     "data": {
      "text/html": [
       "<pre style=\"white-space:pre;overflow-x:auto;line-height:normal;font-family:Menlo,'DejaVu Sans Mono',consolas,'Courier New',monospace\"><span style=\"color: #008080; text-decoration-color: #008080; font-weight: bold\">2025</span>-<span style=\"color: #008080; text-decoration-color: #008080; font-weight: bold\">05</span>-<span style=\"color: #008080; text-decoration-color: #008080; font-weight: bold\">30</span> <span style=\"color: #00ff00; text-decoration-color: #00ff00; font-weight: bold\">21:18:07</span>,<span style=\"color: #008080; text-decoration-color: #008080; font-weight: bold\">650</span> - <span style=\"font-weight: bold\">{</span>pytorch_tabular.tabular_model_tuner:<span style=\"color: #008080; text-decoration-color: #008080; font-weight: bold\">412</span><span style=\"font-weight: bold\">}</span> - INFO - Trial <span style=\"color: #008080; text-decoration-color: #008080; font-weight: bold\">1</span>/<span style=\"color: #008080; text-decoration-color: #008080; font-weight: bold\">9</span>: <span style=\"font-weight: bold\">{</span><span style=\"color: #008000; text-decoration-color: #008000\">'model'</span>:                  \n",
       "<span style=\"color: #008000; text-decoration-color: #008000\">'0-TabTransformerConfig'</span>, <span style=\"color: #008000; text-decoration-color: #008000\">'model_config__input_embed_dim'</span>: <span style=\"color: #008080; text-decoration-color: #008080; font-weight: bold\">16</span>, <span style=\"color: #008000; text-decoration-color: #008000\">'model_config__num_heads'</span>: <span style=\"color: #008080; text-decoration-color: #008080; font-weight: bold\">4</span>, <span style=\"color: #008000; text-decoration-color: #008000\">'loss'</span>:               \n",
       "<span style=\"color: #008080; text-decoration-color: #008080; font-weight: bold\">0.011915115639567375</span>, <span style=\"color: #008000; text-decoration-color: #008000\">'mean_squared_error'</span>: <span style=\"color: #008080; text-decoration-color: #008080; font-weight: bold\">0.011915115639567375</span>, <span style=\"color: #008000; text-decoration-color: #008000\">'trial_id'</span>: <span style=\"color: #008080; text-decoration-color: #008080; font-weight: bold\">0</span><span style=\"font-weight: bold\">}</span> | Score: <span style=\"color: #008080; text-decoration-color: #008080; font-weight: bold\">0.011915115639567375</span>     \n",
       "</pre>\n"
      ],
      "text/plain": [
       "\u001b[1;36m2025\u001b[0m-\u001b[1;36m05\u001b[0m-\u001b[1;36m30\u001b[0m \u001b[1;92m21:18:07\u001b[0m,\u001b[1;36m650\u001b[0m - \u001b[1m{\u001b[0mpytorch_tabular.tabular_model_tuner:\u001b[1;36m412\u001b[0m\u001b[1m}\u001b[0m - INFO - Trial \u001b[1;36m1\u001b[0m/\u001b[1;36m9\u001b[0m: \u001b[1m{\u001b[0m\u001b[32m'model'\u001b[0m:                  \n",
       "\u001b[32m'0-TabTransformerConfig'\u001b[0m, \u001b[32m'model_config__input_embed_dim'\u001b[0m: \u001b[1;36m16\u001b[0m, \u001b[32m'model_config__num_heads'\u001b[0m: \u001b[1;36m4\u001b[0m, \u001b[32m'loss'\u001b[0m:               \n",
       "\u001b[1;36m0.011915115639567375\u001b[0m, \u001b[32m'mean_squared_error'\u001b[0m: \u001b[1;36m0.011915115639567375\u001b[0m, \u001b[32m'trial_id'\u001b[0m: \u001b[1;36m0\u001b[0m\u001b[1m}\u001b[0m | Score: \u001b[1;36m0.011915115639567375\u001b[0m     \n"
      ]
     },
     "metadata": {},
     "output_type": "display_data"
    },
    {
     "data": {
      "application/vnd.jupyter.widget-view+json": {
       "model_id": "9eba943cc42d474ba9cc3a9ba2d32cf0",
       "version_major": 2,
       "version_minor": 0
      },
      "text/plain": [
       "Finding best initial lr:   0%|          | 0/100 [00:00<?, ?it/s]"
      ]
     },
     "metadata": {},
     "output_type": "display_data"
    },
    {
     "data": {
      "text/html": [
       "<pre style=\"white-space:pre;overflow-x:auto;line-height:normal;font-family:Menlo,'DejaVu Sans Mono',consolas,'Courier New',monospace\"><span style=\"color: #008080; text-decoration-color: #008080; font-weight: bold\">2025</span>-<span style=\"color: #008080; text-decoration-color: #008080; font-weight: bold\">05</span>-<span style=\"color: #008080; text-decoration-color: #008080; font-weight: bold\">30</span> <span style=\"color: #00ff00; text-decoration-color: #00ff00; font-weight: bold\">21:18:22</span>,<span style=\"color: #008080; text-decoration-color: #008080; font-weight: bold\">709</span> - <span style=\"font-weight: bold\">{</span>pytorch_tabular.tabular_model_tuner:<span style=\"color: #008080; text-decoration-color: #008080; font-weight: bold\">412</span><span style=\"font-weight: bold\">}</span> - INFO - Trial <span style=\"color: #008080; text-decoration-color: #008080; font-weight: bold\">2</span>/<span style=\"color: #008080; text-decoration-color: #008080; font-weight: bold\">9</span>: <span style=\"font-weight: bold\">{</span><span style=\"color: #008000; text-decoration-color: #008000\">'model'</span>:                  \n",
       "<span style=\"color: #008000; text-decoration-color: #008000\">'0-TabTransformerConfig'</span>, <span style=\"color: #008000; text-decoration-color: #008000\">'model_config__input_embed_dim'</span>: <span style=\"color: #008080; text-decoration-color: #008080; font-weight: bold\">16</span>, <span style=\"color: #008000; text-decoration-color: #008000\">'model_config__num_heads'</span>: <span style=\"color: #008080; text-decoration-color: #008080; font-weight: bold\">8</span>, <span style=\"color: #008000; text-decoration-color: #008000\">'loss'</span>:               \n",
       "<span style=\"color: #008080; text-decoration-color: #008080; font-weight: bold\">0.04076642170548439</span>, <span style=\"color: #008000; text-decoration-color: #008000\">'mean_squared_error'</span>: <span style=\"color: #008080; text-decoration-color: #008080; font-weight: bold\">0.04076642170548439</span>, <span style=\"color: #008000; text-decoration-color: #008000\">'trial_id'</span>: <span style=\"color: #008080; text-decoration-color: #008080; font-weight: bold\">1</span><span style=\"font-weight: bold\">}</span> | Score: <span style=\"color: #008080; text-decoration-color: #008080; font-weight: bold\">0.04076642170548439</span>        \n",
       "</pre>\n"
      ],
      "text/plain": [
       "\u001b[1;36m2025\u001b[0m-\u001b[1;36m05\u001b[0m-\u001b[1;36m30\u001b[0m \u001b[1;92m21:18:22\u001b[0m,\u001b[1;36m709\u001b[0m - \u001b[1m{\u001b[0mpytorch_tabular.tabular_model_tuner:\u001b[1;36m412\u001b[0m\u001b[1m}\u001b[0m - INFO - Trial \u001b[1;36m2\u001b[0m/\u001b[1;36m9\u001b[0m: \u001b[1m{\u001b[0m\u001b[32m'model'\u001b[0m:                  \n",
       "\u001b[32m'0-TabTransformerConfig'\u001b[0m, \u001b[32m'model_config__input_embed_dim'\u001b[0m: \u001b[1;36m16\u001b[0m, \u001b[32m'model_config__num_heads'\u001b[0m: \u001b[1;36m8\u001b[0m, \u001b[32m'loss'\u001b[0m:               \n",
       "\u001b[1;36m0.04076642170548439\u001b[0m, \u001b[32m'mean_squared_error'\u001b[0m: \u001b[1;36m0.04076642170548439\u001b[0m, \u001b[32m'trial_id'\u001b[0m: \u001b[1;36m1\u001b[0m\u001b[1m}\u001b[0m | Score: \u001b[1;36m0.04076642170548439\u001b[0m        \n"
      ]
     },
     "metadata": {},
     "output_type": "display_data"
    },
    {
     "data": {
      "application/vnd.jupyter.widget-view+json": {
       "model_id": "8dc8238f084243eba139d5e9149c6af4",
       "version_major": 2,
       "version_minor": 0
      },
      "text/plain": [
       "Finding best initial lr:   0%|          | 0/100 [00:00<?, ?it/s]"
      ]
     },
     "metadata": {},
     "output_type": "display_data"
    },
    {
     "data": {
      "text/html": [
       "<pre style=\"white-space:pre;overflow-x:auto;line-height:normal;font-family:Menlo,'DejaVu Sans Mono',consolas,'Courier New',monospace\"><span style=\"color: #008080; text-decoration-color: #008080; font-weight: bold\">2025</span>-<span style=\"color: #008080; text-decoration-color: #008080; font-weight: bold\">05</span>-<span style=\"color: #008080; text-decoration-color: #008080; font-weight: bold\">30</span> <span style=\"color: #00ff00; text-decoration-color: #00ff00; font-weight: bold\">21:18:37</span>,<span style=\"color: #008080; text-decoration-color: #008080; font-weight: bold\">600</span> - <span style=\"font-weight: bold\">{</span>pytorch_tabular.tabular_model_tuner:<span style=\"color: #008080; text-decoration-color: #008080; font-weight: bold\">412</span><span style=\"font-weight: bold\">}</span> - INFO - Trial <span style=\"color: #008080; text-decoration-color: #008080; font-weight: bold\">3</span>/<span style=\"color: #008080; text-decoration-color: #008080; font-weight: bold\">9</span>: <span style=\"font-weight: bold\">{</span><span style=\"color: #008000; text-decoration-color: #008000\">'model'</span>:                  \n",
       "<span style=\"color: #008000; text-decoration-color: #008000\">'0-TabTransformerConfig'</span>, <span style=\"color: #008000; text-decoration-color: #008000\">'model_config__input_embed_dim'</span>: <span style=\"color: #008080; text-decoration-color: #008080; font-weight: bold\">16</span>, <span style=\"color: #008000; text-decoration-color: #008000\">'model_config__num_heads'</span>: <span style=\"color: #008080; text-decoration-color: #008080; font-weight: bold\">16</span>, <span style=\"color: #008000; text-decoration-color: #008000\">'loss'</span>:              \n",
       "<span style=\"color: #008080; text-decoration-color: #008080; font-weight: bold\">0.009496028535068035</span>, <span style=\"color: #008000; text-decoration-color: #008000\">'mean_squared_error'</span>: <span style=\"color: #008080; text-decoration-color: #008080; font-weight: bold\">0.009496028535068035</span>, <span style=\"color: #008000; text-decoration-color: #008000\">'trial_id'</span>: <span style=\"color: #008080; text-decoration-color: #008080; font-weight: bold\">2</span><span style=\"font-weight: bold\">}</span> | Score: <span style=\"color: #008080; text-decoration-color: #008080; font-weight: bold\">0.009496028535068035</span>     \n",
       "</pre>\n"
      ],
      "text/plain": [
       "\u001b[1;36m2025\u001b[0m-\u001b[1;36m05\u001b[0m-\u001b[1;36m30\u001b[0m \u001b[1;92m21:18:37\u001b[0m,\u001b[1;36m600\u001b[0m - \u001b[1m{\u001b[0mpytorch_tabular.tabular_model_tuner:\u001b[1;36m412\u001b[0m\u001b[1m}\u001b[0m - INFO - Trial \u001b[1;36m3\u001b[0m/\u001b[1;36m9\u001b[0m: \u001b[1m{\u001b[0m\u001b[32m'model'\u001b[0m:                  \n",
       "\u001b[32m'0-TabTransformerConfig'\u001b[0m, \u001b[32m'model_config__input_embed_dim'\u001b[0m: \u001b[1;36m16\u001b[0m, \u001b[32m'model_config__num_heads'\u001b[0m: \u001b[1;36m16\u001b[0m, \u001b[32m'loss'\u001b[0m:              \n",
       "\u001b[1;36m0.009496028535068035\u001b[0m, \u001b[32m'mean_squared_error'\u001b[0m: \u001b[1;36m0.009496028535068035\u001b[0m, \u001b[32m'trial_id'\u001b[0m: \u001b[1;36m2\u001b[0m\u001b[1m}\u001b[0m | Score: \u001b[1;36m0.009496028535068035\u001b[0m     \n"
      ]
     },
     "metadata": {},
     "output_type": "display_data"
    },
    {
     "data": {
      "application/vnd.jupyter.widget-view+json": {
       "model_id": "0ae9b08c2f79475ebe489dbf6c835966",
       "version_major": 2,
       "version_minor": 0
      },
      "text/plain": [
       "Finding best initial lr:   0%|          | 0/100 [00:00<?, ?it/s]"
      ]
     },
     "metadata": {},
     "output_type": "display_data"
    },
    {
     "data": {
      "text/html": [
       "<pre style=\"white-space:pre;overflow-x:auto;line-height:normal;font-family:Menlo,'DejaVu Sans Mono',consolas,'Courier New',monospace\"><span style=\"color: #008080; text-decoration-color: #008080; font-weight: bold\">2025</span>-<span style=\"color: #008080; text-decoration-color: #008080; font-weight: bold\">05</span>-<span style=\"color: #008080; text-decoration-color: #008080; font-weight: bold\">30</span> <span style=\"color: #00ff00; text-decoration-color: #00ff00; font-weight: bold\">21:18:52</span>,<span style=\"color: #008080; text-decoration-color: #008080; font-weight: bold\">667</span> - <span style=\"font-weight: bold\">{</span>pytorch_tabular.tabular_model_tuner:<span style=\"color: #008080; text-decoration-color: #008080; font-weight: bold\">412</span><span style=\"font-weight: bold\">}</span> - INFO - Trial <span style=\"color: #008080; text-decoration-color: #008080; font-weight: bold\">4</span>/<span style=\"color: #008080; text-decoration-color: #008080; font-weight: bold\">9</span>: <span style=\"font-weight: bold\">{</span><span style=\"color: #008000; text-decoration-color: #008000\">'model'</span>:                  \n",
       "<span style=\"color: #008000; text-decoration-color: #008000\">'0-TabTransformerConfig'</span>, <span style=\"color: #008000; text-decoration-color: #008000\">'model_config__input_embed_dim'</span>: <span style=\"color: #008080; text-decoration-color: #008080; font-weight: bold\">32</span>, <span style=\"color: #008000; text-decoration-color: #008000\">'model_config__num_heads'</span>: <span style=\"color: #008080; text-decoration-color: #008080; font-weight: bold\">4</span>, <span style=\"color: #008000; text-decoration-color: #008000\">'loss'</span>:               \n",
       "<span style=\"color: #008080; text-decoration-color: #008080; font-weight: bold\">0.02932860516011715</span>, <span style=\"color: #008000; text-decoration-color: #008000\">'mean_squared_error'</span>: <span style=\"color: #008080; text-decoration-color: #008080; font-weight: bold\">0.02932860516011715</span>, <span style=\"color: #008000; text-decoration-color: #008000\">'trial_id'</span>: <span style=\"color: #008080; text-decoration-color: #008080; font-weight: bold\">3</span><span style=\"font-weight: bold\">}</span> | Score: <span style=\"color: #008080; text-decoration-color: #008080; font-weight: bold\">0.02932860516011715</span>        \n",
       "</pre>\n"
      ],
      "text/plain": [
       "\u001b[1;36m2025\u001b[0m-\u001b[1;36m05\u001b[0m-\u001b[1;36m30\u001b[0m \u001b[1;92m21:18:52\u001b[0m,\u001b[1;36m667\u001b[0m - \u001b[1m{\u001b[0mpytorch_tabular.tabular_model_tuner:\u001b[1;36m412\u001b[0m\u001b[1m}\u001b[0m - INFO - Trial \u001b[1;36m4\u001b[0m/\u001b[1;36m9\u001b[0m: \u001b[1m{\u001b[0m\u001b[32m'model'\u001b[0m:                  \n",
       "\u001b[32m'0-TabTransformerConfig'\u001b[0m, \u001b[32m'model_config__input_embed_dim'\u001b[0m: \u001b[1;36m32\u001b[0m, \u001b[32m'model_config__num_heads'\u001b[0m: \u001b[1;36m4\u001b[0m, \u001b[32m'loss'\u001b[0m:               \n",
       "\u001b[1;36m0.02932860516011715\u001b[0m, \u001b[32m'mean_squared_error'\u001b[0m: \u001b[1;36m0.02932860516011715\u001b[0m, \u001b[32m'trial_id'\u001b[0m: \u001b[1;36m3\u001b[0m\u001b[1m}\u001b[0m | Score: \u001b[1;36m0.02932860516011715\u001b[0m        \n"
      ]
     },
     "metadata": {},
     "output_type": "display_data"
    },
    {
     "data": {
      "application/vnd.jupyter.widget-view+json": {
       "model_id": "71c9216185604061b0a9e822ec67e1f2",
       "version_major": 2,
       "version_minor": 0
      },
      "text/plain": [
       "Finding best initial lr:   0%|          | 0/100 [00:00<?, ?it/s]"
      ]
     },
     "metadata": {},
     "output_type": "display_data"
    },
    {
     "data": {
      "text/html": [
       "<pre style=\"white-space:pre;overflow-x:auto;line-height:normal;font-family:Menlo,'DejaVu Sans Mono',consolas,'Courier New',monospace\"><span style=\"color: #008080; text-decoration-color: #008080; font-weight: bold\">2025</span>-<span style=\"color: #008080; text-decoration-color: #008080; font-weight: bold\">05</span>-<span style=\"color: #008080; text-decoration-color: #008080; font-weight: bold\">30</span> <span style=\"color: #00ff00; text-decoration-color: #00ff00; font-weight: bold\">21:19:07</span>,<span style=\"color: #008080; text-decoration-color: #008080; font-weight: bold\">443</span> - <span style=\"font-weight: bold\">{</span>pytorch_tabular.tabular_model_tuner:<span style=\"color: #008080; text-decoration-color: #008080; font-weight: bold\">412</span><span style=\"font-weight: bold\">}</span> - INFO - Trial <span style=\"color: #008080; text-decoration-color: #008080; font-weight: bold\">5</span>/<span style=\"color: #008080; text-decoration-color: #008080; font-weight: bold\">9</span>: <span style=\"font-weight: bold\">{</span><span style=\"color: #008000; text-decoration-color: #008000\">'model'</span>:                  \n",
       "<span style=\"color: #008000; text-decoration-color: #008000\">'0-TabTransformerConfig'</span>, <span style=\"color: #008000; text-decoration-color: #008000\">'model_config__input_embed_dim'</span>: <span style=\"color: #008080; text-decoration-color: #008080; font-weight: bold\">32</span>, <span style=\"color: #008000; text-decoration-color: #008000\">'model_config__num_heads'</span>: <span style=\"color: #008080; text-decoration-color: #008080; font-weight: bold\">8</span>, <span style=\"color: #008000; text-decoration-color: #008000\">'loss'</span>:               \n",
       "<span style=\"color: #008080; text-decoration-color: #008080; font-weight: bold\">0.020879266783595085</span>, <span style=\"color: #008000; text-decoration-color: #008000\">'mean_squared_error'</span>: <span style=\"color: #008080; text-decoration-color: #008080; font-weight: bold\">0.020879266783595085</span>, <span style=\"color: #008000; text-decoration-color: #008000\">'trial_id'</span>: <span style=\"color: #008080; text-decoration-color: #008080; font-weight: bold\">4</span><span style=\"font-weight: bold\">}</span> | Score: <span style=\"color: #008080; text-decoration-color: #008080; font-weight: bold\">0.020879266783595085</span>     \n",
       "</pre>\n"
      ],
      "text/plain": [
       "\u001b[1;36m2025\u001b[0m-\u001b[1;36m05\u001b[0m-\u001b[1;36m30\u001b[0m \u001b[1;92m21:19:07\u001b[0m,\u001b[1;36m443\u001b[0m - \u001b[1m{\u001b[0mpytorch_tabular.tabular_model_tuner:\u001b[1;36m412\u001b[0m\u001b[1m}\u001b[0m - INFO - Trial \u001b[1;36m5\u001b[0m/\u001b[1;36m9\u001b[0m: \u001b[1m{\u001b[0m\u001b[32m'model'\u001b[0m:                  \n",
       "\u001b[32m'0-TabTransformerConfig'\u001b[0m, \u001b[32m'model_config__input_embed_dim'\u001b[0m: \u001b[1;36m32\u001b[0m, \u001b[32m'model_config__num_heads'\u001b[0m: \u001b[1;36m8\u001b[0m, \u001b[32m'loss'\u001b[0m:               \n",
       "\u001b[1;36m0.020879266783595085\u001b[0m, \u001b[32m'mean_squared_error'\u001b[0m: \u001b[1;36m0.020879266783595085\u001b[0m, \u001b[32m'trial_id'\u001b[0m: \u001b[1;36m4\u001b[0m\u001b[1m}\u001b[0m | Score: \u001b[1;36m0.020879266783595085\u001b[0m     \n"
      ]
     },
     "metadata": {},
     "output_type": "display_data"
    },
    {
     "data": {
      "application/vnd.jupyter.widget-view+json": {
       "model_id": "e015c90ceaf849caa12a6e99776ef8a3",
       "version_major": 2,
       "version_minor": 0
      },
      "text/plain": [
       "Finding best initial lr:   0%|          | 0/100 [00:00<?, ?it/s]"
      ]
     },
     "metadata": {},
     "output_type": "display_data"
    },
    {
     "data": {
      "text/html": [
       "<pre style=\"white-space:pre;overflow-x:auto;line-height:normal;font-family:Menlo,'DejaVu Sans Mono',consolas,'Courier New',monospace\"><span style=\"color: #008080; text-decoration-color: #008080; font-weight: bold\">2025</span>-<span style=\"color: #008080; text-decoration-color: #008080; font-weight: bold\">05</span>-<span style=\"color: #008080; text-decoration-color: #008080; font-weight: bold\">30</span> <span style=\"color: #00ff00; text-decoration-color: #00ff00; font-weight: bold\">21:19:22</span>,<span style=\"color: #008080; text-decoration-color: #008080; font-weight: bold\">262</span> - <span style=\"font-weight: bold\">{</span>pytorch_tabular.tabular_model_tuner:<span style=\"color: #008080; text-decoration-color: #008080; font-weight: bold\">412</span><span style=\"font-weight: bold\">}</span> - INFO - Trial <span style=\"color: #008080; text-decoration-color: #008080; font-weight: bold\">6</span>/<span style=\"color: #008080; text-decoration-color: #008080; font-weight: bold\">9</span>: <span style=\"font-weight: bold\">{</span><span style=\"color: #008000; text-decoration-color: #008000\">'model'</span>:                  \n",
       "<span style=\"color: #008000; text-decoration-color: #008000\">'0-TabTransformerConfig'</span>, <span style=\"color: #008000; text-decoration-color: #008000\">'model_config__input_embed_dim'</span>: <span style=\"color: #008080; text-decoration-color: #008080; font-weight: bold\">32</span>, <span style=\"color: #008000; text-decoration-color: #008000\">'model_config__num_heads'</span>: <span style=\"color: #008080; text-decoration-color: #008080; font-weight: bold\">16</span>, <span style=\"color: #008000; text-decoration-color: #008000\">'loss'</span>:              \n",
       "<span style=\"color: #008080; text-decoration-color: #008080; font-weight: bold\">0.011646537110209465</span>, <span style=\"color: #008000; text-decoration-color: #008000\">'mean_squared_error'</span>: <span style=\"color: #008080; text-decoration-color: #008080; font-weight: bold\">0.011646537110209465</span>, <span style=\"color: #008000; text-decoration-color: #008000\">'trial_id'</span>: <span style=\"color: #008080; text-decoration-color: #008080; font-weight: bold\">5</span><span style=\"font-weight: bold\">}</span> | Score: <span style=\"color: #008080; text-decoration-color: #008080; font-weight: bold\">0.011646537110209465</span>     \n",
       "</pre>\n"
      ],
      "text/plain": [
       "\u001b[1;36m2025\u001b[0m-\u001b[1;36m05\u001b[0m-\u001b[1;36m30\u001b[0m \u001b[1;92m21:19:22\u001b[0m,\u001b[1;36m262\u001b[0m - \u001b[1m{\u001b[0mpytorch_tabular.tabular_model_tuner:\u001b[1;36m412\u001b[0m\u001b[1m}\u001b[0m - INFO - Trial \u001b[1;36m6\u001b[0m/\u001b[1;36m9\u001b[0m: \u001b[1m{\u001b[0m\u001b[32m'model'\u001b[0m:                  \n",
       "\u001b[32m'0-TabTransformerConfig'\u001b[0m, \u001b[32m'model_config__input_embed_dim'\u001b[0m: \u001b[1;36m32\u001b[0m, \u001b[32m'model_config__num_heads'\u001b[0m: \u001b[1;36m16\u001b[0m, \u001b[32m'loss'\u001b[0m:              \n",
       "\u001b[1;36m0.011646537110209465\u001b[0m, \u001b[32m'mean_squared_error'\u001b[0m: \u001b[1;36m0.011646537110209465\u001b[0m, \u001b[32m'trial_id'\u001b[0m: \u001b[1;36m5\u001b[0m\u001b[1m}\u001b[0m | Score: \u001b[1;36m0.011646537110209465\u001b[0m     \n"
      ]
     },
     "metadata": {},
     "output_type": "display_data"
    },
    {
     "data": {
      "application/vnd.jupyter.widget-view+json": {
       "model_id": "66bbb1463cbd4c508e636a88097c422a",
       "version_major": 2,
       "version_minor": 0
      },
      "text/plain": [
       "Finding best initial lr:   0%|          | 0/100 [00:00<?, ?it/s]"
      ]
     },
     "metadata": {},
     "output_type": "display_data"
    },
    {
     "data": {
      "text/html": [
       "<pre style=\"white-space:pre;overflow-x:auto;line-height:normal;font-family:Menlo,'DejaVu Sans Mono',consolas,'Courier New',monospace\"><span style=\"color: #008080; text-decoration-color: #008080; font-weight: bold\">2025</span>-<span style=\"color: #008080; text-decoration-color: #008080; font-weight: bold\">05</span>-<span style=\"color: #008080; text-decoration-color: #008080; font-weight: bold\">30</span> <span style=\"color: #00ff00; text-decoration-color: #00ff00; font-weight: bold\">21:19:37</span>,<span style=\"color: #008080; text-decoration-color: #008080; font-weight: bold\">146</span> - <span style=\"font-weight: bold\">{</span>pytorch_tabular.tabular_model_tuner:<span style=\"color: #008080; text-decoration-color: #008080; font-weight: bold\">412</span><span style=\"font-weight: bold\">}</span> - INFO - Trial <span style=\"color: #008080; text-decoration-color: #008080; font-weight: bold\">7</span>/<span style=\"color: #008080; text-decoration-color: #008080; font-weight: bold\">9</span>: <span style=\"font-weight: bold\">{</span><span style=\"color: #008000; text-decoration-color: #008000\">'model'</span>:                  \n",
       "<span style=\"color: #008000; text-decoration-color: #008000\">'0-TabTransformerConfig'</span>, <span style=\"color: #008000; text-decoration-color: #008000\">'model_config__input_embed_dim'</span>: <span style=\"color: #008080; text-decoration-color: #008080; font-weight: bold\">64</span>, <span style=\"color: #008000; text-decoration-color: #008000\">'model_config__num_heads'</span>: <span style=\"color: #008080; text-decoration-color: #008080; font-weight: bold\">4</span>, <span style=\"color: #008000; text-decoration-color: #008000\">'loss'</span>:               \n",
       "<span style=\"color: #008080; text-decoration-color: #008080; font-weight: bold\">0.010589072480797768</span>, <span style=\"color: #008000; text-decoration-color: #008000\">'mean_squared_error'</span>: <span style=\"color: #008080; text-decoration-color: #008080; font-weight: bold\">0.010589072480797768</span>, <span style=\"color: #008000; text-decoration-color: #008000\">'trial_id'</span>: <span style=\"color: #008080; text-decoration-color: #008080; font-weight: bold\">6</span><span style=\"font-weight: bold\">}</span> | Score: <span style=\"color: #008080; text-decoration-color: #008080; font-weight: bold\">0.010589072480797768</span>     \n",
       "</pre>\n"
      ],
      "text/plain": [
       "\u001b[1;36m2025\u001b[0m-\u001b[1;36m05\u001b[0m-\u001b[1;36m30\u001b[0m \u001b[1;92m21:19:37\u001b[0m,\u001b[1;36m146\u001b[0m - \u001b[1m{\u001b[0mpytorch_tabular.tabular_model_tuner:\u001b[1;36m412\u001b[0m\u001b[1m}\u001b[0m - INFO - Trial \u001b[1;36m7\u001b[0m/\u001b[1;36m9\u001b[0m: \u001b[1m{\u001b[0m\u001b[32m'model'\u001b[0m:                  \n",
       "\u001b[32m'0-TabTransformerConfig'\u001b[0m, \u001b[32m'model_config__input_embed_dim'\u001b[0m: \u001b[1;36m64\u001b[0m, \u001b[32m'model_config__num_heads'\u001b[0m: \u001b[1;36m4\u001b[0m, \u001b[32m'loss'\u001b[0m:               \n",
       "\u001b[1;36m0.010589072480797768\u001b[0m, \u001b[32m'mean_squared_error'\u001b[0m: \u001b[1;36m0.010589072480797768\u001b[0m, \u001b[32m'trial_id'\u001b[0m: \u001b[1;36m6\u001b[0m\u001b[1m}\u001b[0m | Score: \u001b[1;36m0.010589072480797768\u001b[0m     \n"
      ]
     },
     "metadata": {},
     "output_type": "display_data"
    },
    {
     "data": {
      "application/vnd.jupyter.widget-view+json": {
       "model_id": "af7e7d7f7f394ed7b1a5b7ea0cefaf5c",
       "version_major": 2,
       "version_minor": 0
      },
      "text/plain": [
       "Finding best initial lr:   0%|          | 0/100 [00:00<?, ?it/s]"
      ]
     },
     "metadata": {},
     "output_type": "display_data"
    },
    {
     "data": {
      "text/html": [
       "<pre style=\"white-space:pre;overflow-x:auto;line-height:normal;font-family:Menlo,'DejaVu Sans Mono',consolas,'Courier New',monospace\"><span style=\"color: #008080; text-decoration-color: #008080; font-weight: bold\">2025</span>-<span style=\"color: #008080; text-decoration-color: #008080; font-weight: bold\">05</span>-<span style=\"color: #008080; text-decoration-color: #008080; font-weight: bold\">30</span> <span style=\"color: #00ff00; text-decoration-color: #00ff00; font-weight: bold\">21:19:52</span>,<span style=\"color: #008080; text-decoration-color: #008080; font-weight: bold\">099</span> - <span style=\"font-weight: bold\">{</span>pytorch_tabular.tabular_model_tuner:<span style=\"color: #008080; text-decoration-color: #008080; font-weight: bold\">412</span><span style=\"font-weight: bold\">}</span> - INFO - Trial <span style=\"color: #008080; text-decoration-color: #008080; font-weight: bold\">8</span>/<span style=\"color: #008080; text-decoration-color: #008080; font-weight: bold\">9</span>: <span style=\"font-weight: bold\">{</span><span style=\"color: #008000; text-decoration-color: #008000\">'model'</span>:                  \n",
       "<span style=\"color: #008000; text-decoration-color: #008000\">'0-TabTransformerConfig'</span>, <span style=\"color: #008000; text-decoration-color: #008000\">'model_config__input_embed_dim'</span>: <span style=\"color: #008080; text-decoration-color: #008080; font-weight: bold\">64</span>, <span style=\"color: #008000; text-decoration-color: #008000\">'model_config__num_heads'</span>: <span style=\"color: #008080; text-decoration-color: #008080; font-weight: bold\">8</span>, <span style=\"color: #008000; text-decoration-color: #008000\">'loss'</span>:               \n",
       "<span style=\"color: #008080; text-decoration-color: #008080; font-weight: bold\">0.010751110501587391</span>, <span style=\"color: #008000; text-decoration-color: #008000\">'mean_squared_error'</span>: <span style=\"color: #008080; text-decoration-color: #008080; font-weight: bold\">0.010751110501587391</span>, <span style=\"color: #008000; text-decoration-color: #008000\">'trial_id'</span>: <span style=\"color: #008080; text-decoration-color: #008080; font-weight: bold\">7</span><span style=\"font-weight: bold\">}</span> | Score: <span style=\"color: #008080; text-decoration-color: #008080; font-weight: bold\">0.010751110501587391</span>     \n",
       "</pre>\n"
      ],
      "text/plain": [
       "\u001b[1;36m2025\u001b[0m-\u001b[1;36m05\u001b[0m-\u001b[1;36m30\u001b[0m \u001b[1;92m21:19:52\u001b[0m,\u001b[1;36m099\u001b[0m - \u001b[1m{\u001b[0mpytorch_tabular.tabular_model_tuner:\u001b[1;36m412\u001b[0m\u001b[1m}\u001b[0m - INFO - Trial \u001b[1;36m8\u001b[0m/\u001b[1;36m9\u001b[0m: \u001b[1m{\u001b[0m\u001b[32m'model'\u001b[0m:                  \n",
       "\u001b[32m'0-TabTransformerConfig'\u001b[0m, \u001b[32m'model_config__input_embed_dim'\u001b[0m: \u001b[1;36m64\u001b[0m, \u001b[32m'model_config__num_heads'\u001b[0m: \u001b[1;36m8\u001b[0m, \u001b[32m'loss'\u001b[0m:               \n",
       "\u001b[1;36m0.010751110501587391\u001b[0m, \u001b[32m'mean_squared_error'\u001b[0m: \u001b[1;36m0.010751110501587391\u001b[0m, \u001b[32m'trial_id'\u001b[0m: \u001b[1;36m7\u001b[0m\u001b[1m}\u001b[0m | Score: \u001b[1;36m0.010751110501587391\u001b[0m     \n"
      ]
     },
     "metadata": {},
     "output_type": "display_data"
    },
    {
     "data": {
      "application/vnd.jupyter.widget-view+json": {
       "model_id": "dbf40f686b1b44cca157f92c5eebcb9c",
       "version_major": 2,
       "version_minor": 0
      },
      "text/plain": [
       "Finding best initial lr:   0%|          | 0/100 [00:00<?, ?it/s]"
      ]
     },
     "metadata": {},
     "output_type": "display_data"
    },
    {
     "data": {
      "text/html": [
       "<pre style=\"white-space:pre;overflow-x:auto;line-height:normal;font-family:Menlo,'DejaVu Sans Mono',consolas,'Courier New',monospace\"><span style=\"color: #008080; text-decoration-color: #008080; font-weight: bold\">2025</span>-<span style=\"color: #008080; text-decoration-color: #008080; font-weight: bold\">05</span>-<span style=\"color: #008080; text-decoration-color: #008080; font-weight: bold\">30</span> <span style=\"color: #00ff00; text-decoration-color: #00ff00; font-weight: bold\">21:20:07</span>,<span style=\"color: #008080; text-decoration-color: #008080; font-weight: bold\">086</span> - <span style=\"font-weight: bold\">{</span>pytorch_tabular.tabular_model_tuner:<span style=\"color: #008080; text-decoration-color: #008080; font-weight: bold\">412</span><span style=\"font-weight: bold\">}</span> - INFO - Trial <span style=\"color: #008080; text-decoration-color: #008080; font-weight: bold\">9</span>/<span style=\"color: #008080; text-decoration-color: #008080; font-weight: bold\">9</span>: <span style=\"font-weight: bold\">{</span><span style=\"color: #008000; text-decoration-color: #008000\">'model'</span>:                  \n",
       "<span style=\"color: #008000; text-decoration-color: #008000\">'0-TabTransformerConfig'</span>, <span style=\"color: #008000; text-decoration-color: #008000\">'model_config__input_embed_dim'</span>: <span style=\"color: #008080; text-decoration-color: #008080; font-weight: bold\">64</span>, <span style=\"color: #008000; text-decoration-color: #008000\">'model_config__num_heads'</span>: <span style=\"color: #008080; text-decoration-color: #008080; font-weight: bold\">16</span>, <span style=\"color: #008000; text-decoration-color: #008000\">'loss'</span>:              \n",
       "<span style=\"color: #008080; text-decoration-color: #008080; font-weight: bold\">0.015686890110373497</span>, <span style=\"color: #008000; text-decoration-color: #008000\">'mean_squared_error'</span>: <span style=\"color: #008080; text-decoration-color: #008080; font-weight: bold\">0.015686890110373497</span>, <span style=\"color: #008000; text-decoration-color: #008000\">'trial_id'</span>: <span style=\"color: #008080; text-decoration-color: #008080; font-weight: bold\">8</span><span style=\"font-weight: bold\">}</span> | Score: <span style=\"color: #008080; text-decoration-color: #008080; font-weight: bold\">0.015686890110373497</span>     \n",
       "</pre>\n"
      ],
      "text/plain": [
       "\u001b[1;36m2025\u001b[0m-\u001b[1;36m05\u001b[0m-\u001b[1;36m30\u001b[0m \u001b[1;92m21:20:07\u001b[0m,\u001b[1;36m086\u001b[0m - \u001b[1m{\u001b[0mpytorch_tabular.tabular_model_tuner:\u001b[1;36m412\u001b[0m\u001b[1m}\u001b[0m - INFO - Trial \u001b[1;36m9\u001b[0m/\u001b[1;36m9\u001b[0m: \u001b[1m{\u001b[0m\u001b[32m'model'\u001b[0m:                  \n",
       "\u001b[32m'0-TabTransformerConfig'\u001b[0m, \u001b[32m'model_config__input_embed_dim'\u001b[0m: \u001b[1;36m64\u001b[0m, \u001b[32m'model_config__num_heads'\u001b[0m: \u001b[1;36m16\u001b[0m, \u001b[32m'loss'\u001b[0m:              \n",
       "\u001b[1;36m0.015686890110373497\u001b[0m, \u001b[32m'mean_squared_error'\u001b[0m: \u001b[1;36m0.015686890110373497\u001b[0m, \u001b[32m'trial_id'\u001b[0m: \u001b[1;36m8\u001b[0m\u001b[1m}\u001b[0m | Score: \u001b[1;36m0.015686890110373497\u001b[0m     \n"
      ]
     },
     "metadata": {},
     "output_type": "display_data"
    },
    {
     "data": {
      "application/vnd.jupyter.widget-view+json": {
       "model_id": "e8e0f97fa4d549419b890cb1bde00a24",
       "version_major": 2,
       "version_minor": 0
      },
      "text/plain": [
       "Finding best initial lr:   0%|          | 0/100 [00:00<?, ?it/s]"
      ]
     },
     "metadata": {},
     "output_type": "display_data"
    },
    {
     "data": {
      "text/html": [
       "<pre style=\"white-space:pre;overflow-x:auto;line-height:normal;font-family:Menlo,'DejaVu Sans Mono',consolas,'Courier New',monospace\"><span style=\"color: #008080; text-decoration-color: #008080; font-weight: bold\">2025</span>-<span style=\"color: #008080; text-decoration-color: #008080; font-weight: bold\">05</span>-<span style=\"color: #008080; text-decoration-color: #008080; font-weight: bold\">30</span> <span style=\"color: #00ff00; text-decoration-color: #00ff00; font-weight: bold\">21:20:32</span>,<span style=\"color: #008080; text-decoration-color: #008080; font-weight: bold\">320</span> - <span style=\"font-weight: bold\">{</span>pytorch_tabular.tabular_model_tuner:<span style=\"color: #008080; text-decoration-color: #008080; font-weight: bold\">412</span><span style=\"font-weight: bold\">}</span> - INFO - Trial <span style=\"color: #008080; text-decoration-color: #008080; font-weight: bold\">1</span>/<span style=\"color: #008080; text-decoration-color: #008080; font-weight: bold\">8</span>: <span style=\"font-weight: bold\">{</span><span style=\"color: #008000; text-decoration-color: #008000\">'model'</span>:                  \n",
       "<span style=\"color: #008000; text-decoration-color: #008000\">'1-AutoIntConfig'</span>, <span style=\"color: #008000; text-decoration-color: #008000\">'model_config__activation'</span>: <span style=\"color: #008000; text-decoration-color: #008000\">'ReLU'</span>, <span style=\"color: #008000; text-decoration-color: #008000\">'model_config__layers'</span>: <span style=\"color: #008000; text-decoration-color: #008000\">'128-64-32'</span>,                        \n",
       "<span style=\"color: #008000; text-decoration-color: #008000\">'optimizer_config__optimizer'</span>: <span style=\"color: #008000; text-decoration-color: #008000\">'Adam'</span>, <span style=\"color: #008000; text-decoration-color: #008000\">'loss'</span>: <span style=\"color: #008080; text-decoration-color: #008080; font-weight: bold\">0.015846610069274902</span>, <span style=\"color: #008000; text-decoration-color: #008000\">'mean_squared_error'</span>: <span style=\"color: #008080; text-decoration-color: #008080; font-weight: bold\">0.015846610069274902</span>,   \n",
       "<span style=\"color: #008000; text-decoration-color: #008000\">'trial_id'</span>: <span style=\"color: #008080; text-decoration-color: #008080; font-weight: bold\">0</span><span style=\"font-weight: bold\">}</span> | Score: <span style=\"color: #008080; text-decoration-color: #008080; font-weight: bold\">0.015846610069274902</span>                                                                       \n",
       "</pre>\n"
      ],
      "text/plain": [
       "\u001b[1;36m2025\u001b[0m-\u001b[1;36m05\u001b[0m-\u001b[1;36m30\u001b[0m \u001b[1;92m21:20:32\u001b[0m,\u001b[1;36m320\u001b[0m - \u001b[1m{\u001b[0mpytorch_tabular.tabular_model_tuner:\u001b[1;36m412\u001b[0m\u001b[1m}\u001b[0m - INFO - Trial \u001b[1;36m1\u001b[0m/\u001b[1;36m8\u001b[0m: \u001b[1m{\u001b[0m\u001b[32m'model'\u001b[0m:                  \n",
       "\u001b[32m'1-AutoIntConfig'\u001b[0m, \u001b[32m'model_config__activation'\u001b[0m: \u001b[32m'ReLU'\u001b[0m, \u001b[32m'model_config__layers'\u001b[0m: \u001b[32m'128-64-32'\u001b[0m,                        \n",
       "\u001b[32m'optimizer_config__optimizer'\u001b[0m: \u001b[32m'Adam'\u001b[0m, \u001b[32m'loss'\u001b[0m: \u001b[1;36m0.015846610069274902\u001b[0m, \u001b[32m'mean_squared_error'\u001b[0m: \u001b[1;36m0.015846610069274902\u001b[0m,   \n",
       "\u001b[32m'trial_id'\u001b[0m: \u001b[1;36m0\u001b[0m\u001b[1m}\u001b[0m | Score: \u001b[1;36m0.015846610069274902\u001b[0m                                                                       \n"
      ]
     },
     "metadata": {},
     "output_type": "display_data"
    },
    {
     "data": {
      "application/vnd.jupyter.widget-view+json": {
       "model_id": "41c5aedaaa334726b91c9a0d53fac5a5",
       "version_major": 2,
       "version_minor": 0
      },
      "text/plain": [
       "Finding best initial lr:   0%|          | 0/100 [00:00<?, ?it/s]"
      ]
     },
     "metadata": {},
     "output_type": "display_data"
    },
    {
     "data": {
      "text/html": [
       "<pre style=\"white-space:pre;overflow-x:auto;line-height:normal;font-family:Menlo,'DejaVu Sans Mono',consolas,'Courier New',monospace\"><span style=\"color: #008080; text-decoration-color: #008080; font-weight: bold\">2025</span>-<span style=\"color: #008080; text-decoration-color: #008080; font-weight: bold\">05</span>-<span style=\"color: #008080; text-decoration-color: #008080; font-weight: bold\">30</span> <span style=\"color: #00ff00; text-decoration-color: #00ff00; font-weight: bold\">21:21:07</span>,<span style=\"color: #008080; text-decoration-color: #008080; font-weight: bold\">065</span> - <span style=\"font-weight: bold\">{</span>pytorch_tabular.tabular_model_tuner:<span style=\"color: #008080; text-decoration-color: #008080; font-weight: bold\">412</span><span style=\"font-weight: bold\">}</span> - INFO - Trial <span style=\"color: #008080; text-decoration-color: #008080; font-weight: bold\">2</span>/<span style=\"color: #008080; text-decoration-color: #008080; font-weight: bold\">8</span>: <span style=\"font-weight: bold\">{</span><span style=\"color: #008000; text-decoration-color: #008000\">'model'</span>:                  \n",
       "<span style=\"color: #008000; text-decoration-color: #008000\">'1-AutoIntConfig'</span>, <span style=\"color: #008000; text-decoration-color: #008000\">'model_config__activation'</span>: <span style=\"color: #008000; text-decoration-color: #008000\">'ReLU'</span>, <span style=\"color: #008000; text-decoration-color: #008000\">'model_config__layers'</span>: <span style=\"color: #008000; text-decoration-color: #008000\">'128-64-32'</span>,                        \n",
       "<span style=\"color: #008000; text-decoration-color: #008000\">'optimizer_config__optimizer'</span>: <span style=\"color: #008000; text-decoration-color: #008000\">'SGD'</span>, <span style=\"color: #008000; text-decoration-color: #008000\">'loss'</span>: <span style=\"color: #008080; text-decoration-color: #008080; font-weight: bold\">0.01912073791027069</span>, <span style=\"color: #008000; text-decoration-color: #008000\">'mean_squared_error'</span>: <span style=\"color: #008080; text-decoration-color: #008080; font-weight: bold\">0.01912073791027069</span>,      \n",
       "<span style=\"color: #008000; text-decoration-color: #008000\">'trial_id'</span>: <span style=\"color: #008080; text-decoration-color: #008080; font-weight: bold\">1</span><span style=\"font-weight: bold\">}</span> | Score: <span style=\"color: #008080; text-decoration-color: #008080; font-weight: bold\">0.01912073791027069</span>                                                                        \n",
       "</pre>\n"
      ],
      "text/plain": [
       "\u001b[1;36m2025\u001b[0m-\u001b[1;36m05\u001b[0m-\u001b[1;36m30\u001b[0m \u001b[1;92m21:21:07\u001b[0m,\u001b[1;36m065\u001b[0m - \u001b[1m{\u001b[0mpytorch_tabular.tabular_model_tuner:\u001b[1;36m412\u001b[0m\u001b[1m}\u001b[0m - INFO - Trial \u001b[1;36m2\u001b[0m/\u001b[1;36m8\u001b[0m: \u001b[1m{\u001b[0m\u001b[32m'model'\u001b[0m:                  \n",
       "\u001b[32m'1-AutoIntConfig'\u001b[0m, \u001b[32m'model_config__activation'\u001b[0m: \u001b[32m'ReLU'\u001b[0m, \u001b[32m'model_config__layers'\u001b[0m: \u001b[32m'128-64-32'\u001b[0m,                        \n",
       "\u001b[32m'optimizer_config__optimizer'\u001b[0m: \u001b[32m'SGD'\u001b[0m, \u001b[32m'loss'\u001b[0m: \u001b[1;36m0.01912073791027069\u001b[0m, \u001b[32m'mean_squared_error'\u001b[0m: \u001b[1;36m0.01912073791027069\u001b[0m,      \n",
       "\u001b[32m'trial_id'\u001b[0m: \u001b[1;36m1\u001b[0m\u001b[1m}\u001b[0m | Score: \u001b[1;36m0.01912073791027069\u001b[0m                                                                        \n"
      ]
     },
     "metadata": {},
     "output_type": "display_data"
    },
    {
     "data": {
      "application/vnd.jupyter.widget-view+json": {
       "model_id": "f22c20504a6144d58adf61de395db7f2",
       "version_major": 2,
       "version_minor": 0
      },
      "text/plain": [
       "Finding best initial lr:   0%|          | 0/100 [00:00<?, ?it/s]"
      ]
     },
     "metadata": {},
     "output_type": "display_data"
    },
    {
     "data": {
      "text/html": [
       "<pre style=\"white-space:pre;overflow-x:auto;line-height:normal;font-family:Menlo,'DejaVu Sans Mono',consolas,'Courier New',monospace\"><span style=\"color: #008080; text-decoration-color: #008080; font-weight: bold\">2025</span>-<span style=\"color: #008080; text-decoration-color: #008080; font-weight: bold\">05</span>-<span style=\"color: #008080; text-decoration-color: #008080; font-weight: bold\">30</span> <span style=\"color: #00ff00; text-decoration-color: #00ff00; font-weight: bold\">21:21:32</span>,<span style=\"color: #008080; text-decoration-color: #008080; font-weight: bold\">383</span> - <span style=\"font-weight: bold\">{</span>pytorch_tabular.tabular_model_tuner:<span style=\"color: #008080; text-decoration-color: #008080; font-weight: bold\">412</span><span style=\"font-weight: bold\">}</span> - INFO - Trial <span style=\"color: #008080; text-decoration-color: #008080; font-weight: bold\">3</span>/<span style=\"color: #008080; text-decoration-color: #008080; font-weight: bold\">8</span>: <span style=\"font-weight: bold\">{</span><span style=\"color: #008000; text-decoration-color: #008000\">'model'</span>:                  \n",
       "<span style=\"color: #008000; text-decoration-color: #008000\">'1-AutoIntConfig'</span>, <span style=\"color: #008000; text-decoration-color: #008000\">'model_config__activation'</span>: <span style=\"color: #008000; text-decoration-color: #008000\">'ReLU'</span>, <span style=\"color: #008000; text-decoration-color: #008000\">'model_config__layers'</span>: <span style=\"color: #008000; text-decoration-color: #008000\">'1024-512-256'</span>,                     \n",
       "<span style=\"color: #008000; text-decoration-color: #008000\">'optimizer_config__optimizer'</span>: <span style=\"color: #008000; text-decoration-color: #008000\">'Adam'</span>, <span style=\"color: #008000; text-decoration-color: #008000\">'loss'</span>: <span style=\"color: #008080; text-decoration-color: #008080; font-weight: bold\">0.02335992082953453</span>, <span style=\"color: #008000; text-decoration-color: #008000\">'mean_squared_error'</span>: <span style=\"color: #008080; text-decoration-color: #008080; font-weight: bold\">0.02335992082953453</span>,     \n",
       "<span style=\"color: #008000; text-decoration-color: #008000\">'trial_id'</span>: <span style=\"color: #008080; text-decoration-color: #008080; font-weight: bold\">2</span><span style=\"font-weight: bold\">}</span> | Score: <span style=\"color: #008080; text-decoration-color: #008080; font-weight: bold\">0.02335992082953453</span>                                                                        \n",
       "</pre>\n"
      ],
      "text/plain": [
       "\u001b[1;36m2025\u001b[0m-\u001b[1;36m05\u001b[0m-\u001b[1;36m30\u001b[0m \u001b[1;92m21:21:32\u001b[0m,\u001b[1;36m383\u001b[0m - \u001b[1m{\u001b[0mpytorch_tabular.tabular_model_tuner:\u001b[1;36m412\u001b[0m\u001b[1m}\u001b[0m - INFO - Trial \u001b[1;36m3\u001b[0m/\u001b[1;36m8\u001b[0m: \u001b[1m{\u001b[0m\u001b[32m'model'\u001b[0m:                  \n",
       "\u001b[32m'1-AutoIntConfig'\u001b[0m, \u001b[32m'model_config__activation'\u001b[0m: \u001b[32m'ReLU'\u001b[0m, \u001b[32m'model_config__layers'\u001b[0m: \u001b[32m'1024-512-256'\u001b[0m,                     \n",
       "\u001b[32m'optimizer_config__optimizer'\u001b[0m: \u001b[32m'Adam'\u001b[0m, \u001b[32m'loss'\u001b[0m: \u001b[1;36m0.02335992082953453\u001b[0m, \u001b[32m'mean_squared_error'\u001b[0m: \u001b[1;36m0.02335992082953453\u001b[0m,     \n",
       "\u001b[32m'trial_id'\u001b[0m: \u001b[1;36m2\u001b[0m\u001b[1m}\u001b[0m | Score: \u001b[1;36m0.02335992082953453\u001b[0m                                                                        \n"
      ]
     },
     "metadata": {},
     "output_type": "display_data"
    },
    {
     "data": {
      "application/vnd.jupyter.widget-view+json": {
       "model_id": "c573054654be4a93ae762eed9bc0dd32",
       "version_major": 2,
       "version_minor": 0
      },
      "text/plain": [
       "Finding best initial lr:   0%|          | 0/100 [00:00<?, ?it/s]"
      ]
     },
     "metadata": {},
     "output_type": "display_data"
    },
    {
     "data": {
      "text/html": [
       "<pre style=\"white-space:pre;overflow-x:auto;line-height:normal;font-family:Menlo,'DejaVu Sans Mono',consolas,'Courier New',monospace\"><span style=\"color: #008080; text-decoration-color: #008080; font-weight: bold\">2025</span>-<span style=\"color: #008080; text-decoration-color: #008080; font-weight: bold\">05</span>-<span style=\"color: #008080; text-decoration-color: #008080; font-weight: bold\">30</span> <span style=\"color: #00ff00; text-decoration-color: #00ff00; font-weight: bold\">21:22:09</span>,<span style=\"color: #008080; text-decoration-color: #008080; font-weight: bold\">191</span> - <span style=\"font-weight: bold\">{</span>pytorch_tabular.tabular_model_tuner:<span style=\"color: #008080; text-decoration-color: #008080; font-weight: bold\">412</span><span style=\"font-weight: bold\">}</span> - INFO - Trial <span style=\"color: #008080; text-decoration-color: #008080; font-weight: bold\">4</span>/<span style=\"color: #008080; text-decoration-color: #008080; font-weight: bold\">8</span>: <span style=\"font-weight: bold\">{</span><span style=\"color: #008000; text-decoration-color: #008000\">'model'</span>:                  \n",
       "<span style=\"color: #008000; text-decoration-color: #008000\">'1-AutoIntConfig'</span>, <span style=\"color: #008000; text-decoration-color: #008000\">'model_config__activation'</span>: <span style=\"color: #008000; text-decoration-color: #008000\">'ReLU'</span>, <span style=\"color: #008000; text-decoration-color: #008000\">'model_config__layers'</span>: <span style=\"color: #008000; text-decoration-color: #008000\">'1024-512-256'</span>,                     \n",
       "<span style=\"color: #008000; text-decoration-color: #008000\">'optimizer_config__optimizer'</span>: <span style=\"color: #008000; text-decoration-color: #008000\">'SGD'</span>, <span style=\"color: #008000; text-decoration-color: #008000\">'loss'</span>: <span style=\"color: #008080; text-decoration-color: #008080; font-weight: bold\">0.018425414338707924</span>, <span style=\"color: #008000; text-decoration-color: #008000\">'mean_squared_error'</span>: <span style=\"color: #008080; text-decoration-color: #008080; font-weight: bold\">0.018425414338707924</span>,    \n",
       "<span style=\"color: #008000; text-decoration-color: #008000\">'trial_id'</span>: <span style=\"color: #008080; text-decoration-color: #008080; font-weight: bold\">3</span><span style=\"font-weight: bold\">}</span> | Score: <span style=\"color: #008080; text-decoration-color: #008080; font-weight: bold\">0.018425414338707924</span>                                                                       \n",
       "</pre>\n"
      ],
      "text/plain": [
       "\u001b[1;36m2025\u001b[0m-\u001b[1;36m05\u001b[0m-\u001b[1;36m30\u001b[0m \u001b[1;92m21:22:09\u001b[0m,\u001b[1;36m191\u001b[0m - \u001b[1m{\u001b[0mpytorch_tabular.tabular_model_tuner:\u001b[1;36m412\u001b[0m\u001b[1m}\u001b[0m - INFO - Trial \u001b[1;36m4\u001b[0m/\u001b[1;36m8\u001b[0m: \u001b[1m{\u001b[0m\u001b[32m'model'\u001b[0m:                  \n",
       "\u001b[32m'1-AutoIntConfig'\u001b[0m, \u001b[32m'model_config__activation'\u001b[0m: \u001b[32m'ReLU'\u001b[0m, \u001b[32m'model_config__layers'\u001b[0m: \u001b[32m'1024-512-256'\u001b[0m,                     \n",
       "\u001b[32m'optimizer_config__optimizer'\u001b[0m: \u001b[32m'SGD'\u001b[0m, \u001b[32m'loss'\u001b[0m: \u001b[1;36m0.018425414338707924\u001b[0m, \u001b[32m'mean_squared_error'\u001b[0m: \u001b[1;36m0.018425414338707924\u001b[0m,    \n",
       "\u001b[32m'trial_id'\u001b[0m: \u001b[1;36m3\u001b[0m\u001b[1m}\u001b[0m | Score: \u001b[1;36m0.018425414338707924\u001b[0m                                                                       \n"
      ]
     },
     "metadata": {},
     "output_type": "display_data"
    },
    {
     "data": {
      "application/vnd.jupyter.widget-view+json": {
       "model_id": "9ce3d40a60724c1ea476ca7f0ada0a64",
       "version_major": 2,
       "version_minor": 0
      },
      "text/plain": [
       "Finding best initial lr:   0%|          | 0/100 [00:00<?, ?it/s]"
      ]
     },
     "metadata": {},
     "output_type": "display_data"
    },
    {
     "data": {
      "text/html": [
       "<pre style=\"white-space:pre;overflow-x:auto;line-height:normal;font-family:Menlo,'DejaVu Sans Mono',consolas,'Courier New',monospace\"><span style=\"color: #008080; text-decoration-color: #008080; font-weight: bold\">2025</span>-<span style=\"color: #008080; text-decoration-color: #008080; font-weight: bold\">05</span>-<span style=\"color: #008080; text-decoration-color: #008080; font-weight: bold\">30</span> <span style=\"color: #00ff00; text-decoration-color: #00ff00; font-weight: bold\">21:22:29</span>,<span style=\"color: #008080; text-decoration-color: #008080; font-weight: bold\">503</span> - <span style=\"font-weight: bold\">{</span>pytorch_tabular.tabular_model_tuner:<span style=\"color: #008080; text-decoration-color: #008080; font-weight: bold\">412</span><span style=\"font-weight: bold\">}</span> - INFO - Trial <span style=\"color: #008080; text-decoration-color: #008080; font-weight: bold\">5</span>/<span style=\"color: #008080; text-decoration-color: #008080; font-weight: bold\">8</span>: <span style=\"font-weight: bold\">{</span><span style=\"color: #008000; text-decoration-color: #008000\">'model'</span>:                  \n",
       "<span style=\"color: #008000; text-decoration-color: #008000\">'1-AutoIntConfig'</span>, <span style=\"color: #008000; text-decoration-color: #008000\">'model_config__activation'</span>: <span style=\"color: #008000; text-decoration-color: #008000\">'LeakyReLU'</span>, <span style=\"color: #008000; text-decoration-color: #008000\">'model_config__layers'</span>: <span style=\"color: #008000; text-decoration-color: #008000\">'128-64-32'</span>,                   \n",
       "<span style=\"color: #008000; text-decoration-color: #008000\">'optimizer_config__optimizer'</span>: <span style=\"color: #008000; text-decoration-color: #008000\">'Adam'</span>, <span style=\"color: #008000; text-decoration-color: #008000\">'loss'</span>: <span style=\"color: #008080; text-decoration-color: #008080; font-weight: bold\">0.018009787425398827</span>, <span style=\"color: #008000; text-decoration-color: #008000\">'mean_squared_error'</span>: <span style=\"color: #008080; text-decoration-color: #008080; font-weight: bold\">0.018009787425398827</span>,   \n",
       "<span style=\"color: #008000; text-decoration-color: #008000\">'trial_id'</span>: <span style=\"color: #008080; text-decoration-color: #008080; font-weight: bold\">4</span><span style=\"font-weight: bold\">}</span> | Score: <span style=\"color: #008080; text-decoration-color: #008080; font-weight: bold\">0.018009787425398827</span>                                                                       \n",
       "</pre>\n"
      ],
      "text/plain": [
       "\u001b[1;36m2025\u001b[0m-\u001b[1;36m05\u001b[0m-\u001b[1;36m30\u001b[0m \u001b[1;92m21:22:29\u001b[0m,\u001b[1;36m503\u001b[0m - \u001b[1m{\u001b[0mpytorch_tabular.tabular_model_tuner:\u001b[1;36m412\u001b[0m\u001b[1m}\u001b[0m - INFO - Trial \u001b[1;36m5\u001b[0m/\u001b[1;36m8\u001b[0m: \u001b[1m{\u001b[0m\u001b[32m'model'\u001b[0m:                  \n",
       "\u001b[32m'1-AutoIntConfig'\u001b[0m, \u001b[32m'model_config__activation'\u001b[0m: \u001b[32m'LeakyReLU'\u001b[0m, \u001b[32m'model_config__layers'\u001b[0m: \u001b[32m'128-64-32'\u001b[0m,                   \n",
       "\u001b[32m'optimizer_config__optimizer'\u001b[0m: \u001b[32m'Adam'\u001b[0m, \u001b[32m'loss'\u001b[0m: \u001b[1;36m0.018009787425398827\u001b[0m, \u001b[32m'mean_squared_error'\u001b[0m: \u001b[1;36m0.018009787425398827\u001b[0m,   \n",
       "\u001b[32m'trial_id'\u001b[0m: \u001b[1;36m4\u001b[0m\u001b[1m}\u001b[0m | Score: \u001b[1;36m0.018009787425398827\u001b[0m                                                                       \n"
      ]
     },
     "metadata": {},
     "output_type": "display_data"
    },
    {
     "data": {
      "application/vnd.jupyter.widget-view+json": {
       "model_id": "33543d8700fd45f08520a029e9fd0c25",
       "version_major": 2,
       "version_minor": 0
      },
      "text/plain": [
       "Finding best initial lr:   0%|          | 0/100 [00:00<?, ?it/s]"
      ]
     },
     "metadata": {},
     "output_type": "display_data"
    },
    {
     "data": {
      "text/html": [
       "<pre style=\"white-space:pre;overflow-x:auto;line-height:normal;font-family:Menlo,'DejaVu Sans Mono',consolas,'Courier New',monospace\"><span style=\"color: #008080; text-decoration-color: #008080; font-weight: bold\">2025</span>-<span style=\"color: #008080; text-decoration-color: #008080; font-weight: bold\">05</span>-<span style=\"color: #008080; text-decoration-color: #008080; font-weight: bold\">30</span> <span style=\"color: #00ff00; text-decoration-color: #00ff00; font-weight: bold\">21:22:57</span>,<span style=\"color: #008080; text-decoration-color: #008080; font-weight: bold\">707</span> - <span style=\"font-weight: bold\">{</span>pytorch_tabular.tabular_model_tuner:<span style=\"color: #008080; text-decoration-color: #008080; font-weight: bold\">412</span><span style=\"font-weight: bold\">}</span> - INFO - Trial <span style=\"color: #008080; text-decoration-color: #008080; font-weight: bold\">6</span>/<span style=\"color: #008080; text-decoration-color: #008080; font-weight: bold\">8</span>: <span style=\"font-weight: bold\">{</span><span style=\"color: #008000; text-decoration-color: #008000\">'model'</span>:                  \n",
       "<span style=\"color: #008000; text-decoration-color: #008000\">'1-AutoIntConfig'</span>, <span style=\"color: #008000; text-decoration-color: #008000\">'model_config__activation'</span>: <span style=\"color: #008000; text-decoration-color: #008000\">'LeakyReLU'</span>, <span style=\"color: #008000; text-decoration-color: #008000\">'model_config__layers'</span>: <span style=\"color: #008000; text-decoration-color: #008000\">'128-64-32'</span>,                   \n",
       "<span style=\"color: #008000; text-decoration-color: #008000\">'optimizer_config__optimizer'</span>: <span style=\"color: #008000; text-decoration-color: #008000\">'SGD'</span>, <span style=\"color: #008000; text-decoration-color: #008000\">'loss'</span>: <span style=\"color: #008080; text-decoration-color: #008080; font-weight: bold\">0.017134152352809906</span>, <span style=\"color: #008000; text-decoration-color: #008000\">'mean_squared_error'</span>: <span style=\"color: #008080; text-decoration-color: #008080; font-weight: bold\">0.017134152352809906</span>,    \n",
       "<span style=\"color: #008000; text-decoration-color: #008000\">'trial_id'</span>: <span style=\"color: #008080; text-decoration-color: #008080; font-weight: bold\">5</span><span style=\"font-weight: bold\">}</span> | Score: <span style=\"color: #008080; text-decoration-color: #008080; font-weight: bold\">0.017134152352809906</span>                                                                       \n",
       "</pre>\n"
      ],
      "text/plain": [
       "\u001b[1;36m2025\u001b[0m-\u001b[1;36m05\u001b[0m-\u001b[1;36m30\u001b[0m \u001b[1;92m21:22:57\u001b[0m,\u001b[1;36m707\u001b[0m - \u001b[1m{\u001b[0mpytorch_tabular.tabular_model_tuner:\u001b[1;36m412\u001b[0m\u001b[1m}\u001b[0m - INFO - Trial \u001b[1;36m6\u001b[0m/\u001b[1;36m8\u001b[0m: \u001b[1m{\u001b[0m\u001b[32m'model'\u001b[0m:                  \n",
       "\u001b[32m'1-AutoIntConfig'\u001b[0m, \u001b[32m'model_config__activation'\u001b[0m: \u001b[32m'LeakyReLU'\u001b[0m, \u001b[32m'model_config__layers'\u001b[0m: \u001b[32m'128-64-32'\u001b[0m,                   \n",
       "\u001b[32m'optimizer_config__optimizer'\u001b[0m: \u001b[32m'SGD'\u001b[0m, \u001b[32m'loss'\u001b[0m: \u001b[1;36m0.017134152352809906\u001b[0m, \u001b[32m'mean_squared_error'\u001b[0m: \u001b[1;36m0.017134152352809906\u001b[0m,    \n",
       "\u001b[32m'trial_id'\u001b[0m: \u001b[1;36m5\u001b[0m\u001b[1m}\u001b[0m | Score: \u001b[1;36m0.017134152352809906\u001b[0m                                                                       \n"
      ]
     },
     "metadata": {},
     "output_type": "display_data"
    },
    {
     "data": {
      "application/vnd.jupyter.widget-view+json": {
       "model_id": "58a9e827925d4890aa10295c7b3353ab",
       "version_major": 2,
       "version_minor": 0
      },
      "text/plain": [
       "Finding best initial lr:   0%|          | 0/100 [00:00<?, ?it/s]"
      ]
     },
     "metadata": {},
     "output_type": "display_data"
    },
    {
     "data": {
      "text/html": [
       "<pre style=\"white-space:pre;overflow-x:auto;line-height:normal;font-family:Menlo,'DejaVu Sans Mono',consolas,'Courier New',monospace\"><span style=\"color: #008080; text-decoration-color: #008080; font-weight: bold\">2025</span>-<span style=\"color: #008080; text-decoration-color: #008080; font-weight: bold\">05</span>-<span style=\"color: #008080; text-decoration-color: #008080; font-weight: bold\">30</span> <span style=\"color: #00ff00; text-decoration-color: #00ff00; font-weight: bold\">21:23:30</span>,<span style=\"color: #008080; text-decoration-color: #008080; font-weight: bold\">152</span> - <span style=\"font-weight: bold\">{</span>pytorch_tabular.tabular_model_tuner:<span style=\"color: #008080; text-decoration-color: #008080; font-weight: bold\">412</span><span style=\"font-weight: bold\">}</span> - INFO - Trial <span style=\"color: #008080; text-decoration-color: #008080; font-weight: bold\">7</span>/<span style=\"color: #008080; text-decoration-color: #008080; font-weight: bold\">8</span>: <span style=\"font-weight: bold\">{</span><span style=\"color: #008000; text-decoration-color: #008000\">'model'</span>:                  \n",
       "<span style=\"color: #008000; text-decoration-color: #008000\">'1-AutoIntConfig'</span>, <span style=\"color: #008000; text-decoration-color: #008000\">'model_config__activation'</span>: <span style=\"color: #008000; text-decoration-color: #008000\">'LeakyReLU'</span>, <span style=\"color: #008000; text-decoration-color: #008000\">'model_config__layers'</span>: <span style=\"color: #008000; text-decoration-color: #008000\">'1024-512-256'</span>,                \n",
       "<span style=\"color: #008000; text-decoration-color: #008000\">'optimizer_config__optimizer'</span>: <span style=\"color: #008000; text-decoration-color: #008000\">'Adam'</span>, <span style=\"color: #008000; text-decoration-color: #008000\">'loss'</span>: <span style=\"color: #008080; text-decoration-color: #008080; font-weight: bold\">0.018614154309034348</span>, <span style=\"color: #008000; text-decoration-color: #008000\">'mean_squared_error'</span>: <span style=\"color: #008080; text-decoration-color: #008080; font-weight: bold\">0.018614154309034348</span>,   \n",
       "<span style=\"color: #008000; text-decoration-color: #008000\">'trial_id'</span>: <span style=\"color: #008080; text-decoration-color: #008080; font-weight: bold\">6</span><span style=\"font-weight: bold\">}</span> | Score: <span style=\"color: #008080; text-decoration-color: #008080; font-weight: bold\">0.018614154309034348</span>                                                                       \n",
       "</pre>\n"
      ],
      "text/plain": [
       "\u001b[1;36m2025\u001b[0m-\u001b[1;36m05\u001b[0m-\u001b[1;36m30\u001b[0m \u001b[1;92m21:23:30\u001b[0m,\u001b[1;36m152\u001b[0m - \u001b[1m{\u001b[0mpytorch_tabular.tabular_model_tuner:\u001b[1;36m412\u001b[0m\u001b[1m}\u001b[0m - INFO - Trial \u001b[1;36m7\u001b[0m/\u001b[1;36m8\u001b[0m: \u001b[1m{\u001b[0m\u001b[32m'model'\u001b[0m:                  \n",
       "\u001b[32m'1-AutoIntConfig'\u001b[0m, \u001b[32m'model_config__activation'\u001b[0m: \u001b[32m'LeakyReLU'\u001b[0m, \u001b[32m'model_config__layers'\u001b[0m: \u001b[32m'1024-512-256'\u001b[0m,                \n",
       "\u001b[32m'optimizer_config__optimizer'\u001b[0m: \u001b[32m'Adam'\u001b[0m, \u001b[32m'loss'\u001b[0m: \u001b[1;36m0.018614154309034348\u001b[0m, \u001b[32m'mean_squared_error'\u001b[0m: \u001b[1;36m0.018614154309034348\u001b[0m,   \n",
       "\u001b[32m'trial_id'\u001b[0m: \u001b[1;36m6\u001b[0m\u001b[1m}\u001b[0m | Score: \u001b[1;36m0.018614154309034348\u001b[0m                                                                       \n"
      ]
     },
     "metadata": {},
     "output_type": "display_data"
    },
    {
     "data": {
      "application/vnd.jupyter.widget-view+json": {
       "model_id": "8d3ecac4120642eaa455710af3c16f0b",
       "version_major": 2,
       "version_minor": 0
      },
      "text/plain": [
       "Finding best initial lr:   0%|          | 0/100 [00:00<?, ?it/s]"
      ]
     },
     "metadata": {},
     "output_type": "display_data"
    },
    {
     "data": {
      "text/html": [
       "<pre style=\"white-space:pre;overflow-x:auto;line-height:normal;font-family:Menlo,'DejaVu Sans Mono',consolas,'Courier New',monospace\"><span style=\"color: #008080; text-decoration-color: #008080; font-weight: bold\">2025</span>-<span style=\"color: #008080; text-decoration-color: #008080; font-weight: bold\">05</span>-<span style=\"color: #008080; text-decoration-color: #008080; font-weight: bold\">30</span> <span style=\"color: #00ff00; text-decoration-color: #00ff00; font-weight: bold\">21:24:15</span>,<span style=\"color: #008080; text-decoration-color: #008080; font-weight: bold\">739</span> - <span style=\"font-weight: bold\">{</span>pytorch_tabular.tabular_model_tuner:<span style=\"color: #008080; text-decoration-color: #008080; font-weight: bold\">412</span><span style=\"font-weight: bold\">}</span> - INFO - Trial <span style=\"color: #008080; text-decoration-color: #008080; font-weight: bold\">8</span>/<span style=\"color: #008080; text-decoration-color: #008080; font-weight: bold\">8</span>: <span style=\"font-weight: bold\">{</span><span style=\"color: #008000; text-decoration-color: #008000\">'model'</span>:                  \n",
       "<span style=\"color: #008000; text-decoration-color: #008000\">'1-AutoIntConfig'</span>, <span style=\"color: #008000; text-decoration-color: #008000\">'model_config__activation'</span>: <span style=\"color: #008000; text-decoration-color: #008000\">'LeakyReLU'</span>, <span style=\"color: #008000; text-decoration-color: #008000\">'model_config__layers'</span>: <span style=\"color: #008000; text-decoration-color: #008000\">'1024-512-256'</span>,                \n",
       "<span style=\"color: #008000; text-decoration-color: #008000\">'optimizer_config__optimizer'</span>: <span style=\"color: #008000; text-decoration-color: #008000\">'SGD'</span>, <span style=\"color: #008000; text-decoration-color: #008000\">'loss'</span>: <span style=\"color: #008080; text-decoration-color: #008080; font-weight: bold\">0.014916334301233292</span>, <span style=\"color: #008000; text-decoration-color: #008000\">'mean_squared_error'</span>: <span style=\"color: #008080; text-decoration-color: #008080; font-weight: bold\">0.014916334301233292</span>,    \n",
       "<span style=\"color: #008000; text-decoration-color: #008000\">'trial_id'</span>: <span style=\"color: #008080; text-decoration-color: #008080; font-weight: bold\">7</span><span style=\"font-weight: bold\">}</span> | Score: <span style=\"color: #008080; text-decoration-color: #008080; font-weight: bold\">0.014916334301233292</span>                                                                       \n",
       "</pre>\n"
      ],
      "text/plain": [
       "\u001b[1;36m2025\u001b[0m-\u001b[1;36m05\u001b[0m-\u001b[1;36m30\u001b[0m \u001b[1;92m21:24:15\u001b[0m,\u001b[1;36m739\u001b[0m - \u001b[1m{\u001b[0mpytorch_tabular.tabular_model_tuner:\u001b[1;36m412\u001b[0m\u001b[1m}\u001b[0m - INFO - Trial \u001b[1;36m8\u001b[0m/\u001b[1;36m8\u001b[0m: \u001b[1m{\u001b[0m\u001b[32m'model'\u001b[0m:                  \n",
       "\u001b[32m'1-AutoIntConfig'\u001b[0m, \u001b[32m'model_config__activation'\u001b[0m: \u001b[32m'LeakyReLU'\u001b[0m, \u001b[32m'model_config__layers'\u001b[0m: \u001b[32m'1024-512-256'\u001b[0m,                \n",
       "\u001b[32m'optimizer_config__optimizer'\u001b[0m: \u001b[32m'SGD'\u001b[0m, \u001b[32m'loss'\u001b[0m: \u001b[1;36m0.014916334301233292\u001b[0m, \u001b[32m'mean_squared_error'\u001b[0m: \u001b[1;36m0.014916334301233292\u001b[0m,    \n",
       "\u001b[32m'trial_id'\u001b[0m: \u001b[1;36m7\u001b[0m\u001b[1m}\u001b[0m | Score: \u001b[1;36m0.014916334301233292\u001b[0m                                                                       \n"
      ]
     },
     "metadata": {},
     "output_type": "display_data"
    },
    {
     "data": {
      "text/html": [
       "<pre style=\"white-space:pre;overflow-x:auto;line-height:normal;font-family:Menlo,'DejaVu Sans Mono',consolas,'Courier New',monospace\"></pre>\n"
      ],
      "text/plain": []
     },
     "metadata": {},
     "output_type": "display_data"
    },
    {
     "data": {
      "text/html": [
       "<pre style=\"white-space:pre;overflow-x:auto;line-height:normal;font-family:Menlo,'DejaVu Sans Mono',consolas,'Courier New',monospace\"><span style=\"color: #008080; text-decoration-color: #008080; font-weight: bold\">2025</span>-<span style=\"color: #008080; text-decoration-color: #008080; font-weight: bold\">05</span>-<span style=\"color: #008080; text-decoration-color: #008080; font-weight: bold\">30</span> <span style=\"color: #00ff00; text-decoration-color: #00ff00; font-weight: bold\">21:24:15</span>,<span style=\"color: #008080; text-decoration-color: #008080; font-weight: bold\">746</span> - <span style=\"font-weight: bold\">{</span>pytorch_tabular.tabular_model_tuner:<span style=\"color: #008080; text-decoration-color: #008080; font-weight: bold\">427</span><span style=\"font-weight: bold\">}</span> - INFO - Model Tuner Finished                  \n",
       "</pre>\n"
      ],
      "text/plain": [
       "\u001b[1;36m2025\u001b[0m-\u001b[1;36m05\u001b[0m-\u001b[1;36m30\u001b[0m \u001b[1;92m21:24:15\u001b[0m,\u001b[1;36m746\u001b[0m - \u001b[1m{\u001b[0mpytorch_tabular.tabular_model_tuner:\u001b[1;36m427\u001b[0m\u001b[1m}\u001b[0m - INFO - Model Tuner Finished                  \n"
      ]
     },
     "metadata": {},
     "output_type": "display_data"
    },
    {
     "data": {
      "text/html": [
       "<pre style=\"white-space:pre;overflow-x:auto;line-height:normal;font-family:Menlo,'DejaVu Sans Mono',consolas,'Courier New',monospace\"><span style=\"color: #008080; text-decoration-color: #008080; font-weight: bold\">2025</span>-<span style=\"color: #008080; text-decoration-color: #008080; font-weight: bold\">05</span>-<span style=\"color: #008080; text-decoration-color: #008080; font-weight: bold\">30</span> <span style=\"color: #00ff00; text-decoration-color: #00ff00; font-weight: bold\">21:24:15</span>,<span style=\"color: #008080; text-decoration-color: #008080; font-weight: bold\">747</span> - <span style=\"font-weight: bold\">{</span>pytorch_tabular.tabular_model_tuner:<span style=\"color: #008080; text-decoration-color: #008080; font-weight: bold\">428</span><span style=\"font-weight: bold\">}</span> - INFO - Best Model: <span style=\"color: #008080; text-decoration-color: #008080; font-weight: bold\">0</span>-TabTransformerConfig -  \n",
       "Best Score <span style=\"font-weight: bold\">(</span>loss<span style=\"font-weight: bold\">)</span>: <span style=\"color: #008080; text-decoration-color: #008080; font-weight: bold\">0.009496028535068035</span>                                                                            \n",
       "</pre>\n"
      ],
      "text/plain": [
       "\u001b[1;36m2025\u001b[0m-\u001b[1;36m05\u001b[0m-\u001b[1;36m30\u001b[0m \u001b[1;92m21:24:15\u001b[0m,\u001b[1;36m747\u001b[0m - \u001b[1m{\u001b[0mpytorch_tabular.tabular_model_tuner:\u001b[1;36m428\u001b[0m\u001b[1m}\u001b[0m - INFO - Best Model: \u001b[1;36m0\u001b[0m-TabTransformerConfig -  \n",
       "Best Score \u001b[1m(\u001b[0mloss\u001b[1m)\u001b[0m: \u001b[1;36m0.009496028535068035\u001b[0m                                                                            \n"
      ]
     },
     "metadata": {},
     "output_type": "display_data"
    },
    {
     "name": "stdout",
     "output_type": "stream",
     "text": [
      "Total time: 382.8677999973297\n"
     ]
    }
   ],
   "source": [
    "tuner = TabularModelTuner(\n",
    "    data_config=data_config,\n",
    "    model_config=all_models,\n",
    "    optimizer_config=optimizer_config,\n",
    "    trainer_config=trainer_config\n",
    ")\n",
    "\n",
    "tic = time.time()\n",
    "tuner_df = tuner.tune(\n",
    "    train=train,\n",
    "    validation=valid,\n",
    "    search_space=all_search_space,\n",
    "    strategy='grid_search',  # grid_search (seach in all search_spaces) or random_search (search in n_trials random search_spaces)\n",
    "    n_trials=4,  # Used when strategy is random_search\n",
    "    metric='accuracy' if model_type == 'classifier' else 'loss',\n",
    "    mode='max' if model_type == 'classifier' else 'min',  # max or min\n",
    "    progress_bar=True,\n",
    "    verbose=True # Make True if you want to log metrics and params each iteration\n",
    ")\n",
    "print(f'Total time: {time.time() - tic}')"
   ]
  },
  {
   "cell_type": "markdown",
   "id": "3c3e5a74-c03d-471f-86de-38d22d5d2fef",
   "metadata": {},
   "source": [
    "O Tuner retorna uma única variável contendo [tabela deresultados, parâmetros do melhor modelo, valor da melhor métrica, melhor modelo]."
   ]
  },
  {
   "cell_type": "code",
   "execution_count": 24,
   "id": "6fbe9813-dced-4b62-807e-17ec4bde19c1",
   "metadata": {
    "scrolled": true
   },
   "outputs": [
    {
     "data": {
      "text/html": [
       "<style type=\"text/css\">\n",
       "#T_f2a60_row0_col4 {\n",
       "  background-color: #a50026;\n",
       "  color: #f1f1f1;\n",
       "  background-color: #006837;\n",
       "  color: #f1f1f1;\n",
       "}\n",
       "#T_f2a60_row1_col4 {\n",
       "  background-color: #b50f26;\n",
       "  color: #f1f1f1;\n",
       "  background-color: #08773f;\n",
       "  color: #f1f1f1;\n",
       "}\n",
       "#T_f2a60_row2_col4 {\n",
       "  background-color: #b91326;\n",
       "  color: #f1f1f1;\n",
       "  background-color: #0a7b41;\n",
       "  color: #f1f1f1;\n",
       "}\n",
       "#T_f2a60_row3_col4 {\n",
       "  background-color: #c62027;\n",
       "  color: #f1f1f1;\n",
       "  background-color: #118848;\n",
       "  color: #f1f1f1;\n",
       "}\n",
       "#T_f2a60_row4_col4 {\n",
       "  background-color: #ca2427;\n",
       "  color: #f1f1f1;\n",
       "  background-color: #138c4a;\n",
       "  color: #f1f1f1;\n",
       "}\n",
       "#T_f2a60_row5_col4 {\n",
       "  background-color: #ec5c3b;\n",
       "  color: #f1f1f1;\n",
       "  background-color: #51b35e;\n",
       "  color: #f1f1f1;\n",
       "}\n",
       "#T_f2a60_row6_col4 {\n",
       "  background-color: #f36b42;\n",
       "  color: #f1f1f1;\n",
       "  background-color: #63bc62;\n",
       "  color: #f1f1f1;\n",
       "}\n",
       "#T_f2a60_row7_col4 {\n",
       "  background-color: #f46d43;\n",
       "  color: #f1f1f1;\n",
       "  background-color: #66bd63;\n",
       "  color: #f1f1f1;\n",
       "}\n",
       "#T_f2a60_row8_col4 {\n",
       "  background-color: #f88950;\n",
       "  color: #f1f1f1;\n",
       "  background-color: #82c966;\n",
       "  color: #000000;\n",
       "}\n",
       "#T_f2a60_row9_col4 {\n",
       "  background-color: #fa9b58;\n",
       "  color: #000000;\n",
       "  background-color: #93d168;\n",
       "  color: #000000;\n",
       "}\n",
       "#T_f2a60_row10_col4 {\n",
       "  background-color: #fca55d;\n",
       "  color: #000000;\n",
       "  background-color: #9dd569;\n",
       "  color: #000000;\n",
       "}\n",
       "#T_f2a60_row11_col4 {\n",
       "  background-color: #fca85e;\n",
       "  color: #000000;\n",
       "  background-color: #a0d669;\n",
       "  color: #000000;\n",
       "}\n",
       "#T_f2a60_row12_col4 {\n",
       "  background-color: #fdb163;\n",
       "  color: #000000;\n",
       "  background-color: #a9da6c;\n",
       "  color: #000000;\n",
       "}\n",
       "#T_f2a60_row13_col4 {\n",
       "  background-color: #fece7c;\n",
       "  color: #000000;\n",
       "  background-color: #c7e77f;\n",
       "  color: #000000;\n",
       "}\n",
       "#T_f2a60_row14_col4 {\n",
       "  background-color: #feeda1;\n",
       "  color: #000000;\n",
       "  background-color: #e9f6a1;\n",
       "  color: #000000;\n",
       "}\n",
       "#T_f2a60_row15_col4 {\n",
       "  background-color: #c7e77f;\n",
       "  color: #000000;\n",
       "  background-color: #fece7c;\n",
       "  color: #000000;\n",
       "}\n",
       "#T_f2a60_row16_col4 {\n",
       "  background-color: #006837;\n",
       "  color: #f1f1f1;\n",
       "  background-color: #a50026;\n",
       "  color: #f1f1f1;\n",
       "}\n",
       "</style>\n",
       "<table id=\"T_f2a60\">\n",
       "  <thead>\n",
       "    <tr>\n",
       "      <th class=\"blank level0\" >&nbsp;</th>\n",
       "      <th id=\"T_f2a60_level0_col0\" class=\"col_heading level0 col0\" >trial_id</th>\n",
       "      <th id=\"T_f2a60_level0_col1\" class=\"col_heading level0 col1\" >model</th>\n",
       "      <th id=\"T_f2a60_level0_col2\" class=\"col_heading level0 col2\" >model_config__input_embed_dim</th>\n",
       "      <th id=\"T_f2a60_level0_col3\" class=\"col_heading level0 col3\" >model_config__num_heads</th>\n",
       "      <th id=\"T_f2a60_level0_col4\" class=\"col_heading level0 col4\" >loss</th>\n",
       "      <th id=\"T_f2a60_level0_col5\" class=\"col_heading level0 col5\" >mean_squared_error</th>\n",
       "      <th id=\"T_f2a60_level0_col6\" class=\"col_heading level0 col6\" >model_config__activation</th>\n",
       "      <th id=\"T_f2a60_level0_col7\" class=\"col_heading level0 col7\" >model_config__layers</th>\n",
       "      <th id=\"T_f2a60_level0_col8\" class=\"col_heading level0 col8\" >optimizer_config__optimizer</th>\n",
       "      <th id=\"T_f2a60_level0_col9\" class=\"col_heading level0 col9\" >test_rmse</th>\n",
       "    </tr>\n",
       "  </thead>\n",
       "  <tbody>\n",
       "    <tr>\n",
       "      <th id=\"T_f2a60_level0_row0\" class=\"row_heading level0 row0\" >2</th>\n",
       "      <td id=\"T_f2a60_row0_col0\" class=\"data row0 col0\" >2</td>\n",
       "      <td id=\"T_f2a60_row0_col1\" class=\"data row0 col1\" >0-TabTransformerConfig</td>\n",
       "      <td id=\"T_f2a60_row0_col2\" class=\"data row0 col2\" >16.000000</td>\n",
       "      <td id=\"T_f2a60_row0_col3\" class=\"data row0 col3\" >16.000000</td>\n",
       "      <td id=\"T_f2a60_row0_col4\" class=\"data row0 col4\" >0.009496</td>\n",
       "      <td id=\"T_f2a60_row0_col5\" class=\"data row0 col5\" >0.009496</td>\n",
       "      <td id=\"T_f2a60_row0_col6\" class=\"data row0 col6\" >nan</td>\n",
       "      <td id=\"T_f2a60_row0_col7\" class=\"data row0 col7\" >nan</td>\n",
       "      <td id=\"T_f2a60_row0_col8\" class=\"data row0 col8\" >nan</td>\n",
       "      <td id=\"T_f2a60_row0_col9\" class=\"data row0 col9\" >0.097448</td>\n",
       "    </tr>\n",
       "    <tr>\n",
       "      <th id=\"T_f2a60_level0_row1\" class=\"row_heading level0 row1\" >6</th>\n",
       "      <td id=\"T_f2a60_row1_col0\" class=\"data row1 col0\" >6</td>\n",
       "      <td id=\"T_f2a60_row1_col1\" class=\"data row1 col1\" >0-TabTransformerConfig</td>\n",
       "      <td id=\"T_f2a60_row1_col2\" class=\"data row1 col2\" >64.000000</td>\n",
       "      <td id=\"T_f2a60_row1_col3\" class=\"data row1 col3\" >4.000000</td>\n",
       "      <td id=\"T_f2a60_row1_col4\" class=\"data row1 col4\" >0.010589</td>\n",
       "      <td id=\"T_f2a60_row1_col5\" class=\"data row1 col5\" >0.010589</td>\n",
       "      <td id=\"T_f2a60_row1_col6\" class=\"data row1 col6\" >nan</td>\n",
       "      <td id=\"T_f2a60_row1_col7\" class=\"data row1 col7\" >nan</td>\n",
       "      <td id=\"T_f2a60_row1_col8\" class=\"data row1 col8\" >nan</td>\n",
       "      <td id=\"T_f2a60_row1_col9\" class=\"data row1 col9\" >0.102903</td>\n",
       "    </tr>\n",
       "    <tr>\n",
       "      <th id=\"T_f2a60_level0_row2\" class=\"row_heading level0 row2\" >7</th>\n",
       "      <td id=\"T_f2a60_row2_col0\" class=\"data row2 col0\" >7</td>\n",
       "      <td id=\"T_f2a60_row2_col1\" class=\"data row2 col1\" >0-TabTransformerConfig</td>\n",
       "      <td id=\"T_f2a60_row2_col2\" class=\"data row2 col2\" >64.000000</td>\n",
       "      <td id=\"T_f2a60_row2_col3\" class=\"data row2 col3\" >8.000000</td>\n",
       "      <td id=\"T_f2a60_row2_col4\" class=\"data row2 col4\" >0.010751</td>\n",
       "      <td id=\"T_f2a60_row2_col5\" class=\"data row2 col5\" >0.010751</td>\n",
       "      <td id=\"T_f2a60_row2_col6\" class=\"data row2 col6\" >nan</td>\n",
       "      <td id=\"T_f2a60_row2_col7\" class=\"data row2 col7\" >nan</td>\n",
       "      <td id=\"T_f2a60_row2_col8\" class=\"data row2 col8\" >nan</td>\n",
       "      <td id=\"T_f2a60_row2_col9\" class=\"data row2 col9\" >0.103688</td>\n",
       "    </tr>\n",
       "    <tr>\n",
       "      <th id=\"T_f2a60_level0_row3\" class=\"row_heading level0 row3\" >5</th>\n",
       "      <td id=\"T_f2a60_row3_col0\" class=\"data row3 col0\" >5</td>\n",
       "      <td id=\"T_f2a60_row3_col1\" class=\"data row3 col1\" >0-TabTransformerConfig</td>\n",
       "      <td id=\"T_f2a60_row3_col2\" class=\"data row3 col2\" >32.000000</td>\n",
       "      <td id=\"T_f2a60_row3_col3\" class=\"data row3 col3\" >16.000000</td>\n",
       "      <td id=\"T_f2a60_row3_col4\" class=\"data row3 col4\" >0.011647</td>\n",
       "      <td id=\"T_f2a60_row3_col5\" class=\"data row3 col5\" >0.011647</td>\n",
       "      <td id=\"T_f2a60_row3_col6\" class=\"data row3 col6\" >nan</td>\n",
       "      <td id=\"T_f2a60_row3_col7\" class=\"data row3 col7\" >nan</td>\n",
       "      <td id=\"T_f2a60_row3_col8\" class=\"data row3 col8\" >nan</td>\n",
       "      <td id=\"T_f2a60_row3_col9\" class=\"data row3 col9\" >0.107919</td>\n",
       "    </tr>\n",
       "    <tr>\n",
       "      <th id=\"T_f2a60_level0_row4\" class=\"row_heading level0 row4\" >0</th>\n",
       "      <td id=\"T_f2a60_row4_col0\" class=\"data row4 col0\" >0</td>\n",
       "      <td id=\"T_f2a60_row4_col1\" class=\"data row4 col1\" >0-TabTransformerConfig</td>\n",
       "      <td id=\"T_f2a60_row4_col2\" class=\"data row4 col2\" >16.000000</td>\n",
       "      <td id=\"T_f2a60_row4_col3\" class=\"data row4 col3\" >4.000000</td>\n",
       "      <td id=\"T_f2a60_row4_col4\" class=\"data row4 col4\" >0.011915</td>\n",
       "      <td id=\"T_f2a60_row4_col5\" class=\"data row4 col5\" >0.011915</td>\n",
       "      <td id=\"T_f2a60_row4_col6\" class=\"data row4 col6\" >nan</td>\n",
       "      <td id=\"T_f2a60_row4_col7\" class=\"data row4 col7\" >nan</td>\n",
       "      <td id=\"T_f2a60_row4_col8\" class=\"data row4 col8\" >nan</td>\n",
       "      <td id=\"T_f2a60_row4_col9\" class=\"data row4 col9\" >0.109156</td>\n",
       "    </tr>\n",
       "    <tr>\n",
       "      <th id=\"T_f2a60_level0_row5\" class=\"row_heading level0 row5\" >16</th>\n",
       "      <td id=\"T_f2a60_row5_col0\" class=\"data row5 col0\" >7</td>\n",
       "      <td id=\"T_f2a60_row5_col1\" class=\"data row5 col1\" >1-AutoIntConfig</td>\n",
       "      <td id=\"T_f2a60_row5_col2\" class=\"data row5 col2\" >nan</td>\n",
       "      <td id=\"T_f2a60_row5_col3\" class=\"data row5 col3\" >nan</td>\n",
       "      <td id=\"T_f2a60_row5_col4\" class=\"data row5 col4\" >0.014916</td>\n",
       "      <td id=\"T_f2a60_row5_col5\" class=\"data row5 col5\" >0.014916</td>\n",
       "      <td id=\"T_f2a60_row5_col6\" class=\"data row5 col6\" >LeakyReLU</td>\n",
       "      <td id=\"T_f2a60_row5_col7\" class=\"data row5 col7\" >1024-512-256</td>\n",
       "      <td id=\"T_f2a60_row5_col8\" class=\"data row5 col8\" >SGD</td>\n",
       "      <td id=\"T_f2a60_row5_col9\" class=\"data row5 col9\" >0.122132</td>\n",
       "    </tr>\n",
       "    <tr>\n",
       "      <th id=\"T_f2a60_level0_row6\" class=\"row_heading level0 row6\" >8</th>\n",
       "      <td id=\"T_f2a60_row6_col0\" class=\"data row6 col0\" >8</td>\n",
       "      <td id=\"T_f2a60_row6_col1\" class=\"data row6 col1\" >0-TabTransformerConfig</td>\n",
       "      <td id=\"T_f2a60_row6_col2\" class=\"data row6 col2\" >64.000000</td>\n",
       "      <td id=\"T_f2a60_row6_col3\" class=\"data row6 col3\" >16.000000</td>\n",
       "      <td id=\"T_f2a60_row6_col4\" class=\"data row6 col4\" >0.015687</td>\n",
       "      <td id=\"T_f2a60_row6_col5\" class=\"data row6 col5\" >0.015687</td>\n",
       "      <td id=\"T_f2a60_row6_col6\" class=\"data row6 col6\" >nan</td>\n",
       "      <td id=\"T_f2a60_row6_col7\" class=\"data row6 col7\" >nan</td>\n",
       "      <td id=\"T_f2a60_row6_col8\" class=\"data row6 col8\" >nan</td>\n",
       "      <td id=\"T_f2a60_row6_col9\" class=\"data row6 col9\" >0.125247</td>\n",
       "    </tr>\n",
       "    <tr>\n",
       "      <th id=\"T_f2a60_level0_row7\" class=\"row_heading level0 row7\" >9</th>\n",
       "      <td id=\"T_f2a60_row7_col0\" class=\"data row7 col0\" >0</td>\n",
       "      <td id=\"T_f2a60_row7_col1\" class=\"data row7 col1\" >1-AutoIntConfig</td>\n",
       "      <td id=\"T_f2a60_row7_col2\" class=\"data row7 col2\" >nan</td>\n",
       "      <td id=\"T_f2a60_row7_col3\" class=\"data row7 col3\" >nan</td>\n",
       "      <td id=\"T_f2a60_row7_col4\" class=\"data row7 col4\" >0.015847</td>\n",
       "      <td id=\"T_f2a60_row7_col5\" class=\"data row7 col5\" >0.015847</td>\n",
       "      <td id=\"T_f2a60_row7_col6\" class=\"data row7 col6\" >ReLU</td>\n",
       "      <td id=\"T_f2a60_row7_col7\" class=\"data row7 col7\" >128-64-32</td>\n",
       "      <td id=\"T_f2a60_row7_col8\" class=\"data row7 col8\" >Adam</td>\n",
       "      <td id=\"T_f2a60_row7_col9\" class=\"data row7 col9\" >0.125883</td>\n",
       "    </tr>\n",
       "    <tr>\n",
       "      <th id=\"T_f2a60_level0_row8\" class=\"row_heading level0 row8\" >14</th>\n",
       "      <td id=\"T_f2a60_row8_col0\" class=\"data row8 col0\" >5</td>\n",
       "      <td id=\"T_f2a60_row8_col1\" class=\"data row8 col1\" >1-AutoIntConfig</td>\n",
       "      <td id=\"T_f2a60_row8_col2\" class=\"data row8 col2\" >nan</td>\n",
       "      <td id=\"T_f2a60_row8_col3\" class=\"data row8 col3\" >nan</td>\n",
       "      <td id=\"T_f2a60_row8_col4\" class=\"data row8 col4\" >0.017134</td>\n",
       "      <td id=\"T_f2a60_row8_col5\" class=\"data row8 col5\" >0.017134</td>\n",
       "      <td id=\"T_f2a60_row8_col6\" class=\"data row8 col6\" >LeakyReLU</td>\n",
       "      <td id=\"T_f2a60_row8_col7\" class=\"data row8 col7\" >128-64-32</td>\n",
       "      <td id=\"T_f2a60_row8_col8\" class=\"data row8 col8\" >SGD</td>\n",
       "      <td id=\"T_f2a60_row8_col9\" class=\"data row8 col9\" >0.130897</td>\n",
       "    </tr>\n",
       "    <tr>\n",
       "      <th id=\"T_f2a60_level0_row9\" class=\"row_heading level0 row9\" >13</th>\n",
       "      <td id=\"T_f2a60_row9_col0\" class=\"data row9 col0\" >4</td>\n",
       "      <td id=\"T_f2a60_row9_col1\" class=\"data row9 col1\" >1-AutoIntConfig</td>\n",
       "      <td id=\"T_f2a60_row9_col2\" class=\"data row9 col2\" >nan</td>\n",
       "      <td id=\"T_f2a60_row9_col3\" class=\"data row9 col3\" >nan</td>\n",
       "      <td id=\"T_f2a60_row9_col4\" class=\"data row9 col4\" >0.018010</td>\n",
       "      <td id=\"T_f2a60_row9_col5\" class=\"data row9 col5\" >0.018010</td>\n",
       "      <td id=\"T_f2a60_row9_col6\" class=\"data row9 col6\" >LeakyReLU</td>\n",
       "      <td id=\"T_f2a60_row9_col7\" class=\"data row9 col7\" >128-64-32</td>\n",
       "      <td id=\"T_f2a60_row9_col8\" class=\"data row9 col8\" >Adam</td>\n",
       "      <td id=\"T_f2a60_row9_col9\" class=\"data row9 col9\" >0.134201</td>\n",
       "    </tr>\n",
       "    <tr>\n",
       "      <th id=\"T_f2a60_level0_row10\" class=\"row_heading level0 row10\" >12</th>\n",
       "      <td id=\"T_f2a60_row10_col0\" class=\"data row10 col0\" >3</td>\n",
       "      <td id=\"T_f2a60_row10_col1\" class=\"data row10 col1\" >1-AutoIntConfig</td>\n",
       "      <td id=\"T_f2a60_row10_col2\" class=\"data row10 col2\" >nan</td>\n",
       "      <td id=\"T_f2a60_row10_col3\" class=\"data row10 col3\" >nan</td>\n",
       "      <td id=\"T_f2a60_row10_col4\" class=\"data row10 col4\" >0.018425</td>\n",
       "      <td id=\"T_f2a60_row10_col5\" class=\"data row10 col5\" >0.018425</td>\n",
       "      <td id=\"T_f2a60_row10_col6\" class=\"data row10 col6\" >ReLU</td>\n",
       "      <td id=\"T_f2a60_row10_col7\" class=\"data row10 col7\" >1024-512-256</td>\n",
       "      <td id=\"T_f2a60_row10_col8\" class=\"data row10 col8\" >SGD</td>\n",
       "      <td id=\"T_f2a60_row10_col9\" class=\"data row10 col9\" >0.135740</td>\n",
       "    </tr>\n",
       "    <tr>\n",
       "      <th id=\"T_f2a60_level0_row11\" class=\"row_heading level0 row11\" >15</th>\n",
       "      <td id=\"T_f2a60_row11_col0\" class=\"data row11 col0\" >6</td>\n",
       "      <td id=\"T_f2a60_row11_col1\" class=\"data row11 col1\" >1-AutoIntConfig</td>\n",
       "      <td id=\"T_f2a60_row11_col2\" class=\"data row11 col2\" >nan</td>\n",
       "      <td id=\"T_f2a60_row11_col3\" class=\"data row11 col3\" >nan</td>\n",
       "      <td id=\"T_f2a60_row11_col4\" class=\"data row11 col4\" >0.018614</td>\n",
       "      <td id=\"T_f2a60_row11_col5\" class=\"data row11 col5\" >0.018614</td>\n",
       "      <td id=\"T_f2a60_row11_col6\" class=\"data row11 col6\" >LeakyReLU</td>\n",
       "      <td id=\"T_f2a60_row11_col7\" class=\"data row11 col7\" >1024-512-256</td>\n",
       "      <td id=\"T_f2a60_row11_col8\" class=\"data row11 col8\" >Adam</td>\n",
       "      <td id=\"T_f2a60_row11_col9\" class=\"data row11 col9\" >0.136434</td>\n",
       "    </tr>\n",
       "    <tr>\n",
       "      <th id=\"T_f2a60_level0_row12\" class=\"row_heading level0 row12\" >10</th>\n",
       "      <td id=\"T_f2a60_row12_col0\" class=\"data row12 col0\" >1</td>\n",
       "      <td id=\"T_f2a60_row12_col1\" class=\"data row12 col1\" >1-AutoIntConfig</td>\n",
       "      <td id=\"T_f2a60_row12_col2\" class=\"data row12 col2\" >nan</td>\n",
       "      <td id=\"T_f2a60_row12_col3\" class=\"data row12 col3\" >nan</td>\n",
       "      <td id=\"T_f2a60_row12_col4\" class=\"data row12 col4\" >0.019121</td>\n",
       "      <td id=\"T_f2a60_row12_col5\" class=\"data row12 col5\" >0.019121</td>\n",
       "      <td id=\"T_f2a60_row12_col6\" class=\"data row12 col6\" >ReLU</td>\n",
       "      <td id=\"T_f2a60_row12_col7\" class=\"data row12 col7\" >128-64-32</td>\n",
       "      <td id=\"T_f2a60_row12_col8\" class=\"data row12 col8\" >SGD</td>\n",
       "      <td id=\"T_f2a60_row12_col9\" class=\"data row12 col9\" >0.138278</td>\n",
       "    </tr>\n",
       "    <tr>\n",
       "      <th id=\"T_f2a60_level0_row13\" class=\"row_heading level0 row13\" >4</th>\n",
       "      <td id=\"T_f2a60_row13_col0\" class=\"data row13 col0\" >4</td>\n",
       "      <td id=\"T_f2a60_row13_col1\" class=\"data row13 col1\" >0-TabTransformerConfig</td>\n",
       "      <td id=\"T_f2a60_row13_col2\" class=\"data row13 col2\" >32.000000</td>\n",
       "      <td id=\"T_f2a60_row13_col3\" class=\"data row13 col3\" >8.000000</td>\n",
       "      <td id=\"T_f2a60_row13_col4\" class=\"data row13 col4\" >0.020879</td>\n",
       "      <td id=\"T_f2a60_row13_col5\" class=\"data row13 col5\" >0.020879</td>\n",
       "      <td id=\"T_f2a60_row13_col6\" class=\"data row13 col6\" >nan</td>\n",
       "      <td id=\"T_f2a60_row13_col7\" class=\"data row13 col7\" >nan</td>\n",
       "      <td id=\"T_f2a60_row13_col8\" class=\"data row13 col8\" >nan</td>\n",
       "      <td id=\"T_f2a60_row13_col9\" class=\"data row13 col9\" >0.144497</td>\n",
       "    </tr>\n",
       "    <tr>\n",
       "      <th id=\"T_f2a60_level0_row14\" class=\"row_heading level0 row14\" >11</th>\n",
       "      <td id=\"T_f2a60_row14_col0\" class=\"data row14 col0\" >2</td>\n",
       "      <td id=\"T_f2a60_row14_col1\" class=\"data row14 col1\" >1-AutoIntConfig</td>\n",
       "      <td id=\"T_f2a60_row14_col2\" class=\"data row14 col2\" >nan</td>\n",
       "      <td id=\"T_f2a60_row14_col3\" class=\"data row14 col3\" >nan</td>\n",
       "      <td id=\"T_f2a60_row14_col4\" class=\"data row14 col4\" >0.023360</td>\n",
       "      <td id=\"T_f2a60_row14_col5\" class=\"data row14 col5\" >0.023360</td>\n",
       "      <td id=\"T_f2a60_row14_col6\" class=\"data row14 col6\" >ReLU</td>\n",
       "      <td id=\"T_f2a60_row14_col7\" class=\"data row14 col7\" >1024-512-256</td>\n",
       "      <td id=\"T_f2a60_row14_col8\" class=\"data row14 col8\" >Adam</td>\n",
       "      <td id=\"T_f2a60_row14_col9\" class=\"data row14 col9\" >0.152840</td>\n",
       "    </tr>\n",
       "    <tr>\n",
       "      <th id=\"T_f2a60_level0_row15\" class=\"row_heading level0 row15\" >3</th>\n",
       "      <td id=\"T_f2a60_row15_col0\" class=\"data row15 col0\" >3</td>\n",
       "      <td id=\"T_f2a60_row15_col1\" class=\"data row15 col1\" >0-TabTransformerConfig</td>\n",
       "      <td id=\"T_f2a60_row15_col2\" class=\"data row15 col2\" >32.000000</td>\n",
       "      <td id=\"T_f2a60_row15_col3\" class=\"data row15 col3\" >4.000000</td>\n",
       "      <td id=\"T_f2a60_row15_col4\" class=\"data row15 col4\" >0.029329</td>\n",
       "      <td id=\"T_f2a60_row15_col5\" class=\"data row15 col5\" >0.029329</td>\n",
       "      <td id=\"T_f2a60_row15_col6\" class=\"data row15 col6\" >nan</td>\n",
       "      <td id=\"T_f2a60_row15_col7\" class=\"data row15 col7\" >nan</td>\n",
       "      <td id=\"T_f2a60_row15_col8\" class=\"data row15 col8\" >nan</td>\n",
       "      <td id=\"T_f2a60_row15_col9\" class=\"data row15 col9\" >0.171256</td>\n",
       "    </tr>\n",
       "    <tr>\n",
       "      <th id=\"T_f2a60_level0_row16\" class=\"row_heading level0 row16\" >1</th>\n",
       "      <td id=\"T_f2a60_row16_col0\" class=\"data row16 col0\" >1</td>\n",
       "      <td id=\"T_f2a60_row16_col1\" class=\"data row16 col1\" >0-TabTransformerConfig</td>\n",
       "      <td id=\"T_f2a60_row16_col2\" class=\"data row16 col2\" >16.000000</td>\n",
       "      <td id=\"T_f2a60_row16_col3\" class=\"data row16 col3\" >8.000000</td>\n",
       "      <td id=\"T_f2a60_row16_col4\" class=\"data row16 col4\" >0.040766</td>\n",
       "      <td id=\"T_f2a60_row16_col5\" class=\"data row16 col5\" >0.040766</td>\n",
       "      <td id=\"T_f2a60_row16_col6\" class=\"data row16 col6\" >nan</td>\n",
       "      <td id=\"T_f2a60_row16_col7\" class=\"data row16 col7\" >nan</td>\n",
       "      <td id=\"T_f2a60_row16_col8\" class=\"data row16 col8\" >nan</td>\n",
       "      <td id=\"T_f2a60_row16_col9\" class=\"data row16 col9\" >0.201907</td>\n",
       "    </tr>\n",
       "  </tbody>\n",
       "</table>\n"
      ],
      "text/plain": [
       "<pandas.io.formats.style.Styler at 0x7d5790c8ff40>"
      ]
     },
     "execution_count": 24,
     "metadata": {},
     "output_type": "execute_result"
    }
   ],
   "source": [
    "if model_type == 'regressor':\n",
    "    tuner_df.trials_df['test_rmse'] = np.sqrt(tuner_df.trials_df['mean_squared_error'])\n",
    "\n",
    "tuner_df.trials_df.sort_values('accuracy' if model_type == 'classifier' else 'loss', ascending=False if model_type == 'classifier' else True).style.background_gradient(\n",
    "    subset=['accuracy' if model_type == 'classifier' else 'loss'], cmap='RdYlGn'\n",
    ").background_gradient(subset=['loss'], cmap='RdYlGn_r')"
   ]
  },
  {
   "cell_type": "code",
   "execution_count": 25,
   "id": "ce42d06c-2825-41b5-8aef-45592e63b125",
   "metadata": {},
   "outputs": [
    {
     "data": {
      "text/html": [
       "<pre style=\"white-space:pre;overflow-x:auto;line-height:normal;font-family:Menlo,'DejaVu Sans Mono',consolas,'Courier New',monospace\">┏━━━━━━━━━━━━━━━━━━━━━━━━━━━┳━━━━━━━━━━━━━━━━━━━━━━━━━━━┓\n",
       "┃<span style=\"font-weight: bold\">        Test metric        </span>┃<span style=\"font-weight: bold\">       DataLoader 0        </span>┃\n",
       "┡━━━━━━━━━━━━━━━━━━━━━━━━━━━╇━━━━━━━━━━━━━━━━━━━━━━━━━━━┩\n",
       "│<span style=\"color: #008080; text-decoration-color: #008080\">         test_loss         </span>│<span style=\"color: #800080; text-decoration-color: #800080\">   0.009496028535068035    </span>│\n",
       "│<span style=\"color: #008080; text-decoration-color: #008080\">  test_mean_squared_error  </span>│<span style=\"color: #800080; text-decoration-color: #800080\">   0.009496028535068035    </span>│\n",
       "└───────────────────────────┴───────────────────────────┘\n",
       "</pre>\n"
      ],
      "text/plain": [
       "┏━━━━━━━━━━━━━━━━━━━━━━━━━━━┳━━━━━━━━━━━━━━━━━━━━━━━━━━━┓\n",
       "┃\u001b[1m \u001b[0m\u001b[1m       Test metric       \u001b[0m\u001b[1m \u001b[0m┃\u001b[1m \u001b[0m\u001b[1m      DataLoader 0       \u001b[0m\u001b[1m \u001b[0m┃\n",
       "┡━━━━━━━━━━━━━━━━━━━━━━━━━━━╇━━━━━━━━━━━━━━━━━━━━━━━━━━━┩\n",
       "│\u001b[36m \u001b[0m\u001b[36m        test_loss        \u001b[0m\u001b[36m \u001b[0m│\u001b[35m \u001b[0m\u001b[35m  0.009496028535068035   \u001b[0m\u001b[35m \u001b[0m│\n",
       "│\u001b[36m \u001b[0m\u001b[36m test_mean_squared_error \u001b[0m\u001b[36m \u001b[0m│\u001b[35m \u001b[0m\u001b[35m  0.009496028535068035   \u001b[0m\u001b[35m \u001b[0m│\n",
       "└───────────────────────────┴───────────────────────────┘\n"
      ]
     },
     "metadata": {},
     "output_type": "display_data"
    },
    {
     "data": {
      "text/plain": [
       "[{'test_loss': 0.009496028535068035,\n",
       "  'test_mean_squared_error': 0.009496028535068035}]"
      ]
     },
     "execution_count": 25,
     "metadata": {},
     "output_type": "execute_result"
    }
   ],
   "source": [
    "tuner_df.best_model.evaluate(test)"
   ]
  },
  {
   "cell_type": "markdown",
   "id": "469ada1e-32bf-45fa-94a1-d8b96976cadd",
   "metadata": {},
   "source": [
    "### Save Model"
   ]
  },
  {
   "cell_type": "code",
   "execution_count": 26,
   "id": "5c6a3a42-831a-499c-afe0-18b4a3796e14",
   "metadata": {},
   "outputs": [
    {
     "data": {
      "text/html": [
       "<pre style=\"white-space:pre;overflow-x:auto;line-height:normal;font-family:Menlo,'DejaVu Sans Mono',consolas,'Courier New',monospace\"><span style=\"color: #008080; text-decoration-color: #008080; font-weight: bold\">2025</span>-<span style=\"color: #008080; text-decoration-color: #008080; font-weight: bold\">05</span>-<span style=\"color: #008080; text-decoration-color: #008080; font-weight: bold\">30</span> <span style=\"color: #00ff00; text-decoration-color: #00ff00; font-weight: bold\">21:24:15</span>,<span style=\"color: #008080; text-decoration-color: #008080; font-weight: bold\">907</span> - <span style=\"font-weight: bold\">{</span>pytorch_tabular.tabular_model:<span style=\"color: #008080; text-decoration-color: #008080; font-weight: bold\">1575</span><span style=\"font-weight: bold\">}</span> - WARNING - Directory is not empty. Overwriting the \n",
       "contents.                                                                                                          \n",
       "</pre>\n"
      ],
      "text/plain": [
       "\u001b[1;36m2025\u001b[0m-\u001b[1;36m05\u001b[0m-\u001b[1;36m30\u001b[0m \u001b[1;92m21:24:15\u001b[0m,\u001b[1;36m907\u001b[0m - \u001b[1m{\u001b[0mpytorch_tabular.tabular_model:\u001b[1;36m1575\u001b[0m\u001b[1m}\u001b[0m - WARNING - Directory is not empty. Overwriting the \n",
       "contents.                                                                                                          \n"
      ]
     },
     "metadata": {},
     "output_type": "display_data"
    }
   ],
   "source": [
    "tuner_df.best_model.save_model('results/best_model_tuner_pytorch_tabular', inference_only=True)\n",
    "\n",
    "# Save columns names and informations\n",
    "data_to_save = {\n",
    "    'col_names_order': col_names_order,\n",
    "    'num_col_names': num_col_names,\n",
    "    'cat_col_names': cat_col_names,\n",
    "    'date_col_names': date_col_names,\n",
    "    'target_cols': target_cols,\n",
    "    'category_mappings': category_mappings,\n",
    "    'window_size': window_size\n",
    "}\n",
    "with open('results/columns_metadata_tuner_pytorch_tabular.json', 'w') as json_file:\n",
    "    json.dump(data_to_save, json_file, indent=4)"
   ]
  },
  {
   "cell_type": "markdown",
   "id": "ac33e785-fd8d-49ef-a218-cbb4c230926b",
   "metadata": {},
   "source": [
    "## Predict\n",
    "Precisar estar no formato DataFrame do Pandas com os nomes das colunas que participaram do treinamento para passar para o modelo fazer inferência."
   ]
  },
  {
   "cell_type": "code",
   "execution_count": 27,
   "id": "492b39f6-c227-42b3-9d90-0454b4ff2702",
   "metadata": {},
   "outputs": [],
   "source": [
    "import time\n",
    "import json\n",
    "import pickle\n",
    "\n",
    "import pandas as pd\n",
    "from pytorch_tabular import TabularModel"
   ]
  },
  {
   "cell_type": "code",
   "execution_count": 28,
   "id": "b435d08f-dfaf-4245-b90e-62aeab0170bc",
   "metadata": {},
   "outputs": [
    {
     "data": {
      "text/html": [
       "<pre style=\"white-space:pre;overflow-x:auto;line-height:normal;font-family:Menlo,'DejaVu Sans Mono',consolas,'Courier New',monospace\"><span style=\"color: #008080; text-decoration-color: #008080; font-weight: bold\">2025</span>-<span style=\"color: #008080; text-decoration-color: #008080; font-weight: bold\">05</span>-<span style=\"color: #008080; text-decoration-color: #008080; font-weight: bold\">30</span> <span style=\"color: #00ff00; text-decoration-color: #00ff00; font-weight: bold\">21:24:16</span>,<span style=\"color: #008080; text-decoration-color: #008080; font-weight: bold\">007</span> - <span style=\"font-weight: bold\">{</span>pytorch_tabular.tabular_model:<span style=\"color: #008080; text-decoration-color: #008080; font-weight: bold\">171</span><span style=\"font-weight: bold\">}</span> - INFO - Experiment Tracking is turned off           \n",
       "</pre>\n"
      ],
      "text/plain": [
       "\u001b[1;36m2025\u001b[0m-\u001b[1;36m05\u001b[0m-\u001b[1;36m30\u001b[0m \u001b[1;92m21:24:16\u001b[0m,\u001b[1;36m007\u001b[0m - \u001b[1m{\u001b[0mpytorch_tabular.tabular_model:\u001b[1;36m171\u001b[0m\u001b[1m}\u001b[0m - INFO - Experiment Tracking is turned off           \n"
      ]
     },
     "metadata": {},
     "output_type": "display_data"
    },
    {
     "data": {
      "text/html": [
       "<pre style=\"white-space:pre;overflow-x:auto;line-height:normal;font-family:Menlo,'DejaVu Sans Mono',consolas,'Courier New',monospace\"><span style=\"color: #008080; text-decoration-color: #008080; font-weight: bold\">2025</span>-<span style=\"color: #008080; text-decoration-color: #008080; font-weight: bold\">05</span>-<span style=\"color: #008080; text-decoration-color: #008080; font-weight: bold\">30</span> <span style=\"color: #00ff00; text-decoration-color: #00ff00; font-weight: bold\">21:24:16</span>,<span style=\"color: #008080; text-decoration-color: #008080; font-weight: bold\">009</span> - <span style=\"font-weight: bold\">{</span>pytorch_tabular.tabular_model:<span style=\"color: #008080; text-decoration-color: #008080; font-weight: bold\">342</span><span style=\"font-weight: bold\">}</span> - INFO - Preparing the Trainer                       \n",
       "</pre>\n"
      ],
      "text/plain": [
       "\u001b[1;36m2025\u001b[0m-\u001b[1;36m05\u001b[0m-\u001b[1;36m30\u001b[0m \u001b[1;92m21:24:16\u001b[0m,\u001b[1;36m009\u001b[0m - \u001b[1m{\u001b[0mpytorch_tabular.tabular_model:\u001b[1;36m342\u001b[0m\u001b[1m}\u001b[0m - INFO - Preparing the Trainer                       \n"
      ]
     },
     "metadata": {},
     "output_type": "display_data"
    }
   ],
   "source": [
    "loaded_model = TabularModel.load_model('results/best_model_tuner_pytorch_tabular')\n",
    "\n",
    "# columns_metadata\n",
    "columns_metadata = json.load(open('results/columns_metadata_tuner_pytorch_tabular.json', 'r'))"
   ]
  },
  {
   "cell_type": "code",
   "execution_count": 29,
   "id": "2a175d2a-3751-4f41-b636-7571d0fb0b05",
   "metadata": {},
   "outputs": [],
   "source": [
    "def preprocess_inference_data(new_input, columns_metadata, scaler=None):\n",
    "    \"\"\"\n",
    "    Preprocess the input data for inference based on metadata and scaler for numeric normalization.\n",
    "\n",
    "    Args:\n",
    "        new_input (list of list): Data to preprocess (each inner list is a row).\n",
    "        columns_metadata (dict): Metadata defining column names, types, mappings, and order.\n",
    "        scaler (StandardScaler): Trained scaler for numerical columns.\n",
    "    \n",
    "    Returns:\n",
    "        list: Preprocessed data ready for inference.\n",
    "    \"\"\"\n",
    "    # Exclude target columns from col_names_order for inference\n",
    "    target_cols = columns_metadata['target_cols']\n",
    "    col_names_order = [col for col in columns_metadata['col_names_order'] if col not in target_cols]\n",
    "    # Transform the new_input into a DataFrame with the correct column order\n",
    "    df_input = pd.DataFrame(new_input, columns=col_names_order)\n",
    "\n",
    "    # Convert categorical columns based on category_mappings\n",
    "    category_mappings = columns_metadata['category_mappings']\n",
    "    for col in columns_metadata['cat_col_names']:\n",
    "        if col in df_input.columns and col in category_mappings:\n",
    "            # Replace string categories with mapped integer IDs\n",
    "            df_input[col] = df_input[col].map(category_mappings[col])\n",
    "            if df_input[col].isnull().any():\n",
    "                raise ValueError(f'Invalid value found in column \"{col}\" that is not in the category mappings.')\n",
    "\n",
    "    # Normalize numeric columns using the trained scaler\n",
    "    num_col_names = columns_metadata['num_col_names']\n",
    "    if num_col_names and scaler:\n",
    "        df_input[num_col_names] = scaler.transform(df_input[num_col_names])\n",
    "\n",
    "    # Ensure date columns are in the correct datetime format\n",
    "    for col in columns_metadata['date_col_names']:\n",
    "        if col in df_input.columns:\n",
    "            df_input[col] = pd.to_datetime(df_input[col], errors='coerce')\n",
    "            if df_input[col].isnull().any():\n",
    "                raise ValueError(f'Invalid date value found in column \"{col}\".')\n",
    "\n",
    "    # Drop target columns if they exist in the input (not used in inference)\n",
    "    target_cols = columns_metadata['target_cols']\n",
    "    df_input = df_input.drop(columns=target_cols, errors='ignore')\n",
    "\n",
    "    # Convert DataFrame to list of rows for model inference\n",
    "    #processed_data = df_input.values.tolist()\n",
    "\n",
    "    return df_input"
   ]
  },
  {
   "cell_type": "code",
   "execution_count": 31,
   "id": "66ba333b-12ec-4b67-900d-174386a0fc73",
   "metadata": {
    "scrolled": true
   },
   "outputs": [
    {
     "data": {
      "text/html": [
       "<div>\n",
       "<style scoped>\n",
       "    .dataframe tbody tr th:only-of-type {\n",
       "        vertical-align: middle;\n",
       "    }\n",
       "\n",
       "    .dataframe tbody tr th {\n",
       "        vertical-align: top;\n",
       "    }\n",
       "\n",
       "    .dataframe thead th {\n",
       "        text-align: right;\n",
       "    }\n",
       "</style>\n",
       "<table border=\"1\" class=\"dataframe\">\n",
       "  <thead>\n",
       "    <tr style=\"text-align: right;\">\n",
       "      <th></th>\n",
       "      <th>temperature_lag_2</th>\n",
       "      <th>atmospheric_pressure_lag_2</th>\n",
       "      <th>humidity_lag_2</th>\n",
       "      <th>wind_speed_lag_2</th>\n",
       "      <th>temperature_lag_1</th>\n",
       "      <th>atmospheric_pressure_lag_1</th>\n",
       "      <th>humidity_lag_1</th>\n",
       "      <th>wind_speed_lag_1</th>\n",
       "      <th>data</th>\n",
       "      <th>temperature</th>\n",
       "      <th>atmospheric_pressure</th>\n",
       "      <th>humidity</th>\n",
       "      <th>wind_speed</th>\n",
       "    </tr>\n",
       "  </thead>\n",
       "  <tbody>\n",
       "    <tr>\n",
       "      <th>0</th>\n",
       "      <td>16.104017</td>\n",
       "      <td>991.702137</td>\n",
       "      <td>33.491679</td>\n",
       "      <td>5.722285</td>\n",
       "      <td>26.06481</td>\n",
       "      <td>992.934297</td>\n",
       "      <td>58.463331</td>\n",
       "      <td>16.400403</td>\n",
       "      <td>2026-12-07</td>\n",
       "      <td>15.764825</td>\n",
       "      <td>997.960562</td>\n",
       "      <td>85.419949</td>\n",
       "      <td>1.430146</td>\n",
       "    </tr>\n",
       "  </tbody>\n",
       "</table>\n",
       "</div>"
      ],
      "text/plain": [
       "   temperature_lag_2  atmospheric_pressure_lag_2  humidity_lag_2  \\\n",
       "0          16.104017                  991.702137       33.491679   \n",
       "\n",
       "   wind_speed_lag_2  temperature_lag_1  atmospheric_pressure_lag_1  \\\n",
       "0          5.722285           26.06481                  992.934297   \n",
       "\n",
       "   humidity_lag_1  wind_speed_lag_1       data  temperature  \\\n",
       "0       58.463331         16.400403 2026-12-07    15.764825   \n",
       "\n",
       "   atmospheric_pressure   humidity  wind_speed  \n",
       "0            997.960562  85.419949    1.430146  "
      ]
     },
     "execution_count": 31,
     "metadata": {},
     "output_type": "execute_result"
    }
   ],
   "source": [
    "new_input = [\n",
    "    [16.104017, 991.702137, 33.491679, 5.722285, 26.064810, 992.934297, 58.463331, 16.400403, '2026-12-07', 15.764825, 997.960562, 85.419949, 1.430146]\n",
    "]\n",
    "new_input_preprocessed = preprocess_inference_data(new_input, columns_metadata)\n",
    "new_input_preprocessed"
   ]
  },
  {
   "cell_type": "code",
   "execution_count": 32,
   "id": "c4f33da5-9543-4263-8637-80f491d7a14e",
   "metadata": {},
   "outputs": [
    {
     "name": "stdout",
     "output_type": "stream",
     "text": [
      "   target_prediction\n",
      "0           7.381963\n",
      "Total time: 0.11405682563781738\n"
     ]
    }
   ],
   "source": [
    "tic = time.time()\n",
    "print(loaded_model.predict(new_input_preprocessed))\n",
    "print(f'Total time: {time.time() - tic}')"
   ]
  },
  {
   "cell_type": "code",
   "execution_count": 33,
   "id": "d5b63747-b04b-49fa-a453-aa97452164d3",
   "metadata": {},
   "outputs": [
    {
     "data": {
      "image/png": "[encoded data removed]",
      "text/plain": [
       "<Figure size 1000x500 with 1 Axes>"
      ]
     },
     "metadata": {},
     "output_type": "display_data"
    }
   ],
   "source": [
    "import matplotlib.pyplot as plt\n",
    "\n",
    "# Temporal graph result\n",
    "plt.figure(figsize=(10, 5))\n",
    "plt.plot(test['data'], test['target'], marker='o', linestyle='-')\n",
    "plt.plot(test['data'], loaded_model.predict(test), marker='^', linestyle='-', label='Inferência', color='orange')\n",
    "plt.title('Real vs Predict')\n",
    "plt.xlabel('Data')\n",
    "plt.ylabel('Target')\n",
    "plt.grid(True)\n",
    "plt.xticks(rotation=45)\n",
    "plt.tight_layout()\n",
    "\n",
    "plt.show()"
   ]
  }
 ],
 "metadata": {
  "kernelspec": {
   "display_name": "Python 3 (ipykernel)",
   "language": "python",
   "name": "python3"
  },
  "language_info": {
   "codemirror_mode": {
    "name": "ipython",
    "version": 3
   },
   "file_extension": ".py",
   "mimetype": "text/x-python",
   "name": "python",
   "nbconvert_exporter": "python",
   "pygments_lexer": "ipython3",
   "version": "3.12.3"
  }
 },
 "nbformat": 4,
 "nbformat_minor": 5
}
