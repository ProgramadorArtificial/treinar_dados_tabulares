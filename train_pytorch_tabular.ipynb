{
 "cells": [
  {
   "cell_type": "markdown",
   "id": "bbab0916-5eca-48ac-ab1f-24cf9e0a26e1",
   "metadata": {},
   "source": [
    "# Pytorch Tabular\n",
    "Notebook pensando para facilitar e agiliar o treinamento de Deep Learning, sendo necessário, em grande parte das vezes, somente alterar o caminho do dataset e o tipo (classificador ou regressão). Assim como, quais arquiteturas serão utilizado para buscar os melhores hiperparâmetros."
   ]
  },
  {
   "cell_type": "code",
   "execution_count": 1,
   "id": "dab7ad7e-a0eb-440c-8de0-0b7339e55a49",
   "metadata": {},
   "outputs": [],
   "source": [
    "import warnings\n",
    "warnings.filterwarnings('ignore')\n",
    "\n",
    "import time\n",
    "import math\n",
    "import json\n",
    "\n",
    "import numpy as np\n",
    "import pandas as pd\n",
    "from sklearn.preprocessing import LabelEncoder\n",
    "\n",
    "# Pytorch Tabular\n",
    "from pytorch_tabular.config import (\n",
    "    DataConfig,\n",
    "    OptimizerConfig,\n",
    "    TrainerConfig,\n",
    ")"
   ]
  },
  {
   "cell_type": "markdown",
   "id": "ab280318-1eb7-470e-80d2-d62cffda931a",
   "metadata": {},
   "source": [
    "## Preparar Dataset"
   ]
  },
  {
   "cell_type": "code",
   "execution_count": 2,
   "id": "faa6c036-d86a-473a-8df0-b160a6ad90ba",
   "metadata": {},
   "outputs": [],
   "source": [
    "def preprocess_data(df, target_cols, max_unique_values=10, window_size=1):\n",
    "    \"\"\"\n",
    "    Preprocess dataset, converting string columns to number and identifying numeric, categorical, and date columns.\n",
    "    Adds a window of historical rows to the data.\n",
    "\n",
    "    Args:\n",
    "        df (DataFrame): DataFrame with data to analyze.\n",
    "        target_cols (list): All target columns to not add in numeric, categorical, or date feature lists.\n",
    "        max_unique_values (int): Maximum number of unique values to consider a numeric column as categorical.\n",
    "        window_size (int): Number of previous rows to include for each row.\n",
    "\n",
    "    Returns:\n",
    "        df_copy (DataFrame): Processed DataFrame with transformations applied.\n",
    "        num_col_names (list): List of numeric feature column names.\n",
    "        cat_col_names (list): List of categorical feature column names.\n",
    "        date_col_names (list): List of date feature column names.\n",
    "        mappings (dict): Mapping of original categorical values (or target columns) to transformed numeric values.\n",
    "    \"\"\"\n",
    "    # Create a copy so as not to alter the original DataFrame\n",
    "    df_copy = df.copy()\n",
    "\n",
    "    # Remove lines with null values\n",
    "    df_copy = df_copy.dropna()\n",
    "    \n",
    "    # Identify categorical and numeric columns\n",
    "    cat_col_names = df_copy.select_dtypes(include=['object', 'category']).columns.tolist()\n",
    "    num_col_names = df_copy.select_dtypes(include=['number']).columns.tolist()\n",
    "    date_col_names = []\n",
    "\n",
    "    # Identify columns that are dates\n",
    "    for col in df.columns:\n",
    "        if df[col].dtype in ['object', 'string']:  # Only check object/string columns\n",
    "            try:\n",
    "                # Attempt to convert the column to datetime\n",
    "                pd.to_datetime(df[col], errors='raise')\n",
    "                if col not in target_cols:  # Avoid considering target columns as date columns\n",
    "                    date_col_names.append(col)\n",
    "            except (ValueError, TypeError):\n",
    "                pass\n",
    "\n",
    "    # Identify numeric columns that are categorical\n",
    "    potential_categorical = []\n",
    "    for col in num_col_names:\n",
    "        if col not in target_cols and df_copy[col].nunique() <= max_unique_values:\n",
    "            potential_categorical.append(col)\n",
    "\n",
    "    cat_col_names += potential_categorical\n",
    "\n",
    "    # Remove target columns from the lists\n",
    "    num_col_names = [col for col in num_col_names if col not in potential_categorical + target_cols]\n",
    "    cat_col_names = [col for col in cat_col_names if col not in target_cols]\n",
    "    \n",
    "    mappings = {}\n",
    "    label_encoders = {}\n",
    "\n",
    "    # Convert string columns to category and create a mapping (old value -> new value)\n",
    "    for col in cat_col_names + target_cols:\n",
    "        if df_copy[col].dtype not in ['int64', 'float64']:\n",
    "            le = LabelEncoder()\n",
    "            df_copy[col] = le.fit_transform(df_copy[col])\n",
    "            mappings[col] = dict(zip(le.classes_, le.transform(le.classes_)))\n",
    "            label_encoders[col] = le\n",
    "            # Convert values to int (otherwise will raise error if save as json)\n",
    "            for key, value in mappings[col].items():\n",
    "                mappings[col][key] = int(value)\n",
    "        #else:\n",
    "        #    mappings[col] = {int(val): int(val) for val in df_copy[col].unique()}\n",
    "\n",
    "    # Add historical data based on window_size\n",
    "    if window_size > 1:\n",
    "        historical_features = []\n",
    "        for i in range(window_size - 1, 0, -1):  # Criar features lag, do mais antigo ao mais recente\n",
    "            shifted = df_copy.drop(columns=target_cols, errors='ignore').shift(i).add_suffix(f'_lag_{i}')\n",
    "            historical_features.append(shifted)\n",
    "        \n",
    "        # Concatenate the lags to the left and keep the current values\n",
    "        df_copy = pd.concat(historical_features + [df_copy], axis=1)\n",
    "    \n",
    "        # Remove NaNs columns created by shifts\n",
    "        df_copy = df_copy.dropna()\n",
    "    \n",
    "        # Add lags\n",
    "        num_col_lags = [f'{col}_lag_{i}' for i in range(window_size - 1, 0, -1) for col in num_col_names]\n",
    "        cat_col_lags = [f'{col}_lag_{i}' for i in range(window_size - 1, 0, -1) for col in cat_col_names]\n",
    "        date_col_lags = [f'{col}_lag_{i}' for i in range(window_size - 1, 0, -1) for col in date_col_names]\n",
    "        mappings_lags = {}\n",
    "        for col, value in mappings.items():\n",
    "            for i in range(window_size - 1, 0, -1):\n",
    "                mappings_lags[f'{col}_lag_{i}'] = value\n",
    "    \n",
    "        # Update main columns + lags columns\n",
    "        num_col_names = num_col_lags + num_col_names\n",
    "        cat_col_names = cat_col_lags + cat_col_names\n",
    "        date_col_names = date_col_lags + date_col_names\n",
    "        mappings = {**mappings_lags, **mappings}\n",
    "    \n",
    "    return df_copy, num_col_names, cat_col_names, date_col_names, mappings"
   ]
  },
  {
   "cell_type": "code",
   "execution_count": 3,
   "id": "185745e3-eb7c-4ea9-8c1a-b5aa6fa71b8e",
   "metadata": {},
   "outputs": [
    {
     "data": {
      "text/html": [
       "<div>\n",
       "<style scoped>\n",
       "    .dataframe tbody tr th:only-of-type {\n",
       "        vertical-align: middle;\n",
       "    }\n",
       "\n",
       "    .dataframe tbody tr th {\n",
       "        vertical-align: top;\n",
       "    }\n",
       "\n",
       "    .dataframe thead th {\n",
       "        text-align: right;\n",
       "    }\n",
       "</style>\n",
       "<table border=\"1\" class=\"dataframe\">\n",
       "  <thead>\n",
       "    <tr style=\"text-align: right;\">\n",
       "      <th></th>\n",
       "      <th>feature_1</th>\n",
       "      <th>feature_2</th>\n",
       "      <th>feature_3</th>\n",
       "      <th>feature_4</th>\n",
       "      <th>feature_5</th>\n",
       "      <th>feature_6</th>\n",
       "      <th>feature_7</th>\n",
       "      <th>feature_8</th>\n",
       "      <th>target</th>\n",
       "    </tr>\n",
       "  </thead>\n",
       "  <tbody>\n",
       "    <tr>\n",
       "      <th>0</th>\n",
       "      <td>40.943028</td>\n",
       "      <td>D</td>\n",
       "      <td>95.950177</td>\n",
       "      <td>146.784815</td>\n",
       "      <td>6.588798</td>\n",
       "      <td>-0.017978</td>\n",
       "      <td>0.95</td>\n",
       "      <td>0.888880</td>\n",
       "      <td>type_3</td>\n",
       "    </tr>\n",
       "    <tr>\n",
       "      <th>1</th>\n",
       "      <td>42.237444</td>\n",
       "      <td>B</td>\n",
       "      <td>33.414015</td>\n",
       "      <td>71.588105</td>\n",
       "      <td>6.105207</td>\n",
       "      <td>-1.757895</td>\n",
       "      <td>0.90</td>\n",
       "      <td>1.388618</td>\n",
       "      <td>type_5</td>\n",
       "    </tr>\n",
       "    <tr>\n",
       "      <th>2</th>\n",
       "      <td>37.878264</td>\n",
       "      <td>A</td>\n",
       "      <td>31.199837</td>\n",
       "      <td>30.619985</td>\n",
       "      <td>5.692548</td>\n",
       "      <td>-0.288549</td>\n",
       "      <td>1.10</td>\n",
       "      <td>0.917035</td>\n",
       "      <td>type_2</td>\n",
       "    </tr>\n",
       "    <tr>\n",
       "      <th>3</th>\n",
       "      <td>87.171440</td>\n",
       "      <td>B</td>\n",
       "      <td>191.086484</td>\n",
       "      <td>319.806626</td>\n",
       "      <td>6.836627</td>\n",
       "      <td>0.265401</td>\n",
       "      <td>0.90</td>\n",
       "      <td>0.532572</td>\n",
       "      <td>type_5</td>\n",
       "    </tr>\n",
       "    <tr>\n",
       "      <th>4</th>\n",
       "      <td>27.933675</td>\n",
       "      <td>F</td>\n",
       "      <td>150.254689</td>\n",
       "      <td>40.762944</td>\n",
       "      <td>6.264615</td>\n",
       "      <td>-1.445865</td>\n",
       "      <td>0.85</td>\n",
       "      <td>0.535997</td>\n",
       "      <td>type_1</td>\n",
       "    </tr>\n",
       "    <tr>\n",
       "      <th>...</th>\n",
       "      <td>...</td>\n",
       "      <td>...</td>\n",
       "      <td>...</td>\n",
       "      <td>...</td>\n",
       "      <td>...</td>\n",
       "      <td>...</td>\n",
       "      <td>...</td>\n",
       "      <td>...</td>\n",
       "      <td>...</td>\n",
       "    </tr>\n",
       "    <tr>\n",
       "      <th>195</th>\n",
       "      <td>61.195129</td>\n",
       "      <td>B</td>\n",
       "      <td>114.621312</td>\n",
       "      <td>29.869450</td>\n",
       "      <td>5.870176</td>\n",
       "      <td>-1.495742</td>\n",
       "      <td>0.90</td>\n",
       "      <td>0.778481</td>\n",
       "      <td>type_2</td>\n",
       "    </tr>\n",
       "    <tr>\n",
       "      <th>196</th>\n",
       "      <td>14.833770</td>\n",
       "      <td>A</td>\n",
       "      <td>36.977376</td>\n",
       "      <td>317.971808</td>\n",
       "      <td>6.861369</td>\n",
       "      <td>-0.662053</td>\n",
       "      <td>1.10</td>\n",
       "      <td>0.322761</td>\n",
       "      <td>type_2</td>\n",
       "    </tr>\n",
       "    <tr>\n",
       "      <th>197</th>\n",
       "      <td>63.152322</td>\n",
       "      <td>E</td>\n",
       "      <td>141.728085</td>\n",
       "      <td>272.614971</td>\n",
       "      <td>5.046595</td>\n",
       "      <td>1.387005</td>\n",
       "      <td>1.20</td>\n",
       "      <td>0.237381</td>\n",
       "      <td>type_2</td>\n",
       "    </tr>\n",
       "    <tr>\n",
       "      <th>198</th>\n",
       "      <td>98.931559</td>\n",
       "      <td>B</td>\n",
       "      <td>154.505133</td>\n",
       "      <td>155.600579</td>\n",
       "      <td>5.557602</td>\n",
       "      <td>-0.089959</td>\n",
       "      <td>0.90</td>\n",
       "      <td>1.100501</td>\n",
       "      <td>type_5</td>\n",
       "    </tr>\n",
       "    <tr>\n",
       "      <th>199</th>\n",
       "      <td>31.155830</td>\n",
       "      <td>A</td>\n",
       "      <td>19.982356</td>\n",
       "      <td>263.357353</td>\n",
       "      <td>6.448526</td>\n",
       "      <td>-0.206262</td>\n",
       "      <td>1.10</td>\n",
       "      <td>0.408565</td>\n",
       "      <td>type_1</td>\n",
       "    </tr>\n",
       "  </tbody>\n",
       "</table>\n",
       "<p>200 rows × 9 columns</p>\n",
       "</div>"
      ],
      "text/plain": [
       "     feature_1 feature_2   feature_3   feature_4  feature_5  feature_6  \\\n",
       "0    40.943028         D   95.950177  146.784815   6.588798  -0.017978   \n",
       "1    42.237444         B   33.414015   71.588105   6.105207  -1.757895   \n",
       "2    37.878264         A   31.199837   30.619985   5.692548  -0.288549   \n",
       "3    87.171440         B  191.086484  319.806626   6.836627   0.265401   \n",
       "4    27.933675         F  150.254689   40.762944   6.264615  -1.445865   \n",
       "..         ...       ...         ...         ...        ...        ...   \n",
       "195  61.195129         B  114.621312   29.869450   5.870176  -1.495742   \n",
       "196  14.833770         A   36.977376  317.971808   6.861369  -0.662053   \n",
       "197  63.152322         E  141.728085  272.614971   5.046595   1.387005   \n",
       "198  98.931559         B  154.505133  155.600579   5.557602  -0.089959   \n",
       "199  31.155830         A   19.982356  263.357353   6.448526  -0.206262   \n",
       "\n",
       "     feature_7  feature_8  target  \n",
       "0         0.95   0.888880  type_3  \n",
       "1         0.90   1.388618  type_5  \n",
       "2         1.10   0.917035  type_2  \n",
       "3         0.90   0.532572  type_5  \n",
       "4         0.85   0.535997  type_1  \n",
       "..         ...        ...     ...  \n",
       "195       0.90   0.778481  type_2  \n",
       "196       1.10   0.322761  type_2  \n",
       "197       1.20   0.237381  type_2  \n",
       "198       0.90   1.100501  type_5  \n",
       "199       1.10   0.408565  type_1  \n",
       "\n",
       "[200 rows x 9 columns]"
      ]
     },
     "execution_count": 3,
     "metadata": {},
     "output_type": "execute_result"
    }
   ],
   "source": [
    "df = pd.read_csv('dataset/synthetic_dataset_cat_1000.csv')\n",
    "model_type = 'classifier'  # classifier or regressor\n",
    "window_size = 1\n",
    "df"
   ]
  },
  {
   "cell_type": "code",
   "execution_count": 4,
   "id": "fd4af25a-5c0d-4143-b60c-e18881e93762",
   "metadata": {},
   "outputs": [],
   "source": [
    "target_cols = ['target']\n",
    "# Aplicar o pré-processamento\n",
    "df, num_col_names, cat_col_names, date_col_names, category_mappings = preprocess_data(df, target_cols, max_unique_values=10, window_size=window_size)\n",
    "col_names_order = df.columns.tolist()"
   ]
  },
  {
   "cell_type": "code",
   "execution_count": 5,
   "id": "37152cec-0231-4811-bb10-c942991209c1",
   "metadata": {},
   "outputs": [
    {
     "name": "stdout",
     "output_type": "stream",
     "text": [
      "col_names_order: ['feature_1', 'feature_2', 'feature_3', 'feature_4', 'feature_5', 'feature_6', 'feature_7', 'feature_8', 'target']\n",
      "num_col_names: ['feature_1', 'feature_3', 'feature_4', 'feature_5', 'feature_6', 'feature_8']\n",
      "cat_col_names: ['feature_2', 'feature_7']\n",
      "date_col_names: []\n",
      "target_cols: ['target']\n",
      "category_mappings: {'feature_2': {'A': 0, 'B': 1, 'C': 2, 'D': 3, 'E': 4, 'F': 5}, 'target': {'type_1': 0, 'type_2': 1, 'type_3': 2, 'type_4': 3, 'type_5': 4}}\n"
     ]
    }
   ],
   "source": [
    "print(f'''col_names_order: {col_names_order}\n",
    "num_col_names: {num_col_names}\n",
    "cat_col_names: {cat_col_names}\n",
    "date_col_names: {date_col_names}\n",
    "target_cols: {target_cols}\n",
    "category_mappings: {category_mappings}''')"
   ]
  },
  {
   "cell_type": "code",
   "execution_count": 6,
   "id": "4fcc2805-978c-4a48-8cb4-88cf8ab4f80b",
   "metadata": {},
   "outputs": [
    {
     "name": "stdout",
     "output_type": "stream",
     "text": [
      "<class 'pandas.core.frame.DataFrame'>\n",
      "Index: 199 entries, 0 to 199\n",
      "Data columns (total 9 columns):\n",
      " #   Column     Non-Null Count  Dtype  \n",
      "---  ------     --------------  -----  \n",
      " 0   feature_1  199 non-null    float64\n",
      " 1   feature_2  199 non-null    int64  \n",
      " 2   feature_3  199 non-null    float64\n",
      " 3   feature_4  199 non-null    float64\n",
      " 4   feature_5  199 non-null    float64\n",
      " 5   feature_6  199 non-null    float64\n",
      " 6   feature_7  199 non-null    float64\n",
      " 7   feature_8  199 non-null    float64\n",
      " 8   target     199 non-null    int64  \n",
      "dtypes: float64(7), int64(2)\n",
      "memory usage: 15.5 KB\n"
     ]
    }
   ],
   "source": [
    "df.info()"
   ]
  },
  {
   "cell_type": "code",
   "execution_count": 7,
   "id": "948fbfed-100e-4c72-9e82-7dca8b0f6575",
   "metadata": {},
   "outputs": [
    {
     "name": "stdout",
     "output_type": "stream",
     "text": [
      "target\n",
      "0         40\n",
      "1         40\n",
      "2         40\n",
      "3         40\n",
      "4         39\n",
      "Name: count, dtype: int64\n"
     ]
    }
   ],
   "source": [
    "if model_type == 'classifier':\n",
    "    print(df[target_cols].value_counts())"
   ]
  },
  {
   "cell_type": "markdown",
   "id": "42eaf0f8-86ce-424c-a7fe-5e0ae5dc3312",
   "metadata": {},
   "source": [
    "### Dataset Splitting"
   ]
  },
  {
   "cell_type": "code",
   "execution_count": 8,
   "id": "8859f571-d656-4a56-ad06-dcf37e01591c",
   "metadata": {},
   "outputs": [],
   "source": [
    "from sklearn.model_selection import train_test_split\n",
    "\n",
    "train, valid = train_test_split(df, random_state=42, test_size=0.3)\n",
    "#valid, test = train_test_split(valid, random_state=42, test_size=0.5)\n",
    "test = valid"
   ]
  },
  {
   "cell_type": "markdown",
   "id": "b4b94ab7-3a7a-4ae2-a16f-766d4c9e79fe",
   "metadata": {},
   "source": [
    "## Train Pytorch Tabular\n",
    "https://github.com/manujosephv/pytorch_tabular"
   ]
  },
  {
   "cell_type": "markdown",
   "id": "2a76926f-2ee1-440a-a617-6cabf2d6e719",
   "metadata": {},
   "source": [
    "### Preparar Configurações"
   ]
  },
  {
   "cell_type": "markdown",
   "id": "d6274514-85d6-4844-9634-e9bba6392ccf",
   "metadata": {},
   "source": [
    "No [DataConfig](https://pytorch-tabular.readthedocs.io/en/latest/data/#pytorch_tabular.config.DataConfig) estão as configurações do dataset, contendo as coluna no DataFrame Pandas que é o \"target\" (valor que será previsto), colunas que possuem dados continuos e de dados categóricos. Além de outras configurações que podem ser alteradas."
   ]
  },
  {
   "cell_type": "code",
   "execution_count": 9,
   "id": "98368c66-7982-4e8a-b8e8-11119ad56100",
   "metadata": {},
   "outputs": [],
   "source": [
    "data_config = DataConfig(\n",
    "    target=target_cols,  # target should always be a list. Multi-targets are only supported for regression. Multi-Task Classification is not implemented\n",
    "    continuous_cols=num_col_names,  # Column names of the numeric fields\n",
    "    categorical_cols=cat_col_names,  # Column names of the categorical fields\n",
    "    date_columns=date_col_names,  # (Column name, Freq, Format) tuples of the date fields. E.g. [(\"date\", \"M\", %Y-%m')]. freq = https://pandas.pydata.org/pandas-docs/stable/user_guide/timeseries.html#offset-aliases\n",
    "    normalize_continuous_features=True, # Flag to normalize the input features (continuous). Default True\n",
    "    num_workers=4\n",
    ")"
   ]
  },
  {
   "cell_type": "markdown",
   "id": "899beb41-8b8c-48ab-b6d7-2b57c46b6a93",
   "metadata": {},
   "source": [
    "No [TrainerConfig](https://pytorch-tabular.readthedocs.io/en/latest/training/#using-the-entire-pytorch-lightning-trainer) estão as configurações de treinamento, incluindo quais métricas iremos utilizar para avaliar o modelo e criar os checkpoints\n",
    "\n",
    "No [OptimizerConfig](https://pytorch-tabular.readthedocs.io/en/latest/optimizer/#pytorch_tabular.config.OptimizerConfig) estão as configurações do otimizado que será utilizador, sendo inclusive possível alterar seus parâmetros."
   ]
  },
  {
   "cell_type": "code",
   "execution_count": 10,
   "id": "e805d0ae-0948-4750-b60a-cb6021a91e71",
   "metadata": {},
   "outputs": [],
   "source": [
    "trainer_config = TrainerConfig(\n",
    "    auto_lr_find=True,  # Runs the LRFinder to automatically derive a learning rate. Default False\n",
    "    batch_size=64,\n",
    "    max_epochs=300,\n",
    "    min_epochs=50,\n",
    "    early_stopping='valid_accuracy' if model_type == 'classifier' else 'valid_loss', # Monitor for early stopping. valid_loss or valid_accuracy\n",
    "    early_stopping_mode = 'max' if model_type == 'classifier' else 'min', # Set the mode as min for val_loss (lower is better) and max for val_accuracy (higher is better)\n",
    "    early_stopping_patience=20, # No. of epochs of degradation training will wait before terminating\n",
    "    checkpoints='valid_accuracy' if model_type == 'classifier' else 'valid_loss', # Save best checkpoint monitoring\n",
    "    checkpoints_mode='max' if model_type == 'classifier' else 'min',  # Set the mode as min for valid_loss (lower is better) and max for valid_accuracy (higher is better)\n",
    ")\n",
    "\n",
    "optimizer_config = OptimizerConfig(\n",
    "    #optimizer='RMSprop',  # https://pytorch.org/docs/stable/optim.html#algorithms\n",
    "    #optimizer_params={'alpha': 0.99},\n",
    "    #lr_scheduler='StepLR',\n",
    "    #lr_scheduler_params={'step_size': 10},\n",
    ")"
   ]
  },
  {
   "cell_type": "markdown",
   "id": "4affc056-9d08-4931-8c23-fcd032525c04",
   "metadata": {},
   "source": [
    "## Train Many Models\n",
    "Entre tantas alternativas é difícil saber qual a melhora arquitetura utilizar, sem falar que muitas vezes uma arquitetura tem um desempenho muito bom em determinado assunto/dataset, mas isso não se mostra verdade entre outro cenário, dificultando escolher qual utilizar.\n",
    "\n",
    "Para ajudar nesse dilema o Pytorch Tabular possui a função [model_sweep](https://pytorch-tabular.readthedocs.io/en/latest/apidocs_coreclasses/#pytorch_tabular.model_sweep) que roda todas as arquiteturas com os hiperpâmetros padrões e seu resultado consiste no comparativo entre todos eles. Dessa forma sabemos em qual/quais arquiteturas devemos investir mais tempo para buscar melhorar seus hiperparâmetros.\n",
    "\n",
    "Vamos rodar a categoria \"high_memory\" que irá treinar todos modelos, inclusive os que utilizam bastante memória. Mas não se preocupe, se a memória não for suficiente a biblioteca irá ignorar o modelo e na tabela de resultados irá informar que não tinha memória suficiente (OOM). Ressaltando que pode ser interessante ter um batch_size pequeno para conseguir treinar todos os modelos sem resultar em OOM, ou rodar o modelo específico que deu OOM depois isoladamente com o batch_size que for suficiente :)."
   ]
  },
  {
   "cell_type": "code",
   "execution_count": 11,
   "id": "9b3cda33-ff13-44b1-a1f6-7dd8b96f8027",
   "metadata": {},
   "outputs": [],
   "source": [
    "from pytorch_tabular import model_sweep, tabular_model_sweep"
   ]
  },
  {
   "cell_type": "code",
   "execution_count": 12,
   "id": "9f6b38c6-1030-4f54-aae5-a4178f85ab7b",
   "metadata": {},
   "outputs": [],
   "source": [
    "#tabular_model_sweep.MODEL_SWEEP_PRESETS"
   ]
  },
  {
   "cell_type": "code",
   "execution_count": 13,
   "id": "fa294148-23cd-46f6-b798-7940409e5652",
   "metadata": {
    "scrolled": true
   },
   "outputs": [
    {
     "data": {
      "application/vnd.jupyter.widget-view+json": {
       "model_id": "424dfd0c6181442fa494262f602387b0",
       "version_major": 2,
       "version_minor": 0
      },
      "text/plain": [
       "Output()"
      ]
     },
     "metadata": {},
     "output_type": "display_data"
    },
    {
     "data": {
      "text/html": [
       "<pre style=\"white-space:pre;overflow-x:auto;line-height:normal;font-family:Menlo,'DejaVu Sans Mono',consolas,'Courier New',monospace\"><span style=\"color: #008080; text-decoration-color: #008080; font-weight: bold\">2025</span>-<span style=\"color: #008080; text-decoration-color: #008080; font-weight: bold\">02</span>-<span style=\"color: #008080; text-decoration-color: #008080; font-weight: bold\">27</span> <span style=\"color: #00ff00; text-decoration-color: #00ff00; font-weight: bold\">14:48:30</span>,<span style=\"color: #008080; text-decoration-color: #008080; font-weight: bold\">637</span> - <span style=\"font-weight: bold\">{</span>pytorch_tabular:<span style=\"color: #008080; text-decoration-color: #008080; font-weight: bold\">328</span><span style=\"font-weight: bold\">}</span> - INFO - Training AutoIntModel                                     \n",
       "</pre>\n"
      ],
      "text/plain": [
       "\u001b[1;36m2025\u001b[0m-\u001b[1;36m02\u001b[0m-\u001b[1;36m27\u001b[0m \u001b[1;92m14:48:30\u001b[0m,\u001b[1;36m637\u001b[0m - \u001b[1m{\u001b[0mpytorch_tabular:\u001b[1;36m328\u001b[0m\u001b[1m}\u001b[0m - INFO - Training AutoIntModel                                     \n"
      ]
     },
     "metadata": {},
     "output_type": "display_data"
    },
    {
     "data": {
      "application/vnd.jupyter.widget-view+json": {
       "model_id": "13e39b4433064d1995dcdf9e577e6709",
       "version_major": 2,
       "version_minor": 0
      },
      "text/plain": [
       "Finding best initial lr:   0%|          | 0/100 [00:00<?, ?it/s]"
      ]
     },
     "metadata": {},
     "output_type": "display_data"
    },
    {
     "data": {
      "text/html": [
       "<pre style=\"white-space:pre;overflow-x:auto;line-height:normal;font-family:Menlo,'DejaVu Sans Mono',consolas,'Courier New',monospace\"><span style=\"color: #008080; text-decoration-color: #008080; font-weight: bold\">2025</span>-<span style=\"color: #008080; text-decoration-color: #008080; font-weight: bold\">02</span>-<span style=\"color: #008080; text-decoration-color: #008080; font-weight: bold\">27</span> <span style=\"color: #00ff00; text-decoration-color: #00ff00; font-weight: bold\">14:48:45</span>,<span style=\"color: #008080; text-decoration-color: #008080; font-weight: bold\">546</span> - <span style=\"font-weight: bold\">{</span>pytorch_tabular:<span style=\"color: #008080; text-decoration-color: #008080; font-weight: bold\">382</span><span style=\"font-weight: bold\">}</span> - INFO - Finished Training AutoIntModel                            \n",
       "</pre>\n"
      ],
      "text/plain": [
       "\u001b[1;36m2025\u001b[0m-\u001b[1;36m02\u001b[0m-\u001b[1;36m27\u001b[0m \u001b[1;92m14:48:45\u001b[0m,\u001b[1;36m546\u001b[0m - \u001b[1m{\u001b[0mpytorch_tabular:\u001b[1;36m382\u001b[0m\u001b[1m}\u001b[0m - INFO - Finished Training AutoIntModel                            \n"
      ]
     },
     "metadata": {},
     "output_type": "display_data"
    },
    {
     "data": {
      "text/html": [
       "<pre style=\"white-space:pre;overflow-x:auto;line-height:normal;font-family:Menlo,'DejaVu Sans Mono',consolas,'Courier New',monospace\"><span style=\"color: #008080; text-decoration-color: #008080; font-weight: bold\">2025</span>-<span style=\"color: #008080; text-decoration-color: #008080; font-weight: bold\">02</span>-<span style=\"color: #008080; text-decoration-color: #008080; font-weight: bold\">27</span> <span style=\"color: #00ff00; text-decoration-color: #00ff00; font-weight: bold\">14:48:45</span>,<span style=\"color: #008080; text-decoration-color: #008080; font-weight: bold\">563</span> - <span style=\"font-weight: bold\">{</span>pytorch_tabular:<span style=\"color: #008080; text-decoration-color: #008080; font-weight: bold\">328</span><span style=\"font-weight: bold\">}</span> - INFO - Training CategoryEmbeddingModel                           \n",
       "</pre>\n"
      ],
      "text/plain": [
       "\u001b[1;36m2025\u001b[0m-\u001b[1;36m02\u001b[0m-\u001b[1;36m27\u001b[0m \u001b[1;92m14:48:45\u001b[0m,\u001b[1;36m563\u001b[0m - \u001b[1m{\u001b[0mpytorch_tabular:\u001b[1;36m328\u001b[0m\u001b[1m}\u001b[0m - INFO - Training CategoryEmbeddingModel                           \n"
      ]
     },
     "metadata": {},
     "output_type": "display_data"
    },
    {
     "data": {
      "application/vnd.jupyter.widget-view+json": {
       "model_id": "4ef9b7cbc1b843e4adce459725cf866a",
       "version_major": 2,
       "version_minor": 0
      },
      "text/plain": [
       "Finding best initial lr:   0%|          | 0/100 [00:00<?, ?it/s]"
      ]
     },
     "metadata": {},
     "output_type": "display_data"
    },
    {
     "data": {
      "text/html": [
       "<pre style=\"white-space:pre;overflow-x:auto;line-height:normal;font-family:Menlo,'DejaVu Sans Mono',consolas,'Courier New',monospace\"><span style=\"color: #008080; text-decoration-color: #008080; font-weight: bold\">2025</span>-<span style=\"color: #008080; text-decoration-color: #008080; font-weight: bold\">02</span>-<span style=\"color: #008080; text-decoration-color: #008080; font-weight: bold\">27</span> <span style=\"color: #00ff00; text-decoration-color: #00ff00; font-weight: bold\">14:48:59</span>,<span style=\"color: #008080; text-decoration-color: #008080; font-weight: bold\">520</span> - <span style=\"font-weight: bold\">{</span>pytorch_tabular:<span style=\"color: #008080; text-decoration-color: #008080; font-weight: bold\">382</span><span style=\"font-weight: bold\">}</span> - INFO - Finished Training CategoryEmbeddingModel                  \n",
       "</pre>\n"
      ],
      "text/plain": [
       "\u001b[1;36m2025\u001b[0m-\u001b[1;36m02\u001b[0m-\u001b[1;36m27\u001b[0m \u001b[1;92m14:48:59\u001b[0m,\u001b[1;36m520\u001b[0m - \u001b[1m{\u001b[0mpytorch_tabular:\u001b[1;36m382\u001b[0m\u001b[1m}\u001b[0m - INFO - Finished Training CategoryEmbeddingModel                  \n"
      ]
     },
     "metadata": {},
     "output_type": "display_data"
    },
    {
     "data": {
      "text/html": [
       "<pre style=\"white-space:pre;overflow-x:auto;line-height:normal;font-family:Menlo,'DejaVu Sans Mono',consolas,'Courier New',monospace\"><span style=\"color: #008080; text-decoration-color: #008080; font-weight: bold\">2025</span>-<span style=\"color: #008080; text-decoration-color: #008080; font-weight: bold\">02</span>-<span style=\"color: #008080; text-decoration-color: #008080; font-weight: bold\">27</span> <span style=\"color: #00ff00; text-decoration-color: #00ff00; font-weight: bold\">14:48:59</span>,<span style=\"color: #008080; text-decoration-color: #008080; font-weight: bold\">521</span> - <span style=\"font-weight: bold\">{</span>pytorch_tabular:<span style=\"color: #008080; text-decoration-color: #008080; font-weight: bold\">383</span><span style=\"font-weight: bold\">}</span> - INFO - Results: model: CategoryEmbeddingModel, # Params: <span style=\"color: #008080; text-decoration-color: #008080; font-weight: bold\">12</span> T,   \n",
       "epochs: <span style=\"color: #008080; text-decoration-color: #008080; font-weight: bold\">49</span>, test_loss_0: <span style=\"color: #008080; text-decoration-color: #008080; font-weight: bold\">3.177503824234009</span>, test_loss: <span style=\"color: #008080; text-decoration-color: #008080; font-weight: bold\">3.177503824234009</span>, test_accuracy: <span style=\"color: #008080; text-decoration-color: #008080; font-weight: bold\">0.46666666865348816</span>,      \n",
       "time_taken: <span style=\"color: #008080; text-decoration-color: #008080; font-weight: bold\">13.959921598434448</span>, time_taken_per_epoch: <span style=\"color: #008080; text-decoration-color: #008080; font-weight: bold\">0.28489635915172346</span>                                          \n",
       "</pre>\n"
      ],
      "text/plain": [
       "\u001b[1;36m2025\u001b[0m-\u001b[1;36m02\u001b[0m-\u001b[1;36m27\u001b[0m \u001b[1;92m14:48:59\u001b[0m,\u001b[1;36m521\u001b[0m - \u001b[1m{\u001b[0mpytorch_tabular:\u001b[1;36m383\u001b[0m\u001b[1m}\u001b[0m - INFO - Results: model: CategoryEmbeddingModel, # Params: \u001b[1;36m12\u001b[0m T,   \n",
       "epochs: \u001b[1;36m49\u001b[0m, test_loss_0: \u001b[1;36m3.177503824234009\u001b[0m, test_loss: \u001b[1;36m3.177503824234009\u001b[0m, test_accuracy: \u001b[1;36m0.46666666865348816\u001b[0m,      \n",
       "time_taken: \u001b[1;36m13.959921598434448\u001b[0m, time_taken_per_epoch: \u001b[1;36m0.28489635915172346\u001b[0m                                          \n"
      ]
     },
     "metadata": {},
     "output_type": "display_data"
    },
    {
     "data": {
      "text/html": [
       "<pre style=\"white-space:pre;overflow-x:auto;line-height:normal;font-family:Menlo,'DejaVu Sans Mono',consolas,'Courier New',monospace\"><span style=\"color: #008080; text-decoration-color: #008080; font-weight: bold\">2025</span>-<span style=\"color: #008080; text-decoration-color: #008080; font-weight: bold\">02</span>-<span style=\"color: #008080; text-decoration-color: #008080; font-weight: bold\">27</span> <span style=\"color: #00ff00; text-decoration-color: #00ff00; font-weight: bold\">14:48:59</span>,<span style=\"color: #008080; text-decoration-color: #008080; font-weight: bold\">536</span> - <span style=\"font-weight: bold\">{</span>pytorch_tabular:<span style=\"color: #008080; text-decoration-color: #008080; font-weight: bold\">328</span><span style=\"font-weight: bold\">}</span> - INFO - Training DANetModel                                       \n",
       "</pre>\n"
      ],
      "text/plain": [
       "\u001b[1;36m2025\u001b[0m-\u001b[1;36m02\u001b[0m-\u001b[1;36m27\u001b[0m \u001b[1;92m14:48:59\u001b[0m,\u001b[1;36m536\u001b[0m - \u001b[1m{\u001b[0mpytorch_tabular:\u001b[1;36m328\u001b[0m\u001b[1m}\u001b[0m - INFO - Training DANetModel                                       \n"
      ]
     },
     "metadata": {},
     "output_type": "display_data"
    },
    {
     "data": {
      "application/vnd.jupyter.widget-view+json": {
       "model_id": "dfbd168e9c684e87ac791ef3aa2d7e02",
       "version_major": 2,
       "version_minor": 0
      },
      "text/plain": [
       "Finding best initial lr:   0%|          | 0/100 [00:00<?, ?it/s]"
      ]
     },
     "metadata": {},
     "output_type": "display_data"
    },
    {
     "data": {
      "text/html": [
       "<pre style=\"white-space:pre;overflow-x:auto;line-height:normal;font-family:Menlo,'DejaVu Sans Mono',consolas,'Courier New',monospace\"><span style=\"color: #008080; text-decoration-color: #008080; font-weight: bold\">2025</span>-<span style=\"color: #008080; text-decoration-color: #008080; font-weight: bold\">02</span>-<span style=\"color: #008080; text-decoration-color: #008080; font-weight: bold\">27</span> <span style=\"color: #00ff00; text-decoration-color: #00ff00; font-weight: bold\">14:49:28</span>,<span style=\"color: #008080; text-decoration-color: #008080; font-weight: bold\">358</span> - <span style=\"font-weight: bold\">{</span>pytorch_tabular:<span style=\"color: #008080; text-decoration-color: #008080; font-weight: bold\">382</span><span style=\"font-weight: bold\">}</span> - INFO - Finished Training DANetModel                              \n",
       "</pre>\n"
      ],
      "text/plain": [
       "\u001b[1;36m2025\u001b[0m-\u001b[1;36m02\u001b[0m-\u001b[1;36m27\u001b[0m \u001b[1;92m14:49:28\u001b[0m,\u001b[1;36m358\u001b[0m - \u001b[1m{\u001b[0mpytorch_tabular:\u001b[1;36m382\u001b[0m\u001b[1m}\u001b[0m - INFO - Finished Training DANetModel                              \n"
      ]
     },
     "metadata": {},
     "output_type": "display_data"
    },
    {
     "data": {
      "text/html": [
       "<pre style=\"white-space:pre;overflow-x:auto;line-height:normal;font-family:Menlo,'DejaVu Sans Mono',consolas,'Courier New',monospace\"><span style=\"color: #008080; text-decoration-color: #008080; font-weight: bold\">2025</span>-<span style=\"color: #008080; text-decoration-color: #008080; font-weight: bold\">02</span>-<span style=\"color: #008080; text-decoration-color: #008080; font-weight: bold\">27</span> <span style=\"color: #00ff00; text-decoration-color: #00ff00; font-weight: bold\">14:49:28</span>,<span style=\"color: #008080; text-decoration-color: #008080; font-weight: bold\">359</span> - <span style=\"font-weight: bold\">{</span>pytorch_tabular:<span style=\"color: #008080; text-decoration-color: #008080; font-weight: bold\">383</span><span style=\"font-weight: bold\">}</span> - INFO - Results: model: DANetModel, # Params: <span style=\"color: #008080; text-decoration-color: #008080; font-weight: bold\">426</span> T, epochs: <span style=\"color: #008080; text-decoration-color: #008080; font-weight: bold\">52</span>,  \n",
       "test_loss_0: <span style=\"color: #008080; text-decoration-color: #008080; font-weight: bold\">4.639805316925049</span>, test_loss: <span style=\"color: #008080; text-decoration-color: #008080; font-weight: bold\">4.639805316925049</span>, test_accuracy: <span style=\"color: #008080; text-decoration-color: #008080; font-weight: bold\">0.44999998807907104</span>, time_taken:      \n",
       "<span style=\"color: #008080; text-decoration-color: #008080; font-weight: bold\">28.836186408996582</span>, time_taken_per_epoch: <span style=\"color: #008080; text-decoration-color: #008080; font-weight: bold\">0.5545420463268573</span>                                                       \n",
       "</pre>\n"
      ],
      "text/plain": [
       "\u001b[1;36m2025\u001b[0m-\u001b[1;36m02\u001b[0m-\u001b[1;36m27\u001b[0m \u001b[1;92m14:49:28\u001b[0m,\u001b[1;36m359\u001b[0m - \u001b[1m{\u001b[0mpytorch_tabular:\u001b[1;36m383\u001b[0m\u001b[1m}\u001b[0m - INFO - Results: model: DANetModel, # Params: \u001b[1;36m426\u001b[0m T, epochs: \u001b[1;36m52\u001b[0m,  \n",
       "test_loss_0: \u001b[1;36m4.639805316925049\u001b[0m, test_loss: \u001b[1;36m4.639805316925049\u001b[0m, test_accuracy: \u001b[1;36m0.44999998807907104\u001b[0m, time_taken:      \n",
       "\u001b[1;36m28.836186408996582\u001b[0m, time_taken_per_epoch: \u001b[1;36m0.5545420463268573\u001b[0m                                                       \n"
      ]
     },
     "metadata": {},
     "output_type": "display_data"
    },
    {
     "data": {
      "text/html": [
       "<pre style=\"white-space:pre;overflow-x:auto;line-height:normal;font-family:Menlo,'DejaVu Sans Mono',consolas,'Courier New',monospace\"><span style=\"color: #008080; text-decoration-color: #008080; font-weight: bold\">2025</span>-<span style=\"color: #008080; text-decoration-color: #008080; font-weight: bold\">02</span>-<span style=\"color: #008080; text-decoration-color: #008080; font-weight: bold\">27</span> <span style=\"color: #00ff00; text-decoration-color: #00ff00; font-weight: bold\">14:49:28</span>,<span style=\"color: #008080; text-decoration-color: #008080; font-weight: bold\">374</span> - <span style=\"font-weight: bold\">{</span>pytorch_tabular:<span style=\"color: #008080; text-decoration-color: #008080; font-weight: bold\">328</span><span style=\"font-weight: bold\">}</span> - INFO - Training FTTransformerModel                               \n",
       "</pre>\n"
      ],
      "text/plain": [
       "\u001b[1;36m2025\u001b[0m-\u001b[1;36m02\u001b[0m-\u001b[1;36m27\u001b[0m \u001b[1;92m14:49:28\u001b[0m,\u001b[1;36m374\u001b[0m - \u001b[1m{\u001b[0mpytorch_tabular:\u001b[1;36m328\u001b[0m\u001b[1m}\u001b[0m - INFO - Training FTTransformerModel                               \n"
      ]
     },
     "metadata": {},
     "output_type": "display_data"
    },
    {
     "data": {
      "application/vnd.jupyter.widget-view+json": {
       "model_id": "e100eb058872441bba976d24e8f8a9f9",
       "version_major": 2,
       "version_minor": 0
      },
      "text/plain": [
       "Finding best initial lr:   0%|          | 0/100 [00:00<?, ?it/s]"
      ]
     },
     "metadata": {},
     "output_type": "display_data"
    },
    {
     "data": {
      "text/html": [
       "<pre style=\"white-space:pre;overflow-x:auto;line-height:normal;font-family:Menlo,'DejaVu Sans Mono',consolas,'Courier New',monospace\"><span style=\"color: #008080; text-decoration-color: #008080; font-weight: bold\">2025</span>-<span style=\"color: #008080; text-decoration-color: #008080; font-weight: bold\">02</span>-<span style=\"color: #008080; text-decoration-color: #008080; font-weight: bold\">27</span> <span style=\"color: #00ff00; text-decoration-color: #00ff00; font-weight: bold\">14:49:50</span>,<span style=\"color: #008080; text-decoration-color: #008080; font-weight: bold\">645</span> - <span style=\"font-weight: bold\">{</span>pytorch_tabular:<span style=\"color: #008080; text-decoration-color: #008080; font-weight: bold\">382</span><span style=\"font-weight: bold\">}</span> - INFO - Finished Training FTTransformerModel                      \n",
       "</pre>\n"
      ],
      "text/plain": [
       "\u001b[1;36m2025\u001b[0m-\u001b[1;36m02\u001b[0m-\u001b[1;36m27\u001b[0m \u001b[1;92m14:49:50\u001b[0m,\u001b[1;36m645\u001b[0m - \u001b[1m{\u001b[0mpytorch_tabular:\u001b[1;36m382\u001b[0m\u001b[1m}\u001b[0m - INFO - Finished Training FTTransformerModel                      \n"
      ]
     },
     "metadata": {},
     "output_type": "display_data"
    },
    {
     "data": {
      "text/html": [
       "<pre style=\"white-space:pre;overflow-x:auto;line-height:normal;font-family:Menlo,'DejaVu Sans Mono',consolas,'Courier New',monospace\"><span style=\"color: #008080; text-decoration-color: #008080; font-weight: bold\">2025</span>-<span style=\"color: #008080; text-decoration-color: #008080; font-weight: bold\">02</span>-<span style=\"color: #008080; text-decoration-color: #008080; font-weight: bold\">27</span> <span style=\"color: #00ff00; text-decoration-color: #00ff00; font-weight: bold\">14:49:50</span>,<span style=\"color: #008080; text-decoration-color: #008080; font-weight: bold\">646</span> - <span style=\"font-weight: bold\">{</span>pytorch_tabular:<span style=\"color: #008080; text-decoration-color: #008080; font-weight: bold\">383</span><span style=\"font-weight: bold\">}</span> - INFO - Results: model: FTTransformerModel, # Params: <span style=\"color: #008080; text-decoration-color: #008080; font-weight: bold\">272</span> T,      \n",
       "epochs: <span style=\"color: #008080; text-decoration-color: #008080; font-weight: bold\">49</span>, test_loss_0: <span style=\"color: #008080; text-decoration-color: #008080; font-weight: bold\">1.6104044914245605</span>, test_loss: <span style=\"color: #008080; text-decoration-color: #008080; font-weight: bold\">1.6104044914245605</span>, test_accuracy: <span style=\"color: #008080; text-decoration-color: #008080; font-weight: bold\">0.5166666507720947</span>,     \n",
       "time_taken: <span style=\"color: #008080; text-decoration-color: #008080; font-weight: bold\">22.267496824264526</span>, time_taken_per_epoch: <span style=\"color: #008080; text-decoration-color: #008080; font-weight: bold\">0.45443871069927605</span>                                          \n",
       "</pre>\n"
      ],
      "text/plain": [
       "\u001b[1;36m2025\u001b[0m-\u001b[1;36m02\u001b[0m-\u001b[1;36m27\u001b[0m \u001b[1;92m14:49:50\u001b[0m,\u001b[1;36m646\u001b[0m - \u001b[1m{\u001b[0mpytorch_tabular:\u001b[1;36m383\u001b[0m\u001b[1m}\u001b[0m - INFO - Results: model: FTTransformerModel, # Params: \u001b[1;36m272\u001b[0m T,      \n",
       "epochs: \u001b[1;36m49\u001b[0m, test_loss_0: \u001b[1;36m1.6104044914245605\u001b[0m, test_loss: \u001b[1;36m1.6104044914245605\u001b[0m, test_accuracy: \u001b[1;36m0.5166666507720947\u001b[0m,     \n",
       "time_taken: \u001b[1;36m22.267496824264526\u001b[0m, time_taken_per_epoch: \u001b[1;36m0.45443871069927605\u001b[0m                                          \n"
      ]
     },
     "metadata": {},
     "output_type": "display_data"
    },
    {
     "data": {
      "text/html": [
       "<pre style=\"white-space:pre;overflow-x:auto;line-height:normal;font-family:Menlo,'DejaVu Sans Mono',consolas,'Courier New',monospace\"><span style=\"color: #008080; text-decoration-color: #008080; font-weight: bold\">2025</span>-<span style=\"color: #008080; text-decoration-color: #008080; font-weight: bold\">02</span>-<span style=\"color: #008080; text-decoration-color: #008080; font-weight: bold\">27</span> <span style=\"color: #00ff00; text-decoration-color: #00ff00; font-weight: bold\">14:49:50</span>,<span style=\"color: #008080; text-decoration-color: #008080; font-weight: bold\">660</span> - <span style=\"font-weight: bold\">{</span>pytorch_tabular:<span style=\"color: #008080; text-decoration-color: #008080; font-weight: bold\">328</span><span style=\"font-weight: bold\">}</span> - INFO - Training GANDALFModel                                     \n",
       "</pre>\n"
      ],
      "text/plain": [
       "\u001b[1;36m2025\u001b[0m-\u001b[1;36m02\u001b[0m-\u001b[1;36m27\u001b[0m \u001b[1;92m14:49:50\u001b[0m,\u001b[1;36m660\u001b[0m - \u001b[1m{\u001b[0mpytorch_tabular:\u001b[1;36m328\u001b[0m\u001b[1m}\u001b[0m - INFO - Training GANDALFModel                                     \n"
      ]
     },
     "metadata": {},
     "output_type": "display_data"
    },
    {
     "data": {
      "application/vnd.jupyter.widget-view+json": {
       "model_id": "1d378636963c42ce857d3efa7e95eb06",
       "version_major": 2,
       "version_minor": 0
      },
      "text/plain": [
       "Finding best initial lr:   0%|          | 0/100 [00:00<?, ?it/s]"
      ]
     },
     "metadata": {},
     "output_type": "display_data"
    },
    {
     "data": {
      "text/html": [
       "<pre style=\"white-space:pre;overflow-x:auto;line-height:normal;font-family:Menlo,'DejaVu Sans Mono',consolas,'Courier New',monospace\"><span style=\"color: #008080; text-decoration-color: #008080; font-weight: bold\">2025</span>-<span style=\"color: #008080; text-decoration-color: #008080; font-weight: bold\">02</span>-<span style=\"color: #008080; text-decoration-color: #008080; font-weight: bold\">27</span> <span style=\"color: #00ff00; text-decoration-color: #00ff00; font-weight: bold\">14:50:12</span>,<span style=\"color: #008080; text-decoration-color: #008080; font-weight: bold\">564</span> - <span style=\"font-weight: bold\">{</span>pytorch_tabular:<span style=\"color: #008080; text-decoration-color: #008080; font-weight: bold\">382</span><span style=\"font-weight: bold\">}</span> - INFO - Finished Training GANDALFModel                            \n",
       "</pre>\n"
      ],
      "text/plain": [
       "\u001b[1;36m2025\u001b[0m-\u001b[1;36m02\u001b[0m-\u001b[1;36m27\u001b[0m \u001b[1;92m14:50:12\u001b[0m,\u001b[1;36m564\u001b[0m - \u001b[1m{\u001b[0mpytorch_tabular:\u001b[1;36m382\u001b[0m\u001b[1m}\u001b[0m - INFO - Finished Training GANDALFModel                            \n"
      ]
     },
     "metadata": {},
     "output_type": "display_data"
    },
    {
     "data": {
      "text/html": [
       "<pre style=\"white-space:pre;overflow-x:auto;line-height:normal;font-family:Menlo,'DejaVu Sans Mono',consolas,'Courier New',monospace\"><span style=\"color: #008080; text-decoration-color: #008080; font-weight: bold\">2025</span>-<span style=\"color: #008080; text-decoration-color: #008080; font-weight: bold\">02</span>-<span style=\"color: #008080; text-decoration-color: #008080; font-weight: bold\">27</span> <span style=\"color: #00ff00; text-decoration-color: #00ff00; font-weight: bold\">14:50:12</span>,<span style=\"color: #008080; text-decoration-color: #008080; font-weight: bold\">565</span> - <span style=\"font-weight: bold\">{</span>pytorch_tabular:<span style=\"color: #008080; text-decoration-color: #008080; font-weight: bold\">383</span><span style=\"font-weight: bold\">}</span> - INFO - Results: model: GANDALFModel, # Params: <span style=\"color: #008080; text-decoration-color: #008080; font-weight: bold\">7</span> T, epochs: <span style=\"color: #008080; text-decoration-color: #008080; font-weight: bold\">49</span>,  \n",
       "test_loss_0: <span style=\"color: #008080; text-decoration-color: #008080; font-weight: bold\">3.0612165927886963</span>, test_loss: <span style=\"color: #008080; text-decoration-color: #008080; font-weight: bold\">3.0612165927886963</span>, test_accuracy: <span style=\"color: #008080; text-decoration-color: #008080; font-weight: bold\">0.3166666626930237</span>, time_taken:     \n",
       "<span style=\"color: #008080; text-decoration-color: #008080; font-weight: bold\">21.91795539855957</span>, time_taken_per_epoch: <span style=\"color: #008080; text-decoration-color: #008080; font-weight: bold\">0.44730521221550146</span>                                                       \n",
       "</pre>\n"
      ],
      "text/plain": [
       "\u001b[1;36m2025\u001b[0m-\u001b[1;36m02\u001b[0m-\u001b[1;36m27\u001b[0m \u001b[1;92m14:50:12\u001b[0m,\u001b[1;36m565\u001b[0m - \u001b[1m{\u001b[0mpytorch_tabular:\u001b[1;36m383\u001b[0m\u001b[1m}\u001b[0m - INFO - Results: model: GANDALFModel, # Params: \u001b[1;36m7\u001b[0m T, epochs: \u001b[1;36m49\u001b[0m,  \n",
       "test_loss_0: \u001b[1;36m3.0612165927886963\u001b[0m, test_loss: \u001b[1;36m3.0612165927886963\u001b[0m, test_accuracy: \u001b[1;36m0.3166666626930237\u001b[0m, time_taken:     \n",
       "\u001b[1;36m21.91795539855957\u001b[0m, time_taken_per_epoch: \u001b[1;36m0.44730521221550146\u001b[0m                                                       \n"
      ]
     },
     "metadata": {},
     "output_type": "display_data"
    },
    {
     "data": {
      "text/html": [
       "<pre style=\"white-space:pre;overflow-x:auto;line-height:normal;font-family:Menlo,'DejaVu Sans Mono',consolas,'Courier New',monospace\"><span style=\"color: #008080; text-decoration-color: #008080; font-weight: bold\">2025</span>-<span style=\"color: #008080; text-decoration-color: #008080; font-weight: bold\">02</span>-<span style=\"color: #008080; text-decoration-color: #008080; font-weight: bold\">27</span> <span style=\"color: #00ff00; text-decoration-color: #00ff00; font-weight: bold\">14:50:12</span>,<span style=\"color: #008080; text-decoration-color: #008080; font-weight: bold\">581</span> - <span style=\"font-weight: bold\">{</span>pytorch_tabular:<span style=\"color: #008080; text-decoration-color: #008080; font-weight: bold\">328</span><span style=\"font-weight: bold\">}</span> - INFO - Training GatedAdditiveTreeEnsembleModel                   \n",
       "</pre>\n"
      ],
      "text/plain": [
       "\u001b[1;36m2025\u001b[0m-\u001b[1;36m02\u001b[0m-\u001b[1;36m27\u001b[0m \u001b[1;92m14:50:12\u001b[0m,\u001b[1;36m581\u001b[0m - \u001b[1m{\u001b[0mpytorch_tabular:\u001b[1;36m328\u001b[0m\u001b[1m}\u001b[0m - INFO - Training GatedAdditiveTreeEnsembleModel                   \n"
      ]
     },
     "metadata": {},
     "output_type": "display_data"
    },
    {
     "data": {
      "application/vnd.jupyter.widget-view+json": {
       "model_id": "ceddff73696e4c61a85e1a9f5e294923",
       "version_major": 2,
       "version_minor": 0
      },
      "text/plain": [
       "Finding best initial lr:   0%|          | 0/100 [00:00<?, ?it/s]"
      ]
     },
     "metadata": {},
     "output_type": "display_data"
    },
    {
     "data": {
      "text/html": [
       "<pre style=\"white-space:pre;overflow-x:auto;line-height:normal;font-family:Menlo,'DejaVu Sans Mono',consolas,'Courier New',monospace\"><span style=\"color: #008080; text-decoration-color: #008080; font-weight: bold\">2025</span>-<span style=\"color: #008080; text-decoration-color: #008080; font-weight: bold\">02</span>-<span style=\"color: #008080; text-decoration-color: #008080; font-weight: bold\">27</span> <span style=\"color: #00ff00; text-decoration-color: #00ff00; font-weight: bold\">14:50:48</span>,<span style=\"color: #008080; text-decoration-color: #008080; font-weight: bold\">644</span> - <span style=\"font-weight: bold\">{</span>pytorch_tabular:<span style=\"color: #008080; text-decoration-color: #008080; font-weight: bold\">382</span><span style=\"font-weight: bold\">}</span> - INFO - Finished Training GatedAdditiveTreeEnsembleModel          \n",
       "</pre>\n"
      ],
      "text/plain": [
       "\u001b[1;36m2025\u001b[0m-\u001b[1;36m02\u001b[0m-\u001b[1;36m27\u001b[0m \u001b[1;92m14:50:48\u001b[0m,\u001b[1;36m644\u001b[0m - \u001b[1m{\u001b[0mpytorch_tabular:\u001b[1;36m382\u001b[0m\u001b[1m}\u001b[0m - INFO - Finished Training GatedAdditiveTreeEnsembleModel          \n"
      ]
     },
     "metadata": {},
     "output_type": "display_data"
    },
    {
     "data": {
      "text/html": [
       "<pre style=\"white-space:pre;overflow-x:auto;line-height:normal;font-family:Menlo,'DejaVu Sans Mono',consolas,'Courier New',monospace\"><span style=\"color: #008080; text-decoration-color: #008080; font-weight: bold\">2025</span>-<span style=\"color: #008080; text-decoration-color: #008080; font-weight: bold\">02</span>-<span style=\"color: #008080; text-decoration-color: #008080; font-weight: bold\">27</span> <span style=\"color: #00ff00; text-decoration-color: #00ff00; font-weight: bold\">14:50:48</span>,<span style=\"color: #008080; text-decoration-color: #008080; font-weight: bold\">645</span> - <span style=\"font-weight: bold\">{</span>pytorch_tabular:<span style=\"color: #008080; text-decoration-color: #008080; font-weight: bold\">383</span><span style=\"font-weight: bold\">}</span> - INFO - Results: model: GatedAdditiveTreeEnsembleModel, # Params: \n",
       "<span style=\"color: #008080; text-decoration-color: #008080; font-weight: bold\">77</span> T, epochs: <span style=\"color: #008080; text-decoration-color: #008080; font-weight: bold\">49</span>, test_loss_0: <span style=\"color: #008080; text-decoration-color: #008080; font-weight: bold\">4.81880521774292</span>, test_loss: <span style=\"color: #008080; text-decoration-color: #008080; font-weight: bold\">4.81880521774292</span>, test_accuracy: <span style=\"color: #008080; text-decoration-color: #008080; font-weight: bold\">0.1666666716337204</span>,   \n",
       "time_taken: <span style=\"color: #008080; text-decoration-color: #008080; font-weight: bold\">36.07756042480469</span>, time_taken_per_epoch: <span style=\"color: #008080; text-decoration-color: #008080; font-weight: bold\">0.736276743363361</span>                                             \n",
       "</pre>\n"
      ],
      "text/plain": [
       "\u001b[1;36m2025\u001b[0m-\u001b[1;36m02\u001b[0m-\u001b[1;36m27\u001b[0m \u001b[1;92m14:50:48\u001b[0m,\u001b[1;36m645\u001b[0m - \u001b[1m{\u001b[0mpytorch_tabular:\u001b[1;36m383\u001b[0m\u001b[1m}\u001b[0m - INFO - Results: model: GatedAdditiveTreeEnsembleModel, # Params: \n",
       "\u001b[1;36m77\u001b[0m T, epochs: \u001b[1;36m49\u001b[0m, test_loss_0: \u001b[1;36m4.81880521774292\u001b[0m, test_loss: \u001b[1;36m4.81880521774292\u001b[0m, test_accuracy: \u001b[1;36m0.1666666716337204\u001b[0m,   \n",
       "time_taken: \u001b[1;36m36.07756042480469\u001b[0m, time_taken_per_epoch: \u001b[1;36m0.736276743363361\u001b[0m                                             \n"
      ]
     },
     "metadata": {},
     "output_type": "display_data"
    },
    {
     "data": {
      "text/html": [
       "<pre style=\"white-space:pre;overflow-x:auto;line-height:normal;font-family:Menlo,'DejaVu Sans Mono',consolas,'Courier New',monospace\"><span style=\"color: #008080; text-decoration-color: #008080; font-weight: bold\">2025</span>-<span style=\"color: #008080; text-decoration-color: #008080; font-weight: bold\">02</span>-<span style=\"color: #008080; text-decoration-color: #008080; font-weight: bold\">27</span> <span style=\"color: #00ff00; text-decoration-color: #00ff00; font-weight: bold\">14:50:48</span>,<span style=\"color: #008080; text-decoration-color: #008080; font-weight: bold\">660</span> - <span style=\"font-weight: bold\">{</span>pytorch_tabular:<span style=\"color: #008080; text-decoration-color: #008080; font-weight: bold\">328</span><span style=\"font-weight: bold\">}</span> - INFO - Training NODEModel                                        \n",
       "</pre>\n"
      ],
      "text/plain": [
       "\u001b[1;36m2025\u001b[0m-\u001b[1;36m02\u001b[0m-\u001b[1;36m27\u001b[0m \u001b[1;92m14:50:48\u001b[0m,\u001b[1;36m660\u001b[0m - \u001b[1m{\u001b[0mpytorch_tabular:\u001b[1;36m328\u001b[0m\u001b[1m}\u001b[0m - INFO - Training NODEModel                                        \n"
      ]
     },
     "metadata": {},
     "output_type": "display_data"
    },
    {
     "data": {
      "text/html": [
       "<pre style=\"white-space:pre;overflow-x:auto;line-height:normal;font-family:Menlo,'DejaVu Sans Mono',consolas,'Courier New',monospace\"><span style=\"color: #008080; text-decoration-color: #008080; font-weight: bold\">2025</span>-<span style=\"color: #008080; text-decoration-color: #008080; font-weight: bold\">02</span>-<span style=\"color: #008080; text-decoration-color: #008080; font-weight: bold\">27</span> <span style=\"color: #00ff00; text-decoration-color: #00ff00; font-weight: bold\">14:50:48</span>,<span style=\"color: #008080; text-decoration-color: #008080; font-weight: bold\">681</span> - <span style=\"font-weight: bold\">{</span>pytorch_tabular.models.node.node_model:<span style=\"color: #008080; text-decoration-color: #008080; font-weight: bold\">74</span><span style=\"font-weight: bold\">}</span> - INFO - Data Aware Initialization of NODE   \n",
       "using a forward pass with <span style=\"color: #008080; text-decoration-color: #008080; font-weight: bold\">2000</span> batch size<span style=\"color: #808000; text-decoration-color: #808000\">...</span>.                                                                      \n",
       "</pre>\n"
      ],
      "text/plain": [
       "\u001b[1;36m2025\u001b[0m-\u001b[1;36m02\u001b[0m-\u001b[1;36m27\u001b[0m \u001b[1;92m14:50:48\u001b[0m,\u001b[1;36m681\u001b[0m - \u001b[1m{\u001b[0mpytorch_tabular.models.node.node_model:\u001b[1;36m74\u001b[0m\u001b[1m}\u001b[0m - INFO - Data Aware Initialization of NODE   \n",
       "using a forward pass with \u001b[1;36m2000\u001b[0m batch size\u001b[33m...\u001b[0m.                                                                      \n"
      ]
     },
     "metadata": {},
     "output_type": "display_data"
    },
    {
     "data": {
      "application/vnd.jupyter.widget-view+json": {
       "model_id": "f727631689d74aff94f79d952ecbeb2b",
       "version_major": 2,
       "version_minor": 0
      },
      "text/plain": [
       "Finding best initial lr:   0%|          | 0/100 [00:00<?, ?it/s]"
      ]
     },
     "metadata": {},
     "output_type": "display_data"
    },
    {
     "data": {
      "text/html": [
       "<pre style=\"white-space:pre;overflow-x:auto;line-height:normal;font-family:Menlo,'DejaVu Sans Mono',consolas,'Courier New',monospace\"><span style=\"color: #008080; text-decoration-color: #008080; font-weight: bold\">2025</span>-<span style=\"color: #008080; text-decoration-color: #008080; font-weight: bold\">02</span>-<span style=\"color: #008080; text-decoration-color: #008080; font-weight: bold\">27</span> <span style=\"color: #00ff00; text-decoration-color: #00ff00; font-weight: bold\">14:51:02</span>,<span style=\"color: #008080; text-decoration-color: #008080; font-weight: bold\">627</span> - <span style=\"font-weight: bold\">{</span>pytorch_tabular.models.node.node_model:<span style=\"color: #008080; text-decoration-color: #008080; font-weight: bold\">74</span><span style=\"font-weight: bold\">}</span> - INFO - Data Aware Initialization of NODE   \n",
       "using a forward pass with <span style=\"color: #008080; text-decoration-color: #008080; font-weight: bold\">2000</span> batch size<span style=\"color: #808000; text-decoration-color: #808000\">...</span>.                                                                      \n",
       "</pre>\n"
      ],
      "text/plain": [
       "\u001b[1;36m2025\u001b[0m-\u001b[1;36m02\u001b[0m-\u001b[1;36m27\u001b[0m \u001b[1;92m14:51:02\u001b[0m,\u001b[1;36m627\u001b[0m - \u001b[1m{\u001b[0mpytorch_tabular.models.node.node_model:\u001b[1;36m74\u001b[0m\u001b[1m}\u001b[0m - INFO - Data Aware Initialization of NODE   \n",
       "using a forward pass with \u001b[1;36m2000\u001b[0m batch size\u001b[33m...\u001b[0m.                                                                      \n"
      ]
     },
     "metadata": {},
     "output_type": "display_data"
    },
    {
     "data": {
      "text/html": [
       "<pre style=\"white-space:pre;overflow-x:auto;line-height:normal;font-family:Menlo,'DejaVu Sans Mono',consolas,'Courier New',monospace\"><span style=\"color: #008080; text-decoration-color: #008080; font-weight: bold\">2025</span>-<span style=\"color: #008080; text-decoration-color: #008080; font-weight: bold\">02</span>-<span style=\"color: #008080; text-decoration-color: #008080; font-weight: bold\">27</span> <span style=\"color: #00ff00; text-decoration-color: #00ff00; font-weight: bold\">14:51:17</span>,<span style=\"color: #008080; text-decoration-color: #008080; font-weight: bold\">070</span> - <span style=\"font-weight: bold\">{</span>pytorch_tabular:<span style=\"color: #008080; text-decoration-color: #008080; font-weight: bold\">382</span><span style=\"font-weight: bold\">}</span> - INFO - Finished Training NODEModel                               \n",
       "</pre>\n"
      ],
      "text/plain": [
       "\u001b[1;36m2025\u001b[0m-\u001b[1;36m02\u001b[0m-\u001b[1;36m27\u001b[0m \u001b[1;92m14:51:17\u001b[0m,\u001b[1;36m070\u001b[0m - \u001b[1m{\u001b[0mpytorch_tabular:\u001b[1;36m382\u001b[0m\u001b[1m}\u001b[0m - INFO - Finished Training NODEModel                               \n"
      ]
     },
     "metadata": {},
     "output_type": "display_data"
    },
    {
     "data": {
      "text/html": [
       "<pre style=\"white-space:pre;overflow-x:auto;line-height:normal;font-family:Menlo,'DejaVu Sans Mono',consolas,'Courier New',monospace\"><span style=\"color: #008080; text-decoration-color: #008080; font-weight: bold\">2025</span>-<span style=\"color: #008080; text-decoration-color: #008080; font-weight: bold\">02</span>-<span style=\"color: #008080; text-decoration-color: #008080; font-weight: bold\">27</span> <span style=\"color: #00ff00; text-decoration-color: #00ff00; font-weight: bold\">14:51:17</span>,<span style=\"color: #008080; text-decoration-color: #008080; font-weight: bold\">071</span> - <span style=\"font-weight: bold\">{</span>pytorch_tabular:<span style=\"color: #008080; text-decoration-color: #008080; font-weight: bold\">383</span><span style=\"font-weight: bold\">}</span> - INFO - Results: model: NODEModel, # Params: <span style=\"color: #008080; text-decoration-color: #008080; font-weight: bold\">1</span> M, epochs: <span style=\"color: #008080; text-decoration-color: #008080; font-weight: bold\">49</span>,     \n",
       "test_loss_0: <span style=\"color: #008080; text-decoration-color: #008080; font-weight: bold\">1.3971773386001587</span>, test_loss: <span style=\"color: #008080; text-decoration-color: #008080; font-weight: bold\">1.3971773386001587</span>, test_accuracy: <span style=\"color: #008080; text-decoration-color: #008080; font-weight: bold\">0.4833333194255829</span>, time_taken:     \n",
       "<span style=\"color: #008080; text-decoration-color: #008080; font-weight: bold\">28.40825867652893</span>, time_taken_per_epoch: <span style=\"color: #008080; text-decoration-color: #008080; font-weight: bold\">0.5797603811536517</span>                                                        \n",
       "</pre>\n"
      ],
      "text/plain": [
       "\u001b[1;36m2025\u001b[0m-\u001b[1;36m02\u001b[0m-\u001b[1;36m27\u001b[0m \u001b[1;92m14:51:17\u001b[0m,\u001b[1;36m071\u001b[0m - \u001b[1m{\u001b[0mpytorch_tabular:\u001b[1;36m383\u001b[0m\u001b[1m}\u001b[0m - INFO - Results: model: NODEModel, # Params: \u001b[1;36m1\u001b[0m M, epochs: \u001b[1;36m49\u001b[0m,     \n",
       "test_loss_0: \u001b[1;36m1.3971773386001587\u001b[0m, test_loss: \u001b[1;36m1.3971773386001587\u001b[0m, test_accuracy: \u001b[1;36m0.4833333194255829\u001b[0m, time_taken:     \n",
       "\u001b[1;36m28.40825867652893\u001b[0m, time_taken_per_epoch: \u001b[1;36m0.5797603811536517\u001b[0m                                                        \n"
      ]
     },
     "metadata": {},
     "output_type": "display_data"
    },
    {
     "data": {
      "text/html": [
       "<pre style=\"white-space:pre;overflow-x:auto;line-height:normal;font-family:Menlo,'DejaVu Sans Mono',consolas,'Courier New',monospace\"><span style=\"color: #008080; text-decoration-color: #008080; font-weight: bold\">2025</span>-<span style=\"color: #008080; text-decoration-color: #008080; font-weight: bold\">02</span>-<span style=\"color: #008080; text-decoration-color: #008080; font-weight: bold\">27</span> <span style=\"color: #00ff00; text-decoration-color: #00ff00; font-weight: bold\">14:51:17</span>,<span style=\"color: #008080; text-decoration-color: #008080; font-weight: bold\">088</span> - <span style=\"font-weight: bold\">{</span>pytorch_tabular:<span style=\"color: #008080; text-decoration-color: #008080; font-weight: bold\">328</span><span style=\"font-weight: bold\">}</span> - INFO - Training TabNetModel                                      \n",
       "</pre>\n"
      ],
      "text/plain": [
       "\u001b[1;36m2025\u001b[0m-\u001b[1;36m02\u001b[0m-\u001b[1;36m27\u001b[0m \u001b[1;92m14:51:17\u001b[0m,\u001b[1;36m088\u001b[0m - \u001b[1m{\u001b[0mpytorch_tabular:\u001b[1;36m328\u001b[0m\u001b[1m}\u001b[0m - INFO - Training TabNetModel                                      \n"
      ]
     },
     "metadata": {},
     "output_type": "display_data"
    },
    {
     "data": {
      "application/vnd.jupyter.widget-view+json": {
       "model_id": "f7406b22491a4f949acb8a9cc910cdfa",
       "version_major": 2,
       "version_minor": 0
      },
      "text/plain": [
       "Finding best initial lr:   0%|          | 0/100 [00:00<?, ?it/s]"
      ]
     },
     "metadata": {},
     "output_type": "display_data"
    },
    {
     "data": {
      "text/html": [
       "<pre style=\"white-space:pre;overflow-x:auto;line-height:normal;font-family:Menlo,'DejaVu Sans Mono',consolas,'Courier New',monospace\"><span style=\"color: #008080; text-decoration-color: #008080; font-weight: bold\">2025</span>-<span style=\"color: #008080; text-decoration-color: #008080; font-weight: bold\">02</span>-<span style=\"color: #008080; text-decoration-color: #008080; font-weight: bold\">27</span> <span style=\"color: #00ff00; text-decoration-color: #00ff00; font-weight: bold\">14:51:42</span>,<span style=\"color: #008080; text-decoration-color: #008080; font-weight: bold\">367</span> - <span style=\"font-weight: bold\">{</span>pytorch_tabular:<span style=\"color: #008080; text-decoration-color: #008080; font-weight: bold\">382</span><span style=\"font-weight: bold\">}</span> - INFO - Finished Training TabNetModel                             \n",
       "</pre>\n"
      ],
      "text/plain": [
       "\u001b[1;36m2025\u001b[0m-\u001b[1;36m02\u001b[0m-\u001b[1;36m27\u001b[0m \u001b[1;92m14:51:42\u001b[0m,\u001b[1;36m367\u001b[0m - \u001b[1m{\u001b[0mpytorch_tabular:\u001b[1;36m382\u001b[0m\u001b[1m}\u001b[0m - INFO - Finished Training TabNetModel                             \n"
      ]
     },
     "metadata": {},
     "output_type": "display_data"
    },
    {
     "data": {
      "text/html": [
       "<pre style=\"white-space:pre;overflow-x:auto;line-height:normal;font-family:Menlo,'DejaVu Sans Mono',consolas,'Courier New',monospace\"><span style=\"color: #008080; text-decoration-color: #008080; font-weight: bold\">2025</span>-<span style=\"color: #008080; text-decoration-color: #008080; font-weight: bold\">02</span>-<span style=\"color: #008080; text-decoration-color: #008080; font-weight: bold\">27</span> <span style=\"color: #00ff00; text-decoration-color: #00ff00; font-weight: bold\">14:51:42</span>,<span style=\"color: #008080; text-decoration-color: #008080; font-weight: bold\">369</span> - <span style=\"font-weight: bold\">{</span>pytorch_tabular:<span style=\"color: #008080; text-decoration-color: #008080; font-weight: bold\">383</span><span style=\"font-weight: bold\">}</span> - INFO - Results: model: TabNetModel, # Params: <span style=\"color: #008080; text-decoration-color: #008080; font-weight: bold\">6</span> T, epochs: <span style=\"color: #008080; text-decoration-color: #008080; font-weight: bold\">23</span>,   \n",
       "test_loss_0: <span style=\"color: #008080; text-decoration-color: #008080; font-weight: bold\">3.123070001602173</span>, test_loss: <span style=\"color: #008080; text-decoration-color: #008080; font-weight: bold\">3.123070001602173</span>, test_accuracy: <span style=\"color: #008080; text-decoration-color: #008080; font-weight: bold\">0.28333333134651184</span>, time_taken:      \n",
       "<span style=\"color: #008080; text-decoration-color: #008080; font-weight: bold\">25.295644998550415</span>, time_taken_per_epoch: <span style=\"color: #008080; text-decoration-color: #008080; font-weight: bold\">1.0998106521108877</span>                                                       \n",
       "</pre>\n"
      ],
      "text/plain": [
       "\u001b[1;36m2025\u001b[0m-\u001b[1;36m02\u001b[0m-\u001b[1;36m27\u001b[0m \u001b[1;92m14:51:42\u001b[0m,\u001b[1;36m369\u001b[0m - \u001b[1m{\u001b[0mpytorch_tabular:\u001b[1;36m383\u001b[0m\u001b[1m}\u001b[0m - INFO - Results: model: TabNetModel, # Params: \u001b[1;36m6\u001b[0m T, epochs: \u001b[1;36m23\u001b[0m,   \n",
       "test_loss_0: \u001b[1;36m3.123070001602173\u001b[0m, test_loss: \u001b[1;36m3.123070001602173\u001b[0m, test_accuracy: \u001b[1;36m0.28333333134651184\u001b[0m, time_taken:      \n",
       "\u001b[1;36m25.295644998550415\u001b[0m, time_taken_per_epoch: \u001b[1;36m1.0998106521108877\u001b[0m                                                       \n"
      ]
     },
     "metadata": {},
     "output_type": "display_data"
    },
    {
     "data": {
      "text/html": [
       "<pre style=\"white-space:pre;overflow-x:auto;line-height:normal;font-family:Menlo,'DejaVu Sans Mono',consolas,'Courier New',monospace\"><span style=\"color: #008080; text-decoration-color: #008080; font-weight: bold\">2025</span>-<span style=\"color: #008080; text-decoration-color: #008080; font-weight: bold\">02</span>-<span style=\"color: #008080; text-decoration-color: #008080; font-weight: bold\">27</span> <span style=\"color: #00ff00; text-decoration-color: #00ff00; font-weight: bold\">14:51:42</span>,<span style=\"color: #008080; text-decoration-color: #008080; font-weight: bold\">385</span> - <span style=\"font-weight: bold\">{</span>pytorch_tabular:<span style=\"color: #008080; text-decoration-color: #008080; font-weight: bold\">328</span><span style=\"font-weight: bold\">}</span> - INFO - Training TabTransformerModel                              \n",
       "</pre>\n"
      ],
      "text/plain": [
       "\u001b[1;36m2025\u001b[0m-\u001b[1;36m02\u001b[0m-\u001b[1;36m27\u001b[0m \u001b[1;92m14:51:42\u001b[0m,\u001b[1;36m385\u001b[0m - \u001b[1m{\u001b[0mpytorch_tabular:\u001b[1;36m328\u001b[0m\u001b[1m}\u001b[0m - INFO - Training TabTransformerModel                              \n"
      ]
     },
     "metadata": {},
     "output_type": "display_data"
    },
    {
     "data": {
      "application/vnd.jupyter.widget-view+json": {
       "model_id": "f07996ac521e40db9b649cab2ba38839",
       "version_major": 2,
       "version_minor": 0
      },
      "text/plain": [
       "Finding best initial lr:   0%|          | 0/100 [00:00<?, ?it/s]"
      ]
     },
     "metadata": {},
     "output_type": "display_data"
    },
    {
     "data": {
      "text/html": [
       "<pre style=\"white-space:pre;overflow-x:auto;line-height:normal;font-family:Menlo,'DejaVu Sans Mono',consolas,'Courier New',monospace\"><span style=\"color: #008080; text-decoration-color: #008080; font-weight: bold\">2025</span>-<span style=\"color: #008080; text-decoration-color: #008080; font-weight: bold\">02</span>-<span style=\"color: #008080; text-decoration-color: #008080; font-weight: bold\">27</span> <span style=\"color: #00ff00; text-decoration-color: #00ff00; font-weight: bold\">14:52:06</span>,<span style=\"color: #008080; text-decoration-color: #008080; font-weight: bold\">893</span> - <span style=\"font-weight: bold\">{</span>pytorch_tabular:<span style=\"color: #008080; text-decoration-color: #008080; font-weight: bold\">382</span><span style=\"font-weight: bold\">}</span> - INFO - Finished Training TabTransformerModel                     \n",
       "</pre>\n"
      ],
      "text/plain": [
       "\u001b[1;36m2025\u001b[0m-\u001b[1;36m02\u001b[0m-\u001b[1;36m27\u001b[0m \u001b[1;92m14:52:06\u001b[0m,\u001b[1;36m893\u001b[0m - \u001b[1m{\u001b[0mpytorch_tabular:\u001b[1;36m382\u001b[0m\u001b[1m}\u001b[0m - INFO - Finished Training TabTransformerModel                     \n"
      ]
     },
     "metadata": {},
     "output_type": "display_data"
    },
    {
     "data": {
      "text/html": [
       "<pre style=\"white-space:pre;overflow-x:auto;line-height:normal;font-family:Menlo,'DejaVu Sans Mono',consolas,'Courier New',monospace\"><span style=\"color: #008080; text-decoration-color: #008080; font-weight: bold\">2025</span>-<span style=\"color: #008080; text-decoration-color: #008080; font-weight: bold\">02</span>-<span style=\"color: #008080; text-decoration-color: #008080; font-weight: bold\">27</span> <span style=\"color: #00ff00; text-decoration-color: #00ff00; font-weight: bold\">14:52:06</span>,<span style=\"color: #008080; text-decoration-color: #008080; font-weight: bold\">894</span> - <span style=\"font-weight: bold\">{</span>pytorch_tabular:<span style=\"color: #008080; text-decoration-color: #008080; font-weight: bold\">383</span><span style=\"font-weight: bold\">}</span> - INFO - Results: model: TabTransformerModel, # Params: <span style=\"color: #008080; text-decoration-color: #008080; font-weight: bold\">272</span> T,     \n",
       "epochs: <span style=\"color: #008080; text-decoration-color: #008080; font-weight: bold\">49</span>, test_loss_0: <span style=\"color: #008080; text-decoration-color: #008080; font-weight: bold\">3.5007503032684326</span>, test_loss: <span style=\"color: #008080; text-decoration-color: #008080; font-weight: bold\">3.5007503032684326</span>, test_accuracy: <span style=\"color: #008080; text-decoration-color: #008080; font-weight: bold\">0.44999998807907104</span>,    \n",
       "time_taken: <span style=\"color: #008080; text-decoration-color: #008080; font-weight: bold\">24.52315092086792</span>, time_taken_per_epoch: <span style=\"color: #008080; text-decoration-color: #008080; font-weight: bold\">0.5004724677728147</span>                                            \n",
       "</pre>\n"
      ],
      "text/plain": [
       "\u001b[1;36m2025\u001b[0m-\u001b[1;36m02\u001b[0m-\u001b[1;36m27\u001b[0m \u001b[1;92m14:52:06\u001b[0m,\u001b[1;36m894\u001b[0m - \u001b[1m{\u001b[0mpytorch_tabular:\u001b[1;36m383\u001b[0m\u001b[1m}\u001b[0m - INFO - Results: model: TabTransformerModel, # Params: \u001b[1;36m272\u001b[0m T,     \n",
       "epochs: \u001b[1;36m49\u001b[0m, test_loss_0: \u001b[1;36m3.5007503032684326\u001b[0m, test_loss: \u001b[1;36m3.5007503032684326\u001b[0m, test_accuracy: \u001b[1;36m0.44999998807907104\u001b[0m,    \n",
       "time_taken: \u001b[1;36m24.52315092086792\u001b[0m, time_taken_per_epoch: \u001b[1;36m0.5004724677728147\u001b[0m                                            \n"
      ]
     },
     "metadata": {},
     "output_type": "display_data"
    },
    {
     "data": {
      "text/html": [
       "<pre style=\"white-space:pre;overflow-x:auto;line-height:normal;font-family:Menlo,'DejaVu Sans Mono',consolas,'Courier New',monospace\"></pre>\n"
      ],
      "text/plain": []
     },
     "metadata": {},
     "output_type": "display_data"
    },
    {
     "data": {
      "text/html": [
       "<pre style=\"white-space:pre;overflow-x:auto;line-height:normal;font-family:Menlo,'DejaVu Sans Mono',consolas,'Courier New',monospace\"><span style=\"color: #008080; text-decoration-color: #008080; font-weight: bold\">2025</span>-<span style=\"color: #008080; text-decoration-color: #008080; font-weight: bold\">02</span>-<span style=\"color: #008080; text-decoration-color: #008080; font-weight: bold\">27</span> <span style=\"color: #00ff00; text-decoration-color: #00ff00; font-weight: bold\">14:52:06</span>,<span style=\"color: #008080; text-decoration-color: #008080; font-weight: bold\">895</span> - <span style=\"font-weight: bold\">{</span>pytorch_tabular:<span style=\"color: #008080; text-decoration-color: #008080; font-weight: bold\">388</span><span style=\"font-weight: bold\">}</span> - INFO - Model Sweep Finished                                      \n",
       "</pre>\n"
      ],
      "text/plain": [
       "\u001b[1;36m2025\u001b[0m-\u001b[1;36m02\u001b[0m-\u001b[1;36m27\u001b[0m \u001b[1;92m14:52:06\u001b[0m,\u001b[1;36m895\u001b[0m - \u001b[1m{\u001b[0mpytorch_tabular:\u001b[1;36m388\u001b[0m\u001b[1m}\u001b[0m - INFO - Model Sweep Finished                                      \n"
      ]
     },
     "metadata": {},
     "output_type": "display_data"
    },
    {
     "data": {
      "text/html": [
       "<pre style=\"white-space:pre;overflow-x:auto;line-height:normal;font-family:Menlo,'DejaVu Sans Mono',consolas,'Courier New',monospace\"><span style=\"color: #008080; text-decoration-color: #008080; font-weight: bold\">2025</span>-<span style=\"color: #008080; text-decoration-color: #008080; font-weight: bold\">02</span>-<span style=\"color: #008080; text-decoration-color: #008080; font-weight: bold\">27</span> <span style=\"color: #00ff00; text-decoration-color: #00ff00; font-weight: bold\">14:52:06</span>,<span style=\"color: #008080; text-decoration-color: #008080; font-weight: bold\">896</span> - <span style=\"font-weight: bold\">{</span>pytorch_tabular:<span style=\"color: #008080; text-decoration-color: #008080; font-weight: bold\">389</span><span style=\"font-weight: bold\">}</span> - INFO - Best Model: NODEModel                                     \n",
       "</pre>\n"
      ],
      "text/plain": [
       "\u001b[1;36m2025\u001b[0m-\u001b[1;36m02\u001b[0m-\u001b[1;36m27\u001b[0m \u001b[1;92m14:52:06\u001b[0m,\u001b[1;36m896\u001b[0m - \u001b[1m{\u001b[0mpytorch_tabular:\u001b[1;36m389\u001b[0m\u001b[1m}\u001b[0m - INFO - Best Model: NODEModel                                     \n"
      ]
     },
     "metadata": {},
     "output_type": "display_data"
    },
    {
     "name": "stdout",
     "output_type": "stream",
     "text": [
      "Total time: 216.31185960769653\n"
     ]
    }
   ],
   "source": [
    "tic = time.time()\n",
    "sweep_df, best_model = model_sweep(\n",
    "    task='classification' if model_type == 'classifier' else 'regression',  # 'classification' or 'regression'\n",
    "    train=train,\n",
    "    test=valid,\n",
    "    data_config=data_config,\n",
    "    optimizer_config=optimizer_config,\n",
    "    trainer_config=trainer_config,\n",
    "    model_list='high_memory',  # The list of models to compare. This can be one of the presets defined in pytorch_tabular.tabular_model_sweep.MODEL_SWEEP_PRESETS or a list of ModelConfig objects. Defaults to \"lite\".\n",
    "    verbose=True\n",
    ")\n",
    "print(f'Total time: {time.time() - tic}')"
   ]
  },
  {
   "cell_type": "markdown",
   "id": "41f86294-0e61-476e-bff5-af43ddca31c1",
   "metadata": {},
   "source": [
    "O melhor checkpoint de todos treinamentos será armazenado na variável de output, que neste caso estamos chamando de \"best_model\"."
   ]
  },
  {
   "cell_type": "code",
   "execution_count": 14,
   "id": "de2217e8-798a-4ddf-b69a-11e4254b49ac",
   "metadata": {},
   "outputs": [
    {
     "data": {
      "text/html": [
       "<pre style=\"white-space:pre;overflow-x:auto;line-height:normal;font-family:Menlo,'DejaVu Sans Mono',consolas,'Courier New',monospace\">┏━━━━━━━━━━━━━━━━━━━━━━━━━━━┳━━━━━━━━━━━━━━━━━━━━━━━━━━━┓\n",
       "┃<span style=\"font-weight: bold\">        Test metric        </span>┃<span style=\"font-weight: bold\">       DataLoader 0        </span>┃\n",
       "┡━━━━━━━━━━━━━━━━━━━━━━━━━━━╇━━━━━━━━━━━━━━━━━━━━━━━━━━━┩\n",
       "│<span style=\"color: #008080; text-decoration-color: #008080\">       test_accuracy       </span>│<span style=\"color: #800080; text-decoration-color: #800080\">    0.4833333492279053     </span>│\n",
       "│<span style=\"color: #008080; text-decoration-color: #008080\">         test_loss         </span>│<span style=\"color: #800080; text-decoration-color: #800080\">    1.3971774578094482     </span>│\n",
       "│<span style=\"color: #008080; text-decoration-color: #008080\">        test_loss_0        </span>│<span style=\"color: #800080; text-decoration-color: #800080\">    1.3971774578094482     </span>│\n",
       "└───────────────────────────┴───────────────────────────┘\n",
       "</pre>\n"
      ],
      "text/plain": [
       "┏━━━━━━━━━━━━━━━━━━━━━━━━━━━┳━━━━━━━━━━━━━━━━━━━━━━━━━━━┓\n",
       "┃\u001b[1m \u001b[0m\u001b[1m       Test metric       \u001b[0m\u001b[1m \u001b[0m┃\u001b[1m \u001b[0m\u001b[1m      DataLoader 0       \u001b[0m\u001b[1m \u001b[0m┃\n",
       "┡━━━━━━━━━━━━━━━━━━━━━━━━━━━╇━━━━━━━━━━━━━━━━━━━━━━━━━━━┩\n",
       "│\u001b[36m \u001b[0m\u001b[36m      test_accuracy      \u001b[0m\u001b[36m \u001b[0m│\u001b[35m \u001b[0m\u001b[35m   0.4833333492279053    \u001b[0m\u001b[35m \u001b[0m│\n",
       "│\u001b[36m \u001b[0m\u001b[36m        test_loss        \u001b[0m\u001b[36m \u001b[0m│\u001b[35m \u001b[0m\u001b[35m   1.3971774578094482    \u001b[0m\u001b[35m \u001b[0m│\n",
       "│\u001b[36m \u001b[0m\u001b[36m       test_loss_0       \u001b[0m\u001b[36m \u001b[0m│\u001b[35m \u001b[0m\u001b[35m   1.3971774578094482    \u001b[0m\u001b[35m \u001b[0m│\n",
       "└───────────────────────────┴───────────────────────────┘\n"
      ]
     },
     "metadata": {},
     "output_type": "display_data"
    }
   ],
   "source": [
    "test_metric = best_model.evaluate(test)\n",
    "if model_type == 'regressor':\n",
    "    print('Test MSE: %.3f' % (test_metric[0]['test_mean_squared_error']))\n",
    "    print(f'Test inference error (RMSE): ±{math.sqrt(test_metric[0][\"test_mean_squared_error\"])}')"
   ]
  },
  {
   "cell_type": "markdown",
   "id": "56fb7720-6c4e-4e46-8f80-519692c1c2e2",
   "metadata": {},
   "source": [
    "Lembrando que: Cada vez que rodar o treinamento o resultado pode ser diferente!"
   ]
  },
  {
   "cell_type": "code",
   "execution_count": 15,
   "id": "5c8a2493-e2f3-49a2-9ddc-e063f80c8d84",
   "metadata": {},
   "outputs": [
    {
     "data": {
      "text/html": [
       "<style type=\"text/css\">\n",
       "#T_8e687_row0_col4 {\n",
       "  background-color: #0f8446;\n",
       "  color: #f1f1f1;\n",
       "}\n",
       "#T_8e687_row0_col5, #T_8e687_row1_col4, #T_8e687_row2_col6 {\n",
       "  background-color: #006837;\n",
       "  color: #f1f1f1;\n",
       "}\n",
       "#T_8e687_row0_col6 {\n",
       "  background-color: #6bbf64;\n",
       "  color: #000000;\n",
       "}\n",
       "#T_8e687_row1_col5 {\n",
       "  background-color: #18954f;\n",
       "  color: #f1f1f1;\n",
       "}\n",
       "#T_8e687_row1_col6 {\n",
       "  background-color: #c5e67e;\n",
       "  color: #000000;\n",
       "}\n",
       "#T_8e687_row2_col4 {\n",
       "  background-color: #fff8b4;\n",
       "  color: #000000;\n",
       "}\n",
       "#T_8e687_row2_col5 {\n",
       "  background-color: #39a758;\n",
       "  color: #f1f1f1;\n",
       "}\n",
       "#T_8e687_row3_col4 {\n",
       "  background-color: #fed884;\n",
       "  color: #000000;\n",
       "}\n",
       "#T_8e687_row3_col5, #T_8e687_row4_col5 {\n",
       "  background-color: #5db961;\n",
       "  color: #f1f1f1;\n",
       "}\n",
       "#T_8e687_row3_col6 {\n",
       "  background-color: #8ecf67;\n",
       "  color: #000000;\n",
       "}\n",
       "#T_8e687_row4_col4 {\n",
       "  background-color: #be1827;\n",
       "  color: #f1f1f1;\n",
       "}\n",
       "#T_8e687_row4_col6 {\n",
       "  background-color: #b5df74;\n",
       "  color: #000000;\n",
       "}\n",
       "#T_8e687_row5_col4 {\n",
       "  background-color: #fee28f;\n",
       "  color: #000000;\n",
       "}\n",
       "#T_8e687_row5_col5 {\n",
       "  background-color: #b7e075;\n",
       "  color: #000000;\n",
       "}\n",
       "#T_8e687_row5_col6 {\n",
       "  background-color: #026c39;\n",
       "  color: #f1f1f1;\n",
       "}\n",
       "#T_8e687_row6_col4 {\n",
       "  background-color: #fafdb8;\n",
       "  color: #000000;\n",
       "}\n",
       "#T_8e687_row6_col5 {\n",
       "  background-color: #fee999;\n",
       "  color: #000000;\n",
       "}\n",
       "#T_8e687_row6_col6 {\n",
       "  background-color: #66bd63;\n",
       "  color: #f1f1f1;\n",
       "}\n",
       "#T_8e687_row7_col4 {\n",
       "  background-color: #fffdbc;\n",
       "  color: #000000;\n",
       "}\n",
       "#T_8e687_row7_col5 {\n",
       "  background-color: #fdbf6f;\n",
       "  color: #000000;\n",
       "}\n",
       "#T_8e687_row7_col6, #T_8e687_row8_col4, #T_8e687_row8_col5 {\n",
       "  background-color: #a50026;\n",
       "  color: #f1f1f1;\n",
       "}\n",
       "#T_8e687_row8_col6 {\n",
       "  background-color: #feefa3;\n",
       "  color: #000000;\n",
       "}\n",
       "</style>\n",
       "<table id=\"T_8e687\">\n",
       "  <thead>\n",
       "    <tr>\n",
       "      <th class=\"blank level0\" >&nbsp;</th>\n",
       "      <th id=\"T_8e687_level0_col0\" class=\"col_heading level0 col0\" >model</th>\n",
       "      <th id=\"T_8e687_level0_col1\" class=\"col_heading level0 col1\" ># Params</th>\n",
       "      <th id=\"T_8e687_level0_col2\" class=\"col_heading level0 col2\" >epochs</th>\n",
       "      <th id=\"T_8e687_level0_col3\" class=\"col_heading level0 col3\" >test_loss_0</th>\n",
       "      <th id=\"T_8e687_level0_col4\" class=\"col_heading level0 col4\" >test_loss</th>\n",
       "      <th id=\"T_8e687_level0_col5\" class=\"col_heading level0 col5\" >test_accuracy</th>\n",
       "      <th id=\"T_8e687_level0_col6\" class=\"col_heading level0 col6\" >time_taken_per_epoch</th>\n",
       "    </tr>\n",
       "  </thead>\n",
       "  <tbody>\n",
       "    <tr>\n",
       "      <th id=\"T_8e687_level0_row0\" class=\"row_heading level0 row0\" >3</th>\n",
       "      <td id=\"T_8e687_row0_col0\" class=\"data row0 col0\" >FTTransformerModel</td>\n",
       "      <td id=\"T_8e687_row0_col1\" class=\"data row0 col1\" >272 T</td>\n",
       "      <td id=\"T_8e687_row0_col2\" class=\"data row0 col2\" >49</td>\n",
       "      <td id=\"T_8e687_row0_col3\" class=\"data row0 col3\" >1.610404</td>\n",
       "      <td id=\"T_8e687_row0_col4\" class=\"data row0 col4\" >1.610404</td>\n",
       "      <td id=\"T_8e687_row0_col5\" class=\"data row0 col5\" >0.516667</td>\n",
       "      <td id=\"T_8e687_row0_col6\" class=\"data row0 col6\" >0.454439</td>\n",
       "    </tr>\n",
       "    <tr>\n",
       "      <th id=\"T_8e687_level0_row1\" class=\"row_heading level0 row1\" >6</th>\n",
       "      <td id=\"T_8e687_row1_col0\" class=\"data row1 col0\" >NODEModel</td>\n",
       "      <td id=\"T_8e687_row1_col1\" class=\"data row1 col1\" >1 M</td>\n",
       "      <td id=\"T_8e687_row1_col2\" class=\"data row1 col2\" >49</td>\n",
       "      <td id=\"T_8e687_row1_col3\" class=\"data row1 col3\" >1.397177</td>\n",
       "      <td id=\"T_8e687_row1_col4\" class=\"data row1 col4\" >1.397177</td>\n",
       "      <td id=\"T_8e687_row1_col5\" class=\"data row1 col5\" >0.483333</td>\n",
       "      <td id=\"T_8e687_row1_col6\" class=\"data row1 col6\" >0.579760</td>\n",
       "    </tr>\n",
       "    <tr>\n",
       "      <th id=\"T_8e687_level0_row2\" class=\"row_heading level0 row2\" >1</th>\n",
       "      <td id=\"T_8e687_row2_col0\" class=\"data row2 col0\" >CategoryEmbeddingModel</td>\n",
       "      <td id=\"T_8e687_row2_col1\" class=\"data row2 col1\" >12 T</td>\n",
       "      <td id=\"T_8e687_row2_col2\" class=\"data row2 col2\" >49</td>\n",
       "      <td id=\"T_8e687_row2_col3\" class=\"data row2 col3\" >3.177504</td>\n",
       "      <td id=\"T_8e687_row2_col4\" class=\"data row2 col4\" >3.177504</td>\n",
       "      <td id=\"T_8e687_row2_col5\" class=\"data row2 col5\" >0.466667</td>\n",
       "      <td id=\"T_8e687_row2_col6\" class=\"data row2 col6\" >0.284896</td>\n",
       "    </tr>\n",
       "    <tr>\n",
       "      <th id=\"T_8e687_level0_row3\" class=\"row_heading level0 row3\" >8</th>\n",
       "      <td id=\"T_8e687_row3_col0\" class=\"data row3 col0\" >TabTransformerModel</td>\n",
       "      <td id=\"T_8e687_row3_col1\" class=\"data row3 col1\" >272 T</td>\n",
       "      <td id=\"T_8e687_row3_col2\" class=\"data row3 col2\" >49</td>\n",
       "      <td id=\"T_8e687_row3_col3\" class=\"data row3 col3\" >3.500750</td>\n",
       "      <td id=\"T_8e687_row3_col4\" class=\"data row3 col4\" >3.500750</td>\n",
       "      <td id=\"T_8e687_row3_col5\" class=\"data row3 col5\" >0.450000</td>\n",
       "      <td id=\"T_8e687_row3_col6\" class=\"data row3 col6\" >0.500472</td>\n",
       "    </tr>\n",
       "    <tr>\n",
       "      <th id=\"T_8e687_level0_row4\" class=\"row_heading level0 row4\" >2</th>\n",
       "      <td id=\"T_8e687_row4_col0\" class=\"data row4 col0\" >DANetModel</td>\n",
       "      <td id=\"T_8e687_row4_col1\" class=\"data row4 col1\" >426 T</td>\n",
       "      <td id=\"T_8e687_row4_col2\" class=\"data row4 col2\" >52</td>\n",
       "      <td id=\"T_8e687_row4_col3\" class=\"data row4 col3\" >4.639805</td>\n",
       "      <td id=\"T_8e687_row4_col4\" class=\"data row4 col4\" >4.639805</td>\n",
       "      <td id=\"T_8e687_row4_col5\" class=\"data row4 col5\" >0.450000</td>\n",
       "      <td id=\"T_8e687_row4_col6\" class=\"data row4 col6\" >0.554542</td>\n",
       "    </tr>\n",
       "    <tr>\n",
       "      <th id=\"T_8e687_level0_row5\" class=\"row_heading level0 row5\" >0</th>\n",
       "      <td id=\"T_8e687_row5_col0\" class=\"data row5 col0\" >AutoIntModel</td>\n",
       "      <td id=\"T_8e687_row5_col1\" class=\"data row5 col1\" >15 T</td>\n",
       "      <td id=\"T_8e687_row5_col2\" class=\"data row5 col2\" >51</td>\n",
       "      <td id=\"T_8e687_row5_col3\" class=\"data row5 col3\" >3.427810</td>\n",
       "      <td id=\"T_8e687_row5_col4\" class=\"data row5 col4\" >3.427810</td>\n",
       "      <td id=\"T_8e687_row5_col5\" class=\"data row5 col5\" >0.400000</td>\n",
       "      <td id=\"T_8e687_row5_col6\" class=\"data row5 col6\" >0.292256</td>\n",
       "    </tr>\n",
       "    <tr>\n",
       "      <th id=\"T_8e687_level0_row6\" class=\"row_heading level0 row6\" >4</th>\n",
       "      <td id=\"T_8e687_row6_col0\" class=\"data row6 col0\" >GANDALFModel</td>\n",
       "      <td id=\"T_8e687_row6_col1\" class=\"data row6 col1\" >7 T</td>\n",
       "      <td id=\"T_8e687_row6_col2\" class=\"data row6 col2\" >49</td>\n",
       "      <td id=\"T_8e687_row6_col3\" class=\"data row6 col3\" >3.061217</td>\n",
       "      <td id=\"T_8e687_row6_col4\" class=\"data row6 col4\" >3.061217</td>\n",
       "      <td id=\"T_8e687_row6_col5\" class=\"data row6 col5\" >0.316667</td>\n",
       "      <td id=\"T_8e687_row6_col6\" class=\"data row6 col6\" >0.447305</td>\n",
       "    </tr>\n",
       "    <tr>\n",
       "      <th id=\"T_8e687_level0_row7\" class=\"row_heading level0 row7\" >7</th>\n",
       "      <td id=\"T_8e687_row7_col0\" class=\"data row7 col0\" >TabNetModel</td>\n",
       "      <td id=\"T_8e687_row7_col1\" class=\"data row7 col1\" >6 T</td>\n",
       "      <td id=\"T_8e687_row7_col2\" class=\"data row7 col2\" >23</td>\n",
       "      <td id=\"T_8e687_row7_col3\" class=\"data row7 col3\" >3.123070</td>\n",
       "      <td id=\"T_8e687_row7_col4\" class=\"data row7 col4\" >3.123070</td>\n",
       "      <td id=\"T_8e687_row7_col5\" class=\"data row7 col5\" >0.283333</td>\n",
       "      <td id=\"T_8e687_row7_col6\" class=\"data row7 col6\" >1.099811</td>\n",
       "    </tr>\n",
       "    <tr>\n",
       "      <th id=\"T_8e687_level0_row8\" class=\"row_heading level0 row8\" >5</th>\n",
       "      <td id=\"T_8e687_row8_col0\" class=\"data row8 col0\" >GatedAdditiveTreeEnsembleModel</td>\n",
       "      <td id=\"T_8e687_row8_col1\" class=\"data row8 col1\" >77 T</td>\n",
       "      <td id=\"T_8e687_row8_col2\" class=\"data row8 col2\" >49</td>\n",
       "      <td id=\"T_8e687_row8_col3\" class=\"data row8 col3\" >4.818805</td>\n",
       "      <td id=\"T_8e687_row8_col4\" class=\"data row8 col4\" >4.818805</td>\n",
       "      <td id=\"T_8e687_row8_col5\" class=\"data row8 col5\" >0.166667</td>\n",
       "      <td id=\"T_8e687_row8_col6\" class=\"data row8 col6\" >0.736277</td>\n",
       "    </tr>\n",
       "  </tbody>\n",
       "</table>\n"
      ],
      "text/plain": [
       "<pandas.io.formats.style.Styler at 0x78bfacbd8fa0>"
      ]
     },
     "execution_count": 15,
     "metadata": {},
     "output_type": "execute_result"
    }
   ],
   "source": [
    "# Replace \"OOM\" with 0.0\n",
    "sweep_df.replace(['OOM', np.nan], 0.0, inplace=True)\n",
    "sweep_df.replace([np.inf], 999., inplace=True)\n",
    "\n",
    "if model_type == 'regressor':\n",
    "    sweep_df['test_rmse'] = np.sqrt(sweep_df['test_mean_squared_error'])\n",
    "\n",
    "sweep_df.drop(columns=['params', 'time_taken']).sort_values(\n",
    "    'test_accuracy' if model_type == 'classifier' else 'test_loss', ascending=False if model_type == 'classifier' else True).style.background_gradient(\n",
    "    subset=['test_accuracy' if model_type == 'classifier' else 'test_loss'], cmap='RdYlGn'\n",
    ").background_gradient(subset=['time_taken_per_epoch', 'test_loss'], cmap='RdYlGn_r')"
   ]
  },
  {
   "cell_type": "code",
   "execution_count": 16,
   "id": "b72c4c16-0908-4184-85be-d188a30c7aa6",
   "metadata": {},
   "outputs": [],
   "source": [
    "# Save best model\n",
    "best_model.save_model('results/best_model_pytorch_tabular', inference_only=True)"
   ]
  },
  {
   "cell_type": "markdown",
   "id": "813e3158-0db3-482c-b5eb-9be4b5699f78",
   "metadata": {},
   "source": [
    "### Fine-tuning Hyperparametrs\n",
    "Show, agora que sabemos as melhores arquiteturas para o nosso modelo, podemos brincar com ela(s) para buscar melhores hiperparâmetros para termos resultados ainda melhores. Para isso o Pytorch Tabular disponibilizar a função [tuner](https://pytorch-tabular.readthedocs.io/en/latest/apidocs_coreclasses/#pytorch_tabular.TabularModelTuner.tune)."
   ]
  },
  {
   "cell_type": "markdown",
   "id": "7df8050c-c222-4447-99ab-007b56e6c6a8",
   "metadata": {},
   "source": [
    "Configurações dos modelos: https://pytorch-tabular.readthedocs.io/en/latest/apidocs_model/\n",
    "\n",
    "Mais informações de como o hyperparameter space funcionam: https://pytorch-tabular.readthedocs.io/en/latest/tutorials/10-Hyperparameter%20Tuning/#define-the-hyperparameter-space\n",
    "\n",
    "Neste caso vamos pegar as duas arquiteturas que se sairam bem e brinca com elas."
   ]
  },
  {
   "cell_type": "code",
   "execution_count": 17,
   "id": "e3421d5e-7e46-413f-b0ea-06a7afbdeec0",
   "metadata": {},
   "outputs": [],
   "source": [
    "from pytorch_tabular.tabular_model_tuner import TabularModelTuner\n",
    "\n",
    "from pytorch_tabular.models import (\n",
    "    CategoryEmbeddingModelConfig,\n",
    "    AutoIntConfig,\n",
    "    FTTransformerConfig,\n",
    ")   "
   ]
  },
  {
   "cell_type": "markdown",
   "id": "e76edf9a-901d-4b67-808e-d56809661221",
   "metadata": {},
   "source": [
    "As configurações dos spaces que serão utilizados sempre irão começar com nome da configuração, dois underlines e o parâmetro. Sendo seus valores uma lista com todas as configurações que deseja testar."
   ]
  },
  {
   "cell_type": "code",
   "execution_count": 18,
   "id": "80497ee5-5761-4317-8180-df2fe73437ca",
   "metadata": {},
   "outputs": [],
   "source": [
    "model_config_category_embedding = CategoryEmbeddingModelConfig(task='classification' if model_type == 'classifier' else 'regression')\n",
    "\n",
    "search_space_category_embedding = {\n",
    "    'optimizer_config__optimizer': ['Adam', 'SGD'],\n",
    "    'model_config__layers': ['128-64-32', '1024-512-256', '32-64-128', '256-512-1024'],\n",
    "    'model_config__activation': ['ReLU', 'LeakyReLU'],\n",
    "}"
   ]
  },
  {
   "cell_type": "code",
   "execution_count": 19,
   "id": "33e0c298-ddd9-4e62-9aea-30a3d8daa577",
   "metadata": {},
   "outputs": [],
   "source": [
    "model_config_FTTransformerConfig = FTTransformerConfig(task='classification' if model_type == 'classifier' else 'regression')\n",
    "\n",
    "search_space_FTTransformerConfig = {\n",
    "    'model_config__input_embed_dim': [16, 32, 64],\n",
    "    'model_config__num_heads': [4, 8, 16],\n",
    "    'model_config__transformer_activation': ['GEGLU', 'ReLU', 'LeakyReLU'],\n",
    "}"
   ]
  },
  {
   "cell_type": "code",
   "execution_count": 20,
   "id": "7c8dacdd-24d3-4de7-bc5e-70fccf73e151",
   "metadata": {},
   "outputs": [],
   "source": [
    "model_config_auto_int = AutoIntConfig(task='classification' if model_type == 'classifier' else 'regression')\n",
    "\n",
    "search_space_auto_int = {\n",
    "    'optimizer_config__optimizer': ['Adam', 'SGD'],\n",
    "    'model_config__layers': ['128-64-32', '1024-512-256'],\n",
    "    'model_config__attn_embed_dim': ['32', '64'],\n",
    "    'model_config__activation': ['ReLU', 'LeakyReLU'],\n",
    "    'model_config__embedding_dropout': [0.0, 0.2],\n",
    "}"
   ]
  },
  {
   "cell_type": "markdown",
   "id": "2d4034f3-946a-480b-888c-0367c35cca54",
   "metadata": {},
   "source": [
    "Para informar o tuner quais arquiteturas e hiperparâmetros testar, é necessário adicioná-los em listas. Ressaltando que ambas listas devem estar ordenadas iguais e ter o mesmo tamanho (irá utilizar primeiro elemento de models com primeiro de search_space, segundo com segundo,...)"
   ]
  },
  {
   "cell_type": "code",
   "execution_count": 21,
   "id": "52004721-37ae-4043-a175-8b9564b3d0db",
   "metadata": {},
   "outputs": [],
   "source": [
    "all_models = [model_config_category_embedding]\n",
    "all_search_space = [search_space_category_embedding]"
   ]
  },
  {
   "cell_type": "markdown",
   "id": "f430eb5c-1704-4c40-a730-4aed62949602",
   "metadata": {},
   "source": [
    "O tuner possui duas \"strategy\" principais:\n",
    "- grid_search: Para pesquisar todos os hiperparâmetros que foram definidos, mas lembre-se que cada novo campo que você adicionar aumentará consideravelmente o tempo total de treinamento. Se você configurar 4 otimizadores, 4 layes, 2 ativações e 2 dropout, isso significa 64 (4 * 4 * 2 * 2) treinamentos.\n",
    "- random_search: Obterá aleatoriamente configurações de hiperparâmetros \"n_trials\" de cada modelo que foi definido. É útil para um treinamento mais rápido, mas lembre-se de que não testará todos os hiperparâmetros."
   ]
  },
  {
   "cell_type": "code",
   "execution_count": 22,
   "id": "9948aea6-f063-4d7a-ac18-78a14ac648e3",
   "metadata": {
    "scrolled": true
   },
   "outputs": [
    {
     "data": {
      "application/vnd.jupyter.widget-view+json": {
       "model_id": "e07670139a204338835e6ec311c661f8",
       "version_major": 2,
       "version_minor": 0
      },
      "text/plain": [
       "Output()"
      ]
     },
     "metadata": {},
     "output_type": "display_data"
    },
    {
     "data": {
      "application/vnd.jupyter.widget-view+json": {
       "model_id": "2e59fb20c23a4a1c837a8d9540ec8d16",
       "version_major": 2,
       "version_minor": 0
      },
      "text/plain": [
       "Finding best initial lr:   0%|          | 0/100 [00:00<?, ?it/s]"
      ]
     },
     "metadata": {},
     "output_type": "display_data"
    },
    {
     "data": {
      "text/html": [
       "<pre style=\"white-space:pre;overflow-x:auto;line-height:normal;font-family:Menlo,'DejaVu Sans Mono',consolas,'Courier New',monospace\"><span style=\"color: #008080; text-decoration-color: #008080; font-weight: bold\">2025</span>-<span style=\"color: #008080; text-decoration-color: #008080; font-weight: bold\">02</span>-<span style=\"color: #008080; text-decoration-color: #008080; font-weight: bold\">27</span> <span style=\"color: #00ff00; text-decoration-color: #00ff00; font-weight: bold\">14:52:26</span>,<span style=\"color: #008080; text-decoration-color: #008080; font-weight: bold\">685</span> - <span style=\"font-weight: bold\">{</span>pytorch_tabular.tabular_model_tuner:<span style=\"color: #008080; text-decoration-color: #008080; font-weight: bold\">412</span><span style=\"font-weight: bold\">}</span> - INFO - Trial <span style=\"color: #008080; text-decoration-color: #008080; font-weight: bold\">1</span>/<span style=\"color: #008080; text-decoration-color: #008080; font-weight: bold\">16</span>: <span style=\"font-weight: bold\">{</span><span style=\"color: #008000; text-decoration-color: #008000\">'model'</span>:                 \n",
       "<span style=\"color: #008000; text-decoration-color: #008000\">'0-CategoryEmbeddingModelConfig'</span>, <span style=\"color: #008000; text-decoration-color: #008000\">'model_config__activation'</span>: <span style=\"color: #008000; text-decoration-color: #008000\">'ReLU'</span>, <span style=\"color: #008000; text-decoration-color: #008000\">'model_config__layers'</span>: <span style=\"color: #008000; text-decoration-color: #008000\">'128-64-32'</span>,         \n",
       "<span style=\"color: #008000; text-decoration-color: #008000\">'optimizer_config__optimizer'</span>: <span style=\"color: #008000; text-decoration-color: #008000\">'Adam'</span>, <span style=\"color: #008000; text-decoration-color: #008000\">'loss_0'</span>: <span style=\"color: #008080; text-decoration-color: #008080; font-weight: bold\">1.8511368036270142</span>, <span style=\"color: #008000; text-decoration-color: #008000\">'loss'</span>: <span style=\"color: #008080; text-decoration-color: #008080; font-weight: bold\">1.8511368036270142</span>, <span style=\"color: #008000; text-decoration-color: #008000\">'accuracy'</span>:       \n",
       "<span style=\"color: #008080; text-decoration-color: #008080; font-weight: bold\">0.6000000238418579</span>, <span style=\"color: #008000; text-decoration-color: #008000\">'trial_id'</span>: <span style=\"color: #008080; text-decoration-color: #008080; font-weight: bold\">0</span><span style=\"font-weight: bold\">}</span> | Score: <span style=\"color: #008080; text-decoration-color: #008080; font-weight: bold\">0.6000000238418579</span>                                                     \n",
       "</pre>\n"
      ],
      "text/plain": [
       "\u001b[1;36m2025\u001b[0m-\u001b[1;36m02\u001b[0m-\u001b[1;36m27\u001b[0m \u001b[1;92m14:52:26\u001b[0m,\u001b[1;36m685\u001b[0m - \u001b[1m{\u001b[0mpytorch_tabular.tabular_model_tuner:\u001b[1;36m412\u001b[0m\u001b[1m}\u001b[0m - INFO - Trial \u001b[1;36m1\u001b[0m/\u001b[1;36m16\u001b[0m: \u001b[1m{\u001b[0m\u001b[32m'model'\u001b[0m:                 \n",
       "\u001b[32m'0-CategoryEmbeddingModelConfig'\u001b[0m, \u001b[32m'model_config__activation'\u001b[0m: \u001b[32m'ReLU'\u001b[0m, \u001b[32m'model_config__layers'\u001b[0m: \u001b[32m'128-64-32'\u001b[0m,         \n",
       "\u001b[32m'optimizer_config__optimizer'\u001b[0m: \u001b[32m'Adam'\u001b[0m, \u001b[32m'loss_0'\u001b[0m: \u001b[1;36m1.8511368036270142\u001b[0m, \u001b[32m'loss'\u001b[0m: \u001b[1;36m1.8511368036270142\u001b[0m, \u001b[32m'accuracy'\u001b[0m:       \n",
       "\u001b[1;36m0.6000000238418579\u001b[0m, \u001b[32m'trial_id'\u001b[0m: \u001b[1;36m0\u001b[0m\u001b[1m}\u001b[0m | Score: \u001b[1;36m0.6000000238418579\u001b[0m                                                     \n"
      ]
     },
     "metadata": {},
     "output_type": "display_data"
    },
    {
     "data": {
      "application/vnd.jupyter.widget-view+json": {
       "model_id": "4a2490ad30d940b09576d02dc1895622",
       "version_major": 2,
       "version_minor": 0
      },
      "text/plain": [
       "Finding best initial lr:   0%|          | 0/100 [00:00<?, ?it/s]"
      ]
     },
     "metadata": {},
     "output_type": "display_data"
    },
    {
     "data": {
      "text/html": [
       "<pre style=\"white-space:pre;overflow-x:auto;line-height:normal;font-family:Menlo,'DejaVu Sans Mono',consolas,'Courier New',monospace\"><span style=\"color: #008080; text-decoration-color: #008080; font-weight: bold\">2025</span>-<span style=\"color: #008080; text-decoration-color: #008080; font-weight: bold\">02</span>-<span style=\"color: #008080; text-decoration-color: #008080; font-weight: bold\">27</span> <span style=\"color: #00ff00; text-decoration-color: #00ff00; font-weight: bold\">14:52:46</span>,<span style=\"color: #008080; text-decoration-color: #008080; font-weight: bold\">397</span> - <span style=\"font-weight: bold\">{</span>pytorch_tabular.tabular_model_tuner:<span style=\"color: #008080; text-decoration-color: #008080; font-weight: bold\">412</span><span style=\"font-weight: bold\">}</span> - INFO - Trial <span style=\"color: #008080; text-decoration-color: #008080; font-weight: bold\">2</span>/<span style=\"color: #008080; text-decoration-color: #008080; font-weight: bold\">16</span>: <span style=\"font-weight: bold\">{</span><span style=\"color: #008000; text-decoration-color: #008000\">'model'</span>:                 \n",
       "<span style=\"color: #008000; text-decoration-color: #008000\">'0-CategoryEmbeddingModelConfig'</span>, <span style=\"color: #008000; text-decoration-color: #008000\">'model_config__activation'</span>: <span style=\"color: #008000; text-decoration-color: #008000\">'ReLU'</span>, <span style=\"color: #008000; text-decoration-color: #008000\">'model_config__layers'</span>: <span style=\"color: #008000; text-decoration-color: #008000\">'128-64-32'</span>,         \n",
       "<span style=\"color: #008000; text-decoration-color: #008000\">'optimizer_config__optimizer'</span>: <span style=\"color: #008000; text-decoration-color: #008000\">'SGD'</span>, <span style=\"color: #008000; text-decoration-color: #008000\">'loss_0'</span>: <span style=\"color: #008080; text-decoration-color: #008080; font-weight: bold\">1.5767005681991577</span>, <span style=\"color: #008000; text-decoration-color: #008000\">'loss'</span>: <span style=\"color: #008080; text-decoration-color: #008080; font-weight: bold\">1.5767005681991577</span>, <span style=\"color: #008000; text-decoration-color: #008000\">'accuracy'</span>:        \n",
       "<span style=\"color: #008080; text-decoration-color: #008080; font-weight: bold\">0.2666666805744171</span>, <span style=\"color: #008000; text-decoration-color: #008000\">'trial_id'</span>: <span style=\"color: #008080; text-decoration-color: #008080; font-weight: bold\">1</span><span style=\"font-weight: bold\">}</span> | Score: <span style=\"color: #008080; text-decoration-color: #008080; font-weight: bold\">0.2666666805744171</span>                                                     \n",
       "</pre>\n"
      ],
      "text/plain": [
       "\u001b[1;36m2025\u001b[0m-\u001b[1;36m02\u001b[0m-\u001b[1;36m27\u001b[0m \u001b[1;92m14:52:46\u001b[0m,\u001b[1;36m397\u001b[0m - \u001b[1m{\u001b[0mpytorch_tabular.tabular_model_tuner:\u001b[1;36m412\u001b[0m\u001b[1m}\u001b[0m - INFO - Trial \u001b[1;36m2\u001b[0m/\u001b[1;36m16\u001b[0m: \u001b[1m{\u001b[0m\u001b[32m'model'\u001b[0m:                 \n",
       "\u001b[32m'0-CategoryEmbeddingModelConfig'\u001b[0m, \u001b[32m'model_config__activation'\u001b[0m: \u001b[32m'ReLU'\u001b[0m, \u001b[32m'model_config__layers'\u001b[0m: \u001b[32m'128-64-32'\u001b[0m,         \n",
       "\u001b[32m'optimizer_config__optimizer'\u001b[0m: \u001b[32m'SGD'\u001b[0m, \u001b[32m'loss_0'\u001b[0m: \u001b[1;36m1.5767005681991577\u001b[0m, \u001b[32m'loss'\u001b[0m: \u001b[1;36m1.5767005681991577\u001b[0m, \u001b[32m'accuracy'\u001b[0m:        \n",
       "\u001b[1;36m0.2666666805744171\u001b[0m, \u001b[32m'trial_id'\u001b[0m: \u001b[1;36m1\u001b[0m\u001b[1m}\u001b[0m | Score: \u001b[1;36m0.2666666805744171\u001b[0m                                                     \n"
      ]
     },
     "metadata": {},
     "output_type": "display_data"
    },
    {
     "data": {
      "application/vnd.jupyter.widget-view+json": {
       "model_id": "78771000913c423080371d1bac214ee7",
       "version_major": 2,
       "version_minor": 0
      },
      "text/plain": [
       "Finding best initial lr:   0%|          | 0/100 [00:00<?, ?it/s]"
      ]
     },
     "metadata": {},
     "output_type": "display_data"
    },
    {
     "data": {
      "text/html": [
       "<pre style=\"white-space:pre;overflow-x:auto;line-height:normal;font-family:Menlo,'DejaVu Sans Mono',consolas,'Courier New',monospace\"><span style=\"color: #008080; text-decoration-color: #008080; font-weight: bold\">2025</span>-<span style=\"color: #008080; text-decoration-color: #008080; font-weight: bold\">02</span>-<span style=\"color: #008080; text-decoration-color: #008080; font-weight: bold\">27</span> <span style=\"color: #00ff00; text-decoration-color: #00ff00; font-weight: bold\">14:53:06</span>,<span style=\"color: #008080; text-decoration-color: #008080; font-weight: bold\">177</span> - <span style=\"font-weight: bold\">{</span>pytorch_tabular.tabular_model_tuner:<span style=\"color: #008080; text-decoration-color: #008080; font-weight: bold\">412</span><span style=\"font-weight: bold\">}</span> - INFO - Trial <span style=\"color: #008080; text-decoration-color: #008080; font-weight: bold\">3</span>/<span style=\"color: #008080; text-decoration-color: #008080; font-weight: bold\">16</span>: <span style=\"font-weight: bold\">{</span><span style=\"color: #008000; text-decoration-color: #008000\">'model'</span>:                 \n",
       "<span style=\"color: #008000; text-decoration-color: #008000\">'0-CategoryEmbeddingModelConfig'</span>, <span style=\"color: #008000; text-decoration-color: #008000\">'model_config__activation'</span>: <span style=\"color: #008000; text-decoration-color: #008000\">'ReLU'</span>, <span style=\"color: #008000; text-decoration-color: #008000\">'model_config__layers'</span>: <span style=\"color: #008000; text-decoration-color: #008000\">'1024-512-256'</span>,      \n",
       "<span style=\"color: #008000; text-decoration-color: #008000\">'optimizer_config__optimizer'</span>: <span style=\"color: #008000; text-decoration-color: #008000\">'Adam'</span>, <span style=\"color: #008000; text-decoration-color: #008000\">'loss_0'</span>: <span style=\"color: #008080; text-decoration-color: #008080; font-weight: bold\">1.9082127809524536</span>, <span style=\"color: #008000; text-decoration-color: #008000\">'loss'</span>: <span style=\"color: #008080; text-decoration-color: #008080; font-weight: bold\">1.9082127809524536</span>, <span style=\"color: #008000; text-decoration-color: #008000\">'accuracy'</span>:       \n",
       "<span style=\"color: #008080; text-decoration-color: #008080; font-weight: bold\">0.4833333194255829</span>, <span style=\"color: #008000; text-decoration-color: #008000\">'trial_id'</span>: <span style=\"color: #008080; text-decoration-color: #008080; font-weight: bold\">2</span><span style=\"font-weight: bold\">}</span> | Score: <span style=\"color: #008080; text-decoration-color: #008080; font-weight: bold\">0.4833333194255829</span>                                                     \n",
       "</pre>\n"
      ],
      "text/plain": [
       "\u001b[1;36m2025\u001b[0m-\u001b[1;36m02\u001b[0m-\u001b[1;36m27\u001b[0m \u001b[1;92m14:53:06\u001b[0m,\u001b[1;36m177\u001b[0m - \u001b[1m{\u001b[0mpytorch_tabular.tabular_model_tuner:\u001b[1;36m412\u001b[0m\u001b[1m}\u001b[0m - INFO - Trial \u001b[1;36m3\u001b[0m/\u001b[1;36m16\u001b[0m: \u001b[1m{\u001b[0m\u001b[32m'model'\u001b[0m:                 \n",
       "\u001b[32m'0-CategoryEmbeddingModelConfig'\u001b[0m, \u001b[32m'model_config__activation'\u001b[0m: \u001b[32m'ReLU'\u001b[0m, \u001b[32m'model_config__layers'\u001b[0m: \u001b[32m'1024-512-256'\u001b[0m,      \n",
       "\u001b[32m'optimizer_config__optimizer'\u001b[0m: \u001b[32m'Adam'\u001b[0m, \u001b[32m'loss_0'\u001b[0m: \u001b[1;36m1.9082127809524536\u001b[0m, \u001b[32m'loss'\u001b[0m: \u001b[1;36m1.9082127809524536\u001b[0m, \u001b[32m'accuracy'\u001b[0m:       \n",
       "\u001b[1;36m0.4833333194255829\u001b[0m, \u001b[32m'trial_id'\u001b[0m: \u001b[1;36m2\u001b[0m\u001b[1m}\u001b[0m | Score: \u001b[1;36m0.4833333194255829\u001b[0m                                                     \n"
      ]
     },
     "metadata": {},
     "output_type": "display_data"
    },
    {
     "data": {
      "application/vnd.jupyter.widget-view+json": {
       "model_id": "1b6548da33884465870609428eb44792",
       "version_major": 2,
       "version_minor": 0
      },
      "text/plain": [
       "Finding best initial lr:   0%|          | 0/100 [00:00<?, ?it/s]"
      ]
     },
     "metadata": {},
     "output_type": "display_data"
    },
    {
     "data": {
      "text/html": [
       "<pre style=\"white-space:pre;overflow-x:auto;line-height:normal;font-family:Menlo,'DejaVu Sans Mono',consolas,'Courier New',monospace\"><span style=\"color: #008080; text-decoration-color: #008080; font-weight: bold\">2025</span>-<span style=\"color: #008080; text-decoration-color: #008080; font-weight: bold\">02</span>-<span style=\"color: #008080; text-decoration-color: #008080; font-weight: bold\">27</span> <span style=\"color: #00ff00; text-decoration-color: #00ff00; font-weight: bold\">14:53:25</span>,<span style=\"color: #008080; text-decoration-color: #008080; font-weight: bold\">725</span> - <span style=\"font-weight: bold\">{</span>pytorch_tabular.tabular_model_tuner:<span style=\"color: #008080; text-decoration-color: #008080; font-weight: bold\">412</span><span style=\"font-weight: bold\">}</span> - INFO - Trial <span style=\"color: #008080; text-decoration-color: #008080; font-weight: bold\">4</span>/<span style=\"color: #008080; text-decoration-color: #008080; font-weight: bold\">16</span>: <span style=\"font-weight: bold\">{</span><span style=\"color: #008000; text-decoration-color: #008000\">'model'</span>:                 \n",
       "<span style=\"color: #008000; text-decoration-color: #008000\">'0-CategoryEmbeddingModelConfig'</span>, <span style=\"color: #008000; text-decoration-color: #008000\">'model_config__activation'</span>: <span style=\"color: #008000; text-decoration-color: #008000\">'ReLU'</span>, <span style=\"color: #008000; text-decoration-color: #008000\">'model_config__layers'</span>: <span style=\"color: #008000; text-decoration-color: #008000\">'1024-512-256'</span>,      \n",
       "<span style=\"color: #008000; text-decoration-color: #008000\">'optimizer_config__optimizer'</span>: <span style=\"color: #008000; text-decoration-color: #008000\">'SGD'</span>, <span style=\"color: #008000; text-decoration-color: #008000\">'loss_0'</span>: <span style=\"color: #008080; text-decoration-color: #008080; font-weight: bold\">1.6004157066345215</span>, <span style=\"color: #008000; text-decoration-color: #008000\">'loss'</span>: <span style=\"color: #008080; text-decoration-color: #008080; font-weight: bold\">1.6004157066345215</span>, <span style=\"color: #008000; text-decoration-color: #008000\">'accuracy'</span>:        \n",
       "<span style=\"color: #008080; text-decoration-color: #008080; font-weight: bold\">0.3499999940395355</span>, <span style=\"color: #008000; text-decoration-color: #008000\">'trial_id'</span>: <span style=\"color: #008080; text-decoration-color: #008080; font-weight: bold\">3</span><span style=\"font-weight: bold\">}</span> | Score: <span style=\"color: #008080; text-decoration-color: #008080; font-weight: bold\">0.3499999940395355</span>                                                     \n",
       "</pre>\n"
      ],
      "text/plain": [
       "\u001b[1;36m2025\u001b[0m-\u001b[1;36m02\u001b[0m-\u001b[1;36m27\u001b[0m \u001b[1;92m14:53:25\u001b[0m,\u001b[1;36m725\u001b[0m - \u001b[1m{\u001b[0mpytorch_tabular.tabular_model_tuner:\u001b[1;36m412\u001b[0m\u001b[1m}\u001b[0m - INFO - Trial \u001b[1;36m4\u001b[0m/\u001b[1;36m16\u001b[0m: \u001b[1m{\u001b[0m\u001b[32m'model'\u001b[0m:                 \n",
       "\u001b[32m'0-CategoryEmbeddingModelConfig'\u001b[0m, \u001b[32m'model_config__activation'\u001b[0m: \u001b[32m'ReLU'\u001b[0m, \u001b[32m'model_config__layers'\u001b[0m: \u001b[32m'1024-512-256'\u001b[0m,      \n",
       "\u001b[32m'optimizer_config__optimizer'\u001b[0m: \u001b[32m'SGD'\u001b[0m, \u001b[32m'loss_0'\u001b[0m: \u001b[1;36m1.6004157066345215\u001b[0m, \u001b[32m'loss'\u001b[0m: \u001b[1;36m1.6004157066345215\u001b[0m, \u001b[32m'accuracy'\u001b[0m:        \n",
       "\u001b[1;36m0.3499999940395355\u001b[0m, \u001b[32m'trial_id'\u001b[0m: \u001b[1;36m3\u001b[0m\u001b[1m}\u001b[0m | Score: \u001b[1;36m0.3499999940395355\u001b[0m                                                     \n"
      ]
     },
     "metadata": {},
     "output_type": "display_data"
    },
    {
     "data": {
      "application/vnd.jupyter.widget-view+json": {
       "model_id": "24907cbd0f2a45908b7a47c852f223c0",
       "version_major": 2,
       "version_minor": 0
      },
      "text/plain": [
       "Finding best initial lr:   0%|          | 0/100 [00:00<?, ?it/s]"
      ]
     },
     "metadata": {},
     "output_type": "display_data"
    },
    {
     "data": {
      "text/html": [
       "<pre style=\"white-space:pre;overflow-x:auto;line-height:normal;font-family:Menlo,'DejaVu Sans Mono',consolas,'Courier New',monospace\"><span style=\"color: #008080; text-decoration-color: #008080; font-weight: bold\">2025</span>-<span style=\"color: #008080; text-decoration-color: #008080; font-weight: bold\">02</span>-<span style=\"color: #008080; text-decoration-color: #008080; font-weight: bold\">27</span> <span style=\"color: #00ff00; text-decoration-color: #00ff00; font-weight: bold\">14:53:45</span>,<span style=\"color: #008080; text-decoration-color: #008080; font-weight: bold\">271</span> - <span style=\"font-weight: bold\">{</span>pytorch_tabular.tabular_model_tuner:<span style=\"color: #008080; text-decoration-color: #008080; font-weight: bold\">412</span><span style=\"font-weight: bold\">}</span> - INFO - Trial <span style=\"color: #008080; text-decoration-color: #008080; font-weight: bold\">5</span>/<span style=\"color: #008080; text-decoration-color: #008080; font-weight: bold\">16</span>: <span style=\"font-weight: bold\">{</span><span style=\"color: #008000; text-decoration-color: #008000\">'model'</span>:                 \n",
       "<span style=\"color: #008000; text-decoration-color: #008000\">'0-CategoryEmbeddingModelConfig'</span>, <span style=\"color: #008000; text-decoration-color: #008000\">'model_config__activation'</span>: <span style=\"color: #008000; text-decoration-color: #008000\">'ReLU'</span>, <span style=\"color: #008000; text-decoration-color: #008000\">'model_config__layers'</span>: <span style=\"color: #008000; text-decoration-color: #008000\">'32-64-128'</span>,         \n",
       "<span style=\"color: #008000; text-decoration-color: #008000\">'optimizer_config__optimizer'</span>: <span style=\"color: #008000; text-decoration-color: #008000\">'Adam'</span>, <span style=\"color: #008000; text-decoration-color: #008000\">'loss_0'</span>: <span style=\"color: #008080; text-decoration-color: #008080; font-weight: bold\">1.7224106788635254</span>, <span style=\"color: #008000; text-decoration-color: #008000\">'loss'</span>: <span style=\"color: #008080; text-decoration-color: #008080; font-weight: bold\">1.7224106788635254</span>, <span style=\"color: #008000; text-decoration-color: #008000\">'accuracy'</span>:       \n",
       "<span style=\"color: #008080; text-decoration-color: #008080; font-weight: bold\">0.5166666507720947</span>, <span style=\"color: #008000; text-decoration-color: #008000\">'trial_id'</span>: <span style=\"color: #008080; text-decoration-color: #008080; font-weight: bold\">4</span><span style=\"font-weight: bold\">}</span> | Score: <span style=\"color: #008080; text-decoration-color: #008080; font-weight: bold\">0.5166666507720947</span>                                                     \n",
       "</pre>\n"
      ],
      "text/plain": [
       "\u001b[1;36m2025\u001b[0m-\u001b[1;36m02\u001b[0m-\u001b[1;36m27\u001b[0m \u001b[1;92m14:53:45\u001b[0m,\u001b[1;36m271\u001b[0m - \u001b[1m{\u001b[0mpytorch_tabular.tabular_model_tuner:\u001b[1;36m412\u001b[0m\u001b[1m}\u001b[0m - INFO - Trial \u001b[1;36m5\u001b[0m/\u001b[1;36m16\u001b[0m: \u001b[1m{\u001b[0m\u001b[32m'model'\u001b[0m:                 \n",
       "\u001b[32m'0-CategoryEmbeddingModelConfig'\u001b[0m, \u001b[32m'model_config__activation'\u001b[0m: \u001b[32m'ReLU'\u001b[0m, \u001b[32m'model_config__layers'\u001b[0m: \u001b[32m'32-64-128'\u001b[0m,         \n",
       "\u001b[32m'optimizer_config__optimizer'\u001b[0m: \u001b[32m'Adam'\u001b[0m, \u001b[32m'loss_0'\u001b[0m: \u001b[1;36m1.7224106788635254\u001b[0m, \u001b[32m'loss'\u001b[0m: \u001b[1;36m1.7224106788635254\u001b[0m, \u001b[32m'accuracy'\u001b[0m:       \n",
       "\u001b[1;36m0.5166666507720947\u001b[0m, \u001b[32m'trial_id'\u001b[0m: \u001b[1;36m4\u001b[0m\u001b[1m}\u001b[0m | Score: \u001b[1;36m0.5166666507720947\u001b[0m                                                     \n"
      ]
     },
     "metadata": {},
     "output_type": "display_data"
    },
    {
     "data": {
      "application/vnd.jupyter.widget-view+json": {
       "model_id": "066ebf1b9cbb4fe087b17dc43ff46309",
       "version_major": 2,
       "version_minor": 0
      },
      "text/plain": [
       "Finding best initial lr:   0%|          | 0/100 [00:00<?, ?it/s]"
      ]
     },
     "metadata": {},
     "output_type": "display_data"
    },
    {
     "data": {
      "text/html": [
       "<pre style=\"white-space:pre;overflow-x:auto;line-height:normal;font-family:Menlo,'DejaVu Sans Mono',consolas,'Courier New',monospace\"><span style=\"color: #008080; text-decoration-color: #008080; font-weight: bold\">2025</span>-<span style=\"color: #008080; text-decoration-color: #008080; font-weight: bold\">02</span>-<span style=\"color: #008080; text-decoration-color: #008080; font-weight: bold\">27</span> <span style=\"color: #00ff00; text-decoration-color: #00ff00; font-weight: bold\">14:54:08</span>,<span style=\"color: #008080; text-decoration-color: #008080; font-weight: bold\">463</span> - <span style=\"font-weight: bold\">{</span>pytorch_tabular.tabular_model_tuner:<span style=\"color: #008080; text-decoration-color: #008080; font-weight: bold\">412</span><span style=\"font-weight: bold\">}</span> - INFO - Trial <span style=\"color: #008080; text-decoration-color: #008080; font-weight: bold\">6</span>/<span style=\"color: #008080; text-decoration-color: #008080; font-weight: bold\">16</span>: <span style=\"font-weight: bold\">{</span><span style=\"color: #008000; text-decoration-color: #008000\">'model'</span>:                 \n",
       "<span style=\"color: #008000; text-decoration-color: #008000\">'0-CategoryEmbeddingModelConfig'</span>, <span style=\"color: #008000; text-decoration-color: #008000\">'model_config__activation'</span>: <span style=\"color: #008000; text-decoration-color: #008000\">'ReLU'</span>, <span style=\"color: #008000; text-decoration-color: #008000\">'model_config__layers'</span>: <span style=\"color: #008000; text-decoration-color: #008000\">'32-64-128'</span>,         \n",
       "<span style=\"color: #008000; text-decoration-color: #008000\">'optimizer_config__optimizer'</span>: <span style=\"color: #008000; text-decoration-color: #008000\">'SGD'</span>, <span style=\"color: #008000; text-decoration-color: #008000\">'loss_0'</span>: <span style=\"color: #008080; text-decoration-color: #008080; font-weight: bold\">1.3310565948486328</span>, <span style=\"color: #008000; text-decoration-color: #008000\">'loss'</span>: <span style=\"color: #008080; text-decoration-color: #008080; font-weight: bold\">1.3310565948486328</span>, <span style=\"color: #008000; text-decoration-color: #008000\">'accuracy'</span>:        \n",
       "<span style=\"color: #008080; text-decoration-color: #008080; font-weight: bold\">0.5166666507720947</span>, <span style=\"color: #008000; text-decoration-color: #008000\">'trial_id'</span>: <span style=\"color: #008080; text-decoration-color: #008080; font-weight: bold\">5</span><span style=\"font-weight: bold\">}</span> | Score: <span style=\"color: #008080; text-decoration-color: #008080; font-weight: bold\">0.5166666507720947</span>                                                     \n",
       "</pre>\n"
      ],
      "text/plain": [
       "\u001b[1;36m2025\u001b[0m-\u001b[1;36m02\u001b[0m-\u001b[1;36m27\u001b[0m \u001b[1;92m14:54:08\u001b[0m,\u001b[1;36m463\u001b[0m - \u001b[1m{\u001b[0mpytorch_tabular.tabular_model_tuner:\u001b[1;36m412\u001b[0m\u001b[1m}\u001b[0m - INFO - Trial \u001b[1;36m6\u001b[0m/\u001b[1;36m16\u001b[0m: \u001b[1m{\u001b[0m\u001b[32m'model'\u001b[0m:                 \n",
       "\u001b[32m'0-CategoryEmbeddingModelConfig'\u001b[0m, \u001b[32m'model_config__activation'\u001b[0m: \u001b[32m'ReLU'\u001b[0m, \u001b[32m'model_config__layers'\u001b[0m: \u001b[32m'32-64-128'\u001b[0m,         \n",
       "\u001b[32m'optimizer_config__optimizer'\u001b[0m: \u001b[32m'SGD'\u001b[0m, \u001b[32m'loss_0'\u001b[0m: \u001b[1;36m1.3310565948486328\u001b[0m, \u001b[32m'loss'\u001b[0m: \u001b[1;36m1.3310565948486328\u001b[0m, \u001b[32m'accuracy'\u001b[0m:        \n",
       "\u001b[1;36m0.5166666507720947\u001b[0m, \u001b[32m'trial_id'\u001b[0m: \u001b[1;36m5\u001b[0m\u001b[1m}\u001b[0m | Score: \u001b[1;36m0.5166666507720947\u001b[0m                                                     \n"
      ]
     },
     "metadata": {},
     "output_type": "display_data"
    },
    {
     "data": {
      "application/vnd.jupyter.widget-view+json": {
       "model_id": "6bdeafdb0f2144e8a065b02a97970621",
       "version_major": 2,
       "version_minor": 0
      },
      "text/plain": [
       "Finding best initial lr:   0%|          | 0/100 [00:00<?, ?it/s]"
      ]
     },
     "metadata": {},
     "output_type": "display_data"
    },
    {
     "data": {
      "text/html": [
       "<pre style=\"white-space:pre;overflow-x:auto;line-height:normal;font-family:Menlo,'DejaVu Sans Mono',consolas,'Courier New',monospace\"><span style=\"color: #008080; text-decoration-color: #008080; font-weight: bold\">2025</span>-<span style=\"color: #008080; text-decoration-color: #008080; font-weight: bold\">02</span>-<span style=\"color: #008080; text-decoration-color: #008080; font-weight: bold\">27</span> <span style=\"color: #00ff00; text-decoration-color: #00ff00; font-weight: bold\">14:54:28</span>,<span style=\"color: #008080; text-decoration-color: #008080; font-weight: bold\">199</span> - <span style=\"font-weight: bold\">{</span>pytorch_tabular.tabular_model_tuner:<span style=\"color: #008080; text-decoration-color: #008080; font-weight: bold\">412</span><span style=\"font-weight: bold\">}</span> - INFO - Trial <span style=\"color: #008080; text-decoration-color: #008080; font-weight: bold\">7</span>/<span style=\"color: #008080; text-decoration-color: #008080; font-weight: bold\">16</span>: <span style=\"font-weight: bold\">{</span><span style=\"color: #008000; text-decoration-color: #008000\">'model'</span>:                 \n",
       "<span style=\"color: #008000; text-decoration-color: #008000\">'0-CategoryEmbeddingModelConfig'</span>, <span style=\"color: #008000; text-decoration-color: #008000\">'model_config__activation'</span>: <span style=\"color: #008000; text-decoration-color: #008000\">'ReLU'</span>, <span style=\"color: #008000; text-decoration-color: #008000\">'model_config__layers'</span>: <span style=\"color: #008000; text-decoration-color: #008000\">'256-512-1024'</span>,      \n",
       "<span style=\"color: #008000; text-decoration-color: #008000\">'optimizer_config__optimizer'</span>: <span style=\"color: #008000; text-decoration-color: #008000\">'Adam'</span>, <span style=\"color: #008000; text-decoration-color: #008000\">'loss_0'</span>: <span style=\"color: #008080; text-decoration-color: #008080; font-weight: bold\">2.3990976810455322</span>, <span style=\"color: #008000; text-decoration-color: #008000\">'loss'</span>: <span style=\"color: #008080; text-decoration-color: #008080; font-weight: bold\">2.3990976810455322</span>, <span style=\"color: #008000; text-decoration-color: #008000\">'accuracy'</span>:       \n",
       "<span style=\"color: #008080; text-decoration-color: #008080; font-weight: bold\">0.5333333611488342</span>, <span style=\"color: #008000; text-decoration-color: #008000\">'trial_id'</span>: <span style=\"color: #008080; text-decoration-color: #008080; font-weight: bold\">6</span><span style=\"font-weight: bold\">}</span> | Score: <span style=\"color: #008080; text-decoration-color: #008080; font-weight: bold\">0.5333333611488342</span>                                                     \n",
       "</pre>\n"
      ],
      "text/plain": [
       "\u001b[1;36m2025\u001b[0m-\u001b[1;36m02\u001b[0m-\u001b[1;36m27\u001b[0m \u001b[1;92m14:54:28\u001b[0m,\u001b[1;36m199\u001b[0m - \u001b[1m{\u001b[0mpytorch_tabular.tabular_model_tuner:\u001b[1;36m412\u001b[0m\u001b[1m}\u001b[0m - INFO - Trial \u001b[1;36m7\u001b[0m/\u001b[1;36m16\u001b[0m: \u001b[1m{\u001b[0m\u001b[32m'model'\u001b[0m:                 \n",
       "\u001b[32m'0-CategoryEmbeddingModelConfig'\u001b[0m, \u001b[32m'model_config__activation'\u001b[0m: \u001b[32m'ReLU'\u001b[0m, \u001b[32m'model_config__layers'\u001b[0m: \u001b[32m'256-512-1024'\u001b[0m,      \n",
       "\u001b[32m'optimizer_config__optimizer'\u001b[0m: \u001b[32m'Adam'\u001b[0m, \u001b[32m'loss_0'\u001b[0m: \u001b[1;36m2.3990976810455322\u001b[0m, \u001b[32m'loss'\u001b[0m: \u001b[1;36m2.3990976810455322\u001b[0m, \u001b[32m'accuracy'\u001b[0m:       \n",
       "\u001b[1;36m0.5333333611488342\u001b[0m, \u001b[32m'trial_id'\u001b[0m: \u001b[1;36m6\u001b[0m\u001b[1m}\u001b[0m | Score: \u001b[1;36m0.5333333611488342\u001b[0m                                                     \n"
      ]
     },
     "metadata": {},
     "output_type": "display_data"
    },
    {
     "data": {
      "application/vnd.jupyter.widget-view+json": {
       "model_id": "d0c36dea352743c58dd0a7890bb1a2dc",
       "version_major": 2,
       "version_minor": 0
      },
      "text/plain": [
       "Finding best initial lr:   0%|          | 0/100 [00:00<?, ?it/s]"
      ]
     },
     "metadata": {},
     "output_type": "display_data"
    },
    {
     "data": {
      "text/html": [
       "<pre style=\"white-space:pre;overflow-x:auto;line-height:normal;font-family:Menlo,'DejaVu Sans Mono',consolas,'Courier New',monospace\"><span style=\"color: #008080; text-decoration-color: #008080; font-weight: bold\">2025</span>-<span style=\"color: #008080; text-decoration-color: #008080; font-weight: bold\">02</span>-<span style=\"color: #008080; text-decoration-color: #008080; font-weight: bold\">27</span> <span style=\"color: #00ff00; text-decoration-color: #00ff00; font-weight: bold\">14:54:50</span>,<span style=\"color: #008080; text-decoration-color: #008080; font-weight: bold\">044</span> - <span style=\"font-weight: bold\">{</span>pytorch_tabular.tabular_model_tuner:<span style=\"color: #008080; text-decoration-color: #008080; font-weight: bold\">412</span><span style=\"font-weight: bold\">}</span> - INFO - Trial <span style=\"color: #008080; text-decoration-color: #008080; font-weight: bold\">8</span>/<span style=\"color: #008080; text-decoration-color: #008080; font-weight: bold\">16</span>: <span style=\"font-weight: bold\">{</span><span style=\"color: #008000; text-decoration-color: #008000\">'model'</span>:                 \n",
       "<span style=\"color: #008000; text-decoration-color: #008000\">'0-CategoryEmbeddingModelConfig'</span>, <span style=\"color: #008000; text-decoration-color: #008000\">'model_config__activation'</span>: <span style=\"color: #008000; text-decoration-color: #008000\">'ReLU'</span>, <span style=\"color: #008000; text-decoration-color: #008000\">'model_config__layers'</span>: <span style=\"color: #008000; text-decoration-color: #008000\">'256-512-1024'</span>,      \n",
       "<span style=\"color: #008000; text-decoration-color: #008000\">'optimizer_config__optimizer'</span>: <span style=\"color: #008000; text-decoration-color: #008000\">'SGD'</span>, <span style=\"color: #008000; text-decoration-color: #008000\">'loss_0'</span>: <span style=\"color: #008080; text-decoration-color: #008080; font-weight: bold\">1.805614948272705</span>, <span style=\"color: #008000; text-decoration-color: #008000\">'loss'</span>: <span style=\"color: #008080; text-decoration-color: #008080; font-weight: bold\">1.805614948272705</span>, <span style=\"color: #008000; text-decoration-color: #008000\">'accuracy'</span>:          \n",
       "<span style=\"color: #008080; text-decoration-color: #008080; font-weight: bold\">0.5333333611488342</span>, <span style=\"color: #008000; text-decoration-color: #008000\">'trial_id'</span>: <span style=\"color: #008080; text-decoration-color: #008080; font-weight: bold\">7</span><span style=\"font-weight: bold\">}</span> | Score: <span style=\"color: #008080; text-decoration-color: #008080; font-weight: bold\">0.5333333611488342</span>                                                     \n",
       "</pre>\n"
      ],
      "text/plain": [
       "\u001b[1;36m2025\u001b[0m-\u001b[1;36m02\u001b[0m-\u001b[1;36m27\u001b[0m \u001b[1;92m14:54:50\u001b[0m,\u001b[1;36m044\u001b[0m - \u001b[1m{\u001b[0mpytorch_tabular.tabular_model_tuner:\u001b[1;36m412\u001b[0m\u001b[1m}\u001b[0m - INFO - Trial \u001b[1;36m8\u001b[0m/\u001b[1;36m16\u001b[0m: \u001b[1m{\u001b[0m\u001b[32m'model'\u001b[0m:                 \n",
       "\u001b[32m'0-CategoryEmbeddingModelConfig'\u001b[0m, \u001b[32m'model_config__activation'\u001b[0m: \u001b[32m'ReLU'\u001b[0m, \u001b[32m'model_config__layers'\u001b[0m: \u001b[32m'256-512-1024'\u001b[0m,      \n",
       "\u001b[32m'optimizer_config__optimizer'\u001b[0m: \u001b[32m'SGD'\u001b[0m, \u001b[32m'loss_0'\u001b[0m: \u001b[1;36m1.805614948272705\u001b[0m, \u001b[32m'loss'\u001b[0m: \u001b[1;36m1.805614948272705\u001b[0m, \u001b[32m'accuracy'\u001b[0m:          \n",
       "\u001b[1;36m0.5333333611488342\u001b[0m, \u001b[32m'trial_id'\u001b[0m: \u001b[1;36m7\u001b[0m\u001b[1m}\u001b[0m | Score: \u001b[1;36m0.5333333611488342\u001b[0m                                                     \n"
      ]
     },
     "metadata": {},
     "output_type": "display_data"
    },
    {
     "data": {
      "application/vnd.jupyter.widget-view+json": {
       "model_id": "8accd70a08ee4ccc82c3f213834630c5",
       "version_major": 2,
       "version_minor": 0
      },
      "text/plain": [
       "Finding best initial lr:   0%|          | 0/100 [00:00<?, ?it/s]"
      ]
     },
     "metadata": {},
     "output_type": "display_data"
    },
    {
     "data": {
      "text/html": [
       "<pre style=\"white-space:pre;overflow-x:auto;line-height:normal;font-family:Menlo,'DejaVu Sans Mono',consolas,'Courier New',monospace\"><span style=\"color: #008080; text-decoration-color: #008080; font-weight: bold\">2025</span>-<span style=\"color: #008080; text-decoration-color: #008080; font-weight: bold\">02</span>-<span style=\"color: #008080; text-decoration-color: #008080; font-weight: bold\">27</span> <span style=\"color: #00ff00; text-decoration-color: #00ff00; font-weight: bold\">14:55:09</span>,<span style=\"color: #008080; text-decoration-color: #008080; font-weight: bold\">794</span> - <span style=\"font-weight: bold\">{</span>pytorch_tabular.tabular_model_tuner:<span style=\"color: #008080; text-decoration-color: #008080; font-weight: bold\">412</span><span style=\"font-weight: bold\">}</span> - INFO - Trial <span style=\"color: #008080; text-decoration-color: #008080; font-weight: bold\">9</span>/<span style=\"color: #008080; text-decoration-color: #008080; font-weight: bold\">16</span>: <span style=\"font-weight: bold\">{</span><span style=\"color: #008000; text-decoration-color: #008000\">'model'</span>:                 \n",
       "<span style=\"color: #008000; text-decoration-color: #008000\">'0-CategoryEmbeddingModelConfig'</span>, <span style=\"color: #008000; text-decoration-color: #008000\">'model_config__activation'</span>: <span style=\"color: #008000; text-decoration-color: #008000\">'LeakyReLU'</span>, <span style=\"color: #008000; text-decoration-color: #008000\">'model_config__layers'</span>: <span style=\"color: #008000; text-decoration-color: #008000\">'128-64-32'</span>,    \n",
       "<span style=\"color: #008000; text-decoration-color: #008000\">'optimizer_config__optimizer'</span>: <span style=\"color: #008000; text-decoration-color: #008000\">'Adam'</span>, <span style=\"color: #008000; text-decoration-color: #008000\">'loss_0'</span>: <span style=\"color: #008080; text-decoration-color: #008080; font-weight: bold\">1.943515419960022</span>, <span style=\"color: #008000; text-decoration-color: #008000\">'loss'</span>: <span style=\"color: #008080; text-decoration-color: #008080; font-weight: bold\">1.943515419960022</span>, <span style=\"color: #008000; text-decoration-color: #008000\">'accuracy'</span>:         \n",
       "<span style=\"color: #008080; text-decoration-color: #008080; font-weight: bold\">0.5666666626930237</span>, <span style=\"color: #008000; text-decoration-color: #008000\">'trial_id'</span>: <span style=\"color: #008080; text-decoration-color: #008080; font-weight: bold\">8</span><span style=\"font-weight: bold\">}</span> | Score: <span style=\"color: #008080; text-decoration-color: #008080; font-weight: bold\">0.5666666626930237</span>                                                     \n",
       "</pre>\n"
      ],
      "text/plain": [
       "\u001b[1;36m2025\u001b[0m-\u001b[1;36m02\u001b[0m-\u001b[1;36m27\u001b[0m \u001b[1;92m14:55:09\u001b[0m,\u001b[1;36m794\u001b[0m - \u001b[1m{\u001b[0mpytorch_tabular.tabular_model_tuner:\u001b[1;36m412\u001b[0m\u001b[1m}\u001b[0m - INFO - Trial \u001b[1;36m9\u001b[0m/\u001b[1;36m16\u001b[0m: \u001b[1m{\u001b[0m\u001b[32m'model'\u001b[0m:                 \n",
       "\u001b[32m'0-CategoryEmbeddingModelConfig'\u001b[0m, \u001b[32m'model_config__activation'\u001b[0m: \u001b[32m'LeakyReLU'\u001b[0m, \u001b[32m'model_config__layers'\u001b[0m: \u001b[32m'128-64-32'\u001b[0m,    \n",
       "\u001b[32m'optimizer_config__optimizer'\u001b[0m: \u001b[32m'Adam'\u001b[0m, \u001b[32m'loss_0'\u001b[0m: \u001b[1;36m1.943515419960022\u001b[0m, \u001b[32m'loss'\u001b[0m: \u001b[1;36m1.943515419960022\u001b[0m, \u001b[32m'accuracy'\u001b[0m:         \n",
       "\u001b[1;36m0.5666666626930237\u001b[0m, \u001b[32m'trial_id'\u001b[0m: \u001b[1;36m8\u001b[0m\u001b[1m}\u001b[0m | Score: \u001b[1;36m0.5666666626930237\u001b[0m                                                     \n"
      ]
     },
     "metadata": {},
     "output_type": "display_data"
    },
    {
     "data": {
      "application/vnd.jupyter.widget-view+json": {
       "model_id": "a137d9ea70684639a30e3f268c7ebcab",
       "version_major": 2,
       "version_minor": 0
      },
      "text/plain": [
       "Finding best initial lr:   0%|          | 0/100 [00:00<?, ?it/s]"
      ]
     },
     "metadata": {},
     "output_type": "display_data"
    },
    {
     "data": {
      "text/html": [
       "<pre style=\"white-space:pre;overflow-x:auto;line-height:normal;font-family:Menlo,'DejaVu Sans Mono',consolas,'Courier New',monospace\"><span style=\"color: #008080; text-decoration-color: #008080; font-weight: bold\">2025</span>-<span style=\"color: #008080; text-decoration-color: #008080; font-weight: bold\">02</span>-<span style=\"color: #008080; text-decoration-color: #008080; font-weight: bold\">27</span> <span style=\"color: #00ff00; text-decoration-color: #00ff00; font-weight: bold\">14:55:29</span>,<span style=\"color: #008080; text-decoration-color: #008080; font-weight: bold\">776</span> - <span style=\"font-weight: bold\">{</span>pytorch_tabular.tabular_model_tuner:<span style=\"color: #008080; text-decoration-color: #008080; font-weight: bold\">412</span><span style=\"font-weight: bold\">}</span> - INFO - Trial <span style=\"color: #008080; text-decoration-color: #008080; font-weight: bold\">10</span>/<span style=\"color: #008080; text-decoration-color: #008080; font-weight: bold\">16</span>: <span style=\"font-weight: bold\">{</span><span style=\"color: #008000; text-decoration-color: #008000\">'model'</span>:                \n",
       "<span style=\"color: #008000; text-decoration-color: #008000\">'0-CategoryEmbeddingModelConfig'</span>, <span style=\"color: #008000; text-decoration-color: #008000\">'model_config__activation'</span>: <span style=\"color: #008000; text-decoration-color: #008000\">'LeakyReLU'</span>, <span style=\"color: #008000; text-decoration-color: #008000\">'model_config__layers'</span>: <span style=\"color: #008000; text-decoration-color: #008000\">'128-64-32'</span>,    \n",
       "<span style=\"color: #008000; text-decoration-color: #008000\">'optimizer_config__optimizer'</span>: <span style=\"color: #008000; text-decoration-color: #008000\">'SGD'</span>, <span style=\"color: #008000; text-decoration-color: #008000\">'loss_0'</span>: <span style=\"color: #008080; text-decoration-color: #008080; font-weight: bold\">1.5046169757843018</span>, <span style=\"color: #008000; text-decoration-color: #008000\">'loss'</span>: <span style=\"color: #008080; text-decoration-color: #008080; font-weight: bold\">1.5046169757843018</span>, <span style=\"color: #008000; text-decoration-color: #008000\">'accuracy'</span>:        \n",
       "<span style=\"color: #008080; text-decoration-color: #008080; font-weight: bold\">0.5166666507720947</span>, <span style=\"color: #008000; text-decoration-color: #008000\">'trial_id'</span>: <span style=\"color: #008080; text-decoration-color: #008080; font-weight: bold\">9</span><span style=\"font-weight: bold\">}</span> | Score: <span style=\"color: #008080; text-decoration-color: #008080; font-weight: bold\">0.5166666507720947</span>                                                     \n",
       "</pre>\n"
      ],
      "text/plain": [
       "\u001b[1;36m2025\u001b[0m-\u001b[1;36m02\u001b[0m-\u001b[1;36m27\u001b[0m \u001b[1;92m14:55:29\u001b[0m,\u001b[1;36m776\u001b[0m - \u001b[1m{\u001b[0mpytorch_tabular.tabular_model_tuner:\u001b[1;36m412\u001b[0m\u001b[1m}\u001b[0m - INFO - Trial \u001b[1;36m10\u001b[0m/\u001b[1;36m16\u001b[0m: \u001b[1m{\u001b[0m\u001b[32m'model'\u001b[0m:                \n",
       "\u001b[32m'0-CategoryEmbeddingModelConfig'\u001b[0m, \u001b[32m'model_config__activation'\u001b[0m: \u001b[32m'LeakyReLU'\u001b[0m, \u001b[32m'model_config__layers'\u001b[0m: \u001b[32m'128-64-32'\u001b[0m,    \n",
       "\u001b[32m'optimizer_config__optimizer'\u001b[0m: \u001b[32m'SGD'\u001b[0m, \u001b[32m'loss_0'\u001b[0m: \u001b[1;36m1.5046169757843018\u001b[0m, \u001b[32m'loss'\u001b[0m: \u001b[1;36m1.5046169757843018\u001b[0m, \u001b[32m'accuracy'\u001b[0m:        \n",
       "\u001b[1;36m0.5166666507720947\u001b[0m, \u001b[32m'trial_id'\u001b[0m: \u001b[1;36m9\u001b[0m\u001b[1m}\u001b[0m | Score: \u001b[1;36m0.5166666507720947\u001b[0m                                                     \n"
      ]
     },
     "metadata": {},
     "output_type": "display_data"
    },
    {
     "data": {
      "application/vnd.jupyter.widget-view+json": {
       "model_id": "a2910a71e671439789d3e1e857ddcb16",
       "version_major": 2,
       "version_minor": 0
      },
      "text/plain": [
       "Finding best initial lr:   0%|          | 0/100 [00:00<?, ?it/s]"
      ]
     },
     "metadata": {},
     "output_type": "display_data"
    },
    {
     "data": {
      "text/html": [
       "<pre style=\"white-space:pre;overflow-x:auto;line-height:normal;font-family:Menlo,'DejaVu Sans Mono',consolas,'Courier New',monospace\"><span style=\"color: #008080; text-decoration-color: #008080; font-weight: bold\">2025</span>-<span style=\"color: #008080; text-decoration-color: #008080; font-weight: bold\">02</span>-<span style=\"color: #008080; text-decoration-color: #008080; font-weight: bold\">27</span> <span style=\"color: #00ff00; text-decoration-color: #00ff00; font-weight: bold\">14:55:50</span>,<span style=\"color: #008080; text-decoration-color: #008080; font-weight: bold\">873</span> - <span style=\"font-weight: bold\">{</span>pytorch_tabular.tabular_model_tuner:<span style=\"color: #008080; text-decoration-color: #008080; font-weight: bold\">412</span><span style=\"font-weight: bold\">}</span> - INFO - Trial <span style=\"color: #008080; text-decoration-color: #008080; font-weight: bold\">11</span>/<span style=\"color: #008080; text-decoration-color: #008080; font-weight: bold\">16</span>: <span style=\"font-weight: bold\">{</span><span style=\"color: #008000; text-decoration-color: #008000\">'model'</span>:                \n",
       "<span style=\"color: #008000; text-decoration-color: #008000\">'0-CategoryEmbeddingModelConfig'</span>, <span style=\"color: #008000; text-decoration-color: #008000\">'model_config__activation'</span>: <span style=\"color: #008000; text-decoration-color: #008000\">'LeakyReLU'</span>, <span style=\"color: #008000; text-decoration-color: #008000\">'model_config__layers'</span>: <span style=\"color: #008000; text-decoration-color: #008000\">'1024-512-256'</span>, \n",
       "<span style=\"color: #008000; text-decoration-color: #008000\">'optimizer_config__optimizer'</span>: <span style=\"color: #008000; text-decoration-color: #008000\">'Adam'</span>, <span style=\"color: #008000; text-decoration-color: #008000\">'loss_0'</span>: <span style=\"color: #008080; text-decoration-color: #008080; font-weight: bold\">2.769371271133423</span>, <span style=\"color: #008000; text-decoration-color: #008000\">'loss'</span>: <span style=\"color: #008080; text-decoration-color: #008080; font-weight: bold\">2.769371271133423</span>, <span style=\"color: #008000; text-decoration-color: #008000\">'accuracy'</span>: <span style=\"color: #008080; text-decoration-color: #008080; font-weight: bold\">0.5</span>,    \n",
       "<span style=\"color: #008000; text-decoration-color: #008000\">'trial_id'</span>: <span style=\"color: #008080; text-decoration-color: #008080; font-weight: bold\">10</span><span style=\"font-weight: bold\">}</span> | Score: <span style=\"color: #008080; text-decoration-color: #008080; font-weight: bold\">0.5</span>                                                                                       \n",
       "</pre>\n"
      ],
      "text/plain": [
       "\u001b[1;36m2025\u001b[0m-\u001b[1;36m02\u001b[0m-\u001b[1;36m27\u001b[0m \u001b[1;92m14:55:50\u001b[0m,\u001b[1;36m873\u001b[0m - \u001b[1m{\u001b[0mpytorch_tabular.tabular_model_tuner:\u001b[1;36m412\u001b[0m\u001b[1m}\u001b[0m - INFO - Trial \u001b[1;36m11\u001b[0m/\u001b[1;36m16\u001b[0m: \u001b[1m{\u001b[0m\u001b[32m'model'\u001b[0m:                \n",
       "\u001b[32m'0-CategoryEmbeddingModelConfig'\u001b[0m, \u001b[32m'model_config__activation'\u001b[0m: \u001b[32m'LeakyReLU'\u001b[0m, \u001b[32m'model_config__layers'\u001b[0m: \u001b[32m'1024-512-256'\u001b[0m, \n",
       "\u001b[32m'optimizer_config__optimizer'\u001b[0m: \u001b[32m'Adam'\u001b[0m, \u001b[32m'loss_0'\u001b[0m: \u001b[1;36m2.769371271133423\u001b[0m, \u001b[32m'loss'\u001b[0m: \u001b[1;36m2.769371271133423\u001b[0m, \u001b[32m'accuracy'\u001b[0m: \u001b[1;36m0.5\u001b[0m,    \n",
       "\u001b[32m'trial_id'\u001b[0m: \u001b[1;36m10\u001b[0m\u001b[1m}\u001b[0m | Score: \u001b[1;36m0.5\u001b[0m                                                                                       \n"
      ]
     },
     "metadata": {},
     "output_type": "display_data"
    },
    {
     "data": {
      "application/vnd.jupyter.widget-view+json": {
       "model_id": "576ec119ee2c4800aece104e4032f696",
       "version_major": 2,
       "version_minor": 0
      },
      "text/plain": [
       "Finding best initial lr:   0%|          | 0/100 [00:00<?, ?it/s]"
      ]
     },
     "metadata": {},
     "output_type": "display_data"
    },
    {
     "data": {
      "text/html": [
       "<pre style=\"white-space:pre;overflow-x:auto;line-height:normal;font-family:Menlo,'DejaVu Sans Mono',consolas,'Courier New',monospace\"><span style=\"color: #008080; text-decoration-color: #008080; font-weight: bold\">2025</span>-<span style=\"color: #008080; text-decoration-color: #008080; font-weight: bold\">02</span>-<span style=\"color: #008080; text-decoration-color: #008080; font-weight: bold\">27</span> <span style=\"color: #00ff00; text-decoration-color: #00ff00; font-weight: bold\">14:56:10</span>,<span style=\"color: #008080; text-decoration-color: #008080; font-weight: bold\">453</span> - <span style=\"font-weight: bold\">{</span>pytorch_tabular.tabular_model_tuner:<span style=\"color: #008080; text-decoration-color: #008080; font-weight: bold\">412</span><span style=\"font-weight: bold\">}</span> - INFO - Trial <span style=\"color: #008080; text-decoration-color: #008080; font-weight: bold\">12</span>/<span style=\"color: #008080; text-decoration-color: #008080; font-weight: bold\">16</span>: <span style=\"font-weight: bold\">{</span><span style=\"color: #008000; text-decoration-color: #008000\">'model'</span>:                \n",
       "<span style=\"color: #008000; text-decoration-color: #008000\">'0-CategoryEmbeddingModelConfig'</span>, <span style=\"color: #008000; text-decoration-color: #008000\">'model_config__activation'</span>: <span style=\"color: #008000; text-decoration-color: #008000\">'LeakyReLU'</span>, <span style=\"color: #008000; text-decoration-color: #008000\">'model_config__layers'</span>: <span style=\"color: #008000; text-decoration-color: #008000\">'1024-512-256'</span>, \n",
       "<span style=\"color: #008000; text-decoration-color: #008000\">'optimizer_config__optimizer'</span>: <span style=\"color: #008000; text-decoration-color: #008000\">'SGD'</span>, <span style=\"color: #008000; text-decoration-color: #008000\">'loss_0'</span>: <span style=\"color: #008080; text-decoration-color: #008080; font-weight: bold\">1.6179875135421753</span>, <span style=\"color: #008000; text-decoration-color: #008000\">'loss'</span>: <span style=\"color: #008080; text-decoration-color: #008080; font-weight: bold\">1.6179875135421753</span>, <span style=\"color: #008000; text-decoration-color: #008000\">'accuracy'</span>: <span style=\"color: #008080; text-decoration-color: #008080; font-weight: bold\">0.25</span>,  \n",
       "<span style=\"color: #008000; text-decoration-color: #008000\">'trial_id'</span>: <span style=\"color: #008080; text-decoration-color: #008080; font-weight: bold\">11</span><span style=\"font-weight: bold\">}</span> | Score: <span style=\"color: #008080; text-decoration-color: #008080; font-weight: bold\">0.25</span>                                                                                      \n",
       "</pre>\n"
      ],
      "text/plain": [
       "\u001b[1;36m2025\u001b[0m-\u001b[1;36m02\u001b[0m-\u001b[1;36m27\u001b[0m \u001b[1;92m14:56:10\u001b[0m,\u001b[1;36m453\u001b[0m - \u001b[1m{\u001b[0mpytorch_tabular.tabular_model_tuner:\u001b[1;36m412\u001b[0m\u001b[1m}\u001b[0m - INFO - Trial \u001b[1;36m12\u001b[0m/\u001b[1;36m16\u001b[0m: \u001b[1m{\u001b[0m\u001b[32m'model'\u001b[0m:                \n",
       "\u001b[32m'0-CategoryEmbeddingModelConfig'\u001b[0m, \u001b[32m'model_config__activation'\u001b[0m: \u001b[32m'LeakyReLU'\u001b[0m, \u001b[32m'model_config__layers'\u001b[0m: \u001b[32m'1024-512-256'\u001b[0m, \n",
       "\u001b[32m'optimizer_config__optimizer'\u001b[0m: \u001b[32m'SGD'\u001b[0m, \u001b[32m'loss_0'\u001b[0m: \u001b[1;36m1.6179875135421753\u001b[0m, \u001b[32m'loss'\u001b[0m: \u001b[1;36m1.6179875135421753\u001b[0m, \u001b[32m'accuracy'\u001b[0m: \u001b[1;36m0.25\u001b[0m,  \n",
       "\u001b[32m'trial_id'\u001b[0m: \u001b[1;36m11\u001b[0m\u001b[1m}\u001b[0m | Score: \u001b[1;36m0.25\u001b[0m                                                                                      \n"
      ]
     },
     "metadata": {},
     "output_type": "display_data"
    },
    {
     "data": {
      "application/vnd.jupyter.widget-view+json": {
       "model_id": "1b8ed7e84f1d4867893fc159b279a20e",
       "version_major": 2,
       "version_minor": 0
      },
      "text/plain": [
       "Finding best initial lr:   0%|          | 0/100 [00:00<?, ?it/s]"
      ]
     },
     "metadata": {},
     "output_type": "display_data"
    },
    {
     "data": {
      "text/html": [
       "<pre style=\"white-space:pre;overflow-x:auto;line-height:normal;font-family:Menlo,'DejaVu Sans Mono',consolas,'Courier New',monospace\"><span style=\"color: #008080; text-decoration-color: #008080; font-weight: bold\">2025</span>-<span style=\"color: #008080; text-decoration-color: #008080; font-weight: bold\">02</span>-<span style=\"color: #008080; text-decoration-color: #008080; font-weight: bold\">27</span> <span style=\"color: #00ff00; text-decoration-color: #00ff00; font-weight: bold\">14:56:30</span>,<span style=\"color: #008080; text-decoration-color: #008080; font-weight: bold\">208</span> - <span style=\"font-weight: bold\">{</span>pytorch_tabular.tabular_model_tuner:<span style=\"color: #008080; text-decoration-color: #008080; font-weight: bold\">412</span><span style=\"font-weight: bold\">}</span> - INFO - Trial <span style=\"color: #008080; text-decoration-color: #008080; font-weight: bold\">13</span>/<span style=\"color: #008080; text-decoration-color: #008080; font-weight: bold\">16</span>: <span style=\"font-weight: bold\">{</span><span style=\"color: #008000; text-decoration-color: #008000\">'model'</span>:                \n",
       "<span style=\"color: #008000; text-decoration-color: #008000\">'0-CategoryEmbeddingModelConfig'</span>, <span style=\"color: #008000; text-decoration-color: #008000\">'model_config__activation'</span>: <span style=\"color: #008000; text-decoration-color: #008000\">'LeakyReLU'</span>, <span style=\"color: #008000; text-decoration-color: #008000\">'model_config__layers'</span>: <span style=\"color: #008000; text-decoration-color: #008000\">'32-64-128'</span>,    \n",
       "<span style=\"color: #008000; text-decoration-color: #008000\">'optimizer_config__optimizer'</span>: <span style=\"color: #008000; text-decoration-color: #008000\">'Adam'</span>, <span style=\"color: #008000; text-decoration-color: #008000\">'loss_0'</span>: <span style=\"color: #008080; text-decoration-color: #008080; font-weight: bold\">1.6371251344680786</span>, <span style=\"color: #008000; text-decoration-color: #008000\">'loss'</span>: <span style=\"color: #008080; text-decoration-color: #008080; font-weight: bold\">1.6371251344680786</span>, <span style=\"color: #008000; text-decoration-color: #008000\">'accuracy'</span>:       \n",
       "<span style=\"color: #008080; text-decoration-color: #008080; font-weight: bold\">0.5833333134651184</span>, <span style=\"color: #008000; text-decoration-color: #008000\">'trial_id'</span>: <span style=\"color: #008080; text-decoration-color: #008080; font-weight: bold\">12</span><span style=\"font-weight: bold\">}</span> | Score: <span style=\"color: #008080; text-decoration-color: #008080; font-weight: bold\">0.5833333134651184</span>                                                    \n",
       "</pre>\n"
      ],
      "text/plain": [
       "\u001b[1;36m2025\u001b[0m-\u001b[1;36m02\u001b[0m-\u001b[1;36m27\u001b[0m \u001b[1;92m14:56:30\u001b[0m,\u001b[1;36m208\u001b[0m - \u001b[1m{\u001b[0mpytorch_tabular.tabular_model_tuner:\u001b[1;36m412\u001b[0m\u001b[1m}\u001b[0m - INFO - Trial \u001b[1;36m13\u001b[0m/\u001b[1;36m16\u001b[0m: \u001b[1m{\u001b[0m\u001b[32m'model'\u001b[0m:                \n",
       "\u001b[32m'0-CategoryEmbeddingModelConfig'\u001b[0m, \u001b[32m'model_config__activation'\u001b[0m: \u001b[32m'LeakyReLU'\u001b[0m, \u001b[32m'model_config__layers'\u001b[0m: \u001b[32m'32-64-128'\u001b[0m,    \n",
       "\u001b[32m'optimizer_config__optimizer'\u001b[0m: \u001b[32m'Adam'\u001b[0m, \u001b[32m'loss_0'\u001b[0m: \u001b[1;36m1.6371251344680786\u001b[0m, \u001b[32m'loss'\u001b[0m: \u001b[1;36m1.6371251344680786\u001b[0m, \u001b[32m'accuracy'\u001b[0m:       \n",
       "\u001b[1;36m0.5833333134651184\u001b[0m, \u001b[32m'trial_id'\u001b[0m: \u001b[1;36m12\u001b[0m\u001b[1m}\u001b[0m | Score: \u001b[1;36m0.5833333134651184\u001b[0m                                                    \n"
      ]
     },
     "metadata": {},
     "output_type": "display_data"
    },
    {
     "data": {
      "application/vnd.jupyter.widget-view+json": {
       "model_id": "4eabafa754bb47b38aa3efcb5ad088db",
       "version_major": 2,
       "version_minor": 0
      },
      "text/plain": [
       "Finding best initial lr:   0%|          | 0/100 [00:00<?, ?it/s]"
      ]
     },
     "metadata": {},
     "output_type": "display_data"
    },
    {
     "data": {
      "text/html": [
       "<pre style=\"white-space:pre;overflow-x:auto;line-height:normal;font-family:Menlo,'DejaVu Sans Mono',consolas,'Courier New',monospace\"><span style=\"color: #008080; text-decoration-color: #008080; font-weight: bold\">2025</span>-<span style=\"color: #008080; text-decoration-color: #008080; font-weight: bold\">02</span>-<span style=\"color: #008080; text-decoration-color: #008080; font-weight: bold\">27</span> <span style=\"color: #00ff00; text-decoration-color: #00ff00; font-weight: bold\">14:56:49</span>,<span style=\"color: #008080; text-decoration-color: #008080; font-weight: bold\">905</span> - <span style=\"font-weight: bold\">{</span>pytorch_tabular.tabular_model_tuner:<span style=\"color: #008080; text-decoration-color: #008080; font-weight: bold\">412</span><span style=\"font-weight: bold\">}</span> - INFO - Trial <span style=\"color: #008080; text-decoration-color: #008080; font-weight: bold\">14</span>/<span style=\"color: #008080; text-decoration-color: #008080; font-weight: bold\">16</span>: <span style=\"font-weight: bold\">{</span><span style=\"color: #008000; text-decoration-color: #008000\">'model'</span>:                \n",
       "<span style=\"color: #008000; text-decoration-color: #008000\">'0-CategoryEmbeddingModelConfig'</span>, <span style=\"color: #008000; text-decoration-color: #008000\">'model_config__activation'</span>: <span style=\"color: #008000; text-decoration-color: #008000\">'LeakyReLU'</span>, <span style=\"color: #008000; text-decoration-color: #008000\">'model_config__layers'</span>: <span style=\"color: #008000; text-decoration-color: #008000\">'32-64-128'</span>,    \n",
       "<span style=\"color: #008000; text-decoration-color: #008000\">'optimizer_config__optimizer'</span>: <span style=\"color: #008000; text-decoration-color: #008000\">'SGD'</span>, <span style=\"color: #008000; text-decoration-color: #008000\">'loss_0'</span>: <span style=\"color: #008080; text-decoration-color: #008080; font-weight: bold\">1.610702633857727</span>, <span style=\"color: #008000; text-decoration-color: #008000\">'loss'</span>: <span style=\"color: #008080; text-decoration-color: #008080; font-weight: bold\">1.610702633857727</span>, <span style=\"color: #008000; text-decoration-color: #008000\">'accuracy'</span>:          \n",
       "<span style=\"color: #008080; text-decoration-color: #008080; font-weight: bold\">0.20000000298023224</span>, <span style=\"color: #008000; text-decoration-color: #008000\">'trial_id'</span>: <span style=\"color: #008080; text-decoration-color: #008080; font-weight: bold\">13</span><span style=\"font-weight: bold\">}</span> | Score: <span style=\"color: #008080; text-decoration-color: #008080; font-weight: bold\">0.20000000298023224</span>                                                  \n",
       "</pre>\n"
      ],
      "text/plain": [
       "\u001b[1;36m2025\u001b[0m-\u001b[1;36m02\u001b[0m-\u001b[1;36m27\u001b[0m \u001b[1;92m14:56:49\u001b[0m,\u001b[1;36m905\u001b[0m - \u001b[1m{\u001b[0mpytorch_tabular.tabular_model_tuner:\u001b[1;36m412\u001b[0m\u001b[1m}\u001b[0m - INFO - Trial \u001b[1;36m14\u001b[0m/\u001b[1;36m16\u001b[0m: \u001b[1m{\u001b[0m\u001b[32m'model'\u001b[0m:                \n",
       "\u001b[32m'0-CategoryEmbeddingModelConfig'\u001b[0m, \u001b[32m'model_config__activation'\u001b[0m: \u001b[32m'LeakyReLU'\u001b[0m, \u001b[32m'model_config__layers'\u001b[0m: \u001b[32m'32-64-128'\u001b[0m,    \n",
       "\u001b[32m'optimizer_config__optimizer'\u001b[0m: \u001b[32m'SGD'\u001b[0m, \u001b[32m'loss_0'\u001b[0m: \u001b[1;36m1.610702633857727\u001b[0m, \u001b[32m'loss'\u001b[0m: \u001b[1;36m1.610702633857727\u001b[0m, \u001b[32m'accuracy'\u001b[0m:          \n",
       "\u001b[1;36m0.20000000298023224\u001b[0m, \u001b[32m'trial_id'\u001b[0m: \u001b[1;36m13\u001b[0m\u001b[1m}\u001b[0m | Score: \u001b[1;36m0.20000000298023224\u001b[0m                                                  \n"
      ]
     },
     "metadata": {},
     "output_type": "display_data"
    },
    {
     "data": {
      "application/vnd.jupyter.widget-view+json": {
       "model_id": "4e7cf12aa38f410aa83dd78fc9f2ad30",
       "version_major": 2,
       "version_minor": 0
      },
      "text/plain": [
       "Finding best initial lr:   0%|          | 0/100 [00:00<?, ?it/s]"
      ]
     },
     "metadata": {},
     "output_type": "display_data"
    },
    {
     "data": {
      "text/html": [
       "<pre style=\"white-space:pre;overflow-x:auto;line-height:normal;font-family:Menlo,'DejaVu Sans Mono',consolas,'Courier New',monospace\"><span style=\"color: #008080; text-decoration-color: #008080; font-weight: bold\">2025</span>-<span style=\"color: #008080; text-decoration-color: #008080; font-weight: bold\">02</span>-<span style=\"color: #008080; text-decoration-color: #008080; font-weight: bold\">27</span> <span style=\"color: #00ff00; text-decoration-color: #00ff00; font-weight: bold\">14:57:09</span>,<span style=\"color: #008080; text-decoration-color: #008080; font-weight: bold\">807</span> - <span style=\"font-weight: bold\">{</span>pytorch_tabular.tabular_model_tuner:<span style=\"color: #008080; text-decoration-color: #008080; font-weight: bold\">412</span><span style=\"font-weight: bold\">}</span> - INFO - Trial <span style=\"color: #008080; text-decoration-color: #008080; font-weight: bold\">15</span>/<span style=\"color: #008080; text-decoration-color: #008080; font-weight: bold\">16</span>: <span style=\"font-weight: bold\">{</span><span style=\"color: #008000; text-decoration-color: #008000\">'model'</span>:                \n",
       "<span style=\"color: #008000; text-decoration-color: #008000\">'0-CategoryEmbeddingModelConfig'</span>, <span style=\"color: #008000; text-decoration-color: #008000\">'model_config__activation'</span>: <span style=\"color: #008000; text-decoration-color: #008000\">'LeakyReLU'</span>, <span style=\"color: #008000; text-decoration-color: #008000\">'model_config__layers'</span>: <span style=\"color: #008000; text-decoration-color: #008000\">'256-512-1024'</span>, \n",
       "<span style=\"color: #008000; text-decoration-color: #008000\">'optimizer_config__optimizer'</span>: <span style=\"color: #008000; text-decoration-color: #008000\">'Adam'</span>, <span style=\"color: #008000; text-decoration-color: #008000\">'loss_0'</span>: <span style=\"color: #008080; text-decoration-color: #008080; font-weight: bold\">2.813063383102417</span>, <span style=\"color: #008000; text-decoration-color: #008000\">'loss'</span>: <span style=\"color: #008080; text-decoration-color: #008080; font-weight: bold\">2.813063383102417</span>, <span style=\"color: #008000; text-decoration-color: #008000\">'accuracy'</span>:         \n",
       "<span style=\"color: #008080; text-decoration-color: #008080; font-weight: bold\">0.5166666507720947</span>, <span style=\"color: #008000; text-decoration-color: #008000\">'trial_id'</span>: <span style=\"color: #008080; text-decoration-color: #008080; font-weight: bold\">14</span><span style=\"font-weight: bold\">}</span> | Score: <span style=\"color: #008080; text-decoration-color: #008080; font-weight: bold\">0.5166666507720947</span>                                                    \n",
       "</pre>\n"
      ],
      "text/plain": [
       "\u001b[1;36m2025\u001b[0m-\u001b[1;36m02\u001b[0m-\u001b[1;36m27\u001b[0m \u001b[1;92m14:57:09\u001b[0m,\u001b[1;36m807\u001b[0m - \u001b[1m{\u001b[0mpytorch_tabular.tabular_model_tuner:\u001b[1;36m412\u001b[0m\u001b[1m}\u001b[0m - INFO - Trial \u001b[1;36m15\u001b[0m/\u001b[1;36m16\u001b[0m: \u001b[1m{\u001b[0m\u001b[32m'model'\u001b[0m:                \n",
       "\u001b[32m'0-CategoryEmbeddingModelConfig'\u001b[0m, \u001b[32m'model_config__activation'\u001b[0m: \u001b[32m'LeakyReLU'\u001b[0m, \u001b[32m'model_config__layers'\u001b[0m: \u001b[32m'256-512-1024'\u001b[0m, \n",
       "\u001b[32m'optimizer_config__optimizer'\u001b[0m: \u001b[32m'Adam'\u001b[0m, \u001b[32m'loss_0'\u001b[0m: \u001b[1;36m2.813063383102417\u001b[0m, \u001b[32m'loss'\u001b[0m: \u001b[1;36m2.813063383102417\u001b[0m, \u001b[32m'accuracy'\u001b[0m:         \n",
       "\u001b[1;36m0.5166666507720947\u001b[0m, \u001b[32m'trial_id'\u001b[0m: \u001b[1;36m14\u001b[0m\u001b[1m}\u001b[0m | Score: \u001b[1;36m0.5166666507720947\u001b[0m                                                    \n"
      ]
     },
     "metadata": {},
     "output_type": "display_data"
    },
    {
     "data": {
      "application/vnd.jupyter.widget-view+json": {
       "model_id": "b0eaa09fc6634a8db775b4aa86cf6771",
       "version_major": 2,
       "version_minor": 0
      },
      "text/plain": [
       "Finding best initial lr:   0%|          | 0/100 [00:00<?, ?it/s]"
      ]
     },
     "metadata": {},
     "output_type": "display_data"
    },
    {
     "data": {
      "text/html": [
       "<pre style=\"white-space:pre;overflow-x:auto;line-height:normal;font-family:Menlo,'DejaVu Sans Mono',consolas,'Courier New',monospace\"><span style=\"color: #008080; text-decoration-color: #008080; font-weight: bold\">2025</span>-<span style=\"color: #008080; text-decoration-color: #008080; font-weight: bold\">02</span>-<span style=\"color: #008080; text-decoration-color: #008080; font-weight: bold\">27</span> <span style=\"color: #00ff00; text-decoration-color: #00ff00; font-weight: bold\">14:57:29</span>,<span style=\"color: #008080; text-decoration-color: #008080; font-weight: bold\">296</span> - <span style=\"font-weight: bold\">{</span>pytorch_tabular.tabular_model_tuner:<span style=\"color: #008080; text-decoration-color: #008080; font-weight: bold\">412</span><span style=\"font-weight: bold\">}</span> - INFO - Trial <span style=\"color: #008080; text-decoration-color: #008080; font-weight: bold\">16</span>/<span style=\"color: #008080; text-decoration-color: #008080; font-weight: bold\">16</span>: <span style=\"font-weight: bold\">{</span><span style=\"color: #008000; text-decoration-color: #008000\">'model'</span>:                \n",
       "<span style=\"color: #008000; text-decoration-color: #008000\">'0-CategoryEmbeddingModelConfig'</span>, <span style=\"color: #008000; text-decoration-color: #008000\">'model_config__activation'</span>: <span style=\"color: #008000; text-decoration-color: #008000\">'LeakyReLU'</span>, <span style=\"color: #008000; text-decoration-color: #008000\">'model_config__layers'</span>: <span style=\"color: #008000; text-decoration-color: #008000\">'256-512-1024'</span>, \n",
       "<span style=\"color: #008000; text-decoration-color: #008000\">'optimizer_config__optimizer'</span>: <span style=\"color: #008000; text-decoration-color: #008000\">'SGD'</span>, <span style=\"color: #008000; text-decoration-color: #008000\">'loss_0'</span>: <span style=\"color: #008080; text-decoration-color: #008080; font-weight: bold\">1.6094361543655396</span>, <span style=\"color: #008000; text-decoration-color: #008000\">'loss'</span>: <span style=\"color: #008080; text-decoration-color: #008080; font-weight: bold\">1.6094361543655396</span>, <span style=\"color: #008000; text-decoration-color: #008000\">'accuracy'</span>:        \n",
       "<span style=\"color: #008080; text-decoration-color: #008080; font-weight: bold\">0.21666666865348816</span>, <span style=\"color: #008000; text-decoration-color: #008000\">'trial_id'</span>: <span style=\"color: #008080; text-decoration-color: #008080; font-weight: bold\">15</span><span style=\"font-weight: bold\">}</span> | Score: <span style=\"color: #008080; text-decoration-color: #008080; font-weight: bold\">0.21666666865348816</span>                                                  \n",
       "</pre>\n"
      ],
      "text/plain": [
       "\u001b[1;36m2025\u001b[0m-\u001b[1;36m02\u001b[0m-\u001b[1;36m27\u001b[0m \u001b[1;92m14:57:29\u001b[0m,\u001b[1;36m296\u001b[0m - \u001b[1m{\u001b[0mpytorch_tabular.tabular_model_tuner:\u001b[1;36m412\u001b[0m\u001b[1m}\u001b[0m - INFO - Trial \u001b[1;36m16\u001b[0m/\u001b[1;36m16\u001b[0m: \u001b[1m{\u001b[0m\u001b[32m'model'\u001b[0m:                \n",
       "\u001b[32m'0-CategoryEmbeddingModelConfig'\u001b[0m, \u001b[32m'model_config__activation'\u001b[0m: \u001b[32m'LeakyReLU'\u001b[0m, \u001b[32m'model_config__layers'\u001b[0m: \u001b[32m'256-512-1024'\u001b[0m, \n",
       "\u001b[32m'optimizer_config__optimizer'\u001b[0m: \u001b[32m'SGD'\u001b[0m, \u001b[32m'loss_0'\u001b[0m: \u001b[1;36m1.6094361543655396\u001b[0m, \u001b[32m'loss'\u001b[0m: \u001b[1;36m1.6094361543655396\u001b[0m, \u001b[32m'accuracy'\u001b[0m:        \n",
       "\u001b[1;36m0.21666666865348816\u001b[0m, \u001b[32m'trial_id'\u001b[0m: \u001b[1;36m15\u001b[0m\u001b[1m}\u001b[0m | Score: \u001b[1;36m0.21666666865348816\u001b[0m                                                  \n"
      ]
     },
     "metadata": {},
     "output_type": "display_data"
    },
    {
     "data": {
      "text/html": [
       "<pre style=\"white-space:pre;overflow-x:auto;line-height:normal;font-family:Menlo,'DejaVu Sans Mono',consolas,'Courier New',monospace\"></pre>\n"
      ],
      "text/plain": []
     },
     "metadata": {},
     "output_type": "display_data"
    },
    {
     "data": {
      "text/html": [
       "<pre style=\"white-space:pre;overflow-x:auto;line-height:normal;font-family:Menlo,'DejaVu Sans Mono',consolas,'Courier New',monospace\"><span style=\"color: #008080; text-decoration-color: #008080; font-weight: bold\">2025</span>-<span style=\"color: #008080; text-decoration-color: #008080; font-weight: bold\">02</span>-<span style=\"color: #008080; text-decoration-color: #008080; font-weight: bold\">27</span> <span style=\"color: #00ff00; text-decoration-color: #00ff00; font-weight: bold\">14:57:29</span>,<span style=\"color: #008080; text-decoration-color: #008080; font-weight: bold\">303</span> - <span style=\"font-weight: bold\">{</span>pytorch_tabular.tabular_model_tuner:<span style=\"color: #008080; text-decoration-color: #008080; font-weight: bold\">427</span><span style=\"font-weight: bold\">}</span> - INFO - Model Tuner Finished                  \n",
       "</pre>\n"
      ],
      "text/plain": [
       "\u001b[1;36m2025\u001b[0m-\u001b[1;36m02\u001b[0m-\u001b[1;36m27\u001b[0m \u001b[1;92m14:57:29\u001b[0m,\u001b[1;36m303\u001b[0m - \u001b[1m{\u001b[0mpytorch_tabular.tabular_model_tuner:\u001b[1;36m427\u001b[0m\u001b[1m}\u001b[0m - INFO - Model Tuner Finished                  \n"
      ]
     },
     "metadata": {},
     "output_type": "display_data"
    },
    {
     "data": {
      "text/html": [
       "<pre style=\"white-space:pre;overflow-x:auto;line-height:normal;font-family:Menlo,'DejaVu Sans Mono',consolas,'Courier New',monospace\"><span style=\"color: #008080; text-decoration-color: #008080; font-weight: bold\">2025</span>-<span style=\"color: #008080; text-decoration-color: #008080; font-weight: bold\">02</span>-<span style=\"color: #008080; text-decoration-color: #008080; font-weight: bold\">27</span> <span style=\"color: #00ff00; text-decoration-color: #00ff00; font-weight: bold\">14:57:29</span>,<span style=\"color: #008080; text-decoration-color: #008080; font-weight: bold\">304</span> - <span style=\"font-weight: bold\">{</span>pytorch_tabular.tabular_model_tuner:<span style=\"color: #008080; text-decoration-color: #008080; font-weight: bold\">428</span><span style=\"font-weight: bold\">}</span> - INFO - Best Model:                           \n",
       "<span style=\"color: #008080; text-decoration-color: #008080; font-weight: bold\">0</span>-CategoryEmbeddingModelConfig - Best Score <span style=\"font-weight: bold\">(</span>accuracy<span style=\"font-weight: bold\">)</span>: <span style=\"color: #008080; text-decoration-color: #008080; font-weight: bold\">0.6000000238418579</span>                                         \n",
       "</pre>\n"
      ],
      "text/plain": [
       "\u001b[1;36m2025\u001b[0m-\u001b[1;36m02\u001b[0m-\u001b[1;36m27\u001b[0m \u001b[1;92m14:57:29\u001b[0m,\u001b[1;36m304\u001b[0m - \u001b[1m{\u001b[0mpytorch_tabular.tabular_model_tuner:\u001b[1;36m428\u001b[0m\u001b[1m}\u001b[0m - INFO - Best Model:                           \n",
       "\u001b[1;36m0\u001b[0m-CategoryEmbeddingModelConfig - Best Score \u001b[1m(\u001b[0maccuracy\u001b[1m)\u001b[0m: \u001b[1;36m0.6000000238418579\u001b[0m                                         \n"
      ]
     },
     "metadata": {},
     "output_type": "display_data"
    },
    {
     "name": "stdout",
     "output_type": "stream",
     "text": [
      "Total time: 322.15960001945496\n"
     ]
    }
   ],
   "source": [
    "tuner = TabularModelTuner(\n",
    "    data_config=data_config,\n",
    "    model_config=all_models,\n",
    "    optimizer_config=optimizer_config,\n",
    "    trainer_config=trainer_config\n",
    ")\n",
    "\n",
    "tic = time.time()\n",
    "tuner_df = tuner.tune(\n",
    "    train=train,\n",
    "    validation=valid,\n",
    "    search_space=all_search_space,\n",
    "    strategy='grid_search',  # grid_search (seach in all search_spaces) or random_search (search in n_trials random search_spaces)\n",
    "    n_trials=4,  # Used when strategy is random_search\n",
    "    metric='accuracy' if model_type == 'classifier' else 'loss',\n",
    "    mode='max' if model_type == 'classifier' else 'min',  # max or min\n",
    "    progress_bar=True,\n",
    "    verbose=True # Make True if you want to log metrics and params each iteration\n",
    ")\n",
    "print(f'Total time: {time.time() - tic}')"
   ]
  },
  {
   "cell_type": "markdown",
   "id": "3c3e5a74-c03d-471f-86de-38d22d5d2fef",
   "metadata": {},
   "source": [
    "O Tuner retorna uma única variável contendo [tabela deresultados, parâmetros do melhor modelo, valor da melhor métrica, melhor modelo]."
   ]
  },
  {
   "cell_type": "code",
   "execution_count": 23,
   "id": "6fbe9813-dced-4b62-807e-17ec4bde19c1",
   "metadata": {
    "scrolled": true
   },
   "outputs": [
    {
     "data": {
      "text/html": [
       "<style type=\"text/css\">\n",
       "#T_b8e8b_row0_col6 {\n",
       "  background-color: #bfe47a;\n",
       "  color: #000000;\n",
       "}\n",
       "#T_b8e8b_row0_col7, #T_b8e8b_row6_col6 {\n",
       "  background-color: #006837;\n",
       "  color: #f1f1f1;\n",
       "}\n",
       "#T_b8e8b_row1_col6 {\n",
       "  background-color: #69be63;\n",
       "  color: #f1f1f1;\n",
       "}\n",
       "#T_b8e8b_row1_col7 {\n",
       "  background-color: #0a7b41;\n",
       "  color: #f1f1f1;\n",
       "}\n",
       "#T_b8e8b_row2_col6 {\n",
       "  background-color: #ddf191;\n",
       "  color: #000000;\n",
       "}\n",
       "#T_b8e8b_row2_col7 {\n",
       "  background-color: #15904c;\n",
       "  color: #f1f1f1;\n",
       "}\n",
       "#T_b8e8b_row3_col6 {\n",
       "  background-color: #fba05b;\n",
       "  color: #000000;\n",
       "}\n",
       "#T_b8e8b_row3_col7, #T_b8e8b_row4_col7, #T_b8e8b_row12_col6 {\n",
       "  background-color: #4bb05c;\n",
       "  color: #f1f1f1;\n",
       "}\n",
       "#T_b8e8b_row4_col6 {\n",
       "  background-color: #afdd70;\n",
       "  color: #000000;\n",
       "}\n",
       "#T_b8e8b_row5_col6 {\n",
       "  background-color: #8ecf67;\n",
       "  color: #000000;\n",
       "}\n",
       "#T_b8e8b_row5_col7, #T_b8e8b_row6_col7, #T_b8e8b_row7_col7, #T_b8e8b_row8_col7 {\n",
       "  background-color: #6bbf64;\n",
       "  color: #000000;\n",
       "}\n",
       "#T_b8e8b_row7_col6 {\n",
       "  background-color: #249d53;\n",
       "  color: #f1f1f1;\n",
       "}\n",
       "#T_b8e8b_row8_col6, #T_b8e8b_row15_col7 {\n",
       "  background-color: #a50026;\n",
       "  color: #f1f1f1;\n",
       "}\n",
       "#T_b8e8b_row9_col6 {\n",
       "  background-color: #b30d26;\n",
       "  color: #f1f1f1;\n",
       "}\n",
       "#T_b8e8b_row9_col7 {\n",
       "  background-color: #87cb67;\n",
       "  color: #000000;\n",
       "}\n",
       "#T_b8e8b_row10_col6 {\n",
       "  background-color: #d3ec87;\n",
       "  color: #000000;\n",
       "}\n",
       "#T_b8e8b_row10_col7 {\n",
       "  background-color: #a0d669;\n",
       "  color: #000000;\n",
       "}\n",
       "#T_b8e8b_row11_col6 {\n",
       "  background-color: #57b65f;\n",
       "  color: #f1f1f1;\n",
       "}\n",
       "#T_b8e8b_row11_col7 {\n",
       "  background-color: #fed27f;\n",
       "  color: #000000;\n",
       "}\n",
       "#T_b8e8b_row12_col7 {\n",
       "  background-color: #ea5739;\n",
       "  color: #f1f1f1;\n",
       "}\n",
       "#T_b8e8b_row13_col6 {\n",
       "  background-color: #60ba62;\n",
       "  color: #f1f1f1;\n",
       "}\n",
       "#T_b8e8b_row13_col7 {\n",
       "  background-color: #dd3d2d;\n",
       "  color: #f1f1f1;\n",
       "}\n",
       "#T_b8e8b_row14_col6, #T_b8e8b_row15_col6 {\n",
       "  background-color: #5db961;\n",
       "  color: #f1f1f1;\n",
       "}\n",
       "#T_b8e8b_row14_col7 {\n",
       "  background-color: #b91326;\n",
       "  color: #f1f1f1;\n",
       "}\n",
       "</style>\n",
       "<table id=\"T_b8e8b\">\n",
       "  <thead>\n",
       "    <tr>\n",
       "      <th class=\"blank level0\" >&nbsp;</th>\n",
       "      <th id=\"T_b8e8b_level0_col0\" class=\"col_heading level0 col0\" >trial_id</th>\n",
       "      <th id=\"T_b8e8b_level0_col1\" class=\"col_heading level0 col1\" >model</th>\n",
       "      <th id=\"T_b8e8b_level0_col2\" class=\"col_heading level0 col2\" >model_config__activation</th>\n",
       "      <th id=\"T_b8e8b_level0_col3\" class=\"col_heading level0 col3\" >model_config__layers</th>\n",
       "      <th id=\"T_b8e8b_level0_col4\" class=\"col_heading level0 col4\" >optimizer_config__optimizer</th>\n",
       "      <th id=\"T_b8e8b_level0_col5\" class=\"col_heading level0 col5\" >loss_0</th>\n",
       "      <th id=\"T_b8e8b_level0_col6\" class=\"col_heading level0 col6\" >loss</th>\n",
       "      <th id=\"T_b8e8b_level0_col7\" class=\"col_heading level0 col7\" >accuracy</th>\n",
       "    </tr>\n",
       "  </thead>\n",
       "  <tbody>\n",
       "    <tr>\n",
       "      <th id=\"T_b8e8b_level0_row0\" class=\"row_heading level0 row0\" >0</th>\n",
       "      <td id=\"T_b8e8b_row0_col0\" class=\"data row0 col0\" >0</td>\n",
       "      <td id=\"T_b8e8b_row0_col1\" class=\"data row0 col1\" >0-CategoryEmbeddingModelConfig</td>\n",
       "      <td id=\"T_b8e8b_row0_col2\" class=\"data row0 col2\" >ReLU</td>\n",
       "      <td id=\"T_b8e8b_row0_col3\" class=\"data row0 col3\" >128-64-32</td>\n",
       "      <td id=\"T_b8e8b_row0_col4\" class=\"data row0 col4\" >Adam</td>\n",
       "      <td id=\"T_b8e8b_row0_col5\" class=\"data row0 col5\" >1.851137</td>\n",
       "      <td id=\"T_b8e8b_row0_col6\" class=\"data row0 col6\" >1.851137</td>\n",
       "      <td id=\"T_b8e8b_row0_col7\" class=\"data row0 col7\" >0.600000</td>\n",
       "    </tr>\n",
       "    <tr>\n",
       "      <th id=\"T_b8e8b_level0_row1\" class=\"row_heading level0 row1\" >12</th>\n",
       "      <td id=\"T_b8e8b_row1_col0\" class=\"data row1 col0\" >12</td>\n",
       "      <td id=\"T_b8e8b_row1_col1\" class=\"data row1 col1\" >0-CategoryEmbeddingModelConfig</td>\n",
       "      <td id=\"T_b8e8b_row1_col2\" class=\"data row1 col2\" >LeakyReLU</td>\n",
       "      <td id=\"T_b8e8b_row1_col3\" class=\"data row1 col3\" >32-64-128</td>\n",
       "      <td id=\"T_b8e8b_row1_col4\" class=\"data row1 col4\" >Adam</td>\n",
       "      <td id=\"T_b8e8b_row1_col5\" class=\"data row1 col5\" >1.637125</td>\n",
       "      <td id=\"T_b8e8b_row1_col6\" class=\"data row1 col6\" >1.637125</td>\n",
       "      <td id=\"T_b8e8b_row1_col7\" class=\"data row1 col7\" >0.583333</td>\n",
       "    </tr>\n",
       "    <tr>\n",
       "      <th id=\"T_b8e8b_level0_row2\" class=\"row_heading level0 row2\" >8</th>\n",
       "      <td id=\"T_b8e8b_row2_col0\" class=\"data row2 col0\" >8</td>\n",
       "      <td id=\"T_b8e8b_row2_col1\" class=\"data row2 col1\" >0-CategoryEmbeddingModelConfig</td>\n",
       "      <td id=\"T_b8e8b_row2_col2\" class=\"data row2 col2\" >LeakyReLU</td>\n",
       "      <td id=\"T_b8e8b_row2_col3\" class=\"data row2 col3\" >128-64-32</td>\n",
       "      <td id=\"T_b8e8b_row2_col4\" class=\"data row2 col4\" >Adam</td>\n",
       "      <td id=\"T_b8e8b_row2_col5\" class=\"data row2 col5\" >1.943515</td>\n",
       "      <td id=\"T_b8e8b_row2_col6\" class=\"data row2 col6\" >1.943515</td>\n",
       "      <td id=\"T_b8e8b_row2_col7\" class=\"data row2 col7\" >0.566667</td>\n",
       "    </tr>\n",
       "    <tr>\n",
       "      <th id=\"T_b8e8b_level0_row3\" class=\"row_heading level0 row3\" >6</th>\n",
       "      <td id=\"T_b8e8b_row3_col0\" class=\"data row3 col0\" >6</td>\n",
       "      <td id=\"T_b8e8b_row3_col1\" class=\"data row3 col1\" >0-CategoryEmbeddingModelConfig</td>\n",
       "      <td id=\"T_b8e8b_row3_col2\" class=\"data row3 col2\" >ReLU</td>\n",
       "      <td id=\"T_b8e8b_row3_col3\" class=\"data row3 col3\" >256-512-1024</td>\n",
       "      <td id=\"T_b8e8b_row3_col4\" class=\"data row3 col4\" >Adam</td>\n",
       "      <td id=\"T_b8e8b_row3_col5\" class=\"data row3 col5\" >2.399098</td>\n",
       "      <td id=\"T_b8e8b_row3_col6\" class=\"data row3 col6\" >2.399098</td>\n",
       "      <td id=\"T_b8e8b_row3_col7\" class=\"data row3 col7\" >0.533333</td>\n",
       "    </tr>\n",
       "    <tr>\n",
       "      <th id=\"T_b8e8b_level0_row4\" class=\"row_heading level0 row4\" >7</th>\n",
       "      <td id=\"T_b8e8b_row4_col0\" class=\"data row4 col0\" >7</td>\n",
       "      <td id=\"T_b8e8b_row4_col1\" class=\"data row4 col1\" >0-CategoryEmbeddingModelConfig</td>\n",
       "      <td id=\"T_b8e8b_row4_col2\" class=\"data row4 col2\" >ReLU</td>\n",
       "      <td id=\"T_b8e8b_row4_col3\" class=\"data row4 col3\" >256-512-1024</td>\n",
       "      <td id=\"T_b8e8b_row4_col4\" class=\"data row4 col4\" >SGD</td>\n",
       "      <td id=\"T_b8e8b_row4_col5\" class=\"data row4 col5\" >1.805615</td>\n",
       "      <td id=\"T_b8e8b_row4_col6\" class=\"data row4 col6\" >1.805615</td>\n",
       "      <td id=\"T_b8e8b_row4_col7\" class=\"data row4 col7\" >0.533333</td>\n",
       "    </tr>\n",
       "    <tr>\n",
       "      <th id=\"T_b8e8b_level0_row5\" class=\"row_heading level0 row5\" >4</th>\n",
       "      <td id=\"T_b8e8b_row5_col0\" class=\"data row5 col0\" >4</td>\n",
       "      <td id=\"T_b8e8b_row5_col1\" class=\"data row5 col1\" >0-CategoryEmbeddingModelConfig</td>\n",
       "      <td id=\"T_b8e8b_row5_col2\" class=\"data row5 col2\" >ReLU</td>\n",
       "      <td id=\"T_b8e8b_row5_col3\" class=\"data row5 col3\" >32-64-128</td>\n",
       "      <td id=\"T_b8e8b_row5_col4\" class=\"data row5 col4\" >Adam</td>\n",
       "      <td id=\"T_b8e8b_row5_col5\" class=\"data row5 col5\" >1.722411</td>\n",
       "      <td id=\"T_b8e8b_row5_col6\" class=\"data row5 col6\" >1.722411</td>\n",
       "      <td id=\"T_b8e8b_row5_col7\" class=\"data row5 col7\" >0.516667</td>\n",
       "    </tr>\n",
       "    <tr>\n",
       "      <th id=\"T_b8e8b_level0_row6\" class=\"row_heading level0 row6\" >5</th>\n",
       "      <td id=\"T_b8e8b_row6_col0\" class=\"data row6 col0\" >5</td>\n",
       "      <td id=\"T_b8e8b_row6_col1\" class=\"data row6 col1\" >0-CategoryEmbeddingModelConfig</td>\n",
       "      <td id=\"T_b8e8b_row6_col2\" class=\"data row6 col2\" >ReLU</td>\n",
       "      <td id=\"T_b8e8b_row6_col3\" class=\"data row6 col3\" >32-64-128</td>\n",
       "      <td id=\"T_b8e8b_row6_col4\" class=\"data row6 col4\" >SGD</td>\n",
       "      <td id=\"T_b8e8b_row6_col5\" class=\"data row6 col5\" >1.331057</td>\n",
       "      <td id=\"T_b8e8b_row6_col6\" class=\"data row6 col6\" >1.331057</td>\n",
       "      <td id=\"T_b8e8b_row6_col7\" class=\"data row6 col7\" >0.516667</td>\n",
       "    </tr>\n",
       "    <tr>\n",
       "      <th id=\"T_b8e8b_level0_row7\" class=\"row_heading level0 row7\" >9</th>\n",
       "      <td id=\"T_b8e8b_row7_col0\" class=\"data row7 col0\" >9</td>\n",
       "      <td id=\"T_b8e8b_row7_col1\" class=\"data row7 col1\" >0-CategoryEmbeddingModelConfig</td>\n",
       "      <td id=\"T_b8e8b_row7_col2\" class=\"data row7 col2\" >LeakyReLU</td>\n",
       "      <td id=\"T_b8e8b_row7_col3\" class=\"data row7 col3\" >128-64-32</td>\n",
       "      <td id=\"T_b8e8b_row7_col4\" class=\"data row7 col4\" >SGD</td>\n",
       "      <td id=\"T_b8e8b_row7_col5\" class=\"data row7 col5\" >1.504617</td>\n",
       "      <td id=\"T_b8e8b_row7_col6\" class=\"data row7 col6\" >1.504617</td>\n",
       "      <td id=\"T_b8e8b_row7_col7\" class=\"data row7 col7\" >0.516667</td>\n",
       "    </tr>\n",
       "    <tr>\n",
       "      <th id=\"T_b8e8b_level0_row8\" class=\"row_heading level0 row8\" >14</th>\n",
       "      <td id=\"T_b8e8b_row8_col0\" class=\"data row8 col0\" >14</td>\n",
       "      <td id=\"T_b8e8b_row8_col1\" class=\"data row8 col1\" >0-CategoryEmbeddingModelConfig</td>\n",
       "      <td id=\"T_b8e8b_row8_col2\" class=\"data row8 col2\" >LeakyReLU</td>\n",
       "      <td id=\"T_b8e8b_row8_col3\" class=\"data row8 col3\" >256-512-1024</td>\n",
       "      <td id=\"T_b8e8b_row8_col4\" class=\"data row8 col4\" >Adam</td>\n",
       "      <td id=\"T_b8e8b_row8_col5\" class=\"data row8 col5\" >2.813063</td>\n",
       "      <td id=\"T_b8e8b_row8_col6\" class=\"data row8 col6\" >2.813063</td>\n",
       "      <td id=\"T_b8e8b_row8_col7\" class=\"data row8 col7\" >0.516667</td>\n",
       "    </tr>\n",
       "    <tr>\n",
       "      <th id=\"T_b8e8b_level0_row9\" class=\"row_heading level0 row9\" >10</th>\n",
       "      <td id=\"T_b8e8b_row9_col0\" class=\"data row9 col0\" >10</td>\n",
       "      <td id=\"T_b8e8b_row9_col1\" class=\"data row9 col1\" >0-CategoryEmbeddingModelConfig</td>\n",
       "      <td id=\"T_b8e8b_row9_col2\" class=\"data row9 col2\" >LeakyReLU</td>\n",
       "      <td id=\"T_b8e8b_row9_col3\" class=\"data row9 col3\" >1024-512-256</td>\n",
       "      <td id=\"T_b8e8b_row9_col4\" class=\"data row9 col4\" >Adam</td>\n",
       "      <td id=\"T_b8e8b_row9_col5\" class=\"data row9 col5\" >2.769371</td>\n",
       "      <td id=\"T_b8e8b_row9_col6\" class=\"data row9 col6\" >2.769371</td>\n",
       "      <td id=\"T_b8e8b_row9_col7\" class=\"data row9 col7\" >0.500000</td>\n",
       "    </tr>\n",
       "    <tr>\n",
       "      <th id=\"T_b8e8b_level0_row10\" class=\"row_heading level0 row10\" >2</th>\n",
       "      <td id=\"T_b8e8b_row10_col0\" class=\"data row10 col0\" >2</td>\n",
       "      <td id=\"T_b8e8b_row10_col1\" class=\"data row10 col1\" >0-CategoryEmbeddingModelConfig</td>\n",
       "      <td id=\"T_b8e8b_row10_col2\" class=\"data row10 col2\" >ReLU</td>\n",
       "      <td id=\"T_b8e8b_row10_col3\" class=\"data row10 col3\" >1024-512-256</td>\n",
       "      <td id=\"T_b8e8b_row10_col4\" class=\"data row10 col4\" >Adam</td>\n",
       "      <td id=\"T_b8e8b_row10_col5\" class=\"data row10 col5\" >1.908213</td>\n",
       "      <td id=\"T_b8e8b_row10_col6\" class=\"data row10 col6\" >1.908213</td>\n",
       "      <td id=\"T_b8e8b_row10_col7\" class=\"data row10 col7\" >0.483333</td>\n",
       "    </tr>\n",
       "    <tr>\n",
       "      <th id=\"T_b8e8b_level0_row11\" class=\"row_heading level0 row11\" >3</th>\n",
       "      <td id=\"T_b8e8b_row11_col0\" class=\"data row11 col0\" >3</td>\n",
       "      <td id=\"T_b8e8b_row11_col1\" class=\"data row11 col1\" >0-CategoryEmbeddingModelConfig</td>\n",
       "      <td id=\"T_b8e8b_row11_col2\" class=\"data row11 col2\" >ReLU</td>\n",
       "      <td id=\"T_b8e8b_row11_col3\" class=\"data row11 col3\" >1024-512-256</td>\n",
       "      <td id=\"T_b8e8b_row11_col4\" class=\"data row11 col4\" >SGD</td>\n",
       "      <td id=\"T_b8e8b_row11_col5\" class=\"data row11 col5\" >1.600416</td>\n",
       "      <td id=\"T_b8e8b_row11_col6\" class=\"data row11 col6\" >1.600416</td>\n",
       "      <td id=\"T_b8e8b_row11_col7\" class=\"data row11 col7\" >0.350000</td>\n",
       "    </tr>\n",
       "    <tr>\n",
       "      <th id=\"T_b8e8b_level0_row12\" class=\"row_heading level0 row12\" >1</th>\n",
       "      <td id=\"T_b8e8b_row12_col0\" class=\"data row12 col0\" >1</td>\n",
       "      <td id=\"T_b8e8b_row12_col1\" class=\"data row12 col1\" >0-CategoryEmbeddingModelConfig</td>\n",
       "      <td id=\"T_b8e8b_row12_col2\" class=\"data row12 col2\" >ReLU</td>\n",
       "      <td id=\"T_b8e8b_row12_col3\" class=\"data row12 col3\" >128-64-32</td>\n",
       "      <td id=\"T_b8e8b_row12_col4\" class=\"data row12 col4\" >SGD</td>\n",
       "      <td id=\"T_b8e8b_row12_col5\" class=\"data row12 col5\" >1.576701</td>\n",
       "      <td id=\"T_b8e8b_row12_col6\" class=\"data row12 col6\" >1.576701</td>\n",
       "      <td id=\"T_b8e8b_row12_col7\" class=\"data row12 col7\" >0.266667</td>\n",
       "    </tr>\n",
       "    <tr>\n",
       "      <th id=\"T_b8e8b_level0_row13\" class=\"row_heading level0 row13\" >11</th>\n",
       "      <td id=\"T_b8e8b_row13_col0\" class=\"data row13 col0\" >11</td>\n",
       "      <td id=\"T_b8e8b_row13_col1\" class=\"data row13 col1\" >0-CategoryEmbeddingModelConfig</td>\n",
       "      <td id=\"T_b8e8b_row13_col2\" class=\"data row13 col2\" >LeakyReLU</td>\n",
       "      <td id=\"T_b8e8b_row13_col3\" class=\"data row13 col3\" >1024-512-256</td>\n",
       "      <td id=\"T_b8e8b_row13_col4\" class=\"data row13 col4\" >SGD</td>\n",
       "      <td id=\"T_b8e8b_row13_col5\" class=\"data row13 col5\" >1.617988</td>\n",
       "      <td id=\"T_b8e8b_row13_col6\" class=\"data row13 col6\" >1.617988</td>\n",
       "      <td id=\"T_b8e8b_row13_col7\" class=\"data row13 col7\" >0.250000</td>\n",
       "    </tr>\n",
       "    <tr>\n",
       "      <th id=\"T_b8e8b_level0_row14\" class=\"row_heading level0 row14\" >15</th>\n",
       "      <td id=\"T_b8e8b_row14_col0\" class=\"data row14 col0\" >15</td>\n",
       "      <td id=\"T_b8e8b_row14_col1\" class=\"data row14 col1\" >0-CategoryEmbeddingModelConfig</td>\n",
       "      <td id=\"T_b8e8b_row14_col2\" class=\"data row14 col2\" >LeakyReLU</td>\n",
       "      <td id=\"T_b8e8b_row14_col3\" class=\"data row14 col3\" >256-512-1024</td>\n",
       "      <td id=\"T_b8e8b_row14_col4\" class=\"data row14 col4\" >SGD</td>\n",
       "      <td id=\"T_b8e8b_row14_col5\" class=\"data row14 col5\" >1.609436</td>\n",
       "      <td id=\"T_b8e8b_row14_col6\" class=\"data row14 col6\" >1.609436</td>\n",
       "      <td id=\"T_b8e8b_row14_col7\" class=\"data row14 col7\" >0.216667</td>\n",
       "    </tr>\n",
       "    <tr>\n",
       "      <th id=\"T_b8e8b_level0_row15\" class=\"row_heading level0 row15\" >13</th>\n",
       "      <td id=\"T_b8e8b_row15_col0\" class=\"data row15 col0\" >13</td>\n",
       "      <td id=\"T_b8e8b_row15_col1\" class=\"data row15 col1\" >0-CategoryEmbeddingModelConfig</td>\n",
       "      <td id=\"T_b8e8b_row15_col2\" class=\"data row15 col2\" >LeakyReLU</td>\n",
       "      <td id=\"T_b8e8b_row15_col3\" class=\"data row15 col3\" >32-64-128</td>\n",
       "      <td id=\"T_b8e8b_row15_col4\" class=\"data row15 col4\" >SGD</td>\n",
       "      <td id=\"T_b8e8b_row15_col5\" class=\"data row15 col5\" >1.610703</td>\n",
       "      <td id=\"T_b8e8b_row15_col6\" class=\"data row15 col6\" >1.610703</td>\n",
       "      <td id=\"T_b8e8b_row15_col7\" class=\"data row15 col7\" >0.200000</td>\n",
       "    </tr>\n",
       "  </tbody>\n",
       "</table>\n"
      ],
      "text/plain": [
       "<pandas.io.formats.style.Styler at 0x78bfac4d1840>"
      ]
     },
     "execution_count": 23,
     "metadata": {},
     "output_type": "execute_result"
    }
   ],
   "source": [
    "if model_type == 'regressor':\n",
    "    tuner_df.trials_df['test_rmse'] = np.sqrt(tuner_df.trials_df['mean_squared_error'])\n",
    "\n",
    "tuner_df.trials_df.sort_values('accuracy' if model_type == 'classifier' else 'loss', ascending=False if model_type == 'classifier' else True).style.background_gradient(\n",
    "    subset=['accuracy' if model_type == 'classifier' else 'loss'], cmap='RdYlGn'\n",
    ").background_gradient(subset=['loss'], cmap='RdYlGn_r')"
   ]
  },
  {
   "cell_type": "code",
   "execution_count": 24,
   "id": "ce42d06c-2825-41b5-8aef-45592e63b125",
   "metadata": {},
   "outputs": [
    {
     "data": {
      "text/html": [
       "<pre style=\"white-space:pre;overflow-x:auto;line-height:normal;font-family:Menlo,'DejaVu Sans Mono',consolas,'Courier New',monospace\">┏━━━━━━━━━━━━━━━━━━━━━━━━━━━┳━━━━━━━━━━━━━━━━━━━━━━━━━━━┓\n",
       "┃<span style=\"font-weight: bold\">        Test metric        </span>┃<span style=\"font-weight: bold\">       DataLoader 0        </span>┃\n",
       "┡━━━━━━━━━━━━━━━━━━━━━━━━━━━╇━━━━━━━━━━━━━━━━━━━━━━━━━━━┩\n",
       "│<span style=\"color: #008080; text-decoration-color: #008080\">       test_accuracy       </span>│<span style=\"color: #800080; text-decoration-color: #800080\">    0.6000000238418579     </span>│\n",
       "│<span style=\"color: #008080; text-decoration-color: #008080\">         test_loss         </span>│<span style=\"color: #800080; text-decoration-color: #800080\">    1.8511369228363037     </span>│\n",
       "│<span style=\"color: #008080; text-decoration-color: #008080\">        test_loss_0        </span>│<span style=\"color: #800080; text-decoration-color: #800080\">    1.8511369228363037     </span>│\n",
       "└───────────────────────────┴───────────────────────────┘\n",
       "</pre>\n"
      ],
      "text/plain": [
       "┏━━━━━━━━━━━━━━━━━━━━━━━━━━━┳━━━━━━━━━━━━━━━━━━━━━━━━━━━┓\n",
       "┃\u001b[1m \u001b[0m\u001b[1m       Test metric       \u001b[0m\u001b[1m \u001b[0m┃\u001b[1m \u001b[0m\u001b[1m      DataLoader 0       \u001b[0m\u001b[1m \u001b[0m┃\n",
       "┡━━━━━━━━━━━━━━━━━━━━━━━━━━━╇━━━━━━━━━━━━━━━━━━━━━━━━━━━┩\n",
       "│\u001b[36m \u001b[0m\u001b[36m      test_accuracy      \u001b[0m\u001b[36m \u001b[0m│\u001b[35m \u001b[0m\u001b[35m   0.6000000238418579    \u001b[0m\u001b[35m \u001b[0m│\n",
       "│\u001b[36m \u001b[0m\u001b[36m        test_loss        \u001b[0m\u001b[36m \u001b[0m│\u001b[35m \u001b[0m\u001b[35m   1.8511369228363037    \u001b[0m\u001b[35m \u001b[0m│\n",
       "│\u001b[36m \u001b[0m\u001b[36m       test_loss_0       \u001b[0m\u001b[36m \u001b[0m│\u001b[35m \u001b[0m\u001b[35m   1.8511369228363037    \u001b[0m\u001b[35m \u001b[0m│\n",
       "└───────────────────────────┴───────────────────────────┘\n"
      ]
     },
     "metadata": {},
     "output_type": "display_data"
    },
    {
     "data": {
      "text/plain": [
       "[{'test_loss_0': 1.8511369228363037,\n",
       "  'test_loss': 1.8511369228363037,\n",
       "  'test_accuracy': 0.6000000238418579}]"
      ]
     },
     "execution_count": 24,
     "metadata": {},
     "output_type": "execute_result"
    }
   ],
   "source": [
    "tuner_df.best_model.evaluate(test)"
   ]
  },
  {
   "cell_type": "markdown",
   "id": "469ada1e-32bf-45fa-94a1-d8b96976cadd",
   "metadata": {},
   "source": [
    "### Save Model"
   ]
  },
  {
   "cell_type": "code",
   "execution_count": 25,
   "id": "5c6a3a42-831a-499c-afe0-18b4a3796e14",
   "metadata": {},
   "outputs": [],
   "source": [
    "tuner_df.best_model.save_model('results/best_model_tuner_pytorch_tabular', inference_only=True)\n",
    "\n",
    "# Save columns names and informations\n",
    "data_to_save = {\n",
    "    'col_names_order': col_names_order,\n",
    "    'num_col_names': num_col_names,\n",
    "    'cat_col_names': cat_col_names,\n",
    "    'date_col_names': date_col_names,\n",
    "    'target_cols': target_cols,\n",
    "    'category_mappings': category_mappings,\n",
    "    'window_size': window_size\n",
    "}\n",
    "with open('results/columns_metadata_tuner_pytorch_tabular.json', 'w') as json_file:\n",
    "    json.dump(data_to_save, json_file, indent=4)"
   ]
  },
  {
   "cell_type": "markdown",
   "id": "ac33e785-fd8d-49ef-a218-cbb4c230926b",
   "metadata": {},
   "source": [
    "## Predict\n",
    "Precisar estar no formato DataFrame do Pandas com os nomes das colunas que participaram do treinamento para passar para o modelo fazer inferência."
   ]
  },
  {
   "cell_type": "code",
   "execution_count": 26,
   "id": "492b39f6-c227-42b3-9d90-0454b4ff2702",
   "metadata": {},
   "outputs": [],
   "source": [
    "import time\n",
    "import json\n",
    "import pickle\n",
    "\n",
    "import pandas as pd\n",
    "from pytorch_tabular import TabularModel"
   ]
  },
  {
   "cell_type": "code",
   "execution_count": 27,
   "id": "b435d08f-dfaf-4245-b90e-62aeab0170bc",
   "metadata": {},
   "outputs": [
    {
     "data": {
      "text/html": [
       "<pre style=\"white-space:pre;overflow-x:auto;line-height:normal;font-family:Menlo,'DejaVu Sans Mono',consolas,'Courier New',monospace\"><span style=\"color: #008080; text-decoration-color: #008080; font-weight: bold\">2025</span>-<span style=\"color: #008080; text-decoration-color: #008080; font-weight: bold\">02</span>-<span style=\"color: #008080; text-decoration-color: #008080; font-weight: bold\">27</span> <span style=\"color: #00ff00; text-decoration-color: #00ff00; font-weight: bold\">14:57:29</span>,<span style=\"color: #008080; text-decoration-color: #008080; font-weight: bold\">596</span> - <span style=\"font-weight: bold\">{</span>pytorch_tabular.tabular_model:<span style=\"color: #008080; text-decoration-color: #008080; font-weight: bold\">171</span><span style=\"font-weight: bold\">}</span> - INFO - Experiment Tracking is turned off           \n",
       "</pre>\n"
      ],
      "text/plain": [
       "\u001b[1;36m2025\u001b[0m-\u001b[1;36m02\u001b[0m-\u001b[1;36m27\u001b[0m \u001b[1;92m14:57:29\u001b[0m,\u001b[1;36m596\u001b[0m - \u001b[1m{\u001b[0mpytorch_tabular.tabular_model:\u001b[1;36m171\u001b[0m\u001b[1m}\u001b[0m - INFO - Experiment Tracking is turned off           \n"
      ]
     },
     "metadata": {},
     "output_type": "display_data"
    },
    {
     "data": {
      "text/html": [
       "<pre style=\"white-space:pre;overflow-x:auto;line-height:normal;font-family:Menlo,'DejaVu Sans Mono',consolas,'Courier New',monospace\"><span style=\"color: #008080; text-decoration-color: #008080; font-weight: bold\">2025</span>-<span style=\"color: #008080; text-decoration-color: #008080; font-weight: bold\">02</span>-<span style=\"color: #008080; text-decoration-color: #008080; font-weight: bold\">27</span> <span style=\"color: #00ff00; text-decoration-color: #00ff00; font-weight: bold\">14:57:29</span>,<span style=\"color: #008080; text-decoration-color: #008080; font-weight: bold\">598</span> - <span style=\"font-weight: bold\">{</span>pytorch_tabular.tabular_model:<span style=\"color: #008080; text-decoration-color: #008080; font-weight: bold\">342</span><span style=\"font-weight: bold\">}</span> - INFO - Preparing the Trainer                       \n",
       "</pre>\n"
      ],
      "text/plain": [
       "\u001b[1;36m2025\u001b[0m-\u001b[1;36m02\u001b[0m-\u001b[1;36m27\u001b[0m \u001b[1;92m14:57:29\u001b[0m,\u001b[1;36m598\u001b[0m - \u001b[1m{\u001b[0mpytorch_tabular.tabular_model:\u001b[1;36m342\u001b[0m\u001b[1m}\u001b[0m - INFO - Preparing the Trainer                       \n"
      ]
     },
     "metadata": {},
     "output_type": "display_data"
    }
   ],
   "source": [
    "loaded_model = TabularModel.load_model('results/best_model_tuner_pytorch_tabular')\n",
    "\n",
    "# columns_metadata\n",
    "columns_metadata = json.load(open('results/columns_metadata_tuner_pytorch_tabular.json', 'r'))"
   ]
  },
  {
   "cell_type": "code",
   "execution_count": 28,
   "id": "2a175d2a-3751-4f41-b636-7571d0fb0b05",
   "metadata": {},
   "outputs": [],
   "source": [
    "def preprocess_inference_data(new_input, columns_metadata, scaler=None):\n",
    "    \"\"\"\n",
    "    Preprocess the input data for inference based on metadata and scaler for numeric normalization.\n",
    "\n",
    "    Args:\n",
    "        new_input (list of list): Data to preprocess (each inner list is a row).\n",
    "        columns_metadata (dict): Metadata defining column names, types, mappings, and order.\n",
    "        scaler (StandardScaler): Trained scaler for numerical columns.\n",
    "    \n",
    "    Returns:\n",
    "        list: Preprocessed data ready for inference.\n",
    "    \"\"\"\n",
    "    # Exclude target columns from col_names_order for inference\n",
    "    target_cols = columns_metadata['target_cols']\n",
    "    col_names_order = [col for col in columns_metadata['col_names_order'] if col not in target_cols]\n",
    "    # Transform the new_input into a DataFrame with the correct column order\n",
    "    df_input = pd.DataFrame(new_input, columns=col_names_order)\n",
    "\n",
    "    # Convert categorical columns based on category_mappings\n",
    "    category_mappings = columns_metadata['category_mappings']\n",
    "    for col in columns_metadata['cat_col_names']:\n",
    "        if col in df_input.columns and col in category_mappings:\n",
    "            # Replace string categories with mapped integer IDs\n",
    "            df_input[col] = df_input[col].map(category_mappings[col])\n",
    "            if df_input[col].isnull().any():\n",
    "                raise ValueError(f'Invalid value found in column \"{col}\" that is not in the category mappings.')\n",
    "\n",
    "    # Normalize numeric columns using the trained scaler\n",
    "    num_col_names = columns_metadata['num_col_names']\n",
    "    if num_col_names and scaler:\n",
    "        df_input[num_col_names] = scaler.transform(df_input[num_col_names])\n",
    "\n",
    "    # Ensure date columns are in the correct datetime format\n",
    "    for col in columns_metadata['date_col_names']:\n",
    "        if col in df_input.columns:\n",
    "            df_input[col] = pd.to_datetime(df_input[col], errors='coerce')\n",
    "            if df_input[col].isnull().any():\n",
    "                raise ValueError(f'Invalid date value found in column \"{col}\".')\n",
    "\n",
    "    # Drop target columns if they exist in the input (not used in inference)\n",
    "    target_cols = columns_metadata['target_cols']\n",
    "    df_input = df_input.drop(columns=target_cols, errors='ignore')\n",
    "\n",
    "    # Convert DataFrame to list of rows for model inference\n",
    "    #processed_data = df_input.values.tolist()\n",
    "\n",
    "    return df_input"
   ]
  },
  {
   "cell_type": "code",
   "execution_count": 29,
   "id": "66ba333b-12ec-4b67-900d-174386a0fc73",
   "metadata": {
    "scrolled": true
   },
   "outputs": [
    {
     "data": {
      "text/html": [
       "<div>\n",
       "<style scoped>\n",
       "    .dataframe tbody tr th:only-of-type {\n",
       "        vertical-align: middle;\n",
       "    }\n",
       "\n",
       "    .dataframe tbody tr th {\n",
       "        vertical-align: top;\n",
       "    }\n",
       "\n",
       "    .dataframe thead th {\n",
       "        text-align: right;\n",
       "    }\n",
       "</style>\n",
       "<table border=\"1\" class=\"dataframe\">\n",
       "  <thead>\n",
       "    <tr style=\"text-align: right;\">\n",
       "      <th></th>\n",
       "      <th>feature_1</th>\n",
       "      <th>feature_2</th>\n",
       "      <th>feature_3</th>\n",
       "      <th>feature_4</th>\n",
       "      <th>feature_5</th>\n",
       "      <th>feature_6</th>\n",
       "      <th>feature_7</th>\n",
       "      <th>feature_8</th>\n",
       "    </tr>\n",
       "  </thead>\n",
       "  <tbody>\n",
       "    <tr>\n",
       "      <th>0</th>\n",
       "      <td>66.770774</td>\n",
       "      <td>0</td>\n",
       "      <td>129.519443</td>\n",
       "      <td>157.649826</td>\n",
       "      <td>6.255495</td>\n",
       "      <td>0.828523</td>\n",
       "      <td>1.1</td>\n",
       "      <td>0.656228</td>\n",
       "    </tr>\n",
       "  </tbody>\n",
       "</table>\n",
       "</div>"
      ],
      "text/plain": [
       "   feature_1  feature_2   feature_3   feature_4  feature_5  feature_6  \\\n",
       "0  66.770774          0  129.519443  157.649826   6.255495   0.828523   \n",
       "\n",
       "   feature_7  feature_8  \n",
       "0        1.1   0.656228  "
      ]
     },
     "execution_count": 29,
     "metadata": {},
     "output_type": "execute_result"
    }
   ],
   "source": [
    "new_input = [\n",
    "    [66.770774, 'A', 129.519443, 157.649826, 6.255495, 0.828523, 1.10, 0.656228]  # target 2.432088\n",
    "]\n",
    "new_input_preprocessed = preprocess_inference_data(new_input, columns_metadata)\n",
    "new_input_preprocessed"
   ]
  },
  {
   "cell_type": "code",
   "execution_count": 30,
   "id": "c4f33da5-9543-4263-8637-80f491d7a14e",
   "metadata": {},
   "outputs": [
    {
     "name": "stdout",
     "output_type": "stream",
     "text": [
      "   target_0_probability  target_1_probability  target_2_probability  \\\n",
      "0              0.000409              0.011529              0.316717   \n",
      "\n",
      "   target_3_probability  target_4_probability  target_prediction  \n",
      "0              0.426716              0.244629                  3  \n",
      "Total time: 0.11516332626342773\n"
     ]
    }
   ],
   "source": [
    "tic = time.time()\n",
    "print(loaded_model.predict(new_input_preprocessed))\n",
    "print(f'Total time: {time.time() - tic}')"
   ]
  }
 ],
 "metadata": {
  "kernelspec": {
   "display_name": "Python 3 (ipykernel)",
   "language": "python",
   "name": "python3"
  },
  "language_info": {
   "codemirror_mode": {
    "name": "ipython",
    "version": 3
   },
   "file_extension": ".py",
   "mimetype": "text/x-python",
   "name": "python",
   "nbconvert_exporter": "python",
   "pygments_lexer": "ipython3",
   "version": "3.10.13"
  }
 },
 "nbformat": 4,
 "nbformat_minor": 5
}
